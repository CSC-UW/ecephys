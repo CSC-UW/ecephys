{
 "cells": [
  {
   "cell_type": "code",
   "execution_count": 1,
   "metadata": {
    "execution": {
     "iopub.execute_input": "2021-01-04T21:04:48.815836Z",
     "iopub.status.busy": "2021-01-04T21:04:48.815329Z",
     "iopub.status.idle": "2021-01-04T21:04:48.832549Z",
     "shell.execute_reply": "2021-01-04T21:04:48.831966Z",
     "shell.execute_reply.started": "2021-01-04T21:04:48.815691Z"
    }
   },
   "outputs": [],
   "source": [
    "%load_ext autoreload\n",
    "%autoreload 2"
   ]
  },
  {
   "cell_type": "code",
   "execution_count": 2,
   "metadata": {
    "execution": {
     "iopub.execute_input": "2021-01-04T21:04:49.354325Z",
     "iopub.status.busy": "2021-01-04T21:04:49.354160Z",
     "iopub.status.idle": "2021-01-04T21:04:49.656143Z",
     "shell.execute_reply": "2021-01-04T21:04:49.655691Z",
     "shell.execute_reply.started": "2021-01-04T21:04:49.354305Z"
    }
   },
   "outputs": [],
   "source": [
    "%matplotlib widget\n",
    "import matplotlib.pyplot as plt"
   ]
  },
  {
   "cell_type": "code",
   "execution_count": 3,
   "metadata": {
    "execution": {
     "iopub.execute_input": "2021-01-04T21:04:49.746940Z",
     "iopub.status.busy": "2021-01-04T21:04:49.746582Z",
     "iopub.status.idle": "2021-01-04T21:04:50.312744Z",
     "shell.execute_reply": "2021-01-04T21:04:50.312158Z",
     "shell.execute_reply.started": "2021-01-04T21:04:49.746893Z"
    }
   },
   "outputs": [],
   "source": [
    "import numpy as np\n",
    "import pandas as pd\n",
    "import matplotlib.pyplot as plt\n",
    "import time\n",
    "import xarray as xr\n",
    "from scipy.stats import zscore"
   ]
  },
  {
   "cell_type": "code",
   "execution_count": 4,
   "metadata": {
    "execution": {
     "iopub.execute_input": "2021-01-04T21:04:50.366376Z",
     "iopub.status.busy": "2021-01-04T21:04:50.366248Z",
     "iopub.status.idle": "2021-01-04T21:04:50.389503Z",
     "shell.execute_reply": "2021-01-04T21:04:50.389148Z",
     "shell.execute_reply.started": "2021-01-04T21:04:50.366360Z"
    }
   },
   "outputs": [],
   "source": [
    "from neurodsp.plts.time_series import plot_time_series\n",
    "from ripple_detection.core import gaussian_smooth, segment_boolean_series"
   ]
  },
  {
   "cell_type": "code",
   "execution_count": 5,
   "metadata": {
    "execution": {
     "iopub.execute_input": "2021-01-04T21:04:50.506563Z",
     "iopub.status.busy": "2021-01-04T21:04:50.506134Z",
     "iopub.status.idle": "2021-01-04T21:04:50.589726Z",
     "shell.execute_reply": "2021-01-04T21:04:50.589064Z",
     "shell.execute_reply.started": "2021-01-04T21:04:50.506506Z"
    }
   },
   "outputs": [],
   "source": [
    "from ecephys.data import paths\n",
    "from ecephys.utils import load_df_h5, add_attrs, get_disjoint_interval_intersections, get_interval_complements\n",
    "from ecephys.scoring import get_separated_wake_hypnogram, write_visbrain_hypnogram\n",
    "import ecephys.plot as eplt"
   ]
  },
  {
   "cell_type": "code",
   "execution_count": 6,
   "metadata": {
    "execution": {
     "iopub.execute_input": "2021-01-04T21:04:50.954385Z",
     "iopub.status.busy": "2021-01-04T21:04:50.954023Z",
     "iopub.status.idle": "2021-01-04T21:04:50.971908Z",
     "shell.execute_reply": "2021-01-04T21:04:50.971181Z",
     "shell.execute_reply.started": "2021-01-04T21:04:50.954338Z"
    }
   },
   "outputs": [],
   "source": [
    "SUBJECT = \"Doppio\"\n",
    "CONDITION = \"REC-6-4\"\n",
    "RECORDING_LENGTH = 7200"
   ]
  },
  {
   "cell_type": "code",
   "execution_count": 7,
   "metadata": {
    "execution": {
     "iopub.execute_input": "2021-01-04T21:04:51.409696Z",
     "iopub.status.busy": "2021-01-04T21:04:51.409407Z",
     "iopub.status.idle": "2021-01-04T21:04:51.471464Z",
     "shell.execute_reply": "2021-01-04T21:04:51.470648Z",
     "shell.execute_reply.started": "2021-01-04T21:04:51.409659Z"
    }
   },
   "outputs": [],
   "source": [
    "lfp_bandpower = xr.open_dataset(paths.get_datapath(subject=SUBJECT, condition=CONDITION, data=\"lfp_bandpower.nc\"))\n",
    "emg = xr.open_dataset(paths.get_datapath(subject=SUBJECT, condition=CONDITION, data=\"emg.nc\")).emg"
   ]
  },
  {
   "cell_type": "code",
   "execution_count": 8,
   "metadata": {
    "execution": {
     "iopub.execute_input": "2021-01-04T21:04:52.010247Z",
     "iopub.status.busy": "2021-01-04T21:04:52.009817Z",
     "iopub.status.idle": "2021-01-04T21:04:52.027740Z",
     "shell.execute_reply": "2021-01-04T21:04:52.027026Z",
     "shell.execute_reply.started": "2021-01-04T21:04:52.010191Z"
    }
   },
   "outputs": [],
   "source": [
    "def my_gaussian_smooth(da, smoothing_sigma=10):\n",
    "    estimated_fs = 1 / np.diff(da.time.values).mean()\n",
    "    return gaussian_smooth(da, smoothing_sigma, estimated_fs)"
   ]
  },
  {
   "cell_type": "code",
   "execution_count": 9,
   "metadata": {
    "execution": {
     "iopub.execute_input": "2021-01-04T21:04:52.348737Z",
     "iopub.status.busy": "2021-01-04T21:04:52.348307Z",
     "iopub.status.idle": "2021-01-04T21:04:52.365863Z",
     "shell.execute_reply": "2021-01-04T21:04:52.365118Z",
     "shell.execute_reply.started": "2021-01-04T21:04:52.348681Z"
    }
   },
   "outputs": [],
   "source": [
    "def below_threshold_intervals(sig, threshold, time):\n",
    "    _is_below_threshold = pd.Series(sig < threshold, index=time)\n",
    "    return segment_boolean_series(_is_below_threshold, minimum_duration=0)\n",
    "\n",
    "def above_threshold_intervals(sig, threshold, time):\n",
    "    _is_below_threshold = pd.Series(sig > threshold, index=time)\n",
    "    return segment_boolean_series(_is_below_threshold, minimum_duration=0)"
   ]
  },
  {
   "cell_type": "code",
   "execution_count": 10,
   "metadata": {
    "execution": {
     "iopub.execute_input": "2021-01-04T21:04:52.924139Z",
     "iopub.status.busy": "2021-01-04T21:04:52.923707Z",
     "iopub.status.idle": "2021-01-04T21:04:52.940833Z",
     "shell.execute_reply": "2021-01-04T21:04:52.940124Z",
     "shell.execute_reply.started": "2021-01-04T21:04:52.924084Z"
    }
   },
   "outputs": [],
   "source": [
    "SMOOTHING_SIGMA = 4\n",
    "TD_THRESHOLD_ZSCORE = 1\n",
    "EMG_THRESHOLD_ZSCORE = 0\n",
    "MINIMUM_QWK_DURATION = 10"
   ]
  },
  {
   "cell_type": "code",
   "execution_count": 11,
   "metadata": {
    "execution": {
     "iopub.execute_input": "2021-01-04T21:04:53.612378Z",
     "iopub.status.busy": "2021-01-04T21:04:53.612098Z",
     "iopub.status.idle": "2021-01-04T21:04:53.635792Z",
     "shell.execute_reply": "2021-01-04T21:04:53.635181Z",
     "shell.execute_reply.started": "2021-01-04T21:04:53.612342Z"
    }
   },
   "outputs": [],
   "source": [
    "td_smooth = my_gaussian_smooth(lfp_bandpower.sr_theta / lfp_bandpower.sr_delta, smoothing_sigma=SMOOTHING_SIGMA)\n",
    "tds_threshold = td_smooth[zscore(np.log(td_smooth)) < TD_THRESHOLD_ZSCORE].max()\n",
    "tds_below_threshold_intervals = below_threshold_intervals(td_smooth, tds_threshold, lfp_bandpower.time.values)"
   ]
  },
  {
   "cell_type": "code",
   "execution_count": 12,
   "metadata": {
    "execution": {
     "iopub.execute_input": "2021-01-04T21:04:53.956159Z",
     "iopub.status.busy": "2021-01-04T21:04:53.955736Z",
     "iopub.status.idle": "2021-01-04T21:04:54.089849Z",
     "shell.execute_reply": "2021-01-04T21:04:54.088912Z",
     "shell.execute_reply.started": "2021-01-04T21:04:53.956103Z"
    }
   },
   "outputs": [],
   "source": [
    "emg_smooth = my_gaussian_smooth(emg, smoothing_sigma=SMOOTHING_SIGMA)\n",
    "emgs_threshold = emg_smooth[zscore(emg_smooth) < EMG_THRESHOLD_ZSCORE].max()\n",
    "emgs_below_threshold_intervals = below_threshold_intervals(emg_smooth, emgs_threshold, emg.time.values)"
   ]
  },
  {
   "cell_type": "code",
   "execution_count": 13,
   "metadata": {
    "execution": {
     "iopub.execute_input": "2021-01-04T21:04:54.372859Z",
     "iopub.status.busy": "2021-01-04T21:04:54.372432Z",
     "iopub.status.idle": "2021-01-04T21:04:54.392687Z",
     "shell.execute_reply": "2021-01-04T21:04:54.391920Z",
     "shell.execute_reply.started": "2021-01-04T21:04:54.372802Z"
    }
   },
   "outputs": [],
   "source": [
    "qwk_intervals = np.asarray(get_disjoint_interval_intersections(emgs_below_threshold_intervals, tds_below_threshold_intervals))\n",
    "qwk_durations = np.asarray([end - start for start, end in qwk_intervals])\n",
    "qwk_intervals = qwk_intervals[qwk_durations > MINIMUM_QWK_DURATION]\n",
    "awk_intervals = get_interval_complements(qwk_intervals, 0, RECORDING_LENGTH)"
   ]
  },
  {
   "cell_type": "code",
   "execution_count": 14,
   "metadata": {
    "execution": {
     "iopub.execute_input": "2021-01-04T21:04:54.964261Z",
     "iopub.status.busy": "2021-01-04T21:04:54.963875Z",
     "iopub.status.idle": "2021-01-04T21:04:54.982762Z",
     "shell.execute_reply": "2021-01-04T21:04:54.982075Z",
     "shell.execute_reply.started": "2021-01-04T21:04:54.964210Z"
    }
   },
   "outputs": [],
   "source": [
    "hypnogram = get_separated_wake_hypnogram(qwk_intervals, awk_intervals)"
   ]
  },
  {
   "cell_type": "code",
   "execution_count": 15,
   "metadata": {
    "execution": {
     "iopub.execute_input": "2021-01-04T21:04:55.397468Z",
     "iopub.status.busy": "2021-01-04T21:04:55.397021Z",
     "iopub.status.idle": "2021-01-04T21:04:55.423805Z",
     "shell.execute_reply": "2021-01-04T21:04:55.423191Z",
     "shell.execute_reply.started": "2021-01-04T21:04:55.397413Z"
    }
   },
   "outputs": [],
   "source": [
    "write_visbrain_hypnogram(hypnogram, paths.get_datapath(subject=SUBJECT, condition=CONDITION, data=\"hypnogram.txt\"))"
   ]
  },
  {
   "cell_type": "code",
   "execution_count": 16,
   "metadata": {
    "execution": {
     "iopub.execute_input": "2021-01-04T21:04:55.982222Z",
     "iopub.status.busy": "2021-01-04T21:04:55.981799Z",
     "iopub.status.idle": "2021-01-04T21:04:56.181061Z",
     "shell.execute_reply": "2021-01-04T21:04:56.180371Z",
     "shell.execute_reply.started": "2021-01-04T21:04:55.982166Z"
    }
   },
   "outputs": [
    {
     "data": {
      "application/vnd.jupyter.widget-view+json": {
       "model_id": "3b3387bd019d4b029e78cd9d4806803f",
       "version_major": 2,
       "version_minor": 0
      },
      "text/plain": [
       "Canvas(toolbar=Toolbar(toolitems=[('Home', 'Reset original view', 'home', 'home'), ('Back', 'Back to previous …"
      ]
     },
     "metadata": {},
     "output_type": "display_data"
    }
   ],
   "source": [
    "fig, axes = plt.subplots(2, 1, figsize=(20, 4))\n",
    "plot_time_series(lfp_bandpower.time.values, td_smooth, ax=axes[0], title=\"Theta / Delta ratio, smoothed.\", ylabel=\"Ratio\")\n",
    "plot_time_series(emg.time.values, emg_smooth, ax=axes[1], title=\"Buzsaki-style EMG, smoothed\", ylabel=\"Corr\")\n",
    "for i in range(0, len(axes)):\n",
    "    eplt.plot_hypnogram_overlay(hypnogram, ax=axes[i])\n",
    "    axes[i].set_xlim(axes[0].get_xlim())"
   ]
  },
  {
   "cell_type": "code",
   "execution_count": 17,
   "metadata": {
    "execution": {
     "iopub.execute_input": "2021-01-04T21:05:04.893534Z",
     "iopub.status.busy": "2021-01-04T21:05:04.893076Z",
     "iopub.status.idle": "2021-01-04T21:05:04.913270Z",
     "shell.execute_reply": "2021-01-04T21:05:04.912740Z",
     "shell.execute_reply.started": "2021-01-04T21:05:04.893477Z"
    }
   },
   "outputs": [],
   "source": [
    "lfp_bandpower.close()\n",
    "emg.close()"
   ]
  },
  {
   "cell_type": "code",
   "execution_count": null,
   "metadata": {},
   "outputs": [],
   "source": []
  }
 ],
 "metadata": {
  "kernelspec": {
   "display_name": "Python 3",
   "language": "python",
   "name": "python3"
  },
  "language_info": {
   "codemirror_mode": {
    "name": "ipython",
    "version": 3
   },
   "file_extension": ".py",
   "mimetype": "text/x-python",
   "name": "python",
   "nbconvert_exporter": "python",
   "pygments_lexer": "ipython3",
   "version": "3.7.9"
  }
 },
 "nbformat": 4,
 "nbformat_minor": 4
}
