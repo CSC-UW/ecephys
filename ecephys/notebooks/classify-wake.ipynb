{
 "cells": [
  {
   "cell_type": "code",
   "execution_count": 18,
   "metadata": {
    "execution": {
     "iopub.execute_input": "2021-01-08T17:46:31.982036Z",
     "iopub.status.busy": "2021-01-08T17:46:31.981553Z",
     "iopub.status.idle": "2021-01-08T17:46:32.003691Z",
     "shell.execute_reply": "2021-01-08T17:46:32.002889Z",
     "shell.execute_reply.started": "2021-01-08T17:46:31.981976Z"
    }
   },
   "outputs": [
    {
     "name": "stdout",
     "output_type": "stream",
     "text": [
      "The autoreload extension is already loaded. To reload it, use:\n",
      "  %reload_ext autoreload\n"
     ]
    }
   ],
   "source": [
    "%load_ext autoreload\n",
    "%autoreload 2"
   ]
  },
  {
   "cell_type": "code",
   "execution_count": 19,
   "metadata": {
    "execution": {
     "iopub.execute_input": "2021-01-08T17:46:33.255904Z",
     "iopub.status.busy": "2021-01-08T17:46:33.255436Z",
     "iopub.status.idle": "2021-01-08T17:46:33.276130Z",
     "shell.execute_reply": "2021-01-08T17:46:33.275353Z",
     "shell.execute_reply.started": "2021-01-08T17:46:33.255844Z"
    }
   },
   "outputs": [],
   "source": [
    "%matplotlib widget\n",
    "import matplotlib.pyplot as plt"
   ]
  },
  {
   "cell_type": "code",
   "execution_count": 20,
   "metadata": {
    "execution": {
     "iopub.execute_input": "2021-01-08T17:46:34.111169Z",
     "iopub.status.busy": "2021-01-08T17:46:34.110832Z",
     "iopub.status.idle": "2021-01-08T17:46:34.128596Z",
     "shell.execute_reply": "2021-01-08T17:46:34.127907Z",
     "shell.execute_reply.started": "2021-01-08T17:46:34.111125Z"
    }
   },
   "outputs": [],
   "source": [
    "import numpy as np\n",
    "import pandas as pd\n",
    "import matplotlib.pyplot as plt\n",
    "import time\n",
    "import xarray as xr\n",
    "from scipy.stats import zscore"
   ]
  },
  {
   "cell_type": "code",
   "execution_count": 21,
   "metadata": {
    "execution": {
     "iopub.execute_input": "2021-01-08T17:46:34.678778Z",
     "iopub.status.busy": "2021-01-08T17:46:34.678389Z",
     "iopub.status.idle": "2021-01-08T17:46:34.696164Z",
     "shell.execute_reply": "2021-01-08T17:46:34.695420Z",
     "shell.execute_reply.started": "2021-01-08T17:46:34.678725Z"
    }
   },
   "outputs": [],
   "source": [
    "from neurodsp.plts.time_series import plot_time_series\n",
    "from ripple_detection.core import gaussian_smooth, segment_boolean_series"
   ]
  },
  {
   "cell_type": "code",
   "execution_count": 22,
   "metadata": {
    "execution": {
     "iopub.execute_input": "2021-01-08T17:46:35.190524Z",
     "iopub.status.busy": "2021-01-08T17:46:35.190156Z",
     "iopub.status.idle": "2021-01-08T17:46:35.209366Z",
     "shell.execute_reply": "2021-01-08T17:46:35.208574Z",
     "shell.execute_reply.started": "2021-01-08T17:46:35.190479Z"
    }
   },
   "outputs": [],
   "source": [
    "from ecephys.data import paths\n",
    "from ecephys.utils import load_df_h5, add_attrs, get_disjoint_interval_intersections, get_interval_complements\n",
    "from ecephys.scoring import get_separated_wake_hypnogram, write_visbrain_hypnogram\n",
    "import ecephys.plot as eplt"
   ]
  },
  {
   "cell_type": "code",
   "execution_count": 105,
   "metadata": {
    "execution": {
     "iopub.execute_input": "2021-01-08T18:41:46.925431Z",
     "iopub.status.busy": "2021-01-08T18:41:46.924976Z",
     "iopub.status.idle": "2021-01-08T18:41:46.944643Z",
     "shell.execute_reply": "2021-01-08T18:41:46.943881Z",
     "shell.execute_reply.started": "2021-01-08T18:41:46.925374Z"
    }
   },
   "outputs": [],
   "source": [
    "SUBJECT = \"Segundo\"\n",
    "CONDITION = \"REC-6-4\"\n",
    "RECORDING_LENGTH = 7200"
   ]
  },
  {
   "cell_type": "code",
   "execution_count": 106,
   "metadata": {
    "execution": {
     "iopub.execute_input": "2021-01-08T18:41:47.592759Z",
     "iopub.status.busy": "2021-01-08T18:41:47.592570Z",
     "iopub.status.idle": "2021-01-08T18:41:47.653290Z",
     "shell.execute_reply": "2021-01-08T18:41:47.652085Z",
     "shell.execute_reply.started": "2021-01-08T18:41:47.592734Z"
    }
   },
   "outputs": [],
   "source": [
    "lfp_bandpower = xr.open_dataset(paths.get_datapath(subject=SUBJECT, condition=CONDITION, data=\"lfp_bandpower.nc\"))\n",
    "emg = xr.open_dataset(paths.get_datapath(subject=SUBJECT, condition=CONDITION, data=\"emg.nc\")).emg"
   ]
  },
  {
   "cell_type": "code",
   "execution_count": 107,
   "metadata": {
    "execution": {
     "iopub.execute_input": "2021-01-08T18:41:48.000181Z",
     "iopub.status.busy": "2021-01-08T18:41:47.999820Z",
     "iopub.status.idle": "2021-01-08T18:41:48.020197Z",
     "shell.execute_reply": "2021-01-08T18:41:48.019428Z",
     "shell.execute_reply.started": "2021-01-08T18:41:48.000134Z"
    }
   },
   "outputs": [],
   "source": [
    "def my_gaussian_smooth(da, smoothing_sigma=10):\n",
    "    estimated_fs = 1 / np.diff(da.time.values).mean()\n",
    "    return gaussian_smooth(da, smoothing_sigma, estimated_fs)"
   ]
  },
  {
   "cell_type": "code",
   "execution_count": 108,
   "metadata": {
    "execution": {
     "iopub.execute_input": "2021-01-08T18:41:48.376376Z",
     "iopub.status.busy": "2021-01-08T18:41:48.376100Z",
     "iopub.status.idle": "2021-01-08T18:41:48.396757Z",
     "shell.execute_reply": "2021-01-08T18:41:48.395993Z",
     "shell.execute_reply.started": "2021-01-08T18:41:48.376341Z"
    }
   },
   "outputs": [],
   "source": [
    "def below_threshold_intervals(sig, threshold, time):\n",
    "    _is_below_threshold = pd.Series(sig < threshold, index=time)\n",
    "    return segment_boolean_series(_is_below_threshold, minimum_duration=0)\n",
    "\n",
    "def above_threshold_intervals(sig, threshold, time):\n",
    "    _is_below_threshold = pd.Series(sig > threshold, index=time)\n",
    "    return segment_boolean_series(_is_below_threshold, minimum_duration=0)"
   ]
  },
  {
   "cell_type": "code",
   "execution_count": 109,
   "metadata": {
    "execution": {
     "iopub.execute_input": "2021-01-08T18:41:48.904359Z",
     "iopub.status.busy": "2021-01-08T18:41:48.903928Z",
     "iopub.status.idle": "2021-01-08T18:41:48.923758Z",
     "shell.execute_reply": "2021-01-08T18:41:48.923028Z",
     "shell.execute_reply.started": "2021-01-08T18:41:48.904302Z"
    }
   },
   "outputs": [],
   "source": [
    "SMOOTHING_SIGMA = 4\n",
    "TD_THRESHOLD_ZSCORE = 1\n",
    "EMG_THRESHOLD_ZSCORE = 0\n",
    "MINIMUM_QWK_DURATION = 10"
   ]
  },
  {
   "cell_type": "code",
   "execution_count": 110,
   "metadata": {
    "execution": {
     "iopub.execute_input": "2021-01-08T18:41:49.247705Z",
     "iopub.status.busy": "2021-01-08T18:41:49.247461Z",
     "iopub.status.idle": "2021-01-08T18:41:49.270741Z",
     "shell.execute_reply": "2021-01-08T18:41:49.270157Z",
     "shell.execute_reply.started": "2021-01-08T18:41:49.247673Z"
    }
   },
   "outputs": [],
   "source": [
    "td_smooth = my_gaussian_smooth(lfp_bandpower.sr_theta / lfp_bandpower.sr_delta, smoothing_sigma=SMOOTHING_SIGMA)\n",
    "tds_threshold = td_smooth[zscore(np.log(td_smooth)) < TD_THRESHOLD_ZSCORE].max()\n",
    "tds_below_threshold_intervals = below_threshold_intervals(td_smooth, tds_threshold, lfp_bandpower.time.values)"
   ]
  },
  {
   "cell_type": "code",
   "execution_count": 111,
   "metadata": {
    "execution": {
     "iopub.execute_input": "2021-01-08T18:41:49.568121Z",
     "iopub.status.busy": "2021-01-08T18:41:49.567694Z",
     "iopub.status.idle": "2021-01-08T18:41:49.702699Z",
     "shell.execute_reply": "2021-01-08T18:41:49.702144Z",
     "shell.execute_reply.started": "2021-01-08T18:41:49.568065Z"
    }
   },
   "outputs": [],
   "source": [
    "emg_smooth = my_gaussian_smooth(emg, smoothing_sigma=SMOOTHING_SIGMA)\n",
    "emgs_threshold = emg_smooth[zscore(emg_smooth) < EMG_THRESHOLD_ZSCORE].max()\n",
    "emgs_below_threshold_intervals = below_threshold_intervals(emg_smooth, emgs_threshold, emg.time.values)"
   ]
  },
  {
   "cell_type": "code",
   "execution_count": 112,
   "metadata": {
    "execution": {
     "iopub.execute_input": "2021-01-08T18:41:49.948384Z",
     "iopub.status.busy": "2021-01-08T18:41:49.947954Z",
     "iopub.status.idle": "2021-01-08T18:41:49.969049Z",
     "shell.execute_reply": "2021-01-08T18:41:49.968327Z",
     "shell.execute_reply.started": "2021-01-08T18:41:49.948328Z"
    }
   },
   "outputs": [],
   "source": [
    "qwk_intervals = np.asarray(get_disjoint_interval_intersections(emgs_below_threshold_intervals, tds_below_threshold_intervals))\n",
    "qwk_durations = np.asarray([end - start for start, end in qwk_intervals])\n",
    "qwk_intervals = qwk_intervals[qwk_durations > MINIMUM_QWK_DURATION]\n",
    "awk_intervals = get_interval_complements(qwk_intervals, 0, RECORDING_LENGTH)"
   ]
  },
  {
   "cell_type": "code",
   "execution_count": 113,
   "metadata": {
    "execution": {
     "iopub.execute_input": "2021-01-08T18:41:50.432411Z",
     "iopub.status.busy": "2021-01-08T18:41:50.432215Z",
     "iopub.status.idle": "2021-01-08T18:41:50.452198Z",
     "shell.execute_reply": "2021-01-08T18:41:50.451592Z",
     "shell.execute_reply.started": "2021-01-08T18:41:50.432386Z"
    }
   },
   "outputs": [],
   "source": [
    "hypnogram = get_separated_wake_hypnogram(qwk_intervals, awk_intervals)"
   ]
  },
  {
   "cell_type": "code",
   "execution_count": 102,
   "metadata": {
    "execution": {
     "iopub.execute_input": "2021-01-08T18:35:41.687177Z",
     "iopub.status.busy": "2021-01-08T18:35:41.687051Z",
     "iopub.status.idle": "2021-01-08T18:35:41.711604Z",
     "shell.execute_reply": "2021-01-08T18:35:41.711022Z",
     "shell.execute_reply.started": "2021-01-08T18:35:41.687161Z"
    }
   },
   "outputs": [],
   "source": [
    "write_visbrain_hypnogram(hypnogram, paths.get_datapath(subject=SUBJECT, condition=CONDITION, data=\"hypnogram.txt\"))"
   ]
  },
  {
   "cell_type": "code",
   "execution_count": 114,
   "metadata": {
    "execution": {
     "iopub.execute_input": "2021-01-08T18:41:54.106728Z",
     "iopub.status.busy": "2021-01-08T18:41:54.106298Z",
     "iopub.status.idle": "2021-01-08T18:41:54.315165Z",
     "shell.execute_reply": "2021-01-08T18:41:54.314574Z",
     "shell.execute_reply.started": "2021-01-08T18:41:54.106671Z"
    }
   },
   "outputs": [
    {
     "data": {
      "application/vnd.jupyter.widget-view+json": {
       "model_id": "0bed6d6ca77f4f129a7b18f7fee88642",
       "version_major": 2,
       "version_minor": 0
      },
      "text/plain": [
       "Canvas(toolbar=Toolbar(toolitems=[('Home', 'Reset original view', 'home', 'home'), ('Back', 'Back to previous …"
      ]
     },
     "metadata": {},
     "output_type": "display_data"
    }
   ],
   "source": [
    "fig, axes = plt.subplots(2, 1, figsize=(20, 4))\n",
    "plot_time_series(lfp_bandpower.time.values, td_smooth, ax=axes[0], title=\"Theta / Delta ratio, smoothed.\", ylabel=\"Ratio\")\n",
    "plot_time_series(emg.time.values, emg_smooth, ax=axes[1], title=\"Buzsaki-style EMG, smoothed\", ylabel=\"Corr\")\n",
    "for i in range(0, len(axes)):\n",
    "    eplt.plot_hypnogram_overlay(hypnogram, ax=axes[i])\n",
    "    axes[i].set_xlim(axes[0].get_xlim())"
   ]
  },
  {
   "cell_type": "code",
   "execution_count": 115,
   "metadata": {
    "execution": {
     "iopub.execute_input": "2021-01-08T18:41:57.617929Z",
     "iopub.status.busy": "2021-01-08T18:41:57.617452Z",
     "iopub.status.idle": "2021-01-08T18:41:57.641682Z",
     "shell.execute_reply": "2021-01-08T18:41:57.640800Z",
     "shell.execute_reply.started": "2021-01-08T18:41:57.617853Z"
    }
   },
   "outputs": [],
   "source": [
    "lfp_bandpower.close()\n",
    "emg.close()"
   ]
  },
  {
   "cell_type": "code",
   "execution_count": null,
   "metadata": {},
   "outputs": [],
   "source": []
  }
 ],
 "metadata": {
  "kernelspec": {
   "display_name": "Python 3",
   "language": "python",
   "name": "python3"
  },
  "language_info": {
   "codemirror_mode": {
    "name": "ipython",
    "version": 3
   },
   "file_extension": ".py",
   "mimetype": "text/x-python",
   "name": "python",
   "nbconvert_exporter": "python",
   "pygments_lexer": "ipython3",
   "version": "3.7.9"
  }
 },
 "nbformat": 4,
 "nbformat_minor": 4
}
