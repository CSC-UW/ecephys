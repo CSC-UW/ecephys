{
 "cells": [
  {
   "cell_type": "code",
   "execution_count": 1,
   "metadata": {
    "execution": {
     "iopub.execute_input": "2021-01-19T23:21:40.913666Z",
     "iopub.status.busy": "2021-01-19T23:21:40.913169Z",
     "iopub.status.idle": "2021-01-19T23:21:40.930175Z",
     "shell.execute_reply": "2021-01-19T23:21:40.929568Z",
     "shell.execute_reply.started": "2021-01-19T23:21:40.913607Z"
    }
   },
   "outputs": [],
   "source": [
    "%load_ext autoreload\n",
    "%autoreload 2"
   ]
  },
  {
   "cell_type": "markdown",
   "metadata": {},
   "source": [
    "# Imports and definitions"
   ]
  },
  {
   "cell_type": "code",
   "execution_count": 2,
   "metadata": {
    "execution": {
     "iopub.execute_input": "2021-01-19T23:21:41.749884Z",
     "iopub.status.busy": "2021-01-19T23:21:41.749648Z",
     "iopub.status.idle": "2021-01-19T23:21:42.012468Z",
     "shell.execute_reply": "2021-01-19T23:21:42.011647Z",
     "shell.execute_reply.started": "2021-01-19T23:21:41.749856Z"
    }
   },
   "outputs": [],
   "source": [
    "import numpy as np\n",
    "import pandas as pd\n",
    "from datetime import datetime\n",
    "import xarray as xr"
   ]
  },
  {
   "cell_type": "code",
   "execution_count": 3,
   "metadata": {
    "execution": {
     "iopub.execute_input": "2021-01-19T23:21:42.196829Z",
     "iopub.status.busy": "2021-01-19T23:21:42.196528Z",
     "iopub.status.idle": "2021-01-19T23:21:42.497098Z",
     "shell.execute_reply": "2021-01-19T23:21:42.496449Z",
     "shell.execute_reply.started": "2021-01-19T23:21:42.196789Z"
    }
   },
   "outputs": [],
   "source": [
    "from ecephys.data import channel_groups, paths\n",
    "from ecephys.sglx_utils import load_timeseries\n",
    "from ecephys.signal.timefrequency import parallel_spectrogram_welch"
   ]
  },
  {
   "cell_type": "code",
   "execution_count": 4,
   "metadata": {
    "execution": {
     "iopub.execute_input": "2021-01-19T23:21:42.628803Z",
     "iopub.status.busy": "2021-01-19T23:21:42.628516Z",
     "iopub.status.idle": "2021-01-19T23:21:42.646589Z",
     "shell.execute_reply": "2021-01-19T23:21:42.645854Z",
     "shell.execute_reply.started": "2021-01-19T23:21:42.628759Z"
    }
   },
   "outputs": [],
   "source": [
    "DELTA_RANGE = (0.5, 4)\n",
    "THETA_RANGE = (5, 10)"
   ]
  },
  {
   "cell_type": "code",
   "execution_count": 5,
   "metadata": {
    "execution": {
     "iopub.execute_input": "2021-01-19T23:21:43.037952Z",
     "iopub.status.busy": "2021-01-19T23:21:43.037615Z",
     "iopub.status.idle": "2021-01-19T23:21:43.058172Z",
     "shell.execute_reply": "2021-01-19T23:21:43.057406Z",
     "shell.execute_reply.started": "2021-01-19T23:21:43.037907Z"
    }
   },
   "outputs": [],
   "source": [
    "def get_spectrogram(sig):\n",
    "    freqs, spg_times, spg = parallel_spectrogram_welch(sig.values, sig.fs)\n",
    "    spg_times = spg_times + sig.time.values.min()\n",
    "    spg = xr.DataArray(spg, dims=(\"frequency\", \"time\", \"channel\"), coords={\"frequency\": freqs, \"time\": spg_times, \"channel\": sig.channel.values})\n",
    "    return spg.median(dim=\"channel\")"
   ]
  },
  {
   "cell_type": "code",
   "execution_count": 6,
   "metadata": {
    "execution": {
     "iopub.execute_input": "2021-01-19T23:21:43.925460Z",
     "iopub.status.busy": "2021-01-19T23:21:43.925007Z",
     "iopub.status.idle": "2021-01-19T23:21:43.945180Z",
     "shell.execute_reply": "2021-01-19T23:21:43.943989Z",
     "shell.execute_reply.started": "2021-01-19T23:21:43.925402Z"
    }
   },
   "outputs": [],
   "source": [
    "def _get_bandpower(spg, f_range, chans):\n",
    "    bandpower = spg.sel(frequency=slice(*f_range)).sum(dim=\"frequency\")\n",
    "    bandpower.attrs['long_name'] = \"{} Hz PSD\".format(f_range)\n",
    "    bandpower.attrs['units'] = 'uV^2/Hz'\n",
    "    bandpower.attrs['chans'] = chans\n",
    "    bandpower.attrs['freq_range'] = f_range\n",
    "    \n",
    "    return bandpower"
   ]
  },
  {
   "cell_type": "code",
   "execution_count": 7,
   "metadata": {
    "execution": {
     "iopub.execute_input": "2021-01-19T23:21:45.309960Z",
     "iopub.status.busy": "2021-01-19T23:21:45.309511Z",
     "iopub.status.idle": "2021-01-19T23:21:45.333910Z",
     "shell.execute_reply": "2021-01-19T23:21:45.333165Z",
     "shell.execute_reply.started": "2021-01-19T23:21:45.309903Z"
    }
   },
   "outputs": [],
   "source": [
    "def run_bandpower_pipeline_on_file(bin_path, bandpower_path, cx_chans, sr_chans):\n",
    "    cx_sig = load_timeseries(bin_path, cx_chans, xarray=True)\n",
    "    cx_spg = get_spectrogram(cx_sig)\n",
    "    cx_theta = _get_bandpower(cx_spg, THETA_RANGE, cx_chans)\n",
    "    cx_delta = _get_bandpower(cx_spg, DELTA_RANGE, cx_chans)\n",
    "    \n",
    "    sr_sig = load_timeseries(bin_path, sr_chans, xarray=True)\n",
    "    sr_spg = get_spectrogram(sr_sig)\n",
    "    sr_theta = _get_bandpower(sr_spg, THETA_RANGE, sr_chans)\n",
    "    sr_delta = _get_bandpower(sr_spg, DELTA_RANGE, sr_chans)\n",
    "    \n",
    "    bandpower = xr.Dataset({'mpta_delta': cx_delta, 'mpta_theta': cx_theta, 'sr_delta': sr_delta, 'sr_theta': sr_theta})\n",
    "    bandpower.to_netcdf(bandpower_path)\n",
    "    bandpower.close()"
   ]
  },
  {
   "cell_type": "code",
   "execution_count": 8,
   "metadata": {
    "execution": {
     "iopub.execute_input": "2021-01-19T23:21:47.045861Z",
     "iopub.status.busy": "2021-01-19T23:21:47.045475Z",
     "iopub.status.idle": "2021-01-19T23:21:47.066715Z",
     "shell.execute_reply": "2021-01-19T23:21:47.065887Z",
     "shell.execute_reply.started": "2021-01-19T23:21:47.045814Z"
    }
   },
   "outputs": [],
   "source": [
    "def run_bandpower_pipeline_on_condition(subject, condition):\n",
    "    cx_chans = channel_groups.superficial_ctx[subject]\n",
    "    sr_chans = channel_groups.stratum_radiatum_140um_to_200um[subject]\n",
    "    \n",
    "    bin_paths = paths.get_sglx_style_datapaths(subject=subject, condition=condition, ext=\"lf.bin\")\n",
    "    pow_paths = paths.get_sglx_style_datapaths(subject=subject, condition=condition, ext=\"pow.nc\")\n",
    "\n",
    "    for bin_path, pow_path in zip(bin_paths, pow_paths):\n",
    "        run_bandpower_pipeline_on_file(bin_path, pow_path, cx_chans, sr_chans)\n",
    "        current_time = datetime.now().strftime(\"%H:%M:%S\")\n",
    "        print(f\"{current_time}: Finished {str(bin_path)}\")"
   ]
  },
  {
   "cell_type": "markdown",
   "metadata": {},
   "source": [
    "# Run automated pipeline"
   ]
  },
  {
   "cell_type": "markdown",
   "metadata": {},
   "source": [
    "### Segundo"
   ]
  },
  {
   "cell_type": "code",
   "execution_count": 11,
   "metadata": {
    "execution": {
     "iopub.execute_input": "2021-01-21T23:44:40.454042Z",
     "iopub.status.busy": "2021-01-21T23:44:40.453637Z",
     "iopub.status.idle": "2021-01-21T23:57:13.520348Z",
     "shell.execute_reply": "2021-01-21T23:57:13.519501Z",
     "shell.execute_reply.started": "2021-01-21T23:44:40.453997Z"
    }
   },
   "outputs": [
    {
     "name": "stdout",
     "output_type": "stream",
     "text": [
      "nChan: 385, nFileSamp: 18000001\n",
      "nChan: 385, nFileSamp: 18000001\n",
      "17:46:44: Finished /Volumes/neuropixel_archive/Data/chronic/CNPIX2-Segundo/raw/1-21-2020_g0/1-21-2020_g0_imec0/1-21-2020_g0_t23.imec0.lf.bin\n",
      "nChan: 385, nFileSamp: 18000001\n",
      "nChan: 385, nFileSamp: 18000001\n",
      "17:51:48: Finished /Volumes/neuropixel_archive/Data/chronic/CNPIX2-Segundo/raw/1-21-2020_g0/1-21-2020_g0_imec0/1-21-2020_g0_t24.imec0.lf.bin\n",
      "nChan: 385, nFileSamp: 18000001\n",
      "nChan: 385, nFileSamp: 18000001\n",
      "17:57:13: Finished /Volumes/neuropixel_archive/Data/chronic/CNPIX2-Segundo/raw/1-21-2020_g0/1-21-2020_g0_imec0/1-21-2020_g0_t25.imec0.lf.bin\n"
     ]
    }
   ],
   "source": [
    "run_bandpower_pipeline_on_condition(subject=\"Segundo\", condition=\"recovery-sleep-6h\")"
   ]
  },
  {
   "cell_type": "markdown",
   "metadata": {},
   "source": [
    "### Valentino"
   ]
  },
  {
   "cell_type": "code",
   "execution_count": 10,
   "metadata": {
    "execution": {
     "iopub.execute_input": "2021-01-20T23:01:47.307627Z",
     "iopub.status.busy": "2021-01-20T23:01:47.307132Z",
     "iopub.status.idle": "2021-01-20T23:14:20.755687Z",
     "shell.execute_reply": "2021-01-20T23:14:20.754730Z",
     "shell.execute_reply.started": "2021-01-20T23:01:47.307567Z"
    }
   },
   "outputs": [
    {
     "name": "stdout",
     "output_type": "stream",
     "text": [
      "nChan: 385, nFileSamp: 18000000\n",
      "nChan: 385, nFileSamp: 18000000\n",
      "17:03:19: Finished /Volumes/neuropixel_archive/Data/chronic/CNPIX3-Valentino/raw/2-20-2020_g0/2-20-2020_g0_imec0/2-20-2020_g0_t3.imec0.lf.bin\n",
      "nChan: 385, nFileSamp: 18000000\n",
      "nChan: 385, nFileSamp: 18000000\n",
      "17:07:56: Finished /Volumes/neuropixel_archive/Data/chronic/CNPIX3-Valentino/raw/2-20-2020_g0/2-20-2020_g0_imec0/2-20-2020_g0_t4.imec0.lf.bin\n",
      "nChan: 385, nFileSamp: 18000000\n",
      "nChan: 385, nFileSamp: 18000000\n",
      "17:14:20: Finished /Volumes/neuropixel_archive/Data/chronic/CNPIX3-Valentino/raw/2-20-2020_g0/2-20-2020_g0_imec0/2-20-2020_g0_t5.imec0.lf.bin\n"
     ]
    }
   ],
   "source": [
    "run_bandpower_pipeline_on_condition(subject=\"Valentino\", condition=\"recovery-sleep-6h\")"
   ]
  },
  {
   "cell_type": "markdown",
   "metadata": {},
   "source": [
    "### Doppio"
   ]
  },
  {
   "cell_type": "code",
   "execution_count": 9,
   "metadata": {
    "execution": {
     "iopub.execute_input": "2021-01-19T23:22:22.708100Z",
     "iopub.status.busy": "2021-01-19T23:22:22.707616Z",
     "iopub.status.idle": "2021-01-19T23:36:00.766368Z",
     "shell.execute_reply": "2021-01-19T23:36:00.765597Z",
     "shell.execute_reply.started": "2021-01-19T23:22:22.708040Z"
    }
   },
   "outputs": [
    {
     "name": "stdout",
     "output_type": "stream",
     "text": [
      "nChan: 385, nFileSamp: 18000019\n",
      "nChan: 385, nFileSamp: 18000019\n",
      "17:26:55: Finished /Volumes/neuropixel_archive/Data/chronic/CNPIX4-Doppio/raw/3-18-2020_g0/3-18-2020_g0_imec0/3-18-2020_g0_t3.imec0.lf.bin\n",
      "nChan: 385, nFileSamp: 18000019\n",
      "nChan: 385, nFileSamp: 18000019\n",
      "17:29:40: Finished /Volumes/neuropixel_archive/Data/chronic/CNPIX4-Doppio/raw/3-18-2020_g0/3-18-2020_g0_imec0/3-18-2020_g0_t4.imec0.lf.bin\n",
      "nChan: 385, nFileSamp: 18000019\n",
      "nChan: 385, nFileSamp: 18000019\n",
      "17:36:00: Finished /Volumes/neuropixel_archive/Data/chronic/CNPIX4-Doppio/raw/3-18-2020_g0/3-18-2020_g0_imec0/3-18-2020_g0_t5.imec0.lf.bin\n"
     ]
    }
   ],
   "source": [
    "run_bandpower_pipeline_on_condition(subject=\"Doppio\", condition=\"recovery-sleep-6h\")"
   ]
  },
  {
   "cell_type": "markdown",
   "metadata": {},
   "source": [
    "### Alessandro"
   ]
  },
  {
   "cell_type": "code",
   "execution_count": 10,
   "metadata": {
    "execution": {
     "iopub.execute_input": "2021-01-12T18:45:03.676241Z",
     "iopub.status.busy": "2021-01-12T18:45:03.675866Z",
     "iopub.status.idle": "2021-01-12T19:01:04.902639Z",
     "shell.execute_reply": "2021-01-12T19:01:04.901348Z",
     "shell.execute_reply.started": "2021-01-12T18:45:03.676196Z"
    }
   },
   "outputs": [
    {
     "name": "stdout",
     "output_type": "stream",
     "text": [
      "nChan: 385, nFileSamp: 9000051\n",
      "nChan: 385, nFileSamp: 9000051\n",
      "12:48:18: Finished /Volumes/neuropixel_archive/Data/chronic/CNPIX5-Alessandro/raw/8-25-2020_SD_g0/8-25-2020_SD_g0_imec0/8-25-2020_SD_g0_t0.imec0.lf.bin\n",
      "nChan: 385, nFileSamp: 9000052\n",
      "nChan: 385, nFileSamp: 9000052\n",
      "12:50:41: Finished /Volumes/neuropixel_archive/Data/chronic/CNPIX5-Alessandro/raw/8-25-2020_SD_g0/8-25-2020_SD_g0_imec0/8-25-2020_SD_g0_t1.imec0.lf.bin\n",
      "nChan: 385, nFileSamp: 8127109\n",
      "nChan: 385, nFileSamp: 8127109\n",
      "12:53:35: Finished /Volumes/neuropixel_archive/Data/chronic/CNPIX5-Alessandro/raw/8-25-2020_SD_g0/8-25-2020_SD_g0_imec0/8-25-2020_SD_g0_t2.imec0.lf.bin\n",
      "nChan: 385, nFileSamp: 8277840\n",
      "nChan: 385, nFileSamp: 8277840\n",
      "12:55:39: Finished /Volumes/neuropixel_archive/Data/chronic/CNPIX5-Alessandro/raw/8-25-2020_SD2_g0/8-25-2020_SD2_g0_imec0/8-25-2020_SD2_g0_t0.imec0.lf.bin\n",
      "nChan: 385, nFileSamp: 9000052\n",
      "nChan: 385, nFileSamp: 9000052\n",
      "12:58:25: Finished /Volumes/neuropixel_archive/Data/chronic/CNPIX5-Alessandro/raw/8-25-2020_g0/8-25-2020_g0_imec0/8-25-2020_g0_t0.imec0.lf.bin\n",
      "nChan: 385, nFileSamp: 9000052\n",
      "nChan: 385, nFileSamp: 9000052\n",
      "13:01:04: Finished /Volumes/neuropixel_archive/Data/chronic/CNPIX5-Alessandro/raw/8-25-2020_g0/8-25-2020_g0_imec0/8-25-2020_g0_t1.imec0.lf.bin\n"
     ]
    }
   ],
   "source": [
    "run_bandpower_pipeline_on_condition(subject=\"Alessandro\", condition=\"extended-wake\")"
   ]
  },
  {
   "cell_type": "markdown",
   "metadata": {},
   "source": [
    "### Eugene"
   ]
  },
  {
   "cell_type": "code",
   "execution_count": 9,
   "metadata": {
    "execution": {
     "iopub.execute_input": "2021-01-12T18:32:32.684353Z",
     "iopub.status.busy": "2021-01-12T18:32:32.684107Z",
     "iopub.status.idle": "2021-01-12T18:44:25.407061Z",
     "shell.execute_reply": "2021-01-12T18:44:25.406349Z",
     "shell.execute_reply.started": "2021-01-12T18:32:32.684326Z"
    }
   },
   "outputs": [
    {
     "name": "stdout",
     "output_type": "stream",
     "text": [
      "nChan: 385, nFileSamp: 800217\n",
      "nChan: 385, nFileSamp: 800217\n",
      "12:32:44: Finished /Volumes/neuropixel_archive/Data/chronic/CNPIX6-Eugene/raw/9.24.2020_SD_24hs_g0/9.24.2020_SD_24hs_g0_imec0/9.24.2020_SD_24hs_g0_t0.imec0.lf.bin\n",
      "nChan: 385, nFileSamp: 2877424\n",
      "nChan: 385, nFileSamp: 2877424\n",
      "12:33:29: Finished /Volumes/neuropixel_archive/Data/chronic/CNPIX6-Eugene/raw/9.24.2020_SD_24hs1_g0/9.24.2020_SD_24hs1_g0_imec0/9.24.2020_SD_24hs1_g0_t0.imec0.lf.bin\n",
      "nChan: 385, nFileSamp: 2430722\n",
      "nChan: 385, nFileSamp: 2430722\n",
      "12:34:10: Finished /Volumes/neuropixel_archive/Data/chronic/CNPIX6-Eugene/raw/9.24.2020_SD_24hs2_g0/9.24.2020_SD_24hs2_g0_imec0/9.24.2020_SD_24hs2_g0_t0.imec0.lf.bin\n",
      "nChan: 385, nFileSamp: 5735230\n",
      "nChan: 385, nFileSamp: 5735230\n",
      "12:35:36: Finished /Volumes/neuropixel_archive/Data/chronic/CNPIX6-Eugene/raw/9.24.2020_SD_24hs3_g0/9.24.2020_SD_24hs3_g0_imec0/9.24.2020_SD_24hs3_g0_t0.imec0.lf.bin\n",
      "nChan: 385, nFileSamp: 9000025\n",
      "nChan: 385, nFileSamp: 9000025\n",
      "12:37:59: Finished /Volumes/neuropixel_archive/Data/chronic/CNPIX6-Eugene/raw/9.24.2020_SD_24hs3_g1/9.24.2020_SD_24hs3_g1_imec0/9.24.2020_SD_24hs3_g1_t0.imec0.lf.bin\n",
      "nChan: 385, nFileSamp: 5608943\n",
      "nChan: 385, nFileSamp: 5608943\n",
      "12:39:26: Finished /Volumes/neuropixel_archive/Data/chronic/CNPIX6-Eugene/raw/9.24.2020_SD_24hs3_g1/9.24.2020_SD_24hs3_g1_imec0/9.24.2020_SD_24hs3_g1_t1.imec0.lf.bin\n",
      "nChan: 385, nFileSamp: 2417612\n",
      "nChan: 385, nFileSamp: 2417612\n",
      "12:40:06: Finished /Volumes/neuropixel_archive/Data/chronic/CNPIX6-Eugene/raw/9.24.2020_SD_24hs4_g0/9.24.2020_SD_24hs4_g0_imec0/9.24.2020_SD_24hs4_g0_t0.imec0.lf.bin\n",
      "nChan: 385, nFileSamp: 3435368\n",
      "nChan: 385, nFileSamp: 3435368\n",
      "12:41:01: Finished /Volumes/neuropixel_archive/Data/chronic/CNPIX6-Eugene/raw/9.24.2020_SD_24hs5_g0/9.24.2020_SD_24hs5_g0_imec0/9.24.2020_SD_24hs5_g0_t0.imec0.lf.bin\n",
      "nChan: 385, nFileSamp: 1369314\n",
      "nChan: 385, nFileSamp: 1369314\n",
      "12:41:24: Finished /Volumes/neuropixel_archive/Data/chronic/CNPIX6-Eugene/raw/9.24.2020_SD_24hs7_g0/9.24.2020_SD_24hs7_g0_imec0/9.24.2020_SD_24hs7_g0_t0.imec0.lf.bin\n",
      "nChan: 385, nFileSamp: 9000025\n",
      "nChan: 385, nFileSamp: 9000025\n",
      "12:43:34: Finished /Volumes/neuropixel_archive/Data/chronic/CNPIX6-Eugene/raw/9.24.2020_SD_24hs8_g0/9.24.2020_SD_24hs8_g0_imec0/9.24.2020_SD_24hs8_g0_t0.imec0.lf.bin\n",
      "nChan: 385, nFileSamp: 2946948\n",
      "nChan: 385, nFileSamp: 2946948\n",
      "12:44:25: Finished /Volumes/neuropixel_archive/Data/chronic/CNPIX6-Eugene/raw/9.24.2020_SD_24hs8_g0/9.24.2020_SD_24hs8_g0_imec0/9.24.2020_SD_24hs8_g0_t1.imec0.lf.bin\n"
     ]
    }
   ],
   "source": [
    "run_bandpower_pipeline_on_condition(subject=\"Eugene\", condition=\"extended-wake\")"
   ]
  },
  {
   "cell_type": "markdown",
   "metadata": {
    "collapsed": "true"
   },
   "source": [
    "# Run pipeline piecemeal"
   ]
  },
  {
   "cell_type": "code",
   "execution_count": 11,
   "metadata": {
    "execution": {
     "iopub.execute_input": "2021-01-12T18:31:21.582529Z",
     "iopub.status.busy": "2021-01-12T18:31:21.582153Z",
     "iopub.status.idle": "2021-01-12T18:31:21.603071Z",
     "shell.execute_reply": "2021-01-12T18:31:21.602449Z",
     "shell.execute_reply.started": "2021-01-12T18:31:21.582483Z"
    }
   },
   "outputs": [],
   "source": [
    "%matplotlib widget"
   ]
  },
  {
   "cell_type": "code",
   "execution_count": 12,
   "metadata": {
    "execution": {
     "iopub.execute_input": "2021-01-12T18:31:21.903784Z",
     "iopub.status.busy": "2021-01-12T18:31:21.903489Z",
     "iopub.status.idle": "2021-01-12T18:31:21.953067Z",
     "shell.execute_reply": "2021-01-12T18:31:21.952481Z",
     "shell.execute_reply.started": "2021-01-12T18:31:21.903746Z"
    }
   },
   "outputs": [],
   "source": [
    "import matplotlib.pyplot as plt\n",
    "from ecephys.plot import plot_spectrogram, plot_hypnogram_overlay\n",
    "from ecephys.scoring import load_visbrain_hypnogram\n",
    "from neurodsp.plts.time_series import plot_time_series\n",
    "from ripple_detection.core import gaussian_smooth\n",
    "smoothing_sigma = 2 # seconds"
   ]
  },
  {
   "cell_type": "code",
   "execution_count": 13,
   "metadata": {
    "execution": {
     "iopub.execute_input": "2021-01-12T18:31:22.751849Z",
     "iopub.status.busy": "2021-01-12T18:31:22.751529Z",
     "iopub.status.idle": "2021-01-12T18:31:22.775787Z",
     "shell.execute_reply": "2021-01-12T18:31:22.775171Z",
     "shell.execute_reply.started": "2021-01-12T18:31:22.751811Z"
    }
   },
   "outputs": [],
   "source": [
    "SUBJECT=\"Segundo\"\n",
    "CONDITION=\"REC-2-0\"\n",
    "START_TIME = 0\n",
    "END_TIME = 60\n",
    "bin_path = paths.get_datapath_from_csv(subject=SUBJECT, condition=CONDITION, data=\"lf.bin\")"
   ]
  },
  {
   "cell_type": "markdown",
   "metadata": {},
   "source": [
    "## Cortex"
   ]
  },
  {
   "cell_type": "code",
   "execution_count": 14,
   "metadata": {
    "execution": {
     "iopub.execute_input": "2021-01-12T18:31:25.473423Z",
     "iopub.status.busy": "2021-01-12T18:31:25.473172Z",
     "iopub.status.idle": "2021-01-12T18:31:26.754676Z",
     "shell.execute_reply": "2021-01-12T18:31:26.753971Z",
     "shell.execute_reply.started": "2021-01-12T18:31:25.473375Z"
    }
   },
   "outputs": [
    {
     "name": "stdout",
     "output_type": "stream",
     "text": [
      "nChan: 385, nFileSamp: 18000001\n"
     ]
    }
   ],
   "source": [
    "cx_chans = channel_groups.superficial_ctx[SUBJECT]\n",
    "cx_sig = load_timeseries(bin_path, cx_chans, start_time=START_TIME, end_time=END_TIME, xarray=True)"
   ]
  },
  {
   "cell_type": "code",
   "execution_count": 104,
   "metadata": {
    "execution": {
     "iopub.execute_input": "2021-01-08T18:11:06.837571Z",
     "iopub.status.busy": "2021-01-08T18:11:06.837415Z",
     "iopub.status.idle": "2021-01-08T18:11:11.092521Z",
     "shell.execute_reply": "2021-01-08T18:11:11.092001Z",
     "shell.execute_reply.started": "2021-01-08T18:11:06.837552Z"
    }
   },
   "outputs": [],
   "source": [
    "cx_spg = get_spectrogram(cx_sig)"
   ]
  },
  {
   "cell_type": "code",
   "execution_count": 105,
   "metadata": {
    "execution": {
     "iopub.execute_input": "2021-01-08T18:11:11.093840Z",
     "iopub.status.busy": "2021-01-08T18:11:11.093651Z",
     "iopub.status.idle": "2021-01-08T18:11:11.113693Z",
     "shell.execute_reply": "2021-01-08T18:11:11.113214Z",
     "shell.execute_reply.started": "2021-01-08T18:11:11.093818Z"
    }
   },
   "outputs": [],
   "source": [
    "cx_theta = _get_bandpower(cx_spg, THETA_RANGE, cx_chans)\n",
    "cx_delta = _get_bandpower(cx_spg, DELTA_RANGE, cx_chans)"
   ]
  },
  {
   "cell_type": "markdown",
   "metadata": {},
   "source": [
    "### Plot"
   ]
  },
  {
   "cell_type": "code",
   "execution_count": 36,
   "metadata": {
    "execution": {
     "iopub.execute_input": "2021-01-08T02:24:07.665988Z",
     "iopub.status.busy": "2021-01-08T02:24:07.665863Z",
     "iopub.status.idle": "2021-01-08T02:24:08.502144Z",
     "shell.execute_reply": "2021-01-08T02:24:08.501519Z",
     "shell.execute_reply.started": "2021-01-08T02:24:07.665972Z"
    }
   },
   "outputs": [
    {
     "data": {
      "application/vnd.jupyter.widget-view+json": {
       "model_id": "ec0767009f78481a8706619c012bf87f",
       "version_major": 2,
       "version_minor": 0
      },
      "text/plain": [
       "Canvas(toolbar=Toolbar(toolitems=[('Home', 'Reset original view', 'home', 'home'), ('Back', 'Back to previous …"
      ]
     },
     "metadata": {},
     "output_type": "display_data"
    }
   ],
   "source": [
    "plot_spectrogram(cx_spg.frequency, cx_spg.time, cx_spg, yscale='log')"
   ]
  },
  {
   "cell_type": "code",
   "execution_count": 37,
   "metadata": {
    "execution": {
     "iopub.execute_input": "2021-01-08T02:24:08.503045Z",
     "iopub.status.busy": "2021-01-08T02:24:08.502902Z",
     "iopub.status.idle": "2021-01-08T02:24:08.672851Z",
     "shell.execute_reply": "2021-01-08T02:24:08.672302Z",
     "shell.execute_reply.started": "2021-01-08T02:24:08.503027Z"
    }
   },
   "outputs": [
    {
     "data": {
      "application/vnd.jupyter.widget-view+json": {
       "model_id": "2b5a6a7a6c034180a9a3f0e0ae594f3a",
       "version_major": 2,
       "version_minor": 0
      },
      "text/plain": [
       "Canvas(toolbar=Toolbar(toolitems=[('Home', 'Reset original view', 'home', 'home'), ('Back', 'Back to previous …"
      ]
     },
     "metadata": {},
     "output_type": "display_data"
    }
   ],
   "source": [
    "_, ax = plt.subplots(figsize=(24, 3))\n",
    "plot_time_series(cx_spg.time.values, cx_delta.values, ax=ax, title=\"Cortical Delta\", ylabel=\"Power\")\n",
    "#plot_hypnogram_overlay(hypno, ax=ax)"
   ]
  },
  {
   "cell_type": "code",
   "execution_count": 38,
   "metadata": {
    "execution": {
     "iopub.execute_input": "2021-01-08T02:24:08.674221Z",
     "iopub.status.busy": "2021-01-08T02:24:08.673855Z",
     "iopub.status.idle": "2021-01-08T02:24:08.804156Z",
     "shell.execute_reply": "2021-01-08T02:24:08.803774Z",
     "shell.execute_reply.started": "2021-01-08T02:24:08.674190Z"
    }
   },
   "outputs": [
    {
     "data": {
      "application/vnd.jupyter.widget-view+json": {
       "model_id": "9fec1e21649f4c93b35e046b2ddcf684",
       "version_major": 2,
       "version_minor": 0
      },
      "text/plain": [
       "Canvas(toolbar=Toolbar(toolitems=[('Home', 'Reset original view', 'home', 'home'), ('Back', 'Back to previous …"
      ]
     },
     "metadata": {},
     "output_type": "display_data"
    }
   ],
   "source": [
    "_, ax = plt.subplots(figsize=(24, 3))\n",
    "plot_time_series(cx_spg.time.values, cx_theta.values, ax=ax, title=\"Cortical Theta\", ylabel=\"Power\")\n",
    "#plot_hypnogram_overlay(hypno, ax=ax)"
   ]
  },
  {
   "cell_type": "code",
   "execution_count": 39,
   "metadata": {
    "execution": {
     "iopub.execute_input": "2021-01-08T02:24:08.805438Z",
     "iopub.status.busy": "2021-01-08T02:24:08.805306Z",
     "iopub.status.idle": "2021-01-08T02:24:08.867648Z",
     "shell.execute_reply": "2021-01-08T02:24:08.867136Z",
     "shell.execute_reply.started": "2021-01-08T02:24:08.805422Z"
    }
   },
   "outputs": [
    {
     "data": {
      "application/vnd.jupyter.widget-view+json": {
       "model_id": "a8ee12ad47f4418a81c59dfc0d0ed22a",
       "version_major": 2,
       "version_minor": 0
      },
      "text/plain": [
       "Canvas(toolbar=Toolbar(toolitems=[('Home', 'Reset original view', 'home', 'home'), ('Back', 'Back to previous …"
      ]
     },
     "metadata": {},
     "output_type": "display_data"
    }
   ],
   "source": [
    "_, ax = plt.subplots(figsize=(24, 3))\n",
    "plot_time_series(cx_spg.time.values, cx_theta.values / cx_delta.values, title=\"Cortical theta/delta ratio\", ylabel=\"Ratio\", ax=ax)\n",
    "#plot_hypnogram_overlay(hypno, ax=ax)"
   ]
  },
  {
   "cell_type": "markdown",
   "metadata": {},
   "source": [
    "## Theta"
   ]
  },
  {
   "cell_type": "code",
   "execution_count": 106,
   "metadata": {
    "execution": {
     "iopub.execute_input": "2021-01-08T18:11:11.114530Z",
     "iopub.status.busy": "2021-01-08T18:11:11.114377Z",
     "iopub.status.idle": "2021-01-08T18:13:15.734667Z",
     "shell.execute_reply": "2021-01-08T18:13:15.733874Z",
     "shell.execute_reply.started": "2021-01-08T18:11:11.114513Z"
    }
   },
   "outputs": [
    {
     "name": "stdout",
     "output_type": "stream",
     "text": [
      "nChan: 385, nFileSamp: 18000001\n"
     ]
    }
   ],
   "source": [
    "sr_chans = channel_groups.stratum_radiatum_140um_to_200um[SUBJECT]\n",
    "sr_sig = load_timeseries(bin_path, sr_chans, start_time=START_TIME, end_time=END_TIME, xarray=True)"
   ]
  },
  {
   "cell_type": "code",
   "execution_count": 107,
   "metadata": {
    "execution": {
     "iopub.execute_input": "2021-01-08T18:13:15.735896Z",
     "iopub.status.busy": "2021-01-08T18:13:15.735722Z",
     "iopub.status.idle": "2021-01-08T18:13:19.074964Z",
     "shell.execute_reply": "2021-01-08T18:13:19.074307Z",
     "shell.execute_reply.started": "2021-01-08T18:13:15.735876Z"
    }
   },
   "outputs": [],
   "source": [
    "sr_spg = get_spectrogram(sr_sig)"
   ]
  },
  {
   "cell_type": "code",
   "execution_count": 108,
   "metadata": {
    "execution": {
     "iopub.execute_input": "2021-01-08T18:13:19.076014Z",
     "iopub.status.busy": "2021-01-08T18:13:19.075852Z",
     "iopub.status.idle": "2021-01-08T18:13:19.095895Z",
     "shell.execute_reply": "2021-01-08T18:13:19.095432Z",
     "shell.execute_reply.started": "2021-01-08T18:13:19.075995Z"
    }
   },
   "outputs": [],
   "source": [
    "sr_theta = _get_bandpower(sr_spg, THETA_RANGE, sr_chans)\n",
    "sr_delta = _get_bandpower(sr_spg, DELTA_RANGE, sr_chans)"
   ]
  },
  {
   "cell_type": "markdown",
   "metadata": {},
   "source": [
    "### Plot"
   ]
  },
  {
   "cell_type": "code",
   "execution_count": 43,
   "metadata": {
    "execution": {
     "iopub.execute_input": "2021-01-08T02:26:19.293683Z",
     "iopub.status.busy": "2021-01-08T02:26:19.293522Z",
     "iopub.status.idle": "2021-01-08T02:26:20.376744Z",
     "shell.execute_reply": "2021-01-08T02:26:20.375998Z",
     "shell.execute_reply.started": "2021-01-08T02:26:19.293663Z"
    }
   },
   "outputs": [
    {
     "data": {
      "application/vnd.jupyter.widget-view+json": {
       "model_id": "758871ca2d784ee49ae363d2404638f8",
       "version_major": 2,
       "version_minor": 0
      },
      "text/plain": [
       "Canvas(toolbar=Toolbar(toolitems=[('Home', 'Reset original view', 'home', 'home'), ('Back', 'Back to previous …"
      ]
     },
     "metadata": {},
     "output_type": "display_data"
    }
   ],
   "source": [
    "plot_spectrogram(sr_spg.frequency, sr_spg.time, sr_spg, yscale='log')"
   ]
  },
  {
   "cell_type": "code",
   "execution_count": 44,
   "metadata": {
    "execution": {
     "iopub.execute_input": "2021-01-08T02:26:20.377992Z",
     "iopub.status.busy": "2021-01-08T02:26:20.377818Z",
     "iopub.status.idle": "2021-01-08T02:26:20.468660Z",
     "shell.execute_reply": "2021-01-08T02:26:20.468134Z",
     "shell.execute_reply.started": "2021-01-08T02:26:20.377970Z"
    }
   },
   "outputs": [
    {
     "data": {
      "application/vnd.jupyter.widget-view+json": {
       "model_id": "fd5d5e41365c42458540b83c20874f31",
       "version_major": 2,
       "version_minor": 0
      },
      "text/plain": [
       "Canvas(toolbar=Toolbar(toolitems=[('Home', 'Reset original view', 'home', 'home'), ('Back', 'Back to previous …"
      ]
     },
     "metadata": {},
     "output_type": "display_data"
    }
   ],
   "source": [
    "_, ax = plt.subplots(figsize=(20, 3))\n",
    "plot_time_series(sr_spg.time.values, sr_delta.values, title=\"SR Delta\", ylabel=\"Power\", ax=ax)\n",
    "#plot_hypnogram_overlay(hypno, ax=ax)"
   ]
  },
  {
   "cell_type": "code",
   "execution_count": 45,
   "metadata": {
    "execution": {
     "iopub.execute_input": "2021-01-08T02:26:20.469964Z",
     "iopub.status.busy": "2021-01-08T02:26:20.469616Z",
     "iopub.status.idle": "2021-01-08T02:26:20.635752Z",
     "shell.execute_reply": "2021-01-08T02:26:20.635176Z",
     "shell.execute_reply.started": "2021-01-08T02:26:20.469934Z"
    }
   },
   "outputs": [
    {
     "data": {
      "application/vnd.jupyter.widget-view+json": {
       "model_id": "bd2de522c04a4439b0562cefca34f048",
       "version_major": 2,
       "version_minor": 0
      },
      "text/plain": [
       "Canvas(toolbar=Toolbar(toolitems=[('Home', 'Reset original view', 'home', 'home'), ('Back', 'Back to previous …"
      ]
     },
     "metadata": {},
     "output_type": "display_data"
    }
   ],
   "source": [
    "_, ax = plt.subplots(figsize=(20, 3))\n",
    "plot_time_series(sr_spg.time.values, sr_theta.values, title=\"SR Theta\", ylabel=\"Power\", ax=ax)\n",
    "#plot_hypnogram_overlay(hypno, ax=ax)"
   ]
  },
  {
   "cell_type": "code",
   "execution_count": 46,
   "metadata": {
    "execution": {
     "iopub.execute_input": "2021-01-08T02:26:20.636863Z",
     "iopub.status.busy": "2021-01-08T02:26:20.636651Z",
     "iopub.status.idle": "2021-01-08T02:26:20.740903Z",
     "shell.execute_reply": "2021-01-08T02:26:20.740431Z",
     "shell.execute_reply.started": "2021-01-08T02:26:20.636836Z"
    }
   },
   "outputs": [
    {
     "data": {
      "application/vnd.jupyter.widget-view+json": {
       "model_id": "af2009fdc533433bb5e00c6cb04fcb0d",
       "version_major": 2,
       "version_minor": 0
      },
      "text/plain": [
       "Canvas(toolbar=Toolbar(toolitems=[('Home', 'Reset original view', 'home', 'home'), ('Back', 'Back to previous …"
      ]
     },
     "metadata": {},
     "output_type": "display_data"
    }
   ],
   "source": [
    "_, ax = plt.subplots(figsize=(20, 3))\n",
    "plot_time_series(sr_spg.time.values, sr_theta.values / sr_delta.values, title=\"SR theta/delta ratio\", ylabel=\"Ratio\", ax=ax)\n",
    "#plot_hypnogram_overlay(hypno, ax=ax)"
   ]
  },
  {
   "cell_type": "code",
   "execution_count": 47,
   "metadata": {
    "execution": {
     "iopub.execute_input": "2021-01-08T02:26:20.741642Z",
     "iopub.status.busy": "2021-01-08T02:26:20.741510Z",
     "iopub.status.idle": "2021-01-08T02:26:20.814366Z",
     "shell.execute_reply": "2021-01-08T02:26:20.813823Z",
     "shell.execute_reply.started": "2021-01-08T02:26:20.741626Z"
    }
   },
   "outputs": [
    {
     "data": {
      "application/vnd.jupyter.widget-view+json": {
       "model_id": "b3012422f585413cb68cfb0447fc60f1",
       "version_major": 2,
       "version_minor": 0
      },
      "text/plain": [
       "Canvas(toolbar=Toolbar(toolitems=[('Home', 'Reset original view', 'home', 'home'), ('Back', 'Back to previous …"
      ]
     },
     "metadata": {},
     "output_type": "display_data"
    }
   ],
   "source": [
    "_, ax = plt.subplots(figsize=(20, 3))\n",
    "plot_time_series(sr_spg.time.values, np.log10(sr_theta.values) / np.log10(sr_delta.values), title=\"SR log(theta)/log(delta) ratio\", ylabel=\"Ratio\", ax=ax)\n",
    "#plot_hypnogram_overlay(hypno, ax=ax)"
   ]
  },
  {
   "cell_type": "code",
   "execution_count": 48,
   "metadata": {
    "execution": {
     "iopub.execute_input": "2021-01-08T02:26:20.815124Z",
     "iopub.status.busy": "2021-01-08T02:26:20.814992Z",
     "iopub.status.idle": "2021-01-08T02:26:20.890092Z",
     "shell.execute_reply": "2021-01-08T02:26:20.889565Z",
     "shell.execute_reply.started": "2021-01-08T02:26:20.815108Z"
    }
   },
   "outputs": [
    {
     "name": "stderr",
     "output_type": "stream",
     "text": [
      "/home/gfindlay/miniconda3/envs/ecephys/lib/python3.7/site-packages/ipykernel_launcher.py:1: RuntimeWarning: More than 20 figures have been opened. Figures created through the pyplot interface (`matplotlib.pyplot.figure`) are retained until explicitly closed and may consume too much memory. (To control this warning, see the rcParam `figure.max_open_warning`).\n",
      "  \"\"\"Entry point for launching an IPython kernel.\n"
     ]
    },
    {
     "data": {
      "application/vnd.jupyter.widget-view+json": {
       "model_id": "73bbc2f19f8f44c1a534b38e56739623",
       "version_major": 2,
       "version_minor": 0
      },
      "text/plain": [
       "Canvas(toolbar=Toolbar(toolitems=[('Home', 'Reset original view', 'home', 'home'), ('Back', 'Back to previous …"
      ]
     },
     "metadata": {},
     "output_type": "display_data"
    }
   ],
   "source": [
    "_, ax = plt.subplots(figsize=(24, 3))\n",
    "plot_time_series(sr_spg.time.values, gaussian_smooth(sr_theta.values / sr_delta.values, smoothing_sigma, 1 / np.diff(sr_spg.time.values).mean()), title=\"Smoothed SR theta/delta ratio\", ylabel=\"Ratio\", ax=ax)\n",
    "#plot_hypnogram_overlay(hypno, ax=ax)"
   ]
  },
  {
   "cell_type": "markdown",
   "metadata": {},
   "source": [
    "## Save"
   ]
  },
  {
   "cell_type": "code",
   "execution_count": 109,
   "metadata": {
    "execution": {
     "iopub.execute_input": "2021-01-08T18:13:19.097304Z",
     "iopub.status.busy": "2021-01-08T18:13:19.097161Z",
     "iopub.status.idle": "2021-01-08T18:13:19.113977Z",
     "shell.execute_reply": "2021-01-08T18:13:19.113593Z",
     "shell.execute_reply.started": "2021-01-08T18:13:19.097287Z"
    }
   },
   "outputs": [],
   "source": [
    "bandpower = xr.Dataset({'mpta_delta': cx_delta, 'mpta_theta': cx_theta, 'sr_delta': sr_delta, 'sr_theta': sr_theta})"
   ]
  },
  {
   "cell_type": "code",
   "execution_count": 110,
   "metadata": {
    "execution": {
     "iopub.execute_input": "2021-01-08T18:13:19.114845Z",
     "iopub.status.busy": "2021-01-08T18:13:19.114717Z",
     "iopub.status.idle": "2021-01-08T18:13:19.146696Z",
     "shell.execute_reply": "2021-01-08T18:13:19.146127Z",
     "shell.execute_reply.started": "2021-01-08T18:13:19.114830Z"
    }
   },
   "outputs": [],
   "source": [
    "bandpower.to_netcdf(paths.get_datapath(subject=SUBJECT, condition=CONDITION, data=\"lfp_bandpower.nc\"))"
   ]
  },
  {
   "cell_type": "code",
   "execution_count": 111,
   "metadata": {
    "execution": {
     "iopub.execute_input": "2021-01-08T18:13:19.147632Z",
     "iopub.status.busy": "2021-01-08T18:13:19.147464Z",
     "iopub.status.idle": "2021-01-08T18:13:19.163670Z",
     "shell.execute_reply": "2021-01-08T18:13:19.163254Z",
     "shell.execute_reply.started": "2021-01-08T18:13:19.147611Z"
    }
   },
   "outputs": [],
   "source": [
    "bandpower.close()"
   ]
  },
  {
   "cell_type": "code",
   "execution_count": null,
   "metadata": {},
   "outputs": [],
   "source": []
  }
 ],
 "metadata": {
  "kernelspec": {
   "display_name": "Python 3",
   "language": "python",
   "name": "python3"
  },
  "language_info": {
   "codemirror_mode": {
    "name": "ipython",
    "version": 3
   },
   "file_extension": ".py",
   "mimetype": "text/x-python",
   "name": "python",
   "nbconvert_exporter": "python",
   "pygments_lexer": "ipython3",
   "version": "3.7.9"
  }
 },
 "nbformat": 4,
 "nbformat_minor": 4
}
