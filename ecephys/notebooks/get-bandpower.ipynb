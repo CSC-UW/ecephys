{
 "cells": [
  {
   "cell_type": "code",
   "execution_count": 1,
   "metadata": {
    "execution": {
     "iopub.execute_input": "2021-01-04T20:53:08.678390Z",
     "iopub.status.busy": "2021-01-04T20:53:08.677863Z",
     "iopub.status.idle": "2021-01-04T20:53:08.692343Z",
     "shell.execute_reply": "2021-01-04T20:53:08.691774Z",
     "shell.execute_reply.started": "2021-01-04T20:53:08.678243Z"
    }
   },
   "outputs": [],
   "source": [
    "%load_ext autoreload\n",
    "%autoreload 2"
   ]
  },
  {
   "cell_type": "code",
   "execution_count": 2,
   "metadata": {
    "execution": {
     "iopub.execute_input": "2021-01-04T20:53:09.387018Z",
     "iopub.status.busy": "2021-01-04T20:53:09.386588Z",
     "iopub.status.idle": "2021-01-04T20:53:09.699746Z",
     "shell.execute_reply": "2021-01-04T20:53:09.699367Z",
     "shell.execute_reply.started": "2021-01-04T20:53:09.386962Z"
    }
   },
   "outputs": [],
   "source": [
    "%matplotlib widget"
   ]
  },
  {
   "cell_type": "code",
   "execution_count": 3,
   "metadata": {
    "execution": {
     "iopub.execute_input": "2021-01-04T20:53:09.817833Z",
     "iopub.status.busy": "2021-01-04T20:53:09.817693Z",
     "iopub.status.idle": "2021-01-04T20:53:10.251179Z",
     "shell.execute_reply": "2021-01-04T20:53:10.250535Z",
     "shell.execute_reply.started": "2021-01-04T20:53:09.817815Z"
    }
   },
   "outputs": [],
   "source": [
    "import numpy as np\n",
    "import pandas as pd\n",
    "import matplotlib.pyplot as plt\n",
    "import time\n",
    "import xarray as xr"
   ]
  },
  {
   "cell_type": "code",
   "execution_count": 4,
   "metadata": {
    "execution": {
     "iopub.execute_input": "2021-01-04T20:53:10.291043Z",
     "iopub.status.busy": "2021-01-04T20:53:10.290914Z",
     "iopub.status.idle": "2021-01-04T20:53:10.434674Z",
     "shell.execute_reply": "2021-01-04T20:53:10.434064Z",
     "shell.execute_reply.started": "2021-01-04T20:53:10.291027Z"
    }
   },
   "outputs": [],
   "source": [
    "from neurodsp.plts.time_series import plot_time_series\n",
    "from ripple_detection.core import gaussian_smooth\n",
    "smoothing_sigma = 2 # seconds"
   ]
  },
  {
   "cell_type": "code",
   "execution_count": 5,
   "metadata": {
    "execution": {
     "iopub.execute_input": "2021-01-04T20:53:10.529836Z",
     "iopub.status.busy": "2021-01-04T20:53:10.529567Z",
     "iopub.status.idle": "2021-01-04T20:53:10.609774Z",
     "shell.execute_reply": "2021-01-04T20:53:10.608896Z",
     "shell.execute_reply.started": "2021-01-04T20:53:10.529803Z"
    }
   },
   "outputs": [],
   "source": [
    "from ecephys.data import channel_groups, paths\n",
    "from ecephys.sglx_utils import load_timeseries\n",
    "from ecephys.signal.timefrequency import parallel_spectrogram_welch\n",
    "from ecephys.plot import plot_spectrogram, plot_hypnogram_overlay\n",
    "from ecephys.scoring import load_visbrain_hypnogram"
   ]
  },
  {
   "cell_type": "code",
   "execution_count": 6,
   "metadata": {
    "execution": {
     "iopub.execute_input": "2021-01-04T20:53:10.834009Z",
     "iopub.status.busy": "2021-01-04T20:53:10.833818Z",
     "iopub.status.idle": "2021-01-04T20:53:10.854995Z",
     "shell.execute_reply": "2021-01-04T20:53:10.854646Z",
     "shell.execute_reply.started": "2021-01-04T20:53:10.833986Z"
    }
   },
   "outputs": [],
   "source": [
    "SUBJECT=\"Doppio\"\n",
    "CONDITION=\"REC-6-4\"\n",
    "START_TIME = 0\n",
    "END_TIME = None\n",
    "bin_path = paths.get_datapath(subject=SUBJECT, condition=CONDITION, data=\"lf.bin\")"
   ]
  },
  {
   "cell_type": "code",
   "execution_count": 7,
   "metadata": {
    "execution": {
     "iopub.execute_input": "2021-01-04T20:53:11.146441Z",
     "iopub.status.busy": "2021-01-04T20:53:11.146274Z",
     "iopub.status.idle": "2021-01-04T20:53:11.163660Z",
     "shell.execute_reply": "2021-01-04T20:53:11.163162Z",
     "shell.execute_reply.started": "2021-01-04T20:53:11.146420Z"
    }
   },
   "outputs": [],
   "source": [
    "delta_range = (0.5, 4)\n",
    "theta_range = (5, 10)"
   ]
  },
  {
   "cell_type": "code",
   "execution_count": 8,
   "metadata": {
    "execution": {
     "iopub.execute_input": "2021-01-04T20:53:11.562287Z",
     "iopub.status.busy": "2021-01-04T20:53:11.562058Z",
     "iopub.status.idle": "2021-01-04T20:53:11.582468Z",
     "shell.execute_reply": "2021-01-04T20:53:11.581716Z",
     "shell.execute_reply.started": "2021-01-04T20:53:11.562258Z"
    }
   },
   "outputs": [],
   "source": [
    "def get_spectrogram(sig):\n",
    "    freqs, spg_times, spg = parallel_spectrogram_welch(sig.values, sig.fs)\n",
    "    spg_times = spg_times + START_TIME\n",
    "    spg = xr.DataArray(spg, dims=(\"frequency\", \"time\", \"channel\"), coords={\"frequency\": freqs, \"time\": spg_times, \"channel\": sig.channel.values})\n",
    "    return spg.median(dim=\"channel\")\n",
    "    \n",
    "def _get_bandpower(spg, f_range, chans):\n",
    "    bandpower = spg.sel(frequency=slice(*f_range)).sum(dim=\"frequency\")\n",
    "    bandpower.attrs['long_name'] = \"{} Hz PSD\".format(f_range)\n",
    "    bandpower.attrs['units'] = 'uV^2/Hz'\n",
    "    bandpower.attrs['chans'] = chans\n",
    "    bandpower.attrs['freq_range'] = f_range\n",
    "    \n",
    "    return bandpower"
   ]
  },
  {
   "cell_type": "markdown",
   "metadata": {},
   "source": [
    "## Cortex"
   ]
  },
  {
   "cell_type": "code",
   "execution_count": 9,
   "metadata": {
    "execution": {
     "iopub.execute_input": "2021-01-04T20:53:12.146726Z",
     "iopub.status.busy": "2021-01-04T20:53:12.146293Z",
     "iopub.status.idle": "2021-01-04T20:55:14.447029Z",
     "shell.execute_reply": "2021-01-04T20:55:14.445902Z",
     "shell.execute_reply.started": "2021-01-04T20:53:12.146671Z"
    }
   },
   "outputs": [
    {
     "name": "stdout",
     "output_type": "stream",
     "text": [
      "nChan: 385, nFileSamp: 18000019\n"
     ]
    }
   ],
   "source": [
    "cx_chans = channel_groups.superficial_ctx[SUBJECT]\n",
    "cx_sig = load_timeseries(bin_path, cx_chans, start_time=START_TIME, end_time=END_TIME, xarray=True)"
   ]
  },
  {
   "cell_type": "code",
   "execution_count": 10,
   "metadata": {
    "execution": {
     "iopub.execute_input": "2021-01-04T20:55:14.469824Z",
     "iopub.status.busy": "2021-01-04T20:55:14.469695Z",
     "iopub.status.idle": "2021-01-04T20:55:18.260065Z",
     "shell.execute_reply": "2021-01-04T20:55:18.259308Z",
     "shell.execute_reply.started": "2021-01-04T20:55:14.469808Z"
    }
   },
   "outputs": [],
   "source": [
    "cx_spg = get_spectrogram(cx_sig)"
   ]
  },
  {
   "cell_type": "code",
   "execution_count": 11,
   "metadata": {
    "execution": {
     "iopub.execute_input": "2021-01-04T20:55:18.261323Z",
     "iopub.status.busy": "2021-01-04T20:55:18.261170Z",
     "iopub.status.idle": "2021-01-04T20:55:18.278372Z",
     "shell.execute_reply": "2021-01-04T20:55:18.277701Z",
     "shell.execute_reply.started": "2021-01-04T20:55:18.261303Z"
    }
   },
   "outputs": [],
   "source": [
    "cx_theta = _get_bandpower(cx_spg, theta_range, cx_chans)\n",
    "cx_delta = _get_bandpower(cx_spg, delta_range, cx_chans)"
   ]
  },
  {
   "cell_type": "markdown",
   "metadata": {},
   "source": [
    "### Plot"
   ]
  },
  {
   "cell_type": "code",
   "execution_count": 12,
   "metadata": {
    "execution": {
     "iopub.execute_input": "2021-01-04T20:55:18.279119Z",
     "iopub.status.busy": "2021-01-04T20:55:18.278997Z",
     "iopub.status.idle": "2021-01-04T20:55:19.108874Z",
     "shell.execute_reply": "2021-01-04T20:55:19.108060Z",
     "shell.execute_reply.started": "2021-01-04T20:55:18.279103Z"
    }
   },
   "outputs": [
    {
     "data": {
      "application/vnd.jupyter.widget-view+json": {
       "model_id": "049e479456714746a5d2aea90097bfc1",
       "version_major": 2,
       "version_minor": 0
      },
      "text/plain": [
       "Canvas(toolbar=Toolbar(toolitems=[('Home', 'Reset original view', 'home', 'home'), ('Back', 'Back to previous …"
      ]
     },
     "metadata": {},
     "output_type": "display_data"
    }
   ],
   "source": [
    "plot_spectrogram(cx_spg.frequency, cx_spg.time, cx_spg, yscale='log')"
   ]
  },
  {
   "cell_type": "code",
   "execution_count": 13,
   "metadata": {
    "execution": {
     "iopub.execute_input": "2021-01-04T20:55:19.109822Z",
     "iopub.status.busy": "2021-01-04T20:55:19.109680Z",
     "iopub.status.idle": "2021-01-04T20:55:19.180868Z",
     "shell.execute_reply": "2021-01-04T20:55:19.180351Z",
     "shell.execute_reply.started": "2021-01-04T20:55:19.109804Z"
    }
   },
   "outputs": [
    {
     "data": {
      "application/vnd.jupyter.widget-view+json": {
       "model_id": "0b46ea165df043c98f01616cbf408893",
       "version_major": 2,
       "version_minor": 0
      },
      "text/plain": [
       "Canvas(toolbar=Toolbar(toolitems=[('Home', 'Reset original view', 'home', 'home'), ('Back', 'Back to previous …"
      ]
     },
     "metadata": {},
     "output_type": "display_data"
    }
   ],
   "source": [
    "_, ax = plt.subplots(figsize=(24, 3))\n",
    "plot_time_series(cx_spg.time.values, cx_delta.values, ax=ax, title=\"Cortical Delta\", ylabel=\"Power\")\n",
    "#plot_hypnogram_overlay(hypno, ax=ax)"
   ]
  },
  {
   "cell_type": "code",
   "execution_count": 14,
   "metadata": {
    "execution": {
     "iopub.execute_input": "2021-01-04T20:55:19.181853Z",
     "iopub.status.busy": "2021-01-04T20:55:19.181651Z",
     "iopub.status.idle": "2021-01-04T20:55:19.325625Z",
     "shell.execute_reply": "2021-01-04T20:55:19.325196Z",
     "shell.execute_reply.started": "2021-01-04T20:55:19.181825Z"
    }
   },
   "outputs": [
    {
     "data": {
      "application/vnd.jupyter.widget-view+json": {
       "model_id": "53e7c75894ad4c609aa2eb98488610a9",
       "version_major": 2,
       "version_minor": 0
      },
      "text/plain": [
       "Canvas(toolbar=Toolbar(toolitems=[('Home', 'Reset original view', 'home', 'home'), ('Back', 'Back to previous …"
      ]
     },
     "metadata": {},
     "output_type": "display_data"
    }
   ],
   "source": [
    "_, ax = plt.subplots(figsize=(24, 3))\n",
    "plot_time_series(cx_spg.time.values, cx_theta.values, ax=ax, title=\"Cortical Theta\", ylabel=\"Power\")\n",
    "#plot_hypnogram_overlay(hypno, ax=ax)"
   ]
  },
  {
   "cell_type": "code",
   "execution_count": 15,
   "metadata": {
    "execution": {
     "iopub.execute_input": "2021-01-04T20:55:19.326909Z",
     "iopub.status.busy": "2021-01-04T20:55:19.326778Z",
     "iopub.status.idle": "2021-01-04T20:55:19.387050Z",
     "shell.execute_reply": "2021-01-04T20:55:19.386470Z",
     "shell.execute_reply.started": "2021-01-04T20:55:19.326893Z"
    }
   },
   "outputs": [
    {
     "data": {
      "application/vnd.jupyter.widget-view+json": {
       "model_id": "c326ccb38dfc43538c5bf4de90ef17ca",
       "version_major": 2,
       "version_minor": 0
      },
      "text/plain": [
       "Canvas(toolbar=Toolbar(toolitems=[('Home', 'Reset original view', 'home', 'home'), ('Back', 'Back to previous …"
      ]
     },
     "metadata": {},
     "output_type": "display_data"
    }
   ],
   "source": [
    "_, ax = plt.subplots(figsize=(24, 3))\n",
    "plot_time_series(cx_spg.time.values, cx_theta.values / cx_delta.values, title=\"Cortical theta/delta ratio\", ylabel=\"Ratio\", ax=ax)\n",
    "#plot_hypnogram_overlay(hypno, ax=ax)"
   ]
  },
  {
   "cell_type": "markdown",
   "metadata": {},
   "source": [
    "## Theta"
   ]
  },
  {
   "cell_type": "code",
   "execution_count": 16,
   "metadata": {
    "execution": {
     "iopub.execute_input": "2021-01-04T20:55:19.388078Z",
     "iopub.status.busy": "2021-01-04T20:55:19.387952Z",
     "iopub.status.idle": "2021-01-04T20:57:21.349727Z",
     "shell.execute_reply": "2021-01-04T20:57:21.348931Z",
     "shell.execute_reply.started": "2021-01-04T20:55:19.388063Z"
    }
   },
   "outputs": [
    {
     "name": "stdout",
     "output_type": "stream",
     "text": [
      "nChan: 385, nFileSamp: 18000019\n"
     ]
    }
   ],
   "source": [
    "sr_chans = channel_groups.stratum_radiatum_140um_to_200um[SUBJECT]\n",
    "sr_sig = load_timeseries(bin_path, sr_chans, start_time=START_TIME, end_time=END_TIME, xarray=True)"
   ]
  },
  {
   "cell_type": "code",
   "execution_count": 17,
   "metadata": {
    "execution": {
     "iopub.execute_input": "2021-01-04T20:57:21.350802Z",
     "iopub.status.busy": "2021-01-04T20:57:21.350651Z",
     "iopub.status.idle": "2021-01-04T20:57:24.518891Z",
     "shell.execute_reply": "2021-01-04T20:57:24.518189Z",
     "shell.execute_reply.started": "2021-01-04T20:57:21.350783Z"
    }
   },
   "outputs": [],
   "source": [
    "sr_spg = get_spectrogram(sr_sig)"
   ]
  },
  {
   "cell_type": "code",
   "execution_count": 18,
   "metadata": {
    "execution": {
     "iopub.execute_input": "2021-01-04T20:57:24.519928Z",
     "iopub.status.busy": "2021-01-04T20:57:24.519772Z",
     "iopub.status.idle": "2021-01-04T20:57:24.539017Z",
     "shell.execute_reply": "2021-01-04T20:57:24.538619Z",
     "shell.execute_reply.started": "2021-01-04T20:57:24.519908Z"
    }
   },
   "outputs": [],
   "source": [
    "sr_theta = _get_bandpower(sr_spg, theta_range, sr_chans)\n",
    "sr_delta = _get_bandpower(sr_spg, delta_range, sr_chans)"
   ]
  },
  {
   "cell_type": "markdown",
   "metadata": {},
   "source": [
    "### Plot"
   ]
  },
  {
   "cell_type": "code",
   "execution_count": 19,
   "metadata": {
    "execution": {
     "iopub.execute_input": "2021-01-04T20:57:24.539708Z",
     "iopub.status.busy": "2021-01-04T20:57:24.539585Z",
     "iopub.status.idle": "2021-01-04T20:57:25.363476Z",
     "shell.execute_reply": "2021-01-04T20:57:25.362833Z",
     "shell.execute_reply.started": "2021-01-04T20:57:24.539692Z"
    }
   },
   "outputs": [
    {
     "data": {
      "application/vnd.jupyter.widget-view+json": {
       "model_id": "d12bfe88b261436786b98f920229e4fa",
       "version_major": 2,
       "version_minor": 0
      },
      "text/plain": [
       "Canvas(toolbar=Toolbar(toolitems=[('Home', 'Reset original view', 'home', 'home'), ('Back', 'Back to previous …"
      ]
     },
     "metadata": {},
     "output_type": "display_data"
    }
   ],
   "source": [
    "plot_spectrogram(sr_spg.frequency, sr_spg.time, sr_spg, yscale='log')"
   ]
  },
  {
   "cell_type": "code",
   "execution_count": 20,
   "metadata": {
    "execution": {
     "iopub.execute_input": "2021-01-04T20:57:25.364321Z",
     "iopub.status.busy": "2021-01-04T20:57:25.364184Z",
     "iopub.status.idle": "2021-01-04T20:57:25.432204Z",
     "shell.execute_reply": "2021-01-04T20:57:25.431699Z",
     "shell.execute_reply.started": "2021-01-04T20:57:25.364304Z"
    }
   },
   "outputs": [
    {
     "data": {
      "application/vnd.jupyter.widget-view+json": {
       "model_id": "074162bbc4da4d4291d62647edc95be4",
       "version_major": 2,
       "version_minor": 0
      },
      "text/plain": [
       "Canvas(toolbar=Toolbar(toolitems=[('Home', 'Reset original view', 'home', 'home'), ('Back', 'Back to previous …"
      ]
     },
     "metadata": {},
     "output_type": "display_data"
    }
   ],
   "source": [
    "_, ax = plt.subplots(figsize=(20, 3))\n",
    "plot_time_series(sr_spg.time.values, sr_delta.values, title=\"SR Delta\", ylabel=\"Power\", ax=ax)\n",
    "#plot_hypnogram_overlay(hypno, ax=ax)"
   ]
  },
  {
   "cell_type": "code",
   "execution_count": 21,
   "metadata": {
    "execution": {
     "iopub.execute_input": "2021-01-04T20:57:25.433515Z",
     "iopub.status.busy": "2021-01-04T20:57:25.433147Z",
     "iopub.status.idle": "2021-01-04T20:57:25.548802Z",
     "shell.execute_reply": "2021-01-04T20:57:25.548284Z",
     "shell.execute_reply.started": "2021-01-04T20:57:25.433483Z"
    }
   },
   "outputs": [
    {
     "data": {
      "application/vnd.jupyter.widget-view+json": {
       "model_id": "00fd0f8bdc714c84b94ef08b190f5f16",
       "version_major": 2,
       "version_minor": 0
      },
      "text/plain": [
       "Canvas(toolbar=Toolbar(toolitems=[('Home', 'Reset original view', 'home', 'home'), ('Back', 'Back to previous …"
      ]
     },
     "metadata": {},
     "output_type": "display_data"
    }
   ],
   "source": [
    "_, ax = plt.subplots(figsize=(20, 3))\n",
    "plot_time_series(sr_spg.time.values, sr_theta.values, title=\"SR Theta\", ylabel=\"Power\", ax=ax)\n",
    "#plot_hypnogram_overlay(hypno, ax=ax)"
   ]
  },
  {
   "cell_type": "code",
   "execution_count": 22,
   "metadata": {
    "execution": {
     "iopub.execute_input": "2021-01-04T20:57:25.550052Z",
     "iopub.status.busy": "2021-01-04T20:57:25.549698Z",
     "iopub.status.idle": "2021-01-04T20:57:25.614321Z",
     "shell.execute_reply": "2021-01-04T20:57:25.613901Z",
     "shell.execute_reply.started": "2021-01-04T20:57:25.550022Z"
    }
   },
   "outputs": [
    {
     "data": {
      "application/vnd.jupyter.widget-view+json": {
       "model_id": "02a72e88d1a445a59a17b4a90ad36689",
       "version_major": 2,
       "version_minor": 0
      },
      "text/plain": [
       "Canvas(toolbar=Toolbar(toolitems=[('Home', 'Reset original view', 'home', 'home'), ('Back', 'Back to previous …"
      ]
     },
     "metadata": {},
     "output_type": "display_data"
    }
   ],
   "source": [
    "_, ax = plt.subplots(figsize=(20, 3))\n",
    "plot_time_series(sr_spg.time.values, sr_theta.values / sr_delta.values, title=\"SR theta/delta ratio\", ylabel=\"Ratio\", ax=ax)\n",
    "#plot_hypnogram_overlay(hypno, ax=ax)"
   ]
  },
  {
   "cell_type": "code",
   "execution_count": 23,
   "metadata": {
    "execution": {
     "iopub.execute_input": "2021-01-04T20:57:25.615002Z",
     "iopub.status.busy": "2021-01-04T20:57:25.614875Z",
     "iopub.status.idle": "2021-01-04T20:57:25.676584Z",
     "shell.execute_reply": "2021-01-04T20:57:25.676031Z",
     "shell.execute_reply.started": "2021-01-04T20:57:25.614986Z"
    }
   },
   "outputs": [
    {
     "data": {
      "application/vnd.jupyter.widget-view+json": {
       "model_id": "8158ee5d267344a4986b9fe26978e439",
       "version_major": 2,
       "version_minor": 0
      },
      "text/plain": [
       "Canvas(toolbar=Toolbar(toolitems=[('Home', 'Reset original view', 'home', 'home'), ('Back', 'Back to previous …"
      ]
     },
     "metadata": {},
     "output_type": "display_data"
    }
   ],
   "source": [
    "_, ax = plt.subplots(figsize=(20, 3))\n",
    "plot_time_series(sr_spg.time.values, np.log10(sr_theta.values) / np.log10(sr_delta.values), title=\"SR log(theta)/log(delta) ratio\", ylabel=\"Ratio\", ax=ax)\n",
    "#plot_hypnogram_overlay(hypno, ax=ax)"
   ]
  },
  {
   "cell_type": "code",
   "execution_count": 24,
   "metadata": {
    "execution": {
     "iopub.execute_input": "2021-01-04T20:57:25.677335Z",
     "iopub.status.busy": "2021-01-04T20:57:25.677207Z",
     "iopub.status.idle": "2021-01-04T20:57:25.740488Z",
     "shell.execute_reply": "2021-01-04T20:57:25.739901Z",
     "shell.execute_reply.started": "2021-01-04T20:57:25.677319Z"
    }
   },
   "outputs": [
    {
     "data": {
      "application/vnd.jupyter.widget-view+json": {
       "model_id": "27e25b693d8c49a59a6ed255c9fec96a",
       "version_major": 2,
       "version_minor": 0
      },
      "text/plain": [
       "Canvas(toolbar=Toolbar(toolitems=[('Home', 'Reset original view', 'home', 'home'), ('Back', 'Back to previous …"
      ]
     },
     "metadata": {},
     "output_type": "display_data"
    }
   ],
   "source": [
    "_, ax = plt.subplots(figsize=(24, 3))\n",
    "plot_time_series(sr_spg.time.values, gaussian_smooth(sr_theta.values / sr_delta.values, smoothing_sigma, 1 / np.diff(sr_spg.time.values).mean()), title=\"Smoothed SR theta/delta ratio\", ylabel=\"Ratio\", ax=ax)\n",
    "#plot_hypnogram_overlay(hypno, ax=ax)"
   ]
  },
  {
   "cell_type": "markdown",
   "metadata": {},
   "source": [
    "## Save"
   ]
  },
  {
   "cell_type": "code",
   "execution_count": 25,
   "metadata": {
    "execution": {
     "iopub.execute_input": "2021-01-04T20:57:25.741250Z",
     "iopub.status.busy": "2021-01-04T20:57:25.741122Z",
     "iopub.status.idle": "2021-01-04T20:57:25.754721Z",
     "shell.execute_reply": "2021-01-04T20:57:25.754165Z",
     "shell.execute_reply.started": "2021-01-04T20:57:25.741234Z"
    }
   },
   "outputs": [],
   "source": [
    "bandpower = xr.Dataset({'mpta_delta': cx_delta, 'mpta_theta': cx_theta, 'sr_delta': sr_delta, 'sr_theta': sr_theta})"
   ]
  },
  {
   "cell_type": "code",
   "execution_count": 26,
   "metadata": {
    "execution": {
     "iopub.execute_input": "2021-01-04T20:57:25.755482Z",
     "iopub.status.busy": "2021-01-04T20:57:25.755357Z",
     "iopub.status.idle": "2021-01-04T20:57:25.793962Z",
     "shell.execute_reply": "2021-01-04T20:57:25.793482Z",
     "shell.execute_reply.started": "2021-01-04T20:57:25.755466Z"
    }
   },
   "outputs": [],
   "source": [
    "bandpower.to_netcdf(paths.get_datapath(subject=SUBJECT, condition=CONDITION, data=\"lfp_bandpower.nc\"))"
   ]
  },
  {
   "cell_type": "code",
   "execution_count": 27,
   "metadata": {
    "execution": {
     "iopub.execute_input": "2021-01-04T21:03:59.388697Z",
     "iopub.status.busy": "2021-01-04T21:03:59.388258Z",
     "iopub.status.idle": "2021-01-04T21:03:59.409079Z",
     "shell.execute_reply": "2021-01-04T21:03:59.408431Z",
     "shell.execute_reply.started": "2021-01-04T21:03:59.388640Z"
    }
   },
   "outputs": [],
   "source": [
    "bandpower.close()"
   ]
  },
  {
   "cell_type": "code",
   "execution_count": null,
   "metadata": {},
   "outputs": [],
   "source": []
  }
 ],
 "metadata": {
  "kernelspec": {
   "display_name": "Python 3",
   "language": "python",
   "name": "python3"
  },
  "language_info": {
   "codemirror_mode": {
    "name": "ipython",
    "version": 3
   },
   "file_extension": ".py",
   "mimetype": "text/x-python",
   "name": "python",
   "nbconvert_exporter": "python",
   "pygments_lexer": "ipython3",
   "version": "3.7.9"
  }
 },
 "nbformat": 4,
 "nbformat_minor": 4
}
