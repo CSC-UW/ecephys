{
 "cells": [
  {
   "cell_type": "code",
   "execution_count": 1,
   "metadata": {
    "execution": {
     "iopub.execute_input": "2021-01-08T02:07:12.178583Z",
     "iopub.status.busy": "2021-01-08T02:07:12.178084Z",
     "iopub.status.idle": "2021-01-08T02:07:12.195193Z",
     "shell.execute_reply": "2021-01-08T02:07:12.194559Z",
     "shell.execute_reply.started": "2021-01-08T02:07:12.178526Z"
    }
   },
   "outputs": [],
   "source": [
    "%load_ext autoreload\n",
    "%autoreload 2"
   ]
  },
  {
   "cell_type": "code",
   "execution_count": 2,
   "metadata": {
    "execution": {
     "iopub.execute_input": "2021-01-08T02:07:13.044329Z",
     "iopub.status.busy": "2021-01-08T02:07:13.043937Z",
     "iopub.status.idle": "2021-01-08T02:07:13.202092Z",
     "shell.execute_reply": "2021-01-08T02:07:13.201415Z",
     "shell.execute_reply.started": "2021-01-08T02:07:13.044283Z"
    }
   },
   "outputs": [],
   "source": [
    "%matplotlib widget"
   ]
  },
  {
   "cell_type": "code",
   "execution_count": 3,
   "metadata": {
    "execution": {
     "iopub.execute_input": "2021-01-08T02:07:13.804473Z",
     "iopub.status.busy": "2021-01-08T02:07:13.804122Z",
     "iopub.status.idle": "2021-01-08T02:07:14.091933Z",
     "shell.execute_reply": "2021-01-08T02:07:14.091241Z",
     "shell.execute_reply.started": "2021-01-08T02:07:13.804432Z"
    }
   },
   "outputs": [],
   "source": [
    "import numpy as np\n",
    "import pandas as pd\n",
    "import matplotlib.pyplot as plt\n",
    "import time\n",
    "import xarray as xr"
   ]
  },
  {
   "cell_type": "code",
   "execution_count": 4,
   "metadata": {
    "execution": {
     "iopub.execute_input": "2021-01-08T02:07:14.883666Z",
     "iopub.status.busy": "2021-01-08T02:07:14.883414Z",
     "iopub.status.idle": "2021-01-08T02:07:15.041810Z",
     "shell.execute_reply": "2021-01-08T02:07:15.041105Z",
     "shell.execute_reply.started": "2021-01-08T02:07:14.883638Z"
    }
   },
   "outputs": [],
   "source": [
    "from neurodsp.plts.time_series import plot_time_series\n",
    "from ripple_detection.core import gaussian_smooth\n",
    "smoothing_sigma = 2 # seconds"
   ]
  },
  {
   "cell_type": "code",
   "execution_count": 5,
   "metadata": {
    "execution": {
     "iopub.execute_input": "2021-01-08T02:07:15.908679Z",
     "iopub.status.busy": "2021-01-08T02:07:15.908192Z",
     "iopub.status.idle": "2021-01-08T02:07:16.008793Z",
     "shell.execute_reply": "2021-01-08T02:07:16.008121Z",
     "shell.execute_reply.started": "2021-01-08T02:07:15.908621Z"
    }
   },
   "outputs": [],
   "source": [
    "from ecephys.data import channel_groups, paths\n",
    "from ecephys.sglx_utils import load_timeseries\n",
    "from ecephys.signal.timefrequency import parallel_spectrogram_welch\n",
    "from ecephys.plot import plot_spectrogram, plot_hypnogram_overlay\n",
    "from ecephys.scoring import load_visbrain_hypnogram"
   ]
  },
  {
   "cell_type": "code",
   "execution_count": 100,
   "metadata": {
    "execution": {
     "iopub.execute_input": "2021-01-08T18:08:40.573285Z",
     "iopub.status.busy": "2021-01-08T18:08:40.572948Z",
     "iopub.status.idle": "2021-01-08T18:08:40.605463Z",
     "shell.execute_reply": "2021-01-08T18:08:40.604674Z",
     "shell.execute_reply.started": "2021-01-08T18:08:40.573243Z"
    }
   },
   "outputs": [],
   "source": [
    "SUBJECT=\"Segundo\"\n",
    "CONDITION=\"REC-2-0\"\n",
    "START_TIME = 0\n",
    "END_TIME = None\n",
    "bin_path = paths.get_datapath(subject=SUBJECT, condition=CONDITION, data=\"lf.bin\")"
   ]
  },
  {
   "cell_type": "code",
   "execution_count": 101,
   "metadata": {
    "execution": {
     "iopub.execute_input": "2021-01-08T18:08:41.316223Z",
     "iopub.status.busy": "2021-01-08T18:08:41.315756Z",
     "iopub.status.idle": "2021-01-08T18:08:41.340773Z",
     "shell.execute_reply": "2021-01-08T18:08:41.340171Z",
     "shell.execute_reply.started": "2021-01-08T18:08:41.316167Z"
    }
   },
   "outputs": [],
   "source": [
    "delta_range = (0.5, 4)\n",
    "theta_range = (5, 10)"
   ]
  },
  {
   "cell_type": "code",
   "execution_count": 102,
   "metadata": {
    "execution": {
     "iopub.execute_input": "2021-01-08T18:08:42.475947Z",
     "iopub.status.busy": "2021-01-08T18:08:42.475483Z",
     "iopub.status.idle": "2021-01-08T18:08:42.506485Z",
     "shell.execute_reply": "2021-01-08T18:08:42.505854Z",
     "shell.execute_reply.started": "2021-01-08T18:08:42.475891Z"
    }
   },
   "outputs": [],
   "source": [
    "def get_spectrogram(sig):\n",
    "    freqs, spg_times, spg = parallel_spectrogram_welch(sig.values, sig.fs)\n",
    "    spg_times = spg_times + START_TIME\n",
    "    spg = xr.DataArray(spg, dims=(\"frequency\", \"time\", \"channel\"), coords={\"frequency\": freqs, \"time\": spg_times, \"channel\": sig.channel.values})\n",
    "    return spg.median(dim=\"channel\")\n",
    "    \n",
    "def _get_bandpower(spg, f_range, chans):\n",
    "    bandpower = spg.sel(frequency=slice(*f_range)).sum(dim=\"frequency\")\n",
    "    bandpower.attrs['long_name'] = \"{} Hz PSD\".format(f_range)\n",
    "    bandpower.attrs['units'] = 'uV^2/Hz'\n",
    "    bandpower.attrs['chans'] = chans\n",
    "    bandpower.attrs['freq_range'] = f_range\n",
    "    \n",
    "    return bandpower"
   ]
  },
  {
   "cell_type": "markdown",
   "metadata": {},
   "source": [
    "## Cortex"
   ]
  },
  {
   "cell_type": "code",
   "execution_count": 103,
   "metadata": {
    "execution": {
     "iopub.execute_input": "2021-01-08T18:08:43.437387Z",
     "iopub.status.busy": "2021-01-08T18:08:43.437017Z",
     "iopub.status.idle": "2021-01-08T18:11:06.802956Z",
     "shell.execute_reply": "2021-01-08T18:11:06.802382Z",
     "shell.execute_reply.started": "2021-01-08T18:08:43.437345Z"
    }
   },
   "outputs": [
    {
     "name": "stdout",
     "output_type": "stream",
     "text": [
      "nChan: 385, nFileSamp: 18000001\n"
     ]
    }
   ],
   "source": [
    "cx_chans = channel_groups.superficial_ctx[SUBJECT]\n",
    "cx_sig = load_timeseries(bin_path, cx_chans, start_time=START_TIME, end_time=END_TIME, xarray=True)"
   ]
  },
  {
   "cell_type": "code",
   "execution_count": 104,
   "metadata": {
    "execution": {
     "iopub.execute_input": "2021-01-08T18:11:06.837571Z",
     "iopub.status.busy": "2021-01-08T18:11:06.837415Z",
     "iopub.status.idle": "2021-01-08T18:11:11.092521Z",
     "shell.execute_reply": "2021-01-08T18:11:11.092001Z",
     "shell.execute_reply.started": "2021-01-08T18:11:06.837552Z"
    }
   },
   "outputs": [],
   "source": [
    "cx_spg = get_spectrogram(cx_sig)"
   ]
  },
  {
   "cell_type": "code",
   "execution_count": 105,
   "metadata": {
    "execution": {
     "iopub.execute_input": "2021-01-08T18:11:11.093840Z",
     "iopub.status.busy": "2021-01-08T18:11:11.093651Z",
     "iopub.status.idle": "2021-01-08T18:11:11.113693Z",
     "shell.execute_reply": "2021-01-08T18:11:11.113214Z",
     "shell.execute_reply.started": "2021-01-08T18:11:11.093818Z"
    }
   },
   "outputs": [],
   "source": [
    "cx_theta = _get_bandpower(cx_spg, theta_range, cx_chans)\n",
    "cx_delta = _get_bandpower(cx_spg, delta_range, cx_chans)"
   ]
  },
  {
   "cell_type": "markdown",
   "metadata": {
    "collapsed": "true"
   },
   "source": [
    "### Plot"
   ]
  },
  {
   "cell_type": "code",
   "execution_count": 36,
   "metadata": {
    "execution": {
     "iopub.execute_input": "2021-01-08T02:24:07.665988Z",
     "iopub.status.busy": "2021-01-08T02:24:07.665863Z",
     "iopub.status.idle": "2021-01-08T02:24:08.502144Z",
     "shell.execute_reply": "2021-01-08T02:24:08.501519Z",
     "shell.execute_reply.started": "2021-01-08T02:24:07.665972Z"
    }
   },
   "outputs": [
    {
     "data": {
      "application/vnd.jupyter.widget-view+json": {
       "model_id": "ec0767009f78481a8706619c012bf87f",
       "version_major": 2,
       "version_minor": 0
      },
      "text/plain": [
       "Canvas(toolbar=Toolbar(toolitems=[('Home', 'Reset original view', 'home', 'home'), ('Back', 'Back to previous …"
      ]
     },
     "metadata": {},
     "output_type": "display_data"
    }
   ],
   "source": [
    "plot_spectrogram(cx_spg.frequency, cx_spg.time, cx_spg, yscale='log')"
   ]
  },
  {
   "cell_type": "code",
   "execution_count": 37,
   "metadata": {
    "execution": {
     "iopub.execute_input": "2021-01-08T02:24:08.503045Z",
     "iopub.status.busy": "2021-01-08T02:24:08.502902Z",
     "iopub.status.idle": "2021-01-08T02:24:08.672851Z",
     "shell.execute_reply": "2021-01-08T02:24:08.672302Z",
     "shell.execute_reply.started": "2021-01-08T02:24:08.503027Z"
    }
   },
   "outputs": [
    {
     "data": {
      "application/vnd.jupyter.widget-view+json": {
       "model_id": "2b5a6a7a6c034180a9a3f0e0ae594f3a",
       "version_major": 2,
       "version_minor": 0
      },
      "text/plain": [
       "Canvas(toolbar=Toolbar(toolitems=[('Home', 'Reset original view', 'home', 'home'), ('Back', 'Back to previous …"
      ]
     },
     "metadata": {},
     "output_type": "display_data"
    }
   ],
   "source": [
    "_, ax = plt.subplots(figsize=(24, 3))\n",
    "plot_time_series(cx_spg.time.values, cx_delta.values, ax=ax, title=\"Cortical Delta\", ylabel=\"Power\")\n",
    "#plot_hypnogram_overlay(hypno, ax=ax)"
   ]
  },
  {
   "cell_type": "code",
   "execution_count": 38,
   "metadata": {
    "execution": {
     "iopub.execute_input": "2021-01-08T02:24:08.674221Z",
     "iopub.status.busy": "2021-01-08T02:24:08.673855Z",
     "iopub.status.idle": "2021-01-08T02:24:08.804156Z",
     "shell.execute_reply": "2021-01-08T02:24:08.803774Z",
     "shell.execute_reply.started": "2021-01-08T02:24:08.674190Z"
    }
   },
   "outputs": [
    {
     "data": {
      "application/vnd.jupyter.widget-view+json": {
       "model_id": "9fec1e21649f4c93b35e046b2ddcf684",
       "version_major": 2,
       "version_minor": 0
      },
      "text/plain": [
       "Canvas(toolbar=Toolbar(toolitems=[('Home', 'Reset original view', 'home', 'home'), ('Back', 'Back to previous …"
      ]
     },
     "metadata": {},
     "output_type": "display_data"
    }
   ],
   "source": [
    "_, ax = plt.subplots(figsize=(24, 3))\n",
    "plot_time_series(cx_spg.time.values, cx_theta.values, ax=ax, title=\"Cortical Theta\", ylabel=\"Power\")\n",
    "#plot_hypnogram_overlay(hypno, ax=ax)"
   ]
  },
  {
   "cell_type": "code",
   "execution_count": 39,
   "metadata": {
    "execution": {
     "iopub.execute_input": "2021-01-08T02:24:08.805438Z",
     "iopub.status.busy": "2021-01-08T02:24:08.805306Z",
     "iopub.status.idle": "2021-01-08T02:24:08.867648Z",
     "shell.execute_reply": "2021-01-08T02:24:08.867136Z",
     "shell.execute_reply.started": "2021-01-08T02:24:08.805422Z"
    }
   },
   "outputs": [
    {
     "data": {
      "application/vnd.jupyter.widget-view+json": {
       "model_id": "a8ee12ad47f4418a81c59dfc0d0ed22a",
       "version_major": 2,
       "version_minor": 0
      },
      "text/plain": [
       "Canvas(toolbar=Toolbar(toolitems=[('Home', 'Reset original view', 'home', 'home'), ('Back', 'Back to previous …"
      ]
     },
     "metadata": {},
     "output_type": "display_data"
    }
   ],
   "source": [
    "_, ax = plt.subplots(figsize=(24, 3))\n",
    "plot_time_series(cx_spg.time.values, cx_theta.values / cx_delta.values, title=\"Cortical theta/delta ratio\", ylabel=\"Ratio\", ax=ax)\n",
    "#plot_hypnogram_overlay(hypno, ax=ax)"
   ]
  },
  {
   "cell_type": "markdown",
   "metadata": {},
   "source": [
    "## Theta"
   ]
  },
  {
   "cell_type": "code",
   "execution_count": 106,
   "metadata": {
    "execution": {
     "iopub.execute_input": "2021-01-08T18:11:11.114530Z",
     "iopub.status.busy": "2021-01-08T18:11:11.114377Z",
     "iopub.status.idle": "2021-01-08T18:13:15.734667Z",
     "shell.execute_reply": "2021-01-08T18:13:15.733874Z",
     "shell.execute_reply.started": "2021-01-08T18:11:11.114513Z"
    }
   },
   "outputs": [
    {
     "name": "stdout",
     "output_type": "stream",
     "text": [
      "nChan: 385, nFileSamp: 18000001\n"
     ]
    }
   ],
   "source": [
    "sr_chans = channel_groups.stratum_radiatum_140um_to_200um[SUBJECT]\n",
    "sr_sig = load_timeseries(bin_path, sr_chans, start_time=START_TIME, end_time=END_TIME, xarray=True)"
   ]
  },
  {
   "cell_type": "code",
   "execution_count": 107,
   "metadata": {
    "execution": {
     "iopub.execute_input": "2021-01-08T18:13:15.735896Z",
     "iopub.status.busy": "2021-01-08T18:13:15.735722Z",
     "iopub.status.idle": "2021-01-08T18:13:19.074964Z",
     "shell.execute_reply": "2021-01-08T18:13:19.074307Z",
     "shell.execute_reply.started": "2021-01-08T18:13:15.735876Z"
    }
   },
   "outputs": [],
   "source": [
    "sr_spg = get_spectrogram(sr_sig)"
   ]
  },
  {
   "cell_type": "code",
   "execution_count": 108,
   "metadata": {
    "execution": {
     "iopub.execute_input": "2021-01-08T18:13:19.076014Z",
     "iopub.status.busy": "2021-01-08T18:13:19.075852Z",
     "iopub.status.idle": "2021-01-08T18:13:19.095895Z",
     "shell.execute_reply": "2021-01-08T18:13:19.095432Z",
     "shell.execute_reply.started": "2021-01-08T18:13:19.075995Z"
    }
   },
   "outputs": [],
   "source": [
    "sr_theta = _get_bandpower(sr_spg, theta_range, sr_chans)\n",
    "sr_delta = _get_bandpower(sr_spg, delta_range, sr_chans)"
   ]
  },
  {
   "cell_type": "markdown",
   "metadata": {
    "collapsed": "true"
   },
   "source": [
    "### Plot"
   ]
  },
  {
   "cell_type": "code",
   "execution_count": 43,
   "metadata": {
    "execution": {
     "iopub.execute_input": "2021-01-08T02:26:19.293683Z",
     "iopub.status.busy": "2021-01-08T02:26:19.293522Z",
     "iopub.status.idle": "2021-01-08T02:26:20.376744Z",
     "shell.execute_reply": "2021-01-08T02:26:20.375998Z",
     "shell.execute_reply.started": "2021-01-08T02:26:19.293663Z"
    }
   },
   "outputs": [
    {
     "data": {
      "application/vnd.jupyter.widget-view+json": {
       "model_id": "758871ca2d784ee49ae363d2404638f8",
       "version_major": 2,
       "version_minor": 0
      },
      "text/plain": [
       "Canvas(toolbar=Toolbar(toolitems=[('Home', 'Reset original view', 'home', 'home'), ('Back', 'Back to previous …"
      ]
     },
     "metadata": {},
     "output_type": "display_data"
    }
   ],
   "source": [
    "plot_spectrogram(sr_spg.frequency, sr_spg.time, sr_spg, yscale='log')"
   ]
  },
  {
   "cell_type": "code",
   "execution_count": 44,
   "metadata": {
    "execution": {
     "iopub.execute_input": "2021-01-08T02:26:20.377992Z",
     "iopub.status.busy": "2021-01-08T02:26:20.377818Z",
     "iopub.status.idle": "2021-01-08T02:26:20.468660Z",
     "shell.execute_reply": "2021-01-08T02:26:20.468134Z",
     "shell.execute_reply.started": "2021-01-08T02:26:20.377970Z"
    }
   },
   "outputs": [
    {
     "data": {
      "application/vnd.jupyter.widget-view+json": {
       "model_id": "fd5d5e41365c42458540b83c20874f31",
       "version_major": 2,
       "version_minor": 0
      },
      "text/plain": [
       "Canvas(toolbar=Toolbar(toolitems=[('Home', 'Reset original view', 'home', 'home'), ('Back', 'Back to previous …"
      ]
     },
     "metadata": {},
     "output_type": "display_data"
    }
   ],
   "source": [
    "_, ax = plt.subplots(figsize=(20, 3))\n",
    "plot_time_series(sr_spg.time.values, sr_delta.values, title=\"SR Delta\", ylabel=\"Power\", ax=ax)\n",
    "#plot_hypnogram_overlay(hypno, ax=ax)"
   ]
  },
  {
   "cell_type": "code",
   "execution_count": 45,
   "metadata": {
    "execution": {
     "iopub.execute_input": "2021-01-08T02:26:20.469964Z",
     "iopub.status.busy": "2021-01-08T02:26:20.469616Z",
     "iopub.status.idle": "2021-01-08T02:26:20.635752Z",
     "shell.execute_reply": "2021-01-08T02:26:20.635176Z",
     "shell.execute_reply.started": "2021-01-08T02:26:20.469934Z"
    }
   },
   "outputs": [
    {
     "data": {
      "application/vnd.jupyter.widget-view+json": {
       "model_id": "bd2de522c04a4439b0562cefca34f048",
       "version_major": 2,
       "version_minor": 0
      },
      "text/plain": [
       "Canvas(toolbar=Toolbar(toolitems=[('Home', 'Reset original view', 'home', 'home'), ('Back', 'Back to previous …"
      ]
     },
     "metadata": {},
     "output_type": "display_data"
    }
   ],
   "source": [
    "_, ax = plt.subplots(figsize=(20, 3))\n",
    "plot_time_series(sr_spg.time.values, sr_theta.values, title=\"SR Theta\", ylabel=\"Power\", ax=ax)\n",
    "#plot_hypnogram_overlay(hypno, ax=ax)"
   ]
  },
  {
   "cell_type": "code",
   "execution_count": 46,
   "metadata": {
    "execution": {
     "iopub.execute_input": "2021-01-08T02:26:20.636863Z",
     "iopub.status.busy": "2021-01-08T02:26:20.636651Z",
     "iopub.status.idle": "2021-01-08T02:26:20.740903Z",
     "shell.execute_reply": "2021-01-08T02:26:20.740431Z",
     "shell.execute_reply.started": "2021-01-08T02:26:20.636836Z"
    }
   },
   "outputs": [
    {
     "data": {
      "application/vnd.jupyter.widget-view+json": {
       "model_id": "af2009fdc533433bb5e00c6cb04fcb0d",
       "version_major": 2,
       "version_minor": 0
      },
      "text/plain": [
       "Canvas(toolbar=Toolbar(toolitems=[('Home', 'Reset original view', 'home', 'home'), ('Back', 'Back to previous …"
      ]
     },
     "metadata": {},
     "output_type": "display_data"
    }
   ],
   "source": [
    "_, ax = plt.subplots(figsize=(20, 3))\n",
    "plot_time_series(sr_spg.time.values, sr_theta.values / sr_delta.values, title=\"SR theta/delta ratio\", ylabel=\"Ratio\", ax=ax)\n",
    "#plot_hypnogram_overlay(hypno, ax=ax)"
   ]
  },
  {
   "cell_type": "code",
   "execution_count": 47,
   "metadata": {
    "execution": {
     "iopub.execute_input": "2021-01-08T02:26:20.741642Z",
     "iopub.status.busy": "2021-01-08T02:26:20.741510Z",
     "iopub.status.idle": "2021-01-08T02:26:20.814366Z",
     "shell.execute_reply": "2021-01-08T02:26:20.813823Z",
     "shell.execute_reply.started": "2021-01-08T02:26:20.741626Z"
    }
   },
   "outputs": [
    {
     "data": {
      "application/vnd.jupyter.widget-view+json": {
       "model_id": "b3012422f585413cb68cfb0447fc60f1",
       "version_major": 2,
       "version_minor": 0
      },
      "text/plain": [
       "Canvas(toolbar=Toolbar(toolitems=[('Home', 'Reset original view', 'home', 'home'), ('Back', 'Back to previous …"
      ]
     },
     "metadata": {},
     "output_type": "display_data"
    }
   ],
   "source": [
    "_, ax = plt.subplots(figsize=(20, 3))\n",
    "plot_time_series(sr_spg.time.values, np.log10(sr_theta.values) / np.log10(sr_delta.values), title=\"SR log(theta)/log(delta) ratio\", ylabel=\"Ratio\", ax=ax)\n",
    "#plot_hypnogram_overlay(hypno, ax=ax)"
   ]
  },
  {
   "cell_type": "code",
   "execution_count": 48,
   "metadata": {
    "execution": {
     "iopub.execute_input": "2021-01-08T02:26:20.815124Z",
     "iopub.status.busy": "2021-01-08T02:26:20.814992Z",
     "iopub.status.idle": "2021-01-08T02:26:20.890092Z",
     "shell.execute_reply": "2021-01-08T02:26:20.889565Z",
     "shell.execute_reply.started": "2021-01-08T02:26:20.815108Z"
    }
   },
   "outputs": [
    {
     "name": "stderr",
     "output_type": "stream",
     "text": [
      "/home/gfindlay/miniconda3/envs/ecephys/lib/python3.7/site-packages/ipykernel_launcher.py:1: RuntimeWarning: More than 20 figures have been opened. Figures created through the pyplot interface (`matplotlib.pyplot.figure`) are retained until explicitly closed and may consume too much memory. (To control this warning, see the rcParam `figure.max_open_warning`).\n",
      "  \"\"\"Entry point for launching an IPython kernel.\n"
     ]
    },
    {
     "data": {
      "application/vnd.jupyter.widget-view+json": {
       "model_id": "73bbc2f19f8f44c1a534b38e56739623",
       "version_major": 2,
       "version_minor": 0
      },
      "text/plain": [
       "Canvas(toolbar=Toolbar(toolitems=[('Home', 'Reset original view', 'home', 'home'), ('Back', 'Back to previous …"
      ]
     },
     "metadata": {},
     "output_type": "display_data"
    }
   ],
   "source": [
    "_, ax = plt.subplots(figsize=(24, 3))\n",
    "plot_time_series(sr_spg.time.values, gaussian_smooth(sr_theta.values / sr_delta.values, smoothing_sigma, 1 / np.diff(sr_spg.time.values).mean()), title=\"Smoothed SR theta/delta ratio\", ylabel=\"Ratio\", ax=ax)\n",
    "#plot_hypnogram_overlay(hypno, ax=ax)"
   ]
  },
  {
   "cell_type": "markdown",
   "metadata": {},
   "source": [
    "## Save"
   ]
  },
  {
   "cell_type": "code",
   "execution_count": 109,
   "metadata": {
    "execution": {
     "iopub.execute_input": "2021-01-08T18:13:19.097304Z",
     "iopub.status.busy": "2021-01-08T18:13:19.097161Z",
     "iopub.status.idle": "2021-01-08T18:13:19.113977Z",
     "shell.execute_reply": "2021-01-08T18:13:19.113593Z",
     "shell.execute_reply.started": "2021-01-08T18:13:19.097287Z"
    }
   },
   "outputs": [],
   "source": [
    "bandpower = xr.Dataset({'mpta_delta': cx_delta, 'mpta_theta': cx_theta, 'sr_delta': sr_delta, 'sr_theta': sr_theta})"
   ]
  },
  {
   "cell_type": "code",
   "execution_count": 110,
   "metadata": {
    "execution": {
     "iopub.execute_input": "2021-01-08T18:13:19.114845Z",
     "iopub.status.busy": "2021-01-08T18:13:19.114717Z",
     "iopub.status.idle": "2021-01-08T18:13:19.146696Z",
     "shell.execute_reply": "2021-01-08T18:13:19.146127Z",
     "shell.execute_reply.started": "2021-01-08T18:13:19.114830Z"
    }
   },
   "outputs": [],
   "source": [
    "bandpower.to_netcdf(paths.get_datapath(subject=SUBJECT, condition=CONDITION, data=\"lfp_bandpower.nc\"))"
   ]
  },
  {
   "cell_type": "code",
   "execution_count": 111,
   "metadata": {
    "execution": {
     "iopub.execute_input": "2021-01-08T18:13:19.147632Z",
     "iopub.status.busy": "2021-01-08T18:13:19.147464Z",
     "iopub.status.idle": "2021-01-08T18:13:19.163670Z",
     "shell.execute_reply": "2021-01-08T18:13:19.163254Z",
     "shell.execute_reply.started": "2021-01-08T18:13:19.147611Z"
    }
   },
   "outputs": [],
   "source": [
    "bandpower.close()"
   ]
  },
  {
   "cell_type": "code",
   "execution_count": null,
   "metadata": {},
   "outputs": [],
   "source": []
  }
 ],
 "metadata": {
  "kernelspec": {
   "display_name": "Python 3",
   "language": "python",
   "name": "python3"
  },
  "language_info": {
   "codemirror_mode": {
    "name": "ipython",
    "version": 3
   },
   "file_extension": ".py",
   "mimetype": "text/x-python",
   "name": "python",
   "nbconvert_exporter": "python",
   "pygments_lexer": "ipython3",
   "version": "3.7.9"
  }
 },
 "nbformat": 4,
 "nbformat_minor": 4
}
