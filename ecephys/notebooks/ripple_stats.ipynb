{
 "cells": [
  {
   "cell_type": "code",
   "execution_count": 1,
   "metadata": {
    "execution": {
     "iopub.execute_input": "2020-11-20T21:34:36.781725Z",
     "iopub.status.busy": "2020-11-20T21:34:36.781531Z",
     "iopub.status.idle": "2020-11-20T21:34:36.794277Z",
     "shell.execute_reply": "2020-11-20T21:34:36.793696Z",
     "shell.execute_reply.started": "2020-11-20T21:34:36.781707Z"
    }
   },
   "outputs": [],
   "source": [
    "%load_ext autoreload\n",
    "%autoreload 2"
   ]
  },
  {
   "cell_type": "code",
   "execution_count": 2,
   "metadata": {
    "execution": {
     "iopub.execute_input": "2020-11-20T21:34:37.511750Z",
     "iopub.status.busy": "2020-11-20T21:34:37.511360Z",
     "iopub.status.idle": "2020-11-20T21:34:37.828355Z",
     "shell.execute_reply": "2020-11-20T21:34:37.827858Z",
     "shell.execute_reply.started": "2020-11-20T21:34:37.511700Z"
    }
   },
   "outputs": [],
   "source": [
    "%matplotlib widget\n",
    "from pathlib import Path\n",
    "\n",
    "import matplotlib.pyplot as plt\n",
    "import numpy as np\n",
    "import pandas as pd\n",
    "from pandas.plotting import scatter_matrix\n",
    "\n",
    "from ecephys.graham import paths\n",
    "from ecephys.utils.utils import load_df_h5\n",
    "from ecephys.scoring import load_visbrain_hypnogram"
   ]
  },
  {
   "cell_type": "code",
   "execution_count": 3,
   "metadata": {
    "execution": {
     "iopub.execute_input": "2020-11-20T21:34:38.118432Z",
     "iopub.status.busy": "2020-11-20T21:34:38.118286Z",
     "iopub.status.idle": "2020-11-20T21:34:38.130737Z",
     "shell.execute_reply": "2020-11-20T21:34:38.130076Z",
     "shell.execute_reply.started": "2020-11-20T21:34:38.118415Z"
    }
   },
   "outputs": [],
   "source": [
    "pd.options.mode.chained_assignment = None  # default='warn'"
   ]
  },
  {
   "cell_type": "markdown",
   "metadata": {},
   "source": [
    "## Read the data"
   ]
  },
  {
   "cell_type": "code",
   "execution_count": 7,
   "metadata": {
    "execution": {
     "iopub.execute_input": "2020-11-20T21:35:36.103295Z",
     "iopub.status.busy": "2020-11-20T21:35:36.103149Z",
     "iopub.status.idle": "2020-11-20T21:35:36.161870Z",
     "shell.execute_reply": "2020-11-20T21:35:36.161332Z",
     "shell.execute_reply.started": "2020-11-20T21:35:36.103263Z"
    }
   },
   "outputs": [],
   "source": [
    "condition = \"BL\"\n",
    "subject = \"Segundo\"\n",
    "\n",
    "hypnogram_path = Path(paths.hypnograms[condition][subject])\n",
    "hypnogram = load_visbrain_hypnogram(hypnogram_path)\n",
    "\n",
    "ripple_path = Path(paths.ripples[condition][subject])\n",
    "with pd.HDFStore(ripple_path) as store:\n",
    "    ripples, metadata = load_df_h5(store)\n",
    "    \n",
    "bl_hypno = hypnogram\n",
    "ripples_bl = ripples"
   ]
  },
  {
   "cell_type": "code",
   "execution_count": 8,
   "metadata": {
    "execution": {
     "iopub.execute_input": "2020-11-20T21:35:36.408365Z",
     "iopub.status.busy": "2020-11-20T21:35:36.408106Z",
     "iopub.status.idle": "2020-11-20T21:35:36.455215Z",
     "shell.execute_reply": "2020-11-20T21:35:36.454730Z",
     "shell.execute_reply.started": "2020-11-20T21:35:36.408331Z"
    }
   },
   "outputs": [],
   "source": [
    "condition = \"SR\"\n",
    "subject = \"Segundo\"\n",
    "\n",
    "hypnogram_path = Path(paths.hypnograms[condition][subject])\n",
    "hypnogram = load_visbrain_hypnogram(hypnogram_path)\n",
    "\n",
    "ripple_path = Path(paths.ripples[condition][subject])\n",
    "with pd.HDFStore(ripple_path) as store:\n",
    "    ripples, metadata = load_df_h5(store)\n",
    "    \n",
    "rec_hypno = hypnogram\n",
    "ripples_rec = ripples"
   ]
  },
  {
   "cell_type": "markdown",
   "metadata": {},
   "source": [
    "## Look at basic summary statistics"
   ]
  },
  {
   "cell_type": "code",
   "execution_count": 9,
   "metadata": {
    "execution": {
     "iopub.execute_input": "2020-11-20T21:35:38.094834Z",
     "iopub.status.busy": "2020-11-20T21:35:38.094572Z",
     "iopub.status.idle": "2020-11-20T21:35:38.112629Z",
     "shell.execute_reply": "2020-11-20T21:35:38.112250Z",
     "shell.execute_reply.started": "2020-11-20T21:35:38.094801Z"
    }
   },
   "outputs": [
    {
     "data": {
      "text/plain": [
       "2896.0"
      ]
     },
     "execution_count": 9,
     "metadata": {},
     "output_type": "execute_result"
    }
   ],
   "source": [
    "bl_total_NREM = bl_hypno.loc[bl_hypno['state'] == 'N2'].duration.sum()\n",
    "bl_total_NREM"
   ]
  },
  {
   "cell_type": "code",
   "execution_count": 10,
   "metadata": {
    "execution": {
     "iopub.execute_input": "2020-11-20T21:35:41.294761Z",
     "iopub.status.busy": "2020-11-20T21:35:41.294334Z",
     "iopub.status.idle": "2020-11-20T21:35:41.312882Z",
     "shell.execute_reply": "2020-11-20T21:35:41.312308Z",
     "shell.execute_reply.started": "2020-11-20T21:35:41.294705Z"
    }
   },
   "outputs": [
    {
     "data": {
      "text/plain": [
       "3797.9899864196777"
      ]
     },
     "execution_count": 10,
     "metadata": {},
     "output_type": "execute_result"
    }
   ],
   "source": [
    "rec_total_NREM = rec_hypno.loc[rec_hypno['state'] == 'N2'].duration.sum()\n",
    "rec_total_NREM"
   ]
  },
  {
   "cell_type": "code",
   "execution_count": 11,
   "metadata": {
    "execution": {
     "iopub.execute_input": "2020-11-20T21:35:41.982378Z",
     "iopub.status.busy": "2020-11-20T21:35:41.981986Z",
     "iopub.status.idle": "2020-11-20T21:35:41.999476Z",
     "shell.execute_reply": "2020-11-20T21:35:41.998915Z",
     "shell.execute_reply.started": "2020-11-20T21:35:41.982327Z"
    }
   },
   "outputs": [
    {
     "data": {
      "text/plain": [
       "0.39917127071823205"
      ]
     },
     "execution_count": 11,
     "metadata": {},
     "output_type": "execute_result"
    }
   ],
   "source": [
    "len(ripples_bl) / bl_total_NREM"
   ]
  },
  {
   "cell_type": "code",
   "execution_count": 12,
   "metadata": {
    "execution": {
     "iopub.execute_input": "2020-11-20T21:35:44.350734Z",
     "iopub.status.busy": "2020-11-20T21:35:44.350440Z",
     "iopub.status.idle": "2020-11-20T21:35:44.367243Z",
     "shell.execute_reply": "2020-11-20T21:35:44.366670Z",
     "shell.execute_reply.started": "2020-11-20T21:35:44.350697Z"
    }
   },
   "outputs": [
    {
     "data": {
      "text/plain": [
       "0.33438740084652374"
      ]
     },
     "execution_count": 12,
     "metadata": {},
     "output_type": "execute_result"
    }
   ],
   "source": [
    "len(ripples_rec) / rec_total_NREM"
   ]
  },
  {
   "cell_type": "code",
   "execution_count": 13,
   "metadata": {
    "execution": {
     "iopub.execute_input": "2020-11-20T21:35:55.159184Z",
     "iopub.status.busy": "2020-11-20T21:35:55.158751Z",
     "iopub.status.idle": "2020-11-20T21:35:55.177541Z",
     "shell.execute_reply": "2020-11-20T21:35:55.176980Z",
     "shell.execute_reply.started": "2020-11-20T21:35:55.159128Z"
    }
   },
   "outputs": [
    {
     "data": {
      "text/plain": [
       "start_time            3969.845400\n",
       "end_time              3969.909600\n",
       "duration                 0.068400\n",
       "center_time           3969.877500\n",
       "nadir_time            3969.880000\n",
       "envelope_integral    37242.903962\n",
       "envelope_peak          355.583101\n",
       "mean_rms                47.433510\n",
       "summed_rms             521.768613\n",
       "max_rms                 63.438855\n",
       "mean_amplitude         231.432421\n",
       "max_amplitude          311.399042\n",
       "dtype: float64"
      ]
     },
     "execution_count": 13,
     "metadata": {},
     "output_type": "execute_result"
    }
   ],
   "source": [
    "ripples_bl.median()"
   ]
  },
  {
   "cell_type": "code",
   "execution_count": 14,
   "metadata": {
    "execution": {
     "iopub.execute_input": "2020-11-20T21:35:55.894680Z",
     "iopub.status.busy": "2020-11-20T21:35:55.894507Z",
     "iopub.status.idle": "2020-11-20T21:35:55.912254Z",
     "shell.execute_reply": "2020-11-20T21:35:55.911911Z",
     "shell.execute_reply.started": "2020-11-20T21:35:55.894658Z"
    }
   },
   "outputs": [
    {
     "data": {
      "text/plain": [
       "start_time            3670.793800\n",
       "end_time              3670.851800\n",
       "duration                 0.065600\n",
       "center_time           3670.822800\n",
       "nadir_time            3670.825200\n",
       "envelope_integral    35719.235369\n",
       "envelope_peak          367.307960\n",
       "mean_rms                48.129624\n",
       "summed_rms             529.425863\n",
       "max_rms                 66.519562\n",
       "mean_amplitude         235.773843\n",
       "max_amplitude          328.463406\n",
       "dtype: float64"
      ]
     },
     "execution_count": 14,
     "metadata": {},
     "output_type": "execute_result"
    }
   ],
   "source": [
    "ripples_rec.median()"
   ]
  },
  {
   "cell_type": "code",
   "execution_count": 15,
   "metadata": {
    "execution": {
     "iopub.execute_input": "2020-11-20T21:35:56.582327Z",
     "iopub.status.busy": "2020-11-20T21:35:56.581966Z",
     "iopub.status.idle": "2020-11-20T21:35:56.600080Z",
     "shell.execute_reply": "2020-11-20T21:35:56.599521Z",
     "shell.execute_reply.started": "2020-11-20T21:35:56.582280Z"
    }
   },
   "outputs": [
    {
     "data": {
      "text/plain": [
       "start_time            4094.019284\n",
       "end_time              4094.094094\n",
       "duration                 0.074809\n",
       "center_time           4094.056689\n",
       "nadir_time            4094.053493\n",
       "envelope_integral    40804.593608\n",
       "envelope_peak          377.827454\n",
       "mean_rms                49.394707\n",
       "summed_rms             543.341779\n",
       "max_rms                 65.952794\n",
       "mean_amplitude         245.213372\n",
       "max_amplitude          328.457268\n",
       "dtype: float64"
      ]
     },
     "execution_count": 15,
     "metadata": {},
     "output_type": "execute_result"
    }
   ],
   "source": [
    "ripples_bl.mean()"
   ]
  },
  {
   "cell_type": "code",
   "execution_count": 16,
   "metadata": {
    "execution": {
     "iopub.execute_input": "2020-11-20T21:35:57.559056Z",
     "iopub.status.busy": "2020-11-20T21:35:57.558738Z",
     "iopub.status.idle": "2020-11-20T21:35:57.576225Z",
     "shell.execute_reply": "2020-11-20T21:35:57.575847Z",
     "shell.execute_reply.started": "2020-11-20T21:35:57.559015Z"
    }
   },
   "outputs": [
    {
     "data": {
      "text/plain": [
       "start_time            3730.355360\n",
       "end_time              3730.426017\n",
       "duration                 0.070658\n",
       "center_time           3730.390689\n",
       "nadir_time            3730.389108\n",
       "envelope_integral    39229.908841\n",
       "envelope_peak          380.591924\n",
       "mean_rms                49.620235\n",
       "summed_rms             545.822587\n",
       "max_rms                 68.668772\n",
       "mean_amplitude         245.678872\n",
       "max_amplitude          340.281439\n",
       "dtype: float64"
      ]
     },
     "execution_count": 16,
     "metadata": {},
     "output_type": "execute_result"
    }
   ],
   "source": [
    "ripples_rec.mean()"
   ]
  },
  {
   "cell_type": "markdown",
   "metadata": {},
   "source": [
    "## Look at feature distributions and correlations"
   ]
  },
  {
   "cell_type": "code",
   "execution_count": 17,
   "metadata": {
    "execution": {
     "iopub.execute_input": "2020-11-20T21:36:10.199701Z",
     "iopub.status.busy": "2020-11-20T21:36:10.199265Z",
     "iopub.status.idle": "2020-11-20T21:36:13.166136Z",
     "shell.execute_reply": "2020-11-20T21:36:13.165451Z",
     "shell.execute_reply.started": "2020-11-20T21:36:10.199644Z"
    }
   },
   "outputs": [
    {
     "data": {
      "application/vnd.jupyter.widget-view+json": {
       "model_id": "f0ae4baa1a4e494b9d7b6a4aaf7a4eff",
       "version_major": 2,
       "version_minor": 0
      },
      "text/plain": [
       "Canvas(toolbar=Toolbar(toolitems=[('Home', 'Reset original view', 'home', 'home'), ('Back', 'Back to previous …"
      ]
     },
     "metadata": {},
     "output_type": "display_data"
    }
   ],
   "source": [
    "ax = scatter_matrix(ripples_bl, figsize=(10, 10))"
   ]
  },
  {
   "cell_type": "code",
   "execution_count": 18,
   "metadata": {
    "execution": {
     "iopub.execute_input": "2020-11-20T21:36:22.575722Z",
     "iopub.status.busy": "2020-11-20T21:36:22.575230Z",
     "iopub.status.idle": "2020-11-20T21:36:25.901351Z",
     "shell.execute_reply": "2020-11-20T21:36:25.900685Z",
     "shell.execute_reply.started": "2020-11-20T21:36:22.575645Z"
    }
   },
   "outputs": [
    {
     "data": {
      "application/vnd.jupyter.widget-view+json": {
       "model_id": "b9ae880e64cf4b8aba5e5aa42a9c76c6",
       "version_major": 2,
       "version_minor": 0
      },
      "text/plain": [
       "Canvas(toolbar=Toolbar(toolitems=[('Home', 'Reset original view', 'home', 'home'), ('Back', 'Back to previous …"
      ]
     },
     "metadata": {},
     "output_type": "display_data"
    }
   ],
   "source": [
    "ax2 = scatter_matrix(ripples_bl.applymap(np.log), figsize=(10, 10))"
   ]
  },
  {
   "cell_type": "markdown",
   "metadata": {},
   "source": [
    "## Look at log-normally distributed features"
   ]
  },
  {
   "cell_type": "code",
   "execution_count": 19,
   "metadata": {
    "execution": {
     "iopub.execute_input": "2020-11-20T21:36:32.247965Z",
     "iopub.status.busy": "2020-11-20T21:36:32.247528Z",
     "iopub.status.idle": "2020-11-20T21:36:32.335626Z",
     "shell.execute_reply": "2020-11-20T21:36:32.335022Z",
     "shell.execute_reply.started": "2020-11-20T21:36:32.247909Z"
    }
   },
   "outputs": [
    {
     "data": {
      "application/vnd.jupyter.widget-view+json": {
       "model_id": "ab9397ff31da4c83967287ae364f8ab3",
       "version_major": 2,
       "version_minor": 0
      },
      "text/plain": [
       "Canvas(toolbar=Toolbar(toolitems=[('Home', 'Reset original view', 'home', 'home'), ('Back', 'Back to previous …"
      ]
     },
     "metadata": {},
     "output_type": "display_data"
    }
   ],
   "source": [
    "import scipy.stats as stats\n",
    "\n",
    "def plot_qq(bl, rec, var):\n",
    "    fig, axes = plt.subplots(2, 2, figsize=(10, 10))\n",
    "    \n",
    "    stats.probplot(bl[var], dist=\"norm\", plot=axes[0, 0])\n",
    "    axes[0, 0].set_title(\"Baseline {}\".format(var))\n",
    "    stats.probplot(np.log(bl[var]), dist=\"norm\", plot=axes[0, 1])\n",
    "    axes[0, 1].set_title(\"Baseline log {}\".format(var))\n",
    "    stats.probplot(rec[var], dist=\"norm\", plot=axes[1, 0])\n",
    "    axes[1, 0].set_title(\"Recovery {}\".format(var))\n",
    "    stats.probplot(np.log(rec[var]), dist=\"norm\", plot=axes[1, 1])\n",
    "    axes[1, 1].set_title(\"Recovery log {}\".format(var))\n",
    "\n",
    "    plt.show()\n",
    "            \n",
    "plot_qq(ripples_bl, ripples_rec, 'duration')"
   ]
  },
  {
   "cell_type": "code",
   "execution_count": 20,
   "metadata": {
    "execution": {
     "iopub.execute_input": "2020-11-20T21:36:47.006515Z",
     "iopub.status.busy": "2020-11-20T21:36:47.006366Z",
     "iopub.status.idle": "2020-11-20T21:36:47.063148Z",
     "shell.execute_reply": "2020-11-20T21:36:47.062562Z",
     "shell.execute_reply.started": "2020-11-20T21:36:47.006492Z"
    }
   },
   "outputs": [],
   "source": [
    "from statsmodels.graphics.tsaplots import plot_acf, plot_pacf\n",
    "\n",
    "def plot_acf_pacf(bl, rec, var, lags=None):\n",
    "    fig, axes = plt.subplots(2, 2, figsize=(10, 10))\n",
    "\n",
    "    plot_acf(bl[var], lags=lags, ax=axes[0, 0], title=\"Baseline {} acf\".format(var))\n",
    "    plot_pacf(bl[var], lags=lags, ax=axes[0, 1], title=\"Baseline {} pacf\".format(var))\n",
    "    plot_acf(rec[var], lags=lags, ax=axes[1, 0], title=\"Recovery {} acf\".format(var))\n",
    "    plot_pacf(rec[var], lags=lags, ax=axes[1, 1], title=\"Recovery {} pacf\".format(var))\n",
    "\n",
    "    plt.show()"
   ]
  },
  {
   "cell_type": "code",
   "execution_count": 21,
   "metadata": {
    "execution": {
     "iopub.execute_input": "2020-11-20T21:36:47.751393Z",
     "iopub.status.busy": "2020-11-20T21:36:47.751102Z",
     "iopub.status.idle": "2020-11-20T21:36:47.853433Z",
     "shell.execute_reply": "2020-11-20T21:36:47.853031Z",
     "shell.execute_reply.started": "2020-11-20T21:36:47.751355Z"
    }
   },
   "outputs": [
    {
     "data": {
      "application/vnd.jupyter.widget-view+json": {
       "model_id": "f131b7b7afbf49afa2be60fcb86d28c5",
       "version_major": 2,
       "version_minor": 0
      },
      "text/plain": [
       "Canvas(toolbar=Toolbar(toolitems=[('Home', 'Reset original view', 'home', 'home'), ('Back', 'Back to previous …"
      ]
     },
     "metadata": {},
     "output_type": "display_data"
    }
   ],
   "source": [
    "plot_acf_pacf(ripples_bl, ripples_rec, 'duration')"
   ]
  },
  {
   "cell_type": "code",
   "execution_count": 22,
   "metadata": {
    "execution": {
     "iopub.execute_input": "2020-11-20T21:36:51.963139Z",
     "iopub.status.busy": "2020-11-20T21:36:51.962693Z",
     "iopub.status.idle": "2020-11-20T21:36:51.982132Z",
     "shell.execute_reply": "2020-11-20T21:36:51.981381Z",
     "shell.execute_reply.started": "2020-11-20T21:36:51.963081Z"
    }
   },
   "outputs": [],
   "source": [
    "def plot_vs_time(bl, rec, var):\n",
    "    fig, axes = plt.subplots(2, 1)\n",
    "    bl.plot.scatter(x='center_time', y=var, ax=axes[0], title='Baseline')\n",
    "    rec.plot.scatter(x='center_time', y=var, ax=axes[1], title='Recovery')\n",
    "    plt.show()"
   ]
  },
  {
   "cell_type": "code",
   "execution_count": 23,
   "metadata": {
    "execution": {
     "iopub.execute_input": "2020-11-20T21:36:52.663864Z",
     "iopub.status.busy": "2020-11-20T21:36:52.663433Z",
     "iopub.status.idle": "2020-11-20T21:36:52.739773Z",
     "shell.execute_reply": "2020-11-20T21:36:52.738460Z",
     "shell.execute_reply.started": "2020-11-20T21:36:52.663806Z"
    }
   },
   "outputs": [
    {
     "data": {
      "application/vnd.jupyter.widget-view+json": {
       "model_id": "69fbe77092044bcfbeb5785a40f4fc2d",
       "version_major": 2,
       "version_minor": 0
      },
      "text/plain": [
       "Canvas(toolbar=Toolbar(toolitems=[('Home', 'Reset original view', 'home', 'home'), ('Back', 'Back to previous …"
      ]
     },
     "metadata": {},
     "output_type": "display_data"
    }
   ],
   "source": [
    "plot_vs_time(ripples_bl, ripples_rec, 'duration')"
   ]
  },
  {
   "cell_type": "code",
   "execution_count": 24,
   "metadata": {
    "execution": {
     "iopub.execute_input": "2020-11-20T21:36:56.662544Z",
     "iopub.status.busy": "2020-11-20T21:36:56.662130Z",
     "iopub.status.idle": "2020-11-20T21:36:56.681439Z",
     "shell.execute_reply": "2020-11-20T21:36:56.680684Z",
     "shell.execute_reply.started": "2020-11-20T21:36:56.662491Z"
    }
   },
   "outputs": [],
   "source": [
    "def test_slope(ripples, x, y):\n",
    "    return stats.linregress(ripples[x], ripples[y])"
   ]
  },
  {
   "cell_type": "code",
   "execution_count": 25,
   "metadata": {
    "execution": {
     "iopub.execute_input": "2020-11-20T21:36:57.240110Z",
     "iopub.status.busy": "2020-11-20T21:36:57.239717Z",
     "iopub.status.idle": "2020-11-20T21:36:57.260031Z",
     "shell.execute_reply": "2020-11-20T21:36:57.259444Z",
     "shell.execute_reply.started": "2020-11-20T21:36:57.240059Z"
    }
   },
   "outputs": [
    {
     "data": {
      "text/plain": [
       "LinregressResult(slope=-4.648940652712044e-09, intercept=0.07482837558713902, rvalue=-0.00029910715296810293, pvalue=0.991894716302955, stderr=4.575349551058696e-07)"
      ]
     },
     "execution_count": 25,
     "metadata": {},
     "output_type": "execute_result"
    }
   ],
   "source": [
    "test_slope(ripples_bl, 'center_time', 'duration')"
   ]
  },
  {
   "cell_type": "code",
   "execution_count": 26,
   "metadata": {
    "execution": {
     "iopub.execute_input": "2020-11-20T21:36:57.878934Z",
     "iopub.status.busy": "2020-11-20T21:36:57.878676Z",
     "iopub.status.idle": "2020-11-20T21:36:57.896486Z",
     "shell.execute_reply": "2020-11-20T21:36:57.896096Z",
     "shell.execute_reply.started": "2020-11-20T21:36:57.878901Z"
    }
   },
   "outputs": [
    {
     "data": {
      "text/plain": [
       "LinregressResult(slope=-3.577787755402903e-07, intercept=0.0719922924080852, rvalue=-0.02937339884497676, pvalue=0.2955718904426008, stderr=3.4191118603936886e-07)"
      ]
     },
     "execution_count": 26,
     "metadata": {},
     "output_type": "execute_result"
    }
   ],
   "source": [
    "test_slope(ripples_rec, 'center_time', 'duration')"
   ]
  },
  {
   "cell_type": "code",
   "execution_count": 27,
   "metadata": {
    "execution": {
     "iopub.execute_input": "2020-11-20T21:36:58.327012Z",
     "iopub.status.busy": "2020-11-20T21:36:58.326751Z",
     "iopub.status.idle": "2020-11-20T21:36:58.343837Z",
     "shell.execute_reply": "2020-11-20T21:36:58.343304Z",
     "shell.execute_reply.started": "2020-11-20T21:36:58.326979Z"
    }
   },
   "outputs": [
    {
     "data": {
      "text/plain": [
       "Ttest_indResult(statistic=4.2334704315620915, pvalue=2.3891171502544685e-05)"
      ]
     },
     "execution_count": 27,
     "metadata": {},
     "output_type": "execute_result"
    }
   ],
   "source": [
    "stats.ttest_ind(np.log(ripples_bl.duration), np.log(ripples_rec.duration), equal_var=False)"
   ]
  },
  {
   "cell_type": "code",
   "execution_count": 28,
   "metadata": {
    "execution": {
     "iopub.execute_input": "2020-11-20T21:36:58.958278Z",
     "iopub.status.busy": "2020-11-20T21:36:58.957933Z",
     "iopub.status.idle": "2020-11-20T21:36:58.977194Z",
     "shell.execute_reply": "2020-11-20T21:36:58.976449Z",
     "shell.execute_reply.started": "2020-11-20T21:36:58.958221Z"
    }
   },
   "outputs": [],
   "source": [
    "# https://dfrieds.com/math/effect-size.html\n",
    "def interpret_cohens_d(cohens_d):\n",
    "    \"\"\"\n",
    "    Determines text interpretation of effect size given Cohen's d value\n",
    "\n",
    "    :param cohens_d: float of Cohen's d value\n",
    "    :returns: effect_size_interpretation: adjective to describe magnitude of effect size\n",
    "    \"\"\"\n",
    "    if 0<=cohens_d<0.1:\n",
    "        effect_size_interpretation = \"Very Small\"\n",
    "    elif 0.1<=cohens_d<0.35:\n",
    "        effect_size_interpretation = \"Small\"\n",
    "    elif 0.35<=cohens_d<0.65:\n",
    "        effect_size_interpretation = \"Medium\"\n",
    "    elif 0.65<=cohens_d<0.9:\n",
    "        effect_size_interpretation = \"Large\"\n",
    "    elif cohens_d >= 0.9:\n",
    "        effect_size_interpretation = \"Very Large\"\n",
    "    return effect_size_interpretation"
   ]
  },
  {
   "cell_type": "code",
   "execution_count": 29,
   "metadata": {
    "execution": {
     "iopub.execute_input": "2020-11-20T21:37:01.253888Z",
     "iopub.status.busy": "2020-11-20T21:37:01.253576Z",
     "iopub.status.idle": "2020-11-20T21:37:01.271880Z",
     "shell.execute_reply": "2020-11-20T21:37:01.271175Z",
     "shell.execute_reply.started": "2020-11-20T21:37:01.253849Z"
    }
   },
   "outputs": [],
   "source": [
    "def two_sample_data_setup_for_cohens_d(mean_1, mean_2, sample_std_dev_1, sample_std_dev_2):\n",
    "    \"\"\"\n",
    "    Creates two normal distributions of data values. \n",
    "    Calculates differences in values and standard deviation of list of differences.\n",
    "    Calculates Cohen's D - equation used in dependent t-tests\n",
    "\n",
    "    :param mean_1: mean of group one\n",
    "    :param mean_2: mean of group two\n",
    "    :param sample_std_dev_1: sample standard deviation of group one\n",
    "    :param sample_std_dev_2: sample standard deviation of group two\n",
    "    \n",
    "    :returns: values_1, values_2, cohens_d: values for group one, values for group two, Cohen's d\n",
    "    \"\"\"\n",
    "    values_1 = np.random.normal(loc=mean_1, scale=sample_std_dev_1, size=3000)\n",
    "    values_2 = np.random.normal(loc=mean_2, scale=sample_std_dev_2, size=3000)\n",
    "    differences_group_values = np.subtract(values_1, values_2)\n",
    "    std_dev_differences_group_values = np.std(differences_group_values, ddof=1)\n",
    "    cohens_d = round(abs((mean_1 - mean_2)/std_dev_differences_group_values), 2)\n",
    "    return values_1, values_2, cohens_d"
   ]
  },
  {
   "cell_type": "code",
   "execution_count": 30,
   "metadata": {
    "execution": {
     "iopub.execute_input": "2020-11-20T21:37:01.662989Z",
     "iopub.status.busy": "2020-11-20T21:37:01.662559Z",
     "iopub.status.idle": "2020-11-20T21:37:01.700723Z",
     "shell.execute_reply": "2020-11-20T21:37:01.699847Z",
     "shell.execute_reply.started": "2020-11-20T21:37:01.662932Z"
    }
   },
   "outputs": [],
   "source": [
    "import seaborn as sns\n",
    "\n",
    "def visualize_distributions(values_1, values_2, cohens_d, cohens_d_interpretation):\n",
    "    \"\"\"\n",
    "    Plots KDE plots of values from values_1 and values_2.\n",
    "    Inserts Cohen's d value and interpretation in title\n",
    "\n",
    "    :param values_1: values in group one\n",
    "    :param values_2: values in group two \n",
    "    :param cohens_d: Cohen's d value\n",
    "    :param cohens_d_interpretation: text to describe magnitude of effect size\n",
    "    :returns: plot figure\n",
    "    \"\"\"\n",
    "    plt.figure(figsize=(10, 8))\n",
    "    sns.distplot(values_1, hist=False, label='Baseline')\n",
    "    sns.distplot(values_2, hist=False, label='Recovery')\n",
    "    plt.xlabel(\"Log-transformed duration\", labelpad=13)\n",
    "    plt.ylabel(\"frequency\", labelpad=13)\n",
    "    plt.legend()\n",
    "    plt.title(\"Distribution of Two Groups with {0} Cohen's d of {1}\".format(cohens_d_interpretation, cohens_d), y=1.015, fontsize=22)"
   ]
  },
  {
   "cell_type": "code",
   "execution_count": 31,
   "metadata": {
    "execution": {
     "iopub.execute_input": "2020-11-20T21:37:02.535440Z",
     "iopub.status.busy": "2020-11-20T21:37:02.535296Z",
     "iopub.status.idle": "2020-11-20T21:37:02.606190Z",
     "shell.execute_reply": "2020-11-20T21:37:02.605625Z",
     "shell.execute_reply.started": "2020-11-20T21:37:02.535424Z"
    }
   },
   "outputs": [
    {
     "data": {
      "application/vnd.jupyter.widget-view+json": {
       "model_id": "21a84fb7db06430b969f9cd135efa7f4",
       "version_major": 2,
       "version_minor": 0
      },
      "text/plain": [
       "Canvas(toolbar=Toolbar(toolitems=[('Home', 'Reset original view', 'home', 'home'), ('Back', 'Back to previous …"
      ]
     },
     "metadata": {},
     "output_type": "display_data"
    },
    {
     "name": "stderr",
     "output_type": "stream",
     "text": [
      "/home/gfindlay/miniconda3/envs/ecephys/lib/python3.7/site-packages/seaborn/distributions.py:2551: FutureWarning: `distplot` is a deprecated function and will be removed in a future version. Please adapt your code to use either `displot` (a figure-level function with similar flexibility) or `kdeplot` (an axes-level function for kernel density plots).\n",
      "  warnings.warn(msg, FutureWarning)\n",
      "/home/gfindlay/miniconda3/envs/ecephys/lib/python3.7/site-packages/seaborn/distributions.py:2551: FutureWarning: `distplot` is a deprecated function and will be removed in a future version. Please adapt your code to use either `displot` (a figure-level function with similar flexibility) or `kdeplot` (an axes-level function for kernel density plots).\n",
      "  warnings.warn(msg, FutureWarning)\n"
     ]
    }
   ],
   "source": [
    "values_bl, values_rec, cohens_d = two_sample_data_setup_for_cohens_d(np.log(ripples_bl.duration).mean(), \n",
    "                                                                     np.log(ripples_rec.duration).mean(), \n",
    "                                                                     np.log(ripples_bl.duration).std(), \n",
    "                                                                     np.log(ripples_rec.duration).std())\n",
    "visualize_distributions(np.log(ripples_bl.duration), np.log(ripples_rec).duration, cohens_d, interpret_cohens_d(cohens_d))\n"
   ]
  },
  {
   "cell_type": "code",
   "execution_count": 32,
   "metadata": {
    "execution": {
     "iopub.execute_input": "2020-11-20T21:37:20.425864Z",
     "iopub.status.busy": "2020-11-20T21:37:20.425392Z",
     "iopub.status.idle": "2020-11-20T21:37:20.446287Z",
     "shell.execute_reply": "2020-11-20T21:37:20.445643Z",
     "shell.execute_reply.started": "2020-11-20T21:37:20.425806Z"
    }
   },
   "outputs": [
    {
     "name": "stdout",
     "output_type": "stream",
     "text": [
      "10.563289034227415 0.001153557579332585 0.0667999999998301\n"
     ]
    }
   ],
   "source": [
    "stat, p, med, tbl = stats.median_test(ripples_bl.duration, ripples_rec.duration) \n",
    "print(stat, p, med)"
   ]
  },
  {
   "cell_type": "code",
   "execution_count": 33,
   "metadata": {
    "execution": {
     "iopub.execute_input": "2020-11-20T21:37:20.809998Z",
     "iopub.status.busy": "2020-11-20T21:37:20.809634Z",
     "iopub.status.idle": "2020-11-20T21:37:20.828345Z",
     "shell.execute_reply": "2020-11-20T21:37:20.827902Z",
     "shell.execute_reply.started": "2020-11-20T21:37:20.809951Z"
    }
   },
   "outputs": [
    {
     "data": {
      "text/plain": [
       "KruskalResult(statistic=17.35478514707542, pvalue=3.101164596042126e-05)"
      ]
     },
     "execution_count": 33,
     "metadata": {},
     "output_type": "execute_result"
    }
   ],
   "source": [
    "stats.kruskal(ripples_bl.duration, ripples_rec.duration)"
   ]
  },
  {
   "cell_type": "code",
   "execution_count": 34,
   "metadata": {
    "execution": {
     "iopub.execute_input": "2020-11-20T21:37:21.279682Z",
     "iopub.status.busy": "2020-11-20T21:37:21.279425Z",
     "iopub.status.idle": "2020-11-20T21:37:21.299507Z",
     "shell.execute_reply": "2020-11-20T21:37:21.298931Z",
     "shell.execute_reply.started": "2020-11-20T21:37:21.279648Z"
    }
   },
   "outputs": [
    {
     "data": {
      "text/plain": [
       "MannwhitneyuResult(statistic=662275.5, pvalue=1.5507795591667666e-05)"
      ]
     },
     "execution_count": 34,
     "metadata": {},
     "output_type": "execute_result"
    }
   ],
   "source": [
    "stats.mannwhitneyu(ripples_bl.duration, ripples_rec.duration)"
   ]
  },
  {
   "cell_type": "markdown",
   "metadata": {},
   "source": [
    "## Look at non-normally distributed features"
   ]
  },
  {
   "cell_type": "markdown",
   "metadata": {},
   "source": [
    "### Max_amplitude"
   ]
  },
  {
   "cell_type": "code",
   "execution_count": 35,
   "metadata": {
    "execution": {
     "iopub.execute_input": "2020-11-20T21:37:24.024579Z",
     "iopub.status.busy": "2020-11-20T21:37:24.024145Z",
     "iopub.status.idle": "2020-11-20T21:37:24.126339Z",
     "shell.execute_reply": "2020-11-20T21:37:24.125940Z",
     "shell.execute_reply.started": "2020-11-20T21:37:24.024522Z"
    }
   },
   "outputs": [
    {
     "data": {
      "application/vnd.jupyter.widget-view+json": {
       "model_id": "28bbc58252904181ab492705629e58be",
       "version_major": 2,
       "version_minor": 0
      },
      "text/plain": [
       "Canvas(toolbar=Toolbar(toolitems=[('Home', 'Reset original view', 'home', 'home'), ('Back', 'Back to previous …"
      ]
     },
     "metadata": {},
     "output_type": "display_data"
    }
   ],
   "source": [
    "plot_acf_pacf(ripples_bl, ripples_rec, 'max_amplitude')"
   ]
  },
  {
   "cell_type": "code",
   "execution_count": 36,
   "metadata": {
    "execution": {
     "iopub.execute_input": "2020-11-20T21:37:25.908353Z",
     "iopub.status.busy": "2020-11-20T21:37:25.908231Z",
     "iopub.status.idle": "2020-11-20T21:37:25.984095Z",
     "shell.execute_reply": "2020-11-20T21:37:25.983465Z",
     "shell.execute_reply.started": "2020-11-20T21:37:25.908335Z"
    }
   },
   "outputs": [
    {
     "data": {
      "application/vnd.jupyter.widget-view+json": {
       "model_id": "6685c3bb9fbc495db2755a1d603b050b",
       "version_major": 2,
       "version_minor": 0
      },
      "text/plain": [
       "Canvas(toolbar=Toolbar(toolitems=[('Home', 'Reset original view', 'home', 'home'), ('Back', 'Back to previous …"
      ]
     },
     "metadata": {},
     "output_type": "display_data"
    }
   ],
   "source": [
    "plot_vs_time(ripples_bl, ripples_rec, 'max_amplitude')"
   ]
  },
  {
   "cell_type": "code",
   "execution_count": 37,
   "metadata": {
    "execution": {
     "iopub.execute_input": "2020-11-20T21:37:25.988622Z",
     "iopub.status.busy": "2020-11-20T21:37:25.988496Z",
     "iopub.status.idle": "2020-11-20T21:37:26.001353Z",
     "shell.execute_reply": "2020-11-20T21:37:26.000909Z",
     "shell.execute_reply.started": "2020-11-20T21:37:25.988605Z"
    }
   },
   "outputs": [
    {
     "data": {
      "text/plain": [
       "LinregressResult(slope=0.00028648554567230807, intercept=327.2843798925568, rvalue=0.005915418905968726, pvalue=0.8407701887549467, stderr=0.0014256296099204558)"
      ]
     },
     "execution_count": 37,
     "metadata": {},
     "output_type": "execute_result"
    }
   ],
   "source": [
    "test_slope(ripples_bl, 'center_time', 'max_amplitude')"
   ]
  },
  {
   "cell_type": "code",
   "execution_count": 38,
   "metadata": {
    "execution": {
     "iopub.execute_input": "2020-11-20T21:37:27.817247Z",
     "iopub.status.busy": "2020-11-20T21:37:27.817124Z",
     "iopub.status.idle": "2020-11-20T21:37:27.828356Z",
     "shell.execute_reply": "2020-11-20T21:37:27.827882Z",
     "shell.execute_reply.started": "2020-11-20T21:37:27.817231Z"
    }
   },
   "outputs": [
    {
     "data": {
      "text/plain": [
       "LinregressResult(slope=-0.004980317096653799, intercept=358.8599671826256, rvalue=-0.12490774722601326, pvalue=8.027237344644863e-06, stderr=0.0011109470653533967)"
      ]
     },
     "execution_count": 38,
     "metadata": {},
     "output_type": "execute_result"
    }
   ],
   "source": [
    "test_slope(ripples_rec, 'center_time', 'max_amplitude')"
   ]
  },
  {
   "cell_type": "code",
   "execution_count": 39,
   "metadata": {
    "execution": {
     "iopub.execute_input": "2020-11-20T21:37:28.511984Z",
     "iopub.status.busy": "2020-11-20T21:37:28.511623Z",
     "iopub.status.idle": "2020-11-20T21:37:28.532363Z",
     "shell.execute_reply": "2020-11-20T21:37:28.531797Z",
     "shell.execute_reply.started": "2020-11-20T21:37:28.511937Z"
    }
   },
   "outputs": [
    {
     "data": {
      "text/plain": [
       "MannwhitneyuResult(statistic=659241.0, pvalue=7.061461402851082e-06)"
      ]
     },
     "execution_count": 39,
     "metadata": {},
     "output_type": "execute_result"
    }
   ],
   "source": [
    "stats.mannwhitneyu(ripples_bl.max_amplitude, ripples_rec.max_amplitude)"
   ]
  },
  {
   "cell_type": "markdown",
   "metadata": {},
   "source": [
    "### Envelope Peak"
   ]
  },
  {
   "cell_type": "code",
   "execution_count": 40,
   "metadata": {
    "execution": {
     "iopub.execute_input": "2020-11-20T21:37:30.248809Z",
     "iopub.status.busy": "2020-11-20T21:37:30.248376Z",
     "iopub.status.idle": "2020-11-20T21:37:30.561731Z",
     "shell.execute_reply": "2020-11-20T21:37:30.561295Z",
     "shell.execute_reply.started": "2020-11-20T21:37:30.248752Z"
    }
   },
   "outputs": [
    {
     "data": {
      "application/vnd.jupyter.widget-view+json": {
       "model_id": "b37876c1b51b49f28cec1fe98a296915",
       "version_major": 2,
       "version_minor": 0
      },
      "text/plain": [
       "Canvas(toolbar=Toolbar(toolitems=[('Home', 'Reset original view', 'home', 'home'), ('Back', 'Back to previous …"
      ]
     },
     "metadata": {},
     "output_type": "display_data"
    }
   ],
   "source": [
    "plot_acf_pacf(ripples_bl, ripples_rec, 'envelope_peak')"
   ]
  },
  {
   "cell_type": "code",
   "execution_count": 41,
   "metadata": {
    "execution": {
     "iopub.execute_input": "2020-11-20T21:37:32.471886Z",
     "iopub.status.busy": "2020-11-20T21:37:32.471764Z",
     "iopub.status.idle": "2020-11-20T21:37:32.544182Z",
     "shell.execute_reply": "2020-11-20T21:37:32.543628Z",
     "shell.execute_reply.started": "2020-11-20T21:37:32.471869Z"
    }
   },
   "outputs": [
    {
     "data": {
      "application/vnd.jupyter.widget-view+json": {
       "model_id": "7502cb71b2fe4c8c938ad1760e4d8ee1",
       "version_major": 2,
       "version_minor": 0
      },
      "text/plain": [
       "Canvas(toolbar=Toolbar(toolitems=[('Home', 'Reset original view', 'home', 'home'), ('Back', 'Back to previous …"
      ]
     },
     "metadata": {},
     "output_type": "display_data"
    }
   ],
   "source": [
    "plot_vs_time(ripples_bl, ripples_rec, 'envelope_peak')"
   ]
  },
  {
   "cell_type": "code",
   "execution_count": 42,
   "metadata": {
    "execution": {
     "iopub.execute_input": "2020-11-20T21:37:32.548473Z",
     "iopub.status.busy": "2020-11-20T21:37:32.548317Z",
     "iopub.status.idle": "2020-11-20T21:37:32.561137Z",
     "shell.execute_reply": "2020-11-20T21:37:32.560795Z",
     "shell.execute_reply.started": "2020-11-20T21:37:32.548455Z"
    }
   },
   "outputs": [
    {
     "data": {
      "text/plain": [
       "LinregressResult(slope=0.0017325238816210554, intercept=370.73440302416805, rvalue=0.029766186867209325, pvalue=0.3119305158096863, stderr=0.00171261852802105)"
      ]
     },
     "execution_count": 42,
     "metadata": {},
     "output_type": "execute_result"
    }
   ],
   "source": [
    "test_slope(ripples_bl, 'center_time', 'envelope_peak')"
   ]
  },
  {
   "cell_type": "code",
   "execution_count": 43,
   "metadata": {
    "execution": {
     "iopub.execute_input": "2020-11-20T21:37:32.561749Z",
     "iopub.status.busy": "2020-11-20T21:37:32.561628Z",
     "iopub.status.idle": "2020-11-20T21:37:32.571976Z",
     "shell.execute_reply": "2020-11-20T21:37:32.571580Z",
     "shell.execute_reply.started": "2020-11-20T21:37:32.561733Z"
    }
   },
   "outputs": [
    {
     "data": {
      "text/plain": [
       "LinregressResult(slope=-0.006230516600712992, intercept=403.8341854249089, rvalue=-0.1373326757349791, pvalue=8.987330999965224e-07, stderr=0.001261990197286925)"
      ]
     },
     "execution_count": 43,
     "metadata": {},
     "output_type": "execute_result"
    }
   ],
   "source": [
    "test_slope(ripples_rec, 'center_time', 'envelope_peak')"
   ]
  },
  {
   "cell_type": "code",
   "execution_count": 44,
   "metadata": {
    "execution": {
     "iopub.execute_input": "2020-11-20T21:37:34.551118Z",
     "iopub.status.busy": "2020-11-20T21:37:34.550999Z",
     "iopub.status.idle": "2020-11-20T21:37:34.562820Z",
     "shell.execute_reply": "2020-11-20T21:37:34.562438Z",
     "shell.execute_reply.started": "2020-11-20T21:37:34.551103Z"
    }
   },
   "outputs": [
    {
     "data": {
      "text/plain": [
       "MannwhitneyuResult(statistic=702201.0, pvalue=0.032240166889960446)"
      ]
     },
     "execution_count": 44,
     "metadata": {},
     "output_type": "execute_result"
    }
   ],
   "source": [
    "stats.mannwhitneyu(ripples_bl.envelope_peak, ripples_rec.envelope_peak)"
   ]
  },
  {
   "cell_type": "code",
   "execution_count": 45,
   "metadata": {
    "execution": {
     "iopub.execute_input": "2020-11-20T21:37:37.248878Z",
     "iopub.status.busy": "2020-11-20T21:37:37.248443Z",
     "iopub.status.idle": "2020-11-20T21:37:37.320540Z",
     "shell.execute_reply": "2020-11-20T21:37:37.319971Z",
     "shell.execute_reply.started": "2020-11-20T21:37:37.248821Z"
    }
   },
   "outputs": [
    {
     "data": {
      "application/vnd.jupyter.widget-view+json": {
       "model_id": "4c44a3ac8b36449d940de50746ca27a0",
       "version_major": 2,
       "version_minor": 0
      },
      "text/plain": [
       "Canvas(toolbar=Toolbar(toolitems=[('Home', 'Reset original view', 'home', 'home'), ('Back', 'Back to previous …"
      ]
     },
     "metadata": {},
     "output_type": "display_data"
    },
    {
     "name": "stderr",
     "output_type": "stream",
     "text": [
      "/home/gfindlay/miniconda3/envs/ecephys/lib/python3.7/site-packages/seaborn/distributions.py:2551: FutureWarning: `distplot` is a deprecated function and will be removed in a future version. Please adapt your code to use either `displot` (a figure-level function with similar flexibility) or `kdeplot` (an axes-level function for kernel density plots).\n",
      "  warnings.warn(msg, FutureWarning)\n",
      "/home/gfindlay/miniconda3/envs/ecephys/lib/python3.7/site-packages/seaborn/distributions.py:2551: FutureWarning: `distplot` is a deprecated function and will be removed in a future version. Please adapt your code to use either `displot` (a figure-level function with similar flexibility) or `kdeplot` (an axes-level function for kernel density plots).\n",
      "  warnings.warn(msg, FutureWarning)\n"
     ]
    },
    {
     "data": {
      "text/plain": [
       "<matplotlib.legend.Legend at 0x7f0005151e50>"
      ]
     },
     "execution_count": 45,
     "metadata": {},
     "output_type": "execute_result"
    }
   ],
   "source": [
    "plt.figure(figsize=(10, 8))\n",
    "sns.distplot(ripples_bl.envelope_peak, hist=False, label='Baseline')\n",
    "sns.distplot(ripples_rec.envelope_peak, hist=False, label='Recovery')\n",
    "plt.xlabel(\"Envelope peak\", labelpad=13)\n",
    "plt.ylabel(\"frequency\", labelpad=13)\n",
    "plt.legend()"
   ]
  },
  {
   "cell_type": "markdown",
   "metadata": {},
   "source": [
    "### Envelope Integral"
   ]
  },
  {
   "cell_type": "code",
   "execution_count": 46,
   "metadata": {
    "execution": {
     "iopub.execute_input": "2020-11-20T21:37:50.426249Z",
     "iopub.status.busy": "2020-11-20T21:37:50.425799Z",
     "iopub.status.idle": "2020-11-20T21:37:50.532057Z",
     "shell.execute_reply": "2020-11-20T21:37:50.531659Z",
     "shell.execute_reply.started": "2020-11-20T21:37:50.426190Z"
    }
   },
   "outputs": [
    {
     "data": {
      "application/vnd.jupyter.widget-view+json": {
       "model_id": "91878cb18851457eb6d8e6256bc9c024",
       "version_major": 2,
       "version_minor": 0
      },
      "text/plain": [
       "Canvas(toolbar=Toolbar(toolitems=[('Home', 'Reset original view', 'home', 'home'), ('Back', 'Back to previous …"
      ]
     },
     "metadata": {},
     "output_type": "display_data"
    }
   ],
   "source": [
    "plot_acf_pacf(ripples_bl, ripples_rec, 'envelope_integral')"
   ]
  },
  {
   "cell_type": "code",
   "execution_count": 47,
   "metadata": {
    "execution": {
     "iopub.execute_input": "2020-11-20T21:37:52.622010Z",
     "iopub.status.busy": "2020-11-20T21:37:52.621886Z",
     "iopub.status.idle": "2020-11-20T21:37:52.698471Z",
     "shell.execute_reply": "2020-11-20T21:37:52.697873Z",
     "shell.execute_reply.started": "2020-11-20T21:37:52.621992Z"
    }
   },
   "outputs": [
    {
     "data": {
      "application/vnd.jupyter.widget-view+json": {
       "model_id": "bd07904706d44ac3b33fb9e87923106d",
       "version_major": 2,
       "version_minor": 0
      },
      "text/plain": [
       "Canvas(toolbar=Toolbar(toolitems=[('Home', 'Reset original view', 'home', 'home'), ('Back', 'Back to previous …"
      ]
     },
     "metadata": {},
     "output_type": "display_data"
    }
   ],
   "source": [
    "plot_vs_time(ripples_bl, ripples_rec, 'envelope_integral')"
   ]
  },
  {
   "cell_type": "code",
   "execution_count": 48,
   "metadata": {
    "execution": {
     "iopub.execute_input": "2020-11-20T21:37:52.700603Z",
     "iopub.status.busy": "2020-11-20T21:37:52.700484Z",
     "iopub.status.idle": "2020-11-20T21:37:52.712827Z",
     "shell.execute_reply": "2020-11-20T21:37:52.712384Z",
     "shell.execute_reply.started": "2020-11-20T21:37:52.700586Z"
    }
   },
   "outputs": [
    {
     "data": {
      "text/plain": [
       "LinregressResult(slope=0.2840259769791851, intercept=39641.775156843236, rvalue=0.03161942525617308, pvalue=0.282748295429216, stderr=0.2642919751652511)"
      ]
     },
     "execution_count": 48,
     "metadata": {},
     "output_type": "execute_result"
    }
   ],
   "source": [
    "test_slope(ripples_bl, 'center_time', 'envelope_integral')"
   ]
  },
  {
   "cell_type": "code",
   "execution_count": 49,
   "metadata": {
    "execution": {
     "iopub.execute_input": "2020-11-20T21:37:52.716470Z",
     "iopub.status.busy": "2020-11-20T21:37:52.716342Z",
     "iopub.status.idle": "2020-11-20T21:37:52.727915Z",
     "shell.execute_reply": "2020-11-20T21:37:52.727563Z",
     "shell.execute_reply.started": "2020-11-20T21:37:52.716454Z"
    }
   },
   "outputs": [
    {
     "data": {
      "text/plain": [
       "LinregressResult(slope=-0.5572242259851721, intercept=41308.57290515788, rvalue=-0.07663743854313859, pvalue=0.0062862749666023855, stderr=0.20358709794281143)"
      ]
     },
     "execution_count": 49,
     "metadata": {},
     "output_type": "execute_result"
    }
   ],
   "source": [
    "test_slope(ripples_rec, 'center_time', 'envelope_integral')"
   ]
  },
  {
   "cell_type": "code",
   "execution_count": 50,
   "metadata": {
    "execution": {
     "iopub.execute_input": "2020-11-20T21:37:52.858905Z",
     "iopub.status.busy": "2020-11-20T21:37:52.858783Z",
     "iopub.status.idle": "2020-11-20T21:37:52.871830Z",
     "shell.execute_reply": "2020-11-20T21:37:52.871439Z",
     "shell.execute_reply.started": "2020-11-20T21:37:52.858889Z"
    }
   },
   "outputs": [
    {
     "data": {
      "text/plain": [
       "MannwhitneyuResult(statistic=695560.0, pvalue=0.012733605053050722)"
      ]
     },
     "execution_count": 50,
     "metadata": {},
     "output_type": "execute_result"
    }
   ],
   "source": [
    "stats.mannwhitneyu(ripples_bl.envelope_integral, ripples_rec.envelope_integral)"
   ]
  },
  {
   "cell_type": "code",
   "execution_count": 51,
   "metadata": {
    "execution": {
     "iopub.execute_input": "2020-11-20T21:37:59.385503Z",
     "iopub.status.busy": "2020-11-20T21:37:59.385059Z",
     "iopub.status.idle": "2020-11-20T21:37:59.467191Z",
     "shell.execute_reply": "2020-11-20T21:37:59.466640Z",
     "shell.execute_reply.started": "2020-11-20T21:37:59.385447Z"
    }
   },
   "outputs": [
    {
     "data": {
      "application/vnd.jupyter.widget-view+json": {
       "model_id": "5ec9f16a95f6429ba7b393807a08174e",
       "version_major": 2,
       "version_minor": 0
      },
      "text/plain": [
       "Canvas(toolbar=Toolbar(toolitems=[('Home', 'Reset original view', 'home', 'home'), ('Back', 'Back to previous …"
      ]
     },
     "metadata": {},
     "output_type": "display_data"
    },
    {
     "name": "stderr",
     "output_type": "stream",
     "text": [
      "/home/gfindlay/miniconda3/envs/ecephys/lib/python3.7/site-packages/seaborn/distributions.py:2551: FutureWarning: `distplot` is a deprecated function and will be removed in a future version. Please adapt your code to use either `displot` (a figure-level function with similar flexibility) or `kdeplot` (an axes-level function for kernel density plots).\n",
      "  warnings.warn(msg, FutureWarning)\n",
      "/home/gfindlay/miniconda3/envs/ecephys/lib/python3.7/site-packages/seaborn/distributions.py:2551: FutureWarning: `distplot` is a deprecated function and will be removed in a future version. Please adapt your code to use either `displot` (a figure-level function with similar flexibility) or `kdeplot` (an axes-level function for kernel density plots).\n",
      "  warnings.warn(msg, FutureWarning)\n"
     ]
    },
    {
     "data": {
      "text/plain": [
       "<matplotlib.legend.Legend at 0x7efc4b1aacd0>"
      ]
     },
     "execution_count": 51,
     "metadata": {},
     "output_type": "execute_result"
    }
   ],
   "source": [
    "plt.figure(figsize=(10, 8))\n",
    "sns.distplot(ripples_bl.envelope_integral, hist=False, label='Baseline')\n",
    "sns.distplot(ripples_rec.envelope_integral, hist=False, label='Recovery')\n",
    "plt.xlabel(\"Envelope integral\", labelpad=13)\n",
    "plt.ylabel(\"frequency\", labelpad=13)\n",
    "plt.legend()"
   ]
  },
  {
   "cell_type": "markdown",
   "metadata": {},
   "source": [
    "## Look at ripple density"
   ]
  },
  {
   "cell_type": "code",
   "execution_count": 52,
   "metadata": {
    "execution": {
     "iopub.execute_input": "2020-11-20T21:38:10.826020Z",
     "iopub.status.busy": "2020-11-20T21:38:10.825548Z",
     "iopub.status.idle": "2020-11-20T21:38:10.896820Z",
     "shell.execute_reply": "2020-11-20T21:38:10.896199Z",
     "shell.execute_reply.started": "2020-11-20T21:38:10.825963Z"
    }
   },
   "outputs": [
    {
     "data": {
      "application/vnd.jupyter.widget-view+json": {
       "model_id": "a0089a0c87344e148460510ba3b691c0",
       "version_major": 2,
       "version_minor": 0
      },
      "text/plain": [
       "Canvas(toolbar=Toolbar(toolitems=[('Home', 'Reset original view', 'home', 'home'), ('Back', 'Back to previous …"
      ]
     },
     "metadata": {},
     "output_type": "display_data"
    },
    {
     "name": "stderr",
     "output_type": "stream",
     "text": [
      "/home/gfindlay/miniconda3/envs/ecephys/lib/python3.7/site-packages/seaborn/distributions.py:2551: FutureWarning: `distplot` is a deprecated function and will be removed in a future version. Please adapt your code to use either `displot` (a figure-level function with similar flexibility) or `kdeplot` (an axes-level function for kernel density plots).\n",
      "  warnings.warn(msg, FutureWarning)\n",
      "/home/gfindlay/miniconda3/envs/ecephys/lib/python3.7/site-packages/seaborn/distributions.py:2551: FutureWarning: `distplot` is a deprecated function and will be removed in a future version. Please adapt your code to use either `displot` (a figure-level function with similar flexibility) or `kdeplot` (an axes-level function for kernel density plots).\n",
      "  warnings.warn(msg, FutureWarning)\n"
     ]
    },
    {
     "data": {
      "text/plain": [
       "<matplotlib.legend.Legend at 0x7efc4b0a6d10>"
      ]
     },
     "execution_count": 52,
     "metadata": {},
     "output_type": "execute_result"
    }
   ],
   "source": [
    "plt.figure(figsize=(10, 8))\n",
    "sns.distplot(bl_hypno[bl_hypno.state == \"N2\"].duration, hist=False, label='Baseline')\n",
    "sns.distplot(rec_hypno[rec_hypno.state == \"N2\"].duration, hist=False, label='Recovery')\n",
    "plt.xlabel(\"NREM Episode Duration\", labelpad=13)\n",
    "plt.ylabel(\"frequency\", labelpad=13)\n",
    "plt.legend()"
   ]
  },
  {
   "cell_type": "code",
   "execution_count": 53,
   "metadata": {
    "execution": {
     "iopub.execute_input": "2020-11-20T21:38:11.952325Z",
     "iopub.status.busy": "2020-11-20T21:38:11.951893Z",
     "iopub.status.idle": "2020-11-20T21:38:11.972277Z",
     "shell.execute_reply": "2020-11-20T21:38:11.971535Z",
     "shell.execute_reply.started": "2020-11-20T21:38:11.952268Z"
    }
   },
   "outputs": [],
   "source": [
    "def get_ripple_density(hypno, ripples):  \n",
    "    N2 = hypno[hypno.state == \"N2\"]\n",
    "    N2['n_ripples'] = N2.apply(lambda episode: np.sum(np.logical_and(ripples.center_time >= episode.start_time * 1000, ripples.center_time <= episode.end_time * 1000)), axis=1)\n",
    "    N2['ripple_density'] = N2.apply(lambda episode: episode.n_ripples / episode.duration, axis=1)\n",
    "    return N2"
   ]
  },
  {
   "cell_type": "code",
   "execution_count": 54,
   "metadata": {
    "execution": {
     "iopub.execute_input": "2020-11-20T21:38:17.962055Z",
     "iopub.status.busy": "2020-11-20T21:38:17.961618Z",
     "iopub.status.idle": "2020-11-20T21:38:18.050114Z",
     "shell.execute_reply": "2020-11-20T21:38:18.049521Z",
     "shell.execute_reply.started": "2020-11-20T21:38:17.961997Z"
    }
   },
   "outputs": [
    {
     "data": {
      "application/vnd.jupyter.widget-view+json": {
       "model_id": "d297ce0db42c4f79a1e4e9035176e350",
       "version_major": 2,
       "version_minor": 0
      },
      "text/plain": [
       "Canvas(toolbar=Toolbar(toolitems=[('Home', 'Reset original view', 'home', 'home'), ('Back', 'Back to previous …"
      ]
     },
     "metadata": {},
     "output_type": "display_data"
    },
    {
     "name": "stdout",
     "output_type": "stream",
     "text": [
      "Mean ripple density:  0.0 \n",
      " Median ripple density:  0.0\n"
     ]
    }
   ],
   "source": [
    "bl_density = get_ripple_density(bl_hypno, ripples_bl)\n",
    "\n",
    "plt.figure()\n",
    "ax = bl_density.ripple_density.plot.hist(bins=20)\n",
    "\n",
    "print(\"Mean ripple density: \", bl_density.ripple_density.mean(), \"\\n\", \"Median ripple density: \", bl_density.ripple_density.median())"
   ]
  },
  {
   "cell_type": "code",
   "execution_count": 56,
   "metadata": {},
   "outputs": [
    {
     "data": {
      "application/vnd.jupyter.widget-view+json": {
       "model_id": "47b73158ade84180a8d2f2afe862f6c7",
       "version_major": 2,
       "version_minor": 0
      },
      "text/plain": [
       "Canvas(toolbar=Toolbar(toolitems=[('Home', 'Reset original view', 'home', 'home'), ('Back', 'Back to previous …"
      ]
     },
     "metadata": {},
     "output_type": "display_data"
    }
   ],
   "source": [
    "ax = bl_density.plot(x='start_time', y='ripple_density')"
   ]
  },
  {
   "cell_type": "code",
   "execution_count": 57,
   "metadata": {},
   "outputs": [
    {
     "data": {
      "text/plain": [
       "LinregressResult(slope=-4.173832579191548e-06, intercept=0.8484553011113574, rvalue=-0.03186301914603328, pvalue=0.8058012901898253, stderr=1.690253733077719e-05)"
      ]
     },
     "execution_count": 57,
     "metadata": {},
     "output_type": "execute_result"
    }
   ],
   "source": [
    "test_slope(bl_density, 'start_time', 'ripple_density')"
   ]
  },
  {
   "cell_type": "code",
   "execution_count": 58,
   "metadata": {},
   "outputs": [
    {
     "data": {
      "application/vnd.jupyter.widget-view+json": {
       "model_id": "8297c36fdbeb41fc8780f6a3dbe5b63f",
       "version_major": 2,
       "version_minor": 0
      },
      "text/plain": [
       "Canvas(toolbar=Toolbar(toolitems=[('Home', 'Reset original view', 'home', 'home'), ('Back', 'Back to previous …"
      ]
     },
     "metadata": {},
     "output_type": "display_data"
    },
    {
     "name": "stdout",
     "output_type": "stream",
     "text": [
      "Mean ripple density:  0.9287416488127143 \n",
      " Median ripple density:  0.9719696969696969\n"
     ]
    }
   ],
   "source": [
    "rec_density = get_ripple_density(rec_hypno, ripples_rec)\n",
    "\n",
    "plt.figure()\n",
    "ax = rec_density.ripple_density.plot.hist(bins=20)\n",
    "\n",
    "print(\"Mean ripple density: \", rec_density.ripple_density.mean(), \"\\n\", \"Median ripple density: \", rec_density.ripple_density.median())"
   ]
  },
  {
   "cell_type": "code",
   "execution_count": 59,
   "metadata": {},
   "outputs": [
    {
     "data": {
      "application/vnd.jupyter.widget-view+json": {
       "model_id": "1eaea14167624b5589504fe1b1e0cfc9",
       "version_major": 2,
       "version_minor": 0
      },
      "text/plain": [
       "Canvas(toolbar=Toolbar(toolitems=[('Home', 'Reset original view', 'home', 'home'), ('Back', 'Back to previous …"
      ]
     },
     "metadata": {},
     "output_type": "display_data"
    },
    {
     "data": {
      "text/plain": [
       "<AxesSubplot:>"
      ]
     },
     "execution_count": 59,
     "metadata": {},
     "output_type": "execute_result"
    }
   ],
   "source": [
    "plt.figure()\n",
    "rec_density.boxplot(column=['ripple_density'])"
   ]
  },
  {
   "cell_type": "code",
   "execution_count": 60,
   "metadata": {},
   "outputs": [
    {
     "data": {
      "application/vnd.jupyter.widget-view+json": {
       "model_id": "6d989563e504433c813d2628fda0ecaf",
       "version_major": 2,
       "version_minor": 0
      },
      "text/plain": [
       "Canvas(toolbar=Toolbar(toolitems=[('Home', 'Reset original view', 'home', 'home'), ('Back', 'Back to previous …"
      ]
     },
     "metadata": {},
     "output_type": "display_data"
    }
   ],
   "source": [
    "ax = rec_density.plot(x='start_time', y='ripple_density')"
   ]
  },
  {
   "cell_type": "code",
   "execution_count": 61,
   "metadata": {},
   "outputs": [
    {
     "data": {
      "text/plain": [
       "LinregressResult(slope=-2.857960321366003e-05, intercept=1.032192804641197, rvalue=-0.2035826851493785, pvalue=0.2481631224433183, stderr=2.4296777687959012e-05)"
      ]
     },
     "execution_count": 61,
     "metadata": {},
     "output_type": "execute_result"
    }
   ],
   "source": [
    "test_slope(rec_density, 'start_time', 'ripple_density')"
   ]
  },
  {
   "cell_type": "code",
   "execution_count": 62,
   "metadata": {},
   "outputs": [
    {
     "name": "stderr",
     "output_type": "stream",
     "text": [
      "/home/gfindlay/miniconda3/envs/ecephys/lib/python3.7/site-packages/ipykernel_launcher.py:4: RuntimeWarning: More than 20 figures have been opened. Figures created through the pyplot interface (`matplotlib.pyplot.figure`) are retained until explicitly closed and may consume too much memory. (To control this warning, see the rcParam `figure.max_open_warning`).\n",
      "  after removing the cwd from sys.path.\n"
     ]
    },
    {
     "data": {
      "application/vnd.jupyter.widget-view+json": {
       "model_id": "f95e794566f641c48c44cdd228bb5714",
       "version_major": 2,
       "version_minor": 0
      },
      "text/plain": [
       "Canvas(toolbar=Toolbar(toolitems=[('Home', 'Reset original view', 'home', 'home'), ('Back', 'Back to previous …"
      ]
     },
     "metadata": {},
     "output_type": "display_data"
    },
    {
     "name": "stderr",
     "output_type": "stream",
     "text": [
      "/home/gfindlay/miniconda3/envs/ecephys/lib/python3.7/site-packages/pandas/core/series.py:726: RuntimeWarning: divide by zero encountered in log\n",
      "  result = getattr(ufunc, method)(*inputs, **kwargs)\n",
      "/home/gfindlay/miniconda3/envs/ecephys/lib/python3.7/site-packages/numpy/lib/function_base.py:2474: RuntimeWarning: invalid value encountered in subtract\n",
      "  X -= avg[:, None]\n"
     ]
    }
   ],
   "source": [
    "plot_qq(bl_density, rec_density, 'ripple_density')"
   ]
  },
  {
   "cell_type": "code",
   "execution_count": 63,
   "metadata": {},
   "outputs": [
    {
     "data": {
      "text/plain": [
       "Ttest_indResult(statistic=-1.6143277836765124, pvalue=0.11299018971037275)"
      ]
     },
     "execution_count": 63,
     "metadata": {},
     "output_type": "execute_result"
    }
   ],
   "source": [
    "stats.ttest_ind(bl_density.ripple_density, rec_density.ripple_density, equal_var=False)"
   ]
  },
  {
   "cell_type": "code",
   "execution_count": 64,
   "metadata": {},
   "outputs": [
    {
     "data": {
      "application/vnd.jupyter.widget-view+json": {
       "model_id": "08869aaceb6245b283638bcf55430a1e",
       "version_major": 2,
       "version_minor": 0
      },
      "text/plain": [
       "Canvas(toolbar=Toolbar(toolitems=[('Home', 'Reset original view', 'home', 'home'), ('Back', 'Back to previous …"
      ]
     },
     "metadata": {},
     "output_type": "display_data"
    },
    {
     "name": "stderr",
     "output_type": "stream",
     "text": [
      "/home/gfindlay/miniconda3/envs/ecephys/lib/python3.7/site-packages/seaborn/distributions.py:2551: FutureWarning: `distplot` is a deprecated function and will be removed in a future version. Please adapt your code to use either `displot` (a figure-level function with similar flexibility) or `kdeplot` (an axes-level function for kernel density plots).\n",
      "  warnings.warn(msg, FutureWarning)\n",
      "/home/gfindlay/miniconda3/envs/ecephys/lib/python3.7/site-packages/seaborn/distributions.py:2551: FutureWarning: `distplot` is a deprecated function and will be removed in a future version. Please adapt your code to use either `displot` (a figure-level function with similar flexibility) or `kdeplot` (an axes-level function for kernel density plots).\n",
      "  warnings.warn(msg, FutureWarning)\n"
     ]
    }
   ],
   "source": [
    "values_bl, values_rec, cohens_d = two_sample_data_setup_for_cohens_d(bl_density.ripple_density.mean(), \n",
    "                                                                     rec_density.ripple_density.mean(), \n",
    "                                                                     bl_density.ripple_density.std(), \n",
    "                                                                     rec_density.ripple_density.std())\n",
    "visualize_distributions(bl_density.ripple_density, rec_density.ripple_density, cohens_d, interpret_cohens_d(cohens_d))\n"
   ]
  },
  {
   "cell_type": "code",
   "execution_count": 65,
   "metadata": {},
   "outputs": [
    {
     "name": "stdout",
     "output_type": "stream",
     "text": [
      "3.688804554079696 0.05477886431560443 0.8416666666666667\n"
     ]
    }
   ],
   "source": [
    "stat, p, med, tbl = stats.median_test(bl_density.ripple_density, rec_density.ripple_density) \n",
    "print(stat, p, med)"
   ]
  },
  {
   "cell_type": "code",
   "execution_count": 66,
   "metadata": {},
   "outputs": [
    {
     "data": {
      "text/plain": [
       "KruskalResult(statistic=5.482663608228726, pvalue=0.01920597156083646)"
      ]
     },
     "execution_count": 66,
     "metadata": {},
     "output_type": "execute_result"
    }
   ],
   "source": [
    "stats.kruskal(bl_density.ripple_density, rec_density.ripple_density)"
   ]
  },
  {
   "cell_type": "code",
   "execution_count": 67,
   "metadata": {},
   "outputs": [
    {
     "data": {
      "text/plain": [
       "MannwhitneyuResult(statistic=748.5, pvalue=0.009702016125195995)"
      ]
     },
     "execution_count": 67,
     "metadata": {},
     "output_type": "execute_result"
    }
   ],
   "source": [
    "stats.mannwhitneyu(bl_density.ripple_density, rec_density.ripple_density)"
   ]
  },
  {
   "cell_type": "markdown",
   "metadata": {},
   "source": [
    "## Epoched ripple density"
   ]
  },
  {
   "cell_type": "code",
   "execution_count": 68,
   "metadata": {},
   "outputs": [],
   "source": [
    "# https://stackoverflow.com/questions/21160134/flatten-a-column-with-value-of-type-list-while-duplicating-the-other-columns-va\n",
    "def unnest_df(df, col, reset_index=False):\n",
    "    import pandas as pd\n",
    "    col_flat = pd.DataFrame([[i, x] \n",
    "                       for i, y in df[col].apply(list).iteritems() \n",
    "                           for x in y], columns=['I', col])\n",
    "    col_flat = col_flat.set_index('I')\n",
    "    df = df.drop(col, 1)\n",
    "    df = df.merge(col_flat, left_index=True, right_index=True)\n",
    "    if reset_index:\n",
    "        df = df.reset_index(drop=True)\n",
    "    return df\n",
    "\n",
    "def _get_ripple_density(hypno, ripples, epoch_length):  \n",
    "    N2 = hypno[np.logical_and(hypno.state == \"N2\", hypno.duration >= epoch_length)]\n",
    "    N2['epoch_start_times'] = N2.apply(lambda episode: np.arange(episode.start_time, episode.end_time - epoch_length, epoch_length), axis=1)\n",
    "    N2 = unnest_df(N2, 'epoch_start_times')\n",
    "    N2 = N2.rename(columns={'end_time': 'episode_end_time', 'start_time': 'epsiode_start_time', 'duration': 'episode_duration', 'epoch_start_times': 'start_time'})\n",
    "    N2['end_time'] = N2.apply(lambda epoch: epoch.start_time + epoch_length, axis=1)\n",
    "    N2['n_ripples'] = N2.apply(lambda epoch: np.sum(np.logical_and(ripples.center_time >= epoch.start_time * 1000, ripples.center_time <= epoch.end_time * 1000)), axis=1)\n",
    "    N2['ripple_density'] = N2.apply(lambda epoch: epoch.n_ripples / epoch_length, axis=1)\n",
    "    return N2"
   ]
  },
  {
   "cell_type": "code",
   "execution_count": 86,
   "metadata": {},
   "outputs": [],
   "source": [
    "epoch_length = 10"
   ]
  },
  {
   "cell_type": "code",
   "execution_count": 87,
   "metadata": {},
   "outputs": [
    {
     "data": {
      "application/vnd.jupyter.widget-view+json": {
       "model_id": "e504c09608a7488a87e0f87b30d729a9",
       "version_major": 2,
       "version_minor": 0
      },
      "text/plain": [
       "Canvas(toolbar=Toolbar(toolitems=[('Home', 'Reset original view', 'home', 'home'), ('Back', 'Back to previous …"
      ]
     },
     "metadata": {},
     "output_type": "display_data"
    },
    {
     "name": "stdout",
     "output_type": "stream",
     "text": [
      "Mean ripple density:  0.8620553359683796 \n",
      " Median ripple density:  0.8 \n",
      " Number of ripples:  253\n"
     ]
    }
   ],
   "source": [
    "bl_density = _get_ripple_density(bl_hypno, ripples_bl, epoch_length)\n",
    "\n",
    "plt.figure()\n",
    "ax = bl_density.ripple_density.plot.hist()\n",
    "\n",
    "print(\"Mean ripple density: \", bl_density.ripple_density.mean(), \"\\n\", \"Median ripple density: \", bl_density.ripple_density.median(), \"\\n\", \"Number of ripples: \", len(bl_density))"
   ]
  },
  {
   "cell_type": "code",
   "execution_count": 88,
   "metadata": {},
   "outputs": [
    {
     "data": {
      "application/vnd.jupyter.widget-view+json": {
       "model_id": "75b06d87f5e641ad8fdeb966c17223c2",
       "version_major": 2,
       "version_minor": 0
      },
      "text/plain": [
       "Canvas(toolbar=Toolbar(toolitems=[('Home', 'Reset original view', 'home', 'home'), ('Back', 'Back to previous …"
      ]
     },
     "metadata": {},
     "output_type": "display_data"
    }
   ],
   "source": [
    "ax = bl_density.plot(x='start_time', y='ripple_density')"
   ]
  },
  {
   "cell_type": "code",
   "execution_count": 89,
   "metadata": {},
   "outputs": [
    {
     "data": {
      "text/plain": [
       "LinregressResult(slope=-3.6780661464657057e-06, intercept=0.8777217679452868, rvalue=-0.017459707100889704, pvalue=0.7822719766730489, stderr=1.3294729799701525e-05)"
      ]
     },
     "execution_count": 89,
     "metadata": {},
     "output_type": "execute_result"
    }
   ],
   "source": [
    "test_slope(bl_density, 'start_time', 'ripple_density')"
   ]
  },
  {
   "cell_type": "code",
   "execution_count": 90,
   "metadata": {},
   "outputs": [
    {
     "data": {
      "application/vnd.jupyter.widget-view+json": {
       "model_id": "019601989d764ef984a1b92cee90c736",
       "version_major": 2,
       "version_minor": 0
      },
      "text/plain": [
       "Canvas(toolbar=Toolbar(toolitems=[('Home', 'Reset original view', 'home', 'home'), ('Back', 'Back to previous …"
      ]
     },
     "metadata": {},
     "output_type": "display_data"
    },
    {
     "name": "stdout",
     "output_type": "stream",
     "text": [
      "Mean ripple density:  1.0527777777777778 \n",
      " Median ripple density:  1.0 \n",
      " Number of ripples:  360\n"
     ]
    }
   ],
   "source": [
    "rec_density = _get_ripple_density(rec_hypno, ripples_rec, epoch_length)\n",
    "\n",
    "plt.figure()\n",
    "ax = rec_density.ripple_density.plot.hist()\n",
    "\n",
    "print(\"Mean ripple density: \", rec_density.ripple_density.mean(), \"\\n\", \"Median ripple density: \", rec_density.ripple_density.median(), \"\\n\", \"Number of ripples: \", len(rec_density))"
   ]
  },
  {
   "cell_type": "code",
   "execution_count": 91,
   "metadata": {},
   "outputs": [
    {
     "data": {
      "application/vnd.jupyter.widget-view+json": {
       "model_id": "ef7ad8e3b9bb49a291e0831e21c5029a",
       "version_major": 2,
       "version_minor": 0
      },
      "text/plain": [
       "Canvas(toolbar=Toolbar(toolitems=[('Home', 'Reset original view', 'home', 'home'), ('Back', 'Back to previous …"
      ]
     },
     "metadata": {},
     "output_type": "display_data"
    }
   ],
   "source": [
    "ax = rec_density.plot(x='start_time', y='ripple_density')"
   ]
  },
  {
   "cell_type": "code",
   "execution_count": 92,
   "metadata": {},
   "outputs": [
    {
     "data": {
      "text/plain": [
       "LinregressResult(slope=-4.072352343353163e-05, intercept=1.2273491657967954, rvalue=-0.2183692401731002, pvalue=2.9227604481441898e-05, stderr=9.618396015441068e-06)"
      ]
     },
     "execution_count": 92,
     "metadata": {},
     "output_type": "execute_result"
    }
   ],
   "source": [
    "test_slope(rec_density, 'start_time', 'ripple_density')"
   ]
  },
  {
   "cell_type": "code",
   "execution_count": 93,
   "metadata": {},
   "outputs": [
    {
     "data": {
      "application/vnd.jupyter.widget-view+json": {
       "model_id": "8886ced9c0044dfaa49990d597586a34",
       "version_major": 2,
       "version_minor": 0
      },
      "text/plain": [
       "Canvas(toolbar=Toolbar(toolitems=[('Home', 'Reset original view', 'home', 'home'), ('Back', 'Back to previous …"
      ]
     },
     "metadata": {},
     "output_type": "display_data"
    }
   ],
   "source": [
    "plot_qq(bl_density, rec_density, 'ripple_density')"
   ]
  },
  {
   "cell_type": "code",
   "execution_count": 94,
   "metadata": {},
   "outputs": [
    {
     "data": {
      "text/plain": [
       "Ttest_indResult(statistic=-7.114631377730988, pvalue=3.477204130057147e-12)"
      ]
     },
     "execution_count": 94,
     "metadata": {},
     "output_type": "execute_result"
    }
   ],
   "source": [
    "stats.ttest_ind(bl_density.ripple_density, rec_density.ripple_density, equal_var=False)"
   ]
  },
  {
   "cell_type": "code",
   "execution_count": 95,
   "metadata": {},
   "outputs": [
    {
     "data": {
      "application/vnd.jupyter.widget-view+json": {
       "model_id": "8d0c809fb1614dcc99424388cb41da08",
       "version_major": 2,
       "version_minor": 0
      },
      "text/plain": [
       "Canvas(toolbar=Toolbar(toolitems=[('Home', 'Reset original view', 'home', 'home'), ('Back', 'Back to previous …"
      ]
     },
     "metadata": {},
     "output_type": "display_data"
    },
    {
     "name": "stderr",
     "output_type": "stream",
     "text": [
      "/home/gfindlay/miniconda3/envs/ecephys/lib/python3.7/site-packages/seaborn/distributions.py:2551: FutureWarning: `distplot` is a deprecated function and will be removed in a future version. Please adapt your code to use either `displot` (a figure-level function with similar flexibility) or `kdeplot` (an axes-level function for kernel density plots).\n",
      "  warnings.warn(msg, FutureWarning)\n",
      "/home/gfindlay/miniconda3/envs/ecephys/lib/python3.7/site-packages/seaborn/distributions.py:2551: FutureWarning: `distplot` is a deprecated function and will be removed in a future version. Please adapt your code to use either `displot` (a figure-level function with similar flexibility) or `kdeplot` (an axes-level function for kernel density plots).\n",
      "  warnings.warn(msg, FutureWarning)\n"
     ]
    }
   ],
   "source": [
    "values_bl, values_rec, cohens_d = two_sample_data_setup_for_cohens_d(bl_density.ripple_density.mean(), \n",
    "                                                                     rec_density.ripple_density.mean(), \n",
    "                                                                     bl_density.ripple_density.std(), \n",
    "                                                                     rec_density.ripple_density.std())\n",
    "visualize_distributions(bl_density.ripple_density, rec_density.ripple_density, cohens_d, interpret_cohens_d(cohens_d))\n"
   ]
  },
  {
   "cell_type": "code",
   "execution_count": 96,
   "metadata": {},
   "outputs": [
    {
     "name": "stdout",
     "output_type": "stream",
     "text": [
      "25.997054394788773 3.4193867465485304e-07 1.0\n"
     ]
    }
   ],
   "source": [
    "stat, p, med, tbl = stats.median_test(bl_density.ripple_density, rec_density.ripple_density) \n",
    "print(stat, p, med)"
   ]
  },
  {
   "cell_type": "code",
   "execution_count": 97,
   "metadata": {},
   "outputs": [
    {
     "data": {
      "text/plain": [
       "KruskalResult(statistic=48.49786383585921, pvalue=3.30648852463529e-12)"
      ]
     },
     "execution_count": 97,
     "metadata": {},
     "output_type": "execute_result"
    }
   ],
   "source": [
    "stats.kruskal(bl_density.ripple_density, rec_density.ripple_density)"
   ]
  },
  {
   "cell_type": "code",
   "execution_count": 98,
   "metadata": {},
   "outputs": [
    {
     "data": {
      "text/plain": [
       "MannwhitneyuResult(statistic=30567.0, pvalue=1.6559770566120404e-12)"
      ]
     },
     "execution_count": 98,
     "metadata": {},
     "output_type": "execute_result"
    }
   ],
   "source": [
    "stats.mannwhitneyu(bl_density.ripple_density, rec_density.ripple_density)"
   ]
  },
  {
   "cell_type": "markdown",
   "metadata": {},
   "source": [
    "### Sensitivity Analysis"
   ]
  },
  {
   "cell_type": "code",
   "execution_count": 99,
   "metadata": {},
   "outputs": [],
   "source": [
    "def _get_density_ttest_pval(epoch_length):\n",
    "    bl_density = _get_ripple_density(bl_hypno, ripples_bl, epoch_length)\n",
    "    rec_density = _get_ripple_density(rec_hypno, ripples_rec, epoch_length)\n",
    "    return stats.ttest_ind(bl_density.ripple_density, rec_density.ripple_density, equal_var=False).pvalue\n",
    "\n",
    "def _get_density_MannWhitney_pval(epoch_length):\n",
    "    bl_density = _get_ripple_density(bl_hypno, ripples_bl, epoch_length)\n",
    "    rec_density = _get_ripple_density(rec_hypno, ripples_rec, epoch_length)\n",
    "    return stats.mannwhitneyu(bl_density.ripple_density, rec_density.ripple_density).pvalue\n",
    "\n",
    "def _get_density_nEpochs(hypno, ripples, epoch_length):\n",
    "    bl_density = _get_ripple_density(hypno, ripples_bl, epoch_length)\n",
    "    rec_density = _get_ripple_density(rec_hypno, ripples_rec, epoch_length)\n",
    "    return stats.mannwhitneyu(bl_density.ripple_density, rec_density.ripple_density).pvalue\n",
    "\n",
    "df = pd.DataFrame(data={'epoch_length': np.arange(5, 65, 5)})\n",
    "df['ttest_pval'] = df.apply(lambda x: _get_density_ttest_pval(x.epoch_length), axis=1)\n",
    "df['mw_pval'] = df.apply(lambda x: _get_density_MannWhitney_pval(x.epoch_length), axis=1)\n",
    "df['n_epochs_bl'] = df.apply(lambda x: len(_get_ripple_density(bl_hypno, ripples_bl, x.epoch_length)), axis=1)\n",
    "df['n_epochs_rec'] = df.apply(lambda x: len(_get_ripple_density(rec_hypno, ripples_rec, x.epoch_length)), axis=1)"
   ]
  },
  {
   "cell_type": "code",
   "execution_count": 100,
   "metadata": {},
   "outputs": [
    {
     "data": {
      "text/html": [
       "<div>\n",
       "<style scoped>\n",
       "    .dataframe tbody tr th:only-of-type {\n",
       "        vertical-align: middle;\n",
       "    }\n",
       "\n",
       "    .dataframe tbody tr th {\n",
       "        vertical-align: top;\n",
       "    }\n",
       "\n",
       "    .dataframe thead th {\n",
       "        text-align: right;\n",
       "    }\n",
       "</style>\n",
       "<table border=\"1\" class=\"dataframe\">\n",
       "  <thead>\n",
       "    <tr style=\"text-align: right;\">\n",
       "      <th></th>\n",
       "      <th>epoch_length</th>\n",
       "      <th>ttest_pval</th>\n",
       "      <th>mw_pval</th>\n",
       "      <th>n_epochs_bl</th>\n",
       "      <th>n_epochs_rec</th>\n",
       "    </tr>\n",
       "  </thead>\n",
       "  <tbody>\n",
       "    <tr>\n",
       "      <th>0</th>\n",
       "      <td>5</td>\n",
       "      <td>4.355856e-13</td>\n",
       "      <td>6.627848e-14</td>\n",
       "      <td>540</td>\n",
       "      <td>741</td>\n",
       "    </tr>\n",
       "    <tr>\n",
       "      <th>1</th>\n",
       "      <td>10</td>\n",
       "      <td>3.477204e-12</td>\n",
       "      <td>1.655977e-12</td>\n",
       "      <td>253</td>\n",
       "      <td>360</td>\n",
       "    </tr>\n",
       "    <tr>\n",
       "      <th>2</th>\n",
       "      <td>15</td>\n",
       "      <td>2.902205e-12</td>\n",
       "      <td>5.338095e-12</td>\n",
       "      <td>161</td>\n",
       "      <td>234</td>\n",
       "    </tr>\n",
       "    <tr>\n",
       "      <th>3</th>\n",
       "      <td>20</td>\n",
       "      <td>5.564504e-13</td>\n",
       "      <td>4.198128e-13</td>\n",
       "      <td>110</td>\n",
       "      <td>173</td>\n",
       "    </tr>\n",
       "    <tr>\n",
       "      <th>4</th>\n",
       "      <td>25</td>\n",
       "      <td>1.473783e-12</td>\n",
       "      <td>1.516625e-11</td>\n",
       "      <td>89</td>\n",
       "      <td>135</td>\n",
       "    </tr>\n",
       "    <tr>\n",
       "      <th>5</th>\n",
       "      <td>30</td>\n",
       "      <td>1.395253e-12</td>\n",
       "      <td>1.736597e-11</td>\n",
       "      <td>67</td>\n",
       "      <td>108</td>\n",
       "    </tr>\n",
       "    <tr>\n",
       "      <th>6</th>\n",
       "      <td>35</td>\n",
       "      <td>2.710032e-10</td>\n",
       "      <td>3.704303e-10</td>\n",
       "      <td>51</td>\n",
       "      <td>94</td>\n",
       "    </tr>\n",
       "    <tr>\n",
       "      <th>7</th>\n",
       "      <td>40</td>\n",
       "      <td>1.711919e-10</td>\n",
       "      <td>2.676256e-09</td>\n",
       "      <td>44</td>\n",
       "      <td>82</td>\n",
       "    </tr>\n",
       "    <tr>\n",
       "      <th>8</th>\n",
       "      <td>45</td>\n",
       "      <td>1.432978e-12</td>\n",
       "      <td>8.155279e-11</td>\n",
       "      <td>39</td>\n",
       "      <td>72</td>\n",
       "    </tr>\n",
       "    <tr>\n",
       "      <th>9</th>\n",
       "      <td>50</td>\n",
       "      <td>1.284163e-10</td>\n",
       "      <td>3.808782e-09</td>\n",
       "      <td>35</td>\n",
       "      <td>60</td>\n",
       "    </tr>\n",
       "    <tr>\n",
       "      <th>10</th>\n",
       "      <td>55</td>\n",
       "      <td>2.961729e-09</td>\n",
       "      <td>4.139949e-08</td>\n",
       "      <td>30</td>\n",
       "      <td>55</td>\n",
       "    </tr>\n",
       "    <tr>\n",
       "      <th>11</th>\n",
       "      <td>60</td>\n",
       "      <td>9.593454e-08</td>\n",
       "      <td>8.433566e-07</td>\n",
       "      <td>24</td>\n",
       "      <td>48</td>\n",
       "    </tr>\n",
       "  </tbody>\n",
       "</table>\n",
       "</div>"
      ],
      "text/plain": [
       "    epoch_length    ttest_pval       mw_pval  n_epochs_bl  n_epochs_rec\n",
       "0              5  4.355856e-13  6.627848e-14          540           741\n",
       "1             10  3.477204e-12  1.655977e-12          253           360\n",
       "2             15  2.902205e-12  5.338095e-12          161           234\n",
       "3             20  5.564504e-13  4.198128e-13          110           173\n",
       "4             25  1.473783e-12  1.516625e-11           89           135\n",
       "5             30  1.395253e-12  1.736597e-11           67           108\n",
       "6             35  2.710032e-10  3.704303e-10           51            94\n",
       "7             40  1.711919e-10  2.676256e-09           44            82\n",
       "8             45  1.432978e-12  8.155279e-11           39            72\n",
       "9             50  1.284163e-10  3.808782e-09           35            60\n",
       "10            55  2.961729e-09  4.139949e-08           30            55\n",
       "11            60  9.593454e-08  8.433566e-07           24            48"
      ]
     },
     "execution_count": 100,
     "metadata": {},
     "output_type": "execute_result"
    }
   ],
   "source": [
    "df"
   ]
  },
  {
   "cell_type": "code",
   "execution_count": 101,
   "metadata": {},
   "outputs": [
    {
     "data": {
      "application/vnd.jupyter.widget-view+json": {
       "model_id": "6a719e4fa013421d9196585c47bdc59f",
       "version_major": 2,
       "version_minor": 0
      },
      "text/plain": [
       "Canvas(toolbar=Toolbar(toolitems=[('Home', 'Reset original view', 'home', 'home'), ('Back', 'Back to previous …"
      ]
     },
     "metadata": {},
     "output_type": "display_data"
    },
    {
     "data": {
      "text/plain": [
       "<AxesSubplot:xlabel='epoch_length'>"
      ]
     },
     "execution_count": 101,
     "metadata": {},
     "output_type": "execute_result"
    }
   ],
   "source": [
    "df[['ttest_pval', 'mw_pval', 'epoch_length']].plot(x='epoch_length')"
   ]
  },
  {
   "cell_type": "code",
   "execution_count": 102,
   "metadata": {},
   "outputs": [
    {
     "data": {
      "application/vnd.jupyter.widget-view+json": {
       "model_id": "ccaaaafc6ffe49a78a1f92489fe10c29",
       "version_major": 2,
       "version_minor": 0
      },
      "text/plain": [
       "Canvas(toolbar=Toolbar(toolitems=[('Home', 'Reset original view', 'home', 'home'), ('Back', 'Back to previous …"
      ]
     },
     "metadata": {},
     "output_type": "display_data"
    },
    {
     "data": {
      "text/plain": [
       "<AxesSubplot:xlabel='epoch_length'>"
      ]
     },
     "execution_count": 102,
     "metadata": {},
     "output_type": "execute_result"
    }
   ],
   "source": [
    "df[['n_epochs_bl', 'n_epochs_rec', 'epoch_length']].plot(x='epoch_length')"
   ]
  }
 ],
 "metadata": {
  "kernelspec": {
   "display_name": "Python 3",
   "language": "python",
   "name": "python3"
  },
  "language_info": {
   "codemirror_mode": {
    "name": "ipython",
    "version": 3
   },
   "file_extension": ".py",
   "mimetype": "text/x-python",
   "name": "python",
   "nbconvert_exporter": "python",
   "pygments_lexer": "ipython3",
   "version": "3.7.9"
  }
 },
 "nbformat": 4,
 "nbformat_minor": 4
}
