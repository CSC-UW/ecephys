{
 "cells": [
  {
   "cell_type": "code",
   "execution_count": 1,
   "metadata": {
    "execution": {
     "iopub.execute_input": "2021-01-13T01:58:54.622783Z",
     "iopub.status.busy": "2021-01-13T01:58:54.622216Z",
     "iopub.status.idle": "2021-01-13T01:58:54.640042Z",
     "shell.execute_reply": "2021-01-13T01:58:54.639170Z",
     "shell.execute_reply.started": "2021-01-13T01:58:54.622713Z"
    }
   },
   "outputs": [],
   "source": [
    "%load_ext autoreload\n",
    "%autoreload 2"
   ]
  },
  {
   "cell_type": "code",
   "execution_count": 2,
   "metadata": {
    "execution": {
     "iopub.execute_input": "2021-01-13T01:58:55.072926Z",
     "iopub.status.busy": "2021-01-13T01:58:55.072719Z",
     "iopub.status.idle": "2021-01-13T01:58:55.433635Z",
     "shell.execute_reply": "2021-01-13T01:58:55.432520Z",
     "shell.execute_reply.started": "2021-01-13T01:58:55.072901Z"
    }
   },
   "outputs": [],
   "source": [
    "%matplotlib widget\n",
    "import matplotlib.pyplot as plt\n",
    "import seaborn as sns"
   ]
  },
  {
   "cell_type": "code",
   "execution_count": 3,
   "metadata": {
    "execution": {
     "iopub.execute_input": "2021-01-13T01:58:55.560929Z",
     "iopub.status.busy": "2021-01-13T01:58:55.560746Z",
     "iopub.status.idle": "2021-01-13T01:58:55.575488Z",
     "shell.execute_reply": "2021-01-13T01:58:55.575152Z",
     "shell.execute_reply.started": "2021-01-13T01:58:55.560906Z"
    }
   },
   "outputs": [],
   "source": [
    "import numpy as np\n",
    "import pandas as pd"
   ]
  },
  {
   "cell_type": "code",
   "execution_count": 4,
   "metadata": {
    "execution": {
     "iopub.execute_input": "2021-01-13T01:58:56.000375Z",
     "iopub.status.busy": "2021-01-13T01:58:56.000233Z",
     "iopub.status.idle": "2021-01-13T01:58:56.288191Z",
     "shell.execute_reply": "2021-01-13T01:58:56.287425Z",
     "shell.execute_reply.started": "2021-01-13T01:58:56.000359Z"
    }
   },
   "outputs": [],
   "source": [
    "from ecephys.data import paths\n",
    "from ecephys.scoring import load_datetime_hypnogram, filter_states\n",
    "from ecephys.utils import load_df_h5\n",
    "\n",
    "from ecephys.signal.sharp_wave_ripples import get_events_in_interval\n",
    "import ecephys.plot as eplt"
   ]
  },
  {
   "cell_type": "code",
   "execution_count": 35,
   "metadata": {
    "execution": {
     "iopub.execute_input": "2021-01-13T02:04:06.379131Z",
     "iopub.status.busy": "2021-01-13T02:04:06.378674Z",
     "iopub.status.idle": "2021-01-13T02:04:06.401773Z",
     "shell.execute_reply": "2021-01-13T02:04:06.401201Z",
     "shell.execute_reply.started": "2021-01-13T02:04:06.379067Z"
    }
   },
   "outputs": [],
   "source": [
    "subject = \"Alessandro\"\n",
    "condition = \"extended-wake\""
   ]
  },
  {
   "cell_type": "code",
   "execution_count": 36,
   "metadata": {
    "execution": {
     "iopub.execute_input": "2021-01-13T02:04:06.904357Z",
     "iopub.status.busy": "2021-01-13T02:04:06.904214Z",
     "iopub.status.idle": "2021-01-13T02:04:06.960389Z",
     "shell.execute_reply": "2021-01-13T02:04:06.959738Z",
     "shell.execute_reply.started": "2021-01-13T02:04:06.904340Z"
    }
   },
   "outputs": [],
   "source": [
    "hypnogram_paths = paths.get_sglx_style_datapaths(subject=subject, condition=condition, ext=\"hypnogram.tsv\")\n",
    "ew_hypnograms = [load_datetime_hypnogram(path) for path in hypnogram_paths]"
   ]
  },
  {
   "cell_type": "code",
   "execution_count": 37,
   "metadata": {
    "execution": {
     "iopub.execute_input": "2021-01-13T02:04:07.360480Z",
     "iopub.status.busy": "2021-01-13T02:04:07.360354Z",
     "iopub.status.idle": "2021-01-13T02:04:07.377582Z",
     "shell.execute_reply": "2021-01-13T02:04:07.376760Z",
     "shell.execute_reply.started": "2021-01-13T02:04:07.360464Z"
    }
   },
   "outputs": [],
   "source": [
    "hypnogram = pd.concat(ew_hypnograms).reset_index(drop=True)\n",
    "ew_start_dt = hypnogram['start_time'].iloc[0]"
   ]
  },
  {
   "cell_type": "code",
   "execution_count": 38,
   "metadata": {
    "execution": {
     "iopub.execute_input": "2021-01-13T02:04:07.839211Z",
     "iopub.status.busy": "2021-01-13T02:04:07.839073Z",
     "iopub.status.idle": "2021-01-13T02:04:07.939182Z",
     "shell.execute_reply": "2021-01-13T02:04:07.938808Z",
     "shell.execute_reply.started": "2021-01-13T02:04:07.839194Z"
    }
   },
   "outputs": [],
   "source": [
    "spw_paths = paths.get_sglx_style_datapaths(subject=subject, condition=condition, ext=\"spws.h5\")\n",
    "ew_spws = [load_df_h5(path) for path in spw_paths]"
   ]
  },
  {
   "cell_type": "code",
   "execution_count": 39,
   "metadata": {
    "execution": {
     "iopub.execute_input": "2021-01-13T02:04:08.319579Z",
     "iopub.status.busy": "2021-01-13T02:04:08.319244Z",
     "iopub.status.idle": "2021-01-13T02:04:08.358246Z",
     "shell.execute_reply": "2021-01-13T02:04:08.357136Z",
     "shell.execute_reply.started": "2021-01-13T02:04:08.319535Z"
    }
   },
   "outputs": [],
   "source": [
    "for _spws, _hypnogram in zip(ew_spws, ew_hypnograms):\n",
    "    file_start_dt = _hypnogram['start_time'].min()\n",
    "    _spws['start_time'] = file_start_dt + pd.to_timedelta(_spws['start_time'], 's')\n",
    "    _spws['end_time'] = file_start_dt + pd.to_timedelta(_spws['end_time'], 's')\n",
    "    _spws['midpoint'] = file_start_dt + pd.to_timedelta(_spws['midpoint'], 's')\n",
    "    #spws['duration'] = pd.to_timedelta(spws['duration'], 's')\n",
    "    _spws['time_from_ew_start'] = _spws['start_time'] - ew_start_dt\n",
    "    \n",
    "spws = pd.concat(ew_spws).reset_index(drop=True)\n",
    "spws.index += 1\n",
    "spws.index = spws.index.rename('spw_number')"
   ]
  },
  {
   "cell_type": "code",
   "execution_count": 40,
   "metadata": {
    "execution": {
     "iopub.execute_input": "2021-01-13T02:04:08.791522Z",
     "iopub.status.busy": "2021-01-13T02:04:08.791093Z",
     "iopub.status.idle": "2021-01-13T02:04:08.811625Z",
     "shell.execute_reply": "2021-01-13T02:04:08.810850Z",
     "shell.execute_reply.started": "2021-01-13T02:04:08.791466Z"
    }
   },
   "outputs": [],
   "source": [
    "# density = spws.set_index('start_time').resample('10s').count().mean(axis=1).to_frame(name='frequency').reset_index()"
   ]
  },
  {
   "cell_type": "code",
   "execution_count": 41,
   "metadata": {
    "execution": {
     "iopub.execute_input": "2021-01-13T02:04:09.255607Z",
     "iopub.status.busy": "2021-01-13T02:04:09.255465Z",
     "iopub.status.idle": "2021-01-13T02:04:12.027809Z",
     "shell.execute_reply": "2021-01-13T02:04:12.027153Z",
     "shell.execute_reply.started": "2021-01-13T02:04:09.255589Z"
    }
   },
   "outputs": [
    {
     "data": {
      "application/vnd.jupyter.widget-view+json": {
       "model_id": "f5bfad5bdcec444a9913e046972c2cf8",
       "version_major": 2,
       "version_minor": 0
      },
      "text/plain": [
       "Canvas(toolbar=Toolbar(toolitems=[('Home', 'Reset original view', 'home', 'home'), ('Back', 'Back to previous …"
      ]
     },
     "metadata": {},
     "output_type": "display_data"
    }
   ],
   "source": [
    "fig, (density_ax, duration_ax, amplitude_ax, integral_ax) = plt.subplots(4, 1, figsize=(20,8))\n",
    "\n",
    "xmargin=0\n",
    "binwidth = 10\n",
    "nbins = np.int((spws.start_time.max() - spws.start_time.min()).total_seconds() / binwidth)\n",
    "sns.histplot(data=spws, x='start_time', bins=nbins, color='black', ax=density_ax)\n",
    "density_ax.set(xlabel=None, ylabel='Frequency (Hz)', xmargin=xmargin, xticks=[])\n",
    "\n",
    "sns.scatterplot(data=spws, x=\"start_time\", y=\"duration\", s=2, ax=duration_ax)\n",
    "duration_ax.set(xlabel=None, ylabel=\"Duration (s)\", xmargin=xmargin, xticks=[])\n",
    "\n",
    "sns.scatterplot(data=spws, x='start_time', y='sink_amplitude', s=2, ax=amplitude_ax)\n",
    "amplitude_ax.set(xlabel=None, ylabel=\"Sink amplitude (mA/mm)\", xmargin=xmargin, xticks=[])\n",
    "\n",
    "sns.scatterplot(data=spws, x='start_time', y='sink_integral', s=2, ax=integral_ax)\n",
    "integral_ax.set(xlabel=\"Event time (month-date hour)\", ylabel=\"Sink integral (mA * ms)\", xmargin=xmargin)\n",
    "\n",
    "for ax in (density_ax, duration_ax, amplitude_ax, integral_ax):\n",
    "    eplt.plot_hypnogram_overlay(hypnogram, ax=ax)\n",
    "\n",
    "plt.tight_layout()"
   ]
  },
  {
   "cell_type": "code",
   "execution_count": 42,
   "metadata": {
    "execution": {
     "iopub.execute_input": "2021-01-13T02:04:13.857975Z",
     "iopub.status.busy": "2021-01-13T02:04:13.857830Z",
     "iopub.status.idle": "2021-01-13T02:04:13.874888Z",
     "shell.execute_reply": "2021-01-13T02:04:13.874137Z",
     "shell.execute_reply.started": "2021-01-13T02:04:13.857958Z"
    }
   },
   "outputs": [],
   "source": [
    "def add_spw_properties_to_hypnogram(spws, hypnogram):\n",
    "    for i, bout in hypnogram.iterrows():\n",
    "        bout_events = get_events_in_interval(spws, bout.start_time, bout.end_time)\n",
    "        hypnogram.at[i, 'spw_density'] = len(bout_events) / bout.duration.total_seconds()\n",
    "        hypnogram.at[i, 'mean_duration'] = bout_events.duration.mean()\n",
    "        hypnogram.at[i, 'mean_sink_amplitude'] = bout_events.sink_amplitude.mean()\n",
    "        hypnogram.at[i, 'mean_sink_integral'] = bout_events.sink_integral.mean()\n",
    "    \n",
    "    hypnogram.spw_density.fillna(value=0, inplace=True)\n",
    "    hypnogram.mean_duration.fillna(value=0, inplace=True)\n",
    "    hypnogram.mean_sink_amplitude.fillna(value=0, inplace=True)\n",
    "    hypnogram.mean_sink_integral.fillna(value=0, inplace=True)"
   ]
  },
  {
   "cell_type": "code",
   "execution_count": 43,
   "metadata": {
    "execution": {
     "iopub.execute_input": "2021-01-13T02:04:14.223232Z",
     "iopub.status.busy": "2021-01-13T02:04:14.222986Z",
     "iopub.status.idle": "2021-01-13T02:04:14.694175Z",
     "shell.execute_reply": "2021-01-13T02:04:14.693580Z",
     "shell.execute_reply.started": "2021-01-13T02:04:14.223201Z"
    }
   },
   "outputs": [],
   "source": [
    "add_spw_properties_to_hypnogram(spws, hypnogram)"
   ]
  },
  {
   "cell_type": "code",
   "execution_count": 44,
   "metadata": {
    "execution": {
     "iopub.execute_input": "2021-01-13T02:04:14.823678Z",
     "iopub.status.busy": "2021-01-13T02:04:14.823551Z",
     "iopub.status.idle": "2021-01-13T02:04:14.834987Z",
     "shell.execute_reply": "2021-01-13T02:04:14.834217Z",
     "shell.execute_reply.started": "2021-01-13T02:04:14.823662Z"
    }
   },
   "outputs": [],
   "source": [
    "qwk = filter_states(hypnogram, ['qWk']).reset_index(drop=True)"
   ]
  },
  {
   "cell_type": "code",
   "execution_count": 45,
   "metadata": {
    "execution": {
     "iopub.execute_input": "2021-01-13T02:04:15.238556Z",
     "iopub.status.busy": "2021-01-13T02:04:15.238425Z",
     "iopub.status.idle": "2021-01-13T02:04:15.257733Z",
     "shell.execute_reply": "2021-01-13T02:04:15.257235Z",
     "shell.execute_reply.started": "2021-01-13T02:04:15.238539Z"
    }
   },
   "outputs": [],
   "source": [
    "def plot_spw_summary_by_bout_rank(hypnogram, figsize=(20, 8)):\n",
    "    fig, (density_ax, duration_ax, amplitude_ax, integral_ax) = plt.subplots(4, 1, figsize=figsize)\n",
    "    \n",
    "    hypnogram.plot.scatter(x='index', y='spw_density', ax=density_ax, title='SPW density (Hz)', s=1)\n",
    "    hypnogram.plot.scatter(x='index', y='mean_duration', ax=duration_ax, title='Event duration (s)', s=1)\n",
    "    hypnogram.plot.scatter(x='index', y='mean_sink_amplitude', ax=amplitude_ax, title='Sink amplitude (mA/mm)', s=1)\n",
    "    hypnogram.plot.scatter(x='index', y='mean_sink_integral', ax=integral_ax, title='Sink integral (mA * ms)', s=1)\n",
    "    for ax in (density_ax, duration_ax, amplitude_ax, integral_ax):\n",
    "        ax.set_xlabel('Bout rank')\n",
    "    plt.tight_layout()"
   ]
  },
  {
   "cell_type": "code",
   "execution_count": 46,
   "metadata": {
    "execution": {
     "iopub.execute_input": "2021-01-13T02:04:15.615416Z",
     "iopub.status.busy": "2021-01-13T02:04:15.615274Z",
     "iopub.status.idle": "2021-01-13T02:04:15.784732Z",
     "shell.execute_reply": "2021-01-13T02:04:15.784094Z",
     "shell.execute_reply.started": "2021-01-13T02:04:15.615400Z"
    }
   },
   "outputs": [
    {
     "data": {
      "application/vnd.jupyter.widget-view+json": {
       "model_id": "ddeecd1a2eca4de482f7a58484d7f3e3",
       "version_major": 2,
       "version_minor": 0
      },
      "text/plain": [
       "Canvas(toolbar=Toolbar(toolitems=[('Home', 'Reset original view', 'home', 'home'), ('Back', 'Back to previous …"
      ]
     },
     "metadata": {},
     "output_type": "display_data"
    }
   ],
   "source": [
    "plot_spw_summary_by_bout_rank(qwk.reset_index())"
   ]
  },
  {
   "cell_type": "code",
   "execution_count": 47,
   "metadata": {
    "execution": {
     "iopub.execute_input": "2021-01-13T02:04:17.111802Z",
     "iopub.status.busy": "2021-01-13T02:04:17.111372Z",
     "iopub.status.idle": "2021-01-13T02:04:17.133291Z",
     "shell.execute_reply": "2021-01-13T02:04:17.132480Z",
     "shell.execute_reply.started": "2021-01-13T02:04:17.111746Z"
    }
   },
   "outputs": [],
   "source": [
    "awk = filter_states(hypnogram, ['aWk']).reset_index(drop=True)"
   ]
  },
  {
   "cell_type": "code",
   "execution_count": 48,
   "metadata": {
    "execution": {
     "iopub.execute_input": "2021-01-13T02:04:17.727964Z",
     "iopub.status.busy": "2021-01-13T02:04:17.727809Z",
     "iopub.status.idle": "2021-01-13T02:04:17.890723Z",
     "shell.execute_reply": "2021-01-13T02:04:17.890133Z",
     "shell.execute_reply.started": "2021-01-13T02:04:17.727944Z"
    }
   },
   "outputs": [
    {
     "data": {
      "application/vnd.jupyter.widget-view+json": {
       "model_id": "674757260a394d54918075ec2d41045c",
       "version_major": 2,
       "version_minor": 0
      },
      "text/plain": [
       "Canvas(toolbar=Toolbar(toolitems=[('Home', 'Reset original view', 'home', 'home'), ('Back', 'Back to previous …"
      ]
     },
     "metadata": {},
     "output_type": "display_data"
    }
   ],
   "source": [
    "plot_spw_summary_by_bout_rank(awk.reset_index())"
   ]
  },
  {
   "cell_type": "code",
   "execution_count": null,
   "metadata": {},
   "outputs": [],
   "source": []
  }
 ],
 "metadata": {
  "kernelspec": {
   "display_name": "Python 3",
   "language": "python",
   "name": "python3"
  },
  "language_info": {
   "codemirror_mode": {
    "name": "ipython",
    "version": 3
   },
   "file_extension": ".py",
   "mimetype": "text/x-python",
   "name": "python",
   "nbconvert_exporter": "python",
   "pygments_lexer": "ipython3",
   "version": "3.7.9"
  }
 },
 "nbformat": 4,
 "nbformat_minor": 4
}
