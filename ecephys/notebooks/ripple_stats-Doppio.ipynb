{
 "cells": [
  {
   "cell_type": "code",
   "execution_count": 597,
   "metadata": {},
   "outputs": [],
   "source": [
    "%matplotlib widget\n",
    "import pandas as pd\n",
    "from pathlib import Path\n",
    "import matplotlib.pyplot as plt\n",
    "from pandas.plotting import scatter_matrix\n",
    "import numpy as np"
   ]
  },
  {
   "cell_type": "code",
   "execution_count": 598,
   "metadata": {},
   "outputs": [],
   "source": [
    "pd.options.mode.chained_assignment = None  # default='warn'"
   ]
  },
  {
   "cell_type": "markdown",
   "metadata": {},
   "source": [
    "## Read the data"
   ]
  },
  {
   "cell_type": "code",
   "execution_count": 599,
   "metadata": {},
   "outputs": [
    {
     "data": {
      "text/html": [
       "<div>\n",
       "<style scoped>\n",
       "    .dataframe tbody tr th:only-of-type {\n",
       "        vertical-align: middle;\n",
       "    }\n",
       "\n",
       "    .dataframe tbody tr th {\n",
       "        vertical-align: top;\n",
       "    }\n",
       "\n",
       "    .dataframe thead th {\n",
       "        text-align: right;\n",
       "    }\n",
       "</style>\n",
       "<table border=\"1\" class=\"dataframe\">\n",
       "  <thead>\n",
       "    <tr style=\"text-align: right;\">\n",
       "      <th></th>\n",
       "      <th>ripple_number</th>\n",
       "      <th>start_time</th>\n",
       "      <th>end_time</th>\n",
       "      <th>duration</th>\n",
       "      <th>center_time</th>\n",
       "      <th>envelope_integral</th>\n",
       "      <th>envelope_peak</th>\n",
       "      <th>mean_rms</th>\n",
       "      <th>summed_rms</th>\n",
       "      <th>max_rms</th>\n",
       "      <th>mean_amplitude</th>\n",
       "      <th>max_amplitude</th>\n",
       "    </tr>\n",
       "  </thead>\n",
       "  <tbody>\n",
       "    <tr>\n",
       "      <th>0</th>\n",
       "      <td>1</td>\n",
       "      <td>2.050170e+05</td>\n",
       "      <td>2.051150e+05</td>\n",
       "      <td>97.999901</td>\n",
       "      <td>2.050660e+05</td>\n",
       "      <td>24440.433907</td>\n",
       "      <td>194.021806</td>\n",
       "      <td>22.614089</td>\n",
       "      <td>248.754984</td>\n",
       "      <td>27.869729</td>\n",
       "      <td>135.661016</td>\n",
       "      <td>177.482159</td>\n",
       "    </tr>\n",
       "    <tr>\n",
       "      <th>1</th>\n",
       "      <td>2</td>\n",
       "      <td>2.051554e+05</td>\n",
       "      <td>2.052210e+05</td>\n",
       "      <td>65.599934</td>\n",
       "      <td>2.051882e+05</td>\n",
       "      <td>19398.719154</td>\n",
       "      <td>189.481002</td>\n",
       "      <td>25.991714</td>\n",
       "      <td>285.908858</td>\n",
       "      <td>32.989023</td>\n",
       "      <td>130.660921</td>\n",
       "      <td>170.370837</td>\n",
       "    </tr>\n",
       "    <tr>\n",
       "      <th>2</th>\n",
       "      <td>3</td>\n",
       "      <td>2.052922e+05</td>\n",
       "      <td>2.054314e+05</td>\n",
       "      <td>139.199860</td>\n",
       "      <td>2.053618e+05</td>\n",
       "      <td>50261.472448</td>\n",
       "      <td>391.035380</td>\n",
       "      <td>36.706176</td>\n",
       "      <td>403.767934</td>\n",
       "      <td>45.702334</td>\n",
       "      <td>247.920002</td>\n",
       "      <td>308.900224</td>\n",
       "    </tr>\n",
       "    <tr>\n",
       "      <th>3</th>\n",
       "      <td>4</td>\n",
       "      <td>2.054466e+05</td>\n",
       "      <td>2.056022e+05</td>\n",
       "      <td>155.599844</td>\n",
       "      <td>2.055244e+05</td>\n",
       "      <td>35068.711669</td>\n",
       "      <td>186.926145</td>\n",
       "      <td>20.365921</td>\n",
       "      <td>224.025129</td>\n",
       "      <td>24.369541</td>\n",
       "      <td>128.221057</td>\n",
       "      <td>180.641167</td>\n",
       "    </tr>\n",
       "    <tr>\n",
       "      <th>4</th>\n",
       "      <td>5</td>\n",
       "      <td>2.092790e+05</td>\n",
       "      <td>2.093594e+05</td>\n",
       "      <td>80.399919</td>\n",
       "      <td>2.093192e+05</td>\n",
       "      <td>23494.745991</td>\n",
       "      <td>215.524273</td>\n",
       "      <td>27.290445</td>\n",
       "      <td>300.194898</td>\n",
       "      <td>33.767753</td>\n",
       "      <td>146.728029</td>\n",
       "      <td>185.062744</td>\n",
       "    </tr>\n",
       "    <tr>\n",
       "      <th>...</th>\n",
       "      <td>...</td>\n",
       "      <td>...</td>\n",
       "      <td>...</td>\n",
       "      <td>...</td>\n",
       "      <td>...</td>\n",
       "      <td>...</td>\n",
       "      <td>...</td>\n",
       "      <td>...</td>\n",
       "      <td>...</td>\n",
       "      <td>...</td>\n",
       "      <td>...</td>\n",
       "      <td>...</td>\n",
       "    </tr>\n",
       "    <tr>\n",
       "      <th>2638</th>\n",
       "      <td>2639</td>\n",
       "      <td>7.185519e+06</td>\n",
       "      <td>7.185604e+06</td>\n",
       "      <td>85.199914</td>\n",
       "      <td>7.185562e+06</td>\n",
       "      <td>49378.969101</td>\n",
       "      <td>541.739453</td>\n",
       "      <td>61.395963</td>\n",
       "      <td>675.355594</td>\n",
       "      <td>79.324068</td>\n",
       "      <td>349.095927</td>\n",
       "      <td>452.389126</td>\n",
       "    </tr>\n",
       "    <tr>\n",
       "      <th>2639</th>\n",
       "      <td>2640</td>\n",
       "      <td>7.187636e+06</td>\n",
       "      <td>7.187741e+06</td>\n",
       "      <td>105.199894</td>\n",
       "      <td>7.187688e+06</td>\n",
       "      <td>42656.334090</td>\n",
       "      <td>463.744609</td>\n",
       "      <td>43.231616</td>\n",
       "      <td>475.547771</td>\n",
       "      <td>54.024178</td>\n",
       "      <td>305.182231</td>\n",
       "      <td>399.953533</td>\n",
       "    </tr>\n",
       "    <tr>\n",
       "      <th>2640</th>\n",
       "      <td>2641</td>\n",
       "      <td>7.188007e+06</td>\n",
       "      <td>7.188105e+06</td>\n",
       "      <td>97.999901</td>\n",
       "      <td>7.188056e+06</td>\n",
       "      <td>43690.385192</td>\n",
       "      <td>447.680753</td>\n",
       "      <td>45.343729</td>\n",
       "      <td>498.781016</td>\n",
       "      <td>59.705518</td>\n",
       "      <td>291.367977</td>\n",
       "      <td>378.225006</td>\n",
       "    </tr>\n",
       "    <tr>\n",
       "      <th>2641</th>\n",
       "      <td>2642</td>\n",
       "      <td>7.197101e+06</td>\n",
       "      <td>7.197204e+06</td>\n",
       "      <td>102.799897</td>\n",
       "      <td>7.197152e+06</td>\n",
       "      <td>30144.356166</td>\n",
       "      <td>194.628011</td>\n",
       "      <td>25.904602</td>\n",
       "      <td>284.950622</td>\n",
       "      <td>33.478216</td>\n",
       "      <td>132.697161</td>\n",
       "      <td>174.728061</td>\n",
       "    </tr>\n",
       "    <tr>\n",
       "      <th>2642</th>\n",
       "      <td>2643</td>\n",
       "      <td>7.197693e+06</td>\n",
       "      <td>7.197768e+06</td>\n",
       "      <td>74.399925</td>\n",
       "      <td>7.197730e+06</td>\n",
       "      <td>27747.708750</td>\n",
       "      <td>272.118594</td>\n",
       "      <td>33.643312</td>\n",
       "      <td>370.076437</td>\n",
       "      <td>45.408513</td>\n",
       "      <td>188.517669</td>\n",
       "      <td>255.549659</td>\n",
       "    </tr>\n",
       "  </tbody>\n",
       "</table>\n",
       "<p>2643 rows × 12 columns</p>\n",
       "</div>"
      ],
      "text/plain": [
       "      ripple_number    start_time      end_time    duration   center_time  \\\n",
       "0                 1  2.050170e+05  2.051150e+05   97.999901  2.050660e+05   \n",
       "1                 2  2.051554e+05  2.052210e+05   65.599934  2.051882e+05   \n",
       "2                 3  2.052922e+05  2.054314e+05  139.199860  2.053618e+05   \n",
       "3                 4  2.054466e+05  2.056022e+05  155.599844  2.055244e+05   \n",
       "4                 5  2.092790e+05  2.093594e+05   80.399919  2.093192e+05   \n",
       "...             ...           ...           ...         ...           ...   \n",
       "2638           2639  7.185519e+06  7.185604e+06   85.199914  7.185562e+06   \n",
       "2639           2640  7.187636e+06  7.187741e+06  105.199894  7.187688e+06   \n",
       "2640           2641  7.188007e+06  7.188105e+06   97.999901  7.188056e+06   \n",
       "2641           2642  7.197101e+06  7.197204e+06  102.799897  7.197152e+06   \n",
       "2642           2643  7.197693e+06  7.197768e+06   74.399925  7.197730e+06   \n",
       "\n",
       "      envelope_integral  envelope_peak   mean_rms  summed_rms    max_rms  \\\n",
       "0          24440.433907     194.021806  22.614089  248.754984  27.869729   \n",
       "1          19398.719154     189.481002  25.991714  285.908858  32.989023   \n",
       "2          50261.472448     391.035380  36.706176  403.767934  45.702334   \n",
       "3          35068.711669     186.926145  20.365921  224.025129  24.369541   \n",
       "4          23494.745991     215.524273  27.290445  300.194898  33.767753   \n",
       "...                 ...            ...        ...         ...        ...   \n",
       "2638       49378.969101     541.739453  61.395963  675.355594  79.324068   \n",
       "2639       42656.334090     463.744609  43.231616  475.547771  54.024178   \n",
       "2640       43690.385192     447.680753  45.343729  498.781016  59.705518   \n",
       "2641       30144.356166     194.628011  25.904602  284.950622  33.478216   \n",
       "2642       27747.708750     272.118594  33.643312  370.076437  45.408513   \n",
       "\n",
       "      mean_amplitude  max_amplitude  \n",
       "0         135.661016     177.482159  \n",
       "1         130.660921     170.370837  \n",
       "2         247.920002     308.900224  \n",
       "3         128.221057     180.641167  \n",
       "4         146.728029     185.062744  \n",
       "...              ...            ...  \n",
       "2638      349.095927     452.389126  \n",
       "2639      305.182231     399.953533  \n",
       "2640      291.367977     378.225006  \n",
       "2641      132.697161     174.728061  \n",
       "2642      188.517669     255.549659  \n",
       "\n",
       "[2643 rows x 12 columns]"
      ]
     },
     "execution_count": 599,
     "metadata": {},
     "output_type": "execute_result"
    }
   ],
   "source": [
    "ripples_bl = pd.read_csv(Path('/Volumes/neuropixel/Data/CNPIX4-Doppio/3-17-2020_g0_t3.N2_ripples.csv'))\n",
    "ripples_bl"
   ]
  },
  {
   "cell_type": "code",
   "execution_count": 600,
   "metadata": {},
   "outputs": [
    {
     "data": {
      "text/html": [
       "<div>\n",
       "<style scoped>\n",
       "    .dataframe tbody tr th:only-of-type {\n",
       "        vertical-align: middle;\n",
       "    }\n",
       "\n",
       "    .dataframe tbody tr th {\n",
       "        vertical-align: top;\n",
       "    }\n",
       "\n",
       "    .dataframe thead th {\n",
       "        text-align: right;\n",
       "    }\n",
       "</style>\n",
       "<table border=\"1\" class=\"dataframe\">\n",
       "  <thead>\n",
       "    <tr style=\"text-align: right;\">\n",
       "      <th></th>\n",
       "      <th>ripple_number</th>\n",
       "      <th>start_time</th>\n",
       "      <th>end_time</th>\n",
       "      <th>duration</th>\n",
       "      <th>center_time</th>\n",
       "      <th>envelope_integral</th>\n",
       "      <th>envelope_peak</th>\n",
       "      <th>mean_rms</th>\n",
       "      <th>summed_rms</th>\n",
       "      <th>max_rms</th>\n",
       "      <th>mean_amplitude</th>\n",
       "      <th>max_amplitude</th>\n",
       "    </tr>\n",
       "  </thead>\n",
       "  <tbody>\n",
       "    <tr>\n",
       "      <th>0</th>\n",
       "      <td>1</td>\n",
       "      <td>5.446839e+05</td>\n",
       "      <td>5.447699e+05</td>\n",
       "      <td>85.999914</td>\n",
       "      <td>5.447269e+05</td>\n",
       "      <td>20708.338847</td>\n",
       "      <td>197.718091</td>\n",
       "      <td>22.168190</td>\n",
       "      <td>243.850087</td>\n",
       "      <td>27.824392</td>\n",
       "      <td>133.460655</td>\n",
       "      <td>174.616544</td>\n",
       "    </tr>\n",
       "    <tr>\n",
       "      <th>1</th>\n",
       "      <td>2</td>\n",
       "      <td>5.449003e+05</td>\n",
       "      <td>5.449539e+05</td>\n",
       "      <td>53.599946</td>\n",
       "      <td>5.449271e+05</td>\n",
       "      <td>20793.475069</td>\n",
       "      <td>242.494383</td>\n",
       "      <td>34.399581</td>\n",
       "      <td>378.395395</td>\n",
       "      <td>46.005184</td>\n",
       "      <td>160.377715</td>\n",
       "      <td>224.732552</td>\n",
       "    </tr>\n",
       "    <tr>\n",
       "      <th>2</th>\n",
       "      <td>3</td>\n",
       "      <td>5.454423e+05</td>\n",
       "      <td>5.455823e+05</td>\n",
       "      <td>139.999859</td>\n",
       "      <td>5.455123e+05</td>\n",
       "      <td>38856.202991</td>\n",
       "      <td>261.005410</td>\n",
       "      <td>25.622161</td>\n",
       "      <td>281.843771</td>\n",
       "      <td>33.436607</td>\n",
       "      <td>171.906754</td>\n",
       "      <td>245.707496</td>\n",
       "    </tr>\n",
       "    <tr>\n",
       "      <th>3</th>\n",
       "      <td>4</td>\n",
       "      <td>5.458255e+05</td>\n",
       "      <td>5.458951e+05</td>\n",
       "      <td>69.599930</td>\n",
       "      <td>5.458603e+05</td>\n",
       "      <td>20690.415385</td>\n",
       "      <td>196.271921</td>\n",
       "      <td>26.763370</td>\n",
       "      <td>294.397075</td>\n",
       "      <td>30.625976</td>\n",
       "      <td>129.650583</td>\n",
       "      <td>149.485146</td>\n",
       "    </tr>\n",
       "    <tr>\n",
       "      <th>4</th>\n",
       "      <td>5</td>\n",
       "      <td>5.472058e+05</td>\n",
       "      <td>5.472986e+05</td>\n",
       "      <td>92.799907</td>\n",
       "      <td>5.472522e+05</td>\n",
       "      <td>28124.985608</td>\n",
       "      <td>231.217724</td>\n",
       "      <td>28.188284</td>\n",
       "      <td>310.071126</td>\n",
       "      <td>32.305429</td>\n",
       "      <td>150.077969</td>\n",
       "      <td>183.010318</td>\n",
       "    </tr>\n",
       "    <tr>\n",
       "      <th>...</th>\n",
       "      <td>...</td>\n",
       "      <td>...</td>\n",
       "      <td>...</td>\n",
       "      <td>...</td>\n",
       "      <td>...</td>\n",
       "      <td>...</td>\n",
       "      <td>...</td>\n",
       "      <td>...</td>\n",
       "      <td>...</td>\n",
       "      <td>...</td>\n",
       "      <td>...</td>\n",
       "      <td>...</td>\n",
       "    </tr>\n",
       "    <tr>\n",
       "      <th>3040</th>\n",
       "      <td>3041</td>\n",
       "      <td>7.189600e+06</td>\n",
       "      <td>7.189688e+06</td>\n",
       "      <td>87.999912</td>\n",
       "      <td>7.189644e+06</td>\n",
       "      <td>31380.300845</td>\n",
       "      <td>276.836668</td>\n",
       "      <td>33.309328</td>\n",
       "      <td>366.402612</td>\n",
       "      <td>45.527153</td>\n",
       "      <td>179.593817</td>\n",
       "      <td>240.257700</td>\n",
       "    </tr>\n",
       "    <tr>\n",
       "      <th>3041</th>\n",
       "      <td>3042</td>\n",
       "      <td>7.190256e+06</td>\n",
       "      <td>7.190335e+06</td>\n",
       "      <td>79.599920</td>\n",
       "      <td>7.190295e+06</td>\n",
       "      <td>31660.478963</td>\n",
       "      <td>373.812544</td>\n",
       "      <td>38.898870</td>\n",
       "      <td>427.887565</td>\n",
       "      <td>51.899549</td>\n",
       "      <td>240.477152</td>\n",
       "      <td>328.265992</td>\n",
       "    </tr>\n",
       "    <tr>\n",
       "      <th>3042</th>\n",
       "      <td>3043</td>\n",
       "      <td>7.190355e+06</td>\n",
       "      <td>7.190476e+06</td>\n",
       "      <td>120.799879</td>\n",
       "      <td>7.190416e+06</td>\n",
       "      <td>76839.798908</td>\n",
       "      <td>723.489540</td>\n",
       "      <td>73.624287</td>\n",
       "      <td>809.867153</td>\n",
       "      <td>94.276245</td>\n",
       "      <td>456.778852</td>\n",
       "      <td>579.742722</td>\n",
       "    </tr>\n",
       "    <tr>\n",
       "      <th>3043</th>\n",
       "      <td>3044</td>\n",
       "      <td>7.190939e+06</td>\n",
       "      <td>7.191035e+06</td>\n",
       "      <td>96.399903</td>\n",
       "      <td>7.190987e+06</td>\n",
       "      <td>29232.240541</td>\n",
       "      <td>220.242176</td>\n",
       "      <td>27.009502</td>\n",
       "      <td>297.104518</td>\n",
       "      <td>35.043997</td>\n",
       "      <td>149.143106</td>\n",
       "      <td>187.892338</td>\n",
       "    </tr>\n",
       "    <tr>\n",
       "      <th>3044</th>\n",
       "      <td>3045</td>\n",
       "      <td>7.191069e+06</td>\n",
       "      <td>7.191157e+06</td>\n",
       "      <td>87.599912</td>\n",
       "      <td>7.191113e+06</td>\n",
       "      <td>28530.529200</td>\n",
       "      <td>218.856281</td>\n",
       "      <td>29.035463</td>\n",
       "      <td>319.390094</td>\n",
       "      <td>38.647770</td>\n",
       "      <td>142.354948</td>\n",
       "      <td>187.220987</td>\n",
       "    </tr>\n",
       "  </tbody>\n",
       "</table>\n",
       "<p>3045 rows × 12 columns</p>\n",
       "</div>"
      ],
      "text/plain": [
       "      ripple_number    start_time      end_time    duration   center_time  \\\n",
       "0                 1  5.446839e+05  5.447699e+05   85.999914  5.447269e+05   \n",
       "1                 2  5.449003e+05  5.449539e+05   53.599946  5.449271e+05   \n",
       "2                 3  5.454423e+05  5.455823e+05  139.999859  5.455123e+05   \n",
       "3                 4  5.458255e+05  5.458951e+05   69.599930  5.458603e+05   \n",
       "4                 5  5.472058e+05  5.472986e+05   92.799907  5.472522e+05   \n",
       "...             ...           ...           ...         ...           ...   \n",
       "3040           3041  7.189600e+06  7.189688e+06   87.999912  7.189644e+06   \n",
       "3041           3042  7.190256e+06  7.190335e+06   79.599920  7.190295e+06   \n",
       "3042           3043  7.190355e+06  7.190476e+06  120.799879  7.190416e+06   \n",
       "3043           3044  7.190939e+06  7.191035e+06   96.399903  7.190987e+06   \n",
       "3044           3045  7.191069e+06  7.191157e+06   87.599912  7.191113e+06   \n",
       "\n",
       "      envelope_integral  envelope_peak   mean_rms  summed_rms    max_rms  \\\n",
       "0          20708.338847     197.718091  22.168190  243.850087  27.824392   \n",
       "1          20793.475069     242.494383  34.399581  378.395395  46.005184   \n",
       "2          38856.202991     261.005410  25.622161  281.843771  33.436607   \n",
       "3          20690.415385     196.271921  26.763370  294.397075  30.625976   \n",
       "4          28124.985608     231.217724  28.188284  310.071126  32.305429   \n",
       "...                 ...            ...        ...         ...        ...   \n",
       "3040       31380.300845     276.836668  33.309328  366.402612  45.527153   \n",
       "3041       31660.478963     373.812544  38.898870  427.887565  51.899549   \n",
       "3042       76839.798908     723.489540  73.624287  809.867153  94.276245   \n",
       "3043       29232.240541     220.242176  27.009502  297.104518  35.043997   \n",
       "3044       28530.529200     218.856281  29.035463  319.390094  38.647770   \n",
       "\n",
       "      mean_amplitude  max_amplitude  \n",
       "0         133.460655     174.616544  \n",
       "1         160.377715     224.732552  \n",
       "2         171.906754     245.707496  \n",
       "3         129.650583     149.485146  \n",
       "4         150.077969     183.010318  \n",
       "...              ...            ...  \n",
       "3040      179.593817     240.257700  \n",
       "3041      240.477152     328.265992  \n",
       "3042      456.778852     579.742722  \n",
       "3043      149.143106     187.892338  \n",
       "3044      142.354948     187.220987  \n",
       "\n",
       "[3045 rows x 12 columns]"
      ]
     },
     "execution_count": 600,
     "metadata": {},
     "output_type": "execute_result"
    }
   ],
   "source": [
    "ripples_rec = pd.read_csv(Path('/Volumes/neuropixel/Data/CNPIX4-Doppio/3-18-2020_g0_t3.N2_ripples.csv'))\n",
    "ripples_rec"
   ]
  },
  {
   "cell_type": "markdown",
   "metadata": {},
   "source": [
    "## Load scoring"
   ]
  },
  {
   "cell_type": "code",
   "execution_count": 601,
   "metadata": {},
   "outputs": [],
   "source": [
    "bl_hypnoPath = Path('/Volumes/neuropixel/Data/CNPIX4-Doppio/3-17-2020_g0_t3.hypnogram.txt')\n",
    "bl_hypno = pd.read_csv(bl_hypnoPath, sep='\\t', names=['state', 'end_time'], skiprows=1)\n",
    "bl_hypno['start_time'] = bl_hypno.apply(lambda x: 0 if x.name == 0 else bl_hypno.loc[x.name - 1].end_time, axis=1)\n",
    "bl_hypno['duration'] = bl_hypno.apply(lambda x: x.end_time - x.start_time, axis=1)"
   ]
  },
  {
   "cell_type": "code",
   "execution_count": 602,
   "metadata": {},
   "outputs": [],
   "source": [
    "rec_hypnoPath = Path('/Volumes/neuropixel/Data/CNPIX4-Doppio/3-18-2020_g0_t3.hypnogram.txt')\n",
    "rec_hypno = pd.read_csv(rec_hypnoPath, sep='\\t', names=['state', 'end_time'], skiprows=1)\n",
    "rec_hypno['start_time'] = rec_hypno.apply(lambda x: 0 if x.name == 0 else rec_hypno.loc[x.name - 1].end_time, axis=1)\n",
    "rec_hypno['duration'] = rec_hypno.apply(lambda x: x.end_time - x.start_time, axis=1)"
   ]
  },
  {
   "cell_type": "markdown",
   "metadata": {},
   "source": [
    "## Look at basic summary statistics"
   ]
  },
  {
   "cell_type": "code",
   "execution_count": 603,
   "metadata": {},
   "outputs": [
    {
     "data": {
      "text/plain": [
       "3407.9599609375"
      ]
     },
     "execution_count": 603,
     "metadata": {},
     "output_type": "execute_result"
    }
   ],
   "source": [
    "bl_total_NREM = bl_hypno.loc[bl_hypno['state'] == 'N2'].duration.sum()\n",
    "bl_total_NREM"
   ]
  },
  {
   "cell_type": "code",
   "execution_count": 604,
   "metadata": {},
   "outputs": [
    {
     "data": {
      "text/plain": [
       "4388.0"
      ]
     },
     "execution_count": 604,
     "metadata": {},
     "output_type": "execute_result"
    }
   ],
   "source": [
    "rec_total_NREM = rec_hypno.loc[rec_hypno['state'] == 'N2'].duration.sum()\n",
    "rec_total_NREM"
   ]
  },
  {
   "cell_type": "code",
   "execution_count": 605,
   "metadata": {},
   "outputs": [
    {
     "data": {
      "text/plain": [
       "0.7755372804535338"
      ]
     },
     "execution_count": 605,
     "metadata": {},
     "output_type": "execute_result"
    }
   ],
   "source": [
    "len(ripples_bl) / bl_total_NREM"
   ]
  },
  {
   "cell_type": "code",
   "execution_count": 606,
   "metadata": {},
   "outputs": [
    {
     "data": {
      "text/plain": [
       "0.6939380127620784"
      ]
     },
     "execution_count": 606,
     "metadata": {},
     "output_type": "execute_result"
    }
   ],
   "source": [
    "len(ripples_rec) / rec_total_NREM"
   ]
  },
  {
   "cell_type": "code",
   "execution_count": 607,
   "metadata": {},
   "outputs": [
    {
     "data": {
      "text/plain": [
       "ripple_number        1.322000e+03\n",
       "start_time           3.422256e+06\n",
       "end_time             3.422307e+06\n",
       "duration             9.439991e+01\n",
       "center_time          3.422281e+06\n",
       "envelope_integral    3.467127e+04\n",
       "envelope_peak        2.897988e+02\n",
       "mean_rms             3.354745e+01\n",
       "summed_rms           3.690219e+02\n",
       "max_rms              4.432857e+01\n",
       "mean_amplitude       1.924070e+02\n",
       "max_amplitude        2.550570e+02\n",
       "dtype: float64"
      ]
     },
     "execution_count": 607,
     "metadata": {},
     "output_type": "execute_result"
    }
   ],
   "source": [
    "ripples_bl.median()"
   ]
  },
  {
   "cell_type": "code",
   "execution_count": 608,
   "metadata": {},
   "outputs": [
    {
     "data": {
      "text/plain": [
       "ripple_number        1.523000e+03\n",
       "start_time           3.798739e+06\n",
       "end_time             3.798830e+06\n",
       "duration             9.839990e+01\n",
       "center_time          3.798784e+06\n",
       "envelope_integral    4.046259e+04\n",
       "envelope_peak        3.306776e+02\n",
       "mean_rms             3.748057e+01\n",
       "summed_rms           4.122862e+02\n",
       "max_rms              4.846029e+01\n",
       "mean_amplitude       2.175637e+02\n",
       "max_amplitude        2.828744e+02\n",
       "dtype: float64"
      ]
     },
     "execution_count": 608,
     "metadata": {},
     "output_type": "execute_result"
    }
   ],
   "source": [
    "ripples_rec.median()"
   ]
  },
  {
   "cell_type": "code",
   "execution_count": 609,
   "metadata": {},
   "outputs": [
    {
     "data": {
      "text/plain": [
       "ripple_number        1.322000e+03\n",
       "start_time           3.553332e+06\n",
       "end_time             3.553443e+06\n",
       "duration             1.104218e+02\n",
       "center_time          3.553388e+06\n",
       "envelope_integral    4.378599e+04\n",
       "envelope_peak        3.341332e+02\n",
       "mean_rms             3.738703e+01\n",
       "summed_rms           4.112573e+02\n",
       "max_rms              4.878416e+01\n",
       "mean_amplitude       2.187599e+02\n",
       "max_amplitude        2.865536e+02\n",
       "dtype: float64"
      ]
     },
     "execution_count": 609,
     "metadata": {},
     "output_type": "execute_result"
    }
   ],
   "source": [
    "ripples_bl.mean()"
   ]
  },
  {
   "cell_type": "code",
   "execution_count": 610,
   "metadata": {},
   "outputs": [
    {
     "data": {
      "text/plain": [
       "ripple_number        1.523000e+03\n",
       "start_time           3.759856e+06\n",
       "end_time             3.759971e+06\n",
       "duration             1.146306e+02\n",
       "center_time          3.759914e+06\n",
       "envelope_integral    5.141231e+04\n",
       "envelope_peak        3.944183e+02\n",
       "mean_rms             4.258655e+01\n",
       "summed_rms           4.684521e+02\n",
       "max_rms              5.455844e+01\n",
       "mean_amplitude       2.581041e+02\n",
       "max_amplitude        3.317357e+02\n",
       "dtype: float64"
      ]
     },
     "execution_count": 610,
     "metadata": {},
     "output_type": "execute_result"
    }
   ],
   "source": [
    "ripples_rec.mean()"
   ]
  },
  {
   "cell_type": "markdown",
   "metadata": {},
   "source": [
    "## Look at feature distributions and correlations"
   ]
  },
  {
   "cell_type": "code",
   "execution_count": 611,
   "metadata": {},
   "outputs": [
    {
     "data": {
      "application/vnd.jupyter.widget-view+json": {
       "model_id": "77119e2542a549e1912cac8ed8b7223c",
       "version_major": 2,
       "version_minor": 0
      },
      "text/plain": [
       "Canvas(toolbar=Toolbar(toolitems=[('Home', 'Reset original view', 'home', 'home'), ('Back', 'Back to previous …"
      ]
     },
     "metadata": {},
     "output_type": "display_data"
    }
   ],
   "source": [
    "ax = scatter_matrix(ripples_bl, figsize=(10, 10))"
   ]
  },
  {
   "cell_type": "code",
   "execution_count": 612,
   "metadata": {},
   "outputs": [
    {
     "data": {
      "application/vnd.jupyter.widget-view+json": {
       "model_id": "0e2f690f6994483e93edfe2a1f450e90",
       "version_major": 2,
       "version_minor": 0
      },
      "text/plain": [
       "Canvas(toolbar=Toolbar(toolitems=[('Home', 'Reset original view', 'home', 'home'), ('Back', 'Back to previous …"
      ]
     },
     "metadata": {},
     "output_type": "display_data"
    }
   ],
   "source": [
    "ax2 = scatter_matrix(ripples_bl.applymap(np.log), figsize=(10, 10))"
   ]
  },
  {
   "cell_type": "markdown",
   "metadata": {},
   "source": [
    "## Look at log-normally distributed features"
   ]
  },
  {
   "cell_type": "code",
   "execution_count": 613,
   "metadata": {},
   "outputs": [
    {
     "data": {
      "application/vnd.jupyter.widget-view+json": {
       "model_id": "45862170eb454fb4a203f1cd0782c7aa",
       "version_major": 2,
       "version_minor": 0
      },
      "text/plain": [
       "Canvas(toolbar=Toolbar(toolitems=[('Home', 'Reset original view', 'home', 'home'), ('Back', 'Back to previous …"
      ]
     },
     "metadata": {},
     "output_type": "display_data"
    }
   ],
   "source": [
    "import scipy.stats as stats\n",
    "\n",
    "def plot_qq(bl, rec, var):\n",
    "    fig, axes = plt.subplots(2, 2, figsize=(10, 10))\n",
    "    \n",
    "    stats.probplot(bl[var], dist=\"norm\", plot=axes[0, 0])\n",
    "    axes[0, 0].set_title(\"Baseline {}\".format(var))\n",
    "    stats.probplot(np.log(bl[var]), dist=\"norm\", plot=axes[0, 1])\n",
    "    axes[0, 1].set_title(\"Baseline log {}\".format(var))\n",
    "    stats.probplot(rec[var], dist=\"norm\", plot=axes[1, 0])\n",
    "    axes[1, 0].set_title(\"Recovery {}\".format(var))\n",
    "    stats.probplot(np.log(rec[var]), dist=\"norm\", plot=axes[1, 1])\n",
    "    axes[1, 1].set_title(\"Recovery log {}\".format(var))\n",
    "\n",
    "    plt.show()\n",
    "            \n",
    "plot_qq(ripples_bl, ripples_rec, 'duration')"
   ]
  },
  {
   "cell_type": "code",
   "execution_count": 614,
   "metadata": {},
   "outputs": [],
   "source": [
    "from statsmodels.graphics.tsaplots import plot_acf, plot_pacf\n",
    "\n",
    "def plot_acf_pacf(bl, rec, var, lags=None):\n",
    "    fig, axes = plt.subplots(2, 2, figsize=(10, 10))\n",
    "\n",
    "    plot_acf(bl[var], lags=lags, ax=axes[0, 0], title=\"Baseline {} acf\".format(var))\n",
    "    plot_pacf(bl[var], lags=lags, ax=axes[0, 1], title=\"Baseline {} pacf\".format(var))\n",
    "    plot_acf(rec[var], lags=lags, ax=axes[1, 0], title=\"Recovery {} acf\".format(var))\n",
    "    plot_pacf(rec[var], lags=lags, ax=axes[1, 1], title=\"Recovery {} pacf\".format(var))\n",
    "\n",
    "    plt.show()"
   ]
  },
  {
   "cell_type": "code",
   "execution_count": 615,
   "metadata": {},
   "outputs": [
    {
     "data": {
      "application/vnd.jupyter.widget-view+json": {
       "model_id": "1f4096ba699f49fbb6ce042f44356ca8",
       "version_major": 2,
       "version_minor": 0
      },
      "text/plain": [
       "Canvas(toolbar=Toolbar(toolitems=[('Home', 'Reset original view', 'home', 'home'), ('Back', 'Back to previous …"
      ]
     },
     "metadata": {},
     "output_type": "display_data"
    }
   ],
   "source": [
    "plot_acf_pacf(ripples_bl, ripples_rec, 'duration')"
   ]
  },
  {
   "cell_type": "code",
   "execution_count": 616,
   "metadata": {},
   "outputs": [],
   "source": [
    "def plot_vs_time(bl, rec, var):\n",
    "    fig, axes = plt.subplots(2, 1)\n",
    "    bl.plot.scatter(x='center_time', y=var, ax=axes[0], title='Baseline')\n",
    "    rec.plot.scatter(x='center_time', y=var, ax=axes[1], title='Recovery')\n",
    "    plt.show()"
   ]
  },
  {
   "cell_type": "code",
   "execution_count": 617,
   "metadata": {},
   "outputs": [
    {
     "data": {
      "application/vnd.jupyter.widget-view+json": {
       "model_id": "bd00425ea493434587a3c894b1d58722",
       "version_major": 2,
       "version_minor": 0
      },
      "text/plain": [
       "Canvas(toolbar=Toolbar(toolitems=[('Home', 'Reset original view', 'home', 'home'), ('Back', 'Back to previous …"
      ]
     },
     "metadata": {},
     "output_type": "display_data"
    }
   ],
   "source": [
    "plot_vs_time(ripples_bl, ripples_rec, 'duration')"
   ]
  },
  {
   "cell_type": "code",
   "execution_count": 618,
   "metadata": {},
   "outputs": [],
   "source": [
    "def test_slope(ripples, x, y):\n",
    "    return stats.linregress(ripples[x], ripples[y])"
   ]
  },
  {
   "cell_type": "code",
   "execution_count": 619,
   "metadata": {},
   "outputs": [
    {
     "data": {
      "text/plain": [
       "LinregressResult(slope=-7.970005519464581e-10, intercept=110.42466577148134, rvalue=-2.9966437947664747e-05, pvalue=0.9987713785250742, stderr=5.175344916094387e-07)"
      ]
     },
     "execution_count": 619,
     "metadata": {},
     "output_type": "execute_result"
    }
   ],
   "source": [
    "test_slope(ripples_bl, 'center_time', 'duration')"
   ]
  },
  {
   "cell_type": "code",
   "execution_count": 620,
   "metadata": {},
   "outputs": [
    {
     "data": {
      "text/plain": [
       "LinregressResult(slope=-6.543079630317295e-07, intercept=117.09069945280301, rvalue=-0.02303043359771216, pvalue=0.20390622521375737, stderr=5.148893504982098e-07)"
      ]
     },
     "execution_count": 620,
     "metadata": {},
     "output_type": "execute_result"
    }
   ],
   "source": [
    "test_slope(ripples_rec, 'center_time', 'duration')"
   ]
  },
  {
   "cell_type": "code",
   "execution_count": 621,
   "metadata": {},
   "outputs": [
    {
     "data": {
      "text/plain": [
       "Ttest_indResult(statistic=-3.777419092032931, pvalue=0.0001601184281593286)"
      ]
     },
     "execution_count": 621,
     "metadata": {},
     "output_type": "execute_result"
    }
   ],
   "source": [
    "stats.ttest_ind(np.log(ripples_bl.duration), np.log(ripples_rec.duration), equal_var=False)"
   ]
  },
  {
   "cell_type": "code",
   "execution_count": 622,
   "metadata": {},
   "outputs": [],
   "source": [
    "# https://dfrieds.com/math/effect-size.html\n",
    "def interpret_cohens_d(cohens_d):\n",
    "    \"\"\"\n",
    "    Determines text interpretation of effect size given Cohen's d value\n",
    "\n",
    "    :param cohens_d: float of Cohen's d value\n",
    "    :returns: effect_size_interpretation: adjective to describe magnitude of effect size\n",
    "    \"\"\"\n",
    "    if 0<=cohens_d<0.1:\n",
    "        effect_size_interpretation = \"Very Small\"\n",
    "    elif 0.1<=cohens_d<0.35:\n",
    "        effect_size_interpretation = \"Small\"\n",
    "    elif 0.35<=cohens_d<0.65:\n",
    "        effect_size_interpretation = \"Medium\"\n",
    "    elif 0.65<=cohens_d<0.9:\n",
    "        effect_size_interpretation = \"Large\"\n",
    "    elif cohens_d >= 0.9:\n",
    "        effect_size_interpretation = \"Very Large\"\n",
    "    return effect_size_interpretation"
   ]
  },
  {
   "cell_type": "code",
   "execution_count": 623,
   "metadata": {},
   "outputs": [],
   "source": [
    "def two_sample_data_setup_for_cohens_d(mean_1, mean_2, sample_std_dev_1, sample_std_dev_2):\n",
    "    \"\"\"\n",
    "    Creates two normal distributions of data values. \n",
    "    Calculates differences in values and standard deviation of list of differences.\n",
    "    Calculates Cohen's D - equation used in dependent t-tests\n",
    "\n",
    "    :param mean_1: mean of group one\n",
    "    :param mean_2: mean of group two\n",
    "    :param sample_std_dev_1: sample standard deviation of group one\n",
    "    :param sample_std_dev_2: sample standard deviation of group two\n",
    "    \n",
    "    :returns: values_1, values_2, cohens_d: values for group one, values for group two, Cohen's d\n",
    "    \"\"\"\n",
    "    values_1 = np.random.normal(loc=mean_1, scale=sample_std_dev_1, size=3000)\n",
    "    values_2 = np.random.normal(loc=mean_2, scale=sample_std_dev_2, size=3000)\n",
    "    differences_group_values = np.subtract(values_1, values_2)\n",
    "    std_dev_differences_group_values = np.std(differences_group_values, ddof=1)\n",
    "    cohens_d = round(abs((mean_1 - mean_2)/std_dev_differences_group_values), 2)\n",
    "    return values_1, values_2, cohens_d"
   ]
  },
  {
   "cell_type": "code",
   "execution_count": 624,
   "metadata": {},
   "outputs": [],
   "source": [
    "import seaborn as sns\n",
    "\n",
    "def visualize_distributions(values_1, values_2, cohens_d, cohens_d_interpretation):\n",
    "    \"\"\"\n",
    "    Plots KDE plots of values from values_1 and values_2.\n",
    "    Inserts Cohen's d value and interpretation in title\n",
    "\n",
    "    :param values_1: values in group one\n",
    "    :param values_2: values in group two \n",
    "    :param cohens_d: Cohen's d value\n",
    "    :param cohens_d_interpretation: text to describe magnitude of effect size\n",
    "    :returns: plot figure\n",
    "    \"\"\"\n",
    "    plt.figure(figsize=(10, 8))\n",
    "    sns.distplot(values_1, hist=False, label='Baseline')\n",
    "    sns.distplot(values_2, hist=False, label='Recovery')\n",
    "    plt.xlabel(\"Log-transformed duration\", labelpad=13)\n",
    "    plt.ylabel(\"frequency\", labelpad=13)\n",
    "    plt.legend()\n",
    "    plt.title(\"Distribution of Two Groups with {0} Cohen's d of {1}\".format(cohens_d_interpretation, cohens_d), y=1.015, fontsize=22)"
   ]
  },
  {
   "cell_type": "code",
   "execution_count": 625,
   "metadata": {},
   "outputs": [
    {
     "data": {
      "application/vnd.jupyter.widget-view+json": {
       "model_id": "77cb47c74b934dd9b166f29b15bb7bf3",
       "version_major": 2,
       "version_minor": 0
      },
      "text/plain": [
       "Canvas(toolbar=Toolbar(toolitems=[('Home', 'Reset original view', 'home', 'home'), ('Back', 'Back to previous …"
      ]
     },
     "metadata": {},
     "output_type": "display_data"
    },
    {
     "name": "stderr",
     "output_type": "stream",
     "text": [
      "/home/gfindlay/miniconda3/envs/ecephys/lib/python3.7/site-packages/seaborn/distributions.py:2551: FutureWarning: `distplot` is a deprecated function and will be removed in a future version. Please adapt your code to use either `displot` (a figure-level function with similar flexibility) or `kdeplot` (an axes-level function for kernel density plots).\n",
      "  warnings.warn(msg, FutureWarning)\n",
      "/home/gfindlay/miniconda3/envs/ecephys/lib/python3.7/site-packages/seaborn/distributions.py:2551: FutureWarning: `distplot` is a deprecated function and will be removed in a future version. Please adapt your code to use either `displot` (a figure-level function with similar flexibility) or `kdeplot` (an axes-level function for kernel density plots).\n",
      "  warnings.warn(msg, FutureWarning)\n"
     ]
    }
   ],
   "source": [
    "values_bl, values_rec, cohens_d = two_sample_data_setup_for_cohens_d(np.log(ripples_bl.duration).mean(), \n",
    "                                                                     np.log(ripples_rec.duration).mean(), \n",
    "                                                                     np.log(ripples_bl.duration).std(), \n",
    "                                                                     np.log(ripples_rec.duration).std())\n",
    "visualize_distributions(np.log(ripples_bl.duration), np.log(ripples_rec).duration, cohens_d, interpret_cohens_d(cohens_d))\n"
   ]
  },
  {
   "cell_type": "code",
   "execution_count": 626,
   "metadata": {},
   "outputs": [
    {
     "name": "stdout",
     "output_type": "stream",
     "text": [
      "7.362061044608151 0.006661439039062531 96.79990265797822\n"
     ]
    }
   ],
   "source": [
    "stat, p, med, tbl = stats.median_test(ripples_bl.duration, ripples_rec.duration) \n",
    "print(stat, p, med)"
   ]
  },
  {
   "cell_type": "code",
   "execution_count": 627,
   "metadata": {},
   "outputs": [
    {
     "data": {
      "text/plain": [
       "KruskalResult(statistic=16.484761822210594, pvalue=4.904265367070696e-05)"
      ]
     },
     "execution_count": 627,
     "metadata": {},
     "output_type": "execute_result"
    }
   ],
   "source": [
    "stats.kruskal(ripples_bl.duration, ripples_rec.duration)"
   ]
  },
  {
   "cell_type": "code",
   "execution_count": 628,
   "metadata": {},
   "outputs": [
    {
     "data": {
      "text/plain": [
       "MannwhitneyuResult(statistic=3773177.5, pvalue=2.452217698968221e-05)"
      ]
     },
     "execution_count": 628,
     "metadata": {},
     "output_type": "execute_result"
    }
   ],
   "source": [
    "stats.mannwhitneyu(ripples_bl.duration, ripples_rec.duration)"
   ]
  },
  {
   "cell_type": "markdown",
   "metadata": {},
   "source": [
    "## Look at non-normally distributed features"
   ]
  },
  {
   "cell_type": "markdown",
   "metadata": {},
   "source": [
    "### Max_amplitude"
   ]
  },
  {
   "cell_type": "code",
   "execution_count": 629,
   "metadata": {},
   "outputs": [
    {
     "data": {
      "application/vnd.jupyter.widget-view+json": {
       "model_id": "43eff4fc7cfb4ef0849b48f9f51643a2",
       "version_major": 2,
       "version_minor": 0
      },
      "text/plain": [
       "Canvas(toolbar=Toolbar(toolitems=[('Home', 'Reset original view', 'home', 'home'), ('Back', 'Back to previous …"
      ]
     },
     "metadata": {},
     "output_type": "display_data"
    }
   ],
   "source": [
    "plot_acf_pacf(ripples_bl, ripples_rec, 'max_amplitude')"
   ]
  },
  {
   "cell_type": "code",
   "execution_count": 630,
   "metadata": {},
   "outputs": [
    {
     "data": {
      "application/vnd.jupyter.widget-view+json": {
       "model_id": "b1c6065ebdc14fdebe8231afb372355e",
       "version_major": 2,
       "version_minor": 0
      },
      "text/plain": [
       "Canvas(toolbar=Toolbar(toolitems=[('Home', 'Reset original view', 'home', 'home'), ('Back', 'Back to previous …"
      ]
     },
     "metadata": {},
     "output_type": "display_data"
    }
   ],
   "source": [
    "plot_vs_time(ripples_bl, ripples_rec, 'max_amplitude')"
   ]
  },
  {
   "cell_type": "code",
   "execution_count": 631,
   "metadata": {},
   "outputs": [
    {
     "data": {
      "text/plain": [
       "LinregressResult(slope=-7.307371404681561e-07, intercept=289.150220430285, rvalue=-0.013485435413369981, pvalue=0.4883149834833329, stderr=1.0543201677160897e-06)"
      ]
     },
     "execution_count": 631,
     "metadata": {},
     "output_type": "execute_result"
    }
   ],
   "source": [
    "test_slope(ripples_bl, 'center_time', 'max_amplitude')"
   ]
  },
  {
   "cell_type": "code",
   "execution_count": 632,
   "metadata": {},
   "outputs": [
    {
     "data": {
      "text/plain": [
       "LinregressResult(slope=-5.761730735886355e-06, intercept=353.3993093924931, rvalue=-0.07661426604933771, pvalue=2.3144014865649724e-05, stderr=1.3592958225448177e-06)"
      ]
     },
     "execution_count": 632,
     "metadata": {},
     "output_type": "execute_result"
    }
   ],
   "source": [
    "test_slope(ripples_rec, 'center_time', 'max_amplitude')"
   ]
  },
  {
   "cell_type": "code",
   "execution_count": 633,
   "metadata": {},
   "outputs": [
    {
     "data": {
      "text/plain": [
       "MannwhitneyuResult(statistic=3269588.0, pvalue=1.3257560633351911e-34)"
      ]
     },
     "execution_count": 633,
     "metadata": {},
     "output_type": "execute_result"
    }
   ],
   "source": [
    "stats.mannwhitneyu(ripples_bl.max_amplitude, ripples_rec.max_amplitude)"
   ]
  },
  {
   "cell_type": "markdown",
   "metadata": {},
   "source": [
    "### Envelope Peak"
   ]
  },
  {
   "cell_type": "code",
   "execution_count": 634,
   "metadata": {},
   "outputs": [
    {
     "data": {
      "application/vnd.jupyter.widget-view+json": {
       "model_id": "5154d4cd17904ec49097811c00ec8f14",
       "version_major": 2,
       "version_minor": 0
      },
      "text/plain": [
       "Canvas(toolbar=Toolbar(toolitems=[('Home', 'Reset original view', 'home', 'home'), ('Back', 'Back to previous …"
      ]
     },
     "metadata": {},
     "output_type": "display_data"
    }
   ],
   "source": [
    "plot_acf_pacf(ripples_bl, ripples_rec, 'envelope_peak')"
   ]
  },
  {
   "cell_type": "code",
   "execution_count": 635,
   "metadata": {},
   "outputs": [
    {
     "data": {
      "application/vnd.jupyter.widget-view+json": {
       "model_id": "a3e2b1afffe945708f79b1de1d772996",
       "version_major": 2,
       "version_minor": 0
      },
      "text/plain": [
       "Canvas(toolbar=Toolbar(toolitems=[('Home', 'Reset original view', 'home', 'home'), ('Back', 'Back to previous …"
      ]
     },
     "metadata": {},
     "output_type": "display_data"
    }
   ],
   "source": [
    "plot_vs_time(ripples_bl, ripples_rec, 'envelope_peak')"
   ]
  },
  {
   "cell_type": "code",
   "execution_count": 636,
   "metadata": {},
   "outputs": [
    {
     "data": {
      "text/plain": [
       "LinregressResult(slope=-1.3121775913318432e-06, intercept=338.7959221780832, rvalue=-0.019236099800587478, pvalue=0.32288151726143444, stderr=1.3271225520708838e-06)"
      ]
     },
     "execution_count": 636,
     "metadata": {},
     "output_type": "execute_result"
    }
   ],
   "source": [
    "test_slope(ripples_bl, 'center_time', 'envelope_peak')"
   ]
  },
  {
   "cell_type": "code",
   "execution_count": 637,
   "metadata": {},
   "outputs": [
    {
     "data": {
      "text/plain": [
       "LinregressResult(slope=-9.875175242777142e-06, intercept=431.5481480083865, rvalue=-0.1034591426858962, pvalue=1.0524696188293014e-08, stderr=1.7210287744589818e-06)"
      ]
     },
     "execution_count": 637,
     "metadata": {},
     "output_type": "execute_result"
    }
   ],
   "source": [
    "test_slope(ripples_rec, 'center_time', 'envelope_peak')"
   ]
  },
  {
   "cell_type": "code",
   "execution_count": 638,
   "metadata": {},
   "outputs": [
    {
     "data": {
      "text/plain": [
       "MannwhitneyuResult(statistic=3191519.0, pvalue=1.0706448243095111e-41)"
      ]
     },
     "execution_count": 638,
     "metadata": {},
     "output_type": "execute_result"
    }
   ],
   "source": [
    "stats.mannwhitneyu(ripples_bl.envelope_peak, ripples_rec.envelope_peak)"
   ]
  },
  {
   "cell_type": "code",
   "execution_count": 639,
   "metadata": {},
   "outputs": [
    {
     "data": {
      "application/vnd.jupyter.widget-view+json": {
       "model_id": "bce072f341b342c5abe40ae699d01341",
       "version_major": 2,
       "version_minor": 0
      },
      "text/plain": [
       "Canvas(toolbar=Toolbar(toolitems=[('Home', 'Reset original view', 'home', 'home'), ('Back', 'Back to previous …"
      ]
     },
     "metadata": {},
     "output_type": "display_data"
    },
    {
     "name": "stderr",
     "output_type": "stream",
     "text": [
      "/home/gfindlay/miniconda3/envs/ecephys/lib/python3.7/site-packages/seaborn/distributions.py:2551: FutureWarning: `distplot` is a deprecated function and will be removed in a future version. Please adapt your code to use either `displot` (a figure-level function with similar flexibility) or `kdeplot` (an axes-level function for kernel density plots).\n",
      "  warnings.warn(msg, FutureWarning)\n",
      "/home/gfindlay/miniconda3/envs/ecephys/lib/python3.7/site-packages/seaborn/distributions.py:2551: FutureWarning: `distplot` is a deprecated function and will be removed in a future version. Please adapt your code to use either `displot` (a figure-level function with similar flexibility) or `kdeplot` (an axes-level function for kernel density plots).\n",
      "  warnings.warn(msg, FutureWarning)\n"
     ]
    },
    {
     "data": {
      "text/plain": [
       "<matplotlib.legend.Legend at 0x7f14253ff790>"
      ]
     },
     "execution_count": 639,
     "metadata": {},
     "output_type": "execute_result"
    }
   ],
   "source": [
    "plt.figure(figsize=(10, 8))\n",
    "sns.distplot(ripples_bl.envelope_peak, hist=False, label='Baseline')\n",
    "sns.distplot(ripples_rec.envelope_peak, hist=False, label='Recovery')\n",
    "plt.xlabel(\"Envelope peak\", labelpad=13)\n",
    "plt.ylabel(\"frequency\", labelpad=13)\n",
    "plt.legend()"
   ]
  },
  {
   "cell_type": "markdown",
   "metadata": {},
   "source": [
    "### Envelope Integral"
   ]
  },
  {
   "cell_type": "code",
   "execution_count": 640,
   "metadata": {},
   "outputs": [
    {
     "data": {
      "application/vnd.jupyter.widget-view+json": {
       "model_id": "2e52b7cb9e6741578c28508e53df3e3f",
       "version_major": 2,
       "version_minor": 0
      },
      "text/plain": [
       "Canvas(toolbar=Toolbar(toolitems=[('Home', 'Reset original view', 'home', 'home'), ('Back', 'Back to previous …"
      ]
     },
     "metadata": {},
     "output_type": "display_data"
    }
   ],
   "source": [
    "plot_acf_pacf(ripples_bl, ripples_rec, 'envelope_integral')"
   ]
  },
  {
   "cell_type": "code",
   "execution_count": 641,
   "metadata": {},
   "outputs": [
    {
     "data": {
      "application/vnd.jupyter.widget-view+json": {
       "model_id": "9e8852c6e34d47b4a8d5aeacd094b271",
       "version_major": 2,
       "version_minor": 0
      },
      "text/plain": [
       "Canvas(toolbar=Toolbar(toolitems=[('Home', 'Reset original view', 'home', 'home'), ('Back', 'Back to previous …"
      ]
     },
     "metadata": {},
     "output_type": "display_data"
    }
   ],
   "source": [
    "plot_vs_time(ripples_bl, ripples_rec, 'envelope_integral')"
   ]
  },
  {
   "cell_type": "code",
   "execution_count": 642,
   "metadata": {},
   "outputs": [
    {
     "data": {
      "text/plain": [
       "LinregressResult(slope=-9.000125287631363e-05, intercept=44105.80200242718, rvalue=-0.0066544469912419545, pvalue=0.7323901444206866, stderr=0.0002631738711905032)"
      ]
     },
     "execution_count": 642,
     "metadata": {},
     "output_type": "execute_result"
    }
   ],
   "source": [
    "test_slope(ripples_bl, 'center_time', 'envelope_integral')"
   ]
  },
  {
   "cell_type": "code",
   "execution_count": 643,
   "metadata": {},
   "outputs": [
    {
     "data": {
      "text/plain": [
       "LinregressResult(slope=-0.0010845693088922428, intercept=55490.196426698254, rvalue=-0.06254610106719544, pvalue=0.000553663774821876, stderr=0.00031372920068446737)"
      ]
     },
     "execution_count": 643,
     "metadata": {},
     "output_type": "execute_result"
    }
   ],
   "source": [
    "test_slope(ripples_rec, 'center_time', 'envelope_integral')"
   ]
  },
  {
   "cell_type": "code",
   "execution_count": 644,
   "metadata": {},
   "outputs": [
    {
     "data": {
      "text/plain": [
       "MannwhitneyuResult(statistic=3451226.0, pvalue=9.106487738499872e-21)"
      ]
     },
     "execution_count": 644,
     "metadata": {},
     "output_type": "execute_result"
    }
   ],
   "source": [
    "stats.mannwhitneyu(ripples_bl.envelope_integral, ripples_rec.envelope_integral)"
   ]
  },
  {
   "cell_type": "code",
   "execution_count": 645,
   "metadata": {},
   "outputs": [
    {
     "data": {
      "application/vnd.jupyter.widget-view+json": {
       "model_id": "fe4833b37a3042c49cdaeeb7adf538e6",
       "version_major": 2,
       "version_minor": 0
      },
      "text/plain": [
       "Canvas(toolbar=Toolbar(toolitems=[('Home', 'Reset original view', 'home', 'home'), ('Back', 'Back to previous …"
      ]
     },
     "metadata": {},
     "output_type": "display_data"
    },
    {
     "name": "stderr",
     "output_type": "stream",
     "text": [
      "/home/gfindlay/miniconda3/envs/ecephys/lib/python3.7/site-packages/seaborn/distributions.py:2551: FutureWarning: `distplot` is a deprecated function and will be removed in a future version. Please adapt your code to use either `displot` (a figure-level function with similar flexibility) or `kdeplot` (an axes-level function for kernel density plots).\n",
      "  warnings.warn(msg, FutureWarning)\n",
      "/home/gfindlay/miniconda3/envs/ecephys/lib/python3.7/site-packages/seaborn/distributions.py:2551: FutureWarning: `distplot` is a deprecated function and will be removed in a future version. Please adapt your code to use either `displot` (a figure-level function with similar flexibility) or `kdeplot` (an axes-level function for kernel density plots).\n",
      "  warnings.warn(msg, FutureWarning)\n"
     ]
    },
    {
     "data": {
      "text/plain": [
       "<matplotlib.legend.Legend at 0x7f1425089690>"
      ]
     },
     "execution_count": 645,
     "metadata": {},
     "output_type": "execute_result"
    }
   ],
   "source": [
    "plt.figure(figsize=(10, 8))\n",
    "sns.distplot(ripples_bl.envelope_integral, hist=False, label='Baseline')\n",
    "sns.distplot(ripples_rec.envelope_integral, hist=False, label='Recovery')\n",
    "plt.xlabel(\"Envelope integral\", labelpad=13)\n",
    "plt.ylabel(\"frequency\", labelpad=13)\n",
    "plt.legend()"
   ]
  },
  {
   "cell_type": "markdown",
   "metadata": {},
   "source": [
    "## Look at ripple density"
   ]
  },
  {
   "cell_type": "code",
   "execution_count": 646,
   "metadata": {},
   "outputs": [
    {
     "data": {
      "application/vnd.jupyter.widget-view+json": {
       "model_id": "c0a0d3e5acf9451f8462309a31c18199",
       "version_major": 2,
       "version_minor": 0
      },
      "text/plain": [
       "Canvas(toolbar=Toolbar(toolitems=[('Home', 'Reset original view', 'home', 'home'), ('Back', 'Back to previous …"
      ]
     },
     "metadata": {},
     "output_type": "display_data"
    },
    {
     "name": "stderr",
     "output_type": "stream",
     "text": [
      "/home/gfindlay/miniconda3/envs/ecephys/lib/python3.7/site-packages/seaborn/distributions.py:2551: FutureWarning: `distplot` is a deprecated function and will be removed in a future version. Please adapt your code to use either `displot` (a figure-level function with similar flexibility) or `kdeplot` (an axes-level function for kernel density plots).\n",
      "  warnings.warn(msg, FutureWarning)\n",
      "/home/gfindlay/miniconda3/envs/ecephys/lib/python3.7/site-packages/seaborn/distributions.py:2551: FutureWarning: `distplot` is a deprecated function and will be removed in a future version. Please adapt your code to use either `displot` (a figure-level function with similar flexibility) or `kdeplot` (an axes-level function for kernel density plots).\n",
      "  warnings.warn(msg, FutureWarning)\n"
     ]
    },
    {
     "data": {
      "text/plain": [
       "<matplotlib.legend.Legend at 0x7f142505ced0>"
      ]
     },
     "execution_count": 646,
     "metadata": {},
     "output_type": "execute_result"
    }
   ],
   "source": [
    "plt.figure(figsize=(10, 8))\n",
    "sns.distplot(bl_hypno[bl_hypno.state == \"N2\"].duration, hist=False, label='Baseline')\n",
    "sns.distplot(rec_hypno[rec_hypno.state == \"N2\"].duration, hist=False, label='Recovery')\n",
    "plt.xlabel(\"NREM Episode Duration\", labelpad=13)\n",
    "plt.ylabel(\"frequency\", labelpad=13)\n",
    "plt.legend()"
   ]
  },
  {
   "cell_type": "code",
   "execution_count": 647,
   "metadata": {},
   "outputs": [],
   "source": [
    "def get_ripple_density(hypno, ripples):  \n",
    "    N2 = hypno[hypno.state == \"N2\"]\n",
    "    N2['n_ripples'] = N2.apply(lambda episode: np.sum(np.logical_and(ripples.center_time >= episode.start_time * 1000, ripples.center_time <= episode.end_time * 1000)), axis=1)\n",
    "    N2['ripple_density'] = N2.apply(lambda episode: episode.n_ripples / episode.duration, axis=1)\n",
    "    return N2"
   ]
  },
  {
   "cell_type": "code",
   "execution_count": 648,
   "metadata": {},
   "outputs": [
    {
     "data": {
      "application/vnd.jupyter.widget-view+json": {
       "model_id": "39f63acb0ece4b6c8a0a7d5458caabc0",
       "version_major": 2,
       "version_minor": 0
      },
      "text/plain": [
       "Canvas(toolbar=Toolbar(toolitems=[('Home', 'Reset original view', 'home', 'home'), ('Back', 'Back to previous …"
      ]
     },
     "metadata": {},
     "output_type": "display_data"
    },
    {
     "name": "stdout",
     "output_type": "stream",
     "text": [
      "Mean ripple density:  0.7551940631610309 \n",
      " Median ripple density:  0.7537878787878788\n"
     ]
    }
   ],
   "source": [
    "bl_density = get_ripple_density(bl_hypno, ripples_bl)\n",
    "\n",
    "plt.figure()\n",
    "ax = bl_density.ripple_density.plot.hist(bins=20)\n",
    "\n",
    "print(\"Mean ripple density: \", bl_density.ripple_density.mean(), \"\\n\", \"Median ripple density: \", bl_density.ripple_density.median())"
   ]
  },
  {
   "cell_type": "code",
   "execution_count": 649,
   "metadata": {},
   "outputs": [
    {
     "data": {
      "application/vnd.jupyter.widget-view+json": {
       "model_id": "67b9e439fd4c4fecb94f8448a1950c59",
       "version_major": 2,
       "version_minor": 0
      },
      "text/plain": [
       "Canvas(toolbar=Toolbar(toolitems=[('Home', 'Reset original view', 'home', 'home'), ('Back', 'Back to previous …"
      ]
     },
     "metadata": {},
     "output_type": "display_data"
    }
   ],
   "source": [
    "ax = bl_density.plot(x='start_time', y='ripple_density')"
   ]
  },
  {
   "cell_type": "code",
   "execution_count": 650,
   "metadata": {},
   "outputs": [
    {
     "data": {
      "text/plain": [
       "LinregressResult(slope=5.758654852416053e-06, intercept=0.7351316065725005, rvalue=0.06732308764063351, pvalue=0.6286022610836007, stderr=1.1835017845984128e-05)"
      ]
     },
     "execution_count": 650,
     "metadata": {},
     "output_type": "execute_result"
    }
   ],
   "source": [
    "test_slope(bl_density, 'start_time', 'ripple_density')"
   ]
  },
  {
   "cell_type": "code",
   "execution_count": 651,
   "metadata": {},
   "outputs": [
    {
     "data": {
      "application/vnd.jupyter.widget-view+json": {
       "model_id": "2e53176aa752442bbbd1c2dde5b5a942",
       "version_major": 2,
       "version_minor": 0
      },
      "text/plain": [
       "Canvas(toolbar=Toolbar(toolitems=[('Home', 'Reset original view', 'home', 'home'), ('Back', 'Back to previous …"
      ]
     },
     "metadata": {},
     "output_type": "display_data"
    },
    {
     "name": "stdout",
     "output_type": "stream",
     "text": [
      "Mean ripple density:  0.6024601003772324 \n",
      " Median ripple density:  0.6422413793103449\n"
     ]
    }
   ],
   "source": [
    "rec_density = get_ripple_density(rec_hypno, ripples_rec)\n",
    "\n",
    "plt.figure()\n",
    "ax = rec_density.ripple_density.plot.hist(bins=20)\n",
    "\n",
    "print(\"Mean ripple density: \", rec_density.ripple_density.mean(), \"\\n\", \"Median ripple density: \", rec_density.ripple_density.median())"
   ]
  },
  {
   "cell_type": "code",
   "execution_count": 652,
   "metadata": {},
   "outputs": [
    {
     "data": {
      "application/vnd.jupyter.widget-view+json": {
       "model_id": "69365753422a457e93f6a330b27d2414",
       "version_major": 2,
       "version_minor": 0
      },
      "text/plain": [
       "Canvas(toolbar=Toolbar(toolitems=[('Home', 'Reset original view', 'home', 'home'), ('Back', 'Back to previous …"
      ]
     },
     "metadata": {},
     "output_type": "display_data"
    },
    {
     "data": {
      "text/plain": [
       "<AxesSubplot:>"
      ]
     },
     "execution_count": 652,
     "metadata": {},
     "output_type": "execute_result"
    }
   ],
   "source": [
    "plt.figure()\n",
    "rec_density.boxplot(column=['ripple_density'])"
   ]
  },
  {
   "cell_type": "code",
   "execution_count": 653,
   "metadata": {},
   "outputs": [
    {
     "data": {
      "application/vnd.jupyter.widget-view+json": {
       "model_id": "1ce840d4a04948d08d29c3b49b67b23c",
       "version_major": 2,
       "version_minor": 0
      },
      "text/plain": [
       "Canvas(toolbar=Toolbar(toolitems=[('Home', 'Reset original view', 'home', 'home'), ('Back', 'Back to previous …"
      ]
     },
     "metadata": {},
     "output_type": "display_data"
    }
   ],
   "source": [
    "ax = rec_density.plot(x='start_time', y='ripple_density')"
   ]
  },
  {
   "cell_type": "code",
   "execution_count": 654,
   "metadata": {},
   "outputs": [
    {
     "data": {
      "text/plain": [
       "LinregressResult(slope=-1.3362066252102234e-05, intercept=0.648395908657351, rvalue=-0.14257495254853592, pvalue=0.3390620101219102, stderr=1.3828165250672282e-05)"
      ]
     },
     "execution_count": 654,
     "metadata": {},
     "output_type": "execute_result"
    }
   ],
   "source": [
    "test_slope(rec_density, 'start_time', 'ripple_density')"
   ]
  },
  {
   "cell_type": "code",
   "execution_count": 655,
   "metadata": {},
   "outputs": [
    {
     "name": "stderr",
     "output_type": "stream",
     "text": [
      "/home/gfindlay/miniconda3/envs/ecephys/lib/python3.7/site-packages/ipykernel_launcher.py:4: RuntimeWarning: More than 20 figures have been opened. Figures created through the pyplot interface (`matplotlib.pyplot.figure`) are retained until explicitly closed and may consume too much memory. (To control this warning, see the rcParam `figure.max_open_warning`).\n",
      "  after removing the cwd from sys.path.\n"
     ]
    },
    {
     "data": {
      "application/vnd.jupyter.widget-view+json": {
       "model_id": "4aacf482253c4f229bdde340c6a4de7c",
       "version_major": 2,
       "version_minor": 0
      },
      "text/plain": [
       "Canvas(toolbar=Toolbar(toolitems=[('Home', 'Reset original view', 'home', 'home'), ('Back', 'Back to previous …"
      ]
     },
     "metadata": {},
     "output_type": "display_data"
    }
   ],
   "source": [
    "plot_qq(bl_density, rec_density, 'ripple_density')"
   ]
  },
  {
   "cell_type": "code",
   "execution_count": 656,
   "metadata": {},
   "outputs": [
    {
     "data": {
      "text/plain": [
       "Ttest_indResult(statistic=3.999539205251038, pvalue=0.00012730016103212506)"
      ]
     },
     "execution_count": 656,
     "metadata": {},
     "output_type": "execute_result"
    }
   ],
   "source": [
    "stats.ttest_ind(bl_density.ripple_density, rec_density.ripple_density, equal_var=False)"
   ]
  },
  {
   "cell_type": "code",
   "execution_count": 657,
   "metadata": {},
   "outputs": [
    {
     "data": {
      "application/vnd.jupyter.widget-view+json": {
       "model_id": "dac2393f0dc04a509a3d678518404d40",
       "version_major": 2,
       "version_minor": 0
      },
      "text/plain": [
       "Canvas(toolbar=Toolbar(toolitems=[('Home', 'Reset original view', 'home', 'home'), ('Back', 'Back to previous …"
      ]
     },
     "metadata": {},
     "output_type": "display_data"
    },
    {
     "name": "stderr",
     "output_type": "stream",
     "text": [
      "/home/gfindlay/miniconda3/envs/ecephys/lib/python3.7/site-packages/seaborn/distributions.py:2551: FutureWarning: `distplot` is a deprecated function and will be removed in a future version. Please adapt your code to use either `displot` (a figure-level function with similar flexibility) or `kdeplot` (an axes-level function for kernel density plots).\n",
      "  warnings.warn(msg, FutureWarning)\n",
      "/home/gfindlay/miniconda3/envs/ecephys/lib/python3.7/site-packages/seaborn/distributions.py:2551: FutureWarning: `distplot` is a deprecated function and will be removed in a future version. Please adapt your code to use either `displot` (a figure-level function with similar flexibility) or `kdeplot` (an axes-level function for kernel density plots).\n",
      "  warnings.warn(msg, FutureWarning)\n"
     ]
    }
   ],
   "source": [
    "values_bl, values_rec, cohens_d = two_sample_data_setup_for_cohens_d(bl_density.ripple_density.mean(), \n",
    "                                                                     rec_density.ripple_density.mean(), \n",
    "                                                                     bl_density.ripple_density.std(), \n",
    "                                                                     rec_density.ripple_density.std())\n",
    "visualize_distributions(bl_density.ripple_density, rec_density.ripple_density, cohens_d, interpret_cohens_d(cohens_d))\n"
   ]
  },
  {
   "cell_type": "code",
   "execution_count": 658,
   "metadata": {},
   "outputs": [
    {
     "name": "stdout",
     "output_type": "stream",
     "text": [
      "9.604515714087054 0.001940994593559395 0.6944444444444444\n"
     ]
    }
   ],
   "source": [
    "stat, p, med, tbl = stats.median_test(bl_density.ripple_density, rec_density.ripple_density) \n",
    "print(stat, p, med)"
   ]
  },
  {
   "cell_type": "code",
   "execution_count": 659,
   "metadata": {},
   "outputs": [
    {
     "data": {
      "text/plain": [
       "KruskalResult(statistic=15.117256430870805, pvalue=0.00010103549131821055)"
      ]
     },
     "execution_count": 659,
     "metadata": {},
     "output_type": "execute_result"
    }
   ],
   "source": [
    "stats.kruskal(bl_density.ripple_density, rec_density.ripple_density)"
   ]
  },
  {
   "cell_type": "code",
   "execution_count": 660,
   "metadata": {},
   "outputs": [
    {
     "data": {
      "text/plain": [
       "MannwhitneyuResult(statistic=698.0, pvalue=5.123090528565785e-05)"
      ]
     },
     "execution_count": 660,
     "metadata": {},
     "output_type": "execute_result"
    }
   ],
   "source": [
    "stats.mannwhitneyu(bl_density.ripple_density, rec_density.ripple_density)"
   ]
  },
  {
   "cell_type": "markdown",
   "metadata": {},
   "source": [
    "## Epoched ripple density"
   ]
  },
  {
   "cell_type": "code",
   "execution_count": 661,
   "metadata": {},
   "outputs": [],
   "source": [
    "# https://stackoverflow.com/questions/21160134/flatten-a-column-with-value-of-type-list-while-duplicating-the-other-columns-va\n",
    "def unnest_df(df, col, reset_index=False):\n",
    "    import pandas as pd\n",
    "    col_flat = pd.DataFrame([[i, x] \n",
    "                       for i, y in df[col].apply(list).iteritems() \n",
    "                           for x in y], columns=['I', col])\n",
    "    col_flat = col_flat.set_index('I')\n",
    "    df = df.drop(col, 1)\n",
    "    df = df.merge(col_flat, left_index=True, right_index=True)\n",
    "    if reset_index:\n",
    "        df = df.reset_index(drop=True)\n",
    "    return df\n",
    "\n",
    "def _get_ripple_density(hypno, ripples, epoch_length):  \n",
    "    N2 = hypno[np.logical_and(hypno.state == \"N2\", hypno.duration >= epoch_length)]\n",
    "    N2['epoch_start_times'] = N2.apply(lambda episode: np.arange(episode.start_time, episode.end_time - epoch_length, epoch_length), axis=1)\n",
    "    N2 = unnest_df(N2, 'epoch_start_times')\n",
    "    N2 = N2.rename(columns={'end_time': 'episode_end_time', 'start_time': 'epsiode_start_time', 'duration': 'episode_duration', 'epoch_start_times': 'start_time'})\n",
    "    N2['end_time'] = N2.apply(lambda epoch: epoch.start_time + epoch_length, axis=1)\n",
    "    N2['n_ripples'] = N2.apply(lambda epoch: np.sum(np.logical_and(ripples.center_time >= epoch.start_time * 1000, ripples.center_time <= epoch.end_time * 1000)), axis=1)\n",
    "    N2['ripple_density'] = N2.apply(lambda epoch: epoch.n_ripples / epoch_length, axis=1)\n",
    "    return N2"
   ]
  },
  {
   "cell_type": "code",
   "execution_count": 662,
   "metadata": {},
   "outputs": [],
   "source": [
    "epoch_length = 40"
   ]
  },
  {
   "cell_type": "code",
   "execution_count": 663,
   "metadata": {},
   "outputs": [
    {
     "data": {
      "application/vnd.jupyter.widget-view+json": {
       "model_id": "9da621d7a3194b60b0c61cef9af35604",
       "version_major": 2,
       "version_minor": 0
      },
      "text/plain": [
       "Canvas(toolbar=Toolbar(toolitems=[('Home', 'Reset original view', 'home', 'home'), ('Back', 'Back to previous …"
      ]
     },
     "metadata": {},
     "output_type": "display_data"
    },
    {
     "name": "stdout",
     "output_type": "stream",
     "text": [
      "Mean ripple density:  0.7841666666666666 \n",
      " Median ripple density:  0.7625 \n",
      " Number of ripples:  60\n"
     ]
    }
   ],
   "source": [
    "bl_density = _get_ripple_density(bl_hypno, ripples_bl, epoch_length)\n",
    "\n",
    "plt.figure()\n",
    "ax = bl_density.ripple_density.plot.hist()\n",
    "\n",
    "print(\"Mean ripple density: \", bl_density.ripple_density.mean(), \"\\n\", \"Median ripple density: \", bl_density.ripple_density.median(), \"\\n\", \"Number of ripples: \", len(bl_density))"
   ]
  },
  {
   "cell_type": "code",
   "execution_count": 664,
   "metadata": {},
   "outputs": [
    {
     "data": {
      "application/vnd.jupyter.widget-view+json": {
       "model_id": "826e2c49caa64552ac0cdd1a61c7d67d",
       "version_major": 2,
       "version_minor": 0
      },
      "text/plain": [
       "Canvas(toolbar=Toolbar(toolitems=[('Home', 'Reset original view', 'home', 'home'), ('Back', 'Back to previous …"
      ]
     },
     "metadata": {},
     "output_type": "display_data"
    }
   ],
   "source": [
    "ax = bl_density.plot(x='start_time', y='ripple_density')"
   ]
  },
  {
   "cell_type": "code",
   "execution_count": 665,
   "metadata": {},
   "outputs": [
    {
     "data": {
      "text/plain": [
       "LinregressResult(slope=-1.0078581261630812e-05, intercept=0.8195729587735042, rvalue=-0.13213224537609466, pvalue=0.314231435302073, stderr=9.927775463843118e-06)"
      ]
     },
     "execution_count": 665,
     "metadata": {},
     "output_type": "execute_result"
    }
   ],
   "source": [
    "test_slope(bl_density, 'start_time', 'ripple_density')"
   ]
  },
  {
   "cell_type": "code",
   "execution_count": 666,
   "metadata": {},
   "outputs": [
    {
     "data": {
      "application/vnd.jupyter.widget-view+json": {
       "model_id": "c49af1820be54d0da4abde7bfb9f087d",
       "version_major": 2,
       "version_minor": 0
      },
      "text/plain": [
       "Canvas(toolbar=Toolbar(toolitems=[('Home', 'Reset original view', 'home', 'home'), ('Back', 'Back to previous …"
      ]
     },
     "metadata": {},
     "output_type": "display_data"
    },
    {
     "name": "stdout",
     "output_type": "stream",
     "text": [
      "Mean ripple density:  0.7343023255813953 \n",
      " Median ripple density:  0.725 \n",
      " Number of ripples:  86\n"
     ]
    }
   ],
   "source": [
    "rec_density = _get_ripple_density(rec_hypno, ripples_rec, epoch_length)\n",
    "\n",
    "plt.figure()\n",
    "ax = rec_density.ripple_density.plot.hist()\n",
    "\n",
    "print(\"Mean ripple density: \", rec_density.ripple_density.mean(), \"\\n\", \"Median ripple density: \", rec_density.ripple_density.median(), \"\\n\", \"Number of ripples: \", len(rec_density))"
   ]
  },
  {
   "cell_type": "code",
   "execution_count": 667,
   "metadata": {},
   "outputs": [
    {
     "data": {
      "application/vnd.jupyter.widget-view+json": {
       "model_id": "eb04d155164c4f188dd72451e578bb11",
       "version_major": 2,
       "version_minor": 0
      },
      "text/plain": [
       "Canvas(toolbar=Toolbar(toolitems=[('Home', 'Reset original view', 'home', 'home'), ('Back', 'Back to previous …"
      ]
     },
     "metadata": {},
     "output_type": "display_data"
    }
   ],
   "source": [
    "ax = rec_density.plot(x='start_time', y='ripple_density')"
   ]
  },
  {
   "cell_type": "code",
   "execution_count": 668,
   "metadata": {},
   "outputs": [
    {
     "data": {
      "text/plain": [
       "LinregressResult(slope=4.9742957605565776e-06, intercept=0.7152168116732954, rvalue=0.0590810474704444, pvalue=0.5889556172870503, stderr=9.170319789166922e-06)"
      ]
     },
     "execution_count": 668,
     "metadata": {},
     "output_type": "execute_result"
    }
   ],
   "source": [
    "test_slope(rec_density, 'start_time', 'ripple_density')"
   ]
  },
  {
   "cell_type": "code",
   "execution_count": 669,
   "metadata": {},
   "outputs": [
    {
     "data": {
      "application/vnd.jupyter.widget-view+json": {
       "model_id": "e883f9b31a7242a5a95fcba31afeeda7",
       "version_major": 2,
       "version_minor": 0
      },
      "text/plain": [
       "Canvas(toolbar=Toolbar(toolitems=[('Home', 'Reset original view', 'home', 'home'), ('Back', 'Back to previous …"
      ]
     },
     "metadata": {},
     "output_type": "display_data"
    }
   ],
   "source": [
    "plot_qq(bl_density, rec_density, 'ripple_density')"
   ]
  },
  {
   "cell_type": "code",
   "execution_count": 670,
   "metadata": {},
   "outputs": [
    {
     "data": {
      "text/plain": [
       "Ttest_indResult(statistic=1.8209178348062378, pvalue=0.07104559987151243)"
      ]
     },
     "execution_count": 670,
     "metadata": {},
     "output_type": "execute_result"
    }
   ],
   "source": [
    "stats.ttest_ind(bl_density.ripple_density, rec_density.ripple_density, equal_var=False)"
   ]
  },
  {
   "cell_type": "code",
   "execution_count": 671,
   "metadata": {},
   "outputs": [
    {
     "data": {
      "application/vnd.jupyter.widget-view+json": {
       "model_id": "8c2c3e1d2b2d4618b08f6aec32a6f93c",
       "version_major": 2,
       "version_minor": 0
      },
      "text/plain": [
       "Canvas(toolbar=Toolbar(toolitems=[('Home', 'Reset original view', 'home', 'home'), ('Back', 'Back to previous …"
      ]
     },
     "metadata": {},
     "output_type": "display_data"
    },
    {
     "name": "stderr",
     "output_type": "stream",
     "text": [
      "/home/gfindlay/miniconda3/envs/ecephys/lib/python3.7/site-packages/seaborn/distributions.py:2551: FutureWarning: `distplot` is a deprecated function and will be removed in a future version. Please adapt your code to use either `displot` (a figure-level function with similar flexibility) or `kdeplot` (an axes-level function for kernel density plots).\n",
      "  warnings.warn(msg, FutureWarning)\n",
      "/home/gfindlay/miniconda3/envs/ecephys/lib/python3.7/site-packages/seaborn/distributions.py:2551: FutureWarning: `distplot` is a deprecated function and will be removed in a future version. Please adapt your code to use either `displot` (a figure-level function with similar flexibility) or `kdeplot` (an axes-level function for kernel density plots).\n",
      "  warnings.warn(msg, FutureWarning)\n"
     ]
    }
   ],
   "source": [
    "values_bl, values_rec, cohens_d = two_sample_data_setup_for_cohens_d(bl_density.ripple_density.mean(), \n",
    "                                                                     rec_density.ripple_density.mean(), \n",
    "                                                                     bl_density.ripple_density.std(), \n",
    "                                                                     rec_density.ripple_density.std())\n",
    "visualize_distributions(bl_density.ripple_density, rec_density.ripple_density, cohens_d, interpret_cohens_d(cohens_d))\n"
   ]
  },
  {
   "cell_type": "code",
   "execution_count": 672,
   "metadata": {},
   "outputs": [
    {
     "name": "stdout",
     "output_type": "stream",
     "text": [
      "0.9592168476616154 0.3273842713527154 0.725\n"
     ]
    }
   ],
   "source": [
    "stat, p, med, tbl = stats.median_test(bl_density.ripple_density, rec_density.ripple_density) \n",
    "print(stat, p, med)"
   ]
  },
  {
   "cell_type": "code",
   "execution_count": 673,
   "metadata": {},
   "outputs": [
    {
     "data": {
      "text/plain": [
       "KruskalResult(statistic=2.7592613979716694, pvalue=0.0966928695735208)"
      ]
     },
     "execution_count": 673,
     "metadata": {},
     "output_type": "execute_result"
    }
   ],
   "source": [
    "stats.kruskal(bl_density.ripple_density, rec_density.ripple_density)"
   ]
  },
  {
   "cell_type": "code",
   "execution_count": 674,
   "metadata": {},
   "outputs": [
    {
     "data": {
      "text/plain": [
       "MannwhitneyuResult(statistic=2163.0, pvalue=0.04854674024016445)"
      ]
     },
     "execution_count": 674,
     "metadata": {},
     "output_type": "execute_result"
    }
   ],
   "source": [
    "stats.mannwhitneyu(bl_density.ripple_density, rec_density.ripple_density)"
   ]
  },
  {
   "cell_type": "markdown",
   "metadata": {},
   "source": [
    "### Sensitivity Analysis"
   ]
  },
  {
   "cell_type": "code",
   "execution_count": 675,
   "metadata": {},
   "outputs": [],
   "source": [
    "def _get_density_ttest_pval(epoch_length):\n",
    "    bl_density = _get_ripple_density(bl_hypno, ripples_bl, epoch_length)\n",
    "    rec_density = _get_ripple_density(rec_hypno, ripples_rec, epoch_length)\n",
    "    return stats.ttest_ind(bl_density.ripple_density, rec_density.ripple_density, equal_var=False).pvalue\n",
    "\n",
    "def _get_density_MannWhitney_pval(epoch_length):\n",
    "    bl_density = _get_ripple_density(bl_hypno, ripples_bl, epoch_length)\n",
    "    rec_density = _get_ripple_density(rec_hypno, ripples_rec, epoch_length)\n",
    "    return stats.mannwhitneyu(bl_density.ripple_density, rec_density.ripple_density).pvalue\n",
    "\n",
    "def _get_density_nEpochs(hypno, ripples, epoch_length):\n",
    "    bl_density = _get_ripple_density(hypno, ripples_bl, epoch_length)\n",
    "    rec_density = _get_ripple_density(rec_hypno, ripples_rec, epoch_length)\n",
    "    return stats.mannwhitneyu(bl_density.ripple_density, rec_density.ripple_density).pvalue\n",
    "\n",
    "df = pd.DataFrame(data={'epoch_length': np.arange(5, 65, 5)})\n",
    "df['ttest_pval'] = df.apply(lambda x: _get_density_ttest_pval(x.epoch_length), axis=1)\n",
    "df['mw_pval'] = df.apply(lambda x: _get_density_MannWhitney_pval(x.epoch_length), axis=1)\n",
    "df['n_epochs_bl'] = df.apply(lambda x: len(_get_ripple_density(bl_hypno, ripples_bl, x.epoch_length)), axis=1)\n",
    "df['n_epochs_rec'] = df.apply(lambda x: len(_get_ripple_density(rec_hypno, ripples_rec, x.epoch_length)), axis=1)"
   ]
  },
  {
   "cell_type": "code",
   "execution_count": 676,
   "metadata": {},
   "outputs": [
    {
     "data": {
      "text/html": [
       "<div>\n",
       "<style scoped>\n",
       "    .dataframe tbody tr th:only-of-type {\n",
       "        vertical-align: middle;\n",
       "    }\n",
       "\n",
       "    .dataframe tbody tr th {\n",
       "        vertical-align: top;\n",
       "    }\n",
       "\n",
       "    .dataframe thead th {\n",
       "        text-align: right;\n",
       "    }\n",
       "</style>\n",
       "<table border=\"1\" class=\"dataframe\">\n",
       "  <thead>\n",
       "    <tr style=\"text-align: right;\">\n",
       "      <th></th>\n",
       "      <th>epoch_length</th>\n",
       "      <th>ttest_pval</th>\n",
       "      <th>mw_pval</th>\n",
       "      <th>n_epochs_bl</th>\n",
       "      <th>n_epochs_rec</th>\n",
       "    </tr>\n",
       "  </thead>\n",
       "  <tbody>\n",
       "    <tr>\n",
       "      <th>0</th>\n",
       "      <td>5</td>\n",
       "      <td>0.000754</td>\n",
       "      <td>0.001218</td>\n",
       "      <td>651</td>\n",
       "      <td>845</td>\n",
       "    </tr>\n",
       "    <tr>\n",
       "      <th>1</th>\n",
       "      <td>10</td>\n",
       "      <td>0.003156</td>\n",
       "      <td>0.001590</td>\n",
       "      <td>309</td>\n",
       "      <td>407</td>\n",
       "    </tr>\n",
       "    <tr>\n",
       "      <th>2</th>\n",
       "      <td>15</td>\n",
       "      <td>0.007139</td>\n",
       "      <td>0.008596</td>\n",
       "      <td>197</td>\n",
       "      <td>268</td>\n",
       "    </tr>\n",
       "    <tr>\n",
       "      <th>3</th>\n",
       "      <td>20</td>\n",
       "      <td>0.006500</td>\n",
       "      <td>0.005721</td>\n",
       "      <td>143</td>\n",
       "      <td>192</td>\n",
       "    </tr>\n",
       "    <tr>\n",
       "      <th>4</th>\n",
       "      <td>25</td>\n",
       "      <td>0.012186</td>\n",
       "      <td>0.010623</td>\n",
       "      <td>107</td>\n",
       "      <td>150</td>\n",
       "    </tr>\n",
       "    <tr>\n",
       "      <th>5</th>\n",
       "      <td>30</td>\n",
       "      <td>0.014272</td>\n",
       "      <td>0.010902</td>\n",
       "      <td>83</td>\n",
       "      <td>124</td>\n",
       "    </tr>\n",
       "    <tr>\n",
       "      <th>6</th>\n",
       "      <td>35</td>\n",
       "      <td>0.008164</td>\n",
       "      <td>0.009190</td>\n",
       "      <td>72</td>\n",
       "      <td>104</td>\n",
       "    </tr>\n",
       "    <tr>\n",
       "      <th>7</th>\n",
       "      <td>40</td>\n",
       "      <td>0.071046</td>\n",
       "      <td>0.048547</td>\n",
       "      <td>60</td>\n",
       "      <td>86</td>\n",
       "    </tr>\n",
       "    <tr>\n",
       "      <th>8</th>\n",
       "      <td>45</td>\n",
       "      <td>0.045109</td>\n",
       "      <td>0.027295</td>\n",
       "      <td>49</td>\n",
       "      <td>76</td>\n",
       "    </tr>\n",
       "    <tr>\n",
       "      <th>9</th>\n",
       "      <td>50</td>\n",
       "      <td>0.062616</td>\n",
       "      <td>0.030455</td>\n",
       "      <td>42</td>\n",
       "      <td>66</td>\n",
       "    </tr>\n",
       "    <tr>\n",
       "      <th>10</th>\n",
       "      <td>55</td>\n",
       "      <td>0.058884</td>\n",
       "      <td>0.031750</td>\n",
       "      <td>38</td>\n",
       "      <td>61</td>\n",
       "    </tr>\n",
       "    <tr>\n",
       "      <th>11</th>\n",
       "      <td>60</td>\n",
       "      <td>0.018689</td>\n",
       "      <td>0.014392</td>\n",
       "      <td>31</td>\n",
       "      <td>53</td>\n",
       "    </tr>\n",
       "  </tbody>\n",
       "</table>\n",
       "</div>"
      ],
      "text/plain": [
       "    epoch_length  ttest_pval   mw_pval  n_epochs_bl  n_epochs_rec\n",
       "0              5    0.000754  0.001218          651           845\n",
       "1             10    0.003156  0.001590          309           407\n",
       "2             15    0.007139  0.008596          197           268\n",
       "3             20    0.006500  0.005721          143           192\n",
       "4             25    0.012186  0.010623          107           150\n",
       "5             30    0.014272  0.010902           83           124\n",
       "6             35    0.008164  0.009190           72           104\n",
       "7             40    0.071046  0.048547           60            86\n",
       "8             45    0.045109  0.027295           49            76\n",
       "9             50    0.062616  0.030455           42            66\n",
       "10            55    0.058884  0.031750           38            61\n",
       "11            60    0.018689  0.014392           31            53"
      ]
     },
     "execution_count": 676,
     "metadata": {},
     "output_type": "execute_result"
    }
   ],
   "source": [
    "df"
   ]
  },
  {
   "cell_type": "code",
   "execution_count": 677,
   "metadata": {},
   "outputs": [
    {
     "data": {
      "application/vnd.jupyter.widget-view+json": {
       "model_id": "fbbae3dffc2343a887a795457cd681a4",
       "version_major": 2,
       "version_minor": 0
      },
      "text/plain": [
       "Canvas(toolbar=Toolbar(toolitems=[('Home', 'Reset original view', 'home', 'home'), ('Back', 'Back to previous …"
      ]
     },
     "metadata": {},
     "output_type": "display_data"
    },
    {
     "data": {
      "text/plain": [
       "<AxesSubplot:xlabel='epoch_length'>"
      ]
     },
     "execution_count": 677,
     "metadata": {},
     "output_type": "execute_result"
    }
   ],
   "source": [
    "df[['ttest_pval', 'mw_pval', 'epoch_length']].plot(x='epoch_length')"
   ]
  },
  {
   "cell_type": "code",
   "execution_count": 678,
   "metadata": {},
   "outputs": [
    {
     "data": {
      "application/vnd.jupyter.widget-view+json": {
       "model_id": "8e4754cb447a49b5a784596b3995ea27",
       "version_major": 2,
       "version_minor": 0
      },
      "text/plain": [
       "Canvas(toolbar=Toolbar(toolitems=[('Home', 'Reset original view', 'home', 'home'), ('Back', 'Back to previous …"
      ]
     },
     "metadata": {},
     "output_type": "display_data"
    },
    {
     "data": {
      "text/plain": [
       "<AxesSubplot:xlabel='epoch_length'>"
      ]
     },
     "execution_count": 678,
     "metadata": {},
     "output_type": "execute_result"
    }
   ],
   "source": [
    "df[['n_epochs_bl', 'n_epochs_rec', 'epoch_length']].plot(x='epoch_length')"
   ]
  },
  {
   "cell_type": "code",
   "execution_count": null,
   "metadata": {},
   "outputs": [],
   "source": []
  }
 ],
 "metadata": {
  "kernelspec": {
   "display_name": "Python 3",
   "language": "python",
   "name": "python3"
  },
  "language_info": {
   "codemirror_mode": {
    "name": "ipython",
    "version": 3
   },
   "file_extension": ".py",
   "mimetype": "text/x-python",
   "name": "python",
   "nbconvert_exporter": "python",
   "pygments_lexer": "ipython3",
   "version": "3.7.9"
  }
 },
 "nbformat": 4,
 "nbformat_minor": 4
}
