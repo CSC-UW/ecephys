{
 "cells": [
  {
   "cell_type": "markdown",
   "metadata": {},
   "source": [
    "## EMGfromLFP"
   ]
  },
  {
   "cell_type": "code",
   "execution_count": 1,
   "metadata": {
    "execution": {
     "iopub.execute_input": "2020-12-24T21:41:05.911668Z",
     "iopub.status.busy": "2020-12-24T21:41:05.911067Z",
     "iopub.status.idle": "2020-12-24T21:41:05.929102Z",
     "shell.execute_reply": "2020-12-24T21:41:05.928473Z",
     "shell.execute_reply.started": "2020-12-24T21:41:05.911503Z"
    }
   },
   "outputs": [],
   "source": [
    "%load_ext autoreload\n",
    "%autoreload 2"
   ]
  },
  {
   "cell_type": "code",
   "execution_count": 2,
   "metadata": {
    "execution": {
     "iopub.execute_input": "2020-12-24T21:41:06.567903Z",
     "iopub.status.busy": "2020-12-24T21:41:06.567769Z",
     "iopub.status.idle": "2020-12-24T21:41:07.285251Z",
     "shell.execute_reply": "2020-12-24T21:41:07.284670Z",
     "shell.execute_reply.started": "2020-12-24T21:41:06.567887Z"
    }
   },
   "outputs": [],
   "source": [
    "from pathlib import Path\n",
    "import numpy as np\n",
    "import pandas as pd\n",
    "import matplotlib.pyplot as plt\n",
    "import time\n",
    "import xarray as xr"
   ]
  },
  {
   "cell_type": "code",
   "execution_count": 4,
   "metadata": {
    "execution": {
     "iopub.execute_input": "2020-12-24T21:41:07.475827Z",
     "iopub.status.busy": "2020-12-24T21:41:07.475699Z",
     "iopub.status.idle": "2020-12-24T21:41:07.490486Z",
     "shell.execute_reply": "2020-12-24T21:41:07.490046Z",
     "shell.execute_reply.started": "2020-12-24T21:41:07.475811Z"
    }
   },
   "outputs": [],
   "source": [
    "from neurodsp.plts.time_series import plot_time_series"
   ]
  },
  {
   "cell_type": "code",
   "execution_count": 96,
   "metadata": {
    "execution": {
     "iopub.execute_input": "2020-12-24T22:44:26.329183Z",
     "iopub.status.busy": "2020-12-24T22:44:26.329046Z",
     "iopub.status.idle": "2020-12-24T22:44:26.343421Z",
     "shell.execute_reply": "2020-12-24T22:44:26.342831Z",
     "shell.execute_reply.started": "2020-12-24T22:44:26.329167Z"
    }
   },
   "outputs": [],
   "source": [
    "from ecephys.emg_from_lfp import compute_EMG\n",
    "from ecephys.data import channel_groups, paths\n",
    "from ecephys.sglx_utils import load_timeseries\n",
    "from ecephys.scoring import load_visbrain_hypnogram\n",
    "from ecephys.plot import plot_hypnogram_overlay"
   ]
  },
  {
   "cell_type": "code",
   "execution_count": 6,
   "metadata": {
    "execution": {
     "iopub.execute_input": "2020-12-24T21:41:08.028463Z",
     "iopub.status.busy": "2020-12-24T21:41:08.028327Z",
     "iopub.status.idle": "2020-12-24T21:41:08.044397Z",
     "shell.execute_reply": "2020-12-24T21:41:08.043813Z",
     "shell.execute_reply.started": "2020-12-24T21:41:08.028447Z"
    }
   },
   "outputs": [],
   "source": [
    "start_time = 0\n",
    "end_time = 600\n",
    "bin_path = Path(paths.lfp_bin[\"SR\"][\"Doppio\"])"
   ]
  },
  {
   "cell_type": "code",
   "execution_count": 7,
   "metadata": {
    "execution": {
     "iopub.execute_input": "2020-12-24T21:41:08.748424Z",
     "iopub.status.busy": "2020-12-24T21:41:08.748282Z",
     "iopub.status.idle": "2020-12-24T21:41:08.835701Z",
     "shell.execute_reply": "2020-12-24T21:41:08.835171Z",
     "shell.execute_reply.started": "2020-12-24T21:41:08.748408Z"
    }
   },
   "outputs": [],
   "source": [
    "hypno_path = Path(paths.hypnograms[\"SR\"][\"Doppio\"])\n",
    "hypno = load_visbrain_hypnogram(hypno_path)"
   ]
  },
  {
   "cell_type": "code",
   "execution_count": 95,
   "metadata": {
    "execution": {
     "iopub.execute_input": "2020-12-24T22:44:16.059087Z",
     "iopub.status.busy": "2020-12-24T22:44:16.058592Z",
     "iopub.status.idle": "2020-12-24T22:44:26.310194Z",
     "shell.execute_reply": "2020-12-24T22:44:26.309382Z",
     "shell.execute_reply.started": "2020-12-24T22:44:16.059029Z"
    }
   },
   "outputs": [
    {
     "name": "stdout",
     "output_type": "stream",
     "text": [
      "nChan: 385, nFileSamp: 18000019\n"
     ]
    }
   ],
   "source": [
    "emg_chans = channel_groups.emg[\"Doppio\"]\n",
    "emg_sig = load_timeseries(bin_path, emg_chans, start_time=start_time, end_time=end_time, xarray=True)"
   ]
  },
  {
   "cell_type": "code",
   "execution_count": 97,
   "metadata": {
    "execution": {
     "iopub.execute_input": "2020-12-24T22:45:40.240323Z",
     "iopub.status.busy": "2020-12-24T22:45:40.239827Z",
     "iopub.status.idle": "2020-12-24T22:45:58.333177Z",
     "shell.execute_reply": "2020-12-24T22:45:58.332320Z",
     "shell.execute_reply.started": "2020-12-24T22:45:40.240265Z"
    }
   },
   "outputs": [
    {
     "name": "stdout",
     "output_type": "stream",
     "text": [
      "Filtering LFP with wp=[300, 600], ws=[275, 625], gpass=1, gstop=60,filter type=butter\n",
      "Computing EMG from filtered LFP...\n",
      "target sf = 20, window size = 10.0, LFP sf=2500.0025140000002, LFP nchans = 3\n"
     ]
    },
    {
     "data": {
      "application/vnd.jupyter.widget-view+json": {
       "model_id": "",
       "version_major": 2,
       "version_minor": 0
      },
      "text/plain": [
       "HBox(children=(HTML(value='XCorr: Iterate on channel pairs'), FloatProgress(value=0.0, max=3.0), HTML(value=''…"
      ]
     },
     "metadata": {},
     "output_type": "display_data"
    },
    {
     "data": {
      "application/vnd.jupyter.widget-view+json": {
       "model_id": "",
       "version_major": 2,
       "version_minor": 0
      },
      "text/plain": [
       "HBox(children=(HTML(value='XCorr: Iterate on windows'), FloatProgress(value=0.0, max=12001.0), HTML(value=''))…"
      ]
     },
     "metadata": {},
     "output_type": "display_data"
    },
    {
     "name": "stdout",
     "output_type": "stream",
     "text": [
      "\n"
     ]
    },
    {
     "data": {
      "application/vnd.jupyter.widget-view+json": {
       "model_id": "",
       "version_major": 2,
       "version_minor": 0
      },
      "text/plain": [
       "HBox(children=(HTML(value='XCorr: Iterate on windows'), FloatProgress(value=0.0, max=12001.0), HTML(value=''))…"
      ]
     },
     "metadata": {},
     "output_type": "display_data"
    },
    {
     "name": "stdout",
     "output_type": "stream",
     "text": [
      "\n"
     ]
    },
    {
     "data": {
      "application/vnd.jupyter.widget-view+json": {
       "model_id": "",
       "version_major": 2,
       "version_minor": 0
      },
      "text/plain": [
       "HBox(children=(HTML(value='XCorr: Iterate on windows'), FloatProgress(value=0.0, max=12001.0), HTML(value=''))…"
      ]
     },
     "metadata": {},
     "output_type": "display_data"
    },
    {
     "name": "stdout",
     "output_type": "stream",
     "text": [
      "\n",
      "\n",
      "Done!\n"
     ]
    }
   ],
   "source": [
    "emg_opts = dict(target_sf=20, window_size=10.0, wp=[300, 600], ws=[275, 625], gpass=1, gstop=60, ftype='butter')\n",
    "emg_values = compute_EMG(emg_sig.values.T, emg_sig.fs, **emg_opts).T"
   ]
  },
  {
   "cell_type": "code",
   "execution_count": 104,
   "metadata": {
    "execution": {
     "iopub.execute_input": "2020-12-24T22:47:36.715551Z",
     "iopub.status.busy": "2020-12-24T22:47:36.715090Z",
     "iopub.status.idle": "2020-12-24T22:47:36.744133Z",
     "shell.execute_reply": "2020-12-24T22:47:36.743498Z",
     "shell.execute_reply.started": "2020-12-24T22:47:36.715494Z"
    }
   },
   "outputs": [],
   "source": [
    "emg_times = np.linspace(np.min(emg_sig.time), np.max(emg_sig.time), len(emg_values)) + start_time"
   ]
  },
  {
   "cell_type": "code",
   "execution_count": 122,
   "metadata": {
    "execution": {
     "iopub.execute_input": "2020-12-24T22:55:10.465719Z",
     "iopub.status.busy": "2020-12-24T22:55:10.465284Z",
     "iopub.status.idle": "2020-12-24T22:55:10.485329Z",
     "shell.execute_reply": "2020-12-24T22:55:10.484681Z",
     "shell.execute_reply.started": "2020-12-24T22:55:10.465664Z"
    }
   },
   "outputs": [],
   "source": [
    "emg = xr.DataArray(emg_values.flatten(), dims=\"time\", coords={\"time\": emg_times})\n",
    "emg.attrs['long_name'] = 'EMG'\n",
    "emg.attrs['units'] = 'zero-lag correlation'\n",
    "for key in emg_opts:\n",
    "    emg.attrs[key] = emg_opts[key]"
   ]
  },
  {
   "cell_type": "code",
   "execution_count": 123,
   "metadata": {
    "execution": {
     "iopub.execute_input": "2020-12-24T22:55:13.917390Z",
     "iopub.status.busy": "2020-12-24T22:55:13.916934Z",
     "iopub.status.idle": "2020-12-24T22:55:14.183857Z",
     "shell.execute_reply": "2020-12-24T22:55:14.183122Z",
     "shell.execute_reply.started": "2020-12-24T22:55:13.917333Z"
    }
   },
   "outputs": [
    {
     "data": {
      "image/png": "[encoded data removed]",
      "text/plain": [
       "<Figure size 1728x216 with 1 Axes>"
      ]
     },
     "metadata": {
      "needs_background": "light"
     },
     "output_type": "display_data"
    }
   ],
   "source": [
    "_, ax = plt.subplots(figsize=(24, 3))\n",
    "plot_time_series(emg.time.values, emg.values, ax=ax)\n",
    "plot_hypnogram_overlay(hypno, ax=ax)"
   ]
  },
  {
   "cell_type": "markdown",
   "metadata": {},
   "source": [
    "### Save"
   ]
  },
  {
   "cell_type": "code",
   "execution_count": 126,
   "metadata": {
    "execution": {
     "iopub.execute_input": "2020-12-24T22:55:34.766137Z",
     "iopub.status.busy": "2020-12-24T22:55:34.765703Z",
     "iopub.status.idle": "2020-12-24T22:55:34.784342Z",
     "shell.execute_reply": "2020-12-24T22:55:34.783384Z",
     "shell.execute_reply.started": "2020-12-24T22:55:34.766082Z"
    }
   },
   "outputs": [],
   "source": [
    "emg_ds = xr.Dataset({\"emg\": emg})"
   ]
  },
  {
   "cell_type": "code",
   "execution_count": 128,
   "metadata": {
    "execution": {
     "iopub.execute_input": "2020-12-24T22:55:45.406684Z",
     "iopub.status.busy": "2020-12-24T22:55:45.406258Z",
     "iopub.status.idle": "2020-12-24T22:55:45.438918Z",
     "shell.execute_reply": "2020-12-24T22:55:45.438319Z",
     "shell.execute_reply.started": "2020-12-24T22:55:45.406630Z"
    }
   },
   "outputs": [],
   "source": [
    "emg_ds.to_netcdf(paths.emg[\"SR\"][\"Doppio\"])"
   ]
  }
 ],
 "metadata": {
  "kernelspec": {
   "display_name": "Python 3",
   "language": "python",
   "name": "python3"
  },
  "language_info": {
   "codemirror_mode": {
    "name": "ipython",
    "version": 3
   },
   "file_extension": ".py",
   "mimetype": "text/x-python",
   "name": "python",
   "nbconvert_exporter": "python",
   "pygments_lexer": "ipython3",
   "version": "3.7.9"
  }
 },
 "nbformat": 4,
 "nbformat_minor": 4
}
