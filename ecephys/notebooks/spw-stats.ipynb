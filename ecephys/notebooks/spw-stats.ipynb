{
 "cells": [
  {
   "cell_type": "code",
   "execution_count": 4,
   "metadata": {
    "execution": {
     "iopub.execute_input": "2021-01-05T20:16:02.907911Z",
     "iopub.status.busy": "2021-01-05T20:16:02.907415Z",
     "iopub.status.idle": "2021-01-05T20:16:02.928782Z",
     "shell.execute_reply": "2021-01-05T20:16:02.927965Z",
     "shell.execute_reply.started": "2021-01-05T20:16:02.907851Z"
    }
   },
   "outputs": [
    {
     "name": "stdout",
     "output_type": "stream",
     "text": [
      "The autoreload extension is already loaded. To reload it, use:\n",
      "  %reload_ext autoreload\n"
     ]
    }
   ],
   "source": [
    "%load_ext autoreload\n",
    "%autoreload 2"
   ]
  },
  {
   "cell_type": "code",
   "execution_count": 5,
   "metadata": {
    "execution": {
     "iopub.execute_input": "2021-01-05T20:16:03.466279Z",
     "iopub.status.busy": "2021-01-05T20:16:03.466011Z",
     "iopub.status.idle": "2021-01-05T20:16:03.483425Z",
     "shell.execute_reply": "2021-01-05T20:16:03.482867Z",
     "shell.execute_reply.started": "2021-01-05T20:16:03.466246Z"
    }
   },
   "outputs": [],
   "source": [
    "%matplotlib widget\n",
    "from pathlib import Path\n",
    "\n",
    "import matplotlib.pyplot as plt\n",
    "import numpy as np\n",
    "import pandas as pd\n",
    "from pandas.plotting import scatter_matrix\n",
    "\n",
    "from ecephys.data import paths\n",
    "from ecephys.utils.utils import load_df_h5\n",
    "from ecephys.scoring import load_visbrain_hypnogram"
   ]
  },
  {
   "cell_type": "code",
   "execution_count": 6,
   "metadata": {
    "execution": {
     "iopub.execute_input": "2021-01-05T20:16:03.954135Z",
     "iopub.status.busy": "2021-01-05T20:16:03.953922Z",
     "iopub.status.idle": "2021-01-05T20:16:03.969708Z",
     "shell.execute_reply": "2021-01-05T20:16:03.969213Z",
     "shell.execute_reply.started": "2021-01-05T20:16:03.954108Z"
    }
   },
   "outputs": [],
   "source": [
    "pd.options.mode.chained_assignment = None  # default='warn'"
   ]
  },
  {
   "cell_type": "markdown",
   "metadata": {},
   "source": [
    "## Read the data"
   ]
  },
  {
   "cell_type": "code",
   "execution_count": 7,
   "metadata": {
    "execution": {
     "iopub.execute_input": "2021-01-05T20:16:05.335733Z",
     "iopub.status.busy": "2021-01-05T20:16:05.335409Z",
     "iopub.status.idle": "2021-01-05T20:16:05.353235Z",
     "shell.execute_reply": "2021-01-05T20:16:05.352470Z",
     "shell.execute_reply.started": "2021-01-05T20:16:05.335694Z"
    }
   },
   "outputs": [],
   "source": [
    "SUBJECT = \"Doppio\"\n",
    "BSL = \"BSL-0+2\"\n",
    "REC = \"REC-0+2\""
   ]
  },
  {
   "cell_type": "code",
   "execution_count": 8,
   "metadata": {
    "execution": {
     "iopub.execute_input": "2021-01-05T20:16:05.882778Z",
     "iopub.status.busy": "2021-01-05T20:16:05.882351Z",
     "iopub.status.idle": "2021-01-05T20:16:05.982018Z",
     "shell.execute_reply": "2021-01-05T20:16:05.981295Z",
     "shell.execute_reply.started": "2021-01-05T20:16:05.882724Z"
    }
   },
   "outputs": [],
   "source": [
    "bl_hypno = load_visbrain_hypnogram(paths.get_datapath(subject=SUBJECT, condition=BSL, data=\"hypnogram.txt\"))\n",
    "with pd.HDFStore(paths.get_datapath(subject=SUBJECT, condition=BSL, data=\"sharp_waves.h5\")) as store:\n",
    "    spws_bl, metadata_bl = load_df_h5(store)"
   ]
  },
  {
   "cell_type": "code",
   "execution_count": 9,
   "metadata": {
    "execution": {
     "iopub.execute_input": "2021-01-05T20:16:06.474089Z",
     "iopub.status.busy": "2021-01-05T20:16:06.473771Z",
     "iopub.status.idle": "2021-01-05T20:16:06.490354Z",
     "shell.execute_reply": "2021-01-05T20:16:06.489570Z",
     "shell.execute_reply.started": "2021-01-05T20:16:06.474051Z"
    }
   },
   "outputs": [],
   "source": [
    "spws_bl[\"sink_amplitude\"] = -spws_bl[\"sink_amplitude\"]\n",
    "spws_bl[\"sink_integral\"] = -spws_bl[\"sink_integral\"]"
   ]
  },
  {
   "cell_type": "code",
   "execution_count": 10,
   "metadata": {
    "execution": {
     "iopub.execute_input": "2021-01-05T20:16:06.922115Z",
     "iopub.status.busy": "2021-01-05T20:16:06.921925Z",
     "iopub.status.idle": "2021-01-05T20:16:06.985682Z",
     "shell.execute_reply": "2021-01-05T20:16:06.985083Z",
     "shell.execute_reply.started": "2021-01-05T20:16:06.922092Z"
    }
   },
   "outputs": [],
   "source": [
    "rec_hypno = load_visbrain_hypnogram(paths.get_datapath(subject=SUBJECT, condition=REC, data=\"hypnogram.txt\"))\n",
    "with pd.HDFStore(paths.get_datapath(subject=SUBJECT, condition=REC, data=\"sharp_waves.h5\")) as store:\n",
    "    spws_rec, metadata_rec = load_df_h5(store)"
   ]
  },
  {
   "cell_type": "code",
   "execution_count": 11,
   "metadata": {
    "execution": {
     "iopub.execute_input": "2021-01-05T20:16:07.297049Z",
     "iopub.status.busy": "2021-01-05T20:16:07.296915Z",
     "iopub.status.idle": "2021-01-05T20:16:07.311822Z",
     "shell.execute_reply": "2021-01-05T20:16:07.311095Z",
     "shell.execute_reply.started": "2021-01-05T20:16:07.297033Z"
    }
   },
   "outputs": [],
   "source": [
    "spws_rec[\"sink_amplitude\"] = -spws_rec[\"sink_amplitude\"]\n",
    "spws_rec[\"sink_integral\"] = -spws_rec[\"sink_integral\"]"
   ]
  },
  {
   "cell_type": "markdown",
   "metadata": {},
   "source": [
    "## Look at basic summary statistics"
   ]
  },
  {
   "cell_type": "code",
   "execution_count": 12,
   "metadata": {
    "execution": {
     "iopub.execute_input": "2021-01-05T20:16:08.580887Z",
     "iopub.status.busy": "2021-01-05T20:16:08.580442Z",
     "iopub.status.idle": "2021-01-05T20:16:08.600216Z",
     "shell.execute_reply": "2021-01-05T20:16:08.599648Z",
     "shell.execute_reply.started": "2021-01-05T20:16:08.580831Z"
    }
   },
   "outputs": [
    {
     "data": {
      "text/plain": [
       "3407.9599609375"
      ]
     },
     "execution_count": 12,
     "metadata": {},
     "output_type": "execute_result"
    }
   ],
   "source": [
    "bl_total_NREM = bl_hypno.loc[bl_hypno['state'] == 'N2'].duration.sum()\n",
    "bl_total_NREM"
   ]
  },
  {
   "cell_type": "code",
   "execution_count": 13,
   "metadata": {
    "execution": {
     "iopub.execute_input": "2021-01-05T20:16:08.995315Z",
     "iopub.status.busy": "2021-01-05T20:16:08.995056Z",
     "iopub.status.idle": "2021-01-05T20:16:09.012779Z",
     "shell.execute_reply": "2021-01-05T20:16:09.012429Z",
     "shell.execute_reply.started": "2021-01-05T20:16:08.995283Z"
    }
   },
   "outputs": [
    {
     "data": {
      "text/plain": [
       "4388.0"
      ]
     },
     "execution_count": 13,
     "metadata": {},
     "output_type": "execute_result"
    }
   ],
   "source": [
    "rec_total_NREM = rec_hypno.loc[rec_hypno['state'] == 'N2'].duration.sum()\n",
    "rec_total_NREM"
   ]
  },
  {
   "cell_type": "code",
   "execution_count": 90,
   "metadata": {
    "execution": {
     "iopub.execute_input": "2021-01-05T20:24:13.668643Z",
     "iopub.status.busy": "2021-01-05T20:24:13.668162Z",
     "iopub.status.idle": "2021-01-05T20:24:13.689277Z",
     "shell.execute_reply": "2021-01-05T20:24:13.688622Z",
     "shell.execute_reply.started": "2021-01-05T20:24:13.668584Z"
    }
   },
   "outputs": [
    {
     "data": {
      "text/plain": [
       "3720"
      ]
     },
     "execution_count": 90,
     "metadata": {},
     "output_type": "execute_result"
    }
   ],
   "source": [
    "len(spws_bl)"
   ]
  },
  {
   "cell_type": "code",
   "execution_count": 91,
   "metadata": {
    "execution": {
     "iopub.execute_input": "2021-01-05T20:24:19.620622Z",
     "iopub.status.busy": "2021-01-05T20:24:19.620154Z",
     "iopub.status.idle": "2021-01-05T20:24:19.641089Z",
     "shell.execute_reply": "2021-01-05T20:24:19.640487Z",
     "shell.execute_reply.started": "2021-01-05T20:24:19.620564Z"
    }
   },
   "outputs": [
    {
     "data": {
      "text/plain": [
       "4760"
      ]
     },
     "execution_count": 91,
     "metadata": {},
     "output_type": "execute_result"
    }
   ],
   "source": [
    "len(spws_rec)"
   ]
  },
  {
   "cell_type": "code",
   "execution_count": 16,
   "metadata": {
    "execution": {
     "iopub.execute_input": "2021-01-05T20:16:11.235983Z",
     "iopub.status.busy": "2021-01-05T20:16:11.235550Z",
     "iopub.status.idle": "2021-01-05T20:16:11.255660Z",
     "shell.execute_reply": "2021-01-05T20:16:11.255098Z",
     "shell.execute_reply.started": "2021-01-05T20:16:11.235929Z"
    }
   },
   "outputs": [
    {
     "data": {
      "text/plain": [
       "start_time        3388.735592\n",
       "end_time          3388.817592\n",
       "duration             0.056800\n",
       "midpoint          3388.776592\n",
       "sink_amplitude       0.041947\n",
       "sink_integral        1.575076\n",
       "dtype: float64"
      ]
     },
     "execution_count": 16,
     "metadata": {},
     "output_type": "execute_result"
    }
   ],
   "source": [
    "spws_bl.median()"
   ]
  },
  {
   "cell_type": "code",
   "execution_count": 17,
   "metadata": {
    "execution": {
     "iopub.execute_input": "2021-01-05T20:16:12.252070Z",
     "iopub.status.busy": "2021-01-05T20:16:12.251744Z",
     "iopub.status.idle": "2021-01-05T20:16:12.271404Z",
     "shell.execute_reply": "2021-01-05T20:16:12.270826Z",
     "shell.execute_reply.started": "2021-01-05T20:16:12.252030Z"
    }
   },
   "outputs": [
    {
     "data": {
      "text/plain": [
       "start_time        3754.461425\n",
       "end_time          3754.529824\n",
       "duration             0.059200\n",
       "midpoint          3754.495624\n",
       "sink_amplitude       0.043342\n",
       "sink_integral        1.696058\n",
       "dtype: float64"
      ]
     },
     "execution_count": 17,
     "metadata": {},
     "output_type": "execute_result"
    }
   ],
   "source": [
    "spws_rec.median()"
   ]
  },
  {
   "cell_type": "code",
   "execution_count": 18,
   "metadata": {
    "execution": {
     "iopub.execute_input": "2021-01-05T20:16:12.667079Z",
     "iopub.status.busy": "2021-01-05T20:16:12.666903Z",
     "iopub.status.idle": "2021-01-05T20:16:12.686495Z",
     "shell.execute_reply": "2021-01-05T20:16:12.685966Z",
     "shell.execute_reply.started": "2021-01-05T20:16:12.667057Z"
    }
   },
   "outputs": [
    {
     "data": {
      "text/plain": [
       "start_time        3488.930588\n",
       "end_time          3488.995686\n",
       "duration             0.065098\n",
       "midpoint          3488.963137\n",
       "sink_amplitude       0.045456\n",
       "sink_integral        1.913661\n",
       "dtype: float64"
      ]
     },
     "execution_count": 18,
     "metadata": {},
     "output_type": "execute_result"
    }
   ],
   "source": [
    "spws_bl.mean()"
   ]
  },
  {
   "cell_type": "code",
   "execution_count": 19,
   "metadata": {
    "execution": {
     "iopub.execute_input": "2021-01-05T20:16:13.331021Z",
     "iopub.status.busy": "2021-01-05T20:16:13.330687Z",
     "iopub.status.idle": "2021-01-05T20:16:13.350670Z",
     "shell.execute_reply": "2021-01-05T20:16:13.350106Z",
     "shell.execute_reply.started": "2021-01-05T20:16:13.330979Z"
    }
   },
   "outputs": [
    {
     "data": {
      "text/plain": [
       "start_time        3681.813292\n",
       "end_time          3681.881774\n",
       "duration             0.068482\n",
       "midpoint          3681.847533\n",
       "sink_amplitude       0.050170\n",
       "sink_integral        2.249689\n",
       "dtype: float64"
      ]
     },
     "execution_count": 19,
     "metadata": {},
     "output_type": "execute_result"
    }
   ],
   "source": [
    "spws_rec.mean()"
   ]
  },
  {
   "cell_type": "markdown",
   "metadata": {},
   "source": [
    "## Look at feature distributions and correlations"
   ]
  },
  {
   "cell_type": "code",
   "execution_count": 20,
   "metadata": {
    "execution": {
     "iopub.execute_input": "2021-01-05T20:16:20.046240Z",
     "iopub.status.busy": "2021-01-05T20:16:20.045776Z",
     "iopub.status.idle": "2021-01-05T20:16:20.308131Z",
     "shell.execute_reply": "2021-01-05T20:16:20.307515Z",
     "shell.execute_reply.started": "2021-01-05T20:16:20.046183Z"
    }
   },
   "outputs": [
    {
     "data": {
      "application/vnd.jupyter.widget-view+json": {
       "model_id": "127478be7f98455785f8846388eb0c31",
       "version_major": 2,
       "version_minor": 0
      },
      "text/plain": [
       "Canvas(toolbar=Toolbar(toolitems=[('Home', 'Reset original view', 'home', 'home'), ('Back', 'Back to previous …"
      ]
     },
     "metadata": {},
     "output_type": "display_data"
    }
   ],
   "source": [
    "ax = scatter_matrix(spws_bl[[\"duration\", \"sink_amplitude\", \"sink_integral\"]], figsize=(10, 10))"
   ]
  },
  {
   "cell_type": "code",
   "execution_count": 21,
   "metadata": {
    "execution": {
     "iopub.execute_input": "2021-01-05T20:16:22.036958Z",
     "iopub.status.busy": "2021-01-05T20:16:22.036769Z",
     "iopub.status.idle": "2021-01-05T20:16:22.350220Z",
     "shell.execute_reply": "2021-01-05T20:16:22.349606Z",
     "shell.execute_reply.started": "2021-01-05T20:16:22.036935Z"
    }
   },
   "outputs": [
    {
     "data": {
      "application/vnd.jupyter.widget-view+json": {
       "model_id": "30ef59213e464e5eb588642b2015a437",
       "version_major": 2,
       "version_minor": 0
      },
      "text/plain": [
       "Canvas(toolbar=Toolbar(toolitems=[('Home', 'Reset original view', 'home', 'home'), ('Back', 'Back to previous …"
      ]
     },
     "metadata": {},
     "output_type": "display_data"
    }
   ],
   "source": [
    "ax2 = scatter_matrix(spws_bl[[\"duration\", \"sink_amplitude\", \"sink_integral\"]].applymap(np.log), figsize=(10, 10))"
   ]
  },
  {
   "cell_type": "code",
   "execution_count": 22,
   "metadata": {
    "execution": {
     "iopub.execute_input": "2021-01-05T20:16:37.527285Z",
     "iopub.status.busy": "2021-01-05T20:16:37.526797Z",
     "iopub.status.idle": "2021-01-05T20:16:37.791270Z",
     "shell.execute_reply": "2021-01-05T20:16:37.790650Z",
     "shell.execute_reply.started": "2021-01-05T20:16:37.527226Z"
    }
   },
   "outputs": [
    {
     "data": {
      "application/vnd.jupyter.widget-view+json": {
       "model_id": "26d49f5b906a405eb7e0346c19a0df65",
       "version_major": 2,
       "version_minor": 0
      },
      "text/plain": [
       "Canvas(toolbar=Toolbar(toolitems=[('Home', 'Reset original view', 'home', 'home'), ('Back', 'Back to previous …"
      ]
     },
     "metadata": {},
     "output_type": "display_data"
    }
   ],
   "source": [
    "ax = scatter_matrix(spws_rec[[\"duration\", \"sink_amplitude\", \"sink_integral\"]], figsize=(10, 10))"
   ]
  },
  {
   "cell_type": "code",
   "execution_count": 23,
   "metadata": {
    "execution": {
     "iopub.execute_input": "2021-01-05T20:16:40.278805Z",
     "iopub.status.busy": "2021-01-05T20:16:40.278350Z",
     "iopub.status.idle": "2021-01-05T20:16:40.538505Z",
     "shell.execute_reply": "2021-01-05T20:16:40.537897Z",
     "shell.execute_reply.started": "2021-01-05T20:16:40.278747Z"
    }
   },
   "outputs": [
    {
     "data": {
      "application/vnd.jupyter.widget-view+json": {
       "model_id": "1c4d8fa67c7645f7bd1009f320df792f",
       "version_major": 2,
       "version_minor": 0
      },
      "text/plain": [
       "Canvas(toolbar=Toolbar(toolitems=[('Home', 'Reset original view', 'home', 'home'), ('Back', 'Back to previous …"
      ]
     },
     "metadata": {},
     "output_type": "display_data"
    }
   ],
   "source": [
    "ax2 = scatter_matrix(spws_rec[[\"duration\", \"sink_amplitude\", \"sink_integral\"]].applymap(np.log), figsize=(10, 10))"
   ]
  },
  {
   "cell_type": "markdown",
   "metadata": {},
   "source": [
    "## Look at log-normally distributed features"
   ]
  },
  {
   "cell_type": "code",
   "execution_count": 24,
   "metadata": {
    "execution": {
     "iopub.execute_input": "2021-01-05T20:16:46.669885Z",
     "iopub.status.busy": "2021-01-05T20:16:46.669402Z",
     "iopub.status.idle": "2021-01-05T20:16:46.692829Z",
     "shell.execute_reply": "2021-01-05T20:16:46.692031Z",
     "shell.execute_reply.started": "2021-01-05T20:16:46.669827Z"
    }
   },
   "outputs": [],
   "source": [
    "import scipy.stats as stats\n",
    "\n",
    "def plot_qq(bl, rec, var):\n",
    "    fig, axes = plt.subplots(2, 2, figsize=(10, 10))\n",
    "    \n",
    "    stats.probplot(bl[var], dist=\"norm\", plot=axes[0, 0])\n",
    "    axes[0, 0].set_title(\"Baseline {}\".format(var))\n",
    "    stats.probplot(np.log(bl[var]), dist=\"norm\", plot=axes[0, 1])\n",
    "    axes[0, 1].set_title(\"Baseline log {}\".format(var))\n",
    "    stats.probplot(rec[var], dist=\"norm\", plot=axes[1, 0])\n",
    "    axes[1, 0].set_title(\"Recovery {}\".format(var))\n",
    "    stats.probplot(np.log(rec[var]), dist=\"norm\", plot=axes[1, 1])\n",
    "    axes[1, 1].set_title(\"Recovery log {}\".format(var))\n",
    "\n",
    "    plt.show()"
   ]
  },
  {
   "cell_type": "code",
   "execution_count": 25,
   "metadata": {
    "execution": {
     "iopub.execute_input": "2021-01-05T20:16:47.236007Z",
     "iopub.status.busy": "2021-01-05T20:16:47.235578Z",
     "iopub.status.idle": "2021-01-05T20:16:47.313692Z",
     "shell.execute_reply": "2021-01-05T20:16:47.312932Z",
     "shell.execute_reply.started": "2021-01-05T20:16:47.235952Z"
    }
   },
   "outputs": [],
   "source": [
    "from statsmodels.graphics.tsaplots import plot_acf, plot_pacf\n",
    "\n",
    "def plot_acf_pacf(bl, rec, var, lags=None):\n",
    "    fig, axes = plt.subplots(2, 2, figsize=(10, 10))\n",
    "\n",
    "    plot_acf(bl[var], lags=lags, ax=axes[0, 0], title=\"Baseline {} acf\".format(var))\n",
    "    plot_pacf(bl[var], lags=lags, ax=axes[0, 1], title=\"Baseline {} pacf\".format(var))\n",
    "    plot_acf(rec[var], lags=lags, ax=axes[1, 0], title=\"Recovery {} acf\".format(var))\n",
    "    plot_pacf(rec[var], lags=lags, ax=axes[1, 1], title=\"Recovery {} pacf\".format(var))\n",
    "\n",
    "    plt.show()"
   ]
  },
  {
   "cell_type": "code",
   "execution_count": 26,
   "metadata": {
    "execution": {
     "iopub.execute_input": "2021-01-05T20:16:47.987499Z",
     "iopub.status.busy": "2021-01-05T20:16:47.987139Z",
     "iopub.status.idle": "2021-01-05T20:16:48.007021Z",
     "shell.execute_reply": "2021-01-05T20:16:48.006282Z",
     "shell.execute_reply.started": "2021-01-05T20:16:47.987453Z"
    }
   },
   "outputs": [],
   "source": [
    "def plot_vs_time(bl, rec, var):\n",
    "    fig, axes = plt.subplots(2, 1)\n",
    "    bl.plot.scatter(x='midpoint', y=var, ax=axes[0], title='Baseline', s=1)\n",
    "    rec.plot.scatter(x='midpoint', y=var, ax=axes[1], title='Recovery', s=1)\n",
    "    plt.show()"
   ]
  },
  {
   "cell_type": "code",
   "execution_count": 27,
   "metadata": {
    "execution": {
     "iopub.execute_input": "2021-01-05T20:16:48.435326Z",
     "iopub.status.busy": "2021-01-05T20:16:48.434918Z",
     "iopub.status.idle": "2021-01-05T20:16:48.454726Z",
     "shell.execute_reply": "2021-01-05T20:16:48.453974Z",
     "shell.execute_reply.started": "2021-01-05T20:16:48.435275Z"
    }
   },
   "outputs": [],
   "source": [
    "def test_slope(spws, x, y):\n",
    "    return stats.linregress(spws[x], spws[y])"
   ]
  },
  {
   "cell_type": "code",
   "execution_count": 28,
   "metadata": {
    "execution": {
     "iopub.execute_input": "2021-01-05T20:16:48.978117Z",
     "iopub.status.busy": "2021-01-05T20:16:48.977975Z",
     "iopub.status.idle": "2021-01-05T20:16:48.994540Z",
     "shell.execute_reply": "2021-01-05T20:16:48.993575Z",
     "shell.execute_reply.started": "2021-01-05T20:16:48.978099Z"
    }
   },
   "outputs": [],
   "source": [
    "# https://dfrieds.com/math/effect-size.html\n",
    "def interpret_cohens_d(cohens_d):\n",
    "    \"\"\"\n",
    "    Determines text interpretation of effect size given Cohen's d value\n",
    "\n",
    "    :param cohens_d: float of Cohen's d value\n",
    "    :returns: effect_size_interpretation: adjective to describe magnitude of effect size\n",
    "    \"\"\"\n",
    "    if 0<=cohens_d<0.1:\n",
    "        effect_size_interpretation = \"Very Small\"\n",
    "    elif 0.1<=cohens_d<0.35:\n",
    "        effect_size_interpretation = \"Small\"\n",
    "    elif 0.35<=cohens_d<0.65:\n",
    "        effect_size_interpretation = \"Medium\"\n",
    "    elif 0.65<=cohens_d<0.9:\n",
    "        effect_size_interpretation = \"Large\"\n",
    "    elif cohens_d >= 0.9:\n",
    "        effect_size_interpretation = \"Very Large\"\n",
    "    return effect_size_interpretation"
   ]
  },
  {
   "cell_type": "code",
   "execution_count": 29,
   "metadata": {
    "execution": {
     "iopub.execute_input": "2021-01-05T20:16:49.708108Z",
     "iopub.status.busy": "2021-01-05T20:16:49.707675Z",
     "iopub.status.idle": "2021-01-05T20:16:49.728476Z",
     "shell.execute_reply": "2021-01-05T20:16:49.727782Z",
     "shell.execute_reply.started": "2021-01-05T20:16:49.708053Z"
    }
   },
   "outputs": [],
   "source": [
    "def two_sample_data_setup_for_cohens_d(mean_1, mean_2, sample_std_dev_1, sample_std_dev_2):\n",
    "    \"\"\"\n",
    "    Creates two normal distributions of data values. \n",
    "    Calculates differences in values and standard deviation of list of differences.\n",
    "    Calculates Cohen's D - equation used in dependent t-tests\n",
    "\n",
    "    :param mean_1: mean of group one\n",
    "    :param mean_2: mean of group two\n",
    "    :param sample_std_dev_1: sample standard deviation of group one\n",
    "    :param sample_std_dev_2: sample standard deviation of group two\n",
    "    \n",
    "    :returns: values_1, values_2, cohens_d: values for group one, values for group two, Cohen's d\n",
    "    \"\"\"\n",
    "    values_1 = np.random.normal(loc=mean_1, scale=sample_std_dev_1, size=3000)\n",
    "    values_2 = np.random.normal(loc=mean_2, scale=sample_std_dev_2, size=3000)\n",
    "    differences_group_values = np.subtract(values_1, values_2)\n",
    "    std_dev_differences_group_values = np.std(differences_group_values, ddof=1)\n",
    "    cohens_d = round(abs((mean_1 - mean_2)/std_dev_differences_group_values), 2)\n",
    "    return values_1, values_2, cohens_d"
   ]
  },
  {
   "cell_type": "code",
   "execution_count": 30,
   "metadata": {
    "execution": {
     "iopub.execute_input": "2021-01-05T20:16:50.450774Z",
     "iopub.status.busy": "2021-01-05T20:16:50.450569Z",
     "iopub.status.idle": "2021-01-05T20:16:50.488527Z",
     "shell.execute_reply": "2021-01-05T20:16:50.487754Z",
     "shell.execute_reply.started": "2021-01-05T20:16:50.450750Z"
    }
   },
   "outputs": [],
   "source": [
    "import seaborn as sns\n",
    "\n",
    "def visualize_distributions(values_1, values_2, cohens_d, cohens_d_interpretation, xlabel):\n",
    "    \"\"\"\n",
    "    Plots KDE plots of values from values_1 and values_2.\n",
    "    Inserts Cohen's d value and interpretation in title\n",
    "\n",
    "    :param values_1: values in group one\n",
    "    :param values_2: values in group two \n",
    "    :param cohens_d: Cohen's d value\n",
    "    :param cohens_d_interpretation: text to describe magnitude of effect size\n",
    "    :returns: plot figure\n",
    "    \"\"\"\n",
    "    plt.figure(figsize=(10, 8))\n",
    "    sns.distplot(values_1, hist=False, label='Baseline')\n",
    "    sns.distplot(values_2, hist=False, label='Recovery')\n",
    "    plt.xlabel(xlabel, labelpad=13)\n",
    "    plt.ylabel(\"frequency\", labelpad=13)\n",
    "    plt.legend()\n",
    "    plt.title(\"Distribution of Two Groups with {0} Cohen's d of {1}\".format(cohens_d_interpretation, cohens_d), y=1.015, fontsize=22)"
   ]
  },
  {
   "cell_type": "markdown",
   "metadata": {},
   "source": [
    "### Duration"
   ]
  },
  {
   "cell_type": "code",
   "execution_count": 31,
   "metadata": {
    "execution": {
     "iopub.execute_input": "2021-01-05T20:16:54.326430Z",
     "iopub.status.busy": "2021-01-05T20:16:54.326199Z",
     "iopub.status.idle": "2021-01-05T20:16:54.473570Z",
     "shell.execute_reply": "2021-01-05T20:16:54.472966Z",
     "shell.execute_reply.started": "2021-01-05T20:16:54.326404Z"
    }
   },
   "outputs": [
    {
     "data": {
      "application/vnd.jupyter.widget-view+json": {
       "model_id": "b2b7e18be35141a893c04a1c94888309",
       "version_major": 2,
       "version_minor": 0
      },
      "text/plain": [
       "Canvas(toolbar=Toolbar(toolitems=[('Home', 'Reset original view', 'home', 'home'), ('Back', 'Back to previous …"
      ]
     },
     "metadata": {},
     "output_type": "display_data"
    }
   ],
   "source": [
    "plot_qq(spws_bl, spws_rec, 'duration')"
   ]
  },
  {
   "cell_type": "code",
   "execution_count": 32,
   "metadata": {
    "execution": {
     "iopub.execute_input": "2021-01-05T20:17:00.877782Z",
     "iopub.status.busy": "2021-01-05T20:17:00.877304Z",
     "iopub.status.idle": "2021-01-05T20:17:00.995756Z",
     "shell.execute_reply": "2021-01-05T20:17:00.995126Z",
     "shell.execute_reply.started": "2021-01-05T20:17:00.877724Z"
    }
   },
   "outputs": [
    {
     "data": {
      "application/vnd.jupyter.widget-view+json": {
       "model_id": "9341dc93b1b44ec0a4c7151486c037a0",
       "version_major": 2,
       "version_minor": 0
      },
      "text/plain": [
       "Canvas(toolbar=Toolbar(toolitems=[('Home', 'Reset original view', 'home', 'home'), ('Back', 'Back to previous …"
      ]
     },
     "metadata": {},
     "output_type": "display_data"
    }
   ],
   "source": [
    "plot_acf_pacf(spws_bl, spws_rec, 'duration')"
   ]
  },
  {
   "cell_type": "code",
   "execution_count": 33,
   "metadata": {
    "execution": {
     "iopub.execute_input": "2021-01-05T20:17:02.372749Z",
     "iopub.status.busy": "2021-01-05T20:17:02.372451Z",
     "iopub.status.idle": "2021-01-05T20:17:02.449636Z",
     "shell.execute_reply": "2021-01-05T20:17:02.449013Z",
     "shell.execute_reply.started": "2021-01-05T20:17:02.372714Z"
    }
   },
   "outputs": [
    {
     "data": {
      "application/vnd.jupyter.widget-view+json": {
       "model_id": "95fa190491d74deab0e8ebf395637c26",
       "version_major": 2,
       "version_minor": 0
      },
      "text/plain": [
       "Canvas(toolbar=Toolbar(toolitems=[('Home', 'Reset original view', 'home', 'home'), ('Back', 'Back to previous …"
      ]
     },
     "metadata": {},
     "output_type": "display_data"
    }
   ],
   "source": [
    "plot_vs_time(spws_bl, spws_rec, 'duration')"
   ]
  },
  {
   "cell_type": "code",
   "execution_count": 34,
   "metadata": {
    "execution": {
     "iopub.execute_input": "2021-01-05T20:17:17.790491Z",
     "iopub.status.busy": "2021-01-05T20:17:17.789993Z",
     "iopub.status.idle": "2021-01-05T20:17:17.811182Z",
     "shell.execute_reply": "2021-01-05T20:17:17.810552Z",
     "shell.execute_reply.started": "2021-01-05T20:17:17.790421Z"
    }
   },
   "outputs": [
    {
     "data": {
      "text/plain": [
       "LinregressResult(slope=-3.7816307207918526e-07, intercept=0.06641761112537657, rvalue=-0.024363845253175424, pvalue=0.13735426670867776, stderr=2.5447765612414237e-07)"
      ]
     },
     "execution_count": 34,
     "metadata": {},
     "output_type": "execute_result"
    }
   ],
   "source": [
    "test_slope(spws_bl, 'midpoint', 'duration')"
   ]
  },
  {
   "cell_type": "code",
   "execution_count": 35,
   "metadata": {
    "execution": {
     "iopub.execute_input": "2021-01-05T20:17:35.846765Z",
     "iopub.status.busy": "2021-01-05T20:17:35.846324Z",
     "iopub.status.idle": "2021-01-05T20:17:35.868927Z",
     "shell.execute_reply": "2021-01-05T20:17:35.868345Z",
     "shell.execute_reply.started": "2021-01-05T20:17:35.846709Z"
    }
   },
   "outputs": [
    {
     "data": {
      "text/plain": [
       "LinregressResult(slope=-3.440786046043307e-07, intercept=0.0697488769361647, rvalue=-0.01917157892119765, pvalue=0.18601030905181695, stderr=2.601403622720611e-07)"
      ]
     },
     "execution_count": 35,
     "metadata": {},
     "output_type": "execute_result"
    }
   ],
   "source": [
    "test_slope(spws_rec, 'midpoint', 'duration')"
   ]
  },
  {
   "cell_type": "code",
   "execution_count": 36,
   "metadata": {
    "execution": {
     "iopub.execute_input": "2021-01-05T20:17:36.798107Z",
     "iopub.status.busy": "2021-01-05T20:17:36.797699Z",
     "iopub.status.idle": "2021-01-05T20:17:36.817136Z",
     "shell.execute_reply": "2021-01-05T20:17:36.816576Z",
     "shell.execute_reply.started": "2021-01-05T20:17:36.798057Z"
    }
   },
   "outputs": [
    {
     "data": {
      "text/plain": [
       "Ttest_indResult(statistic=-3.584550382279915, pvalue=0.0003396083668520128)"
      ]
     },
     "execution_count": 36,
     "metadata": {},
     "output_type": "execute_result"
    }
   ],
   "source": [
    "stats.ttest_ind(np.log(spws_bl.duration), np.log(spws_rec.duration), equal_var=False)"
   ]
  },
  {
   "cell_type": "code",
   "execution_count": 37,
   "metadata": {
    "execution": {
     "iopub.execute_input": "2021-01-05T20:17:40.529089Z",
     "iopub.status.busy": "2021-01-05T20:17:40.528627Z",
     "iopub.status.idle": "2021-01-05T20:17:40.612776Z",
     "shell.execute_reply": "2021-01-05T20:17:40.612128Z",
     "shell.execute_reply.started": "2021-01-05T20:17:40.529033Z"
    }
   },
   "outputs": [
    {
     "data": {
      "application/vnd.jupyter.widget-view+json": {
       "model_id": "82c004818cd644ffa001d74121d8818d",
       "version_major": 2,
       "version_minor": 0
      },
      "text/plain": [
       "Canvas(toolbar=Toolbar(toolitems=[('Home', 'Reset original view', 'home', 'home'), ('Back', 'Back to previous …"
      ]
     },
     "metadata": {},
     "output_type": "display_data"
    },
    {
     "name": "stderr",
     "output_type": "stream",
     "text": [
      "/home/gfindlay/miniconda3/envs/ecephys/lib/python3.7/site-packages/seaborn/distributions.py:2551: FutureWarning: `distplot` is a deprecated function and will be removed in a future version. Please adapt your code to use either `displot` (a figure-level function with similar flexibility) or `kdeplot` (an axes-level function for kernel density plots).\n",
      "  warnings.warn(msg, FutureWarning)\n",
      "/home/gfindlay/miniconda3/envs/ecephys/lib/python3.7/site-packages/seaborn/distributions.py:2551: FutureWarning: `distplot` is a deprecated function and will be removed in a future version. Please adapt your code to use either `displot` (a figure-level function with similar flexibility) or `kdeplot` (an axes-level function for kernel density plots).\n",
      "  warnings.warn(msg, FutureWarning)\n"
     ]
    }
   ],
   "source": [
    "values_bl, values_rec, cohens_d = two_sample_data_setup_for_cohens_d(np.log(spws_bl.duration).mean(), \n",
    "                                                                     np.log(spws_rec.duration).mean(), \n",
    "                                                                     np.log(spws_bl.duration).std(), \n",
    "                                                                     np.log(spws_rec.duration).std())\n",
    "visualize_distributions(np.log(spws_bl.duration), np.log(spws_rec).duration, cohens_d, interpret_cohens_d(cohens_d), xlabel=\"log transformed sink duration\")\n"
   ]
  },
  {
   "cell_type": "code",
   "execution_count": 38,
   "metadata": {
    "execution": {
     "iopub.execute_input": "2021-01-05T20:17:43.208178Z",
     "iopub.status.busy": "2021-01-05T20:17:43.207711Z",
     "iopub.status.idle": "2021-01-05T20:17:43.229743Z",
     "shell.execute_reply": "2021-01-05T20:17:43.229101Z",
     "shell.execute_reply.started": "2021-01-05T20:17:43.208122Z"
    }
   },
   "outputs": [
    {
     "name": "stdout",
     "output_type": "stream",
     "text": [
      "10.063801711068749 0.0015121088100153676 0.057999941675006994\n"
     ]
    }
   ],
   "source": [
    "stat, p, med, tbl = stats.median_test(spws_bl.duration, spws_rec.duration) \n",
    "print(stat, p, med)"
   ]
  },
  {
   "cell_type": "code",
   "execution_count": 39,
   "metadata": {
    "execution": {
     "iopub.execute_input": "2021-01-05T20:17:44.759437Z",
     "iopub.status.busy": "2021-01-05T20:17:44.759150Z",
     "iopub.status.idle": "2021-01-05T20:17:44.780791Z",
     "shell.execute_reply": "2021-01-05T20:17:44.780226Z",
     "shell.execute_reply.started": "2021-01-05T20:17:44.759402Z"
    }
   },
   "outputs": [
    {
     "data": {
      "text/plain": [
       "KruskalResult(statistic=12.277326242495, pvalue=0.0004584947862548842)"
      ]
     },
     "execution_count": 39,
     "metadata": {},
     "output_type": "execute_result"
    }
   ],
   "source": [
    "stats.kruskal(spws_bl.duration, spws_rec.duration)"
   ]
  },
  {
   "cell_type": "code",
   "execution_count": 40,
   "metadata": {
    "execution": {
     "iopub.execute_input": "2021-01-05T20:17:54.024704Z",
     "iopub.status.busy": "2021-01-05T20:17:54.024242Z",
     "iopub.status.idle": "2021-01-05T20:17:54.046289Z",
     "shell.execute_reply": "2021-01-05T20:17:54.045696Z",
     "shell.execute_reply.started": "2021-01-05T20:17:54.024647Z"
    }
   },
   "outputs": [
    {
     "data": {
      "text/plain": [
       "MannwhitneyuResult(statistic=8461625.0, pvalue=0.00022925124072369115)"
      ]
     },
     "execution_count": 40,
     "metadata": {},
     "output_type": "execute_result"
    }
   ],
   "source": [
    "stats.mannwhitneyu(spws_bl.duration, spws_rec.duration)"
   ]
  },
  {
   "cell_type": "markdown",
   "metadata": {},
   "source": [
    "### Sink integral"
   ]
  },
  {
   "cell_type": "code",
   "execution_count": 41,
   "metadata": {
    "execution": {
     "iopub.execute_input": "2021-01-05T20:18:03.024336Z",
     "iopub.status.busy": "2021-01-05T20:18:03.023878Z",
     "iopub.status.idle": "2021-01-05T20:18:03.108160Z",
     "shell.execute_reply": "2021-01-05T20:18:03.107563Z",
     "shell.execute_reply.started": "2021-01-05T20:18:03.024279Z"
    }
   },
   "outputs": [
    {
     "data": {
      "application/vnd.jupyter.widget-view+json": {
       "model_id": "5bc64cf23b19491c9722f9ab2d712319",
       "version_major": 2,
       "version_minor": 0
      },
      "text/plain": [
       "Canvas(toolbar=Toolbar(toolitems=[('Home', 'Reset original view', 'home', 'home'), ('Back', 'Back to previous …"
      ]
     },
     "metadata": {},
     "output_type": "display_data"
    }
   ],
   "source": [
    "plot_qq(spws_bl, spws_rec, 'sink_integral')"
   ]
  },
  {
   "cell_type": "code",
   "execution_count": 42,
   "metadata": {
    "execution": {
     "iopub.execute_input": "2021-01-05T20:18:04.252410Z",
     "iopub.status.busy": "2021-01-05T20:18:04.252276Z",
     "iopub.status.idle": "2021-01-05T20:18:04.365957Z",
     "shell.execute_reply": "2021-01-05T20:18:04.365344Z",
     "shell.execute_reply.started": "2021-01-05T20:18:04.252390Z"
    }
   },
   "outputs": [
    {
     "data": {
      "application/vnd.jupyter.widget-view+json": {
       "model_id": "0488e5b3b9804099855eef92b5d8217a",
       "version_major": 2,
       "version_minor": 0
      },
      "text/plain": [
       "Canvas(toolbar=Toolbar(toolitems=[('Home', 'Reset original view', 'home', 'home'), ('Back', 'Back to previous …"
      ]
     },
     "metadata": {},
     "output_type": "display_data"
    }
   ],
   "source": [
    "plot_acf_pacf(spws_bl, spws_rec, 'sink_integral')"
   ]
  },
  {
   "cell_type": "code",
   "execution_count": 43,
   "metadata": {
    "execution": {
     "iopub.execute_input": "2021-01-05T20:18:05.577112Z",
     "iopub.status.busy": "2021-01-05T20:18:05.576982Z",
     "iopub.status.idle": "2021-01-05T20:18:05.647548Z",
     "shell.execute_reply": "2021-01-05T20:18:05.646964Z",
     "shell.execute_reply.started": "2021-01-05T20:18:05.577088Z"
    }
   },
   "outputs": [
    {
     "data": {
      "application/vnd.jupyter.widget-view+json": {
       "model_id": "2bd468c796e344c2b059b6625373768d",
       "version_major": 2,
       "version_minor": 0
      },
      "text/plain": [
       "Canvas(toolbar=Toolbar(toolitems=[('Home', 'Reset original view', 'home', 'home'), ('Back', 'Back to previous …"
      ]
     },
     "metadata": {},
     "output_type": "display_data"
    }
   ],
   "source": [
    "plot_vs_time(spws_bl, spws_rec, 'sink_integral')"
   ]
  },
  {
   "cell_type": "code",
   "execution_count": 44,
   "metadata": {
    "execution": {
     "iopub.execute_input": "2021-01-05T20:18:06.857365Z",
     "iopub.status.busy": "2021-01-05T20:18:06.857235Z",
     "iopub.status.idle": "2021-01-05T20:18:06.871064Z",
     "shell.execute_reply": "2021-01-05T20:18:06.870586Z",
     "shell.execute_reply.started": "2021-01-05T20:18:06.857348Z"
    }
   },
   "outputs": [
    {
     "data": {
      "text/plain": [
       "LinregressResult(slope=-1.4911113209219455e-05, intercept=1.9656853893569282, rvalue=-0.02609855361642886, pvalue=0.11148946243201982, stderr=9.366794203990797e-06)"
      ]
     },
     "execution_count": 44,
     "metadata": {},
     "output_type": "execute_result"
    }
   ],
   "source": [
    "test_slope(spws_bl, 'midpoint', 'sink_integral')"
   ]
  },
  {
   "cell_type": "code",
   "execution_count": 45,
   "metadata": {
    "execution": {
     "iopub.execute_input": "2021-01-05T20:18:07.694966Z",
     "iopub.status.busy": "2021-01-05T20:18:07.694536Z",
     "iopub.status.idle": "2021-01-05T20:18:07.715619Z",
     "shell.execute_reply": "2021-01-05T20:18:07.715049Z",
     "shell.execute_reply.started": "2021-01-05T20:18:07.694911Z"
    }
   },
   "outputs": [
    {
     "data": {
      "text/plain": [
       "LinregressResult(slope=-6.166101951847556e-05, intercept=2.4767153806429865, rvalue=-0.07447084582174938, pvalue=2.6931840463553804e-07, stderr=1.1970287068225474e-05)"
      ]
     },
     "execution_count": 45,
     "metadata": {},
     "output_type": "execute_result"
    }
   ],
   "source": [
    "test_slope(spws_rec, 'midpoint', 'sink_integral')"
   ]
  },
  {
   "cell_type": "code",
   "execution_count": 46,
   "metadata": {
    "execution": {
     "iopub.execute_input": "2021-01-05T20:18:08.503204Z",
     "iopub.status.busy": "2021-01-05T20:18:08.502749Z",
     "iopub.status.idle": "2021-01-05T20:18:08.524713Z",
     "shell.execute_reply": "2021-01-05T20:18:08.524130Z",
     "shell.execute_reply.started": "2021-01-05T20:18:08.503147Z"
    }
   },
   "outputs": [
    {
     "data": {
      "text/plain": [
       "Ttest_indResult(statistic=-7.869336676557132, pvalue=4.007192562681044e-15)"
      ]
     },
     "execution_count": 46,
     "metadata": {},
     "output_type": "execute_result"
    }
   ],
   "source": [
    "stats.ttest_ind(np.log(spws_bl.sink_integral), np.log(spws_rec.sink_integral), equal_var=False)"
   ]
  },
  {
   "cell_type": "code",
   "execution_count": 47,
   "metadata": {
    "execution": {
     "iopub.execute_input": "2021-01-05T20:18:09.424229Z",
     "iopub.status.busy": "2021-01-05T20:18:09.423981Z",
     "iopub.status.idle": "2021-01-05T20:18:09.501274Z",
     "shell.execute_reply": "2021-01-05T20:18:09.500658Z",
     "shell.execute_reply.started": "2021-01-05T20:18:09.424197Z"
    }
   },
   "outputs": [
    {
     "data": {
      "application/vnd.jupyter.widget-view+json": {
       "model_id": "da7eaef863174797907d3c51f0e7e699",
       "version_major": 2,
       "version_minor": 0
      },
      "text/plain": [
       "Canvas(toolbar=Toolbar(toolitems=[('Home', 'Reset original view', 'home', 'home'), ('Back', 'Back to previous …"
      ]
     },
     "metadata": {},
     "output_type": "display_data"
    },
    {
     "name": "stderr",
     "output_type": "stream",
     "text": [
      "/home/gfindlay/miniconda3/envs/ecephys/lib/python3.7/site-packages/seaborn/distributions.py:2551: FutureWarning: `distplot` is a deprecated function and will be removed in a future version. Please adapt your code to use either `displot` (a figure-level function with similar flexibility) or `kdeplot` (an axes-level function for kernel density plots).\n",
      "  warnings.warn(msg, FutureWarning)\n",
      "/home/gfindlay/miniconda3/envs/ecephys/lib/python3.7/site-packages/seaborn/distributions.py:2551: FutureWarning: `distplot` is a deprecated function and will be removed in a future version. Please adapt your code to use either `displot` (a figure-level function with similar flexibility) or `kdeplot` (an axes-level function for kernel density plots).\n",
      "  warnings.warn(msg, FutureWarning)\n"
     ]
    }
   ],
   "source": [
    "values_bl, values_rec, cohens_d = two_sample_data_setup_for_cohens_d(np.log(spws_bl.sink_integral).mean(), \n",
    "                                                                     np.log(spws_rec.sink_integral).mean(), \n",
    "                                                                     np.log(spws_bl.sink_integral).std(), \n",
    "                                                                     np.log(spws_rec.sink_integral).std())\n",
    "visualize_distributions(np.log(spws_bl.sink_integral), np.log(spws_rec).sink_integral, cohens_d, interpret_cohens_d(cohens_d), xlabel=\"log-transformed sink integral\")\n"
   ]
  },
  {
   "cell_type": "code",
   "execution_count": 48,
   "metadata": {
    "execution": {
     "iopub.execute_input": "2021-01-05T20:18:10.953564Z",
     "iopub.status.busy": "2021-01-05T20:18:10.953089Z",
     "iopub.status.idle": "2021-01-05T20:18:10.973778Z",
     "shell.execute_reply": "2021-01-05T20:18:10.973154Z",
     "shell.execute_reply.started": "2021-01-05T20:18:10.953507Z"
    }
   },
   "outputs": [
    {
     "name": "stdout",
     "output_type": "stream",
     "text": [
      "10.063801711068749 0.0015121088100153676 0.057999941675006994\n"
     ]
    }
   ],
   "source": [
    "stat, p, med, tbl = stats.median_test(spws_bl.duration, spws_rec.duration) \n",
    "print(stat, p, med)"
   ]
  },
  {
   "cell_type": "code",
   "execution_count": 49,
   "metadata": {
    "execution": {
     "iopub.execute_input": "2021-01-05T20:18:11.878670Z",
     "iopub.status.busy": "2021-01-05T20:18:11.878436Z",
     "iopub.status.idle": "2021-01-05T20:18:11.897515Z",
     "shell.execute_reply": "2021-01-05T20:18:11.897133Z",
     "shell.execute_reply.started": "2021-01-05T20:18:11.878640Z"
    }
   },
   "outputs": [
    {
     "data": {
      "text/plain": [
       "KruskalResult(statistic=12.277326242495, pvalue=0.0004584947862548842)"
      ]
     },
     "execution_count": 49,
     "metadata": {},
     "output_type": "execute_result"
    }
   ],
   "source": [
    "stats.kruskal(spws_bl.duration, spws_rec.duration)"
   ]
  },
  {
   "cell_type": "code",
   "execution_count": 50,
   "metadata": {
    "execution": {
     "iopub.execute_input": "2021-01-05T20:18:12.422848Z",
     "iopub.status.busy": "2021-01-05T20:18:12.422592Z",
     "iopub.status.idle": "2021-01-05T20:18:12.443438Z",
     "shell.execute_reply": "2021-01-05T20:18:12.442875Z",
     "shell.execute_reply.started": "2021-01-05T20:18:12.422817Z"
    }
   },
   "outputs": [
    {
     "data": {
      "text/plain": [
       "MannwhitneyuResult(statistic=8461625.0, pvalue=0.00022925124072369115)"
      ]
     },
     "execution_count": 50,
     "metadata": {},
     "output_type": "execute_result"
    }
   ],
   "source": [
    "stats.mannwhitneyu(spws_bl.duration, spws_rec.duration)"
   ]
  },
  {
   "cell_type": "markdown",
   "metadata": {},
   "source": [
    "## Look at non-normally distributed features"
   ]
  },
  {
   "cell_type": "markdown",
   "metadata": {},
   "source": [
    "### Sink amplitude"
   ]
  },
  {
   "cell_type": "code",
   "execution_count": 51,
   "metadata": {
    "execution": {
     "iopub.execute_input": "2021-01-05T20:18:20.072230Z",
     "iopub.status.busy": "2021-01-05T20:18:20.071912Z",
     "iopub.status.idle": "2021-01-05T20:18:20.306070Z",
     "shell.execute_reply": "2021-01-05T20:18:20.305411Z",
     "shell.execute_reply.started": "2021-01-05T20:18:20.072193Z"
    }
   },
   "outputs": [
    {
     "data": {
      "application/vnd.jupyter.widget-view+json": {
       "model_id": "553c703fa7244d3d94a32c13bc264892",
       "version_major": 2,
       "version_minor": 0
      },
      "text/plain": [
       "Canvas(toolbar=Toolbar(toolitems=[('Home', 'Reset original view', 'home', 'home'), ('Back', 'Back to previous …"
      ]
     },
     "metadata": {},
     "output_type": "display_data"
    }
   ],
   "source": [
    "plot_acf_pacf(spws_bl, spws_rec, 'sink_amplitude')"
   ]
  },
  {
   "cell_type": "code",
   "execution_count": 52,
   "metadata": {
    "execution": {
     "iopub.execute_input": "2021-01-05T20:18:21.660955Z",
     "iopub.status.busy": "2021-01-05T20:18:21.660819Z",
     "iopub.status.idle": "2021-01-05T20:18:21.730277Z",
     "shell.execute_reply": "2021-01-05T20:18:21.729691Z",
     "shell.execute_reply.started": "2021-01-05T20:18:21.660937Z"
    }
   },
   "outputs": [
    {
     "data": {
      "application/vnd.jupyter.widget-view+json": {
       "model_id": "f9d10d2f6d9c436ba3508f795c6afe21",
       "version_major": 2,
       "version_minor": 0
      },
      "text/plain": [
       "Canvas(toolbar=Toolbar(toolitems=[('Home', 'Reset original view', 'home', 'home'), ('Back', 'Back to previous …"
      ]
     },
     "metadata": {},
     "output_type": "display_data"
    }
   ],
   "source": [
    "plot_vs_time(spws_bl, spws_rec, 'sink_amplitude')"
   ]
  },
  {
   "cell_type": "code",
   "execution_count": 53,
   "metadata": {
    "execution": {
     "iopub.execute_input": "2021-01-05T20:18:23.470884Z",
     "iopub.status.busy": "2021-01-05T20:18:23.470568Z",
     "iopub.status.idle": "2021-01-05T20:18:23.492341Z",
     "shell.execute_reply": "2021-01-05T20:18:23.491769Z",
     "shell.execute_reply.started": "2021-01-05T20:18:23.470842Z"
    }
   },
   "outputs": [
    {
     "data": {
      "text/plain": [
       "LinregressResult(slope=-1.1561550546279516e-07, intercept=0.045859688530369154, rvalue=-0.01869738919025395, pvalue=0.2542430280135278, stderr=1.0139218802594485e-07)"
      ]
     },
     "execution_count": 53,
     "metadata": {},
     "output_type": "execute_result"
    }
   ],
   "source": [
    "test_slope(spws_bl, 'midpoint', 'sink_amplitude')"
   ]
  },
  {
   "cell_type": "code",
   "execution_count": 54,
   "metadata": {
    "execution": {
     "iopub.execute_input": "2021-01-05T20:18:24.431753Z",
     "iopub.status.busy": "2021-01-05T20:18:24.431301Z",
     "iopub.status.idle": "2021-01-05T20:18:24.452821Z",
     "shell.execute_reply": "2021-01-05T20:18:24.452231Z",
     "shell.execute_reply.started": "2021-01-05T20:18:24.431697Z"
    }
   },
   "outputs": [
    {
     "data": {
      "text/plain": [
       "LinregressResult(slope=-1.0444886540937511e-06, intercept=0.05401612938034222, rvalue=-0.11066462816655338, pvalue=1.9095173548786838e-14, stderr=1.3598998699206676e-07)"
      ]
     },
     "execution_count": 54,
     "metadata": {},
     "output_type": "execute_result"
    }
   ],
   "source": [
    "test_slope(spws_rec, 'midpoint', 'sink_amplitude')"
   ]
  },
  {
   "cell_type": "code",
   "execution_count": 55,
   "metadata": {
    "execution": {
     "iopub.execute_input": "2021-01-05T20:18:25.560879Z",
     "iopub.status.busy": "2021-01-05T20:18:25.560449Z",
     "iopub.status.idle": "2021-01-05T20:18:25.580965Z",
     "shell.execute_reply": "2021-01-05T20:18:25.580397Z",
     "shell.execute_reply.started": "2021-01-05T20:18:25.560823Z"
    }
   },
   "outputs": [
    {
     "data": {
      "text/plain": [
       "MannwhitneyuResult(statistic=7958368.0, pvalue=6.094250460747972e-16)"
      ]
     },
     "execution_count": 55,
     "metadata": {},
     "output_type": "execute_result"
    }
   ],
   "source": [
    "stats.mannwhitneyu(spws_bl.sink_amplitude, spws_rec.sink_amplitude)"
   ]
  },
  {
   "cell_type": "code",
   "execution_count": 56,
   "metadata": {
    "execution": {
     "iopub.execute_input": "2021-01-05T20:18:26.304582Z",
     "iopub.status.busy": "2021-01-05T20:18:26.304371Z",
     "iopub.status.idle": "2021-01-05T20:18:26.388438Z",
     "shell.execute_reply": "2021-01-05T20:18:26.387755Z",
     "shell.execute_reply.started": "2021-01-05T20:18:26.304558Z"
    }
   },
   "outputs": [
    {
     "data": {
      "application/vnd.jupyter.widget-view+json": {
       "model_id": "9655720d53aa4ade84b196b4ec9e7369",
       "version_major": 2,
       "version_minor": 0
      },
      "text/plain": [
       "Canvas(toolbar=Toolbar(toolitems=[('Home', 'Reset original view', 'home', 'home'), ('Back', 'Back to previous …"
      ]
     },
     "metadata": {},
     "output_type": "display_data"
    },
    {
     "name": "stderr",
     "output_type": "stream",
     "text": [
      "/home/gfindlay/miniconda3/envs/ecephys/lib/python3.7/site-packages/seaborn/distributions.py:2551: FutureWarning: `distplot` is a deprecated function and will be removed in a future version. Please adapt your code to use either `displot` (a figure-level function with similar flexibility) or `kdeplot` (an axes-level function for kernel density plots).\n",
      "  warnings.warn(msg, FutureWarning)\n",
      "/home/gfindlay/miniconda3/envs/ecephys/lib/python3.7/site-packages/seaborn/distributions.py:2551: FutureWarning: `distplot` is a deprecated function and will be removed in a future version. Please adapt your code to use either `displot` (a figure-level function with similar flexibility) or `kdeplot` (an axes-level function for kernel density plots).\n",
      "  warnings.warn(msg, FutureWarning)\n"
     ]
    },
    {
     "data": {
      "text/plain": [
       "<matplotlib.legend.Legend at 0x7fda209d9c50>"
      ]
     },
     "execution_count": 56,
     "metadata": {},
     "output_type": "execute_result"
    }
   ],
   "source": [
    "plt.figure(figsize=(10, 8))\n",
    "sns.distplot(spws_bl.sink_amplitude, hist=False, label='Baseline')\n",
    "sns.distplot(spws_rec.sink_amplitude, hist=False, label='Recovery')\n",
    "plt.xlabel(\"Sink ampliutde (mA/mm)\", labelpad=13)\n",
    "plt.ylabel(\"frequency\", labelpad=13)\n",
    "plt.legend()"
   ]
  },
  {
   "cell_type": "markdown",
   "metadata": {},
   "source": [
    "## Look at spw density"
   ]
  },
  {
   "cell_type": "code",
   "execution_count": 57,
   "metadata": {
    "execution": {
     "iopub.execute_input": "2021-01-05T20:18:42.083393Z",
     "iopub.status.busy": "2021-01-05T20:18:42.082900Z",
     "iopub.status.idle": "2021-01-05T20:18:42.152713Z",
     "shell.execute_reply": "2021-01-05T20:18:42.152094Z",
     "shell.execute_reply.started": "2021-01-05T20:18:42.083332Z"
    }
   },
   "outputs": [
    {
     "data": {
      "application/vnd.jupyter.widget-view+json": {
       "model_id": "1af2d739cb1547409ae7b7e8eb832688",
       "version_major": 2,
       "version_minor": 0
      },
      "text/plain": [
       "Canvas(toolbar=Toolbar(toolitems=[('Home', 'Reset original view', 'home', 'home'), ('Back', 'Back to previous …"
      ]
     },
     "metadata": {},
     "output_type": "display_data"
    },
    {
     "name": "stderr",
     "output_type": "stream",
     "text": [
      "/home/gfindlay/miniconda3/envs/ecephys/lib/python3.7/site-packages/seaborn/distributions.py:2551: FutureWarning: `distplot` is a deprecated function and will be removed in a future version. Please adapt your code to use either `displot` (a figure-level function with similar flexibility) or `kdeplot` (an axes-level function for kernel density plots).\n",
      "  warnings.warn(msg, FutureWarning)\n",
      "/home/gfindlay/miniconda3/envs/ecephys/lib/python3.7/site-packages/seaborn/distributions.py:2551: FutureWarning: `distplot` is a deprecated function and will be removed in a future version. Please adapt your code to use either `displot` (a figure-level function with similar flexibility) or `kdeplot` (an axes-level function for kernel density plots).\n",
      "  warnings.warn(msg, FutureWarning)\n"
     ]
    },
    {
     "data": {
      "text/plain": [
       "<matplotlib.legend.Legend at 0x7fd60c556950>"
      ]
     },
     "execution_count": 57,
     "metadata": {},
     "output_type": "execute_result"
    }
   ],
   "source": [
    "plt.figure(figsize=(10, 8))\n",
    "sns.distplot(bl_hypno[bl_hypno.state == \"N2\"].duration, hist=False, label='Baseline')\n",
    "sns.distplot(rec_hypno[rec_hypno.state == \"N2\"].duration, hist=False, label='Recovery')\n",
    "plt.xlabel(\"NREM Episode Duration\", labelpad=13)\n",
    "plt.ylabel(\"frequency\", labelpad=13)\n",
    "plt.legend()"
   ]
  },
  {
   "cell_type": "code",
   "execution_count": 58,
   "metadata": {
    "execution": {
     "iopub.execute_input": "2021-01-05T20:18:43.374658Z",
     "iopub.status.busy": "2021-01-05T20:18:43.374228Z",
     "iopub.status.idle": "2021-01-05T20:18:43.393289Z",
     "shell.execute_reply": "2021-01-05T20:18:43.392697Z",
     "shell.execute_reply.started": "2021-01-05T20:18:43.374603Z"
    }
   },
   "outputs": [],
   "source": [
    "def get_spw_density(hypno, spws):  \n",
    "    N2 = hypno[hypno.state == \"N2\"]\n",
    "    N2['n_spws'] = N2.apply(lambda episode: np.sum(np.logical_and(spws.midpoint >= episode.start_time, spws.midpoint <= episode.end_time)), axis=1)\n",
    "    N2['spw_density'] = N2.apply(lambda episode: episode.n_spws / episode.duration, axis=1)\n",
    "    return N2"
   ]
  },
  {
   "cell_type": "code",
   "execution_count": 59,
   "metadata": {
    "execution": {
     "iopub.execute_input": "2021-01-05T20:19:03.635174Z",
     "iopub.status.busy": "2021-01-05T20:19:03.634684Z",
     "iopub.status.idle": "2021-01-05T20:19:03.725326Z",
     "shell.execute_reply": "2021-01-05T20:19:03.724586Z",
     "shell.execute_reply.started": "2021-01-05T20:19:03.635115Z"
    }
   },
   "outputs": [
    {
     "data": {
      "application/vnd.jupyter.widget-view+json": {
       "model_id": "f22539f97dff41968939354666ca4568",
       "version_major": 2,
       "version_minor": 0
      },
      "text/plain": [
       "Canvas(toolbar=Toolbar(toolitems=[('Home', 'Reset original view', 'home', 'home'), ('Back', 'Back to previous …"
      ]
     },
     "metadata": {},
     "output_type": "display_data"
    },
    {
     "name": "stdout",
     "output_type": "stream",
     "text": [
      "Mean spw density:  0.8644307769497434 \n",
      " Median spw density:  0.8836580086580086\n"
     ]
    }
   ],
   "source": [
    "bl_density = get_spw_density(bl_hypno, spws_bl)\n",
    "\n",
    "plt.figure()\n",
    "ax = bl_density.spw_density.plot.hist(bins=20)\n",
    "\n",
    "print(\"Mean spw density: \", bl_density.spw_density.mean(), \"\\n\", \"Median spw density: \", bl_density.spw_density.median())"
   ]
  },
  {
   "cell_type": "code",
   "execution_count": 60,
   "metadata": {
    "execution": {
     "iopub.execute_input": "2021-01-05T20:19:22.498307Z",
     "iopub.status.busy": "2021-01-05T20:19:22.497814Z",
     "iopub.status.idle": "2021-01-05T20:19:22.550485Z",
     "shell.execute_reply": "2021-01-05T20:19:22.549866Z",
     "shell.execute_reply.started": "2021-01-05T20:19:22.498248Z"
    }
   },
   "outputs": [
    {
     "data": {
      "application/vnd.jupyter.widget-view+json": {
       "model_id": "694c3c81e2d54e0797dbabd3d1f05525",
       "version_major": 2,
       "version_minor": 0
      },
      "text/plain": [
       "Canvas(toolbar=Toolbar(toolitems=[('Home', 'Reset original view', 'home', 'home'), ('Back', 'Back to previous …"
      ]
     },
     "metadata": {},
     "output_type": "display_data"
    }
   ],
   "source": [
    "ax = bl_density.plot(x='start_time', y='spw_density')"
   ]
  },
  {
   "cell_type": "code",
   "execution_count": 61,
   "metadata": {
    "execution": {
     "iopub.execute_input": "2021-01-05T20:19:23.368510Z",
     "iopub.status.busy": "2021-01-05T20:19:23.368156Z",
     "iopub.status.idle": "2021-01-05T20:19:23.388374Z",
     "shell.execute_reply": "2021-01-05T20:19:23.387793Z",
     "shell.execute_reply.started": "2021-01-05T20:19:23.368466Z"
    }
   },
   "outputs": [
    {
     "data": {
      "text/plain": [
       "LinregressResult(slope=4.812618661657016e-07, intercept=0.8627541188507413, rvalue=0.005225881787592856, pvalue=0.9700832329485374, stderr=1.2770687185421427e-05)"
      ]
     },
     "execution_count": 61,
     "metadata": {},
     "output_type": "execute_result"
    }
   ],
   "source": [
    "test_slope(bl_density, 'start_time', 'spw_density')"
   ]
  },
  {
   "cell_type": "code",
   "execution_count": 62,
   "metadata": {
    "execution": {
     "iopub.execute_input": "2021-01-05T20:19:24.882639Z",
     "iopub.status.busy": "2021-01-05T20:19:24.882182Z",
     "iopub.status.idle": "2021-01-05T20:19:24.963272Z",
     "shell.execute_reply": "2021-01-05T20:19:24.962537Z",
     "shell.execute_reply.started": "2021-01-05T20:19:24.882584Z"
    }
   },
   "outputs": [
    {
     "data": {
      "application/vnd.jupyter.widget-view+json": {
       "model_id": "f18020a581d248e9ba21f0d7527b1d57",
       "version_major": 2,
       "version_minor": 0
      },
      "text/plain": [
       "Canvas(toolbar=Toolbar(toolitems=[('Home', 'Reset original view', 'home', 'home'), ('Back', 'Back to previous …"
      ]
     },
     "metadata": {},
     "output_type": "display_data"
    },
    {
     "name": "stdout",
     "output_type": "stream",
     "text": [
      "Mean spw density:  0.8436879131595025 \n",
      " Median spw density:  0.8958333333333334\n"
     ]
    }
   ],
   "source": [
    "rec_density = get_spw_density(rec_hypno, spws_rec)\n",
    "\n",
    "plt.figure()\n",
    "ax = rec_density.spw_density.plot.hist(bins=20)\n",
    "\n",
    "print(\"Mean spw density: \", rec_density.spw_density.mean(), \"\\n\", \"Median spw density: \", rec_density.spw_density.median())"
   ]
  },
  {
   "cell_type": "code",
   "execution_count": 63,
   "metadata": {
    "execution": {
     "iopub.execute_input": "2021-01-05T20:19:25.984448Z",
     "iopub.status.busy": "2021-01-05T20:19:25.984086Z",
     "iopub.status.idle": "2021-01-05T20:19:26.034352Z",
     "shell.execute_reply": "2021-01-05T20:19:26.033493Z",
     "shell.execute_reply.started": "2021-01-05T20:19:25.984402Z"
    }
   },
   "outputs": [
    {
     "data": {
      "application/vnd.jupyter.widget-view+json": {
       "model_id": "ade08b905a9748e3a969add37affc2d4",
       "version_major": 2,
       "version_minor": 0
      },
      "text/plain": [
       "Canvas(toolbar=Toolbar(toolitems=[('Home', 'Reset original view', 'home', 'home'), ('Back', 'Back to previous …"
      ]
     },
     "metadata": {},
     "output_type": "display_data"
    },
    {
     "data": {
      "text/plain": [
       "<AxesSubplot:>"
      ]
     },
     "execution_count": 63,
     "metadata": {},
     "output_type": "execute_result"
    }
   ],
   "source": [
    "plt.figure()\n",
    "rec_density.boxplot(column=['spw_density'])"
   ]
  },
  {
   "cell_type": "code",
   "execution_count": 64,
   "metadata": {
    "execution": {
     "iopub.execute_input": "2021-01-05T20:19:27.048153Z",
     "iopub.status.busy": "2021-01-05T20:19:27.047888Z",
     "iopub.status.idle": "2021-01-05T20:19:27.098586Z",
     "shell.execute_reply": "2021-01-05T20:19:27.097992Z",
     "shell.execute_reply.started": "2021-01-05T20:19:27.048118Z"
    }
   },
   "outputs": [
    {
     "name": "stderr",
     "output_type": "stream",
     "text": [
      "/home/gfindlay/miniconda3/envs/ecephys/lib/python3.7/site-packages/pandas/plotting/_matplotlib/core.py:328: RuntimeWarning: More than 20 figures have been opened. Figures created through the pyplot interface (`matplotlib.pyplot.figure`) are retained until explicitly closed and may consume too much memory. (To control this warning, see the rcParam `figure.max_open_warning`).\n",
      "  fig = self.plt.figure(figsize=self.figsize)\n"
     ]
    },
    {
     "data": {
      "application/vnd.jupyter.widget-view+json": {
       "model_id": "563e0373c2404934a41c7a0fbe51859e",
       "version_major": 2,
       "version_minor": 0
      },
      "text/plain": [
       "Canvas(toolbar=Toolbar(toolitems=[('Home', 'Reset original view', 'home', 'home'), ('Back', 'Back to previous …"
      ]
     },
     "metadata": {},
     "output_type": "display_data"
    }
   ],
   "source": [
    "ax = rec_density.plot(x='start_time', y='spw_density')"
   ]
  },
  {
   "cell_type": "code",
   "execution_count": 65,
   "metadata": {
    "execution": {
     "iopub.execute_input": "2021-01-05T20:19:28.112982Z",
     "iopub.status.busy": "2021-01-05T20:19:28.112539Z",
     "iopub.status.idle": "2021-01-05T20:19:28.132467Z",
     "shell.execute_reply": "2021-01-05T20:19:28.131889Z",
     "shell.execute_reply.started": "2021-01-05T20:19:28.112927Z"
    }
   },
   "outputs": [
    {
     "data": {
      "text/plain": [
       "LinregressResult(slope=-4.111699617710325e-06, intercept=0.857823020842782, rvalue=-0.037171452265867946, pvalue=0.8040893611662923, stderr=1.6478032311798006e-05)"
      ]
     },
     "execution_count": 65,
     "metadata": {},
     "output_type": "execute_result"
    }
   ],
   "source": [
    "test_slope(rec_density, 'start_time', 'spw_density')"
   ]
  },
  {
   "cell_type": "code",
   "execution_count": 66,
   "metadata": {
    "execution": {
     "iopub.execute_input": "2021-01-05T20:19:28.856131Z",
     "iopub.status.busy": "2021-01-05T20:19:28.855734Z",
     "iopub.status.idle": "2021-01-05T20:19:28.939226Z",
     "shell.execute_reply": "2021-01-05T20:19:28.938624Z",
     "shell.execute_reply.started": "2021-01-05T20:19:28.856080Z"
    }
   },
   "outputs": [
    {
     "data": {
      "application/vnd.jupyter.widget-view+json": {
       "model_id": "7b4ee118fd0b416f8dbb4af46998f4d4",
       "version_major": 2,
       "version_minor": 0
      },
      "text/plain": [
       "Canvas(toolbar=Toolbar(toolitems=[('Home', 'Reset original view', 'home', 'home'), ('Back', 'Back to previous …"
      ]
     },
     "metadata": {},
     "output_type": "display_data"
    }
   ],
   "source": [
    "plot_qq(bl_density, rec_density, 'spw_density')"
   ]
  },
  {
   "cell_type": "code",
   "execution_count": 67,
   "metadata": {
    "execution": {
     "iopub.execute_input": "2021-01-05T20:19:30.693380Z",
     "iopub.status.busy": "2021-01-05T20:19:30.693249Z",
     "iopub.status.idle": "2021-01-05T20:19:30.707813Z",
     "shell.execute_reply": "2021-01-05T20:19:30.707226Z",
     "shell.execute_reply.started": "2021-01-05T20:19:30.693363Z"
    }
   },
   "outputs": [
    {
     "data": {
      "text/plain": [
       "Ttest_indResult(statistic=0.47683010528282066, pvalue=0.634657427796079)"
      ]
     },
     "execution_count": 67,
     "metadata": {},
     "output_type": "execute_result"
    }
   ],
   "source": [
    "stats.ttest_ind(bl_density.spw_density, rec_density.spw_density, equal_var=False)"
   ]
  },
  {
   "cell_type": "code",
   "execution_count": 68,
   "metadata": {
    "execution": {
     "iopub.execute_input": "2021-01-05T20:19:30.719530Z",
     "iopub.status.busy": "2021-01-05T20:19:30.719413Z",
     "iopub.status.idle": "2021-01-05T20:19:30.798654Z",
     "shell.execute_reply": "2021-01-05T20:19:30.797926Z",
     "shell.execute_reply.started": "2021-01-05T20:19:30.719514Z"
    }
   },
   "outputs": [
    {
     "ename": "TypeError",
     "evalue": "visualize_distributions() missing 1 required positional argument: 'xlabel'",
     "output_type": "error",
     "traceback": [
      "\u001b[0;31m---------------------------------------------------------------------------\u001b[0m",
      "\u001b[0;31mTypeError\u001b[0m                                 Traceback (most recent call last)",
      "\u001b[0;32m<ipython-input-68-d3149f0a0f5b>\u001b[0m in \u001b[0;36m<module>\u001b[0;34m()\u001b[0m\n\u001b[1;32m      3\u001b[0m                                                                      \u001b[0mbl_density\u001b[0m\u001b[0;34m.\u001b[0m\u001b[0mspw_density\u001b[0m\u001b[0;34m.\u001b[0m\u001b[0mstd\u001b[0m\u001b[0;34m(\u001b[0m\u001b[0;34m)\u001b[0m\u001b[0;34m,\u001b[0m\u001b[0;34m\u001b[0m\u001b[0;34m\u001b[0m\u001b[0m\n\u001b[1;32m      4\u001b[0m                                                                      rec_density.spw_density.std())\n\u001b[0;32m----> 5\u001b[0;31m \u001b[0mvisualize_distributions\u001b[0m\u001b[0;34m(\u001b[0m\u001b[0mbl_density\u001b[0m\u001b[0;34m.\u001b[0m\u001b[0mspw_density\u001b[0m\u001b[0;34m,\u001b[0m \u001b[0mrec_density\u001b[0m\u001b[0;34m.\u001b[0m\u001b[0mspw_density\u001b[0m\u001b[0;34m,\u001b[0m \u001b[0mcohens_d\u001b[0m\u001b[0;34m,\u001b[0m \u001b[0minterpret_cohens_d\u001b[0m\u001b[0;34m(\u001b[0m\u001b[0mcohens_d\u001b[0m\u001b[0;34m)\u001b[0m\u001b[0;34m)\u001b[0m\u001b[0;34m\u001b[0m\u001b[0;34m\u001b[0m\u001b[0m\n\u001b[0m",
      "\u001b[0;31mTypeError\u001b[0m: visualize_distributions() missing 1 required positional argument: 'xlabel'"
     ]
    }
   ],
   "source": [
    "values_bl, values_rec, cohens_d = two_sample_data_setup_for_cohens_d(bl_density.spw_density.mean(), \n",
    "                                                                     rec_density.spw_density.mean(), \n",
    "                                                                     bl_density.spw_density.std(), \n",
    "                                                                     rec_density.spw_density.std())\n",
    "visualize_distributions(bl_density.spw_density, rec_density.spw_density, cohens_d, interpret_cohens_d(cohens_d))\n"
   ]
  },
  {
   "cell_type": "code",
   "execution_count": 69,
   "metadata": {
    "execution": {
     "iopub.execute_input": "2021-01-05T20:19:31.223023Z",
     "iopub.status.busy": "2021-01-05T20:19:31.222819Z",
     "iopub.status.idle": "2021-01-05T20:19:31.240654Z",
     "shell.execute_reply": "2021-01-05T20:19:31.240277Z",
     "shell.execute_reply.started": "2021-01-05T20:19:31.222997Z"
    }
   },
   "outputs": [
    {
     "name": "stdout",
     "output_type": "stream",
     "text": [
      "0.008618373275235937 0.9260344908326814 0.8863636363636364\n"
     ]
    }
   ],
   "source": [
    "stat, p, med, tbl = stats.median_test(bl_density.spw_density, rec_density.spw_density) \n",
    "print(stat, p, med)"
   ]
  },
  {
   "cell_type": "code",
   "execution_count": 70,
   "metadata": {
    "execution": {
     "iopub.execute_input": "2021-01-05T20:19:31.663055Z",
     "iopub.status.busy": "2021-01-05T20:19:31.662913Z",
     "iopub.status.idle": "2021-01-05T20:19:31.677845Z",
     "shell.execute_reply": "2021-01-05T20:19:31.677266Z",
     "shell.execute_reply.started": "2021-01-05T20:19:31.663039Z"
    }
   },
   "outputs": [
    {
     "data": {
      "text/plain": [
       "KruskalResult(statistic=0.025608673998291212, pvalue=0.8728597234874943)"
      ]
     },
     "execution_count": 70,
     "metadata": {},
     "output_type": "execute_result"
    }
   ],
   "source": [
    "stats.kruskal(bl_density.spw_density, rec_density.spw_density)"
   ]
  },
  {
   "cell_type": "code",
   "execution_count": 71,
   "metadata": {
    "execution": {
     "iopub.execute_input": "2021-01-05T20:19:32.568822Z",
     "iopub.status.busy": "2021-01-05T20:19:32.568446Z",
     "iopub.status.idle": "2021-01-05T20:19:32.588177Z",
     "shell.execute_reply": "2021-01-05T20:19:32.587592Z",
     "shell.execute_reply.started": "2021-01-05T20:19:32.568775Z"
    }
   },
   "outputs": [
    {
     "data": {
      "text/plain": [
       "MannwhitneyuResult(statistic=1245.5, pvalue=0.43777127434845425)"
      ]
     },
     "execution_count": 71,
     "metadata": {},
     "output_type": "execute_result"
    }
   ],
   "source": [
    "stats.mannwhitneyu(bl_density.spw_density, rec_density.spw_density)"
   ]
  },
  {
   "cell_type": "markdown",
   "metadata": {},
   "source": [
    "## Epoched spw density"
   ]
  },
  {
   "cell_type": "code",
   "execution_count": 72,
   "metadata": {
    "execution": {
     "iopub.execute_input": "2021-01-05T20:19:34.216589Z",
     "iopub.status.busy": "2021-01-05T20:19:34.216241Z",
     "iopub.status.idle": "2021-01-05T20:19:34.243718Z",
     "shell.execute_reply": "2021-01-05T20:19:34.242967Z",
     "shell.execute_reply.started": "2021-01-05T20:19:34.216546Z"
    }
   },
   "outputs": [],
   "source": [
    "# https://stackoverflow.com/questions/21160134/flatten-a-column-with-value-of-type-list-while-duplicating-the-other-columns-va\n",
    "def unnest_df(df, col, reset_index=False):\n",
    "    import pandas as pd\n",
    "    col_flat = pd.DataFrame([[i, x] \n",
    "                       for i, y in df[col].apply(list).iteritems() \n",
    "                           for x in y], columns=['I', col])\n",
    "    col_flat = col_flat.set_index('I')\n",
    "    df = df.drop(col, 1)\n",
    "    df = df.merge(col_flat, left_index=True, right_index=True)\n",
    "    if reset_index:\n",
    "        df = df.reset_index(drop=True)\n",
    "    return df\n",
    "\n",
    "def _get_spw_density(hypno, spws, epoch_length):  \n",
    "    N2 = hypno[np.logical_and(hypno.state == \"N2\", hypno.duration >= epoch_length)]\n",
    "    N2['epoch_start_times'] = N2.apply(lambda episode: np.arange(episode.start_time, episode.end_time - epoch_length, epoch_length), axis=1)\n",
    "    N2 = unnest_df(N2, 'epoch_start_times')\n",
    "    N2 = N2.rename(columns={'end_time': 'episode_end_time', 'start_time': 'epsiode_start_time', 'duration': 'episode_duration', 'epoch_start_times': 'start_time'})\n",
    "    N2['end_time'] = N2.apply(lambda epoch: epoch.start_time + epoch_length, axis=1)\n",
    "    N2['n_spws'] = N2.apply(lambda epoch: np.sum(np.logical_and(spws.midpoint >= epoch.start_time, spws.midpoint <= epoch.end_time)), axis=1)\n",
    "    N2['spw_density'] = N2.apply(lambda epoch: epoch.n_spws / epoch_length, axis=1)\n",
    "    return N2"
   ]
  },
  {
   "cell_type": "code",
   "execution_count": 73,
   "metadata": {
    "execution": {
     "iopub.execute_input": "2021-01-05T20:19:34.958779Z",
     "iopub.status.busy": "2021-01-05T20:19:34.958463Z",
     "iopub.status.idle": "2021-01-05T20:19:34.974800Z",
     "shell.execute_reply": "2021-01-05T20:19:34.974096Z",
     "shell.execute_reply.started": "2021-01-05T20:19:34.958740Z"
    }
   },
   "outputs": [],
   "source": [
    "epoch_length = 10"
   ]
  },
  {
   "cell_type": "code",
   "execution_count": 74,
   "metadata": {
    "execution": {
     "iopub.execute_input": "2021-01-05T20:19:35.266899Z",
     "iopub.status.busy": "2021-01-05T20:19:35.266705Z",
     "iopub.status.idle": "2021-01-05T20:19:35.478213Z",
     "shell.execute_reply": "2021-01-05T20:19:35.477627Z",
     "shell.execute_reply.started": "2021-01-05T20:19:35.266874Z"
    }
   },
   "outputs": [
    {
     "data": {
      "application/vnd.jupyter.widget-view+json": {
       "model_id": "40550e35faaa4e84bd3ecdb99f2c8d54",
       "version_major": 2,
       "version_minor": 0
      },
      "text/plain": [
       "Canvas(toolbar=Toolbar(toolitems=[('Home', 'Reset original view', 'home', 'home'), ('Back', 'Back to previous …"
      ]
     },
     "metadata": {},
     "output_type": "display_data"
    },
    {
     "name": "stdout",
     "output_type": "stream",
     "text": [
      "Mean spw density:  0.9 \n",
      " Median spw density:  0.9 \n",
      " Number of spws:  309\n"
     ]
    }
   ],
   "source": [
    "bl_density = _get_spw_density(bl_hypno, spws_bl, epoch_length)\n",
    "\n",
    "plt.figure()\n",
    "ax = bl_density.spw_density.plot.hist()\n",
    "\n",
    "print(\"Mean spw density: \", bl_density.spw_density.mean(), \"\\n\", \"Median spw density: \", bl_density.spw_density.median(), \"\\n\", \"Number of spws: \", len(bl_density))"
   ]
  },
  {
   "cell_type": "code",
   "execution_count": 75,
   "metadata": {
    "execution": {
     "iopub.execute_input": "2021-01-05T20:19:35.944360Z",
     "iopub.status.busy": "2021-01-05T20:19:35.944005Z",
     "iopub.status.idle": "2021-01-05T20:19:35.997935Z",
     "shell.execute_reply": "2021-01-05T20:19:35.997360Z",
     "shell.execute_reply.started": "2021-01-05T20:19:35.944315Z"
    }
   },
   "outputs": [
    {
     "data": {
      "application/vnd.jupyter.widget-view+json": {
       "model_id": "168f1028599d4823972d3450d1120603",
       "version_major": 2,
       "version_minor": 0
      },
      "text/plain": [
       "Canvas(toolbar=Toolbar(toolitems=[('Home', 'Reset original view', 'home', 'home'), ('Back', 'Back to previous …"
      ]
     },
     "metadata": {},
     "output_type": "display_data"
    }
   ],
   "source": [
    "ax = bl_density.plot(x='start_time', y='spw_density')"
   ]
  },
  {
   "cell_type": "code",
   "execution_count": 76,
   "metadata": {
    "execution": {
     "iopub.execute_input": "2021-01-05T20:19:37.096279Z",
     "iopub.status.busy": "2021-01-05T20:19:37.095944Z",
     "iopub.status.idle": "2021-01-05T20:19:37.116415Z",
     "shell.execute_reply": "2021-01-05T20:19:37.115844Z",
     "shell.execute_reply.started": "2021-01-05T20:19:37.096237Z"
    }
   },
   "outputs": [
    {
     "data": {
      "text/plain": [
       "LinregressResult(slope=-1.6311885342415435e-05, intercept=0.9584730380392934, rvalue=-0.099659857289227, pvalue=0.08027074485072504, stderr=9.294953131637295e-06)"
      ]
     },
     "execution_count": 76,
     "metadata": {},
     "output_type": "execute_result"
    }
   ],
   "source": [
    "test_slope(bl_density, 'start_time', 'spw_density')"
   ]
  },
  {
   "cell_type": "code",
   "execution_count": 77,
   "metadata": {
    "execution": {
     "iopub.execute_input": "2021-01-05T20:19:37.674236Z",
     "iopub.status.busy": "2021-01-05T20:19:37.674040Z",
     "iopub.status.idle": "2021-01-05T20:19:37.925902Z",
     "shell.execute_reply": "2021-01-05T20:19:37.925278Z",
     "shell.execute_reply.started": "2021-01-05T20:19:37.674211Z"
    }
   },
   "outputs": [
    {
     "data": {
      "application/vnd.jupyter.widget-view+json": {
       "model_id": "f6cd19035501490aa8268a8b13bab345",
       "version_major": 2,
       "version_minor": 0
      },
      "text/plain": [
       "Canvas(toolbar=Toolbar(toolitems=[('Home', 'Reset original view', 'home', 'home'), ('Back', 'Back to previous …"
      ]
     },
     "metadata": {},
     "output_type": "display_data"
    },
    {
     "name": "stdout",
     "output_type": "stream",
     "text": [
      "Mean spw density:  1.0194103194103195 \n",
      " Median spw density:  1.0 \n",
      " Number of spws:  407\n"
     ]
    }
   ],
   "source": [
    "rec_density = _get_spw_density(rec_hypno, spws_rec, epoch_length)\n",
    "\n",
    "plt.figure()\n",
    "ax = rec_density.spw_density.plot.hist()\n",
    "\n",
    "print(\"Mean spw density: \", rec_density.spw_density.mean(), \"\\n\", \"Median spw density: \", rec_density.spw_density.median(), \"\\n\", \"Number of spws: \", len(rec_density))"
   ]
  },
  {
   "cell_type": "code",
   "execution_count": 78,
   "metadata": {
    "execution": {
     "iopub.execute_input": "2021-01-05T20:19:38.041434Z",
     "iopub.status.busy": "2021-01-05T20:19:38.041291Z",
     "iopub.status.idle": "2021-01-05T20:19:38.083139Z",
     "shell.execute_reply": "2021-01-05T20:19:38.082550Z",
     "shell.execute_reply.started": "2021-01-05T20:19:38.041416Z"
    }
   },
   "outputs": [
    {
     "data": {
      "application/vnd.jupyter.widget-view+json": {
       "model_id": "a9ddf07470ca4486bc0ae6d9aa4f35c1",
       "version_major": 2,
       "version_minor": 0
      },
      "text/plain": [
       "Canvas(toolbar=Toolbar(toolitems=[('Home', 'Reset original view', 'home', 'home'), ('Back', 'Back to previous …"
      ]
     },
     "metadata": {},
     "output_type": "display_data"
    }
   ],
   "source": [
    "ax = rec_density.plot(x='start_time', y='spw_density')"
   ]
  },
  {
   "cell_type": "code",
   "execution_count": 79,
   "metadata": {
    "execution": {
     "iopub.execute_input": "2021-01-05T20:19:39.231867Z",
     "iopub.status.busy": "2021-01-05T20:19:39.231598Z",
     "iopub.status.idle": "2021-01-05T20:19:39.251935Z",
     "shell.execute_reply": "2021-01-05T20:19:39.251361Z",
     "shell.execute_reply.started": "2021-01-05T20:19:39.231825Z"
    }
   },
   "outputs": [
    {
     "data": {
      "text/plain": [
       "LinregressResult(slope=1.1395380709390015e-05, intercept=0.9764634540738925, rvalue=0.06034506402963296, pvalue=0.2244504326181378, stderr=9.366285342032842e-06)"
      ]
     },
     "execution_count": 79,
     "metadata": {},
     "output_type": "execute_result"
    }
   ],
   "source": [
    "test_slope(rec_density, 'start_time', 'spw_density')"
   ]
  },
  {
   "cell_type": "code",
   "execution_count": 80,
   "metadata": {
    "execution": {
     "iopub.execute_input": "2021-01-05T20:19:40.065126Z",
     "iopub.status.busy": "2021-01-05T20:19:40.064678Z",
     "iopub.status.idle": "2021-01-05T20:19:40.151980Z",
     "shell.execute_reply": "2021-01-05T20:19:40.151372Z",
     "shell.execute_reply.started": "2021-01-05T20:19:40.065053Z"
    }
   },
   "outputs": [
    {
     "data": {
      "application/vnd.jupyter.widget-view+json": {
       "model_id": "93fd11ae466a49359bad8ccf710fe082",
       "version_major": 2,
       "version_minor": 0
      },
      "text/plain": [
       "Canvas(toolbar=Toolbar(toolitems=[('Home', 'Reset original view', 'home', 'home'), ('Back', 'Back to previous …"
      ]
     },
     "metadata": {},
     "output_type": "display_data"
    },
    {
     "name": "stderr",
     "output_type": "stream",
     "text": [
      "/home/gfindlay/miniconda3/envs/ecephys/lib/python3.7/site-packages/pandas/core/series.py:726: RuntimeWarning: divide by zero encountered in log\n",
      "  result = getattr(ufunc, method)(*inputs, **kwargs)\n",
      "/home/gfindlay/miniconda3/envs/ecephys/lib/python3.7/site-packages/numpy/lib/function_base.py:2474: RuntimeWarning: invalid value encountered in subtract\n",
      "  X -= avg[:, None]\n",
      "/home/gfindlay/miniconda3/envs/ecephys/lib/python3.7/site-packages/pandas/core/series.py:726: RuntimeWarning: divide by zero encountered in log\n",
      "  result = getattr(ufunc, method)(*inputs, **kwargs)\n",
      "/home/gfindlay/miniconda3/envs/ecephys/lib/python3.7/site-packages/numpy/lib/function_base.py:2474: RuntimeWarning: invalid value encountered in subtract\n",
      "  X -= avg[:, None]\n"
     ]
    }
   ],
   "source": [
    "plot_qq(bl_density, rec_density, 'spw_density')"
   ]
  },
  {
   "cell_type": "code",
   "execution_count": 81,
   "metadata": {
    "execution": {
     "iopub.execute_input": "2021-01-05T20:19:42.002693Z",
     "iopub.status.busy": "2021-01-05T20:19:42.002572Z",
     "iopub.status.idle": "2021-01-05T20:19:42.015612Z",
     "shell.execute_reply": "2021-01-05T20:19:42.014887Z",
     "shell.execute_reply.started": "2021-01-05T20:19:42.002677Z"
    }
   },
   "outputs": [
    {
     "data": {
      "text/plain": [
       "Ttest_indResult(statistic=-4.451122072701914, pvalue=9.985580085856318e-06)"
      ]
     },
     "execution_count": 81,
     "metadata": {},
     "output_type": "execute_result"
    }
   ],
   "source": [
    "stats.ttest_ind(bl_density.spw_density, rec_density.spw_density, equal_var=False)"
   ]
  },
  {
   "cell_type": "code",
   "execution_count": 82,
   "metadata": {
    "execution": {
     "iopub.execute_input": "2021-01-05T20:19:42.154579Z",
     "iopub.status.busy": "2021-01-05T20:19:42.154451Z",
     "iopub.status.idle": "2021-01-05T20:19:42.216496Z",
     "shell.execute_reply": "2021-01-05T20:19:42.215828Z",
     "shell.execute_reply.started": "2021-01-05T20:19:42.154561Z"
    }
   },
   "outputs": [
    {
     "data": {
      "application/vnd.jupyter.widget-view+json": {
       "model_id": "c816607788044a3f879957726320a19a",
       "version_major": 2,
       "version_minor": 0
      },
      "text/plain": [
       "Canvas(toolbar=Toolbar(toolitems=[('Home', 'Reset original view', 'home', 'home'), ('Back', 'Back to previous …"
      ]
     },
     "metadata": {},
     "output_type": "display_data"
    },
    {
     "name": "stderr",
     "output_type": "stream",
     "text": [
      "/home/gfindlay/miniconda3/envs/ecephys/lib/python3.7/site-packages/seaborn/distributions.py:2551: FutureWarning: `distplot` is a deprecated function and will be removed in a future version. Please adapt your code to use either `displot` (a figure-level function with similar flexibility) or `kdeplot` (an axes-level function for kernel density plots).\n",
      "  warnings.warn(msg, FutureWarning)\n",
      "/home/gfindlay/miniconda3/envs/ecephys/lib/python3.7/site-packages/seaborn/distributions.py:2551: FutureWarning: `distplot` is a deprecated function and will be removed in a future version. Please adapt your code to use either `displot` (a figure-level function with similar flexibility) or `kdeplot` (an axes-level function for kernel density plots).\n",
      "  warnings.warn(msg, FutureWarning)\n"
     ]
    }
   ],
   "source": [
    "values_bl, values_rec, cohens_d = two_sample_data_setup_for_cohens_d(bl_density.spw_density.mean(), \n",
    "                                                                     rec_density.spw_density.mean(), \n",
    "                                                                     bl_density.spw_density.std(), \n",
    "                                                                     rec_density.spw_density.std())\n",
    "visualize_distributions(bl_density.spw_density, rec_density.spw_density, cohens_d, interpret_cohens_d(cohens_d), xlabel=\"Event density (per sec)\")\n"
   ]
  },
  {
   "cell_type": "code",
   "execution_count": 83,
   "metadata": {
    "execution": {
     "iopub.execute_input": "2021-01-05T20:19:43.177400Z",
     "iopub.status.busy": "2021-01-05T20:19:43.176925Z",
     "iopub.status.idle": "2021-01-05T20:19:43.196968Z",
     "shell.execute_reply": "2021-01-05T20:19:43.196336Z",
     "shell.execute_reply.started": "2021-01-05T20:19:43.177343Z"
    }
   },
   "outputs": [
    {
     "name": "stdout",
     "output_type": "stream",
     "text": [
      "22.804022782811217 1.7938981954373195e-06 1.0\n"
     ]
    }
   ],
   "source": [
    "stat, p, med, tbl = stats.median_test(bl_density.spw_density, rec_density.spw_density) \n",
    "print(stat, p, med)"
   ]
  },
  {
   "cell_type": "code",
   "execution_count": 84,
   "metadata": {
    "execution": {
     "iopub.execute_input": "2021-01-05T20:19:44.379200Z",
     "iopub.status.busy": "2021-01-05T20:19:44.378979Z",
     "iopub.status.idle": "2021-01-05T20:19:44.399068Z",
     "shell.execute_reply": "2021-01-05T20:19:44.398488Z",
     "shell.execute_reply.started": "2021-01-05T20:19:44.379175Z"
    }
   },
   "outputs": [
    {
     "data": {
      "text/plain": [
       "KruskalResult(statistic=23.169063238455415, pvalue=1.483650654518776e-06)"
      ]
     },
     "execution_count": 84,
     "metadata": {},
     "output_type": "execute_result"
    }
   ],
   "source": [
    "stats.kruskal(bl_density.spw_density, rec_density.spw_density)"
   ]
  },
  {
   "cell_type": "code",
   "execution_count": 85,
   "metadata": {
    "execution": {
     "iopub.execute_input": "2021-01-05T20:19:44.600255Z",
     "iopub.status.busy": "2021-01-05T20:19:44.600117Z",
     "iopub.status.idle": "2021-01-05T20:19:44.616736Z",
     "shell.execute_reply": "2021-01-05T20:19:44.616290Z",
     "shell.execute_reply.started": "2021-01-05T20:19:44.600238Z"
    }
   },
   "outputs": [
    {
     "data": {
      "text/plain": [
       "MannwhitneyuResult(statistic=49732.5, pvalue=7.425053677111444e-07)"
      ]
     },
     "execution_count": 85,
     "metadata": {},
     "output_type": "execute_result"
    }
   ],
   "source": [
    "stats.mannwhitneyu(bl_density.spw_density, rec_density.spw_density)"
   ]
  },
  {
   "cell_type": "markdown",
   "metadata": {},
   "source": [
    "### Sensitivity Analysis"
   ]
  },
  {
   "cell_type": "code",
   "execution_count": 86,
   "metadata": {
    "execution": {
     "iopub.execute_input": "2021-01-05T20:19:45.854571Z",
     "iopub.status.busy": "2021-01-05T20:19:45.854375Z",
     "iopub.status.idle": "2021-01-05T20:19:51.969321Z",
     "shell.execute_reply": "2021-01-05T20:19:51.968153Z",
     "shell.execute_reply.started": "2021-01-05T20:19:45.854545Z"
    }
   },
   "outputs": [],
   "source": [
    "def _get_density_ttest_pval(epoch_length):\n",
    "    bl_density = _get_spw_density(bl_hypno, spws_bl, epoch_length)\n",
    "    rec_density = _get_spw_density(rec_hypno, spws_rec, epoch_length)\n",
    "    return stats.ttest_ind(bl_density.spw_density, rec_density.spw_density, equal_var=False).pvalue\n",
    "\n",
    "def _get_density_MannWhitney_pval(epoch_length):\n",
    "    bl_density = _get_spw_density(bl_hypno, spws_bl, epoch_length)\n",
    "    rec_density = _get_spw_density(rec_hypno, spws_rec, epoch_length)\n",
    "    return stats.mannwhitneyu(bl_density.spw_density, rec_density.spw_density).pvalue\n",
    "\n",
    "def _get_density_nEpochs(hypno, spws, epoch_length):\n",
    "    bl_density = _get_spw_density(hypno, spws_bl, epoch_length)\n",
    "    rec_density = _get_spw_density(rec_hypno, spws_rec, epoch_length)\n",
    "    return stats.mannwhitneyu(bl_density.spw_density, rec_density.spw_density).pvalue\n",
    "\n",
    "df = pd.DataFrame(data={'epoch_length': np.arange(5, 65, 5)})\n",
    "df['ttest_pval'] = df.apply(lambda x: _get_density_ttest_pval(x.epoch_length), axis=1)\n",
    "df['mw_pval'] = df.apply(lambda x: _get_density_MannWhitney_pval(x.epoch_length), axis=1)\n",
    "df['n_epochs_bl'] = df.apply(lambda x: len(_get_spw_density(bl_hypno, spws_bl, x.epoch_length)), axis=1)\n",
    "df['n_epochs_rec'] = df.apply(lambda x: len(_get_spw_density(rec_hypno, spws_rec, x.epoch_length)), axis=1)"
   ]
  },
  {
   "cell_type": "code",
   "execution_count": 87,
   "metadata": {
    "execution": {
     "iopub.execute_input": "2021-01-05T20:19:52.001051Z",
     "iopub.status.busy": "2021-01-05T20:19:52.000923Z",
     "iopub.status.idle": "2021-01-05T20:19:52.016387Z",
     "shell.execute_reply": "2021-01-05T20:19:52.015843Z",
     "shell.execute_reply.started": "2021-01-05T20:19:52.001035Z"
    }
   },
   "outputs": [
    {
     "data": {
      "text/html": [
       "<div>\n",
       "<style scoped>\n",
       "    .dataframe tbody tr th:only-of-type {\n",
       "        vertical-align: middle;\n",
       "    }\n",
       "\n",
       "    .dataframe tbody tr th {\n",
       "        vertical-align: top;\n",
       "    }\n",
       "\n",
       "    .dataframe thead th {\n",
       "        text-align: right;\n",
       "    }\n",
       "</style>\n",
       "<table border=\"1\" class=\"dataframe\">\n",
       "  <thead>\n",
       "    <tr style=\"text-align: right;\">\n",
       "      <th></th>\n",
       "      <th>epoch_length</th>\n",
       "      <th>ttest_pval</th>\n",
       "      <th>mw_pval</th>\n",
       "      <th>n_epochs_bl</th>\n",
       "      <th>n_epochs_rec</th>\n",
       "    </tr>\n",
       "  </thead>\n",
       "  <tbody>\n",
       "    <tr>\n",
       "      <th>0</th>\n",
       "      <td>5</td>\n",
       "      <td>0.000015</td>\n",
       "      <td>2.593030e-06</td>\n",
       "      <td>651</td>\n",
       "      <td>845</td>\n",
       "    </tr>\n",
       "    <tr>\n",
       "      <th>1</th>\n",
       "      <td>10</td>\n",
       "      <td>0.000010</td>\n",
       "      <td>7.425054e-07</td>\n",
       "      <td>309</td>\n",
       "      <td>407</td>\n",
       "    </tr>\n",
       "    <tr>\n",
       "      <th>2</th>\n",
       "      <td>15</td>\n",
       "      <td>0.000011</td>\n",
       "      <td>3.106156e-06</td>\n",
       "      <td>197</td>\n",
       "      <td>268</td>\n",
       "    </tr>\n",
       "    <tr>\n",
       "      <th>3</th>\n",
       "      <td>20</td>\n",
       "      <td>0.000018</td>\n",
       "      <td>1.103968e-05</td>\n",
       "      <td>143</td>\n",
       "      <td>192</td>\n",
       "    </tr>\n",
       "    <tr>\n",
       "      <th>4</th>\n",
       "      <td>25</td>\n",
       "      <td>0.000007</td>\n",
       "      <td>8.943246e-06</td>\n",
       "      <td>107</td>\n",
       "      <td>150</td>\n",
       "    </tr>\n",
       "    <tr>\n",
       "      <th>5</th>\n",
       "      <td>30</td>\n",
       "      <td>0.000020</td>\n",
       "      <td>1.727589e-05</td>\n",
       "      <td>83</td>\n",
       "      <td>124</td>\n",
       "    </tr>\n",
       "    <tr>\n",
       "      <th>6</th>\n",
       "      <td>35</td>\n",
       "      <td>0.000103</td>\n",
       "      <td>1.923458e-04</td>\n",
       "      <td>72</td>\n",
       "      <td>104</td>\n",
       "    </tr>\n",
       "    <tr>\n",
       "      <th>7</th>\n",
       "      <td>40</td>\n",
       "      <td>0.000028</td>\n",
       "      <td>2.987867e-05</td>\n",
       "      <td>60</td>\n",
       "      <td>86</td>\n",
       "    </tr>\n",
       "    <tr>\n",
       "      <th>8</th>\n",
       "      <td>45</td>\n",
       "      <td>0.000012</td>\n",
       "      <td>2.040909e-05</td>\n",
       "      <td>49</td>\n",
       "      <td>76</td>\n",
       "    </tr>\n",
       "    <tr>\n",
       "      <th>9</th>\n",
       "      <td>50</td>\n",
       "      <td>0.000124</td>\n",
       "      <td>3.006211e-04</td>\n",
       "      <td>42</td>\n",
       "      <td>66</td>\n",
       "    </tr>\n",
       "    <tr>\n",
       "      <th>10</th>\n",
       "      <td>55</td>\n",
       "      <td>0.000141</td>\n",
       "      <td>3.479657e-04</td>\n",
       "      <td>38</td>\n",
       "      <td>61</td>\n",
       "    </tr>\n",
       "    <tr>\n",
       "      <th>11</th>\n",
       "      <td>60</td>\n",
       "      <td>0.000641</td>\n",
       "      <td>2.199265e-03</td>\n",
       "      <td>31</td>\n",
       "      <td>53</td>\n",
       "    </tr>\n",
       "  </tbody>\n",
       "</table>\n",
       "</div>"
      ],
      "text/plain": [
       "    epoch_length  ttest_pval       mw_pval  n_epochs_bl  n_epochs_rec\n",
       "0              5    0.000015  2.593030e-06          651           845\n",
       "1             10    0.000010  7.425054e-07          309           407\n",
       "2             15    0.000011  3.106156e-06          197           268\n",
       "3             20    0.000018  1.103968e-05          143           192\n",
       "4             25    0.000007  8.943246e-06          107           150\n",
       "5             30    0.000020  1.727589e-05           83           124\n",
       "6             35    0.000103  1.923458e-04           72           104\n",
       "7             40    0.000028  2.987867e-05           60            86\n",
       "8             45    0.000012  2.040909e-05           49            76\n",
       "9             50    0.000124  3.006211e-04           42            66\n",
       "10            55    0.000141  3.479657e-04           38            61\n",
       "11            60    0.000641  2.199265e-03           31            53"
      ]
     },
     "execution_count": 87,
     "metadata": {},
     "output_type": "execute_result"
    }
   ],
   "source": [
    "df"
   ]
  },
  {
   "cell_type": "code",
   "execution_count": 88,
   "metadata": {
    "execution": {
     "iopub.execute_input": "2021-01-05T20:19:52.017276Z",
     "iopub.status.busy": "2021-01-05T20:19:52.017152Z",
     "iopub.status.idle": "2021-01-05T20:19:52.062888Z",
     "shell.execute_reply": "2021-01-05T20:19:52.062354Z",
     "shell.execute_reply.started": "2021-01-05T20:19:52.017261Z"
    }
   },
   "outputs": [
    {
     "data": {
      "application/vnd.jupyter.widget-view+json": {
       "model_id": "b2c6d81806ca406e98e737fbd030465c",
       "version_major": 2,
       "version_minor": 0
      },
      "text/plain": [
       "Canvas(toolbar=Toolbar(toolitems=[('Home', 'Reset original view', 'home', 'home'), ('Back', 'Back to previous …"
      ]
     },
     "metadata": {},
     "output_type": "display_data"
    },
    {
     "data": {
      "text/plain": [
       "<AxesSubplot:xlabel='epoch_length'>"
      ]
     },
     "execution_count": 88,
     "metadata": {},
     "output_type": "execute_result"
    }
   ],
   "source": [
    "df[['ttest_pval', 'mw_pval', 'epoch_length']].plot(x='epoch_length')"
   ]
  },
  {
   "cell_type": "code",
   "execution_count": 89,
   "metadata": {
    "execution": {
     "iopub.execute_input": "2021-01-05T20:19:52.063597Z",
     "iopub.status.busy": "2021-01-05T20:19:52.063475Z",
     "iopub.status.idle": "2021-01-05T20:19:52.106084Z",
     "shell.execute_reply": "2021-01-05T20:19:52.105358Z",
     "shell.execute_reply.started": "2021-01-05T20:19:52.063582Z"
    }
   },
   "outputs": [
    {
     "data": {
      "application/vnd.jupyter.widget-view+json": {
       "model_id": "f4632a981f4f461193302575cd0935fa",
       "version_major": 2,
       "version_minor": 0
      },
      "text/plain": [
       "Canvas(toolbar=Toolbar(toolitems=[('Home', 'Reset original view', 'home', 'home'), ('Back', 'Back to previous …"
      ]
     },
     "metadata": {},
     "output_type": "display_data"
    },
    {
     "data": {
      "text/plain": [
       "<AxesSubplot:xlabel='epoch_length'>"
      ]
     },
     "execution_count": 89,
     "metadata": {},
     "output_type": "execute_result"
    }
   ],
   "source": [
    "df[['n_epochs_bl', 'n_epochs_rec', 'epoch_length']].plot(x='epoch_length')"
   ]
  },
  {
   "cell_type": "code",
   "execution_count": null,
   "metadata": {},
   "outputs": [],
   "source": []
  }
 ],
 "metadata": {
  "kernelspec": {
   "display_name": "Python 3",
   "language": "python",
   "name": "python3"
  },
  "language_info": {
   "codemirror_mode": {
    "name": "ipython",
    "version": 3
   },
   "file_extension": ".py",
   "mimetype": "text/x-python",
   "name": "python",
   "nbconvert_exporter": "python",
   "pygments_lexer": "ipython3",
   "version": "3.7.9"
  }
 },
 "nbformat": 4,
 "nbformat_minor": 4
}
