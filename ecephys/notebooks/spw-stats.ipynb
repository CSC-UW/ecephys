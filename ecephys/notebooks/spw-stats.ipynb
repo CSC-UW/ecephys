{
 "cells": [
  {
   "cell_type": "code",
   "execution_count": 4,
   "metadata": {
    "execution": {
     "iopub.execute_input": "2020-12-04T23:57:49.894874Z",
     "iopub.status.busy": "2020-12-04T23:57:49.894424Z",
     "iopub.status.idle": "2020-12-04T23:57:49.912882Z",
     "shell.execute_reply": "2020-12-04T23:57:49.912074Z",
     "shell.execute_reply.started": "2020-12-04T23:57:49.894816Z"
    }
   },
   "outputs": [
    {
     "name": "stdout",
     "output_type": "stream",
     "text": [
      "The autoreload extension is already loaded. To reload it, use:\n",
      "  %reload_ext autoreload\n"
     ]
    }
   ],
   "source": [
    "%load_ext autoreload\n",
    "%autoreload 2"
   ]
  },
  {
   "cell_type": "code",
   "execution_count": 5,
   "metadata": {
    "execution": {
     "iopub.execute_input": "2020-12-04T23:57:50.194857Z",
     "iopub.status.busy": "2020-12-04T23:57:50.194463Z",
     "iopub.status.idle": "2020-12-04T23:57:50.212205Z",
     "shell.execute_reply": "2020-12-04T23:57:50.211473Z",
     "shell.execute_reply.started": "2020-12-04T23:57:50.194805Z"
    }
   },
   "outputs": [],
   "source": [
    "%matplotlib widget\n",
    "from pathlib import Path\n",
    "\n",
    "import matplotlib.pyplot as plt\n",
    "import numpy as np\n",
    "import pandas as pd\n",
    "from pandas.plotting import scatter_matrix\n",
    "\n",
    "from ecephys.data import paths\n",
    "from ecephys.utils.utils import load_df_h5\n",
    "from ecephys.scoring import load_visbrain_hypnogram"
   ]
  },
  {
   "cell_type": "code",
   "execution_count": 6,
   "metadata": {
    "execution": {
     "iopub.execute_input": "2020-12-04T23:57:50.562376Z",
     "iopub.status.busy": "2020-12-04T23:57:50.561995Z",
     "iopub.status.idle": "2020-12-04T23:57:50.578380Z",
     "shell.execute_reply": "2020-12-04T23:57:50.577634Z",
     "shell.execute_reply.started": "2020-12-04T23:57:50.562325Z"
    }
   },
   "outputs": [],
   "source": [
    "pd.options.mode.chained_assignment = None  # default='warn'"
   ]
  },
  {
   "cell_type": "markdown",
   "metadata": {},
   "source": [
    "## Read the data"
   ]
  },
  {
   "cell_type": "code",
   "execution_count": 7,
   "metadata": {
    "execution": {
     "iopub.execute_input": "2020-12-04T23:57:51.522750Z",
     "iopub.status.busy": "2020-12-04T23:57:51.522357Z",
     "iopub.status.idle": "2020-12-04T23:57:51.612097Z",
     "shell.execute_reply": "2020-12-04T23:57:51.611432Z",
     "shell.execute_reply.started": "2020-12-04T23:57:51.522699Z"
    }
   },
   "outputs": [],
   "source": [
    "condition = \"BL\"\n",
    "subject = \"Doppio\"\n",
    "\n",
    "hypnogram_path = Path(paths.hypnograms[condition][subject])\n",
    "hypnogram = load_visbrain_hypnogram(hypnogram_path)\n",
    "\n",
    "spw_path = Path(paths.spws[condition][subject])\n",
    "with pd.HDFStore(spw_path) as store:\n",
    "    spws, metadata = load_df_h5(store)\n",
    "    \n",
    "bl_hypno = hypnogram\n",
    "spws_bl = spws"
   ]
  },
  {
   "cell_type": "code",
   "execution_count": 21,
   "metadata": {
    "execution": {
     "iopub.execute_input": "2020-12-05T00:01:52.551111Z",
     "iopub.status.busy": "2020-12-05T00:01:52.550634Z",
     "iopub.status.idle": "2020-12-05T00:01:52.570028Z",
     "shell.execute_reply": "2020-12-05T00:01:52.569280Z",
     "shell.execute_reply.started": "2020-12-05T00:01:52.551035Z"
    }
   },
   "outputs": [],
   "source": [
    "spws_bl[\"sink_amplitude\"] = -spws_bl[\"sink_amplitude\"]\n",
    "spws_bl[\"sink_integral\"] = -spws_bl[\"sink_integral\"]"
   ]
  },
  {
   "cell_type": "code",
   "execution_count": 8,
   "metadata": {
    "execution": {
     "iopub.execute_input": "2020-12-04T23:57:51.874128Z",
     "iopub.status.busy": "2020-12-04T23:57:51.873888Z",
     "iopub.status.idle": "2020-12-04T23:57:51.928169Z",
     "shell.execute_reply": "2020-12-04T23:57:51.927606Z",
     "shell.execute_reply.started": "2020-12-04T23:57:51.874091Z"
    }
   },
   "outputs": [],
   "source": [
    "condition = \"SR\"\n",
    "subject = \"Doppio\"\n",
    "\n",
    "hypnogram_path = Path(paths.hypnograms[condition][subject])\n",
    "hypnogram = load_visbrain_hypnogram(hypnogram_path)\n",
    "\n",
    "spw_path = Path(paths.spws[condition][subject])\n",
    "with pd.HDFStore(spw_path) as store:\n",
    "    spws, metadata = load_df_h5(store)\n",
    "    \n",
    "rec_hypno = hypnogram\n",
    "spws_rec = spws"
   ]
  },
  {
   "cell_type": "code",
   "execution_count": 61,
   "metadata": {
    "execution": {
     "iopub.execute_input": "2020-12-05T00:10:10.775529Z",
     "iopub.status.busy": "2020-12-05T00:10:10.775161Z",
     "iopub.status.idle": "2020-12-05T00:10:10.796193Z",
     "shell.execute_reply": "2020-12-05T00:10:10.795352Z",
     "shell.execute_reply.started": "2020-12-05T00:10:10.775482Z"
    }
   },
   "outputs": [],
   "source": [
    "spws_rec[\"sink_amplitude\"] = -spws_rec[\"sink_amplitude\"]\n",
    "spws_rec[\"sink_integral\"] = -spws_rec[\"sink_integral\"]"
   ]
  },
  {
   "cell_type": "markdown",
   "metadata": {},
   "source": [
    "## Look at basic summary statistics"
   ]
  },
  {
   "cell_type": "code",
   "execution_count": 62,
   "metadata": {
    "execution": {
     "iopub.execute_input": "2020-12-05T00:10:16.145192Z",
     "iopub.status.busy": "2020-12-05T00:10:16.144756Z",
     "iopub.status.idle": "2020-12-05T00:10:16.165308Z",
     "shell.execute_reply": "2020-12-05T00:10:16.164701Z",
     "shell.execute_reply.started": "2020-12-05T00:10:16.145136Z"
    }
   },
   "outputs": [
    {
     "data": {
      "text/plain": [
       "3407.9599609375"
      ]
     },
     "execution_count": 62,
     "metadata": {},
     "output_type": "execute_result"
    }
   ],
   "source": [
    "bl_total_NREM = bl_hypno.loc[bl_hypno['state'] == 'N2'].duration.sum()\n",
    "bl_total_NREM"
   ]
  },
  {
   "cell_type": "code",
   "execution_count": 63,
   "metadata": {
    "execution": {
     "iopub.execute_input": "2020-12-05T00:10:16.343555Z",
     "iopub.status.busy": "2020-12-05T00:10:16.343190Z",
     "iopub.status.idle": "2020-12-05T00:10:16.364843Z",
     "shell.execute_reply": "2020-12-05T00:10:16.364199Z",
     "shell.execute_reply.started": "2020-12-05T00:10:16.343507Z"
    }
   },
   "outputs": [
    {
     "data": {
      "text/plain": [
       "4388.0"
      ]
     },
     "execution_count": 63,
     "metadata": {},
     "output_type": "execute_result"
    }
   ],
   "source": [
    "rec_total_NREM = rec_hypno.loc[rec_hypno['state'] == 'N2'].duration.sum()\n",
    "rec_total_NREM"
   ]
  },
  {
   "cell_type": "code",
   "execution_count": 64,
   "metadata": {
    "execution": {
     "iopub.execute_input": "2020-12-05T00:10:16.518306Z",
     "iopub.status.busy": "2020-12-05T00:10:16.517945Z",
     "iopub.status.idle": "2020-12-05T00:10:16.536369Z",
     "shell.execute_reply": "2020-12-05T00:10:16.535768Z",
     "shell.execute_reply.started": "2020-12-05T00:10:16.518260Z"
    }
   },
   "outputs": [
    {
     "data": {
      "text/plain": [
       "1.4715548473229179"
      ]
     },
     "execution_count": 64,
     "metadata": {},
     "output_type": "execute_result"
    }
   ],
   "source": [
    "len(spws_bl) / bl_total_NREM"
   ]
  },
  {
   "cell_type": "code",
   "execution_count": 65,
   "metadata": {
    "execution": {
     "iopub.execute_input": "2020-12-05T00:10:16.685476Z",
     "iopub.status.busy": "2020-12-05T00:10:16.685329Z",
     "iopub.status.idle": "2020-12-05T00:10:16.702413Z",
     "shell.execute_reply": "2020-12-05T00:10:16.702085Z",
     "shell.execute_reply.started": "2020-12-05T00:10:16.685457Z"
    }
   },
   "outputs": [
    {
     "data": {
      "text/plain": [
       "1.1412944393801276"
      ]
     },
     "execution_count": 65,
     "metadata": {},
     "output_type": "execute_result"
    }
   ],
   "source": [
    "len(spws_rec) / rec_total_NREM"
   ]
  },
  {
   "cell_type": "code",
   "execution_count": 66,
   "metadata": {
    "execution": {
     "iopub.execute_input": "2020-12-05T00:10:16.854172Z",
     "iopub.status.busy": "2020-12-05T00:10:16.853838Z",
     "iopub.status.idle": "2020-12-05T00:10:16.880598Z",
     "shell.execute_reply": "2020-12-05T00:10:16.880064Z",
     "shell.execute_reply.started": "2020-12-05T00:10:16.854129Z"
    }
   },
   "outputs": [
    {
     "data": {
      "text/plain": [
       "start_time        3398.977382\n",
       "end_time          3399.020182\n",
       "duration             0.055200\n",
       "midpoint          3398.998782\n",
       "sink_amplitude       0.037043\n",
       "sink_integral        1.348274\n",
       "dtype: float64"
      ]
     },
     "execution_count": 66,
     "metadata": {},
     "output_type": "execute_result"
    }
   ],
   "source": [
    "spws_bl.median()"
   ]
  },
  {
   "cell_type": "code",
   "execution_count": 67,
   "metadata": {
    "execution": {
     "iopub.execute_input": "2020-12-05T00:10:17.021111Z",
     "iopub.status.busy": "2020-12-05T00:10:17.020971Z",
     "iopub.status.idle": "2020-12-05T00:10:17.038121Z",
     "shell.execute_reply": "2020-12-05T00:10:17.037797Z",
     "shell.execute_reply.started": "2020-12-05T00:10:17.021094Z"
    }
   },
   "outputs": [
    {
     "data": {
      "text/plain": [
       "start_time        3755.848823\n",
       "end_time          3755.948423\n",
       "duration             0.045200\n",
       "center_time       3755.898623\n",
       "sink_amplitude       0.042923\n",
       "sink_integral        1.427905\n",
       "midpoint          3755.898623\n",
       "dtype: float64"
      ]
     },
     "execution_count": 67,
     "metadata": {},
     "output_type": "execute_result"
    }
   ],
   "source": [
    "spws_rec.median()"
   ]
  },
  {
   "cell_type": "code",
   "execution_count": 68,
   "metadata": {
    "execution": {
     "iopub.execute_input": "2020-12-05T00:10:17.181601Z",
     "iopub.status.busy": "2020-12-05T00:10:17.181325Z",
     "iopub.status.idle": "2020-12-05T00:10:17.200240Z",
     "shell.execute_reply": "2020-12-05T00:10:17.199731Z",
     "shell.execute_reply.started": "2020-12-05T00:10:17.181555Z"
    }
   },
   "outputs": [
    {
     "data": {
      "text/plain": [
       "start_time        3500.968914\n",
       "end_time          3501.033040\n",
       "duration             0.064126\n",
       "midpoint          3501.000977\n",
       "sink_amplitude       0.040982\n",
       "sink_integral        1.698988\n",
       "dtype: float64"
      ]
     },
     "execution_count": 68,
     "metadata": {},
     "output_type": "execute_result"
    }
   ],
   "source": [
    "spws_bl.mean()"
   ]
  },
  {
   "cell_type": "code",
   "execution_count": 69,
   "metadata": {
    "execution": {
     "iopub.execute_input": "2020-12-05T00:10:17.341948Z",
     "iopub.status.busy": "2020-12-05T00:10:17.341490Z",
     "iopub.status.idle": "2020-12-05T00:10:17.360987Z",
     "shell.execute_reply": "2020-12-05T00:10:17.360482Z",
     "shell.execute_reply.started": "2020-12-05T00:10:17.341890Z"
    }
   },
   "outputs": [
    {
     "data": {
      "text/plain": [
       "start_time        3683.488406\n",
       "end_time          3683.541656\n",
       "duration             0.053249\n",
       "center_time       3683.515031\n",
       "sink_amplitude       0.049645\n",
       "sink_integral        1.953256\n",
       "midpoint          3683.515031\n",
       "dtype: float64"
      ]
     },
     "execution_count": 69,
     "metadata": {},
     "output_type": "execute_result"
    }
   ],
   "source": [
    "spws_rec.mean()"
   ]
  },
  {
   "cell_type": "markdown",
   "metadata": {},
   "source": [
    "## Look at feature distributions and correlations"
   ]
  },
  {
   "cell_type": "code",
   "execution_count": 70,
   "metadata": {
    "execution": {
     "iopub.execute_input": "2020-12-05T00:10:27.712181Z",
     "iopub.status.busy": "2020-12-05T00:10:27.711746Z",
     "iopub.status.idle": "2020-12-05T00:10:27.979100Z",
     "shell.execute_reply": "2020-12-05T00:10:27.978481Z",
     "shell.execute_reply.started": "2020-12-05T00:10:27.712125Z"
    }
   },
   "outputs": [
    {
     "data": {
      "application/vnd.jupyter.widget-view+json": {
       "model_id": "be76d7c7519743e1a0d41b391f68c911",
       "version_major": 2,
       "version_minor": 0
      },
      "text/plain": [
       "Canvas(toolbar=Toolbar(toolitems=[('Home', 'Reset original view', 'home', 'home'), ('Back', 'Back to previous …"
      ]
     },
     "metadata": {},
     "output_type": "display_data"
    }
   ],
   "source": [
    "ax = scatter_matrix(spws_bl[[\"duration\", \"sink_amplitude\", \"sink_integral\"]], figsize=(10, 10))"
   ]
  },
  {
   "cell_type": "code",
   "execution_count": 71,
   "metadata": {
    "execution": {
     "iopub.execute_input": "2020-12-05T00:10:31.490568Z",
     "iopub.status.busy": "2020-12-05T00:10:31.490127Z",
     "iopub.status.idle": "2020-12-05T00:10:31.764323Z",
     "shell.execute_reply": "2020-12-05T00:10:31.763573Z",
     "shell.execute_reply.started": "2020-12-05T00:10:31.490511Z"
    }
   },
   "outputs": [
    {
     "data": {
      "application/vnd.jupyter.widget-view+json": {
       "model_id": "668e956d97624ad3a75f41b60df69464",
       "version_major": 2,
       "version_minor": 0
      },
      "text/plain": [
       "Canvas(toolbar=Toolbar(toolitems=[('Home', 'Reset original view', 'home', 'home'), ('Back', 'Back to previous …"
      ]
     },
     "metadata": {},
     "output_type": "display_data"
    }
   ],
   "source": [
    "ax2 = scatter_matrix(spws_bl[[\"duration\", \"sink_amplitude\", \"sink_integral\"]].applymap(np.log), figsize=(10, 10))"
   ]
  },
  {
   "cell_type": "code",
   "execution_count": 141,
   "metadata": {
    "execution": {
     "iopub.execute_input": "2020-12-05T00:19:53.258540Z",
     "iopub.status.busy": "2020-12-05T00:19:53.258133Z",
     "iopub.status.idle": "2020-12-05T00:19:53.516935Z",
     "shell.execute_reply": "2020-12-05T00:19:53.516129Z",
     "shell.execute_reply.started": "2020-12-05T00:19:53.258474Z"
    }
   },
   "outputs": [
    {
     "data": {
      "application/vnd.jupyter.widget-view+json": {
       "model_id": "b2be2b55d5b74631b8a17cf9a5b1b095",
       "version_major": 2,
       "version_minor": 0
      },
      "text/plain": [
       "Canvas(toolbar=Toolbar(toolitems=[('Home', 'Reset original view', 'home', 'home'), ('Back', 'Back to previous …"
      ]
     },
     "metadata": {},
     "output_type": "display_data"
    }
   ],
   "source": [
    "ax = scatter_matrix(spws_rec[[\"duration\", \"sink_amplitude\", \"sink_integral\"]], figsize=(10, 10))"
   ]
  },
  {
   "cell_type": "code",
   "execution_count": 73,
   "metadata": {
    "execution": {
     "iopub.execute_input": "2020-12-05T00:10:54.103296Z",
     "iopub.status.busy": "2020-12-05T00:10:54.102863Z",
     "iopub.status.idle": "2020-12-05T00:10:54.582670Z",
     "shell.execute_reply": "2020-12-05T00:10:54.582023Z",
     "shell.execute_reply.started": "2020-12-05T00:10:54.103239Z"
    }
   },
   "outputs": [
    {
     "name": "stderr",
     "output_type": "stream",
     "text": [
      "/home/gfindlay/miniconda3/envs/ecephys/lib/python3.7/site-packages/pandas/plotting/_matplotlib/tools.py:185: RuntimeWarning: More than 20 figures have been opened. Figures created through the pyplot interface (`matplotlib.pyplot.figure`) are retained until explicitly closed and may consume too much memory. (To control this warning, see the rcParam `figure.max_open_warning`).\n",
      "  fig = plt.figure(**fig_kw)\n"
     ]
    },
    {
     "data": {
      "application/vnd.jupyter.widget-view+json": {
       "model_id": "68bbee9df1a14c0cb30311ae272a3f1c",
       "version_major": 2,
       "version_minor": 0
      },
      "text/plain": [
       "Canvas(toolbar=Toolbar(toolitems=[('Home', 'Reset original view', 'home', 'home'), ('Back', 'Back to previous …"
      ]
     },
     "metadata": {},
     "output_type": "display_data"
    }
   ],
   "source": [
    "ax2 = scatter_matrix(spws_rec[[\"duration\", \"sink_amplitude\", \"sink_integral\"]].applymap(np.log), figsize=(10, 10))"
   ]
  },
  {
   "cell_type": "markdown",
   "metadata": {},
   "source": [
    "## Look at log-normally distributed features"
   ]
  },
  {
   "cell_type": "code",
   "execution_count": 33,
   "metadata": {
    "execution": {
     "iopub.execute_input": "2020-12-05T00:03:49.023315Z",
     "iopub.status.busy": "2020-12-05T00:03:49.022877Z",
     "iopub.status.idle": "2020-12-05T00:03:49.045047Z",
     "shell.execute_reply": "2020-12-05T00:03:49.044292Z",
     "shell.execute_reply.started": "2020-12-05T00:03:49.023257Z"
    }
   },
   "outputs": [],
   "source": [
    "import scipy.stats as stats\n",
    "\n",
    "def plot_qq(bl, rec, var):\n",
    "    fig, axes = plt.subplots(2, 2, figsize=(10, 10))\n",
    "    \n",
    "    stats.probplot(bl[var], dist=\"norm\", plot=axes[0, 0])\n",
    "    axes[0, 0].set_title(\"Baseline {}\".format(var))\n",
    "    stats.probplot(np.log(bl[var]), dist=\"norm\", plot=axes[0, 1])\n",
    "    axes[0, 1].set_title(\"Baseline log {}\".format(var))\n",
    "    stats.probplot(rec[var], dist=\"norm\", plot=axes[1, 0])\n",
    "    axes[1, 0].set_title(\"Recovery {}\".format(var))\n",
    "    stats.probplot(np.log(rec[var]), dist=\"norm\", plot=axes[1, 1])\n",
    "    axes[1, 1].set_title(\"Recovery log {}\".format(var))\n",
    "\n",
    "    plt.show()"
   ]
  },
  {
   "cell_type": "code",
   "execution_count": 36,
   "metadata": {
    "execution": {
     "iopub.execute_input": "2020-12-05T00:03:58.115936Z",
     "iopub.status.busy": "2020-12-05T00:03:58.115538Z",
     "iopub.status.idle": "2020-12-05T00:03:58.199321Z",
     "shell.execute_reply": "2020-12-05T00:03:58.198735Z",
     "shell.execute_reply.started": "2020-12-05T00:03:58.115883Z"
    }
   },
   "outputs": [],
   "source": [
    "from statsmodels.graphics.tsaplots import plot_acf, plot_pacf\n",
    "\n",
    "def plot_acf_pacf(bl, rec, var, lags=None):\n",
    "    fig, axes = plt.subplots(2, 2, figsize=(10, 10))\n",
    "\n",
    "    plot_acf(bl[var], lags=lags, ax=axes[0, 0], title=\"Baseline {} acf\".format(var))\n",
    "    plot_pacf(bl[var], lags=lags, ax=axes[0, 1], title=\"Baseline {} pacf\".format(var))\n",
    "    plot_acf(rec[var], lags=lags, ax=axes[1, 0], title=\"Recovery {} acf\".format(var))\n",
    "    plot_pacf(rec[var], lags=lags, ax=axes[1, 1], title=\"Recovery {} pacf\".format(var))\n",
    "\n",
    "    plt.show()"
   ]
  },
  {
   "cell_type": "code",
   "execution_count": 44,
   "metadata": {
    "execution": {
     "iopub.execute_input": "2020-12-05T00:06:31.459052Z",
     "iopub.status.busy": "2020-12-05T00:06:31.458605Z",
     "iopub.status.idle": "2020-12-05T00:06:31.483005Z",
     "shell.execute_reply": "2020-12-05T00:06:31.482276Z",
     "shell.execute_reply.started": "2020-12-05T00:06:31.458989Z"
    }
   },
   "outputs": [],
   "source": [
    "def plot_vs_time(bl, rec, var):\n",
    "    fig, axes = plt.subplots(2, 1)\n",
    "    bl.plot.scatter(x='midpoint', y=var, ax=axes[0], title='Baseline', s=1)\n",
    "    rec.plot.scatter(x='midpoint', y=var, ax=axes[1], title='Recovery', s=1)\n",
    "    plt.show()"
   ]
  },
  {
   "cell_type": "code",
   "execution_count": 41,
   "metadata": {
    "execution": {
     "iopub.execute_input": "2020-12-05T00:04:33.989961Z",
     "iopub.status.busy": "2020-12-05T00:04:33.989453Z",
     "iopub.status.idle": "2020-12-05T00:04:34.009964Z",
     "shell.execute_reply": "2020-12-05T00:04:34.009203Z",
     "shell.execute_reply.started": "2020-12-05T00:04:33.989883Z"
    }
   },
   "outputs": [],
   "source": [
    "def test_slope(spws, x, y):\n",
    "    return stats.linregress(spws[x], spws[y])"
   ]
  },
  {
   "cell_type": "code",
   "execution_count": 48,
   "metadata": {
    "execution": {
     "iopub.execute_input": "2020-12-05T00:07:53.726100Z",
     "iopub.status.busy": "2020-12-05T00:07:53.725655Z",
     "iopub.status.idle": "2020-12-05T00:07:53.746001Z",
     "shell.execute_reply": "2020-12-05T00:07:53.745235Z",
     "shell.execute_reply.started": "2020-12-05T00:07:53.726043Z"
    }
   },
   "outputs": [],
   "source": [
    "# https://dfrieds.com/math/effect-size.html\n",
    "def interpret_cohens_d(cohens_d):\n",
    "    \"\"\"\n",
    "    Determines text interpretation of effect size given Cohen's d value\n",
    "\n",
    "    :param cohens_d: float of Cohen's d value\n",
    "    :returns: effect_size_interpretation: adjective to describe magnitude of effect size\n",
    "    \"\"\"\n",
    "    if 0<=cohens_d<0.1:\n",
    "        effect_size_interpretation = \"Very Small\"\n",
    "    elif 0.1<=cohens_d<0.35:\n",
    "        effect_size_interpretation = \"Small\"\n",
    "    elif 0.35<=cohens_d<0.65:\n",
    "        effect_size_interpretation = \"Medium\"\n",
    "    elif 0.65<=cohens_d<0.9:\n",
    "        effect_size_interpretation = \"Large\"\n",
    "    elif cohens_d >= 0.9:\n",
    "        effect_size_interpretation = \"Very Large\"\n",
    "    return effect_size_interpretation"
   ]
  },
  {
   "cell_type": "code",
   "execution_count": 49,
   "metadata": {
    "execution": {
     "iopub.execute_input": "2020-12-05T00:07:54.023973Z",
     "iopub.status.busy": "2020-12-05T00:07:54.023535Z",
     "iopub.status.idle": "2020-12-05T00:07:54.043603Z",
     "shell.execute_reply": "2020-12-05T00:07:54.042759Z",
     "shell.execute_reply.started": "2020-12-05T00:07:54.023916Z"
    }
   },
   "outputs": [],
   "source": [
    "def two_sample_data_setup_for_cohens_d(mean_1, mean_2, sample_std_dev_1, sample_std_dev_2):\n",
    "    \"\"\"\n",
    "    Creates two normal distributions of data values. \n",
    "    Calculates differences in values and standard deviation of list of differences.\n",
    "    Calculates Cohen's D - equation used in dependent t-tests\n",
    "\n",
    "    :param mean_1: mean of group one\n",
    "    :param mean_2: mean of group two\n",
    "    :param sample_std_dev_1: sample standard deviation of group one\n",
    "    :param sample_std_dev_2: sample standard deviation of group two\n",
    "    \n",
    "    :returns: values_1, values_2, cohens_d: values for group one, values for group two, Cohen's d\n",
    "    \"\"\"\n",
    "    values_1 = np.random.normal(loc=mean_1, scale=sample_std_dev_1, size=3000)\n",
    "    values_2 = np.random.normal(loc=mean_2, scale=sample_std_dev_2, size=3000)\n",
    "    differences_group_values = np.subtract(values_1, values_2)\n",
    "    std_dev_differences_group_values = np.std(differences_group_values, ddof=1)\n",
    "    cohens_d = round(abs((mean_1 - mean_2)/std_dev_differences_group_values), 2)\n",
    "    return values_1, values_2, cohens_d"
   ]
  },
  {
   "cell_type": "code",
   "execution_count": 145,
   "metadata": {
    "execution": {
     "iopub.execute_input": "2020-12-05T00:25:27.940978Z",
     "iopub.status.busy": "2020-12-05T00:25:27.940660Z",
     "iopub.status.idle": "2020-12-05T00:25:27.962132Z",
     "shell.execute_reply": "2020-12-05T00:25:27.961369Z",
     "shell.execute_reply.started": "2020-12-05T00:25:27.940937Z"
    }
   },
   "outputs": [],
   "source": [
    "import seaborn as sns\n",
    "\n",
    "def visualize_distributions(values_1, values_2, cohens_d, cohens_d_interpretation, xlabel):\n",
    "    \"\"\"\n",
    "    Plots KDE plots of values from values_1 and values_2.\n",
    "    Inserts Cohen's d value and interpretation in title\n",
    "\n",
    "    :param values_1: values in group one\n",
    "    :param values_2: values in group two \n",
    "    :param cohens_d: Cohen's d value\n",
    "    :param cohens_d_interpretation: text to describe magnitude of effect size\n",
    "    :returns: plot figure\n",
    "    \"\"\"\n",
    "    plt.figure(figsize=(10, 8))\n",
    "    sns.distplot(values_1, hist=False, label='Baseline')\n",
    "    sns.distplot(values_2, hist=False, label='Recovery')\n",
    "    plt.xlabel(xlabel, labelpad=13)\n",
    "    plt.ylabel(\"frequency\", labelpad=13)\n",
    "    plt.legend()\n",
    "    plt.title(\"Distribution of Two Groups with {0} Cohen's d of {1}\".format(cohens_d_interpretation, cohens_d), y=1.015, fontsize=22)"
   ]
  },
  {
   "cell_type": "markdown",
   "metadata": {},
   "source": [
    "### Duration"
   ]
  },
  {
   "cell_type": "code",
   "execution_count": 75,
   "metadata": {
    "execution": {
     "iopub.execute_input": "2020-12-05T00:11:28.579422Z",
     "iopub.status.busy": "2020-12-05T00:11:28.578978Z",
     "iopub.status.idle": "2020-12-05T00:11:28.670931Z",
     "shell.execute_reply": "2020-12-05T00:11:28.670337Z",
     "shell.execute_reply.started": "2020-12-05T00:11:28.579364Z"
    }
   },
   "outputs": [
    {
     "data": {
      "application/vnd.jupyter.widget-view+json": {
       "model_id": "c70a9f23dc714edda119864d27769269",
       "version_major": 2,
       "version_minor": 0
      },
      "text/plain": [
       "Canvas(toolbar=Toolbar(toolitems=[('Home', 'Reset original view', 'home', 'home'), ('Back', 'Back to previous …"
      ]
     },
     "metadata": {},
     "output_type": "display_data"
    }
   ],
   "source": [
    "plot_qq(spws_bl, spws_rec, 'duration')"
   ]
  },
  {
   "cell_type": "code",
   "execution_count": 76,
   "metadata": {
    "execution": {
     "iopub.execute_input": "2020-12-05T00:11:31.510509Z",
     "iopub.status.busy": "2020-12-05T00:11:31.510390Z",
     "iopub.status.idle": "2020-12-05T00:11:31.634346Z",
     "shell.execute_reply": "2020-12-05T00:11:31.633766Z",
     "shell.execute_reply.started": "2020-12-05T00:11:31.510492Z"
    }
   },
   "outputs": [
    {
     "data": {
      "application/vnd.jupyter.widget-view+json": {
       "model_id": "05cb885b4f8e46daa165a2ed2e750b04",
       "version_major": 2,
       "version_minor": 0
      },
      "text/plain": [
       "Canvas(toolbar=Toolbar(toolitems=[('Home', 'Reset original view', 'home', 'home'), ('Back', 'Back to previous …"
      ]
     },
     "metadata": {},
     "output_type": "display_data"
    }
   ],
   "source": [
    "plot_acf_pacf(spws_bl, spws_rec, 'duration')"
   ]
  },
  {
   "cell_type": "code",
   "execution_count": 77,
   "metadata": {
    "execution": {
     "iopub.execute_input": "2020-12-05T00:11:31.644725Z",
     "iopub.status.busy": "2020-12-05T00:11:31.644513Z",
     "iopub.status.idle": "2020-12-05T00:11:31.726410Z",
     "shell.execute_reply": "2020-12-05T00:11:31.725803Z",
     "shell.execute_reply.started": "2020-12-05T00:11:31.644703Z"
    }
   },
   "outputs": [
    {
     "data": {
      "application/vnd.jupyter.widget-view+json": {
       "model_id": "b4329b0c12ae4c79b922ea1ac9c458e7",
       "version_major": 2,
       "version_minor": 0
      },
      "text/plain": [
       "Canvas(toolbar=Toolbar(toolitems=[('Home', 'Reset original view', 'home', 'home'), ('Back', 'Back to previous …"
      ]
     },
     "metadata": {},
     "output_type": "display_data"
    }
   ],
   "source": [
    "plot_vs_time(spws_bl, spws_rec, 'duration')"
   ]
  },
  {
   "cell_type": "code",
   "execution_count": 78,
   "metadata": {
    "execution": {
     "iopub.execute_input": "2020-12-05T00:11:34.768340Z",
     "iopub.status.busy": "2020-12-05T00:11:34.768192Z",
     "iopub.status.idle": "2020-12-05T00:11:34.780196Z",
     "shell.execute_reply": "2020-12-05T00:11:34.779829Z",
     "shell.execute_reply.started": "2020-12-05T00:11:34.768323Z"
    }
   },
   "outputs": [
    {
     "data": {
      "text/plain": [
       "LinregressResult(slope=-4.373680046369506e-07, intercept=0.06565694397878907, rvalue=-0.026955067218466595, pvalue=0.05629578191887162, stderr=2.2908671601796585e-07)"
      ]
     },
     "execution_count": 78,
     "metadata": {},
     "output_type": "execute_result"
    }
   ],
   "source": [
    "test_slope(spws_bl, 'midpoint', 'duration')"
   ]
  },
  {
   "cell_type": "code",
   "execution_count": 79,
   "metadata": {
    "execution": {
     "iopub.execute_input": "2020-12-05T00:11:34.798391Z",
     "iopub.status.busy": "2020-12-05T00:11:34.798258Z",
     "iopub.status.idle": "2020-12-05T00:11:34.810101Z",
     "shell.execute_reply": "2020-12-05T00:11:34.809672Z",
     "shell.execute_reply.started": "2020-12-05T00:11:34.798374Z"
    }
   },
   "outputs": [
    {
     "data": {
      "text/plain": [
       "LinregressResult(slope=-6.195370772066635e-07, intercept=0.05553154135535736, rvalue=-0.0408319605972056, pvalue=0.0038518251999304738, stderr=2.1426898169156522e-07)"
      ]
     },
     "execution_count": 79,
     "metadata": {},
     "output_type": "execute_result"
    }
   ],
   "source": [
    "test_slope(spws_rec, 'midpoint', 'duration')"
   ]
  },
  {
   "cell_type": "code",
   "execution_count": 80,
   "metadata": {
    "execution": {
     "iopub.execute_input": "2020-12-05T00:11:34.817077Z",
     "iopub.status.busy": "2020-12-05T00:11:34.816951Z",
     "iopub.status.idle": "2020-12-05T00:11:34.830879Z",
     "shell.execute_reply": "2020-12-05T00:11:34.830559Z",
     "shell.execute_reply.started": "2020-12-05T00:11:34.817061Z"
    }
   },
   "outputs": [
    {
     "data": {
      "text/plain": [
       "Ttest_indResult(statistic=20.65269723280505, pvalue=8.045621452491604e-93)"
      ]
     },
     "execution_count": 80,
     "metadata": {},
     "output_type": "execute_result"
    }
   ],
   "source": [
    "stats.ttest_ind(np.log(spws_bl.duration), np.log(spws_rec.duration), equal_var=False)"
   ]
  },
  {
   "cell_type": "code",
   "execution_count": 146,
   "metadata": {
    "execution": {
     "iopub.execute_input": "2020-12-05T00:25:35.813861Z",
     "iopub.status.busy": "2020-12-05T00:25:35.813391Z",
     "iopub.status.idle": "2020-12-05T00:25:35.897366Z",
     "shell.execute_reply": "2020-12-05T00:25:35.896739Z",
     "shell.execute_reply.started": "2020-12-05T00:25:35.813803Z"
    }
   },
   "outputs": [
    {
     "data": {
      "application/vnd.jupyter.widget-view+json": {
       "model_id": "97458757146b4faab81574392d67c8ba",
       "version_major": 2,
       "version_minor": 0
      },
      "text/plain": [
       "Canvas(toolbar=Toolbar(toolitems=[('Home', 'Reset original view', 'home', 'home'), ('Back', 'Back to previous …"
      ]
     },
     "metadata": {},
     "output_type": "display_data"
    },
    {
     "name": "stderr",
     "output_type": "stream",
     "text": [
      "/home/gfindlay/miniconda3/envs/ecephys/lib/python3.7/site-packages/seaborn/distributions.py:2551: FutureWarning: `distplot` is a deprecated function and will be removed in a future version. Please adapt your code to use either `displot` (a figure-level function with similar flexibility) or `kdeplot` (an axes-level function for kernel density plots).\n",
      "  warnings.warn(msg, FutureWarning)\n",
      "/home/gfindlay/miniconda3/envs/ecephys/lib/python3.7/site-packages/seaborn/distributions.py:2551: FutureWarning: `distplot` is a deprecated function and will be removed in a future version. Please adapt your code to use either `displot` (a figure-level function with similar flexibility) or `kdeplot` (an axes-level function for kernel density plots).\n",
      "  warnings.warn(msg, FutureWarning)\n"
     ]
    }
   ],
   "source": [
    "values_bl, values_rec, cohens_d = two_sample_data_setup_for_cohens_d(np.log(spws_bl.duration).mean(), \n",
    "                                                                     np.log(spws_rec.duration).mean(), \n",
    "                                                                     np.log(spws_bl.duration).std(), \n",
    "                                                                     np.log(spws_rec.duration).std())\n",
    "visualize_distributions(np.log(spws_bl.duration), np.log(spws_rec).duration, cohens_d, interpret_cohens_d(cohens_d), xlabel=\"log transformed sink duration\")\n"
   ]
  },
  {
   "cell_type": "code",
   "execution_count": 82,
   "metadata": {
    "execution": {
     "iopub.execute_input": "2020-12-05T00:11:35.647694Z",
     "iopub.status.busy": "2020-12-05T00:11:35.647327Z",
     "iopub.status.idle": "2020-12-05T00:11:35.669035Z",
     "shell.execute_reply": "2020-12-05T00:11:35.668423Z",
     "shell.execute_reply.started": "2020-12-05T00:11:35.647646Z"
    }
   },
   "outputs": [
    {
     "name": "stdout",
     "output_type": "stream",
     "text": [
      "283.2734566919725 1.4530071033944713e-63 0.05039994931780711\n"
     ]
    }
   ],
   "source": [
    "stat, p, med, tbl = stats.median_test(spws_bl.duration, spws_rec.duration) \n",
    "print(stat, p, med)"
   ]
  },
  {
   "cell_type": "code",
   "execution_count": 83,
   "metadata": {
    "execution": {
     "iopub.execute_input": "2020-12-05T00:11:36.753354Z",
     "iopub.status.busy": "2020-12-05T00:11:36.752912Z",
     "iopub.status.idle": "2020-12-05T00:11:36.773683Z",
     "shell.execute_reply": "2020-12-05T00:11:36.773112Z",
     "shell.execute_reply.started": "2020-12-05T00:11:36.753296Z"
    }
   },
   "outputs": [
    {
     "data": {
      "text/plain": [
       "KruskalResult(statistic=420.0513454828952, pvalue=2.378320153860877e-93)"
      ]
     },
     "execution_count": 83,
     "metadata": {},
     "output_type": "execute_result"
    }
   ],
   "source": [
    "stats.kruskal(spws_bl.duration, spws_rec.duration)"
   ]
  },
  {
   "cell_type": "code",
   "execution_count": 84,
   "metadata": {
    "execution": {
     "iopub.execute_input": "2020-12-05T00:11:37.585997Z",
     "iopub.status.busy": "2020-12-05T00:11:37.585544Z",
     "iopub.status.idle": "2020-12-05T00:11:37.606460Z",
     "shell.execute_reply": "2020-12-05T00:11:37.605694Z",
     "shell.execute_reply.started": "2020-12-05T00:11:37.585941Z"
    }
   },
   "outputs": [
    {
     "data": {
      "text/plain": [
       "MannwhitneyuResult(statistic=9588992.0, pvalue=1.189244412133681e-93)"
      ]
     },
     "execution_count": 84,
     "metadata": {},
     "output_type": "execute_result"
    }
   ],
   "source": [
    "stats.mannwhitneyu(spws_bl.duration, spws_rec.duration)"
   ]
  },
  {
   "cell_type": "markdown",
   "metadata": {},
   "source": [
    "### Sink integral"
   ]
  },
  {
   "cell_type": "code",
   "execution_count": 85,
   "metadata": {
    "execution": {
     "iopub.execute_input": "2020-12-05T00:11:38.826579Z",
     "iopub.status.busy": "2020-12-05T00:11:38.826143Z",
     "iopub.status.idle": "2020-12-05T00:11:38.912178Z",
     "shell.execute_reply": "2020-12-05T00:11:38.911612Z",
     "shell.execute_reply.started": "2020-12-05T00:11:38.826522Z"
    }
   },
   "outputs": [
    {
     "data": {
      "application/vnd.jupyter.widget-view+json": {
       "model_id": "27b2613996154ae790c2c66e9c7d9511",
       "version_major": 2,
       "version_minor": 0
      },
      "text/plain": [
       "Canvas(toolbar=Toolbar(toolitems=[('Home', 'Reset original view', 'home', 'home'), ('Back', 'Back to previous …"
      ]
     },
     "metadata": {},
     "output_type": "display_data"
    }
   ],
   "source": [
    "plot_qq(spws_bl, spws_rec, 'sink_integral')"
   ]
  },
  {
   "cell_type": "code",
   "execution_count": 86,
   "metadata": {
    "execution": {
     "iopub.execute_input": "2020-12-05T00:11:42.049577Z",
     "iopub.status.busy": "2020-12-05T00:11:42.049442Z",
     "iopub.status.idle": "2020-12-05T00:11:42.396450Z",
     "shell.execute_reply": "2020-12-05T00:11:42.395793Z",
     "shell.execute_reply.started": "2020-12-05T00:11:42.049555Z"
    }
   },
   "outputs": [
    {
     "data": {
      "application/vnd.jupyter.widget-view+json": {
       "model_id": "c3ad99cfb8fe4cb489487bb9a3e9129f",
       "version_major": 2,
       "version_minor": 0
      },
      "text/plain": [
       "Canvas(toolbar=Toolbar(toolitems=[('Home', 'Reset original view', 'home', 'home'), ('Back', 'Back to previous …"
      ]
     },
     "metadata": {},
     "output_type": "display_data"
    }
   ],
   "source": [
    "plot_acf_pacf(spws_bl, spws_rec, 'sink_integral')"
   ]
  },
  {
   "cell_type": "code",
   "execution_count": 87,
   "metadata": {
    "execution": {
     "iopub.execute_input": "2020-12-05T00:11:42.423426Z",
     "iopub.status.busy": "2020-12-05T00:11:42.423276Z",
     "iopub.status.idle": "2020-12-05T00:11:42.507822Z",
     "shell.execute_reply": "2020-12-05T00:11:42.507230Z",
     "shell.execute_reply.started": "2020-12-05T00:11:42.423405Z"
    }
   },
   "outputs": [
    {
     "data": {
      "application/vnd.jupyter.widget-view+json": {
       "model_id": "24591bb50b80415eb4e60d9b944f0bcc",
       "version_major": 2,
       "version_minor": 0
      },
      "text/plain": [
       "Canvas(toolbar=Toolbar(toolitems=[('Home', 'Reset original view', 'home', 'home'), ('Back', 'Back to previous …"
      ]
     },
     "metadata": {},
     "output_type": "display_data"
    }
   ],
   "source": [
    "plot_vs_time(spws_bl, spws_rec, 'sink_integral')"
   ]
  },
  {
   "cell_type": "code",
   "execution_count": 88,
   "metadata": {
    "execution": {
     "iopub.execute_input": "2020-12-05T00:11:45.799328Z",
     "iopub.status.busy": "2020-12-05T00:11:45.799207Z",
     "iopub.status.idle": "2020-12-05T00:11:45.811632Z",
     "shell.execute_reply": "2020-12-05T00:11:45.811067Z",
     "shell.execute_reply.started": "2020-12-05T00:11:45.799312Z"
    }
   },
   "outputs": [
    {
     "data": {
      "text/plain": [
       "LinregressResult(slope=-1.5230166424420831e-05, intercept=1.7523089509510328, rvalue=-0.026913521826331065, pvalue=0.05667668732439738, stderr=7.98965303646123e-06)"
      ]
     },
     "execution_count": 88,
     "metadata": {},
     "output_type": "execute_result"
    }
   ],
   "source": [
    "test_slope(spws_bl, 'midpoint', 'sink_integral')"
   ]
  },
  {
   "cell_type": "code",
   "execution_count": 89,
   "metadata": {
    "execution": {
     "iopub.execute_input": "2020-12-05T00:11:45.827941Z",
     "iopub.status.busy": "2020-12-05T00:11:45.827795Z",
     "iopub.status.idle": "2020-12-05T00:11:45.838879Z",
     "shell.execute_reply": "2020-12-05T00:11:45.838443Z",
     "shell.execute_reply.started": "2020-12-05T00:11:45.827922Z"
    }
   },
   "outputs": [
    {
     "data": {
      "text/plain": [
       "LinregressResult(slope=-6.410611209351652e-05, intercept=2.1893922944597723, rvalue=-0.08192378788949, pvalue=6.404693019157619e-09, stderr=1.1022540256987766e-05)"
      ]
     },
     "execution_count": 89,
     "metadata": {},
     "output_type": "execute_result"
    }
   ],
   "source": [
    "test_slope(spws_rec, 'midpoint', 'sink_integral')"
   ]
  },
  {
   "cell_type": "code",
   "execution_count": 142,
   "metadata": {
    "execution": {
     "iopub.execute_input": "2020-12-05T00:23:53.757536Z",
     "iopub.status.busy": "2020-12-05T00:23:53.757039Z",
     "iopub.status.idle": "2020-12-05T00:23:53.783027Z",
     "shell.execute_reply": "2020-12-05T00:23:53.782326Z",
     "shell.execute_reply.started": "2020-12-05T00:23:53.757454Z"
    }
   },
   "outputs": [
    {
     "data": {
      "text/plain": [
       "Ttest_indResult(statistic=-6.380293571775402, pvalue=1.8468545438930396e-10)"
      ]
     },
     "execution_count": 142,
     "metadata": {},
     "output_type": "execute_result"
    }
   ],
   "source": [
    "stats.ttest_ind(np.log(spws_bl.sink_integral), np.log(spws_rec.sink_integral), equal_var=False)"
   ]
  },
  {
   "cell_type": "code",
   "execution_count": 147,
   "metadata": {
    "execution": {
     "iopub.execute_input": "2020-12-05T00:25:43.669807Z",
     "iopub.status.busy": "2020-12-05T00:25:43.669337Z",
     "iopub.status.idle": "2020-12-05T00:25:43.750975Z",
     "shell.execute_reply": "2020-12-05T00:25:43.750345Z",
     "shell.execute_reply.started": "2020-12-05T00:25:43.669749Z"
    }
   },
   "outputs": [
    {
     "data": {
      "application/vnd.jupyter.widget-view+json": {
       "model_id": "a06adf3a86ec42bcb05d6389e6eafd72",
       "version_major": 2,
       "version_minor": 0
      },
      "text/plain": [
       "Canvas(toolbar=Toolbar(toolitems=[('Home', 'Reset original view', 'home', 'home'), ('Back', 'Back to previous …"
      ]
     },
     "metadata": {},
     "output_type": "display_data"
    },
    {
     "name": "stderr",
     "output_type": "stream",
     "text": [
      "/home/gfindlay/miniconda3/envs/ecephys/lib/python3.7/site-packages/seaborn/distributions.py:2551: FutureWarning: `distplot` is a deprecated function and will be removed in a future version. Please adapt your code to use either `displot` (a figure-level function with similar flexibility) or `kdeplot` (an axes-level function for kernel density plots).\n",
      "  warnings.warn(msg, FutureWarning)\n",
      "/home/gfindlay/miniconda3/envs/ecephys/lib/python3.7/site-packages/seaborn/distributions.py:2551: FutureWarning: `distplot` is a deprecated function and will be removed in a future version. Please adapt your code to use either `displot` (a figure-level function with similar flexibility) or `kdeplot` (an axes-level function for kernel density plots).\n",
      "  warnings.warn(msg, FutureWarning)\n"
     ]
    }
   ],
   "source": [
    "values_bl, values_rec, cohens_d = two_sample_data_setup_for_cohens_d(np.log(spws_bl.sink_integral).mean(), \n",
    "                                                                     np.log(spws_rec.sink_integral).mean(), \n",
    "                                                                     np.log(spws_bl.sink_integral).std(), \n",
    "                                                                     np.log(spws_rec.sink_integral).std())\n",
    "visualize_distributions(np.log(spws_bl.sink_integral), np.log(spws_rec).sink_integral, cohens_d, interpret_cohens_d(cohens_d), xlabel=\"log-transformed sink integral\")\n"
   ]
  },
  {
   "cell_type": "code",
   "execution_count": 92,
   "metadata": {
    "execution": {
     "iopub.execute_input": "2020-12-05T00:11:53.469768Z",
     "iopub.status.busy": "2020-12-05T00:11:53.469311Z",
     "iopub.status.idle": "2020-12-05T00:11:53.489949Z",
     "shell.execute_reply": "2020-12-05T00:11:53.489150Z",
     "shell.execute_reply.started": "2020-12-05T00:11:53.469710Z"
    }
   },
   "outputs": [
    {
     "name": "stdout",
     "output_type": "stream",
     "text": [
      "283.2734566919725 1.4530071033944713e-63 0.05039994931780711\n"
     ]
    }
   ],
   "source": [
    "stat, p, med, tbl = stats.median_test(spws_bl.duration, spws_rec.duration) \n",
    "print(stat, p, med)"
   ]
  },
  {
   "cell_type": "code",
   "execution_count": 93,
   "metadata": {
    "execution": {
     "iopub.execute_input": "2020-12-05T00:11:54.781398Z",
     "iopub.status.busy": "2020-12-05T00:11:54.781058Z",
     "iopub.status.idle": "2020-12-05T00:11:54.801360Z",
     "shell.execute_reply": "2020-12-05T00:11:54.800795Z",
     "shell.execute_reply.started": "2020-12-05T00:11:54.781355Z"
    }
   },
   "outputs": [
    {
     "data": {
      "text/plain": [
       "KruskalResult(statistic=420.0513454828952, pvalue=2.378320153860877e-93)"
      ]
     },
     "execution_count": 93,
     "metadata": {},
     "output_type": "execute_result"
    }
   ],
   "source": [
    "stats.kruskal(spws_bl.duration, spws_rec.duration)"
   ]
  },
  {
   "cell_type": "code",
   "execution_count": 94,
   "metadata": {
    "execution": {
     "iopub.execute_input": "2020-12-05T00:11:55.340869Z",
     "iopub.status.busy": "2020-12-05T00:11:55.340606Z",
     "iopub.status.idle": "2020-12-05T00:11:55.360141Z",
     "shell.execute_reply": "2020-12-05T00:11:55.359595Z",
     "shell.execute_reply.started": "2020-12-05T00:11:55.340835Z"
    }
   },
   "outputs": [
    {
     "data": {
      "text/plain": [
       "MannwhitneyuResult(statistic=9588992.0, pvalue=1.189244412133681e-93)"
      ]
     },
     "execution_count": 94,
     "metadata": {},
     "output_type": "execute_result"
    }
   ],
   "source": [
    "stats.mannwhitneyu(spws_bl.duration, spws_rec.duration)"
   ]
  },
  {
   "cell_type": "markdown",
   "metadata": {},
   "source": [
    "## Look at non-normally distributed features"
   ]
  },
  {
   "cell_type": "markdown",
   "metadata": {},
   "source": [
    "### Sink amplitude"
   ]
  },
  {
   "cell_type": "code",
   "execution_count": 95,
   "metadata": {
    "execution": {
     "iopub.execute_input": "2020-12-05T00:12:51.970786Z",
     "iopub.status.busy": "2020-12-05T00:12:51.970337Z",
     "iopub.status.idle": "2020-12-05T00:12:52.100852Z",
     "shell.execute_reply": "2020-12-05T00:12:52.100198Z",
     "shell.execute_reply.started": "2020-12-05T00:12:51.970728Z"
    }
   },
   "outputs": [
    {
     "data": {
      "application/vnd.jupyter.widget-view+json": {
       "model_id": "8f1961917c8f40eb97e06bffb0c70588",
       "version_major": 2,
       "version_minor": 0
      },
      "text/plain": [
       "Canvas(toolbar=Toolbar(toolitems=[('Home', 'Reset original view', 'home', 'home'), ('Back', 'Back to previous …"
      ]
     },
     "metadata": {},
     "output_type": "display_data"
    }
   ],
   "source": [
    "plot_acf_pacf(spws_bl, spws_rec, 'sink_amplitude')"
   ]
  },
  {
   "cell_type": "code",
   "execution_count": 96,
   "metadata": {
    "execution": {
     "iopub.execute_input": "2020-12-05T00:12:55.519146Z",
     "iopub.status.busy": "2020-12-05T00:12:55.519014Z",
     "iopub.status.idle": "2020-12-05T00:12:55.606460Z",
     "shell.execute_reply": "2020-12-05T00:12:55.605801Z",
     "shell.execute_reply.started": "2020-12-05T00:12:55.519128Z"
    }
   },
   "outputs": [
    {
     "data": {
      "application/vnd.jupyter.widget-view+json": {
       "model_id": "86b2b26ae892422fbbeeee7a89fd9c36",
       "version_major": 2,
       "version_minor": 0
      },
      "text/plain": [
       "Canvas(toolbar=Toolbar(toolitems=[('Home', 'Reset original view', 'home', 'home'), ('Back', 'Back to previous …"
      ]
     },
     "metadata": {},
     "output_type": "display_data"
    }
   ],
   "source": [
    "plot_vs_time(spws_bl, spws_rec, 'sink_amplitude')"
   ]
  },
  {
   "cell_type": "code",
   "execution_count": 97,
   "metadata": {
    "execution": {
     "iopub.execute_input": "2020-12-05T00:12:59.118936Z",
     "iopub.status.busy": "2020-12-05T00:12:59.118788Z",
     "iopub.status.idle": "2020-12-05T00:12:59.135709Z",
     "shell.execute_reply": "2020-12-05T00:12:59.135206Z",
     "shell.execute_reply.started": "2020-12-05T00:12:59.118910Z"
    }
   },
   "outputs": [
    {
     "data": {
      "text/plain": [
       "LinregressResult(slope=-1.1055941119353796e-07, intercept=0.04136933781774623, rvalue=-0.017324171830455957, pvalue=0.21996308499049494, stderr=9.012166373781214e-08)"
      ]
     },
     "execution_count": 97,
     "metadata": {},
     "output_type": "execute_result"
    }
   ],
   "source": [
    "test_slope(spws_bl, 'midpoint', 'sink_amplitude')"
   ]
  },
  {
   "cell_type": "code",
   "execution_count": 98,
   "metadata": {
    "execution": {
     "iopub.execute_input": "2020-12-05T00:12:59.137797Z",
     "iopub.status.busy": "2020-12-05T00:12:59.137671Z",
     "iopub.status.idle": "2020-12-05T00:12:59.150465Z",
     "shell.execute_reply": "2020-12-05T00:12:59.150044Z",
     "shell.execute_reply.started": "2020-12-05T00:12:59.137780Z"
    }
   },
   "outputs": [
    {
     "data": {
      "text/plain": [
       "LinregressResult(slope=-9.925463936367327e-07, intercept=0.05330111781665446, rvalue=-0.10638483069404586, pvalue=4.4162680965860146e-14, stderr=1.311155070674533e-07)"
      ]
     },
     "execution_count": 98,
     "metadata": {},
     "output_type": "execute_result"
    }
   ],
   "source": [
    "test_slope(spws_rec, 'midpoint', 'sink_amplitude')"
   ]
  },
  {
   "cell_type": "code",
   "execution_count": 99,
   "metadata": {
    "execution": {
     "iopub.execute_input": "2020-12-05T00:13:03.830718Z",
     "iopub.status.busy": "2020-12-05T00:13:03.830276Z",
     "iopub.status.idle": "2020-12-05T00:13:03.850562Z",
     "shell.execute_reply": "2020-12-05T00:13:03.849984Z",
     "shell.execute_reply.started": "2020-12-05T00:13:03.830661Z"
    }
   },
   "outputs": [
    {
     "data": {
      "text/plain": [
       "MannwhitneyuResult(statistic=8606885.0, pvalue=4.135189919070619e-164)"
      ]
     },
     "execution_count": 99,
     "metadata": {},
     "output_type": "execute_result"
    }
   ],
   "source": [
    "stats.mannwhitneyu(spws_bl.sink_amplitude, spws_rec.sink_amplitude)"
   ]
  },
  {
   "cell_type": "code",
   "execution_count": 140,
   "metadata": {
    "execution": {
     "iopub.execute_input": "2020-12-05T00:17:49.827898Z",
     "iopub.status.busy": "2020-12-05T00:17:49.827460Z",
     "iopub.status.idle": "2020-12-05T00:17:49.914546Z",
     "shell.execute_reply": "2020-12-05T00:17:49.913948Z",
     "shell.execute_reply.started": "2020-12-05T00:17:49.827841Z"
    }
   },
   "outputs": [
    {
     "data": {
      "application/vnd.jupyter.widget-view+json": {
       "model_id": "87254520fb5d4736b83aeb2f0126e0c6",
       "version_major": 2,
       "version_minor": 0
      },
      "text/plain": [
       "Canvas(toolbar=Toolbar(toolitems=[('Home', 'Reset original view', 'home', 'home'), ('Back', 'Back to previous …"
      ]
     },
     "metadata": {},
     "output_type": "display_data"
    },
    {
     "name": "stderr",
     "output_type": "stream",
     "text": [
      "/home/gfindlay/miniconda3/envs/ecephys/lib/python3.7/site-packages/seaborn/distributions.py:2551: FutureWarning: `distplot` is a deprecated function and will be removed in a future version. Please adapt your code to use either `displot` (a figure-level function with similar flexibility) or `kdeplot` (an axes-level function for kernel density plots).\n",
      "  warnings.warn(msg, FutureWarning)\n",
      "/home/gfindlay/miniconda3/envs/ecephys/lib/python3.7/site-packages/seaborn/distributions.py:2551: FutureWarning: `distplot` is a deprecated function and will be removed in a future version. Please adapt your code to use either `displot` (a figure-level function with similar flexibility) or `kdeplot` (an axes-level function for kernel density plots).\n",
      "  warnings.warn(msg, FutureWarning)\n"
     ]
    },
    {
     "data": {
      "text/plain": [
       "<matplotlib.legend.Legend at 0x7f9f5ca82890>"
      ]
     },
     "execution_count": 140,
     "metadata": {},
     "output_type": "execute_result"
    }
   ],
   "source": [
    "plt.figure(figsize=(10, 8))\n",
    "sns.distplot(spws_bl.sink_amplitude, hist=False, label='Baseline')\n",
    "sns.distplot(spws_rec.sink_amplitude, hist=False, label='Recovery')\n",
    "plt.xlabel(\"Sink ampliutde (mA/mm)\", labelpad=13)\n",
    "plt.ylabel(\"frequency\", labelpad=13)\n",
    "plt.legend()"
   ]
  },
  {
   "cell_type": "markdown",
   "metadata": {},
   "source": [
    "## Look at spw density"
   ]
  },
  {
   "cell_type": "code",
   "execution_count": 101,
   "metadata": {
    "execution": {
     "iopub.execute_input": "2020-12-05T00:13:29.180279Z",
     "iopub.status.busy": "2020-12-05T00:13:29.179823Z",
     "iopub.status.idle": "2020-12-05T00:13:29.247872Z",
     "shell.execute_reply": "2020-12-05T00:13:29.247289Z",
     "shell.execute_reply.started": "2020-12-05T00:13:29.180222Z"
    }
   },
   "outputs": [
    {
     "data": {
      "application/vnd.jupyter.widget-view+json": {
       "model_id": "cc63f101842e438da76ee33b9675b22a",
       "version_major": 2,
       "version_minor": 0
      },
      "text/plain": [
       "Canvas(toolbar=Toolbar(toolitems=[('Home', 'Reset original view', 'home', 'home'), ('Back', 'Back to previous …"
      ]
     },
     "metadata": {},
     "output_type": "display_data"
    },
    {
     "name": "stderr",
     "output_type": "stream",
     "text": [
      "/home/gfindlay/miniconda3/envs/ecephys/lib/python3.7/site-packages/seaborn/distributions.py:2551: FutureWarning: `distplot` is a deprecated function and will be removed in a future version. Please adapt your code to use either `displot` (a figure-level function with similar flexibility) or `kdeplot` (an axes-level function for kernel density plots).\n",
      "  warnings.warn(msg, FutureWarning)\n",
      "/home/gfindlay/miniconda3/envs/ecephys/lib/python3.7/site-packages/seaborn/distributions.py:2551: FutureWarning: `distplot` is a deprecated function and will be removed in a future version. Please adapt your code to use either `displot` (a figure-level function with similar flexibility) or `kdeplot` (an axes-level function for kernel density plots).\n",
      "  warnings.warn(msg, FutureWarning)\n"
     ]
    },
    {
     "data": {
      "text/plain": [
       "<matplotlib.legend.Legend at 0x7f9f5d677510>"
      ]
     },
     "execution_count": 101,
     "metadata": {},
     "output_type": "execute_result"
    }
   ],
   "source": [
    "plt.figure(figsize=(10, 8))\n",
    "sns.distplot(bl_hypno[bl_hypno.state == \"N2\"].duration, hist=False, label='Baseline')\n",
    "sns.distplot(rec_hypno[rec_hypno.state == \"N2\"].duration, hist=False, label='Recovery')\n",
    "plt.xlabel(\"NREM Episode Duration\", labelpad=13)\n",
    "plt.ylabel(\"frequency\", labelpad=13)\n",
    "plt.legend()"
   ]
  },
  {
   "cell_type": "code",
   "execution_count": 104,
   "metadata": {
    "execution": {
     "iopub.execute_input": "2020-12-05T00:14:05.604238Z",
     "iopub.status.busy": "2020-12-05T00:14:05.603785Z",
     "iopub.status.idle": "2020-12-05T00:14:05.625026Z",
     "shell.execute_reply": "2020-12-05T00:14:05.624287Z",
     "shell.execute_reply.started": "2020-12-05T00:14:05.604181Z"
    }
   },
   "outputs": [],
   "source": [
    "def get_spw_density(hypno, spws):  \n",
    "    N2 = hypno[hypno.state == \"N2\"]\n",
    "    N2['n_spws'] = N2.apply(lambda episode: np.sum(np.logical_and(spws.midpoint >= episode.start_time, spws.midpoint <= episode.end_time)), axis=1)\n",
    "    N2['spw_density'] = N2.apply(lambda episode: episode.n_spws / episode.duration, axis=1)\n",
    "    return N2"
   ]
  },
  {
   "cell_type": "code",
   "execution_count": 105,
   "metadata": {
    "execution": {
     "iopub.execute_input": "2020-12-05T00:14:06.397234Z",
     "iopub.status.busy": "2020-12-05T00:14:06.396796Z",
     "iopub.status.idle": "2020-12-05T00:14:06.484344Z",
     "shell.execute_reply": "2020-12-05T00:14:06.483756Z",
     "shell.execute_reply.started": "2020-12-05T00:14:06.397176Z"
    }
   },
   "outputs": [
    {
     "data": {
      "application/vnd.jupyter.widget-view+json": {
       "model_id": "155981a2e8814e92b935d284ac2b7e77",
       "version_major": 2,
       "version_minor": 0
      },
      "text/plain": [
       "Canvas(toolbar=Toolbar(toolitems=[('Home', 'Reset original view', 'home', 'home'), ('Back', 'Back to previous …"
      ]
     },
     "metadata": {},
     "output_type": "display_data"
    },
    {
     "name": "stdout",
     "output_type": "stream",
     "text": [
      "Mean spw density:  1.140861231105374 \n",
      " Median spw density:  1.181469298245614\n"
     ]
    }
   ],
   "source": [
    "bl_density = get_spw_density(bl_hypno, spws_bl)\n",
    "\n",
    "plt.figure()\n",
    "ax = bl_density.spw_density.plot.hist(bins=20)\n",
    "\n",
    "print(\"Mean spw density: \", bl_density.spw_density.mean(), \"\\n\", \"Median spw density: \", bl_density.spw_density.median())"
   ]
  },
  {
   "cell_type": "code",
   "execution_count": 106,
   "metadata": {
    "execution": {
     "iopub.execute_input": "2020-12-05T00:14:37.498235Z",
     "iopub.status.busy": "2020-12-05T00:14:37.497780Z",
     "iopub.status.idle": "2020-12-05T00:14:37.551154Z",
     "shell.execute_reply": "2020-12-05T00:14:37.550563Z",
     "shell.execute_reply.started": "2020-12-05T00:14:37.498176Z"
    }
   },
   "outputs": [
    {
     "data": {
      "application/vnd.jupyter.widget-view+json": {
       "model_id": "8d90768f14614f8891f06bada4716473",
       "version_major": 2,
       "version_minor": 0
      },
      "text/plain": [
       "Canvas(toolbar=Toolbar(toolitems=[('Home', 'Reset original view', 'home', 'home'), ('Back', 'Back to previous …"
      ]
     },
     "metadata": {},
     "output_type": "display_data"
    }
   ],
   "source": [
    "ax = bl_density.plot(x='start_time', y='spw_density')"
   ]
  },
  {
   "cell_type": "code",
   "execution_count": 107,
   "metadata": {
    "execution": {
     "iopub.execute_input": "2020-12-05T00:14:45.625662Z",
     "iopub.status.busy": "2020-12-05T00:14:45.625211Z",
     "iopub.status.idle": "2020-12-05T00:14:45.645196Z",
     "shell.execute_reply": "2020-12-05T00:14:45.644634Z",
     "shell.execute_reply.started": "2020-12-05T00:14:45.625605Z"
    }
   },
   "outputs": [
    {
     "data": {
      "text/plain": [
       "LinregressResult(slope=-8.02965520318897e-07, intercept=1.1436586658025978, rvalue=-0.007193029090727634, pvalue=0.9588302242229545, stderr=1.548004336418494e-05)"
      ]
     },
     "execution_count": 107,
     "metadata": {},
     "output_type": "execute_result"
    }
   ],
   "source": [
    "test_slope(bl_density, 'start_time', 'spw_density')"
   ]
  },
  {
   "cell_type": "code",
   "execution_count": 108,
   "metadata": {
    "execution": {
     "iopub.execute_input": "2020-12-05T00:14:48.544656Z",
     "iopub.status.busy": "2020-12-05T00:14:48.544429Z",
     "iopub.status.idle": "2020-12-05T00:14:48.625923Z",
     "shell.execute_reply": "2020-12-05T00:14:48.625279Z",
     "shell.execute_reply.started": "2020-12-05T00:14:48.544627Z"
    }
   },
   "outputs": [
    {
     "data": {
      "application/vnd.jupyter.widget-view+json": {
       "model_id": "3e4de82be9e1476fab2588021951bbdd",
       "version_major": 2,
       "version_minor": 0
      },
      "text/plain": [
       "Canvas(toolbar=Toolbar(toolitems=[('Home', 'Reset original view', 'home', 'home'), ('Back', 'Back to previous …"
      ]
     },
     "metadata": {},
     "output_type": "display_data"
    },
    {
     "name": "stdout",
     "output_type": "stream",
     "text": [
      "Mean spw density:  0.8953429318500221 \n",
      " Median spw density:  0.9666666666666667\n"
     ]
    }
   ],
   "source": [
    "rec_density = get_spw_density(rec_hypno, spws_rec)\n",
    "\n",
    "plt.figure()\n",
    "ax = rec_density.spw_density.plot.hist(bins=20)\n",
    "\n",
    "print(\"Mean spw density: \", rec_density.spw_density.mean(), \"\\n\", \"Median spw density: \", rec_density.spw_density.median())"
   ]
  },
  {
   "cell_type": "code",
   "execution_count": 109,
   "metadata": {
    "execution": {
     "iopub.execute_input": "2020-12-05T00:14:52.161357Z",
     "iopub.status.busy": "2020-12-05T00:14:52.160921Z",
     "iopub.status.idle": "2020-12-05T00:14:52.211932Z",
     "shell.execute_reply": "2020-12-05T00:14:52.211356Z",
     "shell.execute_reply.started": "2020-12-05T00:14:52.161302Z"
    }
   },
   "outputs": [
    {
     "data": {
      "application/vnd.jupyter.widget-view+json": {
       "model_id": "a7a4fb2e1b2a455880c59e7c847d5e31",
       "version_major": 2,
       "version_minor": 0
      },
      "text/plain": [
       "Canvas(toolbar=Toolbar(toolitems=[('Home', 'Reset original view', 'home', 'home'), ('Back', 'Back to previous …"
      ]
     },
     "metadata": {},
     "output_type": "display_data"
    },
    {
     "data": {
      "text/plain": [
       "<AxesSubplot:>"
      ]
     },
     "execution_count": 109,
     "metadata": {},
     "output_type": "execute_result"
    }
   ],
   "source": [
    "plt.figure()\n",
    "rec_density.boxplot(column=['spw_density'])"
   ]
  },
  {
   "cell_type": "code",
   "execution_count": 110,
   "metadata": {
    "execution": {
     "iopub.execute_input": "2020-12-05T00:14:54.001364Z",
     "iopub.status.busy": "2020-12-05T00:14:54.000991Z",
     "iopub.status.idle": "2020-12-05T00:14:54.050788Z",
     "shell.execute_reply": "2020-12-05T00:14:54.050210Z",
     "shell.execute_reply.started": "2020-12-05T00:14:54.001318Z"
    }
   },
   "outputs": [
    {
     "data": {
      "application/vnd.jupyter.widget-view+json": {
       "model_id": "9fee21fb930245aaa5559524692fd496",
       "version_major": 2,
       "version_minor": 0
      },
      "text/plain": [
       "Canvas(toolbar=Toolbar(toolitems=[('Home', 'Reset original view', 'home', 'home'), ('Back', 'Back to previous …"
      ]
     },
     "metadata": {},
     "output_type": "display_data"
    }
   ],
   "source": [
    "ax = rec_density.plot(x='start_time', y='spw_density')"
   ]
  },
  {
   "cell_type": "code",
   "execution_count": 111,
   "metadata": {
    "execution": {
     "iopub.execute_input": "2020-12-05T00:14:55.249785Z",
     "iopub.status.busy": "2020-12-05T00:14:55.249388Z",
     "iopub.status.idle": "2020-12-05T00:14:55.270192Z",
     "shell.execute_reply": "2020-12-05T00:14:55.269612Z",
     "shell.execute_reply.started": "2020-12-05T00:14:55.249736Z"
    }
   },
   "outputs": [
    {
     "data": {
      "text/plain": [
       "LinregressResult(slope=-2.3658373107345113e-06, intercept=0.9034761536944171, rvalue=-0.0197433718568858, pvalue=0.8952043934432364, stderr=1.785963725509652e-05)"
      ]
     },
     "execution_count": 111,
     "metadata": {},
     "output_type": "execute_result"
    }
   ],
   "source": [
    "test_slope(rec_density, 'start_time', 'spw_density')"
   ]
  },
  {
   "cell_type": "code",
   "execution_count": 112,
   "metadata": {
    "execution": {
     "iopub.execute_input": "2020-12-05T00:14:56.152455Z",
     "iopub.status.busy": "2020-12-05T00:14:56.152206Z",
     "iopub.status.idle": "2020-12-05T00:14:56.238782Z",
     "shell.execute_reply": "2020-12-05T00:14:56.236901Z",
     "shell.execute_reply.started": "2020-12-05T00:14:56.152423Z"
    }
   },
   "outputs": [
    {
     "data": {
      "application/vnd.jupyter.widget-view+json": {
       "model_id": "bc1abb24267b44b89a3d4a613b39162a",
       "version_major": 2,
       "version_minor": 0
      },
      "text/plain": [
       "Canvas(toolbar=Toolbar(toolitems=[('Home', 'Reset original view', 'home', 'home'), ('Back', 'Back to previous …"
      ]
     },
     "metadata": {},
     "output_type": "display_data"
    }
   ],
   "source": [
    "plot_qq(bl_density, rec_density, 'spw_density')"
   ]
  },
  {
   "cell_type": "code",
   "execution_count": 113,
   "metadata": {
    "execution": {
     "iopub.execute_input": "2020-12-05T00:15:01.150163Z",
     "iopub.status.busy": "2020-12-05T00:15:01.145409Z",
     "iopub.status.idle": "2020-12-05T00:15:01.172265Z",
     "shell.execute_reply": "2020-12-05T00:15:01.171680Z",
     "shell.execute_reply.started": "2020-12-05T00:15:01.149995Z"
    }
   },
   "outputs": [
    {
     "data": {
      "text/plain": [
       "Ttest_indResult(statistic=4.986017842510567, pvalue=2.81748183770641e-06)"
      ]
     },
     "execution_count": 113,
     "metadata": {},
     "output_type": "execute_result"
    }
   ],
   "source": [
    "stats.ttest_ind(bl_density.spw_density, rec_density.spw_density, equal_var=False)"
   ]
  },
  {
   "cell_type": "code",
   "execution_count": 114,
   "metadata": {
    "execution": {
     "iopub.execute_input": "2020-12-05T00:15:01.544729Z",
     "iopub.status.busy": "2020-12-05T00:15:01.544432Z",
     "iopub.status.idle": "2020-12-05T00:15:01.625863Z",
     "shell.execute_reply": "2020-12-05T00:15:01.625212Z",
     "shell.execute_reply.started": "2020-12-05T00:15:01.544690Z"
    }
   },
   "outputs": [
    {
     "data": {
      "application/vnd.jupyter.widget-view+json": {
       "model_id": "e01fa576a0a74b2a91a596512a14b2b6",
       "version_major": 2,
       "version_minor": 0
      },
      "text/plain": [
       "Canvas(toolbar=Toolbar(toolitems=[('Home', 'Reset original view', 'home', 'home'), ('Back', 'Back to previous …"
      ]
     },
     "metadata": {},
     "output_type": "display_data"
    },
    {
     "name": "stderr",
     "output_type": "stream",
     "text": [
      "/home/gfindlay/miniconda3/envs/ecephys/lib/python3.7/site-packages/seaborn/distributions.py:2551: FutureWarning: `distplot` is a deprecated function and will be removed in a future version. Please adapt your code to use either `displot` (a figure-level function with similar flexibility) or `kdeplot` (an axes-level function for kernel density plots).\n",
      "  warnings.warn(msg, FutureWarning)\n",
      "/home/gfindlay/miniconda3/envs/ecephys/lib/python3.7/site-packages/seaborn/distributions.py:2551: FutureWarning: `distplot` is a deprecated function and will be removed in a future version. Please adapt your code to use either `displot` (a figure-level function with similar flexibility) or `kdeplot` (an axes-level function for kernel density plots).\n",
      "  warnings.warn(msg, FutureWarning)\n"
     ]
    }
   ],
   "source": [
    "values_bl, values_rec, cohens_d = two_sample_data_setup_for_cohens_d(bl_density.spw_density.mean(), \n",
    "                                                                     rec_density.spw_density.mean(), \n",
    "                                                                     bl_density.spw_density.std(), \n",
    "                                                                     rec_density.spw_density.std())\n",
    "visualize_distributions(bl_density.spw_density, rec_density.spw_density, cohens_d, interpret_cohens_d(cohens_d))\n"
   ]
  },
  {
   "cell_type": "code",
   "execution_count": 115,
   "metadata": {
    "execution": {
     "iopub.execute_input": "2020-12-05T00:15:02.077550Z",
     "iopub.status.busy": "2020-12-05T00:15:02.077420Z",
     "iopub.status.idle": "2020-12-05T00:15:02.094764Z",
     "shell.execute_reply": "2020-12-05T00:15:02.093994Z",
     "shell.execute_reply.started": "2020-12-05T00:15:02.077532Z"
    }
   },
   "outputs": [
    {
     "name": "stdout",
     "output_type": "stream",
     "text": [
      "12.236767448508168 0.00046856936917419225 1.0416666666666667\n"
     ]
    }
   ],
   "source": [
    "stat, p, med, tbl = stats.median_test(bl_density.spw_density, rec_density.spw_density) \n",
    "print(stat, p, med)"
   ]
  },
  {
   "cell_type": "code",
   "execution_count": 116,
   "metadata": {
    "execution": {
     "iopub.execute_input": "2020-12-05T00:15:02.536864Z",
     "iopub.status.busy": "2020-12-05T00:15:02.536497Z",
     "iopub.status.idle": "2020-12-05T00:15:02.556950Z",
     "shell.execute_reply": "2020-12-05T00:15:02.556364Z",
     "shell.execute_reply.started": "2020-12-05T00:15:02.536817Z"
    }
   },
   "outputs": [
    {
     "data": {
      "text/plain": [
       "KruskalResult(statistic=20.013423367815168, pvalue=7.690043496790038e-06)"
      ]
     },
     "execution_count": 116,
     "metadata": {},
     "output_type": "execute_result"
    }
   ],
   "source": [
    "stats.kruskal(bl_density.spw_density, rec_density.spw_density)"
   ]
  },
  {
   "cell_type": "code",
   "execution_count": 117,
   "metadata": {
    "execution": {
     "iopub.execute_input": "2020-12-05T00:15:03.777538Z",
     "iopub.status.busy": "2020-12-05T00:15:03.777199Z",
     "iopub.status.idle": "2020-12-05T00:15:03.796649Z",
     "shell.execute_reply": "2020-12-05T00:15:03.796079Z",
     "shell.execute_reply.started": "2020-12-05T00:15:03.777494Z"
    }
   },
   "outputs": [
    {
     "data": {
      "text/plain": [
       "MannwhitneyuResult(statistic=612.0, pvalue=3.906741821608331e-06)"
      ]
     },
     "execution_count": 117,
     "metadata": {},
     "output_type": "execute_result"
    }
   ],
   "source": [
    "stats.mannwhitneyu(bl_density.spw_density, rec_density.spw_density)"
   ]
  },
  {
   "cell_type": "markdown",
   "metadata": {},
   "source": [
    "## Epoched spw density"
   ]
  },
  {
   "cell_type": "code",
   "execution_count": 122,
   "metadata": {
    "execution": {
     "iopub.execute_input": "2020-12-05T00:15:24.485572Z",
     "iopub.status.busy": "2020-12-05T00:15:24.485137Z",
     "iopub.status.idle": "2020-12-05T00:15:24.512350Z",
     "shell.execute_reply": "2020-12-05T00:15:24.511607Z",
     "shell.execute_reply.started": "2020-12-05T00:15:24.485516Z"
    }
   },
   "outputs": [],
   "source": [
    "# https://stackoverflow.com/questions/21160134/flatten-a-column-with-value-of-type-list-while-duplicating-the-other-columns-va\n",
    "def unnest_df(df, col, reset_index=False):\n",
    "    import pandas as pd\n",
    "    col_flat = pd.DataFrame([[i, x] \n",
    "                       for i, y in df[col].apply(list).iteritems() \n",
    "                           for x in y], columns=['I', col])\n",
    "    col_flat = col_flat.set_index('I')\n",
    "    df = df.drop(col, 1)\n",
    "    df = df.merge(col_flat, left_index=True, right_index=True)\n",
    "    if reset_index:\n",
    "        df = df.reset_index(drop=True)\n",
    "    return df\n",
    "\n",
    "def _get_spw_density(hypno, spws, epoch_length):  \n",
    "    N2 = hypno[np.logical_and(hypno.state == \"N2\", hypno.duration >= epoch_length)]\n",
    "    N2['epoch_start_times'] = N2.apply(lambda episode: np.arange(episode.start_time, episode.end_time - epoch_length, epoch_length), axis=1)\n",
    "    N2 = unnest_df(N2, 'epoch_start_times')\n",
    "    N2 = N2.rename(columns={'end_time': 'episode_end_time', 'start_time': 'epsiode_start_time', 'duration': 'episode_duration', 'epoch_start_times': 'start_time'})\n",
    "    N2['end_time'] = N2.apply(lambda epoch: epoch.start_time + epoch_length, axis=1)\n",
    "    N2['n_spws'] = N2.apply(lambda epoch: np.sum(np.logical_and(spws.midpoint >= epoch.start_time, spws.midpoint <= epoch.end_time)), axis=1)\n",
    "    N2['spw_density'] = N2.apply(lambda epoch: epoch.n_spws / epoch_length, axis=1)\n",
    "    return N2"
   ]
  },
  {
   "cell_type": "code",
   "execution_count": 123,
   "metadata": {
    "execution": {
     "iopub.execute_input": "2020-12-05T00:15:24.724057Z",
     "iopub.status.busy": "2020-12-05T00:15:24.723695Z",
     "iopub.status.idle": "2020-12-05T00:15:24.743225Z",
     "shell.execute_reply": "2020-12-05T00:15:24.742506Z",
     "shell.execute_reply.started": "2020-12-05T00:15:24.724010Z"
    }
   },
   "outputs": [],
   "source": [
    "epoch_length = 10"
   ]
  },
  {
   "cell_type": "code",
   "execution_count": 124,
   "metadata": {
    "execution": {
     "iopub.execute_input": "2020-12-05T00:15:25.206130Z",
     "iopub.status.busy": "2020-12-05T00:15:25.205808Z",
     "iopub.status.idle": "2020-12-05T00:15:25.413039Z",
     "shell.execute_reply": "2020-12-05T00:15:25.412437Z",
     "shell.execute_reply.started": "2020-12-05T00:15:25.206085Z"
    }
   },
   "outputs": [
    {
     "data": {
      "application/vnd.jupyter.widget-view+json": {
       "model_id": "86fa849b34e3431b87df9ba1c2acc62d",
       "version_major": 2,
       "version_minor": 0
      },
      "text/plain": [
       "Canvas(toolbar=Toolbar(toolitems=[('Home', 'Reset original view', 'home', 'home'), ('Back', 'Back to previous …"
      ]
     },
     "metadata": {},
     "output_type": "display_data"
    },
    {
     "name": "stdout",
     "output_type": "stream",
     "text": [
      "Mean spw density:  1.1983818770226535 \n",
      " Median spw density:  1.2 \n",
      " Number of spws:  309\n"
     ]
    }
   ],
   "source": [
    "bl_density = _get_spw_density(bl_hypno, spws_bl, epoch_length)\n",
    "\n",
    "plt.figure()\n",
    "ax = bl_density.spw_density.plot.hist()\n",
    "\n",
    "print(\"Mean spw density: \", bl_density.spw_density.mean(), \"\\n\", \"Median spw density: \", bl_density.spw_density.median(), \"\\n\", \"Number of spws: \", len(bl_density))"
   ]
  },
  {
   "cell_type": "code",
   "execution_count": 125,
   "metadata": {
    "execution": {
     "iopub.execute_input": "2020-12-05T00:15:29.958991Z",
     "iopub.status.busy": "2020-12-05T00:15:29.958561Z",
     "iopub.status.idle": "2020-12-05T00:15:30.008777Z",
     "shell.execute_reply": "2020-12-05T00:15:30.008207Z",
     "shell.execute_reply.started": "2020-12-05T00:15:29.958935Z"
    }
   },
   "outputs": [
    {
     "data": {
      "application/vnd.jupyter.widget-view+json": {
       "model_id": "6ba682a4c21e418690433684d1f042ef",
       "version_major": 2,
       "version_minor": 0
      },
      "text/plain": [
       "Canvas(toolbar=Toolbar(toolitems=[('Home', 'Reset original view', 'home', 'home'), ('Back', 'Back to previous …"
      ]
     },
     "metadata": {},
     "output_type": "display_data"
    }
   ],
   "source": [
    "ax = bl_density.plot(x='start_time', y='spw_density')"
   ]
  },
  {
   "cell_type": "code",
   "execution_count": 126,
   "metadata": {
    "execution": {
     "iopub.execute_input": "2020-12-05T00:15:33.834253Z",
     "iopub.status.busy": "2020-12-05T00:15:33.833814Z",
     "iopub.status.idle": "2020-12-05T00:15:33.852901Z",
     "shell.execute_reply": "2020-12-05T00:15:33.852055Z",
     "shell.execute_reply.started": "2020-12-05T00:15:33.834196Z"
    }
   },
   "outputs": [
    {
     "data": {
      "text/plain": [
       "LinregressResult(slope=-1.6610652263795806e-05, intercept=1.2579259015967363, rvalue=-0.0894132622875766, pvalue=0.11676103251782523, stderr=1.0560209827671667e-05)"
      ]
     },
     "execution_count": 126,
     "metadata": {},
     "output_type": "execute_result"
    }
   ],
   "source": [
    "test_slope(bl_density, 'start_time', 'spw_density')"
   ]
  },
  {
   "cell_type": "code",
   "execution_count": 127,
   "metadata": {
    "execution": {
     "iopub.execute_input": "2020-12-05T00:15:36.722650Z",
     "iopub.status.busy": "2020-12-05T00:15:36.722212Z",
     "iopub.status.idle": "2020-12-05T00:15:36.982447Z",
     "shell.execute_reply": "2020-12-05T00:15:36.981874Z",
     "shell.execute_reply.started": "2020-12-05T00:15:36.722594Z"
    }
   },
   "outputs": [
    {
     "data": {
      "application/vnd.jupyter.widget-view+json": {
       "model_id": "ca9ea46bb40d4f0d99277f1263def74d",
       "version_major": 2,
       "version_minor": 0
      },
      "text/plain": [
       "Canvas(toolbar=Toolbar(toolitems=[('Home', 'Reset original view', 'home', 'home'), ('Back', 'Back to previous …"
      ]
     },
     "metadata": {},
     "output_type": "display_data"
    },
    {
     "name": "stdout",
     "output_type": "stream",
     "text": [
      "Mean spw density:  1.0744471744471744 \n",
      " Median spw density:  1.1 \n",
      " Number of spws:  407\n"
     ]
    }
   ],
   "source": [
    "rec_density = _get_spw_density(rec_hypno, spws_rec, epoch_length)\n",
    "\n",
    "plt.figure()\n",
    "ax = rec_density.spw_density.plot.hist()\n",
    "\n",
    "print(\"Mean spw density: \", rec_density.spw_density.mean(), \"\\n\", \"Median spw density: \", rec_density.spw_density.median(), \"\\n\", \"Number of spws: \", len(rec_density))"
   ]
  },
  {
   "cell_type": "code",
   "execution_count": 128,
   "metadata": {
    "execution": {
     "iopub.execute_input": "2020-12-05T00:15:36.983299Z",
     "iopub.status.busy": "2020-12-05T00:15:36.983174Z",
     "iopub.status.idle": "2020-12-05T00:15:37.027135Z",
     "shell.execute_reply": "2020-12-05T00:15:37.026580Z",
     "shell.execute_reply.started": "2020-12-05T00:15:36.983283Z"
    }
   },
   "outputs": [
    {
     "data": {
      "application/vnd.jupyter.widget-view+json": {
       "model_id": "1a2d5c80352e40018fe8af1c20183b24",
       "version_major": 2,
       "version_minor": 0
      },
      "text/plain": [
       "Canvas(toolbar=Toolbar(toolitems=[('Home', 'Reset original view', 'home', 'home'), ('Back', 'Back to previous …"
      ]
     },
     "metadata": {},
     "output_type": "display_data"
    }
   ],
   "source": [
    "ax = rec_density.plot(x='start_time', y='spw_density')"
   ]
  },
  {
   "cell_type": "code",
   "execution_count": 129,
   "metadata": {
    "execution": {
     "iopub.execute_input": "2020-12-05T00:15:40.683706Z",
     "iopub.status.busy": "2020-12-05T00:15:40.683269Z",
     "iopub.status.idle": "2020-12-05T00:15:40.704226Z",
     "shell.execute_reply": "2020-12-05T00:15:40.703651Z",
     "shell.execute_reply.started": "2020-12-05T00:15:40.683649Z"
    }
   },
   "outputs": [
    {
     "data": {
      "text/plain": [
       "LinregressResult(slope=1.3265239515761145e-05, intercept=1.0244531927042564, rvalue=0.06620749371949933, pvalue=0.1825183849478493, stderr=9.934053483395669e-06)"
      ]
     },
     "execution_count": 129,
     "metadata": {},
     "output_type": "execute_result"
    }
   ],
   "source": [
    "test_slope(rec_density, 'start_time', 'spw_density')"
   ]
  },
  {
   "cell_type": "code",
   "execution_count": 130,
   "metadata": {
    "execution": {
     "iopub.execute_input": "2020-12-05T00:15:41.930468Z",
     "iopub.status.busy": "2020-12-05T00:15:41.930036Z",
     "iopub.status.idle": "2020-12-05T00:15:42.017099Z",
     "shell.execute_reply": "2020-12-05T00:15:42.016603Z",
     "shell.execute_reply.started": "2020-12-05T00:15:41.930412Z"
    }
   },
   "outputs": [
    {
     "data": {
      "application/vnd.jupyter.widget-view+json": {
       "model_id": "3b1747f026ba4097a43f48ab5b163798",
       "version_major": 2,
       "version_minor": 0
      },
      "text/plain": [
       "Canvas(toolbar=Toolbar(toolitems=[('Home', 'Reset original view', 'home', 'home'), ('Back', 'Back to previous …"
      ]
     },
     "metadata": {},
     "output_type": "display_data"
    },
    {
     "name": "stderr",
     "output_type": "stream",
     "text": [
      "/home/gfindlay/miniconda3/envs/ecephys/lib/python3.7/site-packages/pandas/core/series.py:726: RuntimeWarning: divide by zero encountered in log\n",
      "  result = getattr(ufunc, method)(*inputs, **kwargs)\n",
      "/home/gfindlay/miniconda3/envs/ecephys/lib/python3.7/site-packages/numpy/lib/function_base.py:2474: RuntimeWarning: invalid value encountered in subtract\n",
      "  X -= avg[:, None]\n"
     ]
    }
   ],
   "source": [
    "plot_qq(bl_density, rec_density, 'spw_density')"
   ]
  },
  {
   "cell_type": "code",
   "execution_count": 131,
   "metadata": {
    "execution": {
     "iopub.execute_input": "2020-12-05T00:15:46.058202Z",
     "iopub.status.busy": "2020-12-05T00:15:46.058059Z",
     "iopub.status.idle": "2020-12-05T00:15:46.072866Z",
     "shell.execute_reply": "2020-12-05T00:15:46.072360Z",
     "shell.execute_reply.started": "2020-12-05T00:15:46.058177Z"
    }
   },
   "outputs": [
    {
     "data": {
      "text/plain": [
       "Ttest_indResult(statistic=4.192199485028918, pvalue=3.141771371051424e-05)"
      ]
     },
     "execution_count": 131,
     "metadata": {},
     "output_type": "execute_result"
    }
   ],
   "source": [
    "stats.ttest_ind(bl_density.spw_density, rec_density.spw_density, equal_var=False)"
   ]
  },
  {
   "cell_type": "code",
   "execution_count": 155,
   "metadata": {
    "execution": {
     "iopub.execute_input": "2020-12-05T01:14:10.742467Z",
     "iopub.status.busy": "2020-12-05T01:14:10.742024Z",
     "iopub.status.idle": "2020-12-05T01:14:10.809479Z",
     "shell.execute_reply": "2020-12-05T01:14:10.808844Z",
     "shell.execute_reply.started": "2020-12-05T01:14:10.742410Z"
    }
   },
   "outputs": [
    {
     "data": {
      "application/vnd.jupyter.widget-view+json": {
       "model_id": "25b4f54a9aba4b28a8dc1ba88634cb12",
       "version_major": 2,
       "version_minor": 0
      },
      "text/plain": [
       "Canvas(toolbar=Toolbar(toolitems=[('Home', 'Reset original view', 'home', 'home'), ('Back', 'Back to previous …"
      ]
     },
     "metadata": {},
     "output_type": "display_data"
    },
    {
     "name": "stderr",
     "output_type": "stream",
     "text": [
      "/home/gfindlay/miniconda3/envs/ecephys/lib/python3.7/site-packages/seaborn/distributions.py:2551: FutureWarning: `distplot` is a deprecated function and will be removed in a future version. Please adapt your code to use either `displot` (a figure-level function with similar flexibility) or `kdeplot` (an axes-level function for kernel density plots).\n",
      "  warnings.warn(msg, FutureWarning)\n",
      "/home/gfindlay/miniconda3/envs/ecephys/lib/python3.7/site-packages/seaborn/distributions.py:2551: FutureWarning: `distplot` is a deprecated function and will be removed in a future version. Please adapt your code to use either `displot` (a figure-level function with similar flexibility) or `kdeplot` (an axes-level function for kernel density plots).\n",
      "  warnings.warn(msg, FutureWarning)\n"
     ]
    }
   ],
   "source": [
    "values_bl, values_rec, cohens_d = two_sample_data_setup_for_cohens_d(bl_density.spw_density.mean(), \n",
    "                                                                     rec_density.spw_density.mean(), \n",
    "                                                                     bl_density.spw_density.std(), \n",
    "                                                                     rec_density.spw_density.std())\n",
    "visualize_distributions(bl_density.spw_density, rec_density.spw_density, cohens_d, interpret_cohens_d(cohens_d), xlabel=\"Event density (per sec)\")\n"
   ]
  },
  {
   "cell_type": "code",
   "execution_count": 133,
   "metadata": {
    "execution": {
     "iopub.execute_input": "2020-12-05T00:15:46.162201Z",
     "iopub.status.busy": "2020-12-05T00:15:46.162086Z",
     "iopub.status.idle": "2020-12-05T00:15:46.175335Z",
     "shell.execute_reply": "2020-12-05T00:15:46.174981Z",
     "shell.execute_reply.started": "2020-12-05T00:15:46.162185Z"
    }
   },
   "outputs": [
    {
     "name": "stdout",
     "output_type": "stream",
     "text": [
      "5.967595922034474 0.014571132954603964 1.1\n"
     ]
    }
   ],
   "source": [
    "stat, p, med, tbl = stats.median_test(bl_density.spw_density, rec_density.spw_density) \n",
    "print(stat, p, med)"
   ]
  },
  {
   "cell_type": "code",
   "execution_count": 134,
   "metadata": {
    "execution": {
     "iopub.execute_input": "2020-12-05T00:15:46.178361Z",
     "iopub.status.busy": "2020-12-05T00:15:46.178225Z",
     "iopub.status.idle": "2020-12-05T00:15:46.188659Z",
     "shell.execute_reply": "2020-12-05T00:15:46.188264Z",
     "shell.execute_reply.started": "2020-12-05T00:15:46.178345Z"
    }
   },
   "outputs": [
    {
     "data": {
      "text/plain": [
       "KruskalResult(statistic=13.727795859574371, pvalue=0.00021130399223254876)"
      ]
     },
     "execution_count": 134,
     "metadata": {},
     "output_type": "execute_result"
    }
   ],
   "source": [
    "stats.kruskal(bl_density.spw_density, rec_density.spw_density)"
   ]
  },
  {
   "cell_type": "code",
   "execution_count": 135,
   "metadata": {
    "execution": {
     "iopub.execute_input": "2020-12-05T00:15:46.208563Z",
     "iopub.status.busy": "2020-12-05T00:15:46.208445Z",
     "iopub.status.idle": "2020-12-05T00:15:46.221553Z",
     "shell.execute_reply": "2020-12-05T00:15:46.221168Z",
     "shell.execute_reply.started": "2020-12-05T00:15:46.208547Z"
    }
   },
   "outputs": [
    {
     "data": {
      "text/plain": [
       "MannwhitneyuResult(statistic=52756.0, pvalue=0.0001057282844640674)"
      ]
     },
     "execution_count": 135,
     "metadata": {},
     "output_type": "execute_result"
    }
   ],
   "source": [
    "stats.mannwhitneyu(bl_density.spw_density, rec_density.spw_density)"
   ]
  },
  {
   "cell_type": "markdown",
   "metadata": {},
   "source": [
    "### Sensitivity Analysis"
   ]
  },
  {
   "cell_type": "code",
   "execution_count": 136,
   "metadata": {
    "execution": {
     "iopub.execute_input": "2020-12-05T00:15:47.474124Z",
     "iopub.status.busy": "2020-12-05T00:15:47.473680Z",
     "iopub.status.idle": "2020-12-05T00:15:53.757009Z",
     "shell.execute_reply": "2020-12-05T00:15:53.756319Z",
     "shell.execute_reply.started": "2020-12-05T00:15:47.474059Z"
    }
   },
   "outputs": [],
   "source": [
    "def _get_density_ttest_pval(epoch_length):\n",
    "    bl_density = _get_spw_density(bl_hypno, spws_bl, epoch_length)\n",
    "    rec_density = _get_spw_density(rec_hypno, spws_rec, epoch_length)\n",
    "    return stats.ttest_ind(bl_density.spw_density, rec_density.spw_density, equal_var=False).pvalue\n",
    "\n",
    "def _get_density_MannWhitney_pval(epoch_length):\n",
    "    bl_density = _get_spw_density(bl_hypno, spws_bl, epoch_length)\n",
    "    rec_density = _get_spw_density(rec_hypno, spws_rec, epoch_length)\n",
    "    return stats.mannwhitneyu(bl_density.spw_density, rec_density.spw_density).pvalue\n",
    "\n",
    "def _get_density_nEpochs(hypno, spws, epoch_length):\n",
    "    bl_density = _get_spw_density(hypno, spws_bl, epoch_length)\n",
    "    rec_density = _get_spw_density(rec_hypno, spws_rec, epoch_length)\n",
    "    return stats.mannwhitneyu(bl_density.spw_density, rec_density.spw_density).pvalue\n",
    "\n",
    "df = pd.DataFrame(data={'epoch_length': np.arange(5, 65, 5)})\n",
    "df['ttest_pval'] = df.apply(lambda x: _get_density_ttest_pval(x.epoch_length), axis=1)\n",
    "df['mw_pval'] = df.apply(lambda x: _get_density_MannWhitney_pval(x.epoch_length), axis=1)\n",
    "df['n_epochs_bl'] = df.apply(lambda x: len(_get_spw_density(bl_hypno, spws_bl, x.epoch_length)), axis=1)\n",
    "df['n_epochs_rec'] = df.apply(lambda x: len(_get_spw_density(rec_hypno, spws_rec, x.epoch_length)), axis=1)"
   ]
  },
  {
   "cell_type": "code",
   "execution_count": 137,
   "metadata": {
    "execution": {
     "iopub.execute_input": "2020-12-05T00:15:53.785021Z",
     "iopub.status.busy": "2020-12-05T00:15:53.784893Z",
     "iopub.status.idle": "2020-12-05T00:15:53.800263Z",
     "shell.execute_reply": "2020-12-05T00:15:53.799416Z",
     "shell.execute_reply.started": "2020-12-05T00:15:53.785005Z"
    }
   },
   "outputs": [
    {
     "data": {
      "text/html": [
       "<div>\n",
       "<style scoped>\n",
       "    .dataframe tbody tr th:only-of-type {\n",
       "        vertical-align: middle;\n",
       "    }\n",
       "\n",
       "    .dataframe tbody tr th {\n",
       "        vertical-align: top;\n",
       "    }\n",
       "\n",
       "    .dataframe thead th {\n",
       "        text-align: right;\n",
       "    }\n",
       "</style>\n",
       "<table border=\"1\" class=\"dataframe\">\n",
       "  <thead>\n",
       "    <tr style=\"text-align: right;\">\n",
       "      <th></th>\n",
       "      <th>epoch_length</th>\n",
       "      <th>ttest_pval</th>\n",
       "      <th>mw_pval</th>\n",
       "      <th>n_epochs_bl</th>\n",
       "      <th>n_epochs_rec</th>\n",
       "    </tr>\n",
       "  </thead>\n",
       "  <tbody>\n",
       "    <tr>\n",
       "      <th>0</th>\n",
       "      <td>5</td>\n",
       "      <td>0.000003</td>\n",
       "      <td>0.000008</td>\n",
       "      <td>651</td>\n",
       "      <td>845</td>\n",
       "    </tr>\n",
       "    <tr>\n",
       "      <th>1</th>\n",
       "      <td>10</td>\n",
       "      <td>0.000031</td>\n",
       "      <td>0.000106</td>\n",
       "      <td>309</td>\n",
       "      <td>407</td>\n",
       "    </tr>\n",
       "    <tr>\n",
       "      <th>2</th>\n",
       "      <td>15</td>\n",
       "      <td>0.000323</td>\n",
       "      <td>0.000173</td>\n",
       "      <td>197</td>\n",
       "      <td>268</td>\n",
       "    </tr>\n",
       "    <tr>\n",
       "      <th>3</th>\n",
       "      <td>20</td>\n",
       "      <td>0.000287</td>\n",
       "      <td>0.000463</td>\n",
       "      <td>143</td>\n",
       "      <td>192</td>\n",
       "    </tr>\n",
       "    <tr>\n",
       "      <th>4</th>\n",
       "      <td>25</td>\n",
       "      <td>0.000792</td>\n",
       "      <td>0.001399</td>\n",
       "      <td>107</td>\n",
       "      <td>150</td>\n",
       "    </tr>\n",
       "    <tr>\n",
       "      <th>5</th>\n",
       "      <td>30</td>\n",
       "      <td>0.000529</td>\n",
       "      <td>0.000762</td>\n",
       "      <td>83</td>\n",
       "      <td>124</td>\n",
       "    </tr>\n",
       "    <tr>\n",
       "      <th>6</th>\n",
       "      <td>35</td>\n",
       "      <td>0.000407</td>\n",
       "      <td>0.000422</td>\n",
       "      <td>72</td>\n",
       "      <td>104</td>\n",
       "    </tr>\n",
       "    <tr>\n",
       "      <th>7</th>\n",
       "      <td>40</td>\n",
       "      <td>0.004949</td>\n",
       "      <td>0.006501</td>\n",
       "      <td>60</td>\n",
       "      <td>86</td>\n",
       "    </tr>\n",
       "    <tr>\n",
       "      <th>8</th>\n",
       "      <td>45</td>\n",
       "      <td>0.004413</td>\n",
       "      <td>0.002861</td>\n",
       "      <td>49</td>\n",
       "      <td>76</td>\n",
       "    </tr>\n",
       "    <tr>\n",
       "      <th>9</th>\n",
       "      <td>50</td>\n",
       "      <td>0.001822</td>\n",
       "      <td>0.002163</td>\n",
       "      <td>42</td>\n",
       "      <td>66</td>\n",
       "    </tr>\n",
       "    <tr>\n",
       "      <th>10</th>\n",
       "      <td>55</td>\n",
       "      <td>0.001931</td>\n",
       "      <td>0.001615</td>\n",
       "      <td>38</td>\n",
       "      <td>61</td>\n",
       "    </tr>\n",
       "    <tr>\n",
       "      <th>11</th>\n",
       "      <td>60</td>\n",
       "      <td>0.000637</td>\n",
       "      <td>0.000342</td>\n",
       "      <td>31</td>\n",
       "      <td>53</td>\n",
       "    </tr>\n",
       "  </tbody>\n",
       "</table>\n",
       "</div>"
      ],
      "text/plain": [
       "    epoch_length  ttest_pval   mw_pval  n_epochs_bl  n_epochs_rec\n",
       "0              5    0.000003  0.000008          651           845\n",
       "1             10    0.000031  0.000106          309           407\n",
       "2             15    0.000323  0.000173          197           268\n",
       "3             20    0.000287  0.000463          143           192\n",
       "4             25    0.000792  0.001399          107           150\n",
       "5             30    0.000529  0.000762           83           124\n",
       "6             35    0.000407  0.000422           72           104\n",
       "7             40    0.004949  0.006501           60            86\n",
       "8             45    0.004413  0.002861           49            76\n",
       "9             50    0.001822  0.002163           42            66\n",
       "10            55    0.001931  0.001615           38            61\n",
       "11            60    0.000637  0.000342           31            53"
      ]
     },
     "execution_count": 137,
     "metadata": {},
     "output_type": "execute_result"
    }
   ],
   "source": [
    "df"
   ]
  },
  {
   "cell_type": "code",
   "execution_count": 138,
   "metadata": {
    "execution": {
     "iopub.execute_input": "2020-12-05T00:15:53.801070Z",
     "iopub.status.busy": "2020-12-05T00:15:53.800944Z",
     "iopub.status.idle": "2020-12-05T00:15:53.845183Z",
     "shell.execute_reply": "2020-12-05T00:15:53.844603Z",
     "shell.execute_reply.started": "2020-12-05T00:15:53.801055Z"
    }
   },
   "outputs": [
    {
     "data": {
      "application/vnd.jupyter.widget-view+json": {
       "model_id": "6da5bbcada244e438ef4ddfcf8e5ffc0",
       "version_major": 2,
       "version_minor": 0
      },
      "text/plain": [
       "Canvas(toolbar=Toolbar(toolitems=[('Home', 'Reset original view', 'home', 'home'), ('Back', 'Back to previous …"
      ]
     },
     "metadata": {},
     "output_type": "display_data"
    },
    {
     "data": {
      "text/plain": [
       "<AxesSubplot:xlabel='epoch_length'>"
      ]
     },
     "execution_count": 138,
     "metadata": {},
     "output_type": "execute_result"
    }
   ],
   "source": [
    "df[['ttest_pval', 'mw_pval', 'epoch_length']].plot(x='epoch_length')"
   ]
  },
  {
   "cell_type": "code",
   "execution_count": 139,
   "metadata": {
    "execution": {
     "iopub.execute_input": "2020-12-05T00:15:53.845857Z",
     "iopub.status.busy": "2020-12-05T00:15:53.845731Z",
     "iopub.status.idle": "2020-12-05T00:15:53.891155Z",
     "shell.execute_reply": "2020-12-05T00:15:53.890681Z",
     "shell.execute_reply.started": "2020-12-05T00:15:53.845841Z"
    }
   },
   "outputs": [
    {
     "data": {
      "application/vnd.jupyter.widget-view+json": {
       "model_id": "597d1644b5314d9e9f22cfe3137de714",
       "version_major": 2,
       "version_minor": 0
      },
      "text/plain": [
       "Canvas(toolbar=Toolbar(toolitems=[('Home', 'Reset original view', 'home', 'home'), ('Back', 'Back to previous …"
      ]
     },
     "metadata": {},
     "output_type": "display_data"
    },
    {
     "data": {
      "text/plain": [
       "<AxesSubplot:xlabel='epoch_length'>"
      ]
     },
     "execution_count": 139,
     "metadata": {},
     "output_type": "execute_result"
    }
   ],
   "source": [
    "df[['n_epochs_bl', 'n_epochs_rec', 'epoch_length']].plot(x='epoch_length')"
   ]
  },
  {
   "cell_type": "code",
   "execution_count": null,
   "metadata": {},
   "outputs": [],
   "source": []
  }
 ],
 "metadata": {
  "kernelspec": {
   "display_name": "Python 3",
   "language": "python",
   "name": "python3"
  },
  "language_info": {
   "codemirror_mode": {
    "name": "ipython",
    "version": 3
   },
   "file_extension": ".py",
   "mimetype": "text/x-python",
   "name": "python",
   "nbconvert_exporter": "python",
   "pygments_lexer": "ipython3",
   "version": "3.7.9"
  }
 },
 "nbformat": 4,
 "nbformat_minor": 4
}
