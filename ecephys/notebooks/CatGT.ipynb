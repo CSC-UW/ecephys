{
 "cells": [
  {
   "cell_type": "markdown",
   "metadata": {},
   "source": [
    "- Time to concatenate 24 hours of LFP (12x 2hr files) = 30 minutes. \n",
    "- Size of 24 hours of LFP = ~160 GB"
   ]
  },
  {
   "cell_type": "code",
   "execution_count": 1,
   "metadata": {
    "execution": {
     "iopub.execute_input": "2020-12-31T20:00:58.806552Z",
     "iopub.status.busy": "2020-12-31T20:00:58.806111Z",
     "iopub.status.idle": "2020-12-31T20:00:58.823039Z",
     "shell.execute_reply": "2020-12-31T20:00:58.821897Z",
     "shell.execute_reply.started": "2020-12-31T20:00:58.806495Z"
    }
   },
   "outputs": [],
   "source": [
    "%load_ext autoreload\n",
    "%autoreload 2"
   ]
  },
  {
   "cell_type": "code",
   "execution_count": 2,
   "metadata": {
    "execution": {
     "iopub.execute_input": "2020-12-31T20:00:59.955640Z",
     "iopub.status.busy": "2020-12-31T20:00:59.955323Z",
     "iopub.status.idle": "2020-12-31T20:01:00.496425Z",
     "shell.execute_reply": "2020-12-31T20:01:00.495867Z",
     "shell.execute_reply.started": "2020-12-31T20:00:59.955600Z"
    }
   },
   "outputs": [],
   "source": [
    "import subprocess\n",
    "from ecephys.sglx_utils.cat_gt import get_catGT_command"
   ]
  },
  {
   "cell_type": "code",
   "execution_count": 8,
   "metadata": {
    "execution": {
     "iopub.execute_input": "2020-12-31T20:33:03.350907Z",
     "iopub.status.busy": "2020-12-31T20:33:03.350466Z",
     "iopub.status.idle": "2020-12-31T20:33:03.372746Z",
     "shell.execute_reply": "2020-12-31T20:33:03.371939Z",
     "shell.execute_reply.started": "2020-12-31T20:33:03.350851Z"
    }
   },
   "outputs": [],
   "source": [
    "prb = 0\n",
    "sync_channel = 384\n",
    "\n",
    "cmd = get_catGT_command(\n",
    "    catGT_path=r\"/Volumes/scratch/neuropixels/bin/CatGT/CatGT.exe\",\n",
    "    wine_path=\"/usr/bin/wine\",\n",
    "    dir=\"/Volumes/neuropixel_archive/Data/chronic/CNPIX4-Doppio/raw\",\n",
    "    run=\"3-18-2020\",\n",
    "    g=\"0\",\n",
    "    t=\"0,9\",\n",
    "    lf=True,\n",
    "    prb=prb,\n",
    "    SY=f\"{prb},{sync_channel},6,500\",\n",
    "    prb_fld=True,\n",
    "    out_prb_fld=True,\n",
    "    dest=\"/Volumes/neuropixel/Data/CNPIX4-Doppio/\",\n",
    ")"
   ]
  },
  {
   "cell_type": "code",
   "execution_count": 9,
   "metadata": {
    "execution": {
     "iopub.execute_input": "2020-12-31T20:33:04.988288Z",
     "iopub.status.busy": "2020-12-31T20:33:04.987854Z",
     "iopub.status.idle": "2020-12-31T21:02:20.473119Z",
     "shell.execute_reply": "2020-12-31T21:02:20.471632Z",
     "shell.execute_reply.started": "2020-12-31T20:33:04.988232Z"
    }
   },
   "outputs": [],
   "source": [
    "process = subprocess.run(cmd, shell=True, capture_output=True, text=True)"
   ]
  },
  {
   "cell_type": "code",
   "execution_count": 10,
   "metadata": {
    "execution": {
     "iopub.execute_input": "2020-12-31T21:02:20.492559Z",
     "iopub.status.busy": "2020-12-31T21:02:20.492432Z",
     "iopub.status.idle": "2020-12-31T21:02:20.504241Z",
     "shell.execute_reply": "2020-12-31T21:02:20.503652Z",
     "shell.execute_reply.started": "2020-12-31T21:02:20.492543Z"
    }
   },
   "outputs": [
    {
     "data": {
      "text/plain": [
       "CompletedProcess(args='/usr/bin/wine /Volumes/scratch/neuropixels/bin/CatGT/CatGT.exe -dir=/Volumes/neuropixel_archive/Data/chronic/CNPIX4-Doppio/raw -run=3-18-2020 -g=0 -t=0,9 -lf -prb=0 -SY=0,384,6,500 -prb_fld -out_prb_fld -dest=/Volumes/neuropixel/Data/CNPIX4-Doppio/', returncode=0, stdout='', stderr='')"
      ]
     },
     "execution_count": 10,
     "metadata": {},
     "output_type": "execute_result"
    }
   ],
   "source": [
    "process"
   ]
  },
  {
   "cell_type": "code",
   "execution_count": null,
   "metadata": {},
   "outputs": [],
   "source": []
  }
 ],
 "metadata": {
  "kernelspec": {
   "display_name": "Python 3",
   "language": "python",
   "name": "python3"
  },
  "language_info": {
   "codemirror_mode": {
    "name": "ipython",
    "version": 3
   },
   "file_extension": ".py",
   "mimetype": "text/x-python",
   "name": "python",
   "nbconvert_exporter": "python",
   "pygments_lexer": "ipython3",
   "version": "3.7.9"
  }
 },
 "nbformat": 4,
 "nbformat_minor": 4
}
