{
 "cells": [
  {
   "cell_type": "code",
   "execution_count": 1,
   "metadata": {
    "execution": {
     "iopub.execute_input": "2020-12-31T00:12:28.359094Z",
     "iopub.status.busy": "2020-12-31T00:12:28.358971Z",
     "iopub.status.idle": "2020-12-31T00:12:28.367519Z",
     "shell.execute_reply": "2020-12-31T00:12:28.367081Z",
     "shell.execute_reply.started": "2020-12-31T00:12:28.359079Z"
    }
   },
   "outputs": [],
   "source": [
    "%load_ext autoreload\n",
    "%autoreload 2"
   ]
  },
  {
   "cell_type": "code",
   "execution_count": 42,
   "metadata": {
    "execution": {
     "iopub.execute_input": "2020-12-31T19:15:40.723195Z",
     "iopub.status.busy": "2020-12-31T19:15:40.722702Z",
     "iopub.status.idle": "2020-12-31T19:15:41.269060Z",
     "shell.execute_reply": "2020-12-31T19:15:41.268217Z",
     "shell.execute_reply.started": "2020-12-31T19:15:40.723136Z"
    }
   },
   "outputs": [],
   "source": [
    "import subprocess\n",
    "from ecephys.sglx_utils.cat_gt import get_catGT_command"
   ]
  },
  {
   "cell_type": "code",
   "execution_count": 43,
   "metadata": {
    "execution": {
     "iopub.execute_input": "2020-12-31T19:15:48.204304Z",
     "iopub.status.busy": "2020-12-31T19:15:48.203865Z",
     "iopub.status.idle": "2020-12-31T19:15:48.224315Z",
     "shell.execute_reply": "2020-12-31T19:15:48.223533Z",
     "shell.execute_reply.started": "2020-12-31T19:15:48.204247Z"
    }
   },
   "outputs": [
    {
     "name": "stdout",
     "output_type": "stream",
     "text": [
      "/usr/bin/wine /Volumes/scratch/neuropixels/bin/CatGT/CatGT.exe -dir=/Volumes/neuropixel_archive/Data/chronic/CNPIX4-Doppio/raw -run=3-18-2020 -g=0 -t=0,9 -lf -prb=0 -SY=0,384,6,500 -prb_fld -out_prb_fld -dest=/Volumes/neuropixel/Data/CNPIX4-Doppio/\n"
     ]
    }
   ],
   "source": [
    "prb = 0\n",
    "sync_channel = 384\n",
    "\n",
    "get_catGT_command(\n",
    "    catGT_path=r\"/Volumes/scratch/neuropixels/bin/CatGT/CatGT.exe\",\n",
    "    wine_path=\"/usr/bin/wine\",\n",
    "    dir=\"/Volumes/neuropixel_archive/Data/chronic/CNPIX4-Doppio/raw\",\n",
    "    run=\"3-17-2020\",\n",
    "    g=\"0\",\n",
    "    t=\"0,11\",\n",
    "    lf=True,\n",
    "    prb=prb,\n",
    "    SY=f\"{prb},{sync_channel},6,500\",\n",
    "    prb_fld=True,\n",
    "    out_prb_fld=True,\n",
    "    dest=\"/Volumes/neuropixel/Data/CNPIX4-Doppio/\",\n",
    ")"
   ]
  },
  {
   "cell_type": "code",
   "execution_count": 15,
   "metadata": {
    "execution": {
     "iopub.execute_input": "2020-12-31T17:48:00.265036Z",
     "iopub.status.busy": "2020-12-31T17:48:00.264596Z",
     "iopub.status.idle": "2020-12-31T18:10:50.670313Z",
     "shell.execute_reply": "2020-12-31T18:10:50.668816Z",
     "shell.execute_reply.started": "2020-12-31T17:48:00.264977Z"
    }
   },
   "outputs": [],
   "source": [
    "process = subprocess.run(catGT_cmd, shell=True, capture_output=True, text=True)"
   ]
  }
 ],
 "metadata": {
  "kernelspec": {
   "display_name": "Python 3",
   "language": "python",
   "name": "python3"
  },
  "language_info": {
   "codemirror_mode": {
    "name": "ipython",
    "version": 3
   },
   "file_extension": ".py",
   "mimetype": "text/x-python",
   "name": "python",
   "nbconvert_exporter": "python",
   "pygments_lexer": "ipython3",
   "version": "3.7.9"
  }
 },
 "nbformat": 4,
 "nbformat_minor": 4
}
