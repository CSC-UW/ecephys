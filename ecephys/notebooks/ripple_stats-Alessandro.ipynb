{
 "cells": [
  {
   "cell_type": "code",
   "execution_count": 17,
   "metadata": {},
   "outputs": [],
   "source": [
    "%matplotlib widget\n",
    "import pandas as pd\n",
    "from pathlib import Path\n",
    "import matplotlib.pyplot as plt\n",
    "from pandas.plotting import scatter_matrix\n",
    "import numpy as np"
   ]
  },
  {
   "cell_type": "code",
   "execution_count": 18,
   "metadata": {},
   "outputs": [],
   "source": [
    "pd.options.mode.chained_assignment = None  # default='warn'"
   ]
  },
  {
   "cell_type": "markdown",
   "metadata": {},
   "source": [
    "## Read the data"
   ]
  },
  {
   "cell_type": "code",
   "execution_count": 19,
   "metadata": {},
   "outputs": [
    {
     "data": {
      "text/html": [
       "<div>\n",
       "<style scoped>\n",
       "    .dataframe tbody tr th:only-of-type {\n",
       "        vertical-align: middle;\n",
       "    }\n",
       "\n",
       "    .dataframe tbody tr th {\n",
       "        vertical-align: top;\n",
       "    }\n",
       "\n",
       "    .dataframe thead th {\n",
       "        text-align: right;\n",
       "    }\n",
       "</style>\n",
       "<table border=\"1\" class=\"dataframe\">\n",
       "  <thead>\n",
       "    <tr style=\"text-align: right;\">\n",
       "      <th></th>\n",
       "      <th>ripple_number</th>\n",
       "      <th>start_time</th>\n",
       "      <th>end_time</th>\n",
       "      <th>duration</th>\n",
       "      <th>center_time</th>\n",
       "      <th>nadir_time</th>\n",
       "      <th>envelope_integral</th>\n",
       "      <th>envelope_peak</th>\n",
       "      <th>mean_rms</th>\n",
       "      <th>summed_rms</th>\n",
       "      <th>max_rms</th>\n",
       "      <th>mean_amplitude</th>\n",
       "      <th>max_amplitude</th>\n",
       "    </tr>\n",
       "  </thead>\n",
       "  <tbody>\n",
       "    <tr>\n",
       "      <th>0</th>\n",
       "      <td>1</td>\n",
       "      <td>3.119982e+01</td>\n",
       "      <td>2.015989e+02</td>\n",
       "      <td>170.399036</td>\n",
       "      <td>1.163993e+02</td>\n",
       "      <td>1.271993e+02</td>\n",
       "      <td>44152.727659</td>\n",
       "      <td>202.772085</td>\n",
       "      <td>22.975941</td>\n",
       "      <td>252.735350</td>\n",
       "      <td>28.451481</td>\n",
       "      <td>137.036292</td>\n",
       "      <td>175.217199</td>\n",
       "    </tr>\n",
       "    <tr>\n",
       "      <th>1</th>\n",
       "      <td>2</td>\n",
       "      <td>1.024394e+03</td>\n",
       "      <td>1.186793e+03</td>\n",
       "      <td>162.399082</td>\n",
       "      <td>1.105594e+03</td>\n",
       "      <td>1.155593e+03</td>\n",
       "      <td>58781.890252</td>\n",
       "      <td>399.710839</td>\n",
       "      <td>36.452316</td>\n",
       "      <td>400.975478</td>\n",
       "      <td>45.916545</td>\n",
       "      <td>259.759436</td>\n",
       "      <td>322.259032</td>\n",
       "    </tr>\n",
       "    <tr>\n",
       "      <th>2</th>\n",
       "      <td>3</td>\n",
       "      <td>1.641191e+03</td>\n",
       "      <td>1.703190e+03</td>\n",
       "      <td>61.999649</td>\n",
       "      <td>1.672191e+03</td>\n",
       "      <td>1.673991e+03</td>\n",
       "      <td>35334.190110</td>\n",
       "      <td>488.264566</td>\n",
       "      <td>56.294736</td>\n",
       "      <td>619.242091</td>\n",
       "      <td>71.462142</td>\n",
       "      <td>330.078403</td>\n",
       "      <td>419.021854</td>\n",
       "    </tr>\n",
       "    <tr>\n",
       "      <th>3</th>\n",
       "      <td>4</td>\n",
       "      <td>6.667562e+03</td>\n",
       "      <td>6.744762e+03</td>\n",
       "      <td>77.199563</td>\n",
       "      <td>6.706162e+03</td>\n",
       "      <td>6.692362e+03</td>\n",
       "      <td>29381.797548</td>\n",
       "      <td>312.153977</td>\n",
       "      <td>35.563924</td>\n",
       "      <td>391.203165</td>\n",
       "      <td>45.639071</td>\n",
       "      <td>215.713238</td>\n",
       "      <td>274.582215</td>\n",
       "    </tr>\n",
       "    <tr>\n",
       "      <th>4</th>\n",
       "      <td>5</td>\n",
       "      <td>1.033554e+04</td>\n",
       "      <td>1.041834e+04</td>\n",
       "      <td>82.799532</td>\n",
       "      <td>1.037694e+04</td>\n",
       "      <td>1.036914e+04</td>\n",
       "      <td>30173.021426</td>\n",
       "      <td>303.586689</td>\n",
       "      <td>34.126544</td>\n",
       "      <td>375.391987</td>\n",
       "      <td>44.309711</td>\n",
       "      <td>207.640657</td>\n",
       "      <td>269.670500</td>\n",
       "    </tr>\n",
       "    <tr>\n",
       "      <th>...</th>\n",
       "      <td>...</td>\n",
       "      <td>...</td>\n",
       "      <td>...</td>\n",
       "      <td>...</td>\n",
       "      <td>...</td>\n",
       "      <td>...</td>\n",
       "      <td>...</td>\n",
       "      <td>...</td>\n",
       "      <td>...</td>\n",
       "      <td>...</td>\n",
       "      <td>...</td>\n",
       "      <td>...</td>\n",
       "      <td>...</td>\n",
       "    </tr>\n",
       "    <tr>\n",
       "      <th>1258</th>\n",
       "      <td>1259</td>\n",
       "      <td>3.510568e+06</td>\n",
       "      <td>3.510695e+06</td>\n",
       "      <td>127.199281</td>\n",
       "      <td>3.510631e+06</td>\n",
       "      <td>3.510635e+06</td>\n",
       "      <td>39912.586881</td>\n",
       "      <td>349.985245</td>\n",
       "      <td>32.913445</td>\n",
       "      <td>362.047900</td>\n",
       "      <td>41.980886</td>\n",
       "      <td>217.341972</td>\n",
       "      <td>280.279636</td>\n",
       "    </tr>\n",
       "    <tr>\n",
       "      <th>1259</th>\n",
       "      <td>1260</td>\n",
       "      <td>3.511280e+06</td>\n",
       "      <td>3.511331e+06</td>\n",
       "      <td>51.199710</td>\n",
       "      <td>3.511306e+06</td>\n",
       "      <td>3.511297e+06</td>\n",
       "      <td>11292.147517</td>\n",
       "      <td>156.408496</td>\n",
       "      <td>20.003331</td>\n",
       "      <td>220.036637</td>\n",
       "      <td>22.978673</td>\n",
       "      <td>107.244299</td>\n",
       "      <td>128.921059</td>\n",
       "    </tr>\n",
       "    <tr>\n",
       "      <th>1260</th>\n",
       "      <td>1261</td>\n",
       "      <td>3.566374e+06</td>\n",
       "      <td>3.566445e+06</td>\n",
       "      <td>70.799600</td>\n",
       "      <td>3.566410e+06</td>\n",
       "      <td>3.566412e+06</td>\n",
       "      <td>23879.976978</td>\n",
       "      <td>262.859469</td>\n",
       "      <td>30.492990</td>\n",
       "      <td>335.422892</td>\n",
       "      <td>39.127399</td>\n",
       "      <td>188.148756</td>\n",
       "      <td>245.653022</td>\n",
       "    </tr>\n",
       "    <tr>\n",
       "      <th>1261</th>\n",
       "      <td>1262</td>\n",
       "      <td>3.566810e+06</td>\n",
       "      <td>3.566878e+06</td>\n",
       "      <td>67.999615</td>\n",
       "      <td>3.566844e+06</td>\n",
       "      <td>3.566836e+06</td>\n",
       "      <td>16911.224922</td>\n",
       "      <td>158.623995</td>\n",
       "      <td>22.127879</td>\n",
       "      <td>243.406670</td>\n",
       "      <td>26.375316</td>\n",
       "      <td>113.254448</td>\n",
       "      <td>131.358819</td>\n",
       "    </tr>\n",
       "    <tr>\n",
       "      <th>1262</th>\n",
       "      <td>1263</td>\n",
       "      <td>3.566921e+06</td>\n",
       "      <td>3.567058e+06</td>\n",
       "      <td>136.799226</td>\n",
       "      <td>3.566989e+06</td>\n",
       "      <td>3.566975e+06</td>\n",
       "      <td>98417.695608</td>\n",
       "      <td>803.121506</td>\n",
       "      <td>80.871207</td>\n",
       "      <td>889.583279</td>\n",
       "      <td>100.006619</td>\n",
       "      <td>499.655893</td>\n",
       "      <td>608.369022</td>\n",
       "    </tr>\n",
       "  </tbody>\n",
       "</table>\n",
       "<p>1263 rows × 13 columns</p>\n",
       "</div>"
      ],
      "text/plain": [
       "      ripple_number    start_time      end_time    duration   center_time  \\\n",
       "0                 1  3.119982e+01  2.015989e+02  170.399036  1.163993e+02   \n",
       "1                 2  1.024394e+03  1.186793e+03  162.399082  1.105594e+03   \n",
       "2                 3  1.641191e+03  1.703190e+03   61.999649  1.672191e+03   \n",
       "3                 4  6.667562e+03  6.744762e+03   77.199563  6.706162e+03   \n",
       "4                 5  1.033554e+04  1.041834e+04   82.799532  1.037694e+04   \n",
       "...             ...           ...           ...         ...           ...   \n",
       "1258           1259  3.510568e+06  3.510695e+06  127.199281  3.510631e+06   \n",
       "1259           1260  3.511280e+06  3.511331e+06   51.199710  3.511306e+06   \n",
       "1260           1261  3.566374e+06  3.566445e+06   70.799600  3.566410e+06   \n",
       "1261           1262  3.566810e+06  3.566878e+06   67.999615  3.566844e+06   \n",
       "1262           1263  3.566921e+06  3.567058e+06  136.799226  3.566989e+06   \n",
       "\n",
       "        nadir_time  envelope_integral  envelope_peak   mean_rms  summed_rms  \\\n",
       "0     1.271993e+02       44152.727659     202.772085  22.975941  252.735350   \n",
       "1     1.155593e+03       58781.890252     399.710839  36.452316  400.975478   \n",
       "2     1.673991e+03       35334.190110     488.264566  56.294736  619.242091   \n",
       "3     6.692362e+03       29381.797548     312.153977  35.563924  391.203165   \n",
       "4     1.036914e+04       30173.021426     303.586689  34.126544  375.391987   \n",
       "...            ...                ...            ...        ...         ...   \n",
       "1258  3.510635e+06       39912.586881     349.985245  32.913445  362.047900   \n",
       "1259  3.511297e+06       11292.147517     156.408496  20.003331  220.036637   \n",
       "1260  3.566412e+06       23879.976978     262.859469  30.492990  335.422892   \n",
       "1261  3.566836e+06       16911.224922     158.623995  22.127879  243.406670   \n",
       "1262  3.566975e+06       98417.695608     803.121506  80.871207  889.583279   \n",
       "\n",
       "         max_rms  mean_amplitude  max_amplitude  \n",
       "0      28.451481      137.036292     175.217199  \n",
       "1      45.916545      259.759436     322.259032  \n",
       "2      71.462142      330.078403     419.021854  \n",
       "3      45.639071      215.713238     274.582215  \n",
       "4      44.309711      207.640657     269.670500  \n",
       "...          ...             ...            ...  \n",
       "1258   41.980886      217.341972     280.279636  \n",
       "1259   22.978673      107.244299     128.921059  \n",
       "1260   39.127399      188.148756     245.653022  \n",
       "1261   26.375316      113.254448     131.358819  \n",
       "1262  100.006619      499.655893     608.369022  \n",
       "\n",
       "[1263 rows x 13 columns]"
      ]
     },
     "execution_count": 19,
     "metadata": {},
     "output_type": "execute_result"
    }
   ],
   "source": [
    "ripples_bl = pd.read_csv(Path('/Volumes/neuropixel/Data/CNPIX5-Alessandro/8-24-2020_g0_t6.N2_ripples.csv'))\n",
    "ripples_bl"
   ]
  },
  {
   "cell_type": "code",
   "execution_count": 20,
   "metadata": {},
   "outputs": [
    {
     "data": {
      "text/html": [
       "<div>\n",
       "<style scoped>\n",
       "    .dataframe tbody tr th:only-of-type {\n",
       "        vertical-align: middle;\n",
       "    }\n",
       "\n",
       "    .dataframe tbody tr th {\n",
       "        vertical-align: top;\n",
       "    }\n",
       "\n",
       "    .dataframe thead th {\n",
       "        text-align: right;\n",
       "    }\n",
       "</style>\n",
       "<table border=\"1\" class=\"dataframe\">\n",
       "  <thead>\n",
       "    <tr style=\"text-align: right;\">\n",
       "      <th></th>\n",
       "      <th>ripple_number</th>\n",
       "      <th>start_time</th>\n",
       "      <th>end_time</th>\n",
       "      <th>duration</th>\n",
       "      <th>center_time</th>\n",
       "      <th>nadir_time</th>\n",
       "      <th>envelope_integral</th>\n",
       "      <th>envelope_peak</th>\n",
       "      <th>mean_rms</th>\n",
       "      <th>summed_rms</th>\n",
       "      <th>max_rms</th>\n",
       "      <th>mean_amplitude</th>\n",
       "      <th>max_amplitude</th>\n",
       "    </tr>\n",
       "  </thead>\n",
       "  <tbody>\n",
       "    <tr>\n",
       "      <th>0</th>\n",
       "      <td>1</td>\n",
       "      <td>5.425369e+04</td>\n",
       "      <td>5.434889e+04</td>\n",
       "      <td>95.199462</td>\n",
       "      <td>5.430129e+04</td>\n",
       "      <td>5.431849e+04</td>\n",
       "      <td>37474.315876</td>\n",
       "      <td>363.907206</td>\n",
       "      <td>39.694045</td>\n",
       "      <td>436.634496</td>\n",
       "      <td>49.674942</td>\n",
       "      <td>247.397702</td>\n",
       "      <td>316.257670</td>\n",
       "    </tr>\n",
       "    <tr>\n",
       "      <th>1</th>\n",
       "      <td>2</td>\n",
       "      <td>5.444929e+04</td>\n",
       "      <td>5.453129e+04</td>\n",
       "      <td>81.999536</td>\n",
       "      <td>5.449029e+04</td>\n",
       "      <td>5.447969e+04</td>\n",
       "      <td>26088.948490</td>\n",
       "      <td>233.512249</td>\n",
       "      <td>29.438196</td>\n",
       "      <td>323.820159</td>\n",
       "      <td>37.056548</td>\n",
       "      <td>148.974619</td>\n",
       "      <td>182.332835</td>\n",
       "    </tr>\n",
       "    <tr>\n",
       "      <th>2</th>\n",
       "      <td>3</td>\n",
       "      <td>5.575528e+04</td>\n",
       "      <td>5.582088e+04</td>\n",
       "      <td>65.599629</td>\n",
       "      <td>5.578808e+04</td>\n",
       "      <td>5.579528e+04</td>\n",
       "      <td>35232.904134</td>\n",
       "      <td>425.652816</td>\n",
       "      <td>52.588394</td>\n",
       "      <td>578.472329</td>\n",
       "      <td>64.982833</td>\n",
       "      <td>275.866802</td>\n",
       "      <td>334.795907</td>\n",
       "    </tr>\n",
       "    <tr>\n",
       "      <th>3</th>\n",
       "      <td>4</td>\n",
       "      <td>5.638128e+04</td>\n",
       "      <td>5.654088e+04</td>\n",
       "      <td>159.599098</td>\n",
       "      <td>5.646108e+04</td>\n",
       "      <td>5.642888e+04</td>\n",
       "      <td>50621.262036</td>\n",
       "      <td>314.863418</td>\n",
       "      <td>30.760337</td>\n",
       "      <td>338.363709</td>\n",
       "      <td>37.320196</td>\n",
       "      <td>213.517155</td>\n",
       "      <td>265.804426</td>\n",
       "    </tr>\n",
       "    <tr>\n",
       "      <th>4</th>\n",
       "      <td>5</td>\n",
       "      <td>5.662488e+04</td>\n",
       "      <td>5.669248e+04</td>\n",
       "      <td>67.599618</td>\n",
       "      <td>5.665868e+04</td>\n",
       "      <td>5.665448e+04</td>\n",
       "      <td>22542.852082</td>\n",
       "      <td>262.576157</td>\n",
       "      <td>31.626673</td>\n",
       "      <td>347.893401</td>\n",
       "      <td>41.843011</td>\n",
       "      <td>170.419964</td>\n",
       "      <td>228.853719</td>\n",
       "    </tr>\n",
       "    <tr>\n",
       "      <th>...</th>\n",
       "      <td>...</td>\n",
       "      <td>...</td>\n",
       "      <td>...</td>\n",
       "      <td>...</td>\n",
       "      <td>...</td>\n",
       "      <td>...</td>\n",
       "      <td>...</td>\n",
       "      <td>...</td>\n",
       "      <td>...</td>\n",
       "      <td>...</td>\n",
       "      <td>...</td>\n",
       "      <td>...</td>\n",
       "      <td>...</td>\n",
       "    </tr>\n",
       "    <tr>\n",
       "      <th>1342</th>\n",
       "      <td>1343</td>\n",
       "      <td>2.584517e+06</td>\n",
       "      <td>2.584693e+06</td>\n",
       "      <td>176.399003</td>\n",
       "      <td>2.584605e+06</td>\n",
       "      <td>2.584631e+06</td>\n",
       "      <td>48202.156485</td>\n",
       "      <td>251.791213</td>\n",
       "      <td>25.029433</td>\n",
       "      <td>275.323764</td>\n",
       "      <td>34.246599</td>\n",
       "      <td>158.863220</td>\n",
       "      <td>216.525759</td>\n",
       "    </tr>\n",
       "    <tr>\n",
       "      <th>1343</th>\n",
       "      <td>1344</td>\n",
       "      <td>2.596367e+06</td>\n",
       "      <td>2.596483e+06</td>\n",
       "      <td>115.199349</td>\n",
       "      <td>2.596425e+06</td>\n",
       "      <td>2.596437e+06</td>\n",
       "      <td>67983.289054</td>\n",
       "      <td>841.828197</td>\n",
       "      <td>67.571188</td>\n",
       "      <td>743.283063</td>\n",
       "      <td>85.907992</td>\n",
       "      <td>561.111206</td>\n",
       "      <td>713.798781</td>\n",
       "    </tr>\n",
       "    <tr>\n",
       "      <th>1344</th>\n",
       "      <td>1345</td>\n",
       "      <td>2.600247e+06</td>\n",
       "      <td>2.600384e+06</td>\n",
       "      <td>137.599222</td>\n",
       "      <td>2.600316e+06</td>\n",
       "      <td>2.600355e+06</td>\n",
       "      <td>41093.360112</td>\n",
       "      <td>238.137149</td>\n",
       "      <td>27.402921</td>\n",
       "      <td>301.432132</td>\n",
       "      <td>35.481123</td>\n",
       "      <td>154.455935</td>\n",
       "      <td>199.842137</td>\n",
       "    </tr>\n",
       "    <tr>\n",
       "      <th>1345</th>\n",
       "      <td>1346</td>\n",
       "      <td>2.601176e+06</td>\n",
       "      <td>2.601358e+06</td>\n",
       "      <td>182.398969</td>\n",
       "      <td>2.601267e+06</td>\n",
       "      <td>2.601321e+06</td>\n",
       "      <td>55916.331870</td>\n",
       "      <td>303.293273</td>\n",
       "      <td>28.538934</td>\n",
       "      <td>313.928270</td>\n",
       "      <td>37.629743</td>\n",
       "      <td>206.643426</td>\n",
       "      <td>285.589433</td>\n",
       "    </tr>\n",
       "    <tr>\n",
       "      <th>1346</th>\n",
       "      <td>1347</td>\n",
       "      <td>2.602993e+06</td>\n",
       "      <td>2.603155e+06</td>\n",
       "      <td>161.999084</td>\n",
       "      <td>2.603074e+06</td>\n",
       "      <td>2.603064e+06</td>\n",
       "      <td>55638.262065</td>\n",
       "      <td>448.388472</td>\n",
       "      <td>34.653288</td>\n",
       "      <td>381.186173</td>\n",
       "      <td>44.188863</td>\n",
       "      <td>307.532195</td>\n",
       "      <td>402.075985</td>\n",
       "    </tr>\n",
       "  </tbody>\n",
       "</table>\n",
       "<p>1347 rows × 13 columns</p>\n",
       "</div>"
      ],
      "text/plain": [
       "      ripple_number    start_time      end_time    duration   center_time  \\\n",
       "0                 1  5.425369e+04  5.434889e+04   95.199462  5.430129e+04   \n",
       "1                 2  5.444929e+04  5.453129e+04   81.999536  5.449029e+04   \n",
       "2                 3  5.575528e+04  5.582088e+04   65.599629  5.578808e+04   \n",
       "3                 4  5.638128e+04  5.654088e+04  159.599098  5.646108e+04   \n",
       "4                 5  5.662488e+04  5.669248e+04   67.599618  5.665868e+04   \n",
       "...             ...           ...           ...         ...           ...   \n",
       "1342           1343  2.584517e+06  2.584693e+06  176.399003  2.584605e+06   \n",
       "1343           1344  2.596367e+06  2.596483e+06  115.199349  2.596425e+06   \n",
       "1344           1345  2.600247e+06  2.600384e+06  137.599222  2.600316e+06   \n",
       "1345           1346  2.601176e+06  2.601358e+06  182.398969  2.601267e+06   \n",
       "1346           1347  2.602993e+06  2.603155e+06  161.999084  2.603074e+06   \n",
       "\n",
       "        nadir_time  envelope_integral  envelope_peak   mean_rms  summed_rms  \\\n",
       "0     5.431849e+04       37474.315876     363.907206  39.694045  436.634496   \n",
       "1     5.447969e+04       26088.948490     233.512249  29.438196  323.820159   \n",
       "2     5.579528e+04       35232.904134     425.652816  52.588394  578.472329   \n",
       "3     5.642888e+04       50621.262036     314.863418  30.760337  338.363709   \n",
       "4     5.665448e+04       22542.852082     262.576157  31.626673  347.893401   \n",
       "...            ...                ...            ...        ...         ...   \n",
       "1342  2.584631e+06       48202.156485     251.791213  25.029433  275.323764   \n",
       "1343  2.596437e+06       67983.289054     841.828197  67.571188  743.283063   \n",
       "1344  2.600355e+06       41093.360112     238.137149  27.402921  301.432132   \n",
       "1345  2.601321e+06       55916.331870     303.293273  28.538934  313.928270   \n",
       "1346  2.603064e+06       55638.262065     448.388472  34.653288  381.186173   \n",
       "\n",
       "        max_rms  mean_amplitude  max_amplitude  \n",
       "0     49.674942      247.397702     316.257670  \n",
       "1     37.056548      148.974619     182.332835  \n",
       "2     64.982833      275.866802     334.795907  \n",
       "3     37.320196      213.517155     265.804426  \n",
       "4     41.843011      170.419964     228.853719  \n",
       "...         ...             ...            ...  \n",
       "1342  34.246599      158.863220     216.525759  \n",
       "1343  85.907992      561.111206     713.798781  \n",
       "1344  35.481123      154.455935     199.842137  \n",
       "1345  37.629743      206.643426     285.589433  \n",
       "1346  44.188863      307.532195     402.075985  \n",
       "\n",
       "[1347 rows x 13 columns]"
      ]
     },
     "execution_count": 20,
     "metadata": {},
     "output_type": "execute_result"
    }
   ],
   "source": [
    "ripples_rec = pd.read_csv(Path('/Volumes/neuropixel/Data/CNPIX5-Alessandro/8-25-2020_g0_t2.N2_ripples.csv'))\n",
    "ripples_rec"
   ]
  },
  {
   "cell_type": "markdown",
   "metadata": {},
   "source": [
    "## Load scoring"
   ]
  },
  {
   "cell_type": "code",
   "execution_count": 21,
   "metadata": {},
   "outputs": [],
   "source": [
    "bl_hypnoPath = Path('/Volumes/neuropixel/Data/CNPIX5-Alessandro/8-24-2020_g0_t6.hypnogram.txt')\n",
    "bl_hypno = pd.read_csv(bl_hypnoPath, sep='\\t', names=['state', 'end_time'], skiprows=1)\n",
    "bl_hypno['start_time'] = bl_hypno.apply(lambda x: 0 if x.name == 0 else bl_hypno.loc[x.name - 1].end_time, axis=1)\n",
    "bl_hypno['duration'] = bl_hypno.apply(lambda x: x.end_time - x.start_time, axis=1)"
   ]
  },
  {
   "cell_type": "code",
   "execution_count": 22,
   "metadata": {},
   "outputs": [],
   "source": [
    "rec_hypnoPath = Path('/Volumes/neuropixel/Data/CNPIX5-Alessandro/8-25-2020_g0_t2.hypnogram.txt')\n",
    "rec_hypno = pd.read_csv(rec_hypnoPath, sep='\\t', names=['state', 'end_time'], skiprows=1)\n",
    "rec_hypno['start_time'] = rec_hypno.apply(lambda x: 0 if x.name == 0 else rec_hypno.loc[x.name - 1].end_time, axis=1)\n",
    "rec_hypno['duration'] = rec_hypno.apply(lambda x: x.end_time - x.start_time, axis=1)"
   ]
  },
  {
   "cell_type": "markdown",
   "metadata": {},
   "source": [
    "## Look at basic summary statistics"
   ]
  },
  {
   "cell_type": "code",
   "execution_count": 23,
   "metadata": {},
   "outputs": [
    {
     "data": {
      "text/plain": [
       "2131.9899826049805"
      ]
     },
     "execution_count": 23,
     "metadata": {},
     "output_type": "execute_result"
    }
   ],
   "source": [
    "bl_total_NREM = bl_hypno.loc[bl_hypno['state'] == 'N2'].duration.sum()\n",
    "bl_total_NREM"
   ]
  },
  {
   "cell_type": "code",
   "execution_count": 24,
   "metadata": {},
   "outputs": [
    {
     "data": {
      "text/plain": [
       "1937.9899787902832"
      ]
     },
     "execution_count": 24,
     "metadata": {},
     "output_type": "execute_result"
    }
   ],
   "source": [
    "rec_total_NREM = rec_hypno.loc[rec_hypno['state'] == 'N2'].duration.sum()\n",
    "rec_total_NREM"
   ]
  },
  {
   "cell_type": "code",
   "execution_count": 25,
   "metadata": {},
   "outputs": [
    {
     "data": {
      "text/plain": [
       "0.5924042844032495"
      ]
     },
     "execution_count": 25,
     "metadata": {},
     "output_type": "execute_result"
    }
   ],
   "source": [
    "len(ripples_bl) / bl_total_NREM"
   ]
  },
  {
   "cell_type": "code",
   "execution_count": 26,
   "metadata": {},
   "outputs": [
    {
     "data": {
      "text/plain": [
       "0.6950500336646807"
      ]
     },
     "execution_count": 26,
     "metadata": {},
     "output_type": "execute_result"
    }
   ],
   "source": [
    "len(ripples_rec) / rec_total_NREM"
   ]
  },
  {
   "cell_type": "code",
   "execution_count": 27,
   "metadata": {},
   "outputs": [
    {
     "data": {
      "text/plain": [
       "ripple_number        6.320000e+02\n",
       "start_time           1.976126e+06\n",
       "end_time             1.976179e+06\n",
       "duration             9.639945e+01\n",
       "center_time          1.976153e+06\n",
       "nadir_time           1.976153e+06\n",
       "envelope_integral    3.066939e+04\n",
       "envelope_peak        2.447013e+02\n",
       "mean_rms             2.814445e+01\n",
       "summed_rms           3.095889e+02\n",
       "max_rms              3.494730e+01\n",
       "mean_amplitude       1.649977e+02\n",
       "max_amplitude        2.087873e+02\n",
       "dtype: float64"
      ]
     },
     "execution_count": 27,
     "metadata": {},
     "output_type": "execute_result"
    }
   ],
   "source": [
    "ripples_bl.median()"
   ]
  },
  {
   "cell_type": "code",
   "execution_count": 28,
   "metadata": {},
   "outputs": [
    {
     "data": {
      "text/plain": [
       "ripple_number        6.740000e+02\n",
       "start_time           1.289179e+06\n",
       "end_time             1.289371e+06\n",
       "duration             9.239948e+01\n",
       "center_time          1.289275e+06\n",
       "nadir_time           1.289218e+06\n",
       "envelope_integral    3.631260e+04\n",
       "envelope_peak        3.155329e+02\n",
       "mean_rms             3.465905e+01\n",
       "summed_rms           3.812495e+02\n",
       "max_rms              4.418412e+01\n",
       "mean_amplitude       2.082937e+02\n",
       "max_amplitude        2.653004e+02\n",
       "dtype: float64"
      ]
     },
     "execution_count": 28,
     "metadata": {},
     "output_type": "execute_result"
    }
   ],
   "source": [
    "ripples_rec.median()"
   ]
  },
  {
   "cell_type": "code",
   "execution_count": 29,
   "metadata": {},
   "outputs": [
    {
     "data": {
      "text/plain": [
       "ripple_number        6.320000e+02\n",
       "start_time           1.857685e+06\n",
       "end_time             1.857798e+06\n",
       "duration             1.130967e+02\n",
       "center_time          1.857742e+06\n",
       "nadir_time           1.857739e+06\n",
       "envelope_integral    3.966304e+04\n",
       "envelope_peak        2.996402e+02\n",
       "mean_rms             3.283849e+01\n",
       "summed_rms           3.612234e+02\n",
       "max_rms              4.078565e+01\n",
       "mean_amplitude       1.997220e+02\n",
       "max_amplitude        2.517178e+02\n",
       "dtype: float64"
      ]
     },
     "execution_count": 29,
     "metadata": {},
     "output_type": "execute_result"
    }
   ],
   "source": [
    "ripples_bl.mean()"
   ]
  },
  {
   "cell_type": "code",
   "execution_count": 30,
   "metadata": {},
   "outputs": [
    {
     "data": {
      "text/plain": [
       "ripple_number        6.740000e+02\n",
       "start_time           1.331321e+06\n",
       "end_time             1.331426e+06\n",
       "duration             1.042432e+02\n",
       "center_time          1.331373e+06\n",
       "nadir_time           1.331374e+06\n",
       "envelope_integral    4.196341e+04\n",
       "envelope_peak        3.640575e+02\n",
       "mean_rms             3.926788e+01\n",
       "summed_rms           4.319467e+02\n",
       "max_rms              4.942589e+01\n",
       "mean_amplitude       2.382899e+02\n",
       "max_amplitude        3.019070e+02\n",
       "dtype: float64"
      ]
     },
     "execution_count": 30,
     "metadata": {},
     "output_type": "execute_result"
    }
   ],
   "source": [
    "ripples_rec.mean()"
   ]
  },
  {
   "cell_type": "markdown",
   "metadata": {},
   "source": [
    "## Look at feature distributions and correlations"
   ]
  },
  {
   "cell_type": "code",
   "execution_count": 31,
   "metadata": {},
   "outputs": [
    {
     "data": {
      "application/vnd.jupyter.widget-view+json": {
       "model_id": "87898c6660b24a7d969887085c52fd3b",
       "version_major": 2,
       "version_minor": 0
      },
      "text/plain": [
       "Canvas(toolbar=Toolbar(toolitems=[('Home', 'Reset original view', 'home', 'home'), ('Back', 'Back to previous …"
      ]
     },
     "metadata": {},
     "output_type": "display_data"
    }
   ],
   "source": [
    "ax = scatter_matrix(ripples_bl, figsize=(10, 10))"
   ]
  },
  {
   "cell_type": "code",
   "execution_count": 32,
   "metadata": {},
   "outputs": [
    {
     "data": {
      "application/vnd.jupyter.widget-view+json": {
       "model_id": "456c7f6ff65d46f6bdcc165753305ad9",
       "version_major": 2,
       "version_minor": 0
      },
      "text/plain": [
       "Canvas(toolbar=Toolbar(toolitems=[('Home', 'Reset original view', 'home', 'home'), ('Back', 'Back to previous …"
      ]
     },
     "metadata": {},
     "output_type": "display_data"
    }
   ],
   "source": [
    "ax2 = scatter_matrix(ripples_bl.applymap(np.log), figsize=(10, 10))"
   ]
  },
  {
   "cell_type": "markdown",
   "metadata": {},
   "source": [
    "## Look at log-normally distributed features"
   ]
  },
  {
   "cell_type": "code",
   "execution_count": 33,
   "metadata": {},
   "outputs": [
    {
     "data": {
      "application/vnd.jupyter.widget-view+json": {
       "model_id": "c13b86e376ab43149739fd1cf685c4f3",
       "version_major": 2,
       "version_minor": 0
      },
      "text/plain": [
       "Canvas(toolbar=Toolbar(toolitems=[('Home', 'Reset original view', 'home', 'home'), ('Back', 'Back to previous …"
      ]
     },
     "metadata": {},
     "output_type": "display_data"
    }
   ],
   "source": [
    "import scipy.stats as stats\n",
    "\n",
    "def plot_qq(bl, rec, var):\n",
    "    fig, axes = plt.subplots(2, 2, figsize=(10, 10))\n",
    "    \n",
    "    stats.probplot(bl[var], dist=\"norm\", plot=axes[0, 0])\n",
    "    axes[0, 0].set_title(\"Baseline {}\".format(var))\n",
    "    stats.probplot(np.log(bl[var]), dist=\"norm\", plot=axes[0, 1])\n",
    "    axes[0, 1].set_title(\"Baseline log {}\".format(var))\n",
    "    stats.probplot(rec[var], dist=\"norm\", plot=axes[1, 0])\n",
    "    axes[1, 0].set_title(\"Recovery {}\".format(var))\n",
    "    stats.probplot(np.log(rec[var]), dist=\"norm\", plot=axes[1, 1])\n",
    "    axes[1, 1].set_title(\"Recovery log {}\".format(var))\n",
    "\n",
    "    plt.show()\n",
    "            \n",
    "plot_qq(ripples_bl, ripples_rec, 'duration')"
   ]
  },
  {
   "cell_type": "code",
   "execution_count": 34,
   "metadata": {},
   "outputs": [],
   "source": [
    "from statsmodels.graphics.tsaplots import plot_acf, plot_pacf\n",
    "\n",
    "def plot_acf_pacf(bl, rec, var, lags=None):\n",
    "    fig, axes = plt.subplots(2, 2, figsize=(10, 10))\n",
    "\n",
    "    plot_acf(bl[var], lags=lags, ax=axes[0, 0], title=\"Baseline {} acf\".format(var))\n",
    "    plot_pacf(bl[var], lags=lags, ax=axes[0, 1], title=\"Baseline {} pacf\".format(var))\n",
    "    plot_acf(rec[var], lags=lags, ax=axes[1, 0], title=\"Recovery {} acf\".format(var))\n",
    "    plot_pacf(rec[var], lags=lags, ax=axes[1, 1], title=\"Recovery {} pacf\".format(var))\n",
    "\n",
    "    plt.show()"
   ]
  },
  {
   "cell_type": "code",
   "execution_count": 35,
   "metadata": {},
   "outputs": [
    {
     "data": {
      "application/vnd.jupyter.widget-view+json": {
       "model_id": "a4afa518f7f2414ebb44f2cdd28fff91",
       "version_major": 2,
       "version_minor": 0
      },
      "text/plain": [
       "Canvas(toolbar=Toolbar(toolitems=[('Home', 'Reset original view', 'home', 'home'), ('Back', 'Back to previous …"
      ]
     },
     "metadata": {},
     "output_type": "display_data"
    }
   ],
   "source": [
    "plot_acf_pacf(ripples_bl, ripples_rec, 'duration')"
   ]
  },
  {
   "cell_type": "code",
   "execution_count": 36,
   "metadata": {},
   "outputs": [],
   "source": [
    "def plot_vs_time(bl, rec, var):\n",
    "    fig, axes = plt.subplots(2, 1)\n",
    "    bl.plot.scatter(x='center_time', y=var, ax=axes[0], title='Baseline')\n",
    "    rec.plot.scatter(x='center_time', y=var, ax=axes[1], title='Recovery')\n",
    "    plt.show()"
   ]
  },
  {
   "cell_type": "code",
   "execution_count": 37,
   "metadata": {},
   "outputs": [
    {
     "data": {
      "application/vnd.jupyter.widget-view+json": {
       "model_id": "0e3355b5f67941e78ae3164ad38a3450",
       "version_major": 2,
       "version_minor": 0
      },
      "text/plain": [
       "Canvas(toolbar=Toolbar(toolitems=[('Home', 'Reset original view', 'home', 'home'), ('Back', 'Back to previous …"
      ]
     },
     "metadata": {},
     "output_type": "display_data"
    }
   ],
   "source": [
    "plot_vs_time(ripples_bl, ripples_rec, 'duration')"
   ]
  },
  {
   "cell_type": "code",
   "execution_count": 38,
   "metadata": {},
   "outputs": [],
   "source": [
    "def test_slope(ripples, x, y):\n",
    "    return stats.linregress(ripples[x], ripples[y])"
   ]
  },
  {
   "cell_type": "code",
   "execution_count": 39,
   "metadata": {},
   "outputs": [
    {
     "data": {
      "text/plain": [
       "LinregressResult(slope=-2.227569538081269e-06, intercept=117.2349970025725, rvalue=-0.03831067251207524, pvalue=0.17362010849789852, stderr=1.6361948015577413e-06)"
      ]
     },
     "execution_count": 39,
     "metadata": {},
     "output_type": "execute_result"
    }
   ],
   "source": [
    "test_slope(ripples_bl, 'center_time', 'duration')"
   ]
  },
  {
   "cell_type": "code",
   "execution_count": 40,
   "metadata": {},
   "outputs": [
    {
     "data": {
      "text/plain": [
       "LinregressResult(slope=3.065970109066849e-06, intercept=100.16126046610884, rvalue=0.053622168154104595, pvalue=0.049113790510044206, stderr=1.5568154511535452e-06)"
      ]
     },
     "execution_count": 40,
     "metadata": {},
     "output_type": "execute_result"
    }
   ],
   "source": [
    "test_slope(ripples_rec, 'center_time', 'duration')"
   ]
  },
  {
   "cell_type": "code",
   "execution_count": 41,
   "metadata": {},
   "outputs": [
    {
     "data": {
      "text/plain": [
       "Ttest_indResult(statistic=2.9630554699742437, pvalue=0.003075099641499309)"
      ]
     },
     "execution_count": 41,
     "metadata": {},
     "output_type": "execute_result"
    }
   ],
   "source": [
    "stats.ttest_ind(np.log(ripples_bl.duration), np.log(ripples_rec.duration), equal_var=False)"
   ]
  },
  {
   "cell_type": "code",
   "execution_count": 42,
   "metadata": {},
   "outputs": [],
   "source": [
    "# https://dfrieds.com/math/effect-size.html\n",
    "def interpret_cohens_d(cohens_d):\n",
    "    \"\"\"\n",
    "    Determines text interpretation of effect size given Cohen's d value\n",
    "\n",
    "    :param cohens_d: float of Cohen's d value\n",
    "    :returns: effect_size_interpretation: adjective to describe magnitude of effect size\n",
    "    \"\"\"\n",
    "    if 0<=cohens_d<0.1:\n",
    "        effect_size_interpretation = \"Very Small\"\n",
    "    elif 0.1<=cohens_d<0.35:\n",
    "        effect_size_interpretation = \"Small\"\n",
    "    elif 0.35<=cohens_d<0.65:\n",
    "        effect_size_interpretation = \"Medium\"\n",
    "    elif 0.65<=cohens_d<0.9:\n",
    "        effect_size_interpretation = \"Large\"\n",
    "    elif cohens_d >= 0.9:\n",
    "        effect_size_interpretation = \"Very Large\"\n",
    "    return effect_size_interpretation"
   ]
  },
  {
   "cell_type": "code",
   "execution_count": 43,
   "metadata": {},
   "outputs": [],
   "source": [
    "def two_sample_data_setup_for_cohens_d(mean_1, mean_2, sample_std_dev_1, sample_std_dev_2):\n",
    "    \"\"\"\n",
    "    Creates two normal distributions of data values. \n",
    "    Calculates differences in values and standard deviation of list of differences.\n",
    "    Calculates Cohen's D - equation used in dependent t-tests\n",
    "\n",
    "    :param mean_1: mean of group one\n",
    "    :param mean_2: mean of group two\n",
    "    :param sample_std_dev_1: sample standard deviation of group one\n",
    "    :param sample_std_dev_2: sample standard deviation of group two\n",
    "    \n",
    "    :returns: values_1, values_2, cohens_d: values for group one, values for group two, Cohen's d\n",
    "    \"\"\"\n",
    "    values_1 = np.random.normal(loc=mean_1, scale=sample_std_dev_1, size=3000)\n",
    "    values_2 = np.random.normal(loc=mean_2, scale=sample_std_dev_2, size=3000)\n",
    "    differences_group_values = np.subtract(values_1, values_2)\n",
    "    std_dev_differences_group_values = np.std(differences_group_values, ddof=1)\n",
    "    cohens_d = round(abs((mean_1 - mean_2)/std_dev_differences_group_values), 2)\n",
    "    return values_1, values_2, cohens_d"
   ]
  },
  {
   "cell_type": "code",
   "execution_count": 44,
   "metadata": {},
   "outputs": [],
   "source": [
    "import seaborn as sns\n",
    "\n",
    "def visualize_distributions(values_1, values_2, cohens_d, cohens_d_interpretation):\n",
    "    \"\"\"\n",
    "    Plots KDE plots of values from values_1 and values_2.\n",
    "    Inserts Cohen's d value and interpretation in title\n",
    "\n",
    "    :param values_1: values in group one\n",
    "    :param values_2: values in group two \n",
    "    :param cohens_d: Cohen's d value\n",
    "    :param cohens_d_interpretation: text to describe magnitude of effect size\n",
    "    :returns: plot figure\n",
    "    \"\"\"\n",
    "    plt.figure(figsize=(10, 8))\n",
    "    sns.distplot(values_1, hist=False, label='Baseline')\n",
    "    sns.distplot(values_2, hist=False, label='Recovery')\n",
    "    plt.xlabel(\"Log-transformed duration\", labelpad=13)\n",
    "    plt.ylabel(\"frequency\", labelpad=13)\n",
    "    plt.legend()\n",
    "    plt.title(\"Distribution of Two Groups with {0} Cohen's d of {1}\".format(cohens_d_interpretation, cohens_d), y=1.015, fontsize=22)"
   ]
  },
  {
   "cell_type": "code",
   "execution_count": 45,
   "metadata": {},
   "outputs": [
    {
     "data": {
      "application/vnd.jupyter.widget-view+json": {
       "model_id": "23ca3c6d65444d2b89016c31f6545ef7",
       "version_major": 2,
       "version_minor": 0
      },
      "text/plain": [
       "Canvas(toolbar=Toolbar(toolitems=[('Home', 'Reset original view', 'home', 'home'), ('Back', 'Back to previous …"
      ]
     },
     "metadata": {},
     "output_type": "display_data"
    },
    {
     "name": "stderr",
     "output_type": "stream",
     "text": [
      "/home/gfindlay/miniconda3/envs/ecephys/lib/python3.7/site-packages/seaborn/distributions.py:2551: FutureWarning: `distplot` is a deprecated function and will be removed in a future version. Please adapt your code to use either `displot` (a figure-level function with similar flexibility) or `kdeplot` (an axes-level function for kernel density plots).\n",
      "  warnings.warn(msg, FutureWarning)\n",
      "/home/gfindlay/miniconda3/envs/ecephys/lib/python3.7/site-packages/seaborn/distributions.py:2551: FutureWarning: `distplot` is a deprecated function and will be removed in a future version. Please adapt your code to use either `displot` (a figure-level function with similar flexibility) or `kdeplot` (an axes-level function for kernel density plots).\n",
      "  warnings.warn(msg, FutureWarning)\n"
     ]
    }
   ],
   "source": [
    "values_bl, values_rec, cohens_d = two_sample_data_setup_for_cohens_d(np.log(ripples_bl.duration).mean(), \n",
    "                                                                     np.log(ripples_rec.duration).mean(), \n",
    "                                                                     np.log(ripples_bl.duration).std(), \n",
    "                                                                     np.log(ripples_rec.duration).std())\n",
    "visualize_distributions(np.log(ripples_bl.duration), np.log(ripples_rec).duration, cohens_d, interpret_cohens_d(cohens_d))\n"
   ]
  },
  {
   "cell_type": "code",
   "execution_count": 46,
   "metadata": {},
   "outputs": [
    {
     "name": "stdout",
     "output_type": "stream",
     "text": [
      "4.148358188426115 0.04167491347393784 93.99946847057436\n"
     ]
    }
   ],
   "source": [
    "stat, p, med, tbl = stats.median_test(ripples_bl.duration, ripples_rec.duration) \n",
    "print(stat, p, med)"
   ]
  },
  {
   "cell_type": "code",
   "execution_count": 47,
   "metadata": {},
   "outputs": [
    {
     "data": {
      "text/plain": [
       "KruskalResult(statistic=4.9072937674332815, pvalue=0.026743510381078927)"
      ]
     },
     "execution_count": 47,
     "metadata": {},
     "output_type": "execute_result"
    }
   ],
   "source": [
    "stats.kruskal(ripples_bl.duration, ripples_rec.duration)"
   ]
  },
  {
   "cell_type": "code",
   "execution_count": 48,
   "metadata": {},
   "outputs": [
    {
     "data": {
      "text/plain": [
       "MannwhitneyuResult(statistic=808010.0, pvalue=0.013372646625704884)"
      ]
     },
     "execution_count": 48,
     "metadata": {},
     "output_type": "execute_result"
    }
   ],
   "source": [
    "stats.mannwhitneyu(ripples_bl.duration, ripples_rec.duration)"
   ]
  },
  {
   "cell_type": "markdown",
   "metadata": {},
   "source": [
    "## Look at non-normally distributed features"
   ]
  },
  {
   "cell_type": "markdown",
   "metadata": {},
   "source": [
    "### Max_amplitude"
   ]
  },
  {
   "cell_type": "code",
   "execution_count": 49,
   "metadata": {},
   "outputs": [
    {
     "data": {
      "application/vnd.jupyter.widget-view+json": {
       "model_id": "3370e8b7a5db4074850fd35dc5f7d1ce",
       "version_major": 2,
       "version_minor": 0
      },
      "text/plain": [
       "Canvas(toolbar=Toolbar(toolitems=[('Home', 'Reset original view', 'home', 'home'), ('Back', 'Back to previous …"
      ]
     },
     "metadata": {},
     "output_type": "display_data"
    }
   ],
   "source": [
    "plot_acf_pacf(ripples_bl, ripples_rec, 'max_amplitude')"
   ]
  },
  {
   "cell_type": "code",
   "execution_count": 50,
   "metadata": {},
   "outputs": [
    {
     "data": {
      "application/vnd.jupyter.widget-view+json": {
       "model_id": "628d4ded21564749a7bdaf5e714b5b22",
       "version_major": 2,
       "version_minor": 0
      },
      "text/plain": [
       "Canvas(toolbar=Toolbar(toolitems=[('Home', 'Reset original view', 'home', 'home'), ('Back', 'Back to previous …"
      ]
     },
     "metadata": {},
     "output_type": "display_data"
    }
   ],
   "source": [
    "plot_vs_time(ripples_bl, ripples_rec, 'max_amplitude')"
   ]
  },
  {
   "cell_type": "code",
   "execution_count": 51,
   "metadata": {},
   "outputs": [
    {
     "data": {
      "text/plain": [
       "LinregressResult(slope=1.9912805985491035e-06, intercept=248.01854861608294, rvalue=0.01630941090875077, pvalue=0.5625351615701933, stderr=3.4377862969883686e-06)"
      ]
     },
     "execution_count": 51,
     "metadata": {},
     "output_type": "execute_result"
    }
   ],
   "source": [
    "test_slope(ripples_bl, 'center_time', 'max_amplitude')"
   ]
  },
  {
   "cell_type": "code",
   "execution_count": 52,
   "metadata": {},
   "outputs": [
    {
     "data": {
      "text/plain": [
       "LinregressResult(slope=5.4787154814084404e-06, intercept=294.6127352386944, rvalue=0.033892131281950795, pvalue=0.21383307898618212, stderr=4.4052356984357e-06)"
      ]
     },
     "execution_count": 52,
     "metadata": {},
     "output_type": "execute_result"
    }
   ],
   "source": [
    "test_slope(ripples_rec, 'center_time', 'max_amplitude')"
   ]
  },
  {
   "cell_type": "code",
   "execution_count": 53,
   "metadata": {},
   "outputs": [
    {
     "data": {
      "text/plain": [
       "MannwhitneyuResult(statistic=599306.0, pvalue=2.6863946493179013e-39)"
      ]
     },
     "execution_count": 53,
     "metadata": {},
     "output_type": "execute_result"
    }
   ],
   "source": [
    "stats.mannwhitneyu(ripples_bl.max_amplitude, ripples_rec.max_amplitude)"
   ]
  },
  {
   "cell_type": "markdown",
   "metadata": {},
   "source": [
    "### Envelope Peak"
   ]
  },
  {
   "cell_type": "code",
   "execution_count": 54,
   "metadata": {},
   "outputs": [
    {
     "data": {
      "application/vnd.jupyter.widget-view+json": {
       "model_id": "89a7a32a044a4dd8ab33b8ea8f47cb76",
       "version_major": 2,
       "version_minor": 0
      },
      "text/plain": [
       "Canvas(toolbar=Toolbar(toolitems=[('Home', 'Reset original view', 'home', 'home'), ('Back', 'Back to previous …"
      ]
     },
     "metadata": {},
     "output_type": "display_data"
    }
   ],
   "source": [
    "plot_acf_pacf(ripples_bl, ripples_rec, 'envelope_peak')"
   ]
  },
  {
   "cell_type": "code",
   "execution_count": 55,
   "metadata": {},
   "outputs": [
    {
     "data": {
      "application/vnd.jupyter.widget-view+json": {
       "model_id": "847fceb94f2e472e8778cca97ce67440",
       "version_major": 2,
       "version_minor": 0
      },
      "text/plain": [
       "Canvas(toolbar=Toolbar(toolitems=[('Home', 'Reset original view', 'home', 'home'), ('Back', 'Back to previous …"
      ]
     },
     "metadata": {},
     "output_type": "display_data"
    }
   ],
   "source": [
    "plot_vs_time(ripples_bl, ripples_rec, 'envelope_peak')"
   ]
  },
  {
   "cell_type": "code",
   "execution_count": 56,
   "metadata": {},
   "outputs": [
    {
     "data": {
      "text/plain": [
       "LinregressResult(slope=2.5446828274427314e-06, intercept=294.91287388076273, rvalue=0.01662553690619335, pvalue=0.5549855721899639, stderr=4.3096341779347966e-06)"
      ]
     },
     "execution_count": 56,
     "metadata": {},
     "output_type": "execute_result"
    }
   ],
   "source": [
    "test_slope(ripples_bl, 'center_time', 'envelope_peak')"
   ]
  },
  {
   "cell_type": "code",
   "execution_count": 57,
   "metadata": {},
   "outputs": [
    {
     "data": {
      "text/plain": [
       "LinregressResult(slope=5.489698809838363e-06, intercept=356.74866975529966, rvalue=0.02671130165876352, pvalue=0.3272789398584274, stderr=5.601925580461211e-06)"
      ]
     },
     "execution_count": 57,
     "metadata": {},
     "output_type": "execute_result"
    }
   ],
   "source": [
    "test_slope(ripples_rec, 'center_time', 'envelope_peak')"
   ]
  },
  {
   "cell_type": "code",
   "execution_count": 58,
   "metadata": {},
   "outputs": [
    {
     "data": {
      "text/plain": [
       "MannwhitneyuResult(statistic=591087.0, pvalue=8.958482067528622e-42)"
      ]
     },
     "execution_count": 58,
     "metadata": {},
     "output_type": "execute_result"
    }
   ],
   "source": [
    "stats.mannwhitneyu(ripples_bl.envelope_peak, ripples_rec.envelope_peak)"
   ]
  },
  {
   "cell_type": "code",
   "execution_count": 59,
   "metadata": {},
   "outputs": [
    {
     "data": {
      "application/vnd.jupyter.widget-view+json": {
       "model_id": "439c5caa8ad44fd2a2bfe354a451ce8b",
       "version_major": 2,
       "version_minor": 0
      },
      "text/plain": [
       "Canvas(toolbar=Toolbar(toolitems=[('Home', 'Reset original view', 'home', 'home'), ('Back', 'Back to previous …"
      ]
     },
     "metadata": {},
     "output_type": "display_data"
    },
    {
     "name": "stderr",
     "output_type": "stream",
     "text": [
      "/home/gfindlay/miniconda3/envs/ecephys/lib/python3.7/site-packages/seaborn/distributions.py:2551: FutureWarning: `distplot` is a deprecated function and will be removed in a future version. Please adapt your code to use either `displot` (a figure-level function with similar flexibility) or `kdeplot` (an axes-level function for kernel density plots).\n",
      "  warnings.warn(msg, FutureWarning)\n",
      "/home/gfindlay/miniconda3/envs/ecephys/lib/python3.7/site-packages/seaborn/distributions.py:2551: FutureWarning: `distplot` is a deprecated function and will be removed in a future version. Please adapt your code to use either `displot` (a figure-level function with similar flexibility) or `kdeplot` (an axes-level function for kernel density plots).\n",
      "  warnings.warn(msg, FutureWarning)\n"
     ]
    },
    {
     "data": {
      "text/plain": [
       "<matplotlib.legend.Legend at 0x7f2eddc67c50>"
      ]
     },
     "execution_count": 59,
     "metadata": {},
     "output_type": "execute_result"
    }
   ],
   "source": [
    "plt.figure(figsize=(10, 8))\n",
    "sns.distplot(ripples_bl.envelope_peak, hist=False, label='Baseline')\n",
    "sns.distplot(ripples_rec.envelope_peak, hist=False, label='Recovery')\n",
    "plt.xlabel(\"Envelope peak\", labelpad=13)\n",
    "plt.ylabel(\"frequency\", labelpad=13)\n",
    "plt.legend()"
   ]
  },
  {
   "cell_type": "markdown",
   "metadata": {},
   "source": [
    "### Envelope Integral"
   ]
  },
  {
   "cell_type": "code",
   "execution_count": 60,
   "metadata": {},
   "outputs": [
    {
     "data": {
      "application/vnd.jupyter.widget-view+json": {
       "model_id": "c1b41aba7d274268997b5a99bb7ceaef",
       "version_major": 2,
       "version_minor": 0
      },
      "text/plain": [
       "Canvas(toolbar=Toolbar(toolitems=[('Home', 'Reset original view', 'home', 'home'), ('Back', 'Back to previous …"
      ]
     },
     "metadata": {},
     "output_type": "display_data"
    }
   ],
   "source": [
    "plot_acf_pacf(ripples_bl, ripples_rec, 'envelope_integral')"
   ]
  },
  {
   "cell_type": "code",
   "execution_count": 61,
   "metadata": {},
   "outputs": [
    {
     "data": {
      "application/vnd.jupyter.widget-view+json": {
       "model_id": "0463a5fd056f4ff29ce9f18f9e42963c",
       "version_major": 2,
       "version_minor": 0
      },
      "text/plain": [
       "Canvas(toolbar=Toolbar(toolitems=[('Home', 'Reset original view', 'home', 'home'), ('Back', 'Back to previous …"
      ]
     },
     "metadata": {},
     "output_type": "display_data"
    }
   ],
   "source": [
    "plot_vs_time(ripples_bl, ripples_rec, 'envelope_integral')"
   ]
  },
  {
   "cell_type": "code",
   "execution_count": 62,
   "metadata": {},
   "outputs": [
    {
     "data": {
      "text/plain": [
       "LinregressResult(slope=-0.0007033521688767107, intercept=40969.68195259932, rvalue=-0.02550453297256376, pvalue=0.36512215648151414, stderr=0.0007763483176394732)"
      ]
     },
     "execution_count": 62,
     "metadata": {},
     "output_type": "execute_result"
    }
   ],
   "source": [
    "test_slope(ripples_bl, 'center_time', 'envelope_integral')"
   ]
  },
  {
   "cell_type": "code",
   "execution_count": 63,
   "metadata": {},
   "outputs": [
    {
     "data": {
      "text/plain": [
       "LinregressResult(slope=0.001860357280747324, intercept=39486.5785864411, rvalue=0.06480390670923414, pvalue=0.01737413906606255, stderr=0.0007811243708375038)"
      ]
     },
     "execution_count": 63,
     "metadata": {},
     "output_type": "execute_result"
    }
   ],
   "source": [
    "test_slope(ripples_rec, 'center_time', 'envelope_integral')"
   ]
  },
  {
   "cell_type": "code",
   "execution_count": 64,
   "metadata": {},
   "outputs": [
    {
     "data": {
      "text/plain": [
       "MannwhitneyuResult(statistic=729936.0, pvalue=1.7687959042790932e-10)"
      ]
     },
     "execution_count": 64,
     "metadata": {},
     "output_type": "execute_result"
    }
   ],
   "source": [
    "stats.mannwhitneyu(ripples_bl.envelope_integral, ripples_rec.envelope_integral)"
   ]
  },
  {
   "cell_type": "code",
   "execution_count": 65,
   "metadata": {},
   "outputs": [
    {
     "data": {
      "application/vnd.jupyter.widget-view+json": {
       "model_id": "6a5c65ebf9dc4010a62fb8ebbc4398be",
       "version_major": 2,
       "version_minor": 0
      },
      "text/plain": [
       "Canvas(toolbar=Toolbar(toolitems=[('Home', 'Reset original view', 'home', 'home'), ('Back', 'Back to previous …"
      ]
     },
     "metadata": {},
     "output_type": "display_data"
    },
    {
     "name": "stderr",
     "output_type": "stream",
     "text": [
      "/home/gfindlay/miniconda3/envs/ecephys/lib/python3.7/site-packages/seaborn/distributions.py:2551: FutureWarning: `distplot` is a deprecated function and will be removed in a future version. Please adapt your code to use either `displot` (a figure-level function with similar flexibility) or `kdeplot` (an axes-level function for kernel density plots).\n",
      "  warnings.warn(msg, FutureWarning)\n",
      "/home/gfindlay/miniconda3/envs/ecephys/lib/python3.7/site-packages/seaborn/distributions.py:2551: FutureWarning: `distplot` is a deprecated function and will be removed in a future version. Please adapt your code to use either `displot` (a figure-level function with similar flexibility) or `kdeplot` (an axes-level function for kernel density plots).\n",
      "  warnings.warn(msg, FutureWarning)\n"
     ]
    },
    {
     "data": {
      "text/plain": [
       "<matplotlib.legend.Legend at 0x7f2edd92f710>"
      ]
     },
     "execution_count": 65,
     "metadata": {},
     "output_type": "execute_result"
    }
   ],
   "source": [
    "plt.figure(figsize=(10, 8))\n",
    "sns.distplot(ripples_bl.envelope_integral, hist=False, label='Baseline')\n",
    "sns.distplot(ripples_rec.envelope_integral, hist=False, label='Recovery')\n",
    "plt.xlabel(\"Envelope integral\", labelpad=13)\n",
    "plt.ylabel(\"frequency\", labelpad=13)\n",
    "plt.legend()"
   ]
  },
  {
   "cell_type": "markdown",
   "metadata": {},
   "source": [
    "## Look at ripple density"
   ]
  },
  {
   "cell_type": "code",
   "execution_count": 66,
   "metadata": {},
   "outputs": [
    {
     "data": {
      "application/vnd.jupyter.widget-view+json": {
       "model_id": "0908327f28fd4e77b52dfba0eff2832c",
       "version_major": 2,
       "version_minor": 0
      },
      "text/plain": [
       "Canvas(toolbar=Toolbar(toolitems=[('Home', 'Reset original view', 'home', 'home'), ('Back', 'Back to previous …"
      ]
     },
     "metadata": {},
     "output_type": "display_data"
    },
    {
     "name": "stderr",
     "output_type": "stream",
     "text": [
      "/home/gfindlay/miniconda3/envs/ecephys/lib/python3.7/site-packages/seaborn/distributions.py:2551: FutureWarning: `distplot` is a deprecated function and will be removed in a future version. Please adapt your code to use either `displot` (a figure-level function with similar flexibility) or `kdeplot` (an axes-level function for kernel density plots).\n",
      "  warnings.warn(msg, FutureWarning)\n",
      "/home/gfindlay/miniconda3/envs/ecephys/lib/python3.7/site-packages/seaborn/distributions.py:2551: FutureWarning: `distplot` is a deprecated function and will be removed in a future version. Please adapt your code to use either `displot` (a figure-level function with similar flexibility) or `kdeplot` (an axes-level function for kernel density plots).\n",
      "  warnings.warn(msg, FutureWarning)\n"
     ]
    },
    {
     "data": {
      "text/plain": [
       "<matplotlib.legend.Legend at 0x7f2edd8e58d0>"
      ]
     },
     "execution_count": 66,
     "metadata": {},
     "output_type": "execute_result"
    }
   ],
   "source": [
    "plt.figure(figsize=(10, 8))\n",
    "sns.distplot(bl_hypno[bl_hypno.state == \"N2\"].duration, hist=False, label='Baseline')\n",
    "sns.distplot(rec_hypno[rec_hypno.state == \"N2\"].duration, hist=False, label='Recovery')\n",
    "plt.xlabel(\"NREM Episode Duration\", labelpad=13)\n",
    "plt.ylabel(\"frequency\", labelpad=13)\n",
    "plt.legend()"
   ]
  },
  {
   "cell_type": "code",
   "execution_count": 67,
   "metadata": {},
   "outputs": [],
   "source": [
    "def get_ripple_density(hypno, ripples):  \n",
    "    N2 = hypno[hypno.state == \"N2\"]\n",
    "    N2['n_ripples'] = N2.apply(lambda episode: np.sum(np.logical_and(ripples.center_time >= episode.start_time * 1000, ripples.center_time <= episode.end_time * 1000)), axis=1)\n",
    "    N2['ripple_density'] = N2.apply(lambda episode: episode.n_ripples / episode.duration, axis=1)\n",
    "    return N2"
   ]
  },
  {
   "cell_type": "code",
   "execution_count": 68,
   "metadata": {},
   "outputs": [
    {
     "data": {
      "application/vnd.jupyter.widget-view+json": {
       "model_id": "3fdfd40278e34d9d8a0fd9ce0589b279",
       "version_major": 2,
       "version_minor": 0
      },
      "text/plain": [
       "Canvas(toolbar=Toolbar(toolitems=[('Home', 'Reset original view', 'home', 'home'), ('Back', 'Back to previous …"
      ]
     },
     "metadata": {},
     "output_type": "display_data"
    },
    {
     "name": "stdout",
     "output_type": "stream",
     "text": [
      "Mean ripple density:  0.5889499505336129 \n",
      " Median ripple density:  0.5937500943740359\n"
     ]
    }
   ],
   "source": [
    "bl_density = get_ripple_density(bl_hypno, ripples_bl)\n",
    "\n",
    "plt.figure()\n",
    "ax = bl_density.ripple_density.plot.hist(bins=20)\n",
    "\n",
    "print(\"Mean ripple density: \", bl_density.ripple_density.mean(), \"\\n\", \"Median ripple density: \", bl_density.ripple_density.median())"
   ]
  },
  {
   "cell_type": "code",
   "execution_count": 69,
   "metadata": {},
   "outputs": [
    {
     "data": {
      "application/vnd.jupyter.widget-view+json": {
       "model_id": "89ee0851dc0e46d38cd762db61e76cea",
       "version_major": 2,
       "version_minor": 0
      },
      "text/plain": [
       "Canvas(toolbar=Toolbar(toolitems=[('Home', 'Reset original view', 'home', 'home'), ('Back', 'Back to previous …"
      ]
     },
     "metadata": {},
     "output_type": "display_data"
    }
   ],
   "source": [
    "ax = bl_density.plot(x='start_time', y='ripple_density')"
   ]
  },
  {
   "cell_type": "code",
   "execution_count": 70,
   "metadata": {},
   "outputs": [
    {
     "data": {
      "text/plain": [
       "LinregressResult(slope=1.950805841744848e-05, intercept=0.5533312811977542, rvalue=0.12949636227455052, pvalue=0.4196983517181069, stderr=2.3919488517045066e-05)"
      ]
     },
     "execution_count": 70,
     "metadata": {},
     "output_type": "execute_result"
    }
   ],
   "source": [
    "test_slope(bl_density, 'start_time', 'ripple_density')"
   ]
  },
  {
   "cell_type": "code",
   "execution_count": 71,
   "metadata": {},
   "outputs": [
    {
     "data": {
      "application/vnd.jupyter.widget-view+json": {
       "model_id": "63450f15009349fe98cf6d60cc5565e5",
       "version_major": 2,
       "version_minor": 0
      },
      "text/plain": [
       "Canvas(toolbar=Toolbar(toolitems=[('Home', 'Reset original view', 'home', 'home'), ('Back', 'Back to previous …"
      ]
     },
     "metadata": {},
     "output_type": "display_data"
    },
    {
     "name": "stdout",
     "output_type": "stream",
     "text": [
      "Mean ripple density:  0.6351587668740211 \n",
      " Median ripple density:  0.6736111111111112\n"
     ]
    }
   ],
   "source": [
    "rec_density = get_ripple_density(rec_hypno, ripples_rec)\n",
    "\n",
    "plt.figure()\n",
    "ax = rec_density.ripple_density.plot.hist(bins=20)\n",
    "\n",
    "print(\"Mean ripple density: \", rec_density.ripple_density.mean(), \"\\n\", \"Median ripple density: \", rec_density.ripple_density.median())"
   ]
  },
  {
   "cell_type": "code",
   "execution_count": 72,
   "metadata": {},
   "outputs": [
    {
     "data": {
      "application/vnd.jupyter.widget-view+json": {
       "model_id": "661fec5c7c81488e99332a968904c422",
       "version_major": 2,
       "version_minor": 0
      },
      "text/plain": [
       "Canvas(toolbar=Toolbar(toolitems=[('Home', 'Reset original view', 'home', 'home'), ('Back', 'Back to previous …"
      ]
     },
     "metadata": {},
     "output_type": "display_data"
    },
    {
     "data": {
      "text/plain": [
       "<AxesSubplot:>"
      ]
     },
     "execution_count": 72,
     "metadata": {},
     "output_type": "execute_result"
    }
   ],
   "source": [
    "plt.figure()\n",
    "rec_density.boxplot(column=['ripple_density'])"
   ]
  },
  {
   "cell_type": "code",
   "execution_count": 73,
   "metadata": {},
   "outputs": [
    {
     "data": {
      "application/vnd.jupyter.widget-view+json": {
       "model_id": "0c09b89683434aa2830a37025013eb26",
       "version_major": 2,
       "version_minor": 0
      },
      "text/plain": [
       "Canvas(toolbar=Toolbar(toolitems=[('Home', 'Reset original view', 'home', 'home'), ('Back', 'Back to previous …"
      ]
     },
     "metadata": {},
     "output_type": "display_data"
    }
   ],
   "source": [
    "ax = rec_density.plot(x='start_time', y='ripple_density')"
   ]
  },
  {
   "cell_type": "code",
   "execution_count": 74,
   "metadata": {},
   "outputs": [
    {
     "data": {
      "text/plain": [
       "LinregressResult(slope=-0.00011163706031764444, intercept=0.764712458018304, rvalue=-0.37490838312604574, pvalue=0.22983279539129492, stderr=8.729552026558366e-05)"
      ]
     },
     "execution_count": 74,
     "metadata": {},
     "output_type": "execute_result"
    }
   ],
   "source": [
    "test_slope(rec_density, 'start_time', 'ripple_density')"
   ]
  },
  {
   "cell_type": "code",
   "execution_count": 75,
   "metadata": {},
   "outputs": [
    {
     "name": "stderr",
     "output_type": "stream",
     "text": [
      "/home/gfindlay/miniconda3/envs/ecephys/lib/python3.7/site-packages/ipykernel_launcher.py:4: RuntimeWarning: More than 20 figures have been opened. Figures created through the pyplot interface (`matplotlib.pyplot.figure`) are retained until explicitly closed and may consume too much memory. (To control this warning, see the rcParam `figure.max_open_warning`).\n",
      "  after removing the cwd from sys.path.\n"
     ]
    },
    {
     "data": {
      "application/vnd.jupyter.widget-view+json": {
       "model_id": "d99c32e3eff94bf99b6879ab18ab843a",
       "version_major": 2,
       "version_minor": 0
      },
      "text/plain": [
       "Canvas(toolbar=Toolbar(toolitems=[('Home', 'Reset original view', 'home', 'home'), ('Back', 'Back to previous …"
      ]
     },
     "metadata": {},
     "output_type": "display_data"
    },
    {
     "name": "stderr",
     "output_type": "stream",
     "text": [
      "/home/gfindlay/miniconda3/envs/ecephys/lib/python3.7/site-packages/pandas/core/series.py:726: RuntimeWarning: divide by zero encountered in log\n",
      "  result = getattr(ufunc, method)(*inputs, **kwargs)\n",
      "/home/gfindlay/miniconda3/envs/ecephys/lib/python3.7/site-packages/numpy/lib/function_base.py:2474: RuntimeWarning: invalid value encountered in subtract\n",
      "  X -= avg[:, None]\n"
     ]
    }
   ],
   "source": [
    "plot_qq(bl_density, rec_density, 'ripple_density')"
   ]
  },
  {
   "cell_type": "code",
   "execution_count": 76,
   "metadata": {},
   "outputs": [
    {
     "data": {
      "text/plain": [
       "Ttest_indResult(statistic=-0.7763927591400952, pvalue=0.44843826793114006)"
      ]
     },
     "execution_count": 76,
     "metadata": {},
     "output_type": "execute_result"
    }
   ],
   "source": [
    "stats.ttest_ind(bl_density.ripple_density, rec_density.ripple_density, equal_var=False)"
   ]
  },
  {
   "cell_type": "code",
   "execution_count": 77,
   "metadata": {},
   "outputs": [
    {
     "data": {
      "application/vnd.jupyter.widget-view+json": {
       "model_id": "fa9890aa43324b63b14d0fedfe626e01",
       "version_major": 2,
       "version_minor": 0
      },
      "text/plain": [
       "Canvas(toolbar=Toolbar(toolitems=[('Home', 'Reset original view', 'home', 'home'), ('Back', 'Back to previous …"
      ]
     },
     "metadata": {},
     "output_type": "display_data"
    },
    {
     "name": "stderr",
     "output_type": "stream",
     "text": [
      "/home/gfindlay/miniconda3/envs/ecephys/lib/python3.7/site-packages/seaborn/distributions.py:2551: FutureWarning: `distplot` is a deprecated function and will be removed in a future version. Please adapt your code to use either `displot` (a figure-level function with similar flexibility) or `kdeplot` (an axes-level function for kernel density plots).\n",
      "  warnings.warn(msg, FutureWarning)\n",
      "/home/gfindlay/miniconda3/envs/ecephys/lib/python3.7/site-packages/seaborn/distributions.py:2551: FutureWarning: `distplot` is a deprecated function and will be removed in a future version. Please adapt your code to use either `displot` (a figure-level function with similar flexibility) or `kdeplot` (an axes-level function for kernel density plots).\n",
      "  warnings.warn(msg, FutureWarning)\n"
     ]
    }
   ],
   "source": [
    "values_bl, values_rec, cohens_d = two_sample_data_setup_for_cohens_d(bl_density.ripple_density.mean(), \n",
    "                                                                     rec_density.ripple_density.mean(), \n",
    "                                                                     bl_density.ripple_density.std(), \n",
    "                                                                     rec_density.ripple_density.std())\n",
    "visualize_distributions(bl_density.ripple_density, rec_density.ripple_density, cohens_d, interpret_cohens_d(cohens_d))\n"
   ]
  },
  {
   "cell_type": "code",
   "execution_count": 78,
   "metadata": {},
   "outputs": [
    {
     "name": "stdout",
     "output_type": "stream",
     "text": [
      "1.1217753283302065 0.2895365007762819 0.6159420289855072\n"
     ]
    }
   ],
   "source": [
    "stat, p, med, tbl = stats.median_test(bl_density.ripple_density, rec_density.ripple_density) \n",
    "print(stat, p, med)"
   ]
  },
  {
   "cell_type": "code",
   "execution_count": 79,
   "metadata": {},
   "outputs": [
    {
     "data": {
      "text/plain": [
       "KruskalResult(statistic=1.682228352891659, pvalue=0.19462861980007096)"
      ]
     },
     "execution_count": 79,
     "metadata": {},
     "output_type": "execute_result"
    }
   ],
   "source": [
    "stats.kruskal(bl_density.ripple_density, rec_density.ripple_density)"
   ]
  },
  {
   "cell_type": "code",
   "execution_count": 80,
   "metadata": {},
   "outputs": [
    {
     "data": {
      "text/plain": [
       "MannwhitneyuResult(statistic=185.0, pvalue=0.09915589115591605)"
      ]
     },
     "execution_count": 80,
     "metadata": {},
     "output_type": "execute_result"
    }
   ],
   "source": [
    "stats.mannwhitneyu(bl_density.ripple_density, rec_density.ripple_density)"
   ]
  },
  {
   "cell_type": "markdown",
   "metadata": {},
   "source": [
    "## Epoched ripple density"
   ]
  },
  {
   "cell_type": "code",
   "execution_count": 81,
   "metadata": {},
   "outputs": [],
   "source": [
    "# https://stackoverflow.com/questions/21160134/flatten-a-column-with-value-of-type-list-while-duplicating-the-other-columns-va\n",
    "def unnest_df(df, col, reset_index=False):\n",
    "    import pandas as pd\n",
    "    col_flat = pd.DataFrame([[i, x] \n",
    "                       for i, y in df[col].apply(list).iteritems() \n",
    "                           for x in y], columns=['I', col])\n",
    "    col_flat = col_flat.set_index('I')\n",
    "    df = df.drop(col, 1)\n",
    "    df = df.merge(col_flat, left_index=True, right_index=True)\n",
    "    if reset_index:\n",
    "        df = df.reset_index(drop=True)\n",
    "    return df\n",
    "\n",
    "def _get_ripple_density(hypno, ripples, epoch_length):  \n",
    "    N2 = hypno[np.logical_and(hypno.state == \"N2\", hypno.duration >= epoch_length)]\n",
    "    N2['epoch_start_times'] = N2.apply(lambda episode: np.arange(episode.start_time, episode.end_time - epoch_length, epoch_length), axis=1)\n",
    "    N2 = unnest_df(N2, 'epoch_start_times')\n",
    "    N2 = N2.rename(columns={'end_time': 'episode_end_time', 'start_time': 'epsiode_start_time', 'duration': 'episode_duration', 'epoch_start_times': 'start_time'})\n",
    "    N2['end_time'] = N2.apply(lambda epoch: epoch.start_time + epoch_length, axis=1)\n",
    "    N2['n_ripples'] = N2.apply(lambda epoch: np.sum(np.logical_and(ripples.center_time >= epoch.start_time * 1000, ripples.center_time <= epoch.end_time * 1000)), axis=1)\n",
    "    N2['ripple_density'] = N2.apply(lambda epoch: epoch.n_ripples / epoch_length, axis=1)\n",
    "    return N2"
   ]
  },
  {
   "cell_type": "code",
   "execution_count": 82,
   "metadata": {},
   "outputs": [],
   "source": [
    "epoch_length = 40"
   ]
  },
  {
   "cell_type": "code",
   "execution_count": 663,
   "metadata": {},
   "outputs": [
    {
     "data": {
      "application/vnd.jupyter.widget-view+json": {
       "model_id": "9da621d7a3194b60b0c61cef9af35604",
       "version_major": 2,
       "version_minor": 0
      },
      "text/plain": [
       "Canvas(toolbar=Toolbar(toolitems=[('Home', 'Reset original view', 'home', 'home'), ('Back', 'Back to previous …"
      ]
     },
     "metadata": {},
     "output_type": "display_data"
    },
    {
     "name": "stdout",
     "output_type": "stream",
     "text": [
      "Mean ripple density:  0.7841666666666666 \n",
      " Median ripple density:  0.7625 \n",
      " Number of ripples:  60\n"
     ]
    }
   ],
   "source": [
    "bl_density = _get_ripple_density(bl_hypno, ripples_bl, epoch_length)\n",
    "\n",
    "plt.figure()\n",
    "ax = bl_density.ripple_density.plot.hist()\n",
    "\n",
    "print(\"Mean ripple density: \", bl_density.ripple_density.mean(), \"\\n\", \"Median ripple density: \", bl_density.ripple_density.median(), \"\\n\", \"Number of ripples: \", len(bl_density))"
   ]
  },
  {
   "cell_type": "code",
   "execution_count": 664,
   "metadata": {},
   "outputs": [
    {
     "data": {
      "application/vnd.jupyter.widget-view+json": {
       "model_id": "826e2c49caa64552ac0cdd1a61c7d67d",
       "version_major": 2,
       "version_minor": 0
      },
      "text/plain": [
       "Canvas(toolbar=Toolbar(toolitems=[('Home', 'Reset original view', 'home', 'home'), ('Back', 'Back to previous …"
      ]
     },
     "metadata": {},
     "output_type": "display_data"
    }
   ],
   "source": [
    "ax = bl_density.plot(x='start_time', y='ripple_density')"
   ]
  },
  {
   "cell_type": "code",
   "execution_count": 665,
   "metadata": {},
   "outputs": [
    {
     "data": {
      "text/plain": [
       "LinregressResult(slope=-1.0078581261630812e-05, intercept=0.8195729587735042, rvalue=-0.13213224537609466, pvalue=0.314231435302073, stderr=9.927775463843118e-06)"
      ]
     },
     "execution_count": 665,
     "metadata": {},
     "output_type": "execute_result"
    }
   ],
   "source": [
    "test_slope(bl_density, 'start_time', 'ripple_density')"
   ]
  },
  {
   "cell_type": "code",
   "execution_count": 666,
   "metadata": {},
   "outputs": [
    {
     "data": {
      "application/vnd.jupyter.widget-view+json": {
       "model_id": "c49af1820be54d0da4abde7bfb9f087d",
       "version_major": 2,
       "version_minor": 0
      },
      "text/plain": [
       "Canvas(toolbar=Toolbar(toolitems=[('Home', 'Reset original view', 'home', 'home'), ('Back', 'Back to previous …"
      ]
     },
     "metadata": {},
     "output_type": "display_data"
    },
    {
     "name": "stdout",
     "output_type": "stream",
     "text": [
      "Mean ripple density:  0.7343023255813953 \n",
      " Median ripple density:  0.725 \n",
      " Number of ripples:  86\n"
     ]
    }
   ],
   "source": [
    "rec_density = _get_ripple_density(rec_hypno, ripples_rec, epoch_length)\n",
    "\n",
    "plt.figure()\n",
    "ax = rec_density.ripple_density.plot.hist()\n",
    "\n",
    "print(\"Mean ripple density: \", rec_density.ripple_density.mean(), \"\\n\", \"Median ripple density: \", rec_density.ripple_density.median(), \"\\n\", \"Number of ripples: \", len(rec_density))"
   ]
  },
  {
   "cell_type": "code",
   "execution_count": 667,
   "metadata": {},
   "outputs": [
    {
     "data": {
      "application/vnd.jupyter.widget-view+json": {
       "model_id": "eb04d155164c4f188dd72451e578bb11",
       "version_major": 2,
       "version_minor": 0
      },
      "text/plain": [
       "Canvas(toolbar=Toolbar(toolitems=[('Home', 'Reset original view', 'home', 'home'), ('Back', 'Back to previous …"
      ]
     },
     "metadata": {},
     "output_type": "display_data"
    }
   ],
   "source": [
    "ax = rec_density.plot(x='start_time', y='ripple_density')"
   ]
  },
  {
   "cell_type": "code",
   "execution_count": 668,
   "metadata": {},
   "outputs": [
    {
     "data": {
      "text/plain": [
       "LinregressResult(slope=4.9742957605565776e-06, intercept=0.7152168116732954, rvalue=0.0590810474704444, pvalue=0.5889556172870503, stderr=9.170319789166922e-06)"
      ]
     },
     "execution_count": 668,
     "metadata": {},
     "output_type": "execute_result"
    }
   ],
   "source": [
    "test_slope(rec_density, 'start_time', 'ripple_density')"
   ]
  },
  {
   "cell_type": "code",
   "execution_count": 669,
   "metadata": {},
   "outputs": [
    {
     "data": {
      "application/vnd.jupyter.widget-view+json": {
       "model_id": "e883f9b31a7242a5a95fcba31afeeda7",
       "version_major": 2,
       "version_minor": 0
      },
      "text/plain": [
       "Canvas(toolbar=Toolbar(toolitems=[('Home', 'Reset original view', 'home', 'home'), ('Back', 'Back to previous …"
      ]
     },
     "metadata": {},
     "output_type": "display_data"
    }
   ],
   "source": [
    "plot_qq(bl_density, rec_density, 'ripple_density')"
   ]
  },
  {
   "cell_type": "code",
   "execution_count": 670,
   "metadata": {},
   "outputs": [
    {
     "data": {
      "text/plain": [
       "Ttest_indResult(statistic=1.8209178348062378, pvalue=0.07104559987151243)"
      ]
     },
     "execution_count": 670,
     "metadata": {},
     "output_type": "execute_result"
    }
   ],
   "source": [
    "stats.ttest_ind(bl_density.ripple_density, rec_density.ripple_density, equal_var=False)"
   ]
  },
  {
   "cell_type": "code",
   "execution_count": 671,
   "metadata": {},
   "outputs": [
    {
     "data": {
      "application/vnd.jupyter.widget-view+json": {
       "model_id": "8c2c3e1d2b2d4618b08f6aec32a6f93c",
       "version_major": 2,
       "version_minor": 0
      },
      "text/plain": [
       "Canvas(toolbar=Toolbar(toolitems=[('Home', 'Reset original view', 'home', 'home'), ('Back', 'Back to previous …"
      ]
     },
     "metadata": {},
     "output_type": "display_data"
    },
    {
     "name": "stderr",
     "output_type": "stream",
     "text": [
      "/home/gfindlay/miniconda3/envs/ecephys/lib/python3.7/site-packages/seaborn/distributions.py:2551: FutureWarning: `distplot` is a deprecated function and will be removed in a future version. Please adapt your code to use either `displot` (a figure-level function with similar flexibility) or `kdeplot` (an axes-level function for kernel density plots).\n",
      "  warnings.warn(msg, FutureWarning)\n",
      "/home/gfindlay/miniconda3/envs/ecephys/lib/python3.7/site-packages/seaborn/distributions.py:2551: FutureWarning: `distplot` is a deprecated function and will be removed in a future version. Please adapt your code to use either `displot` (a figure-level function with similar flexibility) or `kdeplot` (an axes-level function for kernel density plots).\n",
      "  warnings.warn(msg, FutureWarning)\n"
     ]
    }
   ],
   "source": [
    "values_bl, values_rec, cohens_d = two_sample_data_setup_for_cohens_d(bl_density.ripple_density.mean(), \n",
    "                                                                     rec_density.ripple_density.mean(), \n",
    "                                                                     bl_density.ripple_density.std(), \n",
    "                                                                     rec_density.ripple_density.std())\n",
    "visualize_distributions(bl_density.ripple_density, rec_density.ripple_density, cohens_d, interpret_cohens_d(cohens_d))\n"
   ]
  },
  {
   "cell_type": "code",
   "execution_count": 672,
   "metadata": {},
   "outputs": [
    {
     "name": "stdout",
     "output_type": "stream",
     "text": [
      "0.9592168476616154 0.3273842713527154 0.725\n"
     ]
    }
   ],
   "source": [
    "stat, p, med, tbl = stats.median_test(bl_density.ripple_density, rec_density.ripple_density) \n",
    "print(stat, p, med)"
   ]
  },
  {
   "cell_type": "code",
   "execution_count": 673,
   "metadata": {},
   "outputs": [
    {
     "data": {
      "text/plain": [
       "KruskalResult(statistic=2.7592613979716694, pvalue=0.0966928695735208)"
      ]
     },
     "execution_count": 673,
     "metadata": {},
     "output_type": "execute_result"
    }
   ],
   "source": [
    "stats.kruskal(bl_density.ripple_density, rec_density.ripple_density)"
   ]
  },
  {
   "cell_type": "code",
   "execution_count": 674,
   "metadata": {},
   "outputs": [
    {
     "data": {
      "text/plain": [
       "MannwhitneyuResult(statistic=2163.0, pvalue=0.04854674024016445)"
      ]
     },
     "execution_count": 674,
     "metadata": {},
     "output_type": "execute_result"
    }
   ],
   "source": [
    "stats.mannwhitneyu(bl_density.ripple_density, rec_density.ripple_density)"
   ]
  },
  {
   "cell_type": "markdown",
   "metadata": {},
   "source": [
    "### Sensitivity Analysis"
   ]
  },
  {
   "cell_type": "code",
   "execution_count": 83,
   "metadata": {},
   "outputs": [],
   "source": [
    "def _get_density_ttest_pval(epoch_length):\n",
    "    bl_density = _get_ripple_density(bl_hypno, ripples_bl, epoch_length)\n",
    "    rec_density = _get_ripple_density(rec_hypno, ripples_rec, epoch_length)\n",
    "    return stats.ttest_ind(bl_density.ripple_density, rec_density.ripple_density, equal_var=False).pvalue\n",
    "\n",
    "def _get_density_MannWhitney_pval(epoch_length):\n",
    "    bl_density = _get_ripple_density(bl_hypno, ripples_bl, epoch_length)\n",
    "    rec_density = _get_ripple_density(rec_hypno, ripples_rec, epoch_length)\n",
    "    return stats.mannwhitneyu(bl_density.ripple_density, rec_density.ripple_density).pvalue\n",
    "\n",
    "def _get_density_nEpochs(hypno, ripples, epoch_length):\n",
    "    bl_density = _get_ripple_density(hypno, ripples_bl, epoch_length)\n",
    "    rec_density = _get_ripple_density(rec_hypno, ripples_rec, epoch_length)\n",
    "    return stats.mannwhitneyu(bl_density.ripple_density, rec_density.ripple_density).pvalue\n",
    "\n",
    "df = pd.DataFrame(data={'epoch_length': np.arange(5, 65, 5)})\n",
    "df['ttest_pval'] = df.apply(lambda x: _get_density_ttest_pval(x.epoch_length), axis=1)\n",
    "df['mw_pval'] = df.apply(lambda x: _get_density_MannWhitney_pval(x.epoch_length), axis=1)\n",
    "df['n_epochs_bl'] = df.apply(lambda x: len(_get_ripple_density(bl_hypno, ripples_bl, x.epoch_length)), axis=1)\n",
    "df['n_epochs_rec'] = df.apply(lambda x: len(_get_ripple_density(rec_hypno, ripples_rec, x.epoch_length)), axis=1)"
   ]
  },
  {
   "cell_type": "code",
   "execution_count": 84,
   "metadata": {},
   "outputs": [
    {
     "data": {
      "text/html": [
       "<div>\n",
       "<style scoped>\n",
       "    .dataframe tbody tr th:only-of-type {\n",
       "        vertical-align: middle;\n",
       "    }\n",
       "\n",
       "    .dataframe tbody tr th {\n",
       "        vertical-align: top;\n",
       "    }\n",
       "\n",
       "    .dataframe thead th {\n",
       "        text-align: right;\n",
       "    }\n",
       "</style>\n",
       "<table border=\"1\" class=\"dataframe\">\n",
       "  <thead>\n",
       "    <tr style=\"text-align: right;\">\n",
       "      <th></th>\n",
       "      <th>epoch_length</th>\n",
       "      <th>ttest_pval</th>\n",
       "      <th>mw_pval</th>\n",
       "      <th>n_epochs_bl</th>\n",
       "      <th>n_epochs_rec</th>\n",
       "    </tr>\n",
       "  </thead>\n",
       "  <tbody>\n",
       "    <tr>\n",
       "      <th>0</th>\n",
       "      <td>5</td>\n",
       "      <td>0.000314</td>\n",
       "      <td>0.000149</td>\n",
       "      <td>401</td>\n",
       "      <td>380</td>\n",
       "    </tr>\n",
       "    <tr>\n",
       "      <th>1</th>\n",
       "      <td>10</td>\n",
       "      <td>0.000114</td>\n",
       "      <td>0.000027</td>\n",
       "      <td>192</td>\n",
       "      <td>187</td>\n",
       "    </tr>\n",
       "    <tr>\n",
       "      <th>2</th>\n",
       "      <td>15</td>\n",
       "      <td>0.000081</td>\n",
       "      <td>0.000144</td>\n",
       "      <td>122</td>\n",
       "      <td>122</td>\n",
       "    </tr>\n",
       "    <tr>\n",
       "      <th>3</th>\n",
       "      <td>20</td>\n",
       "      <td>0.000106</td>\n",
       "      <td>0.000144</td>\n",
       "      <td>85</td>\n",
       "      <td>90</td>\n",
       "    </tr>\n",
       "    <tr>\n",
       "      <th>4</th>\n",
       "      <td>25</td>\n",
       "      <td>0.000089</td>\n",
       "      <td>0.000145</td>\n",
       "      <td>65</td>\n",
       "      <td>71</td>\n",
       "    </tr>\n",
       "    <tr>\n",
       "      <th>5</th>\n",
       "      <td>30</td>\n",
       "      <td>0.000022</td>\n",
       "      <td>0.000030</td>\n",
       "      <td>52</td>\n",
       "      <td>57</td>\n",
       "    </tr>\n",
       "    <tr>\n",
       "      <th>6</th>\n",
       "      <td>35</td>\n",
       "      <td>0.000581</td>\n",
       "      <td>0.000440</td>\n",
       "      <td>39</td>\n",
       "      <td>51</td>\n",
       "    </tr>\n",
       "    <tr>\n",
       "      <th>7</th>\n",
       "      <td>40</td>\n",
       "      <td>0.000058</td>\n",
       "      <td>0.000043</td>\n",
       "      <td>33</td>\n",
       "      <td>41</td>\n",
       "    </tr>\n",
       "    <tr>\n",
       "      <th>8</th>\n",
       "      <td>45</td>\n",
       "      <td>0.000078</td>\n",
       "      <td>0.000119</td>\n",
       "      <td>28</td>\n",
       "      <td>38</td>\n",
       "    </tr>\n",
       "    <tr>\n",
       "      <th>9</th>\n",
       "      <td>50</td>\n",
       "      <td>0.000452</td>\n",
       "      <td>0.000639</td>\n",
       "      <td>23</td>\n",
       "      <td>33</td>\n",
       "    </tr>\n",
       "    <tr>\n",
       "      <th>10</th>\n",
       "      <td>55</td>\n",
       "      <td>0.000014</td>\n",
       "      <td>0.000024</td>\n",
       "      <td>20</td>\n",
       "      <td>30</td>\n",
       "    </tr>\n",
       "    <tr>\n",
       "      <th>11</th>\n",
       "      <td>60</td>\n",
       "      <td>0.000105</td>\n",
       "      <td>0.000135</td>\n",
       "      <td>18</td>\n",
       "      <td>27</td>\n",
       "    </tr>\n",
       "  </tbody>\n",
       "</table>\n",
       "</div>"
      ],
      "text/plain": [
       "    epoch_length  ttest_pval   mw_pval  n_epochs_bl  n_epochs_rec\n",
       "0              5    0.000314  0.000149          401           380\n",
       "1             10    0.000114  0.000027          192           187\n",
       "2             15    0.000081  0.000144          122           122\n",
       "3             20    0.000106  0.000144           85            90\n",
       "4             25    0.000089  0.000145           65            71\n",
       "5             30    0.000022  0.000030           52            57\n",
       "6             35    0.000581  0.000440           39            51\n",
       "7             40    0.000058  0.000043           33            41\n",
       "8             45    0.000078  0.000119           28            38\n",
       "9             50    0.000452  0.000639           23            33\n",
       "10            55    0.000014  0.000024           20            30\n",
       "11            60    0.000105  0.000135           18            27"
      ]
     },
     "execution_count": 84,
     "metadata": {},
     "output_type": "execute_result"
    }
   ],
   "source": [
    "df"
   ]
  },
  {
   "cell_type": "code",
   "execution_count": 85,
   "metadata": {},
   "outputs": [
    {
     "data": {
      "application/vnd.jupyter.widget-view+json": {
       "model_id": "6c921a0ba32b40f2bc15bb91a54e1ef6",
       "version_major": 2,
       "version_minor": 0
      },
      "text/plain": [
       "Canvas(toolbar=Toolbar(toolitems=[('Home', 'Reset original view', 'home', 'home'), ('Back', 'Back to previous …"
      ]
     },
     "metadata": {},
     "output_type": "display_data"
    },
    {
     "data": {
      "text/plain": [
       "<AxesSubplot:xlabel='epoch_length'>"
      ]
     },
     "execution_count": 85,
     "metadata": {},
     "output_type": "execute_result"
    }
   ],
   "source": [
    "df[['ttest_pval', 'mw_pval', 'epoch_length']].plot(x='epoch_length')"
   ]
  },
  {
   "cell_type": "code",
   "execution_count": 86,
   "metadata": {},
   "outputs": [
    {
     "data": {
      "application/vnd.jupyter.widget-view+json": {
       "model_id": "4c63436f4e7446e88e5905c2d511e969",
       "version_major": 2,
       "version_minor": 0
      },
      "text/plain": [
       "Canvas(toolbar=Toolbar(toolitems=[('Home', 'Reset original view', 'home', 'home'), ('Back', 'Back to previous …"
      ]
     },
     "metadata": {},
     "output_type": "display_data"
    },
    {
     "data": {
      "text/plain": [
       "<AxesSubplot:xlabel='epoch_length'>"
      ]
     },
     "execution_count": 86,
     "metadata": {},
     "output_type": "execute_result"
    }
   ],
   "source": [
    "df[['n_epochs_bl', 'n_epochs_rec', 'epoch_length']].plot(x='epoch_length')"
   ]
  },
  {
   "cell_type": "code",
   "execution_count": null,
   "metadata": {},
   "outputs": [],
   "source": []
  }
 ],
 "metadata": {
  "kernelspec": {
   "display_name": "Python 3",
   "language": "python",
   "name": "python3"
  },
  "language_info": {
   "codemirror_mode": {
    "name": "ipython",
    "version": 3
   },
   "file_extension": ".py",
   "mimetype": "text/x-python",
   "name": "python",
   "nbconvert_exporter": "python",
   "pygments_lexer": "ipython3",
   "version": "3.7.9"
  }
 },
 "nbformat": 4,
 "nbformat_minor": 4
}
