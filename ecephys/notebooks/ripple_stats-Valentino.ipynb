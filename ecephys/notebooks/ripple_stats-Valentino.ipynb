{
 "cells": [
  {
   "cell_type": "code",
   "execution_count": 19,
   "metadata": {},
   "outputs": [],
   "source": [
    "%matplotlib widget\n",
    "import pandas as pd\n",
    "from pathlib import Path\n",
    "import matplotlib.pyplot as plt\n",
    "from pandas.plotting import scatter_matrix\n",
    "import numpy as np"
   ]
  },
  {
   "cell_type": "code",
   "execution_count": 20,
   "metadata": {},
   "outputs": [],
   "source": [
    "pd.options.mode.chained_assignment = None  # default='warn'"
   ]
  },
  {
   "cell_type": "markdown",
   "metadata": {},
   "source": [
    "## Read the data"
   ]
  },
  {
   "cell_type": "code",
   "execution_count": 21,
   "metadata": {},
   "outputs": [
    {
     "data": {
      "text/html": [
       "<div>\n",
       "<style scoped>\n",
       "    .dataframe tbody tr th:only-of-type {\n",
       "        vertical-align: middle;\n",
       "    }\n",
       "\n",
       "    .dataframe tbody tr th {\n",
       "        vertical-align: top;\n",
       "    }\n",
       "\n",
       "    .dataframe thead th {\n",
       "        text-align: right;\n",
       "    }\n",
       "</style>\n",
       "<table border=\"1\" class=\"dataframe\">\n",
       "  <thead>\n",
       "    <tr style=\"text-align: right;\">\n",
       "      <th></th>\n",
       "      <th>ripple_number</th>\n",
       "      <th>start_time</th>\n",
       "      <th>end_time</th>\n",
       "      <th>duration</th>\n",
       "      <th>center_time</th>\n",
       "      <th>nadir_time</th>\n",
       "      <th>envelope_integral</th>\n",
       "      <th>envelope_peak</th>\n",
       "      <th>mean_rms</th>\n",
       "      <th>summed_rms</th>\n",
       "      <th>max_rms</th>\n",
       "      <th>mean_amplitude</th>\n",
       "      <th>max_amplitude</th>\n",
       "    </tr>\n",
       "  </thead>\n",
       "  <tbody>\n",
       "    <tr>\n",
       "      <th>0</th>\n",
       "      <td>1</td>\n",
       "      <td>385.6</td>\n",
       "      <td>478.0</td>\n",
       "      <td>92.4</td>\n",
       "      <td>431.8</td>\n",
       "      <td>457.2</td>\n",
       "      <td>28052.489875</td>\n",
       "      <td>204.562614</td>\n",
       "      <td>25.672816</td>\n",
       "      <td>282.400979</td>\n",
       "      <td>36.827447</td>\n",
       "      <td>137.930548</td>\n",
       "      <td>188.616356</td>\n",
       "    </tr>\n",
       "    <tr>\n",
       "      <th>1</th>\n",
       "      <td>2</td>\n",
       "      <td>4820.4</td>\n",
       "      <td>4945.2</td>\n",
       "      <td>124.8</td>\n",
       "      <td>4882.8</td>\n",
       "      <td>4844.8</td>\n",
       "      <td>48050.906527</td>\n",
       "      <td>305.865862</td>\n",
       "      <td>34.213903</td>\n",
       "      <td>376.352935</td>\n",
       "      <td>50.909299</td>\n",
       "      <td>195.224722</td>\n",
       "      <td>285.328299</td>\n",
       "    </tr>\n",
       "    <tr>\n",
       "      <th>2</th>\n",
       "      <td>3</td>\n",
       "      <td>5020.4</td>\n",
       "      <td>5184.8</td>\n",
       "      <td>164.4</td>\n",
       "      <td>5102.6</td>\n",
       "      <td>5069.6</td>\n",
       "      <td>123525.016901</td>\n",
       "      <td>706.979082</td>\n",
       "      <td>73.759060</td>\n",
       "      <td>811.349657</td>\n",
       "      <td>111.332631</td>\n",
       "      <td>429.431420</td>\n",
       "      <td>668.148792</td>\n",
       "    </tr>\n",
       "    <tr>\n",
       "      <th>3</th>\n",
       "      <td>4</td>\n",
       "      <td>5190.4</td>\n",
       "      <td>5359.2</td>\n",
       "      <td>168.8</td>\n",
       "      <td>5274.8</td>\n",
       "      <td>5222.4</td>\n",
       "      <td>81603.361343</td>\n",
       "      <td>429.929400</td>\n",
       "      <td>45.919573</td>\n",
       "      <td>505.115300</td>\n",
       "      <td>65.142047</td>\n",
       "      <td>268.540392</td>\n",
       "      <td>369.670607</td>\n",
       "    </tr>\n",
       "    <tr>\n",
       "      <th>4</th>\n",
       "      <td>5</td>\n",
       "      <td>13698.4</td>\n",
       "      <td>13862.8</td>\n",
       "      <td>164.4</td>\n",
       "      <td>13780.6</td>\n",
       "      <td>13738.4</td>\n",
       "      <td>54866.112687</td>\n",
       "      <td>285.081043</td>\n",
       "      <td>29.725837</td>\n",
       "      <td>326.984211</td>\n",
       "      <td>46.699707</td>\n",
       "      <td>181.602512</td>\n",
       "      <td>285.490205</td>\n",
       "    </tr>\n",
       "    <tr>\n",
       "      <th>...</th>\n",
       "      <td>...</td>\n",
       "      <td>...</td>\n",
       "      <td>...</td>\n",
       "      <td>...</td>\n",
       "      <td>...</td>\n",
       "      <td>...</td>\n",
       "      <td>...</td>\n",
       "      <td>...</td>\n",
       "      <td>...</td>\n",
       "      <td>...</td>\n",
       "      <td>...</td>\n",
       "      <td>...</td>\n",
       "      <td>...</td>\n",
       "    </tr>\n",
       "    <tr>\n",
       "      <th>2512</th>\n",
       "      <td>2513</td>\n",
       "      <td>7194366.8</td>\n",
       "      <td>7194445.2</td>\n",
       "      <td>78.4</td>\n",
       "      <td>7194406.0</td>\n",
       "      <td>7194405.2</td>\n",
       "      <td>37904.299739</td>\n",
       "      <td>395.835267</td>\n",
       "      <td>46.357497</td>\n",
       "      <td>509.932470</td>\n",
       "      <td>65.435482</td>\n",
       "      <td>264.887814</td>\n",
       "      <td>380.934936</td>\n",
       "    </tr>\n",
       "    <tr>\n",
       "      <th>2513</th>\n",
       "      <td>2514</td>\n",
       "      <td>7194523.2</td>\n",
       "      <td>7194594.0</td>\n",
       "      <td>70.8</td>\n",
       "      <td>7194558.6</td>\n",
       "      <td>7194557.2</td>\n",
       "      <td>25282.707718</td>\n",
       "      <td>287.028968</td>\n",
       "      <td>33.035385</td>\n",
       "      <td>363.389233</td>\n",
       "      <td>45.121242</td>\n",
       "      <td>190.030117</td>\n",
       "      <td>244.841682</td>\n",
       "    </tr>\n",
       "    <tr>\n",
       "      <th>2514</th>\n",
       "      <td>2515</td>\n",
       "      <td>7194928.4</td>\n",
       "      <td>7194981.2</td>\n",
       "      <td>52.8</td>\n",
       "      <td>7194954.8</td>\n",
       "      <td>7194946.4</td>\n",
       "      <td>22689.965402</td>\n",
       "      <td>353.854033</td>\n",
       "      <td>40.242670</td>\n",
       "      <td>442.669368</td>\n",
       "      <td>64.248389</td>\n",
       "      <td>227.215359</td>\n",
       "      <td>359.717033</td>\n",
       "    </tr>\n",
       "    <tr>\n",
       "      <th>2515</th>\n",
       "      <td>2516</td>\n",
       "      <td>7195965.6</td>\n",
       "      <td>7196031.2</td>\n",
       "      <td>65.6</td>\n",
       "      <td>7195998.4</td>\n",
       "      <td>7196015.6</td>\n",
       "      <td>21916.198892</td>\n",
       "      <td>238.683529</td>\n",
       "      <td>30.042257</td>\n",
       "      <td>330.464828</td>\n",
       "      <td>44.026744</td>\n",
       "      <td>151.822893</td>\n",
       "      <td>231.482724</td>\n",
       "    </tr>\n",
       "    <tr>\n",
       "      <th>2516</th>\n",
       "      <td>2517</td>\n",
       "      <td>7199232.8</td>\n",
       "      <td>7199431.6</td>\n",
       "      <td>198.8</td>\n",
       "      <td>7199332.2</td>\n",
       "      <td>7199387.6</td>\n",
       "      <td>63578.676059</td>\n",
       "      <td>340.171240</td>\n",
       "      <td>30.237371</td>\n",
       "      <td>332.611085</td>\n",
       "      <td>42.686463</td>\n",
       "      <td>214.157288</td>\n",
       "      <td>299.805671</td>\n",
       "    </tr>\n",
       "  </tbody>\n",
       "</table>\n",
       "<p>2517 rows × 13 columns</p>\n",
       "</div>"
      ],
      "text/plain": [
       "      ripple_number  start_time   end_time  duration  center_time  nadir_time  \\\n",
       "0                 1       385.6      478.0      92.4        431.8       457.2   \n",
       "1                 2      4820.4     4945.2     124.8       4882.8      4844.8   \n",
       "2                 3      5020.4     5184.8     164.4       5102.6      5069.6   \n",
       "3                 4      5190.4     5359.2     168.8       5274.8      5222.4   \n",
       "4                 5     13698.4    13862.8     164.4      13780.6     13738.4   \n",
       "...             ...         ...        ...       ...          ...         ...   \n",
       "2512           2513   7194366.8  7194445.2      78.4    7194406.0   7194405.2   \n",
       "2513           2514   7194523.2  7194594.0      70.8    7194558.6   7194557.2   \n",
       "2514           2515   7194928.4  7194981.2      52.8    7194954.8   7194946.4   \n",
       "2515           2516   7195965.6  7196031.2      65.6    7195998.4   7196015.6   \n",
       "2516           2517   7199232.8  7199431.6     198.8    7199332.2   7199387.6   \n",
       "\n",
       "      envelope_integral  envelope_peak   mean_rms  summed_rms     max_rms  \\\n",
       "0          28052.489875     204.562614  25.672816  282.400979   36.827447   \n",
       "1          48050.906527     305.865862  34.213903  376.352935   50.909299   \n",
       "2         123525.016901     706.979082  73.759060  811.349657  111.332631   \n",
       "3          81603.361343     429.929400  45.919573  505.115300   65.142047   \n",
       "4          54866.112687     285.081043  29.725837  326.984211   46.699707   \n",
       "...                 ...            ...        ...         ...         ...   \n",
       "2512       37904.299739     395.835267  46.357497  509.932470   65.435482   \n",
       "2513       25282.707718     287.028968  33.035385  363.389233   45.121242   \n",
       "2514       22689.965402     353.854033  40.242670  442.669368   64.248389   \n",
       "2515       21916.198892     238.683529  30.042257  330.464828   44.026744   \n",
       "2516       63578.676059     340.171240  30.237371  332.611085   42.686463   \n",
       "\n",
       "      mean_amplitude  max_amplitude  \n",
       "0         137.930548     188.616356  \n",
       "1         195.224722     285.328299  \n",
       "2         429.431420     668.148792  \n",
       "3         268.540392     369.670607  \n",
       "4         181.602512     285.490205  \n",
       "...              ...            ...  \n",
       "2512      264.887814     380.934936  \n",
       "2513      190.030117     244.841682  \n",
       "2514      227.215359     359.717033  \n",
       "2515      151.822893     231.482724  \n",
       "2516      214.157288     299.805671  \n",
       "\n",
       "[2517 rows x 13 columns]"
      ]
     },
     "execution_count": 21,
     "metadata": {},
     "output_type": "execute_result"
    }
   ],
   "source": [
    "ripples_bl = pd.read_csv(Path('/Volumes/neuropixel/Data/CNPIX3-Valentino/2-19-2020_g1_t3.N2_ripples.csv'))\n",
    "ripples_bl"
   ]
  },
  {
   "cell_type": "code",
   "execution_count": 22,
   "metadata": {},
   "outputs": [
    {
     "data": {
      "text/html": [
       "<div>\n",
       "<style scoped>\n",
       "    .dataframe tbody tr th:only-of-type {\n",
       "        vertical-align: middle;\n",
       "    }\n",
       "\n",
       "    .dataframe tbody tr th {\n",
       "        vertical-align: top;\n",
       "    }\n",
       "\n",
       "    .dataframe thead th {\n",
       "        text-align: right;\n",
       "    }\n",
       "</style>\n",
       "<table border=\"1\" class=\"dataframe\">\n",
       "  <thead>\n",
       "    <tr style=\"text-align: right;\">\n",
       "      <th></th>\n",
       "      <th>ripple_number</th>\n",
       "      <th>start_time</th>\n",
       "      <th>end_time</th>\n",
       "      <th>duration</th>\n",
       "      <th>center_time</th>\n",
       "      <th>nadir_time</th>\n",
       "      <th>envelope_integral</th>\n",
       "      <th>envelope_peak</th>\n",
       "      <th>mean_rms</th>\n",
       "      <th>summed_rms</th>\n",
       "      <th>max_rms</th>\n",
       "      <th>mean_amplitude</th>\n",
       "      <th>max_amplitude</th>\n",
       "    </tr>\n",
       "  </thead>\n",
       "  <tbody>\n",
       "    <tr>\n",
       "      <th>0</th>\n",
       "      <td>1</td>\n",
       "      <td>48202.8</td>\n",
       "      <td>48280.4</td>\n",
       "      <td>77.6</td>\n",
       "      <td>48241.6</td>\n",
       "      <td>48252.0</td>\n",
       "      <td>25144.648908</td>\n",
       "      <td>227.393143</td>\n",
       "      <td>29.774434</td>\n",
       "      <td>327.518773</td>\n",
       "      <td>38.011059</td>\n",
       "      <td>159.883707</td>\n",
       "      <td>213.984966</td>\n",
       "    </tr>\n",
       "    <tr>\n",
       "      <th>1</th>\n",
       "      <td>2</td>\n",
       "      <td>50064.0</td>\n",
       "      <td>50177.6</td>\n",
       "      <td>113.6</td>\n",
       "      <td>50120.8</td>\n",
       "      <td>50152.0</td>\n",
       "      <td>23230.373000</td>\n",
       "      <td>154.211903</td>\n",
       "      <td>17.967950</td>\n",
       "      <td>197.647445</td>\n",
       "      <td>27.899914</td>\n",
       "      <td>99.451980</td>\n",
       "      <td>186.752058</td>\n",
       "    </tr>\n",
       "    <tr>\n",
       "      <th>2</th>\n",
       "      <td>3</td>\n",
       "      <td>50302.0</td>\n",
       "      <td>50404.4</td>\n",
       "      <td>102.4</td>\n",
       "      <td>50353.2</td>\n",
       "      <td>50370.4</td>\n",
       "      <td>33575.593264</td>\n",
       "      <td>308.889213</td>\n",
       "      <td>31.276985</td>\n",
       "      <td>344.046838</td>\n",
       "      <td>44.209128</td>\n",
       "      <td>223.751689</td>\n",
       "      <td>367.017155</td>\n",
       "    </tr>\n",
       "    <tr>\n",
       "      <th>3</th>\n",
       "      <td>4</td>\n",
       "      <td>50641.6</td>\n",
       "      <td>50769.6</td>\n",
       "      <td>128.0</td>\n",
       "      <td>50705.6</td>\n",
       "      <td>50706.0</td>\n",
       "      <td>41276.801391</td>\n",
       "      <td>210.063051</td>\n",
       "      <td>28.493451</td>\n",
       "      <td>313.427966</td>\n",
       "      <td>35.194929</td>\n",
       "      <td>162.021160</td>\n",
       "      <td>217.307450</td>\n",
       "    </tr>\n",
       "    <tr>\n",
       "      <th>4</th>\n",
       "      <td>5</td>\n",
       "      <td>50860.8</td>\n",
       "      <td>50994.4</td>\n",
       "      <td>133.6</td>\n",
       "      <td>50927.6</td>\n",
       "      <td>50887.6</td>\n",
       "      <td>40705.739658</td>\n",
       "      <td>267.276342</td>\n",
       "      <td>27.822605</td>\n",
       "      <td>306.048658</td>\n",
       "      <td>39.259837</td>\n",
       "      <td>178.961665</td>\n",
       "      <td>298.421714</td>\n",
       "    </tr>\n",
       "    <tr>\n",
       "      <th>...</th>\n",
       "      <td>...</td>\n",
       "      <td>...</td>\n",
       "      <td>...</td>\n",
       "      <td>...</td>\n",
       "      <td>...</td>\n",
       "      <td>...</td>\n",
       "      <td>...</td>\n",
       "      <td>...</td>\n",
       "      <td>...</td>\n",
       "      <td>...</td>\n",
       "      <td>...</td>\n",
       "      <td>...</td>\n",
       "      <td>...</td>\n",
       "    </tr>\n",
       "    <tr>\n",
       "      <th>3097</th>\n",
       "      <td>3098</td>\n",
       "      <td>7196259.6</td>\n",
       "      <td>7196384.4</td>\n",
       "      <td>124.8</td>\n",
       "      <td>7196322.0</td>\n",
       "      <td>7196321.6</td>\n",
       "      <td>28260.002366</td>\n",
       "      <td>163.326345</td>\n",
       "      <td>20.299885</td>\n",
       "      <td>223.298732</td>\n",
       "      <td>22.872669</td>\n",
       "      <td>117.702864</td>\n",
       "      <td>153.043092</td>\n",
       "    </tr>\n",
       "    <tr>\n",
       "      <th>3098</th>\n",
       "      <td>3099</td>\n",
       "      <td>7196529.6</td>\n",
       "      <td>7196600.4</td>\n",
       "      <td>70.8</td>\n",
       "      <td>7196565.0</td>\n",
       "      <td>7196572.0</td>\n",
       "      <td>18421.373884</td>\n",
       "      <td>183.056560</td>\n",
       "      <td>23.426618</td>\n",
       "      <td>257.692801</td>\n",
       "      <td>25.574614</td>\n",
       "      <td>123.576592</td>\n",
       "      <td>147.136695</td>\n",
       "    </tr>\n",
       "    <tr>\n",
       "      <th>3099</th>\n",
       "      <td>3100</td>\n",
       "      <td>7197574.0</td>\n",
       "      <td>7197678.4</td>\n",
       "      <td>104.4</td>\n",
       "      <td>7197626.2</td>\n",
       "      <td>7197641.6</td>\n",
       "      <td>27522.152862</td>\n",
       "      <td>206.954781</td>\n",
       "      <td>23.914584</td>\n",
       "      <td>263.060419</td>\n",
       "      <td>37.820897</td>\n",
       "      <td>137.996967</td>\n",
       "      <td>261.557043</td>\n",
       "    </tr>\n",
       "    <tr>\n",
       "      <th>3100</th>\n",
       "      <td>3101</td>\n",
       "      <td>7197998.0</td>\n",
       "      <td>7198076.4</td>\n",
       "      <td>78.4</td>\n",
       "      <td>7198037.2</td>\n",
       "      <td>7198059.6</td>\n",
       "      <td>23988.349633</td>\n",
       "      <td>233.834692</td>\n",
       "      <td>27.105333</td>\n",
       "      <td>298.158663</td>\n",
       "      <td>47.730492</td>\n",
       "      <td>150.506133</td>\n",
       "      <td>248.438493</td>\n",
       "    </tr>\n",
       "    <tr>\n",
       "      <th>3101</th>\n",
       "      <td>3102</td>\n",
       "      <td>7198440.8</td>\n",
       "      <td>7198520.0</td>\n",
       "      <td>79.2</td>\n",
       "      <td>7198480.4</td>\n",
       "      <td>7198471.2</td>\n",
       "      <td>23804.024316</td>\n",
       "      <td>210.329646</td>\n",
       "      <td>26.131710</td>\n",
       "      <td>287.448805</td>\n",
       "      <td>44.796450</td>\n",
       "      <td>141.388381</td>\n",
       "      <td>252.798750</td>\n",
       "    </tr>\n",
       "  </tbody>\n",
       "</table>\n",
       "<p>3102 rows × 13 columns</p>\n",
       "</div>"
      ],
      "text/plain": [
       "      ripple_number  start_time   end_time  duration  center_time  nadir_time  \\\n",
       "0                 1     48202.8    48280.4      77.6      48241.6     48252.0   \n",
       "1                 2     50064.0    50177.6     113.6      50120.8     50152.0   \n",
       "2                 3     50302.0    50404.4     102.4      50353.2     50370.4   \n",
       "3                 4     50641.6    50769.6     128.0      50705.6     50706.0   \n",
       "4                 5     50860.8    50994.4     133.6      50927.6     50887.6   \n",
       "...             ...         ...        ...       ...          ...         ...   \n",
       "3097           3098   7196259.6  7196384.4     124.8    7196322.0   7196321.6   \n",
       "3098           3099   7196529.6  7196600.4      70.8    7196565.0   7196572.0   \n",
       "3099           3100   7197574.0  7197678.4     104.4    7197626.2   7197641.6   \n",
       "3100           3101   7197998.0  7198076.4      78.4    7198037.2   7198059.6   \n",
       "3101           3102   7198440.8  7198520.0      79.2    7198480.4   7198471.2   \n",
       "\n",
       "      envelope_integral  envelope_peak   mean_rms  summed_rms    max_rms  \\\n",
       "0          25144.648908     227.393143  29.774434  327.518773  38.011059   \n",
       "1          23230.373000     154.211903  17.967950  197.647445  27.899914   \n",
       "2          33575.593264     308.889213  31.276985  344.046838  44.209128   \n",
       "3          41276.801391     210.063051  28.493451  313.427966  35.194929   \n",
       "4          40705.739658     267.276342  27.822605  306.048658  39.259837   \n",
       "...                 ...            ...        ...         ...        ...   \n",
       "3097       28260.002366     163.326345  20.299885  223.298732  22.872669   \n",
       "3098       18421.373884     183.056560  23.426618  257.692801  25.574614   \n",
       "3099       27522.152862     206.954781  23.914584  263.060419  37.820897   \n",
       "3100       23988.349633     233.834692  27.105333  298.158663  47.730492   \n",
       "3101       23804.024316     210.329646  26.131710  287.448805  44.796450   \n",
       "\n",
       "      mean_amplitude  max_amplitude  \n",
       "0         159.883707     213.984966  \n",
       "1          99.451980     186.752058  \n",
       "2         223.751689     367.017155  \n",
       "3         162.021160     217.307450  \n",
       "4         178.961665     298.421714  \n",
       "...              ...            ...  \n",
       "3097      117.702864     153.043092  \n",
       "3098      123.576592     147.136695  \n",
       "3099      137.996967     261.557043  \n",
       "3100      150.506133     248.438493  \n",
       "3101      141.388381     252.798750  \n",
       "\n",
       "[3102 rows x 13 columns]"
      ]
     },
     "execution_count": 22,
     "metadata": {},
     "output_type": "execute_result"
    }
   ],
   "source": [
    "ripples_rec = pd.read_csv(Path('/Volumes/neuropixel/Data/CNPIX3-Valentino/2-20-2020_g0_t3.N2_ripples.csv'))\n",
    "ripples_rec"
   ]
  },
  {
   "cell_type": "markdown",
   "metadata": {},
   "source": [
    "## Load scoring"
   ]
  },
  {
   "cell_type": "code",
   "execution_count": 23,
   "metadata": {},
   "outputs": [],
   "source": [
    "bl_hypnoPath = Path('/Volumes/neuropixel/Data/CNPIX3-Valentino/2-19-2020_g1_t3.hypnogram.txt')\n",
    "bl_hypno = pd.read_csv(bl_hypnoPath, sep='\\t', names=['state', 'end_time'], skiprows=1)\n",
    "bl_hypno['start_time'] = bl_hypno.apply(lambda x: 0 if x.name == 0 else bl_hypno.loc[x.name - 1].end_time, axis=1)\n",
    "bl_hypno['duration'] = bl_hypno.apply(lambda x: x.end_time - x.start_time, axis=1)"
   ]
  },
  {
   "cell_type": "code",
   "execution_count": 24,
   "metadata": {},
   "outputs": [],
   "source": [
    "rec_hypnoPath = Path('/Volumes/neuropixel/Data/CNPIX3-Valentino/2-20-2020_g0_t3.hypnogram.txt')\n",
    "rec_hypno = pd.read_csv(rec_hypnoPath, sep='\\t', names=['state', 'end_time'], skiprows=1)\n",
    "rec_hypno['start_time'] = rec_hypno.apply(lambda x: 0 if x.name == 0 else rec_hypno.loc[x.name - 1].end_time, axis=1)\n",
    "rec_hypno['duration'] = rec_hypno.apply(lambda x: x.end_time - x.start_time, axis=1)"
   ]
  },
  {
   "cell_type": "markdown",
   "metadata": {},
   "source": [
    "## Look at basic summary statistics"
   ]
  },
  {
   "cell_type": "code",
   "execution_count": 25,
   "metadata": {},
   "outputs": [
    {
     "data": {
      "text/plain": [
       "2886.020269393921"
      ]
     },
     "execution_count": 25,
     "metadata": {},
     "output_type": "execute_result"
    }
   ],
   "source": [
    "bl_total_NREM = bl_hypno.loc[bl_hypno['state'] == 'N2'].duration.sum()\n",
    "bl_total_NREM"
   ]
  },
  {
   "cell_type": "code",
   "execution_count": 26,
   "metadata": {},
   "outputs": [
    {
     "data": {
      "text/plain": [
       "4031.999984741211"
      ]
     },
     "execution_count": 26,
     "metadata": {},
     "output_type": "execute_result"
    }
   ],
   "source": [
    "rec_total_NREM = rec_hypno.loc[rec_hypno['state'] == 'N2'].duration.sum()\n",
    "rec_total_NREM"
   ]
  },
  {
   "cell_type": "code",
   "execution_count": 27,
   "metadata": {},
   "outputs": [
    {
     "data": {
      "text/plain": [
       "0.8721352468285273"
      ]
     },
     "execution_count": 27,
     "metadata": {},
     "output_type": "execute_result"
    }
   ],
   "source": [
    "len(ripples_bl) / bl_total_NREM"
   ]
  },
  {
   "cell_type": "code",
   "execution_count": 28,
   "metadata": {},
   "outputs": [
    {
     "data": {
      "text/plain": [
       "0.769345241006765"
      ]
     },
     "execution_count": 28,
     "metadata": {},
     "output_type": "execute_result"
    }
   ],
   "source": [
    "len(ripples_rec) / rec_total_NREM"
   ]
  },
  {
   "cell_type": "code",
   "execution_count": 29,
   "metadata": {},
   "outputs": [
    {
     "data": {
      "text/plain": [
       "ripple_number        1.259000e+03\n",
       "start_time           4.417455e+06\n",
       "end_time             4.417570e+06\n",
       "duration             9.200000e+01\n",
       "center_time          4.417513e+06\n",
       "nadir_time           4.417539e+06\n",
       "envelope_integral    3.639296e+04\n",
       "envelope_peak        2.951179e+02\n",
       "mean_rms             3.435351e+01\n",
       "summed_rms           3.778886e+02\n",
       "max_rms              5.002034e+01\n",
       "mean_amplitude       1.944041e+02\n",
       "max_amplitude        2.882961e+02\n",
       "dtype: float64"
      ]
     },
     "execution_count": 29,
     "metadata": {},
     "output_type": "execute_result"
    }
   ],
   "source": [
    "ripples_bl.median()"
   ]
  },
  {
   "cell_type": "code",
   "execution_count": 30,
   "metadata": {},
   "outputs": [
    {
     "data": {
      "text/plain": [
       "ripple_number        1.551500e+03\n",
       "start_time           3.727368e+06\n",
       "end_time             3.727441e+06\n",
       "duration             1.004000e+02\n",
       "center_time          3.727404e+06\n",
       "nadir_time           3.727398e+06\n",
       "envelope_integral    2.680674e+04\n",
       "envelope_peak        1.844041e+02\n",
       "mean_rms             2.260643e+01\n",
       "summed_rms           2.486708e+02\n",
       "max_rms              3.455759e+01\n",
       "mean_amplitude       1.249779e+02\n",
       "max_amplitude        2.060448e+02\n",
       "dtype: float64"
      ]
     },
     "execution_count": 30,
     "metadata": {},
     "output_type": "execute_result"
    }
   ],
   "source": [
    "ripples_rec.median()"
   ]
  },
  {
   "cell_type": "code",
   "execution_count": 31,
   "metadata": {},
   "outputs": [
    {
     "data": {
      "text/plain": [
       "ripple_number        1.259000e+03\n",
       "start_time           4.265005e+06\n",
       "end_time             4.265120e+06\n",
       "duration             1.148434e+02\n",
       "center_time          4.265062e+06\n",
       "nadir_time           4.265059e+06\n",
       "envelope_integral    4.855688e+04\n",
       "envelope_peak        3.421493e+02\n",
       "mean_rms             3.792852e+01\n",
       "summed_rms           4.172137e+02\n",
       "max_rms              5.503039e+01\n",
       "mean_amplitude       2.232786e+02\n",
       "max_amplitude        3.286500e+02\n",
       "dtype: float64"
      ]
     },
     "execution_count": 31,
     "metadata": {},
     "output_type": "execute_result"
    }
   ],
   "source": [
    "ripples_bl.mean()"
   ]
  },
  {
   "cell_type": "code",
   "execution_count": 32,
   "metadata": {},
   "outputs": [
    {
     "data": {
      "text/plain": [
       "ripple_number        1.551500e+03\n",
       "start_time           3.794533e+06\n",
       "end_time             3.794653e+06\n",
       "duration             1.204276e+02\n",
       "center_time          3.794593e+06\n",
       "nadir_time           3.794591e+06\n",
       "envelope_integral    3.290794e+04\n",
       "envelope_peak        2.105152e+02\n",
       "mean_rms             2.429859e+01\n",
       "summed_rms           2.672845e+02\n",
       "max_rms              3.746100e+01\n",
       "mean_amplitude       1.399272e+02\n",
       "max_amplitude        2.302774e+02\n",
       "dtype: float64"
      ]
     },
     "execution_count": 32,
     "metadata": {},
     "output_type": "execute_result"
    }
   ],
   "source": [
    "ripples_rec.mean()"
   ]
  },
  {
   "cell_type": "markdown",
   "metadata": {},
   "source": [
    "## Look at feature distributions and correlations"
   ]
  },
  {
   "cell_type": "code",
   "execution_count": 33,
   "metadata": {},
   "outputs": [
    {
     "data": {
      "application/vnd.jupyter.widget-view+json": {
       "model_id": "f0022f80273b4d5abac042aca94d1960",
       "version_major": 2,
       "version_minor": 0
      },
      "text/plain": [
       "Canvas(toolbar=Toolbar(toolitems=[('Home', 'Reset original view', 'home', 'home'), ('Back', 'Back to previous …"
      ]
     },
     "metadata": {},
     "output_type": "display_data"
    }
   ],
   "source": [
    "ax = scatter_matrix(ripples_bl, figsize=(10, 10))"
   ]
  },
  {
   "cell_type": "code",
   "execution_count": 34,
   "metadata": {},
   "outputs": [
    {
     "data": {
      "application/vnd.jupyter.widget-view+json": {
       "model_id": "5b2f4af194fd4da8ab68eb1144ef3cb5",
       "version_major": 2,
       "version_minor": 0
      },
      "text/plain": [
       "Canvas(toolbar=Toolbar(toolitems=[('Home', 'Reset original view', 'home', 'home'), ('Back', 'Back to previous …"
      ]
     },
     "metadata": {},
     "output_type": "display_data"
    }
   ],
   "source": [
    "ax2 = scatter_matrix(ripples_bl.applymap(np.log), figsize=(10, 10))"
   ]
  },
  {
   "cell_type": "markdown",
   "metadata": {},
   "source": [
    "## Look at log-normally distributed features"
   ]
  },
  {
   "cell_type": "code",
   "execution_count": 35,
   "metadata": {},
   "outputs": [
    {
     "data": {
      "application/vnd.jupyter.widget-view+json": {
       "model_id": "436a0de33fb344c0a8aeff45392a21eb",
       "version_major": 2,
       "version_minor": 0
      },
      "text/plain": [
       "Canvas(toolbar=Toolbar(toolitems=[('Home', 'Reset original view', 'home', 'home'), ('Back', 'Back to previous …"
      ]
     },
     "metadata": {},
     "output_type": "display_data"
    }
   ],
   "source": [
    "import scipy.stats as stats\n",
    "\n",
    "def plot_qq(bl, rec, var):\n",
    "    fig, axes = plt.subplots(2, 2, figsize=(10, 10))\n",
    "    \n",
    "    stats.probplot(bl[var], dist=\"norm\", plot=axes[0, 0])\n",
    "    axes[0, 0].set_title(\"Baseline {}\".format(var))\n",
    "    stats.probplot(np.log(bl[var]), dist=\"norm\", plot=axes[0, 1])\n",
    "    axes[0, 1].set_title(\"Baseline log {}\".format(var))\n",
    "    stats.probplot(rec[var], dist=\"norm\", plot=axes[1, 0])\n",
    "    axes[1, 0].set_title(\"Recovery {}\".format(var))\n",
    "    stats.probplot(np.log(rec[var]), dist=\"norm\", plot=axes[1, 1])\n",
    "    axes[1, 1].set_title(\"Recovery log {}\".format(var))\n",
    "\n",
    "    plt.show()\n",
    "            \n",
    "plot_qq(ripples_bl, ripples_rec, 'duration')"
   ]
  },
  {
   "cell_type": "code",
   "execution_count": 36,
   "metadata": {},
   "outputs": [],
   "source": [
    "from statsmodels.graphics.tsaplots import plot_acf, plot_pacf\n",
    "\n",
    "def plot_acf_pacf(bl, rec, var, lags=None):\n",
    "    fig, axes = plt.subplots(2, 2, figsize=(10, 10))\n",
    "\n",
    "    plot_acf(bl[var], lags=lags, ax=axes[0, 0], title=\"Baseline {} acf\".format(var))\n",
    "    plot_pacf(bl[var], lags=lags, ax=axes[0, 1], title=\"Baseline {} pacf\".format(var))\n",
    "    plot_acf(rec[var], lags=lags, ax=axes[1, 0], title=\"Recovery {} acf\".format(var))\n",
    "    plot_pacf(rec[var], lags=lags, ax=axes[1, 1], title=\"Recovery {} pacf\".format(var))\n",
    "\n",
    "    plt.show()"
   ]
  },
  {
   "cell_type": "code",
   "execution_count": 37,
   "metadata": {},
   "outputs": [
    {
     "data": {
      "application/vnd.jupyter.widget-view+json": {
       "model_id": "dbc4ae1a89684ad79327dd0a3d9a39ab",
       "version_major": 2,
       "version_minor": 0
      },
      "text/plain": [
       "Canvas(toolbar=Toolbar(toolitems=[('Home', 'Reset original view', 'home', 'home'), ('Back', 'Back to previous …"
      ]
     },
     "metadata": {},
     "output_type": "display_data"
    }
   ],
   "source": [
    "plot_acf_pacf(ripples_bl, ripples_rec, 'duration')"
   ]
  },
  {
   "cell_type": "code",
   "execution_count": 38,
   "metadata": {},
   "outputs": [],
   "source": [
    "def plot_vs_time(bl, rec, var):\n",
    "    fig, axes = plt.subplots(2, 1)\n",
    "    bl.plot.scatter(x='center_time', y=var, ax=axes[0], title='Baseline')\n",
    "    rec.plot.scatter(x='center_time', y=var, ax=axes[1], title='Recovery')\n",
    "    plt.show()"
   ]
  },
  {
   "cell_type": "code",
   "execution_count": 39,
   "metadata": {},
   "outputs": [
    {
     "data": {
      "application/vnd.jupyter.widget-view+json": {
       "model_id": "900bf96af1a6428899fd512b3e80840e",
       "version_major": 2,
       "version_minor": 0
      },
      "text/plain": [
       "Canvas(toolbar=Toolbar(toolitems=[('Home', 'Reset original view', 'home', 'home'), ('Back', 'Back to previous …"
      ]
     },
     "metadata": {},
     "output_type": "display_data"
    }
   ],
   "source": [
    "plot_vs_time(ripples_bl, ripples_rec, 'duration')"
   ]
  },
  {
   "cell_type": "code",
   "execution_count": 40,
   "metadata": {},
   "outputs": [],
   "source": [
    "def test_slope(ripples, x, y):\n",
    "    return stats.linregress(ripples[x], ripples[y])"
   ]
  },
  {
   "cell_type": "code",
   "execution_count": 41,
   "metadata": {},
   "outputs": [
    {
     "data": {
      "text/plain": [
       "LinregressResult(slope=-8.219099916693641e-07, intercept=118.34888222325515, rvalue=-0.024207687002743734, pvalue=0.22472202471671257, stderr=6.768223346950186e-07)"
      ]
     },
     "execution_count": 41,
     "metadata": {},
     "output_type": "execute_result"
    }
   ],
   "source": [
    "test_slope(ripples_bl, 'center_time', 'duration')"
   ]
  },
  {
   "cell_type": "code",
   "execution_count": 42,
   "metadata": {},
   "outputs": [
    {
     "data": {
      "text/plain": [
       "LinregressResult(slope=-2.0092519499835074e-06, intercept=128.05188791068878, rvalue=-0.05901944848614632, pvalue=0.0010066352274775545, stderr=6.103805641819461e-07)"
      ]
     },
     "execution_count": 42,
     "metadata": {},
     "output_type": "execute_result"
    }
   ],
   "source": [
    "test_slope(ripples_rec, 'center_time', 'duration')"
   ]
  },
  {
   "cell_type": "code",
   "execution_count": 43,
   "metadata": {},
   "outputs": [
    {
     "data": {
      "text/plain": [
       "Ttest_indResult(statistic=-4.2140200734005155, pvalue=2.5498277964450525e-05)"
      ]
     },
     "execution_count": 43,
     "metadata": {},
     "output_type": "execute_result"
    }
   ],
   "source": [
    "stats.ttest_ind(np.log(ripples_bl.duration), np.log(ripples_rec.duration), equal_var=False)"
   ]
  },
  {
   "cell_type": "code",
   "execution_count": 44,
   "metadata": {},
   "outputs": [],
   "source": [
    "# https://dfrieds.com/math/effect-size.html\n",
    "def interpret_cohens_d(cohens_d):\n",
    "    \"\"\"\n",
    "    Determines text interpretation of effect size given Cohen's d value\n",
    "\n",
    "    :param cohens_d: float of Cohen's d value\n",
    "    :returns: effect_size_interpretation: adjective to describe magnitude of effect size\n",
    "    \"\"\"\n",
    "    if 0<=cohens_d<0.1:\n",
    "        effect_size_interpretation = \"Very Small\"\n",
    "    elif 0.1<=cohens_d<0.35:\n",
    "        effect_size_interpretation = \"Small\"\n",
    "    elif 0.35<=cohens_d<0.65:\n",
    "        effect_size_interpretation = \"Medium\"\n",
    "    elif 0.65<=cohens_d<0.9:\n",
    "        effect_size_interpretation = \"Large\"\n",
    "    elif cohens_d >= 0.9:\n",
    "        effect_size_interpretation = \"Very Large\"\n",
    "    return effect_size_interpretation"
   ]
  },
  {
   "cell_type": "code",
   "execution_count": 45,
   "metadata": {},
   "outputs": [],
   "source": [
    "def two_sample_data_setup_for_cohens_d(mean_1, mean_2, sample_std_dev_1, sample_std_dev_2):\n",
    "    \"\"\"\n",
    "    Creates two normal distributions of data values. \n",
    "    Calculates differences in values and standard deviation of list of differences.\n",
    "    Calculates Cohen's D - equation used in dependent t-tests\n",
    "\n",
    "    :param mean_1: mean of group one\n",
    "    :param mean_2: mean of group two\n",
    "    :param sample_std_dev_1: sample standard deviation of group one\n",
    "    :param sample_std_dev_2: sample standard deviation of group two\n",
    "    \n",
    "    :returns: values_1, values_2, cohens_d: values for group one, values for group two, Cohen's d\n",
    "    \"\"\"\n",
    "    values_1 = np.random.normal(loc=mean_1, scale=sample_std_dev_1, size=3000)\n",
    "    values_2 = np.random.normal(loc=mean_2, scale=sample_std_dev_2, size=3000)\n",
    "    differences_group_values = np.subtract(values_1, values_2)\n",
    "    std_dev_differences_group_values = np.std(differences_group_values, ddof=1)\n",
    "    cohens_d = round(abs((mean_1 - mean_2)/std_dev_differences_group_values), 2)\n",
    "    return values_1, values_2, cohens_d"
   ]
  },
  {
   "cell_type": "code",
   "execution_count": 46,
   "metadata": {},
   "outputs": [],
   "source": [
    "import seaborn as sns\n",
    "\n",
    "def visualize_distributions(values_1, values_2, cohens_d, cohens_d_interpretation):\n",
    "    \"\"\"\n",
    "    Plots KDE plots of values from values_1 and values_2.\n",
    "    Inserts Cohen's d value and interpretation in title\n",
    "\n",
    "    :param values_1: values in group one\n",
    "    :param values_2: values in group two \n",
    "    :param cohens_d: Cohen's d value\n",
    "    :param cohens_d_interpretation: text to describe magnitude of effect size\n",
    "    :returns: plot figure\n",
    "    \"\"\"\n",
    "    plt.figure(figsize=(10, 8))\n",
    "    sns.distplot(values_1, hist=False, label='Baseline')\n",
    "    sns.distplot(values_2, hist=False, label='Recovery')\n",
    "    plt.xlabel(\"Log-transformed duration\", labelpad=13)\n",
    "    plt.ylabel(\"frequency\", labelpad=13)\n",
    "    plt.legend()\n",
    "    plt.title(\"Distribution of Two Groups with {0} Cohen's d of {1}\".format(cohens_d_interpretation, cohens_d), y=1.015, fontsize=22)"
   ]
  },
  {
   "cell_type": "code",
   "execution_count": 47,
   "metadata": {},
   "outputs": [
    {
     "data": {
      "application/vnd.jupyter.widget-view+json": {
       "model_id": "f928099e238944f7a8b1d4a73640f76c",
       "version_major": 2,
       "version_minor": 0
      },
      "text/plain": [
       "Canvas(toolbar=Toolbar(toolitems=[('Home', 'Reset original view', 'home', 'home'), ('Back', 'Back to previous …"
      ]
     },
     "metadata": {},
     "output_type": "display_data"
    },
    {
     "name": "stderr",
     "output_type": "stream",
     "text": [
      "/home/gfindlay/miniconda3/envs/ecephys/lib/python3.7/site-packages/seaborn/distributions.py:2551: FutureWarning: `distplot` is a deprecated function and will be removed in a future version. Please adapt your code to use either `displot` (a figure-level function with similar flexibility) or `kdeplot` (an axes-level function for kernel density plots).\n",
      "  warnings.warn(msg, FutureWarning)\n",
      "/home/gfindlay/miniconda3/envs/ecephys/lib/python3.7/site-packages/seaborn/distributions.py:2551: FutureWarning: `distplot` is a deprecated function and will be removed in a future version. Please adapt your code to use either `displot` (a figure-level function with similar flexibility) or `kdeplot` (an axes-level function for kernel density plots).\n",
      "  warnings.warn(msg, FutureWarning)\n"
     ]
    }
   ],
   "source": [
    "values_bl, values_rec, cohens_d = two_sample_data_setup_for_cohens_d(np.log(ripples_bl.duration).mean(), \n",
    "                                                                     np.log(ripples_rec.duration).mean(), \n",
    "                                                                     np.log(ripples_bl.duration).std(), \n",
    "                                                                     np.log(ripples_rec.duration).std())\n",
    "visualize_distributions(np.log(ripples_bl.duration), np.log(ripples_rec).duration, cohens_d, interpret_cohens_d(cohens_d))\n"
   ]
  },
  {
   "cell_type": "code",
   "execution_count": 48,
   "metadata": {},
   "outputs": [
    {
     "name": "stdout",
     "output_type": "stream",
     "text": [
      "33.781292045838306 6.1669056853413335e-09 96.80000000027941\n"
     ]
    }
   ],
   "source": [
    "stat, p, med, tbl = stats.median_test(ripples_bl.duration, ripples_rec.duration) \n",
    "print(stat, p, med)"
   ]
  },
  {
   "cell_type": "code",
   "execution_count": 49,
   "metadata": {},
   "outputs": [
    {
     "data": {
      "text/plain": [
       "KruskalResult(statistic=28.182980617369804, pvalue=1.1037082380829023e-07)"
      ]
     },
     "execution_count": 49,
     "metadata": {},
     "output_type": "execute_result"
    }
   ],
   "source": [
    "stats.kruskal(ripples_bl.duration, ripples_rec.duration)"
   ]
  },
  {
   "cell_type": "code",
   "execution_count": 50,
   "metadata": {},
   "outputs": [
    {
     "data": {
      "text/plain": [
       "MannwhitneyuResult(statistic=3582846.5, pvalue=5.518791509419711e-08)"
      ]
     },
     "execution_count": 50,
     "metadata": {},
     "output_type": "execute_result"
    }
   ],
   "source": [
    "stats.mannwhitneyu(ripples_bl.duration, ripples_rec.duration)"
   ]
  },
  {
   "cell_type": "markdown",
   "metadata": {},
   "source": [
    "## Look at non-normally distributed features"
   ]
  },
  {
   "cell_type": "markdown",
   "metadata": {},
   "source": [
    "### Max_amplitude"
   ]
  },
  {
   "cell_type": "code",
   "execution_count": 51,
   "metadata": {},
   "outputs": [
    {
     "data": {
      "application/vnd.jupyter.widget-view+json": {
       "model_id": "8ce884aafd344b83b65855a792120708",
       "version_major": 2,
       "version_minor": 0
      },
      "text/plain": [
       "Canvas(toolbar=Toolbar(toolitems=[('Home', 'Reset original view', 'home', 'home'), ('Back', 'Back to previous …"
      ]
     },
     "metadata": {},
     "output_type": "display_data"
    }
   ],
   "source": [
    "plot_acf_pacf(ripples_bl, ripples_rec, 'max_amplitude')"
   ]
  },
  {
   "cell_type": "code",
   "execution_count": 53,
   "metadata": {},
   "outputs": [
    {
     "data": {
      "application/vnd.jupyter.widget-view+json": {
       "model_id": "7c0479803ec74f2a9bc54166f397475b",
       "version_major": 2,
       "version_minor": 0
      },
      "text/plain": [
       "Canvas(toolbar=Toolbar(toolitems=[('Home', 'Reset original view', 'home', 'home'), ('Back', 'Back to previous …"
      ]
     },
     "metadata": {},
     "output_type": "display_data"
    }
   ],
   "source": [
    "plot_vs_time(ripples_bl, ripples_rec, 'max_amplitude')"
   ]
  },
  {
   "cell_type": "code",
   "execution_count": 54,
   "metadata": {},
   "outputs": [
    {
     "data": {
      "text/plain": [
       "LinregressResult(slope=7.146590188382617e-07, intercept=325.6018902192884, rvalue=0.011362217435196375, pvalue=0.5688307156067286, stderr=1.25411901472518e-06)"
      ]
     },
     "execution_count": 54,
     "metadata": {},
     "output_type": "execute_result"
    }
   ],
   "source": [
    "test_slope(ripples_bl, 'center_time', 'max_amplitude')"
   ]
  },
  {
   "cell_type": "code",
   "execution_count": 55,
   "metadata": {},
   "outputs": [
    {
     "data": {
      "text/plain": [
       "LinregressResult(slope=-4.7183854234895807e-07, intercept=232.06786785251924, rvalue=-0.010150698062774431, pvalue=0.5719813104447116, stderr=8.34822761585855e-07)"
      ]
     },
     "execution_count": 55,
     "metadata": {},
     "output_type": "execute_result"
    }
   ],
   "source": [
    "test_slope(ripples_rec, 'center_time', 'max_amplitude')"
   ]
  },
  {
   "cell_type": "code",
   "execution_count": 56,
   "metadata": {},
   "outputs": [
    {
     "data": {
      "text/plain": [
       "MannwhitneyuResult(statistic=1904855.0, pvalue=5.989182821470837e-240)"
      ]
     },
     "execution_count": 56,
     "metadata": {},
     "output_type": "execute_result"
    }
   ],
   "source": [
    "stats.mannwhitneyu(ripples_bl.max_amplitude, ripples_rec.max_amplitude)"
   ]
  },
  {
   "cell_type": "markdown",
   "metadata": {},
   "source": [
    "### Envelope Peak"
   ]
  },
  {
   "cell_type": "code",
   "execution_count": 57,
   "metadata": {},
   "outputs": [
    {
     "data": {
      "application/vnd.jupyter.widget-view+json": {
       "model_id": "814ae5c9011a4b109ed0e86d7aed8f85",
       "version_major": 2,
       "version_minor": 0
      },
      "text/plain": [
       "Canvas(toolbar=Toolbar(toolitems=[('Home', 'Reset original view', 'home', 'home'), ('Back', 'Back to previous …"
      ]
     },
     "metadata": {},
     "output_type": "display_data"
    }
   ],
   "source": [
    "plot_acf_pacf(ripples_bl, ripples_rec, 'envelope_peak')"
   ]
  },
  {
   "cell_type": "code",
   "execution_count": 58,
   "metadata": {},
   "outputs": [
    {
     "data": {
      "application/vnd.jupyter.widget-view+json": {
       "model_id": "d1127993774448a38ce7dbdac0281187",
       "version_major": 2,
       "version_minor": 0
      },
      "text/plain": [
       "Canvas(toolbar=Toolbar(toolitems=[('Home', 'Reset original view', 'home', 'home'), ('Back', 'Back to previous …"
      ]
     },
     "metadata": {},
     "output_type": "display_data"
    }
   ],
   "source": [
    "plot_vs_time(ripples_bl, ripples_rec, 'envelope_peak')"
   ]
  },
  {
   "cell_type": "code",
   "execution_count": 59,
   "metadata": {},
   "outputs": [
    {
     "data": {
      "text/plain": [
       "LinregressResult(slope=1.8007131544239098e-06, intercept=334.4691331639512, rvalue=0.02629090928763985, pvalue=0.18730954502130928, stderr=1.3652739037993346e-06)"
      ]
     },
     "execution_count": 59,
     "metadata": {},
     "output_type": "execute_result"
    }
   ],
   "source": [
    "test_slope(ripples_bl, 'center_time', 'envelope_peak')"
   ]
  },
  {
   "cell_type": "code",
   "execution_count": 60,
   "metadata": {},
   "outputs": [
    {
     "data": {
      "text/plain": [
       "LinregressResult(slope=-2.140372325157399e-06, intercept=218.6370499914625, rvalue=-0.05588045484875375, pvalue=0.0018489880896635387, stderr=6.868618847215044e-07)"
      ]
     },
     "execution_count": 60,
     "metadata": {},
     "output_type": "execute_result"
    }
   ],
   "source": [
    "test_slope(ripples_rec, 'center_time', 'envelope_peak')"
   ]
  },
  {
   "cell_type": "code",
   "execution_count": 61,
   "metadata": {},
   "outputs": [
    {
     "data": {
      "text/plain": [
       "MannwhitneyuResult(statistic=1319139.0, pvalue=0.0)"
      ]
     },
     "execution_count": 61,
     "metadata": {},
     "output_type": "execute_result"
    }
   ],
   "source": [
    "stats.mannwhitneyu(ripples_bl.envelope_peak, ripples_rec.envelope_peak)"
   ]
  },
  {
   "cell_type": "code",
   "execution_count": 62,
   "metadata": {},
   "outputs": [
    {
     "data": {
      "application/vnd.jupyter.widget-view+json": {
       "model_id": "8ef1abf4c4e44e37b9d9891152d179d4",
       "version_major": 2,
       "version_minor": 0
      },
      "text/plain": [
       "Canvas(toolbar=Toolbar(toolitems=[('Home', 'Reset original view', 'home', 'home'), ('Back', 'Back to previous …"
      ]
     },
     "metadata": {},
     "output_type": "display_data"
    },
    {
     "name": "stderr",
     "output_type": "stream",
     "text": [
      "/home/gfindlay/miniconda3/envs/ecephys/lib/python3.7/site-packages/seaborn/distributions.py:2551: FutureWarning: `distplot` is a deprecated function and will be removed in a future version. Please adapt your code to use either `displot` (a figure-level function with similar flexibility) or `kdeplot` (an axes-level function for kernel density plots).\n",
      "  warnings.warn(msg, FutureWarning)\n",
      "/home/gfindlay/miniconda3/envs/ecephys/lib/python3.7/site-packages/seaborn/distributions.py:2551: FutureWarning: `distplot` is a deprecated function and will be removed in a future version. Please adapt your code to use either `displot` (a figure-level function with similar flexibility) or `kdeplot` (an axes-level function for kernel density plots).\n",
      "  warnings.warn(msg, FutureWarning)\n"
     ]
    },
    {
     "data": {
      "text/plain": [
       "<matplotlib.legend.Legend at 0x7f5bd7278590>"
      ]
     },
     "execution_count": 62,
     "metadata": {},
     "output_type": "execute_result"
    }
   ],
   "source": [
    "plt.figure(figsize=(10, 8))\n",
    "sns.distplot(ripples_bl.envelope_peak, hist=False, label='Baseline')\n",
    "sns.distplot(ripples_rec.envelope_peak, hist=False, label='Recovery')\n",
    "plt.xlabel(\"Envelope peak\", labelpad=13)\n",
    "plt.ylabel(\"frequency\", labelpad=13)\n",
    "plt.legend()"
   ]
  },
  {
   "cell_type": "markdown",
   "metadata": {},
   "source": [
    "### Envelope Integral"
   ]
  },
  {
   "cell_type": "code",
   "execution_count": 63,
   "metadata": {},
   "outputs": [
    {
     "data": {
      "application/vnd.jupyter.widget-view+json": {
       "model_id": "64414327f1424c75908e707bbdf82518",
       "version_major": 2,
       "version_minor": 0
      },
      "text/plain": [
       "Canvas(toolbar=Toolbar(toolitems=[('Home', 'Reset original view', 'home', 'home'), ('Back', 'Back to previous …"
      ]
     },
     "metadata": {},
     "output_type": "display_data"
    }
   ],
   "source": [
    "plot_acf_pacf(ripples_bl, ripples_rec, 'envelope_integral')"
   ]
  },
  {
   "cell_type": "code",
   "execution_count": 64,
   "metadata": {},
   "outputs": [
    {
     "data": {
      "application/vnd.jupyter.widget-view+json": {
       "model_id": "3c6dc3b62f544792b85af6eb2afcd05e",
       "version_major": 2,
       "version_minor": 0
      },
      "text/plain": [
       "Canvas(toolbar=Toolbar(toolitems=[('Home', 'Reset original view', 'home', 'home'), ('Back', 'Back to previous …"
      ]
     },
     "metadata": {},
     "output_type": "display_data"
    }
   ],
   "source": [
    "plot_vs_time(ripples_bl, ripples_rec, 'envelope_integral')"
   ]
  },
  {
   "cell_type": "code",
   "execution_count": 65,
   "metadata": {},
   "outputs": [
    {
     "data": {
      "text/plain": [
       "LinregressResult(slope=-8.17920018029177e-05, intercept=48905.72896572259, rvalue=-0.004473009064897055, pvalue=0.8225244784123461, stderr=0.00036461767689042687)"
      ]
     },
     "execution_count": 65,
     "metadata": {},
     "output_type": "execute_result"
    }
   ],
   "source": [
    "test_slope(ripples_bl, 'center_time', 'envelope_integral')"
   ]
  },
  {
   "cell_type": "code",
   "execution_count": 66,
   "metadata": {},
   "outputs": [
    {
     "data": {
      "text/plain": [
       "LinregressResult(slope=-0.0006625640144186051, intercept=35422.09963526854, rvalue=-0.06491455199153359, pvalue=0.0002971018912407666, stderr=0.00018293127591738153)"
      ]
     },
     "execution_count": 66,
     "metadata": {},
     "output_type": "execute_result"
    }
   ],
   "source": [
    "test_slope(ripples_rec, 'center_time', 'envelope_integral')"
   ]
  },
  {
   "cell_type": "code",
   "execution_count": 67,
   "metadata": {},
   "outputs": [
    {
     "data": {
      "text/plain": [
       "MannwhitneyuResult(statistic=2658293.0, pvalue=1.4241039185468084e-94)"
      ]
     },
     "execution_count": 67,
     "metadata": {},
     "output_type": "execute_result"
    }
   ],
   "source": [
    "stats.mannwhitneyu(ripples_bl.envelope_integral, ripples_rec.envelope_integral)"
   ]
  },
  {
   "cell_type": "code",
   "execution_count": 68,
   "metadata": {},
   "outputs": [
    {
     "data": {
      "application/vnd.jupyter.widget-view+json": {
       "model_id": "9f0a4d19e5e041fe8ffadd79586a754d",
       "version_major": 2,
       "version_minor": 0
      },
      "text/plain": [
       "Canvas(toolbar=Toolbar(toolitems=[('Home', 'Reset original view', 'home', 'home'), ('Back', 'Back to previous …"
      ]
     },
     "metadata": {},
     "output_type": "display_data"
    },
    {
     "name": "stderr",
     "output_type": "stream",
     "text": [
      "/home/gfindlay/miniconda3/envs/ecephys/lib/python3.7/site-packages/seaborn/distributions.py:2551: FutureWarning: `distplot` is a deprecated function and will be removed in a future version. Please adapt your code to use either `displot` (a figure-level function with similar flexibility) or `kdeplot` (an axes-level function for kernel density plots).\n",
      "  warnings.warn(msg, FutureWarning)\n",
      "/home/gfindlay/miniconda3/envs/ecephys/lib/python3.7/site-packages/seaborn/distributions.py:2551: FutureWarning: `distplot` is a deprecated function and will be removed in a future version. Please adapt your code to use either `displot` (a figure-level function with similar flexibility) or `kdeplot` (an axes-level function for kernel density plots).\n",
      "  warnings.warn(msg, FutureWarning)\n"
     ]
    },
    {
     "data": {
      "text/plain": [
       "<matplotlib.legend.Legend at 0x7f5bd739d110>"
      ]
     },
     "execution_count": 68,
     "metadata": {},
     "output_type": "execute_result"
    }
   ],
   "source": [
    "plt.figure(figsize=(10, 8))\n",
    "sns.distplot(ripples_bl.envelope_integral, hist=False, label='Baseline')\n",
    "sns.distplot(ripples_rec.envelope_integral, hist=False, label='Recovery')\n",
    "plt.xlabel(\"Envelope integral\", labelpad=13)\n",
    "plt.ylabel(\"frequency\", labelpad=13)\n",
    "plt.legend()"
   ]
  },
  {
   "cell_type": "markdown",
   "metadata": {},
   "source": [
    "## Look at ripple density"
   ]
  },
  {
   "cell_type": "code",
   "execution_count": 69,
   "metadata": {},
   "outputs": [
    {
     "data": {
      "application/vnd.jupyter.widget-view+json": {
       "model_id": "58b9935143f145b6b1fd07980224d45a",
       "version_major": 2,
       "version_minor": 0
      },
      "text/plain": [
       "Canvas(toolbar=Toolbar(toolitems=[('Home', 'Reset original view', 'home', 'home'), ('Back', 'Back to previous …"
      ]
     },
     "metadata": {},
     "output_type": "display_data"
    },
    {
     "name": "stderr",
     "output_type": "stream",
     "text": [
      "/home/gfindlay/miniconda3/envs/ecephys/lib/python3.7/site-packages/seaborn/distributions.py:2551: FutureWarning: `distplot` is a deprecated function and will be removed in a future version. Please adapt your code to use either `displot` (a figure-level function with similar flexibility) or `kdeplot` (an axes-level function for kernel density plots).\n",
      "  warnings.warn(msg, FutureWarning)\n",
      "/home/gfindlay/miniconda3/envs/ecephys/lib/python3.7/site-packages/seaborn/distributions.py:2551: FutureWarning: `distplot` is a deprecated function and will be removed in a future version. Please adapt your code to use either `displot` (a figure-level function with similar flexibility) or `kdeplot` (an axes-level function for kernel density plots).\n",
      "  warnings.warn(msg, FutureWarning)\n"
     ]
    },
    {
     "data": {
      "text/plain": [
       "<matplotlib.legend.Legend at 0x7f5bd6eb3ed0>"
      ]
     },
     "execution_count": 69,
     "metadata": {},
     "output_type": "execute_result"
    }
   ],
   "source": [
    "plt.figure(figsize=(10, 8))\n",
    "sns.distplot(bl_hypno[bl_hypno.state == \"N2\"].duration, hist=False, label='Baseline')\n",
    "sns.distplot(rec_hypno[rec_hypno.state == \"N2\"].duration, hist=False, label='Recovery')\n",
    "plt.xlabel(\"NREM Episode Duration\", labelpad=13)\n",
    "plt.ylabel(\"frequency\", labelpad=13)\n",
    "plt.legend()"
   ]
  },
  {
   "cell_type": "code",
   "execution_count": 70,
   "metadata": {},
   "outputs": [],
   "source": [
    "def get_ripple_density(hypno, ripples):  \n",
    "    N2 = hypno[hypno.state == \"N2\"]\n",
    "    N2['n_ripples'] = N2.apply(lambda episode: np.sum(np.logical_and(ripples.center_time >= episode.start_time * 1000, ripples.center_time <= episode.end_time * 1000)), axis=1)\n",
    "    N2['ripple_density'] = N2.apply(lambda episode: episode.n_ripples / episode.duration, axis=1)\n",
    "    return N2"
   ]
  },
  {
   "cell_type": "code",
   "execution_count": 71,
   "metadata": {},
   "outputs": [
    {
     "data": {
      "application/vnd.jupyter.widget-view+json": {
       "model_id": "55e2a51c475c4aa8949e8e029424616f",
       "version_major": 2,
       "version_minor": 0
      },
      "text/plain": [
       "Canvas(toolbar=Toolbar(toolitems=[('Home', 'Reset original view', 'home', 'home'), ('Back', 'Back to previous …"
      ]
     },
     "metadata": {},
     "output_type": "display_data"
    },
    {
     "name": "stdout",
     "output_type": "stream",
     "text": [
      "Mean ripple density:  0.8601970142290537 \n",
      " Median ripple density:  0.8484848484848485\n"
     ]
    }
   ],
   "source": [
    "bl_density = get_ripple_density(bl_hypno, ripples_bl)\n",
    "\n",
    "plt.figure()\n",
    "ax = bl_density.ripple_density.plot.hist(bins=20)\n",
    "\n",
    "print(\"Mean ripple density: \", bl_density.ripple_density.mean(), \"\\n\", \"Median ripple density: \", bl_density.ripple_density.median())"
   ]
  },
  {
   "cell_type": "code",
   "execution_count": 72,
   "metadata": {},
   "outputs": [
    {
     "data": {
      "application/vnd.jupyter.widget-view+json": {
       "model_id": "61b7325a30d34a8b84d5de4253a1ba35",
       "version_major": 2,
       "version_minor": 0
      },
      "text/plain": [
       "Canvas(toolbar=Toolbar(toolitems=[('Home', 'Reset original view', 'home', 'home'), ('Back', 'Back to previous …"
      ]
     },
     "metadata": {},
     "output_type": "display_data"
    }
   ],
   "source": [
    "ax = bl_density.plot(x='start_time', y='ripple_density')"
   ]
  },
  {
   "cell_type": "code",
   "execution_count": 73,
   "metadata": {},
   "outputs": [
    {
     "data": {
      "text/plain": [
       "LinregressResult(slope=5.0296907460019936e-05, intercept=0.674777990659861, rvalue=0.4284958046821461, pvalue=0.00017325633056528047, stderr=1.2676369353824673e-05)"
      ]
     },
     "execution_count": 73,
     "metadata": {},
     "output_type": "execute_result"
    }
   ],
   "source": [
    "test_slope(bl_density, 'start_time', 'ripple_density')"
   ]
  },
  {
   "cell_type": "code",
   "execution_count": 74,
   "metadata": {},
   "outputs": [
    {
     "data": {
      "application/vnd.jupyter.widget-view+json": {
       "model_id": "4ecdc96d26eb4ad9ab3414bf333d5a5a",
       "version_major": 2,
       "version_minor": 0
      },
      "text/plain": [
       "Canvas(toolbar=Toolbar(toolitems=[('Home', 'Reset original view', 'home', 'home'), ('Back', 'Back to previous …"
      ]
     },
     "metadata": {},
     "output_type": "display_data"
    },
    {
     "name": "stdout",
     "output_type": "stream",
     "text": [
      "Mean ripple density:  0.7517881092100243 \n",
      " Median ripple density:  0.7723214285714286\n"
     ]
    }
   ],
   "source": [
    "rec_density = get_ripple_density(rec_hypno, ripples_rec)\n",
    "\n",
    "plt.figure()\n",
    "ax = rec_density.ripple_density.plot.hist(bins=20)\n",
    "\n",
    "print(\"Mean ripple density: \", rec_density.ripple_density.mean(), \"\\n\", \"Median ripple density: \", rec_density.ripple_density.median())"
   ]
  },
  {
   "cell_type": "code",
   "execution_count": 75,
   "metadata": {},
   "outputs": [
    {
     "data": {
      "application/vnd.jupyter.widget-view+json": {
       "model_id": "331bec9f88b5460bb388c2f29b305b3e",
       "version_major": 2,
       "version_minor": 0
      },
      "text/plain": [
       "Canvas(toolbar=Toolbar(toolitems=[('Home', 'Reset original view', 'home', 'home'), ('Back', 'Back to previous …"
      ]
     },
     "metadata": {},
     "output_type": "display_data"
    },
    {
     "data": {
      "text/plain": [
       "<AxesSubplot:>"
      ]
     },
     "execution_count": 75,
     "metadata": {},
     "output_type": "execute_result"
    }
   ],
   "source": [
    "plt.figure()\n",
    "rec_density.boxplot(column=['ripple_density'])"
   ]
  },
  {
   "cell_type": "code",
   "execution_count": 76,
   "metadata": {},
   "outputs": [
    {
     "name": "stderr",
     "output_type": "stream",
     "text": [
      "/home/gfindlay/miniconda3/envs/ecephys/lib/python3.7/site-packages/pandas/plotting/_matplotlib/core.py:328: RuntimeWarning: More than 20 figures have been opened. Figures created through the pyplot interface (`matplotlib.pyplot.figure`) are retained until explicitly closed and may consume too much memory. (To control this warning, see the rcParam `figure.max_open_warning`).\n",
      "  fig = self.plt.figure(figsize=self.figsize)\n"
     ]
    },
    {
     "data": {
      "application/vnd.jupyter.widget-view+json": {
       "model_id": "c63b61c2bd354541a605283479fd6cb4",
       "version_major": 2,
       "version_minor": 0
      },
      "text/plain": [
       "Canvas(toolbar=Toolbar(toolitems=[('Home', 'Reset original view', 'home', 'home'), ('Back', 'Back to previous …"
      ]
     },
     "metadata": {},
     "output_type": "display_data"
    }
   ],
   "source": [
    "ax = rec_density.plot(x='start_time', y='ripple_density')"
   ]
  },
  {
   "cell_type": "code",
   "execution_count": 77,
   "metadata": {},
   "outputs": [
    {
     "data": {
      "text/plain": [
       "LinregressResult(slope=-2.0508136665522595e-05, intercept=0.8221972896110932, rvalue=-0.2413957636793107, pvalue=0.06792630839427494, stderr=1.1017049644669121e-05)"
      ]
     },
     "execution_count": 77,
     "metadata": {},
     "output_type": "execute_result"
    }
   ],
   "source": [
    "test_slope(rec_density, 'start_time', 'ripple_density')"
   ]
  },
  {
   "cell_type": "code",
   "execution_count": 78,
   "metadata": {},
   "outputs": [
    {
     "data": {
      "application/vnd.jupyter.widget-view+json": {
       "model_id": "67a0b8d08e0a47e9a06d7e3b9ea1a9f9",
       "version_major": 2,
       "version_minor": 0
      },
      "text/plain": [
       "Canvas(toolbar=Toolbar(toolitems=[('Home', 'Reset original view', 'home', 'home'), ('Back', 'Back to previous …"
      ]
     },
     "metadata": {},
     "output_type": "display_data"
    }
   ],
   "source": [
    "plot_qq(bl_density, rec_density, 'ripple_density')"
   ]
  },
  {
   "cell_type": "code",
   "execution_count": 79,
   "metadata": {},
   "outputs": [
    {
     "data": {
      "text/plain": [
       "Ttest_indResult(statistic=2.7285631296531383, pvalue=0.007260951980041332)"
      ]
     },
     "execution_count": 79,
     "metadata": {},
     "output_type": "execute_result"
    }
   ],
   "source": [
    "stats.ttest_ind(bl_density.ripple_density, rec_density.ripple_density, equal_var=False)"
   ]
  },
  {
   "cell_type": "code",
   "execution_count": 80,
   "metadata": {},
   "outputs": [
    {
     "data": {
      "application/vnd.jupyter.widget-view+json": {
       "model_id": "2f607215bc73423f95fee9612e62bb19",
       "version_major": 2,
       "version_minor": 0
      },
      "text/plain": [
       "Canvas(toolbar=Toolbar(toolitems=[('Home', 'Reset original view', 'home', 'home'), ('Back', 'Back to previous …"
      ]
     },
     "metadata": {},
     "output_type": "display_data"
    },
    {
     "name": "stderr",
     "output_type": "stream",
     "text": [
      "/home/gfindlay/miniconda3/envs/ecephys/lib/python3.7/site-packages/seaborn/distributions.py:2551: FutureWarning: `distplot` is a deprecated function and will be removed in a future version. Please adapt your code to use either `displot` (a figure-level function with similar flexibility) or `kdeplot` (an axes-level function for kernel density plots).\n",
      "  warnings.warn(msg, FutureWarning)\n",
      "/home/gfindlay/miniconda3/envs/ecephys/lib/python3.7/site-packages/seaborn/distributions.py:2551: FutureWarning: `distplot` is a deprecated function and will be removed in a future version. Please adapt your code to use either `displot` (a figure-level function with similar flexibility) or `kdeplot` (an axes-level function for kernel density plots).\n",
      "  warnings.warn(msg, FutureWarning)\n"
     ]
    }
   ],
   "source": [
    "values_bl, values_rec, cohens_d = two_sample_data_setup_for_cohens_d(bl_density.ripple_density.mean(), \n",
    "                                                                     rec_density.ripple_density.mean(), \n",
    "                                                                     bl_density.ripple_density.std(), \n",
    "                                                                     rec_density.ripple_density.std())\n",
    "visualize_distributions(bl_density.ripple_density, rec_density.ripple_density, cohens_d, interpret_cohens_d(cohens_d))\n"
   ]
  },
  {
   "cell_type": "code",
   "execution_count": 81,
   "metadata": {},
   "outputs": [
    {
     "name": "stdout",
     "output_type": "stream",
     "text": [
      "4.86978543216344 0.027330898512917513 0.8333333333333334\n"
     ]
    }
   ],
   "source": [
    "stat, p, med, tbl = stats.median_test(bl_density.ripple_density, rec_density.ripple_density) \n",
    "print(stat, p, med)"
   ]
  },
  {
   "cell_type": "code",
   "execution_count": 82,
   "metadata": {},
   "outputs": [
    {
     "data": {
      "text/plain": [
       "KruskalResult(statistic=7.287457227205429, pvalue=0.006943768803983945)"
      ]
     },
     "execution_count": 82,
     "metadata": {},
     "output_type": "execute_result"
    }
   ],
   "source": [
    "stats.kruskal(bl_density.ripple_density, rec_density.ripple_density)"
   ]
  },
  {
   "cell_type": "code",
   "execution_count": 83,
   "metadata": {},
   "outputs": [
    {
     "data": {
      "text/plain": [
       "MannwhitneyuResult(statistic=1512.0, pvalue=0.003496412752708809)"
      ]
     },
     "execution_count": 83,
     "metadata": {},
     "output_type": "execute_result"
    }
   ],
   "source": [
    "stats.mannwhitneyu(bl_density.ripple_density, rec_density.ripple_density)"
   ]
  },
  {
   "cell_type": "markdown",
   "metadata": {},
   "source": [
    "## Epoched ripple density"
   ]
  },
  {
   "cell_type": "code",
   "execution_count": 104,
   "metadata": {},
   "outputs": [],
   "source": [
    "# https://stackoverflow.com/questions/21160134/flatten-a-column-with-value-of-type-list-while-duplicating-the-other-columns-va\n",
    "def unnest_df(df, col, reset_index=False):\n",
    "    import pandas as pd\n",
    "    col_flat = pd.DataFrame([[i, x] \n",
    "                       for i, y in df[col].apply(list).iteritems() \n",
    "                           for x in y], columns=['I', col])\n",
    "    col_flat = col_flat.set_index('I')\n",
    "    df = df.drop(col, 1)\n",
    "    df = df.merge(col_flat, left_index=True, right_index=True)\n",
    "    if reset_index:\n",
    "        df = df.reset_index(drop=True)\n",
    "    return df\n",
    "\n",
    "def _get_ripple_density(hypno, ripples, epoch_length):  \n",
    "    N2 = hypno[np.logical_and(hypno.state == \"N2\", hypno.duration >= epoch_length)]\n",
    "    N2['epoch_start_times'] = N2.apply(lambda episode: np.arange(episode.start_time, episode.end_time - epoch_length, epoch_length), axis=1)\n",
    "    N2 = unnest_df(N2, 'epoch_start_times')\n",
    "    N2 = N2.rename(columns={'end_time': 'episode_end_time', 'start_time': 'epsiode_start_time', 'duration': 'episode_duration', 'epoch_start_times': 'start_time'})\n",
    "    N2['end_time'] = N2.apply(lambda epoch: epoch.start_time + epoch_length, axis=1)\n",
    "    N2['n_ripples'] = N2.apply(lambda epoch: np.sum(np.logical_and(ripples.center_time >= epoch.start_time * 1000, ripples.center_time <= epoch.end_time * 1000)), axis=1)\n",
    "    N2['ripple_density'] = N2.apply(lambda epoch: epoch.n_ripples / epoch_length, axis=1)\n",
    "    return N2"
   ]
  },
  {
   "cell_type": "code",
   "execution_count": 105,
   "metadata": {},
   "outputs": [],
   "source": [
    "epoch_length = 30"
   ]
  },
  {
   "cell_type": "code",
   "execution_count": 106,
   "metadata": {},
   "outputs": [
    {
     "data": {
      "application/vnd.jupyter.widget-view+json": {
       "model_id": "7fb6948bd2774452b7472ccce70952fd",
       "version_major": 2,
       "version_minor": 0
      },
      "text/plain": [
       "Canvas(toolbar=Toolbar(toolitems=[('Home', 'Reset original view', 'home', 'home'), ('Back', 'Back to previous …"
      ]
     },
     "metadata": {},
     "output_type": "display_data"
    },
    {
     "name": "stdout",
     "output_type": "stream",
     "text": [
      "Mean ripple density:  0.8939890710382514 \n",
      " Median ripple density:  0.9 \n",
      " Number of ripples:  61\n"
     ]
    }
   ],
   "source": [
    "bl_density = _get_ripple_density(bl_hypno, ripples_bl, epoch_length)\n",
    "\n",
    "plt.figure()\n",
    "ax = bl_density.ripple_density.plot.hist()\n",
    "\n",
    "print(\"Mean ripple density: \", bl_density.ripple_density.mean(), \"\\n\", \"Median ripple density: \", bl_density.ripple_density.median(), \"\\n\", \"Number of ripples: \", len(bl_density))"
   ]
  },
  {
   "cell_type": "code",
   "execution_count": 107,
   "metadata": {},
   "outputs": [
    {
     "data": {
      "application/vnd.jupyter.widget-view+json": {
       "model_id": "813c73ef83394da6814e9ead74ce186b",
       "version_major": 2,
       "version_minor": 0
      },
      "text/plain": [
       "Canvas(toolbar=Toolbar(toolitems=[('Home', 'Reset original view', 'home', 'home'), ('Back', 'Back to previous …"
      ]
     },
     "metadata": {},
     "output_type": "display_data"
    }
   ],
   "source": [
    "ax = bl_density.plot(x='start_time', y='ripple_density')"
   ]
  },
  {
   "cell_type": "code",
   "execution_count": 108,
   "metadata": {},
   "outputs": [
    {
     "data": {
      "text/plain": [
       "LinregressResult(slope=2.228548728846972e-05, intercept=0.7982815406158195, rvalue=0.20908941336798498, pvalue=0.10583788487908506, stderr=1.3569285756414464e-05)"
      ]
     },
     "execution_count": 108,
     "metadata": {},
     "output_type": "execute_result"
    }
   ],
   "source": [
    "test_slope(bl_density, 'start_time', 'ripple_density')"
   ]
  },
  {
   "cell_type": "code",
   "execution_count": 109,
   "metadata": {},
   "outputs": [
    {
     "data": {
      "application/vnd.jupyter.widget-view+json": {
       "model_id": "147f5a9ef0ce4b128395ea9d5717ae42",
       "version_major": 2,
       "version_minor": 0
      },
      "text/plain": [
       "Canvas(toolbar=Toolbar(toolitems=[('Home', 'Reset original view', 'home', 'home'), ('Back', 'Back to previous …"
      ]
     },
     "metadata": {},
     "output_type": "display_data"
    },
    {
     "name": "stdout",
     "output_type": "stream",
     "text": [
      "Mean ripple density:  0.8064102564102564 \n",
      " Median ripple density:  0.8 \n",
      " Number of ripples:  104\n"
     ]
    }
   ],
   "source": [
    "rec_density = _get_ripple_density(rec_hypno, ripples_rec, epoch_length)\n",
    "\n",
    "plt.figure()\n",
    "ax = rec_density.ripple_density.plot.hist()\n",
    "\n",
    "print(\"Mean ripple density: \", rec_density.ripple_density.mean(), \"\\n\", \"Median ripple density: \", rec_density.ripple_density.median(), \"\\n\", \"Number of ripples: \", len(rec_density))"
   ]
  },
  {
   "cell_type": "code",
   "execution_count": 110,
   "metadata": {},
   "outputs": [
    {
     "data": {
      "application/vnd.jupyter.widget-view+json": {
       "model_id": "cc9c92826d6949ba9a2938cca8fa80f8",
       "version_major": 2,
       "version_minor": 0
      },
      "text/plain": [
       "Canvas(toolbar=Toolbar(toolitems=[('Home', 'Reset original view', 'home', 'home'), ('Back', 'Back to previous …"
      ]
     },
     "metadata": {},
     "output_type": "display_data"
    }
   ],
   "source": [
    "ax = rec_density.plot(x='start_time', y='ripple_density')"
   ]
  },
  {
   "cell_type": "code",
   "execution_count": 111,
   "metadata": {},
   "outputs": [
    {
     "data": {
      "text/plain": [
       "LinregressResult(slope=-9.676626039552255e-06, intercept=0.8438581450565991, rvalue=-0.1088261243796333, pvalue=0.27147621191421323, stderr=8.751926407041808e-06)"
      ]
     },
     "execution_count": 111,
     "metadata": {},
     "output_type": "execute_result"
    }
   ],
   "source": [
    "test_slope(rec_density, 'start_time', 'ripple_density')"
   ]
  },
  {
   "cell_type": "code",
   "execution_count": 112,
   "metadata": {},
   "outputs": [
    {
     "data": {
      "application/vnd.jupyter.widget-view+json": {
       "model_id": "1a80a4aa316a4c53a50949ee6cddbff6",
       "version_major": 2,
       "version_minor": 0
      },
      "text/plain": [
       "Canvas(toolbar=Toolbar(toolitems=[('Home', 'Reset original view', 'home', 'home'), ('Back', 'Back to previous …"
      ]
     },
     "metadata": {},
     "output_type": "display_data"
    }
   ],
   "source": [
    "plot_qq(bl_density, rec_density, 'ripple_density')"
   ]
  },
  {
   "cell_type": "code",
   "execution_count": 113,
   "metadata": {},
   "outputs": [
    {
     "data": {
      "text/plain": [
       "Ttest_indResult(statistic=2.784714807284648, pvalue=0.006341547531075209)"
      ]
     },
     "execution_count": 113,
     "metadata": {},
     "output_type": "execute_result"
    }
   ],
   "source": [
    "stats.ttest_ind(bl_density.ripple_density, rec_density.ripple_density, equal_var=False)"
   ]
  },
  {
   "cell_type": "code",
   "execution_count": 114,
   "metadata": {},
   "outputs": [
    {
     "data": {
      "application/vnd.jupyter.widget-view+json": {
       "model_id": "70d31063637042299a6784e5c48db2b1",
       "version_major": 2,
       "version_minor": 0
      },
      "text/plain": [
       "Canvas(toolbar=Toolbar(toolitems=[('Home', 'Reset original view', 'home', 'home'), ('Back', 'Back to previous …"
      ]
     },
     "metadata": {},
     "output_type": "display_data"
    },
    {
     "name": "stderr",
     "output_type": "stream",
     "text": [
      "/home/gfindlay/miniconda3/envs/ecephys/lib/python3.7/site-packages/seaborn/distributions.py:2551: FutureWarning: `distplot` is a deprecated function and will be removed in a future version. Please adapt your code to use either `displot` (a figure-level function with similar flexibility) or `kdeplot` (an axes-level function for kernel density plots).\n",
      "  warnings.warn(msg, FutureWarning)\n",
      "/home/gfindlay/miniconda3/envs/ecephys/lib/python3.7/site-packages/seaborn/distributions.py:2551: FutureWarning: `distplot` is a deprecated function and will be removed in a future version. Please adapt your code to use either `displot` (a figure-level function with similar flexibility) or `kdeplot` (an axes-level function for kernel density plots).\n",
      "  warnings.warn(msg, FutureWarning)\n"
     ]
    }
   ],
   "source": [
    "values_bl, values_rec, cohens_d = two_sample_data_setup_for_cohens_d(bl_density.ripple_density.mean(), \n",
    "                                                                     rec_density.ripple_density.mean(), \n",
    "                                                                     bl_density.ripple_density.std(), \n",
    "                                                                     rec_density.ripple_density.std())\n",
    "visualize_distributions(bl_density.ripple_density, rec_density.ripple_density, cohens_d, interpret_cohens_d(cohens_d))\n"
   ]
  },
  {
   "cell_type": "code",
   "execution_count": 115,
   "metadata": {},
   "outputs": [
    {
     "name": "stdout",
     "output_type": "stream",
     "text": [
      "3.803907094442442 0.0511331353837743 0.8333333333333334\n"
     ]
    }
   ],
   "source": [
    "stat, p, med, tbl = stats.median_test(bl_density.ripple_density, rec_density.ripple_density) \n",
    "print(stat, p, med)"
   ]
  },
  {
   "cell_type": "code",
   "execution_count": 116,
   "metadata": {},
   "outputs": [
    {
     "data": {
      "text/plain": [
       "KruskalResult(statistic=6.51863516955045, pvalue=0.01067498940600199)"
      ]
     },
     "execution_count": 116,
     "metadata": {},
     "output_type": "execute_result"
    }
   ],
   "source": [
    "stats.kruskal(bl_density.ripple_density, rec_density.ripple_density)"
   ]
  },
  {
   "cell_type": "code",
   "execution_count": 117,
   "metadata": {},
   "outputs": [
    {
     "data": {
      "text/plain": [
       "MannwhitneyuResult(statistic=2417.0, pvalue=0.005363463113285392)"
      ]
     },
     "execution_count": 117,
     "metadata": {},
     "output_type": "execute_result"
    }
   ],
   "source": [
    "stats.mannwhitneyu(bl_density.ripple_density, rec_density.ripple_density)"
   ]
  },
  {
   "cell_type": "markdown",
   "metadata": {},
   "source": [
    "### Sensitivity Analysis"
   ]
  },
  {
   "cell_type": "code",
   "execution_count": 118,
   "metadata": {},
   "outputs": [],
   "source": [
    "def _get_density_ttest_pval(epoch_length):\n",
    "    bl_density = _get_ripple_density(bl_hypno, ripples_bl, epoch_length)\n",
    "    rec_density = _get_ripple_density(rec_hypno, ripples_rec, epoch_length)\n",
    "    return stats.ttest_ind(bl_density.ripple_density, rec_density.ripple_density, equal_var=False).pvalue\n",
    "\n",
    "def _get_density_MannWhitney_pval(epoch_length):\n",
    "    bl_density = _get_ripple_density(bl_hypno, ripples_bl, epoch_length)\n",
    "    rec_density = _get_ripple_density(rec_hypno, ripples_rec, epoch_length)\n",
    "    return stats.mannwhitneyu(bl_density.ripple_density, rec_density.ripple_density).pvalue\n",
    "\n",
    "def _get_density_nEpochs(hypno, ripples, epoch_length):\n",
    "    bl_density = _get_ripple_density(hypno, ripples_bl, epoch_length)\n",
    "    rec_density = _get_ripple_density(rec_hypno, ripples_rec, epoch_length)\n",
    "    return stats.mannwhitneyu(bl_density.ripple_density, rec_density.ripple_density).pvalue\n",
    "\n",
    "df = pd.DataFrame(data={'epoch_length': np.arange(5, 65, 5)})\n",
    "df['ttest_pval'] = df.apply(lambda x: _get_density_ttest_pval(x.epoch_length), axis=1)\n",
    "df['mw_pval'] = df.apply(lambda x: _get_density_MannWhitney_pval(x.epoch_length), axis=1)\n",
    "df['n_epochs_bl'] = df.apply(lambda x: len(_get_ripple_density(bl_hypno, ripples_bl, x.epoch_length)), axis=1)\n",
    "df['n_epochs_rec'] = df.apply(lambda x: len(_get_ripple_density(rec_hypno, ripples_rec, x.epoch_length)), axis=1)"
   ]
  },
  {
   "cell_type": "code",
   "execution_count": 119,
   "metadata": {},
   "outputs": [
    {
     "data": {
      "text/html": [
       "<div>\n",
       "<style scoped>\n",
       "    .dataframe tbody tr th:only-of-type {\n",
       "        vertical-align: middle;\n",
       "    }\n",
       "\n",
       "    .dataframe tbody tr th {\n",
       "        vertical-align: top;\n",
       "    }\n",
       "\n",
       "    .dataframe thead th {\n",
       "        text-align: right;\n",
       "    }\n",
       "</style>\n",
       "<table border=\"1\" class=\"dataframe\">\n",
       "  <thead>\n",
       "    <tr style=\"text-align: right;\">\n",
       "      <th></th>\n",
       "      <th>epoch_length</th>\n",
       "      <th>ttest_pval</th>\n",
       "      <th>mw_pval</th>\n",
       "      <th>n_epochs_bl</th>\n",
       "      <th>n_epochs_rec</th>\n",
       "    </tr>\n",
       "  </thead>\n",
       "  <tbody>\n",
       "    <tr>\n",
       "      <th>0</th>\n",
       "      <td>5</td>\n",
       "      <td>0.000023</td>\n",
       "      <td>0.000054</td>\n",
       "      <td>542</td>\n",
       "      <td>776</td>\n",
       "    </tr>\n",
       "    <tr>\n",
       "      <th>1</th>\n",
       "      <td>10</td>\n",
       "      <td>0.000150</td>\n",
       "      <td>0.000174</td>\n",
       "      <td>250</td>\n",
       "      <td>368</td>\n",
       "    </tr>\n",
       "    <tr>\n",
       "      <th>2</th>\n",
       "      <td>15</td>\n",
       "      <td>0.000662</td>\n",
       "      <td>0.000984</td>\n",
       "      <td>151</td>\n",
       "      <td>236</td>\n",
       "    </tr>\n",
       "    <tr>\n",
       "      <th>3</th>\n",
       "      <td>20</td>\n",
       "      <td>0.001738</td>\n",
       "      <td>0.000956</td>\n",
       "      <td>105</td>\n",
       "      <td>171</td>\n",
       "    </tr>\n",
       "    <tr>\n",
       "      <th>4</th>\n",
       "      <td>25</td>\n",
       "      <td>0.001080</td>\n",
       "      <td>0.000570</td>\n",
       "      <td>77</td>\n",
       "      <td>130</td>\n",
       "    </tr>\n",
       "    <tr>\n",
       "      <th>5</th>\n",
       "      <td>30</td>\n",
       "      <td>0.006342</td>\n",
       "      <td>0.005363</td>\n",
       "      <td>61</td>\n",
       "      <td>104</td>\n",
       "    </tr>\n",
       "    <tr>\n",
       "      <th>6</th>\n",
       "      <td>35</td>\n",
       "      <td>0.002764</td>\n",
       "      <td>0.001857</td>\n",
       "      <td>53</td>\n",
       "      <td>90</td>\n",
       "    </tr>\n",
       "    <tr>\n",
       "      <th>7</th>\n",
       "      <td>40</td>\n",
       "      <td>0.071423</td>\n",
       "      <td>0.033709</td>\n",
       "      <td>38</td>\n",
       "      <td>78</td>\n",
       "    </tr>\n",
       "    <tr>\n",
       "      <th>8</th>\n",
       "      <td>45</td>\n",
       "      <td>0.053674</td>\n",
       "      <td>0.028758</td>\n",
       "      <td>30</td>\n",
       "      <td>66</td>\n",
       "    </tr>\n",
       "    <tr>\n",
       "      <th>9</th>\n",
       "      <td>50</td>\n",
       "      <td>0.016695</td>\n",
       "      <td>0.004043</td>\n",
       "      <td>28</td>\n",
       "      <td>54</td>\n",
       "    </tr>\n",
       "    <tr>\n",
       "      <th>10</th>\n",
       "      <td>55</td>\n",
       "      <td>0.066357</td>\n",
       "      <td>0.031372</td>\n",
       "      <td>22</td>\n",
       "      <td>52</td>\n",
       "    </tr>\n",
       "    <tr>\n",
       "      <th>11</th>\n",
       "      <td>60</td>\n",
       "      <td>0.095376</td>\n",
       "      <td>0.045632</td>\n",
       "      <td>16</td>\n",
       "      <td>41</td>\n",
       "    </tr>\n",
       "  </tbody>\n",
       "</table>\n",
       "</div>"
      ],
      "text/plain": [
       "    epoch_length  ttest_pval   mw_pval  n_epochs_bl  n_epochs_rec\n",
       "0              5    0.000023  0.000054          542           776\n",
       "1             10    0.000150  0.000174          250           368\n",
       "2             15    0.000662  0.000984          151           236\n",
       "3             20    0.001738  0.000956          105           171\n",
       "4             25    0.001080  0.000570           77           130\n",
       "5             30    0.006342  0.005363           61           104\n",
       "6             35    0.002764  0.001857           53            90\n",
       "7             40    0.071423  0.033709           38            78\n",
       "8             45    0.053674  0.028758           30            66\n",
       "9             50    0.016695  0.004043           28            54\n",
       "10            55    0.066357  0.031372           22            52\n",
       "11            60    0.095376  0.045632           16            41"
      ]
     },
     "execution_count": 119,
     "metadata": {},
     "output_type": "execute_result"
    }
   ],
   "source": [
    "df"
   ]
  },
  {
   "cell_type": "code",
   "execution_count": 120,
   "metadata": {},
   "outputs": [
    {
     "data": {
      "application/vnd.jupyter.widget-view+json": {
       "model_id": "d7948008591f48dea43739939d68106d",
       "version_major": 2,
       "version_minor": 0
      },
      "text/plain": [
       "Canvas(toolbar=Toolbar(toolitems=[('Home', 'Reset original view', 'home', 'home'), ('Back', 'Back to previous …"
      ]
     },
     "metadata": {},
     "output_type": "display_data"
    },
    {
     "data": {
      "text/plain": [
       "<AxesSubplot:xlabel='epoch_length'>"
      ]
     },
     "execution_count": 120,
     "metadata": {},
     "output_type": "execute_result"
    }
   ],
   "source": [
    "df[['ttest_pval', 'mw_pval', 'epoch_length']].plot(x='epoch_length')"
   ]
  },
  {
   "cell_type": "code",
   "execution_count": 121,
   "metadata": {},
   "outputs": [
    {
     "data": {
      "application/vnd.jupyter.widget-view+json": {
       "model_id": "0af25308a6254578ac9c995349dc3b2b",
       "version_major": 2,
       "version_minor": 0
      },
      "text/plain": [
       "Canvas(toolbar=Toolbar(toolitems=[('Home', 'Reset original view', 'home', 'home'), ('Back', 'Back to previous …"
      ]
     },
     "metadata": {},
     "output_type": "display_data"
    },
    {
     "data": {
      "text/plain": [
       "<AxesSubplot:xlabel='epoch_length'>"
      ]
     },
     "execution_count": 121,
     "metadata": {},
     "output_type": "execute_result"
    }
   ],
   "source": [
    "df[['n_epochs_bl', 'n_epochs_rec', 'epoch_length']].plot(x='epoch_length')"
   ]
  },
  {
   "cell_type": "code",
   "execution_count": null,
   "metadata": {},
   "outputs": [],
   "source": []
  }
 ],
 "metadata": {
  "kernelspec": {
   "display_name": "Python 3",
   "language": "python",
   "name": "python3"
  },
  "language_info": {
   "codemirror_mode": {
    "name": "ipython",
    "version": 3
   },
   "file_extension": ".py",
   "mimetype": "text/x-python",
   "name": "python",
   "nbconvert_exporter": "python",
   "pygments_lexer": "ipython3",
   "version": "3.7.9"
  }
 },
 "nbformat": 4,
 "nbformat_minor": 4
}
