{
 "cells": [
  {
   "cell_type": "code",
   "execution_count": 1,
   "metadata": {
    "execution": {
     "iopub.execute_input": "2020-11-25T22:53:26.601971Z",
     "iopub.status.busy": "2020-11-25T22:53:26.601511Z",
     "iopub.status.idle": "2020-11-25T22:53:26.614140Z",
     "shell.execute_reply": "2020-11-25T22:53:26.613799Z",
     "shell.execute_reply.started": "2020-11-25T22:53:26.601916Z"
    }
   },
   "outputs": [],
   "source": [
    "%load_ext autoreload\n",
    "%autoreload 2"
   ]
  },
  {
   "cell_type": "code",
   "execution_count": 61,
   "metadata": {
    "execution": {
     "iopub.execute_input": "2020-11-25T23:28:03.641726Z",
     "iopub.status.busy": "2020-11-25T23:28:03.641256Z",
     "iopub.status.idle": "2020-11-25T23:28:03.663099Z",
     "shell.execute_reply": "2020-11-25T23:28:03.662278Z",
     "shell.execute_reply.started": "2020-11-25T23:28:03.641669Z"
    }
   },
   "outputs": [],
   "source": [
    "%matplotlib widget\n",
    "import matplotlib.pyplot as plt"
   ]
  },
  {
   "cell_type": "code",
   "execution_count": 62,
   "metadata": {
    "execution": {
     "iopub.execute_input": "2020-11-25T23:28:04.141047Z",
     "iopub.status.busy": "2020-11-25T23:28:04.140621Z",
     "iopub.status.idle": "2020-11-25T23:28:04.158843Z",
     "shell.execute_reply": "2020-11-25T23:28:04.158061Z",
     "shell.execute_reply.started": "2020-11-25T23:28:04.140993Z"
    }
   },
   "outputs": [],
   "source": [
    "from pathlib import Path\n",
    "import numpy as np\n",
    "import pandas as pd"
   ]
  },
  {
   "cell_type": "code",
   "execution_count": 3,
   "metadata": {
    "execution": {
     "iopub.execute_input": "2020-11-25T22:53:27.823028Z",
     "iopub.status.busy": "2020-11-25T22:53:27.822589Z",
     "iopub.status.idle": "2020-11-25T22:53:28.012560Z",
     "shell.execute_reply": "2020-11-25T22:53:28.012085Z",
     "shell.execute_reply.started": "2020-11-25T22:53:27.822971Z"
    }
   },
   "outputs": [],
   "source": [
    "from ecephys.sglx_utils import load_timeseries\n",
    "from ecephys.graham import channel_groups, paths"
   ]
  },
  {
   "cell_type": "code",
   "execution_count": 112,
   "metadata": {
    "execution": {
     "iopub.execute_input": "2020-11-25T23:44:15.120328Z",
     "iopub.status.busy": "2020-11-25T23:44:15.119897Z",
     "iopub.status.idle": "2020-11-25T23:44:15.203982Z",
     "shell.execute_reply": "2020-11-25T23:44:15.203339Z",
     "shell.execute_reply.started": "2020-11-25T23:44:15.120272Z"
    }
   },
   "outputs": [
    {
     "name": "stdout",
     "output_type": "stream",
     "text": [
      "nChan: 385, nFileSamp: 18000019\n"
     ]
    }
   ],
   "source": [
    "condition = \"SR\"\n",
    "subject = \"Doppio\"\n",
    "\n",
    "# chans = channel_groups.CA1[subject]\n",
    "# chans = chans[0:11:2]\n",
    "chans = channel_groups.full[subject]\n",
    "bin_path = Path(paths.lfp_bin[condition][subject])\n",
    "(times, sig, fs) = load_timeseries(bin_path, chans, start_time=(645), end_time=(645 + 1.0))"
   ]
  },
  {
   "cell_type": "markdown",
   "metadata": {
    "collapsed": "true"
   },
   "source": [
    "## 1D kCSD on whole probe"
   ]
  },
  {
   "cell_type": "code",
   "execution_count": 167,
   "metadata": {
    "execution": {
     "iopub.execute_input": "2020-11-26T00:04:27.752325Z",
     "iopub.status.busy": "2020-11-26T00:04:27.752194Z",
     "iopub.status.idle": "2020-11-26T00:04:27.774173Z",
     "shell.execute_reply": "2020-11-26T00:04:27.772918Z",
     "shell.execute_reply.started": "2020-11-26T00:04:27.752310Z"
    }
   },
   "outputs": [],
   "source": [
    "from kcsd import KCSD1D\n",
    "\n",
    "n_chans = len(chans)\n",
    "intersite_distance = 0.020\n",
    "ele_pos = np.linspace(0., (n_chans - 1) * intersite_distance, n_chans).reshape(n_chans, 1)\n",
    "pots = sig.T"
   ]
  },
  {
   "cell_type": "code",
   "execution_count": 172,
   "metadata": {
    "execution": {
     "iopub.execute_input": "2020-11-26T00:04:54.770059Z",
     "iopub.status.busy": "2020-11-26T00:04:54.769628Z",
     "iopub.status.idle": "2020-11-26T00:04:54.928931Z",
     "shell.execute_reply": "2020-11-26T00:04:54.928279Z",
     "shell.execute_reply.started": "2020-11-26T00:04:54.770002Z"
    }
   },
   "outputs": [
    {
     "data": {
      "text/plain": [
       "(384, 2501)"
      ]
     },
     "execution_count": 172,
     "metadata": {},
     "output_type": "execute_result"
    }
   ],
   "source": [
    "k = KCSD1D(ele_pos, pots, gdx=0.02)\n",
    "est_csd = k.values('CSD')\n",
    "est_csd.shape"
   ]
  },
  {
   "cell_type": "code",
   "execution_count": 124,
   "metadata": {
    "execution": {
     "iopub.execute_input": "2020-11-25T23:52:09.524310Z",
     "iopub.status.busy": "2020-11-25T23:52:09.524167Z",
     "iopub.status.idle": "2020-11-25T23:52:09.630185Z",
     "shell.execute_reply": "2020-11-25T23:52:09.629670Z",
     "shell.execute_reply.started": "2020-11-25T23:52:09.524295Z"
    }
   },
   "outputs": [
    {
     "data": {
      "application/vnd.jupyter.widget-view+json": {
       "model_id": "5398335bf0154e08847b7a79c4a2c105",
       "version_major": 2,
       "version_minor": 0
      },
      "text/plain": [
       "Canvas(toolbar=Toolbar(toolitems=[('Home', 'Reset original view', 'home', 'home'), ('Back', 'Back to previous …"
      ]
     },
     "metadata": {},
     "output_type": "display_data"
    },
    {
     "data": {
      "text/plain": [
       "<matplotlib.lines.Line2D at 0x7fd9e7b3e1d0>"
      ]
     },
     "execution_count": 124,
     "metadata": {},
     "output_type": "execute_result"
    }
   ],
   "source": [
    "import matplotlib.cm as cm\n",
    "\n",
    "_, ax = plt.subplots(figsize=(20, 10))\n",
    "ax.pcolormesh(times, k.estm_x, est_csd, shading=\"gouraud\")\n",
    "ax.set_xlabel(\"Time [sec]\")\n",
    "ax.set_ylabel(\"Depth (mm)\")\n",
    "ax.axhline(5.8, alpha=0.5, color='k', linestyle=\"--\")\n",
    "ax.axhline(3.8, alpha=0.5, color='k', linestyle=\"--\")"
   ]
  },
  {
   "cell_type": "code",
   "execution_count": 15,
   "metadata": {
    "execution": {
     "iopub.execute_input": "2020-11-25T23:01:06.959079Z",
     "iopub.status.busy": "2020-11-25T23:01:06.958591Z",
     "iopub.status.idle": "2020-11-25T23:01:06.978238Z",
     "shell.execute_reply": "2020-11-25T23:01:06.977609Z",
     "shell.execute_reply.started": "2020-11-25T23:01:06.959020Z"
    }
   },
   "outputs": [
    {
     "data": {
      "text/plain": [
       "array([380, 383,   1,   2,   5,   6,   9,  10,  13,  14,  17,  18,  21,\n",
       "        22,  25,  26,  29,  30,  33,  34,  37,  38,  41,  42,  45,  46,\n",
       "        49,  50,  53,  54,  57,  58,  61,  62,  65,  66,  69,  70,  73,\n",
       "        74,  77,  78,  81,  82,  85,  86,  89,  90,  93,  94,  97,  98,\n",
       "       101, 102, 105, 106, 109, 110, 113, 114, 117, 118, 121, 122, 125,\n",
       "       126, 129, 130, 133, 134, 137, 138, 141, 142, 145, 146, 149, 150,\n",
       "       153, 154, 157, 158, 161, 162, 165, 166, 169, 170, 173, 174, 177,\n",
       "       178, 181, 182, 185, 186, 189, 190, 193, 194, 197])"
      ]
     },
     "execution_count": 15,
     "metadata": {},
     "output_type": "execute_result"
    }
   ],
   "source": [
    "chans[np.logical_and(ele_pos >= 3.8, ele_pos <= 5.8).flatten()]"
   ]
  },
  {
   "cell_type": "code",
   "execution_count": 16,
   "metadata": {
    "execution": {
     "iopub.execute_input": "2020-11-25T23:01:15.478214Z",
     "iopub.status.busy": "2020-11-25T23:01:15.477787Z",
     "iopub.status.idle": "2020-11-25T23:01:15.496182Z",
     "shell.execute_reply": "2020-11-25T23:01:15.495601Z",
     "shell.execute_reply.started": "2020-11-25T23:01:15.478160Z"
    }
   },
   "outputs": [
    {
     "data": {
      "text/plain": [
       "(array([190, 191, 192, 193, 194, 195, 196, 197, 198, 199, 200, 201, 202,\n",
       "        203, 204, 205, 206, 207, 208, 209, 210, 211, 212, 213, 214, 215,\n",
       "        216, 217, 218, 219, 220, 221, 222, 223, 224, 225, 226, 227, 228,\n",
       "        229, 230, 231, 232, 233, 234, 235, 236, 237, 238, 239, 240, 241,\n",
       "        242, 243, 244, 245, 246, 247, 248, 249, 250, 251, 252, 253, 254,\n",
       "        255, 256, 257, 258, 259, 260, 261, 262, 263, 264, 265, 266, 267,\n",
       "        268, 269, 270, 271, 272, 273, 274, 275, 276, 277, 278, 279, 280,\n",
       "        281, 282, 283, 284, 285, 286, 287, 288, 289, 290]),)"
      ]
     },
     "execution_count": 16,
     "metadata": {},
     "output_type": "execute_result"
    }
   ],
   "source": [
    "np.where(np.logical_and(ele_pos >= 3.8, ele_pos <= 5.8).flatten())"
   ]
  },
  {
   "cell_type": "code",
   "execution_count": 17,
   "metadata": {
    "execution": {
     "iopub.execute_input": "2020-11-25T23:01:28.390516Z",
     "iopub.status.busy": "2020-11-25T23:01:28.390085Z",
     "iopub.status.idle": "2020-11-25T23:01:28.408065Z",
     "shell.execute_reply": "2020-11-25T23:01:28.407494Z",
     "shell.execute_reply.started": "2020-11-25T23:01:28.390461Z"
    }
   },
   "outputs": [
    {
     "data": {
      "text/plain": [
       "array([380, 383,   1,   2,   5,   6,   9,  10,  13,  14,  17,  18,  21,\n",
       "        22,  25,  26,  29,  30,  33,  34,  37,  38,  41,  42,  45,  46,\n",
       "        49,  50,  53,  54,  57,  58,  61,  62,  65,  66,  69,  70,  73,\n",
       "        74,  77,  78,  81,  82,  85,  86,  89,  90,  93,  94,  97,  98,\n",
       "       101, 102, 105, 106, 109, 110, 113, 114, 117, 118, 121, 122, 125,\n",
       "       126, 129, 130, 133, 134, 137, 138, 141, 142, 145, 146, 149, 150,\n",
       "       153, 154, 157, 158, 161, 162, 165, 166, 169, 170, 173, 174, 177,\n",
       "       178, 181, 182, 185, 186, 189, 190, 193, 194, 197])"
      ]
     },
     "execution_count": 17,
     "metadata": {},
     "output_type": "execute_result"
    }
   ],
   "source": [
    "chans[190:291]"
   ]
  },
  {
   "cell_type": "markdown",
   "metadata": {},
   "source": [
    "## 1D kCSD on hippocampal channels"
   ]
  },
  {
   "cell_type": "code",
   "execution_count": 403,
   "metadata": {
    "execution": {
     "iopub.execute_input": "2020-11-28T00:28:31.890703Z",
     "iopub.status.busy": "2020-11-28T00:28:31.890267Z",
     "iopub.status.idle": "2020-11-28T00:28:31.907615Z",
     "shell.execute_reply": "2020-11-28T00:28:31.906832Z",
     "shell.execute_reply.started": "2020-11-28T00:28:31.890647Z"
    }
   },
   "outputs": [],
   "source": [
    "hpc_chans = chans[190:291]\n",
    "hpc_sig = sig[:, 190:291]"
   ]
  },
  {
   "cell_type": "code",
   "execution_count": 406,
   "metadata": {
    "execution": {
     "iopub.execute_input": "2020-11-28T00:29:03.868444Z",
     "iopub.status.busy": "2020-11-28T00:29:03.868009Z",
     "iopub.status.idle": "2020-11-28T00:29:03.887314Z",
     "shell.execute_reply": "2020-11-28T00:29:03.886587Z",
     "shell.execute_reply.started": "2020-11-28T00:29:03.868389Z"
    }
   },
   "outputs": [],
   "source": [
    "from kcsd import KCSD1D\n",
    "\n",
    "n_hpc_chans = len(hpc_chans)\n",
    "intersite_distance = 0.020\n",
    "ele_pos = np.linspace(0., (n_hpc_chans - 1) * intersite_distance, n_hpc_chans).reshape(n_hpc_chans, 1)\n",
    "pots = hpc_sig.T"
   ]
  },
  {
   "cell_type": "code",
   "execution_count": 407,
   "metadata": {
    "execution": {
     "iopub.execute_input": "2020-11-28T00:29:07.031273Z",
     "iopub.status.busy": "2020-11-28T00:29:07.030840Z",
     "iopub.status.idle": "2020-11-28T00:29:07.097147Z",
     "shell.execute_reply": "2020-11-28T00:29:07.096376Z",
     "shell.execute_reply.started": "2020-11-28T00:29:07.031218Z"
    }
   },
   "outputs": [],
   "source": [
    "k = KCSD1D(ele_pos, pots, gdx=0.02)\n",
    "est_csd = k.values('CSD')"
   ]
  },
  {
   "cell_type": "code",
   "execution_count": 408,
   "metadata": {
    "execution": {
     "iopub.execute_input": "2020-11-28T00:29:08.449803Z",
     "iopub.status.busy": "2020-11-28T00:29:08.449383Z",
     "iopub.status.idle": "2020-11-28T00:29:08.508816Z",
     "shell.execute_reply": "2020-11-28T00:29:08.508186Z",
     "shell.execute_reply.started": "2020-11-28T00:29:08.449750Z"
    }
   },
   "outputs": [
    {
     "data": {
      "application/vnd.jupyter.widget-view+json": {
       "model_id": "5b9180083827410bb974bfbdab1154d1",
       "version_major": 2,
       "version_minor": 0
      },
      "text/plain": [
       "Canvas(toolbar=Toolbar(toolitems=[('Home', 'Reset original view', 'home', 'home'), ('Back', 'Back to previous …"
      ]
     },
     "metadata": {},
     "output_type": "display_data"
    },
    {
     "data": {
      "text/plain": [
       "Text(0, 0.5, 'Depth (mm)')"
      ]
     },
     "execution_count": 408,
     "metadata": {},
     "output_type": "execute_result"
    }
   ],
   "source": [
    "import matplotlib.cm as cm\n",
    "\n",
    "_, ax = plt.subplots(figsize=(20, 10))\n",
    "ax.pcolormesh(times, k.estm_x, est_csd, shading=\"gouraud\")\n",
    "ax.set_xlabel(\"Time [sec]\")\n",
    "ax.set_ylabel(\"Depth (mm)\")\n",
    "#ax.axhline(5.8, alpha=0.5, color='k', linestyle=\"--\")\n",
    "#ax.axhline(3.8, alpha=0.5, color='k', linestyle=\"--\")"
   ]
  },
  {
   "cell_type": "code",
   "execution_count": 199,
   "metadata": {
    "execution": {
     "iopub.execute_input": "2020-11-27T20:28:18.274822Z",
     "iopub.status.busy": "2020-11-27T20:28:18.274393Z",
     "iopub.status.idle": "2020-11-27T20:28:18.402731Z",
     "shell.execute_reply": "2020-11-27T20:28:18.402200Z",
     "shell.execute_reply.started": "2020-11-27T20:28:18.274765Z"
    }
   },
   "outputs": [
    {
     "data": {
      "application/vnd.jupyter.widget-view+json": {
       "model_id": "8db476c83aae4c14992bd88422620f8d",
       "version_major": 2,
       "version_minor": 0
      },
      "text/plain": [
       "Canvas(toolbar=Toolbar(toolitems=[('Home', 'Reset original view', 'home', 'home'), ('Back', 'Back to previous …"
      ]
     },
     "metadata": {},
     "output_type": "display_data"
    },
    {
     "data": {
      "application/vnd.jupyter.widget-view+json": {
       "model_id": "b7bff0bae89442b28a3b899bbd9f5cb4",
       "version_major": 2,
       "version_minor": 0
      },
      "text/plain": [
       "HBox(children=(FloatSlider(value=1.0, description='Secs', max=4.0, min=0.25, step=0.25), BoundedFloatText(valu…"
      ]
     },
     "metadata": {},
     "output_type": "display_data"
    },
    {
     "data": {
      "application/vnd.jupyter.widget-view+json": {
       "model_id": "d0b86a4db78945e5bfd85c1bc5233d96",
       "version_major": 2,
       "version_minor": 0
      },
      "text/plain": [
       "Output()"
      ]
     },
     "metadata": {},
     "output_type": "display_data"
    }
   ],
   "source": [
    "plot_timeseries_interactive(times, est_csd.T)"
   ]
  },
  {
   "cell_type": "code",
   "execution_count": 409,
   "metadata": {
    "execution": {
     "iopub.execute_input": "2020-11-28T00:29:16.765534Z",
     "iopub.status.busy": "2020-11-28T00:29:16.765056Z",
     "iopub.status.idle": "2020-11-28T00:29:17.504391Z",
     "shell.execute_reply": "2020-11-28T00:29:17.503738Z",
     "shell.execute_reply.started": "2020-11-28T00:29:16.765457Z"
    }
   },
   "outputs": [
    {
     "name": "stdout",
     "output_type": "stream",
     "text": [
      "No lambda given, using defaults\n",
      "min lambda 1e-12\n",
      "max lambda 0.0126\n",
      "min lambda 1e-12\n",
      "max lambda 0.0126\n",
      "l-curve (all lambda):  0.23\n",
      "Best lambda and R =  1.156515141025464e-05 ,  0.23\n"
     ]
    }
   ],
   "source": [
    "k.L_curve()"
   ]
  },
  {
   "cell_type": "code",
   "execution_count": 410,
   "metadata": {
    "execution": {
     "iopub.execute_input": "2020-11-28T00:29:19.263782Z",
     "iopub.status.busy": "2020-11-28T00:29:19.263350Z",
     "iopub.status.idle": "2020-11-28T00:29:19.316564Z",
     "shell.execute_reply": "2020-11-28T00:29:19.315853Z",
     "shell.execute_reply.started": "2020-11-28T00:29:19.263727Z"
    }
   },
   "outputs": [],
   "source": [
    "est_csd_val = k.values('CSD')"
   ]
  },
  {
   "cell_type": "code",
   "execution_count": 411,
   "metadata": {
    "execution": {
     "iopub.execute_input": "2020-11-28T00:29:20.384361Z",
     "iopub.status.busy": "2020-11-28T00:29:20.384113Z",
     "iopub.status.idle": "2020-11-28T00:29:20.438197Z",
     "shell.execute_reply": "2020-11-28T00:29:20.437737Z",
     "shell.execute_reply.started": "2020-11-28T00:29:20.384330Z"
    }
   },
   "outputs": [
    {
     "data": {
      "application/vnd.jupyter.widget-view+json": {
       "model_id": "3b8c4b330d35411687a7e403beeab1b6",
       "version_major": 2,
       "version_minor": 0
      },
      "text/plain": [
       "Canvas(toolbar=Toolbar(toolitems=[('Home', 'Reset original view', 'home', 'home'), ('Back', 'Back to previous …"
      ]
     },
     "metadata": {},
     "output_type": "display_data"
    },
    {
     "data": {
      "text/plain": [
       "Text(0, 0.5, 'Depth (mm)')"
      ]
     },
     "execution_count": 411,
     "metadata": {},
     "output_type": "execute_result"
    }
   ],
   "source": [
    "import matplotlib.cm as cm\n",
    "\n",
    "_, ax = plt.subplots(figsize=(20, 10))\n",
    "ax.pcolormesh(times, k.estm_x, est_csd_val, shading=\"gouraud\")\n",
    "ax.set_xlabel(\"Time [sec]\")\n",
    "ax.set_ylabel(\"Depth (mm)\")"
   ]
  },
  {
   "cell_type": "code",
   "execution_count": 198,
   "metadata": {
    "execution": {
     "iopub.execute_input": "2020-11-27T20:27:35.083233Z",
     "iopub.status.busy": "2020-11-27T20:27:35.082756Z",
     "iopub.status.idle": "2020-11-27T20:27:35.215617Z",
     "shell.execute_reply": "2020-11-27T20:27:35.215076Z",
     "shell.execute_reply.started": "2020-11-27T20:27:35.083154Z"
    }
   },
   "outputs": [
    {
     "data": {
      "application/vnd.jupyter.widget-view+json": {
       "model_id": "9af8f7c4be174c02bc919a2888fbb7af",
       "version_major": 2,
       "version_minor": 0
      },
      "text/plain": [
       "Canvas(toolbar=Toolbar(toolitems=[('Home', 'Reset original view', 'home', 'home'), ('Back', 'Back to previous …"
      ]
     },
     "metadata": {},
     "output_type": "display_data"
    },
    {
     "data": {
      "application/vnd.jupyter.widget-view+json": {
       "model_id": "db89387a47a04c07b6480b29019052c9",
       "version_major": 2,
       "version_minor": 0
      },
      "text/plain": [
       "HBox(children=(FloatSlider(value=1.0, description='Secs', max=4.0, min=0.25, step=0.25), BoundedFloatText(valu…"
      ]
     },
     "metadata": {},
     "output_type": "display_data"
    },
    {
     "data": {
      "application/vnd.jupyter.widget-view+json": {
       "model_id": "baf4da30cd4c4058b7a387c973bacdf5",
       "version_major": 2,
       "version_minor": 0
      },
      "text/plain": [
       "Output()"
      ]
     },
     "metadata": {},
     "output_type": "display_data"
    }
   ],
   "source": [
    "from ecephys.plot import plot_timeseries_interactive\n",
    "plot_timeseries_interactive(times, est_csd_val.T)"
   ]
  },
  {
   "cell_type": "code",
   "execution_count": 142,
   "metadata": {
    "execution": {
     "iopub.execute_input": "2020-11-25T23:55:13.998766Z",
     "iopub.status.busy": "2020-11-25T23:55:13.998335Z",
     "iopub.status.idle": "2020-11-25T23:55:14.019883Z",
     "shell.execute_reply": "2020-11-25T23:55:14.018931Z",
     "shell.execute_reply.started": "2020-11-25T23:55:13.998710Z"
    }
   },
   "outputs": [],
   "source": [
    "# From AllenSDK\n",
    "def compute_csd(trial_mean_lfp, spacing):\n",
    "    '''Compute current source density for real or virtual channels from\n",
    "    a neuropixels probe.\n",
    "    Compute a second spatial derivative along the probe length\n",
    "    as a 1D approximation of the Laplacian, after Pitts (1952).\n",
    "    Parameters\n",
    "    ----------\n",
    "    trial_mean_lfp: numpy.ndarray\n",
    "        LFP traces surrounding presentation of a common stimulus that\n",
    "        have been averaged over trials. Dimensions are channels X time samples.\n",
    "    spacing : float\n",
    "        Distance between channels, in millimeters. This spacing may be\n",
    "        physical distances between channels or a virtual distance if channels\n",
    "        have been interpolated to new virtual positions.\n",
    "    Returns\n",
    "    -------\n",
    "    Tuple[csd, csd_channels]:\n",
    "        csd : numpy.ndarray\n",
    "            Current source density. Dimensions are channels X time samples.\n",
    "        csd_channels: numpy.ndarray\n",
    "            Array of channel indices for CSD.\n",
    "    '''\n",
    "\n",
    "    # Need to pad lfp channels for Laplacian approx.\n",
    "    padded_lfp = np.pad(trial_mean_lfp,\n",
    "                        pad_width=((1, 1), (0, 0)),\n",
    "                        mode='edge')\n",
    "\n",
    "    csd = (1 / (spacing ** 2)) * (padded_lfp[2:, :]\n",
    "                                  - (2 * padded_lfp[1:-1, :])\n",
    "                                  + padded_lfp[:-2, :])\n",
    "    \n",
    "    csd_channels = np.arange(0, trial_mean_lfp.shape[0])\n",
    "    \n",
    "    return (csd, csd_channels)"
   ]
  },
  {
   "cell_type": "code",
   "execution_count": 210,
   "metadata": {
    "execution": {
     "iopub.execute_input": "2020-11-27T22:25:24.900186Z",
     "iopub.status.busy": "2020-11-27T22:25:24.899756Z",
     "iopub.status.idle": "2020-11-27T22:25:24.920617Z",
     "shell.execute_reply": "2020-11-27T22:25:24.920038Z",
     "shell.execute_reply.started": "2020-11-27T22:25:24.900128Z"
    }
   },
   "outputs": [],
   "source": [
    "est_csd_aibs, csd_channels_aibs = compute_csd(pots[1::4], intersite_distance * 4)"
   ]
  },
  {
   "cell_type": "code",
   "execution_count": 211,
   "metadata": {
    "execution": {
     "iopub.execute_input": "2020-11-27T22:25:25.262172Z",
     "iopub.status.busy": "2020-11-27T22:25:25.261899Z",
     "iopub.status.idle": "2020-11-27T22:25:25.305941Z",
     "shell.execute_reply": "2020-11-27T22:25:25.305411Z",
     "shell.execute_reply.started": "2020-11-27T22:25:25.262137Z"
    }
   },
   "outputs": [
    {
     "data": {
      "application/vnd.jupyter.widget-view+json": {
       "model_id": "c2ec6d1db7054dd390e800344e656e44",
       "version_major": 2,
       "version_minor": 0
      },
      "text/plain": [
       "Canvas(toolbar=Toolbar(toolitems=[('Home', 'Reset original view', 'home', 'home'), ('Back', 'Back to previous …"
      ]
     },
     "metadata": {},
     "output_type": "display_data"
    },
    {
     "data": {
      "text/plain": [
       "Text(0, 0.5, 'Depth (mm)')"
      ]
     },
     "execution_count": 211,
     "metadata": {},
     "output_type": "execute_result"
    }
   ],
   "source": [
    "_, ax = plt.subplots(figsize=(20, 10))\n",
    "ax.pcolormesh(times, csd_channels_aibs, est_csd_aibs, shading=\"gouraud\")\n",
    "ax.set_xlabel(\"Time [sec]\")\n",
    "ax.set_ylabel(\"Depth (mm)\")"
   ]
  },
  {
   "cell_type": "code",
   "execution_count": 174,
   "metadata": {
    "execution": {
     "iopub.execute_input": "2020-11-27T20:04:44.808474Z",
     "iopub.status.busy": "2020-11-27T20:04:44.808045Z",
     "iopub.status.idle": "2020-11-27T20:04:44.933711Z",
     "shell.execute_reply": "2020-11-27T20:04:44.932882Z",
     "shell.execute_reply.started": "2020-11-27T20:04:44.808418Z"
    }
   },
   "outputs": [
    {
     "data": {
      "application/vnd.jupyter.widget-view+json": {
       "model_id": "c33e6f234510454b99d33269094fce9f",
       "version_major": 2,
       "version_minor": 0
      },
      "text/plain": [
       "Canvas(toolbar=Toolbar(toolitems=[('Home', 'Reset original view', 'home', 'home'), ('Back', 'Back to previous …"
      ]
     },
     "metadata": {},
     "output_type": "display_data"
    },
    {
     "data": {
      "application/vnd.jupyter.widget-view+json": {
       "model_id": "b0bdbd0d37ad45aaa56fc2e4cbbf04e0",
       "version_major": 2,
       "version_minor": 0
      },
      "text/plain": [
       "HBox(children=(FloatSlider(value=1.0, description='Secs', max=4.0, min=0.25, step=0.25), BoundedFloatText(valu…"
      ]
     },
     "metadata": {},
     "output_type": "display_data"
    },
    {
     "data": {
      "application/vnd.jupyter.widget-view+json": {
       "model_id": "c9a01b8f00914fd8921e1b5858f38cf3",
       "version_major": 2,
       "version_minor": 0
      },
      "text/plain": [
       "Output()"
      ]
     },
     "metadata": {},
     "output_type": "display_data"
    }
   ],
   "source": [
    "plot_timeseries_interactive(times, est_csd_aibs.T)"
   ]
  },
  {
   "cell_type": "markdown",
   "metadata": {
    "collapsed": "true"
   },
   "source": [
    "## 2D kCSD on hippocampal channels"
   ]
  },
  {
   "cell_type": "code",
   "execution_count": 265,
   "metadata": {
    "execution": {
     "iopub.execute_input": "2020-11-27T23:32:15.251020Z",
     "iopub.status.busy": "2020-11-27T23:32:15.250591Z",
     "iopub.status.idle": "2020-11-27T23:32:15.270814Z",
     "shell.execute_reply": "2020-11-27T23:32:15.270232Z",
     "shell.execute_reply.started": "2020-11-27T23:32:15.250963Z"
    }
   },
   "outputs": [],
   "source": [
    "def make_2D_plot(xx, yy, zz, title='CSD'):\n",
    "    fig = plt.figure(figsize=(5, 15))\n",
    "    ax = plt.subplot(111)\n",
    "    ax.set_aspect('equal')\n",
    "    t_max = np.max(np.abs(zz))\n",
    "    levels = np.linspace(-1 * t_max, t_max, 32)\n",
    "    im = ax.contourf(xx, yy, zz, levels=levels)\n",
    "    ax.set_xlabel('X (mm)')\n",
    "    ax.set_ylabel('Y (mm)')\n",
    "    ax.set_title(title)\n",
    "    ticks = np.linspace(-1 * t_max, t_max, 3, endpoint=True)\n",
    "    return ax"
   ]
  },
  {
   "cell_type": "code",
   "execution_count": 236,
   "metadata": {
    "execution": {
     "iopub.execute_input": "2020-11-27T23:21:40.111857Z",
     "iopub.status.busy": "2020-11-27T23:21:40.111428Z",
     "iopub.status.idle": "2020-11-27T23:21:40.130995Z",
     "shell.execute_reply": "2020-11-27T23:21:40.130269Z",
     "shell.execute_reply.started": "2020-11-27T23:21:40.111802Z"
    }
   },
   "outputs": [],
   "source": [
    "from ecephys.graham.channel_coords import CheckPat_x, CheckPat_y\n",
    "(hpc_x, hpc_y) = (CheckPat_x[hpc_chans], CheckPat_y[hpc_chans])"
   ]
  },
  {
   "cell_type": "code",
   "execution_count": null,
   "metadata": {},
   "outputs": [],
   "source": [
    "from ecephys.plot import plot_channel_coords\n",
    "plot_channel_coords(hpc_chans, hpc_x, hpc_y)"
   ]
  },
  {
   "cell_type": "code",
   "execution_count": 249,
   "metadata": {
    "execution": {
     "iopub.execute_input": "2020-11-27T23:24:19.341455Z",
     "iopub.status.busy": "2020-11-27T23:24:19.341020Z",
     "iopub.status.idle": "2020-11-27T23:24:19.359214Z",
     "shell.execute_reply": "2020-11-27T23:24:19.358282Z",
     "shell.execute_reply.started": "2020-11-27T23:24:19.341400Z"
    }
   },
   "outputs": [],
   "source": [
    "hpc_ele_pos = np.vstack([hpc_x, hpc_y]).T\n",
    "hpc_pots = hpc_sig.T"
   ]
  },
  {
   "cell_type": "code",
   "execution_count": 393,
   "metadata": {
    "execution": {
     "iopub.execute_input": "2020-11-28T00:08:39.091863Z",
     "iopub.status.busy": "2020-11-28T00:08:39.091436Z",
     "iopub.status.idle": "2020-11-28T00:08:40.420821Z",
     "shell.execute_reply": "2020-11-28T00:08:40.420229Z",
     "shell.execute_reply.started": "2020-11-28T00:08:39.091808Z"
    }
   },
   "outputs": [
    {
     "name": "stdout",
     "output_type": "stream",
     "text": [
      "No lambda given, using defaults\n",
      "min lambda 1e-06\n",
      "max lambda 0.0001\n",
      "min lambda 1e-06\n",
      "max lambda 0.0001\n",
      "l-curve (all lambda):  0.23\n",
      "Best lambda and R =  8.857135378437576e-07 ,  0.23\n"
     ]
    }
   ],
   "source": [
    "from kcsd import KCSD2D\n",
    "\n",
    "vertical_site_spacing = 20\n",
    "horizontal_site_spacing = 16\n",
    "k = KCSD2D(hpc_ele_pos, hpc_pots, gdx=horizontal_site_spacing, gdy=vertical_site_spacing)\n",
    "est_csd_hpc_2D = k.values('CSD')\n",
    "k.L_curve()\n",
    "est_csd_hpc_2D_val = k.values('CSD')\n"
   ]
  },
  {
   "cell_type": "code",
   "execution_count": 394,
   "metadata": {
    "execution": {
     "iopub.execute_input": "2020-11-28T00:08:41.847040Z",
     "iopub.status.busy": "2020-11-28T00:08:41.846765Z",
     "iopub.status.idle": "2020-11-28T00:08:41.895880Z",
     "shell.execute_reply": "2020-11-28T00:08:41.895302Z",
     "shell.execute_reply.started": "2020-11-28T00:08:41.847004Z"
    }
   },
   "outputs": [
    {
     "data": {
      "application/vnd.jupyter.widget-view+json": {
       "model_id": "b42af7c1bf874d979be396d8c6f7ebeb",
       "version_major": 2,
       "version_minor": 0
      },
      "text/plain": [
       "Canvas(toolbar=Toolbar(toolitems=[('Home', 'Reset original view', 'home', 'home'), ('Back', 'Back to previous …"
      ]
     },
     "metadata": {},
     "output_type": "display_data"
    }
   ],
   "source": [
    "ax = make_2D_plot(k.estm_x, k.estm_y, est_csd_hpc_2D_val[:, :, (np.abs(times - 645.4621)).argmin()])"
   ]
  },
  {
   "cell_type": "code",
   "execution_count": 395,
   "metadata": {
    "execution": {
     "iopub.execute_input": "2020-11-28T00:08:46.036590Z",
     "iopub.status.busy": "2020-11-28T00:08:46.036145Z",
     "iopub.status.idle": "2020-11-28T00:08:46.055957Z",
     "shell.execute_reply": "2020-11-28T00:08:46.055382Z",
     "shell.execute_reply.started": "2020-11-28T00:08:46.036535Z"
    }
   },
   "outputs": [],
   "source": [
    "est_csd_flat = np.sum(est_csd_hpc_2D_val, axis=0)"
   ]
  },
  {
   "cell_type": "code",
   "execution_count": 396,
   "metadata": {
    "execution": {
     "iopub.execute_input": "2020-11-28T00:08:46.687049Z",
     "iopub.status.busy": "2020-11-28T00:08:46.686623Z",
     "iopub.status.idle": "2020-11-28T00:08:46.742845Z",
     "shell.execute_reply": "2020-11-28T00:08:46.742073Z",
     "shell.execute_reply.started": "2020-11-28T00:08:46.686994Z"
    }
   },
   "outputs": [
    {
     "data": {
      "application/vnd.jupyter.widget-view+json": {
       "model_id": "3542ea95ded14e6f989cd5dbc36e8218",
       "version_major": 2,
       "version_minor": 0
      },
      "text/plain": [
       "Canvas(toolbar=Toolbar(toolitems=[('Home', 'Reset original view', 'home', 'home'), ('Back', 'Back to previous …"
      ]
     },
     "metadata": {},
     "output_type": "display_data"
    },
    {
     "data": {
      "text/plain": [
       "Text(0, 0.5, 'Depth (mm)')"
      ]
     },
     "execution_count": 396,
     "metadata": {},
     "output_type": "execute_result"
    }
   ],
   "source": [
    "_, ax = plt.subplots(figsize=(20, 10))\n",
    "ax.pcolormesh(times, k.estm_y[0], est_csd_flat, shading=\"gouraud\")\n",
    "ax.set_xlabel(\"Time [sec]\")\n",
    "ax.set_ylabel(\"Depth (mm)\")"
   ]
  },
  {
   "cell_type": "code",
   "execution_count": null,
   "metadata": {},
   "outputs": [],
   "source": []
  }
 ],
 "metadata": {
  "kernelspec": {
   "display_name": "Python 3",
   "language": "python",
   "name": "python3"
  },
  "language_info": {
   "codemirror_mode": {
    "name": "ipython",
    "version": 3
   },
   "file_extension": ".py",
   "mimetype": "text/x-python",
   "name": "python",
   "nbconvert_exporter": "python",
   "pygments_lexer": "ipython3",
   "version": "3.7.9"
  }
 },
 "nbformat": 4,
 "nbformat_minor": 4
}
