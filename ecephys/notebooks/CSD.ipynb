{
 "cells": [
  {
   "cell_type": "code",
   "execution_count": 1,
   "metadata": {
    "execution": {
     "iopub.execute_input": "2020-11-30T21:30:58.141318Z",
     "iopub.status.busy": "2020-11-30T21:30:58.140846Z",
     "iopub.status.idle": "2020-11-30T21:30:58.157747Z",
     "shell.execute_reply": "2020-11-30T21:30:58.157065Z",
     "shell.execute_reply.started": "2020-11-30T21:30:58.141260Z"
    }
   },
   "outputs": [],
   "source": [
    "%load_ext autoreload\n",
    "%autoreload 2"
   ]
  },
  {
   "cell_type": "code",
   "execution_count": 2,
   "metadata": {
    "execution": {
     "iopub.execute_input": "2020-11-30T21:30:58.416588Z",
     "iopub.status.busy": "2020-11-30T21:30:58.416160Z",
     "iopub.status.idle": "2020-11-30T21:30:58.568562Z",
     "shell.execute_reply": "2020-11-30T21:30:58.568154Z",
     "shell.execute_reply.started": "2020-11-30T21:30:58.416533Z"
    }
   },
   "outputs": [],
   "source": [
    "%matplotlib widget\n",
    "import matplotlib.pyplot as plt"
   ]
  },
  {
   "cell_type": "code",
   "execution_count": 3,
   "metadata": {
    "execution": {
     "iopub.execute_input": "2020-11-30T21:30:59.174639Z",
     "iopub.status.busy": "2020-11-30T21:30:59.174276Z",
     "iopub.status.idle": "2020-11-30T21:30:59.189270Z",
     "shell.execute_reply": "2020-11-30T21:30:59.188539Z",
     "shell.execute_reply.started": "2020-11-30T21:30:59.174592Z"
    }
   },
   "outputs": [],
   "source": [
    "from pathlib import Path\n",
    "import numpy as np\n",
    "import pandas as pd"
   ]
  },
  {
   "cell_type": "code",
   "execution_count": 38,
   "metadata": {
    "execution": {
     "iopub.execute_input": "2020-11-30T21:40:29.521560Z",
     "iopub.status.busy": "2020-11-30T21:40:29.521132Z",
     "iopub.status.idle": "2020-11-30T21:40:29.540669Z",
     "shell.execute_reply": "2020-11-30T21:40:29.539928Z",
     "shell.execute_reply.started": "2020-11-30T21:40:29.521503Z"
    }
   },
   "outputs": [],
   "source": [
    "from ecephys.sglx_utils import load_timeseries\n",
    "from ecephys.data import channel_groups, paths\n",
    "from ecephys.plot import timeseries_explorer, colormesh_timeseries_explorer\n",
    "from ecephys.signal.utils import mean_subtract, median_subtract"
   ]
  },
  {
   "cell_type": "code",
   "execution_count": 22,
   "metadata": {
    "execution": {
     "iopub.execute_input": "2020-11-30T21:36:12.243773Z",
     "iopub.status.busy": "2020-11-30T21:36:12.243583Z",
     "iopub.status.idle": "2020-11-30T21:36:12.319354Z",
     "shell.execute_reply": "2020-11-30T21:36:12.318658Z",
     "shell.execute_reply.started": "2020-11-30T21:36:12.243744Z"
    }
   },
   "outputs": [
    {
     "name": "stdout",
     "output_type": "stream",
     "text": [
      "nChan: 385, nFileSamp: 18000019\n"
     ]
    }
   ],
   "source": [
    "condition = \"SR\"\n",
    "subject = \"Doppio\"\n",
    "\n",
    "# chans = channel_groups.CA1[subject]\n",
    "# chans = chans[0:11:2]\n",
    "chans = channel_groups.full[subject]\n",
    "# chans = np.delete(chans, chans == 191)\n",
    "bin_path = Path(paths.lfp_bin[condition][subject])\n",
    "(times, sig, fs) = load_timeseries(bin_path, chans, start_time=(645), end_time=(645 + 1.0))"
   ]
  },
  {
   "cell_type": "code",
   "execution_count": 43,
   "metadata": {
    "execution": {
     "iopub.execute_input": "2020-11-30T21:40:47.137911Z",
     "iopub.status.busy": "2020-11-30T21:40:47.137481Z",
     "iopub.status.idle": "2020-11-30T21:40:47.161762Z",
     "shell.execute_reply": "2020-11-30T21:40:47.161198Z",
     "shell.execute_reply.started": "2020-11-30T21:40:47.137834Z"
    }
   },
   "outputs": [],
   "source": [
    "sig = mean_subtract(sig)"
   ]
  },
  {
   "cell_type": "markdown",
   "metadata": {},
   "source": [
    "## 1D kCSD on whole probe"
   ]
  },
  {
   "cell_type": "code",
   "execution_count": 44,
   "metadata": {
    "execution": {
     "iopub.execute_input": "2020-11-30T21:40:47.948707Z",
     "iopub.status.busy": "2020-11-30T21:40:47.948279Z",
     "iopub.status.idle": "2020-11-30T21:40:47.967827Z",
     "shell.execute_reply": "2020-11-30T21:40:47.967102Z",
     "shell.execute_reply.started": "2020-11-30T21:40:47.948652Z"
    }
   },
   "outputs": [],
   "source": [
    "from kcsd import KCSD1D\n",
    "\n",
    "n_chans = len(chans)\n",
    "intersite_distance = 0.020\n",
    "ele_pos = np.linspace(0., (n_chans - 1) * intersite_distance, n_chans).reshape(n_chans, 1)\n",
    "pots = sig.T"
   ]
  },
  {
   "cell_type": "code",
   "execution_count": 45,
   "metadata": {
    "execution": {
     "iopub.execute_input": "2020-11-30T21:40:48.156899Z",
     "iopub.status.busy": "2020-11-30T21:40:48.156657Z",
     "iopub.status.idle": "2020-11-30T21:40:48.410050Z",
     "shell.execute_reply": "2020-11-30T21:40:48.409364Z",
     "shell.execute_reply.started": "2020-11-30T21:40:48.156868Z"
    }
   },
   "outputs": [
    {
     "data": {
      "text/plain": [
       "(384, 2501)"
      ]
     },
     "execution_count": 45,
     "metadata": {},
     "output_type": "execute_result"
    }
   ],
   "source": [
    "k = KCSD1D(ele_pos, pots, gdx=0.02)\n",
    "est_csd = k.values('CSD')\n",
    "est_csd.shape"
   ]
  },
  {
   "cell_type": "code",
   "execution_count": 46,
   "metadata": {
    "execution": {
     "iopub.execute_input": "2020-11-30T21:40:48.533072Z",
     "iopub.status.busy": "2020-11-30T21:40:48.532939Z",
     "iopub.status.idle": "2020-11-30T21:40:48.628207Z",
     "shell.execute_reply": "2020-11-30T21:40:48.627705Z",
     "shell.execute_reply.started": "2020-11-30T21:40:48.533056Z"
    }
   },
   "outputs": [
    {
     "data": {
      "application/vnd.jupyter.widget-view+json": {
       "model_id": "c7cc0e109ecf4e8fb14675d2fda3b258",
       "version_major": 2,
       "version_minor": 0
      },
      "text/plain": [
       "Canvas(toolbar=Toolbar(toolitems=[('Home', 'Reset original view', 'home', 'home'), ('Back', 'Back to previous …"
      ]
     },
     "metadata": {},
     "output_type": "display_data"
    },
    {
     "data": {
      "text/plain": [
       "<matplotlib.lines.Line2D at 0x7f01742ee490>"
      ]
     },
     "execution_count": 46,
     "metadata": {},
     "output_type": "execute_result"
    }
   ],
   "source": [
    "import matplotlib.cm as cm\n",
    "\n",
    "_, ax = plt.subplots(figsize=(20, 10))\n",
    "ax.pcolormesh(times, k.estm_x, est_csd, shading=\"gouraud\")\n",
    "ax.set_xlabel(\"Time [sec]\")\n",
    "ax.set_ylabel(\"Depth (mm)\")\n",
    "hi = 1.6\n",
    "lo = 1.25\n",
    "ax.axhline(hi, alpha=0.5, color='k', linestyle=\"--\")\n",
    "ax.axhline(lo, alpha=0.5, color='k', linestyle=\"--\")"
   ]
  },
  {
   "cell_type": "code",
   "execution_count": 47,
   "metadata": {
    "execution": {
     "iopub.execute_input": "2020-11-30T21:41:09.058802Z",
     "iopub.status.busy": "2020-11-30T21:41:09.058314Z",
     "iopub.status.idle": "2020-11-30T21:41:09.080163Z",
     "shell.execute_reply": "2020-11-30T21:41:09.079577Z",
     "shell.execute_reply.started": "2020-11-30T21:41:09.058720Z"
    }
   },
   "outputs": [
    {
     "data": {
      "text/plain": [
       "array([127, 128, 131, 132, 135, 136, 139, 140, 143, 144, 147, 148, 151,\n",
       "       152, 155, 156, 159, 160])"
      ]
     },
     "execution_count": 47,
     "metadata": {},
     "output_type": "execute_result"
    }
   ],
   "source": [
    "chans[np.logical_and(ele_pos >= lo, ele_pos <= hi).flatten()]"
   ]
  },
  {
   "cell_type": "code",
   "execution_count": 48,
   "metadata": {
    "execution": {
     "iopub.execute_input": "2020-11-30T21:41:09.293048Z",
     "iopub.status.busy": "2020-11-30T21:41:09.292909Z",
     "iopub.status.idle": "2020-11-30T21:41:09.309899Z",
     "shell.execute_reply": "2020-11-30T21:41:09.309308Z",
     "shell.execute_reply.started": "2020-11-30T21:41:09.293031Z"
    }
   },
   "outputs": [
    {
     "data": {
      "text/plain": [
       "(array([63, 64, 65, 66, 67, 68, 69, 70, 71, 72, 73, 74, 75, 76, 77, 78, 79,\n",
       "        80]),)"
      ]
     },
     "execution_count": 48,
     "metadata": {},
     "output_type": "execute_result"
    }
   ],
   "source": [
    "np.where(np.logical_and(ele_pos >= lo, ele_pos <= hi).flatten())"
   ]
  },
  {
   "cell_type": "code",
   "execution_count": 49,
   "metadata": {
    "execution": {
     "iopub.execute_input": "2020-11-30T21:41:09.717830Z",
     "iopub.status.busy": "2020-11-30T21:41:09.717684Z",
     "iopub.status.idle": "2020-11-30T21:41:09.734135Z",
     "shell.execute_reply": "2020-11-30T21:41:09.733595Z",
     "shell.execute_reply.started": "2020-11-30T21:41:09.717811Z"
    }
   },
   "outputs": [
    {
     "data": {
      "text/plain": [
       "array([380, 383,   1,   2,   5,   6,   9,  10,  13,  14,  17,  18,  21,\n",
       "        22,  25,  26,  29,  30,  33,  34,  37,  38,  41,  42,  45,  46,\n",
       "        49,  50,  53,  54,  57,  58,  61,  62,  65,  66,  69,  70,  73,\n",
       "        74,  77,  78,  81,  82,  85,  86,  89,  90,  93,  94,  97,  98,\n",
       "       101, 102, 105, 106, 109, 110, 113, 114, 117, 118, 121, 122, 125,\n",
       "       126, 129, 130, 133, 134, 137, 138, 141, 142, 145, 146, 149, 150,\n",
       "       153, 154, 157, 158, 161, 162, 165, 166, 169, 170, 173, 174, 177,\n",
       "       178, 181, 182, 185, 186, 189, 190, 193, 194, 197])"
      ]
     },
     "execution_count": 49,
     "metadata": {},
     "output_type": "execute_result"
    }
   ],
   "source": [
    "chans[190:291]"
   ]
  },
  {
   "cell_type": "markdown",
   "metadata": {},
   "source": [
    "## 1D kCSD on hippocampal channels"
   ]
  },
  {
   "cell_type": "code",
   "execution_count": 50,
   "metadata": {
    "execution": {
     "iopub.execute_input": "2020-11-30T21:41:14.157670Z",
     "iopub.status.busy": "2020-11-30T21:41:14.157384Z",
     "iopub.status.idle": "2020-11-30T21:41:14.174465Z",
     "shell.execute_reply": "2020-11-30T21:41:14.173858Z",
     "shell.execute_reply.started": "2020-11-30T21:41:14.157636Z"
    }
   },
   "outputs": [],
   "source": [
    "hpc_chans = chans[190:291]\n",
    "hpc_sig = sig[:, 190:291]"
   ]
  },
  {
   "cell_type": "code",
   "execution_count": 51,
   "metadata": {
    "execution": {
     "iopub.execute_input": "2020-11-30T21:41:14.677008Z",
     "iopub.status.busy": "2020-11-30T21:41:14.676737Z",
     "iopub.status.idle": "2020-11-30T21:41:14.695174Z",
     "shell.execute_reply": "2020-11-30T21:41:14.694488Z",
     "shell.execute_reply.started": "2020-11-30T21:41:14.676973Z"
    }
   },
   "outputs": [],
   "source": [
    "from kcsd import KCSD1D\n",
    "\n",
    "n_hpc_chans = len(hpc_chans)\n",
    "intersite_distance = 0.020\n",
    "ele_pos = np.linspace(0., (n_hpc_chans - 1) * intersite_distance, n_hpc_chans).reshape(n_hpc_chans, 1)\n",
    "pots = hpc_sig.T"
   ]
  },
  {
   "cell_type": "code",
   "execution_count": 52,
   "metadata": {
    "execution": {
     "iopub.execute_input": "2020-11-30T21:41:15.236802Z",
     "iopub.status.busy": "2020-11-30T21:41:15.236492Z",
     "iopub.status.idle": "2020-11-30T21:41:15.299701Z",
     "shell.execute_reply": "2020-11-30T21:41:15.299127Z",
     "shell.execute_reply.started": "2020-11-30T21:41:15.236761Z"
    }
   },
   "outputs": [],
   "source": [
    "k = KCSD1D(ele_pos, pots, gdx=0.02)\n",
    "est_csd = k.values('CSD')"
   ]
  },
  {
   "cell_type": "code",
   "execution_count": 53,
   "metadata": {
    "execution": {
     "iopub.execute_input": "2020-11-30T21:41:16.663887Z",
     "iopub.status.busy": "2020-11-30T21:41:16.663455Z",
     "iopub.status.idle": "2020-11-30T21:41:16.723175Z",
     "shell.execute_reply": "2020-11-30T21:41:16.722673Z",
     "shell.execute_reply.started": "2020-11-30T21:41:16.663830Z"
    }
   },
   "outputs": [
    {
     "data": {
      "application/vnd.jupyter.widget-view+json": {
       "model_id": "3066ce209a7d463d88630dab03292b5e",
       "version_major": 2,
       "version_minor": 0
      },
      "text/plain": [
       "Canvas(toolbar=Toolbar(toolitems=[('Home', 'Reset original view', 'home', 'home'), ('Back', 'Back to previous …"
      ]
     },
     "metadata": {},
     "output_type": "display_data"
    },
    {
     "data": {
      "text/plain": [
       "Text(0, 0.5, 'Depth (mm)')"
      ]
     },
     "execution_count": 53,
     "metadata": {},
     "output_type": "execute_result"
    }
   ],
   "source": [
    "import matplotlib.cm as cm\n",
    "\n",
    "_, ax = plt.subplots(figsize=(20, 10))\n",
    "ax.pcolormesh(times, k.estm_x, est_csd, shading=\"gouraud\")\n",
    "ax.set_xlabel(\"Time [sec]\")\n",
    "ax.set_ylabel(\"Depth (mm)\")\n",
    "#ax.axhline(5.8, alpha=0.5, color='k', linestyle=\"--\")\n",
    "#ax.axhline(3.8, alpha=0.5, color='k', linestyle=\"--\")"
   ]
  },
  {
   "cell_type": "code",
   "execution_count": 56,
   "metadata": {
    "execution": {
     "iopub.execute_input": "2020-11-30T21:41:38.796343Z",
     "iopub.status.busy": "2020-11-30T21:41:38.795915Z",
     "iopub.status.idle": "2020-11-30T21:41:38.983929Z",
     "shell.execute_reply": "2020-11-30T21:41:38.983336Z",
     "shell.execute_reply.started": "2020-11-30T21:41:38.796288Z"
    }
   },
   "outputs": [
    {
     "data": {
      "application/vnd.jupyter.widget-view+json": {
       "model_id": "f6eaac3e115f4cdca893d1eb94208a17",
       "version_major": 2,
       "version_minor": 0
      },
      "text/plain": [
       "Canvas(toolbar=Toolbar(toolitems=[('Home', 'Reset original view', 'home', 'home'), ('Back', 'Back to previous …"
      ]
     },
     "metadata": {},
     "output_type": "display_data"
    },
    {
     "data": {
      "application/vnd.jupyter.widget-view+json": {
       "model_id": "e5b535d9dfe7452b8b135902bb125b12",
       "version_major": 2,
       "version_minor": 0
      },
      "text/plain": [
       "HBox(children=(FloatSlider(value=1.0, description='Secs', max=4.0, min=0.25, step=0.25), BoundedFloatText(valu…"
      ]
     },
     "metadata": {},
     "output_type": "display_data"
    },
    {
     "data": {
      "application/vnd.jupyter.widget-view+json": {
       "model_id": "1b29edb032704531aa791a1ce010f4a4",
       "version_major": 2,
       "version_minor": 0
      },
      "text/plain": [
       "Output()"
      ]
     },
     "metadata": {},
     "output_type": "display_data"
    }
   ],
   "source": [
    "timeseries_explorer(times, est_csd.T)"
   ]
  },
  {
   "cell_type": "code",
   "execution_count": 57,
   "metadata": {
    "execution": {
     "iopub.execute_input": "2020-11-30T21:41:59.740570Z",
     "iopub.status.busy": "2020-11-30T21:41:59.740137Z",
     "iopub.status.idle": "2020-11-30T21:42:00.250922Z",
     "shell.execute_reply": "2020-11-30T21:42:00.250260Z",
     "shell.execute_reply.started": "2020-11-30T21:41:59.740513Z"
    }
   },
   "outputs": [
    {
     "name": "stdout",
     "output_type": "stream",
     "text": [
      "No lambda given, using defaults\n",
      "min lambda 1e-12\n",
      "max lambda 0.0126\n",
      "min lambda 1e-12\n",
      "max lambda 0.0126\n",
      "l-curve (all lambda):  0.23\n",
      "Best lambda and R =  3.6037656676605034e-06 ,  0.23\n"
     ]
    }
   ],
   "source": [
    "k.L_curve()"
   ]
  },
  {
   "cell_type": "code",
   "execution_count": 58,
   "metadata": {
    "execution": {
     "iopub.execute_input": "2020-11-30T21:42:00.694647Z",
     "iopub.status.busy": "2020-11-30T21:42:00.694229Z",
     "iopub.status.idle": "2020-11-30T21:42:00.723330Z",
     "shell.execute_reply": "2020-11-30T21:42:00.722758Z",
     "shell.execute_reply.started": "2020-11-30T21:42:00.694602Z"
    }
   },
   "outputs": [],
   "source": [
    "est_csd_val = k.values('CSD')"
   ]
  },
  {
   "cell_type": "code",
   "execution_count": 59,
   "metadata": {
    "execution": {
     "iopub.execute_input": "2020-11-30T21:42:02.928599Z",
     "iopub.status.busy": "2020-11-30T21:42:02.928160Z",
     "iopub.status.idle": "2020-11-30T21:42:02.981667Z",
     "shell.execute_reply": "2020-11-30T21:42:02.981189Z",
     "shell.execute_reply.started": "2020-11-30T21:42:02.928541Z"
    }
   },
   "outputs": [
    {
     "data": {
      "application/vnd.jupyter.widget-view+json": {
       "model_id": "c28bfa8d458c4d098923eb07103b9bc2",
       "version_major": 2,
       "version_minor": 0
      },
      "text/plain": [
       "Canvas(toolbar=Toolbar(toolitems=[('Home', 'Reset original view', 'home', 'home'), ('Back', 'Back to previous …"
      ]
     },
     "metadata": {},
     "output_type": "display_data"
    },
    {
     "data": {
      "text/plain": [
       "Text(0, 0.5, 'Depth (mm)')"
      ]
     },
     "execution_count": 59,
     "metadata": {},
     "output_type": "execute_result"
    }
   ],
   "source": [
    "import matplotlib.cm as cm\n",
    "\n",
    "_, ax = plt.subplots(figsize=(20, 10))\n",
    "ax.pcolormesh(times, k.estm_x, est_csd_val, shading=\"gouraud\")\n",
    "ax.set_xlabel(\"Time [sec]\")\n",
    "ax.set_ylabel(\"Depth (mm)\")"
   ]
  },
  {
   "cell_type": "code",
   "execution_count": 60,
   "metadata": {
    "execution": {
     "iopub.execute_input": "2020-11-30T21:42:23.731276Z",
     "iopub.status.busy": "2020-11-30T21:42:23.730844Z",
     "iopub.status.idle": "2020-11-30T21:42:23.862671Z",
     "shell.execute_reply": "2020-11-30T21:42:23.862052Z",
     "shell.execute_reply.started": "2020-11-30T21:42:23.731219Z"
    }
   },
   "outputs": [
    {
     "data": {
      "application/vnd.jupyter.widget-view+json": {
       "model_id": "8ed58ce9210a4e8cb5c9a0132c6b5cf5",
       "version_major": 2,
       "version_minor": 0
      },
      "text/plain": [
       "Canvas(toolbar=Toolbar(toolitems=[('Home', 'Reset original view', 'home', 'home'), ('Back', 'Back to previous …"
      ]
     },
     "metadata": {},
     "output_type": "display_data"
    },
    {
     "data": {
      "application/vnd.jupyter.widget-view+json": {
       "model_id": "6c7c1bebc55743f7a1ce76cd90ee733f",
       "version_major": 2,
       "version_minor": 0
      },
      "text/plain": [
       "HBox(children=(FloatSlider(value=1.0, description='Secs', max=4.0, min=0.25, step=0.25), BoundedFloatText(valu…"
      ]
     },
     "metadata": {},
     "output_type": "display_data"
    },
    {
     "data": {
      "application/vnd.jupyter.widget-view+json": {
       "model_id": "a678766861014721b110e3a8f1d8a0c9",
       "version_major": 2,
       "version_minor": 0
      },
      "text/plain": [
       "Output()"
      ]
     },
     "metadata": {},
     "output_type": "display_data"
    }
   ],
   "source": [
    "timeseries_explorer(times, est_csd_val.T)"
   ]
  },
  {
   "cell_type": "code",
   "execution_count": 64,
   "metadata": {
    "execution": {
     "iopub.execute_input": "2020-11-30T21:43:45.738488Z",
     "iopub.status.busy": "2020-11-30T21:43:45.738055Z",
     "iopub.status.idle": "2020-11-30T21:43:45.760501Z",
     "shell.execute_reply": "2020-11-30T21:43:45.759745Z",
     "shell.execute_reply.started": "2020-11-30T21:43:45.738430Z"
    }
   },
   "outputs": [],
   "source": [
    "# DATA SHOULD BE MEAN/MEDIAN SUBTRACTED !!!!\n",
    "# From AllenSDK\n",
    "def compute_csd(trial_mean_lfp, spacing):\n",
    "    '''Compute current source density for real or virtual channels from\n",
    "    a neuropixels probe.\n",
    "    Compute a second spatial derivative along the probe length\n",
    "    as a 1D approximation of the Laplacian, after Pitts (1952).\n",
    "    Parameters\n",
    "    ----------\n",
    "    trial_mean_lfp: numpy.ndarray\n",
    "        LFP traces surrounding presentation of a common stimulus that\n",
    "        have been averaged over trials. Dimensions are channels X time samples.\n",
    "    spacing : float\n",
    "        Distance between channels, in millimeters. This spacing may be\n",
    "        physical distances between channels or a virtual distance if channels\n",
    "        have been interpolated to new virtual positions.\n",
    "    Returns\n",
    "    -------\n",
    "    Tuple[csd, csd_channels]:\n",
    "        csd : numpy.ndarray\n",
    "            Current source density. Dimensions are channels X time samples.\n",
    "        csd_channels: numpy.ndarray\n",
    "            Array of channel indices for CSD.\n",
    "    '''\n",
    "\n",
    "    # Need to pad lfp channels for Laplacian approx.\n",
    "    padded_lfp = np.pad(trial_mean_lfp,\n",
    "                        pad_width=((1, 1), (0, 0)),\n",
    "                        mode='edge')\n",
    "\n",
    "    csd = (1 / (spacing ** 2)) * (padded_lfp[2:, :]\n",
    "                                  - (2 * padded_lfp[1:-1, :])\n",
    "                                  + padded_lfp[:-2, :])\n",
    "    \n",
    "    csd_channels = np.arange(0, trial_mean_lfp.shape[0])\n",
    "    \n",
    "    return (csd, csd_channels)"
   ]
  },
  {
   "cell_type": "code",
   "execution_count": 78,
   "metadata": {
    "execution": {
     "iopub.execute_input": "2020-11-30T21:46:34.112517Z",
     "iopub.status.busy": "2020-11-30T21:46:34.112082Z",
     "iopub.status.idle": "2020-11-30T21:46:34.133423Z",
     "shell.execute_reply": "2020-11-30T21:46:34.132652Z",
     "shell.execute_reply.started": "2020-11-30T21:46:34.112459Z"
    }
   },
   "outputs": [],
   "source": [
    "est_csd_aibs, csd_channels_aibs = compute_csd(pots[1::4], intersite_distance * 4)"
   ]
  },
  {
   "cell_type": "code",
   "execution_count": 79,
   "metadata": {
    "execution": {
     "iopub.execute_input": "2020-11-30T21:46:34.397567Z",
     "iopub.status.busy": "2020-11-30T21:46:34.397176Z",
     "iopub.status.idle": "2020-11-30T21:46:34.442979Z",
     "shell.execute_reply": "2020-11-30T21:46:34.442383Z",
     "shell.execute_reply.started": "2020-11-30T21:46:34.397516Z"
    }
   },
   "outputs": [
    {
     "data": {
      "application/vnd.jupyter.widget-view+json": {
       "model_id": "201c80ffc76a4ea99c42c832e0c24c3e",
       "version_major": 2,
       "version_minor": 0
      },
      "text/plain": [
       "Canvas(toolbar=Toolbar(toolitems=[('Home', 'Reset original view', 'home', 'home'), ('Back', 'Back to previous …"
      ]
     },
     "metadata": {},
     "output_type": "display_data"
    },
    {
     "data": {
      "text/plain": [
       "Text(0, 0.5, 'Depth (mm)')"
      ]
     },
     "execution_count": 79,
     "metadata": {},
     "output_type": "execute_result"
    }
   ],
   "source": [
    "_, ax = plt.subplots(figsize=(20, 10))\n",
    "ax.pcolormesh(times, csd_channels_aibs, -est_csd_aibs, shading=\"gouraud\")\n",
    "ax.set_xlabel(\"Time [sec]\")\n",
    "ax.set_ylabel(\"Depth (mm)\")"
   ]
  },
  {
   "cell_type": "code",
   "execution_count": 80,
   "metadata": {
    "execution": {
     "iopub.execute_input": "2020-11-30T21:46:41.721387Z",
     "iopub.status.busy": "2020-11-30T21:46:41.720939Z",
     "iopub.status.idle": "2020-11-30T21:46:41.849308Z",
     "shell.execute_reply": "2020-11-30T21:46:41.848734Z",
     "shell.execute_reply.started": "2020-11-30T21:46:41.721330Z"
    }
   },
   "outputs": [
    {
     "data": {
      "application/vnd.jupyter.widget-view+json": {
       "model_id": "bbfd8826b6ea4864a9b37b71c25b8ce6",
       "version_major": 2,
       "version_minor": 0
      },
      "text/plain": [
       "Canvas(toolbar=Toolbar(toolitems=[('Home', 'Reset original view', 'home', 'home'), ('Back', 'Back to previous …"
      ]
     },
     "metadata": {},
     "output_type": "display_data"
    },
    {
     "data": {
      "application/vnd.jupyter.widget-view+json": {
       "model_id": "fd41cb00464b434da7363aefe41b4c49",
       "version_major": 2,
       "version_minor": 0
      },
      "text/plain": [
       "HBox(children=(FloatSlider(value=1.0, description='Secs', max=4.0, min=0.25, step=0.25), BoundedFloatText(valu…"
      ]
     },
     "metadata": {},
     "output_type": "display_data"
    },
    {
     "data": {
      "application/vnd.jupyter.widget-view+json": {
       "model_id": "97fc6010bbc34076919b26cdd7f70af7",
       "version_major": 2,
       "version_minor": 0
      },
      "text/plain": [
       "Output()"
      ]
     },
     "metadata": {},
     "output_type": "display_data"
    }
   ],
   "source": [
    "timeseries_explorer(times, -est_csd_aibs.T)"
   ]
  },
  {
   "cell_type": "markdown",
   "metadata": {},
   "source": [
    "## 2D kCSD on hippocampal channels"
   ]
  },
  {
   "cell_type": "code",
   "execution_count": 265,
   "metadata": {
    "execution": {
     "iopub.execute_input": "2020-11-27T23:32:15.251020Z",
     "iopub.status.busy": "2020-11-27T23:32:15.250591Z",
     "iopub.status.idle": "2020-11-27T23:32:15.270814Z",
     "shell.execute_reply": "2020-11-27T23:32:15.270232Z",
     "shell.execute_reply.started": "2020-11-27T23:32:15.250963Z"
    }
   },
   "outputs": [],
   "source": [
    "def make_2D_plot(xx, yy, zz, title='CSD'):\n",
    "    fig = plt.figure(figsize=(5, 15))\n",
    "    ax = plt.subplot(111)\n",
    "    ax.set_aspect('equal')\n",
    "    t_max = np.max(np.abs(zz))\n",
    "    levels = np.linspace(-1 * t_max, t_max, 32)\n",
    "    im = ax.contourf(xx, yy, zz, levels=levels)\n",
    "    ax.set_xlabel('X (mm)')\n",
    "    ax.set_ylabel('Y (mm)')\n",
    "    ax.set_title(title)\n",
    "    ticks = np.linspace(-1 * t_max, t_max, 3, endpoint=True)\n",
    "    return ax"
   ]
  },
  {
   "cell_type": "code",
   "execution_count": 236,
   "metadata": {
    "execution": {
     "iopub.execute_input": "2020-11-27T23:21:40.111857Z",
     "iopub.status.busy": "2020-11-27T23:21:40.111428Z",
     "iopub.status.idle": "2020-11-27T23:21:40.130995Z",
     "shell.execute_reply": "2020-11-27T23:21:40.130269Z",
     "shell.execute_reply.started": "2020-11-27T23:21:40.111802Z"
    }
   },
   "outputs": [],
   "source": [
    "from ecephys.graham.channel_coords import CheckPat_x, CheckPat_y\n",
    "(hpc_x, hpc_y) = (CheckPat_x[hpc_chans], CheckPat_y[hpc_chans])"
   ]
  },
  {
   "cell_type": "code",
   "execution_count": null,
   "metadata": {},
   "outputs": [],
   "source": [
    "from ecephys.plot import plot_channel_coords\n",
    "plot_channel_coords(hpc_chans, hpc_x, hpc_y)"
   ]
  },
  {
   "cell_type": "code",
   "execution_count": 249,
   "metadata": {
    "execution": {
     "iopub.execute_input": "2020-11-27T23:24:19.341455Z",
     "iopub.status.busy": "2020-11-27T23:24:19.341020Z",
     "iopub.status.idle": "2020-11-27T23:24:19.359214Z",
     "shell.execute_reply": "2020-11-27T23:24:19.358282Z",
     "shell.execute_reply.started": "2020-11-27T23:24:19.341400Z"
    }
   },
   "outputs": [],
   "source": [
    "hpc_ele_pos = np.vstack([hpc_x, hpc_y]).T\n",
    "hpc_pots = hpc_sig.T"
   ]
  },
  {
   "cell_type": "code",
   "execution_count": 393,
   "metadata": {
    "execution": {
     "iopub.execute_input": "2020-11-28T00:08:39.091863Z",
     "iopub.status.busy": "2020-11-28T00:08:39.091436Z",
     "iopub.status.idle": "2020-11-28T00:08:40.420821Z",
     "shell.execute_reply": "2020-11-28T00:08:40.420229Z",
     "shell.execute_reply.started": "2020-11-28T00:08:39.091808Z"
    }
   },
   "outputs": [
    {
     "name": "stdout",
     "output_type": "stream",
     "text": [
      "No lambda given, using defaults\n",
      "min lambda 1e-06\n",
      "max lambda 0.0001\n",
      "min lambda 1e-06\n",
      "max lambda 0.0001\n",
      "l-curve (all lambda):  0.23\n",
      "Best lambda and R =  8.857135378437576e-07 ,  0.23\n"
     ]
    }
   ],
   "source": [
    "from kcsd import KCSD2D\n",
    "\n",
    "vertical_site_spacing = 20\n",
    "horizontal_site_spacing = 16\n",
    "k = KCSD2D(hpc_ele_pos, hpc_pots, gdx=horizontal_site_spacing, gdy=vertical_site_spacing)\n",
    "est_csd_hpc_2D = k.values('CSD')\n",
    "k.L_curve()\n",
    "est_csd_hpc_2D_val = k.values('CSD')\n"
   ]
  },
  {
   "cell_type": "code",
   "execution_count": 394,
   "metadata": {
    "execution": {
     "iopub.execute_input": "2020-11-28T00:08:41.847040Z",
     "iopub.status.busy": "2020-11-28T00:08:41.846765Z",
     "iopub.status.idle": "2020-11-28T00:08:41.895880Z",
     "shell.execute_reply": "2020-11-28T00:08:41.895302Z",
     "shell.execute_reply.started": "2020-11-28T00:08:41.847004Z"
    }
   },
   "outputs": [
    {
     "data": {
      "application/vnd.jupyter.widget-view+json": {
       "model_id": "b42af7c1bf874d979be396d8c6f7ebeb",
       "version_major": 2,
       "version_minor": 0
      },
      "text/plain": [
       "Canvas(toolbar=Toolbar(toolitems=[('Home', 'Reset original view', 'home', 'home'), ('Back', 'Back to previous …"
      ]
     },
     "metadata": {},
     "output_type": "display_data"
    }
   ],
   "source": [
    "ax = make_2D_plot(k.estm_x, k.estm_y, est_csd_hpc_2D_val[:, :, (np.abs(times - 645.4621)).argmin()])"
   ]
  },
  {
   "cell_type": "code",
   "execution_count": 395,
   "metadata": {
    "execution": {
     "iopub.execute_input": "2020-11-28T00:08:46.036590Z",
     "iopub.status.busy": "2020-11-28T00:08:46.036145Z",
     "iopub.status.idle": "2020-11-28T00:08:46.055957Z",
     "shell.execute_reply": "2020-11-28T00:08:46.055382Z",
     "shell.execute_reply.started": "2020-11-28T00:08:46.036535Z"
    }
   },
   "outputs": [],
   "source": [
    "est_csd_flat = np.sum(est_csd_hpc_2D_val, axis=0)"
   ]
  },
  {
   "cell_type": "code",
   "execution_count": 413,
   "metadata": {
    "execution": {
     "iopub.execute_input": "2020-11-30T16:16:12.025984Z",
     "iopub.status.busy": "2020-11-30T16:16:12.025524Z",
     "iopub.status.idle": "2020-11-30T16:16:12.069197Z",
     "shell.execute_reply": "2020-11-30T16:16:12.067918Z",
     "shell.execute_reply.started": "2020-11-30T16:16:12.025928Z"
    }
   },
   "outputs": [
    {
     "data": {
      "application/vnd.jupyter.widget-view+json": {
       "model_id": "f699893f698a40cbb02f6dd3910b558b",
       "version_major": 2,
       "version_minor": 0
      },
      "text/plain": [
       "Canvas(toolbar=Toolbar(toolitems=[('Home', 'Reset original view', 'home', 'home'), ('Back', 'Back to previous …"
      ]
     },
     "metadata": {},
     "output_type": "display_data"
    },
    {
     "ename": "AttributeError",
     "evalue": "'KCSD1D' object has no attribute 'estm_y'",
     "output_type": "error",
     "traceback": [
      "\u001b[0;31m---------------------------------------------------------------------------\u001b[0m",
      "\u001b[0;31mAttributeError\u001b[0m                            Traceback (most recent call last)",
      "\u001b[0;32m<ipython-input-413-d7c0a79c1fdb>\u001b[0m in \u001b[0;36m<module>\u001b[0;34m()\u001b[0m\n\u001b[1;32m      1\u001b[0m \u001b[0m_\u001b[0m\u001b[0;34m,\u001b[0m \u001b[0max\u001b[0m \u001b[0;34m=\u001b[0m \u001b[0mplt\u001b[0m\u001b[0;34m.\u001b[0m\u001b[0msubplots\u001b[0m\u001b[0;34m(\u001b[0m\u001b[0mfigsize\u001b[0m\u001b[0;34m=\u001b[0m\u001b[0;34m(\u001b[0m\u001b[0;36m20\u001b[0m\u001b[0;34m,\u001b[0m \u001b[0;36m10\u001b[0m\u001b[0;34m)\u001b[0m\u001b[0;34m)\u001b[0m\u001b[0;34m\u001b[0m\u001b[0;34m\u001b[0m\u001b[0m\n\u001b[0;32m----> 2\u001b[0;31m \u001b[0max\u001b[0m\u001b[0;34m.\u001b[0m\u001b[0mpcolormesh\u001b[0m\u001b[0;34m(\u001b[0m\u001b[0mtimes\u001b[0m\u001b[0;34m,\u001b[0m \u001b[0mk\u001b[0m\u001b[0;34m.\u001b[0m\u001b[0mestm_y\u001b[0m\u001b[0;34m[\u001b[0m\u001b[0;36m0\u001b[0m\u001b[0;34m]\u001b[0m\u001b[0;34m,\u001b[0m \u001b[0mest_csd_flat\u001b[0m\u001b[0;34m,\u001b[0m \u001b[0mshading\u001b[0m\u001b[0;34m=\u001b[0m\u001b[0;34m\"gouraud\"\u001b[0m\u001b[0;34m)\u001b[0m\u001b[0;34m\u001b[0m\u001b[0;34m\u001b[0m\u001b[0m\n\u001b[0m\u001b[1;32m      3\u001b[0m \u001b[0max\u001b[0m\u001b[0;34m.\u001b[0m\u001b[0mset_xlabel\u001b[0m\u001b[0;34m(\u001b[0m\u001b[0;34m\"Time [sec]\"\u001b[0m\u001b[0;34m)\u001b[0m\u001b[0;34m\u001b[0m\u001b[0;34m\u001b[0m\u001b[0m\n\u001b[1;32m      4\u001b[0m \u001b[0max\u001b[0m\u001b[0;34m.\u001b[0m\u001b[0mset_ylabel\u001b[0m\u001b[0;34m(\u001b[0m\u001b[0;34m\"Depth (mm)\"\u001b[0m\u001b[0;34m)\u001b[0m\u001b[0;34m\u001b[0m\u001b[0;34m\u001b[0m\u001b[0m\n",
      "\u001b[0;31mAttributeError\u001b[0m: 'KCSD1D' object has no attribute 'estm_y'"
     ]
    }
   ],
   "source": [
    "_, ax = plt.subplots(figsize=(20, 10))\n",
    "ax.pcolormesh(times, k.estm_y[0], est_csd_flat, shading=\"gouraud\")\n",
    "ax.set_xlabel(\"Time [sec]\")\n",
    "ax.set_ylabel(\"Depth (mm)\")"
   ]
  },
  {
   "cell_type": "code",
   "execution_count": null,
   "metadata": {},
   "outputs": [],
   "source": []
  }
 ],
 "metadata": {
  "kernelspec": {
   "display_name": "Python 3",
   "language": "python",
   "name": "python3"
  },
  "language_info": {
   "codemirror_mode": {
    "name": "ipython",
    "version": 3
   },
   "file_extension": ".py",
   "mimetype": "text/x-python",
   "name": "python",
   "nbconvert_exporter": "python",
   "pygments_lexer": "ipython3",
   "version": "3.7.9"
  }
 },
 "nbformat": 4,
 "nbformat_minor": 4
}
