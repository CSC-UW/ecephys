{
 "cells": [
  {
   "cell_type": "code",
   "execution_count": 1,
   "metadata": {
    "execution": {
     "iopub.execute_input": "2020-11-25T22:53:26.601971Z",
     "iopub.status.busy": "2020-11-25T22:53:26.601511Z",
     "iopub.status.idle": "2020-11-25T22:53:26.614140Z",
     "shell.execute_reply": "2020-11-25T22:53:26.613799Z",
     "shell.execute_reply.started": "2020-11-25T22:53:26.601916Z"
    }
   },
   "outputs": [],
   "source": [
    "%load_ext autoreload\n",
    "%autoreload 2"
   ]
  },
  {
   "cell_type": "code",
   "execution_count": 61,
   "metadata": {
    "execution": {
     "iopub.execute_input": "2020-11-25T23:28:03.641726Z",
     "iopub.status.busy": "2020-11-25T23:28:03.641256Z",
     "iopub.status.idle": "2020-11-25T23:28:03.663099Z",
     "shell.execute_reply": "2020-11-25T23:28:03.662278Z",
     "shell.execute_reply.started": "2020-11-25T23:28:03.641669Z"
    }
   },
   "outputs": [],
   "source": [
    "%matplotlib widget\n",
    "import matplotlib.pyplot as plt"
   ]
  },
  {
   "cell_type": "code",
   "execution_count": 62,
   "metadata": {
    "execution": {
     "iopub.execute_input": "2020-11-25T23:28:04.141047Z",
     "iopub.status.busy": "2020-11-25T23:28:04.140621Z",
     "iopub.status.idle": "2020-11-25T23:28:04.158843Z",
     "shell.execute_reply": "2020-11-25T23:28:04.158061Z",
     "shell.execute_reply.started": "2020-11-25T23:28:04.140993Z"
    }
   },
   "outputs": [],
   "source": [
    "from pathlib import Path\n",
    "import numpy as np\n",
    "import pandas as pd"
   ]
  },
  {
   "cell_type": "code",
   "execution_count": 3,
   "metadata": {
    "execution": {
     "iopub.execute_input": "2020-11-25T22:53:27.823028Z",
     "iopub.status.busy": "2020-11-25T22:53:27.822589Z",
     "iopub.status.idle": "2020-11-25T22:53:28.012560Z",
     "shell.execute_reply": "2020-11-25T22:53:28.012085Z",
     "shell.execute_reply.started": "2020-11-25T22:53:27.822971Z"
    }
   },
   "outputs": [],
   "source": [
    "from ecephys.sglx_utils import load_timeseries\n",
    "from ecephys.graham import channel_groups, paths"
   ]
  },
  {
   "cell_type": "code",
   "execution_count": 112,
   "metadata": {
    "execution": {
     "iopub.execute_input": "2020-11-25T23:44:15.120328Z",
     "iopub.status.busy": "2020-11-25T23:44:15.119897Z",
     "iopub.status.idle": "2020-11-25T23:44:15.203982Z",
     "shell.execute_reply": "2020-11-25T23:44:15.203339Z",
     "shell.execute_reply.started": "2020-11-25T23:44:15.120272Z"
    }
   },
   "outputs": [
    {
     "name": "stdout",
     "output_type": "stream",
     "text": [
      "nChan: 385, nFileSamp: 18000019\n"
     ]
    }
   ],
   "source": [
    "condition = \"SR\"\n",
    "subject = \"Doppio\"\n",
    "\n",
    "# chans = channel_groups.CA1[subject]\n",
    "# chans = chans[0:11:2]\n",
    "chans = channel_groups.full[subject]\n",
    "bin_path = Path(paths.lfp_bin[condition][subject])\n",
    "(times, sig, fs) = load_timeseries(bin_path, chans, start_time=(645), end_time=(645 + 1.0))"
   ]
  },
  {
   "cell_type": "code",
   "execution_count": 113,
   "metadata": {
    "execution": {
     "iopub.execute_input": "2020-11-25T23:44:15.569987Z",
     "iopub.status.busy": "2020-11-25T23:44:15.569653Z",
     "iopub.status.idle": "2020-11-25T23:44:15.586849Z",
     "shell.execute_reply": "2020-11-25T23:44:15.586120Z",
     "shell.execute_reply.started": "2020-11-25T23:44:15.569944Z"
    }
   },
   "outputs": [],
   "source": [
    "# from ecephys.signal.ripples import apply_ripple_filter\n",
    "# sig_filt = apply_ripple_filter(sig, fs)"
   ]
  },
  {
   "cell_type": "code",
   "execution_count": 167,
   "metadata": {
    "execution": {
     "iopub.execute_input": "2020-11-26T00:04:27.752325Z",
     "iopub.status.busy": "2020-11-26T00:04:27.752194Z",
     "iopub.status.idle": "2020-11-26T00:04:27.774173Z",
     "shell.execute_reply": "2020-11-26T00:04:27.772918Z",
     "shell.execute_reply.started": "2020-11-26T00:04:27.752310Z"
    }
   },
   "outputs": [],
   "source": [
    "from kcsd import KCSD1D\n",
    "\n",
    "n_chans = len(chans)\n",
    "intersite_distance = 0.020\n",
    "ele_pos = np.linspace(0., (n_chans - 1) * intersite_distance, n_chans).reshape(n_chans, 1)\n",
    "pots = sig.T"
   ]
  },
  {
   "cell_type": "code",
   "execution_count": 172,
   "metadata": {
    "execution": {
     "iopub.execute_input": "2020-11-26T00:04:54.770059Z",
     "iopub.status.busy": "2020-11-26T00:04:54.769628Z",
     "iopub.status.idle": "2020-11-26T00:04:54.928931Z",
     "shell.execute_reply": "2020-11-26T00:04:54.928279Z",
     "shell.execute_reply.started": "2020-11-26T00:04:54.770002Z"
    }
   },
   "outputs": [
    {
     "data": {
      "text/plain": [
       "(384, 2501)"
      ]
     },
     "execution_count": 172,
     "metadata": {},
     "output_type": "execute_result"
    }
   ],
   "source": [
    "k = KCSD1D(ele_pos, pots, gdx=0.02)\n",
    "est_csd = k.values('CSD')\n",
    "est_csd.shape"
   ]
  },
  {
   "cell_type": "code",
   "execution_count": 124,
   "metadata": {
    "execution": {
     "iopub.execute_input": "2020-11-25T23:52:09.524310Z",
     "iopub.status.busy": "2020-11-25T23:52:09.524167Z",
     "iopub.status.idle": "2020-11-25T23:52:09.630185Z",
     "shell.execute_reply": "2020-11-25T23:52:09.629670Z",
     "shell.execute_reply.started": "2020-11-25T23:52:09.524295Z"
    }
   },
   "outputs": [
    {
     "data": {
      "application/vnd.jupyter.widget-view+json": {
       "model_id": "5398335bf0154e08847b7a79c4a2c105",
       "version_major": 2,
       "version_minor": 0
      },
      "text/plain": [
       "Canvas(toolbar=Toolbar(toolitems=[('Home', 'Reset original view', 'home', 'home'), ('Back', 'Back to previous …"
      ]
     },
     "metadata": {},
     "output_type": "display_data"
    },
    {
     "data": {
      "text/plain": [
       "<matplotlib.lines.Line2D at 0x7fd9e7b3e1d0>"
      ]
     },
     "execution_count": 124,
     "metadata": {},
     "output_type": "execute_result"
    }
   ],
   "source": [
    "import matplotlib.cm as cm\n",
    "\n",
    "_, ax = plt.subplots(figsize=(20, 10))\n",
    "ax.pcolormesh(times, k.estm_x, est_csd, shading=\"gouraud\")\n",
    "ax.set_xlabel(\"Time [sec]\")\n",
    "ax.set_ylabel(\"Depth (mm)\")\n",
    "ax.axhline(5.8, alpha=0.5, color='k', linestyle=\"--\")\n",
    "ax.axhline(3.8, alpha=0.5, color='k', linestyle=\"--\")"
   ]
  },
  {
   "cell_type": "code",
   "execution_count": 15,
   "metadata": {
    "execution": {
     "iopub.execute_input": "2020-11-25T23:01:06.959079Z",
     "iopub.status.busy": "2020-11-25T23:01:06.958591Z",
     "iopub.status.idle": "2020-11-25T23:01:06.978238Z",
     "shell.execute_reply": "2020-11-25T23:01:06.977609Z",
     "shell.execute_reply.started": "2020-11-25T23:01:06.959020Z"
    }
   },
   "outputs": [
    {
     "data": {
      "text/plain": [
       "array([380, 383,   1,   2,   5,   6,   9,  10,  13,  14,  17,  18,  21,\n",
       "        22,  25,  26,  29,  30,  33,  34,  37,  38,  41,  42,  45,  46,\n",
       "        49,  50,  53,  54,  57,  58,  61,  62,  65,  66,  69,  70,  73,\n",
       "        74,  77,  78,  81,  82,  85,  86,  89,  90,  93,  94,  97,  98,\n",
       "       101, 102, 105, 106, 109, 110, 113, 114, 117, 118, 121, 122, 125,\n",
       "       126, 129, 130, 133, 134, 137, 138, 141, 142, 145, 146, 149, 150,\n",
       "       153, 154, 157, 158, 161, 162, 165, 166, 169, 170, 173, 174, 177,\n",
       "       178, 181, 182, 185, 186, 189, 190, 193, 194, 197])"
      ]
     },
     "execution_count": 15,
     "metadata": {},
     "output_type": "execute_result"
    }
   ],
   "source": [
    "chans[np.logical_and(ele_pos >= 3.8, ele_pos <= 5.8).flatten()]"
   ]
  },
  {
   "cell_type": "code",
   "execution_count": 16,
   "metadata": {
    "execution": {
     "iopub.execute_input": "2020-11-25T23:01:15.478214Z",
     "iopub.status.busy": "2020-11-25T23:01:15.477787Z",
     "iopub.status.idle": "2020-11-25T23:01:15.496182Z",
     "shell.execute_reply": "2020-11-25T23:01:15.495601Z",
     "shell.execute_reply.started": "2020-11-25T23:01:15.478160Z"
    }
   },
   "outputs": [
    {
     "data": {
      "text/plain": [
       "(array([190, 191, 192, 193, 194, 195, 196, 197, 198, 199, 200, 201, 202,\n",
       "        203, 204, 205, 206, 207, 208, 209, 210, 211, 212, 213, 214, 215,\n",
       "        216, 217, 218, 219, 220, 221, 222, 223, 224, 225, 226, 227, 228,\n",
       "        229, 230, 231, 232, 233, 234, 235, 236, 237, 238, 239, 240, 241,\n",
       "        242, 243, 244, 245, 246, 247, 248, 249, 250, 251, 252, 253, 254,\n",
       "        255, 256, 257, 258, 259, 260, 261, 262, 263, 264, 265, 266, 267,\n",
       "        268, 269, 270, 271, 272, 273, 274, 275, 276, 277, 278, 279, 280,\n",
       "        281, 282, 283, 284, 285, 286, 287, 288, 289, 290]),)"
      ]
     },
     "execution_count": 16,
     "metadata": {},
     "output_type": "execute_result"
    }
   ],
   "source": [
    "np.where(np.logical_and(ele_pos >= 3.8, ele_pos <= 5.8).flatten())"
   ]
  },
  {
   "cell_type": "code",
   "execution_count": 17,
   "metadata": {
    "execution": {
     "iopub.execute_input": "2020-11-25T23:01:28.390516Z",
     "iopub.status.busy": "2020-11-25T23:01:28.390085Z",
     "iopub.status.idle": "2020-11-25T23:01:28.408065Z",
     "shell.execute_reply": "2020-11-25T23:01:28.407494Z",
     "shell.execute_reply.started": "2020-11-25T23:01:28.390461Z"
    }
   },
   "outputs": [
    {
     "data": {
      "text/plain": [
       "array([380, 383,   1,   2,   5,   6,   9,  10,  13,  14,  17,  18,  21,\n",
       "        22,  25,  26,  29,  30,  33,  34,  37,  38,  41,  42,  45,  46,\n",
       "        49,  50,  53,  54,  57,  58,  61,  62,  65,  66,  69,  70,  73,\n",
       "        74,  77,  78,  81,  82,  85,  86,  89,  90,  93,  94,  97,  98,\n",
       "       101, 102, 105, 106, 109, 110, 113, 114, 117, 118, 121, 122, 125,\n",
       "       126, 129, 130, 133, 134, 137, 138, 141, 142, 145, 146, 149, 150,\n",
       "       153, 154, 157, 158, 161, 162, 165, 166, 169, 170, 173, 174, 177,\n",
       "       178, 181, 182, 185, 186, 189, 190, 193, 194, 197])"
      ]
     },
     "execution_count": 17,
     "metadata": {},
     "output_type": "execute_result"
    }
   ],
   "source": [
    "chans[190:291]"
   ]
  },
  {
   "cell_type": "code",
   "execution_count": null,
   "metadata": {},
   "outputs": [],
   "source": [
    "k.cross_validate(Rs=np.linspace(0.01, 0.15, 15))\n",
    "est_csd_val = k.values('CSD')"
   ]
  },
  {
   "cell_type": "code",
   "execution_count": null,
   "metadata": {
    "execution": {
     "iopub.status.busy": "2020-11-25T22:53:22.383118Z",
     "iopub.status.idle": "2020-11-25T22:53:22.383316Z",
     "shell.execute_reply": "2020-11-25T22:53:22.383230Z"
    }
   },
   "outputs": [],
   "source": [
    "_, ax = plt.subplots(figsize=(30, 15))\n",
    "ax.pcolormesh(times, k.estm_x, est_csd_val, shading=\"gouraud\")\n",
    "ax.set_xlabel(\"Time [sec]\")\n",
    "ax.set_ylabel(\"Depth (mm)\")"
   ]
  },
  {
   "cell_type": "code",
   "execution_count": 135,
   "metadata": {
    "execution": {
     "iopub.execute_input": "2020-11-25T23:54:17.403010Z",
     "iopub.status.busy": "2020-11-25T23:54:17.402530Z",
     "iopub.status.idle": "2020-11-25T23:54:17.422563Z",
     "shell.execute_reply": "2020-11-25T23:54:17.421811Z",
     "shell.execute_reply.started": "2020-11-25T23:54:17.402931Z"
    }
   },
   "outputs": [],
   "source": [
    "_chans = chans[190:291]\n",
    "_sig = sig[:, 190:291]"
   ]
  },
  {
   "cell_type": "code",
   "execution_count": 136,
   "metadata": {
    "execution": {
     "iopub.execute_input": "2020-11-25T23:54:17.830909Z",
     "iopub.status.busy": "2020-11-25T23:54:17.830478Z",
     "iopub.status.idle": "2020-11-25T23:54:17.849332Z",
     "shell.execute_reply": "2020-11-25T23:54:17.848422Z",
     "shell.execute_reply.started": "2020-11-25T23:54:17.830855Z"
    }
   },
   "outputs": [],
   "source": [
    "from kcsd import KCSD1D\n",
    "\n",
    "n_chans = len(_chans)\n",
    "intersite_distance = 0.020\n",
    "ele_pos = np.linspace(0., (n_chans - 1) * intersite_distance, n_chans).reshape(n_chans, 1)\n",
    "pots = _sig.T"
   ]
  },
  {
   "cell_type": "code",
   "execution_count": 139,
   "metadata": {
    "execution": {
     "iopub.execute_input": "2020-11-25T23:54:34.892617Z",
     "iopub.status.busy": "2020-11-25T23:54:34.892189Z",
     "iopub.status.idle": "2020-11-25T23:54:35.010734Z",
     "shell.execute_reply": "2020-11-25T23:54:35.009874Z",
     "shell.execute_reply.started": "2020-11-25T23:54:34.892560Z"
    }
   },
   "outputs": [],
   "source": [
    "k = KCSD1D(ele_pos, pots, gdx=0.01)\n",
    "est_csd = k.values('CSD')"
   ]
  },
  {
   "cell_type": "code",
   "execution_count": 140,
   "metadata": {
    "execution": {
     "iopub.execute_input": "2020-11-25T23:54:35.160261Z",
     "iopub.status.busy": "2020-11-25T23:54:35.160003Z",
     "iopub.status.idle": "2020-11-25T23:54:35.236785Z",
     "shell.execute_reply": "2020-11-25T23:54:35.236025Z",
     "shell.execute_reply.started": "2020-11-25T23:54:35.160228Z"
    }
   },
   "outputs": [
    {
     "data": {
      "application/vnd.jupyter.widget-view+json": {
       "model_id": "acaa1d21671b49ceb8f764002dbb0a6d",
       "version_major": 2,
       "version_minor": 0
      },
      "text/plain": [
       "Canvas(toolbar=Toolbar(toolitems=[('Home', 'Reset original view', 'home', 'home'), ('Back', 'Back to previous …"
      ]
     },
     "metadata": {},
     "output_type": "display_data"
    },
    {
     "data": {
      "text/plain": [
       "Text(0, 0.5, 'Depth (mm)')"
      ]
     },
     "execution_count": 140,
     "metadata": {},
     "output_type": "execute_result"
    }
   ],
   "source": [
    "import matplotlib.cm as cm\n",
    "\n",
    "_, ax = plt.subplots(figsize=(20, 10))\n",
    "ax.pcolormesh(times, k.estm_x, est_csd, shading=\"gouraud\")\n",
    "ax.set_xlabel(\"Time [sec]\")\n",
    "ax.set_ylabel(\"Depth (mm)\")\n",
    "#ax.axhline(5.8, alpha=0.5, color='k', linestyle=\"--\")\n",
    "#ax.axhline(3.8, alpha=0.5, color='k', linestyle=\"--\")"
   ]
  },
  {
   "cell_type": "code",
   "execution_count": 141,
   "metadata": {
    "execution": {
     "iopub.execute_input": "2020-11-25T23:54:40.358083Z",
     "iopub.status.busy": "2020-11-25T23:54:40.357574Z",
     "iopub.status.idle": "2020-11-25T23:54:40.504232Z",
     "shell.execute_reply": "2020-11-25T23:54:40.503707Z",
     "shell.execute_reply.started": "2020-11-25T23:54:40.357999Z"
    }
   },
   "outputs": [
    {
     "data": {
      "application/vnd.jupyter.widget-view+json": {
       "model_id": "85c8368032074c95a95e10ecdbc72495",
       "version_major": 2,
       "version_minor": 0
      },
      "text/plain": [
       "Canvas(toolbar=Toolbar(toolitems=[('Home', 'Reset original view', 'home', 'home'), ('Back', 'Back to previous …"
      ]
     },
     "metadata": {},
     "output_type": "display_data"
    },
    {
     "data": {
      "application/vnd.jupyter.widget-view+json": {
       "model_id": "45f637b38c09407ea9da3721fd219550",
       "version_major": 2,
       "version_minor": 0
      },
      "text/plain": [
       "HBox(children=(FloatSlider(value=1.0, description='Secs', max=4.0, min=0.25, step=0.25), BoundedFloatText(valu…"
      ]
     },
     "metadata": {},
     "output_type": "display_data"
    },
    {
     "data": {
      "application/vnd.jupyter.widget-view+json": {
       "model_id": "06b1a3d5fc4b4af79319e5c0f3c6e610",
       "version_major": 2,
       "version_minor": 0
      },
      "text/plain": [
       "Output()"
      ]
     },
     "metadata": {},
     "output_type": "display_data"
    }
   ],
   "source": [
    "from ecephys.plot import plot_timeseries_interactive\n",
    "plot_timeseries_interactive(times, est_csd.T)"
   ]
  },
  {
   "cell_type": "code",
   "execution_count": 142,
   "metadata": {
    "execution": {
     "iopub.execute_input": "2020-11-25T23:55:13.998766Z",
     "iopub.status.busy": "2020-11-25T23:55:13.998335Z",
     "iopub.status.idle": "2020-11-25T23:55:14.019883Z",
     "shell.execute_reply": "2020-11-25T23:55:14.018931Z",
     "shell.execute_reply.started": "2020-11-25T23:55:13.998710Z"
    }
   },
   "outputs": [],
   "source": [
    "# From AllenSDK\n",
    "def compute_csd(trial_mean_lfp, spacing):\n",
    "    '''Compute current source density for real or virtual channels from\n",
    "    a neuropixels probe.\n",
    "    Compute a second spatial derivative along the probe length\n",
    "    as a 1D approximation of the Laplacian, after Pitts (1952).\n",
    "    Parameters\n",
    "    ----------\n",
    "    trial_mean_lfp: numpy.ndarray\n",
    "        LFP traces surrounding presentation of a common stimulus that\n",
    "        have been averaged over trials. Dimensions are channels X time samples.\n",
    "    spacing : float\n",
    "        Distance between channels, in millimeters. This spacing may be\n",
    "        physical distances between channels or a virtual distance if channels\n",
    "        have been interpolated to new virtual positions.\n",
    "    Returns\n",
    "    -------\n",
    "    Tuple[csd, csd_channels]:\n",
    "        csd : numpy.ndarray\n",
    "            Current source density. Dimensions are channels X time samples.\n",
    "        csd_channels: numpy.ndarray\n",
    "            Array of channel indices for CSD.\n",
    "    '''\n",
    "\n",
    "    # Need to pad lfp channels for Laplacian approx.\n",
    "    padded_lfp = np.pad(trial_mean_lfp,\n",
    "                        pad_width=((1, 1), (0, 0)),\n",
    "                        mode='edge')\n",
    "\n",
    "    csd = (1 / (spacing ** 2)) * (padded_lfp[2:, :]\n",
    "                                  - (2 * padded_lfp[1:-1, :])\n",
    "                                  + padded_lfp[:-2, :])\n",
    "    \n",
    "    csd_channels = np.arange(0, trial_mean_lfp.shape[0])\n",
    "    \n",
    "    return (csd, csd_channels)"
   ]
  },
  {
   "cell_type": "code",
   "execution_count": 164,
   "metadata": {
    "execution": {
     "iopub.execute_input": "2020-11-25T23:59:26.084887Z",
     "iopub.status.busy": "2020-11-25T23:59:26.084455Z",
     "iopub.status.idle": "2020-11-25T23:59:26.104314Z",
     "shell.execute_reply": "2020-11-25T23:59:26.103559Z",
     "shell.execute_reply.started": "2020-11-25T23:59:26.084831Z"
    }
   },
   "outputs": [],
   "source": [
    "est_csd_aibs, csd_channels_aibs = compute_csd(pots[1::4], intersite_distance * 4)"
   ]
  },
  {
   "cell_type": "code",
   "execution_count": 165,
   "metadata": {
    "execution": {
     "iopub.execute_input": "2020-11-25T23:59:26.431533Z",
     "iopub.status.busy": "2020-11-25T23:59:26.431219Z",
     "iopub.status.idle": "2020-11-25T23:59:26.478434Z",
     "shell.execute_reply": "2020-11-25T23:59:26.477872Z",
     "shell.execute_reply.started": "2020-11-25T23:59:26.431492Z"
    }
   },
   "outputs": [
    {
     "data": {
      "application/vnd.jupyter.widget-view+json": {
       "model_id": "325a417bd4994d10a1d5bb101b03f2c3",
       "version_major": 2,
       "version_minor": 0
      },
      "text/plain": [
       "Canvas(toolbar=Toolbar(toolitems=[('Home', 'Reset original view', 'home', 'home'), ('Back', 'Back to previous …"
      ]
     },
     "metadata": {},
     "output_type": "display_data"
    },
    {
     "data": {
      "text/plain": [
       "Text(0, 0.5, 'Depth (mm)')"
      ]
     },
     "execution_count": 165,
     "metadata": {},
     "output_type": "execute_result"
    }
   ],
   "source": [
    "_, ax = plt.subplots(figsize=(20, 10))\n",
    "ax.pcolormesh(times, csd_channels_aibs, est_csd_aibs, shading=\"gouraud\")\n",
    "ax.set_xlabel(\"Time [sec]\")\n",
    "ax.set_ylabel(\"Depth (mm)\")"
   ]
  },
  {
   "cell_type": "code",
   "execution_count": null,
   "metadata": {},
   "outputs": [],
   "source": []
  }
 ],
 "metadata": {
  "kernelspec": {
   "display_name": "Python 3",
   "language": "python",
   "name": "python3"
  },
  "language_info": {
   "codemirror_mode": {
    "name": "ipython",
    "version": 3
   },
   "file_extension": ".py",
   "mimetype": "text/x-python",
   "name": "python",
   "nbconvert_exporter": "python",
   "pygments_lexer": "ipython3",
   "version": "3.7.9"
  }
 },
 "nbformat": 4,
 "nbformat_minor": 4
}
