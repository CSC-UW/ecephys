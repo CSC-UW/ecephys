{
 "cells": [
  {
   "cell_type": "code",
   "execution_count": 1,
   "metadata": {
    "execution": {
     "iopub.execute_input": "2020-11-24T23:58:41.409690Z",
     "iopub.status.busy": "2020-11-24T23:58:41.409537Z",
     "iopub.status.idle": "2020-11-24T23:58:41.418039Z",
     "shell.execute_reply": "2020-11-24T23:58:41.417616Z",
     "shell.execute_reply.started": "2020-11-24T23:58:41.409672Z"
    }
   },
   "outputs": [],
   "source": [
    "%load_ext autoreload\n",
    "%autoreload 2"
   ]
  },
  {
   "cell_type": "code",
   "execution_count": 2,
   "metadata": {
    "execution": {
     "iopub.execute_input": "2020-11-24T23:58:41.427954Z",
     "iopub.status.busy": "2020-11-24T23:58:41.427823Z",
     "iopub.status.idle": "2020-11-24T23:58:41.568195Z",
     "shell.execute_reply": "2020-11-24T23:58:41.567749Z",
     "shell.execute_reply.started": "2020-11-24T23:58:41.427938Z"
    }
   },
   "outputs": [],
   "source": [
    "%matplotlib widget\n",
    "import matplotlib.pyplot as plt\n",
    "from ipywidgets import (\n",
    "    BoundedFloatText,\n",
    "    Checkbox,\n",
    "    FloatSlider,\n",
    "    HBox,\n",
    "    IntSlider,\n",
    "    fixed,\n",
    "    interact,\n",
    "    interactive_output,\n",
    "    jslink,\n",
    ")"
   ]
  },
  {
   "cell_type": "code",
   "execution_count": 3,
   "metadata": {
    "execution": {
     "iopub.execute_input": "2020-11-24T23:58:41.832142Z",
     "iopub.status.busy": "2020-11-24T23:58:41.831945Z",
     "iopub.status.idle": "2020-11-24T23:58:41.844610Z",
     "shell.execute_reply": "2020-11-24T23:58:41.844013Z",
     "shell.execute_reply.started": "2020-11-24T23:58:41.832118Z"
    }
   },
   "outputs": [],
   "source": [
    "from pathlib import Path\n",
    "import numpy as np\n",
    "import pandas as pd"
   ]
  },
  {
   "cell_type": "code",
   "execution_count": 4,
   "metadata": {
    "execution": {
     "iopub.execute_input": "2020-11-24T23:58:42.249901Z",
     "iopub.status.busy": "2020-11-24T23:58:42.249574Z",
     "iopub.status.idle": "2020-11-24T23:58:42.442718Z",
     "shell.execute_reply": "2020-11-24T23:58:42.442034Z",
     "shell.execute_reply.started": "2020-11-24T23:58:42.249847Z"
    }
   },
   "outputs": [],
   "source": [
    "from ecephys.graham import paths, channel_groups\n",
    "from ecephys.sglx_utils import load_timeseries\n",
    "from ecephys.scoring import load_visbrain_hypnogram\n",
    "from ecephys.plot import plot_timeseries_interactive"
   ]
  },
  {
   "cell_type": "code",
   "execution_count": 5,
   "metadata": {
    "execution": {
     "iopub.execute_input": "2020-11-24T23:58:42.967862Z",
     "iopub.status.busy": "2020-11-24T23:58:42.967610Z",
     "iopub.status.idle": "2020-11-24T23:58:42.985494Z",
     "shell.execute_reply": "2020-11-24T23:58:42.984750Z",
     "shell.execute_reply.started": "2020-11-24T23:58:42.967830Z"
    }
   },
   "outputs": [],
   "source": [
    "condition = \"SR\"\n",
    "subject = \"Doppio\""
   ]
  },
  {
   "cell_type": "markdown",
   "metadata": {},
   "source": [
    "## Load the data"
   ]
  },
  {
   "cell_type": "code",
   "execution_count": 6,
   "metadata": {
    "execution": {
     "iopub.execute_input": "2020-11-24T23:58:44.489017Z",
     "iopub.status.busy": "2020-11-24T23:58:44.488553Z",
     "iopub.status.idle": "2020-11-24T23:58:44.506706Z",
     "shell.execute_reply": "2020-11-24T23:58:44.506129Z",
     "shell.execute_reply.started": "2020-11-24T23:58:44.488959Z"
    }
   },
   "outputs": [],
   "source": [
    "chans = channel_groups.stratum_radiatum_csd[subject]"
   ]
  },
  {
   "cell_type": "code",
   "execution_count": 7,
   "metadata": {
    "execution": {
     "iopub.execute_input": "2020-11-24T23:58:45.146513Z",
     "iopub.status.busy": "2020-11-24T23:58:45.146178Z",
     "iopub.status.idle": "2020-11-25T00:01:05.266125Z",
     "shell.execute_reply": "2020-11-25T00:01:05.265182Z",
     "shell.execute_reply.started": "2020-11-24T23:58:45.146470Z"
    }
   },
   "outputs": [
    {
     "name": "stdout",
     "output_type": "stream",
     "text": [
      "nChan: 385, nFileSamp: 18000019\n"
     ]
    }
   ],
   "source": [
    "bin_path = Path(paths.lfp_bin[condition][subject])\n",
    "(time, lfps, fs) = load_timeseries(bin_path, chans, start_time=None, end_time=None)"
   ]
  },
  {
   "cell_type": "code",
   "execution_count": 8,
   "metadata": {
    "execution": {
     "iopub.execute_input": "2020-11-25T00:01:05.283625Z",
     "iopub.status.busy": "2020-11-25T00:01:05.283497Z",
     "iopub.status.idle": "2020-11-25T00:01:14.978909Z",
     "shell.execute_reply": "2020-11-25T00:01:14.978387Z",
     "shell.execute_reply.started": "2020-11-25T00:01:05.283609Z"
    }
   },
   "outputs": [
    {
     "data": {
      "application/vnd.jupyter.widget-view+json": {
       "model_id": "66ab22e994f140238b1f01833bc0a012",
       "version_major": 2,
       "version_minor": 0
      },
      "text/plain": [
       "Canvas(toolbar=Toolbar(toolitems=[('Home', 'Reset original view', 'home', 'home'), ('Back', 'Back to previous …"
      ]
     },
     "metadata": {},
     "output_type": "display_data"
    },
    {
     "data": {
      "application/vnd.jupyter.widget-view+json": {
       "model_id": "b3c95bdcd2934a57b7c625fab28ea085",
       "version_major": 2,
       "version_minor": 0
      },
      "text/plain": [
       "HBox(children=(FloatSlider(value=1.0, description='Secs', max=4.0, min=0.25, step=0.25), BoundedFloatText(valu…"
      ]
     },
     "metadata": {},
     "output_type": "display_data"
    },
    {
     "data": {
      "application/vnd.jupyter.widget-view+json": {
       "model_id": "ce8d054d89a942e89336f24f97e12c82",
       "version_major": 2,
       "version_minor": 0
      },
      "text/plain": [
       "Output()"
      ]
     },
     "metadata": {},
     "output_type": "display_data"
    }
   ],
   "source": [
    "plot_timeseries_interactive(time, lfps, chan_labels=chans)"
   ]
  },
  {
   "cell_type": "markdown",
   "metadata": {},
   "source": [
    "## Filter signal"
   ]
  },
  {
   "cell_type": "code",
   "execution_count": 9,
   "metadata": {
    "execution": {
     "iopub.execute_input": "2020-11-25T00:02:48.277537Z",
     "iopub.status.busy": "2020-11-25T00:02:48.277050Z",
     "iopub.status.idle": "2020-11-25T00:02:48.297040Z",
     "shell.execute_reply": "2020-11-25T00:02:48.296509Z",
     "shell.execute_reply.started": "2020-11-25T00:02:48.277476Z"
    }
   },
   "outputs": [
    {
     "data": {
      "text/plain": [
       "(13, 25000)"
      ]
     },
     "execution_count": 9,
     "metadata": {},
     "output_type": "execute_result"
    }
   ],
   "source": [
    "sig = lfps[0 : np.int(fs * 10), :].T\n",
    "sig.shape"
   ]
  },
  {
   "cell_type": "code",
   "execution_count": 27,
   "metadata": {
    "execution": {
     "iopub.execute_input": "2020-11-25T00:08:07.593982Z",
     "iopub.status.busy": "2020-11-25T00:08:07.593273Z",
     "iopub.status.idle": "2020-11-25T00:08:07.677695Z",
     "shell.execute_reply": "2020-11-25T00:08:07.676500Z",
     "shell.execute_reply.started": "2020-11-25T00:08:07.593848Z"
    }
   },
   "outputs": [],
   "source": [
    "from neurodsp.filt import filter_signal\n",
    "\n",
    "f_range = (None, 20)\n",
    "sig_filt = filter_signal(sig, fs, 'lowpass', f_range)"
   ]
  },
  {
   "cell_type": "code",
   "execution_count": 29,
   "metadata": {
    "execution": {
     "iopub.execute_input": "2020-11-25T00:10:03.282508Z",
     "iopub.status.busy": "2020-11-25T00:10:03.281998Z",
     "iopub.status.idle": "2020-11-25T00:10:03.420953Z",
     "shell.execute_reply": "2020-11-25T00:10:03.420125Z",
     "shell.execute_reply.started": "2020-11-25T00:10:03.282435Z"
    }
   },
   "outputs": [
    {
     "data": {
      "application/vnd.jupyter.widget-view+json": {
       "model_id": "86139e4ab3b94304a044f6c7a611cc65",
       "version_major": 2,
       "version_minor": 0
      },
      "text/plain": [
       "Canvas(toolbar=Toolbar(toolitems=[('Home', 'Reset original view', 'home', 'home'), ('Back', 'Back to previous …"
      ]
     },
     "metadata": {},
     "output_type": "display_data"
    },
    {
     "data": {
      "application/vnd.jupyter.widget-view+json": {
       "model_id": "c13c037455bf4814832dc8a83bd49b44",
       "version_major": 2,
       "version_minor": 0
      },
      "text/plain": [
       "HBox(children=(FloatSlider(value=1.0, description='Secs', max=4.0, min=0.25, step=0.25), BoundedFloatText(valu…"
      ]
     },
     "metadata": {},
     "output_type": "display_data"
    },
    {
     "data": {
      "application/vnd.jupyter.widget-view+json": {
       "model_id": "2835a82e72ea4b03a04eac7fcaee7e88",
       "version_major": 2,
       "version_minor": 0
      },
      "text/plain": [
       "Output()"
      ]
     },
     "metadata": {},
     "output_type": "display_data"
    }
   ],
   "source": [
    "plot_timeseries_interactive(time[0 : np.int(fs * 10)], sig_filt.T, chan_labels=chans)"
   ]
  },
  {
   "cell_type": "markdown",
   "metadata": {},
   "source": [
    "## Load hypnogram and select only NREM epochs"
   ]
  },
  {
   "cell_type": "code",
   "execution_count": 30,
   "metadata": {
    "execution": {
     "iopub.execute_input": "2020-11-20T21:08:49.227283Z",
     "iopub.status.busy": "2020-11-20T21:08:49.227156Z",
     "iopub.status.idle": "2020-11-20T21:08:49.236950Z",
     "shell.execute_reply": "2020-11-20T21:08:49.236440Z",
     "shell.execute_reply.started": "2020-11-20T21:08:49.227266Z"
    }
   },
   "outputs": [],
   "source": [
    "#hypnogram_path = Path(paths.hypnograms[condition][subject])\n",
    "#hypnogram = load_visbrain_hypnogram(hypnogram_path)"
   ]
  },
  {
   "cell_type": "code",
   "execution_count": 31,
   "metadata": {
    "execution": {
     "iopub.execute_input": "2020-11-20T21:08:49.237959Z",
     "iopub.status.busy": "2020-11-20T21:08:49.237691Z",
     "iopub.status.idle": "2020-11-20T21:08:49.294719Z",
     "shell.execute_reply": "2020-11-20T21:08:49.293705Z",
     "shell.execute_reply.started": "2020-11-20T21:08:49.237944Z"
    }
   },
   "outputs": [],
   "source": [
    "#detect_states = ['Wake', 'N1', 'N2', 'REM']\n",
    "#speed = make_speed_vector(hypnogram, detect_states, time)\n",
    "speed = np.zeros_like(time)"
   ]
  }
 ],
 "metadata": {
  "kernelspec": {
   "display_name": "Python 3",
   "language": "python",
   "name": "python3"
  },
  "language_info": {
   "codemirror_mode": {
    "name": "ipython",
    "version": 3
   },
   "file_extension": ".py",
   "mimetype": "text/x-python",
   "name": "python",
   "nbconvert_exporter": "python",
   "pygments_lexer": "ipython3",
   "version": "3.7.9"
  }
 },
 "nbformat": 4,
 "nbformat_minor": 4
}
