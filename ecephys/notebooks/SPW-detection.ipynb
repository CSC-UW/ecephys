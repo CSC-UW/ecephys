{
 "cells": [
  {
   "cell_type": "markdown",
   "metadata": {},
   "source": [
    "- TODO: Parallelize sharp wave property computation"
   ]
  },
  {
   "cell_type": "markdown",
   "metadata": {
    "execution": {
     "iopub.execute_input": "2020-11-30T16:00:22.289233Z",
     "iopub.status.busy": "2020-11-30T16:00:22.288802Z",
     "iopub.status.idle": "2020-11-30T16:00:22.305803Z",
     "shell.execute_reply": "2020-11-30T16:00:22.305354Z",
     "shell.execute_reply.started": "2020-11-30T16:00:22.289179Z"
    }
   },
   "source": [
    "## Imports and notebook definition"
   ]
  },
  {
   "cell_type": "code",
   "execution_count": 1,
   "metadata": {
    "execution": {
     "iopub.execute_input": "2021-01-04T18:57:56.953867Z",
     "iopub.status.busy": "2021-01-04T18:57:56.953307Z",
     "iopub.status.idle": "2021-01-04T18:57:56.968682Z",
     "shell.execute_reply": "2021-01-04T18:57:56.968086Z",
     "shell.execute_reply.started": "2021-01-04T18:57:56.953711Z"
    }
   },
   "outputs": [],
   "source": [
    "%load_ext autoreload\n",
    "%autoreload 2"
   ]
  },
  {
   "cell_type": "code",
   "execution_count": 2,
   "metadata": {
    "execution": {
     "iopub.execute_input": "2021-01-04T18:57:57.566179Z",
     "iopub.status.busy": "2021-01-04T18:57:57.565757Z",
     "iopub.status.idle": "2021-01-04T18:57:57.867036Z",
     "shell.execute_reply": "2021-01-04T18:57:57.866565Z",
     "shell.execute_reply.started": "2021-01-04T18:57:57.566123Z"
    }
   },
   "outputs": [],
   "source": [
    "%matplotlib widget\n",
    "import matplotlib.pyplot as plt"
   ]
  },
  {
   "cell_type": "code",
   "execution_count": 3,
   "metadata": {
    "execution": {
     "iopub.execute_input": "2021-01-04T18:57:58.069236Z",
     "iopub.status.busy": "2021-01-04T18:57:58.068771Z",
     "iopub.status.idle": "2021-01-04T18:57:58.203018Z",
     "shell.execute_reply": "2021-01-04T18:57:58.202545Z",
     "shell.execute_reply.started": "2021-01-04T18:57:58.069178Z"
    }
   },
   "outputs": [],
   "source": [
    "import numpy as np\n",
    "import pandas as pd\n",
    "import json"
   ]
  },
  {
   "cell_type": "code",
   "execution_count": 4,
   "metadata": {
    "execution": {
     "iopub.execute_input": "2021-01-04T18:57:59.076392Z",
     "iopub.status.busy": "2021-01-04T18:57:59.076153Z",
     "iopub.status.idle": "2021-01-04T18:57:59.599237Z",
     "shell.execute_reply": "2021-01-04T18:57:59.598627Z",
     "shell.execute_reply.started": "2021-01-04T18:57:59.076366Z"
    }
   },
   "outputs": [],
   "source": [
    "from ecephys.data import paths, channel_groups\n",
    "from ecephys.sglx_utils import load_timeseries\n",
    "from ecephys.signal.csd import get_kcsd\n",
    "from ecephys.signal.sharp_wave_ripples import detect_sharp_waves, detect_sharp_waves_by_zscore, get_durations, get_midpoints, get_sink_amplitudes, get_sink_integrals\n",
    "from ecephys.utils import load_df_h5, store_df_h5, zscore_to_value\n",
    "import ecephys.plot as eplt"
   ]
  },
  {
   "cell_type": "code",
   "execution_count": 20,
   "metadata": {
    "execution": {
     "iopub.execute_input": "2021-01-04T19:19:41.446073Z",
     "iopub.status.busy": "2021-01-04T19:19:41.445592Z",
     "iopub.status.idle": "2021-01-04T19:19:41.466698Z",
     "shell.execute_reply": "2021-01-04T19:19:41.465904Z",
     "shell.execute_reply.started": "2021-01-04T19:19:41.446015Z"
    }
   },
   "outputs": [],
   "source": [
    "SUBJECT = \"Doppio\"\n",
    "CONDITION = \"REC-6-4\"\n",
    "START_TIME = None\n",
    "END_TIME = None"
   ]
  },
  {
   "cell_type": "markdown",
   "metadata": {},
   "source": [
    "## Load the data"
   ]
  },
  {
   "cell_type": "code",
   "execution_count": 21,
   "metadata": {
    "execution": {
     "iopub.execute_input": "2021-01-04T19:19:42.784717Z",
     "iopub.status.busy": "2021-01-04T19:19:42.784579Z",
     "iopub.status.idle": "2021-01-04T19:19:42.807762Z",
     "shell.execute_reply": "2021-01-04T19:19:42.807095Z",
     "shell.execute_reply.started": "2021-01-04T19:19:42.784700Z"
    }
   },
   "outputs": [],
   "source": [
    "sr_chans = channel_groups.stratum_radiatum_140um_to_200um[SUBJECT]\n",
    "hpc_chans = channel_groups.hippocampus[SUBJECT]\n",
    "bin_path = paths.get_datapath(subject=SUBJECT, condition=CONDITION, data=\"lf.bin\")\n",
    "params_path = paths.get_datapath(subject=SUBJECT, condition=\"REC-30+18\", data=\"sharp_wave_detection_params.json\")"
   ]
  },
  {
   "cell_type": "code",
   "execution_count": 22,
   "metadata": {
    "execution": {
     "iopub.execute_input": "2021-01-04T19:19:43.226175Z",
     "iopub.status.busy": "2021-01-04T19:19:43.225898Z",
     "iopub.status.idle": "2021-01-04T19:22:37.603883Z",
     "shell.execute_reply": "2021-01-04T19:22:37.602760Z",
     "shell.execute_reply.started": "2021-01-04T19:19:43.226140Z"
    }
   },
   "outputs": [
    {
     "name": "stdout",
     "output_type": "stream",
     "text": [
      "nChan: 385, nFileSamp: 18000019\n"
     ]
    }
   ],
   "source": [
    "(time, hpc_lfps, fs) = load_timeseries(bin_path, hpc_chans, start_time=START_TIME, end_time=END_TIME)"
   ]
  },
  {
   "cell_type": "markdown",
   "metadata": {
    "collapsed": "true"
   },
   "source": [
    "### Explore LFPs (optional)"
   ]
  },
  {
   "cell_type": "code",
   "execution_count": null,
   "metadata": {},
   "outputs": [],
   "source": [
    "eplt.lfp_explorer(time, hpc_lfps, chan_labels=hpc_chans)"
   ]
  },
  {
   "cell_type": "markdown",
   "metadata": {},
   "source": [
    "## Detect sharp waves"
   ]
  },
  {
   "cell_type": "markdown",
   "metadata": {
    "collapsed": "true"
   },
   "source": [
    "### If we need to determine detection parameters"
   ]
  },
  {
   "cell_type": "code",
   "execution_count": 8,
   "metadata": {
    "execution": {
     "iopub.execute_input": "2021-01-04T00:26:38.945022Z",
     "iopub.status.busy": "2021-01-04T00:26:38.944541Z",
     "iopub.status.idle": "2021-01-04T00:35:20.793274Z",
     "shell.execute_reply": "2021-01-04T00:35:20.791877Z",
     "shell.execute_reply.started": "2021-01-04T00:26:38.944964Z"
    }
   },
   "outputs": [
    {
     "name": "stdout",
     "output_type": "stream",
     "text": [
      "Performing L-curve parameter estimation...\n",
      "No lambda given, using defaults\n",
      "min lambda 1e-12\n",
      "max lambda 0.0126\n",
      "min lambda 1e-12\n",
      "max lambda 0.0126\n",
      "l-curve (all lambda):  0.23\n",
      "Best lambda and R =  0.0003822395851068327 ,  0.23\n"
     ]
    }
   ],
   "source": [
    "intersite_distance = 0.020\n",
    "k = get_kcsd(hpc_lfps, intersite_distance=intersite_distance, gdx=0.020, do_lcurve=True)\n",
    "hpc_csd = k.values('CSD')\n",
    "sr_csd = hpc_csd[np.isin(hpc_chans, sr_chans)]"
   ]
  },
  {
   "cell_type": "code",
   "execution_count": 32,
   "metadata": {
    "execution": {
     "iopub.execute_input": "2021-01-04T03:02:30.851252Z",
     "iopub.status.busy": "2021-01-04T03:02:30.850790Z",
     "iopub.status.idle": "2021-01-04T03:04:05.222403Z",
     "shell.execute_reply": "2021-01-04T03:04:05.221712Z",
     "shell.execute_reply.started": "2021-01-04T03:02:30.851191Z"
    }
   },
   "outputs": [],
   "source": [
    "spws = detect_sharp_waves_by_zscore(time, sr_csd)"
   ]
  },
  {
   "cell_type": "markdown",
   "metadata": {},
   "source": [
    "### If we are using detection parameters obtained elsewhere"
   ]
  },
  {
   "cell_type": "code",
   "execution_count": 23,
   "metadata": {
    "execution": {
     "iopub.execute_input": "2021-01-04T19:22:37.605157Z",
     "iopub.status.busy": "2021-01-04T19:22:37.604997Z",
     "iopub.status.idle": "2021-01-04T19:22:37.627199Z",
     "shell.execute_reply": "2021-01-04T19:22:37.626747Z",
     "shell.execute_reply.started": "2021-01-04T19:22:37.605137Z"
    }
   },
   "outputs": [],
   "source": [
    "with open(params_path) as params_file:\n",
    "    params = json.load(params_file)\n",
    "intersite_distance = params['intersite_distance']"
   ]
  },
  {
   "cell_type": "code",
   "execution_count": 24,
   "metadata": {
    "execution": {
     "iopub.execute_input": "2021-01-04T19:22:37.628179Z",
     "iopub.status.busy": "2021-01-04T19:22:37.628049Z",
     "iopub.status.idle": "2021-01-04T19:22:50.143346Z",
     "shell.execute_reply": "2021-01-04T19:22:50.142901Z",
     "shell.execute_reply.started": "2021-01-04T19:22:37.628162Z"
    }
   },
   "outputs": [],
   "source": [
    "k = get_kcsd(hpc_lfps, intersite_distance=params['intersite_distance'], gdx=params['gdx'], lambd=params['lambd'], R_init=params['R'], do_lcurve=False)\n",
    "hpc_csd = k.values('CSD')\n",
    "sr_csd = hpc_csd[np.isin(hpc_chans, sr_chans)]"
   ]
  },
  {
   "cell_type": "code",
   "execution_count": 25,
   "metadata": {
    "execution": {
     "iopub.execute_input": "2021-01-04T19:22:50.144290Z",
     "iopub.status.busy": "2021-01-04T19:22:50.144154Z",
     "iopub.status.idle": "2021-01-04T19:23:16.834967Z",
     "shell.execute_reply": "2021-01-04T19:23:16.834271Z",
     "shell.execute_reply.started": "2021-01-04T19:22:50.144271Z"
    }
   },
   "outputs": [],
   "source": [
    "spws = detect_sharp_waves(time, sr_csd, params['detection_threshold'], params['boundary_threshold'], params['minimum_duration'])"
   ]
  },
  {
   "cell_type": "markdown",
   "metadata": {},
   "source": [
    "## Compute SPW properties"
   ]
  },
  {
   "cell_type": "code",
   "execution_count": 26,
   "metadata": {
    "execution": {
     "iopub.execute_input": "2021-01-04T19:23:16.835992Z",
     "iopub.status.busy": "2021-01-04T19:23:16.835850Z",
     "iopub.status.idle": "2021-01-04T19:23:16.896455Z",
     "shell.execute_reply": "2021-01-04T19:23:16.896003Z",
     "shell.execute_reply.started": "2021-01-04T19:23:16.835973Z"
    }
   },
   "outputs": [],
   "source": [
    "spws[\"duration\"] = get_durations(spws)\n",
    "spws[\"midpoint\"] = get_midpoints(spws)"
   ]
  },
  {
   "cell_type": "code",
   "execution_count": 27,
   "metadata": {
    "execution": {
     "iopub.execute_input": "2021-01-04T19:23:16.897176Z",
     "iopub.status.busy": "2021-01-04T19:23:16.897044Z",
     "iopub.status.idle": "2021-01-04T19:24:44.657939Z",
     "shell.execute_reply": "2021-01-04T19:24:44.656857Z",
     "shell.execute_reply.started": "2021-01-04T19:23:16.897160Z"
    }
   },
   "outputs": [],
   "source": [
    "spws[\"sink_amplitude\"] = get_sink_amplitudes(spws, time, sr_csd) * (1e-6) # Scale to mA/mm"
   ]
  },
  {
   "cell_type": "code",
   "execution_count": 28,
   "metadata": {
    "execution": {
     "iopub.execute_input": "2021-01-04T19:24:44.659071Z",
     "iopub.status.busy": "2021-01-04T19:24:44.658922Z",
     "iopub.status.idle": "2021-01-04T19:26:12.536332Z",
     "shell.execute_reply": "2021-01-04T19:26:12.535486Z",
     "shell.execute_reply.started": "2021-01-04T19:24:44.659052Z"
    }
   },
   "outputs": [],
   "source": [
    "spws[\"sink_integral\"] = get_sink_integrals(spws, time, fs, sr_csd) * (1e-6) * (1e3) # Scale to mA * ms"
   ]
  },
  {
   "cell_type": "markdown",
   "metadata": {
    "execution": {
     "iopub.execute_input": "2020-12-01T00:20:18.941774Z",
     "iopub.status.busy": "2020-12-01T00:20:18.941278Z",
     "iopub.status.idle": "2020-12-01T00:20:18.960114Z",
     "shell.execute_reply": "2020-12-01T00:20:18.959367Z",
     "shell.execute_reply.started": "2020-12-01T00:20:18.941715Z"
    }
   },
   "source": [
    "## Export results"
   ]
  },
  {
   "cell_type": "code",
   "execution_count": 29,
   "metadata": {
    "execution": {
     "iopub.execute_input": "2021-01-04T19:26:12.537799Z",
     "iopub.status.busy": "2021-01-04T19:26:12.537654Z",
     "iopub.status.idle": "2021-01-04T19:26:12.570879Z",
     "shell.execute_reply": "2021-01-04T19:26:12.569748Z",
     "shell.execute_reply.started": "2021-01-04T19:26:12.537781Z"
    }
   },
   "outputs": [],
   "source": [
    "metadata = dict(\n",
    "    csd_chans=hpc_chans,\n",
    "    detection_chans=sr_chans,\n",
    "    electrode_positions=k.ele_pos, \n",
    "    intersite_distance=intersite_distance,\n",
    "    gdx=k.gdx,\n",
    "    lambd = k.lambd,\n",
    "    R = k.R,\n",
    "    detect_states=[\"all\"],\n",
    ")\n",
    "metadata.update(spws.attrs)\n",
    "spws_path = paths.get_datapath(subject=SUBJECT, condition=CONDITION, data=\"sharp_waves.h5\")\n",
    "store_df_h5(spws_path, spws, **metadata)"
   ]
  },
  {
   "cell_type": "markdown",
   "metadata": {
    "collapsed": "true"
   },
   "source": [
    "## If necessary, create params file"
   ]
  },
  {
   "cell_type": "code",
   "execution_count": 85,
   "metadata": {
    "execution": {
     "iopub.execute_input": "2021-01-04T04:49:13.834943Z",
     "iopub.status.busy": "2021-01-04T04:49:13.834475Z",
     "iopub.status.idle": "2021-01-04T04:49:13.859881Z",
     "shell.execute_reply": "2021-01-04T04:49:13.859209Z",
     "shell.execute_reply.started": "2021-01-04T04:49:13.834885Z"
    }
   },
   "outputs": [],
   "source": [
    "metadata.update({'params_source_file': str(bin_path)})\n",
    "metadata['csd_chans'] = metadata['csd_chans'].tolist()\n",
    "metadata['electrode_positions'] = metadata['electrode_positions'].tolist()\n",
    "with open(params_path, 'x') as params_file:\n",
    "    json.dump(metadata, params_file, indent=4)"
   ]
  }
 ],
 "metadata": {
  "kernelspec": {
   "display_name": "Python 3",
   "language": "python",
   "name": "python3"
  },
  "language_info": {
   "codemirror_mode": {
    "name": "ipython",
    "version": 3
   },
   "file_extension": ".py",
   "mimetype": "text/x-python",
   "name": "python",
   "nbconvert_exporter": "python",
   "pygments_lexer": "ipython3",
   "version": "3.7.9"
  }
 },
 "nbformat": 4,
 "nbformat_minor": 4
}
