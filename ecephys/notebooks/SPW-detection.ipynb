{
 "cells": [
  {
   "cell_type": "code",
   "execution_count": 1,
   "metadata": {
    "execution": {
     "iopub.execute_input": "2020-11-26T00:29:59.851433Z",
     "iopub.status.busy": "2020-11-26T00:29:59.850851Z",
     "iopub.status.idle": "2020-11-26T00:29:59.868929Z",
     "shell.execute_reply": "2020-11-26T00:29:59.868016Z",
     "shell.execute_reply.started": "2020-11-26T00:29:59.851370Z"
    }
   },
   "outputs": [],
   "source": [
    "%load_ext autoreload\n",
    "%autoreload 2"
   ]
  },
  {
   "cell_type": "code",
   "execution_count": 2,
   "metadata": {
    "execution": {
     "iopub.execute_input": "2020-11-26T00:30:00.896183Z",
     "iopub.status.busy": "2020-11-26T00:30:00.895727Z",
     "iopub.status.idle": "2020-11-26T00:30:01.084314Z",
     "shell.execute_reply": "2020-11-26T00:30:01.083633Z",
     "shell.execute_reply.started": "2020-11-26T00:30:00.896127Z"
    }
   },
   "outputs": [],
   "source": [
    "%matplotlib widget\n",
    "import matplotlib.pyplot as plt"
   ]
  },
  {
   "cell_type": "code",
   "execution_count": 11,
   "metadata": {
    "execution": {
     "iopub.execute_input": "2020-11-26T00:32:56.856426Z",
     "iopub.status.busy": "2020-11-26T00:32:56.856307Z",
     "iopub.status.idle": "2020-11-26T00:32:56.884123Z",
     "shell.execute_reply": "2020-11-26T00:32:56.883535Z",
     "shell.execute_reply.started": "2020-11-26T00:32:56.856411Z"
    }
   },
   "outputs": [],
   "source": [
    "from pathlib import Path\n",
    "import numpy as np\n",
    "import pandas as pd\n",
    "from neurodsp.filt import filter_signal\n",
    "from ecephys.signal.csd import kcsd_npix"
   ]
  },
  {
   "cell_type": "code",
   "execution_count": 4,
   "metadata": {
    "execution": {
     "iopub.execute_input": "2020-11-26T00:30:02.258719Z",
     "iopub.status.busy": "2020-11-26T00:30:02.258288Z",
     "iopub.status.idle": "2020-11-26T00:30:02.451833Z",
     "shell.execute_reply": "2020-11-26T00:30:02.451184Z",
     "shell.execute_reply.started": "2020-11-26T00:30:02.258665Z"
    }
   },
   "outputs": [],
   "source": [
    "from ecephys.graham import paths, channel_groups\n",
    "from ecephys.sglx_utils import load_timeseries\n",
    "from ecephys.scoring import load_visbrain_hypnogram\n",
    "from ecephys.plot import plot_timeseries_interactive"
   ]
  },
  {
   "cell_type": "code",
   "execution_count": 5,
   "metadata": {
    "execution": {
     "iopub.execute_input": "2020-11-26T00:30:02.652253Z",
     "iopub.status.busy": "2020-11-26T00:30:02.652125Z",
     "iopub.status.idle": "2020-11-26T00:30:02.664637Z",
     "shell.execute_reply": "2020-11-26T00:30:02.663903Z",
     "shell.execute_reply.started": "2020-11-26T00:30:02.652238Z"
    }
   },
   "outputs": [],
   "source": [
    "condition = \"SR\"\n",
    "subject = \"Doppio\""
   ]
  },
  {
   "cell_type": "markdown",
   "metadata": {},
   "source": [
    "## Load the data"
   ]
  },
  {
   "cell_type": "code",
   "execution_count": 8,
   "metadata": {
    "execution": {
     "iopub.execute_input": "2020-11-26T00:30:17.794726Z",
     "iopub.status.busy": "2020-11-26T00:30:17.794285Z",
     "iopub.status.idle": "2020-11-26T00:30:17.811709Z",
     "shell.execute_reply": "2020-11-26T00:30:17.810907Z",
     "shell.execute_reply.started": "2020-11-26T00:30:17.794671Z"
    }
   },
   "outputs": [],
   "source": [
    "sr_chans = channel_groups.stratum_radiatum_csd[subject]\n",
    "so_chans = channel_groups.stratum_oriens_100um[subject]\n",
    "hpc_chans = channel_groups.hippocampus[subject]\n",
    "bin_path = Path(paths.lfp_bin[condition][subject])"
   ]
  },
  {
   "cell_type": "code",
   "execution_count": 25,
   "metadata": {
    "execution": {
     "iopub.execute_input": "2020-11-26T01:22:54.398634Z",
     "iopub.status.busy": "2020-11-26T01:22:54.398187Z",
     "iopub.status.idle": "2020-11-26T01:24:59.891734Z",
     "shell.execute_reply": "2020-11-26T01:24:59.890951Z",
     "shell.execute_reply.started": "2020-11-26T01:22:54.398577Z"
    }
   },
   "outputs": [
    {
     "name": "stdout",
     "output_type": "stream",
     "text": [
      "nChan: 385, nFileSamp: 18000019\n"
     ]
    }
   ],
   "source": [
    "(time, sr_lfps, fs) = load_timeseries(bin_path, sr_chans, start_time=None, end_time=None)"
   ]
  },
  {
   "cell_type": "code",
   "execution_count": 26,
   "metadata": {
    "execution": {
     "iopub.execute_input": "2020-11-26T01:24:59.916507Z",
     "iopub.status.busy": "2020-11-26T01:24:59.916382Z",
     "iopub.status.idle": "2020-11-26T01:27:01.177026Z",
     "shell.execute_reply": "2020-11-26T01:27:01.175849Z",
     "shell.execute_reply.started": "2020-11-26T01:24:59.916492Z"
    }
   },
   "outputs": [
    {
     "name": "stdout",
     "output_type": "stream",
     "text": [
      "nChan: 385, nFileSamp: 18000019\n"
     ]
    }
   ],
   "source": [
    "(time, so_lfps, fs) = load_timeseries(bin_path, so_chans, start_time=None, end_time=None)"
   ]
  },
  {
   "cell_type": "code",
   "execution_count": 9,
   "metadata": {
    "execution": {
     "iopub.execute_input": "2020-11-26T00:30:20.195696Z",
     "iopub.status.busy": "2020-11-26T00:30:20.195269Z",
     "iopub.status.idle": "2020-11-26T00:32:56.826609Z",
     "shell.execute_reply": "2020-11-26T00:32:56.825354Z",
     "shell.execute_reply.started": "2020-11-26T00:30:20.195643Z"
    }
   },
   "outputs": [
    {
     "name": "stdout",
     "output_type": "stream",
     "text": [
      "nChan: 385, nFileSamp: 18000019\n"
     ]
    }
   ],
   "source": [
    "(time, hpc_lfps, fs) = load_timeseries(bin_path, hpc_chans, start_time=None, end_time=None)"
   ]
  },
  {
   "cell_type": "markdown",
   "metadata": {},
   "source": [
    "## Explore LFPs"
   ]
  },
  {
   "cell_type": "code",
   "execution_count": 13,
   "metadata": {
    "execution": {
     "iopub.execute_input": "2020-11-25T19:40:29.050019Z",
     "iopub.status.busy": "2020-11-25T19:40:29.049450Z",
     "iopub.status.idle": "2020-11-25T19:40:38.341631Z",
     "shell.execute_reply": "2020-11-25T19:40:38.340858Z",
     "shell.execute_reply.started": "2020-11-25T19:40:29.049958Z"
    }
   },
   "outputs": [
    {
     "data": {
      "application/vnd.jupyter.widget-view+json": {
       "model_id": "32e2a2a4b43545b58a4e10e4bf0f23ef",
       "version_major": 2,
       "version_minor": 0
      },
      "text/plain": [
       "Canvas(toolbar=Toolbar(toolitems=[('Home', 'Reset original view', 'home', 'home'), ('Back', 'Back to previous …"
      ]
     },
     "metadata": {},
     "output_type": "display_data"
    },
    {
     "data": {
      "application/vnd.jupyter.widget-view+json": {
       "model_id": "64a6a1be51964c6491cb4d6e18e90018",
       "version_major": 2,
       "version_minor": 0
      },
      "text/plain": [
       "HBox(children=(FloatSlider(value=1.0, description='Secs', max=4.0, min=0.25, step=0.25), BoundedFloatText(valu…"
      ]
     },
     "metadata": {},
     "output_type": "display_data"
    },
    {
     "data": {
      "application/vnd.jupyter.widget-view+json": {
       "model_id": "1c2fd8112ddf4c0f97fc8ffede022000",
       "version_major": 2,
       "version_minor": 0
      },
      "text/plain": [
       "Output()"
      ]
     },
     "metadata": {},
     "output_type": "display_data"
    }
   ],
   "source": [
    "plot_timeseries_interactive(time, sr_lfps, chan_labels=sr_chans)"
   ]
  },
  {
   "cell_type": "code",
   "execution_count": 12,
   "metadata": {
    "execution": {
     "iopub.execute_input": "2020-11-25T19:40:25.339570Z",
     "iopub.status.busy": "2020-11-25T19:40:25.339012Z",
     "iopub.status.idle": "2020-11-25T19:40:26.436824Z",
     "shell.execute_reply": "2020-11-25T19:40:26.436080Z",
     "shell.execute_reply.started": "2020-11-25T19:40:25.339505Z"
    }
   },
   "outputs": [],
   "source": [
    "lfps = (sr_lfps.T - so_lfps.T).T"
   ]
  },
  {
   "cell_type": "code",
   "execution_count": 14,
   "metadata": {
    "execution": {
     "iopub.execute_input": "2020-11-25T19:41:49.444981Z",
     "iopub.status.busy": "2020-11-25T19:41:49.444414Z",
     "iopub.status.idle": "2020-11-25T19:41:57.823708Z",
     "shell.execute_reply": "2020-11-25T19:41:57.822739Z",
     "shell.execute_reply.started": "2020-11-25T19:41:49.444917Z"
    }
   },
   "outputs": [
    {
     "data": {
      "application/vnd.jupyter.widget-view+json": {
       "model_id": "3ed8f06a37234a4aaa5dd3cc7a76d0ea",
       "version_major": 2,
       "version_minor": 0
      },
      "text/plain": [
       "Canvas(toolbar=Toolbar(toolitems=[('Home', 'Reset original view', 'home', 'home'), ('Back', 'Back to previous …"
      ]
     },
     "metadata": {},
     "output_type": "display_data"
    },
    {
     "data": {
      "application/vnd.jupyter.widget-view+json": {
       "model_id": "0934fb4455d74e48a14cf9651690dd5d",
       "version_major": 2,
       "version_minor": 0
      },
      "text/plain": [
       "HBox(children=(FloatSlider(value=1.0, description='Secs', max=4.0, min=0.25, step=0.25), BoundedFloatText(valu…"
      ]
     },
     "metadata": {},
     "output_type": "display_data"
    },
    {
     "data": {
      "application/vnd.jupyter.widget-view+json": {
       "model_id": "b95a3dca03d54fff8e952f95b0764cf7",
       "version_major": 2,
       "version_minor": 0
      },
      "text/plain": [
       "Output()"
      ]
     },
     "metadata": {},
     "output_type": "display_data"
    }
   ],
   "source": [
    "plot_timeseries_interactive(time, lfps, chan_labels=sr_chans)"
   ]
  },
  {
   "cell_type": "markdown",
   "metadata": {},
   "source": [
    "## Filter signal"
   ]
  },
  {
   "cell_type": "code",
   "execution_count": 31,
   "metadata": {
    "execution": {
     "iopub.execute_input": "2020-11-26T01:31:20.789820Z",
     "iopub.status.busy": "2020-11-26T01:31:20.789365Z",
     "iopub.status.idle": "2020-11-26T01:32:03.879140Z",
     "shell.execute_reply": "2020-11-26T01:32:03.877970Z",
     "shell.execute_reply.started": "2020-11-26T01:31:20.789764Z"
    }
   },
   "outputs": [],
   "source": [
    "f_range = (None, 35)\n",
    "filtered_sr_lfps = filter_signal(sr_lfps.T, fs, 'lowpass', f_range)"
   ]
  },
  {
   "cell_type": "code",
   "execution_count": 32,
   "metadata": {
    "execution": {
     "iopub.execute_input": "2020-11-26T01:32:03.909064Z",
     "iopub.status.busy": "2020-11-26T01:32:03.908939Z",
     "iopub.status.idle": "2020-11-26T01:32:11.853989Z",
     "shell.execute_reply": "2020-11-26T01:32:11.853298Z",
     "shell.execute_reply.started": "2020-11-26T01:32:03.909048Z"
    }
   },
   "outputs": [
    {
     "data": {
      "application/vnd.jupyter.widget-view+json": {
       "model_id": "f6b47bde26a0475e8cb2b9d556d99e6d",
       "version_major": 2,
       "version_minor": 0
      },
      "text/plain": [
       "Canvas(toolbar=Toolbar(toolitems=[('Home', 'Reset original view', 'home', 'home'), ('Back', 'Back to previous …"
      ]
     },
     "metadata": {},
     "output_type": "display_data"
    },
    {
     "data": {
      "application/vnd.jupyter.widget-view+json": {
       "model_id": "c4605c61e81d46a98d12de2e96db4bbe",
       "version_major": 2,
       "version_minor": 0
      },
      "text/plain": [
       "HBox(children=(FloatSlider(value=1.0, description='Secs', max=4.0, min=0.25, step=0.25), BoundedFloatText(valu…"
      ]
     },
     "metadata": {},
     "output_type": "display_data"
    },
    {
     "data": {
      "application/vnd.jupyter.widget-view+json": {
       "model_id": "16e6b499c01b4a03ad742c0dffee99e7",
       "version_major": 2,
       "version_minor": 0
      },
      "text/plain": [
       "Output()"
      ]
     },
     "metadata": {},
     "output_type": "display_data"
    }
   ],
   "source": [
    "plot_timeseries_interactive(time, filtered_sr_lfps.T, chan_labels=sr_chans)"
   ]
  },
  {
   "cell_type": "code",
   "execution_count": 47,
   "metadata": {
    "execution": {
     "iopub.execute_input": "2020-11-26T01:48:59.478644Z",
     "iopub.status.busy": "2020-11-26T01:48:59.478212Z",
     "iopub.status.idle": "2020-11-26T01:54:38.864322Z",
     "shell.execute_reply": "2020-11-26T01:54:38.863132Z",
     "shell.execute_reply.started": "2020-11-26T01:48:59.478590Z"
    }
   },
   "outputs": [],
   "source": [
    "f_range = (1, 35)\n",
    "filtered_sr_lfps = filter_signal(sr_lfps.T, fs, 'bandpass', f_range)"
   ]
  },
  {
   "cell_type": "code",
   "execution_count": 53,
   "metadata": {
    "execution": {
     "iopub.execute_input": "2020-11-26T02:00:34.880483Z",
     "iopub.status.busy": "2020-11-26T02:00:34.880037Z",
     "iopub.status.idle": "2020-11-26T02:00:42.901824Z",
     "shell.execute_reply": "2020-11-26T02:00:42.901040Z",
     "shell.execute_reply.started": "2020-11-26T02:00:34.880427Z"
    }
   },
   "outputs": [
    {
     "data": {
      "application/vnd.jupyter.widget-view+json": {
       "model_id": "0ce0a937efd840b894d5ff76a931537b",
       "version_major": 2,
       "version_minor": 0
      },
      "text/plain": [
       "Canvas(toolbar=Toolbar(toolitems=[('Home', 'Reset original view', 'home', 'home'), ('Back', 'Back to previous …"
      ]
     },
     "metadata": {},
     "output_type": "display_data"
    },
    {
     "data": {
      "application/vnd.jupyter.widget-view+json": {
       "model_id": "d01c0566614345afa51ae23a6c474c3b",
       "version_major": 2,
       "version_minor": 0
      },
      "text/plain": [
       "HBox(children=(FloatSlider(value=1.0, description='Secs', max=4.0, min=0.25, step=0.25), BoundedFloatText(valu…"
      ]
     },
     "metadata": {},
     "output_type": "display_data"
    },
    {
     "data": {
      "application/vnd.jupyter.widget-view+json": {
       "model_id": "bc5e4dd711a24b0cbe8b9a9a782697ee",
       "version_major": 2,
       "version_minor": 0
      },
      "text/plain": [
       "Output()"
      ]
     },
     "metadata": {},
     "output_type": "display_data"
    }
   ],
   "source": [
    "plot_timeseries_interactive(time, filtered_sr_lfps.T, chan_labels=sr_chans)"
   ]
  },
  {
   "cell_type": "markdown",
   "metadata": {},
   "source": [
    "## Detection type I: Thresholding LFP negativity by Z-score"
   ]
  },
  {
   "cell_type": "code",
   "execution_count": 35,
   "metadata": {
    "execution": {
     "iopub.execute_input": "2020-11-26T01:35:31.365363Z",
     "iopub.status.busy": "2020-11-26T01:35:31.364934Z",
     "iopub.status.idle": "2020-11-26T01:35:31.384953Z",
     "shell.execute_reply": "2020-11-26T01:35:31.384383Z",
     "shell.execute_reply.started": "2020-11-26T01:35:31.365309Z"
    }
   },
   "outputs": [
    {
     "data": {
      "text/plain": [
       "(13, 18000019)"
      ]
     },
     "execution_count": 35,
     "metadata": {},
     "output_type": "execute_result"
    }
   ],
   "source": [
    "filtered_sr_lfps.shape"
   ]
  },
  {
   "cell_type": "code",
   "execution_count": 36,
   "metadata": {
    "execution": {
     "iopub.execute_input": "2020-11-26T01:35:38.548955Z",
     "iopub.status.busy": "2020-11-26T01:35:38.548526Z",
     "iopub.status.idle": "2020-11-26T01:35:38.680412Z",
     "shell.execute_reply": "2020-11-26T01:35:38.679578Z",
     "shell.execute_reply.started": "2020-11-26T01:35:38.548902Z"
    }
   },
   "outputs": [
    {
     "data": {
      "text/plain": [
       "(18000019,)"
      ]
     },
     "execution_count": 36,
     "metadata": {},
     "output_type": "execute_result"
    }
   ],
   "source": [
    "time = np.arange(0, filtered_sr_lfps.shape[1], 1)\n",
    "time = time / fs\n",
    "time.shape"
   ]
  },
  {
   "cell_type": "code",
   "execution_count": 37,
   "metadata": {
    "execution": {
     "iopub.execute_input": "2020-11-26T01:37:19.619357Z",
     "iopub.status.busy": "2020-11-26T01:37:19.618902Z",
     "iopub.status.idle": "2020-11-26T01:37:32.130816Z",
     "shell.execute_reply": "2020-11-26T01:37:32.129709Z",
     "shell.execute_reply.started": "2020-11-26T01:37:19.619301Z"
    }
   },
   "outputs": [],
   "source": [
    "from ecephys.signal.ripples import _threshold_by_zscore\n",
    "from ripple_detection.core import get_envelope\n",
    "\n",
    "filtered_lfps = -filtered_sr_lfps.T\n",
    "not_null = np.all(pd.notnull(filtered_lfps), axis=1)\n",
    "filtered_lfps, _time = (filtered_lfps[not_null], time[not_null])\n",
    "combined_filtered_lfps = np.sum(filtered_lfps, axis=1)\n",
    "\n",
    "candidate_spw_times = _threshold_by_zscore(\n",
    "    combined_filtered_lfps,\n",
    "    _time,\n",
    "    minimum_duration=0.030,\n",
    "    detection_zscore_threshold=3,\n",
    "    boundary_zscore_threshold=1,\n",
    ")\n",
    "\n",
    "index = pd.Index(np.arange(len(candidate_spw_times)) + 1, name=\"spw_number\")\n",
    "spw_times = pd.DataFrame(candidate_spw_times, columns=[\"start_time\", \"end_time\"], index=index)"
   ]
  },
  {
   "cell_type": "code",
   "execution_count": 40,
   "metadata": {
    "execution": {
     "iopub.execute_input": "2020-11-26T01:39:04.744616Z",
     "iopub.status.busy": "2020-11-26T01:39:04.744119Z",
     "iopub.status.idle": "2020-11-26T01:40:55.898579Z",
     "shell.execute_reply": "2020-11-26T01:40:55.897472Z",
     "shell.execute_reply.started": "2020-11-26T01:39:04.744554Z"
    }
   },
   "outputs": [],
   "source": [
    "from ecephys.signal.ripples import compute_ripple_features\n",
    "\n",
    "spw_times = compute_ripple_features(_time, filtered_lfps, spw_times, fs, 'Kay', smoothing_sigma=0.0)"
   ]
  },
  {
   "cell_type": "code",
   "execution_count": 41,
   "metadata": {
    "execution": {
     "iopub.execute_input": "2020-11-26T01:40:55.934554Z",
     "iopub.status.busy": "2020-11-26T01:40:55.934428Z",
     "iopub.status.idle": "2020-11-26T01:40:55.956722Z",
     "shell.execute_reply": "2020-11-26T01:40:55.956142Z",
     "shell.execute_reply.started": "2020-11-26T01:40:55.934539Z"
    }
   },
   "outputs": [
    {
     "data": {
      "text/html": [
       "<div>\n",
       "<style scoped>\n",
       "    .dataframe tbody tr th:only-of-type {\n",
       "        vertical-align: middle;\n",
       "    }\n",
       "\n",
       "    .dataframe tbody tr th {\n",
       "        vertical-align: top;\n",
       "    }\n",
       "\n",
       "    .dataframe thead th {\n",
       "        text-align: right;\n",
       "    }\n",
       "</style>\n",
       "<table border=\"1\" class=\"dataframe\">\n",
       "  <thead>\n",
       "    <tr style=\"text-align: right;\">\n",
       "      <th></th>\n",
       "      <th>start_time</th>\n",
       "      <th>end_time</th>\n",
       "      <th>duration</th>\n",
       "      <th>center_time</th>\n",
       "      <th>nadir_time</th>\n",
       "      <th>envelope_integral</th>\n",
       "      <th>envelope_peak</th>\n",
       "      <th>mean_rms</th>\n",
       "      <th>summed_rms</th>\n",
       "      <th>max_rms</th>\n",
       "      <th>mean_amplitude</th>\n",
       "      <th>max_amplitude</th>\n",
       "    </tr>\n",
       "    <tr>\n",
       "      <th>spw_number</th>\n",
       "      <th></th>\n",
       "      <th></th>\n",
       "      <th></th>\n",
       "      <th></th>\n",
       "      <th></th>\n",
       "      <th></th>\n",
       "      <th></th>\n",
       "      <th></th>\n",
       "      <th></th>\n",
       "      <th></th>\n",
       "      <th></th>\n",
       "      <th></th>\n",
       "    </tr>\n",
       "  </thead>\n",
       "  <tbody>\n",
       "    <tr>\n",
       "      <th>1</th>\n",
       "      <td>87.180712</td>\n",
       "      <td>87.341112</td>\n",
       "      <td>0.1604</td>\n",
       "      <td>87.260912</td>\n",
       "      <td>87.245112</td>\n",
       "      <td>2.074016e+06</td>\n",
       "      <td>6038.730307</td>\n",
       "      <td>1127.940209</td>\n",
       "      <td>14663.222714</td>\n",
       "      <td>1391.427326</td>\n",
       "      <td>1357.071843</td>\n",
       "      <td>1587.116379</td>\n",
       "    </tr>\n",
       "    <tr>\n",
       "      <th>2</th>\n",
       "      <td>111.071488</td>\n",
       "      <td>111.267088</td>\n",
       "      <td>0.1956</td>\n",
       "      <td>111.169288</td>\n",
       "      <td>111.131888</td>\n",
       "      <td>2.137053e+06</td>\n",
       "      <td>5199.039163</td>\n",
       "      <td>980.637062</td>\n",
       "      <td>12748.281806</td>\n",
       "      <td>1232.776487</td>\n",
       "      <td>1145.277519</td>\n",
       "      <td>1413.523050</td>\n",
       "    </tr>\n",
       "    <tr>\n",
       "      <th>3</th>\n",
       "      <td>187.069812</td>\n",
       "      <td>187.143012</td>\n",
       "      <td>0.0732</td>\n",
       "      <td>187.106412</td>\n",
       "      <td>187.102612</td>\n",
       "      <td>8.543671e+05</td>\n",
       "      <td>5060.473777</td>\n",
       "      <td>1059.737657</td>\n",
       "      <td>13776.589536</td>\n",
       "      <td>1376.463334</td>\n",
       "      <td>1134.135785</td>\n",
       "      <td>1435.018190</td>\n",
       "    </tr>\n",
       "    <tr>\n",
       "      <th>4</th>\n",
       "      <td>195.683803</td>\n",
       "      <td>195.804603</td>\n",
       "      <td>0.1208</td>\n",
       "      <td>195.744203</td>\n",
       "      <td>195.729803</td>\n",
       "      <td>1.814641e+06</td>\n",
       "      <td>6817.911495</td>\n",
       "      <td>1295.059545</td>\n",
       "      <td>16835.774080</td>\n",
       "      <td>1629.288390</td>\n",
       "      <td>1675.378367</td>\n",
       "      <td>1995.634152</td>\n",
       "    </tr>\n",
       "    <tr>\n",
       "      <th>5</th>\n",
       "      <td>240.159358</td>\n",
       "      <td>240.225758</td>\n",
       "      <td>0.0664</td>\n",
       "      <td>240.192558</td>\n",
       "      <td>240.178958</td>\n",
       "      <td>8.621300e+05</td>\n",
       "      <td>6490.307593</td>\n",
       "      <td>1212.907491</td>\n",
       "      <td>15767.797384</td>\n",
       "      <td>1575.556100</td>\n",
       "      <td>1323.835739</td>\n",
       "      <td>1668.590650</td>\n",
       "    </tr>\n",
       "    <tr>\n",
       "      <th>...</th>\n",
       "      <td>...</td>\n",
       "      <td>...</td>\n",
       "      <td>...</td>\n",
       "      <td>...</td>\n",
       "      <td>...</td>\n",
       "      <td>...</td>\n",
       "      <td>...</td>\n",
       "      <td>...</td>\n",
       "      <td>...</td>\n",
       "      <td>...</td>\n",
       "      <td>...</td>\n",
       "      <td>...</td>\n",
       "    </tr>\n",
       "    <tr>\n",
       "      <th>659</th>\n",
       "      <td>7153.541206</td>\n",
       "      <td>7153.623206</td>\n",
       "      <td>0.0820</td>\n",
       "      <td>7153.582206</td>\n",
       "      <td>7153.562006</td>\n",
       "      <td>1.064825e+06</td>\n",
       "      <td>5921.576482</td>\n",
       "      <td>1139.380738</td>\n",
       "      <td>14811.949593</td>\n",
       "      <td>1352.435056</td>\n",
       "      <td>1310.604909</td>\n",
       "      <td>1587.718956</td>\n",
       "    </tr>\n",
       "    <tr>\n",
       "      <th>660</th>\n",
       "      <td>7177.377182</td>\n",
       "      <td>7177.452382</td>\n",
       "      <td>0.0752</td>\n",
       "      <td>7177.414782</td>\n",
       "      <td>7177.407582</td>\n",
       "      <td>9.330040e+05</td>\n",
       "      <td>5988.379570</td>\n",
       "      <td>1141.422545</td>\n",
       "      <td>14838.493089</td>\n",
       "      <td>1507.239235</td>\n",
       "      <td>1265.736957</td>\n",
       "      <td>1608.657031</td>\n",
       "    </tr>\n",
       "    <tr>\n",
       "      <th>661</th>\n",
       "      <td>7187.976372</td>\n",
       "      <td>7188.066772</td>\n",
       "      <td>0.0904</td>\n",
       "      <td>7188.021572</td>\n",
       "      <td>7188.021572</td>\n",
       "      <td>1.004013e+06</td>\n",
       "      <td>5271.781748</td>\n",
       "      <td>1022.334615</td>\n",
       "      <td>13290.349997</td>\n",
       "      <td>1276.595171</td>\n",
       "      <td>940.310951</td>\n",
       "      <td>1085.543914</td>\n",
       "    </tr>\n",
       "    <tr>\n",
       "      <th>662</th>\n",
       "      <td>7190.097970</td>\n",
       "      <td>7190.339169</td>\n",
       "      <td>0.2412</td>\n",
       "      <td>7190.218570</td>\n",
       "      <td>7190.299569</td>\n",
       "      <td>2.115785e+06</td>\n",
       "      <td>6199.625109</td>\n",
       "      <td>854.204330</td>\n",
       "      <td>11104.656293</td>\n",
       "      <td>981.322167</td>\n",
       "      <td>1421.512189</td>\n",
       "      <td>1643.640018</td>\n",
       "    </tr>\n",
       "    <tr>\n",
       "      <th>663</th>\n",
       "      <td>7198.633961</td>\n",
       "      <td>7198.723161</td>\n",
       "      <td>0.0892</td>\n",
       "      <td>7198.678561</td>\n",
       "      <td>7198.667561</td>\n",
       "      <td>1.394085e+06</td>\n",
       "      <td>8211.316122</td>\n",
       "      <td>1353.214370</td>\n",
       "      <td>17591.786806</td>\n",
       "      <td>1654.216149</td>\n",
       "      <td>1492.796858</td>\n",
       "      <td>1815.299458</td>\n",
       "    </tr>\n",
       "  </tbody>\n",
       "</table>\n",
       "<p>663 rows × 12 columns</p>\n",
       "</div>"
      ],
      "text/plain": [
       "             start_time     end_time  duration  center_time   nadir_time  \\\n",
       "spw_number                                                                 \n",
       "1             87.180712    87.341112    0.1604    87.260912    87.245112   \n",
       "2            111.071488   111.267088    0.1956   111.169288   111.131888   \n",
       "3            187.069812   187.143012    0.0732   187.106412   187.102612   \n",
       "4            195.683803   195.804603    0.1208   195.744203   195.729803   \n",
       "5            240.159358   240.225758    0.0664   240.192558   240.178958   \n",
       "...                 ...          ...       ...          ...          ...   \n",
       "659         7153.541206  7153.623206    0.0820  7153.582206  7153.562006   \n",
       "660         7177.377182  7177.452382    0.0752  7177.414782  7177.407582   \n",
       "661         7187.976372  7188.066772    0.0904  7188.021572  7188.021572   \n",
       "662         7190.097970  7190.339169    0.2412  7190.218570  7190.299569   \n",
       "663         7198.633961  7198.723161    0.0892  7198.678561  7198.667561   \n",
       "\n",
       "            envelope_integral  envelope_peak     mean_rms    summed_rms  \\\n",
       "spw_number                                                                \n",
       "1                2.074016e+06    6038.730307  1127.940209  14663.222714   \n",
       "2                2.137053e+06    5199.039163   980.637062  12748.281806   \n",
       "3                8.543671e+05    5060.473777  1059.737657  13776.589536   \n",
       "4                1.814641e+06    6817.911495  1295.059545  16835.774080   \n",
       "5                8.621300e+05    6490.307593  1212.907491  15767.797384   \n",
       "...                       ...            ...          ...           ...   \n",
       "659              1.064825e+06    5921.576482  1139.380738  14811.949593   \n",
       "660              9.330040e+05    5988.379570  1141.422545  14838.493089   \n",
       "661              1.004013e+06    5271.781748  1022.334615  13290.349997   \n",
       "662              2.115785e+06    6199.625109   854.204330  11104.656293   \n",
       "663              1.394085e+06    8211.316122  1353.214370  17591.786806   \n",
       "\n",
       "                max_rms  mean_amplitude  max_amplitude  \n",
       "spw_number                                              \n",
       "1           1391.427326     1357.071843    1587.116379  \n",
       "2           1232.776487     1145.277519    1413.523050  \n",
       "3           1376.463334     1134.135785    1435.018190  \n",
       "4           1629.288390     1675.378367    1995.634152  \n",
       "5           1575.556100     1323.835739    1668.590650  \n",
       "...                 ...             ...            ...  \n",
       "659         1352.435056     1310.604909    1587.718956  \n",
       "660         1507.239235     1265.736957    1608.657031  \n",
       "661         1276.595171      940.310951    1085.543914  \n",
       "662          981.322167     1421.512189    1643.640018  \n",
       "663         1654.216149     1492.796858    1815.299458  \n",
       "\n",
       "[663 rows x 12 columns]"
      ]
     },
     "execution_count": 41,
     "metadata": {},
     "output_type": "execute_result"
    }
   ],
   "source": [
    "spw_times"
   ]
  },
  {
   "cell_type": "code",
   "execution_count": 44,
   "metadata": {
    "execution": {
     "iopub.execute_input": "2020-11-26T01:41:50.246643Z",
     "iopub.status.busy": "2020-11-26T01:41:50.246211Z",
     "iopub.status.idle": "2020-11-26T01:42:08.675345Z",
     "shell.execute_reply": "2020-11-26T01:42:08.674787Z",
     "shell.execute_reply.started": "2020-11-26T01:41:50.246587Z"
    }
   },
   "outputs": [
    {
     "data": {
      "application/vnd.jupyter.widget-view+json": {
       "model_id": "f4a9354e46d94db2817c65cef5cc2fc2",
       "version_major": 2,
       "version_minor": 0
      },
      "text/plain": [
       "Canvas(toolbar=Toolbar(toolitems=[('Home', 'Reset original view', 'home', 'home'), ('Back', 'Back to previous …"
      ]
     },
     "metadata": {},
     "output_type": "display_data"
    },
    {
     "data": {
      "application/vnd.jupyter.widget-view+json": {
       "model_id": "7bd3d3062f7f4989b814f06facc63cdf",
       "version_major": 2,
       "version_minor": 0
      },
      "text/plain": [
       "interactive(children=(FloatSlider(value=1.0, description='window_length', max=2.0, min=0.25, step=0.25), IntSl…"
      ]
     },
     "metadata": {},
     "output_type": "display_data"
    }
   ],
   "source": [
    "from ecephys.plot import plot_ripple\n",
    "\n",
    "from ipywidgets import (\n",
    "    fixed,\n",
    "    interact,\n",
    ")\n",
    "\n",
    "_, ax = plt.subplots(3, 1, figsize=(18, 6))\n",
    "_ = interact(\n",
    "    plot_ripple,\n",
    "    time=fixed(time),\n",
    "    lfps=fixed(sr_lfps),\n",
    "    filtered_lfps=fixed(filtered_sr_lfps.T),\n",
    "    fs=fixed(fs),\n",
    "    ripple_times=fixed(spw_times),\n",
    "    window_length=(0.25, 2, 0.25),\n",
    "    ripple_number=(1, len(spw_times), 1),\n",
    "    ax=fixed(ax),\n",
    ")"
   ]
  },
  {
   "cell_type": "markdown",
   "metadata": {},
   "source": [
    "## Detection type II: CSD"
   ]
  },
  {
   "cell_type": "code",
   "execution_count": 16,
   "metadata": {
    "execution": {
     "iopub.execute_input": "2020-11-26T00:59:26.580798Z",
     "iopub.status.busy": "2020-11-26T00:59:26.580370Z",
     "iopub.status.idle": "2020-11-26T00:59:38.979199Z",
     "shell.execute_reply": "2020-11-26T00:59:38.978577Z",
     "shell.execute_reply.started": "2020-11-26T00:59:26.580743Z"
    }
   },
   "outputs": [],
   "source": [
    "hpc_csd, estm_x = kcsd_npix(hpc_lfps)"
   ]
  },
  {
   "cell_type": "code",
   "execution_count": 17,
   "metadata": {
    "execution": {
     "iopub.execute_input": "2020-11-26T00:59:39.005462Z",
     "iopub.status.busy": "2020-11-26T00:59:39.005311Z",
     "iopub.status.idle": "2020-11-26T01:00:34.813067Z",
     "shell.execute_reply": "2020-11-26T01:00:34.812473Z",
     "shell.execute_reply.started": "2020-11-26T00:59:39.005443Z"
    }
   },
   "outputs": [
    {
     "data": {
      "application/vnd.jupyter.widget-view+json": {
       "model_id": "54f00949b55b46f18552347e35a0841d",
       "version_major": 2,
       "version_minor": 0
      },
      "text/plain": [
       "Canvas(toolbar=Toolbar(toolitems=[('Home', 'Reset original view', 'home', 'home'), ('Back', 'Back to previous …"
      ]
     },
     "metadata": {},
     "output_type": "display_data"
    },
    {
     "data": {
      "application/vnd.jupyter.widget-view+json": {
       "model_id": "3ddc605a40e24fc799128172d39a0a1e",
       "version_major": 2,
       "version_minor": 0
      },
      "text/plain": [
       "HBox(children=(FloatSlider(value=1.0, description='Secs', max=4.0, min=0.25, step=0.25), BoundedFloatText(valu…"
      ]
     },
     "metadata": {},
     "output_type": "display_data"
    },
    {
     "data": {
      "application/vnd.jupyter.widget-view+json": {
       "model_id": "d05d5d77f0254aa196fbb87e07aee66b",
       "version_major": 2,
       "version_minor": 0
      },
      "text/plain": [
       "Output()"
      ]
     },
     "metadata": {},
     "output_type": "display_data"
    }
   ],
   "source": [
    "plot_timeseries_interactive(time, hpc_csd.T)"
   ]
  },
  {
   "cell_type": "code",
   "execution_count": 23,
   "metadata": {
    "execution": {
     "iopub.execute_input": "2020-11-26T01:14:00.999453Z",
     "iopub.status.busy": "2020-11-26T01:14:00.999017Z",
     "iopub.status.idle": "2020-11-26T01:15:43.198731Z",
     "shell.execute_reply": "2020-11-26T01:15:43.197650Z",
     "shell.execute_reply.started": "2020-11-26T01:14:00.999398Z"
    }
   },
   "outputs": [],
   "source": [
    "from ripple_detection.core import gaussian_smooth\n",
    "\n",
    "smoothed_hpc_csd = gaussian_smooth(hpc_csd.T, 0.002, fs)"
   ]
  },
  {
   "cell_type": "code",
   "execution_count": 24,
   "metadata": {
    "execution": {
     "iopub.execute_input": "2020-11-26T01:15:43.233268Z",
     "iopub.status.busy": "2020-11-26T01:15:43.233101Z",
     "iopub.status.idle": "2020-11-26T01:16:42.516731Z",
     "shell.execute_reply": "2020-11-26T01:16:42.515578Z",
     "shell.execute_reply.started": "2020-11-26T01:15:43.233247Z"
    }
   },
   "outputs": [
    {
     "data": {
      "application/vnd.jupyter.widget-view+json": {
       "model_id": "84d666e32cbe4450b4d3820b199450d7",
       "version_major": 2,
       "version_minor": 0
      },
      "text/plain": [
       "Canvas(toolbar=Toolbar(toolitems=[('Home', 'Reset original view', 'home', 'home'), ('Back', 'Back to previous …"
      ]
     },
     "metadata": {},
     "output_type": "display_data"
    },
    {
     "data": {
      "application/vnd.jupyter.widget-view+json": {
       "model_id": "7662ce93306f47eb90020e6e30411c72",
       "version_major": 2,
       "version_minor": 0
      },
      "text/plain": [
       "HBox(children=(FloatSlider(value=1.0, description='Secs', max=4.0, min=0.25, step=0.25), BoundedFloatText(valu…"
      ]
     },
     "metadata": {},
     "output_type": "display_data"
    },
    {
     "data": {
      "application/vnd.jupyter.widget-view+json": {
       "model_id": "7d7341c787184784bb4764e346f93bc9",
       "version_major": 2,
       "version_minor": 0
      },
      "text/plain": [
       "Output()"
      ]
     },
     "metadata": {},
     "output_type": "display_data"
    }
   ],
   "source": [
    "plot_timeseries_interactive(time, smoothed_hpc_csd)"
   ]
  },
  {
   "cell_type": "code",
   "execution_count": 12,
   "metadata": {
    "execution": {
     "iopub.execute_input": "2020-11-26T00:36:05.115371Z",
     "iopub.status.busy": "2020-11-26T00:36:05.114908Z",
     "iopub.status.idle": "2020-11-26T00:38:41.132923Z",
     "shell.execute_reply": "2020-11-26T00:38:41.131783Z",
     "shell.execute_reply.started": "2020-11-26T00:36:05.115315Z"
    }
   },
   "outputs": [],
   "source": [
    "f_range = (None, 20)\n",
    "filtered_hpc_lfps = filter_signal(hpc_lfps.T, fs, 'lowpass', f_range)"
   ]
  },
  {
   "cell_type": "code",
   "execution_count": 13,
   "metadata": {
    "execution": {
     "iopub.execute_input": "2020-11-26T00:38:53.549196Z",
     "iopub.status.busy": "2020-11-26T00:38:53.548880Z",
     "iopub.status.idle": "2020-11-26T00:39:04.661295Z",
     "shell.execute_reply": "2020-11-26T00:39:04.660709Z",
     "shell.execute_reply.started": "2020-11-26T00:38:53.549157Z"
    }
   },
   "outputs": [],
   "source": [
    "filtered_hpc_csd, estm_x = kcsd_npix(filtered_hpc_lfps.T)"
   ]
  },
  {
   "cell_type": "code",
   "execution_count": 15,
   "metadata": {
    "execution": {
     "iopub.execute_input": "2020-11-26T00:44:47.844300Z",
     "iopub.status.busy": "2020-11-26T00:44:47.843871Z",
     "iopub.status.idle": "2020-11-26T00:45:50.660166Z",
     "shell.execute_reply": "2020-11-26T00:45:50.659508Z",
     "shell.execute_reply.started": "2020-11-26T00:44:47.844245Z"
    }
   },
   "outputs": [
    {
     "data": {
      "application/vnd.jupyter.widget-view+json": {
       "model_id": "2d2c39798d034c329d4c2cdd22d85c61",
       "version_major": 2,
       "version_minor": 0
      },
      "text/plain": [
       "Canvas(toolbar=Toolbar(toolitems=[('Home', 'Reset original view', 'home', 'home'), ('Back', 'Back to previous …"
      ]
     },
     "metadata": {},
     "output_type": "display_data"
    },
    {
     "data": {
      "application/vnd.jupyter.widget-view+json": {
       "model_id": "65e2ae40385d4282a8cf454f8c9d2e6f",
       "version_major": 2,
       "version_minor": 0
      },
      "text/plain": [
       "HBox(children=(FloatSlider(value=1.0, description='Secs', max=4.0, min=0.25, step=0.25), BoundedFloatText(valu…"
      ]
     },
     "metadata": {},
     "output_type": "display_data"
    },
    {
     "data": {
      "application/vnd.jupyter.widget-view+json": {
       "model_id": "ab6db881a49d4590beae19fcb115dbac",
       "version_major": 2,
       "version_minor": 0
      },
      "text/plain": [
       "Output()"
      ]
     },
     "metadata": {},
     "output_type": "display_data"
    }
   ],
   "source": [
    "plot_timeseries_interactive(time, filtered_hpc_csd.T)"
   ]
  },
  {
   "cell_type": "code",
   "execution_count": null,
   "metadata": {},
   "outputs": [],
   "source": []
  }
 ],
 "metadata": {
  "kernelspec": {
   "display_name": "Python 3",
   "language": "python",
   "name": "python3"
  },
  "language_info": {
   "codemirror_mode": {
    "name": "ipython",
    "version": 3
   },
   "file_extension": ".py",
   "mimetype": "text/x-python",
   "name": "python",
   "nbconvert_exporter": "python",
   "pygments_lexer": "ipython3",
   "version": "3.7.9"
  }
 },
 "nbformat": 4,
 "nbformat_minor": 4
}
