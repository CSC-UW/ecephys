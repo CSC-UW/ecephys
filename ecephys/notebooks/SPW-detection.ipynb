{
 "cells": [
  {
   "cell_type": "markdown",
   "metadata": {
    "execution": {
     "iopub.execute_input": "2020-11-30T16:00:22.289233Z",
     "iopub.status.busy": "2020-11-30T16:00:22.288802Z",
     "iopub.status.idle": "2020-11-30T16:00:22.305803Z",
     "shell.execute_reply": "2020-11-30T16:00:22.305354Z",
     "shell.execute_reply.started": "2020-11-30T16:00:22.289179Z"
    }
   },
   "source": [
    "## Imports and notebook definition"
   ]
  },
  {
   "cell_type": "code",
   "execution_count": 1,
   "metadata": {
    "execution": {
     "iopub.execute_input": "2020-11-30T20:22:27.880442Z",
     "iopub.status.busy": "2020-11-30T20:22:27.880210Z",
     "iopub.status.idle": "2020-11-30T20:22:27.894090Z",
     "shell.execute_reply": "2020-11-30T20:22:27.893572Z",
     "shell.execute_reply.started": "2020-11-30T20:22:27.880419Z"
    }
   },
   "outputs": [],
   "source": [
    "%load_ext autoreload\n",
    "%autoreload 2"
   ]
  },
  {
   "cell_type": "code",
   "execution_count": 2,
   "metadata": {
    "execution": {
     "iopub.execute_input": "2020-11-30T20:22:28.725199Z",
     "iopub.status.busy": "2020-11-30T20:22:28.724982Z",
     "iopub.status.idle": "2020-11-30T20:22:28.874175Z",
     "shell.execute_reply": "2020-11-30T20:22:28.873410Z",
     "shell.execute_reply.started": "2020-11-30T20:22:28.725172Z"
    }
   },
   "outputs": [],
   "source": [
    "%matplotlib widget\n",
    "import matplotlib.pyplot as plt"
   ]
  },
  {
   "cell_type": "code",
   "execution_count": 3,
   "metadata": {
    "execution": {
     "iopub.execute_input": "2020-11-30T20:22:29.557285Z",
     "iopub.status.busy": "2020-11-30T20:22:29.557072Z",
     "iopub.status.idle": "2020-11-30T20:22:29.756807Z",
     "shell.execute_reply": "2020-11-30T20:22:29.756161Z",
     "shell.execute_reply.started": "2020-11-30T20:22:29.557260Z"
    }
   },
   "outputs": [],
   "source": [
    "from pathlib import Path\n",
    "import numpy as np\n",
    "import pandas as pd\n",
    "from neurodsp.filt import filter_signal\n",
    "from ecephys.signal.csd import kcsd_npix"
   ]
  },
  {
   "cell_type": "code",
   "execution_count": 95,
   "metadata": {
    "execution": {
     "iopub.execute_input": "2020-12-01T00:19:34.946525Z",
     "iopub.status.busy": "2020-12-01T00:19:34.946053Z",
     "iopub.status.idle": "2020-12-01T00:19:34.965433Z",
     "shell.execute_reply": "2020-12-01T00:19:34.964678Z",
     "shell.execute_reply.started": "2020-12-01T00:19:34.946468Z"
    }
   },
   "outputs": [],
   "source": [
    "from ecephys.data import paths, channel_groups\n",
    "from ecephys.sglx_utils import load_timeseries\n",
    "from ecephys.helpers.utils import store_df_h5\n",
    "from ecephys.scoring import load_visbrain_hypnogram\n",
    "import ecephys.plot as eplt"
   ]
  },
  {
   "cell_type": "code",
   "execution_count": 274,
   "metadata": {
    "execution": {
     "iopub.execute_input": "2020-12-03T21:53:21.045042Z",
     "iopub.status.busy": "2020-12-03T21:53:21.044618Z",
     "iopub.status.idle": "2020-12-03T21:53:21.060689Z",
     "shell.execute_reply": "2020-12-03T21:53:21.059792Z",
     "shell.execute_reply.started": "2020-12-03T21:53:21.044985Z"
    }
   },
   "outputs": [],
   "source": [
    "condition = \"pre-SR\"\n",
    "subject = \"Doppio\""
   ]
  },
  {
   "cell_type": "markdown",
   "metadata": {},
   "source": [
    "## Load the data"
   ]
  },
  {
   "cell_type": "code",
   "execution_count": 275,
   "metadata": {
    "execution": {
     "iopub.execute_input": "2020-12-03T21:53:22.409994Z",
     "iopub.status.busy": "2020-12-03T21:53:22.409544Z",
     "iopub.status.idle": "2020-12-03T21:53:22.428109Z",
     "shell.execute_reply": "2020-12-03T21:53:22.427565Z",
     "shell.execute_reply.started": "2020-12-03T21:53:22.409939Z"
    }
   },
   "outputs": [],
   "source": [
    "sr_chans = channel_groups.stratum_radiatum_140um_to_200um[subject]\n",
    "so_chans = channel_groups.stratum_oriens_100um[subject]\n",
    "hpc_chans = channel_groups.hippocampus[subject]\n",
    "bin_path = Path(paths.lfp_bin[condition][subject])"
   ]
  },
  {
   "cell_type": "code",
   "execution_count": 25,
   "metadata": {
    "execution": {
     "iopub.execute_input": "2020-11-26T01:22:54.398634Z",
     "iopub.status.busy": "2020-11-26T01:22:54.398187Z",
     "iopub.status.idle": "2020-11-26T01:24:59.891734Z",
     "shell.execute_reply": "2020-11-26T01:24:59.890951Z",
     "shell.execute_reply.started": "2020-11-26T01:22:54.398577Z"
    }
   },
   "outputs": [
    {
     "name": "stdout",
     "output_type": "stream",
     "text": [
      "nChan: 385, nFileSamp: 18000019\n"
     ]
    }
   ],
   "source": [
    "(time, sr_lfps, fs) = load_timeseries(bin_path, sr_chans, start_time=None, end_time=None)"
   ]
  },
  {
   "cell_type": "code",
   "execution_count": 26,
   "metadata": {
    "execution": {
     "iopub.execute_input": "2020-11-26T01:24:59.916507Z",
     "iopub.status.busy": "2020-11-26T01:24:59.916382Z",
     "iopub.status.idle": "2020-11-26T01:27:01.177026Z",
     "shell.execute_reply": "2020-11-26T01:27:01.175849Z",
     "shell.execute_reply.started": "2020-11-26T01:24:59.916492Z"
    }
   },
   "outputs": [
    {
     "name": "stdout",
     "output_type": "stream",
     "text": [
      "nChan: 385, nFileSamp: 18000019\n"
     ]
    }
   ],
   "source": [
    "(time, so_lfps, fs) = load_timeseries(bin_path, so_chans, start_time=None, end_time=None)"
   ]
  },
  {
   "cell_type": "code",
   "execution_count": 276,
   "metadata": {
    "execution": {
     "iopub.execute_input": "2020-12-03T21:53:24.545581Z",
     "iopub.status.busy": "2020-12-03T21:53:24.545155Z",
     "iopub.status.idle": "2020-12-03T21:57:34.700020Z",
     "shell.execute_reply": "2020-12-03T21:57:34.698611Z",
     "shell.execute_reply.started": "2020-12-03T21:53:24.545525Z"
    }
   },
   "outputs": [
    {
     "name": "stdout",
     "output_type": "stream",
     "text": [
      "nChan: 385, nFileSamp: 18000019\n"
     ]
    }
   ],
   "source": [
    "(time, hpc_lfps, fs) = load_timeseries(bin_path, hpc_chans, start_time=None, end_time=None)"
   ]
  },
  {
   "cell_type": "markdown",
   "metadata": {
    "collapsed": "true"
   },
   "source": [
    "## Explore LFPs"
   ]
  },
  {
   "cell_type": "code",
   "execution_count": 13,
   "metadata": {
    "execution": {
     "iopub.execute_input": "2020-11-25T19:40:29.050019Z",
     "iopub.status.busy": "2020-11-25T19:40:29.049450Z",
     "iopub.status.idle": "2020-11-25T19:40:38.341631Z",
     "shell.execute_reply": "2020-11-25T19:40:38.340858Z",
     "shell.execute_reply.started": "2020-11-25T19:40:29.049958Z"
    }
   },
   "outputs": [
    {
     "data": {
      "application/vnd.jupyter.widget-view+json": {
       "model_id": "32e2a2a4b43545b58a4e10e4bf0f23ef",
       "version_major": 2,
       "version_minor": 0
      },
      "text/plain": [
       "Canvas(toolbar=Toolbar(toolitems=[('Home', 'Reset original view', 'home', 'home'), ('Back', 'Back to previous …"
      ]
     },
     "metadata": {},
     "output_type": "display_data"
    },
    {
     "data": {
      "application/vnd.jupyter.widget-view+json": {
       "model_id": "64a6a1be51964c6491cb4d6e18e90018",
       "version_major": 2,
       "version_minor": 0
      },
      "text/plain": [
       "HBox(children=(FloatSlider(value=1.0, description='Secs', max=4.0, min=0.25, step=0.25), BoundedFloatText(valu…"
      ]
     },
     "metadata": {},
     "output_type": "display_data"
    },
    {
     "data": {
      "application/vnd.jupyter.widget-view+json": {
       "model_id": "1c2fd8112ddf4c0f97fc8ffede022000",
       "version_major": 2,
       "version_minor": 0
      },
      "text/plain": [
       "Output()"
      ]
     },
     "metadata": {},
     "output_type": "display_data"
    }
   ],
   "source": [
    "plot_timeseries_interactive(time, sr_lfps, chan_labels=sr_chans)"
   ]
  },
  {
   "cell_type": "code",
   "execution_count": 12,
   "metadata": {
    "execution": {
     "iopub.execute_input": "2020-11-25T19:40:25.339570Z",
     "iopub.status.busy": "2020-11-25T19:40:25.339012Z",
     "iopub.status.idle": "2020-11-25T19:40:26.436824Z",
     "shell.execute_reply": "2020-11-25T19:40:26.436080Z",
     "shell.execute_reply.started": "2020-11-25T19:40:25.339505Z"
    }
   },
   "outputs": [],
   "source": [
    "lfps = (sr_lfps.T - so_lfps.T).T"
   ]
  },
  {
   "cell_type": "code",
   "execution_count": 14,
   "metadata": {
    "execution": {
     "iopub.execute_input": "2020-11-25T19:41:49.444981Z",
     "iopub.status.busy": "2020-11-25T19:41:49.444414Z",
     "iopub.status.idle": "2020-11-25T19:41:57.823708Z",
     "shell.execute_reply": "2020-11-25T19:41:57.822739Z",
     "shell.execute_reply.started": "2020-11-25T19:41:49.444917Z"
    }
   },
   "outputs": [
    {
     "data": {
      "application/vnd.jupyter.widget-view+json": {
       "model_id": "3ed8f06a37234a4aaa5dd3cc7a76d0ea",
       "version_major": 2,
       "version_minor": 0
      },
      "text/plain": [
       "Canvas(toolbar=Toolbar(toolitems=[('Home', 'Reset original view', 'home', 'home'), ('Back', 'Back to previous …"
      ]
     },
     "metadata": {},
     "output_type": "display_data"
    },
    {
     "data": {
      "application/vnd.jupyter.widget-view+json": {
       "model_id": "0934fb4455d74e48a14cf9651690dd5d",
       "version_major": 2,
       "version_minor": 0
      },
      "text/plain": [
       "HBox(children=(FloatSlider(value=1.0, description='Secs', max=4.0, min=0.25, step=0.25), BoundedFloatText(valu…"
      ]
     },
     "metadata": {},
     "output_type": "display_data"
    },
    {
     "data": {
      "application/vnd.jupyter.widget-view+json": {
       "model_id": "b95a3dca03d54fff8e952f95b0764cf7",
       "version_major": 2,
       "version_minor": 0
      },
      "text/plain": [
       "Output()"
      ]
     },
     "metadata": {},
     "output_type": "display_data"
    }
   ],
   "source": [
    "plot_timeseries_interactive(time, lfps, chan_labels=sr_chans)"
   ]
  },
  {
   "cell_type": "markdown",
   "metadata": {
    "collapsed": "true"
   },
   "source": [
    "## Filter signal"
   ]
  },
  {
   "cell_type": "code",
   "execution_count": 73,
   "metadata": {
    "execution": {
     "iopub.execute_input": "2020-11-26T17:25:31.227739Z",
     "iopub.status.busy": "2020-11-26T17:25:31.227299Z",
     "iopub.status.idle": "2020-11-26T17:28:16.867623Z",
     "shell.execute_reply": "2020-11-26T17:28:16.866862Z",
     "shell.execute_reply.started": "2020-11-26T17:25:31.227683Z"
    }
   },
   "outputs": [],
   "source": [
    "f_range = (2, 35)\n",
    "filtered_sr_lfps = filter_signal(sr_lfps.T, fs, 'bandpass', f_range)"
   ]
  },
  {
   "cell_type": "code",
   "execution_count": 74,
   "metadata": {
    "execution": {
     "iopub.execute_input": "2020-11-26T17:28:16.911557Z",
     "iopub.status.busy": "2020-11-26T17:28:16.911434Z",
     "iopub.status.idle": "2020-11-26T17:28:24.841453Z",
     "shell.execute_reply": "2020-11-26T17:28:24.840836Z",
     "shell.execute_reply.started": "2020-11-26T17:28:16.911542Z"
    }
   },
   "outputs": [
    {
     "data": {
      "application/vnd.jupyter.widget-view+json": {
       "model_id": "b396f3cb7bb746bba93ca7563e03fcda",
       "version_major": 2,
       "version_minor": 0
      },
      "text/plain": [
       "Canvas(toolbar=Toolbar(toolitems=[('Home', 'Reset original view', 'home', 'home'), ('Back', 'Back to previous …"
      ]
     },
     "metadata": {},
     "output_type": "display_data"
    },
    {
     "data": {
      "application/vnd.jupyter.widget-view+json": {
       "model_id": "eb2e1371ee1e4c8f943015339d5a5506",
       "version_major": 2,
       "version_minor": 0
      },
      "text/plain": [
       "HBox(children=(FloatSlider(value=1.0, description='Secs', max=4.0, min=0.25, step=0.25), BoundedFloatText(valu…"
      ]
     },
     "metadata": {},
     "output_type": "display_data"
    },
    {
     "data": {
      "application/vnd.jupyter.widget-view+json": {
       "model_id": "2d5ef4e5a86a4da89f355b5ae1c52094",
       "version_major": 2,
       "version_minor": 0
      },
      "text/plain": [
       "Output()"
      ]
     },
     "metadata": {},
     "output_type": "display_data"
    }
   ],
   "source": [
    "plot_timeseries_interactive(time, filtered_sr_lfps.T, chan_labels=sr_chans)"
   ]
  },
  {
   "cell_type": "markdown",
   "metadata": {
    "collapsed": "true"
   },
   "source": [
    "## Detection type I: Thresholding LFP negativity by Z-score"
   ]
  },
  {
   "cell_type": "code",
   "execution_count": 94,
   "metadata": {
    "execution": {
     "iopub.execute_input": "2020-11-26T19:38:53.274202Z",
     "iopub.status.busy": "2020-11-26T19:38:53.273726Z",
     "iopub.status.idle": "2020-11-26T19:41:31.662588Z",
     "shell.execute_reply": "2020-11-26T19:41:31.661379Z",
     "shell.execute_reply.started": "2020-11-26T19:38:53.274125Z"
    }
   },
   "outputs": [],
   "source": [
    "from ecephys.signal.ripples import _threshold_by_zscore\n",
    "from ripple_detection.core import get_envelope\n",
    "\n",
    "filtered_lfps = -filtered_sr_lfps.T\n",
    "filtered_lfps[filtered_lfps < 0] = 0\n",
    "not_null = np.all(pd.notnull(filtered_lfps), axis=1)\n",
    "filtered_lfps, _time = (filtered_lfps[not_null], time[not_null])\n",
    "combined_filtered_lfps = np.sum(filtered_lfps, axis=1)\n",
    "\n",
    "candidate_spw_times = _threshold_by_zscore(\n",
    "    combined_filtered_lfps,\n",
    "    _time,\n",
    "    minimum_duration=0.005,\n",
    "    detection_zscore_threshold=3,\n",
    "    boundary_zscore_threshold=1,\n",
    ")\n",
    "\n",
    "index = pd.Index(np.arange(len(candidate_spw_times)) + 1, name=\"spw_number\")\n",
    "spw_times = pd.DataFrame(candidate_spw_times, columns=[\"start_time\", \"end_time\"], index=index)"
   ]
  },
  {
   "cell_type": "code",
   "execution_count": 95,
   "metadata": {
    "execution": {
     "iopub.execute_input": "2020-11-26T19:41:31.720387Z",
     "iopub.status.busy": "2020-11-26T19:41:31.720262Z",
     "iopub.status.idle": "2020-11-26T19:53:37.878918Z",
     "shell.execute_reply": "2020-11-26T19:53:37.877736Z",
     "shell.execute_reply.started": "2020-11-26T19:41:31.720372Z"
    }
   },
   "outputs": [],
   "source": [
    "from ecephys.signal.ripples import compute_ripple_features\n",
    "\n",
    "spw_times = compute_ripple_features(_time, filtered_lfps, spw_times, fs, 'Kay', smoothing_sigma=0.0)"
   ]
  },
  {
   "cell_type": "code",
   "execution_count": 96,
   "metadata": {
    "execution": {
     "iopub.execute_input": "2020-11-26T19:53:37.880144Z",
     "iopub.status.busy": "2020-11-26T19:53:37.879999Z",
     "iopub.status.idle": "2020-11-26T19:53:37.904867Z",
     "shell.execute_reply": "2020-11-26T19:53:37.904139Z",
     "shell.execute_reply.started": "2020-11-26T19:53:37.880126Z"
    }
   },
   "outputs": [
    {
     "data": {
      "text/html": [
       "<div>\n",
       "<style scoped>\n",
       "    .dataframe tbody tr th:only-of-type {\n",
       "        vertical-align: middle;\n",
       "    }\n",
       "\n",
       "    .dataframe tbody tr th {\n",
       "        vertical-align: top;\n",
       "    }\n",
       "\n",
       "    .dataframe thead th {\n",
       "        text-align: right;\n",
       "    }\n",
       "</style>\n",
       "<table border=\"1\" class=\"dataframe\">\n",
       "  <thead>\n",
       "    <tr style=\"text-align: right;\">\n",
       "      <th></th>\n",
       "      <th>start_time</th>\n",
       "      <th>end_time</th>\n",
       "      <th>duration</th>\n",
       "      <th>center_time</th>\n",
       "      <th>nadir_time</th>\n",
       "      <th>envelope_integral</th>\n",
       "      <th>envelope_peak</th>\n",
       "      <th>mean_rms</th>\n",
       "      <th>summed_rms</th>\n",
       "      <th>max_rms</th>\n",
       "      <th>mean_amplitude</th>\n",
       "      <th>max_amplitude</th>\n",
       "    </tr>\n",
       "    <tr>\n",
       "      <th>spw_number</th>\n",
       "      <th></th>\n",
       "      <th></th>\n",
       "      <th></th>\n",
       "      <th></th>\n",
       "      <th></th>\n",
       "      <th></th>\n",
       "      <th></th>\n",
       "      <th></th>\n",
       "      <th></th>\n",
       "      <th></th>\n",
       "      <th></th>\n",
       "      <th></th>\n",
       "    </tr>\n",
       "  </thead>\n",
       "  <tbody>\n",
       "    <tr>\n",
       "      <th>1</th>\n",
       "      <td>47.021553</td>\n",
       "      <td>47.048353</td>\n",
       "      <td>0.0268</td>\n",
       "      <td>47.034953</td>\n",
       "      <td>47.021553</td>\n",
       "      <td>166371.545583</td>\n",
       "      <td>2652.641939</td>\n",
       "      <td>584.854823</td>\n",
       "      <td>7603.112701</td>\n",
       "      <td>742.045104</td>\n",
       "      <td>526.215469</td>\n",
       "      <td>715.590225</td>\n",
       "    </tr>\n",
       "    <tr>\n",
       "      <th>2</th>\n",
       "      <td>73.973126</td>\n",
       "      <td>74.013126</td>\n",
       "      <td>0.0400</td>\n",
       "      <td>73.993126</td>\n",
       "      <td>74.013126</td>\n",
       "      <td>269764.957808</td>\n",
       "      <td>3110.843671</td>\n",
       "      <td>636.294686</td>\n",
       "      <td>8271.830917</td>\n",
       "      <td>727.651448</td>\n",
       "      <td>639.632100</td>\n",
       "      <td>740.460225</td>\n",
       "    </tr>\n",
       "    <tr>\n",
       "      <th>3</th>\n",
       "      <td>87.201112</td>\n",
       "      <td>87.301112</td>\n",
       "      <td>0.1000</td>\n",
       "      <td>87.251112</td>\n",
       "      <td>87.301112</td>\n",
       "      <td>758746.360762</td>\n",
       "      <td>3490.477184</td>\n",
       "      <td>710.592883</td>\n",
       "      <td>9237.707485</td>\n",
       "      <td>875.846920</td>\n",
       "      <td>716.534301</td>\n",
       "      <td>834.688976</td>\n",
       "    </tr>\n",
       "    <tr>\n",
       "      <th>4</th>\n",
       "      <td>87.999512</td>\n",
       "      <td>88.027911</td>\n",
       "      <td>0.0284</td>\n",
       "      <td>88.013711</td>\n",
       "      <td>87.999512</td>\n",
       "      <td>200044.981153</td>\n",
       "      <td>3034.285481</td>\n",
       "      <td>649.571194</td>\n",
       "      <td>8444.425524</td>\n",
       "      <td>839.666150</td>\n",
       "      <td>701.843824</td>\n",
       "      <td>756.933179</td>\n",
       "    </tr>\n",
       "    <tr>\n",
       "      <th>5</th>\n",
       "      <td>90.935109</td>\n",
       "      <td>90.964709</td>\n",
       "      <td>0.0296</td>\n",
       "      <td>90.949909</td>\n",
       "      <td>90.935109</td>\n",
       "      <td>181114.458519</td>\n",
       "      <td>2608.839470</td>\n",
       "      <td>580.888174</td>\n",
       "      <td>7551.546256</td>\n",
       "      <td>684.333483</td>\n",
       "      <td>439.888779</td>\n",
       "      <td>523.817146</td>\n",
       "    </tr>\n",
       "    <tr>\n",
       "      <th>...</th>\n",
       "      <td>...</td>\n",
       "      <td>...</td>\n",
       "      <td>...</td>\n",
       "      <td>...</td>\n",
       "      <td>...</td>\n",
       "      <td>...</td>\n",
       "      <td>...</td>\n",
       "      <td>...</td>\n",
       "      <td>...</td>\n",
       "      <td>...</td>\n",
       "      <td>...</td>\n",
       "      <td>...</td>\n",
       "    </tr>\n",
       "    <tr>\n",
       "      <th>6631</th>\n",
       "      <td>7197.235162</td>\n",
       "      <td>7197.277562</td>\n",
       "      <td>0.0424</td>\n",
       "      <td>7197.256362</td>\n",
       "      <td>7197.235162</td>\n",
       "      <td>277196.371691</td>\n",
       "      <td>2831.149172</td>\n",
       "      <td>605.984285</td>\n",
       "      <td>7877.795705</td>\n",
       "      <td>770.190965</td>\n",
       "      <td>525.649443</td>\n",
       "      <td>720.915793</td>\n",
       "    </tr>\n",
       "    <tr>\n",
       "      <th>6632</th>\n",
       "      <td>7198.137562</td>\n",
       "      <td>7198.175562</td>\n",
       "      <td>0.0380</td>\n",
       "      <td>7198.156562</td>\n",
       "      <td>7198.175562</td>\n",
       "      <td>227876.350072</td>\n",
       "      <td>2609.146032</td>\n",
       "      <td>528.896318</td>\n",
       "      <td>6875.652135</td>\n",
       "      <td>911.672230</td>\n",
       "      <td>406.677231</td>\n",
       "      <td>789.213268</td>\n",
       "    </tr>\n",
       "    <tr>\n",
       "      <th>6633</th>\n",
       "      <td>7198.634761</td>\n",
       "      <td>7198.716761</td>\n",
       "      <td>0.0820</td>\n",
       "      <td>7198.675761</td>\n",
       "      <td>7198.634761</td>\n",
       "      <td>958930.913475</td>\n",
       "      <td>4978.687382</td>\n",
       "      <td>1065.828176</td>\n",
       "      <td>13855.766290</td>\n",
       "      <td>1297.673928</td>\n",
       "      <td>1220.742873</td>\n",
       "      <td>1406.807306</td>\n",
       "    </tr>\n",
       "    <tr>\n",
       "      <th>6634</th>\n",
       "      <td>7199.073961</td>\n",
       "      <td>7199.127161</td>\n",
       "      <td>0.0532</td>\n",
       "      <td>7199.100561</td>\n",
       "      <td>7199.127161</td>\n",
       "      <td>404512.767081</td>\n",
       "      <td>3689.438886</td>\n",
       "      <td>710.093005</td>\n",
       "      <td>9231.209062</td>\n",
       "      <td>886.255519</td>\n",
       "      <td>720.032279</td>\n",
       "      <td>876.217046</td>\n",
       "    </tr>\n",
       "    <tr>\n",
       "      <th>6635</th>\n",
       "      <td>7199.173961</td>\n",
       "      <td>7199.213560</td>\n",
       "      <td>0.0396</td>\n",
       "      <td>7199.193760</td>\n",
       "      <td>7199.173961</td>\n",
       "      <td>434435.538962</td>\n",
       "      <td>4975.873677</td>\n",
       "      <td>958.042762</td>\n",
       "      <td>12454.555907</td>\n",
       "      <td>1179.924907</td>\n",
       "      <td>1075.709357</td>\n",
       "      <td>1371.275539</td>\n",
       "    </tr>\n",
       "  </tbody>\n",
       "</table>\n",
       "<p>6635 rows × 12 columns</p>\n",
       "</div>"
      ],
      "text/plain": [
       "             start_time     end_time  duration  center_time   nadir_time  \\\n",
       "spw_number                                                                 \n",
       "1             47.021553    47.048353    0.0268    47.034953    47.021553   \n",
       "2             73.973126    74.013126    0.0400    73.993126    74.013126   \n",
       "3             87.201112    87.301112    0.1000    87.251112    87.301112   \n",
       "4             87.999512    88.027911    0.0284    88.013711    87.999512   \n",
       "5             90.935109    90.964709    0.0296    90.949909    90.935109   \n",
       "...                 ...          ...       ...          ...          ...   \n",
       "6631        7197.235162  7197.277562    0.0424  7197.256362  7197.235162   \n",
       "6632        7198.137562  7198.175562    0.0380  7198.156562  7198.175562   \n",
       "6633        7198.634761  7198.716761    0.0820  7198.675761  7198.634761   \n",
       "6634        7199.073961  7199.127161    0.0532  7199.100561  7199.127161   \n",
       "6635        7199.173961  7199.213560    0.0396  7199.193760  7199.173961   \n",
       "\n",
       "            envelope_integral  envelope_peak     mean_rms    summed_rms  \\\n",
       "spw_number                                                                \n",
       "1               166371.545583    2652.641939   584.854823   7603.112701   \n",
       "2               269764.957808    3110.843671   636.294686   8271.830917   \n",
       "3               758746.360762    3490.477184   710.592883   9237.707485   \n",
       "4               200044.981153    3034.285481   649.571194   8444.425524   \n",
       "5               181114.458519    2608.839470   580.888174   7551.546256   \n",
       "...                       ...            ...          ...           ...   \n",
       "6631            277196.371691    2831.149172   605.984285   7877.795705   \n",
       "6632            227876.350072    2609.146032   528.896318   6875.652135   \n",
       "6633            958930.913475    4978.687382  1065.828176  13855.766290   \n",
       "6634            404512.767081    3689.438886   710.093005   9231.209062   \n",
       "6635            434435.538962    4975.873677   958.042762  12454.555907   \n",
       "\n",
       "                max_rms  mean_amplitude  max_amplitude  \n",
       "spw_number                                              \n",
       "1            742.045104      526.215469     715.590225  \n",
       "2            727.651448      639.632100     740.460225  \n",
       "3            875.846920      716.534301     834.688976  \n",
       "4            839.666150      701.843824     756.933179  \n",
       "5            684.333483      439.888779     523.817146  \n",
       "...                 ...             ...            ...  \n",
       "6631         770.190965      525.649443     720.915793  \n",
       "6632         911.672230      406.677231     789.213268  \n",
       "6633        1297.673928     1220.742873    1406.807306  \n",
       "6634         886.255519      720.032279     876.217046  \n",
       "6635        1179.924907     1075.709357    1371.275539  \n",
       "\n",
       "[6635 rows x 12 columns]"
      ]
     },
     "execution_count": 96,
     "metadata": {},
     "output_type": "execute_result"
    }
   ],
   "source": [
    "spw_times"
   ]
  },
  {
   "cell_type": "code",
   "execution_count": 97,
   "metadata": {
    "execution": {
     "iopub.execute_input": "2020-11-26T19:53:37.905676Z",
     "iopub.status.busy": "2020-11-26T19:53:37.905543Z",
     "iopub.status.idle": "2020-11-26T19:53:57.825686Z",
     "shell.execute_reply": "2020-11-26T19:53:57.824966Z",
     "shell.execute_reply.started": "2020-11-26T19:53:37.905661Z"
    }
   },
   "outputs": [
    {
     "data": {
      "application/vnd.jupyter.widget-view+json": {
       "model_id": "053813093abd4e76928fd5c61087ac66",
       "version_major": 2,
       "version_minor": 0
      },
      "text/plain": [
       "Canvas(toolbar=Toolbar(toolitems=[('Home', 'Reset original view', 'home', 'home'), ('Back', 'Back to previous …"
      ]
     },
     "metadata": {},
     "output_type": "display_data"
    },
    {
     "data": {
      "application/vnd.jupyter.widget-view+json": {
       "model_id": "6ecbc7287fef4d228efd672f10b6654a",
       "version_major": 2,
       "version_minor": 0
      },
      "text/plain": [
       "interactive(children=(FloatSlider(value=1.0, description='window_length', max=2.0, min=0.25, step=0.25), IntSl…"
      ]
     },
     "metadata": {},
     "output_type": "display_data"
    }
   ],
   "source": [
    "from ecephys.plot import plot_ripple\n",
    "\n",
    "from ipywidgets import (\n",
    "    fixed,\n",
    "    interact,\n",
    ")\n",
    "\n",
    "_, ax = plt.subplots(3, 1, figsize=(18, 6))\n",
    "_ = interact(\n",
    "    plot_ripple,\n",
    "    time=fixed(_time),\n",
    "    lfps=fixed(sr_lfps[not_null]),\n",
    "    filtered_lfps=fixed(-filtered_lfps),\n",
    "    fs=fixed(fs),\n",
    "    ripple_times=fixed(spw_times),\n",
    "    window_length=(0.25, 2, 0.25),\n",
    "    ripple_number=(1, len(spw_times), 1),\n",
    "    ax=fixed(ax),\n",
    ")"
   ]
  },
  {
   "cell_type": "markdown",
   "metadata": {},
   "source": [
    "## Detection type II: CSD"
   ]
  },
  {
   "cell_type": "code",
   "execution_count": 277,
   "metadata": {
    "execution": {
     "iopub.execute_input": "2020-12-03T21:57:34.761968Z",
     "iopub.status.busy": "2020-12-03T21:57:34.761833Z",
     "iopub.status.idle": "2020-12-03T21:57:34.774039Z",
     "shell.execute_reply": "2020-12-03T21:57:34.773348Z",
     "shell.execute_reply.started": "2020-12-03T21:57:34.761951Z"
    }
   },
   "outputs": [],
   "source": [
    "from kcsd import KCSD1D\n",
    "\n",
    "n_hpc_chans = len(hpc_chans)\n",
    "intersite_distance = 0.020\n",
    "interestimate_distance = intersite_distance\n",
    "ele_pos = np.linspace(0., (n_hpc_chans - 1) * intersite_distance, n_hpc_chans).reshape(n_hpc_chans, 1)"
   ]
  },
  {
   "cell_type": "code",
   "execution_count": 278,
   "metadata": {
    "execution": {
     "iopub.execute_input": "2020-12-03T21:57:34.775092Z",
     "iopub.status.busy": "2020-12-03T21:57:34.774966Z",
     "iopub.status.idle": "2020-12-03T21:58:07.711584Z",
     "shell.execute_reply": "2020-12-03T21:58:07.710749Z",
     "shell.execute_reply.started": "2020-12-03T21:57:34.775076Z"
    }
   },
   "outputs": [],
   "source": [
    "pots = hpc_lfps.T\n",
    "k = KCSD1D(ele_pos, pots, gdx=interestimate_distance)\n",
    "est_csd = k.values('CSD')"
   ]
  },
  {
   "cell_type": "code",
   "execution_count": 279,
   "metadata": {
    "execution": {
     "iopub.execute_input": "2020-12-03T21:58:07.712687Z",
     "iopub.status.busy": "2020-12-03T21:58:07.712519Z",
     "iopub.status.idle": "2020-12-03T22:13:37.876621Z",
     "shell.execute_reply": "2020-12-03T22:13:37.875931Z",
     "shell.execute_reply.started": "2020-12-03T21:58:07.712669Z"
    }
   },
   "outputs": [
    {
     "name": "stdout",
     "output_type": "stream",
     "text": [
      "No lambda given, using defaults\n",
      "min lambda 1e-12\n",
      "max lambda 0.0126\n",
      "min lambda 1e-12\n",
      "max lambda 0.0126\n",
      "l-curve (all lambda):  0.23\n",
      "Best lambda and R =  0.0012266776157016984 ,  0.23\n"
     ]
    }
   ],
   "source": [
    "k.L_curve()"
   ]
  },
  {
   "cell_type": "code",
   "execution_count": 280,
   "metadata": {
    "execution": {
     "iopub.execute_input": "2020-12-03T22:13:37.877721Z",
     "iopub.status.busy": "2020-12-03T22:13:37.877545Z",
     "iopub.status.idle": "2020-12-03T22:13:53.425684Z",
     "shell.execute_reply": "2020-12-03T22:13:53.425116Z",
     "shell.execute_reply.started": "2020-12-03T22:13:37.877700Z"
    }
   },
   "outputs": [],
   "source": [
    "est_csd_val = k.values('CSD')"
   ]
  },
  {
   "cell_type": "markdown",
   "metadata": {
    "collapsed": "true"
   },
   "source": [
    "### Optionally detrend"
   ]
  },
  {
   "cell_type": "code",
   "execution_count": 54,
   "metadata": {
    "execution": {
     "iopub.execute_input": "2020-11-30T22:22:04.974149Z",
     "iopub.status.busy": "2020-11-30T22:22:04.973679Z",
     "iopub.status.idle": "2020-11-30T22:23:22.811602Z",
     "shell.execute_reply": "2020-11-30T22:23:22.810819Z",
     "shell.execute_reply.started": "2020-11-30T22:22:04.974091Z"
    }
   },
   "outputs": [],
   "source": [
    "detrended_hpc_lfps = detrend(hpc_lfps)"
   ]
  },
  {
   "cell_type": "code",
   "execution_count": 55,
   "metadata": {
    "execution": {
     "iopub.execute_input": "2020-11-30T22:24:06.653645Z",
     "iopub.status.busy": "2020-11-30T22:24:06.653162Z",
     "iopub.status.idle": "2020-11-30T22:24:18.677094Z",
     "shell.execute_reply": "2020-11-30T22:24:18.676507Z",
     "shell.execute_reply.started": "2020-11-30T22:24:06.653563Z"
    }
   },
   "outputs": [],
   "source": [
    "l = KCSD1D(ele_pos, detrended_hpc_lfps.T, gdx=0.02)\n",
    "est_csd_detrend = l.values('CSD')"
   ]
  },
  {
   "cell_type": "code",
   "execution_count": 56,
   "metadata": {
    "execution": {
     "iopub.execute_input": "2020-11-30T22:24:26.701711Z",
     "iopub.status.busy": "2020-11-30T22:24:26.701247Z",
     "iopub.status.idle": "2020-11-30T22:37:10.404592Z",
     "shell.execute_reply": "2020-11-30T22:37:10.403953Z",
     "shell.execute_reply.started": "2020-11-30T22:24:26.701654Z"
    }
   },
   "outputs": [
    {
     "name": "stdout",
     "output_type": "stream",
     "text": [
      "No lambda given, using defaults\n",
      "min lambda 1e-12\n",
      "max lambda 0.0126\n",
      "min lambda 1e-12\n",
      "max lambda 0.0126\n",
      "l-curve (all lambda):  0.23\n",
      "Best lambda and R =  0.0003822395851068327 ,  0.23\n"
     ]
    }
   ],
   "source": [
    "l.L_curve()"
   ]
  },
  {
   "cell_type": "code",
   "execution_count": 57,
   "metadata": {
    "execution": {
     "iopub.execute_input": "2020-11-30T22:37:10.556140Z",
     "iopub.status.busy": "2020-11-30T22:37:10.556023Z",
     "iopub.status.idle": "2020-11-30T22:37:26.982711Z",
     "shell.execute_reply": "2020-11-30T22:37:26.982138Z",
     "shell.execute_reply.started": "2020-11-30T22:37:10.556125Z"
    }
   },
   "outputs": [],
   "source": [
    "est_csd_val_detrend = l.values('CSD')"
   ]
  },
  {
   "cell_type": "markdown",
   "metadata": {},
   "source": [
    "### Detect"
   ]
  },
  {
   "cell_type": "code",
   "execution_count": 281,
   "metadata": {
    "execution": {
     "iopub.execute_input": "2020-12-03T22:13:53.426762Z",
     "iopub.status.busy": "2020-12-03T22:13:53.426611Z",
     "iopub.status.idle": "2020-12-03T22:13:53.443217Z",
     "shell.execute_reply": "2020-12-03T22:13:53.442592Z",
     "shell.execute_reply.started": "2020-12-03T22:13:53.426744Z"
    }
   },
   "outputs": [],
   "source": [
    "from ecephys.signal.ripples import threshold_by_zscore\n",
    "\n",
    "detection_threshold=2.5\n",
    "boundary_threshold=1\n",
    "minimum_duration=0.005\n",
    "\n",
    "def detect_spw(time, csd): \n",
    "    csd = -csd.T\n",
    "    #filtered_lfps[filtered_lfps < 0] = 0\n",
    "    #not_null = np.all(pd.notnull(filtered_lfps), axis=1)\n",
    "    #filtered_lfps, _time = (filtered_lfps[not_null], time[not_null])\n",
    "    combined_csd = np.sum(csd, axis=1)\n",
    "\n",
    "    candidate_spw_times = threshold_by_zscore(\n",
    "        combined_csd,\n",
    "        time,\n",
    "        minimum_duration=minimum_duration,\n",
    "        detection_zscore_threshold=detection_threshold,\n",
    "        boundary_zscore_threshold=boundary_threshold,\n",
    "    )\n",
    "\n",
    "    index = pd.Index(np.arange(len(candidate_spw_times)) + 1, name=\"spw_number\")\n",
    "    spws = pd.DataFrame(candidate_spw_times, columns=[\"start_time\", \"end_time\"], index=index)\n",
    "    \n",
    "    return spws"
   ]
  },
  {
   "cell_type": "code",
   "execution_count": 282,
   "metadata": {
    "execution": {
     "iopub.execute_input": "2020-12-03T22:13:53.444767Z",
     "iopub.status.busy": "2020-12-03T22:13:53.444634Z",
     "iopub.status.idle": "2020-12-03T22:15:30.641756Z",
     "shell.execute_reply": "2020-12-03T22:15:30.640857Z",
     "shell.execute_reply.started": "2020-12-03T22:13:53.444751Z"
    }
   },
   "outputs": [
    {
     "name": "stdout",
     "output_type": "stream",
     "text": [
      "[146, 149, 150, 153]\n"
     ]
    }
   ],
   "source": [
    "print(sr_chans)\n",
    "sr_csd = est_csd_val[np.isin(hpc_chans, sr_chans)]\n",
    "spws = detect_spw(time, sr_csd)"
   ]
  },
  {
   "cell_type": "markdown",
   "metadata": {},
   "source": [
    "### Compute SPW properties"
   ]
  },
  {
   "cell_type": "code",
   "execution_count": 283,
   "metadata": {
    "execution": {
     "iopub.execute_input": "2020-12-03T22:15:30.642966Z",
     "iopub.status.busy": "2020-12-03T22:15:30.642822Z",
     "iopub.status.idle": "2020-12-03T22:15:30.655304Z",
     "shell.execute_reply": "2020-12-03T22:15:30.654397Z",
     "shell.execute_reply.started": "2020-12-03T22:15:30.642948Z"
    }
   },
   "outputs": [],
   "source": [
    "from ecephys.signal.ripples import get_durations, get_midpoints, get_sink_amplitudes, get_sink_integrals"
   ]
  },
  {
   "cell_type": "code",
   "execution_count": 284,
   "metadata": {
    "execution": {
     "iopub.execute_input": "2020-12-03T22:15:30.656071Z",
     "iopub.status.busy": "2020-12-03T22:15:30.655949Z",
     "iopub.status.idle": "2020-12-03T22:15:30.761840Z",
     "shell.execute_reply": "2020-12-03T22:15:30.761476Z",
     "shell.execute_reply.started": "2020-12-03T22:15:30.656056Z"
    }
   },
   "outputs": [],
   "source": [
    "spws[\"duration\"] = get_durations(spws)\n",
    "spws[\"midpoint\"] = get_midpoints(spws)"
   ]
  },
  {
   "cell_type": "code",
   "execution_count": 285,
   "metadata": {
    "execution": {
     "iopub.execute_input": "2020-12-03T22:15:30.762545Z",
     "iopub.status.busy": "2020-12-03T22:15:30.762340Z",
     "iopub.status.idle": "2020-12-03T22:21:16.844587Z",
     "shell.execute_reply": "2020-12-03T22:21:16.843733Z",
     "shell.execute_reply.started": "2020-12-03T22:15:30.762529Z"
    }
   },
   "outputs": [],
   "source": [
    "spws[\"sink_amplitude\"] = get_sink_amplitudes(spws, time, sr_csd) * (1e-6) # Scale to mA/mm"
   ]
  },
  {
   "cell_type": "code",
   "execution_count": 286,
   "metadata": {
    "execution": {
     "iopub.execute_input": "2020-12-03T22:21:16.845451Z",
     "iopub.status.busy": "2020-12-03T22:21:16.845317Z",
     "iopub.status.idle": "2020-12-03T22:26:33.237836Z",
     "shell.execute_reply": "2020-12-03T22:26:33.236729Z",
     "shell.execute_reply.started": "2020-12-03T22:21:16.845435Z"
    }
   },
   "outputs": [],
   "source": [
    "spws[\"sink_integral\"] = get_sink_integrals(spws, time, fs, sr_csd) * (1e-6) * (1e3) # Scale to mA * ms"
   ]
  },
  {
   "cell_type": "code",
   "execution_count": 287,
   "metadata": {
    "execution": {
     "iopub.execute_input": "2020-12-03T22:26:33.239110Z",
     "iopub.status.busy": "2020-12-03T22:26:33.238940Z",
     "iopub.status.idle": "2020-12-03T22:26:33.274572Z",
     "shell.execute_reply": "2020-12-03T22:26:33.273789Z",
     "shell.execute_reply.started": "2020-12-03T22:26:33.239090Z"
    }
   },
   "outputs": [
    {
     "data": {
      "text/html": [
       "<div>\n",
       "<style scoped>\n",
       "    .dataframe tbody tr th:only-of-type {\n",
       "        vertical-align: middle;\n",
       "    }\n",
       "\n",
       "    .dataframe tbody tr th {\n",
       "        vertical-align: top;\n",
       "    }\n",
       "\n",
       "    .dataframe thead th {\n",
       "        text-align: right;\n",
       "    }\n",
       "</style>\n",
       "<table border=\"1\" class=\"dataframe\">\n",
       "  <thead>\n",
       "    <tr style=\"text-align: right;\">\n",
       "      <th></th>\n",
       "      <th>start_time</th>\n",
       "      <th>end_time</th>\n",
       "      <th>duration</th>\n",
       "      <th>midpoint</th>\n",
       "      <th>sink_amplitude</th>\n",
       "      <th>sink_integral</th>\n",
       "    </tr>\n",
       "    <tr>\n",
       "      <th>spw_number</th>\n",
       "      <th></th>\n",
       "      <th></th>\n",
       "      <th></th>\n",
       "      <th></th>\n",
       "      <th></th>\n",
       "      <th></th>\n",
       "    </tr>\n",
       "  </thead>\n",
       "  <tbody>\n",
       "    <tr>\n",
       "      <th>1</th>\n",
       "      <td>1.353199</td>\n",
       "      <td>1.434799</td>\n",
       "      <td>0.0816</td>\n",
       "      <td>1.393999</td>\n",
       "      <td>-0.024114</td>\n",
       "      <td>-1.279671</td>\n",
       "    </tr>\n",
       "    <tr>\n",
       "      <th>2</th>\n",
       "      <td>1.755998</td>\n",
       "      <td>1.787198</td>\n",
       "      <td>0.0312</td>\n",
       "      <td>1.771598</td>\n",
       "      <td>-0.020968</td>\n",
       "      <td>-0.439843</td>\n",
       "    </tr>\n",
       "    <tr>\n",
       "      <th>3</th>\n",
       "      <td>4.450796</td>\n",
       "      <td>4.565595</td>\n",
       "      <td>0.1148</td>\n",
       "      <td>4.508195</td>\n",
       "      <td>-0.039624</td>\n",
       "      <td>-2.053179</td>\n",
       "    </tr>\n",
       "    <tr>\n",
       "      <th>4</th>\n",
       "      <td>4.989595</td>\n",
       "      <td>5.067195</td>\n",
       "      <td>0.0776</td>\n",
       "      <td>5.028395</td>\n",
       "      <td>-0.057252</td>\n",
       "      <td>-2.303828</td>\n",
       "    </tr>\n",
       "    <tr>\n",
       "      <th>5</th>\n",
       "      <td>5.196395</td>\n",
       "      <td>5.242795</td>\n",
       "      <td>0.0464</td>\n",
       "      <td>5.219595</td>\n",
       "      <td>-0.025813</td>\n",
       "      <td>-0.767067</td>\n",
       "    </tr>\n",
       "    <tr>\n",
       "      <th>...</th>\n",
       "      <td>...</td>\n",
       "      <td>...</td>\n",
       "      <td>...</td>\n",
       "      <td>...</td>\n",
       "      <td>...</td>\n",
       "      <td>...</td>\n",
       "    </tr>\n",
       "    <tr>\n",
       "      <th>3825</th>\n",
       "      <td>7176.205184</td>\n",
       "      <td>7176.333583</td>\n",
       "      <td>0.1284</td>\n",
       "      <td>7176.269384</td>\n",
       "      <td>-0.029055</td>\n",
       "      <td>-2.053046</td>\n",
       "    </tr>\n",
       "    <tr>\n",
       "      <th>3826</th>\n",
       "      <td>7176.904383</td>\n",
       "      <td>7176.951583</td>\n",
       "      <td>0.0472</td>\n",
       "      <td>7176.927983</td>\n",
       "      <td>-0.046288</td>\n",
       "      <td>-1.248569</td>\n",
       "    </tr>\n",
       "    <tr>\n",
       "      <th>3827</th>\n",
       "      <td>7184.205176</td>\n",
       "      <td>7184.233976</td>\n",
       "      <td>0.0288</td>\n",
       "      <td>7184.219576</td>\n",
       "      <td>-0.020775</td>\n",
       "      <td>-0.399027</td>\n",
       "    </tr>\n",
       "    <tr>\n",
       "      <th>3828</th>\n",
       "      <td>7184.333975</td>\n",
       "      <td>7184.463975</td>\n",
       "      <td>0.1300</td>\n",
       "      <td>7184.398975</td>\n",
       "      <td>-0.041863</td>\n",
       "      <td>-3.597945</td>\n",
       "    </tr>\n",
       "    <tr>\n",
       "      <th>3829</th>\n",
       "      <td>7189.874770</td>\n",
       "      <td>7189.887170</td>\n",
       "      <td>0.0124</td>\n",
       "      <td>7189.880970</td>\n",
       "      <td>-0.022137</td>\n",
       "      <td>-0.190811</td>\n",
       "    </tr>\n",
       "  </tbody>\n",
       "</table>\n",
       "<p>3829 rows × 6 columns</p>\n",
       "</div>"
      ],
      "text/plain": [
       "             start_time     end_time  duration     midpoint  sink_amplitude  \\\n",
       "spw_number                                                                    \n",
       "1              1.353199     1.434799    0.0816     1.393999       -0.024114   \n",
       "2              1.755998     1.787198    0.0312     1.771598       -0.020968   \n",
       "3              4.450796     4.565595    0.1148     4.508195       -0.039624   \n",
       "4              4.989595     5.067195    0.0776     5.028395       -0.057252   \n",
       "5              5.196395     5.242795    0.0464     5.219595       -0.025813   \n",
       "...                 ...          ...       ...          ...             ...   \n",
       "3825        7176.205184  7176.333583    0.1284  7176.269384       -0.029055   \n",
       "3826        7176.904383  7176.951583    0.0472  7176.927983       -0.046288   \n",
       "3827        7184.205176  7184.233976    0.0288  7184.219576       -0.020775   \n",
       "3828        7184.333975  7184.463975    0.1300  7184.398975       -0.041863   \n",
       "3829        7189.874770  7189.887170    0.0124  7189.880970       -0.022137   \n",
       "\n",
       "            sink_integral  \n",
       "spw_number                 \n",
       "1               -1.279671  \n",
       "2               -0.439843  \n",
       "3               -2.053179  \n",
       "4               -2.303828  \n",
       "5               -0.767067  \n",
       "...                   ...  \n",
       "3825            -2.053046  \n",
       "3826            -1.248569  \n",
       "3827            -0.399027  \n",
       "3828            -3.597945  \n",
       "3829            -0.190811  \n",
       "\n",
       "[3829 rows x 6 columns]"
      ]
     },
     "execution_count": 287,
     "metadata": {},
     "output_type": "execute_result"
    }
   ],
   "source": [
    "spws"
   ]
  },
  {
   "cell_type": "markdown",
   "metadata": {
    "execution": {
     "iopub.execute_input": "2020-12-01T00:20:18.941774Z",
     "iopub.status.busy": "2020-12-01T00:20:18.941278Z",
     "iopub.status.idle": "2020-12-01T00:20:18.960114Z",
     "shell.execute_reply": "2020-12-01T00:20:18.959367Z",
     "shell.execute_reply.started": "2020-12-01T00:20:18.941715Z"
    }
   },
   "source": [
    "### Export results"
   ]
  },
  {
   "cell_type": "code",
   "execution_count": 288,
   "metadata": {
    "execution": {
     "iopub.execute_input": "2020-12-03T22:26:33.275559Z",
     "iopub.status.busy": "2020-12-03T22:26:33.275420Z",
     "iopub.status.idle": "2020-12-03T22:26:33.307417Z",
     "shell.execute_reply": "2020-12-03T22:26:33.306179Z",
     "shell.execute_reply.started": "2020-12-03T22:26:33.275542Z"
    }
   },
   "outputs": [],
   "source": [
    "metadata = dict(\n",
    "    csd_chans=hpc_chans,\n",
    "    detection_chans=sr_chans,\n",
    "    electrode_positions=ele_pos,\n",
    "    intersite_distance=intersite_distance,\n",
    "    gdx=interestimate_distance,\n",
    "    lambd = k.lambd,\n",
    "    R = k.R,\n",
    "    detect_states=[\"Wake\", \"N1\", \"N2\", \"REM\"],\n",
    "    detection_zscore_threshold=detection_threshold,\n",
    "    boundary_zscore_threshold=boundary_threshold,\n",
    "    minimum_duration=minimum_duration,\n",
    ")\n",
    "spws_path = Path(paths.spws[condition][subject])\n",
    "store_df_h5(spws_path, spws, **metadata)"
   ]
  },
  {
   "cell_type": "code",
   "execution_count": 289,
   "metadata": {
    "execution": {
     "iopub.execute_input": "2020-12-03T22:26:33.308562Z",
     "iopub.status.busy": "2020-12-03T22:26:33.308409Z",
     "iopub.status.idle": "2020-12-03T22:26:33.321262Z",
     "shell.execute_reply": "2020-12-03T22:26:33.320553Z",
     "shell.execute_reply.started": "2020-12-03T22:26:33.308544Z"
    }
   },
   "outputs": [
    {
     "data": {
      "text/plain": [
       "[146, 149, 150, 153]"
      ]
     },
     "execution_count": 289,
     "metadata": {},
     "output_type": "execute_result"
    }
   ],
   "source": [
    "sr_chans"
   ]
  },
  {
   "cell_type": "code",
   "execution_count": null,
   "metadata": {},
   "outputs": [],
   "source": []
  }
 ],
 "metadata": {
  "kernelspec": {
   "display_name": "Python 3",
   "language": "python",
   "name": "python3"
  },
  "language_info": {
   "codemirror_mode": {
    "name": "ipython",
    "version": 3
   },
   "file_extension": ".py",
   "mimetype": "text/x-python",
   "name": "python",
   "nbconvert_exporter": "python",
   "pygments_lexer": "ipython3",
   "version": "3.7.9"
  }
 },
 "nbformat": 4,
 "nbformat_minor": 4
}
