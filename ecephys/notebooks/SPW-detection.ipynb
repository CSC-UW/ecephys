{
 "cells": [
  {
   "cell_type": "markdown",
   "metadata": {},
   "source": [
    "- TODO: Parallelize sharp wave property computation"
   ]
  },
  {
   "cell_type": "markdown",
   "metadata": {
    "execution": {
     "iopub.execute_input": "2020-11-30T16:00:22.289233Z",
     "iopub.status.busy": "2020-11-30T16:00:22.288802Z",
     "iopub.status.idle": "2020-11-30T16:00:22.305803Z",
     "shell.execute_reply": "2020-11-30T16:00:22.305354Z",
     "shell.execute_reply.started": "2020-11-30T16:00:22.289179Z"
    }
   },
   "source": [
    "# Imports and definitions"
   ]
  },
  {
   "cell_type": "code",
   "execution_count": 1,
   "metadata": {
    "execution": {
     "iopub.execute_input": "2021-01-19T23:13:02.518165Z",
     "iopub.status.busy": "2021-01-19T23:13:02.517682Z",
     "iopub.status.idle": "2021-01-19T23:13:02.537130Z",
     "shell.execute_reply": "2021-01-19T23:13:02.536494Z",
     "shell.execute_reply.started": "2021-01-19T23:13:02.518104Z"
    }
   },
   "outputs": [],
   "source": [
    "%load_ext autoreload\n",
    "%autoreload 2"
   ]
  },
  {
   "cell_type": "code",
   "execution_count": 2,
   "metadata": {
    "execution": {
     "iopub.execute_input": "2021-01-19T23:13:02.962684Z",
     "iopub.status.busy": "2021-01-19T23:13:02.962254Z",
     "iopub.status.idle": "2021-01-19T23:13:03.119291Z",
     "shell.execute_reply": "2021-01-19T23:13:03.118542Z",
     "shell.execute_reply.started": "2021-01-19T23:13:02.962628Z"
    }
   },
   "outputs": [],
   "source": [
    "%matplotlib widget\n",
    "import matplotlib.pyplot as plt"
   ]
  },
  {
   "cell_type": "code",
   "execution_count": 3,
   "metadata": {
    "execution": {
     "iopub.execute_input": "2021-01-19T23:13:03.441718Z",
     "iopub.status.busy": "2021-01-19T23:13:03.441430Z",
     "iopub.status.idle": "2021-01-19T23:13:03.456499Z",
     "shell.execute_reply": "2021-01-19T23:13:03.455697Z",
     "shell.execute_reply.started": "2021-01-19T23:13:03.441682Z"
    }
   },
   "outputs": [],
   "source": [
    "import numpy as np\n",
    "import pandas as pd\n",
    "import json\n",
    "from datetime import datetime"
   ]
  },
  {
   "cell_type": "code",
   "execution_count": 4,
   "metadata": {
    "execution": {
     "iopub.execute_input": "2021-01-19T23:13:04.057468Z",
     "iopub.status.busy": "2021-01-19T23:13:04.057174Z",
     "iopub.status.idle": "2021-01-19T23:13:04.644060Z",
     "shell.execute_reply": "2021-01-19T23:13:04.643232Z",
     "shell.execute_reply.started": "2021-01-19T23:13:04.057432Z"
    }
   },
   "outputs": [],
   "source": [
    "from ecephys.data import paths, channel_groups\n",
    "from ecephys.sglx_utils import load_timeseries, load_multifile_timeseries\n",
    "from ecephys.signal.csd import get_kcsd\n",
    "from ecephys.signal.sharp_wave_ripples import detect_sharp_waves_by_value, detect_sharp_waves_by_zscore, get_durations, get_midpoints, get_sink_amplitudes, get_sink_integrals\n",
    "from ecephys.utils import load_df_h5, store_df_h5, zscore_to_value\n",
    "import ecephys.plot as eplt"
   ]
  },
  {
   "cell_type": "code",
   "execution_count": 9,
   "metadata": {
    "execution": {
     "iopub.execute_input": "2021-01-19T23:16:28.187964Z",
     "iopub.status.busy": "2021-01-19T23:16:28.187679Z",
     "iopub.status.idle": "2021-01-19T23:16:28.220930Z",
     "shell.execute_reply": "2021-01-19T23:16:28.220079Z",
     "shell.execute_reply.started": "2021-01-19T23:16:28.187930Z"
    }
   },
   "outputs": [],
   "source": [
    "def get_spw_detection_parameters(subject, detection_threshold_zscore=2.5, boundary_threshold_zscore=1):\n",
    "    sr_chans = channel_groups.stratum_radiatum_140um_to_200um[subject]\n",
    "    hpc_chans = channel_groups.hippocampus[subject]\n",
    "    \n",
    "    bin_paths = paths.get_sglx_style_datapaths(subject=subject, condition=\"recovery-sleep-2h\", ext=\"lf.bin\")\n",
    "    params_path = paths.get_datapath(subject=subject, condition=\"sleep-homeostasis\", file=\"sharp_wave_detection_params.json\")\n",
    "    \n",
    "    if len(bin_paths) > 1:\n",
    "        (time, hpc_lfps, fs) = load_multifile_timeseries(bin_paths, hpc_chans)\n",
    "    else:\n",
    "        (time, hpc_lfps, fs) = load_timeseries(bin_paths[0], hpc_chans)\n",
    "    \n",
    "    gdx = intersite_distance = 0.020\n",
    "    k = get_kcsd(\n",
    "        hpc_lfps, intersite_distance=intersite_distance, gdx=gdx, do_lcurve=True\n",
    "    )\n",
    "    \n",
    "    hpc_csd = k.values(\"CSD\")\n",
    "    sr_csd = hpc_csd[np.isin(hpc_chans, sr_chans)]\n",
    "    combined_csd = np.sum(-sr_csd.T, axis=1)\n",
    "\n",
    "    detection_threshold = zscore_to_value(combined_csd, detection_threshold_zscore)\n",
    "    boundary_threshold = zscore_to_value(combined_csd, boundary_threshold_zscore)\n",
    "    \n",
    "    metadata = dict(\n",
    "        csd_chans=hpc_chans.tolist(),\n",
    "        detection_chans=sr_chans,\n",
    "        electrode_positions=k.ele_pos.tolist(),\n",
    "        intersite_distance=intersite_distance,\n",
    "        gdx=k.gdx,\n",
    "        lambd=k.lambd,\n",
    "        R=k.R,\n",
    "        detect_states=[\"all\"],\n",
    "        detection_threshold_zscore=detection_threshold_zscore,\n",
    "        boundary_threshold_zscore=boundary_threshold_zscore,\n",
    "        detection_threshold=detection_threshold,\n",
    "        boundary_threshold=boundary_threshold,\n",
    "        minimum_duration=0.005,\n",
    "        params_source_files=[str(path) for path in bin_paths] \n",
    "    )\n",
    "    \n",
    "    params_path.parent.mkdir(parents=True, exist_ok=True)\n",
    "    with open(params_path, \"x\") as params_file:\n",
    "        json.dump(metadata, params_file, indent=4)"
   ]
  },
  {
   "cell_type": "code",
   "execution_count": 6,
   "metadata": {
    "execution": {
     "iopub.execute_input": "2021-01-19T23:13:05.403069Z",
     "iopub.status.busy": "2021-01-19T23:13:05.402648Z",
     "iopub.status.idle": "2021-01-19T23:13:05.433714Z",
     "shell.execute_reply": "2021-01-19T23:13:05.432524Z",
     "shell.execute_reply.started": "2021-01-19T23:13:05.403018Z"
    }
   },
   "outputs": [],
   "source": [
    "def run_spw_detection_pipeline_on_file(bin_path, spw_path, params_path, sr_chans, hpc_chans):\n",
    "    (time, hpc_lfps, fs) = load_timeseries(bin_path, hpc_chans)\n",
    "\n",
    "    with open(params_path) as params_file:\n",
    "        params = json.load(params_file)\n",
    "\n",
    "    intersite_distance = params[\"intersite_distance\"]\n",
    "    k = get_kcsd(\n",
    "        hpc_lfps,\n",
    "        intersite_distance=params[\"intersite_distance\"],\n",
    "        gdx=params[\"gdx\"],\n",
    "        lambd=params[\"lambd\"],\n",
    "        R_init=params[\"R\"],\n",
    "        do_lcurve=False,\n",
    "    )\n",
    "\n",
    "    hpc_csd = k.values(\"CSD\")\n",
    "    sr_csd = hpc_csd[np.isin(hpc_chans, sr_chans)]\n",
    "\n",
    "    spws = detect_sharp_waves_by_value(\n",
    "        time,\n",
    "        sr_csd,\n",
    "        params[\"detection_threshold\"],\n",
    "        params[\"boundary_threshold\"],\n",
    "        params[\"minimum_duration\"],\n",
    "    )\n",
    "\n",
    "    spws[\"duration\"] = get_durations(spws)\n",
    "    spws[\"midpoint\"] = get_midpoints(spws)\n",
    "    spws[\"sink_amplitude\"] = get_sink_amplitudes(spws, time, sr_csd) * (\n",
    "        1e-6\n",
    "    )  # Scale to mA/mm\n",
    "    spws[\"sink_integral\"] = (\n",
    "        get_sink_integrals(spws, time, fs, sr_csd) * (1e-6) * (1e3)\n",
    "    )  # Scale to mA * ms\n",
    "\n",
    "    metadata = dict(\n",
    "        csd_chans=hpc_chans,\n",
    "        detection_chans=sr_chans,\n",
    "        electrode_positions=k.ele_pos,\n",
    "        intersite_distance=intersite_distance,\n",
    "        gdx=k.gdx,\n",
    "        lambd=k.lambd,\n",
    "        R=k.R,\n",
    "        detect_states=[\"all\"],\n",
    "    )\n",
    "    metadata.update(spws.attrs)\n",
    "\n",
    "    store_df_h5(spw_path, spws, **metadata)"
   ]
  },
  {
   "cell_type": "code",
   "execution_count": 7,
   "metadata": {
    "execution": {
     "iopub.execute_input": "2021-01-19T23:13:06.402978Z",
     "iopub.status.busy": "2021-01-19T23:13:06.402510Z",
     "iopub.status.idle": "2021-01-19T23:13:06.426999Z",
     "shell.execute_reply": "2021-01-19T23:13:06.426215Z",
     "shell.execute_reply.started": "2021-01-19T23:13:06.402918Z"
    }
   },
   "outputs": [],
   "source": [
    "def run_spw_detection_pipeline_on_condition(subject, condition):\n",
    "    sr_chans = channel_groups.stratum_radiatum_140um_to_200um[subject]\n",
    "    hpc_chans = channel_groups.hippocampus[subject]\n",
    "    \n",
    "    bin_paths = paths.get_sglx_style_datapaths(subject=subject, condition=condition, ext=\"lf.bin\")\n",
    "    spw_paths = paths.get_sglx_style_datapaths(subject=subject, condition=condition, ext=\"spws.h5\")\n",
    "    params_path = paths.get_datapath(subject=subject, condition=\"sleep-homeostasis\", file=\"sharp_wave_detection_params.json\")\n",
    "\n",
    "    for bin_path, spw_path in zip(bin_paths, spw_paths):\n",
    "        run_spw_detection_pipeline_on_file(bin_path, spw_path, params_path, sr_chans, hpc_chans)\n",
    "        current_time = datetime.now().strftime(\"%H:%M:%S\")\n",
    "        print(f\"{current_time}: Finished {str(bin_path)}\")"
   ]
  },
  {
   "cell_type": "markdown",
   "metadata": {},
   "source": [
    "# Run automated pipeline"
   ]
  },
  {
   "cell_type": "markdown",
   "metadata": {},
   "source": [
    "### Segundo"
   ]
  },
  {
   "cell_type": "code",
   "execution_count": 16,
   "metadata": {
    "execution": {
     "iopub.execute_input": "2021-01-08T00:15:57.529245Z",
     "iopub.status.busy": "2021-01-08T00:15:57.528742Z",
     "iopub.status.idle": "2021-01-08T00:36:44.224106Z",
     "shell.execute_reply": "2021-01-08T00:36:44.222975Z",
     "shell.execute_reply.started": "2021-01-08T00:15:57.529187Z"
    }
   },
   "outputs": [
    {
     "name": "stdout",
     "output_type": "stream",
     "text": [
      "nChan: 385, nFileSamp: 18000001\n",
      "Performing L-curve parameter estimation...\n",
      "No lambda given, using defaults\n",
      "min lambda 1e-11\n",
      "max lambda 0.0133\n",
      "min lambda 1e-11\n",
      "max lambda 0.0133\n",
      "l-curve (all lambda):  0.23\n",
      "Best lambda and R =  0.00013089207687291224 ,  0.23\n"
     ]
    }
   ],
   "source": [
    "get_spw_detection_parameters(subject=\"Segundo\", detection_threshold_zscore=2.5, boundary_threshold_zscore=1)"
   ]
  },
  {
   "cell_type": "code",
   "execution_count": null,
   "metadata": {},
   "outputs": [],
   "source": [
    "run_spw_detection_pipeline_on_condition(subject=\"Segundo\", condition=\"extended-wake\")"
   ]
  },
  {
   "cell_type": "code",
   "execution_count": 12,
   "metadata": {
    "execution": {
     "iopub.execute_input": "2021-01-21T23:43:30.549681Z",
     "iopub.status.busy": "2021-01-21T23:43:30.549297Z",
     "iopub.status.idle": "2021-01-22T00:34:52.696332Z",
     "shell.execute_reply": "2021-01-22T00:34:52.694956Z",
     "shell.execute_reply.started": "2021-01-21T23:43:30.549643Z"
    }
   },
   "outputs": [
    {
     "name": "stdout",
     "output_type": "stream",
     "text": [
      "nChan: 385, nFileSamp: 18000001\n",
      "18:03:52: Finished /Volumes/neuropixel_archive/Data/chronic/CNPIX2-Segundo/raw/1-21-2020_g0/1-21-2020_g0_imec0/1-21-2020_g0_t23.imec0.lf.bin\n",
      "nChan: 385, nFileSamp: 18000001\n",
      "18:19:47: Finished /Volumes/neuropixel_archive/Data/chronic/CNPIX2-Segundo/raw/1-21-2020_g0/1-21-2020_g0_imec0/1-21-2020_g0_t24.imec0.lf.bin\n",
      "nChan: 385, nFileSamp: 18000001\n",
      "18:34:52: Finished /Volumes/neuropixel_archive/Data/chronic/CNPIX2-Segundo/raw/1-21-2020_g0/1-21-2020_g0_imec0/1-21-2020_g0_t25.imec0.lf.bin\n"
     ]
    }
   ],
   "source": [
    "run_spw_detection_pipeline_on_condition(subject=\"Segundo\", condition=\"recovery-sleep-6h\")"
   ]
  },
  {
   "cell_type": "markdown",
   "metadata": {},
   "source": [
    "### Valentino"
   ]
  },
  {
   "cell_type": "code",
   "execution_count": 19,
   "metadata": {
    "execution": {
     "iopub.execute_input": "2021-01-08T00:55:33.814777Z",
     "iopub.status.busy": "2021-01-08T00:55:33.814655Z",
     "iopub.status.idle": "2021-01-08T01:23:44.591780Z",
     "shell.execute_reply": "2021-01-08T01:23:44.590919Z",
     "shell.execute_reply.started": "2021-01-08T00:55:33.814762Z"
    }
   },
   "outputs": [
    {
     "name": "stdout",
     "output_type": "stream",
     "text": [
      "nChan: 385, nFileSamp: 18000000\n",
      "Performing L-curve parameter estimation...\n",
      "No lambda given, using defaults\n",
      "min lambda 1e-12\n",
      "max lambda 0.0119\n",
      "min lambda 1e-12\n",
      "max lambda 0.0119\n",
      "l-curve (all lambda):  0.23\n",
      "Best lambda and R =  0.00105886675336374 ,  0.23\n"
     ]
    }
   ],
   "source": [
    "get_spw_detection_parameters(subject=\"Valentino\", detection_threshold_zscore=2.5, boundary_threshold_zscore=1)"
   ]
  },
  {
   "cell_type": "code",
   "execution_count": null,
   "metadata": {},
   "outputs": [],
   "source": [
    "run_spw_detection_pipeline_on_condition(subject=\"Valentino\", condition=\"extended-wake\")"
   ]
  },
  {
   "cell_type": "code",
   "execution_count": 11,
   "metadata": {
    "execution": {
     "iopub.execute_input": "2021-01-20T23:00:18.749297Z",
     "iopub.status.busy": "2021-01-20T23:00:18.748826Z",
     "iopub.status.idle": "2021-01-20T23:43:11.078725Z",
     "shell.execute_reply": "2021-01-20T23:43:11.077638Z",
     "shell.execute_reply.started": "2021-01-20T23:00:18.749241Z"
    }
   },
   "outputs": [
    {
     "name": "stdout",
     "output_type": "stream",
     "text": [
      "nChan: 385, nFileSamp: 18000000\n",
      "17:14:03: Finished /Volumes/neuropixel_archive/Data/chronic/CNPIX3-Valentino/raw/2-20-2020_g0/2-20-2020_g0_imec0/2-20-2020_g0_t3.imec0.lf.bin\n",
      "nChan: 385, nFileSamp: 18000000\n",
      "17:25:03: Finished /Volumes/neuropixel_archive/Data/chronic/CNPIX3-Valentino/raw/2-20-2020_g0/2-20-2020_g0_imec0/2-20-2020_g0_t4.imec0.lf.bin\n",
      "nChan: 385, nFileSamp: 18000000\n",
      "17:43:11: Finished /Volumes/neuropixel_archive/Data/chronic/CNPIX3-Valentino/raw/2-20-2020_g0/2-20-2020_g0_imec0/2-20-2020_g0_t5.imec0.lf.bin\n"
     ]
    }
   ],
   "source": [
    "run_spw_detection_pipeline_on_condition(subject=\"Valentino\", condition=\"recovery-sleep-6h\")"
   ]
  },
  {
   "cell_type": "markdown",
   "metadata": {},
   "source": [
    "### Doppio"
   ]
  },
  {
   "cell_type": "code",
   "execution_count": null,
   "metadata": {},
   "outputs": [],
   "source": [
    "get_spw_detection_parameters(subject=\"Doppio\", detection_threshold_zscore=2.5, boundary_threshold_zscore=1)"
   ]
  },
  {
   "cell_type": "code",
   "execution_count": null,
   "metadata": {},
   "outputs": [],
   "source": [
    "run_spw_detection_pipeline_on_condition(subject=\"Doppio\", condition=\"extended-wake\")"
   ]
  },
  {
   "cell_type": "code",
   "execution_count": 10,
   "metadata": {
    "execution": {
     "iopub.execute_input": "2021-01-19T23:16:43.832020Z",
     "iopub.status.busy": "2021-01-19T23:16:43.831723Z",
     "iopub.status.idle": "2021-01-19T23:47:35.804106Z",
     "shell.execute_reply": "2021-01-19T23:47:35.802981Z",
     "shell.execute_reply.started": "2021-01-19T23:16:43.831984Z"
    }
   },
   "outputs": [
    {
     "name": "stdout",
     "output_type": "stream",
     "text": [
      "nChan: 385, nFileSamp: 18000019\n",
      "17:29:26: Finished /Volumes/neuropixel_archive/Data/chronic/CNPIX4-Doppio/raw/3-18-2020_g0/3-18-2020_g0_imec0/3-18-2020_g0_t3.imec0.lf.bin\n",
      "nChan: 385, nFileSamp: 18000019\n",
      "17:38:31: Finished /Volumes/neuropixel_archive/Data/chronic/CNPIX4-Doppio/raw/3-18-2020_g0/3-18-2020_g0_imec0/3-18-2020_g0_t4.imec0.lf.bin\n",
      "nChan: 385, nFileSamp: 18000019\n",
      "17:47:35: Finished /Volumes/neuropixel_archive/Data/chronic/CNPIX4-Doppio/raw/3-18-2020_g0/3-18-2020_g0_imec0/3-18-2020_g0_t5.imec0.lf.bin\n"
     ]
    }
   ],
   "source": [
    "run_spw_detection_pipeline_on_condition(subject=\"Doppio\", condition=\"recovery-sleep-6h\")"
   ]
  },
  {
   "cell_type": "markdown",
   "metadata": {},
   "source": [
    "### Alessandro"
   ]
  },
  {
   "cell_type": "code",
   "execution_count": 18,
   "metadata": {
    "execution": {
     "iopub.execute_input": "2021-01-11T21:58:48.819726Z",
     "iopub.status.busy": "2021-01-11T21:58:48.819236Z",
     "iopub.status.idle": "2021-01-11T22:10:50.685546Z",
     "shell.execute_reply": "2021-01-11T22:10:50.684512Z",
     "shell.execute_reply.started": "2021-01-11T21:58:48.819665Z"
    }
   },
   "outputs": [
    {
     "name": "stdout",
     "output_type": "stream",
     "text": [
      "nChan: 385, nFileSamp: 9000052\n",
      "nChan: 385, nFileSamp: 9000052\n",
      "You are loading multifile SGLX data without xarray.\n",
      " Are you sure you want to do this? Please see documentation.\n",
      "Performing L-curve parameter estimation...\n",
      "No lambda given, using defaults\n",
      "min lambda 1e-12\n",
      "max lambda 0.0126\n",
      "min lambda 1e-12\n",
      "max lambda 0.0126\n",
      "l-curve (all lambda):  0.23\n",
      "Best lambda and R =  3.711471263028718e-05 ,  0.23\n"
     ]
    }
   ],
   "source": [
    "get_spw_detection_parameters(subject=\"Alessandro\", detection_threshold_zscore=2.5, boundary_threshold_zscore=1)"
   ]
  },
  {
   "cell_type": "code",
   "execution_count": 31,
   "metadata": {
    "execution": {
     "iopub.execute_input": "2021-01-11T22:14:48.479765Z",
     "iopub.status.busy": "2021-01-11T22:14:48.479282Z",
     "iopub.status.idle": "2021-01-11T22:31:12.827927Z",
     "shell.execute_reply": "2021-01-11T22:31:12.826920Z",
     "shell.execute_reply.started": "2021-01-11T22:14:48.479707Z"
    }
   },
   "outputs": [
    {
     "name": "stdout",
     "output_type": "stream",
     "text": [
      "nChan: 385, nFileSamp: 9000051\n",
      "16:17:22: Finished /Volumes/neuropixel_archive/Data/chronic/CNPIX5-Alessandro/raw/8-25-2020_SD_g0/8-25-2020_SD_g0_imec0/8-25-2020_SD_g0_t0.imec0.lf.bin\n",
      "nChan: 385, nFileSamp: 9000052\n",
      "16:20:02: Finished /Volumes/neuropixel_archive/Data/chronic/CNPIX5-Alessandro/raw/8-25-2020_SD_g0/8-25-2020_SD_g0_imec0/8-25-2020_SD_g0_t1.imec0.lf.bin\n",
      "nChan: 385, nFileSamp: 8127109\n",
      "16:22:28: Finished /Volumes/neuropixel_archive/Data/chronic/CNPIX5-Alessandro/raw/8-25-2020_SD_g0/8-25-2020_SD_g0_imec0/8-25-2020_SD_g0_t2.imec0.lf.bin\n",
      "nChan: 385, nFileSamp: 8277840\n",
      "16:24:52: Finished /Volumes/neuropixel_archive/Data/chronic/CNPIX5-Alessandro/raw/8-25-2020_SD2_g0/8-25-2020_SD2_g0_imec0/8-25-2020_SD2_g0_t0.imec0.lf.bin\n",
      "nChan: 385, nFileSamp: 9000052\n",
      "16:27:55: Finished /Volumes/neuropixel_archive/Data/chronic/CNPIX5-Alessandro/raw/8-25-2020_g0/8-25-2020_g0_imec0/8-25-2020_g0_t0.imec0.lf.bin\n",
      "nChan: 385, nFileSamp: 9000052\n",
      "16:31:12: Finished /Volumes/neuropixel_archive/Data/chronic/CNPIX5-Alessandro/raw/8-25-2020_g0/8-25-2020_g0_imec0/8-25-2020_g0_t1.imec0.lf.bin\n"
     ]
    }
   ],
   "source": [
    "run_spw_detection_pipeline_on_condition(subject=\"Alessandro\", condition=\"extended-wake\")"
   ]
  },
  {
   "cell_type": "code",
   "execution_count": 13,
   "metadata": {
    "execution": {
     "iopub.execute_input": "2021-01-22T18:30:21.371047Z",
     "iopub.status.busy": "2021-01-22T18:30:21.370544Z",
     "iopub.status.idle": "2021-01-22T18:55:58.834360Z",
     "shell.execute_reply": "2021-01-22T18:55:58.833807Z",
     "shell.execute_reply.started": "2021-01-22T18:30:21.370984Z"
    }
   },
   "outputs": [
    {
     "name": "stdout",
     "output_type": "stream",
     "text": [
      "nChan: 385, nFileSamp: 9000052\n",
      "12:34:40: Finished /Volumes/neuropixel_archive/Data/chronic/CNPIX5-Alessandro/raw/8-25-2020_g0/8-25-2020_g0_imec0/8-25-2020_g0_t2.imec0.lf.bin\n",
      "nChan: 385, nFileSamp: 9000052\n",
      "12:41:25: Finished /Volumes/neuropixel_archive/Data/chronic/CNPIX5-Alessandro/raw/8-25-2020_g0/8-25-2020_g0_imec0/8-25-2020_g0_t3.imec0.lf.bin\n",
      "nChan: 385, nFileSamp: 9000051\n",
      "12:46:54: Finished /Volumes/neuropixel_archive/Data/chronic/CNPIX5-Alessandro/raw/8-25-2020_g0/8-25-2020_g0_imec0/8-25-2020_g0_t4.imec0.lf.bin\n",
      "nChan: 385, nFileSamp: 9000052\n",
      "12:50:03: Finished /Volumes/neuropixel_archive/Data/chronic/CNPIX5-Alessandro/raw/8-25-2020_g0/8-25-2020_g0_imec0/8-25-2020_g0_t5.imec0.lf.bin\n",
      "nChan: 385, nFileSamp: 9000052\n",
      "12:53:13: Finished /Volumes/neuropixel_archive/Data/chronic/CNPIX5-Alessandro/raw/8-25-2020_g0/8-25-2020_g0_imec0/8-25-2020_g0_t6.imec0.lf.bin\n",
      "nChan: 385, nFileSamp: 9000052\n",
      "12:55:58: Finished /Volumes/neuropixel_archive/Data/chronic/CNPIX5-Alessandro/raw/8-25-2020_g0/8-25-2020_g0_imec0/8-25-2020_g0_t7.imec0.lf.bin\n"
     ]
    }
   ],
   "source": [
    "run_spw_detection_pipeline_on_condition(subject=\"Alessandro\", condition=\"recovery-sleep-6h\")"
   ]
  },
  {
   "cell_type": "markdown",
   "metadata": {},
   "source": [
    "### Eugene"
   ]
  },
  {
   "cell_type": "code",
   "execution_count": 34,
   "metadata": {
    "execution": {
     "iopub.execute_input": "2021-01-11T22:42:52.302612Z",
     "iopub.status.busy": "2021-01-11T22:42:52.302040Z",
     "iopub.status.idle": "2021-01-11T22:53:25.997541Z",
     "shell.execute_reply": "2021-01-11T22:53:25.996959Z",
     "shell.execute_reply.started": "2021-01-11T22:42:52.302545Z"
    }
   },
   "outputs": [
    {
     "name": "stdout",
     "output_type": "stream",
     "text": [
      "nChan: 385, nFileSamp: 9000026\n",
      "nChan: 385, nFileSamp: 9000026\n",
      "You are loading multifile SGLX data without xarray.\n",
      " Are you sure you want to do this? Please see documentation.\n",
      "Performing L-curve parameter estimation...\n",
      "No lambda given, using defaults\n",
      "min lambda 1e-11\n",
      "max lambda 0.0140\n",
      "min lambda 1e-11\n",
      "max lambda 0.0140\n",
      "l-curve (all lambda):  0.23\n",
      "Best lambda and R =  0.001404472887665455 ,  0.23\n"
     ]
    }
   ],
   "source": [
    "get_spw_detection_parameters(subject=\"Eugene\", detection_threshold_zscore=2.5, boundary_threshold_zscore=1)"
   ]
  },
  {
   "cell_type": "code",
   "execution_count": 35,
   "metadata": {
    "execution": {
     "iopub.execute_input": "2021-01-11T22:55:46.217733Z",
     "iopub.status.busy": "2021-01-11T22:55:46.217252Z",
     "iopub.status.idle": "2021-01-11T23:08:50.149821Z",
     "shell.execute_reply": "2021-01-11T23:08:50.149127Z",
     "shell.execute_reply.started": "2021-01-11T22:55:46.217673Z"
    }
   },
   "outputs": [
    {
     "name": "stdout",
     "output_type": "stream",
     "text": [
      "nChan: 385, nFileSamp: 800217\n",
      "16:55:56: Finished /Volumes/neuropixel_archive/Data/chronic/CNPIX6-Eugene/raw/9.24.2020_SD_24hs_g0/9.24.2020_SD_24hs_g0_imec0/9.24.2020_SD_24hs_g0_t0.imec0.lf.bin\n",
      "nChan: 385, nFileSamp: 2877424\n",
      "16:56:28: Finished /Volumes/neuropixel_archive/Data/chronic/CNPIX6-Eugene/raw/9.24.2020_SD_24hs1_g0/9.24.2020_SD_24hs1_g0_imec0/9.24.2020_SD_24hs1_g0_t0.imec0.lf.bin\n",
      "nChan: 385, nFileSamp: 2430722\n",
      "16:56:59: Finished /Volumes/neuropixel_archive/Data/chronic/CNPIX6-Eugene/raw/9.24.2020_SD_24hs2_g0/9.24.2020_SD_24hs2_g0_imec0/9.24.2020_SD_24hs2_g0_t0.imec0.lf.bin\n",
      "nChan: 385, nFileSamp: 5735230\n",
      "16:58:16: Finished /Volumes/neuropixel_archive/Data/chronic/CNPIX6-Eugene/raw/9.24.2020_SD_24hs3_g0/9.24.2020_SD_24hs3_g0_imec0/9.24.2020_SD_24hs3_g0_t0.imec0.lf.bin\n",
      "nChan: 385, nFileSamp: 9000025\n",
      "17:01:55: Finished /Volumes/neuropixel_archive/Data/chronic/CNPIX6-Eugene/raw/9.24.2020_SD_24hs3_g1/9.24.2020_SD_24hs3_g1_imec0/9.24.2020_SD_24hs3_g1_t0.imec0.lf.bin\n",
      "nChan: 385, nFileSamp: 5608943\n",
      "17:03:22: Finished /Volumes/neuropixel_archive/Data/chronic/CNPIX6-Eugene/raw/9.24.2020_SD_24hs3_g1/9.24.2020_SD_24hs3_g1_imec0/9.24.2020_SD_24hs3_g1_t1.imec0.lf.bin\n",
      "nChan: 385, nFileSamp: 2417612\n",
      "17:03:52: Finished /Volumes/neuropixel_archive/Data/chronic/CNPIX6-Eugene/raw/9.24.2020_SD_24hs4_g0/9.24.2020_SD_24hs4_g0_imec0/9.24.2020_SD_24hs4_g0_t0.imec0.lf.bin\n",
      "nChan: 385, nFileSamp: 3435368\n",
      "17:04:40: Finished /Volumes/neuropixel_archive/Data/chronic/CNPIX6-Eugene/raw/9.24.2020_SD_24hs5_g0/9.24.2020_SD_24hs5_g0_imec0/9.24.2020_SD_24hs5_g0_t0.imec0.lf.bin\n",
      "nChan: 385, nFileSamp: 1369314\n",
      "17:04:59: Finished /Volumes/neuropixel_archive/Data/chronic/CNPIX6-Eugene/raw/9.24.2020_SD_24hs7_g0/9.24.2020_SD_24hs7_g0_imec0/9.24.2020_SD_24hs7_g0_t0.imec0.lf.bin\n",
      "nChan: 385, nFileSamp: 9000025\n",
      "17:08:14: Finished /Volumes/neuropixel_archive/Data/chronic/CNPIX6-Eugene/raw/9.24.2020_SD_24hs8_g0/9.24.2020_SD_24hs8_g0_imec0/9.24.2020_SD_24hs8_g0_t0.imec0.lf.bin\n",
      "nChan: 385, nFileSamp: 2946948\n",
      "17:08:50: Finished /Volumes/neuropixel_archive/Data/chronic/CNPIX6-Eugene/raw/9.24.2020_SD_24hs8_g0/9.24.2020_SD_24hs8_g0_imec0/9.24.2020_SD_24hs8_g0_t1.imec0.lf.bin\n"
     ]
    }
   ],
   "source": [
    "run_spw_detection_pipeline_on_condition(subject=\"Eugene\", condition=\"extended-wake\")"
   ]
  },
  {
   "cell_type": "code",
   "execution_count": 14,
   "metadata": {
    "execution": {
     "iopub.execute_input": "2021-01-22T19:06:21.335106Z",
     "iopub.status.busy": "2021-01-22T19:06:21.334621Z",
     "iopub.status.idle": "2021-01-22T19:21:14.576294Z",
     "shell.execute_reply": "2021-01-22T19:21:14.575088Z",
     "shell.execute_reply.started": "2021-01-22T19:06:21.335044Z"
    }
   },
   "outputs": [
    {
     "name": "stdout",
     "output_type": "stream",
     "text": [
      "nChan: 385, nFileSamp: 9000026\n",
      "13:09:44: Finished /Volumes/neuropixel_archive/Data/chronic/CNPIX6-Eugene/raw/9.24.2020_SR_24hs_g0/9.24.2020_SR_24hs_g0_imec0/9.24.2020_SR_24hs_g0_t0.imec0.lf.bin\n",
      "nChan: 385, nFileSamp: 9000026\n",
      "13:12:33: Finished /Volumes/neuropixel_archive/Data/chronic/CNPIX6-Eugene/raw/9.24.2020_SR_24hs_g0/9.24.2020_SR_24hs_g0_imec0/9.24.2020_SR_24hs_g0_t1.imec0.lf.bin\n",
      "nChan: 385, nFileSamp: 9000026\n",
      "13:16:04: Finished /Volumes/neuropixel_archive/Data/chronic/CNPIX6-Eugene/raw/9.24.2020_SR_24hs_g0/9.24.2020_SR_24hs_g0_imec0/9.24.2020_SR_24hs_g0_t2.imec0.lf.bin\n",
      "nChan: 385, nFileSamp: 9000026\n",
      "13:18:46: Finished /Volumes/neuropixel_archive/Data/chronic/CNPIX6-Eugene/raw/9.24.2020_SR_24hs_g0/9.24.2020_SR_24hs_g0_imec0/9.24.2020_SR_24hs_g0_t3.imec0.lf.bin\n",
      "nChan: 385, nFileSamp: 9000025\n",
      "13:21:14: Finished /Volumes/neuropixel_archive/Data/chronic/CNPIX6-Eugene/raw/9.24.2020_SR_24hs_g0/9.24.2020_SR_24hs_g0_imec0/9.24.2020_SR_24hs_g0_t4.imec0.lf.bin\n"
     ]
    },
    {
     "ename": "KeyError",
     "evalue": "'fileSizeBytes'",
     "output_type": "error",
     "traceback": [
      "\u001b[0;31m---------------------------------------------------------------------------\u001b[0m",
      "\u001b[0;31mKeyError\u001b[0m                                  Traceback (most recent call last)",
      "\u001b[0;32m<ipython-input-14-9a15dc2f919e>\u001b[0m in \u001b[0;36m<module>\u001b[0;34m()\u001b[0m\n\u001b[0;32m----> 1\u001b[0;31m \u001b[0mrun_spw_detection_pipeline_on_condition\u001b[0m\u001b[0;34m(\u001b[0m\u001b[0msubject\u001b[0m\u001b[0;34m=\u001b[0m\u001b[0;34m\"Eugene\"\u001b[0m\u001b[0;34m,\u001b[0m \u001b[0mcondition\u001b[0m\u001b[0;34m=\u001b[0m\u001b[0;34m\"recovery-sleep-6h\"\u001b[0m\u001b[0;34m)\u001b[0m\u001b[0;34m\u001b[0m\u001b[0;34m\u001b[0m\u001b[0m\n\u001b[0m",
      "\u001b[0;32m<ipython-input-7-05bc8bcc35e0>\u001b[0m in \u001b[0;36mrun_spw_detection_pipeline_on_condition\u001b[0;34m(subject, condition)\u001b[0m\n\u001b[1;32m      8\u001b[0m \u001b[0;34m\u001b[0m\u001b[0m\n\u001b[1;32m      9\u001b[0m     \u001b[0;32mfor\u001b[0m \u001b[0mbin_path\u001b[0m\u001b[0;34m,\u001b[0m \u001b[0mspw_path\u001b[0m \u001b[0;32min\u001b[0m \u001b[0mzip\u001b[0m\u001b[0;34m(\u001b[0m\u001b[0mbin_paths\u001b[0m\u001b[0;34m,\u001b[0m \u001b[0mspw_paths\u001b[0m\u001b[0;34m)\u001b[0m\u001b[0;34m:\u001b[0m\u001b[0;34m\u001b[0m\u001b[0;34m\u001b[0m\u001b[0m\n\u001b[0;32m---> 10\u001b[0;31m         \u001b[0mrun_spw_detection_pipeline_on_file\u001b[0m\u001b[0;34m(\u001b[0m\u001b[0mbin_path\u001b[0m\u001b[0;34m,\u001b[0m \u001b[0mspw_path\u001b[0m\u001b[0;34m,\u001b[0m \u001b[0mparams_path\u001b[0m\u001b[0;34m,\u001b[0m \u001b[0msr_chans\u001b[0m\u001b[0;34m,\u001b[0m \u001b[0mhpc_chans\u001b[0m\u001b[0;34m)\u001b[0m\u001b[0;34m\u001b[0m\u001b[0;34m\u001b[0m\u001b[0m\n\u001b[0m\u001b[1;32m     11\u001b[0m         \u001b[0mcurrent_time\u001b[0m \u001b[0;34m=\u001b[0m \u001b[0mdatetime\u001b[0m\u001b[0;34m.\u001b[0m\u001b[0mnow\u001b[0m\u001b[0;34m(\u001b[0m\u001b[0;34m)\u001b[0m\u001b[0;34m.\u001b[0m\u001b[0mstrftime\u001b[0m\u001b[0;34m(\u001b[0m\u001b[0;34m\"%H:%M:%S\"\u001b[0m\u001b[0;34m)\u001b[0m\u001b[0;34m\u001b[0m\u001b[0;34m\u001b[0m\u001b[0m\n\u001b[1;32m     12\u001b[0m         \u001b[0mprint\u001b[0m\u001b[0;34m(\u001b[0m\u001b[0;34mf\"{current_time}: Finished {str(bin_path)}\"\u001b[0m\u001b[0;34m)\u001b[0m\u001b[0;34m\u001b[0m\u001b[0;34m\u001b[0m\u001b[0m\n",
      "\u001b[0;32m<ipython-input-6-732d41fb1bae>\u001b[0m in \u001b[0;36mrun_spw_detection_pipeline_on_file\u001b[0;34m(bin_path, spw_path, params_path, sr_chans, hpc_chans)\u001b[0m\n\u001b[1;32m      1\u001b[0m \u001b[0;32mdef\u001b[0m \u001b[0mrun_spw_detection_pipeline_on_file\u001b[0m\u001b[0;34m(\u001b[0m\u001b[0mbin_path\u001b[0m\u001b[0;34m,\u001b[0m \u001b[0mspw_path\u001b[0m\u001b[0;34m,\u001b[0m \u001b[0mparams_path\u001b[0m\u001b[0;34m,\u001b[0m \u001b[0msr_chans\u001b[0m\u001b[0;34m,\u001b[0m \u001b[0mhpc_chans\u001b[0m\u001b[0;34m)\u001b[0m\u001b[0;34m:\u001b[0m\u001b[0;34m\u001b[0m\u001b[0;34m\u001b[0m\u001b[0m\n\u001b[0;32m----> 2\u001b[0;31m     \u001b[0;34m(\u001b[0m\u001b[0mtime\u001b[0m\u001b[0;34m,\u001b[0m \u001b[0mhpc_lfps\u001b[0m\u001b[0;34m,\u001b[0m \u001b[0mfs\u001b[0m\u001b[0;34m)\u001b[0m \u001b[0;34m=\u001b[0m \u001b[0mload_timeseries\u001b[0m\u001b[0;34m(\u001b[0m\u001b[0mbin_path\u001b[0m\u001b[0;34m,\u001b[0m \u001b[0mhpc_chans\u001b[0m\u001b[0;34m)\u001b[0m\u001b[0;34m\u001b[0m\u001b[0;34m\u001b[0m\u001b[0m\n\u001b[0m\u001b[1;32m      3\u001b[0m \u001b[0;34m\u001b[0m\u001b[0m\n\u001b[1;32m      4\u001b[0m     \u001b[0;32mwith\u001b[0m \u001b[0mopen\u001b[0m\u001b[0;34m(\u001b[0m\u001b[0mparams_path\u001b[0m\u001b[0;34m)\u001b[0m \u001b[0;32mas\u001b[0m \u001b[0mparams_file\u001b[0m\u001b[0;34m:\u001b[0m\u001b[0;34m\u001b[0m\u001b[0;34m\u001b[0m\u001b[0m\n\u001b[1;32m      5\u001b[0m         \u001b[0mparams\u001b[0m \u001b[0;34m=\u001b[0m \u001b[0mjson\u001b[0m\u001b[0;34m.\u001b[0m\u001b[0mload\u001b[0m\u001b[0;34m(\u001b[0m\u001b[0mparams_file\u001b[0m\u001b[0;34m)\u001b[0m\u001b[0;34m\u001b[0m\u001b[0;34m\u001b[0m\u001b[0m\n",
      "\u001b[0;32m/home/gfindlay/Documents/ecephys/ecephys/sglx_utils/sglx_utils.py\u001b[0m in \u001b[0;36mload_timeseries\u001b[0;34m(bin_path, chans, start_time, end_time, datetime, xarray)\u001b[0m\n\u001b[1;32m    135\u001b[0m \u001b[0;34m\u001b[0m\u001b[0m\n\u001b[1;32m    136\u001b[0m     \u001b[0mmeta\u001b[0m \u001b[0;34m=\u001b[0m \u001b[0mreadMeta\u001b[0m\u001b[0;34m(\u001b[0m\u001b[0mbin_path\u001b[0m\u001b[0;34m)\u001b[0m\u001b[0;34m\u001b[0m\u001b[0;34m\u001b[0m\u001b[0m\n\u001b[0;32m--> 137\u001b[0;31m     \u001b[0mrawData\u001b[0m \u001b[0;34m=\u001b[0m \u001b[0mmakeMemMapRaw\u001b[0m\u001b[0;34m(\u001b[0m\u001b[0mbin_path\u001b[0m\u001b[0;34m,\u001b[0m \u001b[0mmeta\u001b[0m\u001b[0;34m)\u001b[0m\u001b[0;34m\u001b[0m\u001b[0;34m\u001b[0m\u001b[0m\n\u001b[0m\u001b[1;32m    138\u001b[0m     \u001b[0mfs\u001b[0m \u001b[0;34m=\u001b[0m \u001b[0mSampRate\u001b[0m\u001b[0;34m(\u001b[0m\u001b[0mmeta\u001b[0m\u001b[0;34m)\u001b[0m\u001b[0;34m\u001b[0m\u001b[0;34m\u001b[0m\u001b[0m\n\u001b[1;32m    139\u001b[0m \u001b[0;34m\u001b[0m\u001b[0m\n",
      "\u001b[0;32m/home/gfindlay/Documents/ecephys/ecephys/sglx_utils/readSGLX.py\u001b[0m in \u001b[0;36mmakeMemMapRaw\u001b[0;34m(binFullPath, meta)\u001b[0m\n\u001b[1;32m    270\u001b[0m \u001b[0;32mdef\u001b[0m \u001b[0mmakeMemMapRaw\u001b[0m\u001b[0;34m(\u001b[0m\u001b[0mbinFullPath\u001b[0m\u001b[0;34m,\u001b[0m \u001b[0mmeta\u001b[0m\u001b[0;34m)\u001b[0m\u001b[0;34m:\u001b[0m\u001b[0;34m\u001b[0m\u001b[0;34m\u001b[0m\u001b[0m\n\u001b[1;32m    271\u001b[0m     \u001b[0mnChan\u001b[0m \u001b[0;34m=\u001b[0m \u001b[0mint\u001b[0m\u001b[0;34m(\u001b[0m\u001b[0mmeta\u001b[0m\u001b[0;34m[\u001b[0m\u001b[0;34m'nSavedChans'\u001b[0m\u001b[0;34m]\u001b[0m\u001b[0;34m)\u001b[0m\u001b[0;34m\u001b[0m\u001b[0;34m\u001b[0m\u001b[0m\n\u001b[0;32m--> 272\u001b[0;31m     \u001b[0mnFileSamp\u001b[0m \u001b[0;34m=\u001b[0m \u001b[0mint\u001b[0m\u001b[0;34m(\u001b[0m\u001b[0mint\u001b[0m\u001b[0;34m(\u001b[0m\u001b[0mmeta\u001b[0m\u001b[0;34m[\u001b[0m\u001b[0;34m'fileSizeBytes'\u001b[0m\u001b[0;34m]\u001b[0m\u001b[0;34m)\u001b[0m\u001b[0;34m/\u001b[0m\u001b[0;34m(\u001b[0m\u001b[0;36m2\u001b[0m\u001b[0;34m*\u001b[0m\u001b[0mnChan\u001b[0m\u001b[0;34m)\u001b[0m\u001b[0;34m)\u001b[0m\u001b[0;34m\u001b[0m\u001b[0;34m\u001b[0m\u001b[0m\n\u001b[0m\u001b[1;32m    273\u001b[0m     \u001b[0mprint\u001b[0m\u001b[0;34m(\u001b[0m\u001b[0;34m\"nChan: %d, nFileSamp: %d\"\u001b[0m \u001b[0;34m%\u001b[0m \u001b[0;34m(\u001b[0m\u001b[0mnChan\u001b[0m\u001b[0;34m,\u001b[0m \u001b[0mnFileSamp\u001b[0m\u001b[0;34m)\u001b[0m\u001b[0;34m)\u001b[0m\u001b[0;34m\u001b[0m\u001b[0;34m\u001b[0m\u001b[0m\n\u001b[1;32m    274\u001b[0m     rawData = np.memmap(binFullPath, dtype='int16', mode='r',\n",
      "\u001b[0;31mKeyError\u001b[0m: 'fileSizeBytes'"
     ]
    }
   ],
   "source": [
    "run_spw_detection_pipeline_on_condition(subject=\"Eugene\", condition=\"recovery-sleep-6h\")"
   ]
  },
  {
   "cell_type": "markdown",
   "metadata": {},
   "source": [
    "# Run pipeline piecemeal"
   ]
  },
  {
   "cell_type": "code",
   "execution_count": 7,
   "metadata": {
    "execution": {
     "iopub.execute_input": "2021-01-05T19:53:33.930880Z",
     "iopub.status.busy": "2021-01-05T19:53:33.930756Z",
     "iopub.status.idle": "2021-01-05T19:53:33.941825Z",
     "shell.execute_reply": "2021-01-05T19:53:33.940984Z",
     "shell.execute_reply.started": "2021-01-05T19:53:33.930863Z"
    }
   },
   "outputs": [],
   "source": [
    "SUBJECT = \"Doppio\"\n",
    "CONDITION = \"BSL-0+2\""
   ]
  },
  {
   "cell_type": "markdown",
   "metadata": {},
   "source": [
    "## Load the data"
   ]
  },
  {
   "cell_type": "code",
   "execution_count": 8,
   "metadata": {
    "execution": {
     "iopub.execute_input": "2021-01-05T19:53:34.932411Z",
     "iopub.status.busy": "2021-01-05T19:53:34.931989Z",
     "iopub.status.idle": "2021-01-05T19:53:34.954991Z",
     "shell.execute_reply": "2021-01-05T19:53:34.954485Z",
     "shell.execute_reply.started": "2021-01-05T19:53:34.932358Z"
    }
   },
   "outputs": [],
   "source": [
    "sr_chans = channel_groups.stratum_radiatum_140um_to_200um[SUBJECT]\n",
    "hpc_chans = channel_groups.hippocampus[SUBJECT]\n",
    "bin_path = paths.get_datapath(subject=SUBJECT, condition=CONDITION, data=\"lf.bin\")\n",
    "params_path = paths.get_datapath(subject=SUBJECT, condition=\"REC-30+18\", data=\"sharp_wave_detection_params.json\")"
   ]
  },
  {
   "cell_type": "code",
   "execution_count": 9,
   "metadata": {
    "execution": {
     "iopub.execute_input": "2021-01-05T19:53:37.493282Z",
     "iopub.status.busy": "2021-01-05T19:53:37.492780Z",
     "iopub.status.idle": "2021-01-05T19:56:48.379247Z",
     "shell.execute_reply": "2021-01-05T19:56:48.377515Z",
     "shell.execute_reply.started": "2021-01-05T19:53:37.493223Z"
    }
   },
   "outputs": [
    {
     "name": "stdout",
     "output_type": "stream",
     "text": [
      "nChan: 385, nFileSamp: 18000019\n"
     ]
    }
   ],
   "source": [
    "(time, hpc_lfps, fs) = load_timeseries(bin_path, hpc_chans)"
   ]
  },
  {
   "cell_type": "markdown",
   "metadata": {},
   "source": [
    "### Explore LFPs (optional)"
   ]
  },
  {
   "cell_type": "code",
   "execution_count": null,
   "metadata": {},
   "outputs": [],
   "source": [
    "eplt.lfp_explorer(time, hpc_lfps, chan_labels=hpc_chans)"
   ]
  },
  {
   "cell_type": "markdown",
   "metadata": {},
   "source": [
    "## Detect sharp waves"
   ]
  },
  {
   "cell_type": "markdown",
   "metadata": {},
   "source": [
    "### If we need to determine detection parameters"
   ]
  },
  {
   "cell_type": "code",
   "execution_count": 8,
   "metadata": {
    "execution": {
     "iopub.execute_input": "2021-01-04T00:26:38.945022Z",
     "iopub.status.busy": "2021-01-04T00:26:38.944541Z",
     "iopub.status.idle": "2021-01-04T00:35:20.793274Z",
     "shell.execute_reply": "2021-01-04T00:35:20.791877Z",
     "shell.execute_reply.started": "2021-01-04T00:26:38.944964Z"
    }
   },
   "outputs": [
    {
     "name": "stdout",
     "output_type": "stream",
     "text": [
      "Performing L-curve parameter estimation...\n",
      "No lambda given, using defaults\n",
      "min lambda 1e-12\n",
      "max lambda 0.0126\n",
      "min lambda 1e-12\n",
      "max lambda 0.0126\n",
      "l-curve (all lambda):  0.23\n",
      "Best lambda and R =  0.0003822395851068327 ,  0.23\n"
     ]
    }
   ],
   "source": [
    "intersite_distance = 0.020\n",
    "k = get_kcsd(hpc_lfps, intersite_distance=intersite_distance, gdx=0.020, do_lcurve=True)\n",
    "hpc_csd = k.values('CSD')\n",
    "sr_csd = hpc_csd[np.isin(hpc_chans, sr_chans)]"
   ]
  },
  {
   "cell_type": "code",
   "execution_count": 32,
   "metadata": {
    "execution": {
     "iopub.execute_input": "2021-01-04T03:02:30.851252Z",
     "iopub.status.busy": "2021-01-04T03:02:30.850790Z",
     "iopub.status.idle": "2021-01-04T03:04:05.222403Z",
     "shell.execute_reply": "2021-01-04T03:04:05.221712Z",
     "shell.execute_reply.started": "2021-01-04T03:02:30.851191Z"
    }
   },
   "outputs": [],
   "source": [
    "spws = detect_sharp_waves_by_zscore(time, sr_csd)"
   ]
  },
  {
   "cell_type": "markdown",
   "metadata": {},
   "source": [
    "### If we are using detection parameters obtained elsewhere"
   ]
  },
  {
   "cell_type": "code",
   "execution_count": 10,
   "metadata": {
    "execution": {
     "iopub.execute_input": "2021-01-05T19:56:48.406584Z",
     "iopub.status.busy": "2021-01-05T19:56:48.406460Z",
     "iopub.status.idle": "2021-01-05T19:56:48.421533Z",
     "shell.execute_reply": "2021-01-05T19:56:48.420827Z",
     "shell.execute_reply.started": "2021-01-05T19:56:48.406570Z"
    }
   },
   "outputs": [],
   "source": [
    "with open(params_path) as params_file:\n",
    "    params = json.load(params_file)\n",
    "intersite_distance = params['intersite_distance']"
   ]
  },
  {
   "cell_type": "code",
   "execution_count": 11,
   "metadata": {
    "execution": {
     "iopub.execute_input": "2021-01-05T19:56:48.422456Z",
     "iopub.status.busy": "2021-01-05T19:56:48.422334Z",
     "iopub.status.idle": "2021-01-05T19:57:00.903095Z",
     "shell.execute_reply": "2021-01-05T19:57:00.902421Z",
     "shell.execute_reply.started": "2021-01-05T19:56:48.422442Z"
    }
   },
   "outputs": [],
   "source": [
    "k = get_kcsd(hpc_lfps, intersite_distance=params['intersite_distance'], gdx=params['gdx'], lambd=params['lambd'], R_init=params['R'], do_lcurve=False)\n",
    "hpc_csd = k.values('CSD')\n",
    "sr_csd = hpc_csd[np.isin(hpc_chans, sr_chans)]"
   ]
  },
  {
   "cell_type": "code",
   "execution_count": 12,
   "metadata": {
    "execution": {
     "iopub.execute_input": "2021-01-05T19:57:00.904113Z",
     "iopub.status.busy": "2021-01-05T19:57:00.903974Z",
     "iopub.status.idle": "2021-01-05T19:58:09.727859Z",
     "shell.execute_reply": "2021-01-05T19:58:09.726607Z",
     "shell.execute_reply.started": "2021-01-05T19:57:00.904096Z"
    }
   },
   "outputs": [],
   "source": [
    "spws = detect_sharp_waves_by_value(time, sr_csd, params['detection_threshold'], params['boundary_threshold'], params['minimum_duration'])"
   ]
  },
  {
   "cell_type": "markdown",
   "metadata": {},
   "source": [
    "## Compute SPW properties"
   ]
  },
  {
   "cell_type": "code",
   "execution_count": 13,
   "metadata": {
    "execution": {
     "iopub.execute_input": "2021-01-05T19:58:09.729183Z",
     "iopub.status.busy": "2021-01-05T19:58:09.729006Z",
     "iopub.status.idle": "2021-01-05T19:58:09.840161Z",
     "shell.execute_reply": "2021-01-05T19:58:09.839355Z",
     "shell.execute_reply.started": "2021-01-05T19:58:09.729163Z"
    }
   },
   "outputs": [],
   "source": [
    "spws[\"duration\"] = get_durations(spws)\n",
    "spws[\"midpoint\"] = get_midpoints(spws)"
   ]
  },
  {
   "cell_type": "code",
   "execution_count": 14,
   "metadata": {
    "execution": {
     "iopub.execute_input": "2021-01-05T19:58:09.841038Z",
     "iopub.status.busy": "2021-01-05T19:58:09.840914Z",
     "iopub.status.idle": "2021-01-05T20:01:08.682979Z",
     "shell.execute_reply": "2021-01-05T20:01:08.681903Z",
     "shell.execute_reply.started": "2021-01-05T19:58:09.841023Z"
    }
   },
   "outputs": [],
   "source": [
    "spws[\"sink_amplitude\"] = get_sink_amplitudes(spws, time, sr_csd) * (1e-6) # Scale to mA/mm"
   ]
  },
  {
   "cell_type": "code",
   "execution_count": 15,
   "metadata": {
    "execution": {
     "iopub.execute_input": "2021-01-05T20:01:08.685898Z",
     "iopub.status.busy": "2021-01-05T20:01:08.685637Z",
     "iopub.status.idle": "2021-01-05T20:04:09.993683Z",
     "shell.execute_reply": "2021-01-05T20:04:09.992590Z",
     "shell.execute_reply.started": "2021-01-05T20:01:08.685865Z"
    }
   },
   "outputs": [],
   "source": [
    "spws[\"sink_integral\"] = get_sink_integrals(spws, time, fs, sr_csd) * (1e-6) * (1e3) # Scale to mA * ms"
   ]
  },
  {
   "cell_type": "markdown",
   "metadata": {
    "execution": {
     "iopub.execute_input": "2020-12-01T00:20:18.941774Z",
     "iopub.status.busy": "2020-12-01T00:20:18.941278Z",
     "iopub.status.idle": "2020-12-01T00:20:18.960114Z",
     "shell.execute_reply": "2020-12-01T00:20:18.959367Z",
     "shell.execute_reply.started": "2020-12-01T00:20:18.941715Z"
    }
   },
   "source": [
    "## Export results"
   ]
  },
  {
   "cell_type": "code",
   "execution_count": 16,
   "metadata": {
    "execution": {
     "iopub.execute_input": "2021-01-05T20:04:09.995051Z",
     "iopub.status.busy": "2021-01-05T20:04:09.994903Z",
     "iopub.status.idle": "2021-01-05T20:04:10.050666Z",
     "shell.execute_reply": "2021-01-05T20:04:10.049955Z",
     "shell.execute_reply.started": "2021-01-05T20:04:09.995033Z"
    }
   },
   "outputs": [],
   "source": [
    "metadata = dict(\n",
    "    csd_chans=hpc_chans,\n",
    "    detection_chans=sr_chans,\n",
    "    electrode_positions=k.ele_pos, \n",
    "    intersite_distance=intersite_distance,\n",
    "    gdx=k.gdx,\n",
    "    lambd = k.lambd,\n",
    "    R = k.R,\n",
    "    detect_states=[\"all\"],\n",
    ")\n",
    "metadata.update(spws.attrs)\n",
    "spws_path = paths.get_datapath(subject=SUBJECT, condition=CONDITION, data=\"sharp_waves.h5\")\n",
    "store_df_h5(spws_path, spws, **metadata)"
   ]
  },
  {
   "cell_type": "markdown",
   "metadata": {},
   "source": [
    "## If necessary, create params file"
   ]
  },
  {
   "cell_type": "code",
   "execution_count": 85,
   "metadata": {
    "execution": {
     "iopub.execute_input": "2021-01-04T04:49:13.834943Z",
     "iopub.status.busy": "2021-01-04T04:49:13.834475Z",
     "iopub.status.idle": "2021-01-04T04:49:13.859881Z",
     "shell.execute_reply": "2021-01-04T04:49:13.859209Z",
     "shell.execute_reply.started": "2021-01-04T04:49:13.834885Z"
    }
   },
   "outputs": [],
   "source": [
    "metadata.update({'params_source_file': str(bin_path)})\n",
    "metadata['csd_chans'] = metadata['csd_chans'].tolist()\n",
    "metadata['electrode_positions'] = metadata['electrode_positions'].tolist()\n",
    "with open(params_path, 'x') as params_file:\n",
    "    json.dump(metadata, params_file, indent=4)"
   ]
  },
  {
   "cell_type": "code",
   "execution_count": null,
   "metadata": {},
   "outputs": [],
   "source": []
  }
 ],
 "metadata": {
  "kernelspec": {
   "display_name": "Python 3",
   "language": "python",
   "name": "python3"
  },
  "language_info": {
   "codemirror_mode": {
    "name": "ipython",
    "version": 3
   },
   "file_extension": ".py",
   "mimetype": "text/x-python",
   "name": "python",
   "nbconvert_exporter": "python",
   "pygments_lexer": "ipython3",
   "version": "3.7.9"
  }
 },
 "nbformat": 4,
 "nbformat_minor": 4
}
