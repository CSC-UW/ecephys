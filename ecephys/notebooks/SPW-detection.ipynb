{
 "cells": [
  {
   "cell_type": "markdown",
   "metadata": {},
   "source": [
    "- Time to load 24 hours of data = 1 hr. \n",
    "- Time to compute 24 hours of CSD = <5 minutes. \n",
    "- Time to validate 24 hours of CSD = 2 hours, 20 min. \n",
    "    - Memory footprint tripled during computation. \n",
    "- Time to detect 24 hours of sharp waves = 4h\n",
    "- Time to compute 24 hours of sharp wave properties = 24h\n",
    "- 24 hour detection is not prohibitively expensive, provided that computation of sharp-wave properties can be parallelized\n"
   ]
  },
  {
   "cell_type": "markdown",
   "metadata": {},
   "source": [
    "- TODO: Parallelize sharp wave property computation"
   ]
  },
  {
   "cell_type": "markdown",
   "metadata": {
    "collapsed": "true",
    "execution": {
     "iopub.execute_input": "2020-11-30T16:00:22.289233Z",
     "iopub.status.busy": "2020-11-30T16:00:22.288802Z",
     "iopub.status.idle": "2020-11-30T16:00:22.305803Z",
     "shell.execute_reply": "2020-11-30T16:00:22.305354Z",
     "shell.execute_reply.started": "2020-11-30T16:00:22.289179Z"
    }
   },
   "source": [
    "## Imports and notebook definition"
   ]
  },
  {
   "cell_type": "code",
   "execution_count": 1,
   "metadata": {
    "execution": {
     "iopub.execute_input": "2020-12-31T20:33:38.353418Z",
     "iopub.status.busy": "2020-12-31T20:33:38.352915Z",
     "iopub.status.idle": "2020-12-31T20:33:38.371013Z",
     "shell.execute_reply": "2020-12-31T20:33:38.370329Z",
     "shell.execute_reply.started": "2020-12-31T20:33:38.353361Z"
    }
   },
   "outputs": [],
   "source": [
    "%load_ext autoreload\n",
    "%autoreload 2"
   ]
  },
  {
   "cell_type": "code",
   "execution_count": 2,
   "metadata": {
    "execution": {
     "iopub.execute_input": "2020-12-31T20:33:39.004585Z",
     "iopub.status.busy": "2020-12-31T20:33:39.004247Z",
     "iopub.status.idle": "2020-12-31T20:33:39.156472Z",
     "shell.execute_reply": "2020-12-31T20:33:39.155814Z",
     "shell.execute_reply.started": "2020-12-31T20:33:39.004544Z"
    }
   },
   "outputs": [],
   "source": [
    "%matplotlib widget\n",
    "import matplotlib.pyplot as plt"
   ]
  },
  {
   "cell_type": "code",
   "execution_count": 3,
   "metadata": {
    "execution": {
     "iopub.execute_input": "2020-12-31T20:33:39.788230Z",
     "iopub.status.busy": "2020-12-31T20:33:39.787992Z",
     "iopub.status.idle": "2020-12-31T20:33:39.802686Z",
     "shell.execute_reply": "2020-12-31T20:33:39.801891Z",
     "shell.execute_reply.started": "2020-12-31T20:33:39.788202Z"
    }
   },
   "outputs": [],
   "source": [
    "import numpy as np\n",
    "import pandas as pd"
   ]
  },
  {
   "cell_type": "code",
   "execution_count": 5,
   "metadata": {
    "execution": {
     "iopub.execute_input": "2020-12-31T20:34:23.051837Z",
     "iopub.status.busy": "2020-12-31T20:34:23.051342Z",
     "iopub.status.idle": "2020-12-31T20:34:23.078860Z",
     "shell.execute_reply": "2020-12-31T20:34:23.078209Z",
     "shell.execute_reply.started": "2020-12-31T20:34:23.051774Z"
    }
   },
   "outputs": [],
   "source": [
    "from ecephys.data import paths, channel_groups\n",
    "from ecephys.sglx_utils import load_timeseries\n",
    "from ecephys.signal.csd import get_kcsd\n",
    "from ecephys.signal.sharp_wave_ripples import detect_sharp_waves, get_durations, get_midpoints, get_sink_amplitudes, get_sink_integrals\n",
    "from ecephys.helpers.utils import store_df_h5\n",
    "import ecephys.plot as eplt"
   ]
  },
  {
   "cell_type": "code",
   "execution_count": 6,
   "metadata": {
    "execution": {
     "iopub.execute_input": "2020-12-31T20:34:25.221857Z",
     "iopub.status.busy": "2020-12-31T20:34:25.221368Z",
     "iopub.status.idle": "2020-12-31T20:34:25.242417Z",
     "shell.execute_reply": "2020-12-31T20:34:25.241758Z",
     "shell.execute_reply.started": "2020-12-31T20:34:25.221798Z"
    }
   },
   "outputs": [],
   "source": [
    "SUBJECT = \"Doppio\"\n",
    "CONDITION = \"BSL-6+18\"\n",
    "START_TIME = None\n",
    "END_TIME = None"
   ]
  },
  {
   "cell_type": "markdown",
   "metadata": {
    "collapsed": "true"
   },
   "source": [
    "## Load the data"
   ]
  },
  {
   "cell_type": "code",
   "execution_count": 7,
   "metadata": {
    "execution": {
     "iopub.execute_input": "2020-12-31T20:34:26.638441Z",
     "iopub.status.busy": "2020-12-31T20:34:26.637960Z",
     "iopub.status.idle": "2020-12-31T20:34:26.662070Z",
     "shell.execute_reply": "2020-12-31T20:34:26.661227Z",
     "shell.execute_reply.started": "2020-12-31T20:34:26.638382Z"
    }
   },
   "outputs": [],
   "source": [
    "sr_chans = channel_groups.stratum_radiatum_140um_to_200um[SUBJECT]\n",
    "hpc_chans = channel_groups.hippocampus[SUBJECT]\n",
    "bin_path = paths.get_datapath(subject=SUBJECT, condition=CONDITION, data=\"lf.bin\")"
   ]
  },
  {
   "cell_type": "code",
   "execution_count": 8,
   "metadata": {
    "execution": {
     "iopub.execute_input": "2020-12-31T20:34:29.503765Z",
     "iopub.status.busy": "2020-12-31T20:34:29.503278Z",
     "iopub.status.idle": "2020-12-31T21:33:15.024770Z",
     "shell.execute_reply": "2020-12-31T21:33:15.022998Z",
     "shell.execute_reply.started": "2020-12-31T20:34:29.503707Z"
    }
   },
   "outputs": [
    {
     "name": "stdout",
     "output_type": "stream",
     "text": [
      "nChan: 385, nFileSamp: 215716004\n"
     ]
    }
   ],
   "source": [
    "(time, hpc_lfps, fs) = load_timeseries(bin_path, hpc_chans, start_time=START_TIME, end_time=END_TIME)"
   ]
  },
  {
   "cell_type": "markdown",
   "metadata": {
    "collapsed": "true"
   },
   "source": [
    "### Explore LFPs (optional)"
   ]
  },
  {
   "cell_type": "code",
   "execution_count": 11,
   "metadata": {
    "execution": {
     "iopub.execute_input": "2020-12-30T19:33:02.566606Z",
     "iopub.status.busy": "2020-12-30T19:33:02.566165Z",
     "iopub.status.idle": "2020-12-30T19:34:11.258656Z",
     "shell.execute_reply": "2020-12-30T19:34:11.257991Z",
     "shell.execute_reply.started": "2020-12-30T19:33:02.566550Z"
    }
   },
   "outputs": [
    {
     "data": {
      "application/vnd.jupyter.widget-view+json": {
       "model_id": "2414a9697c9641f886f223fdc215364f",
       "version_major": 2,
       "version_minor": 0
      },
      "text/plain": [
       "Canvas(toolbar=Toolbar(toolitems=[('Home', 'Reset original view', 'home', 'home'), ('Back', 'Back to previous …"
      ]
     },
     "metadata": {},
     "output_type": "display_data"
    },
    {
     "data": {
      "application/vnd.jupyter.widget-view+json": {
       "model_id": "548a73a489a044c6bc669b704926f707",
       "version_major": 2,
       "version_minor": 0
      },
      "text/plain": [
       "HBox(children=(FloatSlider(value=1.0, description='Secs', max=4.0, min=0.25, step=0.25), BoundedFloatText(valu…"
      ]
     },
     "metadata": {},
     "output_type": "display_data"
    },
    {
     "data": {
      "application/vnd.jupyter.widget-view+json": {
       "model_id": "aee9c77a809840b4af67156273380916",
       "version_major": 2,
       "version_minor": 0
      },
      "text/plain": [
       "Output()"
      ]
     },
     "metadata": {},
     "output_type": "display_data"
    }
   ],
   "source": [
    "eplt.lfp_explorer(time, hpc_lfps, chan_labels=hpc_chans)"
   ]
  },
  {
   "cell_type": "markdown",
   "metadata": {
    "collapsed": "true"
   },
   "source": [
    "## Detect sharp waves"
   ]
  },
  {
   "cell_type": "code",
   "execution_count": 9,
   "metadata": {
    "execution": {
     "iopub.execute_input": "2020-12-31T21:38:32.758812Z",
     "iopub.status.busy": "2020-12-31T21:38:32.758302Z",
     "iopub.status.idle": "2021-01-01T00:02:11.912513Z",
     "shell.execute_reply": "2021-01-01T00:02:11.911514Z",
     "shell.execute_reply.started": "2020-12-31T21:38:32.758753Z"
    }
   },
   "outputs": [
    {
     "name": "stdout",
     "output_type": "stream",
     "text": [
      "Performing L-curve parameter estimation...\n",
      "No lambda given, using defaults\n",
      "min lambda 1e-12\n",
      "max lambda 0.0126\n",
      "min lambda 1e-12\n",
      "max lambda 0.0126\n",
      "l-curve (all lambda):  0.23\n",
      "Best lambda and R =  0.0039366356376800745 ,  0.23\n"
     ]
    }
   ],
   "source": [
    "interestimate_distance = intersite_distance = 0.020\n",
    "k = get_kcsd(hpc_lfps, gdx=interestimate_distance, do_lcurve=True)"
   ]
  },
  {
   "cell_type": "code",
   "execution_count": 10,
   "metadata": {
    "execution": {
     "iopub.execute_input": "2021-01-01T00:14:40.998824Z",
     "iopub.status.busy": "2021-01-01T00:14:40.998283Z",
     "iopub.status.idle": "2021-01-01T00:18:57.286160Z",
     "shell.execute_reply": "2021-01-01T00:18:57.285245Z",
     "shell.execute_reply.started": "2021-01-01T00:14:40.998762Z"
    }
   },
   "outputs": [],
   "source": [
    "hpc_csd = k.values('CSD')"
   ]
  },
  {
   "cell_type": "code",
   "execution_count": 11,
   "metadata": {
    "execution": {
     "iopub.execute_input": "2021-01-01T00:18:57.308589Z",
     "iopub.status.busy": "2021-01-01T00:18:57.308461Z",
     "iopub.status.idle": "2021-01-01T00:19:00.429765Z",
     "shell.execute_reply": "2021-01-01T00:19:00.428538Z",
     "shell.execute_reply.started": "2021-01-01T00:18:57.308573Z"
    }
   },
   "outputs": [],
   "source": [
    "sr_csd = hpc_csd[np.isin(hpc_chans, sr_chans)]"
   ]
  },
  {
   "cell_type": "code",
   "execution_count": 12,
   "metadata": {
    "execution": {
     "iopub.execute_input": "2021-01-01T00:19:00.431305Z",
     "iopub.status.busy": "2021-01-01T00:19:00.431143Z",
     "iopub.status.idle": "2021-01-01T04:25:01.376841Z",
     "shell.execute_reply": "2021-01-01T04:25:01.375537Z",
     "shell.execute_reply.started": "2021-01-01T00:19:00.431285Z"
    }
   },
   "outputs": [],
   "source": [
    "spws = detect_sharp_waves(time, sr_csd)"
   ]
  },
  {
   "cell_type": "code",
   "execution_count": null,
   "metadata": {},
   "outputs": [],
   "source": [
    "fig, ax1 = plt.subplots(figsize=(16, 3))\n",
    "plt.hist(spws.start_time, bins=int(time.max() / 10))\n",
    "ax1.set_xticks([x * 3600 for x in range(24)])\n",
    "ax1.set_xticklabels([str(x) for x in range(24)])\n",
    "plt.show()"
   ]
  },
  {
   "cell_type": "markdown",
   "metadata": {
    "collapsed": "true"
   },
   "source": [
    "### Compute SPW properties"
   ]
  },
  {
   "cell_type": "code",
   "execution_count": 13,
   "metadata": {
    "execution": {
     "iopub.execute_input": "2021-01-01T04:25:01.378256Z",
     "iopub.status.busy": "2021-01-01T04:25:01.378083Z",
     "iopub.status.idle": "2021-01-01T04:25:02.660797Z",
     "shell.execute_reply": "2021-01-01T04:25:02.659949Z",
     "shell.execute_reply.started": "2021-01-01T04:25:01.378237Z"
    }
   },
   "outputs": [],
   "source": [
    "spws[\"duration\"] = get_durations(spws)\n",
    "spws[\"midpoint\"] = get_midpoints(spws)"
   ]
  },
  {
   "cell_type": "code",
   "execution_count": 14,
   "metadata": {
    "execution": {
     "iopub.execute_input": "2021-01-01T04:25:02.661647Z",
     "iopub.status.busy": "2021-01-01T04:25:02.661517Z",
     "iopub.status.idle": "2021-01-01T16:57:03.104433Z",
     "shell.execute_reply": "2021-01-01T16:57:03.103126Z",
     "shell.execute_reply.started": "2021-01-01T04:25:02.661632Z"
    }
   },
   "outputs": [],
   "source": [
    "spws[\"sink_amplitude\"] = get_sink_amplitudes(spws, time, sr_csd) * (1e-6) # Scale to mA/mm"
   ]
  },
  {
   "cell_type": "code",
   "execution_count": 15,
   "metadata": {
    "execution": {
     "iopub.execute_input": "2021-01-01T16:57:03.106075Z",
     "iopub.status.busy": "2021-01-01T16:57:03.105906Z",
     "iopub.status.idle": "2021-01-02T05:47:36.378222Z",
     "shell.execute_reply": "2021-01-02T05:47:36.377244Z",
     "shell.execute_reply.started": "2021-01-01T16:57:03.106055Z"
    }
   },
   "outputs": [],
   "source": [
    "spws[\"sink_integral\"] = get_sink_integrals(spws, time, fs, sr_csd) * (1e-6) * (1e3) # Scale to mA * ms"
   ]
  },
  {
   "cell_type": "markdown",
   "metadata": {
    "collapsed": "true",
    "execution": {
     "iopub.execute_input": "2020-12-01T00:20:18.941774Z",
     "iopub.status.busy": "2020-12-01T00:20:18.941278Z",
     "iopub.status.idle": "2020-12-01T00:20:18.960114Z",
     "shell.execute_reply": "2020-12-01T00:20:18.959367Z",
     "shell.execute_reply.started": "2020-12-01T00:20:18.941715Z"
    }
   },
   "source": [
    "### Export results"
   ]
  },
  {
   "cell_type": "code",
   "execution_count": 16,
   "metadata": {
    "execution": {
     "iopub.execute_input": "2021-01-02T05:47:36.424337Z",
     "iopub.status.busy": "2021-01-02T05:47:36.424218Z",
     "iopub.status.idle": "2021-01-02T05:47:36.436491Z",
     "shell.execute_reply": "2021-01-02T05:47:36.435523Z",
     "shell.execute_reply.started": "2021-01-02T05:47:36.424321Z"
    }
   },
   "outputs": [],
   "source": [
    "n_chans = hpc_lfps.shape[1]\n",
    "ele_pos = np.linspace(0.0, (n_chans - 1) * intersite_distance, n_chans).reshape(n_chans, 1)\n",
    "detection_threshold=2.5\n",
    "boundary_threshold=1\n",
    "minimum_duration=0.005"
   ]
  },
  {
   "cell_type": "code",
   "execution_count": 17,
   "metadata": {
    "execution": {
     "iopub.execute_input": "2021-01-02T05:47:36.437237Z",
     "iopub.status.busy": "2021-01-02T05:47:36.437123Z",
     "iopub.status.idle": "2021-01-02T05:47:36.521063Z",
     "shell.execute_reply": "2021-01-02T05:47:36.519723Z",
     "shell.execute_reply.started": "2021-01-02T05:47:36.437222Z"
    }
   },
   "outputs": [],
   "source": [
    "metadata = dict(\n",
    "    csd_chans=hpc_chans,\n",
    "    detection_chans=sr_chans,\n",
    "    electrode_positions=k.ele_pos, \n",
    "    intersite_distance=intersite_distance,\n",
    "    gdx=k.gdx,\n",
    "    lambd = k.lambd,\n",
    "    R = k.R,\n",
    "    detect_states=[\"all\"],\n",
    "    detection_zscore_threshold=detection_threshold,\n",
    "    boundary_zscore_threshold=boundary_threshold,\n",
    "    minimum_duration=minimum_duration,\n",
    ")\n",
    "spws_path = paths.get_datapath(subject=SUBJECT, condition=CONDITION, data=\"sharp_waves.h5\")\n",
    "store_df_h5(spws_path, spws, **metadata)"
   ]
  }
 ],
 "metadata": {
  "kernelspec": {
   "display_name": "Python 3",
   "language": "python",
   "name": "python3"
  },
  "language_info": {
   "codemirror_mode": {
    "name": "ipython",
    "version": 3
   },
   "file_extension": ".py",
   "mimetype": "text/x-python",
   "name": "python",
   "nbconvert_exporter": "python",
   "pygments_lexer": "ipython3",
   "version": "3.7.9"
  }
 },
 "nbformat": 4,
 "nbformat_minor": 4
}
