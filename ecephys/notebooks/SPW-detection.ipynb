{
 "cells": [
  {
   "cell_type": "code",
   "execution_count": 1,
   "metadata": {
    "execution": {
     "iopub.execute_input": "2020-11-26T00:29:59.851433Z",
     "iopub.status.busy": "2020-11-26T00:29:59.850851Z",
     "iopub.status.idle": "2020-11-26T00:29:59.868929Z",
     "shell.execute_reply": "2020-11-26T00:29:59.868016Z",
     "shell.execute_reply.started": "2020-11-26T00:29:59.851370Z"
    }
   },
   "outputs": [],
   "source": [
    "%load_ext autoreload\n",
    "%autoreload 2"
   ]
  },
  {
   "cell_type": "code",
   "execution_count": 2,
   "metadata": {
    "execution": {
     "iopub.execute_input": "2020-11-26T00:30:00.896183Z",
     "iopub.status.busy": "2020-11-26T00:30:00.895727Z",
     "iopub.status.idle": "2020-11-26T00:30:01.084314Z",
     "shell.execute_reply": "2020-11-26T00:30:01.083633Z",
     "shell.execute_reply.started": "2020-11-26T00:30:00.896127Z"
    }
   },
   "outputs": [],
   "source": [
    "%matplotlib widget\n",
    "import matplotlib.pyplot as plt"
   ]
  },
  {
   "cell_type": "code",
   "execution_count": 11,
   "metadata": {
    "execution": {
     "iopub.execute_input": "2020-11-26T00:32:56.856426Z",
     "iopub.status.busy": "2020-11-26T00:32:56.856307Z",
     "iopub.status.idle": "2020-11-26T00:32:56.884123Z",
     "shell.execute_reply": "2020-11-26T00:32:56.883535Z",
     "shell.execute_reply.started": "2020-11-26T00:32:56.856411Z"
    }
   },
   "outputs": [],
   "source": [
    "from pathlib import Path\n",
    "import numpy as np\n",
    "import pandas as pd\n",
    "from neurodsp.filt import filter_signal\n",
    "from ecephys.signal.csd import kcsd_npix"
   ]
  },
  {
   "cell_type": "code",
   "execution_count": 4,
   "metadata": {
    "execution": {
     "iopub.execute_input": "2020-11-26T00:30:02.258719Z",
     "iopub.status.busy": "2020-11-26T00:30:02.258288Z",
     "iopub.status.idle": "2020-11-26T00:30:02.451833Z",
     "shell.execute_reply": "2020-11-26T00:30:02.451184Z",
     "shell.execute_reply.started": "2020-11-26T00:30:02.258665Z"
    }
   },
   "outputs": [],
   "source": [
    "from ecephys.graham import paths, channel_groups\n",
    "from ecephys.sglx_utils import load_timeseries\n",
    "from ecephys.scoring import load_visbrain_hypnogram\n",
    "from ecephys.plot import plot_timeseries_interactive"
   ]
  },
  {
   "cell_type": "code",
   "execution_count": 5,
   "metadata": {
    "execution": {
     "iopub.execute_input": "2020-11-26T00:30:02.652253Z",
     "iopub.status.busy": "2020-11-26T00:30:02.652125Z",
     "iopub.status.idle": "2020-11-26T00:30:02.664637Z",
     "shell.execute_reply": "2020-11-26T00:30:02.663903Z",
     "shell.execute_reply.started": "2020-11-26T00:30:02.652238Z"
    }
   },
   "outputs": [],
   "source": [
    "condition = \"SR\"\n",
    "subject = \"Doppio\""
   ]
  },
  {
   "cell_type": "markdown",
   "metadata": {},
   "source": [
    "## Load the data"
   ]
  },
  {
   "cell_type": "code",
   "execution_count": 8,
   "metadata": {
    "execution": {
     "iopub.execute_input": "2020-11-26T00:30:17.794726Z",
     "iopub.status.busy": "2020-11-26T00:30:17.794285Z",
     "iopub.status.idle": "2020-11-26T00:30:17.811709Z",
     "shell.execute_reply": "2020-11-26T00:30:17.810907Z",
     "shell.execute_reply.started": "2020-11-26T00:30:17.794671Z"
    }
   },
   "outputs": [],
   "source": [
    "sr_chans = channel_groups.stratum_radiatum_csd[subject]\n",
    "so_chans = channel_groups.stratum_oriens_100um[subject]\n",
    "hpc_chans = channel_groups.hippocampus[subject]\n",
    "bin_path = Path(paths.lfp_bin[condition][subject])"
   ]
  },
  {
   "cell_type": "code",
   "execution_count": 25,
   "metadata": {
    "execution": {
     "iopub.execute_input": "2020-11-26T01:22:54.398634Z",
     "iopub.status.busy": "2020-11-26T01:22:54.398187Z",
     "iopub.status.idle": "2020-11-26T01:24:59.891734Z",
     "shell.execute_reply": "2020-11-26T01:24:59.890951Z",
     "shell.execute_reply.started": "2020-11-26T01:22:54.398577Z"
    }
   },
   "outputs": [
    {
     "name": "stdout",
     "output_type": "stream",
     "text": [
      "nChan: 385, nFileSamp: 18000019\n"
     ]
    }
   ],
   "source": [
    "(time, sr_lfps, fs) = load_timeseries(bin_path, sr_chans, start_time=None, end_time=None)"
   ]
  },
  {
   "cell_type": "code",
   "execution_count": 26,
   "metadata": {
    "execution": {
     "iopub.execute_input": "2020-11-26T01:24:59.916507Z",
     "iopub.status.busy": "2020-11-26T01:24:59.916382Z",
     "iopub.status.idle": "2020-11-26T01:27:01.177026Z",
     "shell.execute_reply": "2020-11-26T01:27:01.175849Z",
     "shell.execute_reply.started": "2020-11-26T01:24:59.916492Z"
    }
   },
   "outputs": [
    {
     "name": "stdout",
     "output_type": "stream",
     "text": [
      "nChan: 385, nFileSamp: 18000019\n"
     ]
    }
   ],
   "source": [
    "(time, so_lfps, fs) = load_timeseries(bin_path, so_chans, start_time=None, end_time=None)"
   ]
  },
  {
   "cell_type": "code",
   "execution_count": 9,
   "metadata": {
    "execution": {
     "iopub.execute_input": "2020-11-26T00:30:20.195696Z",
     "iopub.status.busy": "2020-11-26T00:30:20.195269Z",
     "iopub.status.idle": "2020-11-26T00:32:56.826609Z",
     "shell.execute_reply": "2020-11-26T00:32:56.825354Z",
     "shell.execute_reply.started": "2020-11-26T00:30:20.195643Z"
    }
   },
   "outputs": [
    {
     "name": "stdout",
     "output_type": "stream",
     "text": [
      "nChan: 385, nFileSamp: 18000019\n"
     ]
    }
   ],
   "source": [
    "(time, hpc_lfps, fs) = load_timeseries(bin_path, hpc_chans, start_time=None, end_time=None)"
   ]
  },
  {
   "cell_type": "markdown",
   "metadata": {},
   "source": [
    "## Explore LFPs"
   ]
  },
  {
   "cell_type": "code",
   "execution_count": 13,
   "metadata": {
    "execution": {
     "iopub.execute_input": "2020-11-25T19:40:29.050019Z",
     "iopub.status.busy": "2020-11-25T19:40:29.049450Z",
     "iopub.status.idle": "2020-11-25T19:40:38.341631Z",
     "shell.execute_reply": "2020-11-25T19:40:38.340858Z",
     "shell.execute_reply.started": "2020-11-25T19:40:29.049958Z"
    }
   },
   "outputs": [
    {
     "data": {
      "application/vnd.jupyter.widget-view+json": {
       "model_id": "32e2a2a4b43545b58a4e10e4bf0f23ef",
       "version_major": 2,
       "version_minor": 0
      },
      "text/plain": [
       "Canvas(toolbar=Toolbar(toolitems=[('Home', 'Reset original view', 'home', 'home'), ('Back', 'Back to previous …"
      ]
     },
     "metadata": {},
     "output_type": "display_data"
    },
    {
     "data": {
      "application/vnd.jupyter.widget-view+json": {
       "model_id": "64a6a1be51964c6491cb4d6e18e90018",
       "version_major": 2,
       "version_minor": 0
      },
      "text/plain": [
       "HBox(children=(FloatSlider(value=1.0, description='Secs', max=4.0, min=0.25, step=0.25), BoundedFloatText(valu…"
      ]
     },
     "metadata": {},
     "output_type": "display_data"
    },
    {
     "data": {
      "application/vnd.jupyter.widget-view+json": {
       "model_id": "1c2fd8112ddf4c0f97fc8ffede022000",
       "version_major": 2,
       "version_minor": 0
      },
      "text/plain": [
       "Output()"
      ]
     },
     "metadata": {},
     "output_type": "display_data"
    }
   ],
   "source": [
    "plot_timeseries_interactive(time, sr_lfps, chan_labels=sr_chans)"
   ]
  },
  {
   "cell_type": "code",
   "execution_count": 12,
   "metadata": {
    "execution": {
     "iopub.execute_input": "2020-11-25T19:40:25.339570Z",
     "iopub.status.busy": "2020-11-25T19:40:25.339012Z",
     "iopub.status.idle": "2020-11-25T19:40:26.436824Z",
     "shell.execute_reply": "2020-11-25T19:40:26.436080Z",
     "shell.execute_reply.started": "2020-11-25T19:40:25.339505Z"
    }
   },
   "outputs": [],
   "source": [
    "lfps = (sr_lfps.T - so_lfps.T).T"
   ]
  },
  {
   "cell_type": "code",
   "execution_count": 14,
   "metadata": {
    "execution": {
     "iopub.execute_input": "2020-11-25T19:41:49.444981Z",
     "iopub.status.busy": "2020-11-25T19:41:49.444414Z",
     "iopub.status.idle": "2020-11-25T19:41:57.823708Z",
     "shell.execute_reply": "2020-11-25T19:41:57.822739Z",
     "shell.execute_reply.started": "2020-11-25T19:41:49.444917Z"
    }
   },
   "outputs": [
    {
     "data": {
      "application/vnd.jupyter.widget-view+json": {
       "model_id": "3ed8f06a37234a4aaa5dd3cc7a76d0ea",
       "version_major": 2,
       "version_minor": 0
      },
      "text/plain": [
       "Canvas(toolbar=Toolbar(toolitems=[('Home', 'Reset original view', 'home', 'home'), ('Back', 'Back to previous …"
      ]
     },
     "metadata": {},
     "output_type": "display_data"
    },
    {
     "data": {
      "application/vnd.jupyter.widget-view+json": {
       "model_id": "0934fb4455d74e48a14cf9651690dd5d",
       "version_major": 2,
       "version_minor": 0
      },
      "text/plain": [
       "HBox(children=(FloatSlider(value=1.0, description='Secs', max=4.0, min=0.25, step=0.25), BoundedFloatText(valu…"
      ]
     },
     "metadata": {},
     "output_type": "display_data"
    },
    {
     "data": {
      "application/vnd.jupyter.widget-view+json": {
       "model_id": "b95a3dca03d54fff8e952f95b0764cf7",
       "version_major": 2,
       "version_minor": 0
      },
      "text/plain": [
       "Output()"
      ]
     },
     "metadata": {},
     "output_type": "display_data"
    }
   ],
   "source": [
    "plot_timeseries_interactive(time, lfps, chan_labels=sr_chans)"
   ]
  },
  {
   "cell_type": "markdown",
   "metadata": {},
   "source": [
    "## Filter signal"
   ]
  },
  {
   "cell_type": "code",
   "execution_count": 31,
   "metadata": {
    "execution": {
     "iopub.execute_input": "2020-11-26T01:31:20.789820Z",
     "iopub.status.busy": "2020-11-26T01:31:20.789365Z",
     "iopub.status.idle": "2020-11-26T01:32:03.879140Z",
     "shell.execute_reply": "2020-11-26T01:32:03.877970Z",
     "shell.execute_reply.started": "2020-11-26T01:31:20.789764Z"
    }
   },
   "outputs": [],
   "source": [
    "f_range = (None, 35)\n",
    "filtered_sr_lfps = filter_signal(sr_lfps.T, fs, 'lowpass', f_range)"
   ]
  },
  {
   "cell_type": "code",
   "execution_count": 32,
   "metadata": {
    "execution": {
     "iopub.execute_input": "2020-11-26T01:32:03.909064Z",
     "iopub.status.busy": "2020-11-26T01:32:03.908939Z",
     "iopub.status.idle": "2020-11-26T01:32:11.853989Z",
     "shell.execute_reply": "2020-11-26T01:32:11.853298Z",
     "shell.execute_reply.started": "2020-11-26T01:32:03.909048Z"
    }
   },
   "outputs": [
    {
     "data": {
      "application/vnd.jupyter.widget-view+json": {
       "model_id": "f6b47bde26a0475e8cb2b9d556d99e6d",
       "version_major": 2,
       "version_minor": 0
      },
      "text/plain": [
       "Canvas(toolbar=Toolbar(toolitems=[('Home', 'Reset original view', 'home', 'home'), ('Back', 'Back to previous …"
      ]
     },
     "metadata": {},
     "output_type": "display_data"
    },
    {
     "data": {
      "application/vnd.jupyter.widget-view+json": {
       "model_id": "c4605c61e81d46a98d12de2e96db4bbe",
       "version_major": 2,
       "version_minor": 0
      },
      "text/plain": [
       "HBox(children=(FloatSlider(value=1.0, description='Secs', max=4.0, min=0.25, step=0.25), BoundedFloatText(valu…"
      ]
     },
     "metadata": {},
     "output_type": "display_data"
    },
    {
     "data": {
      "application/vnd.jupyter.widget-view+json": {
       "model_id": "16e6b499c01b4a03ad742c0dffee99e7",
       "version_major": 2,
       "version_minor": 0
      },
      "text/plain": [
       "Output()"
      ]
     },
     "metadata": {},
     "output_type": "display_data"
    }
   ],
   "source": [
    "plot_timeseries_interactive(time, filtered_sr_lfps.T, chan_labels=sr_chans)"
   ]
  },
  {
   "cell_type": "code",
   "execution_count": 73,
   "metadata": {
    "execution": {
     "iopub.execute_input": "2020-11-26T17:25:31.227739Z",
     "iopub.status.busy": "2020-11-26T17:25:31.227299Z",
     "iopub.status.idle": "2020-11-26T17:28:16.867623Z",
     "shell.execute_reply": "2020-11-26T17:28:16.866862Z",
     "shell.execute_reply.started": "2020-11-26T17:25:31.227683Z"
    }
   },
   "outputs": [],
   "source": [
    "f_range = (2, 35)\n",
    "filtered_sr_lfps = filter_signal(sr_lfps.T, fs, 'bandpass', f_range)"
   ]
  },
  {
   "cell_type": "code",
   "execution_count": 74,
   "metadata": {
    "execution": {
     "iopub.execute_input": "2020-11-26T17:28:16.911557Z",
     "iopub.status.busy": "2020-11-26T17:28:16.911434Z",
     "iopub.status.idle": "2020-11-26T17:28:24.841453Z",
     "shell.execute_reply": "2020-11-26T17:28:24.840836Z",
     "shell.execute_reply.started": "2020-11-26T17:28:16.911542Z"
    }
   },
   "outputs": [
    {
     "data": {
      "application/vnd.jupyter.widget-view+json": {
       "model_id": "b396f3cb7bb746bba93ca7563e03fcda",
       "version_major": 2,
       "version_minor": 0
      },
      "text/plain": [
       "Canvas(toolbar=Toolbar(toolitems=[('Home', 'Reset original view', 'home', 'home'), ('Back', 'Back to previous …"
      ]
     },
     "metadata": {},
     "output_type": "display_data"
    },
    {
     "data": {
      "application/vnd.jupyter.widget-view+json": {
       "model_id": "eb2e1371ee1e4c8f943015339d5a5506",
       "version_major": 2,
       "version_minor": 0
      },
      "text/plain": [
       "HBox(children=(FloatSlider(value=1.0, description='Secs', max=4.0, min=0.25, step=0.25), BoundedFloatText(valu…"
      ]
     },
     "metadata": {},
     "output_type": "display_data"
    },
    {
     "data": {
      "application/vnd.jupyter.widget-view+json": {
       "model_id": "2d5ef4e5a86a4da89f355b5ae1c52094",
       "version_major": 2,
       "version_minor": 0
      },
      "text/plain": [
       "Output()"
      ]
     },
     "metadata": {},
     "output_type": "display_data"
    }
   ],
   "source": [
    "plot_timeseries_interactive(time, filtered_sr_lfps.T, chan_labels=sr_chans)"
   ]
  },
  {
   "cell_type": "markdown",
   "metadata": {},
   "source": [
    "## Detection type I: Thresholding LFP negativity by Z-score"
   ]
  },
  {
   "cell_type": "code",
   "execution_count": 94,
   "metadata": {
    "execution": {
     "iopub.execute_input": "2020-11-26T19:38:53.274202Z",
     "iopub.status.busy": "2020-11-26T19:38:53.273726Z",
     "iopub.status.idle": "2020-11-26T19:41:31.662588Z",
     "shell.execute_reply": "2020-11-26T19:41:31.661379Z",
     "shell.execute_reply.started": "2020-11-26T19:38:53.274125Z"
    }
   },
   "outputs": [],
   "source": [
    "from ecephys.signal.ripples import _threshold_by_zscore\n",
    "from ripple_detection.core import get_envelope\n",
    "\n",
    "filtered_lfps = -filtered_sr_lfps.T\n",
    "filtered_lfps[filtered_lfps < 0] = 0\n",
    "not_null = np.all(pd.notnull(filtered_lfps), axis=1)\n",
    "filtered_lfps, _time = (filtered_lfps[not_null], time[not_null])\n",
    "combined_filtered_lfps = np.sum(filtered_lfps, axis=1)\n",
    "\n",
    "candidate_spw_times = _threshold_by_zscore(\n",
    "    combined_filtered_lfps,\n",
    "    _time,\n",
    "    minimum_duration=0.005,\n",
    "    detection_zscore_threshold=3,\n",
    "    boundary_zscore_threshold=1,\n",
    ")\n",
    "\n",
    "index = pd.Index(np.arange(len(candidate_spw_times)) + 1, name=\"spw_number\")\n",
    "spw_times = pd.DataFrame(candidate_spw_times, columns=[\"start_time\", \"end_time\"], index=index)"
   ]
  },
  {
   "cell_type": "code",
   "execution_count": 95,
   "metadata": {
    "execution": {
     "iopub.execute_input": "2020-11-26T19:41:31.720387Z",
     "iopub.status.busy": "2020-11-26T19:41:31.720262Z",
     "iopub.status.idle": "2020-11-26T19:53:37.878918Z",
     "shell.execute_reply": "2020-11-26T19:53:37.877736Z",
     "shell.execute_reply.started": "2020-11-26T19:41:31.720372Z"
    }
   },
   "outputs": [],
   "source": [
    "from ecephys.signal.ripples import compute_ripple_features\n",
    "\n",
    "spw_times = compute_ripple_features(_time, filtered_lfps, spw_times, fs, 'Kay', smoothing_sigma=0.0)"
   ]
  },
  {
   "cell_type": "code",
   "execution_count": 96,
   "metadata": {
    "execution": {
     "iopub.execute_input": "2020-11-26T19:53:37.880144Z",
     "iopub.status.busy": "2020-11-26T19:53:37.879999Z",
     "iopub.status.idle": "2020-11-26T19:53:37.904867Z",
     "shell.execute_reply": "2020-11-26T19:53:37.904139Z",
     "shell.execute_reply.started": "2020-11-26T19:53:37.880126Z"
    }
   },
   "outputs": [
    {
     "data": {
      "text/html": [
       "<div>\n",
       "<style scoped>\n",
       "    .dataframe tbody tr th:only-of-type {\n",
       "        vertical-align: middle;\n",
       "    }\n",
       "\n",
       "    .dataframe tbody tr th {\n",
       "        vertical-align: top;\n",
       "    }\n",
       "\n",
       "    .dataframe thead th {\n",
       "        text-align: right;\n",
       "    }\n",
       "</style>\n",
       "<table border=\"1\" class=\"dataframe\">\n",
       "  <thead>\n",
       "    <tr style=\"text-align: right;\">\n",
       "      <th></th>\n",
       "      <th>start_time</th>\n",
       "      <th>end_time</th>\n",
       "      <th>duration</th>\n",
       "      <th>center_time</th>\n",
       "      <th>nadir_time</th>\n",
       "      <th>envelope_integral</th>\n",
       "      <th>envelope_peak</th>\n",
       "      <th>mean_rms</th>\n",
       "      <th>summed_rms</th>\n",
       "      <th>max_rms</th>\n",
       "      <th>mean_amplitude</th>\n",
       "      <th>max_amplitude</th>\n",
       "    </tr>\n",
       "    <tr>\n",
       "      <th>spw_number</th>\n",
       "      <th></th>\n",
       "      <th></th>\n",
       "      <th></th>\n",
       "      <th></th>\n",
       "      <th></th>\n",
       "      <th></th>\n",
       "      <th></th>\n",
       "      <th></th>\n",
       "      <th></th>\n",
       "      <th></th>\n",
       "      <th></th>\n",
       "      <th></th>\n",
       "    </tr>\n",
       "  </thead>\n",
       "  <tbody>\n",
       "    <tr>\n",
       "      <th>1</th>\n",
       "      <td>47.021553</td>\n",
       "      <td>47.048353</td>\n",
       "      <td>0.0268</td>\n",
       "      <td>47.034953</td>\n",
       "      <td>47.021553</td>\n",
       "      <td>166371.545583</td>\n",
       "      <td>2652.641939</td>\n",
       "      <td>584.854823</td>\n",
       "      <td>7603.112701</td>\n",
       "      <td>742.045104</td>\n",
       "      <td>526.215469</td>\n",
       "      <td>715.590225</td>\n",
       "    </tr>\n",
       "    <tr>\n",
       "      <th>2</th>\n",
       "      <td>73.973126</td>\n",
       "      <td>74.013126</td>\n",
       "      <td>0.0400</td>\n",
       "      <td>73.993126</td>\n",
       "      <td>74.013126</td>\n",
       "      <td>269764.957808</td>\n",
       "      <td>3110.843671</td>\n",
       "      <td>636.294686</td>\n",
       "      <td>8271.830917</td>\n",
       "      <td>727.651448</td>\n",
       "      <td>639.632100</td>\n",
       "      <td>740.460225</td>\n",
       "    </tr>\n",
       "    <tr>\n",
       "      <th>3</th>\n",
       "      <td>87.201112</td>\n",
       "      <td>87.301112</td>\n",
       "      <td>0.1000</td>\n",
       "      <td>87.251112</td>\n",
       "      <td>87.301112</td>\n",
       "      <td>758746.360762</td>\n",
       "      <td>3490.477184</td>\n",
       "      <td>710.592883</td>\n",
       "      <td>9237.707485</td>\n",
       "      <td>875.846920</td>\n",
       "      <td>716.534301</td>\n",
       "      <td>834.688976</td>\n",
       "    </tr>\n",
       "    <tr>\n",
       "      <th>4</th>\n",
       "      <td>87.999512</td>\n",
       "      <td>88.027911</td>\n",
       "      <td>0.0284</td>\n",
       "      <td>88.013711</td>\n",
       "      <td>87.999512</td>\n",
       "      <td>200044.981153</td>\n",
       "      <td>3034.285481</td>\n",
       "      <td>649.571194</td>\n",
       "      <td>8444.425524</td>\n",
       "      <td>839.666150</td>\n",
       "      <td>701.843824</td>\n",
       "      <td>756.933179</td>\n",
       "    </tr>\n",
       "    <tr>\n",
       "      <th>5</th>\n",
       "      <td>90.935109</td>\n",
       "      <td>90.964709</td>\n",
       "      <td>0.0296</td>\n",
       "      <td>90.949909</td>\n",
       "      <td>90.935109</td>\n",
       "      <td>181114.458519</td>\n",
       "      <td>2608.839470</td>\n",
       "      <td>580.888174</td>\n",
       "      <td>7551.546256</td>\n",
       "      <td>684.333483</td>\n",
       "      <td>439.888779</td>\n",
       "      <td>523.817146</td>\n",
       "    </tr>\n",
       "    <tr>\n",
       "      <th>...</th>\n",
       "      <td>...</td>\n",
       "      <td>...</td>\n",
       "      <td>...</td>\n",
       "      <td>...</td>\n",
       "      <td>...</td>\n",
       "      <td>...</td>\n",
       "      <td>...</td>\n",
       "      <td>...</td>\n",
       "      <td>...</td>\n",
       "      <td>...</td>\n",
       "      <td>...</td>\n",
       "      <td>...</td>\n",
       "    </tr>\n",
       "    <tr>\n",
       "      <th>6631</th>\n",
       "      <td>7197.235162</td>\n",
       "      <td>7197.277562</td>\n",
       "      <td>0.0424</td>\n",
       "      <td>7197.256362</td>\n",
       "      <td>7197.235162</td>\n",
       "      <td>277196.371691</td>\n",
       "      <td>2831.149172</td>\n",
       "      <td>605.984285</td>\n",
       "      <td>7877.795705</td>\n",
       "      <td>770.190965</td>\n",
       "      <td>525.649443</td>\n",
       "      <td>720.915793</td>\n",
       "    </tr>\n",
       "    <tr>\n",
       "      <th>6632</th>\n",
       "      <td>7198.137562</td>\n",
       "      <td>7198.175562</td>\n",
       "      <td>0.0380</td>\n",
       "      <td>7198.156562</td>\n",
       "      <td>7198.175562</td>\n",
       "      <td>227876.350072</td>\n",
       "      <td>2609.146032</td>\n",
       "      <td>528.896318</td>\n",
       "      <td>6875.652135</td>\n",
       "      <td>911.672230</td>\n",
       "      <td>406.677231</td>\n",
       "      <td>789.213268</td>\n",
       "    </tr>\n",
       "    <tr>\n",
       "      <th>6633</th>\n",
       "      <td>7198.634761</td>\n",
       "      <td>7198.716761</td>\n",
       "      <td>0.0820</td>\n",
       "      <td>7198.675761</td>\n",
       "      <td>7198.634761</td>\n",
       "      <td>958930.913475</td>\n",
       "      <td>4978.687382</td>\n",
       "      <td>1065.828176</td>\n",
       "      <td>13855.766290</td>\n",
       "      <td>1297.673928</td>\n",
       "      <td>1220.742873</td>\n",
       "      <td>1406.807306</td>\n",
       "    </tr>\n",
       "    <tr>\n",
       "      <th>6634</th>\n",
       "      <td>7199.073961</td>\n",
       "      <td>7199.127161</td>\n",
       "      <td>0.0532</td>\n",
       "      <td>7199.100561</td>\n",
       "      <td>7199.127161</td>\n",
       "      <td>404512.767081</td>\n",
       "      <td>3689.438886</td>\n",
       "      <td>710.093005</td>\n",
       "      <td>9231.209062</td>\n",
       "      <td>886.255519</td>\n",
       "      <td>720.032279</td>\n",
       "      <td>876.217046</td>\n",
       "    </tr>\n",
       "    <tr>\n",
       "      <th>6635</th>\n",
       "      <td>7199.173961</td>\n",
       "      <td>7199.213560</td>\n",
       "      <td>0.0396</td>\n",
       "      <td>7199.193760</td>\n",
       "      <td>7199.173961</td>\n",
       "      <td>434435.538962</td>\n",
       "      <td>4975.873677</td>\n",
       "      <td>958.042762</td>\n",
       "      <td>12454.555907</td>\n",
       "      <td>1179.924907</td>\n",
       "      <td>1075.709357</td>\n",
       "      <td>1371.275539</td>\n",
       "    </tr>\n",
       "  </tbody>\n",
       "</table>\n",
       "<p>6635 rows × 12 columns</p>\n",
       "</div>"
      ],
      "text/plain": [
       "             start_time     end_time  duration  center_time   nadir_time  \\\n",
       "spw_number                                                                 \n",
       "1             47.021553    47.048353    0.0268    47.034953    47.021553   \n",
       "2             73.973126    74.013126    0.0400    73.993126    74.013126   \n",
       "3             87.201112    87.301112    0.1000    87.251112    87.301112   \n",
       "4             87.999512    88.027911    0.0284    88.013711    87.999512   \n",
       "5             90.935109    90.964709    0.0296    90.949909    90.935109   \n",
       "...                 ...          ...       ...          ...          ...   \n",
       "6631        7197.235162  7197.277562    0.0424  7197.256362  7197.235162   \n",
       "6632        7198.137562  7198.175562    0.0380  7198.156562  7198.175562   \n",
       "6633        7198.634761  7198.716761    0.0820  7198.675761  7198.634761   \n",
       "6634        7199.073961  7199.127161    0.0532  7199.100561  7199.127161   \n",
       "6635        7199.173961  7199.213560    0.0396  7199.193760  7199.173961   \n",
       "\n",
       "            envelope_integral  envelope_peak     mean_rms    summed_rms  \\\n",
       "spw_number                                                                \n",
       "1               166371.545583    2652.641939   584.854823   7603.112701   \n",
       "2               269764.957808    3110.843671   636.294686   8271.830917   \n",
       "3               758746.360762    3490.477184   710.592883   9237.707485   \n",
       "4               200044.981153    3034.285481   649.571194   8444.425524   \n",
       "5               181114.458519    2608.839470   580.888174   7551.546256   \n",
       "...                       ...            ...          ...           ...   \n",
       "6631            277196.371691    2831.149172   605.984285   7877.795705   \n",
       "6632            227876.350072    2609.146032   528.896318   6875.652135   \n",
       "6633            958930.913475    4978.687382  1065.828176  13855.766290   \n",
       "6634            404512.767081    3689.438886   710.093005   9231.209062   \n",
       "6635            434435.538962    4975.873677   958.042762  12454.555907   \n",
       "\n",
       "                max_rms  mean_amplitude  max_amplitude  \n",
       "spw_number                                              \n",
       "1            742.045104      526.215469     715.590225  \n",
       "2            727.651448      639.632100     740.460225  \n",
       "3            875.846920      716.534301     834.688976  \n",
       "4            839.666150      701.843824     756.933179  \n",
       "5            684.333483      439.888779     523.817146  \n",
       "...                 ...             ...            ...  \n",
       "6631         770.190965      525.649443     720.915793  \n",
       "6632         911.672230      406.677231     789.213268  \n",
       "6633        1297.673928     1220.742873    1406.807306  \n",
       "6634         886.255519      720.032279     876.217046  \n",
       "6635        1179.924907     1075.709357    1371.275539  \n",
       "\n",
       "[6635 rows x 12 columns]"
      ]
     },
     "execution_count": 96,
     "metadata": {},
     "output_type": "execute_result"
    }
   ],
   "source": [
    "spw_times"
   ]
  },
  {
   "cell_type": "code",
   "execution_count": 97,
   "metadata": {
    "execution": {
     "iopub.execute_input": "2020-11-26T19:53:37.905676Z",
     "iopub.status.busy": "2020-11-26T19:53:37.905543Z",
     "iopub.status.idle": "2020-11-26T19:53:57.825686Z",
     "shell.execute_reply": "2020-11-26T19:53:57.824966Z",
     "shell.execute_reply.started": "2020-11-26T19:53:37.905661Z"
    }
   },
   "outputs": [
    {
     "data": {
      "application/vnd.jupyter.widget-view+json": {
       "model_id": "053813093abd4e76928fd5c61087ac66",
       "version_major": 2,
       "version_minor": 0
      },
      "text/plain": [
       "Canvas(toolbar=Toolbar(toolitems=[('Home', 'Reset original view', 'home', 'home'), ('Back', 'Back to previous …"
      ]
     },
     "metadata": {},
     "output_type": "display_data"
    },
    {
     "data": {
      "application/vnd.jupyter.widget-view+json": {
       "model_id": "6ecbc7287fef4d228efd672f10b6654a",
       "version_major": 2,
       "version_minor": 0
      },
      "text/plain": [
       "interactive(children=(FloatSlider(value=1.0, description='window_length', max=2.0, min=0.25, step=0.25), IntSl…"
      ]
     },
     "metadata": {},
     "output_type": "display_data"
    }
   ],
   "source": [
    "from ecephys.plot import plot_ripple\n",
    "\n",
    "from ipywidgets import (\n",
    "    fixed,\n",
    "    interact,\n",
    ")\n",
    "\n",
    "_, ax = plt.subplots(3, 1, figsize=(18, 6))\n",
    "_ = interact(\n",
    "    plot_ripple,\n",
    "    time=fixed(_time),\n",
    "    lfps=fixed(sr_lfps[not_null]),\n",
    "    filtered_lfps=fixed(-filtered_lfps),\n",
    "    fs=fixed(fs),\n",
    "    ripple_times=fixed(spw_times),\n",
    "    window_length=(0.25, 2, 0.25),\n",
    "    ripple_number=(1, len(spw_times), 1),\n",
    "    ax=fixed(ax),\n",
    ")"
   ]
  },
  {
   "cell_type": "markdown",
   "metadata": {},
   "source": [
    "## Detection type II: CSD"
   ]
  },
  {
   "cell_type": "code",
   "execution_count": 16,
   "metadata": {
    "execution": {
     "iopub.execute_input": "2020-11-26T00:59:26.580798Z",
     "iopub.status.busy": "2020-11-26T00:59:26.580370Z",
     "iopub.status.idle": "2020-11-26T00:59:38.979199Z",
     "shell.execute_reply": "2020-11-26T00:59:38.978577Z",
     "shell.execute_reply.started": "2020-11-26T00:59:26.580743Z"
    }
   },
   "outputs": [],
   "source": [
    "hpc_csd, estm_x = kcsd_npix(hpc_lfps)"
   ]
  },
  {
   "cell_type": "code",
   "execution_count": 17,
   "metadata": {
    "execution": {
     "iopub.execute_input": "2020-11-26T00:59:39.005462Z",
     "iopub.status.busy": "2020-11-26T00:59:39.005311Z",
     "iopub.status.idle": "2020-11-26T01:00:34.813067Z",
     "shell.execute_reply": "2020-11-26T01:00:34.812473Z",
     "shell.execute_reply.started": "2020-11-26T00:59:39.005443Z"
    }
   },
   "outputs": [
    {
     "data": {
      "application/vnd.jupyter.widget-view+json": {
       "model_id": "54f00949b55b46f18552347e35a0841d",
       "version_major": 2,
       "version_minor": 0
      },
      "text/plain": [
       "Canvas(toolbar=Toolbar(toolitems=[('Home', 'Reset original view', 'home', 'home'), ('Back', 'Back to previous …"
      ]
     },
     "metadata": {},
     "output_type": "display_data"
    },
    {
     "data": {
      "application/vnd.jupyter.widget-view+json": {
       "model_id": "3ddc605a40e24fc799128172d39a0a1e",
       "version_major": 2,
       "version_minor": 0
      },
      "text/plain": [
       "HBox(children=(FloatSlider(value=1.0, description='Secs', max=4.0, min=0.25, step=0.25), BoundedFloatText(valu…"
      ]
     },
     "metadata": {},
     "output_type": "display_data"
    },
    {
     "data": {
      "application/vnd.jupyter.widget-view+json": {
       "model_id": "d05d5d77f0254aa196fbb87e07aee66b",
       "version_major": 2,
       "version_minor": 0
      },
      "text/plain": [
       "Output()"
      ]
     },
     "metadata": {},
     "output_type": "display_data"
    }
   ],
   "source": [
    "plot_timeseries_interactive(time, hpc_csd.T)"
   ]
  },
  {
   "cell_type": "code",
   "execution_count": 68,
   "metadata": {
    "execution": {
     "iopub.execute_input": "2020-11-26T02:27:37.003486Z",
     "iopub.status.busy": "2020-11-26T02:27:37.003354Z",
     "iopub.status.idle": "2020-11-26T02:28:44.286880Z",
     "shell.execute_reply": "2020-11-26T02:28:44.286120Z",
     "shell.execute_reply.started": "2020-11-26T02:27:37.003467Z"
    }
   },
   "outputs": [],
   "source": [
    "from ripple_detection.core import gaussian_smooth\n",
    "\n",
    "smoothed_hpc_csd = gaussian_smooth(hpc_csd.T, 0.001, fs)"
   ]
  },
  {
   "cell_type": "code",
   "execution_count": 69,
   "metadata": {
    "execution": {
     "iopub.execute_input": "2020-11-26T02:28:44.287986Z",
     "iopub.status.busy": "2020-11-26T02:28:44.287840Z",
     "iopub.status.idle": "2020-11-26T02:29:44.698185Z",
     "shell.execute_reply": "2020-11-26T02:29:44.697383Z",
     "shell.execute_reply.started": "2020-11-26T02:28:44.287967Z"
    }
   },
   "outputs": [
    {
     "name": "stderr",
     "output_type": "stream",
     "text": [
      "/home/gfindlay/Documents/ecephys/ecephys/plot/plot.py:307: RuntimeWarning: More than 20 figures have been opened. Figures created through the pyplot interface (`matplotlib.pyplot.figure`) are retained until explicitly closed and may consume too much memory. (To control this warning, see the rcParam `figure.max_open_warning`).\n",
      "  _, ax = plt.subplots(figsize=figsize)\n"
     ]
    },
    {
     "data": {
      "application/vnd.jupyter.widget-view+json": {
       "model_id": "96bd4e268753421eb5eadaaa982e191f",
       "version_major": 2,
       "version_minor": 0
      },
      "text/plain": [
       "Canvas(toolbar=Toolbar(toolitems=[('Home', 'Reset original view', 'home', 'home'), ('Back', 'Back to previous …"
      ]
     },
     "metadata": {},
     "output_type": "display_data"
    },
    {
     "data": {
      "application/vnd.jupyter.widget-view+json": {
       "model_id": "afe446cefa3e48e3bff741c76bcc99d3",
       "version_major": 2,
       "version_minor": 0
      },
      "text/plain": [
       "HBox(children=(FloatSlider(value=1.0, description='Secs', max=4.0, min=0.25, step=0.25), BoundedFloatText(valu…"
      ]
     },
     "metadata": {},
     "output_type": "display_data"
    },
    {
     "data": {
      "application/vnd.jupyter.widget-view+json": {
       "model_id": "82d0d2792e9b4c4885c476934b040ac4",
       "version_major": 2,
       "version_minor": 0
      },
      "text/plain": [
       "Output()"
      ]
     },
     "metadata": {},
     "output_type": "display_data"
    }
   ],
   "source": [
    "plot_timeseries_interactive(time, smoothed_hpc_csd)"
   ]
  },
  {
   "cell_type": "code",
   "execution_count": 70,
   "metadata": {
    "execution": {
     "iopub.execute_input": "2020-11-26T02:29:44.709958Z",
     "iopub.status.busy": "2020-11-26T02:29:44.709812Z",
     "iopub.status.idle": "2020-11-26T03:10:50.544602Z",
     "shell.execute_reply": "2020-11-26T03:10:50.543370Z",
     "shell.execute_reply.started": "2020-11-26T02:29:44.709937Z"
    }
   },
   "outputs": [],
   "source": [
    "f_range = (1, 35)\n",
    "filtered_hpc_lfps = filter_signal(hpc_lfps.T, fs, 'bandpass', f_range)"
   ]
  },
  {
   "cell_type": "code",
   "execution_count": 71,
   "metadata": {
    "execution": {
     "iopub.execute_input": "2020-11-26T03:10:50.545934Z",
     "iopub.status.busy": "2020-11-26T03:10:50.545765Z",
     "iopub.status.idle": "2020-11-26T03:11:11.329039Z",
     "shell.execute_reply": "2020-11-26T03:11:11.328588Z",
     "shell.execute_reply.started": "2020-11-26T03:10:50.545912Z"
    }
   },
   "outputs": [],
   "source": [
    "filtered_hpc_csd, estm_x = kcsd_npix(filtered_hpc_lfps.T)"
   ]
  },
  {
   "cell_type": "code",
   "execution_count": 72,
   "metadata": {
    "execution": {
     "iopub.execute_input": "2020-11-26T03:11:11.330077Z",
     "iopub.status.busy": "2020-11-26T03:11:11.329911Z",
     "iopub.status.idle": "2020-11-26T03:12:10.656125Z",
     "shell.execute_reply": "2020-11-26T03:12:10.655349Z",
     "shell.execute_reply.started": "2020-11-26T03:11:11.330057Z"
    }
   },
   "outputs": [
    {
     "data": {
      "application/vnd.jupyter.widget-view+json": {
       "model_id": "6f56df3dc2304f9a852f138ff0b89782",
       "version_major": 2,
       "version_minor": 0
      },
      "text/plain": [
       "Canvas(toolbar=Toolbar(toolitems=[('Home', 'Reset original view', 'home', 'home'), ('Back', 'Back to previous …"
      ]
     },
     "metadata": {},
     "output_type": "display_data"
    },
    {
     "data": {
      "application/vnd.jupyter.widget-view+json": {
       "model_id": "c2fdcee05c024ee1bfcf4335cd15e3a4",
       "version_major": 2,
       "version_minor": 0
      },
      "text/plain": [
       "HBox(children=(FloatSlider(value=1.0, description='Secs', max=4.0, min=0.25, step=0.25), BoundedFloatText(valu…"
      ]
     },
     "metadata": {},
     "output_type": "display_data"
    },
    {
     "data": {
      "application/vnd.jupyter.widget-view+json": {
       "model_id": "55daa54180db449c9294b83e3f91fd2f",
       "version_major": 2,
       "version_minor": 0
      },
      "text/plain": [
       "Output()"
      ]
     },
     "metadata": {},
     "output_type": "display_data"
    }
   ],
   "source": [
    "plot_timeseries_interactive(time, filtered_hpc_csd.T)"
   ]
  },
  {
   "cell_type": "code",
   "execution_count": null,
   "metadata": {},
   "outputs": [],
   "source": []
  }
 ],
 "metadata": {
  "kernelspec": {
   "display_name": "Python 3",
   "language": "python",
   "name": "python3"
  },
  "language_info": {
   "codemirror_mode": {
    "name": "ipython",
    "version": 3
   },
   "file_extension": ".py",
   "mimetype": "text/x-python",
   "name": "python",
   "nbconvert_exporter": "python",
   "pygments_lexer": "ipython3",
   "version": "3.7.9"
  }
 },
 "nbformat": 4,
 "nbformat_minor": 4
}
