{
 "cells": [
  {
   "cell_type": "markdown",
   "metadata": {
    "execution": {
     "iopub.execute_input": "2020-11-30T16:00:22.289233Z",
     "iopub.status.busy": "2020-11-30T16:00:22.288802Z",
     "iopub.status.idle": "2020-11-30T16:00:22.305803Z",
     "shell.execute_reply": "2020-11-30T16:00:22.305354Z",
     "shell.execute_reply.started": "2020-11-30T16:00:22.289179Z"
    }
   },
   "source": [
    "## Imports and notebook definition"
   ]
  },
  {
   "cell_type": "code",
   "execution_count": 1,
   "metadata": {
    "execution": {
     "iopub.execute_input": "2020-12-30T19:25:02.117386Z",
     "iopub.status.busy": "2020-12-30T19:25:02.116900Z",
     "iopub.status.idle": "2020-12-30T19:25:02.134664Z",
     "shell.execute_reply": "2020-12-30T19:25:02.134034Z",
     "shell.execute_reply.started": "2020-12-30T19:25:02.117328Z"
    }
   },
   "outputs": [],
   "source": [
    "%load_ext autoreload\n",
    "%autoreload 2"
   ]
  },
  {
   "cell_type": "code",
   "execution_count": 2,
   "metadata": {
    "execution": {
     "iopub.execute_input": "2020-12-30T19:25:02.989018Z",
     "iopub.status.busy": "2020-12-30T19:25:02.988587Z",
     "iopub.status.idle": "2020-12-30T19:25:03.139077Z",
     "shell.execute_reply": "2020-12-30T19:25:03.138427Z",
     "shell.execute_reply.started": "2020-12-30T19:25:02.988962Z"
    }
   },
   "outputs": [],
   "source": [
    "%matplotlib widget\n",
    "import matplotlib.pyplot as plt"
   ]
  },
  {
   "cell_type": "code",
   "execution_count": 5,
   "metadata": {
    "execution": {
     "iopub.execute_input": "2020-12-30T19:26:17.596226Z",
     "iopub.status.busy": "2020-12-30T19:26:17.595802Z",
     "iopub.status.idle": "2020-12-30T19:26:17.614441Z",
     "shell.execute_reply": "2020-12-30T19:26:17.613649Z",
     "shell.execute_reply.started": "2020-12-30T19:26:17.596171Z"
    }
   },
   "outputs": [],
   "source": [
    "import numpy as np\n",
    "import pandas as pd"
   ]
  },
  {
   "cell_type": "code",
   "execution_count": 40,
   "metadata": {
    "execution": {
     "iopub.execute_input": "2020-12-30T20:35:00.586317Z",
     "iopub.status.busy": "2020-12-30T20:35:00.585868Z",
     "iopub.status.idle": "2020-12-30T20:35:00.607351Z",
     "shell.execute_reply": "2020-12-30T20:35:00.606757Z",
     "shell.execute_reply.started": "2020-12-30T20:35:00.586262Z"
    }
   },
   "outputs": [],
   "source": [
    "from ecephys.data import paths, channel_groups\n",
    "from ecephys.sglx_utils import load_timeseries\n",
    "from ecephys.signal.csd import get_kcsd\n",
    "from ecephys.signal.sharp_wave_ripples import detect_sharp_waves, get_durations, get_midpoints, get_sink_amplitudes, get_sink_integrals\n",
    "from ecephys.helpers.utils import store_df_h5\n",
    "import ecephys.plot as eplt"
   ]
  },
  {
   "cell_type": "code",
   "execution_count": 28,
   "metadata": {
    "execution": {
     "iopub.execute_input": "2020-12-30T20:09:26.817268Z",
     "iopub.status.busy": "2020-12-30T20:09:26.816816Z",
     "iopub.status.idle": "2020-12-30T20:09:26.834832Z",
     "shell.execute_reply": "2020-12-30T20:09:26.834200Z",
     "shell.execute_reply.started": "2020-12-30T20:09:26.817212Z"
    }
   },
   "outputs": [],
   "source": [
    "CONDITION = \"REC\"\n",
    "SUBJECT = \"Doppio\""
   ]
  },
  {
   "cell_type": "markdown",
   "metadata": {},
   "source": [
    "## Load the data"
   ]
  },
  {
   "cell_type": "code",
   "execution_count": 8,
   "metadata": {
    "execution": {
     "iopub.execute_input": "2020-12-30T19:28:19.310947Z",
     "iopub.status.busy": "2020-12-30T19:28:19.310505Z",
     "iopub.status.idle": "2020-12-30T19:28:19.334974Z",
     "shell.execute_reply": "2020-12-30T19:28:19.334327Z",
     "shell.execute_reply.started": "2020-12-30T19:28:19.310890Z"
    }
   },
   "outputs": [],
   "source": [
    "sr_chans = channel_groups.stratum_radiatum_140um_to_200um[SUBJECT]\n",
    "hpc_chans = channel_groups.hippocampus[SUBJECT]\n",
    "bin_path = paths.get_datapath(subject=SUBJECT, condition=CONDITION, data=\"lf.bin\")"
   ]
  },
  {
   "cell_type": "code",
   "execution_count": 9,
   "metadata": {
    "execution": {
     "iopub.execute_input": "2020-12-30T19:28:27.100628Z",
     "iopub.status.busy": "2020-12-30T19:28:27.100198Z",
     "iopub.status.idle": "2020-12-30T19:31:03.559227Z",
     "shell.execute_reply": "2020-12-30T19:31:03.558100Z",
     "shell.execute_reply.started": "2020-12-30T19:28:27.100572Z"
    }
   },
   "outputs": [
    {
     "name": "stdout",
     "output_type": "stream",
     "text": [
      "nChan: 385, nFileSamp: 18000019\n"
     ]
    }
   ],
   "source": [
    "(time, hpc_lfps, fs) = load_timeseries(bin_path, hpc_chans, start_time=None, end_time=None)"
   ]
  },
  {
   "cell_type": "markdown",
   "metadata": {
    "collapsed": "true"
   },
   "source": [
    "### Explore LFPs (optional)"
   ]
  },
  {
   "cell_type": "code",
   "execution_count": 11,
   "metadata": {
    "execution": {
     "iopub.execute_input": "2020-12-30T19:33:02.566606Z",
     "iopub.status.busy": "2020-12-30T19:33:02.566165Z",
     "iopub.status.idle": "2020-12-30T19:34:11.258656Z",
     "shell.execute_reply": "2020-12-30T19:34:11.257991Z",
     "shell.execute_reply.started": "2020-12-30T19:33:02.566550Z"
    }
   },
   "outputs": [
    {
     "data": {
      "application/vnd.jupyter.widget-view+json": {
       "model_id": "2414a9697c9641f886f223fdc215364f",
       "version_major": 2,
       "version_minor": 0
      },
      "text/plain": [
       "Canvas(toolbar=Toolbar(toolitems=[('Home', 'Reset original view', 'home', 'home'), ('Back', 'Back to previous …"
      ]
     },
     "metadata": {},
     "output_type": "display_data"
    },
    {
     "data": {
      "application/vnd.jupyter.widget-view+json": {
       "model_id": "548a73a489a044c6bc669b704926f707",
       "version_major": 2,
       "version_minor": 0
      },
      "text/plain": [
       "HBox(children=(FloatSlider(value=1.0, description='Secs', max=4.0, min=0.25, step=0.25), BoundedFloatText(valu…"
      ]
     },
     "metadata": {},
     "output_type": "display_data"
    },
    {
     "data": {
      "application/vnd.jupyter.widget-view+json": {
       "model_id": "aee9c77a809840b4af67156273380916",
       "version_major": 2,
       "version_minor": 0
      },
      "text/plain": [
       "Output()"
      ]
     },
     "metadata": {},
     "output_type": "display_data"
    }
   ],
   "source": [
    "eplt.lfp_explorer(time, hpc_lfps, chan_labels=hpc_chans)"
   ]
  },
  {
   "cell_type": "markdown",
   "metadata": {},
   "source": [
    "## Detect sharp waves"
   ]
  },
  {
   "cell_type": "code",
   "execution_count": 16,
   "metadata": {
    "execution": {
     "iopub.execute_input": "2020-12-30T19:42:19.256542Z",
     "iopub.status.busy": "2020-12-30T19:42:19.256087Z",
     "iopub.status.idle": "2020-12-30T19:53:30.648555Z",
     "shell.execute_reply": "2020-12-30T19:53:30.647570Z",
     "shell.execute_reply.started": "2020-12-30T19:42:19.256484Z"
    }
   },
   "outputs": [
    {
     "name": "stdout",
     "output_type": "stream",
     "text": [
      "Performing L-curve parameter estimation...\n",
      "No lambda given, using defaults\n",
      "min lambda 1e-12\n",
      "max lambda 0.0126\n",
      "min lambda 1e-12\n",
      "max lambda 0.0126\n",
      "l-curve (all lambda):  0.23\n",
      "Best lambda and R =  0.0003822395851068327 ,  0.23\n"
     ]
    }
   ],
   "source": [
    "interestimate_distance = intersite_distance = 0.020\n",
    "k = get_kcsd(hpc_lfps, gdx=interestimate_distance, do_lcurve=True)"
   ]
  },
  {
   "cell_type": "code",
   "execution_count": 22,
   "metadata": {
    "execution": {
     "iopub.execute_input": "2020-12-30T20:00:17.871638Z",
     "iopub.status.busy": "2020-12-30T20:00:17.871440Z",
     "iopub.status.idle": "2020-12-30T20:00:29.632613Z",
     "shell.execute_reply": "2020-12-30T20:00:29.631950Z",
     "shell.execute_reply.started": "2020-12-30T20:00:17.871614Z"
    }
   },
   "outputs": [],
   "source": [
    "hpc_csd = k.values('CSD')"
   ]
  },
  {
   "cell_type": "code",
   "execution_count": 25,
   "metadata": {
    "execution": {
     "iopub.execute_input": "2020-12-30T20:02:17.211564Z",
     "iopub.status.busy": "2020-12-30T20:02:17.211135Z",
     "iopub.status.idle": "2020-12-30T20:02:17.492745Z",
     "shell.execute_reply": "2020-12-30T20:02:17.491833Z",
     "shell.execute_reply.started": "2020-12-30T20:02:17.211508Z"
    }
   },
   "outputs": [],
   "source": [
    "sr_csd = hpc_csd[np.isin(hpc_chans, sr_chans)]"
   ]
  },
  {
   "cell_type": "code",
   "execution_count": 30,
   "metadata": {
    "execution": {
     "iopub.execute_input": "2020-12-30T20:10:34.223878Z",
     "iopub.status.busy": "2020-12-30T20:10:34.223332Z",
     "iopub.status.idle": "2020-12-30T20:12:04.503571Z",
     "shell.execute_reply": "2020-12-30T20:12:04.502390Z",
     "shell.execute_reply.started": "2020-12-30T20:10:34.223813Z"
    }
   },
   "outputs": [],
   "source": [
    "spws = detect_sharp_waves(time, sr_csd)"
   ]
  },
  {
   "cell_type": "code",
   "execution_count": 60,
   "metadata": {
    "execution": {
     "iopub.execute_input": "2020-12-30T20:54:55.501252Z",
     "iopub.status.busy": "2020-12-30T20:54:55.500797Z",
     "iopub.status.idle": "2020-12-30T20:54:55.803895Z",
     "shell.execute_reply": "2020-12-30T20:54:55.803304Z",
     "shell.execute_reply.started": "2020-12-30T20:54:55.501194Z"
    }
   },
   "outputs": [
    {
     "data": {
      "application/vnd.jupyter.widget-view+json": {
       "model_id": "6489a16b5e254d85908fe65a47682ec3",
       "version_major": 2,
       "version_minor": 0
      },
      "text/plain": [
       "Canvas(toolbar=Toolbar(toolitems=[('Home', 'Reset original view', 'home', 'home'), ('Back', 'Back to previous …"
      ]
     },
     "metadata": {},
     "output_type": "display_data"
    }
   ],
   "source": [
    "fig, ax1 = plt.subplots(figsize=(20, 3))\n",
    "plt.hist(spws.start_time, bins=int(7200/10))\n",
    "plt.show()"
   ]
  },
  {
   "cell_type": "markdown",
   "metadata": {},
   "source": [
    "### Compute SPW properties"
   ]
  },
  {
   "cell_type": "code",
   "execution_count": 35,
   "metadata": {
    "execution": {
     "iopub.execute_input": "2020-12-30T20:13:35.593547Z",
     "iopub.status.busy": "2020-12-30T20:13:35.593120Z",
     "iopub.status.idle": "2020-12-30T20:13:35.725314Z",
     "shell.execute_reply": "2020-12-30T20:13:35.724626Z",
     "shell.execute_reply.started": "2020-12-30T20:13:35.593491Z"
    }
   },
   "outputs": [],
   "source": [
    "spws[\"duration\"] = get_durations(spws)\n",
    "spws[\"midpoint\"] = get_midpoints(spws)"
   ]
  },
  {
   "cell_type": "code",
   "execution_count": 36,
   "metadata": {
    "execution": {
     "iopub.execute_input": "2020-12-30T20:13:37.424426Z",
     "iopub.status.busy": "2020-12-30T20:13:37.424001Z",
     "iopub.status.idle": "2020-12-30T20:21:25.528098Z",
     "shell.execute_reply": "2020-12-30T20:21:25.526989Z",
     "shell.execute_reply.started": "2020-12-30T20:13:37.424371Z"
    }
   },
   "outputs": [],
   "source": [
    "spws[\"sink_amplitude\"] = get_sink_amplitudes(spws, time, sr_csd) * (1e-6) # Scale to mA/mm"
   ]
  },
  {
   "cell_type": "code",
   "execution_count": 37,
   "metadata": {
    "execution": {
     "iopub.execute_input": "2020-12-30T20:21:25.557146Z",
     "iopub.status.busy": "2020-12-30T20:21:25.557015Z",
     "iopub.status.idle": "2020-12-30T20:29:27.241255Z",
     "shell.execute_reply": "2020-12-30T20:29:27.240470Z",
     "shell.execute_reply.started": "2020-12-30T20:21:25.557130Z"
    }
   },
   "outputs": [],
   "source": [
    "spws[\"sink_integral\"] = get_sink_integrals(spws, time, fs, sr_csd) * (1e-6) * (1e3) # Scale to mA * ms"
   ]
  },
  {
   "cell_type": "markdown",
   "metadata": {
    "execution": {
     "iopub.execute_input": "2020-12-01T00:20:18.941774Z",
     "iopub.status.busy": "2020-12-01T00:20:18.941278Z",
     "iopub.status.idle": "2020-12-01T00:20:18.960114Z",
     "shell.execute_reply": "2020-12-01T00:20:18.959367Z",
     "shell.execute_reply.started": "2020-12-01T00:20:18.941715Z"
    }
   },
   "source": [
    "### Export results"
   ]
  },
  {
   "cell_type": "code",
   "execution_count": 288,
   "metadata": {
    "execution": {
     "iopub.execute_input": "2020-12-03T22:26:33.275559Z",
     "iopub.status.busy": "2020-12-03T22:26:33.275420Z",
     "iopub.status.idle": "2020-12-03T22:26:33.307417Z",
     "shell.execute_reply": "2020-12-03T22:26:33.306179Z",
     "shell.execute_reply.started": "2020-12-03T22:26:33.275542Z"
    }
   },
   "outputs": [],
   "source": [
    "metadata = dict(\n",
    "    csd_chans=hpc_chans,\n",
    "    detection_chans=sr_chans,\n",
    "    electrode_positions=ele_pos,\n",
    "    intersite_distance=intersite_distance,\n",
    "    gdx=interestimate_distance,\n",
    "    lambd = k.lambd,\n",
    "    R = k.R,\n",
    "    detect_states=[\"Wake\", \"N1\", \"N2\", \"REM\"],\n",
    "    detection_zscore_threshold=detection_threshold,\n",
    "    boundary_zscore_threshold=boundary_threshold,\n",
    "    minimum_duration=minimum_duration,\n",
    ")\n",
    "spws_path = paths.get_datapath(subject=SUBJECT, condition=CONDITION, data=\"sharp_waves.h5\")\n",
    "store_df_h5(spws_path, spws, **metadata)"
   ]
  },
  {
   "cell_type": "markdown",
   "metadata": {},
   "source": [
    "# Detect bout-by-bout"
   ]
  },
  {
   "cell_type": "code",
   "execution_count": 62,
   "metadata": {
    "execution": {
     "iopub.execute_input": "2020-12-30T20:58:11.118873Z",
     "iopub.status.busy": "2020-12-30T20:58:11.118443Z",
     "iopub.status.idle": "2020-12-30T20:58:11.166024Z",
     "shell.execute_reply": "2020-12-30T20:58:11.165448Z",
     "shell.execute_reply.started": "2020-12-30T20:58:11.118818Z"
    }
   },
   "outputs": [],
   "source": [
    "from ecephys.scoring import load_visbrain_hypnogram\n",
    "\n",
    "hypnogram = load_visbrain_hypnogram(paths.get_datapath(subject=SUBJECT, condition=CONDITION, data=\"hypnogram.txt\"))"
   ]
  },
  {
   "cell_type": "code",
   "execution_count": 66,
   "metadata": {
    "execution": {
     "iopub.execute_input": "2020-12-30T20:59:02.212458Z",
     "iopub.status.busy": "2020-12-30T20:59:02.212320Z",
     "iopub.status.idle": "2020-12-30T20:59:02.980391Z",
     "shell.execute_reply": "2020-12-30T20:59:02.979747Z",
     "shell.execute_reply.started": "2020-12-30T20:59:02.212436Z"
    }
   },
   "outputs": [
    {
     "data": {
      "application/vnd.jupyter.widget-view+json": {
       "model_id": "b152067a8ec6470bb0dd752b61f38a2b",
       "version_major": 2,
       "version_minor": 0
      },
      "text/plain": [
       "Canvas(toolbar=Toolbar(toolitems=[('Home', 'Reset original view', 'home', 'home'), ('Back', 'Back to previous …"
      ]
     },
     "metadata": {},
     "output_type": "display_data"
    }
   ],
   "source": [
    "fig, ax1 = plt.subplots(figsize=(24, 3))\n",
    "plt.hist(spws.start_time, bins=int(7200/10))\n",
    "eplt.plot_hypnogram_overlay(hypnogram, ax=ax1)\n",
    "plt.show()"
   ]
  },
  {
   "cell_type": "code",
   "execution_count": 90,
   "metadata": {
    "execution": {
     "iopub.execute_input": "2020-12-30T21:15:53.811973Z",
     "iopub.status.busy": "2020-12-30T21:15:53.811791Z",
     "iopub.status.idle": "2020-12-30T21:15:53.834657Z",
     "shell.execute_reply": "2020-12-30T21:15:53.834133Z",
     "shell.execute_reply.started": "2020-12-30T21:15:53.811950Z"
    }
   },
   "outputs": [],
   "source": [
    "def get_bout_spws(time, sr_csd, bout):\n",
    "    bout_mask = np.logical_and(time >= bout['start_time'], time <= bout['end_time'])\n",
    "    bout_spws = detect_sharp_waves(time[bout_mask], sr_csd[:, bout_mask])\n",
    "    bout_spws['state'] = bout['state']\n",
    "    return bout_spws\n",
    "\n",
    "def get_spws_bout_by_bout(time, sr_csd, hypnogram):\n",
    "    spws = pd.DataFrame(columns=[\"spw_number\", \"start_time\", \"end_time\"])\n",
    "    spws.set_index('spw_number', inplace = True)\n",
    "    for index, row in hypnogram.iterrows(): \n",
    "        bout_spws = get_bout_spws(time, sr_csd, row)\n",
    "        spws = spws.append(bout_spws)\n",
    "        \n",
    "    return spws\n",
    "        "
   ]
  },
  {
   "cell_type": "code",
   "execution_count": 105,
   "metadata": {
    "execution": {
     "iopub.execute_input": "2020-12-30T21:24:42.106221Z",
     "iopub.status.busy": "2020-12-30T21:24:42.105787Z",
     "iopub.status.idle": "2020-12-30T21:25:03.177833Z",
     "shell.execute_reply": "2020-12-30T21:25:03.177154Z",
     "shell.execute_reply.started": "2020-12-30T21:24:42.106163Z"
    }
   },
   "outputs": [],
   "source": [
    "bspws = get_spws_bout_by_bout(time, sr_csd, hypnogram)\n",
    "bspws[\"duration\"] = get_durations(bspws)\n",
    "bspws[\"midpoint\"] = get_midpoints(bspws)"
   ]
  },
  {
   "cell_type": "code",
   "execution_count": 106,
   "metadata": {
    "execution": {
     "iopub.execute_input": "2020-12-30T21:25:03.210045Z",
     "iopub.status.busy": "2020-12-30T21:25:03.209921Z",
     "iopub.status.idle": "2020-12-30T21:25:04.127166Z",
     "shell.execute_reply": "2020-12-30T21:25:04.126468Z",
     "shell.execute_reply.started": "2020-12-30T21:25:03.210030Z"
    }
   },
   "outputs": [
    {
     "data": {
      "application/vnd.jupyter.widget-view+json": {
       "model_id": "7021036ed9ba4c7a90b351961742d6da",
       "version_major": 2,
       "version_minor": 0
      },
      "text/plain": [
       "Canvas(toolbar=Toolbar(toolitems=[('Home', 'Reset original view', 'home', 'home'), ('Back', 'Back to previous …"
      ]
     },
     "metadata": {},
     "output_type": "display_data"
    }
   ],
   "source": [
    "fig, ax1 = plt.subplots(figsize=(24, 3))\n",
    "plt.hist(bspws.start_time, bins=int(7200/10))\n",
    "eplt.plot_hypnogram_overlay(hypnogram, ax=ax1)\n",
    "plt.show()"
   ]
  },
  {
   "cell_type": "code",
   "execution_count": 110,
   "metadata": {
    "execution": {
     "iopub.execute_input": "2020-12-30T21:25:45.384884Z",
     "iopub.status.busy": "2020-12-30T21:25:45.384450Z",
     "iopub.status.idle": "2020-12-30T21:25:45.408465Z",
     "shell.execute_reply": "2020-12-30T21:25:45.407889Z",
     "shell.execute_reply.started": "2020-12-30T21:25:45.384825Z"
    }
   },
   "outputs": [],
   "source": [
    "rem_spws = bspws[bspws['state'] == \"REM\"].reset_index()"
   ]
  },
  {
   "cell_type": "code",
   "execution_count": 115,
   "metadata": {
    "execution": {
     "iopub.execute_input": "2020-12-30T21:28:04.985012Z",
     "iopub.status.busy": "2020-12-30T21:28:04.984585Z",
     "iopub.status.idle": "2020-12-30T21:28:05.037924Z",
     "shell.execute_reply": "2020-12-30T21:28:05.037013Z",
     "shell.execute_reply.started": "2020-12-30T21:28:04.984956Z"
    }
   },
   "outputs": [],
   "source": [
    "from pathlib import Path\n",
    "\n",
    "metadata = dict(\n",
    "    csd_chans=hpc_chans,\n",
    "    detection_chans=sr_chans,\n",
    "    intersite_distance=intersite_distance,\n",
    "    gdx=interestimate_distance,\n",
    "    lambd = k.lambd,\n",
    "    R = k.R,\n",
    "    detect_states=[\"Wake\", \"N1\", \"N2\", \"REM\"],\n",
    "    detection_zscore_threshold=2.5,\n",
    "    boundary_zscore_threshold=1,\n",
    "    minimum_duration=0.005,\n",
    ")\n",
    "rem_spws_path = Path('/Volumes/neuropixel/Data/CNPIX4-Doppio/3-18-2020_g0_t3.imec0.rem_spws.h5')\n",
    "store_df_h5(rem_spws_path, rem_spws, **metadata)"
   ]
  },
  {
   "cell_type": "code",
   "execution_count": 116,
   "metadata": {
    "execution": {
     "iopub.execute_input": "2020-12-30T21:28:05.686633Z",
     "iopub.status.busy": "2020-12-30T21:28:05.686205Z",
     "iopub.status.idle": "2020-12-30T21:28:06.311211Z",
     "shell.execute_reply": "2020-12-30T21:28:06.310736Z",
     "shell.execute_reply.started": "2020-12-30T21:28:05.686578Z"
    }
   },
   "outputs": [
    {
     "data": {
      "application/vnd.jupyter.widget-view+json": {
       "model_id": "ffb03362d048455da5f0aa948325c95d",
       "version_major": 2,
       "version_minor": 0
      },
      "text/plain": [
       "Canvas(toolbar=Toolbar(toolitems=[('Home', 'Reset original view', 'home', 'home'), ('Back', 'Back to previous …"
      ]
     },
     "metadata": {},
     "output_type": "display_data"
    },
    {
     "data": {
      "application/vnd.jupyter.widget-view+json": {
       "model_id": "73fe996aac2b499eb803bf64803dffe7",
       "version_major": 2,
       "version_minor": 0
      },
      "text/plain": [
       "HBox(children=(FloatSlider(value=1.0, description='Secs', max=4.0, min=0.25, step=0.25), SelectionSlider(descr…"
      ]
     },
     "metadata": {},
     "output_type": "display_data"
    },
    {
     "data": {
      "application/vnd.jupyter.widget-view+json": {
       "model_id": "ee92d0e1d204464c838dfdaad80a3ada",
       "version_major": 2,
       "version_minor": 0
      },
      "text/plain": [
       "Output()"
      ]
     },
     "metadata": {},
     "output_type": "display_data"
    }
   ],
   "source": [
    "eplt.lazy_spw_explorer(rem_spws, metadata, SUBJECT, CONDITION)"
   ]
  },
  {
   "cell_type": "code",
   "execution_count": null,
   "metadata": {},
   "outputs": [],
   "source": []
  }
 ],
 "metadata": {
  "kernelspec": {
   "display_name": "Python 3",
   "language": "python",
   "name": "python3"
  },
  "language_info": {
   "codemirror_mode": {
    "name": "ipython",
    "version": 3
   },
   "file_extension": ".py",
   "mimetype": "text/x-python",
   "name": "python",
   "nbconvert_exporter": "python",
   "pygments_lexer": "ipython3",
   "version": "3.7.9"
  }
 },
 "nbformat": 4,
 "nbformat_minor": 4
}
