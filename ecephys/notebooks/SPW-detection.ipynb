{
 "cells": [
  {
   "cell_type": "markdown",
   "metadata": {
    "execution": {
     "iopub.execute_input": "2020-11-30T16:00:22.289233Z",
     "iopub.status.busy": "2020-11-30T16:00:22.288802Z",
     "iopub.status.idle": "2020-11-30T16:00:22.305803Z",
     "shell.execute_reply": "2020-11-30T16:00:22.305354Z",
     "shell.execute_reply.started": "2020-11-30T16:00:22.289179Z"
    }
   },
   "source": [
    "## Imports and notebook definition"
   ]
  },
  {
   "cell_type": "code",
   "execution_count": 1,
   "metadata": {
    "execution": {
     "iopub.execute_input": "2020-11-30T20:22:27.880442Z",
     "iopub.status.busy": "2020-11-30T20:22:27.880210Z",
     "iopub.status.idle": "2020-11-30T20:22:27.894090Z",
     "shell.execute_reply": "2020-11-30T20:22:27.893572Z",
     "shell.execute_reply.started": "2020-11-30T20:22:27.880419Z"
    }
   },
   "outputs": [],
   "source": [
    "%load_ext autoreload\n",
    "%autoreload 2"
   ]
  },
  {
   "cell_type": "code",
   "execution_count": 2,
   "metadata": {
    "execution": {
     "iopub.execute_input": "2020-11-30T20:22:28.725199Z",
     "iopub.status.busy": "2020-11-30T20:22:28.724982Z",
     "iopub.status.idle": "2020-11-30T20:22:28.874175Z",
     "shell.execute_reply": "2020-11-30T20:22:28.873410Z",
     "shell.execute_reply.started": "2020-11-30T20:22:28.725172Z"
    }
   },
   "outputs": [],
   "source": [
    "%matplotlib widget\n",
    "import matplotlib.pyplot as plt"
   ]
  },
  {
   "cell_type": "code",
   "execution_count": 3,
   "metadata": {
    "execution": {
     "iopub.execute_input": "2020-11-30T20:22:29.557285Z",
     "iopub.status.busy": "2020-11-30T20:22:29.557072Z",
     "iopub.status.idle": "2020-11-30T20:22:29.756807Z",
     "shell.execute_reply": "2020-11-30T20:22:29.756161Z",
     "shell.execute_reply.started": "2020-11-30T20:22:29.557260Z"
    }
   },
   "outputs": [],
   "source": [
    "from pathlib import Path\n",
    "import numpy as np\n",
    "import pandas as pd\n",
    "from neurodsp.filt import filter_signal\n",
    "from ecephys.signal.csd import kcsd_npix"
   ]
  },
  {
   "cell_type": "code",
   "execution_count": 95,
   "metadata": {
    "execution": {
     "iopub.execute_input": "2020-12-01T00:19:34.946525Z",
     "iopub.status.busy": "2020-12-01T00:19:34.946053Z",
     "iopub.status.idle": "2020-12-01T00:19:34.965433Z",
     "shell.execute_reply": "2020-12-01T00:19:34.964678Z",
     "shell.execute_reply.started": "2020-12-01T00:19:34.946468Z"
    }
   },
   "outputs": [],
   "source": [
    "from ecephys.data import paths, channel_groups\n",
    "from ecephys.sglx_utils import load_timeseries\n",
    "from ecephys.helpers.utils import store_df_h5\n",
    "from ecephys.scoring import load_visbrain_hypnogram\n",
    "import ecephys.plot as eplt"
   ]
  },
  {
   "cell_type": "code",
   "execution_count": 7,
   "metadata": {
    "execution": {
     "iopub.execute_input": "2020-11-30T20:22:43.429474Z",
     "iopub.status.busy": "2020-11-30T20:22:43.429232Z",
     "iopub.status.idle": "2020-11-30T20:22:43.445701Z",
     "shell.execute_reply": "2020-11-30T20:22:43.444980Z",
     "shell.execute_reply.started": "2020-11-30T20:22:43.429445Z"
    }
   },
   "outputs": [],
   "source": [
    "condition = \"SR\"\n",
    "subject = \"Doppio\""
   ]
  },
  {
   "cell_type": "markdown",
   "metadata": {},
   "source": [
    "## Load the data"
   ]
  },
  {
   "cell_type": "code",
   "execution_count": 8,
   "metadata": {
    "execution": {
     "iopub.execute_input": "2020-11-30T20:22:46.285832Z",
     "iopub.status.busy": "2020-11-30T20:22:46.285648Z",
     "iopub.status.idle": "2020-11-30T20:22:46.302117Z",
     "shell.execute_reply": "2020-11-30T20:22:46.301374Z",
     "shell.execute_reply.started": "2020-11-30T20:22:46.285811Z"
    }
   },
   "outputs": [],
   "source": [
    "sr_chans = channel_groups.stratum_radiatum_csd[subject]\n",
    "so_chans = channel_groups.stratum_oriens_100um[subject]\n",
    "hpc_chans = channel_groups.hippocampus[subject]\n",
    "bin_path = Path(paths.lfp_bin[condition][subject])"
   ]
  },
  {
   "cell_type": "code",
   "execution_count": 25,
   "metadata": {
    "execution": {
     "iopub.execute_input": "2020-11-26T01:22:54.398634Z",
     "iopub.status.busy": "2020-11-26T01:22:54.398187Z",
     "iopub.status.idle": "2020-11-26T01:24:59.891734Z",
     "shell.execute_reply": "2020-11-26T01:24:59.890951Z",
     "shell.execute_reply.started": "2020-11-26T01:22:54.398577Z"
    }
   },
   "outputs": [
    {
     "name": "stdout",
     "output_type": "stream",
     "text": [
      "nChan: 385, nFileSamp: 18000019\n"
     ]
    }
   ],
   "source": [
    "(time, sr_lfps, fs) = load_timeseries(bin_path, sr_chans, start_time=None, end_time=None)"
   ]
  },
  {
   "cell_type": "code",
   "execution_count": 26,
   "metadata": {
    "execution": {
     "iopub.execute_input": "2020-11-26T01:24:59.916507Z",
     "iopub.status.busy": "2020-11-26T01:24:59.916382Z",
     "iopub.status.idle": "2020-11-26T01:27:01.177026Z",
     "shell.execute_reply": "2020-11-26T01:27:01.175849Z",
     "shell.execute_reply.started": "2020-11-26T01:24:59.916492Z"
    }
   },
   "outputs": [
    {
     "name": "stdout",
     "output_type": "stream",
     "text": [
      "nChan: 385, nFileSamp: 18000019\n"
     ]
    }
   ],
   "source": [
    "(time, so_lfps, fs) = load_timeseries(bin_path, so_chans, start_time=None, end_time=None)"
   ]
  },
  {
   "cell_type": "code",
   "execution_count": 10,
   "metadata": {
    "execution": {
     "iopub.execute_input": "2020-11-30T20:23:05.507414Z",
     "iopub.status.busy": "2020-11-30T20:23:05.506944Z",
     "iopub.status.idle": "2020-11-30T20:25:49.165357Z",
     "shell.execute_reply": "2020-11-30T20:25:49.164218Z",
     "shell.execute_reply.started": "2020-11-30T20:23:05.507356Z"
    }
   },
   "outputs": [
    {
     "name": "stdout",
     "output_type": "stream",
     "text": [
      "nChan: 385, nFileSamp: 18000019\n"
     ]
    }
   ],
   "source": [
    "(time, hpc_lfps, fs) = load_timeseries(bin_path, hpc_chans, start_time=None, end_time=None)"
   ]
  },
  {
   "cell_type": "markdown",
   "metadata": {
    "collapsed": "true"
   },
   "source": [
    "## Explore LFPs"
   ]
  },
  {
   "cell_type": "code",
   "execution_count": 13,
   "metadata": {
    "execution": {
     "iopub.execute_input": "2020-11-25T19:40:29.050019Z",
     "iopub.status.busy": "2020-11-25T19:40:29.049450Z",
     "iopub.status.idle": "2020-11-25T19:40:38.341631Z",
     "shell.execute_reply": "2020-11-25T19:40:38.340858Z",
     "shell.execute_reply.started": "2020-11-25T19:40:29.049958Z"
    }
   },
   "outputs": [
    {
     "data": {
      "application/vnd.jupyter.widget-view+json": {
       "model_id": "32e2a2a4b43545b58a4e10e4bf0f23ef",
       "version_major": 2,
       "version_minor": 0
      },
      "text/plain": [
       "Canvas(toolbar=Toolbar(toolitems=[('Home', 'Reset original view', 'home', 'home'), ('Back', 'Back to previous …"
      ]
     },
     "metadata": {},
     "output_type": "display_data"
    },
    {
     "data": {
      "application/vnd.jupyter.widget-view+json": {
       "model_id": "64a6a1be51964c6491cb4d6e18e90018",
       "version_major": 2,
       "version_minor": 0
      },
      "text/plain": [
       "HBox(children=(FloatSlider(value=1.0, description='Secs', max=4.0, min=0.25, step=0.25), BoundedFloatText(valu…"
      ]
     },
     "metadata": {},
     "output_type": "display_data"
    },
    {
     "data": {
      "application/vnd.jupyter.widget-view+json": {
       "model_id": "1c2fd8112ddf4c0f97fc8ffede022000",
       "version_major": 2,
       "version_minor": 0
      },
      "text/plain": [
       "Output()"
      ]
     },
     "metadata": {},
     "output_type": "display_data"
    }
   ],
   "source": [
    "plot_timeseries_interactive(time, sr_lfps, chan_labels=sr_chans)"
   ]
  },
  {
   "cell_type": "code",
   "execution_count": 12,
   "metadata": {
    "execution": {
     "iopub.execute_input": "2020-11-25T19:40:25.339570Z",
     "iopub.status.busy": "2020-11-25T19:40:25.339012Z",
     "iopub.status.idle": "2020-11-25T19:40:26.436824Z",
     "shell.execute_reply": "2020-11-25T19:40:26.436080Z",
     "shell.execute_reply.started": "2020-11-25T19:40:25.339505Z"
    }
   },
   "outputs": [],
   "source": [
    "lfps = (sr_lfps.T - so_lfps.T).T"
   ]
  },
  {
   "cell_type": "code",
   "execution_count": 14,
   "metadata": {
    "execution": {
     "iopub.execute_input": "2020-11-25T19:41:49.444981Z",
     "iopub.status.busy": "2020-11-25T19:41:49.444414Z",
     "iopub.status.idle": "2020-11-25T19:41:57.823708Z",
     "shell.execute_reply": "2020-11-25T19:41:57.822739Z",
     "shell.execute_reply.started": "2020-11-25T19:41:49.444917Z"
    }
   },
   "outputs": [
    {
     "data": {
      "application/vnd.jupyter.widget-view+json": {
       "model_id": "3ed8f06a37234a4aaa5dd3cc7a76d0ea",
       "version_major": 2,
       "version_minor": 0
      },
      "text/plain": [
       "Canvas(toolbar=Toolbar(toolitems=[('Home', 'Reset original view', 'home', 'home'), ('Back', 'Back to previous …"
      ]
     },
     "metadata": {},
     "output_type": "display_data"
    },
    {
     "data": {
      "application/vnd.jupyter.widget-view+json": {
       "model_id": "0934fb4455d74e48a14cf9651690dd5d",
       "version_major": 2,
       "version_minor": 0
      },
      "text/plain": [
       "HBox(children=(FloatSlider(value=1.0, description='Secs', max=4.0, min=0.25, step=0.25), BoundedFloatText(valu…"
      ]
     },
     "metadata": {},
     "output_type": "display_data"
    },
    {
     "data": {
      "application/vnd.jupyter.widget-view+json": {
       "model_id": "b95a3dca03d54fff8e952f95b0764cf7",
       "version_major": 2,
       "version_minor": 0
      },
      "text/plain": [
       "Output()"
      ]
     },
     "metadata": {},
     "output_type": "display_data"
    }
   ],
   "source": [
    "plot_timeseries_interactive(time, lfps, chan_labels=sr_chans)"
   ]
  },
  {
   "cell_type": "markdown",
   "metadata": {
    "collapsed": "true"
   },
   "source": [
    "## Filter signal"
   ]
  },
  {
   "cell_type": "code",
   "execution_count": 73,
   "metadata": {
    "execution": {
     "iopub.execute_input": "2020-11-26T17:25:31.227739Z",
     "iopub.status.busy": "2020-11-26T17:25:31.227299Z",
     "iopub.status.idle": "2020-11-26T17:28:16.867623Z",
     "shell.execute_reply": "2020-11-26T17:28:16.866862Z",
     "shell.execute_reply.started": "2020-11-26T17:25:31.227683Z"
    }
   },
   "outputs": [],
   "source": [
    "f_range = (2, 35)\n",
    "filtered_sr_lfps = filter_signal(sr_lfps.T, fs, 'bandpass', f_range)"
   ]
  },
  {
   "cell_type": "code",
   "execution_count": 74,
   "metadata": {
    "execution": {
     "iopub.execute_input": "2020-11-26T17:28:16.911557Z",
     "iopub.status.busy": "2020-11-26T17:28:16.911434Z",
     "iopub.status.idle": "2020-11-26T17:28:24.841453Z",
     "shell.execute_reply": "2020-11-26T17:28:24.840836Z",
     "shell.execute_reply.started": "2020-11-26T17:28:16.911542Z"
    }
   },
   "outputs": [
    {
     "data": {
      "application/vnd.jupyter.widget-view+json": {
       "model_id": "b396f3cb7bb746bba93ca7563e03fcda",
       "version_major": 2,
       "version_minor": 0
      },
      "text/plain": [
       "Canvas(toolbar=Toolbar(toolitems=[('Home', 'Reset original view', 'home', 'home'), ('Back', 'Back to previous …"
      ]
     },
     "metadata": {},
     "output_type": "display_data"
    },
    {
     "data": {
      "application/vnd.jupyter.widget-view+json": {
       "model_id": "eb2e1371ee1e4c8f943015339d5a5506",
       "version_major": 2,
       "version_minor": 0
      },
      "text/plain": [
       "HBox(children=(FloatSlider(value=1.0, description='Secs', max=4.0, min=0.25, step=0.25), BoundedFloatText(valu…"
      ]
     },
     "metadata": {},
     "output_type": "display_data"
    },
    {
     "data": {
      "application/vnd.jupyter.widget-view+json": {
       "model_id": "2d5ef4e5a86a4da89f355b5ae1c52094",
       "version_major": 2,
       "version_minor": 0
      },
      "text/plain": [
       "Output()"
      ]
     },
     "metadata": {},
     "output_type": "display_data"
    }
   ],
   "source": [
    "plot_timeseries_interactive(time, filtered_sr_lfps.T, chan_labels=sr_chans)"
   ]
  },
  {
   "cell_type": "markdown",
   "metadata": {},
   "source": [
    "## Detection type I: Thresholding LFP negativity by Z-score"
   ]
  },
  {
   "cell_type": "code",
   "execution_count": 94,
   "metadata": {
    "execution": {
     "iopub.execute_input": "2020-11-26T19:38:53.274202Z",
     "iopub.status.busy": "2020-11-26T19:38:53.273726Z",
     "iopub.status.idle": "2020-11-26T19:41:31.662588Z",
     "shell.execute_reply": "2020-11-26T19:41:31.661379Z",
     "shell.execute_reply.started": "2020-11-26T19:38:53.274125Z"
    }
   },
   "outputs": [],
   "source": [
    "from ecephys.signal.ripples import _threshold_by_zscore\n",
    "from ripple_detection.core import get_envelope\n",
    "\n",
    "filtered_lfps = -filtered_sr_lfps.T\n",
    "filtered_lfps[filtered_lfps < 0] = 0\n",
    "not_null = np.all(pd.notnull(filtered_lfps), axis=1)\n",
    "filtered_lfps, _time = (filtered_lfps[not_null], time[not_null])\n",
    "combined_filtered_lfps = np.sum(filtered_lfps, axis=1)\n",
    "\n",
    "candidate_spw_times = _threshold_by_zscore(\n",
    "    combined_filtered_lfps,\n",
    "    _time,\n",
    "    minimum_duration=0.005,\n",
    "    detection_zscore_threshold=3,\n",
    "    boundary_zscore_threshold=1,\n",
    ")\n",
    "\n",
    "index = pd.Index(np.arange(len(candidate_spw_times)) + 1, name=\"spw_number\")\n",
    "spw_times = pd.DataFrame(candidate_spw_times, columns=[\"start_time\", \"end_time\"], index=index)"
   ]
  },
  {
   "cell_type": "code",
   "execution_count": 95,
   "metadata": {
    "execution": {
     "iopub.execute_input": "2020-11-26T19:41:31.720387Z",
     "iopub.status.busy": "2020-11-26T19:41:31.720262Z",
     "iopub.status.idle": "2020-11-26T19:53:37.878918Z",
     "shell.execute_reply": "2020-11-26T19:53:37.877736Z",
     "shell.execute_reply.started": "2020-11-26T19:41:31.720372Z"
    }
   },
   "outputs": [],
   "source": [
    "from ecephys.signal.ripples import compute_ripple_features\n",
    "\n",
    "spw_times = compute_ripple_features(_time, filtered_lfps, spw_times, fs, 'Kay', smoothing_sigma=0.0)"
   ]
  },
  {
   "cell_type": "code",
   "execution_count": 96,
   "metadata": {
    "execution": {
     "iopub.execute_input": "2020-11-26T19:53:37.880144Z",
     "iopub.status.busy": "2020-11-26T19:53:37.879999Z",
     "iopub.status.idle": "2020-11-26T19:53:37.904867Z",
     "shell.execute_reply": "2020-11-26T19:53:37.904139Z",
     "shell.execute_reply.started": "2020-11-26T19:53:37.880126Z"
    }
   },
   "outputs": [
    {
     "data": {
      "text/html": [
       "<div>\n",
       "<style scoped>\n",
       "    .dataframe tbody tr th:only-of-type {\n",
       "        vertical-align: middle;\n",
       "    }\n",
       "\n",
       "    .dataframe tbody tr th {\n",
       "        vertical-align: top;\n",
       "    }\n",
       "\n",
       "    .dataframe thead th {\n",
       "        text-align: right;\n",
       "    }\n",
       "</style>\n",
       "<table border=\"1\" class=\"dataframe\">\n",
       "  <thead>\n",
       "    <tr style=\"text-align: right;\">\n",
       "      <th></th>\n",
       "      <th>start_time</th>\n",
       "      <th>end_time</th>\n",
       "      <th>duration</th>\n",
       "      <th>center_time</th>\n",
       "      <th>nadir_time</th>\n",
       "      <th>envelope_integral</th>\n",
       "      <th>envelope_peak</th>\n",
       "      <th>mean_rms</th>\n",
       "      <th>summed_rms</th>\n",
       "      <th>max_rms</th>\n",
       "      <th>mean_amplitude</th>\n",
       "      <th>max_amplitude</th>\n",
       "    </tr>\n",
       "    <tr>\n",
       "      <th>spw_number</th>\n",
       "      <th></th>\n",
       "      <th></th>\n",
       "      <th></th>\n",
       "      <th></th>\n",
       "      <th></th>\n",
       "      <th></th>\n",
       "      <th></th>\n",
       "      <th></th>\n",
       "      <th></th>\n",
       "      <th></th>\n",
       "      <th></th>\n",
       "      <th></th>\n",
       "    </tr>\n",
       "  </thead>\n",
       "  <tbody>\n",
       "    <tr>\n",
       "      <th>1</th>\n",
       "      <td>47.021553</td>\n",
       "      <td>47.048353</td>\n",
       "      <td>0.0268</td>\n",
       "      <td>47.034953</td>\n",
       "      <td>47.021553</td>\n",
       "      <td>166371.545583</td>\n",
       "      <td>2652.641939</td>\n",
       "      <td>584.854823</td>\n",
       "      <td>7603.112701</td>\n",
       "      <td>742.045104</td>\n",
       "      <td>526.215469</td>\n",
       "      <td>715.590225</td>\n",
       "    </tr>\n",
       "    <tr>\n",
       "      <th>2</th>\n",
       "      <td>73.973126</td>\n",
       "      <td>74.013126</td>\n",
       "      <td>0.0400</td>\n",
       "      <td>73.993126</td>\n",
       "      <td>74.013126</td>\n",
       "      <td>269764.957808</td>\n",
       "      <td>3110.843671</td>\n",
       "      <td>636.294686</td>\n",
       "      <td>8271.830917</td>\n",
       "      <td>727.651448</td>\n",
       "      <td>639.632100</td>\n",
       "      <td>740.460225</td>\n",
       "    </tr>\n",
       "    <tr>\n",
       "      <th>3</th>\n",
       "      <td>87.201112</td>\n",
       "      <td>87.301112</td>\n",
       "      <td>0.1000</td>\n",
       "      <td>87.251112</td>\n",
       "      <td>87.301112</td>\n",
       "      <td>758746.360762</td>\n",
       "      <td>3490.477184</td>\n",
       "      <td>710.592883</td>\n",
       "      <td>9237.707485</td>\n",
       "      <td>875.846920</td>\n",
       "      <td>716.534301</td>\n",
       "      <td>834.688976</td>\n",
       "    </tr>\n",
       "    <tr>\n",
       "      <th>4</th>\n",
       "      <td>87.999512</td>\n",
       "      <td>88.027911</td>\n",
       "      <td>0.0284</td>\n",
       "      <td>88.013711</td>\n",
       "      <td>87.999512</td>\n",
       "      <td>200044.981153</td>\n",
       "      <td>3034.285481</td>\n",
       "      <td>649.571194</td>\n",
       "      <td>8444.425524</td>\n",
       "      <td>839.666150</td>\n",
       "      <td>701.843824</td>\n",
       "      <td>756.933179</td>\n",
       "    </tr>\n",
       "    <tr>\n",
       "      <th>5</th>\n",
       "      <td>90.935109</td>\n",
       "      <td>90.964709</td>\n",
       "      <td>0.0296</td>\n",
       "      <td>90.949909</td>\n",
       "      <td>90.935109</td>\n",
       "      <td>181114.458519</td>\n",
       "      <td>2608.839470</td>\n",
       "      <td>580.888174</td>\n",
       "      <td>7551.546256</td>\n",
       "      <td>684.333483</td>\n",
       "      <td>439.888779</td>\n",
       "      <td>523.817146</td>\n",
       "    </tr>\n",
       "    <tr>\n",
       "      <th>...</th>\n",
       "      <td>...</td>\n",
       "      <td>...</td>\n",
       "      <td>...</td>\n",
       "      <td>...</td>\n",
       "      <td>...</td>\n",
       "      <td>...</td>\n",
       "      <td>...</td>\n",
       "      <td>...</td>\n",
       "      <td>...</td>\n",
       "      <td>...</td>\n",
       "      <td>...</td>\n",
       "      <td>...</td>\n",
       "    </tr>\n",
       "    <tr>\n",
       "      <th>6631</th>\n",
       "      <td>7197.235162</td>\n",
       "      <td>7197.277562</td>\n",
       "      <td>0.0424</td>\n",
       "      <td>7197.256362</td>\n",
       "      <td>7197.235162</td>\n",
       "      <td>277196.371691</td>\n",
       "      <td>2831.149172</td>\n",
       "      <td>605.984285</td>\n",
       "      <td>7877.795705</td>\n",
       "      <td>770.190965</td>\n",
       "      <td>525.649443</td>\n",
       "      <td>720.915793</td>\n",
       "    </tr>\n",
       "    <tr>\n",
       "      <th>6632</th>\n",
       "      <td>7198.137562</td>\n",
       "      <td>7198.175562</td>\n",
       "      <td>0.0380</td>\n",
       "      <td>7198.156562</td>\n",
       "      <td>7198.175562</td>\n",
       "      <td>227876.350072</td>\n",
       "      <td>2609.146032</td>\n",
       "      <td>528.896318</td>\n",
       "      <td>6875.652135</td>\n",
       "      <td>911.672230</td>\n",
       "      <td>406.677231</td>\n",
       "      <td>789.213268</td>\n",
       "    </tr>\n",
       "    <tr>\n",
       "      <th>6633</th>\n",
       "      <td>7198.634761</td>\n",
       "      <td>7198.716761</td>\n",
       "      <td>0.0820</td>\n",
       "      <td>7198.675761</td>\n",
       "      <td>7198.634761</td>\n",
       "      <td>958930.913475</td>\n",
       "      <td>4978.687382</td>\n",
       "      <td>1065.828176</td>\n",
       "      <td>13855.766290</td>\n",
       "      <td>1297.673928</td>\n",
       "      <td>1220.742873</td>\n",
       "      <td>1406.807306</td>\n",
       "    </tr>\n",
       "    <tr>\n",
       "      <th>6634</th>\n",
       "      <td>7199.073961</td>\n",
       "      <td>7199.127161</td>\n",
       "      <td>0.0532</td>\n",
       "      <td>7199.100561</td>\n",
       "      <td>7199.127161</td>\n",
       "      <td>404512.767081</td>\n",
       "      <td>3689.438886</td>\n",
       "      <td>710.093005</td>\n",
       "      <td>9231.209062</td>\n",
       "      <td>886.255519</td>\n",
       "      <td>720.032279</td>\n",
       "      <td>876.217046</td>\n",
       "    </tr>\n",
       "    <tr>\n",
       "      <th>6635</th>\n",
       "      <td>7199.173961</td>\n",
       "      <td>7199.213560</td>\n",
       "      <td>0.0396</td>\n",
       "      <td>7199.193760</td>\n",
       "      <td>7199.173961</td>\n",
       "      <td>434435.538962</td>\n",
       "      <td>4975.873677</td>\n",
       "      <td>958.042762</td>\n",
       "      <td>12454.555907</td>\n",
       "      <td>1179.924907</td>\n",
       "      <td>1075.709357</td>\n",
       "      <td>1371.275539</td>\n",
       "    </tr>\n",
       "  </tbody>\n",
       "</table>\n",
       "<p>6635 rows × 12 columns</p>\n",
       "</div>"
      ],
      "text/plain": [
       "             start_time     end_time  duration  center_time   nadir_time  \\\n",
       "spw_number                                                                 \n",
       "1             47.021553    47.048353    0.0268    47.034953    47.021553   \n",
       "2             73.973126    74.013126    0.0400    73.993126    74.013126   \n",
       "3             87.201112    87.301112    0.1000    87.251112    87.301112   \n",
       "4             87.999512    88.027911    0.0284    88.013711    87.999512   \n",
       "5             90.935109    90.964709    0.0296    90.949909    90.935109   \n",
       "...                 ...          ...       ...          ...          ...   \n",
       "6631        7197.235162  7197.277562    0.0424  7197.256362  7197.235162   \n",
       "6632        7198.137562  7198.175562    0.0380  7198.156562  7198.175562   \n",
       "6633        7198.634761  7198.716761    0.0820  7198.675761  7198.634761   \n",
       "6634        7199.073961  7199.127161    0.0532  7199.100561  7199.127161   \n",
       "6635        7199.173961  7199.213560    0.0396  7199.193760  7199.173961   \n",
       "\n",
       "            envelope_integral  envelope_peak     mean_rms    summed_rms  \\\n",
       "spw_number                                                                \n",
       "1               166371.545583    2652.641939   584.854823   7603.112701   \n",
       "2               269764.957808    3110.843671   636.294686   8271.830917   \n",
       "3               758746.360762    3490.477184   710.592883   9237.707485   \n",
       "4               200044.981153    3034.285481   649.571194   8444.425524   \n",
       "5               181114.458519    2608.839470   580.888174   7551.546256   \n",
       "...                       ...            ...          ...           ...   \n",
       "6631            277196.371691    2831.149172   605.984285   7877.795705   \n",
       "6632            227876.350072    2609.146032   528.896318   6875.652135   \n",
       "6633            958930.913475    4978.687382  1065.828176  13855.766290   \n",
       "6634            404512.767081    3689.438886   710.093005   9231.209062   \n",
       "6635            434435.538962    4975.873677   958.042762  12454.555907   \n",
       "\n",
       "                max_rms  mean_amplitude  max_amplitude  \n",
       "spw_number                                              \n",
       "1            742.045104      526.215469     715.590225  \n",
       "2            727.651448      639.632100     740.460225  \n",
       "3            875.846920      716.534301     834.688976  \n",
       "4            839.666150      701.843824     756.933179  \n",
       "5            684.333483      439.888779     523.817146  \n",
       "...                 ...             ...            ...  \n",
       "6631         770.190965      525.649443     720.915793  \n",
       "6632         911.672230      406.677231     789.213268  \n",
       "6633        1297.673928     1220.742873    1406.807306  \n",
       "6634         886.255519      720.032279     876.217046  \n",
       "6635        1179.924907     1075.709357    1371.275539  \n",
       "\n",
       "[6635 rows x 12 columns]"
      ]
     },
     "execution_count": 96,
     "metadata": {},
     "output_type": "execute_result"
    }
   ],
   "source": [
    "spw_times"
   ]
  },
  {
   "cell_type": "code",
   "execution_count": 97,
   "metadata": {
    "execution": {
     "iopub.execute_input": "2020-11-26T19:53:37.905676Z",
     "iopub.status.busy": "2020-11-26T19:53:37.905543Z",
     "iopub.status.idle": "2020-11-26T19:53:57.825686Z",
     "shell.execute_reply": "2020-11-26T19:53:57.824966Z",
     "shell.execute_reply.started": "2020-11-26T19:53:37.905661Z"
    }
   },
   "outputs": [
    {
     "data": {
      "application/vnd.jupyter.widget-view+json": {
       "model_id": "053813093abd4e76928fd5c61087ac66",
       "version_major": 2,
       "version_minor": 0
      },
      "text/plain": [
       "Canvas(toolbar=Toolbar(toolitems=[('Home', 'Reset original view', 'home', 'home'), ('Back', 'Back to previous …"
      ]
     },
     "metadata": {},
     "output_type": "display_data"
    },
    {
     "data": {
      "application/vnd.jupyter.widget-view+json": {
       "model_id": "6ecbc7287fef4d228efd672f10b6654a",
       "version_major": 2,
       "version_minor": 0
      },
      "text/plain": [
       "interactive(children=(FloatSlider(value=1.0, description='window_length', max=2.0, min=0.25, step=0.25), IntSl…"
      ]
     },
     "metadata": {},
     "output_type": "display_data"
    }
   ],
   "source": [
    "from ecephys.plot import plot_ripple\n",
    "\n",
    "from ipywidgets import (\n",
    "    fixed,\n",
    "    interact,\n",
    ")\n",
    "\n",
    "_, ax = plt.subplots(3, 1, figsize=(18, 6))\n",
    "_ = interact(\n",
    "    plot_ripple,\n",
    "    time=fixed(_time),\n",
    "    lfps=fixed(sr_lfps[not_null]),\n",
    "    filtered_lfps=fixed(-filtered_lfps),\n",
    "    fs=fixed(fs),\n",
    "    ripple_times=fixed(spw_times),\n",
    "    window_length=(0.25, 2, 0.25),\n",
    "    ripple_number=(1, len(spw_times), 1),\n",
    "    ax=fixed(ax),\n",
    ")"
   ]
  },
  {
   "cell_type": "markdown",
   "metadata": {},
   "source": [
    "## Detection type II: CSD"
   ]
  },
  {
   "cell_type": "code",
   "execution_count": 11,
   "metadata": {
    "execution": {
     "iopub.execute_input": "2020-11-30T20:29:19.581366Z",
     "iopub.status.busy": "2020-11-30T20:29:19.580872Z",
     "iopub.status.idle": "2020-11-30T20:29:19.601374Z",
     "shell.execute_reply": "2020-11-30T20:29:19.600709Z",
     "shell.execute_reply.started": "2020-11-30T20:29:19.581306Z"
    }
   },
   "outputs": [],
   "source": [
    "from kcsd import KCSD1D\n",
    "\n",
    "n_hpc_chans = len(hpc_chans)\n",
    "intersite_distance = 0.020\n",
    "interestimate_distance = intersite_distance\n",
    "ele_pos = np.linspace(0., (n_hpc_chans - 1) * intersite_distance, n_hpc_chans).reshape(n_hpc_chans, 1)"
   ]
  },
  {
   "cell_type": "code",
   "execution_count": 13,
   "metadata": {
    "execution": {
     "iopub.execute_input": "2020-11-30T20:29:26.167365Z",
     "iopub.status.busy": "2020-11-30T20:29:26.167187Z",
     "iopub.status.idle": "2020-11-30T20:29:52.810005Z",
     "shell.execute_reply": "2020-11-30T20:29:52.809243Z",
     "shell.execute_reply.started": "2020-11-30T20:29:26.167346Z"
    }
   },
   "outputs": [],
   "source": [
    "pots = hpc_lfps.T\n",
    "k = KCSD1D(ele_pos, pots, gdx=interesimtate_distance)\n",
    "est_csd = k.values('CSD')"
   ]
  },
  {
   "cell_type": "code",
   "execution_count": 17,
   "metadata": {
    "execution": {
     "iopub.execute_input": "2020-11-30T20:45:02.553828Z",
     "iopub.status.busy": "2020-11-30T20:45:02.553335Z",
     "iopub.status.idle": "2020-11-30T20:54:12.902138Z",
     "shell.execute_reply": "2020-11-30T20:54:12.901387Z",
     "shell.execute_reply.started": "2020-11-30T20:45:02.553769Z"
    }
   },
   "outputs": [
    {
     "name": "stdout",
     "output_type": "stream",
     "text": [
      "No lambda given, using defaults\n",
      "min lambda 1e-12\n",
      "max lambda 0.0126\n",
      "min lambda 1e-12\n",
      "max lambda 0.0126\n",
      "l-curve (all lambda):  0.23\n",
      "Best lambda and R =  0.0003822395851068327 ,  0.23\n"
     ]
    }
   ],
   "source": [
    "k.L_curve()"
   ]
  },
  {
   "cell_type": "code",
   "execution_count": 18,
   "metadata": {
    "execution": {
     "iopub.execute_input": "2020-11-30T20:54:12.930213Z",
     "iopub.status.busy": "2020-11-30T20:54:12.930063Z",
     "iopub.status.idle": "2020-11-30T20:54:24.161355Z",
     "shell.execute_reply": "2020-11-30T20:54:24.160599Z",
     "shell.execute_reply.started": "2020-11-30T20:54:12.930194Z"
    }
   },
   "outputs": [],
   "source": [
    "est_csd_val = k.values('CSD')"
   ]
  },
  {
   "cell_type": "code",
   "execution_count": 34,
   "metadata": {
    "execution": {
     "iopub.execute_input": "2020-11-30T22:14:31.225849Z",
     "iopub.status.busy": "2020-11-30T22:14:31.225418Z",
     "iopub.status.idle": "2020-11-30T22:15:39.844701Z",
     "shell.execute_reply": "2020-11-30T22:15:39.843909Z",
     "shell.execute_reply.started": "2020-11-30T22:14:31.225783Z"
    }
   },
   "outputs": [
    {
     "data": {
      "application/vnd.jupyter.widget-view+json": {
       "model_id": "5575d6d94d054cba924f75d48c9821d2",
       "version_major": 2,
       "version_minor": 0
      },
      "text/plain": [
       "Canvas(toolbar=Toolbar(toolitems=[('Home', 'Reset original view', 'home', 'home'), ('Back', 'Back to previous …"
      ]
     },
     "metadata": {},
     "output_type": "display_data"
    },
    {
     "data": {
      "application/vnd.jupyter.widget-view+json": {
       "model_id": "307d9c04fab2446aa28a4fc27c7942a9",
       "version_major": 2,
       "version_minor": 0
      },
      "text/plain": [
       "HBox(children=(FloatSlider(value=1.0, description='Secs', max=4.0, min=0.25, step=0.25), BoundedFloatText(valu…"
      ]
     },
     "metadata": {},
     "output_type": "display_data"
    },
    {
     "data": {
      "application/vnd.jupyter.widget-view+json": {
       "model_id": "cae134b5518248459749c268e83c4fab",
       "version_major": 2,
       "version_minor": 0
      },
      "text/plain": [
       "Output()"
      ]
     },
     "metadata": {},
     "output_type": "display_data"
    }
   ],
   "source": [
    "colormesh_timeseries_explorer(time, est_csd_val.T, yaxis=k.estm_x, ylabel=\"Depth (mm)\")"
   ]
  },
  {
   "cell_type": "code",
   "execution_count": 61,
   "metadata": {
    "execution": {
     "iopub.execute_input": "2020-11-30T22:41:08.290712Z",
     "iopub.status.busy": "2020-11-30T22:41:08.290236Z",
     "iopub.status.idle": "2020-11-30T22:42:09.366935Z",
     "shell.execute_reply": "2020-11-30T22:42:09.366084Z",
     "shell.execute_reply.started": "2020-11-30T22:41:08.290653Z"
    }
   },
   "outputs": [
    {
     "data": {
      "application/vnd.jupyter.widget-view+json": {
       "model_id": "6d7fd61e1f874a7aa84d7ff21ccea9a7",
       "version_major": 2,
       "version_minor": 0
      },
      "text/plain": [
       "Canvas(toolbar=Toolbar(toolitems=[('Home', 'Reset original view', 'home', 'home'), ('Back', 'Back to previous …"
      ]
     },
     "metadata": {},
     "output_type": "display_data"
    },
    {
     "data": {
      "application/vnd.jupyter.widget-view+json": {
       "model_id": "84353edd170a4c6888e8771f77bf4ef2",
       "version_major": 2,
       "version_minor": 0
      },
      "text/plain": [
       "HBox(children=(FloatSlider(value=1.0, description='Secs', max=4.0, min=0.25, step=0.25), BoundedFloatText(valu…"
      ]
     },
     "metadata": {},
     "output_type": "display_data"
    },
    {
     "data": {
      "application/vnd.jupyter.widget-view+json": {
       "model_id": "1383aae5ee6c40128034ce894820512f",
       "version_major": 2,
       "version_minor": 0
      },
      "text/plain": [
       "Output()"
      ]
     },
     "metadata": {},
     "output_type": "display_data"
    }
   ],
   "source": [
    "timeseries_explorer(time, est_csd_val.T)"
   ]
  },
  {
   "cell_type": "markdown",
   "metadata": {
    "collapsed": "true"
   },
   "source": [
    "### Optionally detrend"
   ]
  },
  {
   "cell_type": "code",
   "execution_count": 54,
   "metadata": {
    "execution": {
     "iopub.execute_input": "2020-11-30T22:22:04.974149Z",
     "iopub.status.busy": "2020-11-30T22:22:04.973679Z",
     "iopub.status.idle": "2020-11-30T22:23:22.811602Z",
     "shell.execute_reply": "2020-11-30T22:23:22.810819Z",
     "shell.execute_reply.started": "2020-11-30T22:22:04.974091Z"
    }
   },
   "outputs": [],
   "source": [
    "detrended_hpc_lfps = detrend(hpc_lfps)"
   ]
  },
  {
   "cell_type": "code",
   "execution_count": 55,
   "metadata": {
    "execution": {
     "iopub.execute_input": "2020-11-30T22:24:06.653645Z",
     "iopub.status.busy": "2020-11-30T22:24:06.653162Z",
     "iopub.status.idle": "2020-11-30T22:24:18.677094Z",
     "shell.execute_reply": "2020-11-30T22:24:18.676507Z",
     "shell.execute_reply.started": "2020-11-30T22:24:06.653563Z"
    }
   },
   "outputs": [],
   "source": [
    "l = KCSD1D(ele_pos, detrended_hpc_lfps.T, gdx=0.02)\n",
    "est_csd_detrend = l.values('CSD')"
   ]
  },
  {
   "cell_type": "code",
   "execution_count": 56,
   "metadata": {
    "execution": {
     "iopub.execute_input": "2020-11-30T22:24:26.701711Z",
     "iopub.status.busy": "2020-11-30T22:24:26.701247Z",
     "iopub.status.idle": "2020-11-30T22:37:10.404592Z",
     "shell.execute_reply": "2020-11-30T22:37:10.403953Z",
     "shell.execute_reply.started": "2020-11-30T22:24:26.701654Z"
    }
   },
   "outputs": [
    {
     "name": "stdout",
     "output_type": "stream",
     "text": [
      "No lambda given, using defaults\n",
      "min lambda 1e-12\n",
      "max lambda 0.0126\n",
      "min lambda 1e-12\n",
      "max lambda 0.0126\n",
      "l-curve (all lambda):  0.23\n",
      "Best lambda and R =  0.0003822395851068327 ,  0.23\n"
     ]
    }
   ],
   "source": [
    "l.L_curve()"
   ]
  },
  {
   "cell_type": "code",
   "execution_count": 57,
   "metadata": {
    "execution": {
     "iopub.execute_input": "2020-11-30T22:37:10.556140Z",
     "iopub.status.busy": "2020-11-30T22:37:10.556023Z",
     "iopub.status.idle": "2020-11-30T22:37:26.982711Z",
     "shell.execute_reply": "2020-11-30T22:37:26.982138Z",
     "shell.execute_reply.started": "2020-11-30T22:37:10.556125Z"
    }
   },
   "outputs": [],
   "source": [
    "est_csd_val_detrend = l.values('CSD')"
   ]
  },
  {
   "cell_type": "markdown",
   "metadata": {},
   "source": [
    "### Detect"
   ]
  },
  {
   "cell_type": "code",
   "execution_count": 80,
   "metadata": {
    "execution": {
     "iopub.execute_input": "2020-11-30T23:02:11.364622Z",
     "iopub.status.busy": "2020-11-30T23:02:11.364125Z",
     "iopub.status.idle": "2020-11-30T23:02:11.386985Z",
     "shell.execute_reply": "2020-11-30T23:02:11.386371Z",
     "shell.execute_reply.started": "2020-11-30T23:02:11.364561Z"
    }
   },
   "outputs": [],
   "source": [
    "from ecephys.signal.ripples import threshold_by_zscore\n",
    "\n",
    "def detect_spw(time, csd): \n",
    "    csd = -csd.T\n",
    "    #filtered_lfps[filtered_lfps < 0] = 0\n",
    "    #not_null = np.all(pd.notnull(filtered_lfps), axis=1)\n",
    "    #filtered_lfps, _time = (filtered_lfps[not_null], time[not_null])\n",
    "    combined_csd = np.sum(csd, axis=1)\n",
    "\n",
    "    candidate_spw_times = threshold_by_zscore(\n",
    "        combined_csd,\n",
    "        time,\n",
    "        minimum_duration=0.005,\n",
    "        detection_zscore_threshold=4,\n",
    "        boundary_zscore_threshold=0,\n",
    "    )\n",
    "\n",
    "    index = pd.Index(np.arange(len(candidate_spw_times)) + 1, name=\"spw_number\")\n",
    "    spws = pd.DataFrame(candidate_spw_times, columns=[\"start_time\", \"end_time\"], index=index)\n",
    "    \n",
    "    return spws"
   ]
  },
  {
   "cell_type": "code",
   "execution_count": 81,
   "metadata": {
    "execution": {
     "iopub.execute_input": "2020-11-30T23:02:14.528935Z",
     "iopub.status.busy": "2020-11-30T23:02:14.528461Z",
     "iopub.status.idle": "2020-11-30T23:04:57.927635Z",
     "shell.execute_reply": "2020-11-30T23:04:57.926708Z",
     "shell.execute_reply.started": "2020-11-30T23:02:14.528878Z"
    }
   },
   "outputs": [],
   "source": [
    "sr_csd = est_csd_val[np.isin(hpc_chans, sr_chans)]\n",
    "spws = detect_spw(time, sr_csd)"
   ]
  },
  {
   "cell_type": "code",
   "execution_count": 85,
   "metadata": {
    "execution": {
     "iopub.execute_input": "2020-11-30T23:13:03.045803Z",
     "iopub.status.busy": "2020-11-30T23:13:03.045244Z",
     "iopub.status.idle": "2020-11-30T23:13:03.112494Z",
     "shell.execute_reply": "2020-11-30T23:13:03.111609Z",
     "shell.execute_reply.started": "2020-11-30T23:13:03.045740Z"
    }
   },
   "outputs": [],
   "source": [
    "spws[\"duration\"] = spws.apply(lambda x: x.end_time - x.start_time, axis=1)\n",
    "spws[\"center_time\"] = spws.apply(lambda x: x.start_time + x.duration / 2, axis=1)"
   ]
  },
  {
   "cell_type": "markdown",
   "metadata": {
    "execution": {
     "iopub.execute_input": "2020-12-01T00:20:18.941774Z",
     "iopub.status.busy": "2020-12-01T00:20:18.941278Z",
     "iopub.status.idle": "2020-12-01T00:20:18.960114Z",
     "shell.execute_reply": "2020-12-01T00:20:18.959367Z",
     "shell.execute_reply.started": "2020-12-01T00:20:18.941715Z"
    }
   },
   "source": [
    "### Export results"
   ]
  },
  {
   "cell_type": "code",
   "execution_count": 112,
   "metadata": {
    "execution": {
     "iopub.execute_input": "2020-12-01T01:06:17.254194Z",
     "iopub.status.busy": "2020-12-01T01:06:17.253722Z",
     "iopub.status.idle": "2020-12-01T01:06:17.287015Z",
     "shell.execute_reply": "2020-12-01T01:06:17.286228Z",
     "shell.execute_reply.started": "2020-12-01T01:06:17.254135Z"
    }
   },
   "outputs": [],
   "source": [
    "metadata = dict(\n",
    "    chans=hpc_chans,\n",
    "    electrode_positions=ele_pos,\n",
    "    intersite_distance=intersite_distance,\n",
    "    gdx=interestimate_distance,\n",
    "    lambd = k.lambd,\n",
    "    R = k.R,\n",
    "    detect_states=[\"Wake\", \"N1\", \"N2\", \"REM\"],\n",
    "    detection_zscore_threshold=4.0,\n",
    "    boundary_zscore_threshold=0.0,\n",
    "    minimum_duration=0.005,\n",
    ")\n",
    "spws_path = Path(paths.spws[condition][subject])\n",
    "store_df_h5(spws_path, spws, **metadata)"
   ]
  },
  {
   "cell_type": "code",
   "execution_count": null,
   "metadata": {},
   "outputs": [],
   "source": []
  }
 ],
 "metadata": {
  "kernelspec": {
   "display_name": "Python 3",
   "language": "python",
   "name": "python3"
  },
  "language_info": {
   "codemirror_mode": {
    "name": "ipython",
    "version": 3
   },
   "file_extension": ".py",
   "mimetype": "text/x-python",
   "name": "python",
   "nbconvert_exporter": "python",
   "pygments_lexer": "ipython3",
   "version": "3.7.9"
  }
 },
 "nbformat": 4,
 "nbformat_minor": 4
}
