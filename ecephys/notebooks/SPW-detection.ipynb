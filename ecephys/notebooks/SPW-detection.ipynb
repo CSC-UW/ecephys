{
 "cells": [
  {
   "cell_type": "markdown",
   "metadata": {},
   "source": [
    "- TODO: Parallelize sharp wave property computation"
   ]
  },
  {
   "cell_type": "markdown",
   "metadata": {
    "collapsed": "true",
    "execution": {
     "iopub.execute_input": "2020-11-30T16:00:22.289233Z",
     "iopub.status.busy": "2020-11-30T16:00:22.288802Z",
     "iopub.status.idle": "2020-11-30T16:00:22.305803Z",
     "shell.execute_reply": "2020-11-30T16:00:22.305354Z",
     "shell.execute_reply.started": "2020-11-30T16:00:22.289179Z"
    }
   },
   "source": [
    "# Imports and notebook definition"
   ]
  },
  {
   "cell_type": "code",
   "execution_count": 1,
   "metadata": {
    "execution": {
     "iopub.execute_input": "2021-01-07T22:49:58.559029Z",
     "iopub.status.busy": "2021-01-07T22:49:58.558541Z",
     "iopub.status.idle": "2021-01-07T22:49:58.577985Z",
     "shell.execute_reply": "2021-01-07T22:49:58.577353Z",
     "shell.execute_reply.started": "2021-01-07T22:49:58.558969Z"
    }
   },
   "outputs": [],
   "source": [
    "%load_ext autoreload\n",
    "%autoreload 2"
   ]
  },
  {
   "cell_type": "code",
   "execution_count": 2,
   "metadata": {
    "execution": {
     "iopub.execute_input": "2021-01-07T22:49:59.057128Z",
     "iopub.status.busy": "2021-01-07T22:49:59.056902Z",
     "iopub.status.idle": "2021-01-07T22:49:59.209062Z",
     "shell.execute_reply": "2021-01-07T22:49:59.208597Z",
     "shell.execute_reply.started": "2021-01-07T22:49:59.057089Z"
    }
   },
   "outputs": [],
   "source": [
    "%matplotlib widget\n",
    "import matplotlib.pyplot as plt"
   ]
  },
  {
   "cell_type": "code",
   "execution_count": 3,
   "metadata": {
    "execution": {
     "iopub.execute_input": "2021-01-07T22:49:59.401322Z",
     "iopub.status.busy": "2021-01-07T22:49:59.401129Z",
     "iopub.status.idle": "2021-01-07T22:49:59.415488Z",
     "shell.execute_reply": "2021-01-07T22:49:59.414774Z",
     "shell.execute_reply.started": "2021-01-07T22:49:59.401285Z"
    }
   },
   "outputs": [],
   "source": [
    "import numpy as np\n",
    "import pandas as pd\n",
    "import json"
   ]
  },
  {
   "cell_type": "code",
   "execution_count": 4,
   "metadata": {
    "execution": {
     "iopub.execute_input": "2021-01-07T22:49:59.817645Z",
     "iopub.status.busy": "2021-01-07T22:49:59.817308Z",
     "iopub.status.idle": "2021-01-07T22:50:00.284878Z",
     "shell.execute_reply": "2021-01-07T22:50:00.284238Z",
     "shell.execute_reply.started": "2021-01-07T22:49:59.817602Z"
    }
   },
   "outputs": [],
   "source": [
    "from ecephys.data import paths, channel_groups\n",
    "from ecephys.sglx_utils import load_timeseries\n",
    "from ecephys.signal.csd import get_kcsd\n",
    "from ecephys.signal.sharp_wave_ripples import detect_sharp_waves_by_value, detect_sharp_waves_by_zscore, get_durations, get_midpoints, get_sink_amplitudes, get_sink_integrals\n",
    "from ecephys.utils import load_df_h5, store_df_h5, zscore_to_value\n",
    "import ecephys.plot as eplt"
   ]
  },
  {
   "cell_type": "code",
   "execution_count": 7,
   "metadata": {
    "execution": {
     "iopub.execute_input": "2021-01-07T23:24:04.438877Z",
     "iopub.status.busy": "2021-01-07T23:24:04.438393Z",
     "iopub.status.idle": "2021-01-07T23:24:04.482905Z",
     "shell.execute_reply": "2021-01-07T23:24:04.482286Z",
     "shell.execute_reply.started": "2021-01-07T23:24:04.438819Z"
    }
   },
   "outputs": [],
   "source": [
    "def run_spw_detection_pipeline(subject, condition, use_existing_params):\n",
    "    sr_chans = channel_groups.stratum_radiatum_140um_to_200um[subject]\n",
    "    hpc_chans = channel_groups.hippocampus[subject]\n",
    "    bin_path = paths.get_datapath(subject=subject, condition=condition, data=\"lf.bin\")\n",
    "    params_path = paths.get_datapath(\n",
    "        subject=subject, condition=\"REC-30+18\", data=\"sharp_wave_detection_params.json\"\n",
    "    )\n",
    "    (time, hpc_lfps, fs) = load_timeseries(\n",
    "        bin_path, hpc_chans, start_time=None, end_time=None\n",
    "    )\n",
    "\n",
    "    if use_existing_params:\n",
    "        with open(params_path) as params_file:\n",
    "            params = json.load(params_file)\n",
    "\n",
    "    if use_existing_params:\n",
    "        intersite_distance = params[\"intersite_distance\"]\n",
    "        k = get_kcsd(\n",
    "            hpc_lfps,\n",
    "            intersite_distance=params[\"intersite_distance\"],\n",
    "            gdx=params[\"gdx\"],\n",
    "            lambd=params[\"lambd\"],\n",
    "            R_init=params[\"R\"],\n",
    "            do_lcurve=False,\n",
    "        )\n",
    "    else:\n",
    "        gdx = intersite_distance = 0.020\n",
    "        k = get_kcsd(\n",
    "            hpc_lfps, intersite_distance=intersite_distance, gdx=gdx, do_lcurve=True\n",
    "        )\n",
    "\n",
    "    hpc_csd = k.values(\"CSD\")\n",
    "    sr_csd = hpc_csd[np.isin(hpc_chans, sr_chans)]\n",
    "\n",
    "    if use_existing_params:\n",
    "        spws = detect_sharp_waves_by_value(\n",
    "            time,\n",
    "            sr_csd,\n",
    "            params[\"detection_threshold\"],\n",
    "            params[\"boundary_threshold\"],\n",
    "            params[\"minimum_duration\"],\n",
    "        )\n",
    "    else:\n",
    "        spws = detect_sharp_waves_by_zscore(time, sr_csd)\n",
    "\n",
    "    spws[\"duration\"] = get_durations(spws)\n",
    "    spws[\"midpoint\"] = get_midpoints(spws)\n",
    "    spws[\"sink_amplitude\"] = get_sink_amplitudes(spws, time, sr_csd) * (\n",
    "        1e-6\n",
    "    )  # Scale to mA/mm\n",
    "    spws[\"sink_integral\"] = (\n",
    "        get_sink_integrals(spws, time, fs, sr_csd) * (1e-6) * (1e3)\n",
    "    )  # Scale to mA * ms\n",
    "\n",
    "    metadata = dict(\n",
    "        csd_chans=hpc_chans,\n",
    "        detection_chans=sr_chans,\n",
    "        electrode_positions=k.ele_pos,\n",
    "        intersite_distance=intersite_distance,\n",
    "        gdx=k.gdx,\n",
    "        lambd=k.lambd,\n",
    "        R=k.R,\n",
    "        detect_states=[\"all\"],\n",
    "    )\n",
    "    metadata.update(spws.attrs)\n",
    "    spws_path = paths.get_datapath(\n",
    "        subject=subject, condition=condition, data=\"sharp_waves.h5\"\n",
    "    )\n",
    "    store_df_h5(spws_path, spws, **metadata)\n",
    "\n",
    "    if not use_existing_params:\n",
    "        metadata.update({\"params_source_file\": str(bin_path)})\n",
    "        metadata[\"csd_chans\"] = metadata[\"csd_chans\"].tolist()\n",
    "        metadata[\"electrode_positions\"] = metadata[\"electrode_positions\"].tolist()\n",
    "        with open(params_path, \"x\") as params_file:\n",
    "            json.dump(metadata, params_file, indent=4)"
   ]
  },
  {
   "cell_type": "markdown",
   "metadata": {},
   "source": [
    "# Run automated pipeline"
   ]
  },
  {
   "cell_type": "markdown",
   "metadata": {},
   "source": [
    "### Segundo"
   ]
  },
  {
   "cell_type": "code",
   "execution_count": 16,
   "metadata": {
    "execution": {
     "iopub.execute_input": "2021-01-08T00:15:57.529245Z",
     "iopub.status.busy": "2021-01-08T00:15:57.528742Z",
     "iopub.status.idle": "2021-01-08T00:36:44.224106Z",
     "shell.execute_reply": "2021-01-08T00:36:44.222975Z",
     "shell.execute_reply.started": "2021-01-08T00:15:57.529187Z"
    }
   },
   "outputs": [
    {
     "name": "stdout",
     "output_type": "stream",
     "text": [
      "nChan: 385, nFileSamp: 18000001\n",
      "Performing L-curve parameter estimation...\n",
      "No lambda given, using defaults\n",
      "min lambda 1e-11\n",
      "max lambda 0.0133\n",
      "min lambda 1e-11\n",
      "max lambda 0.0133\n",
      "l-curve (all lambda):  0.23\n",
      "Best lambda and R =  0.00013089207687291224 ,  0.23\n"
     ]
    }
   ],
   "source": [
    "run_spw_detection_pipeline(subject=\"Segundo\", condition=\"REC-0+2\", use_existing_params=False)"
   ]
  },
  {
   "cell_type": "code",
   "execution_count": 17,
   "metadata": {
    "execution": {
     "iopub.execute_input": "2021-01-08T00:36:44.243937Z",
     "iopub.status.busy": "2021-01-08T00:36:44.243813Z",
     "iopub.status.idle": "2021-01-08T00:47:00.734865Z",
     "shell.execute_reply": "2021-01-08T00:47:00.733668Z",
     "shell.execute_reply.started": "2021-01-08T00:36:44.243922Z"
    }
   },
   "outputs": [
    {
     "name": "stdout",
     "output_type": "stream",
     "text": [
      "nChan: 385, nFileSamp: 18000001\n"
     ]
    }
   ],
   "source": [
    "run_spw_detection_pipeline(subject=\"Segundo\", condition=\"REC-2-0\", use_existing_params=True)"
   ]
  },
  {
   "cell_type": "code",
   "execution_count": 27,
   "metadata": {
    "execution": {
     "iopub.execute_input": "2021-01-08T02:06:04.700083Z",
     "iopub.status.busy": "2021-01-08T02:06:04.699956Z",
     "iopub.status.idle": "2021-01-08T02:15:28.635420Z",
     "shell.execute_reply": "2021-01-08T02:15:28.634562Z",
     "shell.execute_reply.started": "2021-01-08T02:06:04.700067Z"
    }
   },
   "outputs": [
    {
     "name": "stdout",
     "output_type": "stream",
     "text": [
      "nChan: 385, nFileSamp: 18000001\n"
     ]
    }
   ],
   "source": [
    "run_spw_detection_pipeline(subject=\"Segundo\", condition=\"REC-4-2\", use_existing_params=True)"
   ]
  },
  {
   "cell_type": "code",
   "execution_count": 28,
   "metadata": {
    "execution": {
     "iopub.execute_input": "2021-01-08T02:15:28.636662Z",
     "iopub.status.busy": "2021-01-08T02:15:28.636510Z",
     "iopub.status.idle": "2021-01-08T02:21:04.170409Z",
     "shell.execute_reply": "2021-01-08T02:21:04.169285Z",
     "shell.execute_reply.started": "2021-01-08T02:15:28.636643Z"
    }
   },
   "outputs": [
    {
     "name": "stdout",
     "output_type": "stream",
     "text": [
      "nChan: 385, nFileSamp: 18000001\n"
     ]
    }
   ],
   "source": [
    "run_spw_detection_pipeline(subject=\"Segundo\", condition=\"REC-6-4\", use_existing_params=True)"
   ]
  },
  {
   "cell_type": "code",
   "execution_count": 18,
   "metadata": {
    "execution": {
     "iopub.execute_input": "2021-01-08T00:47:00.736100Z",
     "iopub.status.busy": "2021-01-08T00:47:00.735951Z",
     "iopub.status.idle": "2021-01-08T00:55:33.758537Z",
     "shell.execute_reply": "2021-01-08T00:55:33.757391Z",
     "shell.execute_reply.started": "2021-01-08T00:47:00.736080Z"
    }
   },
   "outputs": [
    {
     "name": "stdout",
     "output_type": "stream",
     "text": [
      "nChan: 385, nFileSamp: 18000000\n"
     ]
    }
   ],
   "source": [
    "run_spw_detection_pipeline(subject=\"Segundo\", condition=\"BSL-0+2\", use_existing_params=True)"
   ]
  },
  {
   "cell_type": "markdown",
   "metadata": {},
   "source": [
    "### Valentino"
   ]
  },
  {
   "cell_type": "code",
   "execution_count": 19,
   "metadata": {
    "execution": {
     "iopub.execute_input": "2021-01-08T00:55:33.814777Z",
     "iopub.status.busy": "2021-01-08T00:55:33.814655Z",
     "iopub.status.idle": "2021-01-08T01:23:44.591780Z",
     "shell.execute_reply": "2021-01-08T01:23:44.590919Z",
     "shell.execute_reply.started": "2021-01-08T00:55:33.814762Z"
    }
   },
   "outputs": [
    {
     "name": "stdout",
     "output_type": "stream",
     "text": [
      "nChan: 385, nFileSamp: 18000000\n",
      "Performing L-curve parameter estimation...\n",
      "No lambda given, using defaults\n",
      "min lambda 1e-12\n",
      "max lambda 0.0119\n",
      "min lambda 1e-12\n",
      "max lambda 0.0119\n",
      "l-curve (all lambda):  0.23\n",
      "Best lambda and R =  0.00105886675336374 ,  0.23\n"
     ]
    }
   ],
   "source": [
    "run_spw_detection_pipeline(subject=\"Valentino\", condition=\"REC-0+2\", use_existing_params=False)"
   ]
  },
  {
   "cell_type": "code",
   "execution_count": 20,
   "metadata": {
    "execution": {
     "iopub.execute_input": "2021-01-08T01:23:44.592766Z",
     "iopub.status.busy": "2021-01-08T01:23:44.592614Z",
     "iopub.status.idle": "2021-01-08T01:32:39.167805Z",
     "shell.execute_reply": "2021-01-08T01:32:39.166665Z",
     "shell.execute_reply.started": "2021-01-08T01:23:44.592748Z"
    }
   },
   "outputs": [
    {
     "name": "stdout",
     "output_type": "stream",
     "text": [
      "nChan: 385, nFileSamp: 18000000\n"
     ]
    }
   ],
   "source": [
    "run_spw_detection_pipeline(subject=\"Valentino\", condition=\"REC-2-0\", use_existing_params=True)"
   ]
  },
  {
   "cell_type": "code",
   "execution_count": 25,
   "metadata": {
    "execution": {
     "iopub.execute_input": "2021-01-08T01:50:03.164512Z",
     "iopub.status.busy": "2021-01-08T01:50:03.164390Z",
     "iopub.status.idle": "2021-01-08T01:59:16.260180Z",
     "shell.execute_reply": "2021-01-08T01:59:16.259232Z",
     "shell.execute_reply.started": "2021-01-08T01:50:03.164497Z"
    }
   },
   "outputs": [
    {
     "name": "stdout",
     "output_type": "stream",
     "text": [
      "nChan: 385, nFileSamp: 18000000\n"
     ]
    }
   ],
   "source": [
    "run_spw_detection_pipeline(subject=\"Valentino\", condition=\"REC-4-2\", use_existing_params=True)"
   ]
  },
  {
   "cell_type": "code",
   "execution_count": 26,
   "metadata": {
    "execution": {
     "iopub.execute_input": "2021-01-08T01:59:16.261551Z",
     "iopub.status.busy": "2021-01-08T01:59:16.261398Z",
     "iopub.status.idle": "2021-01-08T02:06:04.680306Z",
     "shell.execute_reply": "2021-01-08T02:06:04.679277Z",
     "shell.execute_reply.started": "2021-01-08T01:59:16.261531Z"
    }
   },
   "outputs": [
    {
     "name": "stdout",
     "output_type": "stream",
     "text": [
      "nChan: 385, nFileSamp: 18000000\n"
     ]
    }
   ],
   "source": [
    "run_spw_detection_pipeline(subject=\"Valentino\", condition=\"REC-6-4\", use_existing_params=True)"
   ]
  },
  {
   "cell_type": "code",
   "execution_count": 24,
   "metadata": {
    "execution": {
     "iopub.execute_input": "2021-01-08T01:46:36.867328Z",
     "iopub.status.busy": "2021-01-08T01:46:36.866898Z",
     "iopub.status.idle": "2021-01-08T01:50:03.148668Z",
     "shell.execute_reply": "2021-01-08T01:50:03.148137Z",
     "shell.execute_reply.started": "2021-01-08T01:46:36.867274Z"
    }
   },
   "outputs": [
    {
     "name": "stdout",
     "output_type": "stream",
     "text": [
      "nChan: 385, nFileSamp: 18000000\n"
     ]
    }
   ],
   "source": [
    "run_spw_detection_pipeline(subject=\"Valentino\", condition=\"BSL-0+2\", use_existing_params=True)"
   ]
  },
  {
   "cell_type": "markdown",
   "metadata": {},
   "source": [
    "### Doppio"
   ]
  },
  {
   "cell_type": "code",
   "execution_count": null,
   "metadata": {},
   "outputs": [],
   "source": [
    "run_spw_detection_pipeline(subject=\"Doppio\", condition=\"REC-0+2\", use_existing_params=False)"
   ]
  },
  {
   "cell_type": "code",
   "execution_count": null,
   "metadata": {},
   "outputs": [],
   "source": [
    "run_spw_detection_pipeline(subject=\"Doppio\", condition=\"REC-2-0\", use_existing_params=True)"
   ]
  },
  {
   "cell_type": "code",
   "execution_count": null,
   "metadata": {},
   "outputs": [],
   "source": [
    "run_spw_detection_pipeline(subject=\"Doppio\", condition=\"REC-4-2\", use_existing_params=True)"
   ]
  },
  {
   "cell_type": "code",
   "execution_count": null,
   "metadata": {},
   "outputs": [],
   "source": [
    "run_spw_detection_pipeline(subject=\"Doppio\", condition=\"BSL-6-4\", use_existing_params=True)"
   ]
  },
  {
   "cell_type": "code",
   "execution_count": null,
   "metadata": {},
   "outputs": [],
   "source": [
    "run_spw_detection_pipeline(subject=\"Doppio\", condition=\"BSL-0+2\", use_existing_params=True)"
   ]
  },
  {
   "cell_type": "markdown",
   "metadata": {},
   "source": [
    "### Alessandro"
   ]
  },
  {
   "cell_type": "code",
   "execution_count": 24,
   "metadata": {
    "execution": {
     "iopub.execute_input": "2021-01-07T21:49:14.135958Z",
     "iopub.status.busy": "2021-01-07T21:49:14.135461Z",
     "iopub.status.idle": "2021-01-07T21:59:10.321497Z",
     "shell.execute_reply": "2021-01-07T21:59:10.320173Z",
     "shell.execute_reply.started": "2021-01-07T21:49:14.135897Z"
    }
   },
   "outputs": [
    {
     "name": "stdout",
     "output_type": "stream",
     "text": [
      "nChan: 385, nFileSamp: 9000052\n",
      "Performing L-curve parameter estimation...\n",
      "No lambda given, using defaults\n",
      "min lambda 1e-12\n",
      "max lambda 0.0126\n",
      "min lambda 1e-12\n",
      "max lambda 0.0126\n",
      "l-curve (all lambda):  0.23\n",
      "Best lambda and R =  0.00011910798611831335 ,  0.23\n"
     ]
    }
   ],
   "source": [
    "run_spw_detection_pipeline(subject=\"Alessandro\", condition=\"REC-0+1\", use_existing_params=False)"
   ]
  },
  {
   "cell_type": "code",
   "execution_count": 9,
   "metadata": {
    "execution": {
     "iopub.execute_input": "2021-01-07T23:30:46.388937Z",
     "iopub.status.busy": "2021-01-07T23:30:46.388578Z",
     "iopub.status.idle": "2021-01-07T23:33:58.486016Z",
     "shell.execute_reply": "2021-01-07T23:33:58.484843Z",
     "shell.execute_reply.started": "2021-01-07T23:30:46.388895Z"
    }
   },
   "outputs": [
    {
     "name": "stdout",
     "output_type": "stream",
     "text": [
      "nChan: 385, nFileSamp: 9000052\n"
     ]
    }
   ],
   "source": [
    "run_spw_detection_pipeline(subject=\"Alessandro\", condition=\"REC-1-0\", use_existing_params=True)"
   ]
  },
  {
   "cell_type": "code",
   "execution_count": 10,
   "metadata": {
    "execution": {
     "iopub.execute_input": "2021-01-07T23:34:00.711558Z",
     "iopub.status.busy": "2021-01-07T23:34:00.711125Z",
     "iopub.status.idle": "2021-01-07T23:36:56.075315Z",
     "shell.execute_reply": "2021-01-07T23:36:56.074635Z",
     "shell.execute_reply.started": "2021-01-07T23:34:00.711503Z"
    }
   },
   "outputs": [
    {
     "name": "stdout",
     "output_type": "stream",
     "text": [
      "nChan: 385, nFileSamp: 9000052\n"
     ]
    }
   ],
   "source": [
    "run_spw_detection_pipeline(subject=\"Alessandro\", condition=\"BSL-0+1\", use_existing_params=True)"
   ]
  },
  {
   "cell_type": "markdown",
   "metadata": {},
   "source": [
    "### Eugene"
   ]
  },
  {
   "cell_type": "code",
   "execution_count": 12,
   "metadata": {
    "execution": {
     "iopub.execute_input": "2021-01-07T23:51:37.971778Z",
     "iopub.status.busy": "2021-01-07T23:51:37.971246Z",
     "iopub.status.idle": "2021-01-07T23:57:36.007896Z",
     "shell.execute_reply": "2021-01-07T23:57:36.007135Z",
     "shell.execute_reply.started": "2021-01-07T23:51:37.971711Z"
    }
   },
   "outputs": [
    {
     "name": "stdout",
     "output_type": "stream",
     "text": [
      "nChan: 385, nFileSamp: 9000026\n",
      "Performing L-curve parameter estimation...\n",
      "No lambda given, using defaults\n",
      "min lambda 1e-11\n",
      "max lambda 0.0140\n",
      "min lambda 1e-11\n",
      "max lambda 0.0140\n",
      "l-curve (all lambda):  0.23\n",
      "Best lambda and R =  0.001404472887665455 ,  0.23\n"
     ]
    }
   ],
   "source": [
    "run_spw_detection_pipeline(subject=\"Eugene\", condition=\"REC-0+2\", use_existing_params=False)"
   ]
  },
  {
   "cell_type": "code",
   "execution_count": 14,
   "metadata": {
    "execution": {
     "iopub.execute_input": "2021-01-08T00:10:50.245187Z",
     "iopub.status.busy": "2021-01-08T00:10:50.244734Z",
     "iopub.status.idle": "2021-01-08T00:12:47.777854Z",
     "shell.execute_reply": "2021-01-08T00:12:47.777314Z",
     "shell.execute_reply.started": "2021-01-08T00:10:50.245131Z"
    }
   },
   "outputs": [
    {
     "name": "stdout",
     "output_type": "stream",
     "text": [
      "nChan: 385, nFileSamp: 9000025\n"
     ]
    }
   ],
   "source": [
    "run_spw_detection_pipeline(subject=\"Eugene\", condition=\"BSL-0+2\", use_existing_params=True)"
   ]
  },
  {
   "cell_type": "markdown",
   "metadata": {
    "collapsed": "true"
   },
   "source": [
    "# Run pipeline piecemeal"
   ]
  },
  {
   "cell_type": "code",
   "execution_count": 7,
   "metadata": {
    "execution": {
     "iopub.execute_input": "2021-01-05T19:53:33.930880Z",
     "iopub.status.busy": "2021-01-05T19:53:33.930756Z",
     "iopub.status.idle": "2021-01-05T19:53:33.941825Z",
     "shell.execute_reply": "2021-01-05T19:53:33.940984Z",
     "shell.execute_reply.started": "2021-01-05T19:53:33.930863Z"
    }
   },
   "outputs": [],
   "source": [
    "SUBJECT = \"Doppio\"\n",
    "CONDITION = \"BSL-0+2\""
   ]
  },
  {
   "cell_type": "markdown",
   "metadata": {
    "collapsed": "true"
   },
   "source": [
    "## Load the data"
   ]
  },
  {
   "cell_type": "code",
   "execution_count": 8,
   "metadata": {
    "execution": {
     "iopub.execute_input": "2021-01-05T19:53:34.932411Z",
     "iopub.status.busy": "2021-01-05T19:53:34.931989Z",
     "iopub.status.idle": "2021-01-05T19:53:34.954991Z",
     "shell.execute_reply": "2021-01-05T19:53:34.954485Z",
     "shell.execute_reply.started": "2021-01-05T19:53:34.932358Z"
    }
   },
   "outputs": [],
   "source": [
    "sr_chans = channel_groups.stratum_radiatum_140um_to_200um[SUBJECT]\n",
    "hpc_chans = channel_groups.hippocampus[SUBJECT]\n",
    "bin_path = paths.get_datapath(subject=SUBJECT, condition=CONDITION, data=\"lf.bin\")\n",
    "params_path = paths.get_datapath(subject=SUBJECT, condition=\"REC-30+18\", data=\"sharp_wave_detection_params.json\")"
   ]
  },
  {
   "cell_type": "code",
   "execution_count": 9,
   "metadata": {
    "execution": {
     "iopub.execute_input": "2021-01-05T19:53:37.493282Z",
     "iopub.status.busy": "2021-01-05T19:53:37.492780Z",
     "iopub.status.idle": "2021-01-05T19:56:48.379247Z",
     "shell.execute_reply": "2021-01-05T19:56:48.377515Z",
     "shell.execute_reply.started": "2021-01-05T19:53:37.493223Z"
    }
   },
   "outputs": [
    {
     "name": "stdout",
     "output_type": "stream",
     "text": [
      "nChan: 385, nFileSamp: 18000019\n"
     ]
    }
   ],
   "source": [
    "(time, hpc_lfps, fs) = load_timeseries(bin_path, hpc_chans)"
   ]
  },
  {
   "cell_type": "markdown",
   "metadata": {
    "collapsed": "true"
   },
   "source": [
    "### Explore LFPs (optional)"
   ]
  },
  {
   "cell_type": "code",
   "execution_count": null,
   "metadata": {},
   "outputs": [],
   "source": [
    "eplt.lfp_explorer(time, hpc_lfps, chan_labels=hpc_chans)"
   ]
  },
  {
   "cell_type": "markdown",
   "metadata": {},
   "source": [
    "## Detect sharp waves"
   ]
  },
  {
   "cell_type": "markdown",
   "metadata": {
    "collapsed": "true"
   },
   "source": [
    "### If we need to determine detection parameters"
   ]
  },
  {
   "cell_type": "code",
   "execution_count": 8,
   "metadata": {
    "execution": {
     "iopub.execute_input": "2021-01-04T00:26:38.945022Z",
     "iopub.status.busy": "2021-01-04T00:26:38.944541Z",
     "iopub.status.idle": "2021-01-04T00:35:20.793274Z",
     "shell.execute_reply": "2021-01-04T00:35:20.791877Z",
     "shell.execute_reply.started": "2021-01-04T00:26:38.944964Z"
    }
   },
   "outputs": [
    {
     "name": "stdout",
     "output_type": "stream",
     "text": [
      "Performing L-curve parameter estimation...\n",
      "No lambda given, using defaults\n",
      "min lambda 1e-12\n",
      "max lambda 0.0126\n",
      "min lambda 1e-12\n",
      "max lambda 0.0126\n",
      "l-curve (all lambda):  0.23\n",
      "Best lambda and R =  0.0003822395851068327 ,  0.23\n"
     ]
    }
   ],
   "source": [
    "intersite_distance = 0.020\n",
    "k = get_kcsd(hpc_lfps, intersite_distance=intersite_distance, gdx=0.020, do_lcurve=True)\n",
    "hpc_csd = k.values('CSD')\n",
    "sr_csd = hpc_csd[np.isin(hpc_chans, sr_chans)]"
   ]
  },
  {
   "cell_type": "code",
   "execution_count": 32,
   "metadata": {
    "execution": {
     "iopub.execute_input": "2021-01-04T03:02:30.851252Z",
     "iopub.status.busy": "2021-01-04T03:02:30.850790Z",
     "iopub.status.idle": "2021-01-04T03:04:05.222403Z",
     "shell.execute_reply": "2021-01-04T03:04:05.221712Z",
     "shell.execute_reply.started": "2021-01-04T03:02:30.851191Z"
    }
   },
   "outputs": [],
   "source": [
    "spws = detect_sharp_waves_by_zscore(time, sr_csd)"
   ]
  },
  {
   "cell_type": "markdown",
   "metadata": {
    "collapsed": "true"
   },
   "source": [
    "### If we are using detection parameters obtained elsewhere"
   ]
  },
  {
   "cell_type": "code",
   "execution_count": 10,
   "metadata": {
    "execution": {
     "iopub.execute_input": "2021-01-05T19:56:48.406584Z",
     "iopub.status.busy": "2021-01-05T19:56:48.406460Z",
     "iopub.status.idle": "2021-01-05T19:56:48.421533Z",
     "shell.execute_reply": "2021-01-05T19:56:48.420827Z",
     "shell.execute_reply.started": "2021-01-05T19:56:48.406570Z"
    }
   },
   "outputs": [],
   "source": [
    "with open(params_path) as params_file:\n",
    "    params = json.load(params_file)\n",
    "intersite_distance = params['intersite_distance']"
   ]
  },
  {
   "cell_type": "code",
   "execution_count": 11,
   "metadata": {
    "execution": {
     "iopub.execute_input": "2021-01-05T19:56:48.422456Z",
     "iopub.status.busy": "2021-01-05T19:56:48.422334Z",
     "iopub.status.idle": "2021-01-05T19:57:00.903095Z",
     "shell.execute_reply": "2021-01-05T19:57:00.902421Z",
     "shell.execute_reply.started": "2021-01-05T19:56:48.422442Z"
    }
   },
   "outputs": [],
   "source": [
    "k = get_kcsd(hpc_lfps, intersite_distance=params['intersite_distance'], gdx=params['gdx'], lambd=params['lambd'], R_init=params['R'], do_lcurve=False)\n",
    "hpc_csd = k.values('CSD')\n",
    "sr_csd = hpc_csd[np.isin(hpc_chans, sr_chans)]"
   ]
  },
  {
   "cell_type": "code",
   "execution_count": 12,
   "metadata": {
    "execution": {
     "iopub.execute_input": "2021-01-05T19:57:00.904113Z",
     "iopub.status.busy": "2021-01-05T19:57:00.903974Z",
     "iopub.status.idle": "2021-01-05T19:58:09.727859Z",
     "shell.execute_reply": "2021-01-05T19:58:09.726607Z",
     "shell.execute_reply.started": "2021-01-05T19:57:00.904096Z"
    }
   },
   "outputs": [],
   "source": [
    "spws = detect_sharp_waves_by_value(time, sr_csd, params['detection_threshold'], params['boundary_threshold'], params['minimum_duration'])"
   ]
  },
  {
   "cell_type": "markdown",
   "metadata": {
    "collapsed": "true"
   },
   "source": [
    "## Compute SPW properties"
   ]
  },
  {
   "cell_type": "code",
   "execution_count": 13,
   "metadata": {
    "execution": {
     "iopub.execute_input": "2021-01-05T19:58:09.729183Z",
     "iopub.status.busy": "2021-01-05T19:58:09.729006Z",
     "iopub.status.idle": "2021-01-05T19:58:09.840161Z",
     "shell.execute_reply": "2021-01-05T19:58:09.839355Z",
     "shell.execute_reply.started": "2021-01-05T19:58:09.729163Z"
    }
   },
   "outputs": [],
   "source": [
    "spws[\"duration\"] = get_durations(spws)\n",
    "spws[\"midpoint\"] = get_midpoints(spws)"
   ]
  },
  {
   "cell_type": "code",
   "execution_count": 14,
   "metadata": {
    "execution": {
     "iopub.execute_input": "2021-01-05T19:58:09.841038Z",
     "iopub.status.busy": "2021-01-05T19:58:09.840914Z",
     "iopub.status.idle": "2021-01-05T20:01:08.682979Z",
     "shell.execute_reply": "2021-01-05T20:01:08.681903Z",
     "shell.execute_reply.started": "2021-01-05T19:58:09.841023Z"
    }
   },
   "outputs": [],
   "source": [
    "spws[\"sink_amplitude\"] = get_sink_amplitudes(spws, time, sr_csd) * (1e-6) # Scale to mA/mm"
   ]
  },
  {
   "cell_type": "code",
   "execution_count": 15,
   "metadata": {
    "execution": {
     "iopub.execute_input": "2021-01-05T20:01:08.685898Z",
     "iopub.status.busy": "2021-01-05T20:01:08.685637Z",
     "iopub.status.idle": "2021-01-05T20:04:09.993683Z",
     "shell.execute_reply": "2021-01-05T20:04:09.992590Z",
     "shell.execute_reply.started": "2021-01-05T20:01:08.685865Z"
    }
   },
   "outputs": [],
   "source": [
    "spws[\"sink_integral\"] = get_sink_integrals(spws, time, fs, sr_csd) * (1e-6) * (1e3) # Scale to mA * ms"
   ]
  },
  {
   "cell_type": "markdown",
   "metadata": {
    "collapsed": "true",
    "execution": {
     "iopub.execute_input": "2020-12-01T00:20:18.941774Z",
     "iopub.status.busy": "2020-12-01T00:20:18.941278Z",
     "iopub.status.idle": "2020-12-01T00:20:18.960114Z",
     "shell.execute_reply": "2020-12-01T00:20:18.959367Z",
     "shell.execute_reply.started": "2020-12-01T00:20:18.941715Z"
    }
   },
   "source": [
    "## Export results"
   ]
  },
  {
   "cell_type": "code",
   "execution_count": 16,
   "metadata": {
    "execution": {
     "iopub.execute_input": "2021-01-05T20:04:09.995051Z",
     "iopub.status.busy": "2021-01-05T20:04:09.994903Z",
     "iopub.status.idle": "2021-01-05T20:04:10.050666Z",
     "shell.execute_reply": "2021-01-05T20:04:10.049955Z",
     "shell.execute_reply.started": "2021-01-05T20:04:09.995033Z"
    }
   },
   "outputs": [],
   "source": [
    "metadata = dict(\n",
    "    csd_chans=hpc_chans,\n",
    "    detection_chans=sr_chans,\n",
    "    electrode_positions=k.ele_pos, \n",
    "    intersite_distance=intersite_distance,\n",
    "    gdx=k.gdx,\n",
    "    lambd = k.lambd,\n",
    "    R = k.R,\n",
    "    detect_states=[\"all\"],\n",
    ")\n",
    "metadata.update(spws.attrs)\n",
    "spws_path = paths.get_datapath(subject=SUBJECT, condition=CONDITION, data=\"sharp_waves.h5\")\n",
    "store_df_h5(spws_path, spws, **metadata)"
   ]
  },
  {
   "cell_type": "markdown",
   "metadata": {
    "collapsed": "true"
   },
   "source": [
    "## If necessary, create params file"
   ]
  },
  {
   "cell_type": "code",
   "execution_count": 85,
   "metadata": {
    "execution": {
     "iopub.execute_input": "2021-01-04T04:49:13.834943Z",
     "iopub.status.busy": "2021-01-04T04:49:13.834475Z",
     "iopub.status.idle": "2021-01-04T04:49:13.859881Z",
     "shell.execute_reply": "2021-01-04T04:49:13.859209Z",
     "shell.execute_reply.started": "2021-01-04T04:49:13.834885Z"
    }
   },
   "outputs": [],
   "source": [
    "metadata.update({'params_source_file': str(bin_path)})\n",
    "metadata['csd_chans'] = metadata['csd_chans'].tolist()\n",
    "metadata['electrode_positions'] = metadata['electrode_positions'].tolist()\n",
    "with open(params_path, 'x') as params_file:\n",
    "    json.dump(metadata, params_file, indent=4)"
   ]
  },
  {
   "cell_type": "code",
   "execution_count": null,
   "metadata": {},
   "outputs": [],
   "source": []
  }
 ],
 "metadata": {
  "kernelspec": {
   "display_name": "Python 3",
   "language": "python",
   "name": "python3"
  },
  "language_info": {
   "codemirror_mode": {
    "name": "ipython",
    "version": 3
   },
   "file_extension": ".py",
   "mimetype": "text/x-python",
   "name": "python",
   "nbconvert_exporter": "python",
   "pygments_lexer": "ipython3",
   "version": "3.7.9"
  }
 },
 "nbformat": 4,
 "nbformat_minor": 4
}
