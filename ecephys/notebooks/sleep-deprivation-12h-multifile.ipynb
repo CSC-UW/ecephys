{
 "cells": [
  {
   "cell_type": "code",
   "execution_count": 3,
   "metadata": {
    "execution": {
     "iopub.execute_input": "2021-01-20T00:04:05.517022Z",
     "iopub.status.busy": "2021-01-20T00:04:05.516659Z",
     "iopub.status.idle": "2021-01-20T00:04:05.532666Z",
     "shell.execute_reply": "2021-01-20T00:04:05.532032Z",
     "shell.execute_reply.started": "2021-01-20T00:04:05.516979Z"
    }
   },
   "outputs": [],
   "source": [
    "%load_ext autoreload\n",
    "%autoreload 2"
   ]
  },
  {
   "cell_type": "code",
   "execution_count": 4,
   "metadata": {
    "execution": {
     "iopub.execute_input": "2021-01-20T00:04:05.935672Z",
     "iopub.status.busy": "2021-01-20T00:04:05.935445Z",
     "iopub.status.idle": "2021-01-20T00:04:06.272438Z",
     "shell.execute_reply": "2021-01-20T00:04:06.271627Z",
     "shell.execute_reply.started": "2021-01-20T00:04:05.935643Z"
    }
   },
   "outputs": [],
   "source": [
    "%matplotlib widget\n",
    "import matplotlib.pyplot as plt\n",
    "import seaborn as sns"
   ]
  },
  {
   "cell_type": "code",
   "execution_count": 15,
   "metadata": {
    "execution": {
     "iopub.execute_input": "2021-01-20T00:10:21.191736Z",
     "iopub.status.busy": "2021-01-20T00:10:21.191253Z",
     "iopub.status.idle": "2021-01-20T00:10:21.212904Z",
     "shell.execute_reply": "2021-01-20T00:10:21.212260Z",
     "shell.execute_reply.started": "2021-01-20T00:10:21.191676Z"
    }
   },
   "outputs": [],
   "source": [
    "import numpy as np\n",
    "import pandas as pd\n",
    "import xarray as xr"
   ]
  },
  {
   "cell_type": "code",
   "execution_count": 69,
   "metadata": {
    "execution": {
     "iopub.execute_input": "2021-01-20T00:58:12.574299Z",
     "iopub.status.busy": "2021-01-20T00:58:12.573868Z",
     "iopub.status.idle": "2021-01-20T00:58:12.595843Z",
     "shell.execute_reply": "2021-01-20T00:58:12.594928Z",
     "shell.execute_reply.started": "2021-01-20T00:58:12.574243Z"
    }
   },
   "outputs": [],
   "source": [
    "from ecephys.data import paths\n",
    "from ecephys.scoring import load_datetime_hypnogram, filter_states\n",
    "from ecephys.utils import load_df_h5, replace_outliers\n",
    "from ecephys.signal.sharp_wave_ripples import get_events_in_interval\n",
    "import ecephys.plot as eplt\n",
    "from neurodsp.plts.time_series import plot_time_series"
   ]
  },
  {
   "cell_type": "code",
   "execution_count": 30,
   "metadata": {
    "execution": {
     "iopub.execute_input": "2021-01-20T00:39:15.239340Z",
     "iopub.status.busy": "2021-01-20T00:39:15.238908Z",
     "iopub.status.idle": "2021-01-20T00:39:15.259693Z",
     "shell.execute_reply": "2021-01-20T00:39:15.258911Z",
     "shell.execute_reply.started": "2021-01-20T00:39:15.239284Z"
    }
   },
   "outputs": [],
   "source": [
    "from ripple_detection.core import gaussian_smooth\n",
    "\n",
    "def my_gaussian_smooth(da, smoothing_sigma=10):\n",
    "    estimated_fs = 1 / np.diff(da.time.values).mean()\n",
    "    return gaussian_smooth(da, smoothing_sigma, estimated_fs)"
   ]
  },
  {
   "cell_type": "code",
   "execution_count": 90,
   "metadata": {
    "execution": {
     "iopub.execute_input": "2021-01-20T01:08:09.059562Z",
     "iopub.status.busy": "2021-01-20T01:08:09.059046Z",
     "iopub.status.idle": "2021-01-20T01:08:09.083060Z",
     "shell.execute_reply": "2021-01-20T01:08:09.082285Z",
     "shell.execute_reply.started": "2021-01-20T01:08:09.059501Z"
    }
   },
   "outputs": [],
   "source": [
    "def concatenate_power(bandpowers):\n",
    "    for i in range(1, len(bandpowers)):\n",
    "        bandpowers[i]['time'] = bandpowers[i].time + bandpowers[i-1].time.max()\n",
    "        \n",
    "    return xr.concat(bandpowers, dim=\"time\")"
   ]
  },
  {
   "cell_type": "code",
   "execution_count": 205,
   "metadata": {
    "execution": {
     "iopub.execute_input": "2021-01-22T23:23:52.814728Z",
     "iopub.status.busy": "2021-01-22T23:23:52.814297Z",
     "iopub.status.idle": "2021-01-22T23:23:52.836438Z",
     "shell.execute_reply": "2021-01-22T23:23:52.835450Z",
     "shell.execute_reply.started": "2021-01-22T23:23:52.814673Z"
    }
   },
   "outputs": [],
   "source": [
    "subject = \"Eugene\"\n",
    "condition = \"sleep-deprivation-12h\""
   ]
  },
  {
   "cell_type": "code",
   "execution_count": 206,
   "metadata": {
    "execution": {
     "iopub.execute_input": "2021-01-22T23:23:53.088017Z",
     "iopub.status.busy": "2021-01-22T23:23:53.087662Z",
     "iopub.status.idle": "2021-01-22T23:23:53.202323Z",
     "shell.execute_reply": "2021-01-22T23:23:53.201735Z",
     "shell.execute_reply.started": "2021-01-22T23:23:53.087970Z"
    }
   },
   "outputs": [],
   "source": [
    "hypnogram_paths = paths.get_sglx_style_datapaths(subject=subject, condition=condition, ext=\"hypnogram.tsv\")\n",
    "hypnograms = [load_datetime_hypnogram(path) for path in hypnogram_paths]"
   ]
  },
  {
   "cell_type": "code",
   "execution_count": 207,
   "metadata": {
    "execution": {
     "iopub.execute_input": "2021-01-22T23:23:53.383787Z",
     "iopub.status.busy": "2021-01-22T23:23:53.383599Z",
     "iopub.status.idle": "2021-01-22T23:23:53.408152Z",
     "shell.execute_reply": "2021-01-22T23:23:53.407652Z",
     "shell.execute_reply.started": "2021-01-22T23:23:53.383764Z"
    }
   },
   "outputs": [],
   "source": [
    "hypnogram = pd.concat(hypnograms).reset_index(drop=True)\n",
    "condition_start_dt = hypnogram['start_time'].iloc[0]"
   ]
  },
  {
   "cell_type": "code",
   "execution_count": 208,
   "metadata": {
    "execution": {
     "iopub.execute_input": "2021-01-22T23:23:53.727164Z",
     "iopub.status.busy": "2021-01-22T23:23:53.727024Z",
     "iopub.status.idle": "2021-01-22T23:23:53.894311Z",
     "shell.execute_reply": "2021-01-22T23:23:53.893647Z",
     "shell.execute_reply.started": "2021-01-22T23:23:53.727146Z"
    }
   },
   "outputs": [],
   "source": [
    "spw_paths = paths.get_sglx_style_datapaths(subject=subject, condition=condition, ext=\"spws.h5\")\n",
    "spws = [load_df_h5(path) for path in spw_paths]"
   ]
  },
  {
   "cell_type": "code",
   "execution_count": 209,
   "metadata": {
    "execution": {
     "iopub.execute_input": "2021-01-22T23:23:54.162045Z",
     "iopub.status.busy": "2021-01-22T23:23:54.161926Z",
     "iopub.status.idle": "2021-01-22T23:23:54.216546Z",
     "shell.execute_reply": "2021-01-22T23:23:54.215969Z",
     "shell.execute_reply.started": "2021-01-22T23:23:54.162030Z"
    }
   },
   "outputs": [],
   "source": [
    "for _spws, _hypnogram in zip(spws, hypnograms):\n",
    "    file_start_dt = _hypnogram['start_time'].min()\n",
    "    _spws['start_time'] = file_start_dt + pd.to_timedelta(_spws['start_time'], 's')\n",
    "    _spws['end_time'] = file_start_dt + pd.to_timedelta(_spws['end_time'], 's')\n",
    "    _spws['midpoint'] = file_start_dt + pd.to_timedelta(_spws['midpoint'], 's')\n",
    "    #spws['duration'] = pd.to_timedelta(spws['duration'], 's')\n",
    "    _spws['time_from_condition_start'] = _spws['start_time'] - condition_start_dt\n",
    "    \n",
    "combined_spws = pd.concat(spws).reset_index(drop=True)\n",
    "combined_spws.index += 1\n",
    "combined_spws.index = combined_spws.index.rename('spw_number')\n",
    "spws = combined_spws"
   ]
  },
  {
   "cell_type": "code",
   "execution_count": 210,
   "metadata": {
    "execution": {
     "iopub.execute_input": "2021-01-22T23:23:54.479438Z",
     "iopub.status.busy": "2021-01-22T23:23:54.479205Z",
     "iopub.status.idle": "2021-01-22T23:23:54.554013Z",
     "shell.execute_reply": "2021-01-22T23:23:54.553377Z",
     "shell.execute_reply.started": "2021-01-22T23:23:54.479408Z"
    }
   },
   "outputs": [],
   "source": [
    "bandpower_paths = paths.get_sglx_style_datapaths(subject=subject, condition=condition, ext=\"pow.nc\")\n",
    "bandpowers = [xr.open_dataset(path) for path in bandpower_paths]\n",
    "bandpower = concatenate_power(bandpowers)"
   ]
  },
  {
   "cell_type": "code",
   "execution_count": 211,
   "metadata": {
    "execution": {
     "iopub.execute_input": "2021-01-22T23:23:54.791721Z",
     "iopub.status.busy": "2021-01-22T23:23:54.791585Z",
     "iopub.status.idle": "2021-01-22T23:23:54.815203Z",
     "shell.execute_reply": "2021-01-22T23:23:54.814598Z",
     "shell.execute_reply.started": "2021-01-22T23:23:54.791704Z"
    }
   },
   "outputs": [],
   "source": [
    "mpta_swa = my_gaussian_smooth(bandpower.mpta_delta, smoothing_sigma=10)\n",
    "mpta_swa_dt = pd.date_range(min(hypnogram.start_time), max(hypnogram.end_time), periods=len(mpta_swa))"
   ]
  },
  {
   "cell_type": "code",
   "execution_count": 212,
   "metadata": {
    "execution": {
     "iopub.execute_input": "2021-01-22T23:23:55.095240Z",
     "iopub.status.busy": "2021-01-22T23:23:55.095103Z",
     "iopub.status.idle": "2021-01-22T23:23:55.117743Z",
     "shell.execute_reply": "2021-01-22T23:23:55.116984Z",
     "shell.execute_reply.started": "2021-01-22T23:23:55.095224Z"
    }
   },
   "outputs": [],
   "source": [
    "sr_swa = my_gaussian_smooth(bandpower.sr_delta, smoothing_sigma=10)\n",
    "sr_swa_dt = pd.date_range(min(hypnogram.start_time), max(hypnogram.end_time), periods=len(sr_swa))"
   ]
  },
  {
   "cell_type": "code",
   "execution_count": 213,
   "metadata": {
    "execution": {
     "iopub.execute_input": "2021-01-22T23:23:55.439061Z",
     "iopub.status.busy": "2021-01-22T23:23:55.438875Z",
     "iopub.status.idle": "2021-01-22T23:23:55.457833Z",
     "shell.execute_reply": "2021-01-22T23:23:55.457361Z",
     "shell.execute_reply.started": "2021-01-22T23:23:55.439038Z"
    }
   },
   "outputs": [],
   "source": [
    "# density = spws.set_index('start_time').resample('10s').count().mean(axis=1).to_frame(name='frequency').reset_index()"
   ]
  },
  {
   "cell_type": "code",
   "execution_count": 217,
   "metadata": {
    "execution": {
     "iopub.execute_input": "2021-01-22T23:25:36.586402Z",
     "iopub.status.busy": "2021-01-22T23:25:36.585899Z",
     "iopub.status.idle": "2021-01-22T23:25:43.651502Z",
     "shell.execute_reply": "2021-01-22T23:25:43.650370Z",
     "shell.execute_reply.started": "2021-01-22T23:25:36.586341Z"
    }
   },
   "outputs": [
    {
     "data": {
      "application/vnd.jupyter.widget-view+json": {
       "model_id": "662a10d7b36e4780a48fecd830373a5c",
       "version_major": 2,
       "version_minor": 0
      },
      "text/plain": [
       "Canvas(toolbar=Toolbar(toolitems=[('Home', 'Reset original view', 'home', 'home'), ('Back', 'Back to previous …"
      ]
     },
     "metadata": {},
     "output_type": "display_data"
    }
   ],
   "source": [
    "fig, (mpta_swa_ax, sr_swa_ax, density_ax, duration_ax, amplitude_ax, integral_ax) = plt.subplots(6, 1, figsize=(22,12))\n",
    "\n",
    "xmargin=0\n",
    "\n",
    "sns.lineplot(x=mpta_swa_dt, y=mpta_swa, color='black', ax=mpta_swa_ax)\n",
    "mpta_swa_ax.set(xlabel=None, ylabel='CTX SWA (uV^2/Hz)', ylim=(0, 100000), xmargin=xmargin, xticks=[])\n",
    "\n",
    "sns.lineplot(x=sr_swa_dt, y=sr_swa, color='black', ax=sr_swa_ax)\n",
    "sr_swa_ax.set(xlabel=None, ylabel='HPC SWA (uV^2/Hz)', ylim=(0, 120000), xmargin=xmargin, xticks=[])\n",
    "\n",
    "binwidth = 10\n",
    "nbins = np.int((spws.start_time.max() - spws.start_time.min()).total_seconds() / binwidth)\n",
    "sns.histplot(data=spws, x='start_time', bins=nbins, color='black', ax=density_ax)\n",
    "density_ax.set(xlabel=None, ylabel='Frequency (Hz)', xmargin=xmargin, xticks=[])\n",
    "\n",
    "sns.scatterplot(data=spws, x=\"start_time\", y=\"duration\", s=2, ax=duration_ax)\n",
    "duration_ax.set(xlabel=None, ylabel=\"Duration (s)\", xmargin=xmargin, xticks=[])\n",
    "\n",
    "sns.scatterplot(data=spws, x='start_time', y='sink_amplitude', s=2, ax=amplitude_ax)\n",
    "amplitude_ax.set(xlabel=None, ylabel=\"Sink amplitude (mA/mm)\", xmargin=xmargin, xticks=[])\n",
    "\n",
    "sns.scatterplot(data=spws, x='start_time', y='sink_integral', s=2, ax=integral_ax)\n",
    "integral_ax.set(xlabel=\"Event time (month-date hour)\", ylabel=\"Sink integral (mA * ms)\", xmargin=xmargin)\n",
    "\n",
    "for ax in (mpta_swa_ax, sr_swa_ax, density_ax, duration_ax, amplitude_ax, integral_ax):\n",
    "    eplt.plot_hypnogram_overlay(hypnogram, ax=ax)\n",
    "\n",
    "plt.tight_layout()"
   ]
  },
  {
   "cell_type": "code",
   "execution_count": 42,
   "metadata": {
    "execution": {
     "iopub.execute_input": "2021-01-13T02:04:13.857975Z",
     "iopub.status.busy": "2021-01-13T02:04:13.857830Z",
     "iopub.status.idle": "2021-01-13T02:04:13.874888Z",
     "shell.execute_reply": "2021-01-13T02:04:13.874137Z",
     "shell.execute_reply.started": "2021-01-13T02:04:13.857958Z"
    }
   },
   "outputs": [],
   "source": [
    "def add_spw_properties_to_hypnogram(spws, hypnogram):\n",
    "    for i, bout in hypnogram.iterrows():\n",
    "        bout_events = get_events_in_interval(spws, bout.start_time, bout.end_time)\n",
    "        hypnogram.at[i, 'spw_density'] = len(bout_events) / bout.duration.total_seconds()\n",
    "        hypnogram.at[i, 'mean_duration'] = bout_events.duration.mean()\n",
    "        hypnogram.at[i, 'mean_sink_amplitude'] = bout_events.sink_amplitude.mean()\n",
    "        hypnogram.at[i, 'mean_sink_integral'] = bout_events.sink_integral.mean()\n",
    "    \n",
    "    hypnogram.spw_density.fillna(value=0, inplace=True)\n",
    "    hypnogram.mean_duration.fillna(value=0, inplace=True)\n",
    "    hypnogram.mean_sink_amplitude.fillna(value=0, inplace=True)\n",
    "    hypnogram.mean_sink_integral.fillna(value=0, inplace=True)"
   ]
  },
  {
   "cell_type": "code",
   "execution_count": 43,
   "metadata": {
    "execution": {
     "iopub.execute_input": "2021-01-13T02:04:14.223232Z",
     "iopub.status.busy": "2021-01-13T02:04:14.222986Z",
     "iopub.status.idle": "2021-01-13T02:04:14.694175Z",
     "shell.execute_reply": "2021-01-13T02:04:14.693580Z",
     "shell.execute_reply.started": "2021-01-13T02:04:14.223201Z"
    }
   },
   "outputs": [],
   "source": [
    "add_spw_properties_to_hypnogram(spws, hypnogram)"
   ]
  },
  {
   "cell_type": "code",
   "execution_count": 44,
   "metadata": {
    "execution": {
     "iopub.execute_input": "2021-01-13T02:04:14.823678Z",
     "iopub.status.busy": "2021-01-13T02:04:14.823551Z",
     "iopub.status.idle": "2021-01-13T02:04:14.834987Z",
     "shell.execute_reply": "2021-01-13T02:04:14.834217Z",
     "shell.execute_reply.started": "2021-01-13T02:04:14.823662Z"
    }
   },
   "outputs": [],
   "source": [
    "qwk = filter_states(hypnogram, ['qWk']).reset_index(drop=True)"
   ]
  },
  {
   "cell_type": "code",
   "execution_count": 45,
   "metadata": {
    "execution": {
     "iopub.execute_input": "2021-01-13T02:04:15.238556Z",
     "iopub.status.busy": "2021-01-13T02:04:15.238425Z",
     "iopub.status.idle": "2021-01-13T02:04:15.257733Z",
     "shell.execute_reply": "2021-01-13T02:04:15.257235Z",
     "shell.execute_reply.started": "2021-01-13T02:04:15.238539Z"
    }
   },
   "outputs": [],
   "source": [
    "def plot_spw_summary_by_bout_rank(hypnogram, figsize=(20, 8)):\n",
    "    fig, (density_ax, duration_ax, amplitude_ax, integral_ax) = plt.subplots(4, 1, figsize=figsize)\n",
    "    \n",
    "    hypnogram.plot.scatter(x='index', y='spw_density', ax=density_ax, title='SPW density (Hz)', s=1)\n",
    "    hypnogram.plot.scatter(x='index', y='mean_duration', ax=duration_ax, title='Event duration (s)', s=1)\n",
    "    hypnogram.plot.scatter(x='index', y='mean_sink_amplitude', ax=amplitude_ax, title='Sink amplitude (mA/mm)', s=1)\n",
    "    hypnogram.plot.scatter(x='index', y='mean_sink_integral', ax=integral_ax, title='Sink integral (mA * ms)', s=1)\n",
    "    for ax in (density_ax, duration_ax, amplitude_ax, integral_ax):\n",
    "        ax.set_xlabel('Bout rank')\n",
    "    plt.tight_layout()"
   ]
  },
  {
   "cell_type": "code",
   "execution_count": 46,
   "metadata": {
    "execution": {
     "iopub.execute_input": "2021-01-13T02:04:15.615416Z",
     "iopub.status.busy": "2021-01-13T02:04:15.615274Z",
     "iopub.status.idle": "2021-01-13T02:04:15.784732Z",
     "shell.execute_reply": "2021-01-13T02:04:15.784094Z",
     "shell.execute_reply.started": "2021-01-13T02:04:15.615400Z"
    }
   },
   "outputs": [
    {
     "data": {
      "application/vnd.jupyter.widget-view+json": {
       "model_id": "ddeecd1a2eca4de482f7a58484d7f3e3",
       "version_major": 2,
       "version_minor": 0
      },
      "text/plain": [
       "Canvas(toolbar=Toolbar(toolitems=[('Home', 'Reset original view', 'home', 'home'), ('Back', 'Back to previous …"
      ]
     },
     "metadata": {},
     "output_type": "display_data"
    }
   ],
   "source": [
    "plot_spw_summary_by_bout_rank(qwk.reset_index())"
   ]
  },
  {
   "cell_type": "code",
   "execution_count": 47,
   "metadata": {
    "execution": {
     "iopub.execute_input": "2021-01-13T02:04:17.111802Z",
     "iopub.status.busy": "2021-01-13T02:04:17.111372Z",
     "iopub.status.idle": "2021-01-13T02:04:17.133291Z",
     "shell.execute_reply": "2021-01-13T02:04:17.132480Z",
     "shell.execute_reply.started": "2021-01-13T02:04:17.111746Z"
    }
   },
   "outputs": [],
   "source": [
    "awk = filter_states(hypnogram, ['aWk']).reset_index(drop=True)"
   ]
  },
  {
   "cell_type": "code",
   "execution_count": 48,
   "metadata": {
    "execution": {
     "iopub.execute_input": "2021-01-13T02:04:17.727964Z",
     "iopub.status.busy": "2021-01-13T02:04:17.727809Z",
     "iopub.status.idle": "2021-01-13T02:04:17.890723Z",
     "shell.execute_reply": "2021-01-13T02:04:17.890133Z",
     "shell.execute_reply.started": "2021-01-13T02:04:17.727944Z"
    }
   },
   "outputs": [
    {
     "data": {
      "application/vnd.jupyter.widget-view+json": {
       "model_id": "674757260a394d54918075ec2d41045c",
       "version_major": 2,
       "version_minor": 0
      },
      "text/plain": [
       "Canvas(toolbar=Toolbar(toolitems=[('Home', 'Reset original view', 'home', 'home'), ('Back', 'Back to previous …"
      ]
     },
     "metadata": {},
     "output_type": "display_data"
    }
   ],
   "source": [
    "plot_spw_summary_by_bout_rank(awk.reset_index())"
   ]
  },
  {
   "cell_type": "code",
   "execution_count": null,
   "metadata": {},
   "outputs": [],
   "source": []
  }
 ],
 "metadata": {
  "kernelspec": {
   "display_name": "Python 3",
   "language": "python",
   "name": "python3"
  },
  "language_info": {
   "codemirror_mode": {
    "name": "ipython",
    "version": 3
   },
   "file_extension": ".py",
   "mimetype": "text/x-python",
   "name": "python",
   "nbconvert_exporter": "python",
   "pygments_lexer": "ipython3",
   "version": "3.7.9"
  }
 },
 "nbformat": 4,
 "nbformat_minor": 4
}
