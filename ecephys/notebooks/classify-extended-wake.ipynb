{
 "cells": [
  {
   "cell_type": "code",
   "execution_count": 1,
   "metadata": {
    "execution": {
     "iopub.execute_input": "2021-01-12T19:42:23.863955Z",
     "iopub.status.busy": "2021-01-12T19:42:23.863562Z",
     "iopub.status.idle": "2021-01-12T19:42:23.882611Z",
     "shell.execute_reply": "2021-01-12T19:42:23.881470Z",
     "shell.execute_reply.started": "2021-01-12T19:42:23.863904Z"
    }
   },
   "outputs": [],
   "source": [
    "%load_ext autoreload\n",
    "%autoreload 2"
   ]
  },
  {
   "cell_type": "markdown",
   "metadata": {},
   "source": [
    "# Imports and definitions"
   ]
  },
  {
   "cell_type": "code",
   "execution_count": 11,
   "metadata": {
    "execution": {
     "iopub.execute_input": "2021-01-12T19:42:39.384865Z",
     "iopub.status.busy": "2021-01-12T19:42:39.384429Z",
     "iopub.status.idle": "2021-01-12T19:42:39.404212Z",
     "shell.execute_reply": "2021-01-12T19:42:39.403280Z",
     "shell.execute_reply.started": "2021-01-12T19:42:39.384808Z"
    }
   },
   "outputs": [],
   "source": [
    "import numpy as np\n",
    "import pandas as pd\n",
    "import matplotlib.pyplot as plt\n",
    "from datetime import datetime\n",
    "import xarray as xr\n",
    "from scipy.stats import zscore"
   ]
  },
  {
   "cell_type": "code",
   "execution_count": 12,
   "metadata": {
    "execution": {
     "iopub.execute_input": "2021-01-12T19:42:41.810756Z",
     "iopub.status.busy": "2021-01-12T19:42:41.810550Z",
     "iopub.status.idle": "2021-01-12T19:42:41.827088Z",
     "shell.execute_reply": "2021-01-12T19:42:41.826548Z",
     "shell.execute_reply.started": "2021-01-12T19:42:41.810730Z"
    }
   },
   "outputs": [],
   "source": [
    "from ripple_detection.core import gaussian_smooth, segment_boolean_series"
   ]
  },
  {
   "cell_type": "code",
   "execution_count": 13,
   "metadata": {
    "execution": {
     "iopub.execute_input": "2021-01-12T19:42:42.017865Z",
     "iopub.status.busy": "2021-01-12T19:42:42.017736Z",
     "iopub.status.idle": "2021-01-12T19:42:42.031172Z",
     "shell.execute_reply": "2021-01-12T19:42:42.030327Z",
     "shell.execute_reply.started": "2021-01-12T19:42:42.017849Z"
    }
   },
   "outputs": [],
   "source": [
    "from ecephys.data import paths\n",
    "from ecephys.utils import load_df_h5, add_attrs, get_disjoint_interval_intersections, get_interval_complements\n",
    "from ecephys.scoring import get_separated_wake_hypnogram, write_visbrain_hypnogram"
   ]
  },
  {
   "cell_type": "code",
   "execution_count": 14,
   "metadata": {
    "execution": {
     "iopub.execute_input": "2021-01-12T19:42:42.225740Z",
     "iopub.status.busy": "2021-01-12T19:42:42.225381Z",
     "iopub.status.idle": "2021-01-12T19:42:42.243455Z",
     "shell.execute_reply": "2021-01-12T19:42:42.242821Z",
     "shell.execute_reply.started": "2021-01-12T19:42:42.225693Z"
    }
   },
   "outputs": [],
   "source": [
    "SMOOTHING_SIGMA = 4\n",
    "TD_THRESHOLD_ZSCORE = 1\n",
    "EMG_THRESHOLD_ZSCORE = 0\n",
    "MINIMUM_QWK_DURATION = 10"
   ]
  },
  {
   "cell_type": "code",
   "execution_count": 15,
   "metadata": {
    "execution": {
     "iopub.execute_input": "2021-01-12T19:42:42.569197Z",
     "iopub.status.busy": "2021-01-12T19:42:42.568906Z",
     "iopub.status.idle": "2021-01-12T19:42:42.586488Z",
     "shell.execute_reply": "2021-01-12T19:42:42.585912Z",
     "shell.execute_reply.started": "2021-01-12T19:42:42.569162Z"
    }
   },
   "outputs": [],
   "source": [
    "def my_gaussian_smooth(da, smoothing_sigma=4):\n",
    "    estimated_fs = 1 / np.diff(da.time.values).mean()\n",
    "    return gaussian_smooth(da, smoothing_sigma, estimated_fs)"
   ]
  },
  {
   "cell_type": "code",
   "execution_count": 16,
   "metadata": {
    "execution": {
     "iopub.execute_input": "2021-01-12T19:42:42.912938Z",
     "iopub.status.busy": "2021-01-12T19:42:42.912744Z",
     "iopub.status.idle": "2021-01-12T19:42:42.930864Z",
     "shell.execute_reply": "2021-01-12T19:42:42.930370Z",
     "shell.execute_reply.started": "2021-01-12T19:42:42.912914Z"
    }
   },
   "outputs": [],
   "source": [
    "def below_threshold_intervals(sig, threshold, time):\n",
    "    _is_below_threshold = pd.Series(sig < threshold, index=time)\n",
    "    return segment_boolean_series(_is_below_threshold, minimum_duration=0)\n",
    "\n",
    "def above_threshold_intervals(sig, threshold, time):\n",
    "    _is_below_threshold = pd.Series(sig > threshold, index=time)\n",
    "    return segment_boolean_series(_is_below_threshold, minimum_duration=0)"
   ]
  },
  {
   "cell_type": "code",
   "execution_count": 17,
   "metadata": {
    "execution": {
     "iopub.execute_input": "2021-01-12T19:42:43.308250Z",
     "iopub.status.busy": "2021-01-12T19:42:43.308026Z",
     "iopub.status.idle": "2021-01-12T19:42:43.335059Z",
     "shell.execute_reply": "2021-01-12T19:42:43.334697Z",
     "shell.execute_reply.started": "2021-01-12T19:42:43.308222Z"
    }
   },
   "outputs": [],
   "source": [
    "def run_classification_pipeline_on_file(bandpower_path, emg_path, hypnogram_path):\n",
    "    lfp_bandpower = xr.open_dataset(bandpower_path)\n",
    "    emg = xr.open_dataset(emg_path).emg\n",
    "    \n",
    "    td_smooth = my_gaussian_smooth(lfp_bandpower.sr_theta / lfp_bandpower.sr_delta, smoothing_sigma=SMOOTHING_SIGMA)\n",
    "    tds_threshold = td_smooth[zscore(np.log(td_smooth)) < TD_THRESHOLD_ZSCORE].max()\n",
    "    tds_below_threshold_intervals = below_threshold_intervals(td_smooth, tds_threshold, lfp_bandpower.time.values)\n",
    "    \n",
    "    emg_smooth = my_gaussian_smooth(emg, smoothing_sigma=SMOOTHING_SIGMA)\n",
    "    emgs_threshold = emg_smooth[zscore(emg_smooth) < EMG_THRESHOLD_ZSCORE].max()\n",
    "    emgs_below_threshold_intervals = below_threshold_intervals(emg_smooth, emgs_threshold, emg.time.values)\n",
    "    \n",
    "    recording_length = np.max([lfp_bandpower.time.values.max(), emg.time.values.max()])\n",
    "    qwk_intervals = np.asarray(get_disjoint_interval_intersections(emgs_below_threshold_intervals, tds_below_threshold_intervals))\n",
    "    qwk_durations = np.asarray([end - start for start, end in qwk_intervals])\n",
    "    qwk_intervals = qwk_intervals[qwk_durations > MINIMUM_QWK_DURATION]\n",
    "    awk_intervals = get_interval_complements(qwk_intervals, 0, recording_length)\n",
    "    \n",
    "    hypnogram = get_separated_wake_hypnogram(qwk_intervals, awk_intervals)\n",
    "    write_visbrain_hypnogram(hypnogram, hypnogram_path)\n",
    "    \n",
    "    lfp_bandpower.close()\n",
    "    emg.close()"
   ]
  },
  {
   "cell_type": "code",
   "execution_count": 20,
   "metadata": {
    "execution": {
     "iopub.execute_input": "2021-01-12T19:43:29.920913Z",
     "iopub.status.busy": "2021-01-12T19:43:29.920432Z",
     "iopub.status.idle": "2021-01-12T19:43:29.943929Z",
     "shell.execute_reply": "2021-01-12T19:43:29.943158Z",
     "shell.execute_reply.started": "2021-01-12T19:43:29.920853Z"
    }
   },
   "outputs": [],
   "source": [
    "def run_classification_pipeline_on_condition(subject, condition):    \n",
    "    bandpower_paths = paths.get_sglx_style_datapaths(subject=subject, condition=condition, ext=\"pow.nc\")\n",
    "    emg_paths = paths.get_sglx_style_datapaths(subject=subject, condition=condition, ext=\"emg.nc\")\n",
    "    hypnogram_paths = paths.get_sglx_style_datapaths(subject=subject, condition=condition, ext=\"hypnogram.txt\")\n",
    "\n",
    "    for bandpower_path, emg_path, hypnogram_path in zip(bandpower_paths, emg_paths, hypnogram_paths):\n",
    "        run_classification_pipeline_on_file(bandpower_path, emg_path, hypnogram_path)\n",
    "        current_time = datetime.now().strftime(\"%H:%M:%S\")\n",
    "        print(f\"{current_time}: Finished {str(bandpower_path.stem)}\")"
   ]
  },
  {
   "cell_type": "markdown",
   "metadata": {},
   "source": [
    "# Run automated pipeline"
   ]
  },
  {
   "cell_type": "markdown",
   "metadata": {},
   "source": [
    "### Alessandro"
   ]
  },
  {
   "cell_type": "code",
   "execution_count": 21,
   "metadata": {
    "execution": {
     "iopub.execute_input": "2021-01-12T19:43:30.851877Z",
     "iopub.status.busy": "2021-01-12T19:43:30.851615Z",
     "iopub.status.idle": "2021-01-12T19:43:31.496115Z",
     "shell.execute_reply": "2021-01-12T19:43:31.495465Z",
     "shell.execute_reply.started": "2021-01-12T19:43:30.851843Z"
    }
   },
   "outputs": [
    {
     "name": "stdout",
     "output_type": "stream",
     "text": [
      "13:43:30: Finished 8-25-2020_SD_g0_t0.imec0.pow\n",
      "13:43:31: Finished 8-25-2020_SD_g0_t1.imec0.pow\n",
      "13:43:31: Finished 8-25-2020_SD_g0_t2.imec0.pow\n",
      "13:43:31: Finished 8-25-2020_SD2_g0_t0.imec0.pow\n",
      "13:43:31: Finished 8-25-2020_g0_t0.imec0.pow\n",
      "13:43:31: Finished 8-25-2020_g0_t1.imec0.pow\n"
     ]
    }
   ],
   "source": [
    "run_classification_pipeline_on_condition(subject=\"Alessandro\", condition=\"extended-wake\")"
   ]
  },
  {
   "cell_type": "markdown",
   "metadata": {},
   "source": [
    "### Eugene"
   ]
  },
  {
   "cell_type": "code",
   "execution_count": 22,
   "metadata": {
    "execution": {
     "iopub.execute_input": "2021-01-12T19:43:34.223990Z",
     "iopub.status.busy": "2021-01-12T19:43:34.223698Z",
     "iopub.status.idle": "2021-01-12T19:43:35.025608Z",
     "shell.execute_reply": "2021-01-12T19:43:35.024966Z",
     "shell.execute_reply.started": "2021-01-12T19:43:34.223953Z"
    }
   },
   "outputs": [
    {
     "name": "stdout",
     "output_type": "stream",
     "text": [
      "13:43:34: Finished 9.24.2020_SD_24hs_g0_t0.imec0.pow\n",
      "13:43:34: Finished 9.24.2020_SD_24hs1_g0_t0.imec0.pow\n",
      "13:43:34: Finished 9.24.2020_SD_24hs2_g0_t0.imec0.pow\n",
      "13:43:34: Finished 9.24.2020_SD_24hs3_g0_t0.imec0.pow\n",
      "13:43:34: Finished 9.24.2020_SD_24hs3_g1_t0.imec0.pow\n",
      "13:43:34: Finished 9.24.2020_SD_24hs3_g1_t1.imec0.pow\n",
      "13:43:34: Finished 9.24.2020_SD_24hs4_g0_t0.imec0.pow\n",
      "13:43:34: Finished 9.24.2020_SD_24hs5_g0_t0.imec0.pow\n",
      "13:43:34: Finished 9.24.2020_SD_24hs7_g0_t0.imec0.pow\n",
      "13:43:34: Finished 9.24.2020_SD_24hs8_g0_t0.imec0.pow\n",
      "13:43:35: Finished 9.24.2020_SD_24hs8_g0_t1.imec0.pow\n"
     ]
    }
   ],
   "source": [
    "run_classification_pipeline_on_condition(subject=\"Eugene\", condition=\"extended-wake\")"
   ]
  },
  {
   "cell_type": "markdown",
   "metadata": {},
   "source": [
    "# Run pipeline piecemeal"
   ]
  },
  {
   "cell_type": "code",
   "execution_count": 121,
   "metadata": {
    "execution": {
     "iopub.execute_input": "2021-01-12T19:34:10.288191Z",
     "iopub.status.busy": "2021-01-12T19:34:10.287936Z",
     "iopub.status.idle": "2021-01-12T19:34:10.309609Z",
     "shell.execute_reply": "2021-01-12T19:34:10.308963Z",
     "shell.execute_reply.started": "2021-01-12T19:34:10.288169Z"
    }
   },
   "outputs": [],
   "source": [
    "%matplotlib widget\n",
    "import matplotlib.pyplot as plt\n",
    "from neurodsp.plts.time_series import plot_time_series\n",
    "import ecephys.plot as eplt"
   ]
  },
  {
   "cell_type": "code",
   "execution_count": 122,
   "metadata": {
    "execution": {
     "iopub.execute_input": "2021-01-12T19:34:11.245174Z",
     "iopub.status.busy": "2021-01-12T19:34:11.244671Z",
     "iopub.status.idle": "2021-01-12T19:34:11.266348Z",
     "shell.execute_reply": "2021-01-12T19:34:11.265514Z",
     "shell.execute_reply.started": "2021-01-12T19:34:11.245092Z"
    }
   },
   "outputs": [],
   "source": [
    "SUBJECT = \"Segundo\"\n",
    "CONDITION = \"REC-6-4\""
   ]
  },
  {
   "cell_type": "code",
   "execution_count": 124,
   "metadata": {
    "execution": {
     "iopub.execute_input": "2021-01-12T19:34:26.251140Z",
     "iopub.status.busy": "2021-01-12T19:34:26.250664Z",
     "iopub.status.idle": "2021-01-12T19:34:26.322300Z",
     "shell.execute_reply": "2021-01-12T19:34:26.321450Z",
     "shell.execute_reply.started": "2021-01-12T19:34:26.251087Z"
    }
   },
   "outputs": [],
   "source": [
    "lfp_bandpower = xr.open_dataset(paths.get_datapath_from_csv(subject=SUBJECT, condition=CONDITION, data=\"lfp_bandpower.nc\"))\n",
    "emg = xr.open_dataset(paths.get_datapath_from_csv(subject=SUBJECT, condition=CONDITION, data=\"emg.nc\")).emg"
   ]
  },
  {
   "cell_type": "code",
   "execution_count": 110,
   "metadata": {
    "execution": {
     "iopub.execute_input": "2021-01-08T18:41:49.247705Z",
     "iopub.status.busy": "2021-01-08T18:41:49.247461Z",
     "iopub.status.idle": "2021-01-08T18:41:49.270741Z",
     "shell.execute_reply": "2021-01-08T18:41:49.270157Z",
     "shell.execute_reply.started": "2021-01-08T18:41:49.247673Z"
    }
   },
   "outputs": [],
   "source": [
    "td_smooth = my_gaussian_smooth(lfp_bandpower.sr_theta / lfp_bandpower.sr_delta, smoothing_sigma=SMOOTHING_SIGMA)\n",
    "tds_threshold = td_smooth[zscore(np.log(td_smooth)) < TD_THRESHOLD_ZSCORE].max()\n",
    "tds_below_threshold_intervals = below_threshold_intervals(td_smooth, tds_threshold, lfp_bandpower.time.values)"
   ]
  },
  {
   "cell_type": "code",
   "execution_count": 111,
   "metadata": {
    "execution": {
     "iopub.execute_input": "2021-01-08T18:41:49.568121Z",
     "iopub.status.busy": "2021-01-08T18:41:49.567694Z",
     "iopub.status.idle": "2021-01-08T18:41:49.702699Z",
     "shell.execute_reply": "2021-01-08T18:41:49.702144Z",
     "shell.execute_reply.started": "2021-01-08T18:41:49.568065Z"
    }
   },
   "outputs": [],
   "source": [
    "emg_smooth = my_gaussian_smooth(emg, smoothing_sigma=SMOOTHING_SIGMA)\n",
    "emgs_threshold = emg_smooth[zscore(emg_smooth) < EMG_THRESHOLD_ZSCORE].max()\n",
    "emgs_below_threshold_intervals = below_threshold_intervals(emg_smooth, emgs_threshold, emg.time.values)"
   ]
  },
  {
   "cell_type": "code",
   "execution_count": 112,
   "metadata": {
    "execution": {
     "iopub.execute_input": "2021-01-08T18:41:49.948384Z",
     "iopub.status.busy": "2021-01-08T18:41:49.947954Z",
     "iopub.status.idle": "2021-01-08T18:41:49.969049Z",
     "shell.execute_reply": "2021-01-08T18:41:49.968327Z",
     "shell.execute_reply.started": "2021-01-08T18:41:49.948328Z"
    }
   },
   "outputs": [],
   "source": [
    "recording_length = np.max([lfp_bandpower.time.values.max(), emg.time.values.max()])\n",
    "qwk_intervals = np.asarray(get_disjoint_interval_intersections(emgs_below_threshold_intervals, tds_below_threshold_intervals))\n",
    "qwk_durations = np.asarray([end - start for start, end in qwk_intervals])\n",
    "qwk_intervals = qwk_intervals[qwk_durations > MINIMUM_QWK_DURATION]\n",
    "awk_intervals = get_interval_complements(qwk_intervals, 0, recording_length)"
   ]
  },
  {
   "cell_type": "code",
   "execution_count": 113,
   "metadata": {
    "execution": {
     "iopub.execute_input": "2021-01-08T18:41:50.432411Z",
     "iopub.status.busy": "2021-01-08T18:41:50.432215Z",
     "iopub.status.idle": "2021-01-08T18:41:50.452198Z",
     "shell.execute_reply": "2021-01-08T18:41:50.451592Z",
     "shell.execute_reply.started": "2021-01-08T18:41:50.432386Z"
    }
   },
   "outputs": [],
   "source": [
    "hypnogram = get_separated_wake_hypnogram(qwk_intervals, awk_intervals)"
   ]
  },
  {
   "cell_type": "code",
   "execution_count": 102,
   "metadata": {
    "execution": {
     "iopub.execute_input": "2021-01-08T18:35:41.687177Z",
     "iopub.status.busy": "2021-01-08T18:35:41.687051Z",
     "iopub.status.idle": "2021-01-08T18:35:41.711604Z",
     "shell.execute_reply": "2021-01-08T18:35:41.711022Z",
     "shell.execute_reply.started": "2021-01-08T18:35:41.687161Z"
    }
   },
   "outputs": [],
   "source": [
    "write_visbrain_hypnogram(hypnogram, paths.get_datapath(subject=SUBJECT, condition=CONDITION, data=\"hypnogram.txt\"))"
   ]
  },
  {
   "cell_type": "code",
   "execution_count": 114,
   "metadata": {
    "execution": {
     "iopub.execute_input": "2021-01-08T18:41:54.106728Z",
     "iopub.status.busy": "2021-01-08T18:41:54.106298Z",
     "iopub.status.idle": "2021-01-08T18:41:54.315165Z",
     "shell.execute_reply": "2021-01-08T18:41:54.314574Z",
     "shell.execute_reply.started": "2021-01-08T18:41:54.106671Z"
    }
   },
   "outputs": [
    {
     "data": {
      "application/vnd.jupyter.widget-view+json": {
       "model_id": "0bed6d6ca77f4f129a7b18f7fee88642",
       "version_major": 2,
       "version_minor": 0
      },
      "text/plain": [
       "Canvas(toolbar=Toolbar(toolitems=[('Home', 'Reset original view', 'home', 'home'), ('Back', 'Back to previous …"
      ]
     },
     "metadata": {},
     "output_type": "display_data"
    }
   ],
   "source": [
    "fig, axes = plt.subplots(2, 1, figsize=(20, 4))\n",
    "plot_time_series(lfp_bandpower.time.values, td_smooth, ax=axes[0], title=\"Theta / Delta ratio, smoothed.\", ylabel=\"Ratio\")\n",
    "plot_time_series(emg.time.values, emg_smooth, ax=axes[1], title=\"Buzsaki-style EMG, smoothed\", ylabel=\"Corr\")\n",
    "for i in range(0, len(axes)):\n",
    "    eplt.plot_hypnogram_overlay(hypnogram, ax=axes[i])\n",
    "    axes[i].set_xlim(axes[0].get_xlim())"
   ]
  },
  {
   "cell_type": "code",
   "execution_count": 115,
   "metadata": {
    "execution": {
     "iopub.execute_input": "2021-01-08T18:41:57.617929Z",
     "iopub.status.busy": "2021-01-08T18:41:57.617452Z",
     "iopub.status.idle": "2021-01-08T18:41:57.641682Z",
     "shell.execute_reply": "2021-01-08T18:41:57.640800Z",
     "shell.execute_reply.started": "2021-01-08T18:41:57.617853Z"
    }
   },
   "outputs": [],
   "source": [
    "lfp_bandpower.close()\n",
    "emg.close()"
   ]
  },
  {
   "cell_type": "code",
   "execution_count": null,
   "metadata": {},
   "outputs": [],
   "source": []
  }
 ],
 "metadata": {
  "kernelspec": {
   "display_name": "Python 3",
   "language": "python",
   "name": "python3"
  },
  "language_info": {
   "codemirror_mode": {
    "name": "ipython",
    "version": 3
   },
   "file_extension": ".py",
   "mimetype": "text/x-python",
   "name": "python",
   "nbconvert_exporter": "python",
   "pygments_lexer": "ipython3",
   "version": "3.7.9"
  }
 },
 "nbformat": 4,
 "nbformat_minor": 4
}
