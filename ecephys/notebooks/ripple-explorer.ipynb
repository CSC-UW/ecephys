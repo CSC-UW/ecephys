{
 "cells": [
  {
   "cell_type": "code",
   "execution_count": 1,
   "metadata": {
    "execution": {
     "iopub.execute_input": "2020-11-20T22:26:02.889299Z",
     "iopub.status.busy": "2020-11-20T22:26:02.888835Z",
     "iopub.status.idle": "2020-11-20T22:26:02.905775Z",
     "shell.execute_reply": "2020-11-20T22:26:02.905135Z",
     "shell.execute_reply.started": "2020-11-20T22:26:02.889242Z"
    }
   },
   "outputs": [],
   "source": [
    "%load_ext autoreload\n",
    "%autoreload 2"
   ]
  },
  {
   "cell_type": "code",
   "execution_count": 2,
   "metadata": {
    "execution": {
     "iopub.execute_input": "2020-11-20T22:26:03.141279Z",
     "iopub.status.busy": "2020-11-20T22:26:03.140851Z",
     "iopub.status.idle": "2020-11-20T22:26:03.292804Z",
     "shell.execute_reply": "2020-11-20T22:26:03.292161Z",
     "shell.execute_reply.started": "2020-11-20T22:26:03.141226Z"
    }
   },
   "outputs": [],
   "source": [
    "from pathlib import Path\n",
    "import numpy as np\n",
    "import pandas as pd\n",
    "import matplotlib.pyplot as plt"
   ]
  },
  {
   "cell_type": "code",
   "execution_count": 3,
   "metadata": {
    "execution": {
     "iopub.execute_input": "2020-11-20T22:26:03.620467Z",
     "iopub.status.busy": "2020-11-20T22:26:03.620279Z",
     "iopub.status.idle": "2020-11-20T22:26:03.744461Z",
     "shell.execute_reply": "2020-11-20T22:26:03.743665Z",
     "shell.execute_reply.started": "2020-11-20T22:26:03.620444Z"
    }
   },
   "outputs": [],
   "source": [
    "from kcsd import KCSD1D"
   ]
  },
  {
   "cell_type": "code",
   "execution_count": 43,
   "metadata": {
    "execution": {
     "iopub.execute_input": "2020-11-20T22:48:57.434389Z",
     "iopub.status.busy": "2020-11-20T22:48:57.433956Z",
     "iopub.status.idle": "2020-11-20T22:48:57.451733Z",
     "shell.execute_reply": "2020-11-20T22:48:57.450968Z",
     "shell.execute_reply.started": "2020-11-20T22:48:57.434334Z"
    }
   },
   "outputs": [],
   "source": [
    "from ipywidgets import interact, fixed"
   ]
  },
  {
   "cell_type": "code",
   "execution_count": 44,
   "metadata": {
    "execution": {
     "iopub.execute_input": "2020-11-20T22:48:57.942536Z",
     "iopub.status.busy": "2020-11-20T22:48:57.942103Z",
     "iopub.status.idle": "2020-11-20T22:48:57.959805Z",
     "shell.execute_reply": "2020-11-20T22:48:57.959070Z",
     "shell.execute_reply.started": "2020-11-20T22:48:57.942480Z"
    }
   },
   "outputs": [],
   "source": [
    "from ecephys.graham import channel_groups, paths\n",
    "from ecephys.helpers.utils import load_df_h5\n",
    "from ecephys.sglx_utils import load_timeseries\n",
    "from ecephys.signal.ripples import apply_ripple_filter\n",
    "from ecephys.signal.timefrequency import get_perievent_cwtm"
   ]
  },
  {
   "cell_type": "code",
   "execution_count": 63,
   "metadata": {
    "execution": {
     "iopub.execute_input": "2020-11-20T23:40:09.734005Z",
     "iopub.status.busy": "2020-11-20T23:40:09.733545Z",
     "iopub.status.idle": "2020-11-20T23:40:09.761754Z",
     "shell.execute_reply": "2020-11-20T23:40:09.760972Z",
     "shell.execute_reply.started": "2020-11-20T23:40:09.733950Z"
    }
   },
   "outputs": [],
   "source": [
    "condition = \"SR\"\n",
    "subject = \"Eugene\"\n",
    "\n",
    "ripple_path = Path(paths.ripples[condition][subject])\n",
    "with pd.HDFStore(ripple_path) as store:\n",
    "    ripples, metadata = load_df_h5(store)"
   ]
  },
  {
   "cell_type": "code",
   "execution_count": 69,
   "metadata": {
    "execution": {
     "iopub.execute_input": "2020-11-20T23:42:34.471842Z",
     "iopub.status.busy": "2020-11-20T23:42:34.471473Z",
     "iopub.status.idle": "2020-11-20T23:42:39.225186Z",
     "shell.execute_reply": "2020-11-20T23:42:39.224576Z",
     "shell.execute_reply.started": "2020-11-20T23:42:34.471796Z"
    }
   },
   "outputs": [
    {
     "data": {
      "application/vnd.jupyter.widget-view+json": {
       "model_id": "e7a80394a1c7492c81fc35d83841f59b",
       "version_major": 2,
       "version_minor": 0
      },
      "text/plain": [
       "interactive(children=(IntSlider(value=1, description='ripple_number', max=518, min=1), Output()), _dom_classes…"
      ]
     },
     "metadata": {},
     "output_type": "display_data"
    }
   ],
   "source": [
    "@interact(ripples=fixed(ripples), metadata=fixed(metadata), subject=fixed(subject), condition=fixed(condition), window_length=fixed(1), ripple_number=(1, len(ripples)), ax=fixed(None))\n",
    "def ripple_explorer(ripples, metadata, subject, condition, window_length=1, ripple_number=1, ax=None,):\n",
    "\n",
    "    if ax is None:\n",
    "        _, axes = plt.subplots(4, 1, figsize=(30, 12))\n",
    "    else:\n",
    "        [ax.cla() for ax in axes]\n",
    "\n",
    "    ripple = ripples.loc[ripple_number]\n",
    "    window_start_time = ripple.center_time - window_length / 2\n",
    "    window_end_time = ripple.center_time + window_length / 2\n",
    "    \n",
    "    all_chans = channel_groups.full[subject]\n",
    "    (time, sig, fs) = load_timeseries(Path(paths.lfp_bin[condition][subject]), all_chans, start_time=window_start_time, end_time=window_end_time)\n",
    "    \n",
    "    idx_detection_chans = np.isin(all_chans, metadata[\"chans\"])\n",
    "    detection_sig = sig[:, idx_detection_chans]\n",
    "    filtered_detection_sig = apply_ripple_filter(detection_sig, fs)\n",
    "\n",
    "    axes[0].plot(time, filtered_detection_sig, linewidth=1)\n",
    "\n",
    "    offset_lfps = detection_sig - np.full(detection_sig.shape, np.arange(detection_sig.shape[1]) * 300)\n",
    "    axes[1].plot(\n",
    "        time,\n",
    "        offset_lfps,\n",
    "        color=\"black\",\n",
    "        linewidth=0.5,\n",
    "    )\n",
    "    axes[1].set_xlim(axes[0].get_xlim())\n",
    "\n",
    "    # Compute CWTM\n",
    "    freq = np.linspace(1, 300, 300)\n",
    "    cwtm = get_perievent_cwtm(detection_sig, fs, freq)\n",
    "    cwtm = cwtm / (1 / freq)[:, None]\n",
    "    axes[2].pcolormesh(time, freq, cwtm, cmap=\"viridis\", shading=\"gouraud\")\n",
    "    axes[2].set_xlim(axes[0].get_xlim())\n",
    "    axes[2].axhline(150, color=\"k\", alpha=0.5, linestyle=\"--\")\n",
    "    axes[2].axhline(250, color=\"k\", alpha=0.5, linestyle=\"--\")\n",
    "        \n",
    "    # Compute CSD\n",
    "    n_chans = len(all_chans)\n",
    "    intersite_distance = 0.020\n",
    "    ele_pos = np.linspace(0., (n_chans - 1) * intersite_distance, n_chans).reshape(n_chans, 1)    \n",
    "    k = KCSD1D(ele_pos, sig.T)\n",
    "    est_csd = k.values('CSD')\n",
    "    \n",
    "    # Find and select hippocampal sources\n",
    "    idx_hpc_chans = np.isin(all_chans, channel_groups.hippocampus[subject])\n",
    "    hpc_ele_pos = ele_pos[idx_hpc_chans]\n",
    "    idx_hpc_src = np.logical_and(k.estm_x >= np.min(hpc_ele_pos), k.estm_x <= np.max(hpc_ele_pos))\n",
    "\n",
    "    \n",
    "    # Plot CSD\n",
    "    axes[3].pcolormesh(time, k.estm_x[idx_hpc_src], est_csd[idx_hpc_src, :], shading=\"gouraud\")\n",
    "    axes[3].set_xlim(axes[0].get_xlim())    \n",
    "    axes[3].set_xlabel(\"Time [sec]\")\n",
    "    axes[3].set_ylabel(\"Depth (mm)\")\n",
    "    \n",
    "    # Plot lines to show area used for ripple detection\n",
    "    detection_ele_pos = ele_pos[idx_detection_chans]\n",
    "    axes[3].axhline(np.min(detection_ele_pos), alpha=0.5, color='k', linestyle=\":\")\n",
    "    axes[3].axhline(np.max(detection_ele_pos), alpha=0.5, color='k', linestyle=\":\")\n",
    "\n",
    "    for ripple in ripples.itertuples():\n",
    "        if (ripple.start_time >= window_start_time) and (\n",
    "            ripple.end_time <= window_end_time\n",
    "        ):\n",
    "            axes[0].axvspan(\n",
    "                ripple.start_time, ripple.end_time, alpha=0.3, color=\"red\", zorder=1000\n",
    "            )\n",
    "            axes[1].axvspan(\n",
    "                ripple.start_time, ripple.end_time, alpha=0.3, color=\"red\", zorder=1000\n",
    "            )"
   ]
  },
  {
   "cell_type": "code",
   "execution_count": null,
   "metadata": {},
   "outputs": [],
   "source": []
  }
 ],
 "metadata": {
  "kernelspec": {
   "display_name": "Python 3",
   "language": "python",
   "name": "python3"
  },
  "language_info": {
   "codemirror_mode": {
    "name": "ipython",
    "version": 3
   },
   "file_extension": ".py",
   "mimetype": "text/x-python",
   "name": "python",
   "nbconvert_exporter": "python",
   "pygments_lexer": "ipython3",
   "version": "3.7.9"
  }
 },
 "nbformat": 4,
 "nbformat_minor": 4
}
