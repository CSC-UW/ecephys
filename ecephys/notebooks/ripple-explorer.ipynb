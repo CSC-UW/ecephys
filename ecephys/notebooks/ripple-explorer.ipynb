{
 "cells": [
  {
   "cell_type": "code",
   "execution_count": 1,
   "metadata": {
    "execution": {
     "iopub.execute_input": "2020-11-30T17:26:47.187222Z",
     "iopub.status.busy": "2020-11-30T17:26:47.186979Z",
     "iopub.status.idle": "2020-11-30T17:26:47.203733Z",
     "shell.execute_reply": "2020-11-30T17:26:47.203129Z",
     "shell.execute_reply.started": "2020-11-30T17:26:47.187197Z"
    }
   },
   "outputs": [],
   "source": [
    "%load_ext autoreload\n",
    "%autoreload 2"
   ]
  },
  {
   "cell_type": "code",
   "execution_count": 8,
   "metadata": {
    "execution": {
     "iopub.execute_input": "2020-11-30T17:27:46.090950Z",
     "iopub.status.busy": "2020-11-30T17:27:46.090484Z",
     "iopub.status.idle": "2020-11-30T17:27:46.113997Z",
     "shell.execute_reply": "2020-11-30T17:27:46.113169Z",
     "shell.execute_reply.started": "2020-11-30T17:27:46.090894Z"
    }
   },
   "outputs": [],
   "source": [
    "%matplotlib widget\n",
    "import matplotlib.pyplot as plt"
   ]
  },
  {
   "cell_type": "code",
   "execution_count": 9,
   "metadata": {
    "execution": {
     "iopub.execute_input": "2020-11-30T17:27:46.585981Z",
     "iopub.status.busy": "2020-11-30T17:27:46.585643Z",
     "iopub.status.idle": "2020-11-30T17:27:46.603507Z",
     "shell.execute_reply": "2020-11-30T17:27:46.602738Z",
     "shell.execute_reply.started": "2020-11-30T17:27:46.585937Z"
    }
   },
   "outputs": [],
   "source": [
    "from pathlib import Path\n",
    "import numpy as np\n",
    "import pandas as pd"
   ]
  },
  {
   "cell_type": "code",
   "execution_count": 14,
   "metadata": {
    "execution": {
     "iopub.execute_input": "2020-11-30T17:37:48.043858Z",
     "iopub.status.busy": "2020-11-30T17:37:48.043398Z",
     "iopub.status.idle": "2020-11-30T17:37:48.064358Z",
     "shell.execute_reply": "2020-11-30T17:37:48.063712Z",
     "shell.execute_reply.started": "2020-11-30T17:37:48.043800Z"
    }
   },
   "outputs": [],
   "source": [
    "from ecephys.utils.utils import load_df_h5\n",
    "from ecephys.data import paths\n",
    "from ecephys.plot import lazy_ripple_explorer"
   ]
  },
  {
   "cell_type": "code",
   "execution_count": 11,
   "metadata": {
    "execution": {
     "iopub.execute_input": "2020-11-30T17:27:47.465295Z",
     "iopub.status.busy": "2020-11-30T17:27:47.464985Z",
     "iopub.status.idle": "2020-11-30T17:27:47.492546Z",
     "shell.execute_reply": "2020-11-30T17:27:47.491856Z",
     "shell.execute_reply.started": "2020-11-30T17:27:47.465255Z"
    }
   },
   "outputs": [],
   "source": [
    "condition = \"SR\"\n",
    "subject = \"Eugene\"\n",
    "\n",
    "ripple_path = Path(paths.ripples[condition][subject])\n",
    "with pd.HDFStore(ripple_path) as store:\n",
    "    ripples, metadata = load_df_h5(store)"
   ]
  },
  {
   "cell_type": "code",
   "execution_count": 15,
   "metadata": {
    "execution": {
     "iopub.execute_input": "2020-11-30T17:37:49.822916Z",
     "iopub.status.busy": "2020-11-30T17:37:49.822711Z",
     "iopub.status.idle": "2020-11-30T17:37:51.911336Z",
     "shell.execute_reply": "2020-11-30T17:37:51.910737Z",
     "shell.execute_reply.started": "2020-11-30T17:37:49.822890Z"
    }
   },
   "outputs": [
    {
     "data": {
      "application/vnd.jupyter.widget-view+json": {
       "model_id": "59ab3ddc19a94125a52857e53acb1e96",
       "version_major": 2,
       "version_minor": 0
      },
      "text/plain": [
       "Canvas(toolbar=Toolbar(toolitems=[('Home', 'Reset original view', 'home', 'home'), ('Back', 'Back to previous …"
      ]
     },
     "metadata": {},
     "output_type": "display_data"
    },
    {
     "data": {
      "application/vnd.jupyter.widget-view+json": {
       "model_id": "bab6c7fdd83643dd8f385511419eb8e3",
       "version_major": 2,
       "version_minor": 0
      },
      "text/plain": [
       "HBox(children=(FloatSlider(value=1.0, description='Secs', max=4.0, min=0.25, step=0.25), IntSlider(value=1, de…"
      ]
     },
     "metadata": {},
     "output_type": "display_data"
    },
    {
     "data": {
      "application/vnd.jupyter.widget-view+json": {
       "model_id": "41c6a3f7d4d94963b237c33c5bba0b72",
       "version_major": 2,
       "version_minor": 0
      },
      "text/plain": [
       "Output()"
      ]
     },
     "metadata": {},
     "output_type": "display_data"
    }
   ],
   "source": [
    "lazy_ripple_explorer(ripples, metadata, subject, condition)"
   ]
  },
  {
   "cell_type": "code",
   "execution_count": null,
   "metadata": {},
   "outputs": [],
   "source": []
  }
 ],
 "metadata": {
  "kernelspec": {
   "display_name": "Python 3",
   "language": "python",
   "name": "python3"
  },
  "language_info": {
   "codemirror_mode": {
    "name": "ipython",
    "version": 3
   },
   "file_extension": ".py",
   "mimetype": "text/x-python",
   "name": "python",
   "nbconvert_exporter": "python",
   "pygments_lexer": "ipython3",
   "version": "3.7.9"
  }
 },
 "nbformat": 4,
 "nbformat_minor": 4
}
