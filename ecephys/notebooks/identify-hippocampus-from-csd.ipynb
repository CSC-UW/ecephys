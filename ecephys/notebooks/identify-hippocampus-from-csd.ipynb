{
 "cells": [
  {
   "cell_type": "code",
   "execution_count": 1,
   "metadata": {
    "execution": {
     "iopub.execute_input": "2021-01-07T21:06:29.679819Z",
     "iopub.status.busy": "2021-01-07T21:06:29.679595Z",
     "iopub.status.idle": "2021-01-07T21:06:29.696238Z",
     "shell.execute_reply": "2021-01-07T21:06:29.695650Z",
     "shell.execute_reply.started": "2021-01-07T21:06:29.679791Z"
    }
   },
   "outputs": [],
   "source": [
    "%load_ext autoreload\n",
    "%autoreload 2"
   ]
  },
  {
   "cell_type": "code",
   "execution_count": 61,
   "metadata": {
    "execution": {
     "iopub.execute_input": "2021-01-07T21:33:32.026549Z",
     "iopub.status.busy": "2021-01-07T21:33:32.026121Z",
     "iopub.status.idle": "2021-01-07T21:33:32.047809Z",
     "shell.execute_reply": "2021-01-07T21:33:32.047238Z",
     "shell.execute_reply.started": "2021-01-07T21:33:32.026495Z"
    }
   },
   "outputs": [],
   "source": [
    "%matplotlib widget\n",
    "import matplotlib.pyplot as plt\n",
    "import matplotlib.cm as cm"
   ]
  },
  {
   "cell_type": "code",
   "execution_count": 60,
   "metadata": {
    "execution": {
     "iopub.execute_input": "2021-01-07T21:33:23.002619Z",
     "iopub.status.busy": "2021-01-07T21:33:23.002194Z",
     "iopub.status.idle": "2021-01-07T21:33:23.020332Z",
     "shell.execute_reply": "2021-01-07T21:33:23.019580Z",
     "shell.execute_reply.started": "2021-01-07T21:33:23.002564Z"
    }
   },
   "outputs": [],
   "source": [
    "import numpy as np\n",
    "import pandas as pd\n",
    "from kcsd import KCSD1D"
   ]
  },
  {
   "cell_type": "code",
   "execution_count": 226,
   "metadata": {
    "execution": {
     "iopub.execute_input": "2021-01-08T00:46:38.171912Z",
     "iopub.status.busy": "2021-01-08T00:46:38.171571Z",
     "iopub.status.idle": "2021-01-08T00:46:38.194359Z",
     "shell.execute_reply": "2021-01-08T00:46:38.193623Z",
     "shell.execute_reply.started": "2021-01-08T00:46:38.171871Z"
    }
   },
   "outputs": [],
   "source": [
    "from ecephys.sglx_utils import load_timeseries\n",
    "from ecephys.data import channel_groups, paths\n",
    "from ecephys.plot import lfp_explorer, colormesh_timeseries_explorer\n",
    "from ecephys.signal.utils import mean_subtract, median_subtract\n",
    "from ecephys.signal.csd import get_kcsd"
   ]
  },
  {
   "cell_type": "code",
   "execution_count": 242,
   "metadata": {
    "execution": {
     "iopub.execute_input": "2021-01-08T00:48:57.334527Z",
     "iopub.status.busy": "2021-01-08T00:48:57.334040Z",
     "iopub.status.idle": "2021-01-08T00:48:57.356801Z",
     "shell.execute_reply": "2021-01-08T00:48:57.356032Z",
     "shell.execute_reply.started": "2021-01-08T00:48:57.334453Z"
    }
   },
   "outputs": [],
   "source": [
    "SUBJECT = \"Valentino\"\n",
    "CONDITION = \"REC-0+2\"\n",
    "START_TIME = 172 # pick a 1 second window that has SPW-Rs"
   ]
  },
  {
   "cell_type": "code",
   "execution_count": 243,
   "metadata": {
    "execution": {
     "iopub.execute_input": "2021-01-08T00:48:57.803313Z",
     "iopub.status.busy": "2021-01-08T00:48:57.803176Z",
     "iopub.status.idle": "2021-01-08T00:48:58.577089Z",
     "shell.execute_reply": "2021-01-08T00:48:58.576255Z",
     "shell.execute_reply.started": "2021-01-08T00:48:57.803298Z"
    }
   },
   "outputs": [
    {
     "name": "stdout",
     "output_type": "stream",
     "text": [
      "nChan: 385, nFileSamp: 18000000\n"
     ]
    }
   ],
   "source": [
    "chans = channel_groups.full[SUBJECT]\n",
    "bin_path = paths.get_datapath(subject=SUBJECT, condition=CONDITION, data=\"lf.bin\")\n",
    "(times, sig, fs) = load_timeseries(bin_path, chans, start_time=(START_TIME), end_time=(START_TIME + 1.0))"
   ]
  },
  {
   "cell_type": "code",
   "execution_count": 244,
   "metadata": {
    "execution": {
     "iopub.execute_input": "2021-01-08T00:48:58.612535Z",
     "iopub.status.busy": "2021-01-08T00:48:58.612417Z",
     "iopub.status.idle": "2021-01-08T00:48:58.623071Z",
     "shell.execute_reply": "2021-01-08T00:48:58.622134Z",
     "shell.execute_reply.started": "2021-01-08T00:48:58.612520Z"
    }
   },
   "outputs": [],
   "source": [
    "# sig = mean_subtract(sig)"
   ]
  },
  {
   "cell_type": "markdown",
   "metadata": {},
   "source": [
    "## 1D kCSD on whole probe"
   ]
  },
  {
   "cell_type": "code",
   "execution_count": 245,
   "metadata": {
    "execution": {
     "iopub.execute_input": "2021-01-08T00:48:59.074864Z",
     "iopub.status.busy": "2021-01-08T00:48:59.074591Z",
     "iopub.status.idle": "2021-01-08T00:49:00.883352Z",
     "shell.execute_reply": "2021-01-08T00:49:00.882712Z",
     "shell.execute_reply.started": "2021-01-08T00:48:59.074830Z"
    }
   },
   "outputs": [
    {
     "name": "stdout",
     "output_type": "stream",
     "text": [
      "Performing L-curve parameter estimation...\n",
      "No lambda given, using defaults\n",
      "min lambda 1e-09\n",
      "max lambda 0.0043\n",
      "min lambda 1e-09\n",
      "max lambda 0.0043\n",
      "l-curve (all lambda):  0.23\n",
      "Best lambda and R =  5.451979028328146e-10 ,  0.23\n"
     ]
    }
   ],
   "source": [
    "gdx = intersite_distance = 0.020\n",
    "k = get_kcsd(\n",
    "    sig, intersite_distance=intersite_distance, gdx=gdx, do_lcurve=True\n",
    ")\n",
    "est_csd = k.values('CSD')"
   ]
  },
  {
   "cell_type": "code",
   "execution_count": 246,
   "metadata": {
    "execution": {
     "iopub.execute_input": "2021-01-08T00:49:00.968842Z",
     "iopub.status.busy": "2021-01-08T00:49:00.968506Z",
     "iopub.status.idle": "2021-01-08T00:49:01.080144Z",
     "shell.execute_reply": "2021-01-08T00:49:01.079715Z",
     "shell.execute_reply.started": "2021-01-08T00:49:00.968810Z"
    }
   },
   "outputs": [
    {
     "data": {
      "application/vnd.jupyter.widget-view+json": {
       "model_id": "da4cc10747f44bfc9def57a48f22c4f4",
       "version_major": 2,
       "version_minor": 0
      },
      "text/plain": [
       "Canvas(toolbar=Toolbar(toolitems=[('Home', 'Reset original view', 'home', 'home'), ('Back', 'Back to previous …"
      ]
     },
     "metadata": {},
     "output_type": "display_data"
    },
    {
     "data": {
      "text/plain": [
       "<matplotlib.lines.Line2D at 0x7f43382fd250>"
      ]
     },
     "execution_count": 246,
     "metadata": {},
     "output_type": "execute_result"
    }
   ],
   "source": [
    "_, ax = plt.subplots(figsize=(20, 10))\n",
    "ax.pcolormesh(times, k.estm_x, est_csd, shading=\"gouraud\")\n",
    "ax.set_xlabel(\"Time [sec]\")\n",
    "ax.set_ylabel(\"Depth (mm)\")\n",
    "\n",
    "lo = 3.8\n",
    "hi = 6.1\n",
    "ax.axhline(hi, alpha=0.5, color='k', linestyle=\"--\")\n",
    "ax.axhline(lo, alpha=0.5, color='k', linestyle=\"--\")"
   ]
  },
  {
   "cell_type": "code",
   "execution_count": 247,
   "metadata": {
    "execution": {
     "iopub.execute_input": "2021-01-08T00:49:01.080986Z",
     "iopub.status.busy": "2021-01-08T00:49:01.080858Z",
     "iopub.status.idle": "2021-01-08T00:49:01.094117Z",
     "shell.execute_reply": "2021-01-08T00:49:01.093576Z",
     "shell.execute_reply.started": "2021-01-08T00:49:01.080970Z"
    }
   },
   "outputs": [
    {
     "name": "stdout",
     "output_type": "stream",
     "text": [
      "[380 383   1   2   5   6   9  10  13  14  17  18  21  22  25  26  29  30\n",
      "  33  34  37  38  41  42  45  46  49  50  53  54  57  58  61  62  65  66\n",
      "  69  70  73  74  77  78  81  82  85  86  89  90  93  94  97  98 101 102\n",
      " 105 106 109 110 113 114 117 118 121 122 125 126 129 130 133 134 137 138\n",
      " 141 142 145 146 149 150 153 154 157 158 161 162 165 166 169 170 173 174\n",
      " 177 178 181 182 185 186 189 190 193 194 197 198 201 202 205 206 209 210\n",
      " 213 214 217 218 221 222 225]\n"
     ]
    }
   ],
   "source": [
    "hpc_chans = chans[np.logical_and(k.ele_pos >= lo, k.ele_pos <= hi).flatten()] # These are the channel numbers belonging to the hippocampus\n",
    "print(hpc_chans)"
   ]
  },
  {
   "cell_type": "code",
   "execution_count": 248,
   "metadata": {
    "execution": {
     "iopub.execute_input": "2021-01-08T00:49:01.094846Z",
     "iopub.status.busy": "2021-01-08T00:49:01.094724Z",
     "iopub.status.idle": "2021-01-08T00:49:01.106744Z",
     "shell.execute_reply": "2021-01-08T00:49:01.106089Z",
     "shell.execute_reply.started": "2021-01-08T00:49:01.094831Z"
    }
   },
   "outputs": [],
   "source": [
    "hpc_idx = np.where(np.logical_and(k.ele_pos >= lo, k.ele_pos <= hi).flatten())[0] # These are the indices of the above channels"
   ]
  },
  {
   "cell_type": "code",
   "execution_count": 249,
   "metadata": {
    "execution": {
     "iopub.execute_input": "2021-01-08T00:49:01.107390Z",
     "iopub.status.busy": "2021-01-08T00:49:01.107268Z",
     "iopub.status.idle": "2021-01-08T00:49:01.121429Z",
     "shell.execute_reply": "2021-01-08T00:49:01.121075Z",
     "shell.execute_reply.started": "2021-01-08T00:49:01.107375Z"
    }
   },
   "outputs": [],
   "source": [
    "assert np.array_equal(hpc_chans, chans[hpc_idx]) # Confirm that indexing is correct"
   ]
  },
  {
   "cell_type": "code",
   "execution_count": 250,
   "metadata": {
    "execution": {
     "iopub.execute_input": "2021-01-08T00:49:04.538477Z",
     "iopub.status.busy": "2021-01-08T00:49:04.538364Z",
     "iopub.status.idle": "2021-01-08T00:49:04.549412Z",
     "shell.execute_reply": "2021-01-08T00:49:04.548970Z",
     "shell.execute_reply.started": "2021-01-08T00:49:04.538463Z"
    }
   },
   "outputs": [
    {
     "name": "stdout",
     "output_type": "stream",
     "text": [
      "Min HPC index: 190 \n",
      "Max HPC index: 305\n"
     ]
    }
   ],
   "source": [
    "print(f\"Min HPC index: {hpc_idx.min()} \\nMax HPC index: {hpc_idx.max() + 1}\")"
   ]
  },
  {
   "cell_type": "markdown",
   "metadata": {},
   "source": [
    "## 1D kCSD on hippocampal channels"
   ]
  },
  {
   "cell_type": "code",
   "execution_count": 251,
   "metadata": {
    "execution": {
     "iopub.execute_input": "2021-01-08T00:49:04.550089Z",
     "iopub.status.busy": "2021-01-08T00:49:04.549961Z",
     "iopub.status.idle": "2021-01-08T00:49:05.487728Z",
     "shell.execute_reply": "2021-01-08T00:49:05.487075Z",
     "shell.execute_reply.started": "2021-01-08T00:49:04.550074Z"
    }
   },
   "outputs": [
    {
     "name": "stdout",
     "output_type": "stream",
     "text": [
      "Performing L-curve parameter estimation...\n",
      "No lambda given, using defaults\n",
      "min lambda 1e-12\n",
      "max lambda 0.0119\n",
      "min lambda 1e-12\n",
      "max lambda 0.0119\n",
      "l-curve (all lambda):  0.23\n",
      "Best lambda and R =  2.8175859627735274e-05 ,  0.23\n"
     ]
    }
   ],
   "source": [
    "hpc_k = get_kcsd(\n",
    "    sig[:, hpc_idx], intersite_distance=intersite_distance, gdx=gdx, do_lcurve=True\n",
    ")\n",
    "hpc_est_csd = hpc_k.values('CSD')"
   ]
  },
  {
   "cell_type": "code",
   "execution_count": 252,
   "metadata": {
    "execution": {
     "iopub.execute_input": "2021-01-08T00:49:05.489343Z",
     "iopub.status.busy": "2021-01-08T00:49:05.488876Z",
     "iopub.status.idle": "2021-01-08T00:49:05.606051Z",
     "shell.execute_reply": "2021-01-08T00:49:05.605418Z",
     "shell.execute_reply.started": "2021-01-08T00:49:05.489306Z"
    }
   },
   "outputs": [
    {
     "data": {
      "application/vnd.jupyter.widget-view+json": {
       "model_id": "5f1e2abe29b44ae4a10ead8abd048183",
       "version_major": 2,
       "version_minor": 0
      },
      "text/plain": [
       "Canvas(toolbar=Toolbar(toolitems=[('Home', 'Reset original view', 'home', 'home'), ('Back', 'Back to previous …"
      ]
     },
     "metadata": {},
     "output_type": "display_data"
    },
    {
     "data": {
      "text/plain": [
       "<matplotlib.lines.Line2D at 0x7f43383190d0>"
      ]
     },
     "execution_count": 252,
     "metadata": {},
     "output_type": "execute_result"
    }
   ],
   "source": [
    "_, ax = plt.subplots(figsize=(20, 10))\n",
    "ax.pcolormesh(times, hpc_k.estm_x, hpc_est_csd, shading=\"gouraud\")\n",
    "ax.set_xlabel(\"Time [sec]\")\n",
    "ax.set_ylabel(\"Depth (mm)\")\n",
    "\n",
    "# Visualize stratum radiatum position\n",
    "sr_chans = channel_groups.stratum_radiatum_140um_to_200um[SUBJECT]\n",
    "sr_mask = np.isin(hpc_chans, sr_chans)\n",
    "sr_pos = hpc_k.ele_pos[sr_mask]\n",
    "ax.axhline(sr_pos.min(), alpha=0.5, color='k', linestyle=\":\")\n",
    "ax.axhline(sr_pos.max(), alpha=0.5, color='k', linestyle=\":\")"
   ]
  }
 ],
 "metadata": {
  "kernelspec": {
   "display_name": "Python 3",
   "language": "python",
   "name": "python3"
  },
  "language_info": {
   "codemirror_mode": {
    "name": "ipython",
    "version": 3
   },
   "file_extension": ".py",
   "mimetype": "text/x-python",
   "name": "python",
   "nbconvert_exporter": "python",
   "pygments_lexer": "ipython3",
   "version": "3.7.9"
  }
 },
 "nbformat": 4,
 "nbformat_minor": 4
}
