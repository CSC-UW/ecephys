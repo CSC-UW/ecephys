{
 "cells": [
  {
   "cell_type": "code",
   "execution_count": 6,
   "metadata": {
    "execution": {
     "iopub.execute_input": "2020-11-27T23:04:45.151849Z",
     "iopub.status.busy": "2020-11-27T23:04:45.151417Z",
     "iopub.status.idle": "2020-11-27T23:04:45.164391Z",
     "shell.execute_reply": "2020-11-27T23:04:45.163599Z",
     "shell.execute_reply.started": "2020-11-27T23:04:45.151793Z"
    }
   },
   "outputs": [],
   "source": [
    "%matplotlib widget"
   ]
  },
  {
   "cell_type": "code",
   "execution_count": 12,
   "metadata": {
    "execution": {
     "iopub.execute_input": "2020-11-27T23:19:45.110259Z",
     "iopub.status.busy": "2020-11-27T23:19:45.109766Z",
     "iopub.status.idle": "2020-11-27T23:19:45.129709Z",
     "shell.execute_reply": "2020-11-27T23:19:45.128952Z",
     "shell.execute_reply.started": "2020-11-27T23:19:45.110200Z"
    }
   },
   "outputs": [],
   "source": [
    "import matplotlib.pyplot as plt\n",
    "from ecephys.plot import plot_channel_coords"
   ]
  },
  {
   "cell_type": "code",
   "execution_count": null,
   "metadata": {},
   "outputs": [],
   "source": [
    "# Option 1: Parse coordintes directly from a SpikeGLX meta file. You must use the AP file -- LFP will not worK!\n",
    "from pathlib import Path\n",
    "from ecephys.sglx_utils import get_xy_coords\n",
    "chans, x, y = get_xy_coords(Path('/Volumes/neuropixel/Data/CNPIX4-Doppio/3-18-2020_g0_t3.imec0.ap.bin'))\n",
    "plot_channel_coords(chans, x, y)"
   ]
  },
  {
   "cell_type": "code",
   "execution_count": 11,
   "metadata": {
    "execution": {
     "iopub.execute_input": "2020-11-27T23:06:32.872588Z",
     "iopub.status.busy": "2020-11-27T23:06:32.872090Z",
     "iopub.status.idle": "2020-11-27T23:06:32.925814Z",
     "shell.execute_reply": "2020-11-27T23:06:32.925126Z",
     "shell.execute_reply.started": "2020-11-27T23:06:32.872526Z"
    }
   },
   "outputs": [
    {
     "data": {
      "application/vnd.jupyter.widget-view+json": {
       "model_id": "ab9c4de745044da388eab1cc120d77ec",
       "version_major": 2,
       "version_minor": 0
      },
      "text/plain": [
       "Canvas(toolbar=Toolbar(toolitems=[('Home', 'Reset original view', 'home', 'home'), ('Back', 'Back to previous …"
      ]
     },
     "metadata": {},
     "output_type": "display_data"
    }
   ],
   "source": [
    "# Option 2: Load directlty from cache\n",
    "from ecephys.graham.channel_coords import CheckPat_chans, CheckPat_x, CheckPat_y\n",
    "plot_channel_coords(CheckPat_chans, CheckPat_x, CheckPat_y)"
   ]
  },
  {
   "cell_type": "code",
   "execution_count": null,
   "metadata": {},
   "outputs": [],
   "source": []
  }
 ],
 "metadata": {
  "kernelspec": {
   "display_name": "Python 3",
   "language": "python",
   "name": "python3"
  },
  "language_info": {
   "codemirror_mode": {
    "name": "ipython",
    "version": 3
   },
   "file_extension": ".py",
   "mimetype": "text/x-python",
   "name": "python",
   "nbconvert_exporter": "python",
   "pygments_lexer": "ipython3",
   "version": "3.7.9"
  }
 },
 "nbformat": 4,
 "nbformat_minor": 4
}
