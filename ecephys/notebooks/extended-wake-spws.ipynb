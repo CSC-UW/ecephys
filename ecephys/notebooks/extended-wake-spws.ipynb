{
 "cells": [
  {
   "cell_type": "code",
   "execution_count": 1,
   "metadata": {
    "execution": {
     "iopub.execute_input": "2021-01-04T21:08:26.612577Z",
     "iopub.status.busy": "2021-01-04T21:08:26.612153Z",
     "iopub.status.idle": "2021-01-04T21:08:26.629856Z",
     "shell.execute_reply": "2021-01-04T21:08:26.629260Z",
     "shell.execute_reply.started": "2021-01-04T21:08:26.612522Z"
    }
   },
   "outputs": [],
   "source": [
    "%load_ext autoreload\n",
    "%autoreload 2"
   ]
  },
  {
   "cell_type": "code",
   "execution_count": 37,
   "metadata": {
    "execution": {
     "iopub.execute_input": "2021-01-04T22:18:58.222429Z",
     "iopub.status.busy": "2021-01-04T22:18:58.221975Z",
     "iopub.status.idle": "2021-01-04T22:18:58.263846Z",
     "shell.execute_reply": "2021-01-04T22:18:58.263257Z",
     "shell.execute_reply.started": "2021-01-04T22:18:58.222368Z"
    }
   },
   "outputs": [],
   "source": [
    "%matplotlib widget\n",
    "import matplotlib.pyplot as plt\n",
    "import seaborn as sns"
   ]
  },
  {
   "cell_type": "code",
   "execution_count": 13,
   "metadata": {
    "execution": {
     "iopub.execute_input": "2021-01-04T21:19:46.069994Z",
     "iopub.status.busy": "2021-01-04T21:19:46.069559Z",
     "iopub.status.idle": "2021-01-04T21:19:46.086614Z",
     "shell.execute_reply": "2021-01-04T21:19:46.085865Z",
     "shell.execute_reply.started": "2021-01-04T21:19:46.069938Z"
    }
   },
   "outputs": [],
   "source": [
    "import numpy as np\n",
    "import pandas as pd"
   ]
  },
  {
   "cell_type": "code",
   "execution_count": 233,
   "metadata": {
    "execution": {
     "iopub.execute_input": "2021-01-05T00:22:24.154361Z",
     "iopub.status.busy": "2021-01-05T00:22:24.153933Z",
     "iopub.status.idle": "2021-01-05T00:22:24.176636Z",
     "shell.execute_reply": "2021-01-05T00:22:24.175848Z",
     "shell.execute_reply.started": "2021-01-05T00:22:24.154304Z"
    }
   },
   "outputs": [],
   "source": [
    "from ecephys.data import paths\n",
    "from ecephys.scoring import load_visbrain_hypnogram, filter_states\n",
    "from ecephys.signal.sharp_wave_ripples import load_sharp_waves, get_events_in_interval\n",
    "import ecephys.plot as eplt"
   ]
  },
  {
   "cell_type": "code",
   "execution_count": 253,
   "metadata": {
    "execution": {
     "iopub.execute_input": "2021-01-05T00:37:39.328652Z",
     "iopub.status.busy": "2021-01-05T00:37:39.328260Z",
     "iopub.status.idle": "2021-01-05T00:37:39.351272Z",
     "shell.execute_reply": "2021-01-05T00:37:39.350514Z",
     "shell.execute_reply.started": "2021-01-05T00:37:39.328600Z"
    }
   },
   "outputs": [],
   "source": [
    "SUBJECT = \"Doppio\"\n",
    "CONDITIONS = [\"REC-6-4\", \"REC-4-2\", \"REC-2-0\"]\n",
    "RECORDING_LENGTHS = [7200, 7200, 7200]"
   ]
  },
  {
   "cell_type": "code",
   "execution_count": 254,
   "metadata": {
    "execution": {
     "iopub.execute_input": "2021-01-05T00:37:39.515200Z",
     "iopub.status.busy": "2021-01-05T00:37:39.514892Z",
     "iopub.status.idle": "2021-01-05T00:37:39.593454Z",
     "shell.execute_reply": "2021-01-05T00:37:39.592601Z",
     "shell.execute_reply.started": "2021-01-05T00:37:39.515159Z"
    }
   },
   "outputs": [],
   "source": [
    "ew_hypnograms = [load_visbrain_hypnogram(subject=SUBJECT, condition=condition) for condition in CONDITIONS]"
   ]
  },
  {
   "cell_type": "code",
   "execution_count": 255,
   "metadata": {
    "execution": {
     "iopub.execute_input": "2021-01-05T00:37:39.691431Z",
     "iopub.status.busy": "2021-01-05T00:37:39.691235Z",
     "iopub.status.idle": "2021-01-05T00:37:39.713110Z",
     "shell.execute_reply": "2021-01-05T00:37:39.712583Z",
     "shell.execute_reply.started": "2021-01-05T00:37:39.691406Z"
    }
   },
   "outputs": [],
   "source": [
    "def concatenate_hypnograms(hypnograms, recording_lengths):\n",
    "    for i in range(1, len(hypnograms)):\n",
    "        hypnograms[i]['start_time'] = hypnograms[i]['start_time'] + np.cumsum(recording_lengths)[i - 1]\n",
    "        hypnograms[i]['end_time'] = hypnograms[i]['end_time'] + np.cumsum(recording_lengths)[i - 1]\n",
    "    \n",
    "    return pd.concat(hypnograms).reset_index(drop=True)"
   ]
  },
  {
   "cell_type": "code",
   "execution_count": 256,
   "metadata": {
    "execution": {
     "iopub.execute_input": "2021-01-05T00:37:39.866124Z",
     "iopub.status.busy": "2021-01-05T00:37:39.865974Z",
     "iopub.status.idle": "2021-01-05T00:37:39.885353Z",
     "shell.execute_reply": "2021-01-05T00:37:39.884865Z",
     "shell.execute_reply.started": "2021-01-05T00:37:39.866105Z"
    }
   },
   "outputs": [],
   "source": [
    "hypnogram = concatenate_hypnograms(ew_hypnograms, RECORDING_LENGTHS)"
   ]
  },
  {
   "cell_type": "code",
   "execution_count": 257,
   "metadata": {
    "execution": {
     "iopub.execute_input": "2021-01-05T00:37:40.049895Z",
     "iopub.status.busy": "2021-01-05T00:37:40.049650Z",
     "iopub.status.idle": "2021-01-05T00:37:40.100505Z",
     "shell.execute_reply": "2021-01-05T00:37:40.100052Z",
     "shell.execute_reply.started": "2021-01-05T00:37:40.049863Z"
    }
   },
   "outputs": [],
   "source": [
    "ew_spws = [load_sharp_waves(subject=SUBJECT, condition=condition) for condition in CONDITIONS]"
   ]
  },
  {
   "cell_type": "code",
   "execution_count": 258,
   "metadata": {
    "execution": {
     "iopub.execute_input": "2021-01-05T00:37:40.226840Z",
     "iopub.status.busy": "2021-01-05T00:37:40.226509Z",
     "iopub.status.idle": "2021-01-05T00:37:40.251955Z",
     "shell.execute_reply": "2021-01-05T00:37:40.251388Z",
     "shell.execute_reply.started": "2021-01-05T00:37:40.226797Z"
    }
   },
   "outputs": [],
   "source": [
    "def concatenate_sharp_waves(spws_list, recording_lengths):\n",
    "    for i in range(1, len(spws_list)):\n",
    "        spws_list[i]['start_time'] = spws_list[i]['start_time'] + np.cumsum(recording_lengths)[i - 1]\n",
    "        spws_list[i]['end_time'] = spws_list[i]['end_time'] + np.cumsum(recording_lengths)[i - 1]\n",
    "        spws_list[i]['midpoint'] = spws_list[i]['midpoint'] + np.cumsum(recording_lengths)[i - 1]\n",
    "    \n",
    "    spws = pd.concat(spws_list).reset_index(drop=True)\n",
    "    spws.index += 1\n",
    "    spws.index = spws.index.rename('spw_number')\n",
    "    \n",
    "    return spws"
   ]
  },
  {
   "cell_type": "code",
   "execution_count": 259,
   "metadata": {
    "execution": {
     "iopub.execute_input": "2021-01-05T00:37:40.418889Z",
     "iopub.status.busy": "2021-01-05T00:37:40.418616Z",
     "iopub.status.idle": "2021-01-05T00:37:40.442082Z",
     "shell.execute_reply": "2021-01-05T00:37:40.441517Z",
     "shell.execute_reply.started": "2021-01-05T00:37:40.418854Z"
    }
   },
   "outputs": [],
   "source": [
    "spws = concatenate_sharp_waves(ew_spws, RECORDING_LENGTHS)"
   ]
  },
  {
   "cell_type": "code",
   "execution_count": 260,
   "metadata": {
    "execution": {
     "iopub.execute_input": "2021-01-05T00:37:41.018797Z",
     "iopub.status.busy": "2021-01-05T00:37:41.018525Z",
     "iopub.status.idle": "2021-01-05T00:37:41.043239Z",
     "shell.execute_reply": "2021-01-05T00:37:41.042666Z",
     "shell.execute_reply.started": "2021-01-05T00:37:41.018761Z"
    }
   },
   "outputs": [],
   "source": [
    "def plot_spw_summary(spws, hypnogram, binwidth=10, figsize=(20, 8)):\n",
    "    fig, (density_ax, duration_ax, amplitude_ax, integral_ax) = plt.subplots(4, 1, figsize=figsize)\n",
    "    eplt.plot_spw_density(spws, binwidth=binwidth, ax=density_ax)\n",
    "    spws.plot.scatter(x='start_time', y='duration', ax=duration_ax, title='Event duration (s)', s=1)\n",
    "    spws.plot.scatter(x='start_time', y='sink_amplitude', ax=amplitude_ax, title='Sink amplitude (mA/mm)', s=1)\n",
    "    spws.plot.scatter(x='start_time', y='sink_integral', ax=integral_ax, title='Sink integral (mA * ms)', s=1)\n",
    "    for ax in (density_ax, duration_ax, amplitude_ax, integral_ax):\n",
    "        ax.set_xlim(density_ax.get_xlim())\n",
    "        ax.set_xticks(density_ax.get_xticks())\n",
    "        ax.set_xticklabels(density_ax.get_xticklabels())\n",
    "        ax.set_xlabel(density_ax.get_xlabel())\n",
    "        eplt.plot_hypnogram_overlay(hypnogram, ax=ax)\n",
    "    plt.tight_layout()"
   ]
  },
  {
   "cell_type": "code",
   "execution_count": 261,
   "metadata": {
    "execution": {
     "iopub.execute_input": "2021-01-05T00:37:41.533474Z",
     "iopub.status.busy": "2021-01-05T00:37:41.533215Z",
     "iopub.status.idle": "2021-01-05T00:37:43.297418Z",
     "shell.execute_reply": "2021-01-05T00:37:43.296753Z",
     "shell.execute_reply.started": "2021-01-05T00:37:41.533440Z"
    }
   },
   "outputs": [
    {
     "data": {
      "application/vnd.jupyter.widget-view+json": {
       "model_id": "9fcdd701aaf64de4a5310fc4c736d2d3",
       "version_major": 2,
       "version_minor": 0
      },
      "text/plain": [
       "Canvas(toolbar=Toolbar(toolitems=[('Home', 'Reset original view', 'home', 'home'), ('Back', 'Back to previous …"
      ]
     },
     "metadata": {},
     "output_type": "display_data"
    }
   ],
   "source": [
    "plot_spw_summary(spws, hypnogram)"
   ]
  },
  {
   "cell_type": "code",
   "execution_count": 262,
   "metadata": {
    "execution": {
     "iopub.execute_input": "2021-01-05T00:37:44.022102Z",
     "iopub.status.busy": "2021-01-05T00:37:44.021972Z",
     "iopub.status.idle": "2021-01-05T00:37:44.039378Z",
     "shell.execute_reply": "2021-01-05T00:37:44.038670Z",
     "shell.execute_reply.started": "2021-01-05T00:37:44.022085Z"
    }
   },
   "outputs": [],
   "source": [
    "def add_spw_properties_to_hypnogram(spws, hypnogram):\n",
    "    for i, bout in hypnogram.iterrows():\n",
    "        bout_events = get_events_in_interval(spws, bout.start_time, bout.end_time)\n",
    "        hypnogram.at[i, 'spw_density'] = len(bout_events) / bout.duration\n",
    "        hypnogram.at[i, 'mean_duration'] = bout_events.duration.mean()\n",
    "        hypnogram.at[i, 'mean_sink_amplitude'] = bout_events.sink_amplitude.mean()\n",
    "        hypnogram.at[i, 'mean_sink_integral'] = bout_events.sink_integral.mean()\n",
    "    \n",
    "    hypnogram.fillna(value=0, inplace=True)"
   ]
  },
  {
   "cell_type": "code",
   "execution_count": 263,
   "metadata": {
    "execution": {
     "iopub.execute_input": "2021-01-05T00:37:47.633690Z",
     "iopub.status.busy": "2021-01-05T00:37:47.633547Z",
     "iopub.status.idle": "2021-01-05T00:37:48.102641Z",
     "shell.execute_reply": "2021-01-05T00:37:48.102013Z",
     "shell.execute_reply.started": "2021-01-05T00:37:47.633665Z"
    }
   },
   "outputs": [],
   "source": [
    "add_spw_properties_to_hypnogram(spws, hypnogram)"
   ]
  },
  {
   "cell_type": "code",
   "execution_count": 264,
   "metadata": {
    "execution": {
     "iopub.execute_input": "2021-01-05T00:37:48.103529Z",
     "iopub.status.busy": "2021-01-05T00:37:48.103390Z",
     "iopub.status.idle": "2021-01-05T00:37:48.119922Z",
     "shell.execute_reply": "2021-01-05T00:37:48.119093Z",
     "shell.execute_reply.started": "2021-01-05T00:37:48.103512Z"
    }
   },
   "outputs": [],
   "source": [
    "qwk = filter_states(hypnogram, ['qWk']).reset_index(drop=True)"
   ]
  },
  {
   "cell_type": "code",
   "execution_count": 269,
   "metadata": {
    "execution": {
     "iopub.execute_input": "2021-01-05T00:41:13.453151Z",
     "iopub.status.busy": "2021-01-05T00:41:13.452683Z",
     "iopub.status.idle": "2021-01-05T00:41:13.480141Z",
     "shell.execute_reply": "2021-01-05T00:41:13.479576Z",
     "shell.execute_reply.started": "2021-01-05T00:41:13.453074Z"
    }
   },
   "outputs": [],
   "source": [
    "def plot_spw_summary_by_bout_rank(hypnogram, figsize=(20, 8)):\n",
    "    fig, (density_ax, duration_ax, amplitude_ax, integral_ax) = plt.subplots(4, 1, figsize=figsize)\n",
    "    \n",
    "    hypnogram.plot.scatter(x='index', y='spw_density', ax=density_ax, title='SPW density (Hz)', s=1)\n",
    "    hypnogram.plot.scatter(x='index', y='mean_duration', ax=duration_ax, title='Event duration (s)', s=1)\n",
    "    hypnogram.plot.scatter(x='index', y='mean_sink_amplitude', ax=amplitude_ax, title='Sink amplitude (mA/mm)', s=1)\n",
    "    hypnogram.plot.scatter(x='index', y='mean_sink_integral', ax=integral_ax, title='Sink integral (mA * ms)', s=1)\n",
    "    for ax in (density_ax, duration_ax, amplitude_ax, integral_ax):\n",
    "        ax.set_xlabel('Bout rank')\n",
    "    plt.tight_layout()"
   ]
  },
  {
   "cell_type": "code",
   "execution_count": 270,
   "metadata": {
    "execution": {
     "iopub.execute_input": "2021-01-05T00:41:13.967682Z",
     "iopub.status.busy": "2021-01-05T00:41:13.967405Z",
     "iopub.status.idle": "2021-01-05T00:41:14.144777Z",
     "shell.execute_reply": "2021-01-05T00:41:14.144204Z",
     "shell.execute_reply.started": "2021-01-05T00:41:13.967646Z"
    }
   },
   "outputs": [
    {
     "data": {
      "application/vnd.jupyter.widget-view+json": {
       "model_id": "d83001a7aa124d4c870a59b2a8151126",
       "version_major": 2,
       "version_minor": 0
      },
      "text/plain": [
       "Canvas(toolbar=Toolbar(toolitems=[('Home', 'Reset original view', 'home', 'home'), ('Back', 'Back to previous …"
      ]
     },
     "metadata": {},
     "output_type": "display_data"
    }
   ],
   "source": [
    "plot_spw_summary_by_bout_rank(qwk.reset_index())"
   ]
  },
  {
   "cell_type": "code",
   "execution_count": 271,
   "metadata": {
    "execution": {
     "iopub.execute_input": "2021-01-05T00:44:54.660015Z",
     "iopub.status.busy": "2021-01-05T00:44:54.659577Z",
     "iopub.status.idle": "2021-01-05T00:44:54.684819Z",
     "shell.execute_reply": "2021-01-05T00:44:54.684267Z",
     "shell.execute_reply.started": "2021-01-05T00:44:54.659947Z"
    }
   },
   "outputs": [],
   "source": [
    "awk = filter_states(hypnogram, ['aWk']).reset_index(drop=True)"
   ]
  },
  {
   "cell_type": "code",
   "execution_count": 279,
   "metadata": {
    "execution": {
     "iopub.execute_input": "2021-01-05T00:56:34.848998Z",
     "iopub.status.busy": "2021-01-05T00:56:34.848636Z",
     "iopub.status.idle": "2021-01-05T00:56:35.033659Z",
     "shell.execute_reply": "2021-01-05T00:56:35.033032Z",
     "shell.execute_reply.started": "2021-01-05T00:56:34.848950Z"
    }
   },
   "outputs": [
    {
     "data": {
      "application/vnd.jupyter.widget-view+json": {
       "model_id": "1faa87dbe3384f949869a2138860afbe",
       "version_major": 2,
       "version_minor": 0
      },
      "text/plain": [
       "Canvas(toolbar=Toolbar(toolitems=[('Home', 'Reset original view', 'home', 'home'), ('Back', 'Back to previous …"
      ]
     },
     "metadata": {},
     "output_type": "display_data"
    }
   ],
   "source": [
    "plot_spw_summary_by_bout_rank(awk.reset_index())"
   ]
  },
  {
   "cell_type": "code",
   "execution_count": null,
   "metadata": {},
   "outputs": [],
   "source": []
  }
 ],
 "metadata": {
  "kernelspec": {
   "display_name": "Python 3",
   "language": "python",
   "name": "python3"
  },
  "language_info": {
   "codemirror_mode": {
    "name": "ipython",
    "version": 3
   },
   "file_extension": ".py",
   "mimetype": "text/x-python",
   "name": "python",
   "nbconvert_exporter": "python",
   "pygments_lexer": "ipython3",
   "version": "3.7.9"
  }
 },
 "nbformat": 4,
 "nbformat_minor": 4
}
