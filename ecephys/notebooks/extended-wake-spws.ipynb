{
 "cells": [
  {
   "cell_type": "code",
   "execution_count": 280,
   "metadata": {
    "execution": {
     "iopub.execute_input": "2021-01-08T17:48:51.944697Z",
     "iopub.status.busy": "2021-01-08T17:48:51.944202Z",
     "iopub.status.idle": "2021-01-08T17:48:51.968327Z",
     "shell.execute_reply": "2021-01-08T17:48:51.967671Z",
     "shell.execute_reply.started": "2021-01-08T17:48:51.944638Z"
    }
   },
   "outputs": [
    {
     "name": "stdout",
     "output_type": "stream",
     "text": [
      "The autoreload extension is already loaded. To reload it, use:\n",
      "  %reload_ext autoreload\n"
     ]
    }
   ],
   "source": [
    "%load_ext autoreload\n",
    "%autoreload 2"
   ]
  },
  {
   "cell_type": "code",
   "execution_count": 281,
   "metadata": {
    "execution": {
     "iopub.execute_input": "2021-01-08T17:48:52.097921Z",
     "iopub.status.busy": "2021-01-08T17:48:52.097492Z",
     "iopub.status.idle": "2021-01-08T17:48:52.132036Z",
     "shell.execute_reply": "2021-01-08T17:48:52.131348Z",
     "shell.execute_reply.started": "2021-01-08T17:48:52.097865Z"
    }
   },
   "outputs": [],
   "source": [
    "%matplotlib widget\n",
    "import matplotlib.pyplot as plt\n",
    "import seaborn as sns"
   ]
  },
  {
   "cell_type": "code",
   "execution_count": 282,
   "metadata": {
    "execution": {
     "iopub.execute_input": "2021-01-08T17:48:53.795424Z",
     "iopub.status.busy": "2021-01-08T17:48:53.794934Z",
     "iopub.status.idle": "2021-01-08T17:48:53.817495Z",
     "shell.execute_reply": "2021-01-08T17:48:53.816729Z",
     "shell.execute_reply.started": "2021-01-08T17:48:53.795363Z"
    }
   },
   "outputs": [],
   "source": [
    "import numpy as np\n",
    "import pandas as pd"
   ]
  },
  {
   "cell_type": "code",
   "execution_count": 283,
   "metadata": {
    "execution": {
     "iopub.execute_input": "2021-01-08T17:48:54.665501Z",
     "iopub.status.busy": "2021-01-08T17:48:54.665368Z",
     "iopub.status.idle": "2021-01-08T17:48:54.682651Z",
     "shell.execute_reply": "2021-01-08T17:48:54.682215Z",
     "shell.execute_reply.started": "2021-01-08T17:48:54.665484Z"
    }
   },
   "outputs": [],
   "source": [
    "from ecephys.data import paths\n",
    "from ecephys.scoring import load_visbrain_hypnogram, filter_states\n",
    "from ecephys.signal.sharp_wave_ripples import load_sharp_waves, get_events_in_interval\n",
    "import ecephys.plot as eplt"
   ]
  },
  {
   "cell_type": "code",
   "execution_count": 300,
   "metadata": {
    "execution": {
     "iopub.execute_input": "2021-01-08T18:36:03.228430Z",
     "iopub.status.busy": "2021-01-08T18:36:03.227993Z",
     "iopub.status.idle": "2021-01-08T18:36:03.248740Z",
     "shell.execute_reply": "2021-01-08T18:36:03.247985Z",
     "shell.execute_reply.started": "2021-01-08T18:36:03.228373Z"
    }
   },
   "outputs": [],
   "source": [
    "SUBJECT = \"Segundo\"\n",
    "CONDITIONS = [\"REC-6-4\", \"REC-4-2\", \"REC-2-0\"]\n",
    "RECORDING_LENGTHS = [7200, 7200, 7200]"
   ]
  },
  {
   "cell_type": "code",
   "execution_count": 301,
   "metadata": {
    "execution": {
     "iopub.execute_input": "2021-01-08T18:36:04.209811Z",
     "iopub.status.busy": "2021-01-08T18:36:04.209455Z",
     "iopub.status.idle": "2021-01-08T18:36:04.287744Z",
     "shell.execute_reply": "2021-01-08T18:36:04.286864Z",
     "shell.execute_reply.started": "2021-01-08T18:36:04.209758Z"
    }
   },
   "outputs": [],
   "source": [
    "ew_hypnograms = [load_visbrain_hypnogram(subject=SUBJECT, condition=condition) for condition in CONDITIONS]"
   ]
  },
  {
   "cell_type": "code",
   "execution_count": 302,
   "metadata": {
    "execution": {
     "iopub.execute_input": "2021-01-08T18:36:04.744788Z",
     "iopub.status.busy": "2021-01-08T18:36:04.744398Z",
     "iopub.status.idle": "2021-01-08T18:36:04.765447Z",
     "shell.execute_reply": "2021-01-08T18:36:04.764707Z",
     "shell.execute_reply.started": "2021-01-08T18:36:04.744737Z"
    }
   },
   "outputs": [],
   "source": [
    "def concatenate_hypnograms(hypnograms, recording_lengths):\n",
    "    for i in range(1, len(hypnograms)):\n",
    "        hypnograms[i]['start_time'] = hypnograms[i]['start_time'] + np.cumsum(recording_lengths)[i - 1]\n",
    "        hypnograms[i]['end_time'] = hypnograms[i]['end_time'] + np.cumsum(recording_lengths)[i - 1]\n",
    "    \n",
    "    return pd.concat(hypnograms).reset_index(drop=True)"
   ]
  },
  {
   "cell_type": "code",
   "execution_count": 303,
   "metadata": {
    "execution": {
     "iopub.execute_input": "2021-01-08T18:36:05.192342Z",
     "iopub.status.busy": "2021-01-08T18:36:05.192097Z",
     "iopub.status.idle": "2021-01-08T18:36:05.212938Z",
     "shell.execute_reply": "2021-01-08T18:36:05.212227Z",
     "shell.execute_reply.started": "2021-01-08T18:36:05.192310Z"
    }
   },
   "outputs": [],
   "source": [
    "hypnogram = concatenate_hypnograms(ew_hypnograms, RECORDING_LENGTHS)"
   ]
  },
  {
   "cell_type": "code",
   "execution_count": 304,
   "metadata": {
    "execution": {
     "iopub.execute_input": "2021-01-08T18:36:05.607797Z",
     "iopub.status.busy": "2021-01-08T18:36:05.607650Z",
     "iopub.status.idle": "2021-01-08T18:36:05.793937Z",
     "shell.execute_reply": "2021-01-08T18:36:05.793417Z",
     "shell.execute_reply.started": "2021-01-08T18:36:05.607779Z"
    }
   },
   "outputs": [],
   "source": [
    "ew_spws = [load_sharp_waves(subject=SUBJECT, condition=condition) for condition in CONDITIONS]"
   ]
  },
  {
   "cell_type": "code",
   "execution_count": 305,
   "metadata": {
    "execution": {
     "iopub.execute_input": "2021-01-08T18:36:06.015934Z",
     "iopub.status.busy": "2021-01-08T18:36:06.015794Z",
     "iopub.status.idle": "2021-01-08T18:36:06.034329Z",
     "shell.execute_reply": "2021-01-08T18:36:06.033571Z",
     "shell.execute_reply.started": "2021-01-08T18:36:06.015918Z"
    }
   },
   "outputs": [],
   "source": [
    "def concatenate_sharp_waves(spws_list, recording_lengths):\n",
    "    for i in range(1, len(spws_list)):\n",
    "        spws_list[i]['start_time'] = spws_list[i]['start_time'] + np.cumsum(recording_lengths)[i - 1]\n",
    "        spws_list[i]['end_time'] = spws_list[i]['end_time'] + np.cumsum(recording_lengths)[i - 1]\n",
    "        spws_list[i]['midpoint'] = spws_list[i]['midpoint'] + np.cumsum(recording_lengths)[i - 1]\n",
    "    \n",
    "    spws = pd.concat(spws_list).reset_index(drop=True)\n",
    "    spws.index += 1\n",
    "    spws.index = spws.index.rename('spw_number')\n",
    "    \n",
    "    return spws"
   ]
  },
  {
   "cell_type": "code",
   "execution_count": 306,
   "metadata": {
    "execution": {
     "iopub.execute_input": "2021-01-08T18:36:06.480272Z",
     "iopub.status.busy": "2021-01-08T18:36:06.480011Z",
     "iopub.status.idle": "2021-01-08T18:36:06.499933Z",
     "shell.execute_reply": "2021-01-08T18:36:06.499555Z",
     "shell.execute_reply.started": "2021-01-08T18:36:06.480238Z"
    }
   },
   "outputs": [],
   "source": [
    "spws = concatenate_sharp_waves(ew_spws, RECORDING_LENGTHS)"
   ]
  },
  {
   "cell_type": "code",
   "execution_count": 307,
   "metadata": {
    "execution": {
     "iopub.execute_input": "2021-01-08T18:36:06.935551Z",
     "iopub.status.busy": "2021-01-08T18:36:06.935414Z",
     "iopub.status.idle": "2021-01-08T18:36:06.958060Z",
     "shell.execute_reply": "2021-01-08T18:36:06.957716Z",
     "shell.execute_reply.started": "2021-01-08T18:36:06.935534Z"
    }
   },
   "outputs": [],
   "source": [
    "def plot_spw_summary(spws, hypnogram, binwidth=10, figsize=(20, 8)):\n",
    "    fig, (density_ax, duration_ax, amplitude_ax, integral_ax) = plt.subplots(4, 1, figsize=figsize)\n",
    "    eplt.plot_spw_density(spws, binwidth=binwidth, ax=density_ax)\n",
    "    spws.plot.scatter(x='start_time', y='duration', ax=duration_ax, title='Event duration (s)', s=1)\n",
    "    spws.plot.scatter(x='start_time', y='sink_amplitude', ax=amplitude_ax, title='Sink amplitude (mA/mm)', s=1)\n",
    "    spws.plot.scatter(x='start_time', y='sink_integral', ax=integral_ax, title='Sink integral (mA * ms)', s=1)\n",
    "    for ax in (density_ax, duration_ax, amplitude_ax, integral_ax):\n",
    "        ax.set_xlim(density_ax.get_xlim())\n",
    "        ax.set_xticks(density_ax.get_xticks())\n",
    "        ax.set_xticklabels(density_ax.get_xticklabels())\n",
    "        ax.set_xlabel(density_ax.get_xlabel())\n",
    "        eplt.plot_hypnogram_overlay(hypnogram, ax=ax)\n",
    "    plt.tight_layout()"
   ]
  },
  {
   "cell_type": "code",
   "execution_count": 308,
   "metadata": {
    "execution": {
     "iopub.execute_input": "2021-01-08T18:36:07.401450Z",
     "iopub.status.busy": "2021-01-08T18:36:07.401205Z",
     "iopub.status.idle": "2021-01-08T18:36:09.233397Z",
     "shell.execute_reply": "2021-01-08T18:36:09.232685Z",
     "shell.execute_reply.started": "2021-01-08T18:36:07.401419Z"
    }
   },
   "outputs": [
    {
     "data": {
      "application/vnd.jupyter.widget-view+json": {
       "model_id": "7b7799dd39ad4df286b59184c8455195",
       "version_major": 2,
       "version_minor": 0
      },
      "text/plain": [
       "Canvas(toolbar=Toolbar(toolitems=[('Home', 'Reset original view', 'home', 'home'), ('Back', 'Back to previous …"
      ]
     },
     "metadata": {},
     "output_type": "display_data"
    }
   ],
   "source": [
    "plot_spw_summary(spws, hypnogram)"
   ]
  },
  {
   "cell_type": "code",
   "execution_count": 309,
   "metadata": {
    "execution": {
     "iopub.execute_input": "2021-01-08T18:36:10.640755Z",
     "iopub.status.busy": "2021-01-08T18:36:10.640623Z",
     "iopub.status.idle": "2021-01-08T18:36:10.656452Z",
     "shell.execute_reply": "2021-01-08T18:36:10.655693Z",
     "shell.execute_reply.started": "2021-01-08T18:36:10.640738Z"
    }
   },
   "outputs": [],
   "source": [
    "def add_spw_properties_to_hypnogram(spws, hypnogram):\n",
    "    for i, bout in hypnogram.iterrows():\n",
    "        bout_events = get_events_in_interval(spws, bout.start_time, bout.end_time)\n",
    "        hypnogram.at[i, 'spw_density'] = len(bout_events) / bout.duration\n",
    "        hypnogram.at[i, 'mean_duration'] = bout_events.duration.mean()\n",
    "        hypnogram.at[i, 'mean_sink_amplitude'] = bout_events.sink_amplitude.mean()\n",
    "        hypnogram.at[i, 'mean_sink_integral'] = bout_events.sink_integral.mean()\n",
    "    \n",
    "    hypnogram.fillna(value=0, inplace=True)"
   ]
  },
  {
   "cell_type": "code",
   "execution_count": 310,
   "metadata": {
    "execution": {
     "iopub.execute_input": "2021-01-08T18:36:10.657381Z",
     "iopub.status.busy": "2021-01-08T18:36:10.657254Z",
     "iopub.status.idle": "2021-01-08T18:36:11.022209Z",
     "shell.execute_reply": "2021-01-08T18:36:11.021077Z",
     "shell.execute_reply.started": "2021-01-08T18:36:10.657365Z"
    }
   },
   "outputs": [],
   "source": [
    "add_spw_properties_to_hypnogram(spws, hypnogram)"
   ]
  },
  {
   "cell_type": "code",
   "execution_count": 311,
   "metadata": {
    "execution": {
     "iopub.execute_input": "2021-01-08T18:36:11.029256Z",
     "iopub.status.busy": "2021-01-08T18:36:11.029127Z",
     "iopub.status.idle": "2021-01-08T18:36:11.040820Z",
     "shell.execute_reply": "2021-01-08T18:36:11.040197Z",
     "shell.execute_reply.started": "2021-01-08T18:36:11.029240Z"
    }
   },
   "outputs": [],
   "source": [
    "qwk = filter_states(hypnogram, ['qWk']).reset_index(drop=True)"
   ]
  },
  {
   "cell_type": "code",
   "execution_count": 312,
   "metadata": {
    "execution": {
     "iopub.execute_input": "2021-01-08T18:36:11.042780Z",
     "iopub.status.busy": "2021-01-08T18:36:11.042662Z",
     "iopub.status.idle": "2021-01-08T18:36:11.059751Z",
     "shell.execute_reply": "2021-01-08T18:36:11.059413Z",
     "shell.execute_reply.started": "2021-01-08T18:36:11.042765Z"
    }
   },
   "outputs": [],
   "source": [
    "def plot_spw_summary_by_bout_rank(hypnogram, figsize=(20, 8)):\n",
    "    fig, (density_ax, duration_ax, amplitude_ax, integral_ax) = plt.subplots(4, 1, figsize=figsize)\n",
    "    \n",
    "    hypnogram.plot.scatter(x='index', y='spw_density', ax=density_ax, title='SPW density (Hz)', s=1)\n",
    "    hypnogram.plot.scatter(x='index', y='mean_duration', ax=duration_ax, title='Event duration (s)', s=1)\n",
    "    hypnogram.plot.scatter(x='index', y='mean_sink_amplitude', ax=amplitude_ax, title='Sink amplitude (mA/mm)', s=1)\n",
    "    hypnogram.plot.scatter(x='index', y='mean_sink_integral', ax=integral_ax, title='Sink integral (mA * ms)', s=1)\n",
    "    for ax in (density_ax, duration_ax, amplitude_ax, integral_ax):\n",
    "        ax.set_xlabel('Bout rank')\n",
    "    plt.tight_layout()"
   ]
  },
  {
   "cell_type": "code",
   "execution_count": 313,
   "metadata": {
    "execution": {
     "iopub.execute_input": "2021-01-08T18:36:11.061480Z",
     "iopub.status.busy": "2021-01-08T18:36:11.061352Z",
     "iopub.status.idle": "2021-01-08T18:36:11.226853Z",
     "shell.execute_reply": "2021-01-08T18:36:11.226263Z",
     "shell.execute_reply.started": "2021-01-08T18:36:11.061464Z"
    }
   },
   "outputs": [
    {
     "data": {
      "application/vnd.jupyter.widget-view+json": {
       "model_id": "b2b93f72d0744ec8a2a82c62cb9aa083",
       "version_major": 2,
       "version_minor": 0
      },
      "text/plain": [
       "Canvas(toolbar=Toolbar(toolitems=[('Home', 'Reset original view', 'home', 'home'), ('Back', 'Back to previous …"
      ]
     },
     "metadata": {},
     "output_type": "display_data"
    }
   ],
   "source": [
    "plot_spw_summary_by_bout_rank(qwk.reset_index())"
   ]
  },
  {
   "cell_type": "code",
   "execution_count": 314,
   "metadata": {
    "execution": {
     "iopub.execute_input": "2021-01-08T18:36:11.379291Z",
     "iopub.status.busy": "2021-01-08T18:36:11.379168Z",
     "iopub.status.idle": "2021-01-08T18:36:11.390775Z",
     "shell.execute_reply": "2021-01-08T18:36:11.390033Z",
     "shell.execute_reply.started": "2021-01-08T18:36:11.379276Z"
    }
   },
   "outputs": [],
   "source": [
    "awk = filter_states(hypnogram, ['aWk']).reset_index(drop=True)"
   ]
  },
  {
   "cell_type": "code",
   "execution_count": 315,
   "metadata": {
    "execution": {
     "iopub.execute_input": "2021-01-08T18:36:12.260241Z",
     "iopub.status.busy": "2021-01-08T18:36:12.260119Z",
     "iopub.status.idle": "2021-01-08T18:36:12.440420Z",
     "shell.execute_reply": "2021-01-08T18:36:12.439810Z",
     "shell.execute_reply.started": "2021-01-08T18:36:12.260225Z"
    }
   },
   "outputs": [
    {
     "data": {
      "application/vnd.jupyter.widget-view+json": {
       "model_id": "43d72e5ca1f54390adf01e5a6f579431",
       "version_major": 2,
       "version_minor": 0
      },
      "text/plain": [
       "Canvas(toolbar=Toolbar(toolitems=[('Home', 'Reset original view', 'home', 'home'), ('Back', 'Back to previous …"
      ]
     },
     "metadata": {},
     "output_type": "display_data"
    }
   ],
   "source": [
    "plot_spw_summary_by_bout_rank(awk.reset_index())"
   ]
  },
  {
   "cell_type": "code",
   "execution_count": null,
   "metadata": {},
   "outputs": [],
   "source": []
  }
 ],
 "metadata": {
  "kernelspec": {
   "display_name": "Python 3",
   "language": "python",
   "name": "python3"
  },
  "language_info": {
   "codemirror_mode": {
    "name": "ipython",
    "version": 3
   },
   "file_extension": ".py",
   "mimetype": "text/x-python",
   "name": "python",
   "nbconvert_exporter": "python",
   "pygments_lexer": "ipython3",
   "version": "3.7.9"
  }
 },
 "nbformat": 4,
 "nbformat_minor": 4
}
