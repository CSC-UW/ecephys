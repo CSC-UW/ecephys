{
 "cells": [
  {
   "cell_type": "markdown",
   "metadata": {},
   "source": [
    "## EMGfromLFP"
   ]
  },
  {
   "cell_type": "code",
   "execution_count": 1,
   "metadata": {
    "execution": {
     "iopub.execute_input": "2021-01-08T02:08:12.017717Z",
     "iopub.status.busy": "2021-01-08T02:08:12.017228Z",
     "iopub.status.idle": "2021-01-08T02:08:12.032355Z",
     "shell.execute_reply": "2021-01-08T02:08:12.031703Z",
     "shell.execute_reply.started": "2021-01-08T02:08:12.017658Z"
    }
   },
   "outputs": [],
   "source": [
    "%load_ext autoreload\n",
    "%autoreload 2"
   ]
  },
  {
   "cell_type": "code",
   "execution_count": 2,
   "metadata": {
    "execution": {
     "iopub.execute_input": "2021-01-08T02:08:12.974795Z",
     "iopub.status.busy": "2021-01-08T02:08:12.974499Z",
     "iopub.status.idle": "2021-01-08T02:08:13.395162Z",
     "shell.execute_reply": "2021-01-08T02:08:13.394449Z",
     "shell.execute_reply.started": "2021-01-08T02:08:12.974760Z"
    }
   },
   "outputs": [],
   "source": [
    "from pathlib import Path\n",
    "import numpy as np\n",
    "import pandas as pd\n",
    "import matplotlib.pyplot as plt\n",
    "import time\n",
    "import xarray as xr"
   ]
  },
  {
   "cell_type": "code",
   "execution_count": 3,
   "metadata": {
    "execution": {
     "iopub.execute_input": "2021-01-08T02:08:13.526686Z",
     "iopub.status.busy": "2021-01-08T02:08:13.526468Z",
     "iopub.status.idle": "2021-01-08T02:08:13.543123Z",
     "shell.execute_reply": "2021-01-08T02:08:13.542510Z",
     "shell.execute_reply.started": "2021-01-08T02:08:13.526660Z"
    }
   },
   "outputs": [],
   "source": [
    "from neurodsp.plts.time_series import plot_time_series"
   ]
  },
  {
   "cell_type": "code",
   "execution_count": 4,
   "metadata": {
    "execution": {
     "iopub.execute_input": "2021-01-08T02:08:13.997310Z",
     "iopub.status.busy": "2021-01-08T02:08:13.997078Z",
     "iopub.status.idle": "2021-01-08T02:08:14.231545Z",
     "shell.execute_reply": "2021-01-08T02:08:14.230857Z",
     "shell.execute_reply.started": "2021-01-08T02:08:13.997284Z"
    }
   },
   "outputs": [],
   "source": [
    "from ecephys.emg_from_lfp import compute_EMG\n",
    "from ecephys.data import channel_groups, paths\n",
    "from ecephys.sglx_utils import load_timeseries\n",
    "from ecephys.scoring import load_visbrain_hypnogram\n",
    "from ecephys.plot import plot_hypnogram_overlay"
   ]
  },
  {
   "cell_type": "code",
   "execution_count": 61,
   "metadata": {
    "execution": {
     "iopub.execute_input": "2021-01-08T18:23:55.872568Z",
     "iopub.status.busy": "2021-01-08T18:23:55.872073Z",
     "iopub.status.idle": "2021-01-08T18:23:55.898496Z",
     "shell.execute_reply": "2021-01-08T18:23:55.897843Z",
     "shell.execute_reply.started": "2021-01-08T18:23:55.872505Z"
    }
   },
   "outputs": [],
   "source": [
    "SUBJECT = \"Segundo\"\n",
    "CONDITION = \"REC-2-0\"\n",
    "START_TIME = 0\n",
    "END_TIME = None\n",
    "bin_path = paths.get_datapath(subject=SUBJECT, condition=CONDITION, data=\"lf.bin\")"
   ]
  },
  {
   "cell_type": "code",
   "execution_count": 62,
   "metadata": {
    "execution": {
     "iopub.execute_input": "2021-01-08T18:23:56.625640Z",
     "iopub.status.busy": "2021-01-08T18:23:56.625290Z",
     "iopub.status.idle": "2021-01-08T18:26:00.284288Z",
     "shell.execute_reply": "2021-01-08T18:26:00.283041Z",
     "shell.execute_reply.started": "2021-01-08T18:23:56.625591Z"
    }
   },
   "outputs": [
    {
     "name": "stdout",
     "output_type": "stream",
     "text": [
      "nChan: 385, nFileSamp: 18000001\n"
     ]
    }
   ],
   "source": [
    "emg_chans = channel_groups.emg[SUBJECT]\n",
    "emg_sig = load_timeseries(bin_path, emg_chans, start_time=START_TIME, end_time=END_TIME, xarray=True)"
   ]
  },
  {
   "cell_type": "code",
   "execution_count": 63,
   "metadata": {
    "execution": {
     "iopub.execute_input": "2021-01-08T18:26:00.311739Z",
     "iopub.status.busy": "2021-01-08T18:26:00.311609Z",
     "iopub.status.idle": "2021-01-08T18:32:00.433606Z",
     "shell.execute_reply": "2021-01-08T18:32:00.432783Z",
     "shell.execute_reply.started": "2021-01-08T18:26:00.311723Z"
    }
   },
   "outputs": [
    {
     "name": "stdout",
     "output_type": "stream",
     "text": [
      "Filtering LFP with wp=[300, 600], ws=[275, 625], gpass=1, gstop=60,filter type=butter\n",
      "Computing EMG from filtered LFP...\n",
      "target sf = 20, window size = 25.0, LFP sf=2500.0, LFP nchans = 3\n"
     ]
    },
    {
     "data": {
      "application/vnd.jupyter.widget-view+json": {
       "model_id": "cab4390ae52d45d8ba1d00f07c920de1",
       "version_major": 2,
       "version_minor": 0
      },
      "text/plain": [
       "HBox(children=(HTML(value='XCorr: Iterate on channel pairs'), FloatProgress(value=0.0, max=3.0), HTML(value=''…"
      ]
     },
     "metadata": {},
     "output_type": "display_data"
    },
    {
     "data": {
      "application/vnd.jupyter.widget-view+json": {
       "model_id": "fae2807aeaa04b4cabba2913c45682c8",
       "version_major": 2,
       "version_minor": 0
      },
      "text/plain": [
       "HBox(children=(HTML(value='XCorr: Iterate on windows'), FloatProgress(value=0.0, max=144001.0), HTML(value='')…"
      ]
     },
     "metadata": {},
     "output_type": "display_data"
    },
    {
     "name": "stdout",
     "output_type": "stream",
     "text": [
      "\n"
     ]
    },
    {
     "data": {
      "application/vnd.jupyter.widget-view+json": {
       "model_id": "67c53bc692034f7998496c16b4997727",
       "version_major": 2,
       "version_minor": 0
      },
      "text/plain": [
       "HBox(children=(HTML(value='XCorr: Iterate on windows'), FloatProgress(value=0.0, max=144001.0), HTML(value='')…"
      ]
     },
     "metadata": {},
     "output_type": "display_data"
    },
    {
     "name": "stdout",
     "output_type": "stream",
     "text": [
      "\n"
     ]
    },
    {
     "data": {
      "application/vnd.jupyter.widget-view+json": {
       "model_id": "2b72164dd1434d828e730fdc2b7edbb5",
       "version_major": 2,
       "version_minor": 0
      },
      "text/plain": [
       "HBox(children=(HTML(value='XCorr: Iterate on windows'), FloatProgress(value=0.0, max=144001.0), HTML(value='')…"
      ]
     },
     "metadata": {},
     "output_type": "display_data"
    },
    {
     "name": "stdout",
     "output_type": "stream",
     "text": [
      "\n",
      "\n",
      "Done!\n"
     ]
    }
   ],
   "source": [
    "emg_opts = dict(target_sf=20, window_size=25.0, wp=[300, 600], ws=[275, 625], gpass=1, gstop=60, ftype='butter')\n",
    "emg_values = compute_EMG(emg_sig.values.T, emg_sig.fs, **emg_opts).T"
   ]
  },
  {
   "cell_type": "code",
   "execution_count": 64,
   "metadata": {
    "execution": {
     "iopub.execute_input": "2021-01-08T18:32:00.435714Z",
     "iopub.status.busy": "2021-01-08T18:32:00.435468Z",
     "iopub.status.idle": "2021-01-08T18:32:00.521081Z",
     "shell.execute_reply": "2021-01-08T18:32:00.520446Z",
     "shell.execute_reply.started": "2021-01-08T18:32:00.435679Z"
    }
   },
   "outputs": [],
   "source": [
    "emg_times = np.linspace(np.min(emg_sig.time), np.max(emg_sig.time), len(emg_values)) + START_TIME"
   ]
  },
  {
   "cell_type": "code",
   "execution_count": 65,
   "metadata": {
    "execution": {
     "iopub.execute_input": "2021-01-08T18:32:00.522439Z",
     "iopub.status.busy": "2021-01-08T18:32:00.522213Z",
     "iopub.status.idle": "2021-01-08T18:32:00.545265Z",
     "shell.execute_reply": "2021-01-08T18:32:00.544862Z",
     "shell.execute_reply.started": "2021-01-08T18:32:00.522409Z"
    }
   },
   "outputs": [],
   "source": [
    "emg = xr.DataArray(emg_values.flatten(), dims=\"time\", coords={\"time\": emg_times})\n",
    "emg.attrs['long_name'] = 'EMG'\n",
    "emg.attrs['units'] = 'zero-lag correlation'\n",
    "for key in emg_opts:\n",
    "    emg.attrs[key] = emg_opts[key]"
   ]
  },
  {
   "cell_type": "code",
   "execution_count": 66,
   "metadata": {
    "execution": {
     "iopub.execute_input": "2021-01-08T18:32:00.545956Z",
     "iopub.status.busy": "2021-01-08T18:32:00.545826Z",
     "iopub.status.idle": "2021-01-08T18:32:00.721287Z",
     "shell.execute_reply": "2021-01-08T18:32:00.720786Z",
     "shell.execute_reply.started": "2021-01-08T18:32:00.545940Z"
    }
   },
   "outputs": [
    {
     "data": {
      "image/png": "[encoded data removed]",
      "text/plain": [
       "<Figure size 1728x216 with 1 Axes>"
      ]
     },
     "metadata": {
      "needs_background": "light"
     },
     "output_type": "display_data"
    }
   ],
   "source": [
    "_, ax = plt.subplots(figsize=(24, 3))\n",
    "plot_time_series(emg.time.values, emg.values, ax=ax)\n",
    "#plot_hypnogram_overlay(hypno, ax=ax)"
   ]
  },
  {
   "cell_type": "markdown",
   "metadata": {},
   "source": [
    "### Save"
   ]
  },
  {
   "cell_type": "code",
   "execution_count": 67,
   "metadata": {
    "execution": {
     "iopub.execute_input": "2021-01-08T18:32:00.722079Z",
     "iopub.status.busy": "2021-01-08T18:32:00.721939Z",
     "iopub.status.idle": "2021-01-08T18:32:00.733960Z",
     "shell.execute_reply": "2021-01-08T18:32:00.733407Z",
     "shell.execute_reply.started": "2021-01-08T18:32:00.722054Z"
    }
   },
   "outputs": [],
   "source": [
    "emg_ds = xr.Dataset({\"emg\": emg})"
   ]
  },
  {
   "cell_type": "code",
   "execution_count": 68,
   "metadata": {
    "execution": {
     "iopub.execute_input": "2021-01-08T18:32:00.735224Z",
     "iopub.status.busy": "2021-01-08T18:32:00.735089Z",
     "iopub.status.idle": "2021-01-08T18:32:00.793199Z",
     "shell.execute_reply": "2021-01-08T18:32:00.792072Z",
     "shell.execute_reply.started": "2021-01-08T18:32:00.735207Z"
    }
   },
   "outputs": [],
   "source": [
    "emg_ds.to_netcdf(paths.get_datapath(subject=SUBJECT, condition=CONDITION, data=\"emg.nc\"))"
   ]
  },
  {
   "cell_type": "code",
   "execution_count": 69,
   "metadata": {
    "execution": {
     "iopub.execute_input": "2021-01-08T18:32:00.795533Z",
     "iopub.status.busy": "2021-01-08T18:32:00.795175Z",
     "iopub.status.idle": "2021-01-08T18:32:00.809459Z",
     "shell.execute_reply": "2021-01-08T18:32:00.808890Z",
     "shell.execute_reply.started": "2021-01-08T18:32:00.795486Z"
    }
   },
   "outputs": [],
   "source": [
    "emg_ds.close()"
   ]
  },
  {
   "cell_type": "code",
   "execution_count": null,
   "metadata": {},
   "outputs": [],
   "source": []
  }
 ],
 "metadata": {
  "kernelspec": {
   "display_name": "Python 3",
   "language": "python",
   "name": "python3"
  },
  "language_info": {
   "codemirror_mode": {
    "name": "ipython",
    "version": 3
   },
   "file_extension": ".py",
   "mimetype": "text/x-python",
   "name": "python",
   "nbconvert_exporter": "python",
   "pygments_lexer": "ipython3",
   "version": "3.7.9"
  }
 },
 "nbformat": 4,
 "nbformat_minor": 4
}
