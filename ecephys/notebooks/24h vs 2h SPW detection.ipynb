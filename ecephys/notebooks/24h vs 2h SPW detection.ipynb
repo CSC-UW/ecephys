{
 "cells": [
  {
   "cell_type": "markdown",
   "metadata": {},
   "source": [
    "- Time to load 24 hours of data = 1 hr. \n",
    "- Time to compute 24 hours of CSD = <5 minutes. \n",
    "- Time to validate 24 hours of CSD = 2 hours, 20 min. \n",
    "    - Memory footprint tripled during computation. \n",
    "- Time to detect 24 hours of sharp waves = 4h\n",
    "- Time to compute 24 hours of sharp wave properties = 24h\n",
    "- 24 hour detection is not prohibitively expensive, provided that computation of sharp-wave properties can be parallelized\n"
   ]
  },
  {
   "cell_type": "code",
   "execution_count": 1,
   "metadata": {
    "execution": {
     "iopub.execute_input": "2021-01-03T17:46:00.618908Z",
     "iopub.status.busy": "2021-01-03T17:46:00.618446Z",
     "iopub.status.idle": "2021-01-03T17:46:00.638354Z",
     "shell.execute_reply": "2021-01-03T17:46:00.637747Z",
     "shell.execute_reply.started": "2021-01-03T17:46:00.618851Z"
    }
   },
   "outputs": [],
   "source": [
    "%load_ext autoreload\n",
    "%autoreload 2"
   ]
  },
  {
   "cell_type": "code",
   "execution_count": 2,
   "metadata": {
    "execution": {
     "iopub.execute_input": "2021-01-03T17:46:00.969582Z",
     "iopub.status.busy": "2021-01-03T17:46:00.969301Z",
     "iopub.status.idle": "2021-01-03T17:46:01.126625Z",
     "shell.execute_reply": "2021-01-03T17:46:01.125901Z",
     "shell.execute_reply.started": "2021-01-03T17:46:00.969523Z"
    }
   },
   "outputs": [],
   "source": [
    "%matplotlib widget\n",
    "import matplotlib.pyplot as plt"
   ]
  },
  {
   "cell_type": "code",
   "execution_count": 30,
   "metadata": {
    "execution": {
     "iopub.execute_input": "2021-01-03T17:56:56.774083Z",
     "iopub.status.busy": "2021-01-03T17:56:56.773620Z",
     "iopub.status.idle": "2021-01-03T17:56:56.888351Z",
     "shell.execute_reply": "2021-01-03T17:56:56.887694Z",
     "shell.execute_reply.started": "2021-01-03T17:56:56.774026Z"
    }
   },
   "outputs": [],
   "source": [
    "import numpy as np\n",
    "import pandas as pd\n",
    "import seaborn as sns"
   ]
  },
  {
   "cell_type": "code",
   "execution_count": 1,
   "metadata": {
    "execution": {
     "iopub.execute_input": "2021-01-04T23:52:23.628617Z",
     "iopub.status.busy": "2021-01-04T23:52:23.628189Z",
     "iopub.status.idle": "2021-01-04T23:52:24.199795Z",
     "shell.execute_reply": "2021-01-04T23:52:24.199005Z",
     "shell.execute_reply.started": "2021-01-04T23:52:23.628563Z"
    }
   },
   "outputs": [],
   "source": [
    "from ecephys.data import paths\n",
    "from ecephys.utils.utils import load_df_h5\n",
    "from ecephys.signal.sharp_wave_ripples import add_states_to_events\n",
    "import ecephys.plot as eplt"
   ]
  },
  {
   "cell_type": "code",
   "execution_count": 18,
   "metadata": {
    "execution": {
     "iopub.execute_input": "2021-01-03T17:50:34.632609Z",
     "iopub.status.busy": "2021-01-03T17:50:34.632163Z",
     "iopub.status.idle": "2021-01-03T17:50:34.654250Z",
     "shell.execute_reply": "2021-01-03T17:50:34.653423Z",
     "shell.execute_reply.started": "2021-01-03T17:50:34.632552Z"
    }
   },
   "outputs": [],
   "source": [
    "SUBJECT = \"Doppio\"\n",
    "HOUR1 = 3600\n",
    "HOUR24 = HOUR1 * 24"
   ]
  },
  {
   "cell_type": "code",
   "execution_count": 49,
   "metadata": {
    "execution": {
     "iopub.execute_input": "2021-01-03T18:25:00.334851Z",
     "iopub.status.busy": "2021-01-03T18:25:00.334395Z",
     "iopub.status.idle": "2021-01-03T18:25:00.443022Z",
     "shell.execute_reply": "2021-01-03T18:25:00.442446Z",
     "shell.execute_reply.started": "2021-01-03T18:25:00.334795Z"
    }
   },
   "outputs": [],
   "source": [
    "from ecephys.scoring import load_visbrain_hypnogram\n",
    "from ecephys.utils.utils import load_df_h5\n",
    "\n",
    "with pd.HDFStore(paths.get_datapath(subject=SUBJECT, condition=\"BSL-6+18\", data=\"sharp_waves.h5\")) as store:\n",
    "    spws24h, spws24h_meta = load_df_h5(store)\n",
    "\n",
    "with pd.HDFStore(paths.get_datapath(subject=SUBJECT, condition=\"REC-24\", data=\"sharp_waves.h5\")) as store:\n",
    "    spws2h, spws2h_meta = load_df_h5(store)\n",
    "        \n",
    "hypno2h = load_visbrain_hypnogram(paths.get_datapath(subject=SUBJECT, condition=\"REC-24\", data=\"hypnogram.txt\"))"
   ]
  },
  {
   "cell_type": "code",
   "execution_count": 50,
   "metadata": {
    "execution": {
     "iopub.execute_input": "2021-01-03T18:25:01.096709Z",
     "iopub.status.busy": "2021-01-03T18:25:01.096251Z",
     "iopub.status.idle": "2021-01-03T18:25:04.492354Z",
     "shell.execute_reply": "2021-01-03T18:25:04.491713Z",
     "shell.execute_reply.started": "2021-01-03T18:25:01.096652Z"
    }
   },
   "outputs": [
    {
     "data": {
      "application/vnd.jupyter.widget-view+json": {
       "model_id": "99004b0edd494673b6ec64dbc0573e00",
       "version_major": 2,
       "version_minor": 0
      },
      "text/plain": [
       "Canvas(toolbar=Toolbar(toolitems=[('Home', 'Reset original view', 'home', 'home'), ('Back', 'Back to previous …"
      ]
     },
     "metadata": {},
     "output_type": "display_data"
    }
   ],
   "source": [
    "fig, ax1 = plt.subplots(figsize=(15, 4))\n",
    "g = sns.histplot(spws24h.start_time, binwidth=10, stat=\"frequency\", ax=ax1)\n",
    "g.set(xticks=[x * HOUR1 for x in range(24)], xticklabels=[str(x) for x in range(24)], xlabel=\"Hours from 9AM\", ylabel=\"Density (events per second)\", title=\"SPW Density (10s bins)\")\n",
    "plt.show(g)"
   ]
  },
  {
   "cell_type": "code",
   "execution_count": 76,
   "metadata": {
    "execution": {
     "iopub.execute_input": "2021-01-03T19:27:15.094269Z",
     "iopub.status.busy": "2021-01-03T19:27:15.094143Z",
     "iopub.status.idle": "2021-01-03T19:27:15.113516Z",
     "shell.execute_reply": "2021-01-03T19:27:15.110338Z",
     "shell.execute_reply.started": "2021-01-03T19:27:15.094252Z"
    }
   },
   "outputs": [
    {
     "ename": "NameError",
     "evalue": "name 'spws24' is not defined",
     "output_type": "error",
     "traceback": [
      "\u001b[0;31m---------------------------------------------------------------------------\u001b[0m",
      "\u001b[0;31mNameError\u001b[0m                                 Traceback (most recent call last)",
      "\u001b[0;32m<ipython-input-76-b9560592b08f>\u001b[0m in \u001b[0;36m<module>\u001b[0;34m()\u001b[0m\n\u001b[1;32m      2\u001b[0m \u001b[0;32mfrom\u001b[0m \u001b[0mecephys\u001b[0m\u001b[0;34m.\u001b[0m\u001b[0mutils\u001b[0m \u001b[0;32mimport\u001b[0m \u001b[0mdiscard_outliers\u001b[0m\u001b[0;34m\u001b[0m\u001b[0;34m\u001b[0m\u001b[0m\n\u001b[1;32m      3\u001b[0m \u001b[0;34m\u001b[0m\u001b[0m\n\u001b[0;32m----> 4\u001b[0;31m \u001b[0misi\u001b[0m \u001b[0;34m=\u001b[0m \u001b[0mdiscard_outliers\u001b[0m\u001b[0;34m(\u001b[0m\u001b[0mnp\u001b[0m\u001b[0;34m.\u001b[0m\u001b[0mdiff\u001b[0m\u001b[0;34m(\u001b[0m\u001b[0mspws24\u001b[0m\u001b[0;34m.\u001b[0m\u001b[0mmidpoint\u001b[0m\u001b[0;34m)\u001b[0m\u001b[0;34m)\u001b[0m\u001b[0;34m\u001b[0m\u001b[0;34m\u001b[0m\u001b[0m\n\u001b[0m\u001b[1;32m      5\u001b[0m \u001b[0msns\u001b[0m\u001b[0;34m.\u001b[0m\u001b[0mdisplot\u001b[0m\u001b[0;34m(\u001b[0m\u001b[0misi\u001b[0m\u001b[0;34m,\u001b[0m \u001b[0mbins\u001b[0m\u001b[0;34m=\u001b[0m\u001b[0;36m100\u001b[0m\u001b[0;34m)\u001b[0m\u001b[0;34m\u001b[0m\u001b[0;34m\u001b[0m\u001b[0m\n",
      "\u001b[0;31mNameError\u001b[0m: name 'spws24' is not defined"
     ]
    }
   ],
   "source": [
    "import seaborn as sns\n",
    "from ecephys.utils import discard_outliers\n",
    "\n",
    "isi = discard_outliers(np.diff(spws24.midpoint))\n",
    "sns.displot(isi, bins=100)"
   ]
  },
  {
   "cell_type": "markdown",
   "metadata": {},
   "source": [
    "## Explore gap in 24h detection"
   ]
  },
  {
   "cell_type": "code",
   "execution_count": 51,
   "metadata": {
    "execution": {
     "iopub.execute_input": "2021-01-03T18:25:06.131848Z",
     "iopub.status.busy": "2021-01-03T18:25:06.131620Z",
     "iopub.status.idle": "2021-01-03T18:25:06.147766Z",
     "shell.execute_reply": "2021-01-03T18:25:06.147347Z",
     "shell.execute_reply.started": "2021-01-03T18:25:06.131829Z"
    }
   },
   "outputs": [
    {
     "data": {
      "text/plain": [
       "63883.81895843165"
      ]
     },
     "execution_count": 51,
     "metadata": {},
     "output_type": "execute_result"
    }
   ],
   "source": [
    "HOUR20 = HOUR1 * 20\n",
    "spws24h[spws24h.start_time < HOUR20].start_time.max()"
   ]
  },
  {
   "cell_type": "code",
   "execution_count": 52,
   "metadata": {
    "execution": {
     "iopub.execute_input": "2021-01-03T18:25:06.148467Z",
     "iopub.status.busy": "2021-01-03T18:25:06.148342Z",
     "iopub.status.idle": "2021-01-03T18:25:06.161379Z",
     "shell.execute_reply": "2021-01-03T18:25:06.160762Z",
     "shell.execute_reply.started": "2021-01-03T18:25:06.148451Z"
    }
   },
   "outputs": [
    {
     "data": {
      "text/plain": [
       "80466.45588293196"
      ]
     },
     "execution_count": 52,
     "metadata": {},
     "output_type": "execute_result"
    }
   ],
   "source": [
    "spws24h[spws24h.start_time > HOUR20].start_time.min()"
   ]
  },
  {
   "cell_type": "code",
   "execution_count": 53,
   "metadata": {
    "execution": {
     "iopub.execute_input": "2021-01-03T18:25:06.162133Z",
     "iopub.status.busy": "2021-01-03T18:25:06.162011Z",
     "iopub.status.idle": "2021-01-03T18:25:06.173667Z",
     "shell.execute_reply": "2021-01-03T18:25:06.173091Z",
     "shell.execute_reply.started": "2021-01-03T18:25:06.162118Z"
    }
   },
   "outputs": [
    {
     "data": {
      "text/plain": [
       "16582.636924500308"
      ]
     },
     "execution_count": 53,
     "metadata": {},
     "output_type": "execute_result"
    }
   ],
   "source": [
    "80466.45588293196 - 63883.81895843165"
   ]
  },
  {
   "cell_type": "markdown",
   "metadata": {},
   "source": [
    "- Recording starts at 09:08:06 am 3/17\n",
    "- Large ~5-6Hz artifact begins at 63876.75, but disappears fairly quickly. \n",
    "- Channels go fairly flat and look transposed (!?) at 63904 (2:53:10 am 3/18). 14Hz artifact is present. \n",
    "- Signal comes back abruptly at 80451.8 (7:25:58 am 3/18). Signal looks okay after that. \n",
    "- Total outage time ~16548 seconds (4 hours, 35 minutes, 48 seconds). \n"
   ]
  },
  {
   "cell_type": "markdown",
   "metadata": {},
   "source": [
    "## Compare 24hr and 2hr detection"
   ]
  },
  {
   "cell_type": "code",
   "execution_count": 55,
   "metadata": {
    "execution": {
     "iopub.execute_input": "2021-01-03T18:25:26.222726Z",
     "iopub.status.busy": "2021-01-03T18:25:26.222611Z",
     "iopub.status.idle": "2021-01-03T18:25:26.380338Z",
     "shell.execute_reply": "2021-01-03T18:25:26.379869Z",
     "shell.execute_reply.started": "2021-01-03T18:25:26.222711Z"
    }
   },
   "outputs": [],
   "source": [
    "spws2h = add_event_states(spws2h, hypno2h)"
   ]
  },
  {
   "cell_type": "code",
   "execution_count": 56,
   "metadata": {
    "execution": {
     "iopub.execute_input": "2021-01-03T18:25:26.384977Z",
     "iopub.status.busy": "2021-01-03T18:25:26.384864Z",
     "iopub.status.idle": "2021-01-03T18:25:26.397672Z",
     "shell.execute_reply": "2021-01-03T18:25:26.397215Z",
     "shell.execute_reply.started": "2021-01-03T18:25:26.384963Z"
    }
   },
   "outputs": [],
   "source": [
    "rem_spws2h = spws2h[spws2h['state'] == \"REM\"].reset_index()\n",
    "rem_spws2h.index += 1"
   ]
  },
  {
   "cell_type": "code",
   "execution_count": 57,
   "metadata": {
    "execution": {
     "iopub.execute_input": "2021-01-03T18:25:37.396885Z",
     "iopub.status.busy": "2021-01-03T18:25:37.396449Z",
     "iopub.status.idle": "2021-01-03T18:25:45.515525Z",
     "shell.execute_reply": "2021-01-03T18:25:45.514966Z",
     "shell.execute_reply.started": "2021-01-03T18:25:37.396830Z"
    }
   },
   "outputs": [
    {
     "data": {
      "application/vnd.jupyter.widget-view+json": {
       "model_id": "aa2405afbdf44bd49aed3edeab953b88",
       "version_major": 2,
       "version_minor": 0
      },
      "text/plain": [
       "Canvas(toolbar=Toolbar(toolitems=[('Home', 'Reset original view', 'home', 'home'), ('Back', 'Back to previous …"
      ]
     },
     "metadata": {},
     "output_type": "display_data"
    },
    {
     "data": {
      "application/vnd.jupyter.widget-view+json": {
       "model_id": "e98ffdd1d2af4f288501dd88d3e85eaf",
       "version_major": 2,
       "version_minor": 0
      },
      "text/plain": [
       "HBox(children=(FloatSlider(value=1.0, description='Secs', max=4.0, min=0.25, step=0.25), SelectionSlider(descr…"
      ]
     },
     "metadata": {},
     "output_type": "display_data"
    },
    {
     "data": {
      "application/vnd.jupyter.widget-view+json": {
       "model_id": "1154c43f517f4d1fa8dec603905b0b4e",
       "version_major": 2,
       "version_minor": 0
      },
      "text/plain": [
       "Output()"
      ]
     },
     "metadata": {},
     "output_type": "display_data"
    }
   ],
   "source": [
    "eplt.lazy_spw_explorer(rem_spws2h, spws2h_meta, SUBJECT, \"REC-24\")"
   ]
  },
  {
   "cell_type": "markdown",
   "metadata": {},
   "source": [
    "- REM events using 2h detection seem legit"
   ]
  },
  {
   "cell_type": "code",
   "execution_count": 58,
   "metadata": {
    "execution": {
     "iopub.execute_input": "2021-01-03T18:25:45.569087Z",
     "iopub.status.busy": "2021-01-03T18:25:45.568962Z",
     "iopub.status.idle": "2021-01-03T18:25:45.580226Z",
     "shell.execute_reply": "2021-01-03T18:25:45.579877Z",
     "shell.execute_reply.started": "2021-01-03T18:25:45.569070Z"
    }
   },
   "outputs": [],
   "source": [
    "start_2h = 3600 * 6\n",
    "end_2h = 3600 * 8"
   ]
  },
  {
   "cell_type": "code",
   "execution_count": 59,
   "metadata": {
    "execution": {
     "iopub.execute_input": "2021-01-03T18:25:50.609923Z",
     "iopub.status.busy": "2021-01-03T18:25:50.609788Z",
     "iopub.status.idle": "2021-01-03T18:25:50.625214Z",
     "shell.execute_reply": "2021-01-03T18:25:50.624649Z",
     "shell.execute_reply.started": "2021-01-03T18:25:50.609906Z"
    }
   },
   "outputs": [],
   "source": [
    "spws2h_from_24h = spws24h[np.logical_and(spws24h.start_time >= start_2h, spws24h.end_time < end_2h)]"
   ]
  },
  {
   "cell_type": "code",
   "execution_count": 60,
   "metadata": {
    "execution": {
     "iopub.execute_input": "2021-01-03T18:26:04.344193Z",
     "iopub.status.busy": "2021-01-03T18:26:04.343739Z",
     "iopub.status.idle": "2021-01-03T18:26:04.363874Z",
     "shell.execute_reply": "2021-01-03T18:26:04.363372Z",
     "shell.execute_reply.started": "2021-01-03T18:26:04.344136Z"
    }
   },
   "outputs": [],
   "source": [
    "spws2h['start_time'] = spws2h['start_time'] + start_2h\n",
    "spws2h['end_time'] = spws2h['end_time'] + start_2h\n",
    "spws2h['midpoint'] = spws2h['midpoint'] + start_2h"
   ]
  },
  {
   "cell_type": "code",
   "execution_count": 61,
   "metadata": {
    "execution": {
     "iopub.execute_input": "2021-01-03T18:26:05.234339Z",
     "iopub.status.busy": "2021-01-03T18:26:05.233913Z",
     "iopub.status.idle": "2021-01-03T18:26:05.258742Z",
     "shell.execute_reply": "2021-01-03T18:26:05.258182Z",
     "shell.execute_reply.started": "2021-01-03T18:26:05.234284Z"
    }
   },
   "outputs": [
    {
     "data": {
      "text/html": [
       "<div>\n",
       "<style scoped>\n",
       "    .dataframe tbody tr th:only-of-type {\n",
       "        vertical-align: middle;\n",
       "    }\n",
       "\n",
       "    .dataframe tbody tr th {\n",
       "        vertical-align: top;\n",
       "    }\n",
       "\n",
       "    .dataframe thead th {\n",
       "        text-align: right;\n",
       "    }\n",
       "</style>\n",
       "<table border=\"1\" class=\"dataframe\">\n",
       "  <thead>\n",
       "    <tr style=\"text-align: right;\">\n",
       "      <th></th>\n",
       "      <th>start_time</th>\n",
       "      <th>end_time</th>\n",
       "      <th>duration</th>\n",
       "      <th>midpoint</th>\n",
       "      <th>sink_amplitude</th>\n",
       "      <th>sink_integral</th>\n",
       "      <th>state</th>\n",
       "    </tr>\n",
       "    <tr>\n",
       "      <th>spw_number</th>\n",
       "      <th></th>\n",
       "      <th></th>\n",
       "      <th></th>\n",
       "      <th></th>\n",
       "      <th></th>\n",
       "      <th></th>\n",
       "      <th></th>\n",
       "    </tr>\n",
       "  </thead>\n",
       "  <tbody>\n",
       "    <tr>\n",
       "      <th>1</th>\n",
       "      <td>21650.863149</td>\n",
       "      <td>21650.974749</td>\n",
       "      <td>0.1116</td>\n",
       "      <td>21650.918949</td>\n",
       "      <td>-0.030492</td>\n",
       "      <td>-2.236261</td>\n",
       "      <td>Wake</td>\n",
       "    </tr>\n",
       "    <tr>\n",
       "      <th>2</th>\n",
       "      <td>21663.575936</td>\n",
       "      <td>21663.619136</td>\n",
       "      <td>0.0432</td>\n",
       "      <td>21663.597536</td>\n",
       "      <td>-0.032680</td>\n",
       "      <td>-0.943868</td>\n",
       "      <td>Wake</td>\n",
       "    </tr>\n",
       "    <tr>\n",
       "      <th>3</th>\n",
       "      <td>21689.486710</td>\n",
       "      <td>21689.693110</td>\n",
       "      <td>0.2064</td>\n",
       "      <td>21689.589910</td>\n",
       "      <td>-0.071532</td>\n",
       "      <td>-6.977352</td>\n",
       "      <td>Wake</td>\n",
       "    </tr>\n",
       "    <tr>\n",
       "      <th>4</th>\n",
       "      <td>21689.695110</td>\n",
       "      <td>21689.751110</td>\n",
       "      <td>0.0560</td>\n",
       "      <td>21689.723110</td>\n",
       "      <td>-0.037766</td>\n",
       "      <td>-1.532870</td>\n",
       "      <td>Wake</td>\n",
       "    </tr>\n",
       "    <tr>\n",
       "      <th>5</th>\n",
       "      <td>21700.349899</td>\n",
       "      <td>21700.429899</td>\n",
       "      <td>0.0800</td>\n",
       "      <td>21700.389899</td>\n",
       "      <td>-0.026501</td>\n",
       "      <td>-1.386314</td>\n",
       "      <td>Wake</td>\n",
       "    </tr>\n",
       "    <tr>\n",
       "      <th>...</th>\n",
       "      <td>...</td>\n",
       "      <td>...</td>\n",
       "      <td>...</td>\n",
       "      <td>...</td>\n",
       "      <td>...</td>\n",
       "      <td>...</td>\n",
       "      <td>...</td>\n",
       "    </tr>\n",
       "    <tr>\n",
       "      <th>5011</th>\n",
       "      <td>28795.503964</td>\n",
       "      <td>28795.541964</td>\n",
       "      <td>0.0380</td>\n",
       "      <td>28795.522964</td>\n",
       "      <td>-0.027557</td>\n",
       "      <td>-0.753133</td>\n",
       "      <td>N2</td>\n",
       "    </tr>\n",
       "    <tr>\n",
       "      <th>5012</th>\n",
       "      <td>28795.847564</td>\n",
       "      <td>28795.893564</td>\n",
       "      <td>0.0460</td>\n",
       "      <td>28795.870564</td>\n",
       "      <td>-0.037423</td>\n",
       "      <td>-1.061557</td>\n",
       "      <td>N2</td>\n",
       "    </tr>\n",
       "    <tr>\n",
       "      <th>5013</th>\n",
       "      <td>28797.128363</td>\n",
       "      <td>28797.187163</td>\n",
       "      <td>0.0588</td>\n",
       "      <td>28797.157763</td>\n",
       "      <td>-0.046602</td>\n",
       "      <td>-1.558581</td>\n",
       "      <td>N2</td>\n",
       "    </tr>\n",
       "    <tr>\n",
       "      <th>5014</th>\n",
       "      <td>28798.110362</td>\n",
       "      <td>28798.157162</td>\n",
       "      <td>0.0468</td>\n",
       "      <td>28798.133762</td>\n",
       "      <td>-0.029957</td>\n",
       "      <td>-0.876730</td>\n",
       "      <td>N2</td>\n",
       "    </tr>\n",
       "    <tr>\n",
       "      <th>5015</th>\n",
       "      <td>28799.412760</td>\n",
       "      <td>28799.450760</td>\n",
       "      <td>0.0380</td>\n",
       "      <td>28799.431760</td>\n",
       "      <td>-0.030417</td>\n",
       "      <td>-0.878148</td>\n",
       "      <td>N2</td>\n",
       "    </tr>\n",
       "  </tbody>\n",
       "</table>\n",
       "<p>5015 rows × 7 columns</p>\n",
       "</div>"
      ],
      "text/plain": [
       "              start_time      end_time  duration      midpoint  \\\n",
       "spw_number                                                       \n",
       "1           21650.863149  21650.974749    0.1116  21650.918949   \n",
       "2           21663.575936  21663.619136    0.0432  21663.597536   \n",
       "3           21689.486710  21689.693110    0.2064  21689.589910   \n",
       "4           21689.695110  21689.751110    0.0560  21689.723110   \n",
       "5           21700.349899  21700.429899    0.0800  21700.389899   \n",
       "...                  ...           ...       ...           ...   \n",
       "5011        28795.503964  28795.541964    0.0380  28795.522964   \n",
       "5012        28795.847564  28795.893564    0.0460  28795.870564   \n",
       "5013        28797.128363  28797.187163    0.0588  28797.157763   \n",
       "5014        28798.110362  28798.157162    0.0468  28798.133762   \n",
       "5015        28799.412760  28799.450760    0.0380  28799.431760   \n",
       "\n",
       "            sink_amplitude  sink_integral state  \n",
       "spw_number                                       \n",
       "1                -0.030492      -2.236261  Wake  \n",
       "2                -0.032680      -0.943868  Wake  \n",
       "3                -0.071532      -6.977352  Wake  \n",
       "4                -0.037766      -1.532870  Wake  \n",
       "5                -0.026501      -1.386314  Wake  \n",
       "...                    ...            ...   ...  \n",
       "5011             -0.027557      -0.753133    N2  \n",
       "5012             -0.037423      -1.061557    N2  \n",
       "5013             -0.046602      -1.558581    N2  \n",
       "5014             -0.029957      -0.876730    N2  \n",
       "5015             -0.030417      -0.878148    N2  \n",
       "\n",
       "[5015 rows x 7 columns]"
      ]
     },
     "execution_count": 61,
     "metadata": {},
     "output_type": "execute_result"
    }
   ],
   "source": [
    "spws2h"
   ]
  },
  {
   "cell_type": "code",
   "execution_count": 62,
   "metadata": {
    "execution": {
     "iopub.execute_input": "2021-01-03T18:26:07.616147Z",
     "iopub.status.busy": "2021-01-03T18:26:07.615698Z",
     "iopub.status.idle": "2021-01-03T18:26:07.634712Z",
     "shell.execute_reply": "2021-01-03T18:26:07.634125Z",
     "shell.execute_reply.started": "2021-01-03T18:26:07.616091Z"
    }
   },
   "outputs": [],
   "source": [
    "hypno2h['start_time'] = hypno2h['start_time'] + start_2h\n",
    "hypno2h['end_time'] = hypno2h['end_time'] + start_2h"
   ]
  },
  {
   "cell_type": "code",
   "execution_count": 63,
   "metadata": {
    "execution": {
     "iopub.execute_input": "2021-01-03T18:26:07.934991Z",
     "iopub.status.busy": "2021-01-03T18:26:07.934719Z",
     "iopub.status.idle": "2021-01-03T18:26:07.955476Z",
     "shell.execute_reply": "2021-01-03T18:26:07.955077Z",
     "shell.execute_reply.started": "2021-01-03T18:26:07.934957Z"
    }
   },
   "outputs": [
    {
     "data": {
      "text/html": [
       "<div>\n",
       "<style scoped>\n",
       "    .dataframe tbody tr th:only-of-type {\n",
       "        vertical-align: middle;\n",
       "    }\n",
       "\n",
       "    .dataframe tbody tr th {\n",
       "        vertical-align: top;\n",
       "    }\n",
       "\n",
       "    .dataframe thead th {\n",
       "        text-align: right;\n",
       "    }\n",
       "</style>\n",
       "<table border=\"1\" class=\"dataframe\">\n",
       "  <thead>\n",
       "    <tr style=\"text-align: right;\">\n",
       "      <th></th>\n",
       "      <th>state</th>\n",
       "      <th>end_time</th>\n",
       "      <th>start_time</th>\n",
       "      <th>duration</th>\n",
       "    </tr>\n",
       "  </thead>\n",
       "  <tbody>\n",
       "    <tr>\n",
       "      <th>0</th>\n",
       "      <td>Wake</td>\n",
       "      <td>21773.990005</td>\n",
       "      <td>21600.000000</td>\n",
       "      <td>173.990005</td>\n",
       "    </tr>\n",
       "    <tr>\n",
       "      <th>1</th>\n",
       "      <td>N1</td>\n",
       "      <td>21779.990005</td>\n",
       "      <td>21773.990005</td>\n",
       "      <td>6.000000</td>\n",
       "    </tr>\n",
       "    <tr>\n",
       "      <th>2</th>\n",
       "      <td>Wake</td>\n",
       "      <td>21797.990005</td>\n",
       "      <td>21779.990005</td>\n",
       "      <td>18.000000</td>\n",
       "    </tr>\n",
       "    <tr>\n",
       "      <th>3</th>\n",
       "      <td>N1</td>\n",
       "      <td>21803.990005</td>\n",
       "      <td>21797.990005</td>\n",
       "      <td>6.000000</td>\n",
       "    </tr>\n",
       "    <tr>\n",
       "      <th>4</th>\n",
       "      <td>N2</td>\n",
       "      <td>21815.990005</td>\n",
       "      <td>21803.990005</td>\n",
       "      <td>12.000000</td>\n",
       "    </tr>\n",
       "    <tr>\n",
       "      <th>...</th>\n",
       "      <td>...</td>\n",
       "      <td>...</td>\n",
       "      <td>...</td>\n",
       "      <td>...</td>\n",
       "    </tr>\n",
       "    <tr>\n",
       "      <th>197</th>\n",
       "      <td>REM</td>\n",
       "      <td>28565.990234</td>\n",
       "      <td>28409.990234</td>\n",
       "      <td>156.000000</td>\n",
       "    </tr>\n",
       "    <tr>\n",
       "      <th>198</th>\n",
       "      <td>N1</td>\n",
       "      <td>28601.990234</td>\n",
       "      <td>28565.990234</td>\n",
       "      <td>36.000000</td>\n",
       "    </tr>\n",
       "    <tr>\n",
       "      <th>199</th>\n",
       "      <td>Wake</td>\n",
       "      <td>28619.990234</td>\n",
       "      <td>28601.990234</td>\n",
       "      <td>18.000000</td>\n",
       "    </tr>\n",
       "    <tr>\n",
       "      <th>200</th>\n",
       "      <td>N1</td>\n",
       "      <td>28625.990234</td>\n",
       "      <td>28619.990234</td>\n",
       "      <td>6.000000</td>\n",
       "    </tr>\n",
       "    <tr>\n",
       "      <th>201</th>\n",
       "      <td>N2</td>\n",
       "      <td>28799.990234</td>\n",
       "      <td>28625.990234</td>\n",
       "      <td>174.000000</td>\n",
       "    </tr>\n",
       "  </tbody>\n",
       "</table>\n",
       "<p>202 rows × 4 columns</p>\n",
       "</div>"
      ],
      "text/plain": [
       "    state      end_time    start_time    duration\n",
       "0    Wake  21773.990005  21600.000000  173.990005\n",
       "1      N1  21779.990005  21773.990005    6.000000\n",
       "2    Wake  21797.990005  21779.990005   18.000000\n",
       "3      N1  21803.990005  21797.990005    6.000000\n",
       "4      N2  21815.990005  21803.990005   12.000000\n",
       "..    ...           ...           ...         ...\n",
       "197   REM  28565.990234  28409.990234  156.000000\n",
       "198    N1  28601.990234  28565.990234   36.000000\n",
       "199  Wake  28619.990234  28601.990234   18.000000\n",
       "200    N1  28625.990234  28619.990234    6.000000\n",
       "201    N2  28799.990234  28625.990234  174.000000\n",
       "\n",
       "[202 rows x 4 columns]"
      ]
     },
     "execution_count": 63,
     "metadata": {},
     "output_type": "execute_result"
    }
   ],
   "source": [
    "hypno2h"
   ]
  },
  {
   "cell_type": "code",
   "execution_count": 64,
   "metadata": {
    "execution": {
     "iopub.execute_input": "2021-01-03T18:26:11.014480Z",
     "iopub.status.busy": "2021-01-03T18:26:11.014034Z",
     "iopub.status.idle": "2021-01-03T18:26:11.188230Z",
     "shell.execute_reply": "2021-01-03T18:26:11.187715Z",
     "shell.execute_reply.started": "2021-01-03T18:26:11.014425Z"
    }
   },
   "outputs": [],
   "source": [
    "spws2h_from_24h = add_event_states(spws2h_from_24h.copy(), hypno2h)"
   ]
  },
  {
   "cell_type": "code",
   "execution_count": 65,
   "metadata": {
    "execution": {
     "iopub.execute_input": "2021-01-03T18:26:12.377696Z",
     "iopub.status.busy": "2021-01-03T18:26:12.377256Z",
     "iopub.status.idle": "2021-01-03T18:26:12.397409Z",
     "shell.execute_reply": "2021-01-03T18:26:12.397012Z",
     "shell.execute_reply.started": "2021-01-03T18:26:12.377640Z"
    }
   },
   "outputs": [],
   "source": [
    "rem_spws2h_from_24h = spws2h_from_24h[spws2h_from_24h['state'] == \"REM\"].reset_index()\n",
    "rem_spws2h_from_24h.index += 1"
   ]
  },
  {
   "cell_type": "code",
   "execution_count": 67,
   "metadata": {
    "execution": {
     "iopub.execute_input": "2021-01-03T18:26:29.358969Z",
     "iopub.status.busy": "2021-01-03T18:26:29.358509Z",
     "iopub.status.idle": "2021-01-03T18:26:29.793982Z",
     "shell.execute_reply": "2021-01-03T18:26:29.793346Z",
     "shell.execute_reply.started": "2021-01-03T18:26:29.358913Z"
    }
   },
   "outputs": [
    {
     "data": {
      "application/vnd.jupyter.widget-view+json": {
       "model_id": "d492b855ec104509b7c960051b2f575b",
       "version_major": 2,
       "version_minor": 0
      },
      "text/plain": [
       "Canvas(toolbar=Toolbar(toolitems=[('Home', 'Reset original view', 'home', 'home'), ('Back', 'Back to previous …"
      ]
     },
     "metadata": {},
     "output_type": "display_data"
    },
    {
     "data": {
      "application/vnd.jupyter.widget-view+json": {
       "model_id": "9bb34ef9e43e49708fe8b3b9e7ce32b8",
       "version_major": 2,
       "version_minor": 0
      },
      "text/plain": [
       "HBox(children=(FloatSlider(value=1.0, description='Secs', max=4.0, min=0.25, step=0.25), SelectionSlider(descr…"
      ]
     },
     "metadata": {},
     "output_type": "display_data"
    },
    {
     "data": {
      "application/vnd.jupyter.widget-view+json": {
       "model_id": "77caa97d6a884c6a8ea0bf3f71806451",
       "version_major": 2,
       "version_minor": 0
      },
      "text/plain": [
       "Output()"
      ]
     },
     "metadata": {},
     "output_type": "display_data"
    }
   ],
   "source": [
    "eplt.lazy_spw_explorer(rem_spws2h_from_24h, spws24h_meta, SUBJECT, \"BSL-6+18\")"
   ]
  },
  {
   "cell_type": "markdown",
   "metadata": {},
   "source": [
    "- Anecdotally, it seems that REM events using 24hr detection may include more false positives than using 2hr detection. "
   ]
  },
  {
   "cell_type": "code",
   "execution_count": 70,
   "metadata": {
    "execution": {
     "iopub.execute_input": "2021-01-03T18:28:28.386499Z",
     "iopub.status.busy": "2021-01-03T18:28:28.386002Z",
     "iopub.status.idle": "2021-01-03T18:28:29.144333Z",
     "shell.execute_reply": "2021-01-03T18:28:29.143685Z",
     "shell.execute_reply.started": "2021-01-03T18:28:28.386439Z"
    }
   },
   "outputs": [
    {
     "data": {
      "application/vnd.jupyter.widget-view+json": {
       "model_id": "f5bb5fd2ec35499fbc163163e2085a58",
       "version_major": 2,
       "version_minor": 0
      },
      "text/plain": [
       "Canvas(toolbar=Toolbar(toolitems=[('Home', 'Reset original view', 'home', 'home'), ('Back', 'Back to previous …"
      ]
     },
     "metadata": {},
     "output_type": "display_data"
    }
   ],
   "source": [
    "fig, (ax1, ax2) = plt.subplots(2, 1, figsize=(16, 4))\n",
    "nbins = int(7200 / 10)\n",
    "ax1.hist(spws2h.start_time, bins=nbins)\n",
    "ax1.set_title(\"SPW density when detection threshold is set using 2h of data\")\n",
    "ax1.set_ylabel(\"SPW count (10s bins)\")\n",
    "eplt.plot_hypnogram_overlay(hypno2h, ax=ax1)\n",
    "ax2.set_title(\"SPW density when detection threshold is set using 24h of data\")\n",
    "ax2.hist(spws2h_from_24h.start_time, bins=nbins)\n",
    "ax2.set_ylabel(\"SPW count (10s bins)\")\n",
    "eplt.plot_hypnogram_overlay(hypno2h, ax=ax2)\n",
    "ax2.set_xlabel(\"Time (seconds from 9am)\")\n",
    "plt.subplots_adjust(hspace=0.5)\n",
    "plt.show()"
   ]
  },
  {
   "cell_type": "code",
   "execution_count": 69,
   "metadata": {
    "execution": {
     "iopub.execute_input": "2021-01-03T18:27:04.358452Z",
     "iopub.status.busy": "2021-01-03T18:27:04.358308Z",
     "iopub.status.idle": "2021-01-03T18:27:04.375395Z",
     "shell.execute_reply": "2021-01-03T18:27:04.374888Z",
     "shell.execute_reply.started": "2021-01-03T18:27:04.358428Z"
    }
   },
   "outputs": [
    {
     "data": {
      "text/plain": [
       "0.2839481555333998"
      ]
     },
     "execution_count": 69,
     "metadata": {},
     "output_type": "execute_result"
    }
   ],
   "source": [
    "(len(spws2h_from_24h) - len(spws2h)) / len(spws2h)"
   ]
  },
  {
   "cell_type": "markdown",
   "metadata": {},
   "source": [
    "- Observation: Nearly 30% more events detected using 24hrs. \n",
    "- Observation: The increase in the number of detected events appears most noticeable during REM\n",
    "- The aforementioned difference may be due to the ~4.5 hour artifact period, which will result in the mean SR sink being pulled artificially low. \n",
    "- Observation: Despite the aforementioned differences, density profile appears nearly identical\n",
    "- 24hr detection may warrant a lower threshold than 2hr detection\n",
    "- Wake events are likely to be highly reliable using 24hr detection\n",
    "- Obtaining a detection threshold during a restricted interval (e.g. 2 hours of circadian-matched baseline) and applying it everywhere may be most principled, practical (esp. in the case of missing or artificatual data) approach short of doing 48-hour detection"
   ]
  },
  {
   "cell_type": "code",
   "execution_count": 71,
   "metadata": {
    "execution": {
     "iopub.execute_input": "2021-01-03T18:28:54.430109Z",
     "iopub.status.busy": "2021-01-03T18:28:54.429983Z",
     "iopub.status.idle": "2021-01-03T18:28:54.445137Z",
     "shell.execute_reply": "2021-01-03T18:28:54.444413Z",
     "shell.execute_reply.started": "2021-01-03T18:28:54.430091Z"
    }
   },
   "outputs": [
    {
     "name": "stdout",
     "output_type": "stream",
     "text": [
      "2h CSD: lambda=0.0003822395851068327, R=0.23\n",
      "24h CSD: lambda=0.0039366356376800745, R=0.23\n"
     ]
    }
   ],
   "source": [
    "print(f\"2h CSD: lambda={spws2h_meta['lambd']}, R={spws2h_meta['R']}\")\n",
    "print(f\"24h CSD: lambda={spws24h_meta['lambd']}, R={spws24h_meta['R']}\")"
   ]
  },
  {
   "cell_type": "code",
   "execution_count": 72,
   "metadata": {
    "execution": {
     "iopub.execute_input": "2021-01-03T18:28:54.447763Z",
     "iopub.status.busy": "2021-01-03T18:28:54.447637Z",
     "iopub.status.idle": "2021-01-03T18:28:54.461532Z",
     "shell.execute_reply": "2021-01-03T18:28:54.461093Z",
     "shell.execute_reply.started": "2021-01-03T18:28:54.447747Z"
    }
   },
   "outputs": [],
   "source": [
    "def percent_difference(x, y):\n",
    "    assert x > 0\n",
    "    assert y > 0\n",
    "    return (np.abs(x - y) / ((x + y) / 2)) * 100"
   ]
  },
  {
   "cell_type": "code",
   "execution_count": 73,
   "metadata": {
    "execution": {
     "iopub.execute_input": "2021-01-03T18:28:54.463466Z",
     "iopub.status.busy": "2021-01-03T18:28:54.463346Z",
     "iopub.status.idle": "2021-01-03T18:28:54.477455Z",
     "shell.execute_reply": "2021-01-03T18:28:54.477127Z",
     "shell.execute_reply.started": "2021-01-03T18:28:54.463451Z"
    }
   },
   "outputs": [
    {
     "data": {
      "text/plain": [
       "164.5982284378034"
      ]
     },
     "execution_count": 73,
     "metadata": {},
     "output_type": "execute_result"
    }
   ],
   "source": [
    "percent_difference(spws24h_meta['lambd'], spws2h_meta['lambd'])"
   ]
  },
  {
   "cell_type": "code",
   "execution_count": 75,
   "metadata": {
    "execution": {
     "iopub.execute_input": "2021-01-03T18:29:37.899077Z",
     "iopub.status.busy": "2021-01-03T18:29:37.898592Z",
     "iopub.status.idle": "2021-01-03T18:29:37.922486Z",
     "shell.execute_reply": "2021-01-03T18:29:37.921908Z",
     "shell.execute_reply.started": "2021-01-03T18:29:37.899015Z"
    }
   },
   "outputs": [
    {
     "data": {
      "text/plain": [
       "59076.92307692308"
      ]
     },
     "execution_count": 75,
     "metadata": {},
     "output_type": "execute_result"
    }
   ],
   "source": [
    "48000/(24-4.5)*24"
   ]
  },
  {
   "cell_type": "markdown",
   "metadata": {},
   "source": [
    "- kCSD searches through: min lambda = 1e-12, max lambda 0.0126\n",
    "- 2h CSD: lambda=0.0003822395851068327, R=0.23\n",
    "- 24h CSD: lambda=0.0039366356376800745, R=0.23\n",
    "- Probably safe to use 2h values everywhere \n",
    "    - Using the same values (e.g. those obtained from the first two hours of recovery sleep) everywhere may be more principled"
   ]
  },
  {
   "cell_type": "markdown",
   "metadata": {},
   "source": [
    "## Archive: Detect bout-by-bout [Doesn't work]"
   ]
  },
  {
   "cell_type": "code",
   "execution_count": 62,
   "metadata": {
    "execution": {
     "iopub.execute_input": "2020-12-30T20:58:11.118873Z",
     "iopub.status.busy": "2020-12-30T20:58:11.118443Z",
     "iopub.status.idle": "2020-12-30T20:58:11.166024Z",
     "shell.execute_reply": "2020-12-30T20:58:11.165448Z",
     "shell.execute_reply.started": "2020-12-30T20:58:11.118818Z"
    }
   },
   "outputs": [],
   "source": [
    "from ecephys.scoring import load_visbrain_hypnogram\n",
    "\n",
    "hypnogram = load_visbrain_hypnogram(paths.get_datapath(subject=SUBJECT, condition=CONDITION, data=\"hypnogram.txt\"))"
   ]
  },
  {
   "cell_type": "code",
   "execution_count": 66,
   "metadata": {
    "execution": {
     "iopub.execute_input": "2020-12-30T20:59:02.212458Z",
     "iopub.status.busy": "2020-12-30T20:59:02.212320Z",
     "iopub.status.idle": "2020-12-30T20:59:02.980391Z",
     "shell.execute_reply": "2020-12-30T20:59:02.979747Z",
     "shell.execute_reply.started": "2020-12-30T20:59:02.212436Z"
    }
   },
   "outputs": [
    {
     "data": {
      "application/vnd.jupyter.widget-view+json": {
       "model_id": "b152067a8ec6470bb0dd752b61f38a2b",
       "version_major": 2,
       "version_minor": 0
      },
      "text/plain": [
       "Canvas(toolbar=Toolbar(toolitems=[('Home', 'Reset original view', 'home', 'home'), ('Back', 'Back to previous …"
      ]
     },
     "metadata": {},
     "output_type": "display_data"
    }
   ],
   "source": [
    "fig, ax1 = plt.subplots(figsize=(24, 3))\n",
    "plt.hist(spws.start_time, bins=int(7200/10))\n",
    "eplt.plot_hypnogram_overlay(hypnogram, ax=ax1)\n",
    "plt.show()"
   ]
  },
  {
   "cell_type": "code",
   "execution_count": 90,
   "metadata": {
    "execution": {
     "iopub.execute_input": "2020-12-30T21:15:53.811973Z",
     "iopub.status.busy": "2020-12-30T21:15:53.811791Z",
     "iopub.status.idle": "2020-12-30T21:15:53.834657Z",
     "shell.execute_reply": "2020-12-30T21:15:53.834133Z",
     "shell.execute_reply.started": "2020-12-30T21:15:53.811950Z"
    }
   },
   "outputs": [],
   "source": [
    "def get_bout_spws(time, sr_csd, bout):\n",
    "    bout_mask = np.logical_and(time >= bout['start_time'], time <= bout['end_time'])\n",
    "    bout_spws = detect_sharp_waves(time[bout_mask], sr_csd[:, bout_mask])\n",
    "    bout_spws['state'] = bout['state']\n",
    "    return bout_spws\n",
    "\n",
    "def get_spws_bout_by_bout(time, sr_csd, hypnogram):\n",
    "    spws = pd.DataFrame(columns=[\"spw_number\", \"start_time\", \"end_time\"])\n",
    "    spws.set_index('spw_number', inplace = True)\n",
    "    for index, row in hypnogram.iterrows(): \n",
    "        bout_spws = get_bout_spws(time, sr_csd, row)\n",
    "        spws = spws.append(bout_spws)\n",
    "        \n",
    "    return spws\n",
    "        "
   ]
  },
  {
   "cell_type": "code",
   "execution_count": 105,
   "metadata": {
    "execution": {
     "iopub.execute_input": "2020-12-30T21:24:42.106221Z",
     "iopub.status.busy": "2020-12-30T21:24:42.105787Z",
     "iopub.status.idle": "2020-12-30T21:25:03.177833Z",
     "shell.execute_reply": "2020-12-30T21:25:03.177154Z",
     "shell.execute_reply.started": "2020-12-30T21:24:42.106163Z"
    }
   },
   "outputs": [],
   "source": [
    "bspws = get_spws_bout_by_bout(time, sr_csd, hypnogram)\n",
    "bspws[\"duration\"] = get_durations(bspws)\n",
    "bspws[\"midpoint\"] = get_midpoints(bspws)"
   ]
  },
  {
   "cell_type": "code",
   "execution_count": 106,
   "metadata": {
    "execution": {
     "iopub.execute_input": "2020-12-30T21:25:03.210045Z",
     "iopub.status.busy": "2020-12-30T21:25:03.209921Z",
     "iopub.status.idle": "2020-12-30T21:25:04.127166Z",
     "shell.execute_reply": "2020-12-30T21:25:04.126468Z",
     "shell.execute_reply.started": "2020-12-30T21:25:03.210030Z"
    }
   },
   "outputs": [
    {
     "data": {
      "application/vnd.jupyter.widget-view+json": {
       "model_id": "7021036ed9ba4c7a90b351961742d6da",
       "version_major": 2,
       "version_minor": 0
      },
      "text/plain": [
       "Canvas(toolbar=Toolbar(toolitems=[('Home', 'Reset original view', 'home', 'home'), ('Back', 'Back to previous …"
      ]
     },
     "metadata": {},
     "output_type": "display_data"
    }
   ],
   "source": [
    "fig, ax1 = plt.subplots(figsize=(24, 3))\n",
    "plt.hist(bspws.start_time, bins=int(7200/10))\n",
    "eplt.plot_hypnogram_overlay(hypnogram, ax=ax1)\n",
    "plt.show()"
   ]
  },
  {
   "cell_type": "code",
   "execution_count": 110,
   "metadata": {
    "execution": {
     "iopub.execute_input": "2020-12-30T21:25:45.384884Z",
     "iopub.status.busy": "2020-12-30T21:25:45.384450Z",
     "iopub.status.idle": "2020-12-30T21:25:45.408465Z",
     "shell.execute_reply": "2020-12-30T21:25:45.407889Z",
     "shell.execute_reply.started": "2020-12-30T21:25:45.384825Z"
    }
   },
   "outputs": [],
   "source": [
    "rem_spws = bspws[bspws['state'] == \"REM\"].reset_index()"
   ]
  },
  {
   "cell_type": "code",
   "execution_count": 115,
   "metadata": {
    "execution": {
     "iopub.execute_input": "2020-12-30T21:28:04.985012Z",
     "iopub.status.busy": "2020-12-30T21:28:04.984585Z",
     "iopub.status.idle": "2020-12-30T21:28:05.037924Z",
     "shell.execute_reply": "2020-12-30T21:28:05.037013Z",
     "shell.execute_reply.started": "2020-12-30T21:28:04.984956Z"
    }
   },
   "outputs": [],
   "source": [
    "from pathlib import Path\n",
    "\n",
    "metadata = dict(\n",
    "    csd_chans=hpc_chans,\n",
    "    detection_chans=sr_chans,\n",
    "    intersite_distance=intersite_distance,\n",
    "    gdx=interestimate_distance,\n",
    "    lambd = k.lambd,\n",
    "    R = k.R,\n",
    "    detect_states=[\"Wake\", \"N1\", \"N2\", \"REM\"],\n",
    "    detection_zscore_threshold=2.5,\n",
    "    boundary_zscore_threshold=1,\n",
    "    minimum_duration=0.005,\n",
    ")\n",
    "rem_spws_path = Path('/Volumes/neuropixel/Data/CNPIX4-Doppio/3-18-2020_g0_t3.imec0.rem_spws.h5')\n",
    "store_df_h5(rem_spws_path, rem_spws, **metadata)"
   ]
  },
  {
   "cell_type": "code",
   "execution_count": 116,
   "metadata": {
    "execution": {
     "iopub.execute_input": "2020-12-30T21:28:05.686633Z",
     "iopub.status.busy": "2020-12-30T21:28:05.686205Z",
     "iopub.status.idle": "2020-12-30T21:28:06.311211Z",
     "shell.execute_reply": "2020-12-30T21:28:06.310736Z",
     "shell.execute_reply.started": "2020-12-30T21:28:05.686578Z"
    }
   },
   "outputs": [
    {
     "data": {
      "application/vnd.jupyter.widget-view+json": {
       "model_id": "ffb03362d048455da5f0aa948325c95d",
       "version_major": 2,
       "version_minor": 0
      },
      "text/plain": [
       "Canvas(toolbar=Toolbar(toolitems=[('Home', 'Reset original view', 'home', 'home'), ('Back', 'Back to previous …"
      ]
     },
     "metadata": {},
     "output_type": "display_data"
    },
    {
     "data": {
      "application/vnd.jupyter.widget-view+json": {
       "model_id": "73fe996aac2b499eb803bf64803dffe7",
       "version_major": 2,
       "version_minor": 0
      },
      "text/plain": [
       "HBox(children=(FloatSlider(value=1.0, description='Secs', max=4.0, min=0.25, step=0.25), SelectionSlider(descr…"
      ]
     },
     "metadata": {},
     "output_type": "display_data"
    },
    {
     "data": {
      "application/vnd.jupyter.widget-view+json": {
       "model_id": "ee92d0e1d204464c838dfdaad80a3ada",
       "version_major": 2,
       "version_minor": 0
      },
      "text/plain": [
       "Output()"
      ]
     },
     "metadata": {},
     "output_type": "display_data"
    }
   ],
   "source": [
    "eplt.lazy_spw_explorer(rem_spws, metadata, SUBJECT, CONDITION)"
   ]
  }
 ],
 "metadata": {
  "kernelspec": {
   "display_name": "Python 3",
   "language": "python",
   "name": "python3"
  },
  "language_info": {
   "codemirror_mode": {
    "name": "ipython",
    "version": 3
   },
   "file_extension": ".py",
   "mimetype": "text/x-python",
   "name": "python",
   "nbconvert_exporter": "python",
   "pygments_lexer": "ipython3",
   "version": "3.7.9"
  }
 },
 "nbformat": 4,
 "nbformat_minor": 4
}
