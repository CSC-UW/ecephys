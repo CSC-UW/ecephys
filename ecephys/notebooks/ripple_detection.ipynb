{
 "cells": [
  {
   "cell_type": "code",
   "execution_count": 1,
   "metadata": {},
   "outputs": [],
   "source": [
    "%load_ext autoreload\n",
    "%autoreload 2"
   ]
  },
  {
   "cell_type": "code",
   "execution_count": 2,
   "metadata": {},
   "outputs": [],
   "source": [
    "%matplotlib widget\n",
    "from ipywidgets import interact, fixed\n",
    "import matplotlib.pyplot as plt"
   ]
  },
  {
   "cell_type": "code",
   "execution_count": 3,
   "metadata": {},
   "outputs": [],
   "source": [
    "from pathlib import Path\n",
    "import numpy as np\n",
    "import pandas as pd"
   ]
  },
  {
   "cell_type": "code",
   "execution_count": 4,
   "metadata": {},
   "outputs": [],
   "source": [
    "from ecephys.graham import paths, channel_groups\n",
    "from ecephys.helpers.utils import store_df_h5\n",
    "from ecephys.sglx_utils import load_timeseries\n",
    "from ecephys.scoring import load_visbrain_hypnogram\n",
    "from ecephys.signal.ripples import make_speed_vector, apply_ripple_filter, generalized_Kay_ripple_detector, compute_ripple_features\n",
    "from ecephys.plot import lazy_ripple_explorer"
   ]
  },
  {
   "cell_type": "code",
   "execution_count": 27,
   "metadata": {
    "execution": {
     "iopub.execute_input": "2020-11-20T21:06:33.359429Z",
     "iopub.status.busy": "2020-11-20T21:06:33.358998Z",
     "iopub.status.idle": "2020-11-20T21:06:33.378467Z",
     "shell.execute_reply": "2020-11-20T21:06:33.377732Z",
     "shell.execute_reply.started": "2020-11-20T21:06:33.359373Z"
    }
   },
   "outputs": [],
   "source": [
    "condition = \"pre-SR\"\n",
    "subject = \"Valentino\""
   ]
  },
  {
   "cell_type": "markdown",
   "metadata": {},
   "source": [
    "## Load the data"
   ]
  },
  {
   "cell_type": "code",
   "execution_count": 28,
   "metadata": {
    "execution": {
     "iopub.execute_input": "2020-11-20T21:06:34.630167Z",
     "iopub.status.busy": "2020-11-20T21:06:34.629735Z",
     "iopub.status.idle": "2020-11-20T21:06:34.647315Z",
     "shell.execute_reply": "2020-11-20T21:06:34.646564Z",
     "shell.execute_reply.started": "2020-11-20T21:06:34.630111Z"
    }
   },
   "outputs": [],
   "source": [
    "chans = channel_groups.CA1[subject]"
   ]
  },
  {
   "cell_type": "code",
   "execution_count": 29,
   "metadata": {
    "execution": {
     "iopub.execute_input": "2020-11-20T21:06:37.711720Z",
     "iopub.status.busy": "2020-11-20T21:06:37.711289Z",
     "iopub.status.idle": "2020-11-20T21:08:49.206818Z",
     "shell.execute_reply": "2020-11-20T21:08:49.205720Z",
     "shell.execute_reply.started": "2020-11-20T21:06:37.711664Z"
    }
   },
   "outputs": [
    {
     "name": "stdout",
     "output_type": "stream",
     "text": [
      "nChan: 385, nFileSamp: 18000000\n"
     ]
    }
   ],
   "source": [
    "bin_path = Path(paths.lfp_bin[condition][subject])\n",
    "(time, lfps, sampling_frequency) = load_timeseries(bin_path, chans, start_time=None, end_time=None)"
   ]
  },
  {
   "cell_type": "markdown",
   "metadata": {},
   "source": [
    "## Load hypnogram and select only NREM epochs"
   ]
  },
  {
   "cell_type": "code",
   "execution_count": 30,
   "metadata": {
    "execution": {
     "iopub.execute_input": "2020-11-20T21:08:49.227283Z",
     "iopub.status.busy": "2020-11-20T21:08:49.227156Z",
     "iopub.status.idle": "2020-11-20T21:08:49.236950Z",
     "shell.execute_reply": "2020-11-20T21:08:49.236440Z",
     "shell.execute_reply.started": "2020-11-20T21:08:49.227266Z"
    }
   },
   "outputs": [],
   "source": [
    "#hypnogram_path = Path(paths.hypnograms[condition][subject])\n",
    "#hypnogram = load_visbrain_hypnogram(hypnogram_path)"
   ]
  },
  {
   "cell_type": "code",
   "execution_count": 31,
   "metadata": {
    "execution": {
     "iopub.execute_input": "2020-11-20T21:08:49.237959Z",
     "iopub.status.busy": "2020-11-20T21:08:49.237691Z",
     "iopub.status.idle": "2020-11-20T21:08:49.294719Z",
     "shell.execute_reply": "2020-11-20T21:08:49.293705Z",
     "shell.execute_reply.started": "2020-11-20T21:08:49.237944Z"
    }
   },
   "outputs": [],
   "source": [
    "#detect_states = ['Wake', 'N1', 'N2', 'REM']\n",
    "#speed = make_speed_vector(hypnogram, detect_states, time)\n",
    "speed = np.zeros_like(time)"
   ]
  },
  {
   "cell_type": "markdown",
   "metadata": {},
   "source": [
    "## Apply ripple bandpass filter"
   ]
  },
  {
   "cell_type": "code",
   "execution_count": 32,
   "metadata": {
    "execution": {
     "iopub.execute_input": "2020-11-20T21:08:49.295620Z",
     "iopub.status.busy": "2020-11-20T21:08:49.295478Z",
     "iopub.status.idle": "2020-11-20T21:09:11.055530Z",
     "shell.execute_reply": "2020-11-20T21:09:11.053754Z",
     "shell.execute_reply.started": "2020-11-20T21:08:49.295601Z"
    }
   },
   "outputs": [],
   "source": [
    "filtered_lfps = apply_ripple_filter(lfps, sampling_frequency)"
   ]
  },
  {
   "cell_type": "markdown",
   "metadata": {},
   "source": [
    "## Detect Ripples"
   ]
  },
  {
   "cell_type": "markdown",
   "metadata": {},
   "source": [
    "### Kay method\n",
    "Detection of SWRs was prerequisite for all data analyzed in this study, and was performed only when at least three CA1 cell layer recordings were available. Offline, a multisite average approach was used to detect SWRs57. Specifically, LFPs from all available CA1 cell layer tetrodes were filtered between 150–250 Hz, then squared and summed across tetrodes. This sum was smoothed with a Gaussian kernel (σ = 4 ms) and the square root of the smoothed sum was analyzed. SWRs were detected when the signal exceeded 2 s.d. of the recording epoch mean for at least 15 ms. SWR periods were then defined as the periods, containing the times of threshold crossing, in which the power trace exceeded the mean. SWR onset was defined as the start of a SWR period. Detection of SWRs was performed only when subjects' head speed was <4 cm/s. For SWR-triggered spike raster plots and PSTH plots, a 0.5 s exclusion period was imposed to isolate SWRs occurring only after non-SWR periods; otherwise, analyses of SWRs included all detected SWRs."
   ]
  },
  {
   "cell_type": "markdown",
   "metadata": {},
   "source": [
    "### Karlsson method\n",
    "Sharp waves ripple events (SWRs) were identified based on peaks in the local field potential (LFP) recorded from one channel from each tetrode in the CA3 and CA1 cell layers. The raw LFP data were band-pass filtered between 150–250 Hz and the SWR envelope was determined using a Hilbert transform. The envelope was smoothed with a Gaussian (4 ms stdev). We initially identified SWR events as sets of times when the smoothed envelope stayed above 3 standard deviations of the mean for at least 15 ms on at least one tetrode. We defined the entire SWR as including times immediately before and after that threshold crossing event during which the envelope exceeded the mean. Overlapping SWRs were combined across tetrodes, so many events extended beyond the SWR seen on a single tetrode."
   ]
  },
  {
   "cell_type": "markdown",
   "metadata": {},
   "source": [
    "### Eschenko-like method\n",
    "SPW-Rs were detected by means of an automatic thresholding algorithm (Siapas and Wilson 1998; Csicsvari et al. 1999), illustrated in Figure 1. The hippocampal LFP signal was first filtered (150–250 Hz) and the root mean square (RMS) was calculated at every 5 msec (in a moving 10-msec window). The threshold for ripple peak detection was set to 4 SDs above the mean RMS signal. The beginning and end of a ripple were marked at points at which the RMS signal dropped below 2 SD provided that these two points were separated by 25 msec; these time points were used to estimate ripple duration. For every marked ripple, the troughs of the ripples were detected as the minima of the filtered LFP signal, and the deepest trough was marked as the time point representing the respective SPW-R event. The magnitude of the ripple was determined by integrating the RMS signal over the duration of each ripple (King et al. 1999). Ripples were detected during SWS periods only. The ripple amplitude was estimated as a voltage difference between maximum and minimum peaks of the filtered CA1 signal during the ripple event. Ripple density was defined as the number of ripples/second. Figure 1A shows the raw data from a hippocampal electrode. Ripple parameters and how they were measured are illustrated in Figure 1B."
   ]
  },
  {
   "cell_type": "code",
   "execution_count": 33,
   "metadata": {
    "execution": {
     "iopub.execute_input": "2020-11-20T21:09:11.058511Z",
     "iopub.status.busy": "2020-11-20T21:09:11.058004Z",
     "iopub.status.idle": "2020-11-20T21:09:49.920703Z",
     "shell.execute_reply": "2020-11-20T21:09:49.919110Z",
     "shell.execute_reply.started": "2020-11-20T21:09:11.058443Z"
    }
   },
   "outputs": [],
   "source": [
    "detection_zscore_threshold=4.0\n",
    "boundary_zscore_threshold=1.0\n",
    "minimum_duration=0.025\n",
    "method = 'Kay-like'\n",
    "ripple_times = generalized_Kay_ripple_detector(time, filtered_lfps, speed, sampling_frequency, detection_zscore_threshold=detection_zscore_threshold, boundary_zscore_threshold=boundary_zscore_threshold, minimum_duration=minimum_duration)"
   ]
  },
  {
   "cell_type": "markdown",
   "metadata": {},
   "source": [
    "## Collect ripple statistics"
   ]
  },
  {
   "cell_type": "code",
   "execution_count": 34,
   "metadata": {
    "execution": {
     "iopub.execute_input": "2020-11-20T21:09:49.922633Z",
     "iopub.status.busy": "2020-11-20T21:09:49.922448Z",
     "iopub.status.idle": "2020-11-20T21:11:52.272614Z",
     "shell.execute_reply": "2020-11-20T21:11:52.271756Z",
     "shell.execute_reply.started": "2020-11-20T21:09:49.922612Z"
    }
   },
   "outputs": [],
   "source": [
    "ripple_features = compute_ripple_features(time, filtered_lfps, ripple_times, sampling_frequency, 'Kay')"
   ]
  },
  {
   "cell_type": "markdown",
   "metadata": {},
   "source": [
    "## Export results"
   ]
  },
  {
   "cell_type": "code",
   "execution_count": 35,
   "metadata": {
    "execution": {
     "iopub.execute_input": "2020-11-20T21:11:52.274360Z",
     "iopub.status.busy": "2020-11-20T21:11:52.274204Z",
     "iopub.status.idle": "2020-11-20T21:11:52.302139Z",
     "shell.execute_reply": "2020-11-20T21:11:52.301202Z",
     "shell.execute_reply.started": "2020-11-20T21:11:52.274341Z"
    }
   },
   "outputs": [],
   "source": [
    "metadata = dict(\n",
    "    chans=chans,\n",
    "    detect_states=[\"Wake\", \"N1\", \"N2\", \"REM\"],\n",
    "    detection_zscore_threshold=4.0,\n",
    "    boundary_zscore_threshold=1.0,\n",
    "    minimum_duration=0.025,\n",
    "    method=\"Kay-like\",\n",
    ")\n",
    "ripple_path = Path(paths.ripples[condition][subject])\n",
    "store_df_h5(ripple_path, ripple_features, **metadata)"
   ]
  },
  {
   "cell_type": "markdown",
   "metadata": {},
   "source": [
    "## Explore results"
   ]
  },
  {
   "cell_type": "code",
   "execution_count": 36,
   "metadata": {
    "execution": {
     "iopub.execute_input": "2020-11-20T21:11:52.303163Z",
     "iopub.status.busy": "2020-11-20T21:11:52.303029Z",
     "iopub.status.idle": "2020-11-20T21:12:09.970340Z",
     "shell.execute_reply": "2020-11-20T21:12:09.969775Z",
     "shell.execute_reply.started": "2020-11-20T21:11:52.303146Z"
    }
   },
   "outputs": [
    {
     "data": {
      "application/vnd.jupyter.widget-view+json": {
       "model_id": "7bdefa049e9e46c489fec40aab9e8c47",
       "version_major": 2,
       "version_minor": 0
      },
      "text/plain": [
       "Canvas(toolbar=Toolbar(toolitems=[('Home', 'Reset original view', 'home', 'home'), ('Back', 'Back to previous …"
      ]
     },
     "metadata": {},
     "output_type": "display_data"
    },
    {
     "data": {
      "application/vnd.jupyter.widget-view+json": {
       "model_id": "ac9fa51cbc324c81aa26adb88c624f17",
       "version_major": 2,
       "version_minor": 0
      },
      "text/plain": [
       "interactive(children=(FloatSlider(value=1.0, description='window_length', max=2.0, min=0.25, step=0.25), IntSl…"
      ]
     },
     "metadata": {},
     "output_type": "display_data"
    }
   ],
   "source": [
    "lazy_ripple_explorer(ripple_features, metadata, subject, condition)"
   ]
  },
  {
   "cell_type": "code",
   "execution_count": null,
   "metadata": {},
   "outputs": [],
   "source": []
  }
 ],
 "metadata": {
  "kernelspec": {
   "display_name": "Python 3",
   "language": "python",
   "name": "python3"
  },
  "language_info": {
   "codemirror_mode": {
    "name": "ipython",
    "version": 3
   },
   "file_extension": ".py",
   "mimetype": "text/x-python",
   "name": "python",
   "nbconvert_exporter": "python",
   "pygments_lexer": "ipython3",
   "version": "3.7.9"
  }
 },
 "nbformat": 4,
 "nbformat_minor": 4
}
