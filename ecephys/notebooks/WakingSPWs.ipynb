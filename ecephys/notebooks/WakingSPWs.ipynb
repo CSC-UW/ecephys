{
 "cells": [
  {
   "cell_type": "code",
   "execution_count": 1,
   "metadata": {
    "execution": {
     "iopub.execute_input": "2020-12-29T23:21:06.784382Z",
     "iopub.status.busy": "2020-12-29T23:21:06.784161Z",
     "iopub.status.idle": "2020-12-29T23:21:06.799017Z",
     "shell.execute_reply": "2020-12-29T23:21:06.798477Z",
     "shell.execute_reply.started": "2020-12-29T23:21:06.784355Z"
    }
   },
   "outputs": [],
   "source": [
    "%load_ext autoreload\n",
    "%autoreload 2"
   ]
  },
  {
   "cell_type": "code",
   "execution_count": 2,
   "metadata": {
    "execution": {
     "iopub.execute_input": "2020-12-29T23:21:07.480277Z",
     "iopub.status.busy": "2020-12-29T23:21:07.480139Z",
     "iopub.status.idle": "2020-12-29T23:21:07.647431Z",
     "shell.execute_reply": "2020-12-29T23:21:07.646696Z",
     "shell.execute_reply.started": "2020-12-29T23:21:07.480262Z"
    }
   },
   "outputs": [],
   "source": [
    "%matplotlib widget"
   ]
  },
  {
   "cell_type": "code",
   "execution_count": 18,
   "metadata": {
    "execution": {
     "iopub.execute_input": "2020-12-29T23:24:32.891115Z",
     "iopub.status.busy": "2020-12-29T23:24:32.890625Z",
     "iopub.status.idle": "2020-12-29T23:24:32.911090Z",
     "shell.execute_reply": "2020-12-29T23:24:32.910347Z",
     "shell.execute_reply.started": "2020-12-29T23:24:32.891054Z"
    }
   },
   "outputs": [],
   "source": [
    "import numpy as np\n",
    "import pandas as pd\n",
    "import matplotlib.pyplot as plt\n",
    "import time\n",
    "import xarray as xr\n",
    "from scipy.stats import zscore"
   ]
  },
  {
   "cell_type": "code",
   "execution_count": 4,
   "metadata": {
    "execution": {
     "iopub.execute_input": "2020-12-29T23:21:08.775211Z",
     "iopub.status.busy": "2020-12-29T23:21:08.774898Z",
     "iopub.status.idle": "2020-12-29T23:21:08.922685Z",
     "shell.execute_reply": "2020-12-29T23:21:08.921804Z",
     "shell.execute_reply.started": "2020-12-29T23:21:08.775170Z"
    }
   },
   "outputs": [],
   "source": [
    "from neurodsp.plts.time_series import plot_time_series, plot_bursts\n",
    "from ripple_detection.core import gaussian_smooth"
   ]
  },
  {
   "cell_type": "code",
   "execution_count": 5,
   "metadata": {
    "execution": {
     "iopub.execute_input": "2020-12-29T23:21:09.247288Z",
     "iopub.status.busy": "2020-12-29T23:21:09.246858Z",
     "iopub.status.idle": "2020-12-29T23:21:09.266437Z",
     "shell.execute_reply": "2020-12-29T23:21:09.265835Z",
     "shell.execute_reply.started": "2020-12-29T23:21:09.247234Z"
    }
   },
   "outputs": [],
   "source": [
    "from ecephys.data import paths\n",
    "from ecephys.helpers import load_df_h5, add_attrs, replace_outliers\n",
    "from ecephys.scoring import load_visbrain_hypnogram, make_empty_hypnogram\n",
    "from ecephys.signal.ripples import get_epoched_event_density"
   ]
  },
  {
   "cell_type": "code",
   "execution_count": 6,
   "metadata": {
    "execution": {
     "iopub.execute_input": "2020-12-29T23:21:09.783059Z",
     "iopub.status.busy": "2020-12-29T23:21:09.782656Z",
     "iopub.status.idle": "2020-12-29T23:21:09.801296Z",
     "shell.execute_reply": "2020-12-29T23:21:09.800688Z",
     "shell.execute_reply.started": "2020-12-29T23:21:09.783013Z"
    }
   },
   "outputs": [],
   "source": [
    "SUBJECT = \"Doppio\"\n",
    "CONDITION = \"REC-2\"\n",
    "RECORDING_LENGTH = 7200"
   ]
  },
  {
   "cell_type": "code",
   "execution_count": 8,
   "metadata": {
    "execution": {
     "iopub.execute_input": "2020-12-29T23:24:01.874735Z",
     "iopub.status.busy": "2020-12-29T23:24:01.874256Z",
     "iopub.status.idle": "2020-12-29T23:24:02.027654Z",
     "shell.execute_reply": "2020-12-29T23:24:02.026771Z",
     "shell.execute_reply.started": "2020-12-29T23:24:01.874676Z"
    }
   },
   "outputs": [],
   "source": [
    "lfp_bandpower = xr.open_dataset(paths.get_datapath(subject=SUBJECT, condition=CONDITION, data=\"lfp_bandpower.nc\"))\n",
    "emg = xr.open_dataset(paths.get_datapath(subject=SUBJECT, condition=CONDITION, data=\"emg.nc\")).emg\n",
    "with pd.HDFStore(paths.get_datapath(subject=SUBJECT, condition=CONDITION, data=\"sharp_waves.h5\")) as store:\n",
    "    spws, spw_metadata = load_df_h5(store)\n",
    "    spws = add_attrs(spws, **spw_metadata)\n",
    "    \n",
    "try:\n",
    "    hypnogram_path = paths.get_datapath(subject=SUBJECT, condition=CONDITION, data=\"hypnogram.txt\")\n",
    "except IndexError:\n",
    "    hypnogram = make_empty_hypnogram(RECORDING_LENGTH)\n",
    "else:\n",
    "    hypnogram = load_visbrain_hypnogram(hypnogram_path)"
   ]
  },
  {
   "cell_type": "code",
   "execution_count": 9,
   "metadata": {
    "execution": {
     "iopub.execute_input": "2020-12-29T23:24:03.772920Z",
     "iopub.status.busy": "2020-12-29T23:24:03.772441Z",
     "iopub.status.idle": "2020-12-29T23:24:03.791292Z",
     "shell.execute_reply": "2020-12-29T23:24:03.790421Z",
     "shell.execute_reply.started": "2020-12-29T23:24:03.772862Z"
    }
   },
   "outputs": [],
   "source": [
    "def my_gaussian_smooth(da, smoothing_sigma=10):\n",
    "    estimated_fs = 1 / np.diff(da.time.values).mean()\n",
    "    return gaussian_smooth(da, smoothing_sigma, estimated_fs)"
   ]
  },
  {
   "cell_type": "code",
   "execution_count": 10,
   "metadata": {
    "execution": {
     "iopub.execute_input": "2020-12-29T23:24:04.123749Z",
     "iopub.status.busy": "2020-12-29T23:24:04.123323Z",
     "iopub.status.idle": "2020-12-29T23:24:04.597717Z",
     "shell.execute_reply": "2020-12-29T23:24:04.596520Z",
     "shell.execute_reply.started": "2020-12-29T23:24:04.123694Z"
    }
   },
   "outputs": [],
   "source": [
    "epochs = get_epoched_event_density(spws, np.min(hypnogram.start_time), np.max(hypnogram.end_time), epoch_length=10)\n",
    "td = (lfp_bandpower.sr_theta / lfp_bandpower.sr_delta).values\n",
    "td_smooth = my_gaussian_smooth(lfp_bandpower.sr_theta / lfp_bandpower.sr_delta, smoothing_sigma=4)\n",
    "density = gaussian_smooth(epochs.event_density.to_numpy(), 10, 0.1)"
   ]
  },
  {
   "cell_type": "code",
   "execution_count": 11,
   "metadata": {
    "execution": {
     "iopub.execute_input": "2020-12-29T23:24:04.634647Z",
     "iopub.status.busy": "2020-12-29T23:24:04.634530Z",
     "iopub.status.idle": "2020-12-29T23:24:05.223856Z",
     "shell.execute_reply": "2020-12-29T23:24:05.223168Z",
     "shell.execute_reply.started": "2020-12-29T23:24:04.634633Z"
    }
   },
   "outputs": [
    {
     "data": {
      "application/vnd.jupyter.widget-view+json": {
       "model_id": "a35ca7f46a0d43b0a9d960ea332706cc",
       "version_major": 2,
       "version_minor": 0
      },
      "text/plain": [
       "Canvas(toolbar=Toolbar(toolitems=[('Home', 'Reset original view', 'home', 'home'), ('Back', 'Back to previous …"
      ]
     },
     "metadata": {},
     "output_type": "display_data"
    }
   ],
   "source": [
    "fig, axes = plt.subplots(6, 1, figsize=(20, 10))\n",
    "plot_time_series(lfp_bandpower.time.values, lfp_bandpower.sr_delta.values, ax=axes[0], title=\"Stratum radiatum delta (0.5 - 4 Hz)\", ylabel=\"PSD (uV$^2$/Hz)\")\n",
    "plot_time_series(lfp_bandpower.time.values, lfp_bandpower.sr_theta.values, ax=axes[1], title=\"Stratum radiatum theta (5 - 10 Hz)\", ylabel=\"PSD (uV$^2$/Hz)\")\n",
    "plot_time_series(lfp_bandpower.time.values, td, ax=axes[2], title=\"Theta / Delta ratio\", ylabel=\"Ratio\")\n",
    "plot_time_series(lfp_bandpower.time.values, td_smooth, ax=axes[3], title=\"Theta / Delta ratio, smoothed w/ 4-second gaussian\", ylabel=\"Ratio\")\n",
    "plot_time_series(emg.time.values, emg.values, ax=axes[4], title=\"Buzsaki-style EMG\", ylabel=\"Corr\")\n",
    "plot_time_series(epochs.midpoint.to_numpy(), epochs.event_density.to_numpy(), ax=axes[5], title=\"SPW density (10s epochs)\", ylabel=\"Hz\")\n",
    "for i in range(1, len(axes)):\n",
    "    axes[i].set_xlim(axes[0].get_xlim())"
   ]
  },
  {
   "cell_type": "code",
   "execution_count": 12,
   "metadata": {
    "execution": {
     "iopub.execute_input": "2020-12-29T23:24:12.877311Z",
     "iopub.status.busy": "2020-12-29T23:24:12.876830Z",
     "iopub.status.idle": "2020-12-29T23:24:12.978115Z",
     "shell.execute_reply": "2020-12-29T23:24:12.977464Z",
     "shell.execute_reply.started": "2020-12-29T23:24:12.877254Z"
    }
   },
   "outputs": [
    {
     "data": {
      "application/vnd.jupyter.widget-view+json": {
       "model_id": "1ecbe79f74614e2083d7a5947fec823d",
       "version_major": 2,
       "version_minor": 0
      },
      "text/plain": [
       "Canvas(toolbar=Toolbar(toolitems=[('Home', 'Reset original view', 'home', 'home'), ('Back', 'Back to previous …"
      ]
     },
     "metadata": {},
     "output_type": "display_data"
    }
   ],
   "source": [
    "fig, ax1 = plt.subplots(figsize=(22, 3))\n",
    "plot_time_series(lfp_bandpower.time.values, td_smooth, ax=ax1, title = \"Theta/delta ratio (red) vs. SR sink density (black)\", ylabel=\"Ratio\", colors='red')\n",
    "ax2 = ax1.twinx()\n",
    "plot_time_series(epochs.midpoint.to_numpy(), density, ax=ax2, ylabel=\"Hz\")\n",
    "\n",
    "#ax1.axhline(threshold)"
   ]
  },
  {
   "cell_type": "markdown",
   "metadata": {
    "execution": {
     "iopub.execute_input": "2020-12-28T23:23:16.708038Z",
     "iopub.status.busy": "2020-12-28T23:23:16.707592Z",
     "iopub.status.idle": "2020-12-28T23:23:16.729131Z",
     "shell.execute_reply": "2020-12-28T23:23:16.728516Z",
     "shell.execute_reply.started": "2020-12-28T23:23:16.707980Z"
    }
   },
   "source": [
    "### Can the distribution of smoothed theta/delta ratios be separated? Maybe using KDE or GMM"
   ]
  },
  {
   "cell_type": "code",
   "execution_count": 13,
   "metadata": {
    "execution": {
     "iopub.execute_input": "2020-12-29T23:24:15.908589Z",
     "iopub.status.busy": "2020-12-29T23:24:15.908100Z",
     "iopub.status.idle": "2020-12-29T23:24:15.930974Z",
     "shell.execute_reply": "2020-12-29T23:24:15.930187Z",
     "shell.execute_reply.started": "2020-12-29T23:24:15.908533Z"
    }
   },
   "outputs": [],
   "source": [
    "from ripple_detection.core import segment_boolean_series\n",
    "\n",
    "def below_threshold_intervals(sig, threshold, time):\n",
    "    _is_below_threshold = pd.Series(sig < threshold, index=time)\n",
    "    return segment_boolean_series(_is_below_threshold, minimum_duration=0)\n",
    "\n",
    "def above_threshold_intervals(sig, threshold, time):\n",
    "    _is_below_threshold = pd.Series(sig > threshold, index=time)\n",
    "    return segment_boolean_series(_is_below_threshold, minimum_duration=0)"
   ]
  },
  {
   "cell_type": "code",
   "execution_count": 14,
   "metadata": {
    "execution": {
     "iopub.execute_input": "2020-12-29T23:24:17.101648Z",
     "iopub.status.busy": "2020-12-29T23:24:17.101218Z",
     "iopub.status.idle": "2020-12-29T23:24:17.178231Z",
     "shell.execute_reply": "2020-12-29T23:24:17.177281Z",
     "shell.execute_reply.started": "2020-12-29T23:24:17.101592Z"
    }
   },
   "outputs": [
    {
     "data": {
      "application/vnd.jupyter.widget-view+json": {
       "model_id": "71957b24c814447ea15c2a241651b291",
       "version_major": 2,
       "version_minor": 0
      },
      "text/plain": [
       "Canvas(toolbar=Toolbar(toolitems=[('Home', 'Reset original view', 'home', 'home'), ('Back', 'Back to previous …"
      ]
     },
     "metadata": {},
     "output_type": "display_data"
    }
   ],
   "source": [
    "fig, ax1 = plt.subplots()\n",
    "plt.hist(td_smooth, bins=100)\n",
    "#ax1.axvline(np.quantile(td_smooth, 0.25), color='r')\n",
    "#ax1.axvline(np.quantile(td_smooth, 0.50), color='g')\n",
    "plt.show()"
   ]
  },
  {
   "cell_type": "code",
   "execution_count": 15,
   "metadata": {
    "execution": {
     "iopub.execute_input": "2020-12-29T23:24:17.957072Z",
     "iopub.status.busy": "2020-12-29T23:24:17.956603Z",
     "iopub.status.idle": "2020-12-29T23:24:18.106211Z",
     "shell.execute_reply": "2020-12-29T23:24:18.105519Z",
     "shell.execute_reply.started": "2020-12-29T23:24:17.957014Z"
    }
   },
   "outputs": [
    {
     "data": {
      "application/vnd.jupyter.widget-view+json": {
       "model_id": "e7d5410022054af0bbb2b89d53b457df",
       "version_major": 2,
       "version_minor": 0
      },
      "text/plain": [
       "Canvas(toolbar=Toolbar(toolitems=[('Home', 'Reset original view', 'home', 'home'), ('Back', 'Back to previous …"
      ]
     },
     "metadata": {},
     "output_type": "display_data"
    }
   ],
   "source": [
    "fig, ax1 = plt.subplots()\n",
    "plt.hist(np.log(td_smooth), bins=100)\n",
    "plt.show()"
   ]
  },
  {
   "cell_type": "code",
   "execution_count": 19,
   "metadata": {
    "execution": {
     "iopub.execute_input": "2020-12-29T23:24:38.478040Z",
     "iopub.status.busy": "2020-12-29T23:24:38.477590Z",
     "iopub.status.idle": "2020-12-29T23:24:38.555930Z",
     "shell.execute_reply": "2020-12-29T23:24:38.555247Z",
     "shell.execute_reply.started": "2020-12-29T23:24:38.477983Z"
    }
   },
   "outputs": [
    {
     "data": {
      "application/vnd.jupyter.widget-view+json": {
       "model_id": "a979fe074a414bff92ca665542430053",
       "version_major": 2,
       "version_minor": 0
      },
      "text/plain": [
       "Canvas(toolbar=Toolbar(toolitems=[('Home', 'Reset original view', 'home', 'home'), ('Back', 'Back to previous …"
      ]
     },
     "metadata": {},
     "output_type": "display_data"
    }
   ],
   "source": [
    "fig, ax1 = plt.subplots()\n",
    "plt.hist(zscore(np.log(td_smooth)), bins=100)\n",
    "plt.show()"
   ]
  },
  {
   "cell_type": "code",
   "execution_count": 130,
   "metadata": {
    "execution": {
     "iopub.execute_input": "2020-12-29T23:43:25.342256Z",
     "iopub.status.busy": "2020-12-29T23:43:25.341748Z",
     "iopub.status.idle": "2020-12-29T23:43:25.368338Z",
     "shell.execute_reply": "2020-12-29T23:43:25.367583Z",
     "shell.execute_reply.started": "2020-12-29T23:43:25.342177Z"
    }
   },
   "outputs": [
    {
     "name": "stdout",
     "output_type": "stream",
     "text": [
      "5.43151315557674\n"
     ]
    }
   ],
   "source": [
    "tds_threshold = td_smooth[zscore(np.log(td_smooth)) < 1].max()\n",
    "print(tds_threshold)\n",
    "tds_below_threshold_intervals = below_threshold_intervals(td_smooth, tds_threshold, lfp_bandpower.time.values)"
   ]
  },
  {
   "cell_type": "code",
   "execution_count": 131,
   "metadata": {
    "execution": {
     "iopub.execute_input": "2020-12-29T23:43:25.693815Z",
     "iopub.status.busy": "2020-12-29T23:43:25.693670Z",
     "iopub.status.idle": "2020-12-29T23:43:25.796123Z",
     "shell.execute_reply": "2020-12-29T23:43:25.795539Z",
     "shell.execute_reply.started": "2020-12-29T23:43:25.693799Z"
    }
   },
   "outputs": [
    {
     "data": {
      "application/vnd.jupyter.widget-view+json": {
       "model_id": "21a1786022ae4d8e9492d8344526040d",
       "version_major": 2,
       "version_minor": 0
      },
      "text/plain": [
       "Canvas(toolbar=Toolbar(toolitems=[('Home', 'Reset original view', 'home', 'home'), ('Back', 'Back to previous …"
      ]
     },
     "metadata": {},
     "output_type": "display_data"
    },
    {
     "data": {
      "text/plain": [
       "<matplotlib.lines.Line2D at 0x7f3561550090>"
      ]
     },
     "execution_count": 131,
     "metadata": {},
     "output_type": "execute_result"
    }
   ],
   "source": [
    "fig, ax1 = plt.subplots(figsize=(22, 3))\n",
    "plot_time_series(lfp_bandpower.time.values, td_smooth, ax=ax1, ylabel=\"Ratio\", colors='red')\n",
    "ax2 = ax1.twinx()\n",
    "plot_time_series(epochs.midpoint.to_numpy(), density, ax=ax2, ylabel=\"Hz\")\n",
    "\n",
    "ax1.axhline(tds_threshold)"
   ]
  },
  {
   "cell_type": "markdown",
   "metadata": {
    "collapsed": "true"
   },
   "source": [
    "#### If bimodal"
   ]
  },
  {
   "cell_type": "code",
   "execution_count": 180,
   "metadata": {
    "execution": {
     "iopub.execute_input": "2020-12-28T23:24:01.915382Z",
     "iopub.status.busy": "2020-12-28T23:24:01.914952Z",
     "iopub.status.idle": "2020-12-28T23:24:02.300327Z",
     "shell.execute_reply": "2020-12-28T23:24:02.299718Z",
     "shell.execute_reply.started": "2020-12-28T23:24:01.915327Z"
    }
   },
   "outputs": [
    {
     "data": {
      "text/plain": [
       "<matplotlib.lines.Line2D at 0x7fe6f014f8d0>"
      ]
     },
     "execution_count": 180,
     "metadata": {},
     "output_type": "execute_result"
    },
    {
     "data": {
      "image/png": "[encoded data removed]",
      "text/plain": [
       "<Figure size 432x288 with 1 Axes>"
      ]
     },
     "metadata": {
      "needs_background": "light"
     },
     "output_type": "display_data"
    }
   ],
   "source": [
    "from sklearn.neighbors import KernelDensity\n",
    "\n",
    "x = td_ratio\n",
    "x_d = np.linspace(0, 10, 1000)\n",
    "\n",
    "# instantiate and fit the KDE model\n",
    "kde = KernelDensity(bandwidth=0.25, kernel='gaussian')\n",
    "kde.fit(x[:, None])\n",
    "\n",
    "# score_samples returns the log of the probability density\n",
    "logprob = kde.score_samples(x_d[:, None])\n",
    "\n",
    "plt.fill_between(x_d, np.exp(logprob), alpha=0.5)\n",
    "plt.plot(x, np.full_like(x, -0.01), '|k', markeredgewidth=1)\n",
    "plt.axvline(threshold)"
   ]
  },
  {
   "cell_type": "code",
   "execution_count": 125,
   "metadata": {
    "execution": {
     "iopub.execute_input": "2020-12-28T22:55:27.682691Z",
     "iopub.status.busy": "2020-12-28T22:55:27.682240Z",
     "iopub.status.idle": "2020-12-28T22:55:27.871575Z",
     "shell.execute_reply": "2020-12-28T22:55:27.870927Z",
     "shell.execute_reply.started": "2020-12-28T22:55:27.682634Z"
    }
   },
   "outputs": [
    {
     "data": {
      "image/png": "[encoded data removed]",
      "text/plain": [
       "<Figure size 432x288 with 1 Axes>"
      ]
     },
     "metadata": {
      "needs_background": "light"
     },
     "output_type": "display_data"
    }
   ],
   "source": [
    "fig, ax1 = plt.subplots()\n",
    "plt.hist(kde.sample(int(1e6)), bins=50)\n",
    "plt.show()"
   ]
  },
  {
   "cell_type": "code",
   "execution_count": 167,
   "metadata": {
    "execution": {
     "iopub.execute_input": "2020-12-28T23:18:34.979318Z",
     "iopub.status.busy": "2020-12-28T23:18:34.978888Z",
     "iopub.status.idle": "2020-12-28T23:18:35.281051Z",
     "shell.execute_reply": "2020-12-28T23:18:35.280625Z",
     "shell.execute_reply.started": "2020-12-28T23:18:34.979262Z"
    }
   },
   "outputs": [
    {
     "data": {
      "image/png": "[encoded data removed]",
      "text/plain": [
       "<Figure size 432x288 with 1 Axes>"
      ]
     },
     "metadata": {
      "needs_background": "light"
     },
     "output_type": "display_data"
    }
   ],
   "source": [
    "from matplotlib import rc\n",
    "from sklearn import mixture\n",
    "import matplotlib.pyplot as plt\n",
    "import numpy as np\n",
    "import matplotlib\n",
    "import matplotlib.ticker as tkr\n",
    "import scipy.stats as stats\n",
    "\n",
    "# x = open(\"prueba.dat\").read().splitlines()\n",
    "\n",
    "# create the data\n",
    "x = td_ratio\n",
    "\n",
    "f = np.ravel(x).astype(np.float)\n",
    "f=f.reshape(-1,1)\n",
    "g = mixture.GaussianMixture(n_components=2,covariance_type='full')\n",
    "g.fit(f)\n",
    "weights = g.weights_\n",
    "means = g.means_\n",
    "covars = g.covariances_\n",
    "\n",
    "plt.hist(f, bins=100, histtype='bar', density=True, alpha=0.5)\n",
    "\n",
    "f_axis = f.copy().ravel()\n",
    "f_axis.sort()\n",
    "plt.plot(f_axis,weights[0]*stats.norm.pdf(f_axis,means[0],np.sqrt(covars[0])).ravel(), c='red')\n",
    "plt.plot(f_axis,weights[1]*stats.norm.pdf(f_axis,means[1],np.sqrt(covars[1])).ravel(), c='green')\n",
    "\n",
    "\n",
    "plt.grid()\n",
    "plt.show()"
   ]
  },
  {
   "cell_type": "code",
   "execution_count": 585,
   "metadata": {
    "execution": {
     "iopub.execute_input": "2020-12-29T19:47:38.843972Z",
     "iopub.status.busy": "2020-12-29T19:47:38.843853Z",
     "iopub.status.idle": "2020-12-29T19:47:39.030627Z",
     "shell.execute_reply": "2020-12-29T19:47:39.030286Z",
     "shell.execute_reply.started": "2020-12-29T19:47:38.843955Z"
    }
   },
   "outputs": [
    {
     "data": {
      "application/vnd.jupyter.widget-view+json": {
       "model_id": "f1dcdc42e96d483780a7c99414294e93",
       "version_major": 2,
       "version_minor": 0
      },
      "text/plain": [
       "Canvas(toolbar=Toolbar(toolitems=[('Home', 'Reset original view', 'home', 'home'), ('Back', 'Back to previous …"
      ]
     },
     "metadata": {},
     "output_type": "display_data"
    }
   ],
   "source": [
    "from matplotlib import rc\n",
    "from sklearn import mixture\n",
    "import matplotlib.pyplot as plt\n",
    "import matplotlib.ticker as tkr\n",
    "import scipy.stats as stats\n",
    "\n",
    "# x = open(\"prueba.dat\").read().splitlines()\n",
    "\n",
    "# create the data\n",
    "x = td_ratio\n",
    "\n",
    "f = np.ravel(x).astype(np.float)\n",
    "f=f.reshape(-1,1)\n",
    "g = mixture.GaussianMixture(n_components=3,covariance_type='full')\n",
    "g.fit(f)\n",
    "weights = g.weights_\n",
    "means = g.means_\n",
    "covars = g.covariances_\n",
    "\n",
    "plt.hist(f, bins=100, histtype='bar', density=True, alpha=0.5)\n",
    "\n",
    "f_axis = f.copy().ravel()\n",
    "f_axis.sort()\n",
    "plt.plot(f_axis,weights[0]*stats.norm.pdf(f_axis,means[0],np.sqrt(covars[0])).ravel(), c='red')\n",
    "plt.plot(f_axis,weights[1]*stats.norm.pdf(f_axis,means[1],np.sqrt(covars[1])).ravel(), c='green')\n",
    "plt.plot(f_axis,weights[2]*stats.norm.pdf(f_axis,means[2],np.sqrt(covars[2])).ravel(), c='yellow')\n",
    "\n",
    "\n",
    "plt.grid()\n",
    "plt.show()"
   ]
  },
  {
   "cell_type": "code",
   "execution_count": 162,
   "metadata": {
    "execution": {
     "iopub.execute_input": "2020-12-28T23:16:33.378326Z",
     "iopub.status.busy": "2020-12-28T23:16:33.377886Z",
     "iopub.status.idle": "2020-12-28T23:16:34.266103Z",
     "shell.execute_reply": "2020-12-28T23:16:34.265199Z",
     "shell.execute_reply.started": "2020-12-28T23:16:33.378268Z"
    }
   },
   "outputs": [
    {
     "data": {
      "image/png": "[encoded data removed]",
      "text/plain": [
       "<Figure size 2160x720 with 3 Axes>"
      ]
     },
     "metadata": {
      "needs_background": "light"
     },
     "output_type": "display_data"
    }
   ],
   "source": [
    "# Author: Jake VanderPlas\n",
    "# License: BSD\n",
    "#   The figure produced by this code is published in the textbook\n",
    "#   \"Statistics, Data Mining, and Machine Learning in Astronomy\" (2013)\n",
    "#   For more information, see http://astroML.github.com\n",
    "#   To report a bug or issue, use the following forum:\n",
    "#    https://groups.google.com/forum/#!forum/astroml-general\n",
    "from matplotlib import pyplot as plt\n",
    "import numpy as np\n",
    "from sklearn.mixture import GaussianMixture\n",
    "\n",
    "#----------------------------------------------------------------------\n",
    "x = td_ratio\n",
    "f = np.ravel(x).astype(np.float)\n",
    "f=f.reshape(-1,1)\n",
    "X = f\n",
    "\n",
    "#------------------------------------------------------------\n",
    "# Learn the best-fit GaussianMixture models\n",
    "#  Here we'll use scikit-learn's GaussianMixture model. The fit() method\n",
    "#  uses an Expectation-Maximization approach to find the best\n",
    "#  mixture of Gaussians for the data\n",
    "\n",
    "# fit models with 1-10 components\n",
    "N = np.arange(1, 11)\n",
    "models = [None for i in range(len(N))]\n",
    "\n",
    "for i in range(len(N)):\n",
    "    models[i] = GaussianMixture(N[i]).fit(X)\n",
    "\n",
    "# compute the AIC and the BIC\n",
    "AIC = [m.aic(X) for m in models]\n",
    "BIC = [m.bic(X) for m in models]\n",
    "\n",
    "#------------------------------------------------------------\n",
    "# Plot the results\n",
    "#  We'll use three panels:\n",
    "#   1) data + best-fit mixture\n",
    "#   2) AIC and BIC vs number of components\n",
    "#   3) probability that a point came from each component\n",
    "\n",
    "fig = plt.figure(figsize=(30, 10))\n",
    "\n",
    "# plot 1: data + best-fit mixture\n",
    "ax = fig.add_subplot(131)\n",
    "M_best = models[np.argmin(AIC)]\n",
    "\n",
    "x = np.linspace(X.min(), x.max(), 1000)\n",
    "logprob = M_best.score_samples(x.reshape(-1, 1))\n",
    "responsibilities = M_best.predict_proba(x.reshape(-1, 1))\n",
    "pdf = np.exp(logprob)\n",
    "pdf_individual = responsibilities * pdf[:, np.newaxis]\n",
    "\n",
    "ax.hist(X, 100, density=True, histtype='stepfilled', alpha=0.4)\n",
    "ax.plot(x, pdf, '-k')\n",
    "ax.plot(x, pdf_individual, '--k')\n",
    "ax.text(0.04, 0.96, \"Best-fit Mixture\",\n",
    "        ha='left', va='top', transform=ax.transAxes)\n",
    "ax.set_xlabel('$x$')\n",
    "ax.set_ylabel('$p(x)$')\n",
    "\n",
    "\n",
    "# plot 2: AIC and BIC\n",
    "ax = fig.add_subplot(132)\n",
    "ax.plot(N, AIC, '-k', label='AIC')\n",
    "ax.plot(N, BIC, '--k', label='BIC')\n",
    "ax.set_xlabel('n. components')\n",
    "ax.set_ylabel('information criterion')\n",
    "ax.legend(loc=2)\n",
    "\n",
    "\n",
    "# plot 3: posterior probabilities for each component\n",
    "ax = fig.add_subplot(133)\n",
    "\n",
    "p = responsibilities\n",
    "#p = p[:, (1, 0, 2)]  # rearrange order so the plot looks better\n",
    "p = p.cumsum(1).T\n",
    "\n",
    "ax.fill_between(x, 0, p[0], color='gray', alpha=0.3)\n",
    "ax.fill_between(x, p[0], p[1], color='gray', alpha=0.5)\n",
    "ax.fill_between(x, p[1], p[2], color='gray', alpha=0.7)\n",
    "ax.set_xlim(X.min(), x.max())\n",
    "ax.set_ylim(0, 1)\n",
    "ax.set_xlabel('$x$')\n",
    "ax.set_ylabel(r'$p({\\rm class}|x)$')\n",
    "\n",
    "plt.show()"
   ]
  },
  {
   "cell_type": "markdown",
   "metadata": {},
   "source": [
    "### Can the distribution of EMG values be separated? Maybe using zscore"
   ]
  },
  {
   "cell_type": "markdown",
   "metadata": {},
   "source": [
    "#### Raw EMG"
   ]
  },
  {
   "cell_type": "code",
   "execution_count": 24,
   "metadata": {
    "execution": {
     "iopub.execute_input": "2020-12-29T23:25:25.420677Z",
     "iopub.status.busy": "2020-12-29T23:25:25.420193Z",
     "iopub.status.idle": "2020-12-29T23:25:25.501374Z",
     "shell.execute_reply": "2020-12-29T23:25:25.500521Z",
     "shell.execute_reply.started": "2020-12-29T23:25:25.420617Z"
    }
   },
   "outputs": [
    {
     "data": {
      "application/vnd.jupyter.widget-view+json": {
       "model_id": "ac6922c1fafa4ef3824618aba4233b20",
       "version_major": 2,
       "version_minor": 0
      },
      "text/plain": [
       "Canvas(toolbar=Toolbar(toolitems=[('Home', 'Reset original view', 'home', 'home'), ('Back', 'Back to previous …"
      ]
     },
     "metadata": {},
     "output_type": "display_data"
    }
   ],
   "source": [
    "fig, ax1 = plt.subplots()\n",
    "plt.hist(emg.values, bins=100)\n",
    "plt.show()"
   ]
  },
  {
   "cell_type": "code",
   "execution_count": 25,
   "metadata": {
    "execution": {
     "iopub.execute_input": "2020-12-29T23:25:26.718119Z",
     "iopub.status.busy": "2020-12-29T23:25:26.717689Z",
     "iopub.status.idle": "2020-12-29T23:25:26.868953Z",
     "shell.execute_reply": "2020-12-29T23:25:26.868289Z",
     "shell.execute_reply.started": "2020-12-29T23:25:26.718062Z"
    }
   },
   "outputs": [
    {
     "data": {
      "application/vnd.jupyter.widget-view+json": {
       "model_id": "a580c1a96bf04346a658415dcd3e3754",
       "version_major": 2,
       "version_minor": 0
      },
      "text/plain": [
       "Canvas(toolbar=Toolbar(toolitems=[('Home', 'Reset original view', 'home', 'home'), ('Back', 'Back to previous …"
      ]
     },
     "metadata": {},
     "output_type": "display_data"
    }
   ],
   "source": [
    "from ecephys.helpers import discard_outliers\n",
    "from scipy.stats import zscore\n",
    "\n",
    "fig, ax1 = plt.subplots()\n",
    "plt.hist(zscore(discard_outliers(emg.values)), bins=100)\n",
    "plt.show()"
   ]
  },
  {
   "cell_type": "code",
   "execution_count": 26,
   "metadata": {
    "execution": {
     "iopub.execute_input": "2020-12-29T23:25:32.094242Z",
     "iopub.status.busy": "2020-12-29T23:25:32.093754Z",
     "iopub.status.idle": "2020-12-29T23:25:32.136219Z",
     "shell.execute_reply": "2020-12-29T23:25:32.135600Z",
     "shell.execute_reply.started": "2020-12-29T23:25:32.094183Z"
    }
   },
   "outputs": [
    {
     "name": "stdout",
     "output_type": "stream",
     "text": [
      "0.323227407701386\n"
     ]
    }
   ],
   "source": [
    "emg_threshold = emg.values[zscore(emg.values) < 0].max()\n",
    "print(emg_threshold)\n",
    "emg_below_threshold_intervals = below_threshold_intervals(emg.values, emg_threshold, emg.time.values)"
   ]
  },
  {
   "cell_type": "code",
   "execution_count": 27,
   "metadata": {
    "execution": {
     "iopub.execute_input": "2020-12-29T23:25:34.271762Z",
     "iopub.status.busy": "2020-12-29T23:25:34.271302Z",
     "iopub.status.idle": "2020-12-29T23:25:34.343043Z",
     "shell.execute_reply": "2020-12-29T23:25:34.342397Z",
     "shell.execute_reply.started": "2020-12-29T23:25:34.271705Z"
    }
   },
   "outputs": [
    {
     "data": {
      "application/vnd.jupyter.widget-view+json": {
       "model_id": "8488b07b4c984abd8bcff26f5778d191",
       "version_major": 2,
       "version_minor": 0
      },
      "text/plain": [
       "Canvas(toolbar=Toolbar(toolitems=[('Home', 'Reset original view', 'home', 'home'), ('Back', 'Back to previous …"
      ]
     },
     "metadata": {},
     "output_type": "display_data"
    },
    {
     "data": {
      "text/plain": [
       "<matplotlib.collections.LineCollection at 0x7f356d4def50>"
      ]
     },
     "execution_count": 27,
     "metadata": {},
     "output_type": "execute_result"
    }
   ],
   "source": [
    "fig, ax1 = plt.subplots(figsize=(22, 3))\n",
    "plot_time_series(epochs.midpoint.to_numpy(), density, ax=ax1, ylabel=\"Hz\")\n",
    "ax1.hlines(np.zeros(len(emg_below_threshold_intervals)), xmin=[lo for lo, hi in emg_below_threshold_intervals], xmax=[hi for lo, hi in emg_below_threshold_intervals])"
   ]
  },
  {
   "cell_type": "markdown",
   "metadata": {},
   "source": [
    "#### Smoothed EMG"
   ]
  },
  {
   "cell_type": "code",
   "execution_count": 28,
   "metadata": {
    "execution": {
     "iopub.execute_input": "2020-12-29T23:25:49.247192Z",
     "iopub.status.busy": "2020-12-29T23:25:49.246716Z",
     "iopub.status.idle": "2020-12-29T23:25:49.359252Z",
     "shell.execute_reply": "2020-12-29T23:25:49.358442Z",
     "shell.execute_reply.started": "2020-12-29T23:25:49.247124Z"
    }
   },
   "outputs": [],
   "source": [
    "emg_smooth = my_gaussian_smooth(emg, smoothing_sigma=4)"
   ]
  },
  {
   "cell_type": "code",
   "execution_count": 36,
   "metadata": {
    "execution": {
     "iopub.execute_input": "2020-12-29T23:28:09.697634Z",
     "iopub.status.busy": "2020-12-29T23:28:09.697168Z",
     "iopub.status.idle": "2020-12-29T23:28:09.820506Z",
     "shell.execute_reply": "2020-12-29T23:28:09.819783Z",
     "shell.execute_reply.started": "2020-12-29T23:28:09.697576Z"
    }
   },
   "outputs": [
    {
     "data": {
      "application/vnd.jupyter.widget-view+json": {
       "model_id": "2a8d0ff144264e1fb8cf791544225d57",
       "version_major": 2,
       "version_minor": 0
      },
      "text/plain": [
       "Canvas(toolbar=Toolbar(toolitems=[('Home', 'Reset original view', 'home', 'home'), ('Back', 'Back to previous …"
      ]
     },
     "metadata": {},
     "output_type": "display_data"
    }
   ],
   "source": [
    "fig, ax1 = plt.subplots()\n",
    "plt.hist(emg_smooth, bins=100)\n",
    "plt.show()"
   ]
  },
  {
   "cell_type": "code",
   "execution_count": 37,
   "metadata": {
    "execution": {
     "iopub.execute_input": "2020-12-29T23:28:16.482618Z",
     "iopub.status.busy": "2020-12-29T23:28:16.482118Z",
     "iopub.status.idle": "2020-12-29T23:28:16.571115Z",
     "shell.execute_reply": "2020-12-29T23:28:16.570411Z",
     "shell.execute_reply.started": "2020-12-29T23:28:16.482543Z"
    }
   },
   "outputs": [
    {
     "data": {
      "application/vnd.jupyter.widget-view+json": {
       "model_id": "08df0fd727884c6f81a65a24799b029b",
       "version_major": 2,
       "version_minor": 0
      },
      "text/plain": [
       "Canvas(toolbar=Toolbar(toolitems=[('Home', 'Reset original view', 'home', 'home'), ('Back', 'Back to previous …"
      ]
     },
     "metadata": {},
     "output_type": "display_data"
    }
   ],
   "source": [
    "from ecephys.helpers import discard_outliers\n",
    "from scipy.stats import zscore\n",
    "\n",
    "fig, ax1 = plt.subplots()\n",
    "plt.hist(zscore(discard_outliers(emg_smooth)), bins=100)\n",
    "plt.show()"
   ]
  },
  {
   "cell_type": "code",
   "execution_count": 38,
   "metadata": {
    "execution": {
     "iopub.execute_input": "2020-12-29T23:28:31.995472Z",
     "iopub.status.busy": "2020-12-29T23:28:31.995002Z",
     "iopub.status.idle": "2020-12-29T23:28:32.119713Z",
     "shell.execute_reply": "2020-12-29T23:28:32.119027Z",
     "shell.execute_reply.started": "2020-12-29T23:28:31.995414Z"
    }
   },
   "outputs": [
    {
     "data": {
      "application/vnd.jupyter.widget-view+json": {
       "model_id": "bc7cc563f3334d0bbbdf3e77a902629f",
       "version_major": 2,
       "version_minor": 0
      },
      "text/plain": [
       "Canvas(toolbar=Toolbar(toolitems=[('Home', 'Reset original view', 'home', 'home'), ('Back', 'Back to previous …"
      ]
     },
     "metadata": {},
     "output_type": "display_data"
    }
   ],
   "source": [
    "fig, (ax1, ax2) = plt.subplots(2, 1, figsize=(22, 6))\n",
    "plot_time_series(emg.time.values, emg.values, ax=ax1, title=\"EMG\", ylabel=\"Corr\")\n",
    "plot_time_series(emg.time.values, emg_smooth, ax=ax2, title=\"Smoothed EMG\", ylabel=\"Corr\")"
   ]
  },
  {
   "cell_type": "code",
   "execution_count": 116,
   "metadata": {
    "execution": {
     "iopub.execute_input": "2020-12-29T23:41:58.547320Z",
     "iopub.status.busy": "2020-12-29T23:41:58.546848Z",
     "iopub.status.idle": "2020-12-29T23:41:58.592671Z",
     "shell.execute_reply": "2020-12-29T23:41:58.591858Z",
     "shell.execute_reply.started": "2020-12-29T23:41:58.547253Z"
    }
   },
   "outputs": [
    {
     "name": "stdout",
     "output_type": "stream",
     "text": [
      "0.32309091289950015\n"
     ]
    }
   ],
   "source": [
    "emgs_threshold = emg_smooth[zscore(emg_smooth) < 0].max()\n",
    "print(emgs_threshold)\n",
    "emgs_below_threshold_intervals = below_threshold_intervals(emg_smooth, emgs_threshold, emg.time.values)"
   ]
  },
  {
   "cell_type": "code",
   "execution_count": 117,
   "metadata": {
    "execution": {
     "iopub.execute_input": "2020-12-29T23:41:58.827563Z",
     "iopub.status.busy": "2020-12-29T23:41:58.827373Z",
     "iopub.status.idle": "2020-12-29T23:41:58.895289Z",
     "shell.execute_reply": "2020-12-29T23:41:58.894805Z",
     "shell.execute_reply.started": "2020-12-29T23:41:58.827539Z"
    }
   },
   "outputs": [
    {
     "data": {
      "application/vnd.jupyter.widget-view+json": {
       "model_id": "0ec8965367c44ad08a6b6a1307992b0c",
       "version_major": 2,
       "version_minor": 0
      },
      "text/plain": [
       "Canvas(toolbar=Toolbar(toolitems=[('Home', 'Reset original view', 'home', 'home'), ('Back', 'Back to previous …"
      ]
     },
     "metadata": {},
     "output_type": "display_data"
    },
    {
     "data": {
      "text/plain": [
       "<matplotlib.collections.LineCollection at 0x7f35627082d0>"
      ]
     },
     "execution_count": 117,
     "metadata": {},
     "output_type": "execute_result"
    }
   ],
   "source": [
    "fig, ax1 = plt.subplots(figsize=(22, 3))\n",
    "plot_time_series(epochs.midpoint.to_numpy(), density, ax=ax1, ylabel=\"Hz\")\n",
    "ax1.hlines(np.zeros(len(emgs_below_threshold_intervals)), xmin=[lo for lo, hi in emgs_below_threshold_intervals], xmax=[hi for lo, hi in emgs_below_threshold_intervals])"
   ]
  },
  {
   "cell_type": "markdown",
   "metadata": {},
   "source": [
    "### Can the distribution of actual theta/delta ratios be separated? Maybe using zscore"
   ]
  },
  {
   "cell_type": "code",
   "execution_count": 41,
   "metadata": {
    "execution": {
     "iopub.execute_input": "2020-12-29T23:28:50.121633Z",
     "iopub.status.busy": "2020-12-29T23:28:50.121209Z",
     "iopub.status.idle": "2020-12-29T23:28:50.206725Z",
     "shell.execute_reply": "2020-12-29T23:28:50.205983Z",
     "shell.execute_reply.started": "2020-12-29T23:28:50.121580Z"
    }
   },
   "outputs": [
    {
     "data": {
      "application/vnd.jupyter.widget-view+json": {
       "model_id": "78200e936dba4c879d011eebb5ea7385",
       "version_major": 2,
       "version_minor": 0
      },
      "text/plain": [
       "Canvas(toolbar=Toolbar(toolitems=[('Home', 'Reset original view', 'home', 'home'), ('Back', 'Back to previous …"
      ]
     },
     "metadata": {},
     "output_type": "display_data"
    }
   ],
   "source": [
    "td = (lfp_bandpower.sr_theta / lfp_bandpower.sr_delta).values\n",
    "\n",
    "fig, ax1 = plt.subplots()\n",
    "plt.hist(td, bins=100)\n",
    "ax1.set_xlim(0, 20)\n",
    "plt.show()"
   ]
  },
  {
   "cell_type": "code",
   "execution_count": 42,
   "metadata": {
    "execution": {
     "iopub.execute_input": "2020-12-29T23:28:51.402393Z",
     "iopub.status.busy": "2020-12-29T23:28:51.402272Z",
     "iopub.status.idle": "2020-12-29T23:28:51.579796Z",
     "shell.execute_reply": "2020-12-29T23:28:51.579064Z",
     "shell.execute_reply.started": "2020-12-29T23:28:51.402377Z"
    }
   },
   "outputs": [
    {
     "data": {
      "application/vnd.jupyter.widget-view+json": {
       "model_id": "15e815cbbc49471aa92b74e702966e2c",
       "version_major": 2,
       "version_minor": 0
      },
      "text/plain": [
       "Canvas(toolbar=Toolbar(toolitems=[('Home', 'Reset original view', 'home', 'home'), ('Back', 'Back to previous …"
      ]
     },
     "metadata": {},
     "output_type": "display_data"
    }
   ],
   "source": [
    "tdl = np.log((lfp_bandpower.sr_theta / lfp_bandpower.sr_delta).values)\n",
    "\n",
    "fig, ax1 = plt.subplots()\n",
    "plt.hist(tdl, bins=100)\n",
    "ax1.set_xlim(-5, 5)\n",
    "plt.show()"
   ]
  },
  {
   "cell_type": "code",
   "execution_count": 43,
   "metadata": {
    "execution": {
     "iopub.execute_input": "2020-12-29T23:28:52.807681Z",
     "iopub.status.busy": "2020-12-29T23:28:52.807562Z",
     "iopub.status.idle": "2020-12-29T23:28:52.888655Z",
     "shell.execute_reply": "2020-12-29T23:28:52.887993Z",
     "shell.execute_reply.started": "2020-12-29T23:28:52.807664Z"
    }
   },
   "outputs": [
    {
     "data": {
      "application/vnd.jupyter.widget-view+json": {
       "model_id": "9fc3fbf5678042a4b250160c4ac587f8",
       "version_major": 2,
       "version_minor": 0
      },
      "text/plain": [
       "Canvas(toolbar=Toolbar(toolitems=[('Home', 'Reset original view', 'home', 'home'), ('Back', 'Back to previous …"
      ]
     },
     "metadata": {},
     "output_type": "display_data"
    }
   ],
   "source": [
    "fig, ax1 = plt.subplots()\n",
    "plt.hist(zscore(tdl), bins=100)\n",
    "ax1.set_xlim(-5, 5)\n",
    "plt.show()"
   ]
  },
  {
   "cell_type": "code",
   "execution_count": 45,
   "metadata": {
    "execution": {
     "iopub.execute_input": "2020-12-29T23:28:54.253202Z",
     "iopub.status.busy": "2020-12-29T23:28:54.253064Z",
     "iopub.status.idle": "2020-12-29T23:28:54.271344Z",
     "shell.execute_reply": "2020-12-29T23:28:54.270888Z",
     "shell.execute_reply.started": "2020-12-29T23:28:54.253184Z"
    }
   },
   "outputs": [
    {
     "name": "stdout",
     "output_type": "stream",
     "text": [
      "5.637160365817211\n"
     ]
    }
   ],
   "source": [
    "td_threshold = td[zscore(tdl) < 1].max()\n",
    "print(td_threshold)\n",
    "td_below_threshold_intervals = below_threshold_intervals(td, td_threshold, lfp_bandpower.time.values)"
   ]
  },
  {
   "cell_type": "code",
   "execution_count": 46,
   "metadata": {
    "execution": {
     "iopub.execute_input": "2020-12-29T23:28:54.762493Z",
     "iopub.status.busy": "2020-12-29T23:28:54.762071Z",
     "iopub.status.idle": "2020-12-29T23:28:54.863146Z",
     "shell.execute_reply": "2020-12-29T23:28:54.862515Z",
     "shell.execute_reply.started": "2020-12-29T23:28:54.762437Z"
    }
   },
   "outputs": [
    {
     "data": {
      "application/vnd.jupyter.widget-view+json": {
       "model_id": "b1a66bd9ce6d47eeae286cd9d89eebc3",
       "version_major": 2,
       "version_minor": 0
      },
      "text/plain": [
       "Canvas(toolbar=Toolbar(toolitems=[('Home', 'Reset original view', 'home', 'home'), ('Back', 'Back to previous …"
      ]
     },
     "metadata": {},
     "output_type": "display_data"
    },
    {
     "data": {
      "text/plain": [
       "<matplotlib.lines.Line2D at 0x7f3567cd3590>"
      ]
     },
     "execution_count": 46,
     "metadata": {},
     "output_type": "execute_result"
    }
   ],
   "source": [
    "fig, ax1 = plt.subplots(figsize=(22, 3))\n",
    "plot_time_series(lfp_bandpower.time.values, td, ax=ax1, ylabel=\"Ratio\", colors='red')\n",
    "ax2 = ax1.twinx()\n",
    "plot_time_series(epochs.midpoint.to_numpy(), density, ax=ax2, ylabel=\"Hz\")\n",
    "\n",
    "ax1.axhline(td_threshold)"
   ]
  },
  {
   "cell_type": "code",
   "execution_count": 47,
   "metadata": {
    "execution": {
     "iopub.execute_input": "2020-12-29T23:29:00.395979Z",
     "iopub.status.busy": "2020-12-29T23:29:00.395508Z",
     "iopub.status.idle": "2020-12-29T23:29:00.487553Z",
     "shell.execute_reply": "2020-12-29T23:29:00.487122Z",
     "shell.execute_reply.started": "2020-12-29T23:29:00.395919Z"
    }
   },
   "outputs": [
    {
     "data": {
      "application/vnd.jupyter.widget-view+json": {
       "model_id": "b6ca6a0d477847439438f317cde42c9f",
       "version_major": 2,
       "version_minor": 0
      },
      "text/plain": [
       "Canvas(toolbar=Toolbar(toolitems=[('Home', 'Reset original view', 'home', 'home'), ('Back', 'Back to previous …"
      ]
     },
     "metadata": {},
     "output_type": "display_data"
    },
    {
     "data": {
      "text/plain": [
       "<matplotlib.collections.LineCollection at 0x7f3567c84090>"
      ]
     },
     "execution_count": 47,
     "metadata": {},
     "output_type": "execute_result"
    }
   ],
   "source": [
    "fig, ax1 = plt.subplots(figsize=(22, 3))\n",
    "plot_time_series(epochs.midpoint.to_numpy(), density, ax=ax1, ylabel=\"Hz\")\n",
    "ax1.hlines(np.zeros(len(td_below_threshold_intervals)), xmin=[lo for lo, hi in td_below_threshold_intervals], xmax=[hi for lo, hi in td_below_threshold_intervals])"
   ]
  },
  {
   "cell_type": "markdown",
   "metadata": {},
   "source": [
    "### Can we use a composite criterion?"
   ]
  },
  {
   "cell_type": "code",
   "execution_count": 48,
   "metadata": {
    "execution": {
     "iopub.execute_input": "2020-12-29T23:29:04.146068Z",
     "iopub.status.busy": "2020-12-29T23:29:04.145610Z",
     "iopub.status.idle": "2020-12-29T23:29:04.171004Z",
     "shell.execute_reply": "2020-12-29T23:29:04.170305Z",
     "shell.execute_reply.started": "2020-12-29T23:29:04.146008Z"
    }
   },
   "outputs": [],
   "source": [
    "def get_intersection(arr1, arr2):\n",
    "    \n",
    "    intersection = list()\n",
    "      \n",
    "    # i and j pointers for arr1  \n",
    "    # and arr2 respectively \n",
    "    i = j = 0\n",
    "      \n",
    "    n = len(arr1) \n",
    "    m = len(arr2) \n",
    "  \n",
    "    # Loop through all intervals unless one  \n",
    "    # of the interval gets exhausted \n",
    "    while i < n and j < m: \n",
    "          \n",
    "        # Left bound for intersecting segment \n",
    "        l = max(arr1[i][0], arr2[j][0]) \n",
    "          \n",
    "        # Right bound for intersecting segment \n",
    "        r = min(arr1[i][1], arr2[j][1]) \n",
    "          \n",
    "        # If segment is valid print it \n",
    "        if l <= r:  \n",
    "            intersection.append((l, r))\n",
    "  \n",
    "        # If i-th interval's right bound is  \n",
    "        # smaller increment i else increment j \n",
    "        if arr1[i][1] < arr2[j][1]: \n",
    "            i += 1\n",
    "        else: \n",
    "            j += 1\n",
    "            \n",
    "    return intersection"
   ]
  },
  {
   "cell_type": "code",
   "execution_count": 118,
   "metadata": {
    "execution": {
     "iopub.execute_input": "2020-12-29T23:42:05.066850Z",
     "iopub.status.busy": "2020-12-29T23:42:05.066402Z",
     "iopub.status.idle": "2020-12-29T23:42:05.091478Z",
     "shell.execute_reply": "2020-12-29T23:42:05.090741Z",
     "shell.execute_reply.started": "2020-12-29T23:42:05.066793Z"
    }
   },
   "outputs": [],
   "source": [
    "def get_complement(intervals, start_time, end_time):\n",
    "    \n",
    "    intervals = np.asarray(intervals)\n",
    "    complement = list()\n",
    "    \n",
    "    assert start_time < intervals.flatten()[0]\n",
    "    assert end_time > intervals.flatten()[-1]\n",
    "    \n",
    "    edges = np.concatenate([[start_time], intervals.flatten(), [end_time]])\n",
    "    it = iter(edges)\n",
    "    for l in it:\n",
    "        r = next(it)\n",
    "        complement.append((l, r))\n",
    "        \n",
    "    return complement"
   ]
  },
  {
   "cell_type": "code",
   "execution_count": 132,
   "metadata": {
    "execution": {
     "iopub.execute_input": "2020-12-29T23:43:32.348835Z",
     "iopub.status.busy": "2020-12-29T23:43:32.348383Z",
     "iopub.status.idle": "2020-12-29T23:43:32.371000Z",
     "shell.execute_reply": "2020-12-29T23:43:32.370275Z",
     "shell.execute_reply.started": "2020-12-29T23:43:32.348778Z"
    }
   },
   "outputs": [],
   "source": [
    "qwk_intervals = np.asarray(get_intersection(emgs_below_threshold_intervals, tds_below_threshold_intervals))\n",
    "qwk_durations = np.asarray([end - start for start, end in qwk_intervals])\n",
    "qwk_consolidated = qwk_intervals[qwk_durations > 10]"
   ]
  },
  {
   "cell_type": "code",
   "execution_count": 133,
   "metadata": {
    "execution": {
     "iopub.execute_input": "2020-12-29T23:43:32.596336Z",
     "iopub.status.busy": "2020-12-29T23:43:32.595898Z",
     "iopub.status.idle": "2020-12-29T23:43:32.616334Z",
     "shell.execute_reply": "2020-12-29T23:43:32.615479Z",
     "shell.execute_reply.started": "2020-12-29T23:43:32.596279Z"
    }
   },
   "outputs": [],
   "source": [
    "awk_consolidated = get_complement(qwk_intervals, 0, 7200)"
   ]
  },
  {
   "cell_type": "code",
   "execution_count": 134,
   "metadata": {
    "execution": {
     "iopub.execute_input": "2020-12-29T23:43:32.886297Z",
     "iopub.status.busy": "2020-12-29T23:43:32.886048Z",
     "iopub.status.idle": "2020-12-29T23:43:33.000075Z",
     "shell.execute_reply": "2020-12-29T23:43:32.999426Z",
     "shell.execute_reply.started": "2020-12-29T23:43:32.886266Z"
    }
   },
   "outputs": [
    {
     "data": {
      "application/vnd.jupyter.widget-view+json": {
       "model_id": "e45a23a9e7514ee9bf143056e588d224",
       "version_major": 2,
       "version_minor": 0
      },
      "text/plain": [
       "Canvas(toolbar=Toolbar(toolitems=[('Home', 'Reset original view', 'home', 'home'), ('Back', 'Back to previous …"
      ]
     },
     "metadata": {},
     "output_type": "display_data"
    },
    {
     "data": {
      "text/plain": [
       "<matplotlib.collections.LineCollection at 0x7f35613ec810>"
      ]
     },
     "execution_count": 134,
     "metadata": {},
     "output_type": "execute_result"
    }
   ],
   "source": [
    "fig, ax1 = plt.subplots(figsize=(22, 3))\n",
    "plot_time_series(epochs.midpoint.to_numpy(), density, ax=ax1, ylabel=\"Hz\")\n",
    "ax1.hlines(np.zeros(len(emg_below_threshold_intervals)) - 0.1, xmin=[lo for lo, hi in emg_below_threshold_intervals], xmax=[hi for lo, hi in emg_below_threshold_intervals])\n",
    "ax1.hlines(np.zeros(len(emgs_below_threshold_intervals)) - 0.2, xmin=[lo for lo, hi in emgs_below_threshold_intervals], xmax=[hi for lo, hi in emgs_below_threshold_intervals])\n",
    "ax1.hlines(np.zeros(len(td_below_threshold_intervals)) - 0.3, xmin=[lo for lo, hi in td_below_threshold_intervals], xmax=[hi for lo, hi in td_below_threshold_intervals])\n",
    "ax1.hlines(np.zeros(len(tds_below_threshold_intervals)) - 0.4, xmin=[lo for lo, hi in tds_below_threshold_intervals], xmax=[hi for lo, hi in tds_below_threshold_intervals])"
   ]
  },
  {
   "cell_type": "code",
   "execution_count": 135,
   "metadata": {
    "execution": {
     "iopub.execute_input": "2020-12-29T23:43:33.717574Z",
     "iopub.status.busy": "2020-12-29T23:43:33.717376Z",
     "iopub.status.idle": "2020-12-29T23:43:33.794928Z",
     "shell.execute_reply": "2020-12-29T23:43:33.794264Z",
     "shell.execute_reply.started": "2020-12-29T23:43:33.717549Z"
    }
   },
   "outputs": [
    {
     "data": {
      "application/vnd.jupyter.widget-view+json": {
       "model_id": "ee30807cd4ea47e296c0d5cd2fbc5f8e",
       "version_major": 2,
       "version_minor": 0
      },
      "text/plain": [
       "Canvas(toolbar=Toolbar(toolitems=[('Home', 'Reset original view', 'home', 'home'), ('Back', 'Back to previous …"
      ]
     },
     "metadata": {},
     "output_type": "display_data"
    },
    {
     "data": {
      "text/plain": [
       "<matplotlib.collections.LineCollection at 0x7f3561133c50>"
      ]
     },
     "execution_count": 135,
     "metadata": {},
     "output_type": "execute_result"
    }
   ],
   "source": [
    "fig, ax1 = plt.subplots(figsize=(22, 3))\n",
    "plot_time_series(epochs.midpoint.to_numpy(), density, ax=ax1, ylabel=\"Hz\")\n",
    "ax1.hlines(np.zeros(len(qwk_consolidated)) - 0.1, xmin=[lo for lo, hi in qwk_consolidated], xmax=[hi for lo, hi in qwk_consolidated], color='r')\n",
    "ax1.hlines(np.zeros(len(emgs_below_threshold_intervals)) - 0.2, xmin=[lo for lo, hi in emgs_below_threshold_intervals], xmax=[hi for lo, hi in emgs_below_threshold_intervals])\n",
    "ax1.hlines(np.zeros(len(tds_below_threshold_intervals)) - 0.3, xmin=[lo for lo, hi in tds_below_threshold_intervals], xmax=[hi for lo, hi in tds_below_threshold_intervals])"
   ]
  },
  {
   "cell_type": "markdown",
   "metadata": {},
   "source": [
    "### Separate SPWS anyway"
   ]
  },
  {
   "cell_type": "code",
   "execution_count": 136,
   "metadata": {
    "execution": {
     "iopub.execute_input": "2020-12-29T23:43:34.385250Z",
     "iopub.status.busy": "2020-12-29T23:43:34.384938Z",
     "iopub.status.idle": "2020-12-29T23:43:34.405314Z",
     "shell.execute_reply": "2020-12-29T23:43:34.404425Z",
     "shell.execute_reply.started": "2020-12-29T23:43:34.385211Z"
    }
   },
   "outputs": [],
   "source": [
    "def is_midpoint_in_intervals(df, intervals):\n",
    "    is_in_intervals = np.full_like(df.index, False)\n",
    "    for interval_start, interval_end in intervals:\n",
    "        is_in_interval = (df.midpoint > interval_start) & (df.midpoint < interval_end)\n",
    "        is_in_intervals = is_in_intervals | is_in_interval\n",
    "    \n",
    "    return is_in_intervals"
   ]
  },
  {
   "cell_type": "code",
   "execution_count": 137,
   "metadata": {
    "execution": {
     "iopub.execute_input": "2020-12-29T23:43:34.628126Z",
     "iopub.status.busy": "2020-12-29T23:43:34.627692Z",
     "iopub.status.idle": "2020-12-29T23:43:34.678558Z",
     "shell.execute_reply": "2020-12-29T23:43:34.677832Z",
     "shell.execute_reply.started": "2020-12-29T23:43:34.628071Z"
    }
   },
   "outputs": [],
   "source": [
    "qwk_spws = spws[is_midpoint_in_intervals(spws, qwk_consolidated)]\n",
    "awk_spws = spws[~is_midpoint_in_intervals(spws, qwk_consolidated)]"
   ]
  },
  {
   "cell_type": "code",
   "execution_count": 138,
   "metadata": {
    "execution": {
     "iopub.execute_input": "2020-12-29T23:43:34.892527Z",
     "iopub.status.busy": "2020-12-29T23:43:34.892132Z",
     "iopub.status.idle": "2020-12-29T23:43:34.912782Z",
     "shell.execute_reply": "2020-12-29T23:43:34.912213Z",
     "shell.execute_reply.started": "2020-12-29T23:43:34.892476Z"
    }
   },
   "outputs": [
    {
     "data": {
      "text/plain": [
       "0.690780882737007"
      ]
     },
     "execution_count": 138,
     "metadata": {},
     "output_type": "execute_result"
    }
   ],
   "source": [
    "len(qwk_spws) / len(spws)"
   ]
  },
  {
   "cell_type": "markdown",
   "metadata": {},
   "source": [
    "### Explore separated SPWS"
   ]
  },
  {
   "cell_type": "code",
   "execution_count": 139,
   "metadata": {
    "execution": {
     "iopub.execute_input": "2020-12-29T23:43:35.551862Z",
     "iopub.status.busy": "2020-12-29T23:43:35.551584Z",
     "iopub.status.idle": "2020-12-29T23:43:36.147427Z",
     "shell.execute_reply": "2020-12-29T23:43:36.146919Z",
     "shell.execute_reply.started": "2020-12-29T23:43:35.551826Z"
    }
   },
   "outputs": [
    {
     "data": {
      "application/vnd.jupyter.widget-view+json": {
       "model_id": "4a580f1b3f0c405b8385bbe3036eb1c3",
       "version_major": 2,
       "version_minor": 0
      },
      "text/plain": [
       "Canvas(toolbar=Toolbar(toolitems=[('Home', 'Reset original view', 'home', 'home'), ('Back', 'Back to previous …"
      ]
     },
     "metadata": {},
     "output_type": "display_data"
    },
    {
     "data": {
      "application/vnd.jupyter.widget-view+json": {
       "model_id": "d0d1baf031e94610b801c6a3ed945c5b",
       "version_major": 2,
       "version_minor": 0
      },
      "text/plain": [
       "HBox(children=(FloatSlider(value=1.0, description='Secs', max=4.0, min=0.25, step=0.25), SelectionSlider(descr…"
      ]
     },
     "metadata": {},
     "output_type": "display_data"
    },
    {
     "data": {
      "application/vnd.jupyter.widget-view+json": {
       "model_id": "ea53639e7d494735adab625221c033b6",
       "version_major": 2,
       "version_minor": 0
      },
      "text/plain": [
       "Output()"
      ]
     },
     "metadata": {},
     "output_type": "display_data"
    }
   ],
   "source": [
    "import ecephys.plot as eplt\n",
    "eplt.lazy_spw_explorer(awk_spws, spw_metadata, SUBJECT, CONDITION, figsize=(16, 8))"
   ]
  },
  {
   "cell_type": "markdown",
   "metadata": {
    "execution": {
     "iopub.execute_input": "2020-12-29T22:11:17.196937Z",
     "iopub.status.busy": "2020-12-29T22:11:17.196498Z",
     "iopub.status.idle": "2020-12-29T22:11:17.226252Z",
     "shell.execute_reply": "2020-12-29T22:11:17.225667Z",
     "shell.execute_reply.started": "2020-12-29T22:11:17.196878Z"
    }
   },
   "source": [
    "### Make hypnogram"
   ]
  },
  {
   "cell_type": "code",
   "execution_count": 153,
   "metadata": {
    "execution": {
     "iopub.execute_input": "2020-12-30T00:00:35.500617Z",
     "iopub.status.busy": "2020-12-30T00:00:35.500131Z",
     "iopub.status.idle": "2020-12-30T00:00:35.523460Z",
     "shell.execute_reply": "2020-12-30T00:00:35.522686Z",
     "shell.execute_reply.started": "2020-12-30T00:00:35.500556Z"
    }
   },
   "outputs": [],
   "source": [
    "def make_separated_wake_hypnogram(qwk_intervals, awk_intervals):\n",
    "    qwk_intervals = np.asarray(qwk_intervals)\n",
    "    awk_intervals = np.asarray(awk_intervals)\n",
    "    \n",
    "    qwk = pd.DataFrame({\"state\": \"qWk\", \"start_time\": qwk_intervals[:, 0], \"end_time\": qwk_intervals[:, 1], \"duration\": np.diff(qwk_intervals).flatten()})\n",
    "    awk = pd.DataFrame({\"state\": \"aWk\", \"start_time\": awk_intervals[:, 0], \"end_time\": awk_intervals[:, 1], \"duration\": np.diff(awk_intervals).flatten()})\n",
    "\n",
    "    return pd.concat([qwk, awk]).sort_values(by=['start_time']).reset_index()"
   ]
  },
  {
   "cell_type": "code",
   "execution_count": 155,
   "metadata": {
    "execution": {
     "iopub.execute_input": "2020-12-30T00:00:48.609675Z",
     "iopub.status.busy": "2020-12-30T00:00:48.609186Z",
     "iopub.status.idle": "2020-12-30T00:00:48.632674Z",
     "shell.execute_reply": "2020-12-30T00:00:48.631869Z",
     "shell.execute_reply.started": "2020-12-30T00:00:48.609617Z"
    }
   },
   "outputs": [],
   "source": [
    "my_hypnogram = make_separated_wake_hypnogram(qwk_intervals, awk_consolidated)"
   ]
  },
  {
   "cell_type": "code",
   "execution_count": 142,
   "metadata": {
    "execution": {
     "iopub.execute_input": "2020-12-29T23:43:37.825898Z",
     "iopub.status.busy": "2020-12-29T23:43:37.825775Z",
     "iopub.status.idle": "2020-12-29T23:43:37.934984Z",
     "shell.execute_reply": "2020-12-29T23:43:37.934327Z",
     "shell.execute_reply.started": "2020-12-29T23:43:37.825883Z"
    }
   },
   "outputs": [
    {
     "data": {
      "application/vnd.jupyter.widget-view+json": {
       "model_id": "59f8964729be4e6c8eb6c600b8ddf90e",
       "version_major": 2,
       "version_minor": 0
      },
      "text/plain": [
       "Canvas(toolbar=Toolbar(toolitems=[('Home', 'Reset original view', 'home', 'home'), ('Back', 'Back to previous …"
      ]
     },
     "metadata": {},
     "output_type": "display_data"
    }
   ],
   "source": [
    "fig, ax1 = plt.subplots(figsize=(22, 3))\n",
    "plot_time_series(epochs.midpoint.to_numpy(), density, ax=ax1, ylabel=\"Hz\")\n",
    "eplt.plot_hypnogram_overlay(my_hypnogram, ax=ax1)"
   ]
  },
  {
   "cell_type": "code",
   "execution_count": 156,
   "metadata": {
    "execution": {
     "iopub.execute_input": "2020-12-30T00:00:52.818632Z",
     "iopub.status.busy": "2020-12-30T00:00:52.818180Z",
     "iopub.status.idle": "2020-12-30T00:00:52.837850Z",
     "shell.execute_reply": "2020-12-30T00:00:52.837088Z",
     "shell.execute_reply.started": "2020-12-30T00:00:52.818574Z"
    }
   },
   "outputs": [],
   "source": [
    "def write_hypnogram(hypnogram, path):\n",
    "    hypnogram.to_csv(path, columns=['state', 'end_time'], sep=\"\\t\", index=False)"
   ]
  },
  {
   "cell_type": "code",
   "execution_count": 157,
   "metadata": {
    "execution": {
     "iopub.execute_input": "2020-12-30T00:00:53.667623Z",
     "iopub.status.busy": "2020-12-30T00:00:53.667192Z",
     "iopub.status.idle": "2020-12-30T00:00:53.695739Z",
     "shell.execute_reply": "2020-12-30T00:00:53.694986Z",
     "shell.execute_reply.started": "2020-12-30T00:00:53.667566Z"
    }
   },
   "outputs": [],
   "source": [
    "write_hypnogram(my_hypnogram, paths.get_datapath(subject=SUBJECT, condition=CONDITION, data=\"hypnogram.txt\"))"
   ]
  },
  {
   "cell_type": "code",
   "execution_count": null,
   "metadata": {},
   "outputs": [],
   "source": []
  }
 ],
 "metadata": {
  "kernelspec": {
   "display_name": "Python 3",
   "language": "python",
   "name": "python3"
  },
  "language_info": {
   "codemirror_mode": {
    "name": "ipython",
    "version": 3
   },
   "file_extension": ".py",
   "mimetype": "text/x-python",
   "name": "python",
   "nbconvert_exporter": "python",
   "pygments_lexer": "ipython3",
   "version": "3.7.9"
  }
 },
 "nbformat": 4,
 "nbformat_minor": 4
}
