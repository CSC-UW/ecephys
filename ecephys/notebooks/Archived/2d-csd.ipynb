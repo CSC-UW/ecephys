{
 "cells": [
  {
   "cell_type": "markdown",
   "metadata": {},
   "source": [
    "## 2D kCSD on hippocampal channels"
   ]
  },
  {
   "cell_type": "code",
   "execution_count": 1,
   "metadata": {
    "execution": {
     "iopub.execute_input": "2021-01-07T23:28:26.213753Z",
     "iopub.status.busy": "2021-01-07T23:28:26.213301Z",
     "iopub.status.idle": "2021-01-07T23:28:26.527649Z",
     "shell.execute_reply": "2021-01-07T23:28:26.527042Z",
     "shell.execute_reply.started": "2021-01-07T23:28:26.213696Z"
    }
   },
   "outputs": [
    {
     "data": {
      "text/plain": [
       "array([  0, 382, 381])"
      ]
     },
     "execution_count": 1,
     "metadata": {},
     "output_type": "execute_result"
    }
   ],
   "source": [
    "from ecephys.data import channel_groups\n",
    "\n",
    "channel_groups.emg[\"Alessandro\"]"
   ]
  },
  {
   "cell_type": "code",
   "execution_count": 67,
   "metadata": {
    "execution": {
     "iopub.execute_input": "2021-01-07T21:42:30.518979Z",
     "iopub.status.busy": "2021-01-07T21:42:30.518481Z",
     "iopub.status.idle": "2021-01-07T21:42:30.543465Z",
     "shell.execute_reply": "2021-01-07T21:42:30.542770Z",
     "shell.execute_reply.started": "2021-01-07T21:42:30.518919Z"
    }
   },
   "outputs": [],
   "source": [
    "def make_2D_plot(xx, yy, zz, title='CSD'):\n",
    "    fig = plt.figure(figsize=(5, 15))\n",
    "    ax = plt.subplot(111)\n",
    "    ax.set_aspect('equal')\n",
    "    t_max = np.max(np.abs(zz))\n",
    "    levels = np.linspace(-1 * t_max, t_max, 32)\n",
    "    im = ax.contourf(xx, yy, zz, levels=levels)\n",
    "    ax.set_xlabel('X (mm)')\n",
    "    ax.set_ylabel('Y (mm)')\n",
    "    ax.set_title(title)\n",
    "    ticks = np.linspace(-1 * t_max, t_max, 3, endpoint=True)\n",
    "    return ax"
   ]
  },
  {
   "cell_type": "code",
   "execution_count": 68,
   "metadata": {
    "execution": {
     "iopub.execute_input": "2021-01-07T21:42:30.881603Z",
     "iopub.status.busy": "2021-01-07T21:42:30.881181Z",
     "iopub.status.idle": "2021-01-07T21:42:30.901022Z",
     "shell.execute_reply": "2021-01-07T21:42:30.900063Z",
     "shell.execute_reply.started": "2021-01-07T21:42:30.881549Z"
    }
   },
   "outputs": [],
   "source": [
    "from ecephys.data.channel_coords import CheckPat_x, CheckPat_y\n",
    "(hpc_x, hpc_y) = (CheckPat_x[hpc_chans], CheckPat_y[hpc_chans])"
   ]
  },
  {
   "cell_type": "code",
   "execution_count": 69,
   "metadata": {
    "execution": {
     "iopub.execute_input": "2021-01-07T21:42:33.471811Z",
     "iopub.status.busy": "2021-01-07T21:42:33.471384Z",
     "iopub.status.idle": "2021-01-07T21:42:33.521933Z",
     "shell.execute_reply": "2021-01-07T21:42:33.521359Z",
     "shell.execute_reply.started": "2021-01-07T21:42:33.471756Z"
    }
   },
   "outputs": [
    {
     "data": {
      "application/vnd.jupyter.widget-view+json": {
       "model_id": "",
       "version_major": 2,
       "version_minor": 0
      },
      "text/plain": [
       "Canvas(toolbar=Toolbar(toolitems=[('Home', 'Reset original view', 'home', 'home'), ('Back', 'Back to previous …"
      ]
     },
     "metadata": {},
     "output_type": "display_data"
    }
   ],
   "source": [
    "from ecephys.plot import plot_channel_coords\n",
    "plot_channel_coords(hpc_chans, hpc_x, hpc_y)"
   ]
  },
  {
   "cell_type": "code",
   "execution_count": 249,
   "metadata": {
    "execution": {
     "iopub.execute_input": "2020-11-27T23:24:19.341455Z",
     "iopub.status.busy": "2020-11-27T23:24:19.341020Z",
     "iopub.status.idle": "2020-11-27T23:24:19.359214Z",
     "shell.execute_reply": "2020-11-27T23:24:19.358282Z",
     "shell.execute_reply.started": "2020-11-27T23:24:19.341400Z"
    }
   },
   "outputs": [],
   "source": [
    "hpc_ele_pos = np.vstack([hpc_x, hpc_y]).T\n",
    "hpc_pots = hpc_sig.T"
   ]
  },
  {
   "cell_type": "code",
   "execution_count": 393,
   "metadata": {
    "execution": {
     "iopub.execute_input": "2020-11-28T00:08:39.091863Z",
     "iopub.status.busy": "2020-11-28T00:08:39.091436Z",
     "iopub.status.idle": "2020-11-28T00:08:40.420821Z",
     "shell.execute_reply": "2020-11-28T00:08:40.420229Z",
     "shell.execute_reply.started": "2020-11-28T00:08:39.091808Z"
    }
   },
   "outputs": [
    {
     "name": "stdout",
     "output_type": "stream",
     "text": [
      "No lambda given, using defaults\n",
      "min lambda 1e-06\n",
      "max lambda 0.0001\n",
      "min lambda 1e-06\n",
      "max lambda 0.0001\n",
      "l-curve (all lambda):  0.23\n",
      "Best lambda and R =  8.857135378437576e-07 ,  0.23\n"
     ]
    }
   ],
   "source": [
    "from kcsd import KCSD2D\n",
    "\n",
    "vertical_site_spacing = 20\n",
    "horizontal_site_spacing = 16\n",
    "k = KCSD2D(hpc_ele_pos, hpc_pots, gdx=horizontal_site_spacing, gdy=vertical_site_spacing)\n",
    "est_csd_hpc_2D = k.values('CSD')\n",
    "k.L_curve()\n",
    "est_csd_hpc_2D_val = k.values('CSD')\n"
   ]
  },
  {
   "cell_type": "code",
   "execution_count": 394,
   "metadata": {
    "execution": {
     "iopub.execute_input": "2020-11-28T00:08:41.847040Z",
     "iopub.status.busy": "2020-11-28T00:08:41.846765Z",
     "iopub.status.idle": "2020-11-28T00:08:41.895880Z",
     "shell.execute_reply": "2020-11-28T00:08:41.895302Z",
     "shell.execute_reply.started": "2020-11-28T00:08:41.847004Z"
    }
   },
   "outputs": [
    {
     "data": {
      "application/vnd.jupyter.widget-view+json": {
       "model_id": "b42af7c1bf874d979be396d8c6f7ebeb",
       "version_major": 2,
       "version_minor": 0
      },
      "text/plain": [
       "Canvas(toolbar=Toolbar(toolitems=[('Home', 'Reset original view', 'home', 'home'), ('Back', 'Back to previous …"
      ]
     },
     "metadata": {},
     "output_type": "display_data"
    }
   ],
   "source": [
    "ax = make_2D_plot(k.estm_x, k.estm_y, est_csd_hpc_2D_val[:, :, (np.abs(times - 645.4621)).argmin()])"
   ]
  },
  {
   "cell_type": "code",
   "execution_count": 395,
   "metadata": {
    "execution": {
     "iopub.execute_input": "2020-11-28T00:08:46.036590Z",
     "iopub.status.busy": "2020-11-28T00:08:46.036145Z",
     "iopub.status.idle": "2020-11-28T00:08:46.055957Z",
     "shell.execute_reply": "2020-11-28T00:08:46.055382Z",
     "shell.execute_reply.started": "2020-11-28T00:08:46.036535Z"
    }
   },
   "outputs": [],
   "source": [
    "est_csd_flat = np.sum(est_csd_hpc_2D_val, axis=0)"
   ]
  },
  {
   "cell_type": "code",
   "execution_count": 413,
   "metadata": {
    "execution": {
     "iopub.execute_input": "2020-11-30T16:16:12.025984Z",
     "iopub.status.busy": "2020-11-30T16:16:12.025524Z",
     "iopub.status.idle": "2020-11-30T16:16:12.069197Z",
     "shell.execute_reply": "2020-11-30T16:16:12.067918Z",
     "shell.execute_reply.started": "2020-11-30T16:16:12.025928Z"
    }
   },
   "outputs": [
    {
     "data": {
      "application/vnd.jupyter.widget-view+json": {
       "model_id": "f699893f698a40cbb02f6dd3910b558b",
       "version_major": 2,
       "version_minor": 0
      },
      "text/plain": [
       "Canvas(toolbar=Toolbar(toolitems=[('Home', 'Reset original view', 'home', 'home'), ('Back', 'Back to previous …"
      ]
     },
     "metadata": {},
     "output_type": "display_data"
    },
    {
     "ename": "AttributeError",
     "evalue": "'KCSD1D' object has no attribute 'estm_y'",
     "output_type": "error",
     "traceback": [
      "\u001b[0;31m---------------------------------------------------------------------------\u001b[0m",
      "\u001b[0;31mAttributeError\u001b[0m                            Traceback (most recent call last)",
      "\u001b[0;32m<ipython-input-413-d7c0a79c1fdb>\u001b[0m in \u001b[0;36m<module>\u001b[0;34m()\u001b[0m\n\u001b[1;32m      1\u001b[0m \u001b[0m_\u001b[0m\u001b[0;34m,\u001b[0m \u001b[0max\u001b[0m \u001b[0;34m=\u001b[0m \u001b[0mplt\u001b[0m\u001b[0;34m.\u001b[0m\u001b[0msubplots\u001b[0m\u001b[0;34m(\u001b[0m\u001b[0mfigsize\u001b[0m\u001b[0;34m=\u001b[0m\u001b[0;34m(\u001b[0m\u001b[0;36m20\u001b[0m\u001b[0;34m,\u001b[0m \u001b[0;36m10\u001b[0m\u001b[0;34m)\u001b[0m\u001b[0;34m)\u001b[0m\u001b[0;34m\u001b[0m\u001b[0;34m\u001b[0m\u001b[0m\n\u001b[0;32m----> 2\u001b[0;31m \u001b[0max\u001b[0m\u001b[0;34m.\u001b[0m\u001b[0mpcolormesh\u001b[0m\u001b[0;34m(\u001b[0m\u001b[0mtimes\u001b[0m\u001b[0;34m,\u001b[0m \u001b[0mk\u001b[0m\u001b[0;34m.\u001b[0m\u001b[0mestm_y\u001b[0m\u001b[0;34m[\u001b[0m\u001b[0;36m0\u001b[0m\u001b[0;34m]\u001b[0m\u001b[0;34m,\u001b[0m \u001b[0mest_csd_flat\u001b[0m\u001b[0;34m,\u001b[0m \u001b[0mshading\u001b[0m\u001b[0;34m=\u001b[0m\u001b[0;34m\"gouraud\"\u001b[0m\u001b[0;34m)\u001b[0m\u001b[0;34m\u001b[0m\u001b[0;34m\u001b[0m\u001b[0m\n\u001b[0m\u001b[1;32m      3\u001b[0m \u001b[0max\u001b[0m\u001b[0;34m.\u001b[0m\u001b[0mset_xlabel\u001b[0m\u001b[0;34m(\u001b[0m\u001b[0;34m\"Time [sec]\"\u001b[0m\u001b[0;34m)\u001b[0m\u001b[0;34m\u001b[0m\u001b[0;34m\u001b[0m\u001b[0m\n\u001b[1;32m      4\u001b[0m \u001b[0max\u001b[0m\u001b[0;34m.\u001b[0m\u001b[0mset_ylabel\u001b[0m\u001b[0;34m(\u001b[0m\u001b[0;34m\"Depth (mm)\"\u001b[0m\u001b[0;34m)\u001b[0m\u001b[0;34m\u001b[0m\u001b[0;34m\u001b[0m\u001b[0m\n",
      "\u001b[0;31mAttributeError\u001b[0m: 'KCSD1D' object has no attribute 'estm_y'"
     ]
    }
   ],
   "source": [
    "_, ax = plt.subplots(figsize=(20, 10))\n",
    "ax.pcolormesh(times, k.estm_y[0], est_csd_flat, shading=\"gouraud\")\n",
    "ax.set_xlabel(\"Time [sec]\")\n",
    "ax.set_ylabel(\"Depth (mm)\")"
   ]
  }
 ],
 "metadata": {
  "kernelspec": {
   "display_name": "Python 3",
   "language": "python",
   "name": "python3"
  },
  "language_info": {
   "codemirror_mode": {
    "name": "ipython",
    "version": 3
   },
   "file_extension": ".py",
   "mimetype": "text/x-python",
   "name": "python",
   "nbconvert_exporter": "python",
   "pygments_lexer": "ipython3",
   "version": "3.7.9"
  }
 },
 "nbformat": 4,
 "nbformat_minor": 4
}
