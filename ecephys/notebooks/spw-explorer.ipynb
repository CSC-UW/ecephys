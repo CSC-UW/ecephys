{
 "cells": [
  {
   "cell_type": "code",
   "execution_count": 7,
   "metadata": {
    "execution": {
     "iopub.execute_input": "2020-12-28T22:25:55.417457Z",
     "iopub.status.busy": "2020-12-28T22:25:55.416993Z",
     "iopub.status.idle": "2020-12-28T22:25:55.434454Z",
     "shell.execute_reply": "2020-12-28T22:25:55.433672Z",
     "shell.execute_reply.started": "2020-12-28T22:25:55.417401Z"
    }
   },
   "outputs": [
    {
     "name": "stdout",
     "output_type": "stream",
     "text": [
      "The autoreload extension is already loaded. To reload it, use:\n",
      "  %reload_ext autoreload\n"
     ]
    }
   ],
   "source": [
    "%load_ext autoreload\n",
    "%autoreload 2"
   ]
  },
  {
   "cell_type": "code",
   "execution_count": 8,
   "metadata": {
    "execution": {
     "iopub.execute_input": "2020-12-28T22:25:55.943287Z",
     "iopub.status.busy": "2020-12-28T22:25:55.943092Z",
     "iopub.status.idle": "2020-12-28T22:25:55.957847Z",
     "shell.execute_reply": "2020-12-28T22:25:55.957106Z",
     "shell.execute_reply.started": "2020-12-28T22:25:55.943262Z"
    }
   },
   "outputs": [],
   "source": [
    "%matplotlib widget\n",
    "import matplotlib.pyplot as plt"
   ]
  },
  {
   "cell_type": "code",
   "execution_count": 9,
   "metadata": {
    "execution": {
     "iopub.execute_input": "2020-12-28T22:25:56.549998Z",
     "iopub.status.busy": "2020-12-28T22:25:56.549638Z",
     "iopub.status.idle": "2020-12-28T22:25:56.564304Z",
     "shell.execute_reply": "2020-12-28T22:25:56.563580Z",
     "shell.execute_reply.started": "2020-12-28T22:25:56.549951Z"
    }
   },
   "outputs": [],
   "source": [
    "import numpy as np\n",
    "import pandas as pd"
   ]
  },
  {
   "cell_type": "code",
   "execution_count": 10,
   "metadata": {
    "execution": {
     "iopub.execute_input": "2020-12-28T22:25:57.038316Z",
     "iopub.status.busy": "2020-12-28T22:25:57.038041Z",
     "iopub.status.idle": "2020-12-28T22:25:57.497989Z",
     "shell.execute_reply": "2020-12-28T22:25:57.497313Z",
     "shell.execute_reply.started": "2020-12-28T22:25:57.038281Z"
    }
   },
   "outputs": [],
   "source": [
    "from ecephys.helpers.utils import load_df_h5\n",
    "from ecephys.data import paths\n",
    "import ecephys.plot as eplt"
   ]
  },
  {
   "cell_type": "code",
   "execution_count": 11,
   "metadata": {
    "execution": {
     "iopub.execute_input": "2020-12-28T22:25:57.589322Z",
     "iopub.status.busy": "2020-12-28T22:25:57.589119Z",
     "iopub.status.idle": "2020-12-28T22:25:57.607579Z",
     "shell.execute_reply": "2020-12-28T22:25:57.607194Z",
     "shell.execute_reply.started": "2020-12-28T22:25:57.589290Z"
    }
   },
   "outputs": [],
   "source": [
    "SUBJECT = \"Doppio\"\n",
    "CONDITION = \"REC-2\""
   ]
  },
  {
   "cell_type": "code",
   "execution_count": 14,
   "metadata": {
    "execution": {
     "iopub.execute_input": "2020-12-28T22:28:01.258333Z",
     "iopub.status.busy": "2020-12-28T22:28:01.257868Z",
     "iopub.status.idle": "2020-12-28T22:28:02.405829Z",
     "shell.execute_reply": "2020-12-28T22:28:02.405120Z",
     "shell.execute_reply.started": "2020-12-28T22:28:01.258273Z"
    }
   },
   "outputs": [
    {
     "data": {
      "application/vnd.jupyter.widget-view+json": {
       "model_id": "d74dfae94e8c4f7b8ac681c2110dd070",
       "version_major": 2,
       "version_minor": 0
      },
      "text/plain": [
       "Canvas(toolbar=Toolbar(toolitems=[('Home', 'Reset original view', 'home', 'home'), ('Back', 'Back to previous …"
      ]
     },
     "metadata": {},
     "output_type": "display_data"
    },
    {
     "data": {
      "application/vnd.jupyter.widget-view+json": {
       "model_id": "eb28ffc294974d7f8afdccc209f22817",
       "version_major": 2,
       "version_minor": 0
      },
      "text/plain": [
       "HBox(children=(FloatSlider(value=1.0, description='Secs', max=4.0, min=0.25, step=0.25), IntSlider(value=1, de…"
      ]
     },
     "metadata": {},
     "output_type": "display_data"
    },
    {
     "data": {
      "application/vnd.jupyter.widget-view+json": {
       "model_id": "bfe4c03be0234b23b4516951f2991e25",
       "version_major": 2,
       "version_minor": 0
      },
      "text/plain": [
       "Output()"
      ]
     },
     "metadata": {},
     "output_type": "display_data"
    }
   ],
   "source": [
    "with pd.HDFStore(paths.get_datapath(subject=SUBJECT, condition=CONDITION, data=\"sharp_waves.h5\")) as store:\n",
    "    spws, metadata = load_df_h5(store)\n",
    "    \n",
    "eplt.lazy_spw_explorer(spws, metadata, SUBJECT, CONDITION, figsize=(16, 8))"
   ]
  },
  {
   "cell_type": "code",
   "execution_count": null,
   "metadata": {},
   "outputs": [],
   "source": []
  }
 ],
 "metadata": {
  "kernelspec": {
   "display_name": "Python 3",
   "language": "python",
   "name": "python3"
  },
  "language_info": {
   "codemirror_mode": {
    "name": "ipython",
    "version": 3
   },
   "file_extension": ".py",
   "mimetype": "text/x-python",
   "name": "python",
   "nbconvert_exporter": "python",
   "pygments_lexer": "ipython3",
   "version": "3.7.9"
  }
 },
 "nbformat": 4,
 "nbformat_minor": 4
}
