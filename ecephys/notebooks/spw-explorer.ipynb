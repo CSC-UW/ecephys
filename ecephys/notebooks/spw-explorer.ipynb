{
 "cells": [
  {
   "cell_type": "code",
   "execution_count": 1,
   "metadata": {
    "execution": {
     "iopub.execute_input": "2020-12-01T01:05:08.209320Z",
     "iopub.status.busy": "2020-12-01T01:05:08.208887Z",
     "iopub.status.idle": "2020-12-01T01:05:08.225513Z",
     "shell.execute_reply": "2020-12-01T01:05:08.225103Z",
     "shell.execute_reply.started": "2020-12-01T01:05:08.209276Z"
    }
   },
   "outputs": [],
   "source": [
    "%load_ext autoreload\n",
    "%autoreload 2"
   ]
  },
  {
   "cell_type": "code",
   "execution_count": 2,
   "metadata": {
    "execution": {
     "iopub.execute_input": "2020-12-01T01:05:08.838410Z",
     "iopub.status.busy": "2020-12-01T01:05:08.838248Z",
     "iopub.status.idle": "2020-12-01T01:05:08.983354Z",
     "shell.execute_reply": "2020-12-01T01:05:08.982905Z",
     "shell.execute_reply.started": "2020-12-01T01:05:08.838390Z"
    }
   },
   "outputs": [],
   "source": [
    "%matplotlib widget\n",
    "import matplotlib.pyplot as plt"
   ]
  },
  {
   "cell_type": "code",
   "execution_count": 3,
   "metadata": {
    "execution": {
     "iopub.execute_input": "2020-12-01T01:05:09.398790Z",
     "iopub.status.busy": "2020-12-01T01:05:09.398362Z",
     "iopub.status.idle": "2020-12-01T01:05:09.413526Z",
     "shell.execute_reply": "2020-12-01T01:05:09.412840Z",
     "shell.execute_reply.started": "2020-12-01T01:05:09.398735Z"
    }
   },
   "outputs": [],
   "source": [
    "from pathlib import Path\n",
    "import numpy as np\n",
    "import pandas as pd"
   ]
  },
  {
   "cell_type": "code",
   "execution_count": 4,
   "metadata": {
    "execution": {
     "iopub.execute_input": "2020-12-01T01:05:11.478681Z",
     "iopub.status.busy": "2020-12-01T01:05:11.478326Z",
     "iopub.status.idle": "2020-12-01T01:05:11.687990Z",
     "shell.execute_reply": "2020-12-01T01:05:11.687549Z",
     "shell.execute_reply.started": "2020-12-01T01:05:11.478637Z"
    }
   },
   "outputs": [],
   "source": [
    "from ecephys.helpers.utils import load_df_h5\n",
    "from ecephys.data import paths\n",
    "import ecephys.plot as eplt"
   ]
  },
  {
   "cell_type": "code",
   "execution_count": 106,
   "metadata": {
    "execution": {
     "iopub.execute_input": "2020-12-05T02:40:58.973735Z",
     "iopub.status.busy": "2020-12-05T02:40:58.973432Z",
     "iopub.status.idle": "2020-12-05T02:41:00.265839Z",
     "shell.execute_reply": "2020-12-05T02:41:00.265372Z",
     "shell.execute_reply.started": "2020-12-05T02:40:58.973698Z"
    }
   },
   "outputs": [
    {
     "data": {
      "application/vnd.jupyter.widget-view+json": {
       "model_id": "f66a1e49523546d3957ae9072273d17d",
       "version_major": 2,
       "version_minor": 0
      },
      "text/plain": [
       "Canvas(toolbar=Toolbar(toolitems=[('Home', 'Reset original view', 'home', 'home'), ('Back', 'Back to previous …"
      ]
     },
     "metadata": {},
     "output_type": "display_data"
    },
    {
     "data": {
      "application/vnd.jupyter.widget-view+json": {
       "model_id": "973dd51ac81d40b6a6621a6b1f92fdf9",
       "version_major": 2,
       "version_minor": 0
      },
      "text/plain": [
       "HBox(children=(FloatSlider(value=1.0, description='Secs', max=4.0, min=0.25, step=0.25), IntSlider(value=1, de…"
      ]
     },
     "metadata": {},
     "output_type": "display_data"
    },
    {
     "data": {
      "application/vnd.jupyter.widget-view+json": {
       "model_id": "76f3d68d0a254e758d02a7708805ebb4",
       "version_major": 2,
       "version_minor": 0
      },
      "text/plain": [
       "Output()"
      ]
     },
     "metadata": {},
     "output_type": "display_data"
    }
   ],
   "source": [
    "condition = \"SR\"\n",
    "subject = \"Doppio\"\n",
    "\n",
    "spw_path = Path(paths.spws[condition][subject])\n",
    "with pd.HDFStore(spw_path) as store:\n",
    "    spws, metadata = load_df_h5(store)\n",
    "    \n",
    "eplt.lazy_spw_explorer(spws, metadata, subject, condition, figsize=(16, 8))"
   ]
  },
  {
   "cell_type": "code",
   "execution_count": null,
   "metadata": {},
   "outputs": [],
   "source": []
  }
 ],
 "metadata": {
  "kernelspec": {
   "display_name": "Python 3",
   "language": "python",
   "name": "python3"
  },
  "language_info": {
   "codemirror_mode": {
    "name": "ipython",
    "version": 3
   },
   "file_extension": ".py",
   "mimetype": "text/x-python",
   "name": "python",
   "nbconvert_exporter": "python",
   "pygments_lexer": "ipython3",
   "version": "3.7.9"
  }
 },
 "nbformat": 4,
 "nbformat_minor": 4
}
