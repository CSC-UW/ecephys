{
 "cells": [
  {
   "cell_type": "code",
   "execution_count": 1,
   "metadata": {
    "execution": {
     "iopub.execute_input": "2021-01-12T20:39:56.338030Z",
     "iopub.status.busy": "2021-01-12T20:39:56.337494Z",
     "iopub.status.idle": "2021-01-12T20:39:56.356360Z",
     "shell.execute_reply": "2021-01-12T20:39:56.355630Z",
     "shell.execute_reply.started": "2021-01-12T20:39:56.337965Z"
    }
   },
   "outputs": [],
   "source": [
    "%load_ext autoreload\n",
    "%autoreload 2"
   ]
  },
  {
   "cell_type": "code",
   "execution_count": 2,
   "metadata": {
    "execution": {
     "iopub.execute_input": "2021-01-12T20:39:57.095886Z",
     "iopub.status.busy": "2021-01-12T20:39:57.095458Z",
     "iopub.status.idle": "2021-01-12T20:39:57.658017Z",
     "shell.execute_reply": "2021-01-12T20:39:57.657085Z",
     "shell.execute_reply.started": "2021-01-12T20:39:57.095831Z"
    }
   },
   "outputs": [],
   "source": [
    "from ecephys.scoring import load_visbrain_hypnogram, visbrain_hypnogram_to_datetime, write_datetime_hypnogram\n",
    "from ecephys.data import paths\n",
    "from ecephys.sglx_utils import load_timeseries"
   ]
  },
  {
   "cell_type": "code",
   "execution_count": 7,
   "metadata": {
    "execution": {
     "iopub.execute_input": "2021-01-12T20:42:37.658066Z",
     "iopub.status.busy": "2021-01-12T20:42:37.657524Z",
     "iopub.status.idle": "2021-01-12T20:42:37.682296Z",
     "shell.execute_reply": "2021-01-12T20:42:37.681447Z",
     "shell.execute_reply.started": "2021-01-12T20:42:37.657999Z"
    }
   },
   "outputs": [],
   "source": [
    "def run_conversion_pipeline_on_condition(subject, condition):\n",
    "    hypnogram_paths = paths.get_sglx_style_datapaths(subject=subject, condition=condition, ext=\"hypnogram.txt\")\n",
    "    bin_paths = paths.get_sglx_style_datapaths(subject=subject, condition=condition, ext=\"lf.bin\")\n",
    "    hypnogram_dt_paths = paths.get_sglx_style_datapaths(subject=subject, condition=condition, ext=\"hypnogram.tsv\")\n",
    "    \n",
    "    hypnograms = [load_visbrain_hypnogram(path) for path in hypnogram_paths]\n",
    "    sigs = [load_timeseries(path, chans=[0], start_time=0, end_time=1, datetime=True, xarray=True) for path in bin_paths]\n",
    "    \n",
    "    for sig, hypnogram, hypnogram_dt_path in zip(sigs, hypnograms, hypnogram_dt_paths):\n",
    "        file_start_dt = sig.time.values[0]\n",
    "        hypnogram_dt = visbrain_hypnogram_to_datetime(hypnogram, file_start_dt)\n",
    "        write_datetime_hypnogram(hypnogram_dt, hypnogram_dt_path)"
   ]
  },
  {
   "cell_type": "code",
   "execution_count": 8,
   "metadata": {
    "execution": {
     "iopub.execute_input": "2021-01-12T20:43:06.618628Z",
     "iopub.status.busy": "2021-01-12T20:43:06.618090Z",
     "iopub.status.idle": "2021-01-12T20:43:07.097717Z",
     "shell.execute_reply": "2021-01-12T20:43:07.096874Z",
     "shell.execute_reply.started": "2021-01-12T20:43:06.618561Z"
    }
   },
   "outputs": [
    {
     "name": "stdout",
     "output_type": "stream",
     "text": [
      "nChan: 385, nFileSamp: 9000051\n",
      "nChan: 385, nFileSamp: 9000052\n",
      "nChan: 385, nFileSamp: 8127109\n",
      "nChan: 385, nFileSamp: 8277840\n",
      "nChan: 385, nFileSamp: 9000052\n",
      "nChan: 385, nFileSamp: 9000052\n"
     ]
    }
   ],
   "source": [
    "run_conversion_pipeline_on_condition(subject=\"Alessandro\", condition=\"extended-wake\")"
   ]
  },
  {
   "cell_type": "code",
   "execution_count": 9,
   "metadata": {
    "execution": {
     "iopub.execute_input": "2021-01-12T20:43:14.602562Z",
     "iopub.status.busy": "2021-01-12T20:43:14.602051Z",
     "iopub.status.idle": "2021-01-12T20:43:17.755209Z",
     "shell.execute_reply": "2021-01-12T20:43:17.754334Z",
     "shell.execute_reply.started": "2021-01-12T20:43:14.602495Z"
    }
   },
   "outputs": [
    {
     "name": "stdout",
     "output_type": "stream",
     "text": [
      "nChan: 385, nFileSamp: 800217\n",
      "nChan: 385, nFileSamp: 2877424\n",
      "nChan: 385, nFileSamp: 2430722\n",
      "nChan: 385, nFileSamp: 5735230\n",
      "nChan: 385, nFileSamp: 9000025\n",
      "nChan: 385, nFileSamp: 5608943\n",
      "nChan: 385, nFileSamp: 2417612\n",
      "nChan: 385, nFileSamp: 3435368\n",
      "nChan: 385, nFileSamp: 1369314\n",
      "nChan: 385, nFileSamp: 9000025\n",
      "nChan: 385, nFileSamp: 2946948\n"
     ]
    }
   ],
   "source": [
    "run_conversion_pipeline_on_condition(subject=\"Eugene\", condition=\"extended-wake\")"
   ]
  },
  {
   "cell_type": "code",
   "execution_count": 11,
   "metadata": {
    "execution": {
     "iopub.execute_input": "2021-01-12T21:20:07.290218Z",
     "iopub.status.busy": "2021-01-12T21:20:07.289695Z",
     "iopub.status.idle": "2021-01-12T21:20:07.312054Z",
     "shell.execute_reply": "2021-01-12T21:20:07.311198Z",
     "shell.execute_reply.started": "2021-01-12T21:20:07.290154Z"
    }
   },
   "outputs": [
    {
     "data": {
      "text/plain": [
       "state                  object\n",
       "end_time       datetime64[ns]\n",
       "start_time     datetime64[ns]\n",
       "duration      timedelta64[ns]\n",
       "dtype: object"
      ]
     },
     "execution_count": 11,
     "metadata": {},
     "output_type": "execute_result"
    }
   ],
   "source": [
    "hypnogram_dt.dtypes"
   ]
  },
  {
   "cell_type": "code",
   "execution_count": null,
   "metadata": {},
   "outputs": [],
   "source": []
  }
 ],
 "metadata": {
  "kernelspec": {
   "display_name": "Python 3",
   "language": "python",
   "name": "python3"
  },
  "language_info": {
   "codemirror_mode": {
    "name": "ipython",
    "version": 3
   },
   "file_extension": ".py",
   "mimetype": "text/x-python",
   "name": "python",
   "nbconvert_exporter": "python",
   "pygments_lexer": "ipython3",
   "version": "3.7.9"
  }
 },
 "nbformat": 4,
 "nbformat_minor": 4
}
