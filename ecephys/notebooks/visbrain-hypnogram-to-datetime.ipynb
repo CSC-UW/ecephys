{
 "cells": [
  {
   "cell_type": "code",
   "execution_count": 1,
   "metadata": {
    "execution": {
     "iopub.execute_input": "2021-01-19T23:25:52.017471Z",
     "iopub.status.busy": "2021-01-19T23:25:52.017061Z",
     "iopub.status.idle": "2021-01-19T23:25:52.038281Z",
     "shell.execute_reply": "2021-01-19T23:25:52.037373Z",
     "shell.execute_reply.started": "2021-01-19T23:25:52.017426Z"
    }
   },
   "outputs": [],
   "source": [
    "%load_ext autoreload\n",
    "%autoreload 2"
   ]
  },
  {
   "cell_type": "code",
   "execution_count": 2,
   "metadata": {
    "execution": {
     "iopub.execute_input": "2021-01-19T23:25:52.418999Z",
     "iopub.status.busy": "2021-01-19T23:25:52.418743Z",
     "iopub.status.idle": "2021-01-19T23:25:53.637936Z",
     "shell.execute_reply": "2021-01-19T23:25:53.637183Z",
     "shell.execute_reply.started": "2021-01-19T23:25:52.418965Z"
    }
   },
   "outputs": [],
   "source": [
    "from ecephys.scoring import load_visbrain_hypnogram, visbrain_hypnogram_to_datetime, write_datetime_hypnogram\n",
    "from ecephys.data import paths\n",
    "from ecephys.sglx_utils import load_timeseries"
   ]
  },
  {
   "cell_type": "code",
   "execution_count": 3,
   "metadata": {
    "execution": {
     "iopub.execute_input": "2021-01-19T23:25:53.661194Z",
     "iopub.status.busy": "2021-01-19T23:25:53.660978Z",
     "iopub.status.idle": "2021-01-19T23:25:53.684089Z",
     "shell.execute_reply": "2021-01-19T23:25:53.683251Z",
     "shell.execute_reply.started": "2021-01-19T23:25:53.661168Z"
    }
   },
   "outputs": [],
   "source": [
    "def run_conversion_pipeline_on_condition(subject, condition):\n",
    "    hypnogram_paths = paths.get_sglx_style_datapaths(subject=subject, condition=condition, ext=\"hypnogram.txt\")\n",
    "    bin_paths = paths.get_sglx_style_datapaths(subject=subject, condition=condition, ext=\"lf.bin\")\n",
    "    hypnogram_dt_paths = paths.get_sglx_style_datapaths(subject=subject, condition=condition, ext=\"hypnogram.tsv\")\n",
    "    \n",
    "    hypnograms = [load_visbrain_hypnogram(path) for path in hypnogram_paths]\n",
    "    sigs = [load_timeseries(path, chans=[0], start_time=0, end_time=1, datetime=True, xarray=True) for path in bin_paths]\n",
    "    \n",
    "    for sig, hypnogram, hypnogram_dt_path in zip(sigs, hypnograms, hypnogram_dt_paths):\n",
    "        file_start_dt = sig.time.values[0]\n",
    "        hypnogram_dt = visbrain_hypnogram_to_datetime(hypnogram, file_start_dt)\n",
    "        write_datetime_hypnogram(hypnogram_dt, hypnogram_dt_path)"
   ]
  },
  {
   "cell_type": "code",
   "execution_count": 9,
   "metadata": {
    "execution": {
     "iopub.execute_input": "2021-01-21T23:44:02.460905Z",
     "iopub.status.busy": "2021-01-21T23:44:02.460626Z",
     "iopub.status.idle": "2021-01-21T23:44:05.003922Z",
     "shell.execute_reply": "2021-01-21T23:44:05.003076Z",
     "shell.execute_reply.started": "2021-01-21T23:44:02.460874Z"
    }
   },
   "outputs": [
    {
     "name": "stdout",
     "output_type": "stream",
     "text": [
      "nChan: 385, nFileSamp: 18000001\n",
      "nChan: 385, nFileSamp: 18000001\n",
      "nChan: 385, nFileSamp: 18000001\n"
     ]
    }
   ],
   "source": [
    "run_conversion_pipeline_on_condition(subject=\"Segundo\", condition=\"extended-wake\")"
   ]
  },
  {
   "cell_type": "code",
   "execution_count": 10,
   "metadata": {
    "execution": {
     "iopub.execute_input": "2021-01-21T23:44:13.299955Z",
     "iopub.status.busy": "2021-01-21T23:44:13.299461Z",
     "iopub.status.idle": "2021-01-21T23:44:15.673310Z",
     "shell.execute_reply": "2021-01-21T23:44:15.672319Z",
     "shell.execute_reply.started": "2021-01-21T23:44:13.299885Z"
    }
   },
   "outputs": [
    {
     "name": "stdout",
     "output_type": "stream",
     "text": [
      "nChan: 385, nFileSamp: 18000001\n",
      "nChan: 385, nFileSamp: 18000001\n",
      "nChan: 385, nFileSamp: 18000001\n"
     ]
    }
   ],
   "source": [
    "run_conversion_pipeline_on_condition(subject=\"Segundo\", condition=\"recovery-sleep-6h\")"
   ]
  },
  {
   "cell_type": "code",
   "execution_count": 8,
   "metadata": {
    "execution": {
     "iopub.execute_input": "2021-01-21T00:00:17.980905Z",
     "iopub.status.busy": "2021-01-21T00:00:17.980354Z",
     "iopub.status.idle": "2021-01-21T00:00:18.763680Z",
     "shell.execute_reply": "2021-01-21T00:00:18.762901Z",
     "shell.execute_reply.started": "2021-01-21T00:00:17.980835Z"
    }
   },
   "outputs": [
    {
     "name": "stdout",
     "output_type": "stream",
     "text": [
      "nChan: 385, nFileSamp: 18000000\n",
      "nChan: 385, nFileSamp: 18000000\n",
      "nChan: 385, nFileSamp: 18000000\n"
     ]
    }
   ],
   "source": [
    "run_conversion_pipeline_on_condition(subject=\"Valentino\", condition=\"extended-wake\")"
   ]
  },
  {
   "cell_type": "code",
   "execution_count": 7,
   "metadata": {
    "execution": {
     "iopub.execute_input": "2021-01-20T23:01:20.485486Z",
     "iopub.status.busy": "2021-01-20T23:01:20.484994Z",
     "iopub.status.idle": "2021-01-20T23:01:22.516917Z",
     "shell.execute_reply": "2021-01-20T23:01:22.515666Z",
     "shell.execute_reply.started": "2021-01-20T23:01:20.485426Z"
    }
   },
   "outputs": [
    {
     "name": "stdout",
     "output_type": "stream",
     "text": [
      "nChan: 385, nFileSamp: 18000000\n",
      "nChan: 385, nFileSamp: 18000000\n",
      "nChan: 385, nFileSamp: 18000000\n"
     ]
    }
   ],
   "source": [
    "run_conversion_pipeline_on_condition(subject=\"Valentino\", condition=\"recovery-sleep-6h\")"
   ]
  },
  {
   "cell_type": "code",
   "execution_count": 6,
   "metadata": {
    "execution": {
     "iopub.execute_input": "2021-01-20T00:04:42.786728Z",
     "iopub.status.busy": "2021-01-20T00:04:42.786255Z",
     "iopub.status.idle": "2021-01-20T00:04:43.472858Z",
     "shell.execute_reply": "2021-01-20T00:04:43.471532Z",
     "shell.execute_reply.started": "2021-01-20T00:04:42.786676Z"
    }
   },
   "outputs": [
    {
     "name": "stdout",
     "output_type": "stream",
     "text": [
      "nChan: 385, nFileSamp: 18000019\n",
      "nChan: 385, nFileSamp: 18000019\n",
      "nChan: 385, nFileSamp: 18000019\n"
     ]
    }
   ],
   "source": [
    "run_conversion_pipeline_on_condition(subject=\"Doppio\", condition=\"extended-wake\")"
   ]
  },
  {
   "cell_type": "code",
   "execution_count": 5,
   "metadata": {
    "execution": {
     "iopub.execute_input": "2021-01-19T23:27:38.762073Z",
     "iopub.status.busy": "2021-01-19T23:27:38.761737Z",
     "iopub.status.idle": "2021-01-19T23:27:41.843160Z",
     "shell.execute_reply": "2021-01-19T23:27:41.842370Z",
     "shell.execute_reply.started": "2021-01-19T23:27:38.762034Z"
    }
   },
   "outputs": [
    {
     "name": "stdout",
     "output_type": "stream",
     "text": [
      "nChan: 385, nFileSamp: 18000019\n",
      "nChan: 385, nFileSamp: 18000019\n",
      "nChan: 385, nFileSamp: 18000019\n"
     ]
    }
   ],
   "source": [
    "run_conversion_pipeline_on_condition(subject=\"Doppio\", condition=\"recovery-sleep-6h\")"
   ]
  },
  {
   "cell_type": "code",
   "execution_count": 8,
   "metadata": {
    "execution": {
     "iopub.execute_input": "2021-01-12T20:43:06.618628Z",
     "iopub.status.busy": "2021-01-12T20:43:06.618090Z",
     "iopub.status.idle": "2021-01-12T20:43:07.097717Z",
     "shell.execute_reply": "2021-01-12T20:43:07.096874Z",
     "shell.execute_reply.started": "2021-01-12T20:43:06.618561Z"
    }
   },
   "outputs": [
    {
     "name": "stdout",
     "output_type": "stream",
     "text": [
      "nChan: 385, nFileSamp: 9000051\n",
      "nChan: 385, nFileSamp: 9000052\n",
      "nChan: 385, nFileSamp: 8127109\n",
      "nChan: 385, nFileSamp: 8277840\n",
      "nChan: 385, nFileSamp: 9000052\n",
      "nChan: 385, nFileSamp: 9000052\n"
     ]
    }
   ],
   "source": [
    "run_conversion_pipeline_on_condition(subject=\"Alessandro\", condition=\"extended-wake\")"
   ]
  },
  {
   "cell_type": "code",
   "execution_count": 12,
   "metadata": {
    "execution": {
     "iopub.execute_input": "2021-01-22T21:45:34.313149Z",
     "iopub.status.busy": "2021-01-22T21:45:34.312640Z",
     "iopub.status.idle": "2021-01-22T21:45:35.013800Z",
     "shell.execute_reply": "2021-01-22T21:45:35.013236Z",
     "shell.execute_reply.started": "2021-01-22T21:45:34.313086Z"
    }
   },
   "outputs": [
    {
     "name": "stdout",
     "output_type": "stream",
     "text": [
      "nChan: 385, nFileSamp: 9000052\n",
      "nChan: 385, nFileSamp: 9000052\n",
      "nChan: 385, nFileSamp: 9000051\n",
      "nChan: 385, nFileSamp: 9000052\n",
      "nChan: 385, nFileSamp: 9000052\n",
      "nChan: 385, nFileSamp: 9000052\n"
     ]
    }
   ],
   "source": [
    "run_conversion_pipeline_on_condition(subject=\"Alessandro\", condition=\"recovery-sleep-6h\")"
   ]
  },
  {
   "cell_type": "code",
   "execution_count": 9,
   "metadata": {
    "execution": {
     "iopub.execute_input": "2021-01-12T20:43:14.602562Z",
     "iopub.status.busy": "2021-01-12T20:43:14.602051Z",
     "iopub.status.idle": "2021-01-12T20:43:17.755209Z",
     "shell.execute_reply": "2021-01-12T20:43:17.754334Z",
     "shell.execute_reply.started": "2021-01-12T20:43:14.602495Z"
    }
   },
   "outputs": [
    {
     "name": "stdout",
     "output_type": "stream",
     "text": [
      "nChan: 385, nFileSamp: 800217\n",
      "nChan: 385, nFileSamp: 2877424\n",
      "nChan: 385, nFileSamp: 2430722\n",
      "nChan: 385, nFileSamp: 5735230\n",
      "nChan: 385, nFileSamp: 9000025\n",
      "nChan: 385, nFileSamp: 5608943\n",
      "nChan: 385, nFileSamp: 2417612\n",
      "nChan: 385, nFileSamp: 3435368\n",
      "nChan: 385, nFileSamp: 1369314\n",
      "nChan: 385, nFileSamp: 9000025\n",
      "nChan: 385, nFileSamp: 2946948\n"
     ]
    }
   ],
   "source": [
    "run_conversion_pipeline_on_condition(subject=\"Eugene\", condition=\"extended-wake\")"
   ]
  },
  {
   "cell_type": "code",
   "execution_count": 14,
   "metadata": {
    "execution": {
     "iopub.execute_input": "2021-01-22T23:23:45.007535Z",
     "iopub.status.busy": "2021-01-22T23:23:45.007086Z",
     "iopub.status.idle": "2021-01-22T23:23:45.436065Z",
     "shell.execute_reply": "2021-01-22T23:23:45.435225Z",
     "shell.execute_reply.started": "2021-01-22T23:23:45.007477Z"
    }
   },
   "outputs": [
    {
     "name": "stdout",
     "output_type": "stream",
     "text": [
      "nChan: 385, nFileSamp: 9000026\n",
      "nChan: 385, nFileSamp: 9000026\n",
      "nChan: 385, nFileSamp: 9000026\n",
      "nChan: 385, nFileSamp: 9000026\n",
      "nChan: 385, nFileSamp: 9000025\n"
     ]
    }
   ],
   "source": [
    "run_conversion_pipeline_on_condition(subject=\"Eugene\", condition=\"recovery-sleep-6h\")"
   ]
  },
  {
   "cell_type": "code",
   "execution_count": 11,
   "metadata": {
    "execution": {
     "iopub.execute_input": "2021-01-12T21:20:07.290218Z",
     "iopub.status.busy": "2021-01-12T21:20:07.289695Z",
     "iopub.status.idle": "2021-01-12T21:20:07.312054Z",
     "shell.execute_reply": "2021-01-12T21:20:07.311198Z",
     "shell.execute_reply.started": "2021-01-12T21:20:07.290154Z"
    }
   },
   "outputs": [
    {
     "data": {
      "text/plain": [
       "state                  object\n",
       "end_time       datetime64[ns]\n",
       "start_time     datetime64[ns]\n",
       "duration      timedelta64[ns]\n",
       "dtype: object"
      ]
     },
     "execution_count": 11,
     "metadata": {},
     "output_type": "execute_result"
    }
   ],
   "source": [
    "hypnogram_dt.dtypes"
   ]
  },
  {
   "cell_type": "code",
   "execution_count": null,
   "metadata": {},
   "outputs": [],
   "source": []
  }
 ],
 "metadata": {
  "kernelspec": {
   "display_name": "Python 3",
   "language": "python",
   "name": "python3"
  },
  "language_info": {
   "codemirror_mode": {
    "name": "ipython",
    "version": 3
   },
   "file_extension": ".py",
   "mimetype": "text/x-python",
   "name": "python",
   "nbconvert_exporter": "python",
   "pygments_lexer": "ipython3",
   "version": "3.7.9"
  }
 },
 "nbformat": 4,
 "nbformat_minor": 4
}
