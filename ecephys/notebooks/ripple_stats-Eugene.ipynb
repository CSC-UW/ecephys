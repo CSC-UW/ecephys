{
 "cells": [
  {
   "cell_type": "code",
   "execution_count": 1,
   "metadata": {},
   "outputs": [],
   "source": [
    "%matplotlib widget\n",
    "import pandas as pd\n",
    "from pathlib import Path\n",
    "import matplotlib.pyplot as plt\n",
    "from pandas.plotting import scatter_matrix\n",
    "import numpy as np"
   ]
  },
  {
   "cell_type": "code",
   "execution_count": 2,
   "metadata": {},
   "outputs": [],
   "source": [
    "pd.options.mode.chained_assignment = None  # default='warn'"
   ]
  },
  {
   "cell_type": "markdown",
   "metadata": {},
   "source": [
    "## Read the data"
   ]
  },
  {
   "cell_type": "code",
   "execution_count": 3,
   "metadata": {},
   "outputs": [
    {
     "data": {
      "text/html": [
       "<div>\n",
       "<style scoped>\n",
       "    .dataframe tbody tr th:only-of-type {\n",
       "        vertical-align: middle;\n",
       "    }\n",
       "\n",
       "    .dataframe tbody tr th {\n",
       "        vertical-align: top;\n",
       "    }\n",
       "\n",
       "    .dataframe thead th {\n",
       "        text-align: right;\n",
       "    }\n",
       "</style>\n",
       "<table border=\"1\" class=\"dataframe\">\n",
       "  <thead>\n",
       "    <tr style=\"text-align: right;\">\n",
       "      <th></th>\n",
       "      <th>ripple_number</th>\n",
       "      <th>start_time</th>\n",
       "      <th>end_time</th>\n",
       "      <th>duration</th>\n",
       "      <th>center_time</th>\n",
       "      <th>nadir_time</th>\n",
       "      <th>envelope_integral</th>\n",
       "      <th>envelope_peak</th>\n",
       "      <th>mean_rms</th>\n",
       "      <th>summed_rms</th>\n",
       "      <th>max_rms</th>\n",
       "      <th>mean_amplitude</th>\n",
       "      <th>max_amplitude</th>\n",
       "    </tr>\n",
       "  </thead>\n",
       "  <tbody>\n",
       "    <tr>\n",
       "      <th>0</th>\n",
       "      <td>1</td>\n",
       "      <td>3.605870e+04</td>\n",
       "      <td>3.615190e+04</td>\n",
       "      <td>93.199742</td>\n",
       "      <td>3.610530e+04</td>\n",
       "      <td>3.609070e+04</td>\n",
       "      <td>16894.767745</td>\n",
       "      <td>118.221596</td>\n",
       "      <td>16.787850</td>\n",
       "      <td>167.878502</td>\n",
       "      <td>18.755592</td>\n",
       "      <td>84.748065</td>\n",
       "      <td>99.023094</td>\n",
       "    </tr>\n",
       "    <tr>\n",
       "      <th>1</th>\n",
       "      <td>2</td>\n",
       "      <td>3.669190e+04</td>\n",
       "      <td>3.675430e+04</td>\n",
       "      <td>62.399827</td>\n",
       "      <td>3.672310e+04</td>\n",
       "      <td>3.672390e+04</td>\n",
       "      <td>14227.782155</td>\n",
       "      <td>129.655867</td>\n",
       "      <td>20.737173</td>\n",
       "      <td>207.371727</td>\n",
       "      <td>26.410895</td>\n",
       "      <td>94.265469</td>\n",
       "      <td>109.453347</td>\n",
       "    </tr>\n",
       "    <tr>\n",
       "      <th>2</th>\n",
       "      <td>3</td>\n",
       "      <td>3.754310e+04</td>\n",
       "      <td>3.768110e+04</td>\n",
       "      <td>137.999618</td>\n",
       "      <td>3.761210e+04</td>\n",
       "      <td>3.763310e+04</td>\n",
       "      <td>36788.641174</td>\n",
       "      <td>179.022367</td>\n",
       "      <td>24.761643</td>\n",
       "      <td>247.616429</td>\n",
       "      <td>30.832769</td>\n",
       "      <td>128.647513</td>\n",
       "      <td>158.557173</td>\n",
       "    </tr>\n",
       "    <tr>\n",
       "      <th>3</th>\n",
       "      <td>4</td>\n",
       "      <td>3.800149e+04</td>\n",
       "      <td>3.809549e+04</td>\n",
       "      <td>93.999740</td>\n",
       "      <td>3.804849e+04</td>\n",
       "      <td>3.804349e+04</td>\n",
       "      <td>24003.923302</td>\n",
       "      <td>173.899445</td>\n",
       "      <td>23.712107</td>\n",
       "      <td>237.121065</td>\n",
       "      <td>28.408201</td>\n",
       "      <td>124.753478</td>\n",
       "      <td>162.074406</td>\n",
       "    </tr>\n",
       "    <tr>\n",
       "      <th>4</th>\n",
       "      <td>5</td>\n",
       "      <td>4.338308e+04</td>\n",
       "      <td>4.344108e+04</td>\n",
       "      <td>57.999840</td>\n",
       "      <td>4.341208e+04</td>\n",
       "      <td>4.341788e+04</td>\n",
       "      <td>10953.896540</td>\n",
       "      <td>119.020769</td>\n",
       "      <td>17.525965</td>\n",
       "      <td>175.259649</td>\n",
       "      <td>20.401452</td>\n",
       "      <td>85.612278</td>\n",
       "      <td>103.058310</td>\n",
       "    </tr>\n",
       "    <tr>\n",
       "      <th>...</th>\n",
       "      <td>...</td>\n",
       "      <td>...</td>\n",
       "      <td>...</td>\n",
       "      <td>...</td>\n",
       "      <td>...</td>\n",
       "      <td>...</td>\n",
       "      <td>...</td>\n",
       "      <td>...</td>\n",
       "      <td>...</td>\n",
       "      <td>...</td>\n",
       "      <td>...</td>\n",
       "      <td>...</td>\n",
       "      <td>...</td>\n",
       "    </tr>\n",
       "    <tr>\n",
       "      <th>1460</th>\n",
       "      <td>1461</td>\n",
       "      <td>3.572293e+06</td>\n",
       "      <td>3.572393e+06</td>\n",
       "      <td>100.399722</td>\n",
       "      <td>3.572343e+06</td>\n",
       "      <td>3.572359e+06</td>\n",
       "      <td>38674.994301</td>\n",
       "      <td>317.942511</td>\n",
       "      <td>37.757873</td>\n",
       "      <td>377.578733</td>\n",
       "      <td>49.013967</td>\n",
       "      <td>228.090766</td>\n",
       "      <td>297.072117</td>\n",
       "    </tr>\n",
       "    <tr>\n",
       "      <th>1461</th>\n",
       "      <td>1462</td>\n",
       "      <td>3.572545e+06</td>\n",
       "      <td>3.572695e+06</td>\n",
       "      <td>149.599586</td>\n",
       "      <td>3.572620e+06</td>\n",
       "      <td>3.572604e+06</td>\n",
       "      <td>49902.293323</td>\n",
       "      <td>267.806358</td>\n",
       "      <td>32.140864</td>\n",
       "      <td>321.408640</td>\n",
       "      <td>40.656622</td>\n",
       "      <td>190.178936</td>\n",
       "      <td>242.293870</td>\n",
       "    </tr>\n",
       "    <tr>\n",
       "      <th>1462</th>\n",
       "      <td>1463</td>\n",
       "      <td>3.573195e+06</td>\n",
       "      <td>3.573268e+06</td>\n",
       "      <td>73.599796</td>\n",
       "      <td>3.573231e+06</td>\n",
       "      <td>3.573240e+06</td>\n",
       "      <td>16626.549132</td>\n",
       "      <td>151.484625</td>\n",
       "      <td>20.895859</td>\n",
       "      <td>208.958588</td>\n",
       "      <td>27.070253</td>\n",
       "      <td>106.580499</td>\n",
       "      <td>154.273181</td>\n",
       "    </tr>\n",
       "    <tr>\n",
       "      <th>1463</th>\n",
       "      <td>1464</td>\n",
       "      <td>3.573685e+06</td>\n",
       "      <td>3.573793e+06</td>\n",
       "      <td>108.399700</td>\n",
       "      <td>3.573739e+06</td>\n",
       "      <td>3.573760e+06</td>\n",
       "      <td>37853.791406</td>\n",
       "      <td>339.692343</td>\n",
       "      <td>35.675191</td>\n",
       "      <td>356.751914</td>\n",
       "      <td>44.916383</td>\n",
       "      <td>241.311061</td>\n",
       "      <td>300.707535</td>\n",
       "    </tr>\n",
       "    <tr>\n",
       "      <th>1464</th>\n",
       "      <td>1465</td>\n",
       "      <td>3.574912e+06</td>\n",
       "      <td>3.575003e+06</td>\n",
       "      <td>90.399750</td>\n",
       "      <td>3.574957e+06</td>\n",
       "      <td>3.574968e+06</td>\n",
       "      <td>32216.013773</td>\n",
       "      <td>329.602110</td>\n",
       "      <td>37.092418</td>\n",
       "      <td>370.924176</td>\n",
       "      <td>43.496299</td>\n",
       "      <td>225.506194</td>\n",
       "      <td>268.418702</td>\n",
       "    </tr>\n",
       "  </tbody>\n",
       "</table>\n",
       "<p>1465 rows × 13 columns</p>\n",
       "</div>"
      ],
      "text/plain": [
       "      ripple_number    start_time      end_time    duration   center_time  \\\n",
       "0                 1  3.605870e+04  3.615190e+04   93.199742  3.610530e+04   \n",
       "1                 2  3.669190e+04  3.675430e+04   62.399827  3.672310e+04   \n",
       "2                 3  3.754310e+04  3.768110e+04  137.999618  3.761210e+04   \n",
       "3                 4  3.800149e+04  3.809549e+04   93.999740  3.804849e+04   \n",
       "4                 5  4.338308e+04  4.344108e+04   57.999840  4.341208e+04   \n",
       "...             ...           ...           ...         ...           ...   \n",
       "1460           1461  3.572293e+06  3.572393e+06  100.399722  3.572343e+06   \n",
       "1461           1462  3.572545e+06  3.572695e+06  149.599586  3.572620e+06   \n",
       "1462           1463  3.573195e+06  3.573268e+06   73.599796  3.573231e+06   \n",
       "1463           1464  3.573685e+06  3.573793e+06  108.399700  3.573739e+06   \n",
       "1464           1465  3.574912e+06  3.575003e+06   90.399750  3.574957e+06   \n",
       "\n",
       "        nadir_time  envelope_integral  envelope_peak   mean_rms  summed_rms  \\\n",
       "0     3.609070e+04       16894.767745     118.221596  16.787850  167.878502   \n",
       "1     3.672390e+04       14227.782155     129.655867  20.737173  207.371727   \n",
       "2     3.763310e+04       36788.641174     179.022367  24.761643  247.616429   \n",
       "3     3.804349e+04       24003.923302     173.899445  23.712107  237.121065   \n",
       "4     4.341788e+04       10953.896540     119.020769  17.525965  175.259649   \n",
       "...            ...                ...            ...        ...         ...   \n",
       "1460  3.572359e+06       38674.994301     317.942511  37.757873  377.578733   \n",
       "1461  3.572604e+06       49902.293323     267.806358  32.140864  321.408640   \n",
       "1462  3.573240e+06       16626.549132     151.484625  20.895859  208.958588   \n",
       "1463  3.573760e+06       37853.791406     339.692343  35.675191  356.751914   \n",
       "1464  3.574968e+06       32216.013773     329.602110  37.092418  370.924176   \n",
       "\n",
       "        max_rms  mean_amplitude  max_amplitude  \n",
       "0     18.755592       84.748065      99.023094  \n",
       "1     26.410895       94.265469     109.453347  \n",
       "2     30.832769      128.647513     158.557173  \n",
       "3     28.408201      124.753478     162.074406  \n",
       "4     20.401452       85.612278     103.058310  \n",
       "...         ...             ...            ...  \n",
       "1460  49.013967      228.090766     297.072117  \n",
       "1461  40.656622      190.178936     242.293870  \n",
       "1462  27.070253      106.580499     154.273181  \n",
       "1463  44.916383      241.311061     300.707535  \n",
       "1464  43.496299      225.506194     268.418702  \n",
       "\n",
       "[1465 rows x 13 columns]"
      ]
     },
     "execution_count": 3,
     "metadata": {},
     "output_type": "execute_result"
    }
   ],
   "source": [
    "ripples_bl = pd.read_csv(Path('/Volumes/neuropixel/Data/CNPIX6-Eugene/9.24.2020_BL_24hs2_g0_t5.N2_ripples.csv'))\n",
    "ripples_bl"
   ]
  },
  {
   "cell_type": "code",
   "execution_count": 4,
   "metadata": {},
   "outputs": [
    {
     "data": {
      "text/html": [
       "<div>\n",
       "<style scoped>\n",
       "    .dataframe tbody tr th:only-of-type {\n",
       "        vertical-align: middle;\n",
       "    }\n",
       "\n",
       "    .dataframe tbody tr th {\n",
       "        vertical-align: top;\n",
       "    }\n",
       "\n",
       "    .dataframe thead th {\n",
       "        text-align: right;\n",
       "    }\n",
       "</style>\n",
       "<table border=\"1\" class=\"dataframe\">\n",
       "  <thead>\n",
       "    <tr style=\"text-align: right;\">\n",
       "      <th></th>\n",
       "      <th>ripple_number</th>\n",
       "      <th>start_time</th>\n",
       "      <th>end_time</th>\n",
       "      <th>duration</th>\n",
       "      <th>center_time</th>\n",
       "      <th>nadir_time</th>\n",
       "      <th>envelope_integral</th>\n",
       "      <th>envelope_peak</th>\n",
       "      <th>mean_rms</th>\n",
       "      <th>summed_rms</th>\n",
       "      <th>max_rms</th>\n",
       "      <th>mean_amplitude</th>\n",
       "      <th>max_amplitude</th>\n",
       "    </tr>\n",
       "  </thead>\n",
       "  <tbody>\n",
       "    <tr>\n",
       "      <th>0</th>\n",
       "      <td>1</td>\n",
       "      <td>9.706373e+03</td>\n",
       "      <td>9.840773e+03</td>\n",
       "      <td>134.399628</td>\n",
       "      <td>9.773573e+03</td>\n",
       "      <td>9.787573e+03</td>\n",
       "      <td>30861.284649</td>\n",
       "      <td>195.497234</td>\n",
       "      <td>22.428363</td>\n",
       "      <td>224.283633</td>\n",
       "      <td>26.259203</td>\n",
       "      <td>137.266339</td>\n",
       "      <td>162.250753</td>\n",
       "    </tr>\n",
       "    <tr>\n",
       "      <th>1</th>\n",
       "      <td>2</td>\n",
       "      <td>1.036317e+04</td>\n",
       "      <td>1.045557e+04</td>\n",
       "      <td>92.399744</td>\n",
       "      <td>1.040937e+04</td>\n",
       "      <td>1.040837e+04</td>\n",
       "      <td>22707.414634</td>\n",
       "      <td>150.140621</td>\n",
       "      <td>22.537190</td>\n",
       "      <td>225.371900</td>\n",
       "      <td>29.250414</td>\n",
       "      <td>113.677912</td>\n",
       "      <td>155.606332</td>\n",
       "    </tr>\n",
       "    <tr>\n",
       "      <th>2</th>\n",
       "      <td>3</td>\n",
       "      <td>1.046077e+04</td>\n",
       "      <td>1.052157e+04</td>\n",
       "      <td>60.799832</td>\n",
       "      <td>1.049117e+04</td>\n",
       "      <td>1.047637e+04</td>\n",
       "      <td>12283.929864</td>\n",
       "      <td>148.798604</td>\n",
       "      <td>19.221480</td>\n",
       "      <td>192.214795</td>\n",
       "      <td>22.331043</td>\n",
       "      <td>115.544293</td>\n",
       "      <td>132.985077</td>\n",
       "    </tr>\n",
       "    <tr>\n",
       "      <th>3</th>\n",
       "      <td>4</td>\n",
       "      <td>1.480756e+04</td>\n",
       "      <td>1.493996e+04</td>\n",
       "      <td>132.399634</td>\n",
       "      <td>1.487376e+04</td>\n",
       "      <td>1.491116e+04</td>\n",
       "      <td>36888.739226</td>\n",
       "      <td>177.315302</td>\n",
       "      <td>26.288872</td>\n",
       "      <td>262.888719</td>\n",
       "      <td>29.365370</td>\n",
       "      <td>136.119087</td>\n",
       "      <td>161.119089</td>\n",
       "    </tr>\n",
       "    <tr>\n",
       "      <th>4</th>\n",
       "      <td>5</td>\n",
       "      <td>1.672795e+04</td>\n",
       "      <td>1.677875e+04</td>\n",
       "      <td>50.799859</td>\n",
       "      <td>1.675335e+04</td>\n",
       "      <td>1.674155e+04</td>\n",
       "      <td>12236.387285</td>\n",
       "      <td>126.349903</td>\n",
       "      <td>21.130839</td>\n",
       "      <td>211.308387</td>\n",
       "      <td>28.024777</td>\n",
       "      <td>93.572493</td>\n",
       "      <td>123.789545</td>\n",
       "    </tr>\n",
       "    <tr>\n",
       "      <th>...</th>\n",
       "      <td>...</td>\n",
       "      <td>...</td>\n",
       "      <td>...</td>\n",
       "      <td>...</td>\n",
       "      <td>...</td>\n",
       "      <td>...</td>\n",
       "      <td>...</td>\n",
       "      <td>...</td>\n",
       "      <td>...</td>\n",
       "      <td>...</td>\n",
       "      <td>...</td>\n",
       "      <td>...</td>\n",
       "      <td>...</td>\n",
       "    </tr>\n",
       "    <tr>\n",
       "      <th>1334</th>\n",
       "      <td>1335</td>\n",
       "      <td>3.347662e+06</td>\n",
       "      <td>3.347700e+06</td>\n",
       "      <td>37.999895</td>\n",
       "      <td>3.347681e+06</td>\n",
       "      <td>3.347678e+06</td>\n",
       "      <td>7951.242240</td>\n",
       "      <td>128.921971</td>\n",
       "      <td>19.287587</td>\n",
       "      <td>192.875869</td>\n",
       "      <td>24.848965</td>\n",
       "      <td>93.210786</td>\n",
       "      <td>126.139128</td>\n",
       "    </tr>\n",
       "    <tr>\n",
       "      <th>1335</th>\n",
       "      <td>1336</td>\n",
       "      <td>3.584058e+06</td>\n",
       "      <td>3.584155e+06</td>\n",
       "      <td>97.199731</td>\n",
       "      <td>3.584106e+06</td>\n",
       "      <td>3.584091e+06</td>\n",
       "      <td>25118.500560</td>\n",
       "      <td>190.765333</td>\n",
       "      <td>24.790977</td>\n",
       "      <td>247.909770</td>\n",
       "      <td>34.549111</td>\n",
       "      <td>148.393776</td>\n",
       "      <td>191.672025</td>\n",
       "    </tr>\n",
       "    <tr>\n",
       "      <th>1336</th>\n",
       "      <td>1337</td>\n",
       "      <td>3.586845e+06</td>\n",
       "      <td>3.586947e+06</td>\n",
       "      <td>101.599719</td>\n",
       "      <td>3.586896e+06</td>\n",
       "      <td>3.586892e+06</td>\n",
       "      <td>36456.725982</td>\n",
       "      <td>255.813740</td>\n",
       "      <td>33.269468</td>\n",
       "      <td>332.694679</td>\n",
       "      <td>43.130750</td>\n",
       "      <td>173.695261</td>\n",
       "      <td>233.176912</td>\n",
       "    </tr>\n",
       "    <tr>\n",
       "      <th>1337</th>\n",
       "      <td>1338</td>\n",
       "      <td>3.588507e+06</td>\n",
       "      <td>3.588634e+06</td>\n",
       "      <td>127.599647</td>\n",
       "      <td>3.588571e+06</td>\n",
       "      <td>3.588566e+06</td>\n",
       "      <td>40410.124669</td>\n",
       "      <td>218.209717</td>\n",
       "      <td>29.339261</td>\n",
       "      <td>293.392606</td>\n",
       "      <td>37.726982</td>\n",
       "      <td>156.196191</td>\n",
       "      <td>221.985647</td>\n",
       "    </tr>\n",
       "    <tr>\n",
       "      <th>1338</th>\n",
       "      <td>1339</td>\n",
       "      <td>3.589568e+06</td>\n",
       "      <td>3.589757e+06</td>\n",
       "      <td>188.799478</td>\n",
       "      <td>3.589662e+06</td>\n",
       "      <td>3.589648e+06</td>\n",
       "      <td>71759.778436</td>\n",
       "      <td>514.053318</td>\n",
       "      <td>41.384121</td>\n",
       "      <td>413.841207</td>\n",
       "      <td>53.150881</td>\n",
       "      <td>333.335069</td>\n",
       "      <td>429.819936</td>\n",
       "    </tr>\n",
       "  </tbody>\n",
       "</table>\n",
       "<p>1339 rows × 13 columns</p>\n",
       "</div>"
      ],
      "text/plain": [
       "      ripple_number    start_time      end_time    duration   center_time  \\\n",
       "0                 1  9.706373e+03  9.840773e+03  134.399628  9.773573e+03   \n",
       "1                 2  1.036317e+04  1.045557e+04   92.399744  1.040937e+04   \n",
       "2                 3  1.046077e+04  1.052157e+04   60.799832  1.049117e+04   \n",
       "3                 4  1.480756e+04  1.493996e+04  132.399634  1.487376e+04   \n",
       "4                 5  1.672795e+04  1.677875e+04   50.799859  1.675335e+04   \n",
       "...             ...           ...           ...         ...           ...   \n",
       "1334           1335  3.347662e+06  3.347700e+06   37.999895  3.347681e+06   \n",
       "1335           1336  3.584058e+06  3.584155e+06   97.199731  3.584106e+06   \n",
       "1336           1337  3.586845e+06  3.586947e+06  101.599719  3.586896e+06   \n",
       "1337           1338  3.588507e+06  3.588634e+06  127.599647  3.588571e+06   \n",
       "1338           1339  3.589568e+06  3.589757e+06  188.799478  3.589662e+06   \n",
       "\n",
       "        nadir_time  envelope_integral  envelope_peak   mean_rms  summed_rms  \\\n",
       "0     9.787573e+03       30861.284649     195.497234  22.428363  224.283633   \n",
       "1     1.040837e+04       22707.414634     150.140621  22.537190  225.371900   \n",
       "2     1.047637e+04       12283.929864     148.798604  19.221480  192.214795   \n",
       "3     1.491116e+04       36888.739226     177.315302  26.288872  262.888719   \n",
       "4     1.674155e+04       12236.387285     126.349903  21.130839  211.308387   \n",
       "...            ...                ...            ...        ...         ...   \n",
       "1334  3.347678e+06        7951.242240     128.921971  19.287587  192.875869   \n",
       "1335  3.584091e+06       25118.500560     190.765333  24.790977  247.909770   \n",
       "1336  3.586892e+06       36456.725982     255.813740  33.269468  332.694679   \n",
       "1337  3.588566e+06       40410.124669     218.209717  29.339261  293.392606   \n",
       "1338  3.589648e+06       71759.778436     514.053318  41.384121  413.841207   \n",
       "\n",
       "        max_rms  mean_amplitude  max_amplitude  \n",
       "0     26.259203      137.266339     162.250753  \n",
       "1     29.250414      113.677912     155.606332  \n",
       "2     22.331043      115.544293     132.985077  \n",
       "3     29.365370      136.119087     161.119089  \n",
       "4     28.024777       93.572493     123.789545  \n",
       "...         ...             ...            ...  \n",
       "1334  24.848965       93.210786     126.139128  \n",
       "1335  34.549111      148.393776     191.672025  \n",
       "1336  43.130750      173.695261     233.176912  \n",
       "1337  37.726982      156.196191     221.985647  \n",
       "1338  53.150881      333.335069     429.819936  \n",
       "\n",
       "[1339 rows x 13 columns]"
      ]
     },
     "execution_count": 4,
     "metadata": {},
     "output_type": "execute_result"
    }
   ],
   "source": [
    "ripples_rec = pd.read_csv(Path('/Volumes/neuropixel/Data/CNPIX6-Eugene/9.24.2020_SR_24hs_g0_t0.N2_ripples.csv'))\n",
    "ripples_rec"
   ]
  },
  {
   "cell_type": "markdown",
   "metadata": {},
   "source": [
    "## Load scoring"
   ]
  },
  {
   "cell_type": "code",
   "execution_count": 5,
   "metadata": {},
   "outputs": [],
   "source": [
    "bl_hypnoPath = Path('/Volumes/neuropixel/Data/CNPIX6-Eugene/9.24.2020_BL_24hs2_g0_t5.hypnogram.txt')\n",
    "bl_hypno = pd.read_csv(bl_hypnoPath, sep='\\t', names=['state', 'end_time'], skiprows=1)\n",
    "bl_hypno['start_time'] = bl_hypno.apply(lambda x: 0 if x.name == 0 else bl_hypno.loc[x.name - 1].end_time, axis=1)\n",
    "bl_hypno['duration'] = bl_hypno.apply(lambda x: x.end_time - x.start_time, axis=1)"
   ]
  },
  {
   "cell_type": "code",
   "execution_count": 6,
   "metadata": {},
   "outputs": [],
   "source": [
    "rec_hypnoPath = Path('/Volumes/neuropixel/Data/CNPIX6-Eugene/9.24.2020_SR_24hs_g0_t0.hypnogram.txt')\n",
    "rec_hypno = pd.read_csv(rec_hypnoPath, sep='\\t', names=['state', 'end_time'], skiprows=1)\n",
    "rec_hypno['start_time'] = rec_hypno.apply(lambda x: 0 if x.name == 0 else rec_hypno.loc[x.name - 1].end_time, axis=1)\n",
    "rec_hypno['duration'] = rec_hypno.apply(lambda x: x.end_time - x.start_time, axis=1)"
   ]
  },
  {
   "cell_type": "markdown",
   "metadata": {},
   "source": [
    "## Look at basic summary statistics"
   ]
  },
  {
   "cell_type": "code",
   "execution_count": 7,
   "metadata": {},
   "outputs": [
    {
     "data": {
      "text/plain": [
       "1771.999984741211"
      ]
     },
     "execution_count": 7,
     "metadata": {},
     "output_type": "execute_result"
    }
   ],
   "source": [
    "bl_total_NREM = bl_hypno.loc[bl_hypno['state'] == 'N2'].duration.sum()\n",
    "bl_total_NREM"
   ]
  },
  {
   "cell_type": "code",
   "execution_count": 8,
   "metadata": {},
   "outputs": [
    {
     "data": {
      "text/plain": [
       "2260.0000038146973"
      ]
     },
     "execution_count": 8,
     "metadata": {},
     "output_type": "execute_result"
    }
   ],
   "source": [
    "rec_total_NREM = rec_hypno.loc[rec_hypno['state'] == 'N2'].duration.sum()\n",
    "rec_total_NREM"
   ]
  },
  {
   "cell_type": "code",
   "execution_count": 9,
   "metadata": {},
   "outputs": [
    {
     "data": {
      "text/plain": [
       "0.826749442785099"
      ]
     },
     "execution_count": 9,
     "metadata": {},
     "output_type": "execute_result"
    }
   ],
   "source": [
    "len(ripples_bl) / bl_total_NREM"
   ]
  },
  {
   "cell_type": "code",
   "execution_count": 10,
   "metadata": {},
   "outputs": [
    {
     "data": {
      "text/plain": [
       "0.5924778751061399"
      ]
     },
     "execution_count": 10,
     "metadata": {},
     "output_type": "execute_result"
    }
   ],
   "source": [
    "len(ripples_rec) / rec_total_NREM"
   ]
  },
  {
   "cell_type": "code",
   "execution_count": 11,
   "metadata": {},
   "outputs": [
    {
     "data": {
      "text/plain": [
       "ripple_number        7.330000e+02\n",
       "start_time           1.585268e+06\n",
       "end_time             1.585318e+06\n",
       "duration             8.279977e+01\n",
       "center_time          1.585293e+06\n",
       "nadir_time           1.585304e+06\n",
       "envelope_integral    1.935723e+04\n",
       "envelope_peak        1.491384e+02\n",
       "mean_rms             2.097361e+01\n",
       "summed_rms           2.097361e+02\n",
       "max_rms              2.553229e+01\n",
       "mean_amplitude       1.086792e+02\n",
       "max_amplitude        1.366105e+02\n",
       "dtype: float64"
      ]
     },
     "execution_count": 11,
     "metadata": {},
     "output_type": "execute_result"
    }
   ],
   "source": [
    "ripples_bl.median()"
   ]
  },
  {
   "cell_type": "code",
   "execution_count": 12,
   "metadata": {},
   "outputs": [
    {
     "data": {
      "text/plain": [
       "ripple_number        6.700000e+02\n",
       "start_time           1.475074e+06\n",
       "end_time             1.475288e+06\n",
       "duration             9.999972e+01\n",
       "center_time          1.475181e+06\n",
       "nadir_time           1.475125e+06\n",
       "envelope_integral    2.532287e+04\n",
       "envelope_peak        1.718626e+02\n",
       "mean_rms             2.290000e+01\n",
       "summed_rms           2.290000e+02\n",
       "max_rms              2.862122e+01\n",
       "mean_amplitude       1.250556e+02\n",
       "max_amplitude        1.611377e+02\n",
       "dtype: float64"
      ]
     },
     "execution_count": 12,
     "metadata": {},
     "output_type": "execute_result"
    }
   ],
   "source": [
    "ripples_rec.median()"
   ]
  },
  {
   "cell_type": "code",
   "execution_count": 13,
   "metadata": {},
   "outputs": [
    {
     "data": {
      "text/plain": [
       "ripple_number        7.330000e+02\n",
       "start_time           1.696301e+06\n",
       "end_time             1.696398e+06\n",
       "duration             9.716478e+01\n",
       "center_time          1.696349e+06\n",
       "nadir_time           1.696350e+06\n",
       "envelope_integral    2.425899e+04\n",
       "envelope_peak        1.757723e+02\n",
       "mean_rms             2.301344e+01\n",
       "summed_rms           2.301344e+02\n",
       "max_rms              2.771319e+01\n",
       "mean_amplitude       1.260758e+02\n",
       "max_amplitude        1.558257e+02\n",
       "dtype: float64"
      ]
     },
     "execution_count": 13,
     "metadata": {},
     "output_type": "execute_result"
    }
   ],
   "source": [
    "ripples_bl.mean()"
   ]
  },
  {
   "cell_type": "code",
   "execution_count": 14,
   "metadata": {},
   "outputs": [
    {
     "data": {
      "text/plain": [
       "ripple_number        6.700000e+02\n",
       "start_time           1.636816e+06\n",
       "end_time             1.636930e+06\n",
       "duration             1.138488e+02\n",
       "center_time          1.636873e+06\n",
       "nadir_time           1.636874e+06\n",
       "envelope_integral    3.092595e+04\n",
       "envelope_peak        2.026317e+02\n",
       "mean_rms             2.502146e+01\n",
       "summed_rms           2.502146e+02\n",
       "max_rms              3.128720e+01\n",
       "mean_amplitude       1.444775e+02\n",
       "max_amplitude        1.863926e+02\n",
       "dtype: float64"
      ]
     },
     "execution_count": 14,
     "metadata": {},
     "output_type": "execute_result"
    }
   ],
   "source": [
    "ripples_rec.mean()"
   ]
  },
  {
   "cell_type": "markdown",
   "metadata": {},
   "source": [
    "## Look at feature distributions and correlations"
   ]
  },
  {
   "cell_type": "code",
   "execution_count": 15,
   "metadata": {},
   "outputs": [
    {
     "data": {
      "application/vnd.jupyter.widget-view+json": {
       "model_id": "8d5c62fe32ba4c998bb00cf2809c7020",
       "version_major": 2,
       "version_minor": 0
      },
      "text/plain": [
       "Canvas(toolbar=Toolbar(toolitems=[('Home', 'Reset original view', 'home', 'home'), ('Back', 'Back to previous …"
      ]
     },
     "metadata": {},
     "output_type": "display_data"
    }
   ],
   "source": [
    "ax = scatter_matrix(ripples_bl, figsize=(10, 10))"
   ]
  },
  {
   "cell_type": "code",
   "execution_count": 16,
   "metadata": {},
   "outputs": [
    {
     "data": {
      "application/vnd.jupyter.widget-view+json": {
       "model_id": "18072086a5314915b10631607feb6189",
       "version_major": 2,
       "version_minor": 0
      },
      "text/plain": [
       "Canvas(toolbar=Toolbar(toolitems=[('Home', 'Reset original view', 'home', 'home'), ('Back', 'Back to previous …"
      ]
     },
     "metadata": {},
     "output_type": "display_data"
    }
   ],
   "source": [
    "ax2 = scatter_matrix(ripples_bl.applymap(np.log), figsize=(10, 10))"
   ]
  },
  {
   "cell_type": "markdown",
   "metadata": {},
   "source": [
    "## Look at log-normally distributed features"
   ]
  },
  {
   "cell_type": "code",
   "execution_count": 17,
   "metadata": {},
   "outputs": [
    {
     "data": {
      "application/vnd.jupyter.widget-view+json": {
       "model_id": "40a6c337d7e14791b56695aafb944fa2",
       "version_major": 2,
       "version_minor": 0
      },
      "text/plain": [
       "Canvas(toolbar=Toolbar(toolitems=[('Home', 'Reset original view', 'home', 'home'), ('Back', 'Back to previous …"
      ]
     },
     "metadata": {},
     "output_type": "display_data"
    }
   ],
   "source": [
    "import scipy.stats as stats\n",
    "\n",
    "def plot_qq(bl, rec, var):\n",
    "    fig, axes = plt.subplots(2, 2, figsize=(10, 10))\n",
    "    \n",
    "    stats.probplot(bl[var], dist=\"norm\", plot=axes[0, 0])\n",
    "    axes[0, 0].set_title(\"Baseline {}\".format(var))\n",
    "    stats.probplot(np.log(bl[var]), dist=\"norm\", plot=axes[0, 1])\n",
    "    axes[0, 1].set_title(\"Baseline log {}\".format(var))\n",
    "    stats.probplot(rec[var], dist=\"norm\", plot=axes[1, 0])\n",
    "    axes[1, 0].set_title(\"Recovery {}\".format(var))\n",
    "    stats.probplot(np.log(rec[var]), dist=\"norm\", plot=axes[1, 1])\n",
    "    axes[1, 1].set_title(\"Recovery log {}\".format(var))\n",
    "\n",
    "    plt.show()\n",
    "            \n",
    "plot_qq(ripples_bl, ripples_rec, 'duration')"
   ]
  },
  {
   "cell_type": "code",
   "execution_count": 18,
   "metadata": {},
   "outputs": [],
   "source": [
    "from statsmodels.graphics.tsaplots import plot_acf, plot_pacf\n",
    "\n",
    "def plot_acf_pacf(bl, rec, var, lags=None):\n",
    "    fig, axes = plt.subplots(2, 2, figsize=(10, 10))\n",
    "\n",
    "    plot_acf(bl[var], lags=lags, ax=axes[0, 0], title=\"Baseline {} acf\".format(var))\n",
    "    plot_pacf(bl[var], lags=lags, ax=axes[0, 1], title=\"Baseline {} pacf\".format(var))\n",
    "    plot_acf(rec[var], lags=lags, ax=axes[1, 0], title=\"Recovery {} acf\".format(var))\n",
    "    plot_pacf(rec[var], lags=lags, ax=axes[1, 1], title=\"Recovery {} pacf\".format(var))\n",
    "\n",
    "    plt.show()"
   ]
  },
  {
   "cell_type": "code",
   "execution_count": 19,
   "metadata": {},
   "outputs": [
    {
     "data": {
      "application/vnd.jupyter.widget-view+json": {
       "model_id": "e0566bc68ad44853a3413fcb9677be3f",
       "version_major": 2,
       "version_minor": 0
      },
      "text/plain": [
       "Canvas(toolbar=Toolbar(toolitems=[('Home', 'Reset original view', 'home', 'home'), ('Back', 'Back to previous …"
      ]
     },
     "metadata": {},
     "output_type": "display_data"
    }
   ],
   "source": [
    "plot_acf_pacf(ripples_bl, ripples_rec, 'duration')"
   ]
  },
  {
   "cell_type": "code",
   "execution_count": 20,
   "metadata": {},
   "outputs": [],
   "source": [
    "def plot_vs_time(bl, rec, var):\n",
    "    fig, axes = plt.subplots(2, 1)\n",
    "    bl.plot.scatter(x='center_time', y=var, ax=axes[0], title='Baseline')\n",
    "    rec.plot.scatter(x='center_time', y=var, ax=axes[1], title='Recovery')\n",
    "    plt.show()"
   ]
  },
  {
   "cell_type": "code",
   "execution_count": 21,
   "metadata": {},
   "outputs": [
    {
     "data": {
      "application/vnd.jupyter.widget-view+json": {
       "model_id": "3491e0cf11a64c20a1eaf64006f875f3",
       "version_major": 2,
       "version_minor": 0
      },
      "text/plain": [
       "Canvas(toolbar=Toolbar(toolitems=[('Home', 'Reset original view', 'home', 'home'), ('Back', 'Back to previous …"
      ]
     },
     "metadata": {},
     "output_type": "display_data"
    }
   ],
   "source": [
    "plot_vs_time(ripples_bl, ripples_rec, 'duration')"
   ]
  },
  {
   "cell_type": "code",
   "execution_count": 22,
   "metadata": {},
   "outputs": [],
   "source": [
    "def test_slope(ripples, x, y):\n",
    "    return stats.linregress(ripples[x], ripples[y])"
   ]
  },
  {
   "cell_type": "code",
   "execution_count": 23,
   "metadata": {},
   "outputs": [
    {
     "data": {
      "text/plain": [
       "LinregressResult(slope=3.9328668822856453e-07, intercept=96.4976307461066, rvalue=0.006564113388139453, pvalue=0.8017895399544547, stderr=1.5663963152463204e-06)"
      ]
     },
     "execution_count": 23,
     "metadata": {},
     "output_type": "execute_result"
    }
   ],
   "source": [
    "test_slope(ripples_bl, 'center_time', 'duration')"
   ]
  },
  {
   "cell_type": "code",
   "execution_count": 24,
   "metadata": {},
   "outputs": [
    {
     "data": {
      "text/plain": [
       "LinregressResult(slope=1.7334302993594878e-08, intercept=113.82045209252632, rvalue=0.0002990255319049318, pvalue=0.9912778371805334, stderr=1.5853763996852208e-06)"
      ]
     },
     "execution_count": 24,
     "metadata": {},
     "output_type": "execute_result"
    }
   ],
   "source": [
    "test_slope(ripples_rec, 'center_time', 'duration')"
   ]
  },
  {
   "cell_type": "code",
   "execution_count": 25,
   "metadata": {},
   "outputs": [
    {
     "data": {
      "text/plain": [
       "Ttest_indResult(statistic=-8.698591580257208, pvalue=5.6318032634910845e-18)"
      ]
     },
     "execution_count": 25,
     "metadata": {},
     "output_type": "execute_result"
    }
   ],
   "source": [
    "stats.ttest_ind(np.log(ripples_bl.duration), np.log(ripples_rec.duration), equal_var=False)"
   ]
  },
  {
   "cell_type": "code",
   "execution_count": 26,
   "metadata": {},
   "outputs": [],
   "source": [
    "# https://dfrieds.com/math/effect-size.html\n",
    "def interpret_cohens_d(cohens_d):\n",
    "    \"\"\"\n",
    "    Determines text interpretation of effect size given Cohen's d value\n",
    "\n",
    "    :param cohens_d: float of Cohen's d value\n",
    "    :returns: effect_size_interpretation: adjective to describe magnitude of effect size\n",
    "    \"\"\"\n",
    "    if 0<=cohens_d<0.1:\n",
    "        effect_size_interpretation = \"Very Small\"\n",
    "    elif 0.1<=cohens_d<0.35:\n",
    "        effect_size_interpretation = \"Small\"\n",
    "    elif 0.35<=cohens_d<0.65:\n",
    "        effect_size_interpretation = \"Medium\"\n",
    "    elif 0.65<=cohens_d<0.9:\n",
    "        effect_size_interpretation = \"Large\"\n",
    "    elif cohens_d >= 0.9:\n",
    "        effect_size_interpretation = \"Very Large\"\n",
    "    return effect_size_interpretation"
   ]
  },
  {
   "cell_type": "code",
   "execution_count": 27,
   "metadata": {},
   "outputs": [],
   "source": [
    "def two_sample_data_setup_for_cohens_d(mean_1, mean_2, sample_std_dev_1, sample_std_dev_2):\n",
    "    \"\"\"\n",
    "    Creates two normal distributions of data values. \n",
    "    Calculates differences in values and standard deviation of list of differences.\n",
    "    Calculates Cohen's D - equation used in dependent t-tests\n",
    "\n",
    "    :param mean_1: mean of group one\n",
    "    :param mean_2: mean of group two\n",
    "    :param sample_std_dev_1: sample standard deviation of group one\n",
    "    :param sample_std_dev_2: sample standard deviation of group two\n",
    "    \n",
    "    :returns: values_1, values_2, cohens_d: values for group one, values for group two, Cohen's d\n",
    "    \"\"\"\n",
    "    values_1 = np.random.normal(loc=mean_1, scale=sample_std_dev_1, size=3000)\n",
    "    values_2 = np.random.normal(loc=mean_2, scale=sample_std_dev_2, size=3000)\n",
    "    differences_group_values = np.subtract(values_1, values_2)\n",
    "    std_dev_differences_group_values = np.std(differences_group_values, ddof=1)\n",
    "    cohens_d = round(abs((mean_1 - mean_2)/std_dev_differences_group_values), 2)\n",
    "    return values_1, values_2, cohens_d"
   ]
  },
  {
   "cell_type": "code",
   "execution_count": 28,
   "metadata": {},
   "outputs": [],
   "source": [
    "import seaborn as sns\n",
    "\n",
    "def visualize_distributions(values_1, values_2, cohens_d, cohens_d_interpretation):\n",
    "    \"\"\"\n",
    "    Plots KDE plots of values from values_1 and values_2.\n",
    "    Inserts Cohen's d value and interpretation in title\n",
    "\n",
    "    :param values_1: values in group one\n",
    "    :param values_2: values in group two \n",
    "    :param cohens_d: Cohen's d value\n",
    "    :param cohens_d_interpretation: text to describe magnitude of effect size\n",
    "    :returns: plot figure\n",
    "    \"\"\"\n",
    "    plt.figure(figsize=(10, 8))\n",
    "    sns.distplot(values_1, hist=False, label='Baseline')\n",
    "    sns.distplot(values_2, hist=False, label='Recovery')\n",
    "    plt.xlabel(\"Log-transformed duration\", labelpad=13)\n",
    "    plt.ylabel(\"frequency\", labelpad=13)\n",
    "    plt.legend()\n",
    "    plt.title(\"Distribution of Two Groups with {0} Cohen's d of {1}\".format(cohens_d_interpretation, cohens_d), y=1.015, fontsize=22)"
   ]
  },
  {
   "cell_type": "code",
   "execution_count": 29,
   "metadata": {},
   "outputs": [
    {
     "data": {
      "application/vnd.jupyter.widget-view+json": {
       "model_id": "12dd52c6152240cf8e61ec3beb038e41",
       "version_major": 2,
       "version_minor": 0
      },
      "text/plain": [
       "Canvas(toolbar=Toolbar(toolitems=[('Home', 'Reset original view', 'home', 'home'), ('Back', 'Back to previous …"
      ]
     },
     "metadata": {},
     "output_type": "display_data"
    },
    {
     "name": "stderr",
     "output_type": "stream",
     "text": [
      "/home/gfindlay/miniconda3/envs/ecephys/lib/python3.7/site-packages/seaborn/distributions.py:2551: FutureWarning: `distplot` is a deprecated function and will be removed in a future version. Please adapt your code to use either `displot` (a figure-level function with similar flexibility) or `kdeplot` (an axes-level function for kernel density plots).\n",
      "  warnings.warn(msg, FutureWarning)\n",
      "/home/gfindlay/miniconda3/envs/ecephys/lib/python3.7/site-packages/seaborn/distributions.py:2551: FutureWarning: `distplot` is a deprecated function and will be removed in a future version. Please adapt your code to use either `displot` (a figure-level function with similar flexibility) or `kdeplot` (an axes-level function for kernel density plots).\n",
      "  warnings.warn(msg, FutureWarning)\n"
     ]
    }
   ],
   "source": [
    "values_bl, values_rec, cohens_d = two_sample_data_setup_for_cohens_d(np.log(ripples_bl.duration).mean(), \n",
    "                                                                     np.log(ripples_rec.duration).mean(), \n",
    "                                                                     np.log(ripples_bl.duration).std(), \n",
    "                                                                     np.log(ripples_rec.duration).std())\n",
    "visualize_distributions(np.log(ripples_bl.duration), np.log(ripples_rec).duration, cohens_d, interpret_cohens_d(cohens_d))\n"
   ]
  },
  {
   "cell_type": "code",
   "execution_count": 30,
   "metadata": {},
   "outputs": [
    {
     "name": "stdout",
     "output_type": "stream",
     "text": [
      "65.35232401358594 6.263601696790957e-16 92.39974433602764\n"
     ]
    }
   ],
   "source": [
    "stat, p, med, tbl = stats.median_test(ripples_bl.duration, ripples_rec.duration) \n",
    "print(stat, p, med)"
   ]
  },
  {
   "cell_type": "code",
   "execution_count": 31,
   "metadata": {},
   "outputs": [
    {
     "data": {
      "text/plain": [
       "KruskalResult(statistic=76.89409467695965, pvalue=1.8037566044271487e-18)"
      ]
     },
     "execution_count": 31,
     "metadata": {},
     "output_type": "execute_result"
    }
   ],
   "source": [
    "stats.kruskal(ripples_bl.duration, ripples_rec.duration)"
   ]
  },
  {
   "cell_type": "code",
   "execution_count": 32,
   "metadata": {},
   "outputs": [
    {
     "data": {
      "text/plain": [
       "MannwhitneyuResult(statistic=793045.5, pvalue=9.02065327224756e-19)"
      ]
     },
     "execution_count": 32,
     "metadata": {},
     "output_type": "execute_result"
    }
   ],
   "source": [
    "stats.mannwhitneyu(ripples_bl.duration, ripples_rec.duration)"
   ]
  },
  {
   "cell_type": "markdown",
   "metadata": {},
   "source": [
    "## Look at non-normally distributed features"
   ]
  },
  {
   "cell_type": "markdown",
   "metadata": {},
   "source": [
    "### Max_amplitude"
   ]
  },
  {
   "cell_type": "code",
   "execution_count": 33,
   "metadata": {},
   "outputs": [
    {
     "data": {
      "application/vnd.jupyter.widget-view+json": {
       "model_id": "8a0552ebb6c145c4ba31f3ada0589856",
       "version_major": 2,
       "version_minor": 0
      },
      "text/plain": [
       "Canvas(toolbar=Toolbar(toolitems=[('Home', 'Reset original view', 'home', 'home'), ('Back', 'Back to previous …"
      ]
     },
     "metadata": {},
     "output_type": "display_data"
    }
   ],
   "source": [
    "plot_acf_pacf(ripples_bl, ripples_rec, 'max_amplitude')"
   ]
  },
  {
   "cell_type": "code",
   "execution_count": 34,
   "metadata": {},
   "outputs": [
    {
     "data": {
      "application/vnd.jupyter.widget-view+json": {
       "model_id": "c1a455fc584c41b4bb03b8d099467725",
       "version_major": 2,
       "version_minor": 0
      },
      "text/plain": [
       "Canvas(toolbar=Toolbar(toolitems=[('Home', 'Reset original view', 'home', 'home'), ('Back', 'Back to previous …"
      ]
     },
     "metadata": {},
     "output_type": "display_data"
    }
   ],
   "source": [
    "plot_vs_time(ripples_bl, ripples_rec, 'max_amplitude')"
   ]
  },
  {
   "cell_type": "code",
   "execution_count": 35,
   "metadata": {},
   "outputs": [
    {
     "data": {
      "text/plain": [
       "LinregressResult(slope=1.964513477399875e-06, intercept=152.49318371196944, rvalue=0.033068394053096334, pvalue=0.20588248267159634, stderr=1.552323245267723e-06)"
      ]
     },
     "execution_count": 35,
     "metadata": {},
     "output_type": "execute_result"
    }
   ],
   "source": [
    "test_slope(ripples_bl, 'center_time', 'max_amplitude')"
   ]
  },
  {
   "cell_type": "code",
   "execution_count": 36,
   "metadata": {},
   "outputs": [
    {
     "data": {
      "text/plain": [
       "LinregressResult(slope=-1.4004571087338836e-06, intercept=188.6850121978003, rvalue=-0.020958109000892334, pvalue=0.4435130718949909, stderr=1.8270759997192556e-06)"
      ]
     },
     "execution_count": 36,
     "metadata": {},
     "output_type": "execute_result"
    }
   ],
   "source": [
    "test_slope(ripples_rec, 'center_time', 'max_amplitude')"
   ]
  },
  {
   "cell_type": "code",
   "execution_count": 37,
   "metadata": {},
   "outputs": [
    {
     "data": {
      "text/plain": [
       "MannwhitneyuResult(statistic=692278.0, pvalue=1.1016616077242053e-41)"
      ]
     },
     "execution_count": 37,
     "metadata": {},
     "output_type": "execute_result"
    }
   ],
   "source": [
    "stats.mannwhitneyu(ripples_bl.max_amplitude, ripples_rec.max_amplitude)"
   ]
  },
  {
   "cell_type": "markdown",
   "metadata": {},
   "source": [
    "### Envelope Peak"
   ]
  },
  {
   "cell_type": "code",
   "execution_count": 38,
   "metadata": {},
   "outputs": [
    {
     "data": {
      "application/vnd.jupyter.widget-view+json": {
       "model_id": "fe28181b2acc42c38e26504a4a269c7e",
       "version_major": 2,
       "version_minor": 0
      },
      "text/plain": [
       "Canvas(toolbar=Toolbar(toolitems=[('Home', 'Reset original view', 'home', 'home'), ('Back', 'Back to previous …"
      ]
     },
     "metadata": {},
     "output_type": "display_data"
    }
   ],
   "source": [
    "plot_acf_pacf(ripples_bl, ripples_rec, 'envelope_peak')"
   ]
  },
  {
   "cell_type": "code",
   "execution_count": 39,
   "metadata": {},
   "outputs": [
    {
     "data": {
      "application/vnd.jupyter.widget-view+json": {
       "model_id": "a0463ff0afc04d6e94f7361d23911b1b",
       "version_major": 2,
       "version_minor": 0
      },
      "text/plain": [
       "Canvas(toolbar=Toolbar(toolitems=[('Home', 'Reset original view', 'home', 'home'), ('Back', 'Back to previous …"
      ]
     },
     "metadata": {},
     "output_type": "display_data"
    }
   ],
   "source": [
    "plot_vs_time(ripples_bl, ripples_rec, 'envelope_peak')"
   ]
  },
  {
   "cell_type": "code",
   "execution_count": 40,
   "metadata": {},
   "outputs": [
    {
     "data": {
      "text/plain": [
       "LinregressResult(slope=2.0716482647053806e-06, intercept=172.258048963538, rvalue=0.028254468432683706, pvalue=0.27981214783155184, stderr=1.9161667297123724e-06)"
      ]
     },
     "execution_count": 40,
     "metadata": {},
     "output_type": "execute_result"
    }
   ],
   "source": [
    "test_slope(ripples_bl, 'center_time', 'envelope_peak')"
   ]
  },
  {
   "cell_type": "code",
   "execution_count": 41,
   "metadata": {},
   "outputs": [
    {
     "data": {
      "text/plain": [
       "LinregressResult(slope=-2.0295065829813675e-06, intercept=205.95376563398315, rvalue=-0.026121939043144787, pvalue=0.33951025392928047, stderr=2.1240812574619267e-06)"
      ]
     },
     "execution_count": 41,
     "metadata": {},
     "output_type": "execute_result"
    }
   ],
   "source": [
    "test_slope(ripples_rec, 'center_time', 'envelope_peak')"
   ]
  },
  {
   "cell_type": "code",
   "execution_count": 42,
   "metadata": {},
   "outputs": [
    {
     "data": {
      "text/plain": [
       "MannwhitneyuResult(statistic=761642.0, pvalue=6.879111065983382e-25)"
      ]
     },
     "execution_count": 42,
     "metadata": {},
     "output_type": "execute_result"
    }
   ],
   "source": [
    "stats.mannwhitneyu(ripples_bl.envelope_peak, ripples_rec.envelope_peak)"
   ]
  },
  {
   "cell_type": "code",
   "execution_count": 43,
   "metadata": {},
   "outputs": [
    {
     "data": {
      "application/vnd.jupyter.widget-view+json": {
       "model_id": "5718a9ccddba4109a7e9773edc4d0bba",
       "version_major": 2,
       "version_minor": 0
      },
      "text/plain": [
       "Canvas(toolbar=Toolbar(toolitems=[('Home', 'Reset original view', 'home', 'home'), ('Back', 'Back to previous …"
      ]
     },
     "metadata": {},
     "output_type": "display_data"
    },
    {
     "name": "stderr",
     "output_type": "stream",
     "text": [
      "/home/gfindlay/miniconda3/envs/ecephys/lib/python3.7/site-packages/seaborn/distributions.py:2551: FutureWarning: `distplot` is a deprecated function and will be removed in a future version. Please adapt your code to use either `displot` (a figure-level function with similar flexibility) or `kdeplot` (an axes-level function for kernel density plots).\n",
      "  warnings.warn(msg, FutureWarning)\n",
      "/home/gfindlay/miniconda3/envs/ecephys/lib/python3.7/site-packages/seaborn/distributions.py:2551: FutureWarning: `distplot` is a deprecated function and will be removed in a future version. Please adapt your code to use either `displot` (a figure-level function with similar flexibility) or `kdeplot` (an axes-level function for kernel density plots).\n",
      "  warnings.warn(msg, FutureWarning)\n"
     ]
    },
    {
     "data": {
      "text/plain": [
       "<matplotlib.legend.Legend at 0x7fbe03da6ad0>"
      ]
     },
     "execution_count": 43,
     "metadata": {},
     "output_type": "execute_result"
    }
   ],
   "source": [
    "plt.figure(figsize=(10, 8))\n",
    "sns.distplot(ripples_bl.envelope_peak, hist=False, label='Baseline')\n",
    "sns.distplot(ripples_rec.envelope_peak, hist=False, label='Recovery')\n",
    "plt.xlabel(\"Envelope peak\", labelpad=13)\n",
    "plt.ylabel(\"frequency\", labelpad=13)\n",
    "plt.legend()"
   ]
  },
  {
   "cell_type": "markdown",
   "metadata": {},
   "source": [
    "### Envelope Integral"
   ]
  },
  {
   "cell_type": "code",
   "execution_count": 44,
   "metadata": {},
   "outputs": [
    {
     "data": {
      "application/vnd.jupyter.widget-view+json": {
       "model_id": "522a4faab65642368e97748cfaa4cc24",
       "version_major": 2,
       "version_minor": 0
      },
      "text/plain": [
       "Canvas(toolbar=Toolbar(toolitems=[('Home', 'Reset original view', 'home', 'home'), ('Back', 'Back to previous …"
      ]
     },
     "metadata": {},
     "output_type": "display_data"
    }
   ],
   "source": [
    "plot_acf_pacf(ripples_bl, ripples_rec, 'envelope_integral')"
   ]
  },
  {
   "cell_type": "code",
   "execution_count": 45,
   "metadata": {},
   "outputs": [
    {
     "data": {
      "application/vnd.jupyter.widget-view+json": {
       "model_id": "a743b032c1dd4ba2a6f9117450128b63",
       "version_major": 2,
       "version_minor": 0
      },
      "text/plain": [
       "Canvas(toolbar=Toolbar(toolitems=[('Home', 'Reset original view', 'home', 'home'), ('Back', 'Back to previous …"
      ]
     },
     "metadata": {},
     "output_type": "display_data"
    }
   ],
   "source": [
    "plot_vs_time(ripples_bl, ripples_rec, 'envelope_integral')"
   ]
  },
  {
   "cell_type": "code",
   "execution_count": 46,
   "metadata": {},
   "outputs": [
    {
     "data": {
      "text/plain": [
       "LinregressResult(slope=0.00035825831123158946, intercept=23651.256920132484, rvalue=0.019579541744762934, pvalue=0.45395045639605847, stderr=0.00047828672506327143)"
      ]
     },
     "execution_count": 46,
     "metadata": {},
     "output_type": "execute_result"
    }
   ],
   "source": [
    "test_slope(ripples_bl, 'center_time', 'envelope_integral')"
   ]
  },
  {
   "cell_type": "code",
   "execution_count": 47,
   "metadata": {},
   "outputs": [
    {
     "data": {
      "text/plain": [
       "LinregressResult(slope=-0.0002226869557705138, intercept=31290.462675153132, rvalue=-0.011653534188046386, pvalue=0.6700740373486599, stderr=0.0005225669371704442)"
      ]
     },
     "execution_count": 47,
     "metadata": {},
     "output_type": "execute_result"
    }
   ],
   "source": [
    "test_slope(ripples_rec, 'center_time', 'envelope_integral')"
   ]
  },
  {
   "cell_type": "code",
   "execution_count": 48,
   "metadata": {},
   "outputs": [
    {
     "data": {
      "text/plain": [
       "MannwhitneyuResult(statistic=757292.0, pvalue=8.263695291169016e-26)"
      ]
     },
     "execution_count": 48,
     "metadata": {},
     "output_type": "execute_result"
    }
   ],
   "source": [
    "stats.mannwhitneyu(ripples_bl.envelope_integral, ripples_rec.envelope_integral)"
   ]
  },
  {
   "cell_type": "code",
   "execution_count": 49,
   "metadata": {},
   "outputs": [
    {
     "data": {
      "application/vnd.jupyter.widget-view+json": {
       "model_id": "7317784c254740aebcd8b5a3ec02bdf8",
       "version_major": 2,
       "version_minor": 0
      },
      "text/plain": [
       "Canvas(toolbar=Toolbar(toolitems=[('Home', 'Reset original view', 'home', 'home'), ('Back', 'Back to previous …"
      ]
     },
     "metadata": {},
     "output_type": "display_data"
    },
    {
     "name": "stderr",
     "output_type": "stream",
     "text": [
      "/home/gfindlay/miniconda3/envs/ecephys/lib/python3.7/site-packages/seaborn/distributions.py:2551: FutureWarning: `distplot` is a deprecated function and will be removed in a future version. Please adapt your code to use either `displot` (a figure-level function with similar flexibility) or `kdeplot` (an axes-level function for kernel density plots).\n",
      "  warnings.warn(msg, FutureWarning)\n",
      "/home/gfindlay/miniconda3/envs/ecephys/lib/python3.7/site-packages/seaborn/distributions.py:2551: FutureWarning: `distplot` is a deprecated function and will be removed in a future version. Please adapt your code to use either `displot` (a figure-level function with similar flexibility) or `kdeplot` (an axes-level function for kernel density plots).\n",
      "  warnings.warn(msg, FutureWarning)\n"
     ]
    },
    {
     "data": {
      "text/plain": [
       "<matplotlib.legend.Legend at 0x7fbe03a14790>"
      ]
     },
     "execution_count": 49,
     "metadata": {},
     "output_type": "execute_result"
    }
   ],
   "source": [
    "plt.figure(figsize=(10, 8))\n",
    "sns.distplot(ripples_bl.envelope_integral, hist=False, label='Baseline')\n",
    "sns.distplot(ripples_rec.envelope_integral, hist=False, label='Recovery')\n",
    "plt.xlabel(\"Envelope integral\", labelpad=13)\n",
    "plt.ylabel(\"frequency\", labelpad=13)\n",
    "plt.legend()"
   ]
  },
  {
   "cell_type": "markdown",
   "metadata": {},
   "source": [
    "## Look at ripple density"
   ]
  },
  {
   "cell_type": "code",
   "execution_count": 50,
   "metadata": {},
   "outputs": [
    {
     "data": {
      "application/vnd.jupyter.widget-view+json": {
       "model_id": "8cf43561c05e49eda5e138cf43dc9c10",
       "version_major": 2,
       "version_minor": 0
      },
      "text/plain": [
       "Canvas(toolbar=Toolbar(toolitems=[('Home', 'Reset original view', 'home', 'home'), ('Back', 'Back to previous …"
      ]
     },
     "metadata": {},
     "output_type": "display_data"
    },
    {
     "name": "stderr",
     "output_type": "stream",
     "text": [
      "/home/gfindlay/miniconda3/envs/ecephys/lib/python3.7/site-packages/seaborn/distributions.py:2551: FutureWarning: `distplot` is a deprecated function and will be removed in a future version. Please adapt your code to use either `displot` (a figure-level function with similar flexibility) or `kdeplot` (an axes-level function for kernel density plots).\n",
      "  warnings.warn(msg, FutureWarning)\n",
      "/home/gfindlay/miniconda3/envs/ecephys/lib/python3.7/site-packages/seaborn/distributions.py:2551: FutureWarning: `distplot` is a deprecated function and will be removed in a future version. Please adapt your code to use either `displot` (a figure-level function with similar flexibility) or `kdeplot` (an axes-level function for kernel density plots).\n",
      "  warnings.warn(msg, FutureWarning)\n"
     ]
    },
    {
     "data": {
      "text/plain": [
       "<matplotlib.legend.Legend at 0x7fbe04008e90>"
      ]
     },
     "execution_count": 50,
     "metadata": {},
     "output_type": "execute_result"
    }
   ],
   "source": [
    "plt.figure(figsize=(10, 8))\n",
    "sns.distplot(bl_hypno[bl_hypno.state == \"N2\"].duration, hist=False, label='Baseline')\n",
    "sns.distplot(rec_hypno[rec_hypno.state == \"N2\"].duration, hist=False, label='Recovery')\n",
    "plt.xlabel(\"NREM Episode Duration\", labelpad=13)\n",
    "plt.ylabel(\"frequency\", labelpad=13)\n",
    "plt.legend()"
   ]
  },
  {
   "cell_type": "code",
   "execution_count": 51,
   "metadata": {},
   "outputs": [],
   "source": [
    "def get_ripple_density(hypno, ripples):  \n",
    "    N2 = hypno[hypno.state == \"N2\"]\n",
    "    N2['n_ripples'] = N2.apply(lambda episode: np.sum(np.logical_and(ripples.center_time >= episode.start_time * 1000, ripples.center_time <= episode.end_time * 1000)), axis=1)\n",
    "    N2['ripple_density'] = N2.apply(lambda episode: episode.n_ripples / episode.duration, axis=1)\n",
    "    return N2"
   ]
  },
  {
   "cell_type": "code",
   "execution_count": 52,
   "metadata": {},
   "outputs": [
    {
     "data": {
      "application/vnd.jupyter.widget-view+json": {
       "model_id": "fb24ddf0224f4fb69b348cee6f39d7b5",
       "version_major": 2,
       "version_minor": 0
      },
      "text/plain": [
       "Canvas(toolbar=Toolbar(toolitems=[('Home', 'Reset original view', 'home', 'home'), ('Back', 'Back to previous …"
      ]
     },
     "metadata": {},
     "output_type": "display_data"
    },
    {
     "name": "stdout",
     "output_type": "stream",
     "text": [
      "Mean ripple density:  0.8628451424061232 \n",
      " Median ripple density:  0.8100961538461539\n"
     ]
    }
   ],
   "source": [
    "bl_density = get_ripple_density(bl_hypno, ripples_bl)\n",
    "\n",
    "plt.figure()\n",
    "ax = bl_density.ripple_density.plot.hist(bins=20)\n",
    "\n",
    "print(\"Mean ripple density: \", bl_density.ripple_density.mean(), \"\\n\", \"Median ripple density: \", bl_density.ripple_density.median())"
   ]
  },
  {
   "cell_type": "code",
   "execution_count": 53,
   "metadata": {},
   "outputs": [
    {
     "data": {
      "application/vnd.jupyter.widget-view+json": {
       "model_id": "289adcf0658b432587990f18cf44b288",
       "version_major": 2,
       "version_minor": 0
      },
      "text/plain": [
       "Canvas(toolbar=Toolbar(toolitems=[('Home', 'Reset original view', 'home', 'home'), ('Back', 'Back to previous …"
      ]
     },
     "metadata": {},
     "output_type": "display_data"
    }
   ],
   "source": [
    "ax = bl_density.plot(x='start_time', y='ripple_density')"
   ]
  },
  {
   "cell_type": "code",
   "execution_count": 54,
   "metadata": {},
   "outputs": [
    {
     "data": {
      "text/plain": [
       "LinregressResult(slope=-4.146907962928928e-05, intercept=0.9358671689293976, rvalue=-0.16677425966499593, pvalue=0.22807884841626136, stderr=3.3999181517099987e-05)"
      ]
     },
     "execution_count": 54,
     "metadata": {},
     "output_type": "execute_result"
    }
   ],
   "source": [
    "test_slope(bl_density, 'start_time', 'ripple_density')"
   ]
  },
  {
   "cell_type": "code",
   "execution_count": 55,
   "metadata": {},
   "outputs": [
    {
     "data": {
      "application/vnd.jupyter.widget-view+json": {
       "model_id": "e9579549f23e4235b39704a8b07c612c",
       "version_major": 2,
       "version_minor": 0
      },
      "text/plain": [
       "Canvas(toolbar=Toolbar(toolitems=[('Home', 'Reset original view', 'home', 'home'), ('Back', 'Back to previous …"
      ]
     },
     "metadata": {},
     "output_type": "display_data"
    },
    {
     "name": "stdout",
     "output_type": "stream",
     "text": [
      "Mean ripple density:  0.643752680331606 \n",
      " Median ripple density:  0.6139705882352942\n"
     ]
    }
   ],
   "source": [
    "rec_density = get_ripple_density(rec_hypno, ripples_rec)\n",
    "\n",
    "plt.figure()\n",
    "ax = rec_density.ripple_density.plot.hist(bins=20)\n",
    "\n",
    "print(\"Mean ripple density: \", rec_density.ripple_density.mean(), \"\\n\", \"Median ripple density: \", rec_density.ripple_density.median())"
   ]
  },
  {
   "cell_type": "code",
   "execution_count": 56,
   "metadata": {},
   "outputs": [
    {
     "data": {
      "application/vnd.jupyter.widget-view+json": {
       "model_id": "f2e22825bdd144e290cf8a45fc53297b",
       "version_major": 2,
       "version_minor": 0
      },
      "text/plain": [
       "Canvas(toolbar=Toolbar(toolitems=[('Home', 'Reset original view', 'home', 'home'), ('Back', 'Back to previous …"
      ]
     },
     "metadata": {},
     "output_type": "display_data"
    },
    {
     "data": {
      "text/plain": [
       "<AxesSubplot:>"
      ]
     },
     "execution_count": 56,
     "metadata": {},
     "output_type": "execute_result"
    }
   ],
   "source": [
    "plt.figure()\n",
    "rec_density.boxplot(column=['ripple_density'])"
   ]
  },
  {
   "cell_type": "code",
   "execution_count": 57,
   "metadata": {},
   "outputs": [
    {
     "data": {
      "application/vnd.jupyter.widget-view+json": {
       "model_id": "8c1626721a444928a52ffe89cb103766",
       "version_major": 2,
       "version_minor": 0
      },
      "text/plain": [
       "Canvas(toolbar=Toolbar(toolitems=[('Home', 'Reset original view', 'home', 'home'), ('Back', 'Back to previous …"
      ]
     },
     "metadata": {},
     "output_type": "display_data"
    }
   ],
   "source": [
    "ax = rec_density.plot(x='start_time', y='ripple_density')"
   ]
  },
  {
   "cell_type": "code",
   "execution_count": 58,
   "metadata": {},
   "outputs": [
    {
     "data": {
      "text/plain": [
       "LinregressResult(slope=-1.8378820126460466e-05, intercept=0.6716699241552977, rvalue=-0.10372123902224005, pvalue=0.6634425846874962, stderr=4.153985068916373e-05)"
      ]
     },
     "execution_count": 58,
     "metadata": {},
     "output_type": "execute_result"
    }
   ],
   "source": [
    "test_slope(rec_density, 'start_time', 'ripple_density')"
   ]
  },
  {
   "cell_type": "code",
   "execution_count": 59,
   "metadata": {},
   "outputs": [
    {
     "name": "stderr",
     "output_type": "stream",
     "text": [
      "/home/gfindlay/miniconda3/envs/ecephys/lib/python3.7/site-packages/ipykernel_launcher.py:4: RuntimeWarning: More than 20 figures have been opened. Figures created through the pyplot interface (`matplotlib.pyplot.figure`) are retained until explicitly closed and may consume too much memory. (To control this warning, see the rcParam `figure.max_open_warning`).\n",
      "  after removing the cwd from sys.path.\n"
     ]
    },
    {
     "data": {
      "application/vnd.jupyter.widget-view+json": {
       "model_id": "4bd6f6d28a314163b2433598108857a0",
       "version_major": 2,
       "version_minor": 0
      },
      "text/plain": [
       "Canvas(toolbar=Toolbar(toolitems=[('Home', 'Reset original view', 'home', 'home'), ('Back', 'Back to previous …"
      ]
     },
     "metadata": {},
     "output_type": "display_data"
    }
   ],
   "source": [
    "plot_qq(bl_density, rec_density, 'ripple_density')"
   ]
  },
  {
   "cell_type": "code",
   "execution_count": 60,
   "metadata": {},
   "outputs": [
    {
     "data": {
      "text/plain": [
       "Ttest_indResult(statistic=3.688211982621422, pvalue=0.0006185633632339649)"
      ]
     },
     "execution_count": 60,
     "metadata": {},
     "output_type": "execute_result"
    }
   ],
   "source": [
    "stats.ttest_ind(bl_density.ripple_density, rec_density.ripple_density, equal_var=False)"
   ]
  },
  {
   "cell_type": "code",
   "execution_count": 61,
   "metadata": {},
   "outputs": [
    {
     "data": {
      "application/vnd.jupyter.widget-view+json": {
       "model_id": "1702d8b1273c4fbdb922ae138c84ff44",
       "version_major": 2,
       "version_minor": 0
      },
      "text/plain": [
       "Canvas(toolbar=Toolbar(toolitems=[('Home', 'Reset original view', 'home', 'home'), ('Back', 'Back to previous …"
      ]
     },
     "metadata": {},
     "output_type": "display_data"
    },
    {
     "name": "stderr",
     "output_type": "stream",
     "text": [
      "/home/gfindlay/miniconda3/envs/ecephys/lib/python3.7/site-packages/seaborn/distributions.py:2551: FutureWarning: `distplot` is a deprecated function and will be removed in a future version. Please adapt your code to use either `displot` (a figure-level function with similar flexibility) or `kdeplot` (an axes-level function for kernel density plots).\n",
      "  warnings.warn(msg, FutureWarning)\n",
      "/home/gfindlay/miniconda3/envs/ecephys/lib/python3.7/site-packages/seaborn/distributions.py:2551: FutureWarning: `distplot` is a deprecated function and will be removed in a future version. Please adapt your code to use either `displot` (a figure-level function with similar flexibility) or `kdeplot` (an axes-level function for kernel density plots).\n",
      "  warnings.warn(msg, FutureWarning)\n"
     ]
    }
   ],
   "source": [
    "values_bl, values_rec, cohens_d = two_sample_data_setup_for_cohens_d(bl_density.ripple_density.mean(), \n",
    "                                                                     rec_density.ripple_density.mean(), \n",
    "                                                                     bl_density.ripple_density.std(), \n",
    "                                                                     rec_density.ripple_density.std())\n",
    "visualize_distributions(bl_density.ripple_density, rec_density.ripple_density, cohens_d, interpret_cohens_d(cohens_d))\n"
   ]
  },
  {
   "cell_type": "code",
   "execution_count": 62,
   "metadata": {},
   "outputs": [
    {
     "name": "stdout",
     "output_type": "stream",
     "text": [
      "8.290740740740741 0.003984773105933553 0.7247474747474747\n"
     ]
    }
   ],
   "source": [
    "stat, p, med, tbl = stats.median_test(bl_density.ripple_density, rec_density.ripple_density) \n",
    "print(stat, p, med)"
   ]
  },
  {
   "cell_type": "code",
   "execution_count": 63,
   "metadata": {},
   "outputs": [
    {
     "data": {
      "text/plain": [
       "KruskalResult(statistic=12.955327445396946, pvalue=0.0003190123874860572)"
      ]
     },
     "execution_count": 63,
     "metadata": {},
     "output_type": "execute_result"
    }
   ],
   "source": [
    "stats.kruskal(bl_density.ripple_density, rec_density.ripple_density)"
   ]
  },
  {
   "cell_type": "code",
   "execution_count": 64,
   "metadata": {},
   "outputs": [
    {
     "data": {
      "text/plain": [
       "MannwhitneyuResult(statistic=244.5, pvalue=0.00016328277869528712)"
      ]
     },
     "execution_count": 64,
     "metadata": {},
     "output_type": "execute_result"
    }
   ],
   "source": [
    "stats.mannwhitneyu(bl_density.ripple_density, rec_density.ripple_density)"
   ]
  },
  {
   "cell_type": "markdown",
   "metadata": {},
   "source": [
    "## Epoched ripple density"
   ]
  },
  {
   "cell_type": "code",
   "execution_count": 65,
   "metadata": {},
   "outputs": [],
   "source": [
    "# https://stackoverflow.com/questions/21160134/flatten-a-column-with-value-of-type-list-while-duplicating-the-other-columns-va\n",
    "def unnest_df(df, col, reset_index=False):\n",
    "    import pandas as pd\n",
    "    col_flat = pd.DataFrame([[i, x] \n",
    "                       for i, y in df[col].apply(list).iteritems() \n",
    "                           for x in y], columns=['I', col])\n",
    "    col_flat = col_flat.set_index('I')\n",
    "    df = df.drop(col, 1)\n",
    "    df = df.merge(col_flat, left_index=True, right_index=True)\n",
    "    if reset_index:\n",
    "        df = df.reset_index(drop=True)\n",
    "    return df\n",
    "\n",
    "def _get_ripple_density(hypno, ripples, epoch_length):  \n",
    "    N2 = hypno[np.logical_and(hypno.state == \"N2\", hypno.duration >= epoch_length)]\n",
    "    N2['epoch_start_times'] = N2.apply(lambda episode: np.arange(episode.start_time, episode.end_time - epoch_length, epoch_length), axis=1)\n",
    "    N2 = unnest_df(N2, 'epoch_start_times')\n",
    "    N2 = N2.rename(columns={'end_time': 'episode_end_time', 'start_time': 'epsiode_start_time', 'duration': 'episode_duration', 'epoch_start_times': 'start_time'})\n",
    "    N2['end_time'] = N2.apply(lambda epoch: epoch.start_time + epoch_length, axis=1)\n",
    "    N2['n_ripples'] = N2.apply(lambda epoch: np.sum(np.logical_and(ripples.center_time >= epoch.start_time * 1000, ripples.center_time <= epoch.end_time * 1000)), axis=1)\n",
    "    N2['ripple_density'] = N2.apply(lambda epoch: epoch.n_ripples / epoch_length, axis=1)\n",
    "    return N2"
   ]
  },
  {
   "cell_type": "code",
   "execution_count": 83,
   "metadata": {},
   "outputs": [],
   "source": [
    "epoch_length = 10"
   ]
  },
  {
   "cell_type": "code",
   "execution_count": 84,
   "metadata": {},
   "outputs": [
    {
     "data": {
      "application/vnd.jupyter.widget-view+json": {
       "model_id": "df8652615b024727a3896e3f9d375bc8",
       "version_major": 2,
       "version_minor": 0
      },
      "text/plain": [
       "Canvas(toolbar=Toolbar(toolitems=[('Home', 'Reset original view', 'home', 'home'), ('Back', 'Back to previous …"
      ]
     },
     "metadata": {},
     "output_type": "display_data"
    },
    {
     "name": "stdout",
     "output_type": "stream",
     "text": [
      "Mean ripple density:  0.8260000000000001 \n",
      " Median ripple density:  0.8 \n",
      " Number of ripples:  150\n"
     ]
    }
   ],
   "source": [
    "bl_density = _get_ripple_density(bl_hypno, ripples_bl, epoch_length)\n",
    "\n",
    "plt.figure()\n",
    "ax = bl_density.ripple_density.plot.hist()\n",
    "\n",
    "print(\"Mean ripple density: \", bl_density.ripple_density.mean(), \"\\n\", \"Median ripple density: \", bl_density.ripple_density.median(), \"\\n\", \"Number of ripples: \", len(bl_density))"
   ]
  },
  {
   "cell_type": "code",
   "execution_count": 85,
   "metadata": {},
   "outputs": [
    {
     "data": {
      "application/vnd.jupyter.widget-view+json": {
       "model_id": "27598164f8aa4519b5e38ba9545749af",
       "version_major": 2,
       "version_minor": 0
      },
      "text/plain": [
       "Canvas(toolbar=Toolbar(toolitems=[('Home', 'Reset original view', 'home', 'home'), ('Back', 'Back to previous …"
      ]
     },
     "metadata": {},
     "output_type": "display_data"
    }
   ],
   "source": [
    "ax = bl_density.plot(x='start_time', y='ripple_density')"
   ]
  },
  {
   "cell_type": "code",
   "execution_count": 86,
   "metadata": {},
   "outputs": [
    {
     "data": {
      "text/plain": [
       "LinregressResult(slope=-6.122870902701808e-05, intercept=0.9331071760540433, rvalue=-0.168428093302578, pvalue=0.03936980213705919, stderr=2.945510752611323e-05)"
      ]
     },
     "execution_count": 86,
     "metadata": {},
     "output_type": "execute_result"
    }
   ],
   "source": [
    "test_slope(bl_density, 'start_time', 'ripple_density')"
   ]
  },
  {
   "cell_type": "code",
   "execution_count": 87,
   "metadata": {},
   "outputs": [
    {
     "data": {
      "application/vnd.jupyter.widget-view+json": {
       "model_id": "0636acc1f1334d919d3b0af892830deb",
       "version_major": 2,
       "version_minor": 0
      },
      "text/plain": [
       "Canvas(toolbar=Toolbar(toolitems=[('Home', 'Reset original view', 'home', 'home'), ('Back', 'Back to previous …"
      ]
     },
     "metadata": {},
     "output_type": "display_data"
    },
    {
     "name": "stdout",
     "output_type": "stream",
     "text": [
      "Mean ripple density:  0.5916279069767442 \n",
      " Median ripple density:  0.6 \n",
      " Number of ripples:  215\n"
     ]
    }
   ],
   "source": [
    "rec_density = _get_ripple_density(rec_hypno, ripples_rec, epoch_length)\n",
    "\n",
    "plt.figure()\n",
    "ax = rec_density.ripple_density.plot.hist()\n",
    "\n",
    "print(\"Mean ripple density: \", rec_density.ripple_density.mean(), \"\\n\", \"Median ripple density: \", rec_density.ripple_density.median(), \"\\n\", \"Number of ripples: \", len(rec_density))"
   ]
  },
  {
   "cell_type": "code",
   "execution_count": 88,
   "metadata": {},
   "outputs": [
    {
     "data": {
      "application/vnd.jupyter.widget-view+json": {
       "model_id": "0970036ea4514a3a9ef9a3bb53bf455c",
       "version_major": 2,
       "version_minor": 0
      },
      "text/plain": [
       "Canvas(toolbar=Toolbar(toolitems=[('Home', 'Reset original view', 'home', 'home'), ('Back', 'Back to previous …"
      ]
     },
     "metadata": {},
     "output_type": "display_data"
    }
   ],
   "source": [
    "ax = rec_density.plot(x='start_time', y='ripple_density')"
   ]
  },
  {
   "cell_type": "code",
   "execution_count": 89,
   "metadata": {},
   "outputs": [
    {
     "data": {
      "text/plain": [
       "LinregressResult(slope=1.0631333495631739e-05, intercept=0.5744315594885818, rvalue=0.0416940968673399, pvalue=0.5431503182564437, stderr=1.7456032919788793e-05)"
      ]
     },
     "execution_count": 89,
     "metadata": {},
     "output_type": "execute_result"
    }
   ],
   "source": [
    "test_slope(rec_density, 'start_time', 'ripple_density')"
   ]
  },
  {
   "cell_type": "code",
   "execution_count": 90,
   "metadata": {},
   "outputs": [
    {
     "data": {
      "application/vnd.jupyter.widget-view+json": {
       "model_id": "2198c1dbb9b347be979953b327c77b18",
       "version_major": 2,
       "version_minor": 0
      },
      "text/plain": [
       "Canvas(toolbar=Toolbar(toolitems=[('Home', 'Reset original view', 'home', 'home'), ('Back', 'Back to previous …"
      ]
     },
     "metadata": {},
     "output_type": "display_data"
    },
    {
     "name": "stderr",
     "output_type": "stream",
     "text": [
      "/home/gfindlay/miniconda3/envs/ecephys/lib/python3.7/site-packages/pandas/core/series.py:726: RuntimeWarning: divide by zero encountered in log\n",
      "  result = getattr(ufunc, method)(*inputs, **kwargs)\n",
      "/home/gfindlay/miniconda3/envs/ecephys/lib/python3.7/site-packages/numpy/lib/function_base.py:2474: RuntimeWarning: invalid value encountered in subtract\n",
      "  X -= avg[:, None]\n"
     ]
    }
   ],
   "source": [
    "plot_qq(bl_density, rec_density, 'ripple_density')"
   ]
  },
  {
   "cell_type": "code",
   "execution_count": 91,
   "metadata": {},
   "outputs": [
    {
     "data": {
      "text/plain": [
       "Ttest_indResult(statistic=7.136869755436751, pvalue=9.021949957825637e-12)"
      ]
     },
     "execution_count": 91,
     "metadata": {},
     "output_type": "execute_result"
    }
   ],
   "source": [
    "stats.ttest_ind(bl_density.ripple_density, rec_density.ripple_density, equal_var=False)"
   ]
  },
  {
   "cell_type": "code",
   "execution_count": 92,
   "metadata": {},
   "outputs": [
    {
     "data": {
      "application/vnd.jupyter.widget-view+json": {
       "model_id": "c952306865194600bbf7699cab721fac",
       "version_major": 2,
       "version_minor": 0
      },
      "text/plain": [
       "Canvas(toolbar=Toolbar(toolitems=[('Home', 'Reset original view', 'home', 'home'), ('Back', 'Back to previous …"
      ]
     },
     "metadata": {},
     "output_type": "display_data"
    },
    {
     "name": "stderr",
     "output_type": "stream",
     "text": [
      "/home/gfindlay/miniconda3/envs/ecephys/lib/python3.7/site-packages/seaborn/distributions.py:2551: FutureWarning: `distplot` is a deprecated function and will be removed in a future version. Please adapt your code to use either `displot` (a figure-level function with similar flexibility) or `kdeplot` (an axes-level function for kernel density plots).\n",
      "  warnings.warn(msg, FutureWarning)\n",
      "/home/gfindlay/miniconda3/envs/ecephys/lib/python3.7/site-packages/seaborn/distributions.py:2551: FutureWarning: `distplot` is a deprecated function and will be removed in a future version. Please adapt your code to use either `displot` (a figure-level function with similar flexibility) or `kdeplot` (an axes-level function for kernel density plots).\n",
      "  warnings.warn(msg, FutureWarning)\n"
     ]
    }
   ],
   "source": [
    "values_bl, values_rec, cohens_d = two_sample_data_setup_for_cohens_d(bl_density.ripple_density.mean(), \n",
    "                                                                     rec_density.ripple_density.mean(), \n",
    "                                                                     bl_density.ripple_density.std(), \n",
    "                                                                     rec_density.ripple_density.std())\n",
    "visualize_distributions(bl_density.ripple_density, rec_density.ripple_density, cohens_d, interpret_cohens_d(cohens_d))\n"
   ]
  },
  {
   "cell_type": "code",
   "execution_count": 93,
   "metadata": {},
   "outputs": [
    {
     "name": "stdout",
     "output_type": "stream",
     "text": [
      "38.127692050830746 6.626299851274131e-10 0.7\n"
     ]
    }
   ],
   "source": [
    "stat, p, med, tbl = stats.median_test(bl_density.ripple_density, rec_density.ripple_density) \n",
    "print(stat, p, med)"
   ]
  },
  {
   "cell_type": "code",
   "execution_count": 94,
   "metadata": {},
   "outputs": [
    {
     "data": {
      "text/plain": [
       "KruskalResult(statistic=45.93520990739863, pvalue=1.2222924120947548e-11)"
      ]
     },
     "execution_count": 94,
     "metadata": {},
     "output_type": "execute_result"
    }
   ],
   "source": [
    "stats.kruskal(bl_density.ripple_density, rec_density.ripple_density)"
   ]
  },
  {
   "cell_type": "code",
   "execution_count": 95,
   "metadata": {},
   "outputs": [
    {
     "data": {
      "text/plain": [
       "MannwhitneyuResult(statistic=9440.5, pvalue=6.132936715859726e-12)"
      ]
     },
     "execution_count": 95,
     "metadata": {},
     "output_type": "execute_result"
    }
   ],
   "source": [
    "stats.mannwhitneyu(bl_density.ripple_density, rec_density.ripple_density)"
   ]
  },
  {
   "cell_type": "markdown",
   "metadata": {},
   "source": [
    "### Sensitivity Analysis"
   ]
  },
  {
   "cell_type": "code",
   "execution_count": 96,
   "metadata": {},
   "outputs": [],
   "source": [
    "def _get_density_ttest_pval(epoch_length):\n",
    "    bl_density = _get_ripple_density(bl_hypno, ripples_bl, epoch_length)\n",
    "    rec_density = _get_ripple_density(rec_hypno, ripples_rec, epoch_length)\n",
    "    return stats.ttest_ind(bl_density.ripple_density, rec_density.ripple_density, equal_var=False).pvalue\n",
    "\n",
    "def _get_density_MannWhitney_pval(epoch_length):\n",
    "    bl_density = _get_ripple_density(bl_hypno, ripples_bl, epoch_length)\n",
    "    rec_density = _get_ripple_density(rec_hypno, ripples_rec, epoch_length)\n",
    "    return stats.mannwhitneyu(bl_density.ripple_density, rec_density.ripple_density).pvalue\n",
    "\n",
    "def _get_density_nEpochs(hypno, ripples, epoch_length):\n",
    "    bl_density = _get_ripple_density(hypno, ripples_bl, epoch_length)\n",
    "    rec_density = _get_ripple_density(rec_hypno, ripples_rec, epoch_length)\n",
    "    return stats.mannwhitneyu(bl_density.ripple_density, rec_density.ripple_density).pvalue\n",
    "\n",
    "df = pd.DataFrame(data={'epoch_length': np.arange(5, 65, 5)})\n",
    "df['ttest_pval'] = df.apply(lambda x: _get_density_ttest_pval(x.epoch_length), axis=1)\n",
    "df['mw_pval'] = df.apply(lambda x: _get_density_MannWhitney_pval(x.epoch_length), axis=1)\n",
    "df['n_epochs_bl'] = df.apply(lambda x: len(_get_ripple_density(bl_hypno, ripples_bl, x.epoch_length)), axis=1)\n",
    "df['n_epochs_rec'] = df.apply(lambda x: len(_get_ripple_density(rec_hypno, ripples_rec, x.epoch_length)), axis=1)"
   ]
  },
  {
   "cell_type": "code",
   "execution_count": 97,
   "metadata": {},
   "outputs": [
    {
     "data": {
      "text/html": [
       "<div>\n",
       "<style scoped>\n",
       "    .dataframe tbody tr th:only-of-type {\n",
       "        vertical-align: middle;\n",
       "    }\n",
       "\n",
       "    .dataframe tbody tr th {\n",
       "        vertical-align: top;\n",
       "    }\n",
       "\n",
       "    .dataframe thead th {\n",
       "        text-align: right;\n",
       "    }\n",
       "</style>\n",
       "<table border=\"1\" class=\"dataframe\">\n",
       "  <thead>\n",
       "    <tr style=\"text-align: right;\">\n",
       "      <th></th>\n",
       "      <th>epoch_length</th>\n",
       "      <th>ttest_pval</th>\n",
       "      <th>mw_pval</th>\n",
       "      <th>n_epochs_bl</th>\n",
       "      <th>n_epochs_rec</th>\n",
       "    </tr>\n",
       "  </thead>\n",
       "  <tbody>\n",
       "    <tr>\n",
       "      <th>0</th>\n",
       "      <td>5</td>\n",
       "      <td>1.302942e-12</td>\n",
       "      <td>1.754589e-11</td>\n",
       "      <td>325</td>\n",
       "      <td>441</td>\n",
       "    </tr>\n",
       "    <tr>\n",
       "      <th>1</th>\n",
       "      <td>10</td>\n",
       "      <td>9.021950e-12</td>\n",
       "      <td>6.132937e-12</td>\n",
       "      <td>150</td>\n",
       "      <td>215</td>\n",
       "    </tr>\n",
       "    <tr>\n",
       "      <th>2</th>\n",
       "      <td>15</td>\n",
       "      <td>1.316991e-09</td>\n",
       "      <td>2.398940e-09</td>\n",
       "      <td>93</td>\n",
       "      <td>141</td>\n",
       "    </tr>\n",
       "    <tr>\n",
       "      <th>3</th>\n",
       "      <td>20</td>\n",
       "      <td>1.601073e-08</td>\n",
       "      <td>1.807196e-08</td>\n",
       "      <td>58</td>\n",
       "      <td>102</td>\n",
       "    </tr>\n",
       "    <tr>\n",
       "      <th>4</th>\n",
       "      <td>25</td>\n",
       "      <td>7.620952e-09</td>\n",
       "      <td>1.632235e-08</td>\n",
       "      <td>46</td>\n",
       "      <td>81</td>\n",
       "    </tr>\n",
       "    <tr>\n",
       "      <th>5</th>\n",
       "      <td>30</td>\n",
       "      <td>6.599234e-07</td>\n",
       "      <td>1.117927e-07</td>\n",
       "      <td>35</td>\n",
       "      <td>65</td>\n",
       "    </tr>\n",
       "    <tr>\n",
       "      <th>6</th>\n",
       "      <td>35</td>\n",
       "      <td>7.343045e-07</td>\n",
       "      <td>3.707557e-07</td>\n",
       "      <td>26</td>\n",
       "      <td>55</td>\n",
       "    </tr>\n",
       "    <tr>\n",
       "      <th>7</th>\n",
       "      <td>40</td>\n",
       "      <td>3.687437e-06</td>\n",
       "      <td>3.230600e-06</td>\n",
       "      <td>20</td>\n",
       "      <td>48</td>\n",
       "    </tr>\n",
       "    <tr>\n",
       "      <th>8</th>\n",
       "      <td>45</td>\n",
       "      <td>6.237629e-06</td>\n",
       "      <td>2.608979e-06</td>\n",
       "      <td>16</td>\n",
       "      <td>41</td>\n",
       "    </tr>\n",
       "    <tr>\n",
       "      <th>9</th>\n",
       "      <td>50</td>\n",
       "      <td>1.581656e-06</td>\n",
       "      <td>1.679829e-06</td>\n",
       "      <td>16</td>\n",
       "      <td>38</td>\n",
       "    </tr>\n",
       "    <tr>\n",
       "      <th>10</th>\n",
       "      <td>55</td>\n",
       "      <td>1.112042e-04</td>\n",
       "      <td>2.626690e-05</td>\n",
       "      <td>14</td>\n",
       "      <td>34</td>\n",
       "    </tr>\n",
       "    <tr>\n",
       "      <th>11</th>\n",
       "      <td>60</td>\n",
       "      <td>7.042527e-03</td>\n",
       "      <td>1.646415e-03</td>\n",
       "      <td>9</td>\n",
       "      <td>30</td>\n",
       "    </tr>\n",
       "  </tbody>\n",
       "</table>\n",
       "</div>"
      ],
      "text/plain": [
       "    epoch_length    ttest_pval       mw_pval  n_epochs_bl  n_epochs_rec\n",
       "0              5  1.302942e-12  1.754589e-11          325           441\n",
       "1             10  9.021950e-12  6.132937e-12          150           215\n",
       "2             15  1.316991e-09  2.398940e-09           93           141\n",
       "3             20  1.601073e-08  1.807196e-08           58           102\n",
       "4             25  7.620952e-09  1.632235e-08           46            81\n",
       "5             30  6.599234e-07  1.117927e-07           35            65\n",
       "6             35  7.343045e-07  3.707557e-07           26            55\n",
       "7             40  3.687437e-06  3.230600e-06           20            48\n",
       "8             45  6.237629e-06  2.608979e-06           16            41\n",
       "9             50  1.581656e-06  1.679829e-06           16            38\n",
       "10            55  1.112042e-04  2.626690e-05           14            34\n",
       "11            60  7.042527e-03  1.646415e-03            9            30"
      ]
     },
     "execution_count": 97,
     "metadata": {},
     "output_type": "execute_result"
    }
   ],
   "source": [
    "df"
   ]
  },
  {
   "cell_type": "code",
   "execution_count": 98,
   "metadata": {},
   "outputs": [
    {
     "data": {
      "application/vnd.jupyter.widget-view+json": {
       "model_id": "c611e511568e408b8ea8be64a9c6e14f",
       "version_major": 2,
       "version_minor": 0
      },
      "text/plain": [
       "Canvas(toolbar=Toolbar(toolitems=[('Home', 'Reset original view', 'home', 'home'), ('Back', 'Back to previous …"
      ]
     },
     "metadata": {},
     "output_type": "display_data"
    },
    {
     "data": {
      "text/plain": [
       "<AxesSubplot:xlabel='epoch_length'>"
      ]
     },
     "execution_count": 98,
     "metadata": {},
     "output_type": "execute_result"
    }
   ],
   "source": [
    "df[['ttest_pval', 'mw_pval', 'epoch_length']].plot(x='epoch_length')"
   ]
  },
  {
   "cell_type": "code",
   "execution_count": 99,
   "metadata": {},
   "outputs": [
    {
     "data": {
      "application/vnd.jupyter.widget-view+json": {
       "model_id": "17232ddc0de340f38baff1a0e0265e19",
       "version_major": 2,
       "version_minor": 0
      },
      "text/plain": [
       "Canvas(toolbar=Toolbar(toolitems=[('Home', 'Reset original view', 'home', 'home'), ('Back', 'Back to previous …"
      ]
     },
     "metadata": {},
     "output_type": "display_data"
    },
    {
     "data": {
      "text/plain": [
       "<AxesSubplot:xlabel='epoch_length'>"
      ]
     },
     "execution_count": 99,
     "metadata": {},
     "output_type": "execute_result"
    }
   ],
   "source": [
    "df[['n_epochs_bl', 'n_epochs_rec', 'epoch_length']].plot(x='epoch_length')"
   ]
  },
  {
   "cell_type": "code",
   "execution_count": null,
   "metadata": {},
   "outputs": [],
   "source": []
  }
 ],
 "metadata": {
  "kernelspec": {
   "display_name": "Python 3",
   "language": "python",
   "name": "python3"
  },
  "language_info": {
   "codemirror_mode": {
    "name": "ipython",
    "version": 3
   },
   "file_extension": ".py",
   "mimetype": "text/x-python",
   "name": "python",
   "nbconvert_exporter": "python",
   "pygments_lexer": "ipython3",
   "version": "3.7.9"
  }
 },
 "nbformat": 4,
 "nbformat_minor": 4
}
